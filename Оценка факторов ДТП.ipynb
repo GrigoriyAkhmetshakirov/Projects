{
  "cells": [
    {
      "cell_type": "markdown",
      "id": "Bv_QDqaDMfFi",
      "metadata": {
        "id": "Bv_QDqaDMfFi"
      },
      "source": [
        "# Описание проекта\n"
      ]
    },
    {
      "cell_type": "markdown",
      "id": "2OqqxLAKMo-R",
      "metadata": {
        "id": "2OqqxLAKMo-R"
      },
      "source": [
        "Необходимо создать систему, которая могла бы оценить риск ДТП по выбранному маршруту движения. Под риском понимается вероятность ДТП с любым повреждением транспортного средства. Как только водитель забронировал автомобиль, сел за руль и выбрал маршрут, система должна оценить уровень риска. Если уровень риска высок, водитель увидит предупреждение и рекомендации по маршруту."
      ]
    },
    {
      "cell_type": "markdown",
      "id": "UGoP1Ow2NaE9",
      "metadata": {
        "id": "UGoP1Ow2NaE9"
      },
      "source": [
        "### Краткое описание таблиц"
      ]
    },
    {
      "cell_type": "markdown",
      "id": "ARI4U-7KNgDu",
      "metadata": {
        "id": "ARI4U-7KNgDu"
      },
      "source": [
        "- collisions — общая информация о ДТП.\n",
        "Имеет уникальный case_id. Эта таблица описывает общую информацию о ДТП например, где оно произошло и когда.\n",
        "- parties — информация об участниках ДТП.\n",
        "Имеет неуникальный case_id, который сопоставляется с соответствующим ДТП в таблице collisions. Каждая строка здесь описывает одну из сторон, участвующих в ДТП. Если столкнулись две машины, в этой таблице должно быть две строки с совпадением case_id. Если нужен уникальный идентификатор, это case_id и party_number.\n",
        "- vehicles — информация о пострадавших машинах.\n",
        "Имеет неуникальные case_id и неуникальные party_number, которые сопоставляются с таблицей collisions и таблицей parties. Если нужен уникальный идентификатор, это case_id и party_number."
      ]
    },
    {
      "cell_type": "markdown",
      "id": "FtXm1t2RNech",
      "metadata": {
        "id": "FtXm1t2RNech"
      },
      "source": [
        "### Этапы решения задачи"
      ]
    },
    {
      "cell_type": "markdown",
      "id": "ntwuw29cM4oB",
      "metadata": {
        "id": "ntwuw29cM4oB"
      },
      "source": [
        "1. Создать модель предсказания ДТП (целевое значение — at_fault в таблице parties);\n",
        "2. Для модели выбрать тип виновника — только машина.\n",
        "Выбрать случаи, когда ДТП привело к любым повреждениям транспортного средства, кроме типа SCRATCH (царапина).Для моделирования ограничиться данными за 2012 год — они самые свежие.\n",
        "Обязательное условие — учесть фактор возраста автомобиля;\n",
        "3. На основе модели исследовать основные факторы ДТП;"
      ]
    },
    {
      "cell_type": "markdown",
      "id": "95cb0d02",
      "metadata": {
        "ExecuteTime": {
          "end_time": "2022-05-05T04:58:05.692448Z",
          "start_time": "2022-05-05T04:58:05.688565Z"
        },
        "id": "95cb0d02"
      },
      "source": [
        "# Загрузка библиотек и данных"
      ]
    },
    {
      "cell_type": "markdown",
      "id": "fd0ffb56",
      "metadata": {
        "id": "fd0ffb56"
      },
      "source": [
        "Импорт библиотек"
      ]
    },
    {
      "cell_type": "code",
      "execution_count": null,
      "id": "ad994b70",
      "metadata": {
        "id": "ad994b70"
      },
      "outputs": [],
      "source": [
        "!pip -q install -U scikit-learn\n",
        "!pip -q install -U catboost\n",
        "!pip -q install -U torch\n",
        "!pip -q install -U optuna\n",
        "!pip -q install -U skorch"
      ]
    },
    {
      "cell_type": "code",
      "execution_count": null,
      "id": "6c5e2ab8",
      "metadata": {
        "id": "6c5e2ab8"
      },
      "outputs": [],
      "source": [
        "from sqlalchemy import create_engine\n",
        "\n",
        "import pandas as pd\n",
        "import numpy as np\n",
        "import seaborn as sns\n",
        "import matplotlib.pyplot as plt\n",
        "\n",
        "from sklearn import set_config\n",
        "from sklearn.model_selection import train_test_split\n",
        "from sklearn.metrics import f1_score, precision_recall_curve, PrecisionRecallDisplay, confusion_matrix, ConfusionMatrixDisplay\n",
        "from sklearn.preprocessing import OneHotEncoder, MinMaxScaler, FunctionTransformer, StandardScaler\n",
        "from sklearn.compose import make_column_transformer, ColumnTransformer\n",
        "from sklearn.impute import SimpleImputer, KNNImputer\n",
        "from sklearn.pipeline import Pipeline\n",
        "from sklearn.base import BaseEstimator, TransformerMixin\n",
        "\n",
        "import torch\n",
        "import torch.nn as nn\n",
        "\n",
        "from sklearn.ensemble import RandomForestClassifier\n",
        "from sklearn.linear_model import LogisticRegression\n",
        "from catboost import CatBoostClassifier\n",
        "\n",
        "import optuna"
      ]
    },
    {
      "cell_type": "markdown",
      "id": "0e22e5ee",
      "metadata": {
        "id": "0e22e5ee"
      },
      "source": [
        "Подключаемся к базе данных"
      ]
    },
    {
      "cell_type": "code",
      "execution_count": null,
      "id": "fb4f5181",
      "metadata": {
        "id": "fb4f5181"
      },
      "outputs": [],
      "source": [
        "db_config = {\n",
        "'user': 'praktikum_student', # имя пользователя,\n",
        "'pwd': 'Sdf4$2;d-d30pp', # пароль,\n",
        "'host': 'rc1b-wcoijxj3yxfsf3fs.mdb.yandexcloud.net',\n",
        "'port': 6432, # порт подключения,\n",
        "'db': 'data-science-vehicle-db' # название базы данных,\n",
        "}\n",
        "\n",
        "connection_string = 'postgresql://{}:{}@{}:{}/{}'.format(\n",
        "    db_config['user'],\n",
        "    db_config['pwd'],\n",
        "    db_config['host'],\n",
        "    db_config['port'],\n",
        "    db_config['db'],\n",
        ")\n",
        "\n",
        "engine = create_engine(connection_string)"
      ]
    },
    {
      "cell_type": "markdown",
      "id": "f454d963",
      "metadata": {
        "id": "f454d963"
      },
      "source": [
        "Пробуем выгрузить таблицы"
      ]
    },
    {
      "cell_type": "code",
      "execution_count": null,
      "id": "320b065c",
      "metadata": {
        "colab": {
          "base_uri": "https://localhost:8080/",
          "height": 292
        },
        "id": "320b065c",
        "outputId": "083c5699-3a3d-4def-9411-77fac6fa81e2"
      },
      "outputs": [
        {
          "data": {
            "text/html": [
              "\n",
              "  <div id=\"df-a2d89966-6018-4703-9836-7643dc5bdc6f\" class=\"colab-df-container\">\n",
              "    <div>\n",
              "<style scoped>\n",
              "    .dataframe tbody tr th:only-of-type {\n",
              "        vertical-align: middle;\n",
              "    }\n",
              "\n",
              "    .dataframe tbody tr th {\n",
              "        vertical-align: top;\n",
              "    }\n",
              "\n",
              "    .dataframe thead th {\n",
              "        text-align: right;\n",
              "    }\n",
              "</style>\n",
              "<table border=\"1\" class=\"dataframe\">\n",
              "  <thead>\n",
              "    <tr style=\"text-align: right;\">\n",
              "      <th></th>\n",
              "      <th>case_id</th>\n",
              "      <th>county_city_location</th>\n",
              "      <th>county_location</th>\n",
              "      <th>distance</th>\n",
              "      <th>direction</th>\n",
              "      <th>intersection</th>\n",
              "      <th>weather_1</th>\n",
              "      <th>location_type</th>\n",
              "      <th>collision_damage</th>\n",
              "      <th>party_count</th>\n",
              "      <th>primary_collision_factor</th>\n",
              "      <th>pcf_violation_category</th>\n",
              "      <th>type_of_collision</th>\n",
              "      <th>motor_vehicle_involved_with</th>\n",
              "      <th>road_surface</th>\n",
              "      <th>road_condition_1</th>\n",
              "      <th>lighting</th>\n",
              "      <th>control_device</th>\n",
              "      <th>collision_date</th>\n",
              "      <th>collision_time</th>\n",
              "    </tr>\n",
              "  </thead>\n",
              "  <tbody>\n",
              "    <tr>\n",
              "      <th>98</th>\n",
              "      <td>4083445</td>\n",
              "      <td>3313</td>\n",
              "      <td>riverside</td>\n",
              "      <td>60.0</td>\n",
              "      <td>east</td>\n",
              "      <td>0</td>\n",
              "      <td>clear</td>\n",
              "      <td>None</td>\n",
              "      <td>scratch</td>\n",
              "      <td>2</td>\n",
              "      <td>vehicle code violation</td>\n",
              "      <td>speeding</td>\n",
              "      <td>rear end</td>\n",
              "      <td>other motor vehicle</td>\n",
              "      <td>dry</td>\n",
              "      <td>normal</td>\n",
              "      <td>dark with street lights</td>\n",
              "      <td>functioning</td>\n",
              "      <td>2009-01-07</td>\n",
              "      <td>18:01:00</td>\n",
              "    </tr>\n",
              "    <tr>\n",
              "      <th>24</th>\n",
              "      <td>4083169</td>\n",
              "      <td>5690</td>\n",
              "      <td>ventura</td>\n",
              "      <td>43.0</td>\n",
              "      <td>west</td>\n",
              "      <td>0</td>\n",
              "      <td>clear</td>\n",
              "      <td>highway</td>\n",
              "      <td>scratch</td>\n",
              "      <td>2</td>\n",
              "      <td>vehicle code violation</td>\n",
              "      <td>unsafe lane change</td>\n",
              "      <td>rear end</td>\n",
              "      <td>other motor vehicle</td>\n",
              "      <td>dry</td>\n",
              "      <td>normal</td>\n",
              "      <td>daylight</td>\n",
              "      <td>functioning</td>\n",
              "      <td>2009-01-10</td>\n",
              "      <td>10:25:00</td>\n",
              "    </tr>\n",
              "    <tr>\n",
              "      <th>45</th>\n",
              "      <td>4083224</td>\n",
              "      <td>3012</td>\n",
              "      <td>orange</td>\n",
              "      <td>0.0</td>\n",
              "      <td>None</td>\n",
              "      <td>1</td>\n",
              "      <td>clear</td>\n",
              "      <td>intersection</td>\n",
              "      <td>scratch</td>\n",
              "      <td>2</td>\n",
              "      <td>vehicle code violation</td>\n",
              "      <td>wrong side of road</td>\n",
              "      <td>broadside</td>\n",
              "      <td>bicycle</td>\n",
              "      <td>dry</td>\n",
              "      <td>normal</td>\n",
              "      <td>daylight</td>\n",
              "      <td>functioning</td>\n",
              "      <td>2009-01-08</td>\n",
              "      <td>08:21:00</td>\n",
              "    </tr>\n",
              "    <tr>\n",
              "      <th>70</th>\n",
              "      <td>4083310</td>\n",
              "      <td>1975</td>\n",
              "      <td>los angeles</td>\n",
              "      <td>0.0</td>\n",
              "      <td>east</td>\n",
              "      <td>0</td>\n",
              "      <td>clear</td>\n",
              "      <td>None</td>\n",
              "      <td>scratch</td>\n",
              "      <td>3</td>\n",
              "      <td>vehicle code violation</td>\n",
              "      <td>speeding</td>\n",
              "      <td>rear end</td>\n",
              "      <td>other motor vehicle</td>\n",
              "      <td>dry</td>\n",
              "      <td>normal</td>\n",
              "      <td>daylight</td>\n",
              "      <td>none</td>\n",
              "      <td>2009-01-21</td>\n",
              "      <td>15:57:00</td>\n",
              "    </tr>\n",
              "    <tr>\n",
              "      <th>37</th>\n",
              "      <td>4083195</td>\n",
              "      <td>3009</td>\n",
              "      <td>orange</td>\n",
              "      <td>100.0</td>\n",
              "      <td>east</td>\n",
              "      <td>0</td>\n",
              "      <td>cloudy</td>\n",
              "      <td>highway</td>\n",
              "      <td>scratch</td>\n",
              "      <td>3</td>\n",
              "      <td>vehicle code violation</td>\n",
              "      <td>unsafe lane change</td>\n",
              "      <td>sideswipe</td>\n",
              "      <td>other motor vehicle</td>\n",
              "      <td>dry</td>\n",
              "      <td>normal</td>\n",
              "      <td>dark with street lights</td>\n",
              "      <td>none</td>\n",
              "      <td>2009-01-25</td>\n",
              "      <td>20:00:00</td>\n",
              "    </tr>\n",
              "  </tbody>\n",
              "</table>\n",
              "</div>\n",
              "    <div class=\"colab-df-buttons\">\n",
              "\n",
              "  <div class=\"colab-df-container\">\n",
              "    <button class=\"colab-df-convert\" onclick=\"convertToInteractive('df-a2d89966-6018-4703-9836-7643dc5bdc6f')\"\n",
              "            title=\"Convert this dataframe to an interactive table.\"\n",
              "            style=\"display:none;\">\n",
              "\n",
              "  <svg xmlns=\"http://www.w3.org/2000/svg\" height=\"24px\" viewBox=\"0 -960 960 960\">\n",
              "    <path d=\"M120-120v-720h720v720H120Zm60-500h600v-160H180v160Zm220 220h160v-160H400v160Zm0 220h160v-160H400v160ZM180-400h160v-160H180v160Zm440 0h160v-160H620v160ZM180-180h160v-160H180v160Zm440 0h160v-160H620v160Z\"/>\n",
              "  </svg>\n",
              "    </button>\n",
              "\n",
              "  <style>\n",
              "    .colab-df-container {\n",
              "      display:flex;\n",
              "      gap: 12px;\n",
              "    }\n",
              "\n",
              "    .colab-df-convert {\n",
              "      background-color: #E8F0FE;\n",
              "      border: none;\n",
              "      border-radius: 50%;\n",
              "      cursor: pointer;\n",
              "      display: none;\n",
              "      fill: #1967D2;\n",
              "      height: 32px;\n",
              "      padding: 0 0 0 0;\n",
              "      width: 32px;\n",
              "    }\n",
              "\n",
              "    .colab-df-convert:hover {\n",
              "      background-color: #E2EBFA;\n",
              "      box-shadow: 0px 1px 2px rgba(60, 64, 67, 0.3), 0px 1px 3px 1px rgba(60, 64, 67, 0.15);\n",
              "      fill: #174EA6;\n",
              "    }\n",
              "\n",
              "    .colab-df-buttons div {\n",
              "      margin-bottom: 4px;\n",
              "    }\n",
              "\n",
              "    [theme=dark] .colab-df-convert {\n",
              "      background-color: #3B4455;\n",
              "      fill: #D2E3FC;\n",
              "    }\n",
              "\n",
              "    [theme=dark] .colab-df-convert:hover {\n",
              "      background-color: #434B5C;\n",
              "      box-shadow: 0px 1px 3px 1px rgba(0, 0, 0, 0.15);\n",
              "      filter: drop-shadow(0px 1px 2px rgba(0, 0, 0, 0.3));\n",
              "      fill: #FFFFFF;\n",
              "    }\n",
              "  </style>\n",
              "\n",
              "    <script>\n",
              "      const buttonEl =\n",
              "        document.querySelector('#df-a2d89966-6018-4703-9836-7643dc5bdc6f button.colab-df-convert');\n",
              "      buttonEl.style.display =\n",
              "        google.colab.kernel.accessAllowed ? 'block' : 'none';\n",
              "\n",
              "      async function convertToInteractive(key) {\n",
              "        const element = document.querySelector('#df-a2d89966-6018-4703-9836-7643dc5bdc6f');\n",
              "        const dataTable =\n",
              "          await google.colab.kernel.invokeFunction('convertToInteractive',\n",
              "                                                    [key], {});\n",
              "        if (!dataTable) return;\n",
              "\n",
              "        const docLinkHtml = 'Like what you see? Visit the ' +\n",
              "          '<a target=\"_blank\" href=https://colab.research.google.com/notebooks/data_table.ipynb>data table notebook</a>'\n",
              "          + ' to learn more about interactive tables.';\n",
              "        element.innerHTML = '';\n",
              "        dataTable['output_type'] = 'display_data';\n",
              "        await google.colab.output.renderOutput(dataTable, element);\n",
              "        const docLink = document.createElement('div');\n",
              "        docLink.innerHTML = docLinkHtml;\n",
              "        element.appendChild(docLink);\n",
              "      }\n",
              "    </script>\n",
              "  </div>\n",
              "\n",
              "\n",
              "<div id=\"df-82dec2c6-9ec8-46fd-941f-955ea2600a08\">\n",
              "  <button class=\"colab-df-quickchart\" onclick=\"quickchart('df-82dec2c6-9ec8-46fd-941f-955ea2600a08')\"\n",
              "            title=\"Suggest charts\"\n",
              "            style=\"display:none;\">\n",
              "\n",
              "<svg xmlns=\"http://www.w3.org/2000/svg\" height=\"24px\"viewBox=\"0 0 24 24\"\n",
              "     width=\"24px\">\n",
              "    <g>\n",
              "        <path d=\"M19 3H5c-1.1 0-2 .9-2 2v14c0 1.1.9 2 2 2h14c1.1 0 2-.9 2-2V5c0-1.1-.9-2-2-2zM9 17H7v-7h2v7zm4 0h-2V7h2v10zm4 0h-2v-4h2v4z\"/>\n",
              "    </g>\n",
              "</svg>\n",
              "  </button>\n",
              "\n",
              "<style>\n",
              "  .colab-df-quickchart {\n",
              "      --bg-color: #E8F0FE;\n",
              "      --fill-color: #1967D2;\n",
              "      --hover-bg-color: #E2EBFA;\n",
              "      --hover-fill-color: #174EA6;\n",
              "      --disabled-fill-color: #AAA;\n",
              "      --disabled-bg-color: #DDD;\n",
              "  }\n",
              "\n",
              "  [theme=dark] .colab-df-quickchart {\n",
              "      --bg-color: #3B4455;\n",
              "      --fill-color: #D2E3FC;\n",
              "      --hover-bg-color: #434B5C;\n",
              "      --hover-fill-color: #FFFFFF;\n",
              "      --disabled-bg-color: #3B4455;\n",
              "      --disabled-fill-color: #666;\n",
              "  }\n",
              "\n",
              "  .colab-df-quickchart {\n",
              "    background-color: var(--bg-color);\n",
              "    border: none;\n",
              "    border-radius: 50%;\n",
              "    cursor: pointer;\n",
              "    display: none;\n",
              "    fill: var(--fill-color);\n",
              "    height: 32px;\n",
              "    padding: 0;\n",
              "    width: 32px;\n",
              "  }\n",
              "\n",
              "  .colab-df-quickchart:hover {\n",
              "    background-color: var(--hover-bg-color);\n",
              "    box-shadow: 0 1px 2px rgba(60, 64, 67, 0.3), 0 1px 3px 1px rgba(60, 64, 67, 0.15);\n",
              "    fill: var(--button-hover-fill-color);\n",
              "  }\n",
              "\n",
              "  .colab-df-quickchart-complete:disabled,\n",
              "  .colab-df-quickchart-complete:disabled:hover {\n",
              "    background-color: var(--disabled-bg-color);\n",
              "    fill: var(--disabled-fill-color);\n",
              "    box-shadow: none;\n",
              "  }\n",
              "\n",
              "  .colab-df-spinner {\n",
              "    border: 2px solid var(--fill-color);\n",
              "    border-color: transparent;\n",
              "    border-bottom-color: var(--fill-color);\n",
              "    animation:\n",
              "      spin 1s steps(1) infinite;\n",
              "  }\n",
              "\n",
              "  @keyframes spin {\n",
              "    0% {\n",
              "      border-color: transparent;\n",
              "      border-bottom-color: var(--fill-color);\n",
              "      border-left-color: var(--fill-color);\n",
              "    }\n",
              "    20% {\n",
              "      border-color: transparent;\n",
              "      border-left-color: var(--fill-color);\n",
              "      border-top-color: var(--fill-color);\n",
              "    }\n",
              "    30% {\n",
              "      border-color: transparent;\n",
              "      border-left-color: var(--fill-color);\n",
              "      border-top-color: var(--fill-color);\n",
              "      border-right-color: var(--fill-color);\n",
              "    }\n",
              "    40% {\n",
              "      border-color: transparent;\n",
              "      border-right-color: var(--fill-color);\n",
              "      border-top-color: var(--fill-color);\n",
              "    }\n",
              "    60% {\n",
              "      border-color: transparent;\n",
              "      border-right-color: var(--fill-color);\n",
              "    }\n",
              "    80% {\n",
              "      border-color: transparent;\n",
              "      border-right-color: var(--fill-color);\n",
              "      border-bottom-color: var(--fill-color);\n",
              "    }\n",
              "    90% {\n",
              "      border-color: transparent;\n",
              "      border-bottom-color: var(--fill-color);\n",
              "    }\n",
              "  }\n",
              "</style>\n",
              "\n",
              "  <script>\n",
              "    async function quickchart(key) {\n",
              "      const quickchartButtonEl =\n",
              "        document.querySelector('#' + key + ' button');\n",
              "      quickchartButtonEl.disabled = true;  // To prevent multiple clicks.\n",
              "      quickchartButtonEl.classList.add('colab-df-spinner');\n",
              "      try {\n",
              "        const charts = await google.colab.kernel.invokeFunction(\n",
              "            'suggestCharts', [key], {});\n",
              "      } catch (error) {\n",
              "        console.error('Error during call to suggestCharts:', error);\n",
              "      }\n",
              "      quickchartButtonEl.classList.remove('colab-df-spinner');\n",
              "      quickchartButtonEl.classList.add('colab-df-quickchart-complete');\n",
              "    }\n",
              "    (() => {\n",
              "      let quickchartButtonEl =\n",
              "        document.querySelector('#df-82dec2c6-9ec8-46fd-941f-955ea2600a08 button');\n",
              "      quickchartButtonEl.style.display =\n",
              "        google.colab.kernel.accessAllowed ? 'block' : 'none';\n",
              "    })();\n",
              "  </script>\n",
              "</div>\n",
              "    </div>\n",
              "  </div>\n"
            ],
            "text/plain": [
              "    case_id county_city_location county_location  distance direction  \\\n",
              "98  4083445                 3313       riverside      60.0      east   \n",
              "24  4083169                 5690         ventura      43.0      west   \n",
              "45  4083224                 3012          orange       0.0      None   \n",
              "70  4083310                 1975     los angeles       0.0      east   \n",
              "37  4083195                 3009          orange     100.0      east   \n",
              "\n",
              "    intersection weather_1 location_type collision_damage  party_count  \\\n",
              "98             0     clear          None          scratch            2   \n",
              "24             0     clear       highway          scratch            2   \n",
              "45             1     clear  intersection          scratch            2   \n",
              "70             0     clear          None          scratch            3   \n",
              "37             0    cloudy       highway          scratch            3   \n",
              "\n",
              "   primary_collision_factor pcf_violation_category type_of_collision  \\\n",
              "98   vehicle code violation               speeding          rear end   \n",
              "24   vehicle code violation     unsafe lane change          rear end   \n",
              "45   vehicle code violation     wrong side of road         broadside   \n",
              "70   vehicle code violation               speeding          rear end   \n",
              "37   vehicle code violation     unsafe lane change         sideswipe   \n",
              "\n",
              "   motor_vehicle_involved_with road_surface road_condition_1  \\\n",
              "98         other motor vehicle          dry           normal   \n",
              "24         other motor vehicle          dry           normal   \n",
              "45                     bicycle          dry           normal   \n",
              "70         other motor vehicle          dry           normal   \n",
              "37         other motor vehicle          dry           normal   \n",
              "\n",
              "                   lighting control_device collision_date collision_time  \n",
              "98  dark with street lights    functioning     2009-01-07       18:01:00  \n",
              "24                 daylight    functioning     2009-01-10       10:25:00  \n",
              "45                 daylight    functioning     2009-01-08       08:21:00  \n",
              "70                 daylight           none     2009-01-21       15:57:00  \n",
              "37  dark with street lights           none     2009-01-25       20:00:00  "
            ]
          },
          "execution_count": 4,
          "metadata": {},
          "output_type": "execute_result"
        }
      ],
      "source": [
        "query = '''\n",
        "SELECT *\n",
        "FROM collisions\n",
        "LIMIT 100;\n",
        "'''\n",
        "\n",
        "df = pd.read_sql_query(query, con=engine)\n",
        "df.sample(5)"
      ]
    },
    {
      "cell_type": "code",
      "execution_count": null,
      "id": "d3d7b06c",
      "metadata": {
        "colab": {
          "base_uri": "https://localhost:8080/",
          "height": 204
        },
        "id": "d3d7b06c",
        "outputId": "9374aacb-a2d5-4f02-eedb-14abfbb26743",
        "scrolled": true
      },
      "outputs": [
        {
          "data": {
            "text/html": [
              "\n",
              "  <div id=\"df-d253bfe1-f93f-4d6c-95be-47746b9024b5\" class=\"colab-df-container\">\n",
              "    <div>\n",
              "<style scoped>\n",
              "    .dataframe tbody tr th:only-of-type {\n",
              "        vertical-align: middle;\n",
              "    }\n",
              "\n",
              "    .dataframe tbody tr th {\n",
              "        vertical-align: top;\n",
              "    }\n",
              "\n",
              "    .dataframe thead th {\n",
              "        text-align: right;\n",
              "    }\n",
              "</style>\n",
              "<table border=\"1\" class=\"dataframe\">\n",
              "  <thead>\n",
              "    <tr style=\"text-align: right;\">\n",
              "      <th></th>\n",
              "      <th>case_id</th>\n",
              "      <th>db_year</th>\n",
              "    </tr>\n",
              "  </thead>\n",
              "  <tbody>\n",
              "    <tr>\n",
              "      <th>34</th>\n",
              "      <td>3899505</td>\n",
              "      <td>2021</td>\n",
              "    </tr>\n",
              "    <tr>\n",
              "      <th>14</th>\n",
              "      <td>3899465</td>\n",
              "      <td>2021</td>\n",
              "    </tr>\n",
              "    <tr>\n",
              "      <th>71</th>\n",
              "      <td>3982902</td>\n",
              "      <td>2021</td>\n",
              "    </tr>\n",
              "    <tr>\n",
              "      <th>47</th>\n",
              "      <td>3981318</td>\n",
              "      <td>2021</td>\n",
              "    </tr>\n",
              "    <tr>\n",
              "      <th>1</th>\n",
              "      <td>0726202</td>\n",
              "      <td>2021</td>\n",
              "    </tr>\n",
              "  </tbody>\n",
              "</table>\n",
              "</div>\n",
              "    <div class=\"colab-df-buttons\">\n",
              "\n",
              "  <div class=\"colab-df-container\">\n",
              "    <button class=\"colab-df-convert\" onclick=\"convertToInteractive('df-d253bfe1-f93f-4d6c-95be-47746b9024b5')\"\n",
              "            title=\"Convert this dataframe to an interactive table.\"\n",
              "            style=\"display:none;\">\n",
              "\n",
              "  <svg xmlns=\"http://www.w3.org/2000/svg\" height=\"24px\" viewBox=\"0 -960 960 960\">\n",
              "    <path d=\"M120-120v-720h720v720H120Zm60-500h600v-160H180v160Zm220 220h160v-160H400v160Zm0 220h160v-160H400v160ZM180-400h160v-160H180v160Zm440 0h160v-160H620v160ZM180-180h160v-160H180v160Zm440 0h160v-160H620v160Z\"/>\n",
              "  </svg>\n",
              "    </button>\n",
              "\n",
              "  <style>\n",
              "    .colab-df-container {\n",
              "      display:flex;\n",
              "      gap: 12px;\n",
              "    }\n",
              "\n",
              "    .colab-df-convert {\n",
              "      background-color: #E8F0FE;\n",
              "      border: none;\n",
              "      border-radius: 50%;\n",
              "      cursor: pointer;\n",
              "      display: none;\n",
              "      fill: #1967D2;\n",
              "      height: 32px;\n",
              "      padding: 0 0 0 0;\n",
              "      width: 32px;\n",
              "    }\n",
              "\n",
              "    .colab-df-convert:hover {\n",
              "      background-color: #E2EBFA;\n",
              "      box-shadow: 0px 1px 2px rgba(60, 64, 67, 0.3), 0px 1px 3px 1px rgba(60, 64, 67, 0.15);\n",
              "      fill: #174EA6;\n",
              "    }\n",
              "\n",
              "    .colab-df-buttons div {\n",
              "      margin-bottom: 4px;\n",
              "    }\n",
              "\n",
              "    [theme=dark] .colab-df-convert {\n",
              "      background-color: #3B4455;\n",
              "      fill: #D2E3FC;\n",
              "    }\n",
              "\n",
              "    [theme=dark] .colab-df-convert:hover {\n",
              "      background-color: #434B5C;\n",
              "      box-shadow: 0px 1px 3px 1px rgba(0, 0, 0, 0.15);\n",
              "      filter: drop-shadow(0px 1px 2px rgba(0, 0, 0, 0.3));\n",
              "      fill: #FFFFFF;\n",
              "    }\n",
              "  </style>\n",
              "\n",
              "    <script>\n",
              "      const buttonEl =\n",
              "        document.querySelector('#df-d253bfe1-f93f-4d6c-95be-47746b9024b5 button.colab-df-convert');\n",
              "      buttonEl.style.display =\n",
              "        google.colab.kernel.accessAllowed ? 'block' : 'none';\n",
              "\n",
              "      async function convertToInteractive(key) {\n",
              "        const element = document.querySelector('#df-d253bfe1-f93f-4d6c-95be-47746b9024b5');\n",
              "        const dataTable =\n",
              "          await google.colab.kernel.invokeFunction('convertToInteractive',\n",
              "                                                    [key], {});\n",
              "        if (!dataTable) return;\n",
              "\n",
              "        const docLinkHtml = 'Like what you see? Visit the ' +\n",
              "          '<a target=\"_blank\" href=https://colab.research.google.com/notebooks/data_table.ipynb>data table notebook</a>'\n",
              "          + ' to learn more about interactive tables.';\n",
              "        element.innerHTML = '';\n",
              "        dataTable['output_type'] = 'display_data';\n",
              "        await google.colab.output.renderOutput(dataTable, element);\n",
              "        const docLink = document.createElement('div');\n",
              "        docLink.innerHTML = docLinkHtml;\n",
              "        element.appendChild(docLink);\n",
              "      }\n",
              "    </script>\n",
              "  </div>\n",
              "\n",
              "\n",
              "<div id=\"df-87dc4288-066f-44a1-9a23-c832333dfc35\">\n",
              "  <button class=\"colab-df-quickchart\" onclick=\"quickchart('df-87dc4288-066f-44a1-9a23-c832333dfc35')\"\n",
              "            title=\"Suggest charts\"\n",
              "            style=\"display:none;\">\n",
              "\n",
              "<svg xmlns=\"http://www.w3.org/2000/svg\" height=\"24px\"viewBox=\"0 0 24 24\"\n",
              "     width=\"24px\">\n",
              "    <g>\n",
              "        <path d=\"M19 3H5c-1.1 0-2 .9-2 2v14c0 1.1.9 2 2 2h14c1.1 0 2-.9 2-2V5c0-1.1-.9-2-2-2zM9 17H7v-7h2v7zm4 0h-2V7h2v10zm4 0h-2v-4h2v4z\"/>\n",
              "    </g>\n",
              "</svg>\n",
              "  </button>\n",
              "\n",
              "<style>\n",
              "  .colab-df-quickchart {\n",
              "      --bg-color: #E8F0FE;\n",
              "      --fill-color: #1967D2;\n",
              "      --hover-bg-color: #E2EBFA;\n",
              "      --hover-fill-color: #174EA6;\n",
              "      --disabled-fill-color: #AAA;\n",
              "      --disabled-bg-color: #DDD;\n",
              "  }\n",
              "\n",
              "  [theme=dark] .colab-df-quickchart {\n",
              "      --bg-color: #3B4455;\n",
              "      --fill-color: #D2E3FC;\n",
              "      --hover-bg-color: #434B5C;\n",
              "      --hover-fill-color: #FFFFFF;\n",
              "      --disabled-bg-color: #3B4455;\n",
              "      --disabled-fill-color: #666;\n",
              "  }\n",
              "\n",
              "  .colab-df-quickchart {\n",
              "    background-color: var(--bg-color);\n",
              "    border: none;\n",
              "    border-radius: 50%;\n",
              "    cursor: pointer;\n",
              "    display: none;\n",
              "    fill: var(--fill-color);\n",
              "    height: 32px;\n",
              "    padding: 0;\n",
              "    width: 32px;\n",
              "  }\n",
              "\n",
              "  .colab-df-quickchart:hover {\n",
              "    background-color: var(--hover-bg-color);\n",
              "    box-shadow: 0 1px 2px rgba(60, 64, 67, 0.3), 0 1px 3px 1px rgba(60, 64, 67, 0.15);\n",
              "    fill: var(--button-hover-fill-color);\n",
              "  }\n",
              "\n",
              "  .colab-df-quickchart-complete:disabled,\n",
              "  .colab-df-quickchart-complete:disabled:hover {\n",
              "    background-color: var(--disabled-bg-color);\n",
              "    fill: var(--disabled-fill-color);\n",
              "    box-shadow: none;\n",
              "  }\n",
              "\n",
              "  .colab-df-spinner {\n",
              "    border: 2px solid var(--fill-color);\n",
              "    border-color: transparent;\n",
              "    border-bottom-color: var(--fill-color);\n",
              "    animation:\n",
              "      spin 1s steps(1) infinite;\n",
              "  }\n",
              "\n",
              "  @keyframes spin {\n",
              "    0% {\n",
              "      border-color: transparent;\n",
              "      border-bottom-color: var(--fill-color);\n",
              "      border-left-color: var(--fill-color);\n",
              "    }\n",
              "    20% {\n",
              "      border-color: transparent;\n",
              "      border-left-color: var(--fill-color);\n",
              "      border-top-color: var(--fill-color);\n",
              "    }\n",
              "    30% {\n",
              "      border-color: transparent;\n",
              "      border-left-color: var(--fill-color);\n",
              "      border-top-color: var(--fill-color);\n",
              "      border-right-color: var(--fill-color);\n",
              "    }\n",
              "    40% {\n",
              "      border-color: transparent;\n",
              "      border-right-color: var(--fill-color);\n",
              "      border-top-color: var(--fill-color);\n",
              "    }\n",
              "    60% {\n",
              "      border-color: transparent;\n",
              "      border-right-color: var(--fill-color);\n",
              "    }\n",
              "    80% {\n",
              "      border-color: transparent;\n",
              "      border-right-color: var(--fill-color);\n",
              "      border-bottom-color: var(--fill-color);\n",
              "    }\n",
              "    90% {\n",
              "      border-color: transparent;\n",
              "      border-bottom-color: var(--fill-color);\n",
              "    }\n",
              "  }\n",
              "</style>\n",
              "\n",
              "  <script>\n",
              "    async function quickchart(key) {\n",
              "      const quickchartButtonEl =\n",
              "        document.querySelector('#' + key + ' button');\n",
              "      quickchartButtonEl.disabled = true;  // To prevent multiple clicks.\n",
              "      quickchartButtonEl.classList.add('colab-df-spinner');\n",
              "      try {\n",
              "        const charts = await google.colab.kernel.invokeFunction(\n",
              "            'suggestCharts', [key], {});\n",
              "      } catch (error) {\n",
              "        console.error('Error during call to suggestCharts:', error);\n",
              "      }\n",
              "      quickchartButtonEl.classList.remove('colab-df-spinner');\n",
              "      quickchartButtonEl.classList.add('colab-df-quickchart-complete');\n",
              "    }\n",
              "    (() => {\n",
              "      let quickchartButtonEl =\n",
              "        document.querySelector('#df-87dc4288-066f-44a1-9a23-c832333dfc35 button');\n",
              "      quickchartButtonEl.style.display =\n",
              "        google.colab.kernel.accessAllowed ? 'block' : 'none';\n",
              "    })();\n",
              "  </script>\n",
              "</div>\n",
              "    </div>\n",
              "  </div>\n"
            ],
            "text/plain": [
              "    case_id db_year\n",
              "34  3899505    2021\n",
              "14  3899465    2021\n",
              "71  3982902    2021\n",
              "47  3981318    2021\n",
              "1   0726202    2021"
            ]
          },
          "execution_count": 5,
          "metadata": {},
          "output_type": "execute_result"
        }
      ],
      "source": [
        "query = '''\n",
        "SELECT *\n",
        "FROM case_ids\n",
        "LIMIT 100;\n",
        "'''\n",
        "\n",
        "case_ids = pd.read_sql_query(query, con=engine)\n",
        "case_ids.sample(5)"
      ]
    },
    {
      "cell_type": "code",
      "execution_count": null,
      "id": "3a914fbd",
      "metadata": {
        "colab": {
          "base_uri": "https://localhost:8080/",
          "height": 204
        },
        "id": "3a914fbd",
        "outputId": "f965169e-04fe-41b1-80fb-4922fa7ca691",
        "scrolled": true
      },
      "outputs": [
        {
          "data": {
            "text/html": [
              "\n",
              "  <div id=\"df-79f51eb9-0db4-44e3-9ae5-e9c8d4d80e21\" class=\"colab-df-container\">\n",
              "    <div>\n",
              "<style scoped>\n",
              "    .dataframe tbody tr th:only-of-type {\n",
              "        vertical-align: middle;\n",
              "    }\n",
              "\n",
              "    .dataframe tbody tr th {\n",
              "        vertical-align: top;\n",
              "    }\n",
              "\n",
              "    .dataframe thead th {\n",
              "        text-align: right;\n",
              "    }\n",
              "</style>\n",
              "<table border=\"1\" class=\"dataframe\">\n",
              "  <thead>\n",
              "    <tr style=\"text-align: right;\">\n",
              "      <th></th>\n",
              "      <th>id</th>\n",
              "      <th>case_id</th>\n",
              "      <th>party_number</th>\n",
              "      <th>vehicle_type</th>\n",
              "      <th>vehicle_transmission</th>\n",
              "      <th>vehicle_age</th>\n",
              "    </tr>\n",
              "  </thead>\n",
              "  <tbody>\n",
              "    <tr>\n",
              "      <th>69</th>\n",
              "      <td>1175906</td>\n",
              "      <td>5305188</td>\n",
              "      <td>2</td>\n",
              "      <td>sedan</td>\n",
              "      <td>manual</td>\n",
              "      <td>3.0</td>\n",
              "    </tr>\n",
              "    <tr>\n",
              "      <th>39</th>\n",
              "      <td>1194674</td>\n",
              "      <td>5324189</td>\n",
              "      <td>1</td>\n",
              "      <td>sedan</td>\n",
              "      <td>manual</td>\n",
              "      <td>8.0</td>\n",
              "    </tr>\n",
              "    <tr>\n",
              "      <th>2</th>\n",
              "      <td>1175712</td>\n",
              "      <td>5305030</td>\n",
              "      <td>1</td>\n",
              "      <td>sedan</td>\n",
              "      <td>auto</td>\n",
              "      <td>3.0</td>\n",
              "    </tr>\n",
              "    <tr>\n",
              "      <th>52</th>\n",
              "      <td>1175877</td>\n",
              "      <td>5305163</td>\n",
              "      <td>1</td>\n",
              "      <td>sedan</td>\n",
              "      <td>auto</td>\n",
              "      <td>3.0</td>\n",
              "    </tr>\n",
              "    <tr>\n",
              "      <th>38</th>\n",
              "      <td>1194669</td>\n",
              "      <td>5324178</td>\n",
              "      <td>1</td>\n",
              "      <td>sedan</td>\n",
              "      <td>manual</td>\n",
              "      <td>1.0</td>\n",
              "    </tr>\n",
              "  </tbody>\n",
              "</table>\n",
              "</div>\n",
              "    <div class=\"colab-df-buttons\">\n",
              "\n",
              "  <div class=\"colab-df-container\">\n",
              "    <button class=\"colab-df-convert\" onclick=\"convertToInteractive('df-79f51eb9-0db4-44e3-9ae5-e9c8d4d80e21')\"\n",
              "            title=\"Convert this dataframe to an interactive table.\"\n",
              "            style=\"display:none;\">\n",
              "\n",
              "  <svg xmlns=\"http://www.w3.org/2000/svg\" height=\"24px\" viewBox=\"0 -960 960 960\">\n",
              "    <path d=\"M120-120v-720h720v720H120Zm60-500h600v-160H180v160Zm220 220h160v-160H400v160Zm0 220h160v-160H400v160ZM180-400h160v-160H180v160Zm440 0h160v-160H620v160ZM180-180h160v-160H180v160Zm440 0h160v-160H620v160Z\"/>\n",
              "  </svg>\n",
              "    </button>\n",
              "\n",
              "  <style>\n",
              "    .colab-df-container {\n",
              "      display:flex;\n",
              "      gap: 12px;\n",
              "    }\n",
              "\n",
              "    .colab-df-convert {\n",
              "      background-color: #E8F0FE;\n",
              "      border: none;\n",
              "      border-radius: 50%;\n",
              "      cursor: pointer;\n",
              "      display: none;\n",
              "      fill: #1967D2;\n",
              "      height: 32px;\n",
              "      padding: 0 0 0 0;\n",
              "      width: 32px;\n",
              "    }\n",
              "\n",
              "    .colab-df-convert:hover {\n",
              "      background-color: #E2EBFA;\n",
              "      box-shadow: 0px 1px 2px rgba(60, 64, 67, 0.3), 0px 1px 3px 1px rgba(60, 64, 67, 0.15);\n",
              "      fill: #174EA6;\n",
              "    }\n",
              "\n",
              "    .colab-df-buttons div {\n",
              "      margin-bottom: 4px;\n",
              "    }\n",
              "\n",
              "    [theme=dark] .colab-df-convert {\n",
              "      background-color: #3B4455;\n",
              "      fill: #D2E3FC;\n",
              "    }\n",
              "\n",
              "    [theme=dark] .colab-df-convert:hover {\n",
              "      background-color: #434B5C;\n",
              "      box-shadow: 0px 1px 3px 1px rgba(0, 0, 0, 0.15);\n",
              "      filter: drop-shadow(0px 1px 2px rgba(0, 0, 0, 0.3));\n",
              "      fill: #FFFFFF;\n",
              "    }\n",
              "  </style>\n",
              "\n",
              "    <script>\n",
              "      const buttonEl =\n",
              "        document.querySelector('#df-79f51eb9-0db4-44e3-9ae5-e9c8d4d80e21 button.colab-df-convert');\n",
              "      buttonEl.style.display =\n",
              "        google.colab.kernel.accessAllowed ? 'block' : 'none';\n",
              "\n",
              "      async function convertToInteractive(key) {\n",
              "        const element = document.querySelector('#df-79f51eb9-0db4-44e3-9ae5-e9c8d4d80e21');\n",
              "        const dataTable =\n",
              "          await google.colab.kernel.invokeFunction('convertToInteractive',\n",
              "                                                    [key], {});\n",
              "        if (!dataTable) return;\n",
              "\n",
              "        const docLinkHtml = 'Like what you see? Visit the ' +\n",
              "          '<a target=\"_blank\" href=https://colab.research.google.com/notebooks/data_table.ipynb>data table notebook</a>'\n",
              "          + ' to learn more about interactive tables.';\n",
              "        element.innerHTML = '';\n",
              "        dataTable['output_type'] = 'display_data';\n",
              "        await google.colab.output.renderOutput(dataTable, element);\n",
              "        const docLink = document.createElement('div');\n",
              "        docLink.innerHTML = docLinkHtml;\n",
              "        element.appendChild(docLink);\n",
              "      }\n",
              "    </script>\n",
              "  </div>\n",
              "\n",
              "\n",
              "<div id=\"df-8d39b6bf-4737-4434-a8fb-8ef037be5bc8\">\n",
              "  <button class=\"colab-df-quickchart\" onclick=\"quickchart('df-8d39b6bf-4737-4434-a8fb-8ef037be5bc8')\"\n",
              "            title=\"Suggest charts\"\n",
              "            style=\"display:none;\">\n",
              "\n",
              "<svg xmlns=\"http://www.w3.org/2000/svg\" height=\"24px\"viewBox=\"0 0 24 24\"\n",
              "     width=\"24px\">\n",
              "    <g>\n",
              "        <path d=\"M19 3H5c-1.1 0-2 .9-2 2v14c0 1.1.9 2 2 2h14c1.1 0 2-.9 2-2V5c0-1.1-.9-2-2-2zM9 17H7v-7h2v7zm4 0h-2V7h2v10zm4 0h-2v-4h2v4z\"/>\n",
              "    </g>\n",
              "</svg>\n",
              "  </button>\n",
              "\n",
              "<style>\n",
              "  .colab-df-quickchart {\n",
              "      --bg-color: #E8F0FE;\n",
              "      --fill-color: #1967D2;\n",
              "      --hover-bg-color: #E2EBFA;\n",
              "      --hover-fill-color: #174EA6;\n",
              "      --disabled-fill-color: #AAA;\n",
              "      --disabled-bg-color: #DDD;\n",
              "  }\n",
              "\n",
              "  [theme=dark] .colab-df-quickchart {\n",
              "      --bg-color: #3B4455;\n",
              "      --fill-color: #D2E3FC;\n",
              "      --hover-bg-color: #434B5C;\n",
              "      --hover-fill-color: #FFFFFF;\n",
              "      --disabled-bg-color: #3B4455;\n",
              "      --disabled-fill-color: #666;\n",
              "  }\n",
              "\n",
              "  .colab-df-quickchart {\n",
              "    background-color: var(--bg-color);\n",
              "    border: none;\n",
              "    border-radius: 50%;\n",
              "    cursor: pointer;\n",
              "    display: none;\n",
              "    fill: var(--fill-color);\n",
              "    height: 32px;\n",
              "    padding: 0;\n",
              "    width: 32px;\n",
              "  }\n",
              "\n",
              "  .colab-df-quickchart:hover {\n",
              "    background-color: var(--hover-bg-color);\n",
              "    box-shadow: 0 1px 2px rgba(60, 64, 67, 0.3), 0 1px 3px 1px rgba(60, 64, 67, 0.15);\n",
              "    fill: var(--button-hover-fill-color);\n",
              "  }\n",
              "\n",
              "  .colab-df-quickchart-complete:disabled,\n",
              "  .colab-df-quickchart-complete:disabled:hover {\n",
              "    background-color: var(--disabled-bg-color);\n",
              "    fill: var(--disabled-fill-color);\n",
              "    box-shadow: none;\n",
              "  }\n",
              "\n",
              "  .colab-df-spinner {\n",
              "    border: 2px solid var(--fill-color);\n",
              "    border-color: transparent;\n",
              "    border-bottom-color: var(--fill-color);\n",
              "    animation:\n",
              "      spin 1s steps(1) infinite;\n",
              "  }\n",
              "\n",
              "  @keyframes spin {\n",
              "    0% {\n",
              "      border-color: transparent;\n",
              "      border-bottom-color: var(--fill-color);\n",
              "      border-left-color: var(--fill-color);\n",
              "    }\n",
              "    20% {\n",
              "      border-color: transparent;\n",
              "      border-left-color: var(--fill-color);\n",
              "      border-top-color: var(--fill-color);\n",
              "    }\n",
              "    30% {\n",
              "      border-color: transparent;\n",
              "      border-left-color: var(--fill-color);\n",
              "      border-top-color: var(--fill-color);\n",
              "      border-right-color: var(--fill-color);\n",
              "    }\n",
              "    40% {\n",
              "      border-color: transparent;\n",
              "      border-right-color: var(--fill-color);\n",
              "      border-top-color: var(--fill-color);\n",
              "    }\n",
              "    60% {\n",
              "      border-color: transparent;\n",
              "      border-right-color: var(--fill-color);\n",
              "    }\n",
              "    80% {\n",
              "      border-color: transparent;\n",
              "      border-right-color: var(--fill-color);\n",
              "      border-bottom-color: var(--fill-color);\n",
              "    }\n",
              "    90% {\n",
              "      border-color: transparent;\n",
              "      border-bottom-color: var(--fill-color);\n",
              "    }\n",
              "  }\n",
              "</style>\n",
              "\n",
              "  <script>\n",
              "    async function quickchart(key) {\n",
              "      const quickchartButtonEl =\n",
              "        document.querySelector('#' + key + ' button');\n",
              "      quickchartButtonEl.disabled = true;  // To prevent multiple clicks.\n",
              "      quickchartButtonEl.classList.add('colab-df-spinner');\n",
              "      try {\n",
              "        const charts = await google.colab.kernel.invokeFunction(\n",
              "            'suggestCharts', [key], {});\n",
              "      } catch (error) {\n",
              "        console.error('Error during call to suggestCharts:', error);\n",
              "      }\n",
              "      quickchartButtonEl.classList.remove('colab-df-spinner');\n",
              "      quickchartButtonEl.classList.add('colab-df-quickchart-complete');\n",
              "    }\n",
              "    (() => {\n",
              "      let quickchartButtonEl =\n",
              "        document.querySelector('#df-8d39b6bf-4737-4434-a8fb-8ef037be5bc8 button');\n",
              "      quickchartButtonEl.style.display =\n",
              "        google.colab.kernel.accessAllowed ? 'block' : 'none';\n",
              "    })();\n",
              "  </script>\n",
              "</div>\n",
              "    </div>\n",
              "  </div>\n"
            ],
            "text/plain": [
              "         id  case_id  party_number vehicle_type vehicle_transmission  \\\n",
              "69  1175906  5305188             2        sedan               manual   \n",
              "39  1194674  5324189             1        sedan               manual   \n",
              "2   1175712  5305030             1        sedan                 auto   \n",
              "52  1175877  5305163             1        sedan                 auto   \n",
              "38  1194669  5324178             1        sedan               manual   \n",
              "\n",
              "    vehicle_age  \n",
              "69          3.0  \n",
              "39          8.0  \n",
              "2           3.0  \n",
              "52          3.0  \n",
              "38          1.0  "
            ]
          },
          "execution_count": 6,
          "metadata": {},
          "output_type": "execute_result"
        }
      ],
      "source": [
        "query = '''\n",
        "SELECT *\n",
        "FROM vehicles\n",
        "LIMIT 100;\n",
        "'''\n",
        "\n",
        "df = pd.read_sql_query(query, con=engine)\n",
        "df.sample(5)"
      ]
    },
    {
      "cell_type": "code",
      "execution_count": null,
      "id": "dd9ac347",
      "metadata": {
        "colab": {
          "base_uri": "https://localhost:8080/",
          "height": 204
        },
        "id": "dd9ac347",
        "outputId": "63696512-c4ae-4ba1-ebed-c7c384fb1ab5",
        "scrolled": false
      },
      "outputs": [
        {
          "data": {
            "text/html": [
              "\n",
              "  <div id=\"df-955758b6-981e-41a4-89fa-41b7a5db0795\" class=\"colab-df-container\">\n",
              "    <div>\n",
              "<style scoped>\n",
              "    .dataframe tbody tr th:only-of-type {\n",
              "        vertical-align: middle;\n",
              "    }\n",
              "\n",
              "    .dataframe tbody tr th {\n",
              "        vertical-align: top;\n",
              "    }\n",
              "\n",
              "    .dataframe thead th {\n",
              "        text-align: right;\n",
              "    }\n",
              "</style>\n",
              "<table border=\"1\" class=\"dataframe\">\n",
              "  <thead>\n",
              "    <tr style=\"text-align: right;\">\n",
              "      <th></th>\n",
              "      <th>id</th>\n",
              "      <th>case_id</th>\n",
              "      <th>party_number</th>\n",
              "      <th>party_type</th>\n",
              "      <th>at_fault</th>\n",
              "      <th>insurance_premium</th>\n",
              "      <th>party_sobriety</th>\n",
              "      <th>party_drug_physical</th>\n",
              "      <th>cellphone_in_use</th>\n",
              "    </tr>\n",
              "  </thead>\n",
              "  <tbody>\n",
              "    <tr>\n",
              "      <th>47</th>\n",
              "      <td>383</td>\n",
              "      <td>3987616</td>\n",
              "      <td>2</td>\n",
              "      <td>road bumper</td>\n",
              "      <td>0</td>\n",
              "      <td>NaN</td>\n",
              "      <td>not applicable</td>\n",
              "      <td>not applicable</td>\n",
              "      <td>0.0</td>\n",
              "    </tr>\n",
              "    <tr>\n",
              "      <th>52</th>\n",
              "      <td>419</td>\n",
              "      <td>3987677</td>\n",
              "      <td>1</td>\n",
              "      <td>road bumper</td>\n",
              "      <td>1</td>\n",
              "      <td>NaN</td>\n",
              "      <td>had not been drinking</td>\n",
              "      <td>None</td>\n",
              "      <td>1.0</td>\n",
              "    </tr>\n",
              "    <tr>\n",
              "      <th>31</th>\n",
              "      <td>266</td>\n",
              "      <td>3984278</td>\n",
              "      <td>1</td>\n",
              "      <td>road signs</td>\n",
              "      <td>1</td>\n",
              "      <td>82.0</td>\n",
              "      <td>impairment unknown</td>\n",
              "      <td>G</td>\n",
              "      <td>0.0</td>\n",
              "    </tr>\n",
              "    <tr>\n",
              "      <th>8</th>\n",
              "      <td>76</td>\n",
              "      <td>3899509</td>\n",
              "      <td>1</td>\n",
              "      <td>road bumper</td>\n",
              "      <td>0</td>\n",
              "      <td>NaN</td>\n",
              "      <td>had not been drinking</td>\n",
              "      <td>None</td>\n",
              "      <td>0.0</td>\n",
              "    </tr>\n",
              "    <tr>\n",
              "      <th>19</th>\n",
              "      <td>222</td>\n",
              "      <td>3982945</td>\n",
              "      <td>1</td>\n",
              "      <td>building</td>\n",
              "      <td>1</td>\n",
              "      <td>47.0</td>\n",
              "      <td>had not been drinking</td>\n",
              "      <td>None</td>\n",
              "      <td>NaN</td>\n",
              "    </tr>\n",
              "  </tbody>\n",
              "</table>\n",
              "</div>\n",
              "    <div class=\"colab-df-buttons\">\n",
              "\n",
              "  <div class=\"colab-df-container\">\n",
              "    <button class=\"colab-df-convert\" onclick=\"convertToInteractive('df-955758b6-981e-41a4-89fa-41b7a5db0795')\"\n",
              "            title=\"Convert this dataframe to an interactive table.\"\n",
              "            style=\"display:none;\">\n",
              "\n",
              "  <svg xmlns=\"http://www.w3.org/2000/svg\" height=\"24px\" viewBox=\"0 -960 960 960\">\n",
              "    <path d=\"M120-120v-720h720v720H120Zm60-500h600v-160H180v160Zm220 220h160v-160H400v160Zm0 220h160v-160H400v160ZM180-400h160v-160H180v160Zm440 0h160v-160H620v160ZM180-180h160v-160H180v160Zm440 0h160v-160H620v160Z\"/>\n",
              "  </svg>\n",
              "    </button>\n",
              "\n",
              "  <style>\n",
              "    .colab-df-container {\n",
              "      display:flex;\n",
              "      gap: 12px;\n",
              "    }\n",
              "\n",
              "    .colab-df-convert {\n",
              "      background-color: #E8F0FE;\n",
              "      border: none;\n",
              "      border-radius: 50%;\n",
              "      cursor: pointer;\n",
              "      display: none;\n",
              "      fill: #1967D2;\n",
              "      height: 32px;\n",
              "      padding: 0 0 0 0;\n",
              "      width: 32px;\n",
              "    }\n",
              "\n",
              "    .colab-df-convert:hover {\n",
              "      background-color: #E2EBFA;\n",
              "      box-shadow: 0px 1px 2px rgba(60, 64, 67, 0.3), 0px 1px 3px 1px rgba(60, 64, 67, 0.15);\n",
              "      fill: #174EA6;\n",
              "    }\n",
              "\n",
              "    .colab-df-buttons div {\n",
              "      margin-bottom: 4px;\n",
              "    }\n",
              "\n",
              "    [theme=dark] .colab-df-convert {\n",
              "      background-color: #3B4455;\n",
              "      fill: #D2E3FC;\n",
              "    }\n",
              "\n",
              "    [theme=dark] .colab-df-convert:hover {\n",
              "      background-color: #434B5C;\n",
              "      box-shadow: 0px 1px 3px 1px rgba(0, 0, 0, 0.15);\n",
              "      filter: drop-shadow(0px 1px 2px rgba(0, 0, 0, 0.3));\n",
              "      fill: #FFFFFF;\n",
              "    }\n",
              "  </style>\n",
              "\n",
              "    <script>\n",
              "      const buttonEl =\n",
              "        document.querySelector('#df-955758b6-981e-41a4-89fa-41b7a5db0795 button.colab-df-convert');\n",
              "      buttonEl.style.display =\n",
              "        google.colab.kernel.accessAllowed ? 'block' : 'none';\n",
              "\n",
              "      async function convertToInteractive(key) {\n",
              "        const element = document.querySelector('#df-955758b6-981e-41a4-89fa-41b7a5db0795');\n",
              "        const dataTable =\n",
              "          await google.colab.kernel.invokeFunction('convertToInteractive',\n",
              "                                                    [key], {});\n",
              "        if (!dataTable) return;\n",
              "\n",
              "        const docLinkHtml = 'Like what you see? Visit the ' +\n",
              "          '<a target=\"_blank\" href=https://colab.research.google.com/notebooks/data_table.ipynb>data table notebook</a>'\n",
              "          + ' to learn more about interactive tables.';\n",
              "        element.innerHTML = '';\n",
              "        dataTable['output_type'] = 'display_data';\n",
              "        await google.colab.output.renderOutput(dataTable, element);\n",
              "        const docLink = document.createElement('div');\n",
              "        docLink.innerHTML = docLinkHtml;\n",
              "        element.appendChild(docLink);\n",
              "      }\n",
              "    </script>\n",
              "  </div>\n",
              "\n",
              "\n",
              "<div id=\"df-b0f2e934-a43b-4aff-a489-e531447647e0\">\n",
              "  <button class=\"colab-df-quickchart\" onclick=\"quickchart('df-b0f2e934-a43b-4aff-a489-e531447647e0')\"\n",
              "            title=\"Suggest charts\"\n",
              "            style=\"display:none;\">\n",
              "\n",
              "<svg xmlns=\"http://www.w3.org/2000/svg\" height=\"24px\"viewBox=\"0 0 24 24\"\n",
              "     width=\"24px\">\n",
              "    <g>\n",
              "        <path d=\"M19 3H5c-1.1 0-2 .9-2 2v14c0 1.1.9 2 2 2h14c1.1 0 2-.9 2-2V5c0-1.1-.9-2-2-2zM9 17H7v-7h2v7zm4 0h-2V7h2v10zm4 0h-2v-4h2v4z\"/>\n",
              "    </g>\n",
              "</svg>\n",
              "  </button>\n",
              "\n",
              "<style>\n",
              "  .colab-df-quickchart {\n",
              "      --bg-color: #E8F0FE;\n",
              "      --fill-color: #1967D2;\n",
              "      --hover-bg-color: #E2EBFA;\n",
              "      --hover-fill-color: #174EA6;\n",
              "      --disabled-fill-color: #AAA;\n",
              "      --disabled-bg-color: #DDD;\n",
              "  }\n",
              "\n",
              "  [theme=dark] .colab-df-quickchart {\n",
              "      --bg-color: #3B4455;\n",
              "      --fill-color: #D2E3FC;\n",
              "      --hover-bg-color: #434B5C;\n",
              "      --hover-fill-color: #FFFFFF;\n",
              "      --disabled-bg-color: #3B4455;\n",
              "      --disabled-fill-color: #666;\n",
              "  }\n",
              "\n",
              "  .colab-df-quickchart {\n",
              "    background-color: var(--bg-color);\n",
              "    border: none;\n",
              "    border-radius: 50%;\n",
              "    cursor: pointer;\n",
              "    display: none;\n",
              "    fill: var(--fill-color);\n",
              "    height: 32px;\n",
              "    padding: 0;\n",
              "    width: 32px;\n",
              "  }\n",
              "\n",
              "  .colab-df-quickchart:hover {\n",
              "    background-color: var(--hover-bg-color);\n",
              "    box-shadow: 0 1px 2px rgba(60, 64, 67, 0.3), 0 1px 3px 1px rgba(60, 64, 67, 0.15);\n",
              "    fill: var(--button-hover-fill-color);\n",
              "  }\n",
              "\n",
              "  .colab-df-quickchart-complete:disabled,\n",
              "  .colab-df-quickchart-complete:disabled:hover {\n",
              "    background-color: var(--disabled-bg-color);\n",
              "    fill: var(--disabled-fill-color);\n",
              "    box-shadow: none;\n",
              "  }\n",
              "\n",
              "  .colab-df-spinner {\n",
              "    border: 2px solid var(--fill-color);\n",
              "    border-color: transparent;\n",
              "    border-bottom-color: var(--fill-color);\n",
              "    animation:\n",
              "      spin 1s steps(1) infinite;\n",
              "  }\n",
              "\n",
              "  @keyframes spin {\n",
              "    0% {\n",
              "      border-color: transparent;\n",
              "      border-bottom-color: var(--fill-color);\n",
              "      border-left-color: var(--fill-color);\n",
              "    }\n",
              "    20% {\n",
              "      border-color: transparent;\n",
              "      border-left-color: var(--fill-color);\n",
              "      border-top-color: var(--fill-color);\n",
              "    }\n",
              "    30% {\n",
              "      border-color: transparent;\n",
              "      border-left-color: var(--fill-color);\n",
              "      border-top-color: var(--fill-color);\n",
              "      border-right-color: var(--fill-color);\n",
              "    }\n",
              "    40% {\n",
              "      border-color: transparent;\n",
              "      border-right-color: var(--fill-color);\n",
              "      border-top-color: var(--fill-color);\n",
              "    }\n",
              "    60% {\n",
              "      border-color: transparent;\n",
              "      border-right-color: var(--fill-color);\n",
              "    }\n",
              "    80% {\n",
              "      border-color: transparent;\n",
              "      border-right-color: var(--fill-color);\n",
              "      border-bottom-color: var(--fill-color);\n",
              "    }\n",
              "    90% {\n",
              "      border-color: transparent;\n",
              "      border-bottom-color: var(--fill-color);\n",
              "    }\n",
              "  }\n",
              "</style>\n",
              "\n",
              "  <script>\n",
              "    async function quickchart(key) {\n",
              "      const quickchartButtonEl =\n",
              "        document.querySelector('#' + key + ' button');\n",
              "      quickchartButtonEl.disabled = true;  // To prevent multiple clicks.\n",
              "      quickchartButtonEl.classList.add('colab-df-spinner');\n",
              "      try {\n",
              "        const charts = await google.colab.kernel.invokeFunction(\n",
              "            'suggestCharts', [key], {});\n",
              "      } catch (error) {\n",
              "        console.error('Error during call to suggestCharts:', error);\n",
              "      }\n",
              "      quickchartButtonEl.classList.remove('colab-df-spinner');\n",
              "      quickchartButtonEl.classList.add('colab-df-quickchart-complete');\n",
              "    }\n",
              "    (() => {\n",
              "      let quickchartButtonEl =\n",
              "        document.querySelector('#df-b0f2e934-a43b-4aff-a489-e531447647e0 button');\n",
              "      quickchartButtonEl.style.display =\n",
              "        google.colab.kernel.accessAllowed ? 'block' : 'none';\n",
              "    })();\n",
              "  </script>\n",
              "</div>\n",
              "    </div>\n",
              "  </div>\n"
            ],
            "text/plain": [
              "     id  case_id  party_number   party_type  at_fault  insurance_premium  \\\n",
              "47  383  3987616             2  road bumper         0                NaN   \n",
              "52  419  3987677             1  road bumper         1                NaN   \n",
              "31  266  3984278             1   road signs         1               82.0   \n",
              "8    76  3899509             1  road bumper         0                NaN   \n",
              "19  222  3982945             1     building         1               47.0   \n",
              "\n",
              "           party_sobriety party_drug_physical  cellphone_in_use  \n",
              "47         not applicable      not applicable               0.0  \n",
              "52  had not been drinking                None               1.0  \n",
              "31     impairment unknown                   G               0.0  \n",
              "8   had not been drinking                None               0.0  \n",
              "19  had not been drinking                None               NaN  "
            ]
          },
          "execution_count": 7,
          "metadata": {},
          "output_type": "execute_result"
        }
      ],
      "source": [
        "query = '''\n",
        "SELECT *\n",
        "FROM parties\n",
        "LIMIT 100;\n",
        "'''\n",
        "\n",
        "parties = pd.read_sql_query(query, con=engine)\n",
        "parties.sample(5)"
      ]
    },
    {
      "cell_type": "markdown",
      "id": "b2cfd07f",
      "metadata": {
        "id": "b2cfd07f"
      },
      "source": [
        "Пробуем выгрузить все данные"
      ]
    },
    {
      "cell_type": "code",
      "execution_count": null,
      "id": "8011f6bc",
      "metadata": {
        "colab": {
          "base_uri": "https://localhost:8080/",
          "height": 321
        },
        "id": "8011f6bc",
        "outputId": "b06fad92-2a8e-48bc-baa7-bc0e1ed08a16",
        "scrolled": true
      },
      "outputs": [
        {
          "data": {
            "text/html": [
              "\n",
              "  <div id=\"df-502aa09d-3be0-4de0-9e92-7dc24a749b70\" class=\"colab-df-container\">\n",
              "    <div>\n",
              "<style scoped>\n",
              "    .dataframe tbody tr th:only-of-type {\n",
              "        vertical-align: middle;\n",
              "    }\n",
              "\n",
              "    .dataframe tbody tr th {\n",
              "        vertical-align: top;\n",
              "    }\n",
              "\n",
              "    .dataframe thead th {\n",
              "        text-align: right;\n",
              "    }\n",
              "</style>\n",
              "<table border=\"1\" class=\"dataframe\">\n",
              "  <thead>\n",
              "    <tr style=\"text-align: right;\">\n",
              "      <th></th>\n",
              "      <th>case_id</th>\n",
              "      <th>county_city_location</th>\n",
              "      <th>county_location</th>\n",
              "      <th>distance</th>\n",
              "      <th>direction</th>\n",
              "      <th>intersection</th>\n",
              "      <th>weather_1</th>\n",
              "      <th>location_type</th>\n",
              "      <th>collision_damage</th>\n",
              "      <th>party_count</th>\n",
              "      <th>...</th>\n",
              "      <th>vehicle_age</th>\n",
              "      <th>id</th>\n",
              "      <th>case_id</th>\n",
              "      <th>party_number</th>\n",
              "      <th>party_type</th>\n",
              "      <th>at_fault</th>\n",
              "      <th>insurance_premium</th>\n",
              "      <th>party_sobriety</th>\n",
              "      <th>party_drug_physical</th>\n",
              "      <th>cellphone_in_use</th>\n",
              "    </tr>\n",
              "  </thead>\n",
              "  <tbody>\n",
              "    <tr>\n",
              "      <th>74</th>\n",
              "      <td>4169339</td>\n",
              "      <td>3710</td>\n",
              "      <td>san diego</td>\n",
              "      <td>600.0</td>\n",
              "      <td>south</td>\n",
              "      <td>0</td>\n",
              "      <td>clear</td>\n",
              "      <td>None</td>\n",
              "      <td>scratch</td>\n",
              "      <td>2</td>\n",
              "      <td>...</td>\n",
              "      <td>2.0</td>\n",
              "      <td>155318</td>\n",
              "      <td>4169339</td>\n",
              "      <td>2</td>\n",
              "      <td>road signs</td>\n",
              "      <td>0</td>\n",
              "      <td>15.0</td>\n",
              "      <td>had not been drinking</td>\n",
              "      <td>None</td>\n",
              "      <td>0.0</td>\n",
              "    </tr>\n",
              "    <tr>\n",
              "      <th>53</th>\n",
              "      <td>4141553</td>\n",
              "      <td>4806</td>\n",
              "      <td>solano</td>\n",
              "      <td>252.0</td>\n",
              "      <td>west</td>\n",
              "      <td>0</td>\n",
              "      <td>None</td>\n",
              "      <td>None</td>\n",
              "      <td>small damage</td>\n",
              "      <td>4</td>\n",
              "      <td>...</td>\n",
              "      <td>3.0</td>\n",
              "      <td>119959</td>\n",
              "      <td>4141553</td>\n",
              "      <td>4</td>\n",
              "      <td>road bumper</td>\n",
              "      <td>0</td>\n",
              "      <td>NaN</td>\n",
              "      <td>not applicable</td>\n",
              "      <td>not applicable</td>\n",
              "      <td>0.0</td>\n",
              "    </tr>\n",
              "    <tr>\n",
              "      <th>64</th>\n",
              "      <td>4167714</td>\n",
              "      <td>4113</td>\n",
              "      <td>san mateo</td>\n",
              "      <td>0.0</td>\n",
              "      <td>None</td>\n",
              "      <td>1</td>\n",
              "      <td>clear</td>\n",
              "      <td>None</td>\n",
              "      <td>scratch</td>\n",
              "      <td>2</td>\n",
              "      <td>...</td>\n",
              "      <td>1.0</td>\n",
              "      <td>152866</td>\n",
              "      <td>4167714</td>\n",
              "      <td>1</td>\n",
              "      <td>building</td>\n",
              "      <td>1</td>\n",
              "      <td>21.0</td>\n",
              "      <td>had not been drinking</td>\n",
              "      <td>None</td>\n",
              "      <td>0.0</td>\n",
              "    </tr>\n",
              "    <tr>\n",
              "      <th>24</th>\n",
              "      <td>4096289</td>\n",
              "      <td>0106</td>\n",
              "      <td>alameda</td>\n",
              "      <td>0.0</td>\n",
              "      <td>None</td>\n",
              "      <td>1</td>\n",
              "      <td>cloudy</td>\n",
              "      <td>None</td>\n",
              "      <td>middle damage</td>\n",
              "      <td>6</td>\n",
              "      <td>...</td>\n",
              "      <td>6.0</td>\n",
              "      <td>56100</td>\n",
              "      <td>4096289</td>\n",
              "      <td>5</td>\n",
              "      <td>road bumper</td>\n",
              "      <td>0</td>\n",
              "      <td>NaN</td>\n",
              "      <td>not applicable</td>\n",
              "      <td>not applicable</td>\n",
              "      <td>NaN</td>\n",
              "    </tr>\n",
              "    <tr>\n",
              "      <th>55</th>\n",
              "      <td>4163557</td>\n",
              "      <td>0708</td>\n",
              "      <td>contra costa</td>\n",
              "      <td>650.0</td>\n",
              "      <td>east</td>\n",
              "      <td>0</td>\n",
              "      <td>clear</td>\n",
              "      <td>None</td>\n",
              "      <td>scratch</td>\n",
              "      <td>2</td>\n",
              "      <td>...</td>\n",
              "      <td>7.0</td>\n",
              "      <td>145864</td>\n",
              "      <td>4163557</td>\n",
              "      <td>2</td>\n",
              "      <td>building</td>\n",
              "      <td>0</td>\n",
              "      <td>49.0</td>\n",
              "      <td>had been drinking, impairment unknown</td>\n",
              "      <td>None</td>\n",
              "      <td>0.0</td>\n",
              "    </tr>\n",
              "  </tbody>\n",
              "</table>\n",
              "<p>5 rows × 37 columns</p>\n",
              "</div>\n",
              "    <div class=\"colab-df-buttons\">\n",
              "\n",
              "  <div class=\"colab-df-container\">\n",
              "    <button class=\"colab-df-convert\" onclick=\"convertToInteractive('df-502aa09d-3be0-4de0-9e92-7dc24a749b70')\"\n",
              "            title=\"Convert this dataframe to an interactive table.\"\n",
              "            style=\"display:none;\">\n",
              "\n",
              "  <svg xmlns=\"http://www.w3.org/2000/svg\" height=\"24px\" viewBox=\"0 -960 960 960\">\n",
              "    <path d=\"M120-120v-720h720v720H120Zm60-500h600v-160H180v160Zm220 220h160v-160H400v160Zm0 220h160v-160H400v160ZM180-400h160v-160H180v160Zm440 0h160v-160H620v160ZM180-180h160v-160H180v160Zm440 0h160v-160H620v160Z\"/>\n",
              "  </svg>\n",
              "    </button>\n",
              "\n",
              "  <style>\n",
              "    .colab-df-container {\n",
              "      display:flex;\n",
              "      gap: 12px;\n",
              "    }\n",
              "\n",
              "    .colab-df-convert {\n",
              "      background-color: #E8F0FE;\n",
              "      border: none;\n",
              "      border-radius: 50%;\n",
              "      cursor: pointer;\n",
              "      display: none;\n",
              "      fill: #1967D2;\n",
              "      height: 32px;\n",
              "      padding: 0 0 0 0;\n",
              "      width: 32px;\n",
              "    }\n",
              "\n",
              "    .colab-df-convert:hover {\n",
              "      background-color: #E2EBFA;\n",
              "      box-shadow: 0px 1px 2px rgba(60, 64, 67, 0.3), 0px 1px 3px 1px rgba(60, 64, 67, 0.15);\n",
              "      fill: #174EA6;\n",
              "    }\n",
              "\n",
              "    .colab-df-buttons div {\n",
              "      margin-bottom: 4px;\n",
              "    }\n",
              "\n",
              "    [theme=dark] .colab-df-convert {\n",
              "      background-color: #3B4455;\n",
              "      fill: #D2E3FC;\n",
              "    }\n",
              "\n",
              "    [theme=dark] .colab-df-convert:hover {\n",
              "      background-color: #434B5C;\n",
              "      box-shadow: 0px 1px 3px 1px rgba(0, 0, 0, 0.15);\n",
              "      filter: drop-shadow(0px 1px 2px rgba(0, 0, 0, 0.3));\n",
              "      fill: #FFFFFF;\n",
              "    }\n",
              "  </style>\n",
              "\n",
              "    <script>\n",
              "      const buttonEl =\n",
              "        document.querySelector('#df-502aa09d-3be0-4de0-9e92-7dc24a749b70 button.colab-df-convert');\n",
              "      buttonEl.style.display =\n",
              "        google.colab.kernel.accessAllowed ? 'block' : 'none';\n",
              "\n",
              "      async function convertToInteractive(key) {\n",
              "        const element = document.querySelector('#df-502aa09d-3be0-4de0-9e92-7dc24a749b70');\n",
              "        const dataTable =\n",
              "          await google.colab.kernel.invokeFunction('convertToInteractive',\n",
              "                                                    [key], {});\n",
              "        if (!dataTable) return;\n",
              "\n",
              "        const docLinkHtml = 'Like what you see? Visit the ' +\n",
              "          '<a target=\"_blank\" href=https://colab.research.google.com/notebooks/data_table.ipynb>data table notebook</a>'\n",
              "          + ' to learn more about interactive tables.';\n",
              "        element.innerHTML = '';\n",
              "        dataTable['output_type'] = 'display_data';\n",
              "        await google.colab.output.renderOutput(dataTable, element);\n",
              "        const docLink = document.createElement('div');\n",
              "        docLink.innerHTML = docLinkHtml;\n",
              "        element.appendChild(docLink);\n",
              "      }\n",
              "    </script>\n",
              "  </div>\n",
              "\n",
              "\n",
              "<div id=\"df-15591aa0-956c-4cf3-9ef1-32825aeba622\">\n",
              "  <button class=\"colab-df-quickchart\" onclick=\"quickchart('df-15591aa0-956c-4cf3-9ef1-32825aeba622')\"\n",
              "            title=\"Suggest charts\"\n",
              "            style=\"display:none;\">\n",
              "\n",
              "<svg xmlns=\"http://www.w3.org/2000/svg\" height=\"24px\"viewBox=\"0 0 24 24\"\n",
              "     width=\"24px\">\n",
              "    <g>\n",
              "        <path d=\"M19 3H5c-1.1 0-2 .9-2 2v14c0 1.1.9 2 2 2h14c1.1 0 2-.9 2-2V5c0-1.1-.9-2-2-2zM9 17H7v-7h2v7zm4 0h-2V7h2v10zm4 0h-2v-4h2v4z\"/>\n",
              "    </g>\n",
              "</svg>\n",
              "  </button>\n",
              "\n",
              "<style>\n",
              "  .colab-df-quickchart {\n",
              "      --bg-color: #E8F0FE;\n",
              "      --fill-color: #1967D2;\n",
              "      --hover-bg-color: #E2EBFA;\n",
              "      --hover-fill-color: #174EA6;\n",
              "      --disabled-fill-color: #AAA;\n",
              "      --disabled-bg-color: #DDD;\n",
              "  }\n",
              "\n",
              "  [theme=dark] .colab-df-quickchart {\n",
              "      --bg-color: #3B4455;\n",
              "      --fill-color: #D2E3FC;\n",
              "      --hover-bg-color: #434B5C;\n",
              "      --hover-fill-color: #FFFFFF;\n",
              "      --disabled-bg-color: #3B4455;\n",
              "      --disabled-fill-color: #666;\n",
              "  }\n",
              "\n",
              "  .colab-df-quickchart {\n",
              "    background-color: var(--bg-color);\n",
              "    border: none;\n",
              "    border-radius: 50%;\n",
              "    cursor: pointer;\n",
              "    display: none;\n",
              "    fill: var(--fill-color);\n",
              "    height: 32px;\n",
              "    padding: 0;\n",
              "    width: 32px;\n",
              "  }\n",
              "\n",
              "  .colab-df-quickchart:hover {\n",
              "    background-color: var(--hover-bg-color);\n",
              "    box-shadow: 0 1px 2px rgba(60, 64, 67, 0.3), 0 1px 3px 1px rgba(60, 64, 67, 0.15);\n",
              "    fill: var(--button-hover-fill-color);\n",
              "  }\n",
              "\n",
              "  .colab-df-quickchart-complete:disabled,\n",
              "  .colab-df-quickchart-complete:disabled:hover {\n",
              "    background-color: var(--disabled-bg-color);\n",
              "    fill: var(--disabled-fill-color);\n",
              "    box-shadow: none;\n",
              "  }\n",
              "\n",
              "  .colab-df-spinner {\n",
              "    border: 2px solid var(--fill-color);\n",
              "    border-color: transparent;\n",
              "    border-bottom-color: var(--fill-color);\n",
              "    animation:\n",
              "      spin 1s steps(1) infinite;\n",
              "  }\n",
              "\n",
              "  @keyframes spin {\n",
              "    0% {\n",
              "      border-color: transparent;\n",
              "      border-bottom-color: var(--fill-color);\n",
              "      border-left-color: var(--fill-color);\n",
              "    }\n",
              "    20% {\n",
              "      border-color: transparent;\n",
              "      border-left-color: var(--fill-color);\n",
              "      border-top-color: var(--fill-color);\n",
              "    }\n",
              "    30% {\n",
              "      border-color: transparent;\n",
              "      border-left-color: var(--fill-color);\n",
              "      border-top-color: var(--fill-color);\n",
              "      border-right-color: var(--fill-color);\n",
              "    }\n",
              "    40% {\n",
              "      border-color: transparent;\n",
              "      border-right-color: var(--fill-color);\n",
              "      border-top-color: var(--fill-color);\n",
              "    }\n",
              "    60% {\n",
              "      border-color: transparent;\n",
              "      border-right-color: var(--fill-color);\n",
              "    }\n",
              "    80% {\n",
              "      border-color: transparent;\n",
              "      border-right-color: var(--fill-color);\n",
              "      border-bottom-color: var(--fill-color);\n",
              "    }\n",
              "    90% {\n",
              "      border-color: transparent;\n",
              "      border-bottom-color: var(--fill-color);\n",
              "    }\n",
              "  }\n",
              "</style>\n",
              "\n",
              "  <script>\n",
              "    async function quickchart(key) {\n",
              "      const quickchartButtonEl =\n",
              "        document.querySelector('#' + key + ' button');\n",
              "      quickchartButtonEl.disabled = true;  // To prevent multiple clicks.\n",
              "      quickchartButtonEl.classList.add('colab-df-spinner');\n",
              "      try {\n",
              "        const charts = await google.colab.kernel.invokeFunction(\n",
              "            'suggestCharts', [key], {});\n",
              "      } catch (error) {\n",
              "        console.error('Error during call to suggestCharts:', error);\n",
              "      }\n",
              "      quickchartButtonEl.classList.remove('colab-df-spinner');\n",
              "      quickchartButtonEl.classList.add('colab-df-quickchart-complete');\n",
              "    }\n",
              "    (() => {\n",
              "      let quickchartButtonEl =\n",
              "        document.querySelector('#df-15591aa0-956c-4cf3-9ef1-32825aeba622 button');\n",
              "      quickchartButtonEl.style.display =\n",
              "        google.colab.kernel.accessAllowed ? 'block' : 'none';\n",
              "    })();\n",
              "  </script>\n",
              "</div>\n",
              "    </div>\n",
              "  </div>\n"
            ],
            "text/plain": [
              "    case_id county_city_location county_location  distance direction  \\\n",
              "74  4169339                 3710       san diego     600.0     south   \n",
              "53  4141553                 4806          solano     252.0      west   \n",
              "64  4167714                 4113       san mateo       0.0      None   \n",
              "24  4096289                 0106         alameda       0.0      None   \n",
              "55  4163557                 0708    contra costa     650.0      east   \n",
              "\n",
              "    intersection weather_1 location_type collision_damage  party_count  ...  \\\n",
              "74             0     clear          None          scratch            2  ...   \n",
              "53             0      None          None     small damage            4  ...   \n",
              "64             1     clear          None          scratch            2  ...   \n",
              "24             1    cloudy          None    middle damage            6  ...   \n",
              "55             0     clear          None          scratch            2  ...   \n",
              "\n",
              "   vehicle_age      id  case_id party_number   party_type at_fault  \\\n",
              "74         2.0  155318  4169339            2   road signs        0   \n",
              "53         3.0  119959  4141553            4  road bumper        0   \n",
              "64         1.0  152866  4167714            1     building        1   \n",
              "24         6.0   56100  4096289            5  road bumper        0   \n",
              "55         7.0  145864  4163557            2     building        0   \n",
              "\n",
              "   insurance_premium                         party_sobriety  \\\n",
              "74              15.0                  had not been drinking   \n",
              "53               NaN                         not applicable   \n",
              "64              21.0                  had not been drinking   \n",
              "24               NaN                         not applicable   \n",
              "55              49.0  had been drinking, impairment unknown   \n",
              "\n",
              "   party_drug_physical cellphone_in_use  \n",
              "74                None              0.0  \n",
              "53      not applicable              0.0  \n",
              "64                None              0.0  \n",
              "24      not applicable              NaN  \n",
              "55                None              0.0  \n",
              "\n",
              "[5 rows x 37 columns]"
            ]
          },
          "execution_count": 8,
          "metadata": {},
          "output_type": "execute_result"
        }
      ],
      "source": [
        "query = '''\n",
        "SELECT *\n",
        "FROM collisions AS c\n",
        "JOIN case_ids as ci on c.case_id = ci.case_id\n",
        "JOIN vehicles as v on c.case_id = v.case_id\n",
        "JOIN parties as p on c.case_id = p.case_id\n",
        "LIMIT 100;\n",
        "'''\n",
        "\n",
        "df = pd.read_sql_query(query, con=engine)\n",
        "df.sample(5)"
      ]
    },
    {
      "cell_type": "markdown",
      "id": "5b8b258c",
      "metadata": {
        "id": "5b8b258c"
      },
      "source": [
        "**Вывод:** Все данные на месте"
      ]
    },
    {
      "cell_type": "markdown",
      "id": "f8455379",
      "metadata": {
        "id": "f8455379"
      },
      "source": [
        "# Проведем статистический анализ факторов ДТП"
      ]
    },
    {
      "cell_type": "markdown",
      "id": "2e683eac",
      "metadata": {
        "id": "2e683eac"
      },
      "source": [
        "## Выясним, в какие месяцы происходит наибольшее количество аварий."
      ]
    },
    {
      "cell_type": "markdown",
      "id": "d98b566c",
      "metadata": {
        "id": "d98b566c"
      },
      "source": [
        "Проанализируем весь период наблюдений (таблица collisions):\n",
        "- Создадим sql-запрос;\n",
        "- Построим график;"
      ]
    },
    {
      "cell_type": "markdown",
      "id": "25d5e38d",
      "metadata": {
        "id": "25d5e38d"
      },
      "source": [
        "Посмотрим распределение по годам."
      ]
    },
    {
      "cell_type": "code",
      "execution_count": null,
      "id": "c56556f1",
      "metadata": {
        "colab": {
          "base_uri": "https://localhost:8080/",
          "height": 235
        },
        "id": "c56556f1",
        "outputId": "45e0e136-4f50-40df-ccd5-c20d2c0a45b6"
      },
      "outputs": [
        {
          "data": {
            "text/html": [
              "\n",
              "  <div id=\"df-cda69848-8381-4cc5-9276-bef2cc4c6fcd\" class=\"colab-df-container\">\n",
              "    <div>\n",
              "<style scoped>\n",
              "    .dataframe tbody tr th:only-of-type {\n",
              "        vertical-align: middle;\n",
              "    }\n",
              "\n",
              "    .dataframe tbody tr th {\n",
              "        vertical-align: top;\n",
              "    }\n",
              "\n",
              "    .dataframe thead th {\n",
              "        text-align: right;\n",
              "    }\n",
              "</style>\n",
              "<table border=\"1\" class=\"dataframe\">\n",
              "  <thead>\n",
              "    <tr style=\"text-align: right;\">\n",
              "      <th></th>\n",
              "      <th>year</th>\n",
              "      <th>count</th>\n",
              "    </tr>\n",
              "  </thead>\n",
              "  <tbody>\n",
              "    <tr>\n",
              "      <th>0</th>\n",
              "      <td>2009.0</td>\n",
              "      <td>426228</td>\n",
              "    </tr>\n",
              "    <tr>\n",
              "      <th>1</th>\n",
              "      <td>2010.0</td>\n",
              "      <td>416490</td>\n",
              "    </tr>\n",
              "    <tr>\n",
              "      <th>2</th>\n",
              "      <td>2011.0</td>\n",
              "      <td>402428</td>\n",
              "    </tr>\n",
              "    <tr>\n",
              "      <th>3</th>\n",
              "      <td>2012.0</td>\n",
              "      <td>154547</td>\n",
              "    </tr>\n",
              "    <tr>\n",
              "      <th>4</th>\n",
              "      <td>2013.0</td>\n",
              "      <td>305</td>\n",
              "    </tr>\n",
              "    <tr>\n",
              "      <th>5</th>\n",
              "      <td>2020.0</td>\n",
              "      <td>2</td>\n",
              "    </tr>\n",
              "  </tbody>\n",
              "</table>\n",
              "</div>\n",
              "    <div class=\"colab-df-buttons\">\n",
              "\n",
              "  <div class=\"colab-df-container\">\n",
              "    <button class=\"colab-df-convert\" onclick=\"convertToInteractive('df-cda69848-8381-4cc5-9276-bef2cc4c6fcd')\"\n",
              "            title=\"Convert this dataframe to an interactive table.\"\n",
              "            style=\"display:none;\">\n",
              "\n",
              "  <svg xmlns=\"http://www.w3.org/2000/svg\" height=\"24px\" viewBox=\"0 -960 960 960\">\n",
              "    <path d=\"M120-120v-720h720v720H120Zm60-500h600v-160H180v160Zm220 220h160v-160H400v160Zm0 220h160v-160H400v160ZM180-400h160v-160H180v160Zm440 0h160v-160H620v160ZM180-180h160v-160H180v160Zm440 0h160v-160H620v160Z\"/>\n",
              "  </svg>\n",
              "    </button>\n",
              "\n",
              "  <style>\n",
              "    .colab-df-container {\n",
              "      display:flex;\n",
              "      gap: 12px;\n",
              "    }\n",
              "\n",
              "    .colab-df-convert {\n",
              "      background-color: #E8F0FE;\n",
              "      border: none;\n",
              "      border-radius: 50%;\n",
              "      cursor: pointer;\n",
              "      display: none;\n",
              "      fill: #1967D2;\n",
              "      height: 32px;\n",
              "      padding: 0 0 0 0;\n",
              "      width: 32px;\n",
              "    }\n",
              "\n",
              "    .colab-df-convert:hover {\n",
              "      background-color: #E2EBFA;\n",
              "      box-shadow: 0px 1px 2px rgba(60, 64, 67, 0.3), 0px 1px 3px 1px rgba(60, 64, 67, 0.15);\n",
              "      fill: #174EA6;\n",
              "    }\n",
              "\n",
              "    .colab-df-buttons div {\n",
              "      margin-bottom: 4px;\n",
              "    }\n",
              "\n",
              "    [theme=dark] .colab-df-convert {\n",
              "      background-color: #3B4455;\n",
              "      fill: #D2E3FC;\n",
              "    }\n",
              "\n",
              "    [theme=dark] .colab-df-convert:hover {\n",
              "      background-color: #434B5C;\n",
              "      box-shadow: 0px 1px 3px 1px rgba(0, 0, 0, 0.15);\n",
              "      filter: drop-shadow(0px 1px 2px rgba(0, 0, 0, 0.3));\n",
              "      fill: #FFFFFF;\n",
              "    }\n",
              "  </style>\n",
              "\n",
              "    <script>\n",
              "      const buttonEl =\n",
              "        document.querySelector('#df-cda69848-8381-4cc5-9276-bef2cc4c6fcd button.colab-df-convert');\n",
              "      buttonEl.style.display =\n",
              "        google.colab.kernel.accessAllowed ? 'block' : 'none';\n",
              "\n",
              "      async function convertToInteractive(key) {\n",
              "        const element = document.querySelector('#df-cda69848-8381-4cc5-9276-bef2cc4c6fcd');\n",
              "        const dataTable =\n",
              "          await google.colab.kernel.invokeFunction('convertToInteractive',\n",
              "                                                    [key], {});\n",
              "        if (!dataTable) return;\n",
              "\n",
              "        const docLinkHtml = 'Like what you see? Visit the ' +\n",
              "          '<a target=\"_blank\" href=https://colab.research.google.com/notebooks/data_table.ipynb>data table notebook</a>'\n",
              "          + ' to learn more about interactive tables.';\n",
              "        element.innerHTML = '';\n",
              "        dataTable['output_type'] = 'display_data';\n",
              "        await google.colab.output.renderOutput(dataTable, element);\n",
              "        const docLink = document.createElement('div');\n",
              "        docLink.innerHTML = docLinkHtml;\n",
              "        element.appendChild(docLink);\n",
              "      }\n",
              "    </script>\n",
              "  </div>\n",
              "\n",
              "\n",
              "<div id=\"df-066deffd-5657-4181-ba7b-2774d155a58e\">\n",
              "  <button class=\"colab-df-quickchart\" onclick=\"quickchart('df-066deffd-5657-4181-ba7b-2774d155a58e')\"\n",
              "            title=\"Suggest charts\"\n",
              "            style=\"display:none;\">\n",
              "\n",
              "<svg xmlns=\"http://www.w3.org/2000/svg\" height=\"24px\"viewBox=\"0 0 24 24\"\n",
              "     width=\"24px\">\n",
              "    <g>\n",
              "        <path d=\"M19 3H5c-1.1 0-2 .9-2 2v14c0 1.1.9 2 2 2h14c1.1 0 2-.9 2-2V5c0-1.1-.9-2-2-2zM9 17H7v-7h2v7zm4 0h-2V7h2v10zm4 0h-2v-4h2v4z\"/>\n",
              "    </g>\n",
              "</svg>\n",
              "  </button>\n",
              "\n",
              "<style>\n",
              "  .colab-df-quickchart {\n",
              "      --bg-color: #E8F0FE;\n",
              "      --fill-color: #1967D2;\n",
              "      --hover-bg-color: #E2EBFA;\n",
              "      --hover-fill-color: #174EA6;\n",
              "      --disabled-fill-color: #AAA;\n",
              "      --disabled-bg-color: #DDD;\n",
              "  }\n",
              "\n",
              "  [theme=dark] .colab-df-quickchart {\n",
              "      --bg-color: #3B4455;\n",
              "      --fill-color: #D2E3FC;\n",
              "      --hover-bg-color: #434B5C;\n",
              "      --hover-fill-color: #FFFFFF;\n",
              "      --disabled-bg-color: #3B4455;\n",
              "      --disabled-fill-color: #666;\n",
              "  }\n",
              "\n",
              "  .colab-df-quickchart {\n",
              "    background-color: var(--bg-color);\n",
              "    border: none;\n",
              "    border-radius: 50%;\n",
              "    cursor: pointer;\n",
              "    display: none;\n",
              "    fill: var(--fill-color);\n",
              "    height: 32px;\n",
              "    padding: 0;\n",
              "    width: 32px;\n",
              "  }\n",
              "\n",
              "  .colab-df-quickchart:hover {\n",
              "    background-color: var(--hover-bg-color);\n",
              "    box-shadow: 0 1px 2px rgba(60, 64, 67, 0.3), 0 1px 3px 1px rgba(60, 64, 67, 0.15);\n",
              "    fill: var(--button-hover-fill-color);\n",
              "  }\n",
              "\n",
              "  .colab-df-quickchart-complete:disabled,\n",
              "  .colab-df-quickchart-complete:disabled:hover {\n",
              "    background-color: var(--disabled-bg-color);\n",
              "    fill: var(--disabled-fill-color);\n",
              "    box-shadow: none;\n",
              "  }\n",
              "\n",
              "  .colab-df-spinner {\n",
              "    border: 2px solid var(--fill-color);\n",
              "    border-color: transparent;\n",
              "    border-bottom-color: var(--fill-color);\n",
              "    animation:\n",
              "      spin 1s steps(1) infinite;\n",
              "  }\n",
              "\n",
              "  @keyframes spin {\n",
              "    0% {\n",
              "      border-color: transparent;\n",
              "      border-bottom-color: var(--fill-color);\n",
              "      border-left-color: var(--fill-color);\n",
              "    }\n",
              "    20% {\n",
              "      border-color: transparent;\n",
              "      border-left-color: var(--fill-color);\n",
              "      border-top-color: var(--fill-color);\n",
              "    }\n",
              "    30% {\n",
              "      border-color: transparent;\n",
              "      border-left-color: var(--fill-color);\n",
              "      border-top-color: var(--fill-color);\n",
              "      border-right-color: var(--fill-color);\n",
              "    }\n",
              "    40% {\n",
              "      border-color: transparent;\n",
              "      border-right-color: var(--fill-color);\n",
              "      border-top-color: var(--fill-color);\n",
              "    }\n",
              "    60% {\n",
              "      border-color: transparent;\n",
              "      border-right-color: var(--fill-color);\n",
              "    }\n",
              "    80% {\n",
              "      border-color: transparent;\n",
              "      border-right-color: var(--fill-color);\n",
              "      border-bottom-color: var(--fill-color);\n",
              "    }\n",
              "    90% {\n",
              "      border-color: transparent;\n",
              "      border-bottom-color: var(--fill-color);\n",
              "    }\n",
              "  }\n",
              "</style>\n",
              "\n",
              "  <script>\n",
              "    async function quickchart(key) {\n",
              "      const quickchartButtonEl =\n",
              "        document.querySelector('#' + key + ' button');\n",
              "      quickchartButtonEl.disabled = true;  // To prevent multiple clicks.\n",
              "      quickchartButtonEl.classList.add('colab-df-spinner');\n",
              "      try {\n",
              "        const charts = await google.colab.kernel.invokeFunction(\n",
              "            'suggestCharts', [key], {});\n",
              "      } catch (error) {\n",
              "        console.error('Error during call to suggestCharts:', error);\n",
              "      }\n",
              "      quickchartButtonEl.classList.remove('colab-df-spinner');\n",
              "      quickchartButtonEl.classList.add('colab-df-quickchart-complete');\n",
              "    }\n",
              "    (() => {\n",
              "      let quickchartButtonEl =\n",
              "        document.querySelector('#df-066deffd-5657-4181-ba7b-2774d155a58e button');\n",
              "      quickchartButtonEl.style.display =\n",
              "        google.colab.kernel.accessAllowed ? 'block' : 'none';\n",
              "    })();\n",
              "  </script>\n",
              "</div>\n",
              "    </div>\n",
              "  </div>\n"
            ],
            "text/plain": [
              "     year   count\n",
              "0  2009.0  426228\n",
              "1  2010.0  416490\n",
              "2  2011.0  402428\n",
              "3  2012.0  154547\n",
              "4  2013.0     305\n",
              "5  2020.0       2"
            ]
          },
          "execution_count": 13,
          "metadata": {},
          "output_type": "execute_result"
        }
      ],
      "source": [
        "query = '''\n",
        "SELECT EXTRACT (YEAR FROM collision_date) as year,\n",
        "       COUNT(*) as count\n",
        "FROM collisions\n",
        "GROUP BY EXTRACT (YEAR FROM collision_date)\n",
        "'''\n",
        "\n",
        "collisions = pd.read_sql_query(query, con=engine)\n",
        "collisions"
      ]
    },
    {
      "cell_type": "markdown",
      "id": "d8647210",
      "metadata": {
        "id": "d8647210"
      },
      "source": [
        "После 2012 года данных очень мало, поэтому распредление по месяцам посмотрим до 2012 года."
      ]
    },
    {
      "cell_type": "code",
      "execution_count": null,
      "id": "b2e8a272",
      "metadata": {
        "colab": {
          "base_uri": "https://localhost:8080/",
          "height": 421
        },
        "id": "b2e8a272",
        "outputId": "1996ad24-8b24-476b-804a-d2cae11f3fe7",
        "scrolled": false
      },
      "outputs": [
        {
          "data": {
            "text/html": [
              "\n",
              "  <div id=\"df-782aa025-b2f0-476c-8450-779311b3d6ad\" class=\"colab-df-container\">\n",
              "    <div>\n",
              "<style scoped>\n",
              "    .dataframe tbody tr th:only-of-type {\n",
              "        vertical-align: middle;\n",
              "    }\n",
              "\n",
              "    .dataframe tbody tr th {\n",
              "        vertical-align: top;\n",
              "    }\n",
              "\n",
              "    .dataframe thead th {\n",
              "        text-align: right;\n",
              "    }\n",
              "</style>\n",
              "<table border=\"1\" class=\"dataframe\">\n",
              "  <thead>\n",
              "    <tr style=\"text-align: right;\">\n",
              "      <th></th>\n",
              "      <th>month</th>\n",
              "      <th>count</th>\n",
              "    </tr>\n",
              "  </thead>\n",
              "  <tbody>\n",
              "    <tr>\n",
              "      <th>0</th>\n",
              "      <td>1.0</td>\n",
              "      <td>99880</td>\n",
              "    </tr>\n",
              "    <tr>\n",
              "      <th>1</th>\n",
              "      <td>2.0</td>\n",
              "      <td>98373</td>\n",
              "    </tr>\n",
              "    <tr>\n",
              "      <th>2</th>\n",
              "      <td>3.0</td>\n",
              "      <td>107036</td>\n",
              "    </tr>\n",
              "    <tr>\n",
              "      <th>3</th>\n",
              "      <td>4.0</td>\n",
              "      <td>101032</td>\n",
              "    </tr>\n",
              "    <tr>\n",
              "      <th>4</th>\n",
              "      <td>5.0</td>\n",
              "      <td>105148</td>\n",
              "    </tr>\n",
              "    <tr>\n",
              "      <th>5</th>\n",
              "      <td>6.0</td>\n",
              "      <td>99531</td>\n",
              "    </tr>\n",
              "    <tr>\n",
              "      <th>6</th>\n",
              "      <td>7.0</td>\n",
              "      <td>101835</td>\n",
              "    </tr>\n",
              "    <tr>\n",
              "      <th>7</th>\n",
              "      <td>8.0</td>\n",
              "      <td>103467</td>\n",
              "    </tr>\n",
              "    <tr>\n",
              "      <th>8</th>\n",
              "      <td>9.0</td>\n",
              "      <td>104649</td>\n",
              "    </tr>\n",
              "    <tr>\n",
              "      <th>9</th>\n",
              "      <td>10.0</td>\n",
              "      <td>111933</td>\n",
              "    </tr>\n",
              "    <tr>\n",
              "      <th>10</th>\n",
              "      <td>11.0</td>\n",
              "      <td>104517</td>\n",
              "    </tr>\n",
              "    <tr>\n",
              "      <th>11</th>\n",
              "      <td>12.0</td>\n",
              "      <td>107745</td>\n",
              "    </tr>\n",
              "  </tbody>\n",
              "</table>\n",
              "</div>\n",
              "    <div class=\"colab-df-buttons\">\n",
              "\n",
              "  <div class=\"colab-df-container\">\n",
              "    <button class=\"colab-df-convert\" onclick=\"convertToInteractive('df-782aa025-b2f0-476c-8450-779311b3d6ad')\"\n",
              "            title=\"Convert this dataframe to an interactive table.\"\n",
              "            style=\"display:none;\">\n",
              "\n",
              "  <svg xmlns=\"http://www.w3.org/2000/svg\" height=\"24px\" viewBox=\"0 -960 960 960\">\n",
              "    <path d=\"M120-120v-720h720v720H120Zm60-500h600v-160H180v160Zm220 220h160v-160H400v160Zm0 220h160v-160H400v160ZM180-400h160v-160H180v160Zm440 0h160v-160H620v160ZM180-180h160v-160H180v160Zm440 0h160v-160H620v160Z\"/>\n",
              "  </svg>\n",
              "    </button>\n",
              "\n",
              "  <style>\n",
              "    .colab-df-container {\n",
              "      display:flex;\n",
              "      gap: 12px;\n",
              "    }\n",
              "\n",
              "    .colab-df-convert {\n",
              "      background-color: #E8F0FE;\n",
              "      border: none;\n",
              "      border-radius: 50%;\n",
              "      cursor: pointer;\n",
              "      display: none;\n",
              "      fill: #1967D2;\n",
              "      height: 32px;\n",
              "      padding: 0 0 0 0;\n",
              "      width: 32px;\n",
              "    }\n",
              "\n",
              "    .colab-df-convert:hover {\n",
              "      background-color: #E2EBFA;\n",
              "      box-shadow: 0px 1px 2px rgba(60, 64, 67, 0.3), 0px 1px 3px 1px rgba(60, 64, 67, 0.15);\n",
              "      fill: #174EA6;\n",
              "    }\n",
              "\n",
              "    .colab-df-buttons div {\n",
              "      margin-bottom: 4px;\n",
              "    }\n",
              "\n",
              "    [theme=dark] .colab-df-convert {\n",
              "      background-color: #3B4455;\n",
              "      fill: #D2E3FC;\n",
              "    }\n",
              "\n",
              "    [theme=dark] .colab-df-convert:hover {\n",
              "      background-color: #434B5C;\n",
              "      box-shadow: 0px 1px 3px 1px rgba(0, 0, 0, 0.15);\n",
              "      filter: drop-shadow(0px 1px 2px rgba(0, 0, 0, 0.3));\n",
              "      fill: #FFFFFF;\n",
              "    }\n",
              "  </style>\n",
              "\n",
              "    <script>\n",
              "      const buttonEl =\n",
              "        document.querySelector('#df-782aa025-b2f0-476c-8450-779311b3d6ad button.colab-df-convert');\n",
              "      buttonEl.style.display =\n",
              "        google.colab.kernel.accessAllowed ? 'block' : 'none';\n",
              "\n",
              "      async function convertToInteractive(key) {\n",
              "        const element = document.querySelector('#df-782aa025-b2f0-476c-8450-779311b3d6ad');\n",
              "        const dataTable =\n",
              "          await google.colab.kernel.invokeFunction('convertToInteractive',\n",
              "                                                    [key], {});\n",
              "        if (!dataTable) return;\n",
              "\n",
              "        const docLinkHtml = 'Like what you see? Visit the ' +\n",
              "          '<a target=\"_blank\" href=https://colab.research.google.com/notebooks/data_table.ipynb>data table notebook</a>'\n",
              "          + ' to learn more about interactive tables.';\n",
              "        element.innerHTML = '';\n",
              "        dataTable['output_type'] = 'display_data';\n",
              "        await google.colab.output.renderOutput(dataTable, element);\n",
              "        const docLink = document.createElement('div');\n",
              "        docLink.innerHTML = docLinkHtml;\n",
              "        element.appendChild(docLink);\n",
              "      }\n",
              "    </script>\n",
              "  </div>\n",
              "\n",
              "\n",
              "<div id=\"df-e380720b-5299-419c-b3ae-b3ffa506db6d\">\n",
              "  <button class=\"colab-df-quickchart\" onclick=\"quickchart('df-e380720b-5299-419c-b3ae-b3ffa506db6d')\"\n",
              "            title=\"Suggest charts\"\n",
              "            style=\"display:none;\">\n",
              "\n",
              "<svg xmlns=\"http://www.w3.org/2000/svg\" height=\"24px\"viewBox=\"0 0 24 24\"\n",
              "     width=\"24px\">\n",
              "    <g>\n",
              "        <path d=\"M19 3H5c-1.1 0-2 .9-2 2v14c0 1.1.9 2 2 2h14c1.1 0 2-.9 2-2V5c0-1.1-.9-2-2-2zM9 17H7v-7h2v7zm4 0h-2V7h2v10zm4 0h-2v-4h2v4z\"/>\n",
              "    </g>\n",
              "</svg>\n",
              "  </button>\n",
              "\n",
              "<style>\n",
              "  .colab-df-quickchart {\n",
              "      --bg-color: #E8F0FE;\n",
              "      --fill-color: #1967D2;\n",
              "      --hover-bg-color: #E2EBFA;\n",
              "      --hover-fill-color: #174EA6;\n",
              "      --disabled-fill-color: #AAA;\n",
              "      --disabled-bg-color: #DDD;\n",
              "  }\n",
              "\n",
              "  [theme=dark] .colab-df-quickchart {\n",
              "      --bg-color: #3B4455;\n",
              "      --fill-color: #D2E3FC;\n",
              "      --hover-bg-color: #434B5C;\n",
              "      --hover-fill-color: #FFFFFF;\n",
              "      --disabled-bg-color: #3B4455;\n",
              "      --disabled-fill-color: #666;\n",
              "  }\n",
              "\n",
              "  .colab-df-quickchart {\n",
              "    background-color: var(--bg-color);\n",
              "    border: none;\n",
              "    border-radius: 50%;\n",
              "    cursor: pointer;\n",
              "    display: none;\n",
              "    fill: var(--fill-color);\n",
              "    height: 32px;\n",
              "    padding: 0;\n",
              "    width: 32px;\n",
              "  }\n",
              "\n",
              "  .colab-df-quickchart:hover {\n",
              "    background-color: var(--hover-bg-color);\n",
              "    box-shadow: 0 1px 2px rgba(60, 64, 67, 0.3), 0 1px 3px 1px rgba(60, 64, 67, 0.15);\n",
              "    fill: var(--button-hover-fill-color);\n",
              "  }\n",
              "\n",
              "  .colab-df-quickchart-complete:disabled,\n",
              "  .colab-df-quickchart-complete:disabled:hover {\n",
              "    background-color: var(--disabled-bg-color);\n",
              "    fill: var(--disabled-fill-color);\n",
              "    box-shadow: none;\n",
              "  }\n",
              "\n",
              "  .colab-df-spinner {\n",
              "    border: 2px solid var(--fill-color);\n",
              "    border-color: transparent;\n",
              "    border-bottom-color: var(--fill-color);\n",
              "    animation:\n",
              "      spin 1s steps(1) infinite;\n",
              "  }\n",
              "\n",
              "  @keyframes spin {\n",
              "    0% {\n",
              "      border-color: transparent;\n",
              "      border-bottom-color: var(--fill-color);\n",
              "      border-left-color: var(--fill-color);\n",
              "    }\n",
              "    20% {\n",
              "      border-color: transparent;\n",
              "      border-left-color: var(--fill-color);\n",
              "      border-top-color: var(--fill-color);\n",
              "    }\n",
              "    30% {\n",
              "      border-color: transparent;\n",
              "      border-left-color: var(--fill-color);\n",
              "      border-top-color: var(--fill-color);\n",
              "      border-right-color: var(--fill-color);\n",
              "    }\n",
              "    40% {\n",
              "      border-color: transparent;\n",
              "      border-right-color: var(--fill-color);\n",
              "      border-top-color: var(--fill-color);\n",
              "    }\n",
              "    60% {\n",
              "      border-color: transparent;\n",
              "      border-right-color: var(--fill-color);\n",
              "    }\n",
              "    80% {\n",
              "      border-color: transparent;\n",
              "      border-right-color: var(--fill-color);\n",
              "      border-bottom-color: var(--fill-color);\n",
              "    }\n",
              "    90% {\n",
              "      border-color: transparent;\n",
              "      border-bottom-color: var(--fill-color);\n",
              "    }\n",
              "  }\n",
              "</style>\n",
              "\n",
              "  <script>\n",
              "    async function quickchart(key) {\n",
              "      const quickchartButtonEl =\n",
              "        document.querySelector('#' + key + ' button');\n",
              "      quickchartButtonEl.disabled = true;  // To prevent multiple clicks.\n",
              "      quickchartButtonEl.classList.add('colab-df-spinner');\n",
              "      try {\n",
              "        const charts = await google.colab.kernel.invokeFunction(\n",
              "            'suggestCharts', [key], {});\n",
              "      } catch (error) {\n",
              "        console.error('Error during call to suggestCharts:', error);\n",
              "      }\n",
              "      quickchartButtonEl.classList.remove('colab-df-spinner');\n",
              "      quickchartButtonEl.classList.add('colab-df-quickchart-complete');\n",
              "    }\n",
              "    (() => {\n",
              "      let quickchartButtonEl =\n",
              "        document.querySelector('#df-e380720b-5299-419c-b3ae-b3ffa506db6d button');\n",
              "      quickchartButtonEl.style.display =\n",
              "        google.colab.kernel.accessAllowed ? 'block' : 'none';\n",
              "    })();\n",
              "  </script>\n",
              "</div>\n",
              "    </div>\n",
              "  </div>\n"
            ],
            "text/plain": [
              "    month   count\n",
              "0     1.0   99880\n",
              "1     2.0   98373\n",
              "2     3.0  107036\n",
              "3     4.0  101032\n",
              "4     5.0  105148\n",
              "5     6.0   99531\n",
              "6     7.0  101835\n",
              "7     8.0  103467\n",
              "8     9.0  104649\n",
              "9    10.0  111933\n",
              "10   11.0  104517\n",
              "11   12.0  107745"
            ]
          },
          "execution_count": 14,
          "metadata": {},
          "output_type": "execute_result"
        }
      ],
      "source": [
        "query = '''\n",
        "SELECT EXTRACT (MONTH FROM collision_date) as month,\n",
        "       COUNT(*) as count\n",
        "FROM collisions\n",
        "WHERE EXTRACT (YEAR FROM collision_date) < 2012\n",
        "GROUP BY EXTRACT (MONTH FROM collision_date)\n",
        "'''\n",
        "\n",
        "collisions = pd.read_sql_query(query, con=engine)\n",
        "collisions"
      ]
    },
    {
      "cell_type": "code",
      "execution_count": null,
      "id": "c4b220bd",
      "metadata": {
        "colab": {
          "base_uri": "https://localhost:8080/",
          "height": 449
        },
        "id": "c4b220bd",
        "outputId": "6922bb4a-d041-4758-9647-4b603ba27f4c",
        "scrolled": false
      },
      "outputs": [
        {
          "data": {
            "image/png": "[encoded data removed]",
            "text/plain": [
              "<Figure size 640x480 with 1 Axes>"
            ]
          },
          "metadata": {},
          "output_type": "display_data"
        }
      ],
      "source": [
        "sns.barplot(data=collisions, x='month', y='count')\n",
        "plt.xlabel('Месяц')\n",
        "plt.ylabel('Количество аварий')\n",
        "plt.show()"
      ]
    },
    {
      "cell_type": "markdown",
      "id": "080b84c0",
      "metadata": {
        "id": "080b84c0"
      },
      "source": [
        "Октябрь самый аварийный месяц."
      ]
    },
    {
      "cell_type": "markdown",
      "id": "e0c8624d",
      "metadata": {
        "id": "e0c8624d"
      },
      "source": [
        "# Модель для оценки водительского риска"
      ]
    },
    {
      "cell_type": "markdown",
      "id": "a054952e",
      "metadata": {
        "id": "a054952e"
      },
      "source": [
        "Выгружаем следующие данные:\n",
        "\n",
        "- Тип виновника — только машина (car);\n",
        "- ДТП привело к любым значимым повреждениям автомобиля любого из участников — все, кроме типа SCRATCH (царапина);\n",
        "- Данные только за 2012 год;"
      ]
    },
    {
      "cell_type": "code",
      "execution_count": null,
      "id": "ObzKnyqntfja",
      "metadata": {
        "colab": {
          "base_uri": "https://localhost:8080/",
          "height": 377
        },
        "id": "ObzKnyqntfja",
        "outputId": "967533c6-cc79-48be-d668-de2537a901fb"
      },
      "outputs": [
        {
          "data": {
            "text/html": [
              "\n",
              "  <div id=\"df-597ade59-e65c-452b-8940-5e31841a875a\" class=\"colab-df-container\">\n",
              "    <div>\n",
              "<style scoped>\n",
              "    .dataframe tbody tr th:only-of-type {\n",
              "        vertical-align: middle;\n",
              "    }\n",
              "\n",
              "    .dataframe tbody tr th {\n",
              "        vertical-align: top;\n",
              "    }\n",
              "\n",
              "    .dataframe thead th {\n",
              "        text-align: right;\n",
              "    }\n",
              "</style>\n",
              "<table border=\"1\" class=\"dataframe\">\n",
              "  <thead>\n",
              "    <tr style=\"text-align: right;\">\n",
              "      <th></th>\n",
              "      <th>id</th>\n",
              "      <th>case_id</th>\n",
              "      <th>party_number</th>\n",
              "      <th>party_type</th>\n",
              "      <th>at_fault</th>\n",
              "      <th>insurance_premium</th>\n",
              "      <th>party_sobriety</th>\n",
              "      <th>party_drug_physical</th>\n",
              "      <th>cellphone_in_use</th>\n",
              "      <th>vehicle_type</th>\n",
              "      <th>...</th>\n",
              "      <th>primary_collision_factor</th>\n",
              "      <th>pcf_violation_category</th>\n",
              "      <th>type_of_collision</th>\n",
              "      <th>motor_vehicle_involved_with</th>\n",
              "      <th>road_surface</th>\n",
              "      <th>road_condition_1</th>\n",
              "      <th>lighting</th>\n",
              "      <th>control_device</th>\n",
              "      <th>collision_date</th>\n",
              "      <th>collision_time</th>\n",
              "    </tr>\n",
              "  </thead>\n",
              "  <tbody>\n",
              "    <tr>\n",
              "      <th>10680</th>\n",
              "      <td>2626682</td>\n",
              "      <td>5582590</td>\n",
              "      <td>1</td>\n",
              "      <td>car</td>\n",
              "      <td>1</td>\n",
              "      <td>23.0</td>\n",
              "      <td>had not been drinking</td>\n",
              "      <td>None</td>\n",
              "      <td>0.0</td>\n",
              "      <td>sedan</td>\n",
              "      <td>...</td>\n",
              "      <td>vehicle code violation</td>\n",
              "      <td>unsafe starting or backing</td>\n",
              "      <td>hit object</td>\n",
              "      <td>fixed object</td>\n",
              "      <td>dry</td>\n",
              "      <td>normal</td>\n",
              "      <td>dark with street lights</td>\n",
              "      <td>none</td>\n",
              "      <td>2012-03-02</td>\n",
              "      <td>01:09:00</td>\n",
              "    </tr>\n",
              "    <tr>\n",
              "      <th>19856</th>\n",
              "      <td>2625445</td>\n",
              "      <td>5581871</td>\n",
              "      <td>2</td>\n",
              "      <td>car</td>\n",
              "      <td>0</td>\n",
              "      <td>60.0</td>\n",
              "      <td>had not been drinking</td>\n",
              "      <td>None</td>\n",
              "      <td>0.0</td>\n",
              "      <td>sedan</td>\n",
              "      <td>...</td>\n",
              "      <td>vehicle code violation</td>\n",
              "      <td>speeding</td>\n",
              "      <td>rear end</td>\n",
              "      <td>other motor vehicle</td>\n",
              "      <td>dry</td>\n",
              "      <td>normal</td>\n",
              "      <td>daylight</td>\n",
              "      <td>none</td>\n",
              "      <td>2012-04-08</td>\n",
              "      <td>16:26:00</td>\n",
              "    </tr>\n",
              "    <tr>\n",
              "      <th>48443</th>\n",
              "      <td>2695384</td>\n",
              "      <td>5621072</td>\n",
              "      <td>1</td>\n",
              "      <td>car</td>\n",
              "      <td>1</td>\n",
              "      <td>26.0</td>\n",
              "      <td>had not been drinking</td>\n",
              "      <td>None</td>\n",
              "      <td>NaN</td>\n",
              "      <td>coupe</td>\n",
              "      <td>...</td>\n",
              "      <td>vehicle code violation</td>\n",
              "      <td>traffic signals and signs</td>\n",
              "      <td>broadside</td>\n",
              "      <td>other motor vehicle</td>\n",
              "      <td>dry</td>\n",
              "      <td>normal</td>\n",
              "      <td>daylight</td>\n",
              "      <td>functioning</td>\n",
              "      <td>2012-05-02</td>\n",
              "      <td>17:40:00</td>\n",
              "    </tr>\n",
              "    <tr>\n",
              "      <th>37248</th>\n",
              "      <td>2661141</td>\n",
              "      <td>5602063</td>\n",
              "      <td>3</td>\n",
              "      <td>car</td>\n",
              "      <td>0</td>\n",
              "      <td>41.0</td>\n",
              "      <td>had been drinking, under influence</td>\n",
              "      <td>None</td>\n",
              "      <td>0.0</td>\n",
              "      <td>sedan</td>\n",
              "      <td>...</td>\n",
              "      <td>vehicle code violation</td>\n",
              "      <td>dui</td>\n",
              "      <td>sideswipe</td>\n",
              "      <td>other motor vehicle</td>\n",
              "      <td>dry</td>\n",
              "      <td>normal</td>\n",
              "      <td>dark with street lights</td>\n",
              "      <td>none</td>\n",
              "      <td>2012-04-08</td>\n",
              "      <td>02:35:00</td>\n",
              "    </tr>\n",
              "    <tr>\n",
              "      <th>17313</th>\n",
              "      <td>2582331</td>\n",
              "      <td>5549650</td>\n",
              "      <td>2</td>\n",
              "      <td>car</td>\n",
              "      <td>0</td>\n",
              "      <td>44.0</td>\n",
              "      <td>had not been drinking</td>\n",
              "      <td>None</td>\n",
              "      <td>1.0</td>\n",
              "      <td>sedan</td>\n",
              "      <td>...</td>\n",
              "      <td>vehicle code violation</td>\n",
              "      <td>speeding</td>\n",
              "      <td>rear end</td>\n",
              "      <td>other motor vehicle</td>\n",
              "      <td>wet</td>\n",
              "      <td>normal</td>\n",
              "      <td>daylight</td>\n",
              "      <td>none</td>\n",
              "      <td>2012-03-13</td>\n",
              "      <td>16:45:00</td>\n",
              "    </tr>\n",
              "  </tbody>\n",
              "</table>\n",
              "<p>5 rows × 32 columns</p>\n",
              "</div>\n",
              "    <div class=\"colab-df-buttons\">\n",
              "\n",
              "  <div class=\"colab-df-container\">\n",
              "    <button class=\"colab-df-convert\" onclick=\"convertToInteractive('df-597ade59-e65c-452b-8940-5e31841a875a')\"\n",
              "            title=\"Convert this dataframe to an interactive table.\"\n",
              "            style=\"display:none;\">\n",
              "\n",
              "  <svg xmlns=\"http://www.w3.org/2000/svg\" height=\"24px\" viewBox=\"0 -960 960 960\">\n",
              "    <path d=\"M120-120v-720h720v720H120Zm60-500h600v-160H180v160Zm220 220h160v-160H400v160Zm0 220h160v-160H400v160ZM180-400h160v-160H180v160Zm440 0h160v-160H620v160ZM180-180h160v-160H180v160Zm440 0h160v-160H620v160Z\"/>\n",
              "  </svg>\n",
              "    </button>\n",
              "\n",
              "  <style>\n",
              "    .colab-df-container {\n",
              "      display:flex;\n",
              "      gap: 12px;\n",
              "    }\n",
              "\n",
              "    .colab-df-convert {\n",
              "      background-color: #E8F0FE;\n",
              "      border: none;\n",
              "      border-radius: 50%;\n",
              "      cursor: pointer;\n",
              "      display: none;\n",
              "      fill: #1967D2;\n",
              "      height: 32px;\n",
              "      padding: 0 0 0 0;\n",
              "      width: 32px;\n",
              "    }\n",
              "\n",
              "    .colab-df-convert:hover {\n",
              "      background-color: #E2EBFA;\n",
              "      box-shadow: 0px 1px 2px rgba(60, 64, 67, 0.3), 0px 1px 3px 1px rgba(60, 64, 67, 0.15);\n",
              "      fill: #174EA6;\n",
              "    }\n",
              "\n",
              "    .colab-df-buttons div {\n",
              "      margin-bottom: 4px;\n",
              "    }\n",
              "\n",
              "    [theme=dark] .colab-df-convert {\n",
              "      background-color: #3B4455;\n",
              "      fill: #D2E3FC;\n",
              "    }\n",
              "\n",
              "    [theme=dark] .colab-df-convert:hover {\n",
              "      background-color: #434B5C;\n",
              "      box-shadow: 0px 1px 3px 1px rgba(0, 0, 0, 0.15);\n",
              "      filter: drop-shadow(0px 1px 2px rgba(0, 0, 0, 0.3));\n",
              "      fill: #FFFFFF;\n",
              "    }\n",
              "  </style>\n",
              "\n",
              "    <script>\n",
              "      const buttonEl =\n",
              "        document.querySelector('#df-597ade59-e65c-452b-8940-5e31841a875a button.colab-df-convert');\n",
              "      buttonEl.style.display =\n",
              "        google.colab.kernel.accessAllowed ? 'block' : 'none';\n",
              "\n",
              "      async function convertToInteractive(key) {\n",
              "        const element = document.querySelector('#df-597ade59-e65c-452b-8940-5e31841a875a');\n",
              "        const dataTable =\n",
              "          await google.colab.kernel.invokeFunction('convertToInteractive',\n",
              "                                                    [key], {});\n",
              "        if (!dataTable) return;\n",
              "\n",
              "        const docLinkHtml = 'Like what you see? Visit the ' +\n",
              "          '<a target=\"_blank\" href=https://colab.research.google.com/notebooks/data_table.ipynb>data table notebook</a>'\n",
              "          + ' to learn more about interactive tables.';\n",
              "        element.innerHTML = '';\n",
              "        dataTable['output_type'] = 'display_data';\n",
              "        await google.colab.output.renderOutput(dataTable, element);\n",
              "        const docLink = document.createElement('div');\n",
              "        docLink.innerHTML = docLinkHtml;\n",
              "        element.appendChild(docLink);\n",
              "      }\n",
              "    </script>\n",
              "  </div>\n",
              "\n",
              "\n",
              "<div id=\"df-3ce9ff72-e64d-4af9-b6de-a96a6bba53b0\">\n",
              "  <button class=\"colab-df-quickchart\" onclick=\"quickchart('df-3ce9ff72-e64d-4af9-b6de-a96a6bba53b0')\"\n",
              "            title=\"Suggest charts\"\n",
              "            style=\"display:none;\">\n",
              "\n",
              "<svg xmlns=\"http://www.w3.org/2000/svg\" height=\"24px\"viewBox=\"0 0 24 24\"\n",
              "     width=\"24px\">\n",
              "    <g>\n",
              "        <path d=\"M19 3H5c-1.1 0-2 .9-2 2v14c0 1.1.9 2 2 2h14c1.1 0 2-.9 2-2V5c0-1.1-.9-2-2-2zM9 17H7v-7h2v7zm4 0h-2V7h2v10zm4 0h-2v-4h2v4z\"/>\n",
              "    </g>\n",
              "</svg>\n",
              "  </button>\n",
              "\n",
              "<style>\n",
              "  .colab-df-quickchart {\n",
              "      --bg-color: #E8F0FE;\n",
              "      --fill-color: #1967D2;\n",
              "      --hover-bg-color: #E2EBFA;\n",
              "      --hover-fill-color: #174EA6;\n",
              "      --disabled-fill-color: #AAA;\n",
              "      --disabled-bg-color: #DDD;\n",
              "  }\n",
              "\n",
              "  [theme=dark] .colab-df-quickchart {\n",
              "      --bg-color: #3B4455;\n",
              "      --fill-color: #D2E3FC;\n",
              "      --hover-bg-color: #434B5C;\n",
              "      --hover-fill-color: #FFFFFF;\n",
              "      --disabled-bg-color: #3B4455;\n",
              "      --disabled-fill-color: #666;\n",
              "  }\n",
              "\n",
              "  .colab-df-quickchart {\n",
              "    background-color: var(--bg-color);\n",
              "    border: none;\n",
              "    border-radius: 50%;\n",
              "    cursor: pointer;\n",
              "    display: none;\n",
              "    fill: var(--fill-color);\n",
              "    height: 32px;\n",
              "    padding: 0;\n",
              "    width: 32px;\n",
              "  }\n",
              "\n",
              "  .colab-df-quickchart:hover {\n",
              "    background-color: var(--hover-bg-color);\n",
              "    box-shadow: 0 1px 2px rgba(60, 64, 67, 0.3), 0 1px 3px 1px rgba(60, 64, 67, 0.15);\n",
              "    fill: var(--button-hover-fill-color);\n",
              "  }\n",
              "\n",
              "  .colab-df-quickchart-complete:disabled,\n",
              "  .colab-df-quickchart-complete:disabled:hover {\n",
              "    background-color: var(--disabled-bg-color);\n",
              "    fill: var(--disabled-fill-color);\n",
              "    box-shadow: none;\n",
              "  }\n",
              "\n",
              "  .colab-df-spinner {\n",
              "    border: 2px solid var(--fill-color);\n",
              "    border-color: transparent;\n",
              "    border-bottom-color: var(--fill-color);\n",
              "    animation:\n",
              "      spin 1s steps(1) infinite;\n",
              "  }\n",
              "\n",
              "  @keyframes spin {\n",
              "    0% {\n",
              "      border-color: transparent;\n",
              "      border-bottom-color: var(--fill-color);\n",
              "      border-left-color: var(--fill-color);\n",
              "    }\n",
              "    20% {\n",
              "      border-color: transparent;\n",
              "      border-left-color: var(--fill-color);\n",
              "      border-top-color: var(--fill-color);\n",
              "    }\n",
              "    30% {\n",
              "      border-color: transparent;\n",
              "      border-left-color: var(--fill-color);\n",
              "      border-top-color: var(--fill-color);\n",
              "      border-right-color: var(--fill-color);\n",
              "    }\n",
              "    40% {\n",
              "      border-color: transparent;\n",
              "      border-right-color: var(--fill-color);\n",
              "      border-top-color: var(--fill-color);\n",
              "    }\n",
              "    60% {\n",
              "      border-color: transparent;\n",
              "      border-right-color: var(--fill-color);\n",
              "    }\n",
              "    80% {\n",
              "      border-color: transparent;\n",
              "      border-right-color: var(--fill-color);\n",
              "      border-bottom-color: var(--fill-color);\n",
              "    }\n",
              "    90% {\n",
              "      border-color: transparent;\n",
              "      border-bottom-color: var(--fill-color);\n",
              "    }\n",
              "  }\n",
              "</style>\n",
              "\n",
              "  <script>\n",
              "    async function quickchart(key) {\n",
              "      const quickchartButtonEl =\n",
              "        document.querySelector('#' + key + ' button');\n",
              "      quickchartButtonEl.disabled = true;  // To prevent multiple clicks.\n",
              "      quickchartButtonEl.classList.add('colab-df-spinner');\n",
              "      try {\n",
              "        const charts = await google.colab.kernel.invokeFunction(\n",
              "            'suggestCharts', [key], {});\n",
              "      } catch (error) {\n",
              "        console.error('Error during call to suggestCharts:', error);\n",
              "      }\n",
              "      quickchartButtonEl.classList.remove('colab-df-spinner');\n",
              "      quickchartButtonEl.classList.add('colab-df-quickchart-complete');\n",
              "    }\n",
              "    (() => {\n",
              "      let quickchartButtonEl =\n",
              "        document.querySelector('#df-3ce9ff72-e64d-4af9-b6de-a96a6bba53b0 button');\n",
              "      quickchartButtonEl.style.display =\n",
              "        google.colab.kernel.accessAllowed ? 'block' : 'none';\n",
              "    })();\n",
              "  </script>\n",
              "</div>\n",
              "    </div>\n",
              "  </div>\n"
            ],
            "text/plain": [
              "            id  case_id  party_number party_type  at_fault  insurance_premium  \\\n",
              "10680  2626682  5582590             1        car         1               23.0   \n",
              "19856  2625445  5581871             2        car         0               60.0   \n",
              "48443  2695384  5621072             1        car         1               26.0   \n",
              "37248  2661141  5602063             3        car         0               41.0   \n",
              "17313  2582331  5549650             2        car         0               44.0   \n",
              "\n",
              "                           party_sobriety party_drug_physical  \\\n",
              "10680               had not been drinking                None   \n",
              "19856               had not been drinking                None   \n",
              "48443               had not been drinking                None   \n",
              "37248  had been drinking, under influence                None   \n",
              "17313               had not been drinking                None   \n",
              "\n",
              "       cellphone_in_use vehicle_type  ... primary_collision_factor  \\\n",
              "10680               0.0        sedan  ...   vehicle code violation   \n",
              "19856               0.0        sedan  ...   vehicle code violation   \n",
              "48443               NaN        coupe  ...   vehicle code violation   \n",
              "37248               0.0        sedan  ...   vehicle code violation   \n",
              "17313               1.0        sedan  ...   vehicle code violation   \n",
              "\n",
              "           pcf_violation_category type_of_collision  \\\n",
              "10680  unsafe starting or backing        hit object   \n",
              "19856                    speeding          rear end   \n",
              "48443   traffic signals and signs         broadside   \n",
              "37248                         dui         sideswipe   \n",
              "17313                    speeding          rear end   \n",
              "\n",
              "      motor_vehicle_involved_with road_surface  road_condition_1  \\\n",
              "10680                fixed object          dry            normal   \n",
              "19856         other motor vehicle          dry            normal   \n",
              "48443         other motor vehicle          dry            normal   \n",
              "37248         other motor vehicle          dry            normal   \n",
              "17313         other motor vehicle          wet            normal   \n",
              "\n",
              "                      lighting  control_device collision_date collision_time  \n",
              "10680  dark with street lights            none     2012-03-02       01:09:00  \n",
              "19856                 daylight            none     2012-04-08       16:26:00  \n",
              "48443                 daylight     functioning     2012-05-02       17:40:00  \n",
              "37248  dark with street lights            none     2012-04-08       02:35:00  \n",
              "17313                 daylight            none     2012-03-13       16:45:00  \n",
              "\n",
              "[5 rows x 32 columns]"
            ]
          },
          "execution_count": 13,
          "metadata": {},
          "output_type": "execute_result"
        }
      ],
      "source": [
        "query = '''\n",
        "WITH t AS\n",
        "(\n",
        "  SELECT p.*,\n",
        "         v.vehicle_type,\n",
        "         v.vehicle_transmission,\n",
        "         v.vehicle_age\n",
        "  FROM vehicles as v\n",
        "  JOIN parties as p ON p.case_id = v.case_id AND p.party_number = v.party_number\n",
        ")\n",
        "SELECT *\n",
        "FROM t\n",
        "LEFT JOIN collisions AS c ON t.case_id = c.case_id\n",
        "WHERE t.party_type = 'car'\n",
        "      AND c.collision_damage <> 'scratch'\n",
        "      AND EXTRACT(year FROM c.collision_date) = 2012\n",
        "'''\n",
        "\n",
        "df = pd.read_sql_query(query, con=engine)\n",
        "df.sample(5)"
      ]
    },
    {
      "cell_type": "markdown",
      "id": "8d660bfd",
      "metadata": {
        "id": "8d660bfd"
      },
      "source": [
        "Выгруженные признаки:"
      ]
    },
    {
      "cell_type": "code",
      "execution_count": null,
      "id": "4f256575",
      "metadata": {
        "colab": {
          "base_uri": "https://localhost:8080/"
        },
        "id": "4f256575",
        "outputId": "ef2e0b67-715e-4e6f-ad28-048f2941ad05",
        "scrolled": true
      },
      "outputs": [
        {
          "data": {
            "text/plain": [
              "Index(['id', 'case_id', 'party_number', 'party_type', 'at_fault',\n",
              "       'insurance_premium', 'party_sobriety', 'party_drug_physical',\n",
              "       'cellphone_in_use', 'vehicle_type', 'vehicle_transmission',\n",
              "       'vehicle_age', 'case_id', 'county_city_location', 'county_location',\n",
              "       'distance', 'direction', 'intersection', 'weather_1', 'location_type',\n",
              "       'collision_damage', 'party_count', 'primary_collision_factor',\n",
              "       'pcf_violation_category', 'type_of_collision',\n",
              "       'motor_vehicle_involved_with', 'road_surface', 'road_condition_1',\n",
              "       'lighting', 'control_device', 'collision_date', 'collision_time'],\n",
              "      dtype='object')"
            ]
          },
          "execution_count": 14,
          "metadata": {},
          "output_type": "execute_result"
        }
      ],
      "source": [
        "df.columns"
      ]
    },
    {
      "cell_type": "markdown",
      "id": "bn9I0LfeT2x4",
      "metadata": {
        "id": "bn9I0LfeT2x4"
      },
      "source": [
        "Отбор признаков для модели"
      ]
    },
    {
      "cell_type": "code",
      "execution_count": null,
      "id": "d084dd3d",
      "metadata": {
        "id": "d084dd3d"
      },
      "outputs": [],
      "source": [
        "selected_columns = ['weather_1',\n",
        "           'primary_collision_factor',\n",
        "           'road_surface',\n",
        "           'lighting',\n",
        "           'distance',\n",
        "           'location_type',\n",
        "           'road_condition_1',\n",
        "           'party_drug_physical',\n",
        "           'party_sobriety',\n",
        "           'cellphone_in_use',\n",
        "           'vehicle_transmission',\n",
        "           'vehicle_type',\n",
        "           'vehicle_age',\n",
        "           'at_fault'\n",
        "]"
      ]
    },
    {
      "cell_type": "code",
      "execution_count": null,
      "id": "34eb6e62",
      "metadata": {
        "id": "34eb6e62"
      },
      "outputs": [],
      "source": [
        "df = df[selected_columns]"
      ]
    },
    {
      "cell_type": "markdown",
      "id": "a2fce8e5",
      "metadata": {
        "id": "a2fce8e5"
      },
      "source": [
        "## Предварительный анализ и обработка данных"
      ]
    },
    {
      "cell_type": "code",
      "execution_count": null,
      "id": "83adf533",
      "metadata": {
        "id": "83adf533"
      },
      "outputs": [],
      "source": [
        "df = df.rename(columns={'weather_1': 'weather',\n",
        "                        'road_condition_1': 'road_condition'}\n",
        ")"
      ]
    },
    {
      "cell_type": "code",
      "execution_count": null,
      "id": "609cd33e",
      "metadata": {
        "colab": {
          "base_uri": "https://localhost:8080/"
        },
        "id": "609cd33e",
        "outputId": "d6fdf1ad-3738-43bd-8d96-38db03d17962",
        "scrolled": false
      },
      "outputs": [
        {
          "name": "stdout",
          "output_type": "stream",
          "text": [
            "<class 'pandas.core.frame.DataFrame'>\n",
            "RangeIndex: 56248 entries, 0 to 56247\n",
            "Data columns (total 14 columns):\n",
            " #   Column                    Non-Null Count  Dtype  \n",
            "---  ------                    --------------  -----  \n",
            " 0   weather                   56080 non-null  object \n",
            " 1   primary_collision_factor  56137 non-null  object \n",
            " 2   road_surface              55900 non-null  object \n",
            " 3   lighting                  56094 non-null  object \n",
            " 4   distance                  56248 non-null  float64\n",
            " 5   location_type             25932 non-null  object \n",
            " 6   road_condition            55999 non-null  object \n",
            " 7   party_drug_physical       2857 non-null   object \n",
            " 8   party_sobriety            55376 non-null  object \n",
            " 9   cellphone_in_use          51777 non-null  float64\n",
            " 10  vehicle_transmission      55389 non-null  object \n",
            " 11  vehicle_type              56248 non-null  object \n",
            " 12  vehicle_age               54554 non-null  float64\n",
            " 13  at_fault                  56248 non-null  int64  \n",
            "dtypes: float64(3), int64(1), object(10)\n",
            "memory usage: 6.0+ MB\n"
          ]
        }
      ],
      "source": [
        "df.info()"
      ]
    },
    {
      "cell_type": "code",
      "execution_count": null,
      "id": "aa28afd9",
      "metadata": {
        "colab": {
          "base_uri": "https://localhost:8080/",
          "height": 300
        },
        "id": "aa28afd9",
        "outputId": "f33fe344-fee1-4985-ff69-9d1cb5a2e181",
        "scrolled": true
      },
      "outputs": [
        {
          "data": {
            "text/html": [
              "\n",
              "  <div id=\"df-0beb2d77-9978-4b2d-8691-769031aaafa5\" class=\"colab-df-container\">\n",
              "    <div>\n",
              "<style scoped>\n",
              "    .dataframe tbody tr th:only-of-type {\n",
              "        vertical-align: middle;\n",
              "    }\n",
              "\n",
              "    .dataframe tbody tr th {\n",
              "        vertical-align: top;\n",
              "    }\n",
              "\n",
              "    .dataframe thead th {\n",
              "        text-align: right;\n",
              "    }\n",
              "</style>\n",
              "<table border=\"1\" class=\"dataframe\">\n",
              "  <thead>\n",
              "    <tr style=\"text-align: right;\">\n",
              "      <th></th>\n",
              "      <th>distance</th>\n",
              "      <th>cellphone_in_use</th>\n",
              "      <th>vehicle_age</th>\n",
              "      <th>at_fault</th>\n",
              "    </tr>\n",
              "  </thead>\n",
              "  <tbody>\n",
              "    <tr>\n",
              "      <th>count</th>\n",
              "      <td>5.624800e+04</td>\n",
              "      <td>51777.000000</td>\n",
              "      <td>54554.000000</td>\n",
              "      <td>56248.000000</td>\n",
              "    </tr>\n",
              "    <tr>\n",
              "      <th>mean</th>\n",
              "      <td>8.594387e+02</td>\n",
              "      <td>0.020357</td>\n",
              "      <td>4.856472</td>\n",
              "      <td>0.504427</td>\n",
              "    </tr>\n",
              "    <tr>\n",
              "      <th>std</th>\n",
              "      <td>7.240295e+03</td>\n",
              "      <td>0.141218</td>\n",
              "      <td>3.234503</td>\n",
              "      <td>0.499985</td>\n",
              "    </tr>\n",
              "    <tr>\n",
              "      <th>min</th>\n",
              "      <td>0.000000e+00</td>\n",
              "      <td>0.000000</td>\n",
              "      <td>0.000000</td>\n",
              "      <td>0.000000</td>\n",
              "    </tr>\n",
              "    <tr>\n",
              "      <th>25%</th>\n",
              "      <td>7.000000e+00</td>\n",
              "      <td>0.000000</td>\n",
              "      <td>3.000000</td>\n",
              "      <td>0.000000</td>\n",
              "    </tr>\n",
              "    <tr>\n",
              "      <th>50%</th>\n",
              "      <td>1.350000e+02</td>\n",
              "      <td>0.000000</td>\n",
              "      <td>4.000000</td>\n",
              "      <td>1.000000</td>\n",
              "    </tr>\n",
              "    <tr>\n",
              "      <th>75%</th>\n",
              "      <td>5.450000e+02</td>\n",
              "      <td>0.000000</td>\n",
              "      <td>7.000000</td>\n",
              "      <td>1.000000</td>\n",
              "    </tr>\n",
              "    <tr>\n",
              "      <th>max</th>\n",
              "      <td>1.584000e+06</td>\n",
              "      <td>1.000000</td>\n",
              "      <td>161.000000</td>\n",
              "      <td>1.000000</td>\n",
              "    </tr>\n",
              "  </tbody>\n",
              "</table>\n",
              "</div>\n",
              "    <div class=\"colab-df-buttons\">\n",
              "\n",
              "  <div class=\"colab-df-container\">\n",
              "    <button class=\"colab-df-convert\" onclick=\"convertToInteractive('df-0beb2d77-9978-4b2d-8691-769031aaafa5')\"\n",
              "            title=\"Convert this dataframe to an interactive table.\"\n",
              "            style=\"display:none;\">\n",
              "\n",
              "  <svg xmlns=\"http://www.w3.org/2000/svg\" height=\"24px\" viewBox=\"0 -960 960 960\">\n",
              "    <path d=\"M120-120v-720h720v720H120Zm60-500h600v-160H180v160Zm220 220h160v-160H400v160Zm0 220h160v-160H400v160ZM180-400h160v-160H180v160Zm440 0h160v-160H620v160ZM180-180h160v-160H180v160Zm440 0h160v-160H620v160Z\"/>\n",
              "  </svg>\n",
              "    </button>\n",
              "\n",
              "  <style>\n",
              "    .colab-df-container {\n",
              "      display:flex;\n",
              "      gap: 12px;\n",
              "    }\n",
              "\n",
              "    .colab-df-convert {\n",
              "      background-color: #E8F0FE;\n",
              "      border: none;\n",
              "      border-radius: 50%;\n",
              "      cursor: pointer;\n",
              "      display: none;\n",
              "      fill: #1967D2;\n",
              "      height: 32px;\n",
              "      padding: 0 0 0 0;\n",
              "      width: 32px;\n",
              "    }\n",
              "\n",
              "    .colab-df-convert:hover {\n",
              "      background-color: #E2EBFA;\n",
              "      box-shadow: 0px 1px 2px rgba(60, 64, 67, 0.3), 0px 1px 3px 1px rgba(60, 64, 67, 0.15);\n",
              "      fill: #174EA6;\n",
              "    }\n",
              "\n",
              "    .colab-df-buttons div {\n",
              "      margin-bottom: 4px;\n",
              "    }\n",
              "\n",
              "    [theme=dark] .colab-df-convert {\n",
              "      background-color: #3B4455;\n",
              "      fill: #D2E3FC;\n",
              "    }\n",
              "\n",
              "    [theme=dark] .colab-df-convert:hover {\n",
              "      background-color: #434B5C;\n",
              "      box-shadow: 0px 1px 3px 1px rgba(0, 0, 0, 0.15);\n",
              "      filter: drop-shadow(0px 1px 2px rgba(0, 0, 0, 0.3));\n",
              "      fill: #FFFFFF;\n",
              "    }\n",
              "  </style>\n",
              "\n",
              "    <script>\n",
              "      const buttonEl =\n",
              "        document.querySelector('#df-0beb2d77-9978-4b2d-8691-769031aaafa5 button.colab-df-convert');\n",
              "      buttonEl.style.display =\n",
              "        google.colab.kernel.accessAllowed ? 'block' : 'none';\n",
              "\n",
              "      async function convertToInteractive(key) {\n",
              "        const element = document.querySelector('#df-0beb2d77-9978-4b2d-8691-769031aaafa5');\n",
              "        const dataTable =\n",
              "          await google.colab.kernel.invokeFunction('convertToInteractive',\n",
              "                                                    [key], {});\n",
              "        if (!dataTable) return;\n",
              "\n",
              "        const docLinkHtml = 'Like what you see? Visit the ' +\n",
              "          '<a target=\"_blank\" href=https://colab.research.google.com/notebooks/data_table.ipynb>data table notebook</a>'\n",
              "          + ' to learn more about interactive tables.';\n",
              "        element.innerHTML = '';\n",
              "        dataTable['output_type'] = 'display_data';\n",
              "        await google.colab.output.renderOutput(dataTable, element);\n",
              "        const docLink = document.createElement('div');\n",
              "        docLink.innerHTML = docLinkHtml;\n",
              "        element.appendChild(docLink);\n",
              "      }\n",
              "    </script>\n",
              "  </div>\n",
              "\n",
              "\n",
              "<div id=\"df-8c262219-77ff-470e-be2e-b5911f0c7b9d\">\n",
              "  <button class=\"colab-df-quickchart\" onclick=\"quickchart('df-8c262219-77ff-470e-be2e-b5911f0c7b9d')\"\n",
              "            title=\"Suggest charts\"\n",
              "            style=\"display:none;\">\n",
              "\n",
              "<svg xmlns=\"http://www.w3.org/2000/svg\" height=\"24px\"viewBox=\"0 0 24 24\"\n",
              "     width=\"24px\">\n",
              "    <g>\n",
              "        <path d=\"M19 3H5c-1.1 0-2 .9-2 2v14c0 1.1.9 2 2 2h14c1.1 0 2-.9 2-2V5c0-1.1-.9-2-2-2zM9 17H7v-7h2v7zm4 0h-2V7h2v10zm4 0h-2v-4h2v4z\"/>\n",
              "    </g>\n",
              "</svg>\n",
              "  </button>\n",
              "\n",
              "<style>\n",
              "  .colab-df-quickchart {\n",
              "      --bg-color: #E8F0FE;\n",
              "      --fill-color: #1967D2;\n",
              "      --hover-bg-color: #E2EBFA;\n",
              "      --hover-fill-color: #174EA6;\n",
              "      --disabled-fill-color: #AAA;\n",
              "      --disabled-bg-color: #DDD;\n",
              "  }\n",
              "\n",
              "  [theme=dark] .colab-df-quickchart {\n",
              "      --bg-color: #3B4455;\n",
              "      --fill-color: #D2E3FC;\n",
              "      --hover-bg-color: #434B5C;\n",
              "      --hover-fill-color: #FFFFFF;\n",
              "      --disabled-bg-color: #3B4455;\n",
              "      --disabled-fill-color: #666;\n",
              "  }\n",
              "\n",
              "  .colab-df-quickchart {\n",
              "    background-color: var(--bg-color);\n",
              "    border: none;\n",
              "    border-radius: 50%;\n",
              "    cursor: pointer;\n",
              "    display: none;\n",
              "    fill: var(--fill-color);\n",
              "    height: 32px;\n",
              "    padding: 0;\n",
              "    width: 32px;\n",
              "  }\n",
              "\n",
              "  .colab-df-quickchart:hover {\n",
              "    background-color: var(--hover-bg-color);\n",
              "    box-shadow: 0 1px 2px rgba(60, 64, 67, 0.3), 0 1px 3px 1px rgba(60, 64, 67, 0.15);\n",
              "    fill: var(--button-hover-fill-color);\n",
              "  }\n",
              "\n",
              "  .colab-df-quickchart-complete:disabled,\n",
              "  .colab-df-quickchart-complete:disabled:hover {\n",
              "    background-color: var(--disabled-bg-color);\n",
              "    fill: var(--disabled-fill-color);\n",
              "    box-shadow: none;\n",
              "  }\n",
              "\n",
              "  .colab-df-spinner {\n",
              "    border: 2px solid var(--fill-color);\n",
              "    border-color: transparent;\n",
              "    border-bottom-color: var(--fill-color);\n",
              "    animation:\n",
              "      spin 1s steps(1) infinite;\n",
              "  }\n",
              "\n",
              "  @keyframes spin {\n",
              "    0% {\n",
              "      border-color: transparent;\n",
              "      border-bottom-color: var(--fill-color);\n",
              "      border-left-color: var(--fill-color);\n",
              "    }\n",
              "    20% {\n",
              "      border-color: transparent;\n",
              "      border-left-color: var(--fill-color);\n",
              "      border-top-color: var(--fill-color);\n",
              "    }\n",
              "    30% {\n",
              "      border-color: transparent;\n",
              "      border-left-color: var(--fill-color);\n",
              "      border-top-color: var(--fill-color);\n",
              "      border-right-color: var(--fill-color);\n",
              "    }\n",
              "    40% {\n",
              "      border-color: transparent;\n",
              "      border-right-color: var(--fill-color);\n",
              "      border-top-color: var(--fill-color);\n",
              "    }\n",
              "    60% {\n",
              "      border-color: transparent;\n",
              "      border-right-color: var(--fill-color);\n",
              "    }\n",
              "    80% {\n",
              "      border-color: transparent;\n",
              "      border-right-color: var(--fill-color);\n",
              "      border-bottom-color: var(--fill-color);\n",
              "    }\n",
              "    90% {\n",
              "      border-color: transparent;\n",
              "      border-bottom-color: var(--fill-color);\n",
              "    }\n",
              "  }\n",
              "</style>\n",
              "\n",
              "  <script>\n",
              "    async function quickchart(key) {\n",
              "      const quickchartButtonEl =\n",
              "        document.querySelector('#' + key + ' button');\n",
              "      quickchartButtonEl.disabled = true;  // To prevent multiple clicks.\n",
              "      quickchartButtonEl.classList.add('colab-df-spinner');\n",
              "      try {\n",
              "        const charts = await google.colab.kernel.invokeFunction(\n",
              "            'suggestCharts', [key], {});\n",
              "      } catch (error) {\n",
              "        console.error('Error during call to suggestCharts:', error);\n",
              "      }\n",
              "      quickchartButtonEl.classList.remove('colab-df-spinner');\n",
              "      quickchartButtonEl.classList.add('colab-df-quickchart-complete');\n",
              "    }\n",
              "    (() => {\n",
              "      let quickchartButtonEl =\n",
              "        document.querySelector('#df-8c262219-77ff-470e-be2e-b5911f0c7b9d button');\n",
              "      quickchartButtonEl.style.display =\n",
              "        google.colab.kernel.accessAllowed ? 'block' : 'none';\n",
              "    })();\n",
              "  </script>\n",
              "</div>\n",
              "    </div>\n",
              "  </div>\n"
            ],
            "text/plain": [
              "           distance  cellphone_in_use   vehicle_age      at_fault\n",
              "count  5.624800e+04      51777.000000  54554.000000  56248.000000\n",
              "mean   8.594387e+02          0.020357      4.856472      0.504427\n",
              "std    7.240295e+03          0.141218      3.234503      0.499985\n",
              "min    0.000000e+00          0.000000      0.000000      0.000000\n",
              "25%    7.000000e+00          0.000000      3.000000      0.000000\n",
              "50%    1.350000e+02          0.000000      4.000000      1.000000\n",
              "75%    5.450000e+02          0.000000      7.000000      1.000000\n",
              "max    1.584000e+06          1.000000    161.000000      1.000000"
            ]
          },
          "execution_count": 19,
          "metadata": {},
          "output_type": "execute_result"
        }
      ],
      "source": [
        "df.describe()"
      ]
    },
    {
      "cell_type": "code",
      "execution_count": null,
      "id": "e05e1f78",
      "metadata": {
        "colab": {
          "base_uri": "https://localhost:8080/"
        },
        "id": "e05e1f78",
        "outputId": "f8d71f04-c25f-4fef-f04b-acda47c8d3ab",
        "scrolled": true
      },
      "outputs": [
        {
          "data": {
            "text/plain": [
              "weather                       168\n",
              "primary_collision_factor      111\n",
              "road_surface                  348\n",
              "lighting                      154\n",
              "distance                        0\n",
              "location_type               30316\n",
              "road_condition                249\n",
              "party_drug_physical         53391\n",
              "party_sobriety                872\n",
              "cellphone_in_use             4471\n",
              "vehicle_transmission          859\n",
              "vehicle_type                    0\n",
              "vehicle_age                  1694\n",
              "at_fault                        0\n",
              "dtype: int64"
            ]
          },
          "execution_count": 20,
          "metadata": {},
          "output_type": "execute_result"
        }
      ],
      "source": [
        "df.isna().sum()"
      ]
    },
    {
      "cell_type": "code",
      "execution_count": null,
      "id": "f189a31b",
      "metadata": {
        "colab": {
          "base_uri": "https://localhost:8080/"
        },
        "id": "f189a31b",
        "outputId": "1fb1f344-c3b8-428e-d332-58a821ea20b0"
      },
      "outputs": [
        {
          "data": {
            "text/plain": [
              "17886"
            ]
          },
          "execution_count": 21,
          "metadata": {},
          "output_type": "execute_result"
        }
      ],
      "source": [
        "df.duplicated().sum()"
      ]
    },
    {
      "cell_type": "markdown",
      "id": "7cf4756c",
      "metadata": {
        "id": "7cf4756c"
      },
      "source": [
        "Убираем явные дубликаты"
      ]
    },
    {
      "cell_type": "code",
      "execution_count": null,
      "id": "1f2c3469",
      "metadata": {
        "id": "1f2c3469"
      },
      "outputs": [],
      "source": [
        "df = df.drop_duplicates()"
      ]
    },
    {
      "cell_type": "markdown",
      "id": "iGNSYR9oU4bW",
      "metadata": {
        "id": "iGNSYR9oU4bW"
      },
      "source": [
        "Подправим данные"
      ]
    },
    {
      "cell_type": "code",
      "execution_count": null,
      "id": "d6235079",
      "metadata": {
        "id": "d6235079"
      },
      "outputs": [],
      "source": [
        "df = df[df.vehicle_age < 25]\n",
        "df = df[df.distance < 100000]"
      ]
    },
    {
      "cell_type": "code",
      "execution_count": null,
      "id": "760205b9",
      "metadata": {
        "colab": {
          "base_uri": "https://localhost:8080/",
          "height": 853
        },
        "id": "760205b9",
        "outputId": "d8adf9be-96f9-4b0e-d980-ef46afc7f402"
      },
      "outputs": [
        {
          "data": {
            "image/png": "[encoded data removed]",
            "text/plain": [
              "<Figure size 1000x1000 with 4 Axes>"
            ]
          },
          "metadata": {},
          "output_type": "display_data"
        }
      ],
      "source": [
        "df.hist(bins = 50, figsize=(10, 10));"
      ]
    },
    {
      "cell_type": "markdown",
      "id": "255fc0bd",
      "metadata": {
        "id": "255fc0bd"
      },
      "source": [
        "Проверим значения в столбцах"
      ]
    },
    {
      "cell_type": "code",
      "execution_count": null,
      "id": "e51581f7",
      "metadata": {
        "colab": {
          "base_uri": "https://localhost:8080/"
        },
        "id": "e51581f7",
        "outputId": "9684baa1-df0d-48c8-b570-004aa9fa34bc"
      },
      "outputs": [
        {
          "name": "stdout",
          "output_type": "stream",
          "text": [
            "weather\n",
            "['clear' 'cloudy' 'raining' 'fog' None 'wind' 'snowing' 'other']\n",
            "\n",
            "primary_collision_factor\n",
            "['unknown' 'vehicle code violation' 'other than driver'\n",
            " 'other improper driving' None 'fell asleep']\n",
            "\n",
            "road_surface\n",
            "['dry' 'wet' None 'snowy' 'slippery']\n",
            "\n",
            "lighting\n",
            "['dark with no street lights' 'daylight' 'dark with street lights'\n",
            " 'dusk or dawn' None 'dark with street lights not functioning']\n",
            "\n",
            "distance\n",
            "[5.0000e+02 5.2800e+02 2.1120e+03 ... 1.2330e+03 1.0100e+01 4.5936e+04]\n",
            "\n",
            "location_type\n",
            "['ramp' None 'highway' 'intersection']\n",
            "\n",
            "road_condition\n",
            "['normal' None 'flooded' 'construction' 'reduced width' 'loose material'\n",
            " 'other' 'obstruction' 'holes']\n",
            "\n",
            "party_drug_physical\n",
            "[None 'under drug influence' 'G' 'sleepy/fatigued' 'impairment - physical'\n",
            " 'not applicable']\n",
            "\n",
            "party_sobriety\n",
            "['had not been drinking' None 'had been drinking, under influence'\n",
            " 'impairment unknown' 'had been drinking, not under influence'\n",
            " 'had been drinking, impairment unknown' 'not applicable']\n",
            "\n",
            "cellphone_in_use\n",
            "[ 0. nan  1.]\n",
            "\n",
            "vehicle_transmission\n",
            "['manual' 'auto' None]\n",
            "\n",
            "vehicle_type\n",
            "['sedan' 'coupe' 'other']\n",
            "\n",
            "vehicle_age\n",
            "[ 5. 10.  4.  2.  0. 16.  8.  9.  6.  3.  1. 12.  7. 13. 11. 14. 15. 17.\n",
            " 19.]\n",
            "\n",
            "at_fault\n",
            "[0 1]\n",
            "\n"
          ]
        }
      ],
      "source": [
        "for column in df.columns:\n",
        "    print(column)\n",
        "    print(df[column].unique())\n",
        "    print()"
      ]
    },
    {
      "cell_type": "markdown",
      "id": "ee8b4cf2",
      "metadata": {
        "id": "ee8b4cf2"
      },
      "source": [
        "Неявных дубликатов не обнаружено. Признаки содержат адекватные значения."
      ]
    },
    {
      "cell_type": "markdown",
      "id": "e6a5d6f8",
      "metadata": {
        "id": "e6a5d6f8"
      },
      "source": [
        "## Формируем признаки"
      ]
    },
    {
      "cell_type": "code",
      "execution_count": null,
      "id": "26dc90f5",
      "metadata": {
        "colab": {
          "base_uri": "https://localhost:8080/"
        },
        "id": "26dc90f5",
        "outputId": "080ef416-2db8-4a9f-c699-d7e4f529d99c",
        "scrolled": true
      },
      "outputs": [
        {
          "name": "stdout",
          "output_type": "stream",
          "text": [
            "В обучающей выборке 70.0% данных\n",
            "В валидационной выборке 20.0% данных\n",
            "В тестовой выборке 10.0% данных\n"
          ]
        }
      ],
      "source": [
        "features = df.drop(columns=['at_fault'])\n",
        "target = df['at_fault']\n",
        "\n",
        "features_train, features_valid_and_test, target_train, target_valid_and_test = train_test_split(features, target,\n",
        "                                                                              test_size=0.3, random_state=0)\n",
        "features_valid, features_test, target_valid, target_test = train_test_split(features_valid_and_test, target_valid_and_test,\n",
        "                                                                            test_size=0.333, random_state=0)\n",
        "print(f'В обучающей выборке {len(features_train)/len(features):.1%} данных')\n",
        "print(f'В валидационной выборке {len(features_valid)/len(features):.1%} данных')\n",
        "print(f'В тестовой выборке {len(features_test)/len(features):.1%} данных')"
      ]
    },
    {
      "cell_type": "code",
      "execution_count": null,
      "id": "kNNvtws1TrnZ",
      "metadata": {
        "colab": {
          "base_uri": "https://localhost:8080/"
        },
        "id": "kNNvtws1TrnZ",
        "outputId": "eee4a8a5-8003-4945-bd49-e181caaaed95"
      },
      "outputs": [
        {
          "data": {
            "text/plain": [
              "(['distance', 'cellphone_in_use', 'vehicle_age'],\n",
              " ['weather',\n",
              "  'primary_collision_factor',\n",
              "  'road_surface',\n",
              "  'lighting',\n",
              "  'location_type',\n",
              "  'road_condition',\n",
              "  'party_drug_physical',\n",
              "  'party_sobriety',\n",
              "  'vehicle_transmission',\n",
              "  'vehicle_type'])"
            ]
          },
          "execution_count": 27,
          "metadata": {},
          "output_type": "execute_result"
        }
      ],
      "source": [
        "num_features = features.select_dtypes(include=('number')).columns.tolist()\n",
        "cat_features = features.select_dtypes('object').columns.tolist()\n",
        "num_features, cat_features"
      ]
    },
    {
      "cell_type": "markdown",
      "id": "31021f1a",
      "metadata": {
        "id": "31021f1a"
      },
      "source": [
        "## Конструируем пайплайн"
      ]
    },
    {
      "cell_type": "code",
      "execution_count": null,
      "id": "f6705989",
      "metadata": {
        "id": "f6705989"
      },
      "outputs": [],
      "source": [
        "def make_ct(model_type=None):\n",
        "\n",
        "    num_pipeline = Pipeline(steps=[\n",
        "        ('imputer', KNNImputer(n_neighbors=8)),\n",
        "        ('scaler', MinMaxScaler(feature_range=(0, 1)))\n",
        "        ]\n",
        "    )\n",
        "    if model_type == 'catboost':\n",
        "        encoder = None\n",
        "    else:\n",
        "        encoder = OneHotEncoder(handle_unknown='ignore', drop='first', sparse_output=False)\n",
        "\n",
        "    cat_pipeline = Pipeline(steps=[\n",
        "    ('imputer', SimpleImputer(strategy='constant', fill_value='unknown', missing_values = None)),\n",
        "    ('one-hot', encoder)\n",
        "        ]\n",
        "    )\n",
        "\n",
        "    return  ColumnTransformer(transformers=[('num', num_pipeline, num_features),\n",
        "                                            ('cat', cat_pipeline, cat_features)],\n",
        "                                            remainder='passthrough'\n",
        "                            )"
      ]
    },
    {
      "cell_type": "code",
      "execution_count": null,
      "id": "541972db",
      "metadata": {
        "id": "541972db"
      },
      "outputs": [],
      "source": [
        "class Preparer(BaseEstimator, TransformerMixin):\n",
        "\n",
        "    def fit(self, X, y=None):\n",
        "        return self\n",
        "\n",
        "    def transform(self, X, y=None):\n",
        "        X = pd.DataFrame(data=X, columns=num_features+cat_features)\n",
        "        return X"
      ]
    },
    {
      "cell_type": "code",
      "execution_count": null,
      "id": "353ee25f",
      "metadata": {
        "id": "353ee25f",
        "scrolled": false
      },
      "outputs": [],
      "source": [
        "def make_pipeline(model, model_type=None):\n",
        "\n",
        "    if model_type == 'catboost':\n",
        "        preparer = Preparer()\n",
        "    else:\n",
        "        preparer = None\n",
        "\n",
        "    return Pipeline(steps=[('transoformer', make_ct(model_type=model_type)),\n",
        "                           ('preparer', preparer),\n",
        "                           ('model', model)\n",
        "                          ]\n",
        "                   )"
      ]
    },
    {
      "cell_type": "markdown",
      "id": "1300bdd5",
      "metadata": {
        "id": "1300bdd5"
      },
      "source": [
        "Создадим датафрейм куда будем складывать значения метрик для сравнения."
      ]
    },
    {
      "cell_type": "code",
      "execution_count": null,
      "id": "a4972099",
      "metadata": {
        "id": "a4972099"
      },
      "outputs": [],
      "source": [
        "metrics = pd.DataFrame(index = ['forest', 'regression', 'catboost', 'net'], data={'F1-score': [0 for _ in range(4)]})"
      ]
    },
    {
      "cell_type": "markdown",
      "id": "c6214373",
      "metadata": {
        "id": "c6214373"
      },
      "source": [
        "## Поиск гиперпараметров"
      ]
    },
    {
      "cell_type": "markdown",
      "id": "82e25fa8",
      "metadata": {
        "id": "82e25fa8"
      },
      "source": [
        "Для поиска наилучших гиперпараметров будем использовать фреймворк Optuna. В качестве метрики качества выбрана метрика f1-score, так как необходимо найти долю правильно предсказанных положительных объектов среди всех объектов, предсказанных положительным классом и долю правильно найденных положительных объектов среди всех объектов положительного класса."
      ]
    },
    {
      "cell_type": "code",
      "execution_count": null,
      "id": "e1bd1733",
      "metadata": {
        "id": "e1bd1733"
      },
      "outputs": [],
      "source": [
        "n = 10 # Количество проходов оптимизатора"
      ]
    },
    {
      "cell_type": "markdown",
      "id": "a784c98e",
      "metadata": {
        "id": "a784c98e"
      },
      "source": [
        "### Поиск гиперпараметров для случайного леса"
      ]
    },
    {
      "cell_type": "code",
      "execution_count": null,
      "id": "e3875e67",
      "metadata": {
        "colab": {
          "base_uri": "https://localhost:8080/",
          "height": 260,
          "referenced_widgets": [
            "f90b06fc3dba4448af9b3db3a17d26cd",
            "ff80646771cd4f9596b4ed9c793b5dea",
            "7d71920a4af0491cbfb2807adcfddcae",
            "f6ddb637dba24bd2935f48c316c372bb",
            "56b2051a21634765a8abef2eadcc48be",
            "8dd2df2dd41646aa902683e317d984eb",
            "f20f7928affc4adfa44d85b1f48bb10f",
            "069301cbbc0d450c92e6ba554ac4330e",
            "df6350fe0cb04be1aa2a7d8d6eca93c9",
            "2c699e3f8a2d407eae328e32a314bd5f",
            "82b935fc15874441b4a46692cbe3eda8"
          ]
        },
        "id": "e3875e67",
        "outputId": "cc2c8010-bf72-4edb-a4c2-461b1deb17ae"
      },
      "outputs": [
        {
          "name": "stderr",
          "output_type": "stream",
          "text": [
            "[I 2023-12-11 13:22:47,483] A new study created in memory with name: no-name-8de52a08-3b7b-42e2-8e87-0901cd005a13\n"
          ]
        },
        {
          "data": {
            "application/vnd.jupyter.widget-view+json": {
              "model_id": "f90b06fc3dba4448af9b3db3a17d26cd",
              "version_major": 2,
              "version_minor": 0
            },
            "text/plain": [
              "  0%|          | 0/10 [00:00<?, ?it/s]"
            ]
          },
          "metadata": {},
          "output_type": "display_data"
        },
        {
          "name": "stdout",
          "output_type": "stream",
          "text": [
            "[I 2023-12-11 13:23:04,472] Trial 0 finished with value: 0.6687085247575293 and parameters: {'max_depth': 28, 'n_estimators': 387, 'min_samples_leaf': 2}. Best is trial 0 with value: 0.6687085247575293.\n",
            "[I 2023-12-11 13:23:16,115] Trial 1 finished with value: 0.6787143410352394 and parameters: {'max_depth': 25, 'n_estimators': 243, 'min_samples_leaf': 4}. Best is trial 1 with value: 0.6787143410352394.\n",
            "[I 2023-12-11 13:23:26,600] Trial 2 finished with value: 0.6906816760475298 and parameters: {'max_depth': 7, 'n_estimators': 308, 'min_samples_leaf': 3}. Best is trial 2 with value: 0.6906816760475298.\n",
            "[I 2023-12-11 13:23:47,044] Trial 3 finished with value: 0.6162589572522855 and parameters: {'max_depth': 74, 'n_estimators': 315, 'min_samples_leaf': 1}. Best is trial 2 with value: 0.6906816760475298.\n",
            "[I 2023-12-11 13:24:05,542] Trial 4 finished with value: 0.65871606191322 and parameters: {'max_depth': 100, 'n_estimators': 414, 'min_samples_leaf': 2}. Best is trial 2 with value: 0.6906816760475298.\n",
            "[I 2023-12-11 13:24:13,721] Trial 5 finished with value: 0.7269118261596322 and parameters: {'max_depth': 3, 'n_estimators': 382, 'min_samples_leaf': 1}. Best is trial 5 with value: 0.7269118261596322.\n",
            "[I 2023-12-11 13:24:23,192] Trial 6 finished with value: 0.6777648728868241 and parameters: {'max_depth': 23, 'n_estimators': 173, 'min_samples_leaf': 3}. Best is trial 5 with value: 0.7269118261596322.\n",
            "[I 2023-12-11 13:24:39,035] Trial 7 finished with value: 0.6773154708231354 and parameters: {'max_depth': 57, 'n_estimators': 390, 'min_samples_leaf': 4}. Best is trial 5 with value: 0.7269118261596322.\n",
            "[I 2023-12-11 13:24:50,647] Trial 8 finished with value: 0.6711890439011904 and parameters: {'max_depth': 89, 'n_estimators': 216, 'min_samples_leaf': 3}. Best is trial 5 with value: 0.7269118261596322.\n",
            "[I 2023-12-11 13:25:02,522] Trial 9 finished with value: 0.6711890439011904 and parameters: {'max_depth': 61, 'n_estimators': 216, 'min_samples_leaf': 3}. Best is trial 5 with value: 0.7269118261596322.\n"
          ]
        }
      ],
      "source": [
        "def objective(trial):\n",
        "\n",
        "    params = {\n",
        "        'max_depth': trial.suggest_int('max_depth', 1, 100),\n",
        "        'n_estimators': trial.suggest_int('n_estimators', 100, 500),\n",
        "        'min_samples_leaf': trial.suggest_int('min_samples_leaf', 1, 4)\n",
        "\n",
        "    }\n",
        "\n",
        "    pipeline = make_pipeline(RandomForestClassifier(**params, random_state=0))\n",
        "    pipeline.fit(features_train, target_train)\n",
        "\n",
        "    return f1_score(pipeline.predict(features_valid), target_valid)\n",
        "\n",
        "study_forest = optuna.create_study(direction='maximize')\n",
        "study_forest.optimize(objective, n_trials=n, show_progress_bar=True)\n",
        "metrics.loc['forest', 'F1-score'] = study_forest.best_value"
      ]
    },
    {
      "cell_type": "markdown",
      "id": "bf32aba8",
      "metadata": {
        "id": "bf32aba8"
      },
      "source": [
        "### Поиск гиперпараметров для логистической регресии"
      ]
    },
    {
      "cell_type": "code",
      "execution_count": null,
      "id": "ca3de7c2",
      "metadata": {
        "colab": {
          "base_uri": "https://localhost:8080/",
          "height": 240,
          "referenced_widgets": [
            "b039057f802a4298ac95220e65c70ec9",
            "5cca0a0001b7412b8662a142aa6f0428",
            "57dbb147bff64d74beccda2f5148c583",
            "ff1e03072190495588d09abb8ed82d5c",
            "0c2ea83345a84c5a89b253204f526519",
            "f77fe0f2d71a439bb13356273b6bfafc",
            "d2a8e9034e214b9f851fa4dcf764d0f5",
            "85c027dbd5794dbd899de27bd7896143",
            "b18b75cf605649f59860761acbf1ed08",
            "71bf800d59c244c9a238a8b09736a4c1",
            "ae178d58d62b49f6902813ddc1fc5d4a"
          ]
        },
        "id": "ca3de7c2",
        "outputId": "28718024-4ce9-48cf-82be-cf641db5c121",
        "scrolled": false
      },
      "outputs": [
        {
          "name": "stderr",
          "output_type": "stream",
          "text": [
            "[I 2023-12-11 13:25:02,545] A new study created in memory with name: no-name-a94bbd7f-7191-480f-8cbc-8db844391953\n"
          ]
        },
        {
          "data": {
            "application/vnd.jupyter.widget-view+json": {
              "model_id": "b039057f802a4298ac95220e65c70ec9",
              "version_major": 2,
              "version_minor": 0
            },
            "text/plain": [
              "  0%|          | 0/10 [00:00<?, ?it/s]"
            ]
          },
          "metadata": {},
          "output_type": "display_data"
        },
        {
          "name": "stdout",
          "output_type": "stream",
          "text": [
            "[I 2023-12-11 13:25:09,557] Trial 0 finished with value: 0.633957945930482 and parameters: {'max_iter': 515, 'class_weight': 'balanced'}. Best is trial 0 with value: 0.633957945930482.\n",
            "[I 2023-12-11 13:25:17,601] Trial 1 finished with value: 0.6826362484157162 and parameters: {'max_iter': 962, 'class_weight': None}. Best is trial 1 with value: 0.6826362484157162.\n",
            "[I 2023-12-11 13:25:23,585] Trial 2 finished with value: 0.633957945930482 and parameters: {'max_iter': 542, 'class_weight': 'balanced'}. Best is trial 1 with value: 0.6826362484157162.\n",
            "[I 2023-12-11 13:25:33,174] Trial 3 finished with value: 0.633957945930482 and parameters: {'max_iter': 660, 'class_weight': 'balanced'}. Best is trial 1 with value: 0.6826362484157162.\n",
            "[I 2023-12-11 13:25:39,858] Trial 4 finished with value: 0.6826362484157162 and parameters: {'max_iter': 400, 'class_weight': None}. Best is trial 1 with value: 0.6826362484157162.\n",
            "[I 2023-12-11 13:25:46,732] Trial 5 finished with value: 0.6826362484157162 and parameters: {'max_iter': 788, 'class_weight': None}. Best is trial 1 with value: 0.6826362484157162.\n",
            "[I 2023-12-11 13:25:52,709] Trial 6 finished with value: 0.633957945930482 and parameters: {'max_iter': 431, 'class_weight': 'balanced'}. Best is trial 1 with value: 0.6826362484157162.\n",
            "[I 2023-12-11 13:25:59,315] Trial 7 finished with value: 0.633957945930482 and parameters: {'max_iter': 486, 'class_weight': 'balanced'}. Best is trial 1 with value: 0.6826362484157162.\n",
            "[I 2023-12-11 13:26:05,338] Trial 8 finished with value: 0.633957945930482 and parameters: {'max_iter': 805, 'class_weight': 'balanced'}. Best is trial 1 with value: 0.6826362484157162.\n",
            "[I 2023-12-11 13:26:12,388] Trial 9 finished with value: 0.633957945930482 and parameters: {'max_iter': 969, 'class_weight': 'balanced'}. Best is trial 1 with value: 0.6826362484157162.\n"
          ]
        }
      ],
      "source": [
        "def objective(trial):\n",
        "\n",
        "    params = {\n",
        "        'max_iter': trial.suggest_int('max_iter', 200, 1000),\n",
        "        'class_weight': trial.suggest_categorical('class_weight', [None, 'balanced'])\n",
        "\n",
        "    }\n",
        "\n",
        "    pipeline = make_pipeline(LogisticRegression(**params, random_state=0))\n",
        "    pipeline.fit(features_train, target_train)\n",
        "\n",
        "    return f1_score(pipeline.predict(features_valid), target_valid)\n",
        "\n",
        "study_log = optuna.create_study(direction='maximize')\n",
        "study_log.optimize(objective, n_trials=n, show_progress_bar=True)\n",
        "metrics.loc['regression', 'F1-score'] = study_log.best_value"
      ]
    },
    {
      "cell_type": "markdown",
      "id": "d5bca9c5",
      "metadata": {
        "id": "d5bca9c5"
      },
      "source": [
        "### Поиск гиперпараметров для градиентного бустинга"
      ]
    },
    {
      "cell_type": "code",
      "execution_count": null,
      "id": "1a80e604",
      "metadata": {
        "colab": {
          "base_uri": "https://localhost:8080/",
          "height": 1000,
          "referenced_widgets": [
            "66714236e98943a082ce2286832b963e",
            "b897390695a84ab2a84cb92bddb2e071",
            "5def22f8bcdc4edd82c39f0436234580",
            "542a7dc92502474d83365343c2738176",
            "25cd960646e6418faf1ffc842cc345a9",
            "25d67b45518a4a2f8c2791c8e39afae2",
            "5e30099e6dc1476fba88f4de1dc747e4",
            "4f112ccd0ebb47ca99a7601a89d3f39d",
            "07c758110c0b4a82828d73095c9891e5",
            "850a93c673164641b379d2dfe129e0c6",
            "6ec2df7740ee44208f2dc1bfadf1abf9"
          ]
        },
        "id": "1a80e604",
        "outputId": "f38c697a-efde-4234-96ba-832773a701b7",
        "scrolled": false
      },
      "outputs": [
        {
          "name": "stderr",
          "output_type": "stream",
          "text": [
            "[I 2023-12-11 15:06:40,916] A new study created in memory with name: no-name-a279657a-bab8-427a-a593-e9a7ba6cf990\n"
          ]
        },
        {
          "data": {
            "application/vnd.jupyter.widget-view+json": {
              "model_id": "66714236e98943a082ce2286832b963e",
              "version_major": 2,
              "version_minor": 0
            },
            "text/plain": [
              "  0%|          | 0/30 [00:00<?, ?it/s]"
            ]
          },
          "metadata": {},
          "output_type": "display_data"
        },
        {
          "name": "stdout",
          "output_type": "stream",
          "text": [
            "0:\tlearn: 0.6666186\ttotal: 29.3ms\tremaining: 2.79s\n",
            "95:\tlearn: 0.5518339\ttotal: 1.87s\tremaining: 0us\n",
            "[I 2023-12-11 15:06:55,658] Trial 0 finished with value: 0.6827887831232313 and parameters: {'iterations': 96, 'learning_rate': 0.17025075829384884, 'depth': 6, 'colsample_bylevel': 0.2630738746695838, 'min_data_in_leaf': 28}. Best is trial 0 with value: 0.6827887831232313.\n",
            "0:\tlearn: 0.6866447\ttotal: 1.21s\tremaining: 6m 58s\n",
            "100:\tlearn: 0.5446959\ttotal: 1m 25s\tremaining: 3m 27s\n",
            "200:\tlearn: 0.5227133\ttotal: 3m 2s\tremaining: 2m 11s\n",
            "300:\tlearn: 0.5106629\ttotal: 4m 42s\tremaining: 42.2s\n",
            "345:\tlearn: 0.5060644\ttotal: 5m 21s\tremaining: 0us\n",
            "[I 2023-12-11 15:12:25,422] Trial 1 finished with value: 0.6749185667752443 and parameters: {'iterations': 346, 'learning_rate': 0.01840116208559182, 'depth': 14, 'colsample_bylevel': 0.4241248344808127, 'min_data_in_leaf': 11}. Best is trial 0 with value: 0.6827887831232313.\n",
            "0:\tlearn: 0.6461568\ttotal: 42.1ms\tremaining: 17.6s\n",
            "100:\tlearn: 0.5503445\ttotal: 3.66s\tremaining: 11.5s\n",
            "200:\tlearn: 0.5449336\ttotal: 7.33s\tremaining: 7.99s\n",
            "300:\tlearn: 0.5411171\ttotal: 12.9s\tremaining: 5.09s\n",
            "400:\tlearn: 0.5380188\ttotal: 16.8s\tremaining: 796ms\n",
            "419:\tlearn: 0.5375875\ttotal: 17.6s\tremaining: 0us\n",
            "[I 2023-12-11 15:12:49,918] Trial 2 finished with value: 0.6822082746253363 and parameters: {'iterations': 420, 'learning_rate': 0.17368537351711077, 'depth': 4, 'colsample_bylevel': 0.9719274221173835, 'min_data_in_leaf': 16}. Best is trial 0 with value: 0.6827887831232313.\n",
            "0:\tlearn: 0.6284006\ttotal: 102ms\tremaining: 46.3s\n",
            "100:\tlearn: 0.4836128\ttotal: 11.4s\tremaining: 39.8s\n",
            "200:\tlearn: 0.4276879\ttotal: 25.1s\tremaining: 31.4s\n",
            "300:\tlearn: 0.3824699\ttotal: 37.8s\tremaining: 19.1s\n",
            "400:\tlearn: 0.3437330\ttotal: 51.3s\tremaining: 6.65s\n",
            "452:\tlearn: 0.3284135\ttotal: 59.4s\tremaining: 0us\n",
            "[I 2023-12-11 15:13:56,648] Trial 3 finished with value: 0.6683279342138051 and parameters: {'iterations': 453, 'learning_rate': 0.29875254857105205, 'depth': 11, 'colsample_bylevel': 0.13724246042798646, 'min_data_in_leaf': 56}. Best is trial 0 with value: 0.6827887831232313.\n",
            "0:\tlearn: 0.6884280\ttotal: 14.3ms\tremaining: 115ms\n",
            "8:\tlearn: 0.6477267\ttotal: 111ms\tremaining: 0us\n",
            "[I 2023-12-11 15:14:02,857] Trial 4 finished with value: 0.6694925517742523 and parameters: {'iterations': 9, 'learning_rate': 0.04313021943694429, 'depth': 5, 'colsample_bylevel': 0.6998526578604358, 'min_data_in_leaf': 34}. Best is trial 0 with value: 0.6827887831232313.\n",
            "0:\tlearn: 0.6876945\ttotal: 29.5ms\tremaining: 679ms\n",
            "23:\tlearn: 0.6014234\ttotal: 819ms\tremaining: 0us\n",
            "[I 2023-12-11 15:14:10,157] Trial 5 finished with value: 0.6909046093172294 and parameters: {'iterations': 24, 'learning_rate': 0.04344099622999969, 'depth': 13, 'colsample_bylevel': 0.2982176998509692, 'min_data_in_leaf': 47}. Best is trial 5 with value: 0.6909046093172294.\n",
            "0:\tlearn: 0.6928293\ttotal: 12.5ms\tremaining: 5.68s\n",
            "100:\tlearn: 0.6297003\ttotal: 1.47s\tremaining: 5.14s\n",
            "200:\tlearn: 0.6018976\ttotal: 2.83s\tremaining: 3.58s\n",
            "300:\tlearn: 0.5884708\ttotal: 5.34s\tremaining: 2.73s\n",
            "400:\tlearn: 0.5799170\ttotal: 7.65s\tremaining: 1.03s\n",
            "454:\tlearn: 0.5765430\ttotal: 8.36s\tremaining: 0us\n",
            "[I 2023-12-11 15:14:25,255] Trial 6 finished with value: 0.6992688481361621 and parameters: {'iterations': 455, 'learning_rate': 0.011261499696438618, 'depth': 2, 'colsample_bylevel': 0.11836809407309498, 'min_data_in_leaf': 61}. Best is trial 6 with value: 0.6992688481361621.\n",
            "0:\tlearn: 0.6764202\ttotal: 17.5ms\tremaining: 1.42s\n",
            "81:\tlearn: 0.5532752\ttotal: 1.14s\tremaining: 0us\n",
            "[I 2023-12-11 15:14:32,502] Trial 7 finished with value: 0.6883183568677791 and parameters: {'iterations': 82, 'learning_rate': 0.15916416251242216, 'depth': 5, 'colsample_bylevel': 0.9513146067365523, 'min_data_in_leaf': 49}. Best is trial 6 with value: 0.6992688481361621.\n",
            "0:\tlearn: 0.6875694\ttotal: 82.8ms\tremaining: 5.21s\n",
            "63:\tlearn: 0.5641317\ttotal: 2.71s\tremaining: 0us\n",
            "[I 2023-12-11 15:14:42,007] Trial 8 finished with value: 0.6821528306676822 and parameters: {'iterations': 64, 'learning_rate': 0.047943670076156006, 'depth': 12, 'colsample_bylevel': 0.8922282123743971, 'min_data_in_leaf': 7}. Best is trial 6 with value: 0.6992688481361621.\n",
            "0:\tlearn: 0.6840516\ttotal: 38.6ms\tremaining: 15s\n",
            "100:\tlearn: 0.5645290\ttotal: 5.08s\tremaining: 14.6s\n",
            "200:\tlearn: 0.5583628\ttotal: 8.48s\tremaining: 8.02s\n",
            "300:\tlearn: 0.5555111\ttotal: 11.7s\tremaining: 3.5s\n",
            "390:\tlearn: 0.5532605\ttotal: 14.9s\tremaining: 0us\n",
            "[I 2023-12-11 15:15:03,756] Trial 9 finished with value: 0.6860791826309067 and parameters: {'iterations': 391, 'learning_rate': 0.03105975514203313, 'depth': 4, 'colsample_bylevel': 0.6452647515691456, 'min_data_in_leaf': 46}. Best is trial 6 with value: 0.6992688481361621.\n",
            "0:\tlearn: 0.6929686\ttotal: 12.3ms\tremaining: 2.91s\n",
            "100:\tlearn: 0.6380607\ttotal: 1.41s\tremaining: 1.91s\n",
            "200:\tlearn: 0.6099308\ttotal: 2.75s\tremaining: 506ms\n",
            "237:\tlearn: 0.6031340\ttotal: 3.22s\tremaining: 0us\n",
            "[I 2023-12-11 15:15:13,460] Trial 10 finished with value: 0.7239146587411104 and parameters: {'iterations': 238, 'learning_rate': 0.010321435898867507, 'depth': 2, 'colsample_bylevel': 0.1010966100772415, 'min_data_in_leaf': 85}. Best is trial 10 with value: 0.7239146587411104.\n",
            "0:\tlearn: 0.6929697\ttotal: 18.3ms\tremaining: 4.22s\n",
            "100:\tlearn: 0.6377818\ttotal: 1.81s\tremaining: 2.32s\n",
            "200:\tlearn: 0.6130293\ttotal: 3.05s\tremaining: 455ms\n",
            "230:\tlearn: 0.6071891\ttotal: 3.43s\tremaining: 0us\n",
            "[I 2023-12-11 15:15:23,471] Trial 11 finished with value: 0.7139799481806915 and parameters: {'iterations': 231, 'learning_rate': 0.01026034760920458, 'depth': 2, 'colsample_bylevel': 0.08746810946763771, 'min_data_in_leaf': 88}. Best is trial 10 with value: 0.7239146587411104.\n",
            "0:\tlearn: 0.6928392\ttotal: 15.7ms\tremaining: 3.19s\n",
            "100:\tlearn: 0.6309166\ttotal: 1.43s\tremaining: 1.48s\n",
            "200:\tlearn: 0.6022815\ttotal: 3.75s\tremaining: 74.6ms\n",
            "204:\tlearn: 0.6010808\ttotal: 3.85s\tremaining: 0us\n",
            "[I 2023-12-11 15:15:33,975] Trial 12 finished with value: 0.7123689254707407 and parameters: {'iterations': 205, 'learning_rate': 0.010910534837634748, 'depth': 2, 'colsample_bylevel': 0.11851993401742911, 'min_data_in_leaf': 98}. Best is trial 10 with value: 0.7239146587411104.\n",
            "0:\tlearn: 0.6865821\ttotal: 53.8ms\tremaining: 12.8s\n",
            "100:\tlearn: 0.5595992\ttotal: 7.35s\tremaining: 10s\n",
            "200:\tlearn: 0.5485174\ttotal: 15.1s\tremaining: 2.86s\n",
            "238:\tlearn: 0.5461301\ttotal: 17.5s\tremaining: 0us\n",
            "[I 2023-12-11 15:15:57,589] Trial 13 finished with value: 0.6854089810456684 and parameters: {'iterations': 239, 'learning_rate': 0.02034047088048706, 'depth': 9, 'colsample_bylevel': 0.2739684827994152, 'min_data_in_leaf': 91}. Best is trial 10 with value: 0.7239146587411104.\n",
            "0:\tlearn: 0.6898155\ttotal: 17.4ms\tremaining: 2.75s\n",
            "100:\tlearn: 0.5746940\ttotal: 1.25s\tremaining: 717ms\n",
            "158:\tlearn: 0.5640308\ttotal: 1.95s\tremaining: 0us\n",
            "[I 2023-12-11 15:16:06,586] Trial 14 finished with value: 0.6871769007691337 and parameters: {'iterations': 159, 'learning_rate': 0.020654088960226042, 'depth': 7, 'colsample_bylevel': 0.44190233183044836, 'min_data_in_leaf': 75}. Best is trial 10 with value: 0.7239146587411104.\n",
            "0:\tlearn: 0.6925319\ttotal: 11.1ms\tremaining: 3.42s\n",
            "100:\tlearn: 0.5787719\ttotal: 1.45s\tremaining: 2.96s\n",
            "200:\tlearn: 0.5691903\ttotal: 3.61s\tremaining: 1.92s\n",
            "300:\tlearn: 0.5638168\ttotal: 5.41s\tremaining: 126ms\n",
            "307:\tlearn: 0.5638168\ttotal: 5.48s\tremaining: 0us\n",
            "[I 2023-12-11 15:16:18,685] Trial 15 finished with value: 0.6925518925518925 and parameters: {'iterations': 308, 'learning_rate': 0.08408617807049656, 'depth': 2, 'colsample_bylevel': 0.05622200117652986, 'min_data_in_leaf': 79}. Best is trial 10 with value: 0.7239146587411104.\n",
            "0:\tlearn: 0.6905722\ttotal: 43.5ms\tremaining: 12.6s\n",
            "100:\tlearn: 0.5747856\ttotal: 9.72s\tremaining: 18.3s\n",
            "200:\tlearn: 0.5585298\ttotal: 18.5s\tremaining: 8.27s\n",
            "290:\tlearn: 0.5521339\ttotal: 27.3s\tremaining: 0us\n",
            "[I 2023-12-11 15:16:52,540] Trial 16 finished with value: 0.6873815839333081 and parameters: {'iterations': 291, 'learning_rate': 0.010147769245453337, 'depth': 9, 'colsample_bylevel': 0.39020855749678174, 'min_data_in_leaf': 78}. Best is trial 10 with value: 0.7239146587411104.\n",
            "0:\tlearn: 0.6915061\ttotal: 21.7ms\tremaining: 3.56s\n",
            "100:\tlearn: 0.5850756\ttotal: 1.89s\tremaining: 1.19s\n",
            "164:\tlearn: 0.5701826\ttotal: 2.77s\tremaining: 0us\n",
            "[I 2023-12-11 15:17:02,018] Trial 17 finished with value: 0.6813581037796285 and parameters: {'iterations': 165, 'learning_rate': 0.015042054488291247, 'depth': 7, 'colsample_bylevel': 0.5807202576940871, 'min_data_in_leaf': 68}. Best is trial 10 with value: 0.7239146587411104.\n",
            "0:\tlearn: 0.6890186\ttotal: 18.3ms\tremaining: 4.95s\n",
            "100:\tlearn: 0.5721289\ttotal: 1.8s\tremaining: 3.05s\n",
            "200:\tlearn: 0.5625829\ttotal: 4.74s\tremaining: 1.68s\n",
            "271:\tlearn: 0.5605374\ttotal: 6.76s\tremaining: 0us\n",
            "[I 2023-12-11 15:17:14,634] Trial 18 finished with value: 0.6914786967418546 and parameters: {'iterations': 272, 'learning_rate': 0.030802597980206663, 'depth': 3, 'colsample_bylevel': 0.209861261626604, 'min_data_in_leaf': 90}. Best is trial 10 with value: 0.7239146587411104.\n",
            "0:\tlearn: 0.6659646\ttotal: 39.4ms\tremaining: 8.19s\n",
            "100:\tlearn: 0.5558944\ttotal: 3.23s\tremaining: 3.46s\n",
            "200:\tlearn: 0.5505795\ttotal: 8.4s\tremaining: 335ms\n",
            "208:\tlearn: 0.5502659\ttotal: 8.67s\tremaining: 0us\n",
            "[I 2023-12-11 15:17:29,171] Trial 19 finished with value: 0.6843051631132803 and parameters: {'iterations': 209, 'learning_rate': 0.08752384816365226, 'depth': 4, 'colsample_bylevel': 0.7467440907111811, 'min_data_in_leaf': 98}. Best is trial 10 with value: 0.7239146587411104.\n",
            "0:\tlearn: 0.6832850\ttotal: 162ms\tremaining: 56.1s\n",
            "100:\tlearn: 0.5261887\ttotal: 2m 31s\tremaining: 6m 10s\n",
            "200:\tlearn: 0.4988617\ttotal: 5m 20s\tremaining: 3m 54s\n",
            "300:\tlearn: 0.4828302\ttotal: 8m 18s\tremaining: 1m 17s\n",
            "347:\tlearn: 0.4721690\ttotal: 9m 48s\tremaining: 0us\n",
            "[I 2023-12-11 15:27:24,653] Trial 20 finished with value: 0.6766028523705512 and parameters: {'iterations': 348, 'learning_rate': 0.028784610305821627, 'depth': 15, 'colsample_bylevel': 0.34940366113921406, 'min_data_in_leaf': 86}. Best is trial 10 with value: 0.7239146587411104.\n",
            "0:\tlearn: 0.6917614\ttotal: 19.8ms\tremaining: 3.38s\n",
            "100:\tlearn: 0.6319619\ttotal: 2.05s\tremaining: 1.44s\n",
            "171:\tlearn: 0.6120313\ttotal: 2.77s\tremaining: 0us\n",
            "[I 2023-12-11 15:27:36,006] Trial 21 finished with value: 0.7024298626599366 and parameters: {'iterations': 172, 'learning_rate': 0.013288136116064891, 'depth': 2, 'colsample_bylevel': 0.17689981757799175, 'min_data_in_leaf': 97}. Best is trial 10 with value: 0.7239146587411104.\n",
            "0:\tlearn: 0.6930694\ttotal: 13.5ms\tremaining: 2.96s\n",
            "100:\tlearn: 0.6529554\ttotal: 2.25s\tremaining: 2.65s\n",
            "200:\tlearn: 0.6324346\ttotal: 4.46s\tremaining: 422ms\n",
            "219:\tlearn: 0.6262985\ttotal: 4.85s\tremaining: 0us\n",
            "[I 2023-12-11 15:27:48,420] Trial 22 finished with value: 0.7273765343990863 and parameters: {'iterations': 220, 'learning_rate': 0.01023780864980509, 'depth': 3, 'colsample_bylevel': 0.05205727940372901, 'min_data_in_leaf': 85}. Best is trial 22 with value: 0.7273765343990863.\n",
            "0:\tlearn: 0.6930281\ttotal: 10.5ms\tremaining: 2.43s\n",
            "100:\tlearn: 0.6348764\ttotal: 1.28s\tremaining: 1.66s\n",
            "200:\tlearn: 0.6072309\ttotal: 2.64s\tremaining: 407ms\n",
            "231:\tlearn: 0.6016027\ttotal: 3.39s\tremaining: 0us\n",
            "[I 2023-12-11 15:27:58,046] Trial 23 finished with value: 0.724343930019202 and parameters: {'iterations': 232, 'learning_rate': 0.015715149511537713, 'depth': 3, 'colsample_bylevel': 0.0574457688001943, 'min_data_in_leaf': 66}. Best is trial 22 with value: 0.7273765343990863.\n",
            "0:\tlearn: 0.6930295\ttotal: 3.58ms\tremaining: 445ms\n",
            "100:\tlearn: 0.6637614\ttotal: 393ms\tremaining: 93.5ms\n",
            "124:\tlearn: 0.6581539\ttotal: 481ms\tremaining: 0us\n",
            "[I 2023-12-11 15:28:04,671] Trial 24 finished with value: 0.7223573433115061 and parameters: {'iterations': 125, 'learning_rate': 0.015574117324190997, 'depth': 6, 'colsample_bylevel': 0.05643176446498399, 'min_data_in_leaf': 68}. Best is trial 22 with value: 0.7273765343990863.\n",
            "0:\tlearn: 0.6898669\ttotal: 18.5ms\tremaining: 5.89s\n",
            "100:\tlearn: 0.5761208\ttotal: 3.12s\tremaining: 6.73s\n",
            "200:\tlearn: 0.5654697\ttotal: 5.36s\tremaining: 3.14s\n",
            "300:\tlearn: 0.5619162\ttotal: 7.11s\tremaining: 425ms\n",
            "318:\tlearn: 0.5613259\ttotal: 7.42s\tremaining: 0us\n",
            "[I 2023-12-11 15:28:18,551] Trial 25 finished with value: 0.6913271682079482 and parameters: {'iterations': 319, 'learning_rate': 0.02436941819395605, 'depth': 3, 'colsample_bylevel': 0.2067003218118629, 'min_data_in_leaf': 69}. Best is trial 22 with value: 0.7273765343990863.\n",
            "0:\tlearn: 0.6887704\ttotal: 23.1ms\tremaining: 6.22s\n",
            "100:\tlearn: 0.5899831\ttotal: 2.8s\tremaining: 4.71s\n",
            "200:\tlearn: 0.5723028\ttotal: 5.37s\tremaining: 1.87s\n",
            "270:\tlearn: 0.5676782\ttotal: 6.56s\tremaining: 0us\n",
            "[I 2023-12-11 15:28:31,217] Trial 26 finished with value: 0.6921940408766314 and parameters: {'iterations': 271, 'learning_rate': 0.014650925394722139, 'depth': 3, 'colsample_bylevel': 0.18871212470162388, 'min_data_in_leaf': 82}. Best is trial 22 with value: 0.7273765343990863.\n",
            "0:\tlearn: 0.6877868\ttotal: 47.9ms\tremaining: 9.54s\n",
            "100:\tlearn: 0.5688710\ttotal: 4.49s\tremaining: 4.41s\n",
            "199:\tlearn: 0.5605921\ttotal: 8.68s\tremaining: 0us\n",
            "[I 2023-12-11 15:28:45,793] Trial 27 finished with value: 0.6874763048148615 and parameters: {'iterations': 200, 'learning_rate': 0.01783931306811168, 'depth': 5, 'colsample_bylevel': 0.4860716469583902, 'min_data_in_leaf': 61}. Best is trial 22 with value: 0.7273765343990863.\n",
            "0:\tlearn: 0.6914279\ttotal: 20ms\tremaining: 2.58s\n",
            "100:\tlearn: 0.5941251\ttotal: 993ms\tremaining: 285ms\n",
            "129:\tlearn: 0.5839997\ttotal: 1.3s\tremaining: 0us\n",
            "[I 2023-12-11 15:28:52,962] Trial 28 finished with value: 0.6909270949374922 and parameters: {'iterations': 130, 'learning_rate': 0.013128136346192549, 'depth': 8, 'colsample_bylevel': 0.27632102471907305, 'min_data_in_leaf': 74}. Best is trial 22 with value: 0.7273765343990863.\n",
            "0:\tlearn: 0.6849233\ttotal: 42.6ms\tremaining: 11s\n",
            "100:\tlearn: 0.5630333\ttotal: 3.52s\tremaining: 5.54s\n",
            "200:\tlearn: 0.5556018\ttotal: 7.06s\tremaining: 2.07s\n",
            "259:\tlearn: 0.5532368\ttotal: 10.3s\tremaining: 0us\n",
            "[I 2023-12-11 15:29:10,409] Trial 29 finished with value: 0.6846823770491803 and parameters: {'iterations': 260, 'learning_rate': 0.02472553557760008, 'depth': 6, 'colsample_bylevel': 0.3279330384052357, 'min_data_in_leaf': 56}. Best is trial 22 with value: 0.7273765343990863.\n"
          ]
        }
      ],
      "source": [
        "def objective(trial):\n",
        "\n",
        "    params = {\n",
        "      'iterations': trial.suggest_int('iterations', 1, 500),\n",
        "      'learning_rate': trial.suggest_float('learning_rate', 0.01, 0.3, log=True),\n",
        "      'depth': trial.suggest_int('depth', 2, 15),\n",
        "      'colsample_bylevel': trial.suggest_float('colsample_bylevel', 0.05, 1.0),\n",
        "      'min_data_in_leaf': trial.suggest_int('min_data_in_leaf', 1, 100),\n",
        "    }\n",
        "\n",
        "    pipeline = make_pipeline(CatBoostClassifier(**params, cat_features=cat_features, verbose=100, random_state=0), model_type='catboost')\n",
        "    pipeline.fit(features_train, target_train)\n",
        "\n",
        "    return f1_score(pipeline.predict(features_valid), target_valid)\n",
        "\n",
        "study_catboost = optuna.create_study(direction='maximize')\n",
        "study_catboost.optimize(objective, n_trials=n, show_progress_bar=True)\n",
        "metrics.loc['catboost', 'F1-score'] = study_catboost.best_value"
      ]
    },
    {
      "cell_type": "markdown",
      "id": "839d0aa0",
      "metadata": {
        "id": "839d0aa0"
      },
      "source": [
        "### Поиск гиперпараметров для полносвязной нейронной сети"
      ]
    },
    {
      "cell_type": "code",
      "execution_count": null,
      "id": "2322bd5b",
      "metadata": {
        "id": "2322bd5b"
      },
      "outputs": [],
      "source": [
        "ct = make_ct()\n",
        "X = ct.fit_transform(features_train)"
      ]
    },
    {
      "cell_type": "code",
      "execution_count": null,
      "id": "aa2866e0",
      "metadata": {
        "id": "aa2866e0",
        "scrolled": true
      },
      "outputs": [],
      "source": [
        "X = torch.FloatTensor(X)\n",
        "y = torch.FloatTensor(target_train.values)"
      ]
    },
    {
      "cell_type": "code",
      "execution_count": null,
      "id": "XoSQj__0kqJQ",
      "metadata": {
        "id": "XoSQj__0kqJQ"
      },
      "outputs": [],
      "source": [
        "def define_model(trial):\n",
        "\n",
        "    in_features = X.shape[1]\n",
        "    n_layers = trial.suggest_int('n_layers', 1, 10)\n",
        "    layers = []\n",
        "\n",
        "    for i in range(n_layers):\n",
        "        out_features = trial.suggest_int('n_units_layer{}'.format(i), 10, 100)\n",
        "        layers.append(nn.Linear(in_features, out_features))\n",
        "        layers.append(nn.ReLU())\n",
        "        p = trial.suggest_float('dropout_layer{}'.format(i), 0.2, 0.5)\n",
        "        layers.append(nn.Dropout(p))\n",
        "        in_features = out_features\n",
        "\n",
        "    layers.append(nn.Linear(in_features, 1))\n",
        "    layers.append(nn.Sigmoid())\n",
        "\n",
        "    return nn.Sequential(*layers)"
      ]
    },
    {
      "cell_type": "code",
      "execution_count": null,
      "id": "35586e8e",
      "metadata": {
        "colab": {
          "base_uri": "https://localhost:8080/",
          "height": 260,
          "referenced_widgets": [
            "d8c83f17ac064d43bf0ba8d6d909b347",
            "442558df014c44368f839980637705e8",
            "8b0aebaa8a3146b28f7b26910b1dc1eb",
            "db9e82d39e37489eba051d81ab814506",
            "6c5014d7fbca4e669d79cd59e24d8747",
            "c0ce9529a0ba44d7952b7bca76bf7dce",
            "3d553449e06c43c2b1d56f831da6497f",
            "5776e05a4bef499f8ac86cfbcce0417f",
            "2ff0d1d0df6c4724a8a214e23d5014f3",
            "6e5e8832aca54a35b86c0d0846037818",
            "a05f46253b7848d2893b1ae61f0fb495"
          ]
        },
        "id": "35586e8e",
        "outputId": "bb069e6a-813c-4878-b65a-22725699a1b6"
      },
      "outputs": [
        {
          "name": "stderr",
          "output_type": "stream",
          "text": [
            "[I 2023-12-11 15:29:42,327] A new study created in memory with name: no-name-eeb37ced-ac09-4dbd-bc12-11e5ced59991\n"
          ]
        },
        {
          "data": {
            "application/vnd.jupyter.widget-view+json": {
              "model_id": "d8c83f17ac064d43bf0ba8d6d909b347",
              "version_major": 2,
              "version_minor": 0
            },
            "text/plain": [
              "  0%|          | 0/10 [00:00<?, ?it/s]"
            ]
          },
          "metadata": {},
          "output_type": "display_data"
        },
        {
          "name": "stdout",
          "output_type": "stream",
          "text": [
            "[I 2023-12-11 15:30:27,647] Trial 0 finished with value: 0.6029673063255153 and parameters: {'n_layers': 3, 'n_units_layer0': 67, 'dropout_layer0': 0.370727400174249, 'n_units_layer1': 34, 'dropout_layer1': 0.23206925994130773, 'n_units_layer2': 61, 'dropout_layer2': 0.3499921756146269, 'lr': 0.045501487844748806, 'num_epochs': 602}. Best is trial 0 with value: 0.6029673063255153.\n",
            "[I 2023-12-11 15:30:57,338] Trial 1 finished with value: 0.7270573084352865 and parameters: {'n_layers': 6, 'n_units_layer0': 78, 'dropout_layer0': 0.2722427915281125, 'n_units_layer1': 37, 'dropout_layer1': 0.30109945185687087, 'n_units_layer2': 94, 'dropout_layer2': 0.2135505749987744, 'n_units_layer3': 35, 'dropout_layer3': 0.3380712843148733, 'n_units_layer4': 50, 'dropout_layer4': 0.2362769551328014, 'n_units_layer5': 26, 'dropout_layer5': 0.4457601340377766, 'lr': 0.07411797508599074, 'num_epochs': 224}. Best is trial 1 with value: 0.7270573084352865.\n",
            "[I 2023-12-11 15:32:32,281] Trial 2 finished with value: 0.7043658214276809 and parameters: {'n_layers': 8, 'n_units_layer0': 32, 'dropout_layer0': 0.2353157827740187, 'n_units_layer1': 72, 'dropout_layer1': 0.3721939908111477, 'n_units_layer2': 55, 'dropout_layer2': 0.24510262045090517, 'n_units_layer3': 53, 'dropout_layer3': 0.32534157968610855, 'n_units_layer4': 93, 'dropout_layer4': 0.22769646497544216, 'n_units_layer5': 60, 'dropout_layer5': 0.3951731130232582, 'n_units_layer6': 99, 'dropout_layer6': 0.45961867557865727, 'n_units_layer7': 63, 'dropout_layer7': 0.3277364969973424, 'lr': 0.0895941605364009, 'num_epochs': 403}. Best is trial 1 with value: 0.7270573084352865.\n",
            "[I 2023-12-11 15:32:53,583] Trial 3 finished with value: 0.6674236491777604 and parameters: {'n_layers': 1, 'n_units_layer0': 88, 'dropout_layer0': 0.4884058608188792, 'lr': 0.05581884293328621, 'num_epochs': 582}. Best is trial 1 with value: 0.7270573084352865.\n",
            "[I 2023-12-11 15:33:56,075] Trial 4 finished with value: 0.6784492588369441 and parameters: {'n_layers': 2, 'n_units_layer0': 95, 'dropout_layer0': 0.4986978593288741, 'n_units_layer1': 88, 'dropout_layer1': 0.36434608504334653, 'lr': 0.06923405570565996, 'num_epochs': 748}. Best is trial 1 with value: 0.7270573084352865.\n",
            "[I 2023-12-11 15:34:08,108] Trial 5 finished with value: 0.6582605393087733 and parameters: {'n_layers': 2, 'n_units_layer0': 27, 'dropout_layer0': 0.4717877179761561, 'n_units_layer1': 22, 'dropout_layer1': 0.3352248647377877, 'lr': 0.07853755182583223, 'num_epochs': 552}. Best is trial 1 with value: 0.7270573084352865.\n",
            "[I 2023-12-11 15:34:23,313] Trial 6 finished with value: 0.6784155985819471 and parameters: {'n_layers': 3, 'n_units_layer0': 20, 'dropout_layer0': 0.39898731676173393, 'n_units_layer1': 62, 'dropout_layer1': 0.3611211826532597, 'n_units_layer2': 59, 'dropout_layer2': 0.29074932315693386, 'lr': 0.05484768095796408, 'num_epochs': 246}. Best is trial 1 with value: 0.7270573084352865.\n",
            "[I 2023-12-11 15:36:27,394] Trial 7 finished with value: 0.6628054585845764 and parameters: {'n_layers': 5, 'n_units_layer0': 99, 'dropout_layer0': 0.38153070560450575, 'n_units_layer1': 95, 'dropout_layer1': 0.3907277102326861, 'n_units_layer2': 35, 'dropout_layer2': 0.49203069401979826, 'n_units_layer3': 38, 'dropout_layer3': 0.43672218412830394, 'n_units_layer4': 97, 'dropout_layer4': 0.4727861914428787, 'lr': 0.024048412645690104, 'num_epochs': 715}. Best is trial 1 with value: 0.7270573084352865.\n",
            "[I 2023-12-11 15:37:05,716] Trial 8 finished with value: 0.6770488756736667 and parameters: {'n_layers': 2, 'n_units_layer0': 67, 'dropout_layer0': 0.49208177243103574, 'n_units_layer1': 97, 'dropout_layer1': 0.3180987063116283, 'lr': 0.039222953337113356, 'num_epochs': 419}. Best is trial 1 with value: 0.7270573084352865.\n",
            "[I 2023-12-11 15:37:52,325] Trial 9 finished with value: 0.6416067100150051 and parameters: {'n_layers': 6, 'n_units_layer0': 41, 'dropout_layer0': 0.48730288112909836, 'n_units_layer1': 65, 'dropout_layer1': 0.22990906005330627, 'n_units_layer2': 46, 'dropout_layer2': 0.365908986060258, 'n_units_layer3': 53, 'dropout_layer3': 0.4529981977541462, 'n_units_layer4': 90, 'dropout_layer4': 0.4945214418868356, 'n_units_layer5': 82, 'dropout_layer5': 0.4944134187926589, 'lr': 0.04345326518214762, 'num_epochs': 284}. Best is trial 1 with value: 0.7270573084352865.\n"
          ]
        }
      ],
      "source": [
        "def objective(trial):\n",
        "\n",
        "    net = define_model(trial)\n",
        "\n",
        "    lr =  trial.suggest_float('lr', 0.001, 0.1)\n",
        "    optimizer = torch.optim.Adam(net.parameters(), lr=lr)\n",
        "    loss = nn.BCELoss()\n",
        "\n",
        "    num_epochs = trial.suggest_int('num_epochs', 100, 1000)\n",
        "\n",
        "    for epoch in range(num_epochs):\n",
        "        optimizer.zero_grad()\n",
        "        preds = net.forward(X).flatten()\n",
        "        loss_value = loss(preds, y)\n",
        "        loss_value.backward()\n",
        "        optimizer.step()\n",
        "\n",
        "    return f1_score([int(i > 0.5) for i in net.forward(X)], y)\n",
        "\n",
        "study_net = optuna.create_study(direction='maximize')\n",
        "study_net.optimize(objective, n_trials=n, show_progress_bar=True)\n",
        "metrics.loc['net', 'F1-score'] = study_net.best_value"
      ]
    },
    {
      "cell_type": "markdown",
      "id": "DImUGwKLW6r3",
      "metadata": {
        "id": "DImUGwKLW6r3"
      },
      "source": [
        "Итоговая метрика для моделей:"
      ]
    },
    {
      "cell_type": "code",
      "execution_count": null,
      "id": "e6ceca20",
      "metadata": {
        "colab": {
          "base_uri": "https://localhost:8080/",
          "height": 175
        },
        "id": "e6ceca20",
        "outputId": "ab5e277f-e781-495d-d63c-b360a0956a9a"
      },
      "outputs": [
        {
          "data": {
            "text/html": [
              "\n",
              "  <div id=\"df-aaccab19-5d27-4a37-a09a-d741a0a58dfa\" class=\"colab-df-container\">\n",
              "    <div>\n",
              "<style scoped>\n",
              "    .dataframe tbody tr th:only-of-type {\n",
              "        vertical-align: middle;\n",
              "    }\n",
              "\n",
              "    .dataframe tbody tr th {\n",
              "        vertical-align: top;\n",
              "    }\n",
              "\n",
              "    .dataframe thead th {\n",
              "        text-align: right;\n",
              "    }\n",
              "</style>\n",
              "<table border=\"1\" class=\"dataframe\">\n",
              "  <thead>\n",
              "    <tr style=\"text-align: right;\">\n",
              "      <th></th>\n",
              "      <th>F1-score</th>\n",
              "    </tr>\n",
              "  </thead>\n",
              "  <tbody>\n",
              "    <tr>\n",
              "      <th>forest</th>\n",
              "      <td>0.726912</td>\n",
              "    </tr>\n",
              "    <tr>\n",
              "      <th>regression</th>\n",
              "      <td>0.682636</td>\n",
              "    </tr>\n",
              "    <tr>\n",
              "      <th>catboost</th>\n",
              "      <td>0.727377</td>\n",
              "    </tr>\n",
              "    <tr>\n",
              "      <th>net</th>\n",
              "      <td>0.727057</td>\n",
              "    </tr>\n",
              "  </tbody>\n",
              "</table>\n",
              "</div>\n",
              "    <div class=\"colab-df-buttons\">\n",
              "\n",
              "  <div class=\"colab-df-container\">\n",
              "    <button class=\"colab-df-convert\" onclick=\"convertToInteractive('df-aaccab19-5d27-4a37-a09a-d741a0a58dfa')\"\n",
              "            title=\"Convert this dataframe to an interactive table.\"\n",
              "            style=\"display:none;\">\n",
              "\n",
              "  <svg xmlns=\"http://www.w3.org/2000/svg\" height=\"24px\" viewBox=\"0 -960 960 960\">\n",
              "    <path d=\"M120-120v-720h720v720H120Zm60-500h600v-160H180v160Zm220 220h160v-160H400v160Zm0 220h160v-160H400v160ZM180-400h160v-160H180v160Zm440 0h160v-160H620v160ZM180-180h160v-160H180v160Zm440 0h160v-160H620v160Z\"/>\n",
              "  </svg>\n",
              "    </button>\n",
              "\n",
              "  <style>\n",
              "    .colab-df-container {\n",
              "      display:flex;\n",
              "      gap: 12px;\n",
              "    }\n",
              "\n",
              "    .colab-df-convert {\n",
              "      background-color: #E8F0FE;\n",
              "      border: none;\n",
              "      border-radius: 50%;\n",
              "      cursor: pointer;\n",
              "      display: none;\n",
              "      fill: #1967D2;\n",
              "      height: 32px;\n",
              "      padding: 0 0 0 0;\n",
              "      width: 32px;\n",
              "    }\n",
              "\n",
              "    .colab-df-convert:hover {\n",
              "      background-color: #E2EBFA;\n",
              "      box-shadow: 0px 1px 2px rgba(60, 64, 67, 0.3), 0px 1px 3px 1px rgba(60, 64, 67, 0.15);\n",
              "      fill: #174EA6;\n",
              "    }\n",
              "\n",
              "    .colab-df-buttons div {\n",
              "      margin-bottom: 4px;\n",
              "    }\n",
              "\n",
              "    [theme=dark] .colab-df-convert {\n",
              "      background-color: #3B4455;\n",
              "      fill: #D2E3FC;\n",
              "    }\n",
              "\n",
              "    [theme=dark] .colab-df-convert:hover {\n",
              "      background-color: #434B5C;\n",
              "      box-shadow: 0px 1px 3px 1px rgba(0, 0, 0, 0.15);\n",
              "      filter: drop-shadow(0px 1px 2px rgba(0, 0, 0, 0.3));\n",
              "      fill: #FFFFFF;\n",
              "    }\n",
              "  </style>\n",
              "\n",
              "    <script>\n",
              "      const buttonEl =\n",
              "        document.querySelector('#df-aaccab19-5d27-4a37-a09a-d741a0a58dfa button.colab-df-convert');\n",
              "      buttonEl.style.display =\n",
              "        google.colab.kernel.accessAllowed ? 'block' : 'none';\n",
              "\n",
              "      async function convertToInteractive(key) {\n",
              "        const element = document.querySelector('#df-aaccab19-5d27-4a37-a09a-d741a0a58dfa');\n",
              "        const dataTable =\n",
              "          await google.colab.kernel.invokeFunction('convertToInteractive',\n",
              "                                                    [key], {});\n",
              "        if (!dataTable) return;\n",
              "\n",
              "        const docLinkHtml = 'Like what you see? Visit the ' +\n",
              "          '<a target=\"_blank\" href=https://colab.research.google.com/notebooks/data_table.ipynb>data table notebook</a>'\n",
              "          + ' to learn more about interactive tables.';\n",
              "        element.innerHTML = '';\n",
              "        dataTable['output_type'] = 'display_data';\n",
              "        await google.colab.output.renderOutput(dataTable, element);\n",
              "        const docLink = document.createElement('div');\n",
              "        docLink.innerHTML = docLinkHtml;\n",
              "        element.appendChild(docLink);\n",
              "      }\n",
              "    </script>\n",
              "  </div>\n",
              "\n",
              "\n",
              "<div id=\"df-6457c695-09f9-4d6a-8769-60d24cf5714b\">\n",
              "  <button class=\"colab-df-quickchart\" onclick=\"quickchart('df-6457c695-09f9-4d6a-8769-60d24cf5714b')\"\n",
              "            title=\"Suggest charts\"\n",
              "            style=\"display:none;\">\n",
              "\n",
              "<svg xmlns=\"http://www.w3.org/2000/svg\" height=\"24px\"viewBox=\"0 0 24 24\"\n",
              "     width=\"24px\">\n",
              "    <g>\n",
              "        <path d=\"M19 3H5c-1.1 0-2 .9-2 2v14c0 1.1.9 2 2 2h14c1.1 0 2-.9 2-2V5c0-1.1-.9-2-2-2zM9 17H7v-7h2v7zm4 0h-2V7h2v10zm4 0h-2v-4h2v4z\"/>\n",
              "    </g>\n",
              "</svg>\n",
              "  </button>\n",
              "\n",
              "<style>\n",
              "  .colab-df-quickchart {\n",
              "      --bg-color: #E8F0FE;\n",
              "      --fill-color: #1967D2;\n",
              "      --hover-bg-color: #E2EBFA;\n",
              "      --hover-fill-color: #174EA6;\n",
              "      --disabled-fill-color: #AAA;\n",
              "      --disabled-bg-color: #DDD;\n",
              "  }\n",
              "\n",
              "  [theme=dark] .colab-df-quickchart {\n",
              "      --bg-color: #3B4455;\n",
              "      --fill-color: #D2E3FC;\n",
              "      --hover-bg-color: #434B5C;\n",
              "      --hover-fill-color: #FFFFFF;\n",
              "      --disabled-bg-color: #3B4455;\n",
              "      --disabled-fill-color: #666;\n",
              "  }\n",
              "\n",
              "  .colab-df-quickchart {\n",
              "    background-color: var(--bg-color);\n",
              "    border: none;\n",
              "    border-radius: 50%;\n",
              "    cursor: pointer;\n",
              "    display: none;\n",
              "    fill: var(--fill-color);\n",
              "    height: 32px;\n",
              "    padding: 0;\n",
              "    width: 32px;\n",
              "  }\n",
              "\n",
              "  .colab-df-quickchart:hover {\n",
              "    background-color: var(--hover-bg-color);\n",
              "    box-shadow: 0 1px 2px rgba(60, 64, 67, 0.3), 0 1px 3px 1px rgba(60, 64, 67, 0.15);\n",
              "    fill: var(--button-hover-fill-color);\n",
              "  }\n",
              "\n",
              "  .colab-df-quickchart-complete:disabled,\n",
              "  .colab-df-quickchart-complete:disabled:hover {\n",
              "    background-color: var(--disabled-bg-color);\n",
              "    fill: var(--disabled-fill-color);\n",
              "    box-shadow: none;\n",
              "  }\n",
              "\n",
              "  .colab-df-spinner {\n",
              "    border: 2px solid var(--fill-color);\n",
              "    border-color: transparent;\n",
              "    border-bottom-color: var(--fill-color);\n",
              "    animation:\n",
              "      spin 1s steps(1) infinite;\n",
              "  }\n",
              "\n",
              "  @keyframes spin {\n",
              "    0% {\n",
              "      border-color: transparent;\n",
              "      border-bottom-color: var(--fill-color);\n",
              "      border-left-color: var(--fill-color);\n",
              "    }\n",
              "    20% {\n",
              "      border-color: transparent;\n",
              "      border-left-color: var(--fill-color);\n",
              "      border-top-color: var(--fill-color);\n",
              "    }\n",
              "    30% {\n",
              "      border-color: transparent;\n",
              "      border-left-color: var(--fill-color);\n",
              "      border-top-color: var(--fill-color);\n",
              "      border-right-color: var(--fill-color);\n",
              "    }\n",
              "    40% {\n",
              "      border-color: transparent;\n",
              "      border-right-color: var(--fill-color);\n",
              "      border-top-color: var(--fill-color);\n",
              "    }\n",
              "    60% {\n",
              "      border-color: transparent;\n",
              "      border-right-color: var(--fill-color);\n",
              "    }\n",
              "    80% {\n",
              "      border-color: transparent;\n",
              "      border-right-color: var(--fill-color);\n",
              "      border-bottom-color: var(--fill-color);\n",
              "    }\n",
              "    90% {\n",
              "      border-color: transparent;\n",
              "      border-bottom-color: var(--fill-color);\n",
              "    }\n",
              "  }\n",
              "</style>\n",
              "\n",
              "  <script>\n",
              "    async function quickchart(key) {\n",
              "      const quickchartButtonEl =\n",
              "        document.querySelector('#' + key + ' button');\n",
              "      quickchartButtonEl.disabled = true;  // To prevent multiple clicks.\n",
              "      quickchartButtonEl.classList.add('colab-df-spinner');\n",
              "      try {\n",
              "        const charts = await google.colab.kernel.invokeFunction(\n",
              "            'suggestCharts', [key], {});\n",
              "      } catch (error) {\n",
              "        console.error('Error during call to suggestCharts:', error);\n",
              "      }\n",
              "      quickchartButtonEl.classList.remove('colab-df-spinner');\n",
              "      quickchartButtonEl.classList.add('colab-df-quickchart-complete');\n",
              "    }\n",
              "    (() => {\n",
              "      let quickchartButtonEl =\n",
              "        document.querySelector('#df-6457c695-09f9-4d6a-8769-60d24cf5714b button');\n",
              "      quickchartButtonEl.style.display =\n",
              "        google.colab.kernel.accessAllowed ? 'block' : 'none';\n",
              "    })();\n",
              "  </script>\n",
              "</div>\n",
              "    </div>\n",
              "  </div>\n"
            ],
            "text/plain": [
              "            F1-score\n",
              "forest      0.726912\n",
              "regression  0.682636\n",
              "catboost    0.727377\n",
              "net         0.727057"
            ]
          },
          "execution_count": 47,
          "metadata": {},
          "output_type": "execute_result"
        }
      ],
      "source": [
        "metrics"
      ]
    },
    {
      "cell_type": "markdown",
      "id": "nuDgeyKRh0Ig",
      "metadata": {
        "id": "nuDgeyKRh0Ig"
      },
      "source": [
        "Модель на основе градиентного бустинга показала лучшие результаты."
      ]
    },
    {
      "cell_type": "markdown",
      "id": "b4407b8c",
      "metadata": {
        "id": "b4407b8c"
      },
      "source": [
        "# Проверка лучшей модели на тестовых данных"
      ]
    },
    {
      "cell_type": "code",
      "execution_count": null,
      "id": "3db9b9b4",
      "metadata": {
        "colab": {
          "base_uri": "https://localhost:8080/"
        },
        "id": "3db9b9b4",
        "outputId": "6f05ee05-dad9-4cb6-b33a-78873b1b8212",
        "scrolled": false
      },
      "outputs": [
        {
          "name": "stdout",
          "output_type": "stream",
          "text": [
            "Метрика на тестовых данных - 0.72\n"
          ]
        }
      ],
      "source": [
        "pipeline = make_pipeline(CatBoostClassifier(**study_catboost.best_params, cat_features=cat_features, verbose=False, random_state=0), model_type='catboost')\n",
        "pipeline.fit(pd.concat([features_train, features_valid]), pd.concat([target_train, target_valid]))\n",
        "predictions = pipeline.predict(features_test)\n",
        "print(f'Метрика на тестовых данных - {f1_score(predictions, target_test):.2}')"
      ]
    },
    {
      "cell_type": "markdown",
      "id": "ZXVKDDDlEg1U",
      "metadata": {
        "id": "ZXVKDDDlEg1U"
      },
      "source": [
        "## Построение матрицы ошибок"
      ]
    },
    {
      "cell_type": "code",
      "execution_count": null,
      "id": "h5VlSI8EEm54",
      "metadata": {
        "colab": {
          "base_uri": "https://localhost:8080/",
          "height": 449
        },
        "id": "h5VlSI8EEm54",
        "outputId": "e8a77499-6cf4-4011-dafc-74c78b68b33b"
      },
      "outputs": [
        {
          "data": {
            "image/png": "[encoded data removed]",
            "text/plain": [
              "<Figure size 640x480 with 2 Axes>"
            ]
          },
          "metadata": {},
          "output_type": "display_data"
        }
      ],
      "source": [
        "cm = confusion_matrix(target_test, predictions, labels=pipeline.classes_)\n",
        "disp = ConfusionMatrixDisplay(confusion_matrix=cm, display_labels=pipeline.classes_)\n",
        "disp.plot()\n",
        "plt.show()"
      ]
    },
    {
      "cell_type": "markdown",
      "id": "ZZjuR3xZJU5z",
      "metadata": {
        "id": "ZZjuR3xZJU5z"
      },
      "source": [
        "## Построение кривой precission-recall"
      ]
    },
    {
      "cell_type": "code",
      "execution_count": null,
      "id": "EZJ_wv4TJamg",
      "metadata": {
        "colab": {
          "base_uri": "https://localhost:8080/",
          "height": 449
        },
        "id": "EZJ_wv4TJamg",
        "outputId": "b300a52d-d56c-4dc3-fab5-273106026c46"
      },
      "outputs": [
        {
          "data": {
            "image/png": "[encoded data removed]",
            "text/plain": [
              "<Figure size 640x480 with 1 Axes>"
            ]
          },
          "metadata": {},
          "output_type": "display_data"
        }
      ],
      "source": [
        "predictions = pipeline.predict_proba(features_test)[:, 1]\n",
        "precision, recall, _ = precision_recall_curve(target_test, predictions)\n",
        "disp = PrecisionRecallDisplay(precision=precision, recall=recall)\n",
        "disp.plot()\n",
        "plt.show()"
      ]
    },
    {
      "cell_type": "markdown",
      "id": "n8zRuPXVKDSz",
      "metadata": {
        "id": "n8zRuPXVKDSz"
      },
      "source": [
        "## Важность признаков"
      ]
    },
    {
      "cell_type": "code",
      "execution_count": null,
      "id": "0f6a17e3",
      "metadata": {
        "colab": {
          "base_uri": "https://localhost:8080/",
          "height": 449
        },
        "id": "0f6a17e3",
        "outputId": "39dd3bb3-7a56-4a31-bd72-afe57481c7a7",
        "scrolled": false
      },
      "outputs": [
        {
          "data": {
            "image/png": "[encoded data removed]",
            "text/plain": [
              "<Figure size 640x480 with 1 Axes>"
            ]
          },
          "metadata": {},
          "output_type": "display_data"
        }
      ],
      "source": [
        "importances = pd.DataFrame({'features': pipeline[-1].feature_names_, 'scores': pipeline[-1].feature_importances_}).sort_values(by='scores', ascending=False)\n",
        "sns.barplot(importances, x='scores', y='features', orient='h')\n",
        "plt.xlabel('Важность')\n",
        "plt.ylabel('Признак')\n",
        "plt.show()"
      ]
    },
    {
      "cell_type": "markdown",
      "id": "sfFD_lSVicb4",
      "metadata": {
        "id": "sfFD_lSVicb4"
      },
      "source": [
        "График зависимости количества аварий от причины аварии:"
      ]
    },
    {
      "cell_type": "code",
      "execution_count": null,
      "id": "zqkJJbScOtek",
      "metadata": {
        "colab": {
          "base_uri": "https://localhost:8080/",
          "height": 449
        },
        "id": "zqkJJbScOtek",
        "outputId": "222ca2fc-3c9e-43d9-b0df-4647583710ad"
      },
      "outputs": [
        {
          "data": {
            "image/png": "[encoded data removed]",
            "text/plain": [
              "<Figure size 640x480 with 1 Axes>"
            ]
          },
          "metadata": {},
          "output_type": "display_data"
        }
      ],
      "source": [
        "pivot = df[df.at_fault == 1].pivot_table(index='primary_collision_factor', values='at_fault',  aggfunc='count').reset_index()\n",
        "sns.barplot(pivot, x='at_fault', y='primary_collision_factor', orient='h')\n",
        "plt.xlabel('Количество аварий')\n",
        "plt.ylabel('Причина аварии')\n",
        "plt.show()"
      ]
    },
    {
      "cell_type": "markdown",
      "id": "uJgv43E17eSm",
      "metadata": {
        "id": "uJgv43E17eSm"
      },
      "source": [
        "Основным фактором аварий является несоблюдение правил ДТП. Для предотвращения новых проишествий предлагается ввести дополнительную систему мотивации, поощеряющая соблюдение правил движения."
      ]
    },
    {
      "cell_type": "markdown",
      "id": "bcf47801",
      "metadata": {
        "id": "bcf47801"
      },
      "source": [
        "# Выводы"
      ]
    },
    {
      "cell_type": "markdown",
      "id": "SaN6GjPIeOzG",
      "metadata": {
        "id": "SaN6GjPIeOzG"
      },
      "source": [
        "В результате проработки задачи была разработана модель для оценки риска ДТП. Для улучшения качества модели предлагается добавить признаки водителя -  например, возраст, пол, семейное положение, стаж вождения и тп."
      ]
    }
  ],
  "metadata": {
    "ExecuteTimeLog": [
      {
        "duration": 1262,
        "start_time": "2023-11-29T15:19:02.680Z"
      },
      {
        "duration": 2,
        "start_time": "2023-11-29T15:19:03.944Z"
      },
      {
        "duration": 2,
        "start_time": "2023-11-29T15:19:17.581Z"
      },
      {
        "duration": 9937,
        "start_time": "2023-11-29T15:19:27.886Z"
      },
      {
        "duration": 208,
        "start_time": "2023-11-29T15:20:57.985Z"
      },
      {
        "duration": 49,
        "start_time": "2023-11-29T15:21:09.405Z"
      },
      {
        "duration": 11528,
        "start_time": "2023-11-29T15:21:16.856Z"
      },
      {
        "duration": 44,
        "start_time": "2023-11-29T15:30:25.980Z"
      },
      {
        "duration": 1190,
        "start_time": "2023-11-29T15:30:30.908Z"
      },
      {
        "duration": 3,
        "start_time": "2023-11-29T15:30:32.100Z"
      },
      {
        "duration": 14,
        "start_time": "2023-11-29T15:30:32.104Z"
      },
      {
        "duration": 10489,
        "start_time": "2023-11-29T15:30:32.120Z"
      },
      {
        "duration": 11135,
        "start_time": "2023-11-29T15:30:42.610Z"
      },
      {
        "duration": 3158,
        "start_time": "2023-11-29T15:30:53.747Z"
      },
      {
        "duration": 3151,
        "start_time": "2023-11-29T15:30:57.971Z"
      },
      {
        "duration": 43,
        "start_time": "2023-11-29T15:31:43.419Z"
      },
      {
        "duration": 5,
        "start_time": "2023-11-29T15:31:46.595Z"
      },
      {
        "duration": 1257,
        "start_time": "2023-11-29T15:32:31.861Z"
      },
      {
        "duration": 2,
        "start_time": "2023-11-29T15:32:33.120Z"
      },
      {
        "duration": 4,
        "start_time": "2023-11-29T15:32:33.124Z"
      },
      {
        "duration": 10160,
        "start_time": "2023-11-29T15:32:33.129Z"
      },
      {
        "duration": 11301,
        "start_time": "2023-11-29T15:32:43.291Z"
      },
      {
        "duration": 3373,
        "start_time": "2023-11-29T15:32:54.593Z"
      },
      {
        "duration": 2928,
        "start_time": "2023-11-29T15:32:57.967Z"
      },
      {
        "duration": 1099,
        "start_time": "2023-11-29T15:33:58.149Z"
      },
      {
        "duration": 3,
        "start_time": "2023-11-29T15:33:59.250Z"
      },
      {
        "duration": 4,
        "start_time": "2023-11-29T15:33:59.254Z"
      },
      {
        "duration": 9111,
        "start_time": "2023-11-29T15:33:59.260Z"
      },
      {
        "duration": 11458,
        "start_time": "2023-11-29T15:34:08.373Z"
      },
      {
        "duration": 3259,
        "start_time": "2023-11-29T15:34:19.832Z"
      },
      {
        "duration": 2868,
        "start_time": "2023-11-29T15:34:23.092Z"
      },
      {
        "duration": 1143,
        "start_time": "2023-11-29T15:34:47.707Z"
      },
      {
        "duration": 3,
        "start_time": "2023-11-29T15:34:48.851Z"
      },
      {
        "duration": 5,
        "start_time": "2023-11-29T15:34:48.855Z"
      },
      {
        "duration": 10236,
        "start_time": "2023-11-29T15:34:48.861Z"
      },
      {
        "duration": 11503,
        "start_time": "2023-11-29T15:34:59.099Z"
      },
      {
        "duration": 3190,
        "start_time": "2023-11-29T15:35:10.604Z"
      },
      {
        "duration": 2864,
        "start_time": "2023-11-29T15:35:13.796Z"
      },
      {
        "duration": 2,
        "start_time": "2023-11-29T15:35:16.662Z"
      },
      {
        "duration": 1,
        "start_time": "2023-11-29T15:35:21.468Z"
      },
      {
        "duration": 42,
        "start_time": "2023-11-29T15:35:36.279Z"
      },
      {
        "duration": 41,
        "start_time": "2023-11-29T15:35:41.228Z"
      },
      {
        "duration": 60,
        "start_time": "2023-11-29T15:40:33.923Z"
      },
      {
        "duration": 250,
        "start_time": "2023-11-29T15:41:04.580Z"
      },
      {
        "duration": 25984,
        "start_time": "2023-11-29T15:41:39.829Z"
      },
      {
        "duration": 85,
        "start_time": "2023-11-29T15:45:11.078Z"
      },
      {
        "duration": 67,
        "start_time": "2023-11-29T15:45:51.581Z"
      },
      {
        "duration": 1157,
        "start_time": "2023-11-29T15:45:55.396Z"
      },
      {
        "duration": 9516,
        "start_time": "2023-11-29T15:46:09.445Z"
      },
      {
        "duration": 11217,
        "start_time": "2023-11-29T15:46:27.038Z"
      },
      {
        "duration": 1187,
        "start_time": "2023-11-29T15:47:46.182Z"
      },
      {
        "duration": 9042,
        "start_time": "2023-11-29T15:47:47.371Z"
      },
      {
        "duration": 242,
        "start_time": "2023-11-29T15:47:56.415Z"
      },
      {
        "duration": 68,
        "start_time": "2023-11-29T15:48:09.437Z"
      },
      {
        "duration": 79,
        "start_time": "2023-11-29T15:48:30.117Z"
      },
      {
        "duration": 78,
        "start_time": "2023-11-29T15:49:04.149Z"
      },
      {
        "duration": 92,
        "start_time": "2023-11-29T15:49:09.309Z"
      },
      {
        "duration": 61,
        "start_time": "2023-11-29T15:49:13.389Z"
      },
      {
        "duration": 65,
        "start_time": "2023-11-29T15:49:22.797Z"
      },
      {
        "duration": 83,
        "start_time": "2023-11-29T15:49:27.356Z"
      },
      {
        "duration": 103,
        "start_time": "2023-11-29T15:49:36.133Z"
      },
      {
        "duration": 102,
        "start_time": "2023-11-29T15:49:46.646Z"
      },
      {
        "duration": 15162,
        "start_time": "2023-11-29T15:49:53.382Z"
      },
      {
        "duration": 216,
        "start_time": "2023-11-29T15:50:57.709Z"
      },
      {
        "duration": 265,
        "start_time": "2023-11-29T15:51:07.598Z"
      },
      {
        "duration": 19,
        "start_time": "2023-11-29T15:52:45.497Z"
      },
      {
        "duration": 6,
        "start_time": "2023-11-29T15:53:05.582Z"
      },
      {
        "duration": 5,
        "start_time": "2023-11-29T15:53:14.069Z"
      },
      {
        "duration": 4,
        "start_time": "2023-11-29T15:53:26.933Z"
      },
      {
        "duration": 154,
        "start_time": "2023-11-29T15:53:37.630Z"
      },
      {
        "duration": 15,
        "start_time": "2023-11-29T15:53:52.582Z"
      },
      {
        "duration": 167,
        "start_time": "2023-11-29T15:53:55.717Z"
      },
      {
        "duration": 136,
        "start_time": "2023-11-29T15:54:06.885Z"
      },
      {
        "duration": 1358,
        "start_time": "2023-11-30T08:14:39.848Z"
      },
      {
        "duration": 8979,
        "start_time": "2023-11-30T08:14:41.208Z"
      },
      {
        "duration": 71,
        "start_time": "2023-11-30T08:14:50.188Z"
      },
      {
        "duration": 11,
        "start_time": "2023-11-30T08:14:50.260Z"
      },
      {
        "duration": 12,
        "start_time": "2023-11-30T08:14:50.273Z"
      },
      {
        "duration": 16,
        "start_time": "2023-11-30T08:14:50.286Z"
      },
      {
        "duration": 25961,
        "start_time": "2023-11-30T08:14:50.304Z"
      },
      {
        "duration": 241,
        "start_time": "2023-11-30T08:15:16.267Z"
      },
      {
        "duration": 4,
        "start_time": "2023-11-30T08:15:16.510Z"
      },
      {
        "duration": 195,
        "start_time": "2023-11-30T08:15:16.516Z"
      },
      {
        "duration": 26970,
        "start_time": "2023-11-30T13:51:28.374Z"
      },
      {
        "duration": 244,
        "start_time": "2023-11-30T13:51:55.346Z"
      },
      {
        "duration": 4,
        "start_time": "2023-11-30T13:51:55.592Z"
      },
      {
        "duration": 181,
        "start_time": "2023-11-30T13:51:55.597Z"
      },
      {
        "duration": 1377,
        "start_time": "2023-12-01T14:45:38.852Z"
      },
      {
        "duration": 9330,
        "start_time": "2023-12-01T14:45:40.231Z"
      },
      {
        "duration": 225,
        "start_time": "2023-12-01T14:45:49.562Z"
      },
      {
        "duration": 39,
        "start_time": "2023-12-01T14:45:49.789Z"
      },
      {
        "duration": 40,
        "start_time": "2023-12-01T14:45:49.830Z"
      },
      {
        "duration": 43,
        "start_time": "2023-12-01T14:45:49.871Z"
      },
      {
        "duration": 26584,
        "start_time": "2023-12-01T14:45:49.916Z"
      },
      {
        "duration": 278,
        "start_time": "2023-12-01T14:46:16.501Z"
      },
      {
        "duration": 4,
        "start_time": "2023-12-01T14:46:16.780Z"
      },
      {
        "duration": 155,
        "start_time": "2023-12-01T14:46:16.785Z"
      },
      {
        "duration": 25671,
        "start_time": "2023-12-01T14:47:55.108Z"
      },
      {
        "duration": 245,
        "start_time": "2023-12-01T14:49:23.693Z"
      },
      {
        "duration": 149,
        "start_time": "2023-12-01T14:49:31.517Z"
      },
      {
        "duration": 454,
        "start_time": "2023-12-01T14:49:34.277Z"
      },
      {
        "duration": 118,
        "start_time": "2023-12-01T14:49:37.700Z"
      },
      {
        "duration": 182,
        "start_time": "2023-12-01T14:49:54.181Z"
      },
      {
        "duration": 206,
        "start_time": "2023-12-01T14:50:39.012Z"
      },
      {
        "duration": 561,
        "start_time": "2023-12-01T14:50:45.100Z"
      },
      {
        "duration": 460,
        "start_time": "2023-12-01T14:50:52.235Z"
      },
      {
        "duration": 42,
        "start_time": "2023-12-01T14:50:58.788Z"
      },
      {
        "duration": 136,
        "start_time": "2023-12-01T14:51:16.724Z"
      },
      {
        "duration": 143,
        "start_time": "2023-12-01T14:51:24.372Z"
      },
      {
        "duration": 474,
        "start_time": "2023-12-01T14:52:57.981Z"
      },
      {
        "duration": 472,
        "start_time": "2023-12-01T14:53:03.885Z"
      },
      {
        "duration": 448,
        "start_time": "2023-12-01T14:53:09.724Z"
      },
      {
        "duration": 42,
        "start_time": "2023-12-01T14:53:18.157Z"
      },
      {
        "duration": 152,
        "start_time": "2023-12-01T14:53:29.797Z"
      },
      {
        "duration": 508,
        "start_time": "2023-12-01T14:53:34.861Z"
      },
      {
        "duration": 41,
        "start_time": "2023-12-01T14:53:42.300Z"
      },
      {
        "duration": 41,
        "start_time": "2023-12-01T14:55:05.859Z"
      },
      {
        "duration": 42,
        "start_time": "2023-12-01T14:55:09.620Z"
      },
      {
        "duration": 25986,
        "start_time": "2023-12-01T14:55:21.221Z"
      },
      {
        "duration": 141,
        "start_time": "2023-12-01T14:56:37.022Z"
      },
      {
        "duration": 19482,
        "start_time": "2023-12-01T14:56:52.156Z"
      },
      {
        "duration": 8993,
        "start_time": "2023-12-01T14:58:50.477Z"
      },
      {
        "duration": 10542,
        "start_time": "2023-12-01T14:59:09.589Z"
      },
      {
        "duration": 218,
        "start_time": "2023-12-01T14:59:26.852Z"
      },
      {
        "duration": 4,
        "start_time": "2023-12-01T14:59:45.261Z"
      },
      {
        "duration": 3,
        "start_time": "2023-12-01T15:08:35.829Z"
      },
      {
        "duration": 4,
        "start_time": "2023-12-01T15:08:43.957Z"
      },
      {
        "duration": 12,
        "start_time": "2023-12-01T15:08:55.772Z"
      },
      {
        "duration": 2,
        "start_time": "2023-12-01T15:09:05.302Z"
      },
      {
        "duration": 45,
        "start_time": "2023-12-01T15:09:06.229Z"
      },
      {
        "duration": 30,
        "start_time": "2023-12-01T15:10:00.142Z"
      },
      {
        "duration": 122,
        "start_time": "2023-12-01T15:10:05.502Z"
      },
      {
        "duration": 10,
        "start_time": "2023-12-02T09:15:44.354Z"
      },
      {
        "duration": 44,
        "start_time": "2023-12-02T09:15:44.886Z"
      },
      {
        "duration": 5,
        "start_time": "2023-12-02T09:15:49.335Z"
      },
      {
        "duration": 1380,
        "start_time": "2023-12-02T09:15:51.962Z"
      },
      {
        "duration": 11079,
        "start_time": "2023-12-02T09:15:53.344Z"
      },
      {
        "duration": 244,
        "start_time": "2023-12-02T09:16:04.424Z"
      },
      {
        "duration": 42,
        "start_time": "2023-12-02T09:16:04.670Z"
      },
      {
        "duration": 43,
        "start_time": "2023-12-02T09:16:04.714Z"
      },
      {
        "duration": 45,
        "start_time": "2023-12-02T09:16:04.759Z"
      },
      {
        "duration": 26452,
        "start_time": "2023-12-02T09:16:04.805Z"
      },
      {
        "duration": 266,
        "start_time": "2023-12-02T09:16:31.258Z"
      },
      {
        "duration": 192,
        "start_time": "2023-12-02T09:16:31.526Z"
      },
      {
        "duration": 12259,
        "start_time": "2023-12-02T09:16:31.720Z"
      },
      {
        "duration": 4,
        "start_time": "2023-12-02T09:16:43.981Z"
      },
      {
        "duration": 23,
        "start_time": "2023-12-02T09:16:43.988Z"
      },
      {
        "duration": 155,
        "start_time": "2023-12-02T09:16:44.012Z"
      },
      {
        "duration": 141,
        "start_time": "2023-12-02T09:16:44.169Z"
      },
      {
        "duration": 5,
        "start_time": "2023-12-02T09:17:49.857Z"
      },
      {
        "duration": 128,
        "start_time": "2023-12-02T09:17:53.988Z"
      },
      {
        "duration": 79,
        "start_time": "2023-12-02T09:18:59.110Z"
      },
      {
        "duration": 46,
        "start_time": "2023-12-02T09:19:04.287Z"
      },
      {
        "duration": 124,
        "start_time": "2023-12-02T09:19:18.910Z"
      },
      {
        "duration": 9,
        "start_time": "2023-12-02T09:20:20.376Z"
      },
      {
        "duration": 51,
        "start_time": "2023-12-02T09:20:25.466Z"
      },
      {
        "duration": 41,
        "start_time": "2023-12-02T09:20:55.901Z"
      },
      {
        "duration": 134,
        "start_time": "2023-12-02T09:20:56.972Z"
      },
      {
        "duration": 38,
        "start_time": "2023-12-02T09:21:06.936Z"
      },
      {
        "duration": 126,
        "start_time": "2023-12-02T09:21:07.128Z"
      },
      {
        "duration": 325,
        "start_time": "2023-12-02T09:21:45.432Z"
      },
      {
        "duration": 468,
        "start_time": "2023-12-02T09:22:06.688Z"
      },
      {
        "duration": 938,
        "start_time": "2023-12-02T09:22:22.108Z"
      },
      {
        "duration": 621,
        "start_time": "2023-12-02T09:22:40.774Z"
      },
      {
        "duration": 5,
        "start_time": "2023-12-02T09:23:29.023Z"
      },
      {
        "duration": 34,
        "start_time": "2023-12-02T09:23:36.749Z"
      },
      {
        "duration": 19,
        "start_time": "2023-12-02T09:24:21.646Z"
      },
      {
        "duration": 20,
        "start_time": "2023-12-02T09:24:25.546Z"
      },
      {
        "duration": 37,
        "start_time": "2023-12-02T09:24:35.715Z"
      },
      {
        "duration": 23,
        "start_time": "2023-12-02T09:30:20.409Z"
      },
      {
        "duration": 37,
        "start_time": "2023-12-02T09:30:35.989Z"
      },
      {
        "duration": 34,
        "start_time": "2023-12-02T09:30:36.477Z"
      },
      {
        "duration": 39,
        "start_time": "2023-12-02T09:31:15.137Z"
      },
      {
        "duration": 21,
        "start_time": "2023-12-02T09:32:38.404Z"
      },
      {
        "duration": 18,
        "start_time": "2023-12-02T09:32:58.652Z"
      },
      {
        "duration": 10,
        "start_time": "2023-12-02T09:33:14.415Z"
      },
      {
        "duration": 8,
        "start_time": "2023-12-02T09:33:18.813Z"
      },
      {
        "duration": 23,
        "start_time": "2023-12-02T09:33:22.294Z"
      },
      {
        "duration": 227,
        "start_time": "2023-12-02T09:33:24.917Z"
      },
      {
        "duration": 201,
        "start_time": "2023-12-02T09:33:33.543Z"
      },
      {
        "duration": 77,
        "start_time": "2023-12-02T09:34:56.658Z"
      },
      {
        "duration": 197,
        "start_time": "2023-12-02T09:35:01.655Z"
      },
      {
        "duration": 1117,
        "start_time": "2023-12-02T09:38:53.191Z"
      },
      {
        "duration": 8595,
        "start_time": "2023-12-02T09:38:54.310Z"
      },
      {
        "duration": 252,
        "start_time": "2023-12-02T09:39:02.907Z"
      },
      {
        "duration": 42,
        "start_time": "2023-12-02T09:39:03.161Z"
      },
      {
        "duration": 43,
        "start_time": "2023-12-02T09:39:03.205Z"
      },
      {
        "duration": 45,
        "start_time": "2023-12-02T09:39:03.250Z"
      },
      {
        "duration": 26547,
        "start_time": "2023-12-02T09:39:03.296Z"
      },
      {
        "duration": 271,
        "start_time": "2023-12-02T09:39:29.844Z"
      },
      {
        "duration": 168,
        "start_time": "2023-12-02T09:39:30.117Z"
      },
      {
        "duration": 12247,
        "start_time": "2023-12-02T09:39:30.287Z"
      },
      {
        "duration": 4,
        "start_time": "2023-12-02T09:39:42.535Z"
      },
      {
        "duration": 3,
        "start_time": "2023-12-02T09:39:42.551Z"
      },
      {
        "duration": 129,
        "start_time": "2023-12-02T09:39:42.556Z"
      },
      {
        "duration": 56,
        "start_time": "2023-12-02T09:39:42.686Z"
      },
      {
        "duration": 138,
        "start_time": "2023-12-02T09:39:42.743Z"
      },
      {
        "duration": 45,
        "start_time": "2023-12-02T09:39:42.882Z"
      },
      {
        "duration": 125,
        "start_time": "2023-12-02T09:39:42.929Z"
      },
      {
        "duration": 644,
        "start_time": "2023-12-02T09:39:43.055Z"
      },
      {
        "duration": 240,
        "start_time": "2023-12-02T09:39:43.700Z"
      },
      {
        "duration": 232,
        "start_time": "2023-12-02T09:41:05.463Z"
      },
      {
        "duration": 227,
        "start_time": "2023-12-02T09:41:11.207Z"
      },
      {
        "duration": 232,
        "start_time": "2023-12-02T09:41:51.707Z"
      },
      {
        "duration": 129,
        "start_time": "2023-12-02T09:41:53.944Z"
      },
      {
        "duration": 584,
        "start_time": "2023-12-02T09:41:57.358Z"
      },
      {
        "duration": 78,
        "start_time": "2023-12-02T09:42:02.935Z"
      },
      {
        "duration": 27,
        "start_time": "2023-12-02T09:42:05.348Z"
      },
      {
        "duration": 82,
        "start_time": "2023-12-02T09:42:07.642Z"
      },
      {
        "duration": 954,
        "start_time": "2023-12-02T09:46:12.887Z"
      },
      {
        "duration": 8327,
        "start_time": "2023-12-03T07:24:31.231Z"
      },
      {
        "duration": 7028,
        "start_time": "2023-12-03T07:29:19.252Z"
      },
      {
        "duration": 1731,
        "start_time": "2023-12-03T07:29:26.282Z"
      },
      {
        "duration": 189,
        "start_time": "2023-12-03T07:30:06.891Z"
      },
      {
        "duration": 9592,
        "start_time": "2023-12-03T07:30:27.939Z"
      },
      {
        "duration": 5,
        "start_time": "2023-12-03T07:30:37.534Z"
      },
      {
        "duration": 9445,
        "start_time": "2023-12-03T07:33:30.336Z"
      },
      {
        "duration": 5,
        "start_time": "2023-12-03T07:33:39.783Z"
      },
      {
        "duration": 7862,
        "start_time": "2023-12-03T07:33:39.789Z"
      },
      {
        "duration": 258,
        "start_time": "2023-12-03T07:33:47.653Z"
      },
      {
        "duration": 40,
        "start_time": "2023-12-03T07:33:47.913Z"
      },
      {
        "duration": 42,
        "start_time": "2023-12-03T07:33:47.955Z"
      },
      {
        "duration": 44,
        "start_time": "2023-12-03T07:33:47.999Z"
      },
      {
        "duration": 26668,
        "start_time": "2023-12-03T07:33:48.044Z"
      },
      {
        "duration": 263,
        "start_time": "2023-12-03T07:34:14.713Z"
      },
      {
        "duration": 181,
        "start_time": "2023-12-03T07:34:14.977Z"
      },
      {
        "duration": 3297,
        "start_time": "2023-12-03T07:34:15.160Z"
      },
      {
        "duration": 9,
        "start_time": "2023-12-03T07:34:18.458Z"
      },
      {
        "duration": 5,
        "start_time": "2023-12-03T07:34:18.468Z"
      },
      {
        "duration": 138,
        "start_time": "2023-12-03T07:34:18.475Z"
      },
      {
        "duration": 52,
        "start_time": "2023-12-03T07:34:18.614Z"
      },
      {
        "duration": 137,
        "start_time": "2023-12-03T07:34:18.667Z"
      },
      {
        "duration": 35,
        "start_time": "2023-12-03T07:34:18.805Z"
      },
      {
        "duration": 157,
        "start_time": "2023-12-03T07:34:18.841Z"
      },
      {
        "duration": 277,
        "start_time": "2023-12-03T07:34:18.999Z"
      },
      {
        "duration": 288,
        "start_time": "2023-12-03T07:34:19.277Z"
      },
      {
        "duration": 802,
        "start_time": "2023-12-03T07:34:19.567Z"
      },
      {
        "duration": 136,
        "start_time": "2023-12-03T07:34:20.370Z"
      },
      {
        "duration": 23,
        "start_time": "2023-12-03T07:35:51.943Z"
      },
      {
        "duration": 27,
        "start_time": "2023-12-03T07:36:06.804Z"
      },
      {
        "duration": 91,
        "start_time": "2023-12-03T07:36:13.833Z"
      },
      {
        "duration": 4,
        "start_time": "2023-12-03T07:42:56.586Z"
      },
      {
        "duration": 9,
        "start_time": "2023-12-03T07:43:04.362Z"
      },
      {
        "duration": 12,
        "start_time": "2023-12-03T08:08:22.417Z"
      },
      {
        "duration": 4,
        "start_time": "2023-12-03T08:08:57.839Z"
      },
      {
        "duration": 3,
        "start_time": "2023-12-03T08:09:02.384Z"
      },
      {
        "duration": 10,
        "start_time": "2023-12-03T08:09:03.379Z"
      },
      {
        "duration": 22,
        "start_time": "2023-12-03T08:09:12.669Z"
      },
      {
        "duration": 11,
        "start_time": "2023-12-03T08:15:01.876Z"
      },
      {
        "duration": 22,
        "start_time": "2023-12-03T08:15:06.733Z"
      },
      {
        "duration": 4,
        "start_time": "2023-12-03T08:15:11.853Z"
      },
      {
        "duration": 4,
        "start_time": "2023-12-03T08:15:12.016Z"
      },
      {
        "duration": 13,
        "start_time": "2023-12-03T08:15:12.577Z"
      },
      {
        "duration": 21,
        "start_time": "2023-12-03T08:15:24.556Z"
      },
      {
        "duration": 23412,
        "start_time": "2023-12-03T08:15:50.203Z"
      },
      {
        "duration": 4,
        "start_time": "2023-12-03T08:18:16.450Z"
      },
      {
        "duration": 3,
        "start_time": "2023-12-03T08:18:16.838Z"
      },
      {
        "duration": 24,
        "start_time": "2023-12-03T08:18:17.361Z"
      },
      {
        "duration": 23260,
        "start_time": "2023-12-03T08:18:18.630Z"
      },
      {
        "duration": 21684,
        "start_time": "2023-12-03T08:20:00.364Z"
      },
      {
        "duration": 4,
        "start_time": "2023-12-03T08:20:22.050Z"
      },
      {
        "duration": 166,
        "start_time": "2023-12-03T08:20:54.999Z"
      },
      {
        "duration": 5,
        "start_time": "2023-12-03T08:20:55.437Z"
      },
      {
        "duration": 5,
        "start_time": "2023-12-03T08:20:55.865Z"
      },
      {
        "duration": 23,
        "start_time": "2023-12-03T08:20:56.189Z"
      },
      {
        "duration": 23067,
        "start_time": "2023-12-03T08:20:56.841Z"
      },
      {
        "duration": 248473,
        "start_time": "2023-12-04T10:10:00.145Z"
      },
      {
        "duration": 3220,
        "start_time": "2023-12-04T10:14:08.621Z"
      },
      {
        "duration": 60139,
        "start_time": "2023-12-04T10:14:11.842Z"
      },
      {
        "duration": 238,
        "start_time": "2023-12-04T10:15:11.983Z"
      },
      {
        "duration": 38,
        "start_time": "2023-12-04T10:15:12.223Z"
      },
      {
        "duration": 40,
        "start_time": "2023-12-04T10:15:12.263Z"
      },
      {
        "duration": 42,
        "start_time": "2023-12-04T10:15:12.304Z"
      },
      {
        "duration": 26369,
        "start_time": "2023-12-04T10:15:12.348Z"
      },
      {
        "duration": 262,
        "start_time": "2023-12-04T10:15:38.718Z"
      },
      {
        "duration": 175,
        "start_time": "2023-12-04T10:15:38.983Z"
      },
      {
        "duration": 11034,
        "start_time": "2023-12-04T10:15:39.159Z"
      },
      {
        "duration": 3,
        "start_time": "2023-12-04T10:15:50.195Z"
      },
      {
        "duration": 7,
        "start_time": "2023-12-04T10:15:50.200Z"
      },
      {
        "duration": 135,
        "start_time": "2023-12-04T10:15:50.208Z"
      },
      {
        "duration": 48,
        "start_time": "2023-12-04T10:15:50.345Z"
      },
      {
        "duration": 127,
        "start_time": "2023-12-04T10:15:50.394Z"
      },
      {
        "duration": 37,
        "start_time": "2023-12-04T10:15:50.523Z"
      },
      {
        "duration": 147,
        "start_time": "2023-12-04T10:15:50.561Z"
      },
      {
        "duration": 268,
        "start_time": "2023-12-04T10:15:50.710Z"
      },
      {
        "duration": 270,
        "start_time": "2023-12-04T10:15:50.980Z"
      },
      {
        "duration": 808,
        "start_time": "2023-12-04T10:15:51.252Z"
      },
      {
        "duration": 138,
        "start_time": "2023-12-04T10:15:52.061Z"
      },
      {
        "duration": 89,
        "start_time": "2023-12-04T10:15:52.200Z"
      },
      {
        "duration": 4,
        "start_time": "2023-12-04T10:15:52.291Z"
      },
      {
        "duration": 6,
        "start_time": "2023-12-04T10:15:52.296Z"
      },
      {
        "duration": 54,
        "start_time": "2023-12-04T10:15:52.303Z"
      },
      {
        "duration": 26651,
        "start_time": "2023-12-04T10:15:52.358Z"
      },
      {
        "duration": 23398,
        "start_time": "2023-12-04T11:07:54.015Z"
      },
      {
        "duration": 24834,
        "start_time": "2023-12-04T11:09:09.953Z"
      },
      {
        "duration": 21,
        "start_time": "2023-12-04T11:10:55.168Z"
      },
      {
        "duration": 5,
        "start_time": "2023-12-04T11:11:01.299Z"
      },
      {
        "duration": 20,
        "start_time": "2023-12-04T11:13:09.097Z"
      },
      {
        "duration": 56,
        "start_time": "2023-12-04T11:13:15.385Z"
      },
      {
        "duration": 75494,
        "start_time": "2023-12-04T11:13:17.953Z"
      },
      {
        "duration": 18,
        "start_time": "2023-12-04T11:27:42.882Z"
      },
      {
        "duration": 9789,
        "start_time": "2023-12-04T11:27:51.970Z"
      },
      {
        "duration": 10341,
        "start_time": "2023-12-04T11:28:20.658Z"
      },
      {
        "duration": 3,
        "start_time": "2023-12-04T11:28:50.106Z"
      },
      {
        "duration": 47,
        "start_time": "2023-12-04T11:28:50.432Z"
      },
      {
        "duration": 23624,
        "start_time": "2023-12-04T11:28:50.810Z"
      },
      {
        "duration": 9222,
        "start_time": "2023-12-04T11:29:14.435Z"
      },
      {
        "duration": 48,
        "start_time": "2023-12-04T11:29:48.923Z"
      },
      {
        "duration": 23010,
        "start_time": "2023-12-04T11:29:49.218Z"
      },
      {
        "duration": 0,
        "start_time": "2023-12-04T11:30:12.230Z"
      },
      {
        "duration": 63,
        "start_time": "2023-12-04T11:30:42.187Z"
      },
      {
        "duration": 25398,
        "start_time": "2023-12-04T11:30:42.890Z"
      },
      {
        "duration": 0,
        "start_time": "2023-12-04T11:31:08.290Z"
      },
      {
        "duration": 3,
        "start_time": "2023-12-04T11:31:47.730Z"
      },
      {
        "duration": 5,
        "start_time": "2023-12-04T11:32:03.506Z"
      },
      {
        "duration": 33,
        "start_time": "2023-12-04T11:32:14.994Z"
      },
      {
        "duration": 46508,
        "start_time": "2023-12-04T11:32:50.900Z"
      },
      {
        "duration": 48389,
        "start_time": "2023-12-04T11:34:06.197Z"
      },
      {
        "duration": 209,
        "start_time": "2023-12-04T11:35:07.586Z"
      },
      {
        "duration": 71,
        "start_time": "2023-12-04T11:35:07.978Z"
      },
      {
        "duration": 3,
        "start_time": "2023-12-04T11:35:57.050Z"
      },
      {
        "duration": 24295,
        "start_time": "2023-12-04T11:37:00.908Z"
      },
      {
        "duration": 44,
        "start_time": "2023-12-04T11:38:48.795Z"
      },
      {
        "duration": 22992,
        "start_time": "2023-12-04T11:38:49.635Z"
      },
      {
        "duration": 94,
        "start_time": "2023-12-04T11:39:52.178Z"
      },
      {
        "duration": 4,
        "start_time": "2023-12-04T11:39:54.305Z"
      },
      {
        "duration": 4,
        "start_time": "2023-12-04T11:39:55.706Z"
      },
      {
        "duration": 49,
        "start_time": "2023-12-04T11:39:58.651Z"
      },
      {
        "duration": 25247,
        "start_time": "2023-12-04T11:39:58.898Z"
      },
      {
        "duration": 0,
        "start_time": "2023-12-04T11:40:24.147Z"
      },
      {
        "duration": 4,
        "start_time": "2023-12-04T13:55:20.447Z"
      },
      {
        "duration": 3,
        "start_time": "2023-12-04T13:55:20.694Z"
      },
      {
        "duration": 38,
        "start_time": "2023-12-04T13:55:20.934Z"
      },
      {
        "duration": 25247,
        "start_time": "2023-12-04T13:55:21.519Z"
      },
      {
        "duration": 20,
        "start_time": "2023-12-04T13:57:36.935Z"
      },
      {
        "duration": 22,
        "start_time": "2023-12-04T13:57:45.943Z"
      },
      {
        "duration": 14,
        "start_time": "2023-12-04T13:59:36.670Z"
      },
      {
        "duration": 10,
        "start_time": "2023-12-04T14:00:07.310Z"
      },
      {
        "duration": 39,
        "start_time": "2023-12-04T14:00:14.104Z"
      },
      {
        "duration": 11,
        "start_time": "2023-12-04T14:00:16.111Z"
      },
      {
        "duration": 83,
        "start_time": "2023-12-04T14:00:35.550Z"
      },
      {
        "duration": 9,
        "start_time": "2023-12-04T14:00:39.183Z"
      },
      {
        "duration": 11,
        "start_time": "2023-12-04T14:01:23.831Z"
      },
      {
        "duration": 0,
        "start_time": "2023-12-04T14:02:04.990Z"
      },
      {
        "duration": 0,
        "start_time": "2023-12-04T14:02:04.991Z"
      },
      {
        "duration": 0,
        "start_time": "2023-12-04T14:02:04.992Z"
      },
      {
        "duration": 0,
        "start_time": "2023-12-04T14:02:04.993Z"
      },
      {
        "duration": 9452,
        "start_time": "2023-12-04T14:02:17.278Z"
      },
      {
        "duration": 4,
        "start_time": "2023-12-04T14:02:44.182Z"
      },
      {
        "duration": 4,
        "start_time": "2023-12-04T14:02:44.718Z"
      },
      {
        "duration": 43,
        "start_time": "2023-12-04T14:02:45.109Z"
      },
      {
        "duration": 2074,
        "start_time": "2023-12-04T14:02:47.054Z"
      },
      {
        "duration": 3,
        "start_time": "2023-12-04T14:04:14.480Z"
      },
      {
        "duration": 3,
        "start_time": "2023-12-04T14:04:14.774Z"
      },
      {
        "duration": 47,
        "start_time": "2023-12-04T14:04:15.175Z"
      },
      {
        "duration": 2094,
        "start_time": "2023-12-04T14:04:16.047Z"
      },
      {
        "duration": 4,
        "start_time": "2023-12-04T14:05:12.463Z"
      },
      {
        "duration": 4,
        "start_time": "2023-12-04T14:05:12.790Z"
      },
      {
        "duration": 51,
        "start_time": "2023-12-04T14:05:13.655Z"
      },
      {
        "duration": 11,
        "start_time": "2023-12-04T14:06:23.838Z"
      },
      {
        "duration": 20,
        "start_time": "2023-12-04T14:06:39.623Z"
      },
      {
        "duration": 4,
        "start_time": "2023-12-04T14:17:29.311Z"
      },
      {
        "duration": 4,
        "start_time": "2023-12-04T14:17:29.663Z"
      },
      {
        "duration": 39,
        "start_time": "2023-12-04T14:17:29.919Z"
      },
      {
        "duration": 70,
        "start_time": "2023-12-04T14:17:34.335Z"
      },
      {
        "duration": 4,
        "start_time": "2023-12-04T14:19:16.871Z"
      },
      {
        "duration": 3,
        "start_time": "2023-12-04T14:19:17.063Z"
      },
      {
        "duration": 41,
        "start_time": "2023-12-04T14:19:17.312Z"
      },
      {
        "duration": 2224,
        "start_time": "2023-12-04T14:19:18.096Z"
      },
      {
        "duration": 466,
        "start_time": "2023-12-04T14:20:09.135Z"
      },
      {
        "duration": 79,
        "start_time": "2023-12-04T14:20:41.383Z"
      },
      {
        "duration": 472,
        "start_time": "2023-12-04T14:20:43.807Z"
      },
      {
        "duration": 464,
        "start_time": "2023-12-04T14:20:48.879Z"
      },
      {
        "duration": 459,
        "start_time": "2023-12-04T14:20:54.471Z"
      },
      {
        "duration": 19,
        "start_time": "2023-12-04T14:21:00.975Z"
      },
      {
        "duration": 468,
        "start_time": "2023-12-04T14:22:12.871Z"
      },
      {
        "duration": 4,
        "start_time": "2023-12-04T14:22:33.415Z"
      },
      {
        "duration": 53,
        "start_time": "2023-12-04T14:22:34.039Z"
      },
      {
        "duration": 497,
        "start_time": "2023-12-04T14:22:35.688Z"
      },
      {
        "duration": 3,
        "start_time": "2023-12-04T14:22:54.727Z"
      },
      {
        "duration": 45,
        "start_time": "2023-12-04T14:22:55.111Z"
      },
      {
        "duration": 500,
        "start_time": "2023-12-04T14:22:55.831Z"
      },
      {
        "duration": 17,
        "start_time": "2023-12-04T14:23:33.640Z"
      },
      {
        "duration": 482,
        "start_time": "2023-12-04T14:23:35.831Z"
      },
      {
        "duration": 17,
        "start_time": "2023-12-04T14:23:39.143Z"
      },
      {
        "duration": 470,
        "start_time": "2023-12-04T14:23:39.343Z"
      },
      {
        "duration": 17,
        "start_time": "2023-12-04T14:24:11.991Z"
      },
      {
        "duration": 491,
        "start_time": "2023-12-04T14:24:14.766Z"
      },
      {
        "duration": 463,
        "start_time": "2023-12-04T14:24:19.151Z"
      },
      {
        "duration": 3,
        "start_time": "2023-12-04T14:24:22.367Z"
      },
      {
        "duration": 4,
        "start_time": "2023-12-04T14:24:31.663Z"
      },
      {
        "duration": 56,
        "start_time": "2023-12-04T14:24:32.191Z"
      },
      {
        "duration": 480,
        "start_time": "2023-12-04T14:24:33.751Z"
      },
      {
        "duration": 19,
        "start_time": "2023-12-04T14:24:57.231Z"
      },
      {
        "duration": 166,
        "start_time": "2023-12-04T14:24:57.782Z"
      },
      {
        "duration": 4,
        "start_time": "2023-12-04T14:25:05.982Z"
      },
      {
        "duration": 31,
        "start_time": "2023-12-04T14:25:07.871Z"
      },
      {
        "duration": 2268,
        "start_time": "2023-12-04T14:25:12.631Z"
      },
      {
        "duration": 9,
        "start_time": "2023-12-04T14:25:38.560Z"
      },
      {
        "duration": 217,
        "start_time": "2023-12-04T14:25:43.518Z"
      },
      {
        "duration": 15,
        "start_time": "2023-12-04T14:26:11.367Z"
      },
      {
        "duration": 23098,
        "start_time": "2023-12-04T14:26:12.166Z"
      },
      {
        "duration": 23024,
        "start_time": "2023-12-04T14:27:38.240Z"
      },
      {
        "duration": 17,
        "start_time": "2023-12-04T14:28:01.266Z"
      },
      {
        "duration": 13,
        "start_time": "2023-12-04T14:28:21.662Z"
      },
      {
        "duration": 13,
        "start_time": "2023-12-04T14:28:23.510Z"
      },
      {
        "duration": 12,
        "start_time": "2023-12-04T14:28:28.847Z"
      },
      {
        "duration": 12,
        "start_time": "2023-12-04T14:28:35.078Z"
      },
      {
        "duration": 13,
        "start_time": "2023-12-04T14:28:39.086Z"
      },
      {
        "duration": 40,
        "start_time": "2023-12-04T14:28:41.823Z"
      },
      {
        "duration": 3,
        "start_time": "2023-12-04T14:28:57.990Z"
      },
      {
        "duration": 36,
        "start_time": "2023-12-04T14:28:58.863Z"
      },
      {
        "duration": 23268,
        "start_time": "2023-12-04T14:29:00.095Z"
      },
      {
        "duration": 4,
        "start_time": "2023-12-04T14:29:54.206Z"
      },
      {
        "duration": 42,
        "start_time": "2023-12-04T14:29:54.694Z"
      },
      {
        "duration": 25228,
        "start_time": "2023-12-04T14:29:55.206Z"
      },
      {
        "duration": 72,
        "start_time": "2023-12-04T14:31:11.959Z"
      },
      {
        "duration": 101,
        "start_time": "2023-12-04T14:32:08.934Z"
      },
      {
        "duration": 140,
        "start_time": "2023-12-04T14:35:23.447Z"
      },
      {
        "duration": 182,
        "start_time": "2023-12-04T14:35:41.094Z"
      },
      {
        "duration": 268,
        "start_time": "2023-12-04T14:35:45.582Z"
      },
      {
        "duration": 193,
        "start_time": "2023-12-04T14:35:51.807Z"
      },
      {
        "duration": 202,
        "start_time": "2023-12-04T14:36:03.271Z"
      },
      {
        "duration": 26,
        "start_time": "2023-12-04T14:36:08.782Z"
      },
      {
        "duration": 191,
        "start_time": "2023-12-04T14:36:13.311Z"
      },
      {
        "duration": 190,
        "start_time": "2023-12-04T14:36:40.910Z"
      },
      {
        "duration": 117,
        "start_time": "2023-12-04T14:37:30.327Z"
      },
      {
        "duration": 6,
        "start_time": "2023-12-04T14:37:46.999Z"
      },
      {
        "duration": 5,
        "start_time": "2023-12-04T14:37:51.902Z"
      },
      {
        "duration": 9,
        "start_time": "2023-12-04T14:38:04.038Z"
      },
      {
        "duration": 10,
        "start_time": "2023-12-04T14:38:11.846Z"
      },
      {
        "duration": 13,
        "start_time": "2023-12-04T14:38:15.942Z"
      },
      {
        "duration": 2,
        "start_time": "2023-12-04T14:38:17.902Z"
      },
      {
        "duration": 2,
        "start_time": "2023-12-04T14:38:19.254Z"
      },
      {
        "duration": 2,
        "start_time": "2023-12-04T14:38:21.454Z"
      },
      {
        "duration": 3,
        "start_time": "2023-12-04T14:38:24.190Z"
      },
      {
        "duration": 3,
        "start_time": "2023-12-04T14:38:29.862Z"
      },
      {
        "duration": 5,
        "start_time": "2023-12-04T14:38:36.910Z"
      },
      {
        "duration": 4,
        "start_time": "2023-12-04T14:38:52.542Z"
      },
      {
        "duration": 3,
        "start_time": "2023-12-04T14:38:56.222Z"
      },
      {
        "duration": 10,
        "start_time": "2023-12-04T14:39:07.991Z"
      },
      {
        "duration": 23,
        "start_time": "2023-12-04T14:39:26.414Z"
      },
      {
        "duration": 24,
        "start_time": "2023-12-04T14:39:34.774Z"
      },
      {
        "duration": 5,
        "start_time": "2023-12-04T14:39:47.190Z"
      },
      {
        "duration": 12,
        "start_time": "2023-12-04T14:39:52.935Z"
      },
      {
        "duration": 12,
        "start_time": "2023-12-04T14:39:58.174Z"
      },
      {
        "duration": 17,
        "start_time": "2023-12-04T14:40:07.142Z"
      },
      {
        "duration": 13,
        "start_time": "2023-12-04T14:40:10.694Z"
      },
      {
        "duration": 194,
        "start_time": "2023-12-04T14:43:49.783Z"
      },
      {
        "duration": 266,
        "start_time": "2023-12-04T14:43:58.438Z"
      },
      {
        "duration": 21,
        "start_time": "2023-12-04T14:44:13.167Z"
      },
      {
        "duration": 23281,
        "start_time": "2023-12-04T14:44:17.358Z"
      },
      {
        "duration": 74,
        "start_time": "2023-12-04T14:44:40.641Z"
      },
      {
        "duration": 4,
        "start_time": "2023-12-04T14:45:22.222Z"
      },
      {
        "duration": 41,
        "start_time": "2023-12-04T14:45:22.822Z"
      },
      {
        "duration": 119769,
        "start_time": "2023-12-04T14:45:23.382Z"
      },
      {
        "duration": 9627,
        "start_time": "2023-12-04T14:47:28.446Z"
      },
      {
        "duration": 38,
        "start_time": "2023-12-04T14:47:48.903Z"
      },
      {
        "duration": 18,
        "start_time": "2023-12-04T14:48:13.719Z"
      },
      {
        "duration": 4,
        "start_time": "2023-12-04T14:48:16.134Z"
      },
      {
        "duration": 49,
        "start_time": "2023-12-04T14:48:19.743Z"
      },
      {
        "duration": 118930,
        "start_time": "2023-12-04T14:48:24.677Z"
      },
      {
        "duration": 9645,
        "start_time": "2023-12-04T14:50:23.610Z"
      },
      {
        "duration": 10,
        "start_time": "2023-12-04T14:50:33.256Z"
      },
      {
        "duration": 4,
        "start_time": "2023-12-04T14:55:04.487Z"
      },
      {
        "duration": 79,
        "start_time": "2023-12-04T14:55:22.415Z"
      },
      {
        "duration": 44,
        "start_time": "2023-12-04T14:56:50.463Z"
      },
      {
        "duration": 92,
        "start_time": "2023-12-04T14:58:20.863Z"
      },
      {
        "duration": 16,
        "start_time": "2023-12-04T14:58:21.311Z"
      },
      {
        "duration": 3,
        "start_time": "2023-12-04T14:58:21.551Z"
      },
      {
        "duration": 3,
        "start_time": "2023-12-04T14:58:21.870Z"
      },
      {
        "duration": 42,
        "start_time": "2023-12-04T14:58:22.223Z"
      },
      {
        "duration": 280745,
        "start_time": "2023-12-05T13:53:29.932Z"
      },
      {
        "duration": 4729,
        "start_time": "2023-12-05T13:58:10.679Z"
      },
      {
        "duration": 8644,
        "start_time": "2023-12-05T13:58:15.410Z"
      },
      {
        "duration": 69,
        "start_time": "2023-12-05T13:58:24.056Z"
      },
      {
        "duration": 9,
        "start_time": "2023-12-05T13:58:24.128Z"
      },
      {
        "duration": 15,
        "start_time": "2023-12-05T13:58:24.139Z"
      },
      {
        "duration": 34,
        "start_time": "2023-12-05T13:58:24.155Z"
      },
      {
        "duration": 25559,
        "start_time": "2023-12-05T13:58:24.191Z"
      },
      {
        "duration": 230,
        "start_time": "2023-12-05T13:58:49.751Z"
      },
      {
        "duration": 187,
        "start_time": "2023-12-05T13:58:49.983Z"
      },
      {
        "duration": 12203,
        "start_time": "2023-12-05T13:58:50.172Z"
      },
      {
        "duration": 4,
        "start_time": "2023-12-05T13:59:02.377Z"
      },
      {
        "duration": 26,
        "start_time": "2023-12-05T13:59:02.382Z"
      },
      {
        "duration": 179,
        "start_time": "2023-12-05T13:59:02.411Z"
      },
      {
        "duration": 53,
        "start_time": "2023-12-05T13:59:02.591Z"
      },
      {
        "duration": 159,
        "start_time": "2023-12-05T13:59:02.645Z"
      },
      {
        "duration": 60,
        "start_time": "2023-12-05T13:59:02.806Z"
      },
      {
        "duration": 146,
        "start_time": "2023-12-05T13:59:02.867Z"
      },
      {
        "duration": 322,
        "start_time": "2023-12-05T13:59:03.015Z"
      },
      {
        "duration": 330,
        "start_time": "2023-12-05T13:59:03.339Z"
      },
      {
        "duration": 826,
        "start_time": "2023-12-05T13:59:03.671Z"
      },
      {
        "duration": 167,
        "start_time": "2023-12-05T13:59:04.498Z"
      },
      {
        "duration": 100,
        "start_time": "2023-12-05T13:59:04.667Z"
      },
      {
        "duration": 19,
        "start_time": "2023-12-05T13:59:04.768Z"
      },
      {
        "duration": 7,
        "start_time": "2023-12-05T13:59:04.789Z"
      },
      {
        "duration": 19,
        "start_time": "2023-12-05T13:59:04.797Z"
      },
      {
        "duration": 47,
        "start_time": "2023-12-05T13:59:04.817Z"
      },
      {
        "duration": 123095,
        "start_time": "2023-12-05T13:59:04.866Z"
      },
      {
        "duration": 10327,
        "start_time": "2023-12-05T14:01:07.963Z"
      },
      {
        "duration": 9,
        "start_time": "2023-12-05T14:01:18.292Z"
      },
      {
        "duration": 172,
        "start_time": "2023-12-05T14:04:48.010Z"
      },
      {
        "duration": 9907,
        "start_time": "2023-12-05T14:05:29.822Z"
      },
      {
        "duration": 12100,
        "start_time": "2023-12-05T14:06:01.666Z"
      },
      {
        "duration": 3886,
        "start_time": "2023-12-05T14:06:13.769Z"
      },
      {
        "duration": 9955,
        "start_time": "2023-12-05T14:06:17.657Z"
      },
      {
        "duration": 60,
        "start_time": "2023-12-05T14:06:27.614Z"
      },
      {
        "duration": 10,
        "start_time": "2023-12-05T14:06:27.676Z"
      },
      {
        "duration": 32,
        "start_time": "2023-12-05T14:06:27.687Z"
      },
      {
        "duration": 24,
        "start_time": "2023-12-05T14:06:27.721Z"
      },
      {
        "duration": 28884,
        "start_time": "2023-12-05T14:06:27.747Z"
      },
      {
        "duration": 232,
        "start_time": "2023-12-05T14:06:56.634Z"
      },
      {
        "duration": 171,
        "start_time": "2023-12-05T14:06:56.868Z"
      },
      {
        "duration": 13522,
        "start_time": "2023-12-05T14:06:57.040Z"
      },
      {
        "duration": 5,
        "start_time": "2023-12-05T14:07:10.564Z"
      },
      {
        "duration": 9,
        "start_time": "2023-12-05T14:07:10.571Z"
      },
      {
        "duration": 177,
        "start_time": "2023-12-05T14:07:10.583Z"
      },
      {
        "duration": 54,
        "start_time": "2023-12-05T14:07:10.762Z"
      },
      {
        "duration": 160,
        "start_time": "2023-12-05T14:07:10.818Z"
      },
      {
        "duration": 48,
        "start_time": "2023-12-05T14:07:10.980Z"
      },
      {
        "duration": 161,
        "start_time": "2023-12-05T14:07:11.029Z"
      },
      {
        "duration": 324,
        "start_time": "2023-12-05T14:07:11.193Z"
      },
      {
        "duration": 337,
        "start_time": "2023-12-05T14:07:11.519Z"
      },
      {
        "duration": 857,
        "start_time": "2023-12-05T14:07:11.858Z"
      },
      {
        "duration": 183,
        "start_time": "2023-12-05T14:07:12.717Z"
      },
      {
        "duration": 114,
        "start_time": "2023-12-05T14:07:12.902Z"
      },
      {
        "duration": 28,
        "start_time": "2023-12-05T14:07:13.018Z"
      },
      {
        "duration": 12,
        "start_time": "2023-12-05T14:07:13.048Z"
      },
      {
        "duration": 17,
        "start_time": "2023-12-05T14:07:13.062Z"
      },
      {
        "duration": 46,
        "start_time": "2023-12-05T14:07:13.081Z"
      },
      {
        "duration": 121831,
        "start_time": "2023-12-05T14:07:13.129Z"
      },
      {
        "duration": 527044,
        "start_time": "2023-12-05T14:09:14.962Z"
      },
      {
        "duration": 10331,
        "start_time": "2023-12-05T14:18:02.008Z"
      },
      {
        "duration": 14,
        "start_time": "2023-12-05T14:18:12.341Z"
      },
      {
        "duration": 27677,
        "start_time": "2023-12-05T14:21:31.081Z"
      },
      {
        "duration": 79935,
        "start_time": "2023-12-05T14:22:50.240Z"
      },
      {
        "duration": 391510,
        "start_time": "2023-12-05T14:24:21.128Z"
      },
      {
        "duration": 330,
        "start_time": "2023-12-05T14:33:30.792Z"
      },
      {
        "duration": 349,
        "start_time": "2023-12-05T14:33:44.118Z"
      },
      {
        "duration": 20,
        "start_time": "2023-12-05T15:10:48.508Z"
      },
      {
        "duration": 25,
        "start_time": "2023-12-05T15:11:00.292Z"
      },
      {
        "duration": 25,
        "start_time": "2023-12-05T15:11:11.197Z"
      },
      {
        "duration": 19,
        "start_time": "2023-12-05T15:11:18.108Z"
      },
      {
        "duration": 4,
        "start_time": "2023-12-05T15:11:18.627Z"
      },
      {
        "duration": 49,
        "start_time": "2023-12-05T15:11:19.147Z"
      },
      {
        "duration": 130774,
        "start_time": "2023-12-05T15:11:24.540Z"
      },
      {
        "duration": 45,
        "start_time": "2023-12-05T15:14:39.300Z"
      },
      {
        "duration": 40,
        "start_time": "2023-12-05T15:15:03.308Z"
      },
      {
        "duration": 88,
        "start_time": "2023-12-05T15:15:15.381Z"
      },
      {
        "duration": 82,
        "start_time": "2023-12-05T15:15:28.196Z"
      },
      {
        "duration": 4,
        "start_time": "2023-12-05T15:15:37.493Z"
      },
      {
        "duration": 15,
        "start_time": "2023-12-05T15:15:41.053Z"
      },
      {
        "duration": 18,
        "start_time": "2023-12-05T15:15:48.260Z"
      },
      {
        "duration": 3,
        "start_time": "2023-12-05T15:15:48.868Z"
      },
      {
        "duration": 16,
        "start_time": "2023-12-05T15:15:49.796Z"
      },
      {
        "duration": 50,
        "start_time": "2023-12-05T15:15:58.092Z"
      },
      {
        "duration": 50,
        "start_time": "2023-12-05T15:16:47.829Z"
      },
      {
        "duration": 39,
        "start_time": "2023-12-05T15:17:25.669Z"
      },
      {
        "duration": 76,
        "start_time": "2023-12-05T15:17:59.764Z"
      },
      {
        "duration": 42462,
        "start_time": "2023-12-05T15:18:06.060Z"
      },
      {
        "duration": 54,
        "start_time": "2023-12-05T15:21:26.115Z"
      },
      {
        "duration": 51,
        "start_time": "2023-12-05T15:21:40.701Z"
      },
      {
        "duration": 42161,
        "start_time": "2023-12-05T15:21:42.708Z"
      },
      {
        "duration": 5,
        "start_time": "2023-12-05T15:23:00.269Z"
      },
      {
        "duration": 4,
        "start_time": "2023-12-05T15:23:00.588Z"
      },
      {
        "duration": 62,
        "start_time": "2023-12-05T15:23:00.837Z"
      },
      {
        "duration": 44026,
        "start_time": "2023-12-05T15:23:01.453Z"
      },
      {
        "duration": 88,
        "start_time": "2023-12-05T15:23:45.482Z"
      },
      {
        "duration": 58,
        "start_time": "2023-12-05T16:17:59.160Z"
      },
      {
        "duration": 11510,
        "start_time": "2023-12-05T16:18:14.797Z"
      },
      {
        "duration": 5,
        "start_time": "2023-12-05T16:18:26.309Z"
      },
      {
        "duration": 48,
        "start_time": "2023-12-05T16:18:26.316Z"
      },
      {
        "duration": 7,
        "start_time": "2023-12-05T16:18:26.367Z"
      },
      {
        "duration": 76,
        "start_time": "2023-12-05T16:18:26.376Z"
      },
      {
        "duration": 9,
        "start_time": "2023-12-05T16:18:26.454Z"
      },
      {
        "duration": 12,
        "start_time": "2023-12-05T16:18:26.464Z"
      },
      {
        "duration": 13,
        "start_time": "2023-12-05T16:18:26.477Z"
      },
      {
        "duration": 26795,
        "start_time": "2023-12-05T16:18:26.492Z"
      },
      {
        "duration": 234,
        "start_time": "2023-12-05T16:18:53.291Z"
      },
      {
        "duration": 175,
        "start_time": "2023-12-05T16:18:53.526Z"
      },
      {
        "duration": 12311,
        "start_time": "2023-12-05T16:18:53.703Z"
      },
      {
        "duration": 3,
        "start_time": "2023-12-05T16:19:06.016Z"
      },
      {
        "duration": 32,
        "start_time": "2023-12-05T16:19:06.020Z"
      },
      {
        "duration": 176,
        "start_time": "2023-12-05T16:19:06.053Z"
      },
      {
        "duration": 53,
        "start_time": "2023-12-05T16:19:06.230Z"
      },
      {
        "duration": 152,
        "start_time": "2023-12-05T16:19:06.285Z"
      },
      {
        "duration": 48,
        "start_time": "2023-12-05T16:19:06.439Z"
      },
      {
        "duration": 168,
        "start_time": "2023-12-05T16:19:06.488Z"
      },
      {
        "duration": 303,
        "start_time": "2023-12-05T16:19:06.658Z"
      },
      {
        "duration": 324,
        "start_time": "2023-12-05T16:19:06.963Z"
      },
      {
        "duration": 732,
        "start_time": "2023-12-05T16:19:07.288Z"
      },
      {
        "duration": 391,
        "start_time": "2023-12-05T16:19:08.022Z"
      },
      {
        "duration": 185,
        "start_time": "2023-12-05T16:19:08.415Z"
      },
      {
        "duration": 188,
        "start_time": "2023-12-05T16:19:08.603Z"
      },
      {
        "duration": 5,
        "start_time": "2023-12-05T16:19:08.792Z"
      },
      {
        "duration": 33,
        "start_time": "2023-12-05T16:19:08.798Z"
      },
      {
        "duration": 68,
        "start_time": "2023-12-05T16:19:08.834Z"
      },
      {
        "duration": 41559,
        "start_time": "2023-12-05T16:19:08.903Z"
      },
      {
        "duration": 103,
        "start_time": "2023-12-05T16:19:50.465Z"
      },
      {
        "duration": 0,
        "start_time": "2023-12-05T16:19:50.569Z"
      },
      {
        "duration": 0,
        "start_time": "2023-12-05T16:19:50.571Z"
      },
      {
        "duration": 0,
        "start_time": "2023-12-05T16:19:50.572Z"
      },
      {
        "duration": 24968,
        "start_time": "2023-12-05T16:20:16.813Z"
      },
      {
        "duration": 12,
        "start_time": "2023-12-05T16:25:19.929Z"
      },
      {
        "duration": 43,
        "start_time": "2023-12-05T16:25:53.290Z"
      },
      {
        "duration": 41,
        "start_time": "2023-12-06T07:37:20.608Z"
      },
      {
        "duration": 269361,
        "start_time": "2023-12-06T07:50:22.040Z"
      },
      {
        "duration": 3657,
        "start_time": "2023-12-06T07:54:51.403Z"
      },
      {
        "duration": 32,
        "start_time": "2023-12-06T07:54:55.062Z"
      },
      {
        "duration": 5080,
        "start_time": "2023-12-06T07:54:55.096Z"
      },
      {
        "duration": 53,
        "start_time": "2023-12-06T07:55:00.178Z"
      },
      {
        "duration": 10,
        "start_time": "2023-12-06T07:55:00.232Z"
      },
      {
        "duration": 60,
        "start_time": "2023-12-06T07:55:00.244Z"
      },
      {
        "duration": 50,
        "start_time": "2023-12-06T07:55:00.306Z"
      },
      {
        "duration": 26989,
        "start_time": "2023-12-06T07:55:00.357Z"
      },
      {
        "duration": 228,
        "start_time": "2023-12-06T07:55:27.348Z"
      },
      {
        "duration": 171,
        "start_time": "2023-12-06T07:55:27.578Z"
      },
      {
        "duration": 11018,
        "start_time": "2023-12-06T07:55:27.751Z"
      },
      {
        "duration": 4,
        "start_time": "2023-12-06T07:55:38.771Z"
      },
      {
        "duration": 12,
        "start_time": "2023-12-06T07:55:38.778Z"
      },
      {
        "duration": 157,
        "start_time": "2023-12-06T07:55:38.791Z"
      },
      {
        "duration": 46,
        "start_time": "2023-12-06T07:55:38.949Z"
      },
      {
        "duration": 144,
        "start_time": "2023-12-06T07:55:38.996Z"
      },
      {
        "duration": 36,
        "start_time": "2023-12-06T07:55:39.142Z"
      },
      {
        "duration": 147,
        "start_time": "2023-12-06T07:55:39.179Z"
      },
      {
        "duration": 283,
        "start_time": "2023-12-06T07:55:39.327Z"
      },
      {
        "duration": 310,
        "start_time": "2023-12-06T07:55:39.611Z"
      },
      {
        "duration": 866,
        "start_time": "2023-12-06T07:55:39.922Z"
      },
      {
        "duration": 372,
        "start_time": "2023-12-06T07:55:40.789Z"
      },
      {
        "duration": 163,
        "start_time": "2023-12-06T07:55:41.162Z"
      },
      {
        "duration": 99,
        "start_time": "2023-12-06T07:55:41.326Z"
      },
      {
        "duration": 4,
        "start_time": "2023-12-06T07:55:41.426Z"
      },
      {
        "duration": 4,
        "start_time": "2023-12-06T07:55:41.432Z"
      },
      {
        "duration": 11,
        "start_time": "2023-12-06T07:55:41.437Z"
      },
      {
        "duration": 9,
        "start_time": "2023-12-06T07:55:41.449Z"
      },
      {
        "duration": 9,
        "start_time": "2023-12-06T07:55:41.459Z"
      },
      {
        "duration": 12,
        "start_time": "2023-12-06T07:55:41.469Z"
      },
      {
        "duration": 62,
        "start_time": "2023-12-06T07:55:41.482Z"
      },
      {
        "duration": 0,
        "start_time": "2023-12-06T07:55:41.546Z"
      },
      {
        "duration": 0,
        "start_time": "2023-12-06T07:55:41.547Z"
      },
      {
        "duration": 56,
        "start_time": "2023-12-06T07:57:11.002Z"
      },
      {
        "duration": 11650,
        "start_time": "2023-12-06T08:10:34.704Z"
      },
      {
        "duration": 3314,
        "start_time": "2023-12-06T08:10:46.357Z"
      },
      {
        "duration": 34,
        "start_time": "2023-12-06T08:10:49.672Z"
      },
      {
        "duration": 5860,
        "start_time": "2023-12-06T08:10:49.708Z"
      },
      {
        "duration": 60,
        "start_time": "2023-12-06T08:10:55.570Z"
      },
      {
        "duration": 11,
        "start_time": "2023-12-06T08:10:55.632Z"
      },
      {
        "duration": 12,
        "start_time": "2023-12-06T08:10:55.644Z"
      },
      {
        "duration": 18,
        "start_time": "2023-12-06T08:10:55.658Z"
      },
      {
        "duration": 26967,
        "start_time": "2023-12-06T08:10:55.677Z"
      },
      {
        "duration": 239,
        "start_time": "2023-12-06T08:11:22.646Z"
      },
      {
        "duration": 174,
        "start_time": "2023-12-06T08:11:22.887Z"
      },
      {
        "duration": 11830,
        "start_time": "2023-12-06T08:11:23.062Z"
      },
      {
        "duration": 4,
        "start_time": "2023-12-06T08:11:34.894Z"
      },
      {
        "duration": 13,
        "start_time": "2023-12-06T08:11:34.902Z"
      },
      {
        "duration": 160,
        "start_time": "2023-12-06T08:11:34.916Z"
      },
      {
        "duration": 54,
        "start_time": "2023-12-06T08:11:35.078Z"
      },
      {
        "duration": 158,
        "start_time": "2023-12-06T08:11:35.134Z"
      },
      {
        "duration": 104,
        "start_time": "2023-12-06T08:11:35.294Z"
      },
      {
        "duration": 151,
        "start_time": "2023-12-06T08:11:35.400Z"
      },
      {
        "duration": 302,
        "start_time": "2023-12-06T08:11:35.552Z"
      },
      {
        "duration": 317,
        "start_time": "2023-12-06T08:11:35.855Z"
      },
      {
        "duration": 823,
        "start_time": "2023-12-06T08:11:36.174Z"
      },
      {
        "duration": 353,
        "start_time": "2023-12-06T08:11:36.999Z"
      },
      {
        "duration": 149,
        "start_time": "2023-12-06T08:11:37.354Z"
      },
      {
        "duration": 99,
        "start_time": "2023-12-06T08:11:37.505Z"
      },
      {
        "duration": 12,
        "start_time": "2023-12-06T08:11:37.605Z"
      },
      {
        "duration": 35,
        "start_time": "2023-12-06T08:11:37.618Z"
      },
      {
        "duration": 21,
        "start_time": "2023-12-06T08:11:37.655Z"
      },
      {
        "duration": 34,
        "start_time": "2023-12-06T08:11:37.678Z"
      },
      {
        "duration": 19,
        "start_time": "2023-12-06T08:11:37.714Z"
      },
      {
        "duration": 25,
        "start_time": "2023-12-06T08:11:37.735Z"
      },
      {
        "duration": 477636,
        "start_time": "2023-12-06T08:11:37.762Z"
      },
      {
        "duration": 57,
        "start_time": "2023-12-06T08:19:35.399Z"
      },
      {
        "duration": 0,
        "start_time": "2023-12-06T08:19:35.457Z"
      },
      {
        "duration": 76432,
        "start_time": "2023-12-06T08:36:07.557Z"
      },
      {
        "duration": 505999,
        "start_time": "2023-12-06T08:38:03.521Z"
      },
      {
        "duration": 901696,
        "start_time": "2023-12-06T08:51:27.598Z"
      },
      {
        "duration": 1008024,
        "start_time": "2023-12-06T09:06:29.297Z"
      },
      {
        "duration": 794074,
        "start_time": "2023-12-06T09:23:17.323Z"
      },
      {
        "duration": 12,
        "start_time": "2023-12-06T10:41:49.682Z"
      },
      {
        "duration": 4016,
        "start_time": "2023-12-06T10:42:17.810Z"
      },
      {
        "duration": 8439,
        "start_time": "2023-12-06T10:42:24.266Z"
      },
      {
        "duration": 4,
        "start_time": "2023-12-06T10:51:55.363Z"
      },
      {
        "duration": 12,
        "start_time": "2023-12-06T11:07:17.629Z"
      },
      {
        "duration": 5,
        "start_time": "2023-12-06T11:08:06.372Z"
      },
      {
        "duration": 4,
        "start_time": "2023-12-06T11:08:07.076Z"
      },
      {
        "duration": 153,
        "start_time": "2023-12-06T11:08:18.140Z"
      },
      {
        "duration": 11,
        "start_time": "2023-12-06T11:08:58.718Z"
      },
      {
        "duration": 59,
        "start_time": "2023-12-06T11:08:59.255Z"
      },
      {
        "duration": 6,
        "start_time": "2023-12-06T11:10:28.725Z"
      },
      {
        "duration": 50,
        "start_time": "2023-12-06T11:10:29.150Z"
      },
      {
        "duration": 5,
        "start_time": "2023-12-06T11:11:42.485Z"
      },
      {
        "duration": 53,
        "start_time": "2023-12-06T11:11:42.856Z"
      },
      {
        "duration": 5,
        "start_time": "2023-12-06T11:19:31.981Z"
      },
      {
        "duration": 52,
        "start_time": "2023-12-06T11:19:32.230Z"
      },
      {
        "duration": 55,
        "start_time": "2023-12-06T11:19:47.582Z"
      },
      {
        "duration": 50,
        "start_time": "2023-12-06T11:19:57.054Z"
      },
      {
        "duration": 29805,
        "start_time": "2023-12-06T11:20:05.880Z"
      },
      {
        "duration": 6,
        "start_time": "2023-12-06T11:21:24.909Z"
      },
      {
        "duration": 26757,
        "start_time": "2023-12-06T11:21:27.959Z"
      },
      {
        "duration": 5,
        "start_time": "2023-12-06T11:24:20.461Z"
      },
      {
        "duration": 13,
        "start_time": "2023-12-06T11:24:36.005Z"
      },
      {
        "duration": 12,
        "start_time": "2023-12-06T11:25:07.469Z"
      },
      {
        "duration": 6,
        "start_time": "2023-12-06T11:26:05.452Z"
      },
      {
        "duration": 26977,
        "start_time": "2023-12-06T11:26:05.919Z"
      },
      {
        "duration": 11,
        "start_time": "2023-12-06T11:27:18.102Z"
      },
      {
        "duration": 22,
        "start_time": "2023-12-06T11:27:25.213Z"
      },
      {
        "duration": 6,
        "start_time": "2023-12-06T11:28:34.349Z"
      },
      {
        "duration": 26305,
        "start_time": "2023-12-06T11:28:34.911Z"
      },
      {
        "duration": 6,
        "start_time": "2023-12-06T11:29:39.045Z"
      },
      {
        "duration": 26646,
        "start_time": "2023-12-06T11:29:39.294Z"
      },
      {
        "duration": 7,
        "start_time": "2023-12-06T11:44:45.037Z"
      },
      {
        "duration": 26106,
        "start_time": "2023-12-06T11:44:45.223Z"
      },
      {
        "duration": 10,
        "start_time": "2023-12-06T12:42:29.794Z"
      },
      {
        "duration": 43,
        "start_time": "2023-12-06T12:44:14.761Z"
      },
      {
        "duration": 5,
        "start_time": "2023-12-06T13:20:36.508Z"
      },
      {
        "duration": 25570,
        "start_time": "2023-12-06T13:20:41.108Z"
      },
      {
        "duration": 26041,
        "start_time": "2023-12-06T13:21:11.277Z"
      },
      {
        "duration": 64,
        "start_time": "2023-12-06T13:25:49.221Z"
      },
      {
        "duration": 52,
        "start_time": "2023-12-06T13:30:48.429Z"
      },
      {
        "duration": 25985,
        "start_time": "2023-12-06T13:30:59.310Z"
      },
      {
        "duration": 30,
        "start_time": "2023-12-06T13:33:13.948Z"
      },
      {
        "duration": 31,
        "start_time": "2023-12-06T13:34:15.245Z"
      },
      {
        "duration": 19,
        "start_time": "2023-12-06T13:34:22.420Z"
      },
      {
        "duration": 14,
        "start_time": "2023-12-06T13:35:35.909Z"
      },
      {
        "duration": 859,
        "start_time": "2023-12-06T13:36:05.515Z"
      },
      {
        "duration": 776,
        "start_time": "2023-12-06T13:36:14.156Z"
      },
      {
        "duration": 5,
        "start_time": "2023-12-06T13:36:19.293Z"
      },
      {
        "duration": 12,
        "start_time": "2023-12-06T13:36:25.965Z"
      },
      {
        "duration": 3,
        "start_time": "2023-12-06T13:37:47.844Z"
      },
      {
        "duration": 25106,
        "start_time": "2023-12-06T13:38:06.245Z"
      },
      {
        "duration": 25277,
        "start_time": "2023-12-06T13:38:36.468Z"
      },
      {
        "duration": 20,
        "start_time": "2023-12-06T13:39:09.836Z"
      },
      {
        "duration": 112,
        "start_time": "2023-12-06T13:39:33.044Z"
      },
      {
        "duration": 3,
        "start_time": "2023-12-06T13:39:38.125Z"
      },
      {
        "duration": 29,
        "start_time": "2023-12-06T13:39:40.172Z"
      },
      {
        "duration": 152,
        "start_time": "2023-12-06T13:40:00.508Z"
      },
      {
        "duration": 7,
        "start_time": "2023-12-06T13:40:10.997Z"
      },
      {
        "duration": 4,
        "start_time": "2023-12-06T13:40:15.988Z"
      },
      {
        "duration": 4,
        "start_time": "2023-12-06T13:40:22.780Z"
      },
      {
        "duration": 12,
        "start_time": "2023-12-06T13:41:40.292Z"
      },
      {
        "duration": 17,
        "start_time": "2023-12-06T13:41:45.596Z"
      },
      {
        "duration": 4,
        "start_time": "2023-12-06T13:41:56.772Z"
      },
      {
        "duration": 5,
        "start_time": "2023-12-06T13:42:00.396Z"
      },
      {
        "duration": 13,
        "start_time": "2023-12-06T13:42:05.324Z"
      },
      {
        "duration": 5,
        "start_time": "2023-12-06T13:42:07.948Z"
      },
      {
        "duration": 4,
        "start_time": "2023-12-06T13:42:10.188Z"
      },
      {
        "duration": 13,
        "start_time": "2023-12-06T13:42:21.380Z"
      },
      {
        "duration": 46,
        "start_time": "2023-12-06T13:42:59.188Z"
      },
      {
        "duration": 47,
        "start_time": "2023-12-06T13:43:12.413Z"
      },
      {
        "duration": 58,
        "start_time": "2023-12-06T13:43:24.101Z"
      },
      {
        "duration": 10452,
        "start_time": "2023-12-06T13:43:29.516Z"
      },
      {
        "duration": 82,
        "start_time": "2023-12-06T13:44:14.430Z"
      },
      {
        "duration": 59,
        "start_time": "2023-12-06T13:44:31.084Z"
      },
      {
        "duration": 53,
        "start_time": "2023-12-06T13:44:35.973Z"
      },
      {
        "duration": 59,
        "start_time": "2023-12-06T13:44:42.260Z"
      },
      {
        "duration": 52,
        "start_time": "2023-12-06T13:45:08.589Z"
      },
      {
        "duration": 55,
        "start_time": "2023-12-06T13:45:11.460Z"
      },
      {
        "duration": 56,
        "start_time": "2023-12-06T13:45:13.557Z"
      },
      {
        "duration": 51,
        "start_time": "2023-12-06T13:45:20.149Z"
      },
      {
        "duration": 13,
        "start_time": "2023-12-06T13:45:23.148Z"
      },
      {
        "duration": 35,
        "start_time": "2023-12-06T13:47:17.221Z"
      },
      {
        "duration": 6,
        "start_time": "2023-12-06T13:48:50.013Z"
      },
      {
        "duration": 22,
        "start_time": "2023-12-06T13:49:01.668Z"
      },
      {
        "duration": 6,
        "start_time": "2023-12-06T13:49:36.788Z"
      },
      {
        "duration": 17,
        "start_time": "2023-12-06T13:49:37.156Z"
      },
      {
        "duration": 6,
        "start_time": "2023-12-06T13:50:00.549Z"
      },
      {
        "duration": 32,
        "start_time": "2023-12-06T13:50:01.916Z"
      },
      {
        "duration": 5,
        "start_time": "2023-12-06T13:50:30.285Z"
      },
      {
        "duration": 83,
        "start_time": "2023-12-06T13:50:31.029Z"
      },
      {
        "duration": 8,
        "start_time": "2023-12-06T13:51:01.596Z"
      },
      {
        "duration": 5,
        "start_time": "2023-12-06T13:51:14.476Z"
      },
      {
        "duration": 27,
        "start_time": "2023-12-06T13:51:15.877Z"
      },
      {
        "duration": 5,
        "start_time": "2023-12-06T13:51:37.846Z"
      },
      {
        "duration": 17,
        "start_time": "2023-12-06T13:51:38.317Z"
      },
      {
        "duration": 6,
        "start_time": "2023-12-06T13:52:15.005Z"
      },
      {
        "duration": 117,
        "start_time": "2023-12-06T13:52:15.413Z"
      },
      {
        "duration": 5,
        "start_time": "2023-12-06T13:53:25.509Z"
      },
      {
        "duration": 17,
        "start_time": "2023-12-06T13:53:26.501Z"
      },
      {
        "duration": 5,
        "start_time": "2023-12-06T13:53:31.965Z"
      },
      {
        "duration": 18,
        "start_time": "2023-12-06T13:53:32.964Z"
      },
      {
        "duration": 6,
        "start_time": "2023-12-06T13:53:45.012Z"
      },
      {
        "duration": 20,
        "start_time": "2023-12-06T13:53:45.468Z"
      },
      {
        "duration": 6,
        "start_time": "2023-12-06T13:54:06.462Z"
      },
      {
        "duration": 31,
        "start_time": "2023-12-06T13:54:06.933Z"
      },
      {
        "duration": 16,
        "start_time": "2023-12-06T13:55:41.788Z"
      },
      {
        "duration": 22,
        "start_time": "2023-12-06T13:55:41.973Z"
      },
      {
        "duration": 17,
        "start_time": "2023-12-06T13:57:24.469Z"
      },
      {
        "duration": 27,
        "start_time": "2023-12-06T13:57:24.933Z"
      },
      {
        "duration": 16,
        "start_time": "2023-12-06T13:57:37.117Z"
      },
      {
        "duration": 14,
        "start_time": "2023-12-06T14:00:50.973Z"
      },
      {
        "duration": 4,
        "start_time": "2023-12-06T14:01:02.373Z"
      },
      {
        "duration": 52,
        "start_time": "2023-12-06T14:01:54.077Z"
      },
      {
        "duration": 50,
        "start_time": "2023-12-06T14:03:10.205Z"
      },
      {
        "duration": 14,
        "start_time": "2023-12-06T14:03:58.805Z"
      },
      {
        "duration": 0,
        "start_time": "2023-12-06T14:04:26.616Z"
      },
      {
        "duration": 0,
        "start_time": "2023-12-06T14:04:26.618Z"
      },
      {
        "duration": 4,
        "start_time": "2023-12-06T14:05:04.285Z"
      },
      {
        "duration": 55,
        "start_time": "2023-12-06T14:05:04.749Z"
      },
      {
        "duration": 28,
        "start_time": "2023-12-06T14:05:17.422Z"
      },
      {
        "duration": 4,
        "start_time": "2023-12-06T14:05:45.469Z"
      },
      {
        "duration": 14,
        "start_time": "2023-12-06T14:05:48.605Z"
      },
      {
        "duration": 18,
        "start_time": "2023-12-06T14:05:59.734Z"
      },
      {
        "duration": 5,
        "start_time": "2023-12-06T14:06:04.870Z"
      },
      {
        "duration": 4,
        "start_time": "2023-12-06T14:06:10.982Z"
      },
      {
        "duration": 5,
        "start_time": "2023-12-06T14:06:21.638Z"
      },
      {
        "duration": 20,
        "start_time": "2023-12-06T14:06:29.309Z"
      },
      {
        "duration": 5,
        "start_time": "2023-12-06T14:06:44.157Z"
      },
      {
        "duration": 2,
        "start_time": "2023-12-06T14:06:52.958Z"
      },
      {
        "duration": 5,
        "start_time": "2023-12-06T14:06:59.189Z"
      },
      {
        "duration": 5,
        "start_time": "2023-12-06T14:07:03.061Z"
      },
      {
        "duration": 4,
        "start_time": "2023-12-06T14:07:06.965Z"
      },
      {
        "duration": 20,
        "start_time": "2023-12-06T14:07:07.453Z"
      },
      {
        "duration": 25819,
        "start_time": "2023-12-06T14:08:26.926Z"
      },
      {
        "duration": 12,
        "start_time": "2023-12-06T14:08:52.747Z"
      },
      {
        "duration": 3,
        "start_time": "2023-12-06T14:09:34.582Z"
      },
      {
        "duration": 4,
        "start_time": "2023-12-06T14:09:41.181Z"
      },
      {
        "duration": 5,
        "start_time": "2023-12-06T14:09:47.221Z"
      },
      {
        "duration": 21,
        "start_time": "2023-12-06T14:10:00.166Z"
      },
      {
        "duration": 6,
        "start_time": "2023-12-06T14:10:28.285Z"
      },
      {
        "duration": 5,
        "start_time": "2023-12-06T14:10:38.701Z"
      },
      {
        "duration": 22,
        "start_time": "2023-12-06T14:10:41.750Z"
      },
      {
        "duration": 5,
        "start_time": "2023-12-06T14:11:07.389Z"
      },
      {
        "duration": 9,
        "start_time": "2023-12-06T14:11:12.725Z"
      },
      {
        "duration": 7,
        "start_time": "2023-12-06T14:11:36.238Z"
      },
      {
        "duration": 9,
        "start_time": "2023-12-06T14:11:41.111Z"
      },
      {
        "duration": 34,
        "start_time": "2023-12-06T14:12:09.541Z"
      },
      {
        "duration": 15578,
        "start_time": "2023-12-06T14:13:29.680Z"
      },
      {
        "duration": 9482,
        "start_time": "2023-12-06T14:13:45.260Z"
      },
      {
        "duration": 24,
        "start_time": "2023-12-06T14:13:54.744Z"
      },
      {
        "duration": 5544,
        "start_time": "2023-12-06T14:13:54.769Z"
      },
      {
        "duration": 61,
        "start_time": "2023-12-06T14:14:00.316Z"
      },
      {
        "duration": 11,
        "start_time": "2023-12-06T14:14:00.378Z"
      },
      {
        "duration": 22,
        "start_time": "2023-12-06T14:14:00.390Z"
      },
      {
        "duration": 27,
        "start_time": "2023-12-06T14:14:00.413Z"
      },
      {
        "duration": 25880,
        "start_time": "2023-12-06T14:14:00.441Z"
      },
      {
        "duration": 246,
        "start_time": "2023-12-06T14:14:26.323Z"
      },
      {
        "duration": 173,
        "start_time": "2023-12-06T14:14:26.570Z"
      },
      {
        "duration": 11811,
        "start_time": "2023-12-06T14:14:26.744Z"
      },
      {
        "duration": 4,
        "start_time": "2023-12-06T14:14:38.556Z"
      },
      {
        "duration": 10,
        "start_time": "2023-12-06T14:14:38.563Z"
      },
      {
        "duration": 187,
        "start_time": "2023-12-06T14:14:38.574Z"
      },
      {
        "duration": 56,
        "start_time": "2023-12-06T14:14:38.762Z"
      },
      {
        "duration": 170,
        "start_time": "2023-12-06T14:14:38.820Z"
      },
      {
        "duration": 60,
        "start_time": "2023-12-06T14:14:38.992Z"
      },
      {
        "duration": 150,
        "start_time": "2023-12-06T14:14:39.054Z"
      },
      {
        "duration": 316,
        "start_time": "2023-12-06T14:14:39.215Z"
      },
      {
        "duration": 365,
        "start_time": "2023-12-06T14:14:39.534Z"
      },
      {
        "duration": 982,
        "start_time": "2023-12-06T14:14:39.901Z"
      },
      {
        "duration": 370,
        "start_time": "2023-12-06T14:14:40.884Z"
      },
      {
        "duration": 177,
        "start_time": "2023-12-06T14:14:41.256Z"
      },
      {
        "duration": 124,
        "start_time": "2023-12-06T14:14:41.435Z"
      },
      {
        "duration": 5,
        "start_time": "2023-12-06T14:14:41.561Z"
      },
      {
        "duration": 9,
        "start_time": "2023-12-06T14:14:41.568Z"
      },
      {
        "duration": 7,
        "start_time": "2023-12-06T14:14:41.579Z"
      },
      {
        "duration": 4,
        "start_time": "2023-12-06T14:14:41.587Z"
      },
      {
        "duration": 6,
        "start_time": "2023-12-06T14:14:41.593Z"
      },
      {
        "duration": 26503,
        "start_time": "2023-12-06T14:14:41.600Z"
      },
      {
        "duration": 86,
        "start_time": "2023-12-06T14:15:08.105Z"
      },
      {
        "duration": 114,
        "start_time": "2023-12-06T14:15:08.192Z"
      },
      {
        "duration": 56,
        "start_time": "2023-12-06T14:19:04.966Z"
      },
      {
        "duration": 7,
        "start_time": "2023-12-06T14:19:09.358Z"
      },
      {
        "duration": 11,
        "start_time": "2023-12-06T14:19:10.424Z"
      },
      {
        "duration": 15401,
        "start_time": "2023-12-06T14:19:48.241Z"
      },
      {
        "duration": 10660,
        "start_time": "2023-12-06T14:20:03.645Z"
      },
      {
        "duration": 47,
        "start_time": "2023-12-06T14:20:14.306Z"
      },
      {
        "duration": 5521,
        "start_time": "2023-12-06T14:20:14.355Z"
      },
      {
        "duration": 67,
        "start_time": "2023-12-06T14:20:19.878Z"
      },
      {
        "duration": 10,
        "start_time": "2023-12-06T14:20:19.946Z"
      },
      {
        "duration": 13,
        "start_time": "2023-12-06T14:20:19.957Z"
      },
      {
        "duration": 14,
        "start_time": "2023-12-06T14:20:19.971Z"
      },
      {
        "duration": 27157,
        "start_time": "2023-12-06T14:20:19.986Z"
      },
      {
        "duration": 245,
        "start_time": "2023-12-06T14:20:47.145Z"
      },
      {
        "duration": 192,
        "start_time": "2023-12-06T14:20:47.392Z"
      },
      {
        "duration": 12173,
        "start_time": "2023-12-06T14:20:47.586Z"
      },
      {
        "duration": 5,
        "start_time": "2023-12-06T14:20:59.761Z"
      },
      {
        "duration": 3,
        "start_time": "2023-12-06T14:20:59.771Z"
      },
      {
        "duration": 187,
        "start_time": "2023-12-06T14:20:59.775Z"
      },
      {
        "duration": 54,
        "start_time": "2023-12-06T14:20:59.963Z"
      },
      {
        "duration": 175,
        "start_time": "2023-12-06T14:21:00.020Z"
      },
      {
        "duration": 61,
        "start_time": "2023-12-06T14:21:00.198Z"
      },
      {
        "duration": 177,
        "start_time": "2023-12-06T14:21:00.261Z"
      },
      {
        "duration": 340,
        "start_time": "2023-12-06T14:21:00.440Z"
      },
      {
        "duration": 365,
        "start_time": "2023-12-06T14:21:00.782Z"
      },
      {
        "duration": 961,
        "start_time": "2023-12-06T14:21:01.149Z"
      },
      {
        "duration": 351,
        "start_time": "2023-12-06T14:21:02.115Z"
      },
      {
        "duration": 195,
        "start_time": "2023-12-06T14:21:02.467Z"
      },
      {
        "duration": 108,
        "start_time": "2023-12-06T14:21:02.664Z"
      },
      {
        "duration": 4,
        "start_time": "2023-12-06T14:21:02.773Z"
      },
      {
        "duration": 35,
        "start_time": "2023-12-06T14:21:02.778Z"
      },
      {
        "duration": 29,
        "start_time": "2023-12-06T14:21:02.817Z"
      },
      {
        "duration": 25,
        "start_time": "2023-12-06T14:21:02.847Z"
      },
      {
        "duration": 23,
        "start_time": "2023-12-06T14:21:02.874Z"
      },
      {
        "duration": 51,
        "start_time": "2023-12-06T14:21:02.899Z"
      },
      {
        "duration": 35,
        "start_time": "2023-12-06T14:21:02.952Z"
      },
      {
        "duration": 61758,
        "start_time": "2023-12-06T14:21:02.989Z"
      },
      {
        "duration": 52868,
        "start_time": "2023-12-06T14:22:04.748Z"
      },
      {
        "duration": 105,
        "start_time": "2023-12-06T14:22:57.618Z"
      },
      {
        "duration": 0,
        "start_time": "2023-12-06T14:22:57.725Z"
      },
      {
        "duration": 0,
        "start_time": "2023-12-06T14:22:57.726Z"
      },
      {
        "duration": 0,
        "start_time": "2023-12-06T14:22:57.727Z"
      },
      {
        "duration": 0,
        "start_time": "2023-12-06T14:22:57.728Z"
      },
      {
        "duration": 0,
        "start_time": "2023-12-06T14:22:57.730Z"
      },
      {
        "duration": 0,
        "start_time": "2023-12-06T14:22:57.731Z"
      },
      {
        "duration": 0,
        "start_time": "2023-12-06T14:22:57.732Z"
      },
      {
        "duration": 0,
        "start_time": "2023-12-06T14:22:57.734Z"
      },
      {
        "duration": 26374,
        "start_time": "2023-12-06T14:34:04.840Z"
      },
      {
        "duration": 217,
        "start_time": "2023-12-06T14:34:31.217Z"
      },
      {
        "duration": 101,
        "start_time": "2023-12-06T14:34:31.437Z"
      },
      {
        "duration": 16246,
        "start_time": "2023-12-06T14:37:11.654Z"
      },
      {
        "duration": 11456,
        "start_time": "2023-12-06T14:37:27.902Z"
      },
      {
        "duration": 26,
        "start_time": "2023-12-06T14:37:39.359Z"
      },
      {
        "duration": 5186,
        "start_time": "2023-12-06T14:37:39.387Z"
      },
      {
        "duration": 75,
        "start_time": "2023-12-06T14:37:44.575Z"
      },
      {
        "duration": 14,
        "start_time": "2023-12-06T14:37:44.652Z"
      },
      {
        "duration": 36,
        "start_time": "2023-12-06T14:37:44.668Z"
      },
      {
        "duration": 25,
        "start_time": "2023-12-06T14:37:44.706Z"
      },
      {
        "duration": 18,
        "start_time": "2023-12-06T14:37:44.733Z"
      },
      {
        "duration": 26934,
        "start_time": "2023-12-06T14:37:44.754Z"
      },
      {
        "duration": 3,
        "start_time": "2023-12-06T14:38:11.689Z"
      },
      {
        "duration": 254,
        "start_time": "2023-12-06T14:38:11.693Z"
      },
      {
        "duration": 168,
        "start_time": "2023-12-06T14:38:11.949Z"
      },
      {
        "duration": 3,
        "start_time": "2023-12-06T14:38:12.119Z"
      },
      {
        "duration": 11254,
        "start_time": "2023-12-06T14:38:12.123Z"
      },
      {
        "duration": 4,
        "start_time": "2023-12-06T14:38:23.378Z"
      },
      {
        "duration": 15,
        "start_time": "2023-12-06T14:38:23.384Z"
      },
      {
        "duration": 158,
        "start_time": "2023-12-06T14:38:23.401Z"
      },
      {
        "duration": 62,
        "start_time": "2023-12-06T14:38:23.561Z"
      },
      {
        "duration": 157,
        "start_time": "2023-12-06T14:38:23.625Z"
      },
      {
        "duration": 58,
        "start_time": "2023-12-06T14:38:23.784Z"
      },
      {
        "duration": 149,
        "start_time": "2023-12-06T14:38:23.844Z"
      },
      {
        "duration": 309,
        "start_time": "2023-12-06T14:38:23.995Z"
      },
      {
        "duration": 355,
        "start_time": "2023-12-06T14:38:24.306Z"
      },
      {
        "duration": 990,
        "start_time": "2023-12-06T14:38:24.662Z"
      },
      {
        "duration": 324,
        "start_time": "2023-12-06T14:38:25.653Z"
      },
      {
        "duration": 177,
        "start_time": "2023-12-06T14:38:25.979Z"
      },
      {
        "duration": 116,
        "start_time": "2023-12-06T14:38:26.160Z"
      },
      {
        "duration": 5,
        "start_time": "2023-12-06T14:38:26.277Z"
      },
      {
        "duration": 28,
        "start_time": "2023-12-06T14:38:26.283Z"
      },
      {
        "duration": 16,
        "start_time": "2023-12-06T14:38:26.312Z"
      },
      {
        "duration": 4,
        "start_time": "2023-12-06T14:38:26.330Z"
      },
      {
        "duration": 11,
        "start_time": "2023-12-06T14:38:26.336Z"
      },
      {
        "duration": 9,
        "start_time": "2023-12-06T14:38:26.348Z"
      },
      {
        "duration": 4,
        "start_time": "2023-12-06T14:38:26.359Z"
      },
      {
        "duration": 59525,
        "start_time": "2023-12-06T14:38:26.365Z"
      },
      {
        "duration": 52638,
        "start_time": "2023-12-06T14:39:25.891Z"
      },
      {
        "duration": 38042,
        "start_time": "2023-12-06T14:40:18.540Z"
      },
      {
        "duration": 3,
        "start_time": "2023-12-06T14:40:56.583Z"
      },
      {
        "duration": 26285,
        "start_time": "2023-12-06T14:40:56.588Z"
      },
      {
        "duration": 54,
        "start_time": "2023-12-06T14:41:22.875Z"
      },
      {
        "duration": 48,
        "start_time": "2023-12-06T14:41:22.931Z"
      },
      {
        "duration": 60,
        "start_time": "2023-12-06T14:44:00.819Z"
      },
      {
        "duration": 29978,
        "start_time": "2023-12-06T14:44:06.541Z"
      },
      {
        "duration": 8941,
        "start_time": "2023-12-06T14:44:36.522Z"
      },
      {
        "duration": 23,
        "start_time": "2023-12-06T14:44:45.465Z"
      },
      {
        "duration": 5602,
        "start_time": "2023-12-06T14:44:45.490Z"
      },
      {
        "duration": 46,
        "start_time": "2023-12-06T14:44:51.094Z"
      },
      {
        "duration": 11,
        "start_time": "2023-12-06T14:44:51.142Z"
      },
      {
        "duration": 13,
        "start_time": "2023-12-06T14:44:51.154Z"
      },
      {
        "duration": 15,
        "start_time": "2023-12-06T14:44:51.169Z"
      },
      {
        "duration": 3,
        "start_time": "2023-12-06T14:44:51.186Z"
      },
      {
        "duration": 26420,
        "start_time": "2023-12-06T14:44:51.192Z"
      },
      {
        "duration": 3,
        "start_time": "2023-12-06T14:45:17.613Z"
      },
      {
        "duration": 284,
        "start_time": "2023-12-06T14:45:17.618Z"
      },
      {
        "duration": 170,
        "start_time": "2023-12-06T14:45:17.904Z"
      },
      {
        "duration": 3,
        "start_time": "2023-12-06T14:45:18.075Z"
      },
      {
        "duration": 10608,
        "start_time": "2023-12-06T14:45:18.080Z"
      },
      {
        "duration": 4,
        "start_time": "2023-12-06T14:45:28.689Z"
      },
      {
        "duration": 44,
        "start_time": "2023-12-06T14:45:28.695Z"
      },
      {
        "duration": 254,
        "start_time": "2023-12-06T14:45:28.741Z"
      },
      {
        "duration": 58,
        "start_time": "2023-12-06T14:45:28.996Z"
      },
      {
        "duration": 167,
        "start_time": "2023-12-06T14:45:29.055Z"
      },
      {
        "duration": 36,
        "start_time": "2023-12-06T14:45:29.223Z"
      },
      {
        "duration": 167,
        "start_time": "2023-12-06T14:45:29.261Z"
      },
      {
        "duration": 330,
        "start_time": "2023-12-06T14:45:29.430Z"
      },
      {
        "duration": 374,
        "start_time": "2023-12-06T14:45:29.762Z"
      },
      {
        "duration": 949,
        "start_time": "2023-12-06T14:45:30.138Z"
      },
      {
        "duration": 347,
        "start_time": "2023-12-06T14:45:31.089Z"
      },
      {
        "duration": 177,
        "start_time": "2023-12-06T14:45:31.438Z"
      },
      {
        "duration": 47,
        "start_time": "2023-12-06T14:45:31.618Z"
      },
      {
        "duration": 72,
        "start_time": "2023-12-06T14:45:31.667Z"
      },
      {
        "duration": 0,
        "start_time": "2023-12-06T14:45:31.741Z"
      },
      {
        "duration": 0,
        "start_time": "2023-12-06T14:45:31.742Z"
      },
      {
        "duration": 0,
        "start_time": "2023-12-06T14:45:31.743Z"
      },
      {
        "duration": 0,
        "start_time": "2023-12-06T14:45:31.745Z"
      },
      {
        "duration": 0,
        "start_time": "2023-12-06T14:45:31.745Z"
      },
      {
        "duration": 1,
        "start_time": "2023-12-06T14:45:31.746Z"
      },
      {
        "duration": 0,
        "start_time": "2023-12-06T14:45:31.748Z"
      },
      {
        "duration": 0,
        "start_time": "2023-12-06T14:45:31.749Z"
      },
      {
        "duration": 0,
        "start_time": "2023-12-06T14:45:31.750Z"
      },
      {
        "duration": 0,
        "start_time": "2023-12-06T14:45:31.751Z"
      },
      {
        "duration": 0,
        "start_time": "2023-12-06T14:45:31.753Z"
      },
      {
        "duration": 0,
        "start_time": "2023-12-06T14:45:31.754Z"
      },
      {
        "duration": 0,
        "start_time": "2023-12-06T14:45:31.755Z"
      },
      {
        "duration": 0,
        "start_time": "2023-12-06T14:45:31.756Z"
      },
      {
        "duration": 0,
        "start_time": "2023-12-06T14:45:31.757Z"
      },
      {
        "duration": 0,
        "start_time": "2023-12-06T14:45:31.758Z"
      },
      {
        "duration": 0,
        "start_time": "2023-12-06T14:45:31.759Z"
      },
      {
        "duration": 0,
        "start_time": "2023-12-06T14:45:31.761Z"
      },
      {
        "duration": 0,
        "start_time": "2023-12-06T14:45:31.762Z"
      },
      {
        "duration": 13,
        "start_time": "2023-12-06T14:47:33.201Z"
      },
      {
        "duration": 11938,
        "start_time": "2023-12-06T14:47:44.625Z"
      },
      {
        "duration": 4,
        "start_time": "2023-12-06T14:47:56.565Z"
      },
      {
        "duration": 11,
        "start_time": "2023-12-06T14:47:56.570Z"
      },
      {
        "duration": 173,
        "start_time": "2023-12-06T14:47:56.583Z"
      },
      {
        "duration": 49,
        "start_time": "2023-12-06T14:47:56.757Z"
      },
      {
        "duration": 167,
        "start_time": "2023-12-06T14:47:56.808Z"
      },
      {
        "duration": 53,
        "start_time": "2023-12-06T14:47:56.977Z"
      },
      {
        "duration": 152,
        "start_time": "2023-12-06T14:47:57.032Z"
      },
      {
        "duration": 325,
        "start_time": "2023-12-06T14:47:57.185Z"
      },
      {
        "duration": 355,
        "start_time": "2023-12-06T14:47:57.514Z"
      },
      {
        "duration": 946,
        "start_time": "2023-12-06T14:47:57.870Z"
      },
      {
        "duration": 342,
        "start_time": "2023-12-06T14:47:58.818Z"
      },
      {
        "duration": 183,
        "start_time": "2023-12-06T14:47:59.162Z"
      },
      {
        "duration": 113,
        "start_time": "2023-12-06T14:47:59.348Z"
      },
      {
        "duration": 4,
        "start_time": "2023-12-06T14:47:59.462Z"
      },
      {
        "duration": 6,
        "start_time": "2023-12-06T14:47:59.468Z"
      },
      {
        "duration": 4,
        "start_time": "2023-12-06T14:47:59.475Z"
      },
      {
        "duration": 8,
        "start_time": "2023-12-06T14:47:59.481Z"
      },
      {
        "duration": 13,
        "start_time": "2023-12-06T14:47:59.490Z"
      },
      {
        "duration": 13,
        "start_time": "2023-12-06T14:47:59.504Z"
      },
      {
        "duration": 6,
        "start_time": "2023-12-06T14:47:59.520Z"
      },
      {
        "duration": 6,
        "start_time": "2023-12-06T14:47:59.529Z"
      },
      {
        "duration": 23,
        "start_time": "2023-12-06T14:47:59.537Z"
      },
      {
        "duration": 7,
        "start_time": "2023-12-06T14:47:59.562Z"
      },
      {
        "duration": 2,
        "start_time": "2023-12-06T14:47:59.571Z"
      },
      {
        "duration": 25418,
        "start_time": "2023-12-06T14:47:59.575Z"
      },
      {
        "duration": 78,
        "start_time": "2023-12-06T14:48:24.995Z"
      },
      {
        "duration": 43,
        "start_time": "2023-12-06T14:49:33.360Z"
      },
      {
        "duration": 1144,
        "start_time": "2023-12-06T14:49:35.240Z"
      },
      {
        "duration": 23,
        "start_time": "2023-12-06T14:50:04.586Z"
      },
      {
        "duration": 19542,
        "start_time": "2023-12-06T14:51:04.733Z"
      },
      {
        "duration": 10881,
        "start_time": "2023-12-06T14:51:24.278Z"
      },
      {
        "duration": 30,
        "start_time": "2023-12-06T14:51:35.160Z"
      },
      {
        "duration": 5238,
        "start_time": "2023-12-06T14:51:35.191Z"
      },
      {
        "duration": 52,
        "start_time": "2023-12-06T14:51:40.431Z"
      },
      {
        "duration": 12,
        "start_time": "2023-12-06T14:51:40.484Z"
      },
      {
        "duration": 19,
        "start_time": "2023-12-06T14:51:40.497Z"
      },
      {
        "duration": 15,
        "start_time": "2023-12-06T14:51:40.517Z"
      },
      {
        "duration": 3,
        "start_time": "2023-12-06T14:51:40.534Z"
      },
      {
        "duration": 26349,
        "start_time": "2023-12-06T14:51:40.538Z"
      },
      {
        "duration": 3,
        "start_time": "2023-12-06T14:52:06.889Z"
      },
      {
        "duration": 252,
        "start_time": "2023-12-06T14:52:06.893Z"
      },
      {
        "duration": 177,
        "start_time": "2023-12-06T14:52:07.147Z"
      },
      {
        "duration": 3,
        "start_time": "2023-12-06T14:52:07.327Z"
      },
      {
        "duration": 10653,
        "start_time": "2023-12-06T14:52:07.331Z"
      },
      {
        "duration": 4,
        "start_time": "2023-12-06T14:52:17.986Z"
      },
      {
        "duration": 29,
        "start_time": "2023-12-06T14:52:17.991Z"
      },
      {
        "duration": 195,
        "start_time": "2023-12-06T14:52:18.022Z"
      },
      {
        "duration": 55,
        "start_time": "2023-12-06T14:52:18.218Z"
      },
      {
        "duration": 175,
        "start_time": "2023-12-06T14:52:18.275Z"
      },
      {
        "duration": 55,
        "start_time": "2023-12-06T14:52:18.452Z"
      },
      {
        "duration": 166,
        "start_time": "2023-12-06T14:52:18.509Z"
      },
      {
        "duration": 332,
        "start_time": "2023-12-06T14:52:18.677Z"
      },
      {
        "duration": 354,
        "start_time": "2023-12-06T14:52:19.014Z"
      },
      {
        "duration": 970,
        "start_time": "2023-12-06T14:52:19.370Z"
      },
      {
        "duration": 333,
        "start_time": "2023-12-06T14:52:20.342Z"
      },
      {
        "duration": 188,
        "start_time": "2023-12-06T14:52:20.677Z"
      },
      {
        "duration": 113,
        "start_time": "2023-12-06T14:52:20.867Z"
      },
      {
        "duration": 5,
        "start_time": "2023-12-06T14:52:20.982Z"
      },
      {
        "duration": 113,
        "start_time": "2023-12-06T14:52:20.989Z"
      },
      {
        "duration": 38,
        "start_time": "2023-12-06T14:52:21.104Z"
      },
      {
        "duration": 38,
        "start_time": "2023-12-06T14:52:21.144Z"
      },
      {
        "duration": 183,
        "start_time": "2023-12-06T14:52:21.184Z"
      },
      {
        "duration": 99,
        "start_time": "2023-12-06T14:52:21.369Z"
      },
      {
        "duration": 40,
        "start_time": "2023-12-06T14:52:21.470Z"
      },
      {
        "duration": 25,
        "start_time": "2023-12-06T14:52:21.512Z"
      },
      {
        "duration": 42,
        "start_time": "2023-12-06T14:52:21.539Z"
      },
      {
        "duration": 17,
        "start_time": "2023-12-06T14:52:21.583Z"
      },
      {
        "duration": 46,
        "start_time": "2023-12-06T14:52:21.602Z"
      },
      {
        "duration": 25160,
        "start_time": "2023-12-06T14:52:21.650Z"
      },
      {
        "duration": 64,
        "start_time": "2023-12-06T14:52:46.814Z"
      },
      {
        "duration": 28,
        "start_time": "2023-12-06T14:52:46.879Z"
      },
      {
        "duration": 15989,
        "start_time": "2023-12-06T14:53:50.890Z"
      },
      {
        "duration": 10167,
        "start_time": "2023-12-06T14:54:06.882Z"
      },
      {
        "duration": 27,
        "start_time": "2023-12-06T14:54:17.051Z"
      },
      {
        "duration": 4817,
        "start_time": "2023-12-06T14:54:17.080Z"
      },
      {
        "duration": 12300,
        "start_time": "2023-12-06T14:54:21.899Z"
      },
      {
        "duration": 5,
        "start_time": "2023-12-06T14:54:43.673Z"
      },
      {
        "duration": 303512,
        "start_time": "2023-12-12T13:55:56.532Z"
      },
      {
        "duration": 10657,
        "start_time": "2023-12-12T14:01:00.046Z"
      },
      {
        "duration": 6071,
        "start_time": "2023-12-12T14:01:10.705Z"
      },
      {
        "duration": 67,
        "start_time": "2023-12-12T14:01:16.778Z"
      },
      {
        "duration": 1420,
        "start_time": "2023-12-12T14:01:16.846Z"
      },
      {
        "duration": 2071,
        "start_time": "2023-12-12T14:01:18.268Z"
      },
      {
        "duration": 2325,
        "start_time": "2023-12-12T14:01:20.341Z"
      },
      {
        "duration": 281495,
        "start_time": "2023-12-12T14:33:09.986Z"
      },
      {
        "duration": 7839,
        "start_time": "2023-12-12T14:37:51.483Z"
      },
      {
        "duration": 10216,
        "start_time": "2023-12-12T14:37:59.324Z"
      },
      {
        "duration": 227,
        "start_time": "2023-12-12T14:47:14.151Z"
      },
      {
        "duration": 49,
        "start_time": "2023-12-12T14:48:35.335Z"
      },
      {
        "duration": 41,
        "start_time": "2023-12-12T14:48:49.977Z"
      },
      {
        "duration": 41,
        "start_time": "2023-12-12T14:49:15.811Z"
      },
      {
        "duration": 151,
        "start_time": "2023-12-12T14:49:22.268Z"
      },
      {
        "duration": 141,
        "start_time": "2023-12-12T14:49:28.285Z"
      },
      {
        "duration": 311,
        "start_time": "2023-12-12T14:49:33.621Z"
      },
      {
        "duration": 240,
        "start_time": "2023-12-12T14:49:39.891Z"
      },
      {
        "duration": 40,
        "start_time": "2023-12-12T14:49:42.597Z"
      },
      {
        "duration": 156,
        "start_time": "2023-12-12T14:50:31.715Z"
      },
      {
        "duration": 310,
        "start_time": "2023-12-12T14:50:48.148Z"
      },
      {
        "duration": 273,
        "start_time": "2023-12-12T14:50:53.955Z"
      },
      {
        "duration": 350,
        "start_time": "2023-12-12T14:52:31.732Z"
      },
      {
        "duration": 27,
        "start_time": "2023-12-12T14:52:48.187Z"
      },
      {
        "duration": 282,
        "start_time": "2023-12-12T14:53:05.412Z"
      },
      {
        "duration": 18,
        "start_time": "2023-12-12T14:53:08.308Z"
      },
      {
        "duration": 17,
        "start_time": "2023-12-12T14:53:14.036Z"
      },
      {
        "duration": 284,
        "start_time": "2023-12-12T14:54:26.965Z"
      },
      {
        "duration": 280,
        "start_time": "2023-12-12T14:54:38.851Z"
      },
      {
        "duration": 18,
        "start_time": "2023-12-12T14:54:55.523Z"
      },
      {
        "duration": 13,
        "start_time": "2023-12-12T14:55:59.035Z"
      },
      {
        "duration": 16,
        "start_time": "2023-12-12T14:56:04.764Z"
      },
      {
        "duration": 15,
        "start_time": "2023-12-12T14:56:56.684Z"
      },
      {
        "duration": 17,
        "start_time": "2023-12-12T14:57:22.428Z"
      },
      {
        "duration": 291,
        "start_time": "2023-12-12T14:57:26.588Z"
      },
      {
        "duration": 17,
        "start_time": "2023-12-12T14:57:27.771Z"
      },
      {
        "duration": 286,
        "start_time": "2023-12-12T14:59:06.027Z"
      },
      {
        "duration": 18,
        "start_time": "2023-12-12T14:59:11.580Z"
      },
      {
        "duration": 17,
        "start_time": "2023-12-12T14:59:16.364Z"
      },
      {
        "duration": 17,
        "start_time": "2023-12-12T14:59:23.884Z"
      },
      {
        "duration": 16,
        "start_time": "2023-12-12T14:59:33.116Z"
      },
      {
        "duration": 289,
        "start_time": "2023-12-12T14:59:36.172Z"
      },
      {
        "duration": 16,
        "start_time": "2023-12-12T14:59:38.771Z"
      },
      {
        "duration": 504,
        "start_time": "2023-12-12T15:00:00.764Z"
      },
      {
        "duration": 4,
        "start_time": "2023-12-12T15:00:53.862Z"
      },
      {
        "duration": 302,
        "start_time": "2023-12-12T15:00:56.996Z"
      },
      {
        "duration": 287,
        "start_time": "2023-12-12T15:01:03.524Z"
      },
      {
        "duration": 21,
        "start_time": "2023-12-12T15:04:21.485Z"
      },
      {
        "duration": 20,
        "start_time": "2023-12-12T15:04:30.709Z"
      },
      {
        "duration": 17,
        "start_time": "2023-12-12T15:04:36.972Z"
      },
      {
        "duration": 362,
        "start_time": "2023-12-12T15:05:09.028Z"
      },
      {
        "duration": 279,
        "start_time": "2023-12-12T15:05:21.100Z"
      },
      {
        "duration": 17,
        "start_time": "2023-12-12T15:05:26.412Z"
      },
      {
        "duration": 19,
        "start_time": "2023-12-12T15:05:29.909Z"
      },
      {
        "duration": 418,
        "start_time": "2023-12-12T15:05:34.325Z"
      },
      {
        "duration": 423,
        "start_time": "2023-12-12T15:05:42.844Z"
      },
      {
        "duration": 278,
        "start_time": "2023-12-12T15:05:52.435Z"
      },
      {
        "duration": 284,
        "start_time": "2023-12-12T15:06:03.964Z"
      },
      {
        "duration": 353,
        "start_time": "2023-12-12T15:06:07.628Z"
      },
      {
        "duration": 357,
        "start_time": "2023-12-12T15:06:42.612Z"
      },
      {
        "duration": 349,
        "start_time": "2023-12-12T15:06:55.324Z"
      },
      {
        "duration": 282,
        "start_time": "2023-12-12T15:07:43.772Z"
      },
      {
        "duration": 19,
        "start_time": "2023-12-12T15:08:01.253Z"
      },
      {
        "duration": 23,
        "start_time": "2023-12-12T15:08:06.636Z"
      },
      {
        "duration": 283,
        "start_time": "2023-12-12T15:08:32.716Z"
      },
      {
        "duration": 291,
        "start_time": "2023-12-12T15:08:47.381Z"
      },
      {
        "duration": 288,
        "start_time": "2023-12-12T15:08:57.060Z"
      },
      {
        "duration": 279,
        "start_time": "2023-12-12T15:09:08.540Z"
      },
      {
        "duration": 18,
        "start_time": "2023-12-12T15:09:11.452Z"
      },
      {
        "duration": 275,
        "start_time": "2023-12-12T15:09:23.365Z"
      },
      {
        "duration": 17,
        "start_time": "2023-12-12T15:09:26.101Z"
      },
      {
        "duration": 274,
        "start_time": "2023-12-12T15:09:32.597Z"
      },
      {
        "duration": 171,
        "start_time": "2023-12-12T15:10:43.381Z"
      },
      {
        "duration": 364,
        "start_time": "2023-12-12T15:11:16.981Z"
      },
      {
        "duration": 353,
        "start_time": "2023-12-12T15:11:47.909Z"
      },
      {
        "duration": 167,
        "start_time": "2023-12-12T15:11:59.933Z"
      },
      {
        "duration": 169,
        "start_time": "2023-12-12T15:12:01.653Z"
      },
      {
        "duration": 178,
        "start_time": "2023-12-12T15:12:41.445Z"
      },
      {
        "duration": 168,
        "start_time": "2023-12-12T15:12:53.981Z"
      },
      {
        "duration": 359,
        "start_time": "2023-12-12T15:12:56.302Z"
      },
      {
        "duration": 167,
        "start_time": "2023-12-12T15:12:56.781Z"
      }
    ],
    "colab": {
      "provenance": [],
      "toc_visible": true
    },
    "kernelspec": {
      "display_name": "Python 3 (ipykernel)",
      "language": "python",
      "name": "python3"
    },
    "language_info": {
      "codemirror_mode": {
        "name": "ipython",
        "version": 3
      },
      "file_extension": ".py",
      "mimetype": "text/x-python",
      "name": "python",
      "nbconvert_exporter": "python",
      "pygments_lexer": "ipython3",
      "version": "3.9.5"
    },
    "toc": {
      "base_numbering": 1,
      "nav_menu": {},
      "number_sections": false,
      "sideBar": true,
      "skip_h1_title": false,
      "title_cell": "Table of Contents",
      "title_sidebar": "Contents",
      "toc_cell": false,
      "toc_position": {},
      "toc_section_display": true,
      "toc_window_display": false
    },
    "varInspector": {
      "cols": {
        "lenName": 16,
        "lenType": 16,
        "lenVar": 40
      },
      "kernels_config": {
        "python": {
          "delete_cmd_postfix": "",
          "delete_cmd_prefix": "del ",
          "library": "var_list.py",
          "varRefreshCmd": "print(var_dic_list())"
        },
        "r": {
          "delete_cmd_postfix": ") ",
          "delete_cmd_prefix": "rm(",
          "library": "var_list.r",
          "varRefreshCmd": "cat(var_dic_list()) "
        }
      },
      "types_to_exclude": [
        "module",
        "function",
        "builtin_function_or_method",
        "instance",
        "_Feature"
      ],
      "window_display": false
    },
    "widgets": {
      "application/vnd.jupyter.widget-state+json": {
        "069301cbbc0d450c92e6ba554ac4330e": {
          "model_module": "@jupyter-widgets/base",
          "model_module_version": "1.2.0",
          "model_name": "LayoutModel",
          "state": {
            "_model_module": "@jupyter-widgets/base",
            "_model_module_version": "1.2.0",
            "_model_name": "LayoutModel",
            "_view_count": null,
            "_view_module": "@jupyter-widgets/base",
            "_view_module_version": "1.2.0",
            "_view_name": "LayoutView",
            "align_content": null,
            "align_items": null,
            "align_self": null,
            "border": null,
            "bottom": null,
            "display": null,
            "flex": null,
            "flex_flow": null,
            "grid_area": null,
            "grid_auto_columns": null,
            "grid_auto_flow": null,
            "grid_auto_rows": null,
            "grid_column": null,
            "grid_gap": null,
            "grid_row": null,
            "grid_template_areas": null,
            "grid_template_columns": null,
            "grid_template_rows": null,
            "height": null,
            "justify_content": null,
            "justify_items": null,
            "left": null,
            "margin": null,
            "max_height": null,
            "max_width": null,
            "min_height": null,
            "min_width": null,
            "object_fit": null,
            "object_position": null,
            "order": null,
            "overflow": null,
            "overflow_x": null,
            "overflow_y": null,
            "padding": null,
            "right": null,
            "top": null,
            "visibility": null,
            "width": null
          }
        },
        "07c758110c0b4a82828d73095c9891e5": {
          "model_module": "@jupyter-widgets/controls",
          "model_module_version": "1.5.0",
          "model_name": "ProgressStyleModel",
          "state": {
            "_model_module": "@jupyter-widgets/controls",
            "_model_module_version": "1.5.0",
            "_model_name": "ProgressStyleModel",
            "_view_count": null,
            "_view_module": "@jupyter-widgets/base",
            "_view_module_version": "1.2.0",
            "_view_name": "StyleView",
            "bar_color": null,
            "description_width": ""
          }
        },
        "0c2ea83345a84c5a89b253204f526519": {
          "model_module": "@jupyter-widgets/base",
          "model_module_version": "1.2.0",
          "model_name": "LayoutModel",
          "state": {
            "_model_module": "@jupyter-widgets/base",
            "_model_module_version": "1.2.0",
            "_model_name": "LayoutModel",
            "_view_count": null,
            "_view_module": "@jupyter-widgets/base",
            "_view_module_version": "1.2.0",
            "_view_name": "LayoutView",
            "align_content": null,
            "align_items": null,
            "align_self": null,
            "border": null,
            "bottom": null,
            "display": null,
            "flex": null,
            "flex_flow": null,
            "grid_area": null,
            "grid_auto_columns": null,
            "grid_auto_flow": null,
            "grid_auto_rows": null,
            "grid_column": null,
            "grid_gap": null,
            "grid_row": null,
            "grid_template_areas": null,
            "grid_template_columns": null,
            "grid_template_rows": null,
            "height": null,
            "justify_content": null,
            "justify_items": null,
            "left": null,
            "margin": null,
            "max_height": null,
            "max_width": null,
            "min_height": null,
            "min_width": null,
            "object_fit": null,
            "object_position": null,
            "order": null,
            "overflow": null,
            "overflow_x": null,
            "overflow_y": null,
            "padding": null,
            "right": null,
            "top": null,
            "visibility": null,
            "width": null
          }
        },
        "25cd960646e6418faf1ffc842cc345a9": {
          "model_module": "@jupyter-widgets/base",
          "model_module_version": "1.2.0",
          "model_name": "LayoutModel",
          "state": {
            "_model_module": "@jupyter-widgets/base",
            "_model_module_version": "1.2.0",
            "_model_name": "LayoutModel",
            "_view_count": null,
            "_view_module": "@jupyter-widgets/base",
            "_view_module_version": "1.2.0",
            "_view_name": "LayoutView",
            "align_content": null,
            "align_items": null,
            "align_self": null,
            "border": null,
            "bottom": null,
            "display": null,
            "flex": null,
            "flex_flow": null,
            "grid_area": null,
            "grid_auto_columns": null,
            "grid_auto_flow": null,
            "grid_auto_rows": null,
            "grid_column": null,
            "grid_gap": null,
            "grid_row": null,
            "grid_template_areas": null,
            "grid_template_columns": null,
            "grid_template_rows": null,
            "height": null,
            "justify_content": null,
            "justify_items": null,
            "left": null,
            "margin": null,
            "max_height": null,
            "max_width": null,
            "min_height": null,
            "min_width": null,
            "object_fit": null,
            "object_position": null,
            "order": null,
            "overflow": null,
            "overflow_x": null,
            "overflow_y": null,
            "padding": null,
            "right": null,
            "top": null,
            "visibility": null,
            "width": null
          }
        },
        "25d67b45518a4a2f8c2791c8e39afae2": {
          "model_module": "@jupyter-widgets/base",
          "model_module_version": "1.2.0",
          "model_name": "LayoutModel",
          "state": {
            "_model_module": "@jupyter-widgets/base",
            "_model_module_version": "1.2.0",
            "_model_name": "LayoutModel",
            "_view_count": null,
            "_view_module": "@jupyter-widgets/base",
            "_view_module_version": "1.2.0",
            "_view_name": "LayoutView",
            "align_content": null,
            "align_items": null,
            "align_self": null,
            "border": null,
            "bottom": null,
            "display": null,
            "flex": null,
            "flex_flow": null,
            "grid_area": null,
            "grid_auto_columns": null,
            "grid_auto_flow": null,
            "grid_auto_rows": null,
            "grid_column": null,
            "grid_gap": null,
            "grid_row": null,
            "grid_template_areas": null,
            "grid_template_columns": null,
            "grid_template_rows": null,
            "height": null,
            "justify_content": null,
            "justify_items": null,
            "left": null,
            "margin": null,
            "max_height": null,
            "max_width": null,
            "min_height": null,
            "min_width": null,
            "object_fit": null,
            "object_position": null,
            "order": null,
            "overflow": null,
            "overflow_x": null,
            "overflow_y": null,
            "padding": null,
            "right": null,
            "top": null,
            "visibility": null,
            "width": null
          }
        },
        "2c699e3f8a2d407eae328e32a314bd5f": {
          "model_module": "@jupyter-widgets/base",
          "model_module_version": "1.2.0",
          "model_name": "LayoutModel",
          "state": {
            "_model_module": "@jupyter-widgets/base",
            "_model_module_version": "1.2.0",
            "_model_name": "LayoutModel",
            "_view_count": null,
            "_view_module": "@jupyter-widgets/base",
            "_view_module_version": "1.2.0",
            "_view_name": "LayoutView",
            "align_content": null,
            "align_items": null,
            "align_self": null,
            "border": null,
            "bottom": null,
            "display": null,
            "flex": null,
            "flex_flow": null,
            "grid_area": null,
            "grid_auto_columns": null,
            "grid_auto_flow": null,
            "grid_auto_rows": null,
            "grid_column": null,
            "grid_gap": null,
            "grid_row": null,
            "grid_template_areas": null,
            "grid_template_columns": null,
            "grid_template_rows": null,
            "height": null,
            "justify_content": null,
            "justify_items": null,
            "left": null,
            "margin": null,
            "max_height": null,
            "max_width": null,
            "min_height": null,
            "min_width": null,
            "object_fit": null,
            "object_position": null,
            "order": null,
            "overflow": null,
            "overflow_x": null,
            "overflow_y": null,
            "padding": null,
            "right": null,
            "top": null,
            "visibility": null,
            "width": null
          }
        },
        "2ff0d1d0df6c4724a8a214e23d5014f3": {
          "model_module": "@jupyter-widgets/controls",
          "model_module_version": "1.5.0",
          "model_name": "ProgressStyleModel",
          "state": {
            "_model_module": "@jupyter-widgets/controls",
            "_model_module_version": "1.5.0",
            "_model_name": "ProgressStyleModel",
            "_view_count": null,
            "_view_module": "@jupyter-widgets/base",
            "_view_module_version": "1.2.0",
            "_view_name": "StyleView",
            "bar_color": null,
            "description_width": ""
          }
        },
        "3d553449e06c43c2b1d56f831da6497f": {
          "model_module": "@jupyter-widgets/controls",
          "model_module_version": "1.5.0",
          "model_name": "DescriptionStyleModel",
          "state": {
            "_model_module": "@jupyter-widgets/controls",
            "_model_module_version": "1.5.0",
            "_model_name": "DescriptionStyleModel",
            "_view_count": null,
            "_view_module": "@jupyter-widgets/base",
            "_view_module_version": "1.2.0",
            "_view_name": "StyleView",
            "description_width": ""
          }
        },
        "442558df014c44368f839980637705e8": {
          "model_module": "@jupyter-widgets/controls",
          "model_module_version": "1.5.0",
          "model_name": "HTMLModel",
          "state": {
            "_dom_classes": [],
            "_model_module": "@jupyter-widgets/controls",
            "_model_module_version": "1.5.0",
            "_model_name": "HTMLModel",
            "_view_count": null,
            "_view_module": "@jupyter-widgets/controls",
            "_view_module_version": "1.5.0",
            "_view_name": "HTMLView",
            "description": "",
            "description_tooltip": null,
            "layout": "IPY_MODEL_c0ce9529a0ba44d7952b7bca76bf7dce",
            "placeholder": "​",
            "style": "IPY_MODEL_3d553449e06c43c2b1d56f831da6497f",
            "value": "Best trial: 1. Best value: 0.727057: 100%"
          }
        },
        "4f112ccd0ebb47ca99a7601a89d3f39d": {
          "model_module": "@jupyter-widgets/base",
          "model_module_version": "1.2.0",
          "model_name": "LayoutModel",
          "state": {
            "_model_module": "@jupyter-widgets/base",
            "_model_module_version": "1.2.0",
            "_model_name": "LayoutModel",
            "_view_count": null,
            "_view_module": "@jupyter-widgets/base",
            "_view_module_version": "1.2.0",
            "_view_name": "LayoutView",
            "align_content": null,
            "align_items": null,
            "align_self": null,
            "border": null,
            "bottom": null,
            "display": null,
            "flex": null,
            "flex_flow": null,
            "grid_area": null,
            "grid_auto_columns": null,
            "grid_auto_flow": null,
            "grid_auto_rows": null,
            "grid_column": null,
            "grid_gap": null,
            "grid_row": null,
            "grid_template_areas": null,
            "grid_template_columns": null,
            "grid_template_rows": null,
            "height": null,
            "justify_content": null,
            "justify_items": null,
            "left": null,
            "margin": null,
            "max_height": null,
            "max_width": null,
            "min_height": null,
            "min_width": null,
            "object_fit": null,
            "object_position": null,
            "order": null,
            "overflow": null,
            "overflow_x": null,
            "overflow_y": null,
            "padding": null,
            "right": null,
            "top": null,
            "visibility": null,
            "width": null
          }
        },
        "542a7dc92502474d83365343c2738176": {
          "model_module": "@jupyter-widgets/controls",
          "model_module_version": "1.5.0",
          "model_name": "HTMLModel",
          "state": {
            "_dom_classes": [],
            "_model_module": "@jupyter-widgets/controls",
            "_model_module_version": "1.5.0",
            "_model_name": "HTMLModel",
            "_view_count": null,
            "_view_module": "@jupyter-widgets/controls",
            "_view_module_version": "1.5.0",
            "_view_name": "HTMLView",
            "description": "",
            "description_tooltip": null,
            "layout": "IPY_MODEL_850a93c673164641b379d2dfe129e0c6",
            "placeholder": "​",
            "style": "IPY_MODEL_6ec2df7740ee44208f2dc1bfadf1abf9",
            "value": " 30/30 [22:29&lt;00:00, 20.00s/it]"
          }
        },
        "56b2051a21634765a8abef2eadcc48be": {
          "model_module": "@jupyter-widgets/base",
          "model_module_version": "1.2.0",
          "model_name": "LayoutModel",
          "state": {
            "_model_module": "@jupyter-widgets/base",
            "_model_module_version": "1.2.0",
            "_model_name": "LayoutModel",
            "_view_count": null,
            "_view_module": "@jupyter-widgets/base",
            "_view_module_version": "1.2.0",
            "_view_name": "LayoutView",
            "align_content": null,
            "align_items": null,
            "align_self": null,
            "border": null,
            "bottom": null,
            "display": null,
            "flex": null,
            "flex_flow": null,
            "grid_area": null,
            "grid_auto_columns": null,
            "grid_auto_flow": null,
            "grid_auto_rows": null,
            "grid_column": null,
            "grid_gap": null,
            "grid_row": null,
            "grid_template_areas": null,
            "grid_template_columns": null,
            "grid_template_rows": null,
            "height": null,
            "justify_content": null,
            "justify_items": null,
            "left": null,
            "margin": null,
            "max_height": null,
            "max_width": null,
            "min_height": null,
            "min_width": null,
            "object_fit": null,
            "object_position": null,
            "order": null,
            "overflow": null,
            "overflow_x": null,
            "overflow_y": null,
            "padding": null,
            "right": null,
            "top": null,
            "visibility": null,
            "width": null
          }
        },
        "5776e05a4bef499f8ac86cfbcce0417f": {
          "model_module": "@jupyter-widgets/base",
          "model_module_version": "1.2.0",
          "model_name": "LayoutModel",
          "state": {
            "_model_module": "@jupyter-widgets/base",
            "_model_module_version": "1.2.0",
            "_model_name": "LayoutModel",
            "_view_count": null,
            "_view_module": "@jupyter-widgets/base",
            "_view_module_version": "1.2.0",
            "_view_name": "LayoutView",
            "align_content": null,
            "align_items": null,
            "align_self": null,
            "border": null,
            "bottom": null,
            "display": null,
            "flex": null,
            "flex_flow": null,
            "grid_area": null,
            "grid_auto_columns": null,
            "grid_auto_flow": null,
            "grid_auto_rows": null,
            "grid_column": null,
            "grid_gap": null,
            "grid_row": null,
            "grid_template_areas": null,
            "grid_template_columns": null,
            "grid_template_rows": null,
            "height": null,
            "justify_content": null,
            "justify_items": null,
            "left": null,
            "margin": null,
            "max_height": null,
            "max_width": null,
            "min_height": null,
            "min_width": null,
            "object_fit": null,
            "object_position": null,
            "order": null,
            "overflow": null,
            "overflow_x": null,
            "overflow_y": null,
            "padding": null,
            "right": null,
            "top": null,
            "visibility": null,
            "width": null
          }
        },
        "57dbb147bff64d74beccda2f5148c583": {
          "model_module": "@jupyter-widgets/controls",
          "model_module_version": "1.5.0",
          "model_name": "FloatProgressModel",
          "state": {
            "_dom_classes": [],
            "_model_module": "@jupyter-widgets/controls",
            "_model_module_version": "1.5.0",
            "_model_name": "FloatProgressModel",
            "_view_count": null,
            "_view_module": "@jupyter-widgets/controls",
            "_view_module_version": "1.5.0",
            "_view_name": "ProgressView",
            "bar_style": "success",
            "description": "",
            "description_tooltip": null,
            "layout": "IPY_MODEL_85c027dbd5794dbd899de27bd7896143",
            "max": 10,
            "min": 0,
            "orientation": "horizontal",
            "style": "IPY_MODEL_b18b75cf605649f59860761acbf1ed08",
            "value": 10
          }
        },
        "5cca0a0001b7412b8662a142aa6f0428": {
          "model_module": "@jupyter-widgets/controls",
          "model_module_version": "1.5.0",
          "model_name": "HTMLModel",
          "state": {
            "_dom_classes": [],
            "_model_module": "@jupyter-widgets/controls",
            "_model_module_version": "1.5.0",
            "_model_name": "HTMLModel",
            "_view_count": null,
            "_view_module": "@jupyter-widgets/controls",
            "_view_module_version": "1.5.0",
            "_view_name": "HTMLView",
            "description": "",
            "description_tooltip": null,
            "layout": "IPY_MODEL_f77fe0f2d71a439bb13356273b6bfafc",
            "placeholder": "​",
            "style": "IPY_MODEL_d2a8e9034e214b9f851fa4dcf764d0f5",
            "value": "Best trial: 1. Best value: 0.682636: 100%"
          }
        },
        "5def22f8bcdc4edd82c39f0436234580": {
          "model_module": "@jupyter-widgets/controls",
          "model_module_version": "1.5.0",
          "model_name": "FloatProgressModel",
          "state": {
            "_dom_classes": [],
            "_model_module": "@jupyter-widgets/controls",
            "_model_module_version": "1.5.0",
            "_model_name": "FloatProgressModel",
            "_view_count": null,
            "_view_module": "@jupyter-widgets/controls",
            "_view_module_version": "1.5.0",
            "_view_name": "ProgressView",
            "bar_style": "success",
            "description": "",
            "description_tooltip": null,
            "layout": "IPY_MODEL_4f112ccd0ebb47ca99a7601a89d3f39d",
            "max": 30,
            "min": 0,
            "orientation": "horizontal",
            "style": "IPY_MODEL_07c758110c0b4a82828d73095c9891e5",
            "value": 30
          }
        },
        "5e30099e6dc1476fba88f4de1dc747e4": {
          "model_module": "@jupyter-widgets/controls",
          "model_module_version": "1.5.0",
          "model_name": "DescriptionStyleModel",
          "state": {
            "_model_module": "@jupyter-widgets/controls",
            "_model_module_version": "1.5.0",
            "_model_name": "DescriptionStyleModel",
            "_view_count": null,
            "_view_module": "@jupyter-widgets/base",
            "_view_module_version": "1.2.0",
            "_view_name": "StyleView",
            "description_width": ""
          }
        },
        "66714236e98943a082ce2286832b963e": {
          "model_module": "@jupyter-widgets/controls",
          "model_module_version": "1.5.0",
          "model_name": "HBoxModel",
          "state": {
            "_dom_classes": [],
            "_model_module": "@jupyter-widgets/controls",
            "_model_module_version": "1.5.0",
            "_model_name": "HBoxModel",
            "_view_count": null,
            "_view_module": "@jupyter-widgets/controls",
            "_view_module_version": "1.5.0",
            "_view_name": "HBoxView",
            "box_style": "",
            "children": [
              "IPY_MODEL_b897390695a84ab2a84cb92bddb2e071",
              "IPY_MODEL_5def22f8bcdc4edd82c39f0436234580",
              "IPY_MODEL_542a7dc92502474d83365343c2738176"
            ],
            "layout": "IPY_MODEL_25cd960646e6418faf1ffc842cc345a9"
          }
        },
        "6c5014d7fbca4e669d79cd59e24d8747": {
          "model_module": "@jupyter-widgets/base",
          "model_module_version": "1.2.0",
          "model_name": "LayoutModel",
          "state": {
            "_model_module": "@jupyter-widgets/base",
            "_model_module_version": "1.2.0",
            "_model_name": "LayoutModel",
            "_view_count": null,
            "_view_module": "@jupyter-widgets/base",
            "_view_module_version": "1.2.0",
            "_view_name": "LayoutView",
            "align_content": null,
            "align_items": null,
            "align_self": null,
            "border": null,
            "bottom": null,
            "display": null,
            "flex": null,
            "flex_flow": null,
            "grid_area": null,
            "grid_auto_columns": null,
            "grid_auto_flow": null,
            "grid_auto_rows": null,
            "grid_column": null,
            "grid_gap": null,
            "grid_row": null,
            "grid_template_areas": null,
            "grid_template_columns": null,
            "grid_template_rows": null,
            "height": null,
            "justify_content": null,
            "justify_items": null,
            "left": null,
            "margin": null,
            "max_height": null,
            "max_width": null,
            "min_height": null,
            "min_width": null,
            "object_fit": null,
            "object_position": null,
            "order": null,
            "overflow": null,
            "overflow_x": null,
            "overflow_y": null,
            "padding": null,
            "right": null,
            "top": null,
            "visibility": null,
            "width": null
          }
        },
        "6e5e8832aca54a35b86c0d0846037818": {
          "model_module": "@jupyter-widgets/base",
          "model_module_version": "1.2.0",
          "model_name": "LayoutModel",
          "state": {
            "_model_module": "@jupyter-widgets/base",
            "_model_module_version": "1.2.0",
            "_model_name": "LayoutModel",
            "_view_count": null,
            "_view_module": "@jupyter-widgets/base",
            "_view_module_version": "1.2.0",
            "_view_name": "LayoutView",
            "align_content": null,
            "align_items": null,
            "align_self": null,
            "border": null,
            "bottom": null,
            "display": null,
            "flex": null,
            "flex_flow": null,
            "grid_area": null,
            "grid_auto_columns": null,
            "grid_auto_flow": null,
            "grid_auto_rows": null,
            "grid_column": null,
            "grid_gap": null,
            "grid_row": null,
            "grid_template_areas": null,
            "grid_template_columns": null,
            "grid_template_rows": null,
            "height": null,
            "justify_content": null,
            "justify_items": null,
            "left": null,
            "margin": null,
            "max_height": null,
            "max_width": null,
            "min_height": null,
            "min_width": null,
            "object_fit": null,
            "object_position": null,
            "order": null,
            "overflow": null,
            "overflow_x": null,
            "overflow_y": null,
            "padding": null,
            "right": null,
            "top": null,
            "visibility": null,
            "width": null
          }
        },
        "6ec2df7740ee44208f2dc1bfadf1abf9": {
          "model_module": "@jupyter-widgets/controls",
          "model_module_version": "1.5.0",
          "model_name": "DescriptionStyleModel",
          "state": {
            "_model_module": "@jupyter-widgets/controls",
            "_model_module_version": "1.5.0",
            "_model_name": "DescriptionStyleModel",
            "_view_count": null,
            "_view_module": "@jupyter-widgets/base",
            "_view_module_version": "1.2.0",
            "_view_name": "StyleView",
            "description_width": ""
          }
        },
        "71bf800d59c244c9a238a8b09736a4c1": {
          "model_module": "@jupyter-widgets/base",
          "model_module_version": "1.2.0",
          "model_name": "LayoutModel",
          "state": {
            "_model_module": "@jupyter-widgets/base",
            "_model_module_version": "1.2.0",
            "_model_name": "LayoutModel",
            "_view_count": null,
            "_view_module": "@jupyter-widgets/base",
            "_view_module_version": "1.2.0",
            "_view_name": "LayoutView",
            "align_content": null,
            "align_items": null,
            "align_self": null,
            "border": null,
            "bottom": null,
            "display": null,
            "flex": null,
            "flex_flow": null,
            "grid_area": null,
            "grid_auto_columns": null,
            "grid_auto_flow": null,
            "grid_auto_rows": null,
            "grid_column": null,
            "grid_gap": null,
            "grid_row": null,
            "grid_template_areas": null,
            "grid_template_columns": null,
            "grid_template_rows": null,
            "height": null,
            "justify_content": null,
            "justify_items": null,
            "left": null,
            "margin": null,
            "max_height": null,
            "max_width": null,
            "min_height": null,
            "min_width": null,
            "object_fit": null,
            "object_position": null,
            "order": null,
            "overflow": null,
            "overflow_x": null,
            "overflow_y": null,
            "padding": null,
            "right": null,
            "top": null,
            "visibility": null,
            "width": null
          }
        },
        "7d71920a4af0491cbfb2807adcfddcae": {
          "model_module": "@jupyter-widgets/controls",
          "model_module_version": "1.5.0",
          "model_name": "FloatProgressModel",
          "state": {
            "_dom_classes": [],
            "_model_module": "@jupyter-widgets/controls",
            "_model_module_version": "1.5.0",
            "_model_name": "FloatProgressModel",
            "_view_count": null,
            "_view_module": "@jupyter-widgets/controls",
            "_view_module_version": "1.5.0",
            "_view_name": "ProgressView",
            "bar_style": "success",
            "description": "",
            "description_tooltip": null,
            "layout": "IPY_MODEL_069301cbbc0d450c92e6ba554ac4330e",
            "max": 10,
            "min": 0,
            "orientation": "horizontal",
            "style": "IPY_MODEL_df6350fe0cb04be1aa2a7d8d6eca93c9",
            "value": 10
          }
        },
        "82b935fc15874441b4a46692cbe3eda8": {
          "model_module": "@jupyter-widgets/controls",
          "model_module_version": "1.5.0",
          "model_name": "DescriptionStyleModel",
          "state": {
            "_model_module": "@jupyter-widgets/controls",
            "_model_module_version": "1.5.0",
            "_model_name": "DescriptionStyleModel",
            "_view_count": null,
            "_view_module": "@jupyter-widgets/base",
            "_view_module_version": "1.2.0",
            "_view_name": "StyleView",
            "description_width": ""
          }
        },
        "850a93c673164641b379d2dfe129e0c6": {
          "model_module": "@jupyter-widgets/base",
          "model_module_version": "1.2.0",
          "model_name": "LayoutModel",
          "state": {
            "_model_module": "@jupyter-widgets/base",
            "_model_module_version": "1.2.0",
            "_model_name": "LayoutModel",
            "_view_count": null,
            "_view_module": "@jupyter-widgets/base",
            "_view_module_version": "1.2.0",
            "_view_name": "LayoutView",
            "align_content": null,
            "align_items": null,
            "align_self": null,
            "border": null,
            "bottom": null,
            "display": null,
            "flex": null,
            "flex_flow": null,
            "grid_area": null,
            "grid_auto_columns": null,
            "grid_auto_flow": null,
            "grid_auto_rows": null,
            "grid_column": null,
            "grid_gap": null,
            "grid_row": null,
            "grid_template_areas": null,
            "grid_template_columns": null,
            "grid_template_rows": null,
            "height": null,
            "justify_content": null,
            "justify_items": null,
            "left": null,
            "margin": null,
            "max_height": null,
            "max_width": null,
            "min_height": null,
            "min_width": null,
            "object_fit": null,
            "object_position": null,
            "order": null,
            "overflow": null,
            "overflow_x": null,
            "overflow_y": null,
            "padding": null,
            "right": null,
            "top": null,
            "visibility": null,
            "width": null
          }
        },
        "85c027dbd5794dbd899de27bd7896143": {
          "model_module": "@jupyter-widgets/base",
          "model_module_version": "1.2.0",
          "model_name": "LayoutModel",
          "state": {
            "_model_module": "@jupyter-widgets/base",
            "_model_module_version": "1.2.0",
            "_model_name": "LayoutModel",
            "_view_count": null,
            "_view_module": "@jupyter-widgets/base",
            "_view_module_version": "1.2.0",
            "_view_name": "LayoutView",
            "align_content": null,
            "align_items": null,
            "align_self": null,
            "border": null,
            "bottom": null,
            "display": null,
            "flex": null,
            "flex_flow": null,
            "grid_area": null,
            "grid_auto_columns": null,
            "grid_auto_flow": null,
            "grid_auto_rows": null,
            "grid_column": null,
            "grid_gap": null,
            "grid_row": null,
            "grid_template_areas": null,
            "grid_template_columns": null,
            "grid_template_rows": null,
            "height": null,
            "justify_content": null,
            "justify_items": null,
            "left": null,
            "margin": null,
            "max_height": null,
            "max_width": null,
            "min_height": null,
            "min_width": null,
            "object_fit": null,
            "object_position": null,
            "order": null,
            "overflow": null,
            "overflow_x": null,
            "overflow_y": null,
            "padding": null,
            "right": null,
            "top": null,
            "visibility": null,
            "width": null
          }
        },
        "8b0aebaa8a3146b28f7b26910b1dc1eb": {
          "model_module": "@jupyter-widgets/controls",
          "model_module_version": "1.5.0",
          "model_name": "FloatProgressModel",
          "state": {
            "_dom_classes": [],
            "_model_module": "@jupyter-widgets/controls",
            "_model_module_version": "1.5.0",
            "_model_name": "FloatProgressModel",
            "_view_count": null,
            "_view_module": "@jupyter-widgets/controls",
            "_view_module_version": "1.5.0",
            "_view_name": "ProgressView",
            "bar_style": "success",
            "description": "",
            "description_tooltip": null,
            "layout": "IPY_MODEL_5776e05a4bef499f8ac86cfbcce0417f",
            "max": 10,
            "min": 0,
            "orientation": "horizontal",
            "style": "IPY_MODEL_2ff0d1d0df6c4724a8a214e23d5014f3",
            "value": 10
          }
        },
        "8dd2df2dd41646aa902683e317d984eb": {
          "model_module": "@jupyter-widgets/base",
          "model_module_version": "1.2.0",
          "model_name": "LayoutModel",
          "state": {
            "_model_module": "@jupyter-widgets/base",
            "_model_module_version": "1.2.0",
            "_model_name": "LayoutModel",
            "_view_count": null,
            "_view_module": "@jupyter-widgets/base",
            "_view_module_version": "1.2.0",
            "_view_name": "LayoutView",
            "align_content": null,
            "align_items": null,
            "align_self": null,
            "border": null,
            "bottom": null,
            "display": null,
            "flex": null,
            "flex_flow": null,
            "grid_area": null,
            "grid_auto_columns": null,
            "grid_auto_flow": null,
            "grid_auto_rows": null,
            "grid_column": null,
            "grid_gap": null,
            "grid_row": null,
            "grid_template_areas": null,
            "grid_template_columns": null,
            "grid_template_rows": null,
            "height": null,
            "justify_content": null,
            "justify_items": null,
            "left": null,
            "margin": null,
            "max_height": null,
            "max_width": null,
            "min_height": null,
            "min_width": null,
            "object_fit": null,
            "object_position": null,
            "order": null,
            "overflow": null,
            "overflow_x": null,
            "overflow_y": null,
            "padding": null,
            "right": null,
            "top": null,
            "visibility": null,
            "width": null
          }
        },
        "a05f46253b7848d2893b1ae61f0fb495": {
          "model_module": "@jupyter-widgets/controls",
          "model_module_version": "1.5.0",
          "model_name": "DescriptionStyleModel",
          "state": {
            "_model_module": "@jupyter-widgets/controls",
            "_model_module_version": "1.5.0",
            "_model_name": "DescriptionStyleModel",
            "_view_count": null,
            "_view_module": "@jupyter-widgets/base",
            "_view_module_version": "1.2.0",
            "_view_name": "StyleView",
            "description_width": ""
          }
        },
        "ae178d58d62b49f6902813ddc1fc5d4a": {
          "model_module": "@jupyter-widgets/controls",
          "model_module_version": "1.5.0",
          "model_name": "DescriptionStyleModel",
          "state": {
            "_model_module": "@jupyter-widgets/controls",
            "_model_module_version": "1.5.0",
            "_model_name": "DescriptionStyleModel",
            "_view_count": null,
            "_view_module": "@jupyter-widgets/base",
            "_view_module_version": "1.2.0",
            "_view_name": "StyleView",
            "description_width": ""
          }
        },
        "b039057f802a4298ac95220e65c70ec9": {
          "model_module": "@jupyter-widgets/controls",
          "model_module_version": "1.5.0",
          "model_name": "HBoxModel",
          "state": {
            "_dom_classes": [],
            "_model_module": "@jupyter-widgets/controls",
            "_model_module_version": "1.5.0",
            "_model_name": "HBoxModel",
            "_view_count": null,
            "_view_module": "@jupyter-widgets/controls",
            "_view_module_version": "1.5.0",
            "_view_name": "HBoxView",
            "box_style": "",
            "children": [
              "IPY_MODEL_5cca0a0001b7412b8662a142aa6f0428",
              "IPY_MODEL_57dbb147bff64d74beccda2f5148c583",
              "IPY_MODEL_ff1e03072190495588d09abb8ed82d5c"
            ],
            "layout": "IPY_MODEL_0c2ea83345a84c5a89b253204f526519"
          }
        },
        "b18b75cf605649f59860761acbf1ed08": {
          "model_module": "@jupyter-widgets/controls",
          "model_module_version": "1.5.0",
          "model_name": "ProgressStyleModel",
          "state": {
            "_model_module": "@jupyter-widgets/controls",
            "_model_module_version": "1.5.0",
            "_model_name": "ProgressStyleModel",
            "_view_count": null,
            "_view_module": "@jupyter-widgets/base",
            "_view_module_version": "1.2.0",
            "_view_name": "StyleView",
            "bar_color": null,
            "description_width": ""
          }
        },
        "b897390695a84ab2a84cb92bddb2e071": {
          "model_module": "@jupyter-widgets/controls",
          "model_module_version": "1.5.0",
          "model_name": "HTMLModel",
          "state": {
            "_dom_classes": [],
            "_model_module": "@jupyter-widgets/controls",
            "_model_module_version": "1.5.0",
            "_model_name": "HTMLModel",
            "_view_count": null,
            "_view_module": "@jupyter-widgets/controls",
            "_view_module_version": "1.5.0",
            "_view_name": "HTMLView",
            "description": "",
            "description_tooltip": null,
            "layout": "IPY_MODEL_25d67b45518a4a2f8c2791c8e39afae2",
            "placeholder": "​",
            "style": "IPY_MODEL_5e30099e6dc1476fba88f4de1dc747e4",
            "value": "Best trial: 22. Best value: 0.727377: 100%"
          }
        },
        "c0ce9529a0ba44d7952b7bca76bf7dce": {
          "model_module": "@jupyter-widgets/base",
          "model_module_version": "1.2.0",
          "model_name": "LayoutModel",
          "state": {
            "_model_module": "@jupyter-widgets/base",
            "_model_module_version": "1.2.0",
            "_model_name": "LayoutModel",
            "_view_count": null,
            "_view_module": "@jupyter-widgets/base",
            "_view_module_version": "1.2.0",
            "_view_name": "LayoutView",
            "align_content": null,
            "align_items": null,
            "align_self": null,
            "border": null,
            "bottom": null,
            "display": null,
            "flex": null,
            "flex_flow": null,
            "grid_area": null,
            "grid_auto_columns": null,
            "grid_auto_flow": null,
            "grid_auto_rows": null,
            "grid_column": null,
            "grid_gap": null,
            "grid_row": null,
            "grid_template_areas": null,
            "grid_template_columns": null,
            "grid_template_rows": null,
            "height": null,
            "justify_content": null,
            "justify_items": null,
            "left": null,
            "margin": null,
            "max_height": null,
            "max_width": null,
            "min_height": null,
            "min_width": null,
            "object_fit": null,
            "object_position": null,
            "order": null,
            "overflow": null,
            "overflow_x": null,
            "overflow_y": null,
            "padding": null,
            "right": null,
            "top": null,
            "visibility": null,
            "width": null
          }
        },
        "d2a8e9034e214b9f851fa4dcf764d0f5": {
          "model_module": "@jupyter-widgets/controls",
          "model_module_version": "1.5.0",
          "model_name": "DescriptionStyleModel",
          "state": {
            "_model_module": "@jupyter-widgets/controls",
            "_model_module_version": "1.5.0",
            "_model_name": "DescriptionStyleModel",
            "_view_count": null,
            "_view_module": "@jupyter-widgets/base",
            "_view_module_version": "1.2.0",
            "_view_name": "StyleView",
            "description_width": ""
          }
        },
        "d8c83f17ac064d43bf0ba8d6d909b347": {
          "model_module": "@jupyter-widgets/controls",
          "model_module_version": "1.5.0",
          "model_name": "HBoxModel",
          "state": {
            "_dom_classes": [],
            "_model_module": "@jupyter-widgets/controls",
            "_model_module_version": "1.5.0",
            "_model_name": "HBoxModel",
            "_view_count": null,
            "_view_module": "@jupyter-widgets/controls",
            "_view_module_version": "1.5.0",
            "_view_name": "HBoxView",
            "box_style": "",
            "children": [
              "IPY_MODEL_442558df014c44368f839980637705e8",
              "IPY_MODEL_8b0aebaa8a3146b28f7b26910b1dc1eb",
              "IPY_MODEL_db9e82d39e37489eba051d81ab814506"
            ],
            "layout": "IPY_MODEL_6c5014d7fbca4e669d79cd59e24d8747"
          }
        },
        "db9e82d39e37489eba051d81ab814506": {
          "model_module": "@jupyter-widgets/controls",
          "model_module_version": "1.5.0",
          "model_name": "HTMLModel",
          "state": {
            "_dom_classes": [],
            "_model_module": "@jupyter-widgets/controls",
            "_model_module_version": "1.5.0",
            "_model_name": "HTMLModel",
            "_view_count": null,
            "_view_module": "@jupyter-widgets/controls",
            "_view_module_version": "1.5.0",
            "_view_name": "HTMLView",
            "description": "",
            "description_tooltip": null,
            "layout": "IPY_MODEL_6e5e8832aca54a35b86c0d0846037818",
            "placeholder": "​",
            "style": "IPY_MODEL_a05f46253b7848d2893b1ae61f0fb495",
            "value": " 10/10 [08:10&lt;00:00, 51.47s/it]"
          }
        },
        "df6350fe0cb04be1aa2a7d8d6eca93c9": {
          "model_module": "@jupyter-widgets/controls",
          "model_module_version": "1.5.0",
          "model_name": "ProgressStyleModel",
          "state": {
            "_model_module": "@jupyter-widgets/controls",
            "_model_module_version": "1.5.0",
            "_model_name": "ProgressStyleModel",
            "_view_count": null,
            "_view_module": "@jupyter-widgets/base",
            "_view_module_version": "1.2.0",
            "_view_name": "StyleView",
            "bar_color": null,
            "description_width": ""
          }
        },
        "f20f7928affc4adfa44d85b1f48bb10f": {
          "model_module": "@jupyter-widgets/controls",
          "model_module_version": "1.5.0",
          "model_name": "DescriptionStyleModel",
          "state": {
            "_model_module": "@jupyter-widgets/controls",
            "_model_module_version": "1.5.0",
            "_model_name": "DescriptionStyleModel",
            "_view_count": null,
            "_view_module": "@jupyter-widgets/base",
            "_view_module_version": "1.2.0",
            "_view_name": "StyleView",
            "description_width": ""
          }
        },
        "f6ddb637dba24bd2935f48c316c372bb": {
          "model_module": "@jupyter-widgets/controls",
          "model_module_version": "1.5.0",
          "model_name": "HTMLModel",
          "state": {
            "_dom_classes": [],
            "_model_module": "@jupyter-widgets/controls",
            "_model_module_version": "1.5.0",
            "_model_name": "HTMLModel",
            "_view_count": null,
            "_view_module": "@jupyter-widgets/controls",
            "_view_module_version": "1.5.0",
            "_view_name": "HTMLView",
            "description": "",
            "description_tooltip": null,
            "layout": "IPY_MODEL_2c699e3f8a2d407eae328e32a314bd5f",
            "placeholder": "​",
            "style": "IPY_MODEL_82b935fc15874441b4a46692cbe3eda8",
            "value": " 10/10 [02:15&lt;00:00, 12.57s/it]"
          }
        },
        "f77fe0f2d71a439bb13356273b6bfafc": {
          "model_module": "@jupyter-widgets/base",
          "model_module_version": "1.2.0",
          "model_name": "LayoutModel",
          "state": {
            "_model_module": "@jupyter-widgets/base",
            "_model_module_version": "1.2.0",
            "_model_name": "LayoutModel",
            "_view_count": null,
            "_view_module": "@jupyter-widgets/base",
            "_view_module_version": "1.2.0",
            "_view_name": "LayoutView",
            "align_content": null,
            "align_items": null,
            "align_self": null,
            "border": null,
            "bottom": null,
            "display": null,
            "flex": null,
            "flex_flow": null,
            "grid_area": null,
            "grid_auto_columns": null,
            "grid_auto_flow": null,
            "grid_auto_rows": null,
            "grid_column": null,
            "grid_gap": null,
            "grid_row": null,
            "grid_template_areas": null,
            "grid_template_columns": null,
            "grid_template_rows": null,
            "height": null,
            "justify_content": null,
            "justify_items": null,
            "left": null,
            "margin": null,
            "max_height": null,
            "max_width": null,
            "min_height": null,
            "min_width": null,
            "object_fit": null,
            "object_position": null,
            "order": null,
            "overflow": null,
            "overflow_x": null,
            "overflow_y": null,
            "padding": null,
            "right": null,
            "top": null,
            "visibility": null,
            "width": null
          }
        },
        "f90b06fc3dba4448af9b3db3a17d26cd": {
          "model_module": "@jupyter-widgets/controls",
          "model_module_version": "1.5.0",
          "model_name": "HBoxModel",
          "state": {
            "_dom_classes": [],
            "_model_module": "@jupyter-widgets/controls",
            "_model_module_version": "1.5.0",
            "_model_name": "HBoxModel",
            "_view_count": null,
            "_view_module": "@jupyter-widgets/controls",
            "_view_module_version": "1.5.0",
            "_view_name": "HBoxView",
            "box_style": "",
            "children": [
              "IPY_MODEL_ff80646771cd4f9596b4ed9c793b5dea",
              "IPY_MODEL_7d71920a4af0491cbfb2807adcfddcae",
              "IPY_MODEL_f6ddb637dba24bd2935f48c316c372bb"
            ],
            "layout": "IPY_MODEL_56b2051a21634765a8abef2eadcc48be"
          }
        },
        "ff1e03072190495588d09abb8ed82d5c": {
          "model_module": "@jupyter-widgets/controls",
          "model_module_version": "1.5.0",
          "model_name": "HTMLModel",
          "state": {
            "_dom_classes": [],
            "_model_module": "@jupyter-widgets/controls",
            "_model_module_version": "1.5.0",
            "_model_name": "HTMLModel",
            "_view_count": null,
            "_view_module": "@jupyter-widgets/controls",
            "_view_module_version": "1.5.0",
            "_view_name": "HTMLView",
            "description": "",
            "description_tooltip": null,
            "layout": "IPY_MODEL_71bf800d59c244c9a238a8b09736a4c1",
            "placeholder": "​",
            "style": "IPY_MODEL_ae178d58d62b49f6902813ddc1fc5d4a",
            "value": " 10/10 [01:09&lt;00:00,  6.70s/it]"
          }
        },
        "ff80646771cd4f9596b4ed9c793b5dea": {
          "model_module": "@jupyter-widgets/controls",
          "model_module_version": "1.5.0",
          "model_name": "HTMLModel",
          "state": {
            "_dom_classes": [],
            "_model_module": "@jupyter-widgets/controls",
            "_model_module_version": "1.5.0",
            "_model_name": "HTMLModel",
            "_view_count": null,
            "_view_module": "@jupyter-widgets/controls",
            "_view_module_version": "1.5.0",
            "_view_name": "HTMLView",
            "description": "",
            "description_tooltip": null,
            "layout": "IPY_MODEL_8dd2df2dd41646aa902683e317d984eb",
            "placeholder": "​",
            "style": "IPY_MODEL_f20f7928affc4adfa44d85b1f48bb10f",
            "value": "Best trial: 5. Best value: 0.726912: 100%"
          }
        }
      }
    }
  },
  "nbformat": 4,
  "nbformat_minor": 5
}