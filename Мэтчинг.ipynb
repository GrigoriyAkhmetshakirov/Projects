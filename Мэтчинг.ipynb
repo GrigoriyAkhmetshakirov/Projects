{
  "nbformat": 4,
  "nbformat_minor": 0,
  "metadata": {
    "colab": {
      "provenance": [],
      "toc_visible": true
    },
    "kernelspec": {
      "name": "python3",
      "display_name": "Python 3"
    },
    "language_info": {
      "name": "python"
    }
  },
  "cells": [
    {
      "cell_type": "markdown",
      "source": [
        "## Описание проекта"
      ],
      "metadata": {
        "id": "d9xYvjDkAu0r"
      }
    },
    {
      "cell_type": "markdown",
      "source": [
        "**Дано:**\n",
        "\n",
        "Два множества объектов: A и B. Каждый объект в множества описывается какими-то признаками.\n",
        "\n",
        "**Желаемый результат:**\n",
        "\n",
        "Для каждого объекта из множества A найти один или несколько объектов из B, которые близки к нему по некоторой заданной метрике.\n"
      ],
      "metadata": {
        "id": "MDBGs35wBA4G"
      }
    },
    {
      "cell_type": "markdown",
      "source": [
        "**Задачи:**\n",
        "\n",
        "- Необходимо разработать алгоритм, который для всех товаров из `validation.csv` предложит несколько вариантов наиболее похожих товаров из `base.csv`;\n",
        "\n",
        "- Оценить качество алгоритма по метрике accuracy;"
      ],
      "metadata": {
        "id": "nz_P-R5TAml9"
      }
    },
    {
      "cell_type": "markdown",
      "source": [
        "**Исходные данные:**\n",
        "\n",
        "- `base.csv` - анонимизированный набор товаров. Каждый товар представлен как уникальный id (0-base, 1-base, 2-base) и вектор признаков размерностью 72.\n",
        "\n",
        "- `train.csv` - обучающий датасет. Каждая строчка - один товар, для которого известен уникальный `id` (0-query, 1-query, …) , вектор признаков `id` товара из `base.csv`, который максимально похож на него (по мнению экспертов).\n",
        "\n",
        "- `validation.csv` - датасет с товарами (уникальный id и вектор признаков), для которых надо найти наиболее близкие товары из `base.csv`.\n",
        "\n",
        "- `validation_answer.csv` - правильные ответы к предыдущему файлу."
      ],
      "metadata": {
        "id": "YenTa7uBBsKS"
      }
    },
    {
      "cell_type": "markdown",
      "source": [
        "# Загрузка библиотек и данных"
      ],
      "metadata": {
        "id": "RDp92jZDCZIg"
      }
    },
    {
      "cell_type": "code",
      "source": [
        "!pip install -q faiss-cpu\n",
        "!pip install -q catboost"
      ],
      "metadata": {
        "id": "FD2WOZ45BWqL"
      },
      "execution_count": null,
      "outputs": []
    },
    {
      "cell_type": "code",
      "source": [
        "from google.colab import drive\n",
        "\n",
        "import pandas as pd\n",
        "import numpy as np\n",
        "import matplotlib.pyplot as plt\n",
        "import seaborn as sns\n",
        "\n",
        "from scipy.spatial import distance\n",
        "from catboost import CatBoostClassifier\n",
        "from sklearn.model_selection import train_test_split\n",
        "from scipy.stats import shapiro\n",
        "from sklearn.preprocessing import MinMaxScaler\n",
        "from sklearn.metrics import roc_auc_score\n",
        "\n",
        "import faiss"
      ],
      "metadata": {
        "id": "9oeuCqn1ChqU"
      },
      "execution_count": null,
      "outputs": []
    },
    {
      "cell_type": "code",
      "source": [
        "try:\n",
        "    path_base = ''\n",
        "    path_train = ''\n",
        "    path_val = ''\n",
        "    path_val_answer = ''\n",
        "\n",
        "    df_base = pd.read_csv(path_base, index_col=0)\n",
        "    df_train = pd.read_csv(path_train, index_col=0)\n",
        "    df_val = pd.read_csv(path_val, index_col=0)\n",
        "    df_val_answer = pd.read_csv(path_val_answer, index_col=0)\n",
        "\n",
        "except:\n",
        "    drive.mount('/content/gdrive')\n",
        "    df_base = pd.read_csv('/content/gdrive/MyDrive/learn/DS/data/base.csv', index_col=0)\n",
        "    df_train = pd.read_csv('/content/gdrive/MyDrive/learn/DS/data/train.csv', index_col=0)\n",
        "    df_val = pd.read_csv('/content/gdrive/MyDrive/learn/DS/data/validation.csv', index_col=0)\n",
        "    df_val_answer = pd.read_csv('/content/gdrive/MyDrive/learn/DS/data/validation_answer.csv', index_col=0)"
      ],
      "metadata": {
        "colab": {
          "base_uri": "https://localhost:8080/"
        },
        "id": "6n6GmbtdEGnt",
        "outputId": "b3dc31f1-aef5-4429-fd68-2cfae8e27c13"
      },
      "execution_count": null,
      "outputs": [
        {
          "output_type": "stream",
          "name": "stdout",
          "text": [
            "Mounted at /content/gdrive\n"
          ]
        }
      ]
    },
    {
      "cell_type": "markdown",
      "source": [
        "# Поиск векторов используя Faiss"
      ],
      "metadata": {
        "id": "AT6JO0XMMqhT"
      }
    },
    {
      "cell_type": "code",
      "source": [
        "targets = df_train['Target']\n",
        "df_train = df_train.drop(columns='Target')"
      ],
      "metadata": {
        "id": "nJP__ACwOVyy"
      },
      "execution_count": null,
      "outputs": []
    },
    {
      "cell_type": "markdown",
      "source": [
        "Создаем словарь, где будем хранить индекс вектора из `base` как ключ и его номер как значение"
      ],
      "metadata": {
        "id": "0lnRMc0crHBl"
      }
    },
    {
      "cell_type": "code",
      "source": [
        "base_index = {k: v for k, v in enumerate(df_base.index.to_list())}"
      ],
      "metadata": {
        "id": "lIEDN4ptMkVp"
      },
      "execution_count": null,
      "outputs": []
    },
    {
      "cell_type": "markdown",
      "source": [
        "Для работы с Faiss создадим класс"
      ],
      "metadata": {
        "id": "e7YW070ycmnt"
      }
    },
    {
      "cell_type": "code",
      "source": [
        "class Finder:\n",
        "\n",
        "\n",
        "    def __init__(self, index_base=df_base):\n",
        "\n",
        "        self.index_base = index_base # база поиска\n",
        "        self.dims = index_base.shape[1] # задаем размерность векторов\n",
        "\n",
        "\n",
        "    def train(self, index_type='FlatL2', nprobe = 15, clusters='1000'):\n",
        "\n",
        "        if index_type == 'FlatL2':\n",
        "            self.index = faiss.IndexFlatL2(self.dims)\n",
        "            self.index.add(self.index_base)\n",
        "\n",
        "        if index_type == 'IVFFlat':\n",
        "            self.index = faiss.index_factory(self.dims, 'IVF' + clusters + ',Flat')\n",
        "            self.index.train(self.index_base)\n",
        "            self.index.add(self.index_base)\n",
        "            self.index.nprobe = nprobe # количество кластеров, где проходит поиск\n",
        "\n",
        "\n",
        "    def search(self, vectors_to_search=df_train, number_of_vectors=100, neighbors=5):\n",
        "\n",
        "        dist, indexes = self.index.search(vectors_to_search[:number_of_vectors], neighbors)\n",
        "\n",
        "        return indexes, dist\n",
        "\n",
        "\n",
        "    def search_neighbors(self, vectors_to_search, neighbors=5):\n",
        "\n",
        "        dist, indexes = self.index.search(vectors_to_search, neighbors)\n",
        "\n",
        "        return indexes, dist\n",
        "\n",
        "\n",
        "    def calc_accuracy(self, vectors_to_search=df_train, number_of_vectors=5, neighbors=5, targets=targets, base=base_index):\n",
        "\n",
        "        indexes = self.search(vectors_to_search, number_of_vectors, neighbors)[0]\n",
        "        res = []\n",
        "        for target, el in zip(targets.values.tolist(), indexes.tolist()):\n",
        "            res.append(int(target in [base[item] for item in el]))\n",
        "\n",
        "        return round(np.mean(res) * 100, 2)"
      ],
      "metadata": {
        "id": "nBPuPFqku3YM"
      },
      "execution_count": null,
      "outputs": []
    },
    {
      "cell_type": "markdown",
      "source": [
        "## Индекс IndexFlatL2"
      ],
      "metadata": {
        "id": "Bk8RPebXCkjU"
      }
    },
    {
      "cell_type": "code",
      "source": [
        "finder = Finder()\n",
        "finder.train('FlatL2')"
      ],
      "metadata": {
        "id": "r7OubYRFJ9Eq"
      },
      "execution_count": null,
      "outputs": []
    },
    {
      "cell_type": "markdown",
      "source": [
        "Выполним поиск для 5 первых векторов их `base` чтобы удостоверится, что поиск работает"
      ],
      "metadata": {
        "id": "WwsopXdaC0ZV"
      }
    },
    {
      "cell_type": "code",
      "source": [
        "finder.search(vectors_to_search=df_base, number_of_vectors=5, neighbors=5)"
      ],
      "metadata": {
        "id": "0sQ63I2kBoga",
        "colab": {
          "base_uri": "https://localhost:8080/"
        },
        "outputId": "91b727f5-c318-41b9-d68e-afd9b8ca5fb9"
      },
      "execution_count": null,
      "outputs": [
        {
          "output_type": "execute_result",
          "data": {
            "text/plain": [
              "(array([[      0, 1500079, 2051954, 1944170, 1108612],\n",
              "        [      1, 1570801, 2371895, 2735425, 2467303],\n",
              "        [      2,  679908,  699436,  487095,  610683],\n",
              "        [      3, 2404071, 2393583, 1395190, 2128166],\n",
              "        [      4,  141249, 2611440,   57799, 1181402]]),\n",
              " array([[     0.    ,  55807.145 ,  82528.22  ,  82861.01  , 105918.445 ],\n",
              "        [     0.    ,  78329.305 , 103517.16  , 123806.31  , 133982.56  ],\n",
              "        [     0.    ,    518.7016,   4848.112 ,  15866.515 ,  24915.895 ],\n",
              "        [     0.    ,  61570.293 ,  64472.855 ,  68644.89  ,  69554.44  ],\n",
              "        [     0.    , 143118.7   , 156359.12  , 162206.7   , 169574.97  ]],\n",
              "       dtype=float32))"
            ]
          },
          "metadata": {},
          "execution_count": 10
        }
      ]
    },
    {
      "cell_type": "markdown",
      "source": [
        "Как и ожидалось, первым пяти векторам соответвуют они же"
      ],
      "metadata": {
        "id": "NMcrHfJaDKJ2"
      }
    },
    {
      "cell_type": "markdown",
      "source": [
        "Поиск из трейна"
      ],
      "metadata": {
        "id": "WGMeAytvDXJz"
      }
    },
    {
      "cell_type": "code",
      "source": [
        "finder.search(number_of_vectors=5, neighbors=5)"
      ],
      "metadata": {
        "id": "B_1-f9MhCG_4",
        "colab": {
          "base_uri": "https://localhost:8080/"
        },
        "outputId": "c3a0d911-0189-4320-851a-e01f336512ff"
      },
      "execution_count": null,
      "outputs": [
        {
          "output_type": "execute_result",
          "data": {
            "text/plain": [
              "(array([[1480698,  161948, 1076334, 1882633, 1282393],\n",
              "        [ 445586,  920175, 2168908, 2651198,  546230],\n",
              "        [1659033,  760940,  656828, 1052397, 1392119],\n",
              "        [2825385, 1573375, 2745252,  684927,  429085],\n",
              "        [ 212436, 1304565, 1332011, 1338879,  595387]]),\n",
              " array([[108182.35 , 116295.55 , 125482.26 , 141574.39 , 142215.5  ],\n",
              "        [102827.21 , 116681.83 , 120689.08 , 122624.29 , 122806.87 ],\n",
              "        [ 54918.504,  57053.152,  57339.78 ,  61338.43 ,  61677.61 ],\n",
              "        [ 89537.67 ,  95799.28 , 105487.42 , 106495.74 , 106910.336],\n",
              "        [ 22776.164,  22803.027,  25497.855,  27072.268,  30585.54 ]],\n",
              "       dtype=float32))"
            ]
          },
          "metadata": {},
          "execution_count": 11
        }
      ]
    },
    {
      "cell_type": "code",
      "source": [
        "%%time\n",
        "finder.calc_accuracy(number_of_vectors=100)"
      ],
      "metadata": {
        "id": "cfITH_om-H4t",
        "colab": {
          "base_uri": "https://localhost:8080/"
        },
        "outputId": "857cde31-7d22-4fa0-bf9e-ff441a3f3cc0"
      },
      "execution_count": null,
      "outputs": [
        {
          "output_type": "stream",
          "name": "stdout",
          "text": [
            "CPU times: user 5.18 s, sys: 8.34 ms, total: 5.19 s\n",
            "Wall time: 3.8 s\n"
          ]
        },
        {
          "output_type": "execute_result",
          "data": {
            "text/plain": [
              "14.0"
            ]
          },
          "metadata": {},
          "execution_count": 12
        }
      ]
    },
    {
      "cell_type": "markdown",
      "source": [
        "## Индекс IndexIVFFlat"
      ],
      "metadata": {
        "id": "hsuwuYMdFgBX"
      }
    },
    {
      "cell_type": "code",
      "source": [
        "finder.train('IVFFlat', nprobe=10)\n",
        "finder.search(number_of_vectors=10)"
      ],
      "metadata": {
        "id": "8Nee_7oeDnl4",
        "colab": {
          "base_uri": "https://localhost:8080/"
        },
        "outputId": "bf54fd3b-b9e4-4547-cd72-9246cd1c324d"
      },
      "execution_count": null,
      "outputs": [
        {
          "output_type": "execute_result",
          "data": {
            "text/plain": [
              "(array([[1480698,  161948, 1076334, 1882633, 1282393],\n",
              "        [ 445586,  920175, 2168908, 2651198,  546230],\n",
              "        [1659033,  760940,  656828, 1052397, 1392119],\n",
              "        [2825385, 1573375, 2745252,  684927,  429085],\n",
              "        [ 212436, 1304565, 1332011, 1338879,  595387],\n",
              "        [1953218,  205613, 2080851, 1840906, 1873401],\n",
              "        [2911305, 1199903, 1245503, 2551513,  629024],\n",
              "        [ 975306,   22314,  705199, 2364395,   60567],\n",
              "        [ 691994, 2551557, 2662608, 1154963, 1140458],\n",
              "        [ 138570,  821969, 2230647, 1835185,  563959]]),\n",
              " array([[108182.35 , 116295.55 , 125482.26 , 141574.39 , 142215.5  ],\n",
              "        [102827.21 , 116681.83 , 120689.08 , 122624.29 , 122806.87 ],\n",
              "        [ 54918.504,  57053.152,  57339.78 ,  61338.43 ,  61677.61 ],\n",
              "        [ 89537.67 ,  95799.28 , 105487.42 , 106495.74 , 106910.336],\n",
              "        [ 22776.164,  22803.027,  25497.855,  27072.268,  30585.54 ],\n",
              "        [ 97811.25 , 110492.42 , 124100.17 , 126546.92 , 126997.53 ],\n",
              "        [ 22191.883,  96315.8  , 115507.125, 119271.41 , 122021.086],\n",
              "        [  9605.142,  12893.784,  16392.715,  18672.44 ,  22891.139],\n",
              "        [ 83402.33 ,  88291.984,  91171.82 ,  97260.36 ,  99255.99 ],\n",
              "        [ 81584.61 ,  90042.98 ,  98436.08 , 103626.42 , 104226.7  ]],\n",
              "       dtype=float32))"
            ]
          },
          "metadata": {},
          "execution_count": 13
        }
      ]
    },
    {
      "cell_type": "code",
      "source": [
        "%%time\n",
        "finder.calc_accuracy(number_of_vectors=100)"
      ],
      "metadata": {
        "id": "yKT-vA3nNJFB",
        "colab": {
          "base_uri": "https://localhost:8080/"
        },
        "outputId": "72ee50fa-53ab-4090-b47e-b67ed1413d81"
      },
      "execution_count": null,
      "outputs": [
        {
          "output_type": "stream",
          "name": "stdout",
          "text": [
            "CPU times: user 243 ms, sys: 886 µs, total: 244 ms\n",
            "Wall time: 126 ms\n"
          ]
        },
        {
          "output_type": "execute_result",
          "data": {
            "text/plain": [
              "9.0"
            ]
          },
          "metadata": {},
          "execution_count": 14
        }
      ]
    },
    {
      "cell_type": "markdown",
      "source": [
        "# Обработка данных"
      ],
      "metadata": {
        "id": "W6ab0m2M5QNw"
      }
    },
    {
      "cell_type": "markdown",
      "source": [
        "Посмотрим на количество пропусков"
      ],
      "metadata": {
        "id": "cDctwGXvDyX0"
      }
    },
    {
      "cell_type": "code",
      "source": [
        "df_base.isna().sum().sum()"
      ],
      "metadata": {
        "colab": {
          "base_uri": "https://localhost:8080/"
        },
        "id": "9OWjytD7EtvN",
        "outputId": "7adc4bc5-d1d9-40b9-cc81-0a070bbfb6b8"
      },
      "execution_count": null,
      "outputs": [
        {
          "output_type": "execute_result",
          "data": {
            "text/plain": [
              "0"
            ]
          },
          "metadata": {},
          "execution_count": 15
        }
      ]
    },
    {
      "cell_type": "markdown",
      "source": [
        "Пропусков нет"
      ],
      "metadata": {
        "id": "SmY03woaY67-"
      }
    },
    {
      "cell_type": "markdown",
      "source": [
        "С помощью теста Шапиро-Уилка отбросим признаки, которые не распределены нормально"
      ],
      "metadata": {
        "id": "bfhkIw_EpL9f"
      }
    },
    {
      "cell_type": "code",
      "source": [
        "columns_to_drop = []\n",
        "for col in df_base.columns:\n",
        "    stat, p_value = shapiro(df_base[col])\n",
        "    if p_value < 0.01:\n",
        "        columns_to_drop.append(col)"
      ],
      "metadata": {
        "id": "kNevE7KcLThS"
      },
      "execution_count": null,
      "outputs": []
    },
    {
      "cell_type": "code",
      "source": [
        "df_base_corrected = df_base.drop(columns=columns_to_drop)\n",
        "df_train_corrected = df_train.drop(columns=columns_to_drop)\n",
        "df_val_corrected = df_val.drop(columns=columns_to_drop)"
      ],
      "metadata": {
        "id": "wj5VmFNDVtF3"
      },
      "execution_count": null,
      "outputs": []
    },
    {
      "cell_type": "code",
      "source": [
        "columns_not_to_drop = df_base_corrected.columns"
      ],
      "metadata": {
        "id": "n3z9SSoo_iTG"
      },
      "execution_count": null,
      "outputs": []
    },
    {
      "cell_type": "markdown",
      "source": [
        "Посмотрим на метрику"
      ],
      "metadata": {
        "id": "E78LTLYTpaAr"
      }
    },
    {
      "cell_type": "code",
      "source": [
        "finder = Finder(index_base=df_base_corrected)\n",
        "finder.train('IVFFlat', nprobe=30)\n",
        "finder.calc_accuracy(vectors_to_search=df_train_corrected, number_of_vectors=df_train_corrected.shape[0])"
      ],
      "metadata": {
        "id": "g7WqwZmPP7u6",
        "colab": {
          "base_uri": "https://localhost:8080/"
        },
        "outputId": "6f900726-0355-49e4-d456-ea963ffedac3"
      },
      "execution_count": null,
      "outputs": [
        {
          "output_type": "execute_result",
          "data": {
            "text/plain": [
              "66.34"
            ]
          },
          "metadata": {},
          "execution_count": 19
        }
      ]
    },
    {
      "cell_type": "markdown",
      "source": [
        "Проведем стандартизацию"
      ],
      "metadata": {
        "id": "8yQe4Tbfpcc9"
      }
    },
    {
      "cell_type": "code",
      "source": [
        "scaler = MinMaxScaler((0, 1))"
      ],
      "metadata": {
        "id": "CBF6WYgBVP7Z"
      },
      "execution_count": null,
      "outputs": []
    },
    {
      "cell_type": "code",
      "source": [
        "scaler.fit(df_base_corrected)"
      ],
      "metadata": {
        "colab": {
          "base_uri": "https://localhost:8080/",
          "height": 74
        },
        "id": "9wGXcKqXVSmN",
        "outputId": "1dc20533-841b-41ab-b93e-9b7e4355a56b"
      },
      "execution_count": null,
      "outputs": [
        {
          "output_type": "execute_result",
          "data": {
            "text/plain": [
              "MinMaxScaler()"
            ],
            "text/html": [
              "<style>#sk-container-id-1 {color: black;background-color: white;}#sk-container-id-1 pre{padding: 0;}#sk-container-id-1 div.sk-toggleable {background-color: white;}#sk-container-id-1 label.sk-toggleable__label {cursor: pointer;display: block;width: 100%;margin-bottom: 0;padding: 0.3em;box-sizing: border-box;text-align: center;}#sk-container-id-1 label.sk-toggleable__label-arrow:before {content: \"▸\";float: left;margin-right: 0.25em;color: #696969;}#sk-container-id-1 label.sk-toggleable__label-arrow:hover:before {color: black;}#sk-container-id-1 div.sk-estimator:hover label.sk-toggleable__label-arrow:before {color: black;}#sk-container-id-1 div.sk-toggleable__content {max-height: 0;max-width: 0;overflow: hidden;text-align: left;background-color: #f0f8ff;}#sk-container-id-1 div.sk-toggleable__content pre {margin: 0.2em;color: black;border-radius: 0.25em;background-color: #f0f8ff;}#sk-container-id-1 input.sk-toggleable__control:checked~div.sk-toggleable__content {max-height: 200px;max-width: 100%;overflow: auto;}#sk-container-id-1 input.sk-toggleable__control:checked~label.sk-toggleable__label-arrow:before {content: \"▾\";}#sk-container-id-1 div.sk-estimator input.sk-toggleable__control:checked~label.sk-toggleable__label {background-color: #d4ebff;}#sk-container-id-1 div.sk-label input.sk-toggleable__control:checked~label.sk-toggleable__label {background-color: #d4ebff;}#sk-container-id-1 input.sk-hidden--visually {border: 0;clip: rect(1px 1px 1px 1px);clip: rect(1px, 1px, 1px, 1px);height: 1px;margin: -1px;overflow: hidden;padding: 0;position: absolute;width: 1px;}#sk-container-id-1 div.sk-estimator {font-family: monospace;background-color: #f0f8ff;border: 1px dotted black;border-radius: 0.25em;box-sizing: border-box;margin-bottom: 0.5em;}#sk-container-id-1 div.sk-estimator:hover {background-color: #d4ebff;}#sk-container-id-1 div.sk-parallel-item::after {content: \"\";width: 100%;border-bottom: 1px solid gray;flex-grow: 1;}#sk-container-id-1 div.sk-label:hover label.sk-toggleable__label {background-color: #d4ebff;}#sk-container-id-1 div.sk-serial::before {content: \"\";position: absolute;border-left: 1px solid gray;box-sizing: border-box;top: 0;bottom: 0;left: 50%;z-index: 0;}#sk-container-id-1 div.sk-serial {display: flex;flex-direction: column;align-items: center;background-color: white;padding-right: 0.2em;padding-left: 0.2em;position: relative;}#sk-container-id-1 div.sk-item {position: relative;z-index: 1;}#sk-container-id-1 div.sk-parallel {display: flex;align-items: stretch;justify-content: center;background-color: white;position: relative;}#sk-container-id-1 div.sk-item::before, #sk-container-id-1 div.sk-parallel-item::before {content: \"\";position: absolute;border-left: 1px solid gray;box-sizing: border-box;top: 0;bottom: 0;left: 50%;z-index: -1;}#sk-container-id-1 div.sk-parallel-item {display: flex;flex-direction: column;z-index: 1;position: relative;background-color: white;}#sk-container-id-1 div.sk-parallel-item:first-child::after {align-self: flex-end;width: 50%;}#sk-container-id-1 div.sk-parallel-item:last-child::after {align-self: flex-start;width: 50%;}#sk-container-id-1 div.sk-parallel-item:only-child::after {width: 0;}#sk-container-id-1 div.sk-dashed-wrapped {border: 1px dashed gray;margin: 0 0.4em 0.5em 0.4em;box-sizing: border-box;padding-bottom: 0.4em;background-color: white;}#sk-container-id-1 div.sk-label label {font-family: monospace;font-weight: bold;display: inline-block;line-height: 1.2em;}#sk-container-id-1 div.sk-label-container {text-align: center;}#sk-container-id-1 div.sk-container {/* jupyter's `normalize.less` sets `[hidden] { display: none; }` but bootstrap.min.css set `[hidden] { display: none !important; }` so we also need the `!important` here to be able to override the default hidden behavior on the sphinx rendered scikit-learn.org. See: https://github.com/scikit-learn/scikit-learn/issues/21755 */display: inline-block !important;position: relative;}#sk-container-id-1 div.sk-text-repr-fallback {display: none;}</style><div id=\"sk-container-id-1\" class=\"sk-top-container\"><div class=\"sk-text-repr-fallback\"><pre>MinMaxScaler()</pre><b>In a Jupyter environment, please rerun this cell to show the HTML representation or trust the notebook. <br />On GitHub, the HTML representation is unable to render, please try loading this page with nbviewer.org.</b></div><div class=\"sk-container\" hidden><div class=\"sk-item\"><div class=\"sk-estimator sk-toggleable\"><input class=\"sk-toggleable__control sk-hidden--visually\" id=\"sk-estimator-id-1\" type=\"checkbox\" checked><label for=\"sk-estimator-id-1\" class=\"sk-toggleable__label sk-toggleable__label-arrow\">MinMaxScaler</label><div class=\"sk-toggleable__content\"><pre>MinMaxScaler()</pre></div></div></div></div></div>"
            ]
          },
          "metadata": {},
          "execution_count": 21
        }
      ]
    },
    {
      "cell_type": "code",
      "source": [
        "df_base_corrected = pd.DataFrame(scaler.transform(df_base_corrected), columns=df_base_corrected.columns, index=df_base_corrected.index)\n",
        "df_train_corrected = pd.DataFrame(scaler.transform(df_train_corrected), columns=df_train_corrected.columns, index=df_train_corrected.index)\n",
        "df_val_corrected = pd.DataFrame(scaler.transform(df_val_corrected), columns=df_val_corrected.columns, index=df_val_corrected.index)"
      ],
      "metadata": {
        "id": "U_JlBEDiVXTi"
      },
      "execution_count": null,
      "outputs": []
    },
    {
      "cell_type": "code",
      "source": [
        "finder = Finder(index_base=df_base_corrected)\n",
        "finder.train('IVFFlat', nprobe=30)\n",
        "finder.calc_accuracy(vectors_to_search=df_train_corrected, number_of_vectors=df_train_corrected.shape[0])"
      ],
      "metadata": {
        "id": "ph6vZwlsVgg7",
        "colab": {
          "base_uri": "https://localhost:8080/"
        },
        "outputId": "27c568b4-89f4-419f-eb56-269761ccc965"
      },
      "execution_count": null,
      "outputs": [
        {
          "output_type": "execute_result",
          "data": {
            "text/plain": [
              "69.17"
            ]
          },
          "metadata": {},
          "execution_count": 23
        }
      ]
    },
    {
      "cell_type": "markdown",
      "source": [
        "# Модель МО\n"
      ],
      "metadata": {
        "id": "_MSGuDmppnQ1"
      }
    },
    {
      "cell_type": "code",
      "source": [
        "finder = Finder(index_base=df_base_corrected)\n",
        "finder.train('IVFFlat', nprobe=30, clusters='2000')"
      ],
      "metadata": {
        "id": "UR875DE1ExXS"
      },
      "execution_count": null,
      "outputs": []
    },
    {
      "cell_type": "code",
      "source": [
        "n_vectors = df_train_corrected.shape[0]\n",
        "neighbors = 20\n",
        "i, d = finder.search(vectors_to_search=df_train_corrected, number_of_vectors=n_vectors, neighbors=neighbors)\n",
        "finder.calc_accuracy(vectors_to_search=df_train_corrected, number_of_vectors=n_vectors, neighbors=neighbors)"
      ],
      "metadata": {
        "id": "Pw29QLPDuxuL",
        "colab": {
          "base_uri": "https://localhost:8080/"
        },
        "outputId": "c7310fed-e9e2-48f4-f34e-688562273996"
      },
      "execution_count": null,
      "outputs": [
        {
          "output_type": "execute_result",
          "data": {
            "text/plain": [
              "73.57"
            ]
          },
          "metadata": {},
          "execution_count": 25
        }
      ]
    },
    {
      "cell_type": "code",
      "source": [
        "def prepapre_df(indexes=i,\n",
        "                distances=d,\n",
        "                targets=targets,\n",
        "                query=df_train_corrected,\n",
        "                base_index=base_index,\n",
        "                n_vectors=n_vectors,\n",
        "                neighbors=neighbors\n",
        "):\n",
        "\n",
        "    predicted_index = pd.DataFrame(indexes.reshape(-1,1), columns=['predicted_index'])\n",
        "    predicted_distance = pd.DataFrame(distances.reshape(-1,1), columns=['predicted_distance'])\n",
        "    target = pd.DataFrame(np.repeat(targets[:n_vectors].values, neighbors, axis=0), columns=['target'])\n",
        "\n",
        "    df = pd.DataFrame(np.repeat(query.values[:n_vectors], neighbors, axis=0), columns=[x + '_q' for x in query.columns])\n",
        "    df = df.join(predicted_index).join(predicted_distance).join(target)\n",
        "    df['predicted_index'] =  df['predicted_index'].apply(lambda x: base_index[x])\n",
        "    predicted_vectors = df['predicted_index'].apply(lambda x: df_base_corrected.loc[x])\n",
        "    predicted_vectors.columns = [x + '_p' for x in predicted_vectors.columns]\n",
        "    df = df.join(predicted_vectors)\n",
        "    df['correctly_predicted'] = (df['predicted_index'] == df['target']).apply(lambda x: int(x))\n",
        "    df.index = df['predicted_index']\n",
        "\n",
        "    return df"
      ],
      "metadata": {
        "id": "-VLO24baJl4v"
      },
      "execution_count": null,
      "outputs": []
    },
    {
      "cell_type": "code",
      "source": [
        "df = prepapre_df()"
      ],
      "metadata": {
        "id": "k4F_-_I0K-xd"
      },
      "execution_count": null,
      "outputs": []
    },
    {
      "cell_type": "markdown",
      "source": [
        "Проверка - посчитаем точность"
      ],
      "metadata": {
        "id": "bQ86rHmzPx09"
      }
    },
    {
      "cell_type": "code",
      "source": [
        "df['correctly_predicted'].mean() * 100 * neighbors"
      ],
      "metadata": {
        "colab": {
          "base_uri": "https://localhost:8080/"
        },
        "id": "I8pDndp8OQ0K",
        "outputId": "33914f65-8928-4f2f-be59-451e46ec39a6"
      },
      "execution_count": null,
      "outputs": [
        {
          "output_type": "execute_result",
          "data": {
            "text/plain": [
              "73.572"
            ]
          },
          "metadata": {},
          "execution_count": 28
        }
      ]
    },
    {
      "cell_type": "markdown",
      "source": [
        "Все собрали правильно"
      ],
      "metadata": {
        "id": "QBfTeHGwP4FL"
      }
    },
    {
      "cell_type": "markdown",
      "source": [
        "Итоговый датасет:"
      ],
      "metadata": {
        "id": "YVunaqzprlqC"
      }
    },
    {
      "cell_type": "code",
      "source": [
        "df"
      ],
      "metadata": {
        "colab": {
          "base_uri": "https://localhost:8080/",
          "height": 470
        },
        "id": "G7SAtNfjeclH",
        "outputId": "aa58b4fd-6de5-420a-ecad-5d0fc47fb246"
      },
      "execution_count": null,
      "outputs": [
        {
          "output_type": "execute_result",
          "data": {
            "text/plain": [
              "                      0_q       1_q       3_q       4_q       8_q       9_q  \\\n",
              "predicted_index                                                               \n",
              "361564-base      0.658807  0.727132  0.268795  0.689247  0.269548  0.339675   \n",
              "1375561-base     0.658807  0.727132  0.268795  0.689247  0.269548  0.339675   \n",
              "2515747-base     0.658807  0.727132  0.268795  0.689247  0.269548  0.339675   \n",
              "3543241-base     0.658807  0.727132  0.268795  0.689247  0.269548  0.339675   \n",
              "3411737-base     0.658807  0.727132  0.268795  0.689247  0.269548  0.339675   \n",
              "...                   ...       ...       ...       ...       ...       ...   \n",
              "1020327-base     0.499675  0.566754  0.488044  0.585608  0.419509  0.410980   \n",
              "870586-base      0.499675  0.566754  0.488044  0.585608  0.419509  0.410980   \n",
              "4424300-base     0.499675  0.566754  0.488044  0.585608  0.419509  0.410980   \n",
              "3824498-base     0.499675  0.566754  0.488044  0.585608  0.419509  0.410980   \n",
              "2882553-base     0.499675  0.566754  0.488044  0.585608  0.419509  0.410980   \n",
              "\n",
              "                     10_q      12_q      14_q      17_q  ...      56_p  \\\n",
              "predicted_index                                          ...             \n",
              "361564-base      0.663879  0.571987  0.695780  0.277188  ...  0.672785   \n",
              "1375561-base     0.663879  0.571987  0.695780  0.277188  ...  0.697609   \n",
              "2515747-base     0.663879  0.571987  0.695780  0.277188  ...  0.656571   \n",
              "3543241-base     0.663879  0.571987  0.695780  0.277188  ...  0.668178   \n",
              "3411737-base     0.663879  0.571987  0.695780  0.277188  ...  0.683475   \n",
              "...                   ...       ...       ...       ...  ...       ...   \n",
              "1020327-base     0.508945  0.464354  0.572758  0.554238  ...  0.491959   \n",
              "870586-base      0.508945  0.464354  0.572758  0.554238  ...  0.356717   \n",
              "4424300-base     0.508945  0.464354  0.572758  0.554238  ...  0.406287   \n",
              "3824498-base     0.508945  0.464354  0.572758  0.554238  ...  0.256288   \n",
              "2882553-base     0.508945  0.464354  0.572758  0.554238  ...  0.486508   \n",
              "\n",
              "                     58_p      61_p      62_p      64_p      66_p      68_p  \\\n",
              "predicted_index                                                               \n",
              "361564-base      0.264694  0.520681  0.468145  0.486100  0.387351  0.457268   \n",
              "1375561-base     0.312090  0.512275  0.409455  0.499998  0.400291  0.459177   \n",
              "2515747-base     0.313121  0.469729  0.431101  0.483488  0.394174  0.472865   \n",
              "3543241-base     0.300585  0.535309  0.477636  0.475497  0.422184  0.396232   \n",
              "3411737-base     0.270708  0.547228  0.478129  0.477399  0.428807  0.413955   \n",
              "...                   ...       ...       ...       ...       ...       ...   \n",
              "1020327-base     0.374716  0.358994  0.591486  0.537819  0.610271  0.551465   \n",
              "870586-base      0.343377  0.362300  0.555951  0.402605  0.508804  0.447909   \n",
              "4424300-base     0.358767  0.348205  0.538911  0.571868  0.366157  0.469021   \n",
              "3824498-base     0.395869  0.236231  0.533257  0.495314  0.569403  0.675950   \n",
              "2882553-base     0.488176  0.392346  0.430523  0.412774  0.480220  0.551461   \n",
              "\n",
              "                     69_p      71_p  correctly_predicted  \n",
              "predicted_index                                           \n",
              "361564-base      0.558390  0.516625                    0  \n",
              "1375561-base     0.552781  0.549812                    0  \n",
              "2515747-base     0.576053  0.614547                    0  \n",
              "3543241-base     0.569622  0.563246                    0  \n",
              "3411737-base     0.544013  0.567360                    0  \n",
              "...                   ...       ...                  ...  \n",
              "1020327-base     0.390549  0.509457                    0  \n",
              "870586-base      0.491360  0.479170                    0  \n",
              "4424300-base     0.513989  0.509304                    0  \n",
              "3824498-base     0.541235  0.347442                    0  \n",
              "2882553-base     0.412547  0.455272                    0  \n",
              "\n",
              "[2000000 rows x 84 columns]"
            ],
            "text/html": [
              "\n",
              "  <div id=\"df-1ac8a247-ef7a-47ce-be4f-21cadebac9ba\" class=\"colab-df-container\">\n",
              "    <div>\n",
              "<style scoped>\n",
              "    .dataframe tbody tr th:only-of-type {\n",
              "        vertical-align: middle;\n",
              "    }\n",
              "\n",
              "    .dataframe tbody tr th {\n",
              "        vertical-align: top;\n",
              "    }\n",
              "\n",
              "    .dataframe thead th {\n",
              "        text-align: right;\n",
              "    }\n",
              "</style>\n",
              "<table border=\"1\" class=\"dataframe\">\n",
              "  <thead>\n",
              "    <tr style=\"text-align: right;\">\n",
              "      <th></th>\n",
              "      <th>0_q</th>\n",
              "      <th>1_q</th>\n",
              "      <th>3_q</th>\n",
              "      <th>4_q</th>\n",
              "      <th>8_q</th>\n",
              "      <th>9_q</th>\n",
              "      <th>10_q</th>\n",
              "      <th>12_q</th>\n",
              "      <th>14_q</th>\n",
              "      <th>17_q</th>\n",
              "      <th>...</th>\n",
              "      <th>56_p</th>\n",
              "      <th>58_p</th>\n",
              "      <th>61_p</th>\n",
              "      <th>62_p</th>\n",
              "      <th>64_p</th>\n",
              "      <th>66_p</th>\n",
              "      <th>68_p</th>\n",
              "      <th>69_p</th>\n",
              "      <th>71_p</th>\n",
              "      <th>correctly_predicted</th>\n",
              "    </tr>\n",
              "    <tr>\n",
              "      <th>predicted_index</th>\n",
              "      <th></th>\n",
              "      <th></th>\n",
              "      <th></th>\n",
              "      <th></th>\n",
              "      <th></th>\n",
              "      <th></th>\n",
              "      <th></th>\n",
              "      <th></th>\n",
              "      <th></th>\n",
              "      <th></th>\n",
              "      <th></th>\n",
              "      <th></th>\n",
              "      <th></th>\n",
              "      <th></th>\n",
              "      <th></th>\n",
              "      <th></th>\n",
              "      <th></th>\n",
              "      <th></th>\n",
              "      <th></th>\n",
              "      <th></th>\n",
              "      <th></th>\n",
              "    </tr>\n",
              "  </thead>\n",
              "  <tbody>\n",
              "    <tr>\n",
              "      <th>361564-base</th>\n",
              "      <td>0.658807</td>\n",
              "      <td>0.727132</td>\n",
              "      <td>0.268795</td>\n",
              "      <td>0.689247</td>\n",
              "      <td>0.269548</td>\n",
              "      <td>0.339675</td>\n",
              "      <td>0.663879</td>\n",
              "      <td>0.571987</td>\n",
              "      <td>0.695780</td>\n",
              "      <td>0.277188</td>\n",
              "      <td>...</td>\n",
              "      <td>0.672785</td>\n",
              "      <td>0.264694</td>\n",
              "      <td>0.520681</td>\n",
              "      <td>0.468145</td>\n",
              "      <td>0.486100</td>\n",
              "      <td>0.387351</td>\n",
              "      <td>0.457268</td>\n",
              "      <td>0.558390</td>\n",
              "      <td>0.516625</td>\n",
              "      <td>0</td>\n",
              "    </tr>\n",
              "    <tr>\n",
              "      <th>1375561-base</th>\n",
              "      <td>0.658807</td>\n",
              "      <td>0.727132</td>\n",
              "      <td>0.268795</td>\n",
              "      <td>0.689247</td>\n",
              "      <td>0.269548</td>\n",
              "      <td>0.339675</td>\n",
              "      <td>0.663879</td>\n",
              "      <td>0.571987</td>\n",
              "      <td>0.695780</td>\n",
              "      <td>0.277188</td>\n",
              "      <td>...</td>\n",
              "      <td>0.697609</td>\n",
              "      <td>0.312090</td>\n",
              "      <td>0.512275</td>\n",
              "      <td>0.409455</td>\n",
              "      <td>0.499998</td>\n",
              "      <td>0.400291</td>\n",
              "      <td>0.459177</td>\n",
              "      <td>0.552781</td>\n",
              "      <td>0.549812</td>\n",
              "      <td>0</td>\n",
              "    </tr>\n",
              "    <tr>\n",
              "      <th>2515747-base</th>\n",
              "      <td>0.658807</td>\n",
              "      <td>0.727132</td>\n",
              "      <td>0.268795</td>\n",
              "      <td>0.689247</td>\n",
              "      <td>0.269548</td>\n",
              "      <td>0.339675</td>\n",
              "      <td>0.663879</td>\n",
              "      <td>0.571987</td>\n",
              "      <td>0.695780</td>\n",
              "      <td>0.277188</td>\n",
              "      <td>...</td>\n",
              "      <td>0.656571</td>\n",
              "      <td>0.313121</td>\n",
              "      <td>0.469729</td>\n",
              "      <td>0.431101</td>\n",
              "      <td>0.483488</td>\n",
              "      <td>0.394174</td>\n",
              "      <td>0.472865</td>\n",
              "      <td>0.576053</td>\n",
              "      <td>0.614547</td>\n",
              "      <td>0</td>\n",
              "    </tr>\n",
              "    <tr>\n",
              "      <th>3543241-base</th>\n",
              "      <td>0.658807</td>\n",
              "      <td>0.727132</td>\n",
              "      <td>0.268795</td>\n",
              "      <td>0.689247</td>\n",
              "      <td>0.269548</td>\n",
              "      <td>0.339675</td>\n",
              "      <td>0.663879</td>\n",
              "      <td>0.571987</td>\n",
              "      <td>0.695780</td>\n",
              "      <td>0.277188</td>\n",
              "      <td>...</td>\n",
              "      <td>0.668178</td>\n",
              "      <td>0.300585</td>\n",
              "      <td>0.535309</td>\n",
              "      <td>0.477636</td>\n",
              "      <td>0.475497</td>\n",
              "      <td>0.422184</td>\n",
              "      <td>0.396232</td>\n",
              "      <td>0.569622</td>\n",
              "      <td>0.563246</td>\n",
              "      <td>0</td>\n",
              "    </tr>\n",
              "    <tr>\n",
              "      <th>3411737-base</th>\n",
              "      <td>0.658807</td>\n",
              "      <td>0.727132</td>\n",
              "      <td>0.268795</td>\n",
              "      <td>0.689247</td>\n",
              "      <td>0.269548</td>\n",
              "      <td>0.339675</td>\n",
              "      <td>0.663879</td>\n",
              "      <td>0.571987</td>\n",
              "      <td>0.695780</td>\n",
              "      <td>0.277188</td>\n",
              "      <td>...</td>\n",
              "      <td>0.683475</td>\n",
              "      <td>0.270708</td>\n",
              "      <td>0.547228</td>\n",
              "      <td>0.478129</td>\n",
              "      <td>0.477399</td>\n",
              "      <td>0.428807</td>\n",
              "      <td>0.413955</td>\n",
              "      <td>0.544013</td>\n",
              "      <td>0.567360</td>\n",
              "      <td>0</td>\n",
              "    </tr>\n",
              "    <tr>\n",
              "      <th>...</th>\n",
              "      <td>...</td>\n",
              "      <td>...</td>\n",
              "      <td>...</td>\n",
              "      <td>...</td>\n",
              "      <td>...</td>\n",
              "      <td>...</td>\n",
              "      <td>...</td>\n",
              "      <td>...</td>\n",
              "      <td>...</td>\n",
              "      <td>...</td>\n",
              "      <td>...</td>\n",
              "      <td>...</td>\n",
              "      <td>...</td>\n",
              "      <td>...</td>\n",
              "      <td>...</td>\n",
              "      <td>...</td>\n",
              "      <td>...</td>\n",
              "      <td>...</td>\n",
              "      <td>...</td>\n",
              "      <td>...</td>\n",
              "      <td>...</td>\n",
              "    </tr>\n",
              "    <tr>\n",
              "      <th>1020327-base</th>\n",
              "      <td>0.499675</td>\n",
              "      <td>0.566754</td>\n",
              "      <td>0.488044</td>\n",
              "      <td>0.585608</td>\n",
              "      <td>0.419509</td>\n",
              "      <td>0.410980</td>\n",
              "      <td>0.508945</td>\n",
              "      <td>0.464354</td>\n",
              "      <td>0.572758</td>\n",
              "      <td>0.554238</td>\n",
              "      <td>...</td>\n",
              "      <td>0.491959</td>\n",
              "      <td>0.374716</td>\n",
              "      <td>0.358994</td>\n",
              "      <td>0.591486</td>\n",
              "      <td>0.537819</td>\n",
              "      <td>0.610271</td>\n",
              "      <td>0.551465</td>\n",
              "      <td>0.390549</td>\n",
              "      <td>0.509457</td>\n",
              "      <td>0</td>\n",
              "    </tr>\n",
              "    <tr>\n",
              "      <th>870586-base</th>\n",
              "      <td>0.499675</td>\n",
              "      <td>0.566754</td>\n",
              "      <td>0.488044</td>\n",
              "      <td>0.585608</td>\n",
              "      <td>0.419509</td>\n",
              "      <td>0.410980</td>\n",
              "      <td>0.508945</td>\n",
              "      <td>0.464354</td>\n",
              "      <td>0.572758</td>\n",
              "      <td>0.554238</td>\n",
              "      <td>...</td>\n",
              "      <td>0.356717</td>\n",
              "      <td>0.343377</td>\n",
              "      <td>0.362300</td>\n",
              "      <td>0.555951</td>\n",
              "      <td>0.402605</td>\n",
              "      <td>0.508804</td>\n",
              "      <td>0.447909</td>\n",
              "      <td>0.491360</td>\n",
              "      <td>0.479170</td>\n",
              "      <td>0</td>\n",
              "    </tr>\n",
              "    <tr>\n",
              "      <th>4424300-base</th>\n",
              "      <td>0.499675</td>\n",
              "      <td>0.566754</td>\n",
              "      <td>0.488044</td>\n",
              "      <td>0.585608</td>\n",
              "      <td>0.419509</td>\n",
              "      <td>0.410980</td>\n",
              "      <td>0.508945</td>\n",
              "      <td>0.464354</td>\n",
              "      <td>0.572758</td>\n",
              "      <td>0.554238</td>\n",
              "      <td>...</td>\n",
              "      <td>0.406287</td>\n",
              "      <td>0.358767</td>\n",
              "      <td>0.348205</td>\n",
              "      <td>0.538911</td>\n",
              "      <td>0.571868</td>\n",
              "      <td>0.366157</td>\n",
              "      <td>0.469021</td>\n",
              "      <td>0.513989</td>\n",
              "      <td>0.509304</td>\n",
              "      <td>0</td>\n",
              "    </tr>\n",
              "    <tr>\n",
              "      <th>3824498-base</th>\n",
              "      <td>0.499675</td>\n",
              "      <td>0.566754</td>\n",
              "      <td>0.488044</td>\n",
              "      <td>0.585608</td>\n",
              "      <td>0.419509</td>\n",
              "      <td>0.410980</td>\n",
              "      <td>0.508945</td>\n",
              "      <td>0.464354</td>\n",
              "      <td>0.572758</td>\n",
              "      <td>0.554238</td>\n",
              "      <td>...</td>\n",
              "      <td>0.256288</td>\n",
              "      <td>0.395869</td>\n",
              "      <td>0.236231</td>\n",
              "      <td>0.533257</td>\n",
              "      <td>0.495314</td>\n",
              "      <td>0.569403</td>\n",
              "      <td>0.675950</td>\n",
              "      <td>0.541235</td>\n",
              "      <td>0.347442</td>\n",
              "      <td>0</td>\n",
              "    </tr>\n",
              "    <tr>\n",
              "      <th>2882553-base</th>\n",
              "      <td>0.499675</td>\n",
              "      <td>0.566754</td>\n",
              "      <td>0.488044</td>\n",
              "      <td>0.585608</td>\n",
              "      <td>0.419509</td>\n",
              "      <td>0.410980</td>\n",
              "      <td>0.508945</td>\n",
              "      <td>0.464354</td>\n",
              "      <td>0.572758</td>\n",
              "      <td>0.554238</td>\n",
              "      <td>...</td>\n",
              "      <td>0.486508</td>\n",
              "      <td>0.488176</td>\n",
              "      <td>0.392346</td>\n",
              "      <td>0.430523</td>\n",
              "      <td>0.412774</td>\n",
              "      <td>0.480220</td>\n",
              "      <td>0.551461</td>\n",
              "      <td>0.412547</td>\n",
              "      <td>0.455272</td>\n",
              "      <td>0</td>\n",
              "    </tr>\n",
              "  </tbody>\n",
              "</table>\n",
              "<p>2000000 rows × 84 columns</p>\n",
              "</div>\n",
              "    <div class=\"colab-df-buttons\">\n",
              "\n",
              "  <div class=\"colab-df-container\">\n",
              "    <button class=\"colab-df-convert\" onclick=\"convertToInteractive('df-1ac8a247-ef7a-47ce-be4f-21cadebac9ba')\"\n",
              "            title=\"Convert this dataframe to an interactive table.\"\n",
              "            style=\"display:none;\">\n",
              "\n",
              "  <svg xmlns=\"http://www.w3.org/2000/svg\" height=\"24px\" viewBox=\"0 -960 960 960\">\n",
              "    <path d=\"M120-120v-720h720v720H120Zm60-500h600v-160H180v160Zm220 220h160v-160H400v160Zm0 220h160v-160H400v160ZM180-400h160v-160H180v160Zm440 0h160v-160H620v160ZM180-180h160v-160H180v160Zm440 0h160v-160H620v160Z\"/>\n",
              "  </svg>\n",
              "    </button>\n",
              "\n",
              "  <style>\n",
              "    .colab-df-container {\n",
              "      display:flex;\n",
              "      gap: 12px;\n",
              "    }\n",
              "\n",
              "    .colab-df-convert {\n",
              "      background-color: #E8F0FE;\n",
              "      border: none;\n",
              "      border-radius: 50%;\n",
              "      cursor: pointer;\n",
              "      display: none;\n",
              "      fill: #1967D2;\n",
              "      height: 32px;\n",
              "      padding: 0 0 0 0;\n",
              "      width: 32px;\n",
              "    }\n",
              "\n",
              "    .colab-df-convert:hover {\n",
              "      background-color: #E2EBFA;\n",
              "      box-shadow: 0px 1px 2px rgba(60, 64, 67, 0.3), 0px 1px 3px 1px rgba(60, 64, 67, 0.15);\n",
              "      fill: #174EA6;\n",
              "    }\n",
              "\n",
              "    .colab-df-buttons div {\n",
              "      margin-bottom: 4px;\n",
              "    }\n",
              "\n",
              "    [theme=dark] .colab-df-convert {\n",
              "      background-color: #3B4455;\n",
              "      fill: #D2E3FC;\n",
              "    }\n",
              "\n",
              "    [theme=dark] .colab-df-convert:hover {\n",
              "      background-color: #434B5C;\n",
              "      box-shadow: 0px 1px 3px 1px rgba(0, 0, 0, 0.15);\n",
              "      filter: drop-shadow(0px 1px 2px rgba(0, 0, 0, 0.3));\n",
              "      fill: #FFFFFF;\n",
              "    }\n",
              "  </style>\n",
              "\n",
              "    <script>\n",
              "      const buttonEl =\n",
              "        document.querySelector('#df-1ac8a247-ef7a-47ce-be4f-21cadebac9ba button.colab-df-convert');\n",
              "      buttonEl.style.display =\n",
              "        google.colab.kernel.accessAllowed ? 'block' : 'none';\n",
              "\n",
              "      async function convertToInteractive(key) {\n",
              "        const element = document.querySelector('#df-1ac8a247-ef7a-47ce-be4f-21cadebac9ba');\n",
              "        const dataTable =\n",
              "          await google.colab.kernel.invokeFunction('convertToInteractive',\n",
              "                                                    [key], {});\n",
              "        if (!dataTable) return;\n",
              "\n",
              "        const docLinkHtml = 'Like what you see? Visit the ' +\n",
              "          '<a target=\"_blank\" href=https://colab.research.google.com/notebooks/data_table.ipynb>data table notebook</a>'\n",
              "          + ' to learn more about interactive tables.';\n",
              "        element.innerHTML = '';\n",
              "        dataTable['output_type'] = 'display_data';\n",
              "        await google.colab.output.renderOutput(dataTable, element);\n",
              "        const docLink = document.createElement('div');\n",
              "        docLink.innerHTML = docLinkHtml;\n",
              "        element.appendChild(docLink);\n",
              "      }\n",
              "    </script>\n",
              "  </div>\n",
              "\n",
              "\n",
              "<div id=\"df-28d8dc07-9fb4-4e9d-85e4-0219f133a92e\">\n",
              "  <button class=\"colab-df-quickchart\" onclick=\"quickchart('df-28d8dc07-9fb4-4e9d-85e4-0219f133a92e')\"\n",
              "            title=\"Suggest charts.\"\n",
              "            style=\"display:none;\">\n",
              "\n",
              "<svg xmlns=\"http://www.w3.org/2000/svg\" height=\"24px\"viewBox=\"0 0 24 24\"\n",
              "     width=\"24px\">\n",
              "    <g>\n",
              "        <path d=\"M19 3H5c-1.1 0-2 .9-2 2v14c0 1.1.9 2 2 2h14c1.1 0 2-.9 2-2V5c0-1.1-.9-2-2-2zM9 17H7v-7h2v7zm4 0h-2V7h2v10zm4 0h-2v-4h2v4z\"/>\n",
              "    </g>\n",
              "</svg>\n",
              "  </button>\n",
              "\n",
              "<style>\n",
              "  .colab-df-quickchart {\n",
              "      --bg-color: #E8F0FE;\n",
              "      --fill-color: #1967D2;\n",
              "      --hover-bg-color: #E2EBFA;\n",
              "      --hover-fill-color: #174EA6;\n",
              "      --disabled-fill-color: #AAA;\n",
              "      --disabled-bg-color: #DDD;\n",
              "  }\n",
              "\n",
              "  [theme=dark] .colab-df-quickchart {\n",
              "      --bg-color: #3B4455;\n",
              "      --fill-color: #D2E3FC;\n",
              "      --hover-bg-color: #434B5C;\n",
              "      --hover-fill-color: #FFFFFF;\n",
              "      --disabled-bg-color: #3B4455;\n",
              "      --disabled-fill-color: #666;\n",
              "  }\n",
              "\n",
              "  .colab-df-quickchart {\n",
              "    background-color: var(--bg-color);\n",
              "    border: none;\n",
              "    border-radius: 50%;\n",
              "    cursor: pointer;\n",
              "    display: none;\n",
              "    fill: var(--fill-color);\n",
              "    height: 32px;\n",
              "    padding: 0;\n",
              "    width: 32px;\n",
              "  }\n",
              "\n",
              "  .colab-df-quickchart:hover {\n",
              "    background-color: var(--hover-bg-color);\n",
              "    box-shadow: 0 1px 2px rgba(60, 64, 67, 0.3), 0 1px 3px 1px rgba(60, 64, 67, 0.15);\n",
              "    fill: var(--button-hover-fill-color);\n",
              "  }\n",
              "\n",
              "  .colab-df-quickchart-complete:disabled,\n",
              "  .colab-df-quickchart-complete:disabled:hover {\n",
              "    background-color: var(--disabled-bg-color);\n",
              "    fill: var(--disabled-fill-color);\n",
              "    box-shadow: none;\n",
              "  }\n",
              "\n",
              "  .colab-df-spinner {\n",
              "    border: 2px solid var(--fill-color);\n",
              "    border-color: transparent;\n",
              "    border-bottom-color: var(--fill-color);\n",
              "    animation:\n",
              "      spin 1s steps(1) infinite;\n",
              "  }\n",
              "\n",
              "  @keyframes spin {\n",
              "    0% {\n",
              "      border-color: transparent;\n",
              "      border-bottom-color: var(--fill-color);\n",
              "      border-left-color: var(--fill-color);\n",
              "    }\n",
              "    20% {\n",
              "      border-color: transparent;\n",
              "      border-left-color: var(--fill-color);\n",
              "      border-top-color: var(--fill-color);\n",
              "    }\n",
              "    30% {\n",
              "      border-color: transparent;\n",
              "      border-left-color: var(--fill-color);\n",
              "      border-top-color: var(--fill-color);\n",
              "      border-right-color: var(--fill-color);\n",
              "    }\n",
              "    40% {\n",
              "      border-color: transparent;\n",
              "      border-right-color: var(--fill-color);\n",
              "      border-top-color: var(--fill-color);\n",
              "    }\n",
              "    60% {\n",
              "      border-color: transparent;\n",
              "      border-right-color: var(--fill-color);\n",
              "    }\n",
              "    80% {\n",
              "      border-color: transparent;\n",
              "      border-right-color: var(--fill-color);\n",
              "      border-bottom-color: var(--fill-color);\n",
              "    }\n",
              "    90% {\n",
              "      border-color: transparent;\n",
              "      border-bottom-color: var(--fill-color);\n",
              "    }\n",
              "  }\n",
              "</style>\n",
              "\n",
              "  <script>\n",
              "    async function quickchart(key) {\n",
              "      const quickchartButtonEl =\n",
              "        document.querySelector('#' + key + ' button');\n",
              "      quickchartButtonEl.disabled = true;  // To prevent multiple clicks.\n",
              "      quickchartButtonEl.classList.add('colab-df-spinner');\n",
              "      try {\n",
              "        const charts = await google.colab.kernel.invokeFunction(\n",
              "            'suggestCharts', [key], {});\n",
              "      } catch (error) {\n",
              "        console.error('Error during call to suggestCharts:', error);\n",
              "      }\n",
              "      quickchartButtonEl.classList.remove('colab-df-spinner');\n",
              "      quickchartButtonEl.classList.add('colab-df-quickchart-complete');\n",
              "    }\n",
              "    (() => {\n",
              "      let quickchartButtonEl =\n",
              "        document.querySelector('#df-28d8dc07-9fb4-4e9d-85e4-0219f133a92e button');\n",
              "      quickchartButtonEl.style.display =\n",
              "        google.colab.kernel.accessAllowed ? 'block' : 'none';\n",
              "    })();\n",
              "  </script>\n",
              "</div>\n",
              "    </div>\n",
              "  </div>\n"
            ]
          },
          "metadata": {},
          "execution_count": 29
        }
      ]
    },
    {
      "cell_type": "code",
      "source": [
        "X = df.drop(columns=['correctly_predicted', 'predicted_index', 'target'])\n",
        "y = df['correctly_predicted']"
      ],
      "metadata": {
        "id": "-vZBfNDthMH9"
      },
      "execution_count": null,
      "outputs": []
    },
    {
      "cell_type": "code",
      "source": [
        "del df"
      ],
      "metadata": {
        "id": "n2TgUYcZlF9N"
      },
      "execution_count": null,
      "outputs": []
    },
    {
      "cell_type": "markdown",
      "source": [
        "Используем модель CatBoost"
      ],
      "metadata": {
        "id": "i1q54Ki1cSJC"
      }
    },
    {
      "cell_type": "code",
      "source": [
        "X_train, X_test, y_train, y_test = train_test_split(X, y, test_size=0.3, random_state=0)"
      ],
      "metadata": {
        "id": "lU366pP9iFJT"
      },
      "execution_count": null,
      "outputs": []
    },
    {
      "cell_type": "code",
      "source": [
        "model = CatBoostClassifier(random_state=0)\n",
        "model.fit(X_train, y_train, verbose=50)"
      ],
      "metadata": {
        "id": "y8XTX_cZg55t",
        "colab": {
          "base_uri": "https://localhost:8080/"
        },
        "outputId": "86cb3f1b-13be-4d92-c748-0fc77880afdf"
      },
      "execution_count": null,
      "outputs": [
        {
          "output_type": "stream",
          "name": "stdout",
          "text": [
            "Learning rate set to 0.227159\n",
            "0:\tlearn: 0.3594516\ttotal: 690ms\tremaining: 11m 29s\n",
            "50:\tlearn: 0.0838338\ttotal: 34.9s\tremaining: 10m 49s\n",
            "100:\tlearn: 0.0805969\ttotal: 1m 5s\tremaining: 9m 41s\n",
            "150:\tlearn: 0.0784179\ttotal: 1m 36s\tremaining: 9m 1s\n",
            "200:\tlearn: 0.0767284\ttotal: 2m 8s\tremaining: 8m 32s\n",
            "250:\tlearn: 0.0752828\ttotal: 2m 40s\tremaining: 7m 58s\n",
            "300:\tlearn: 0.0740538\ttotal: 3m 10s\tremaining: 7m 22s\n",
            "350:\tlearn: 0.0728820\ttotal: 3m 41s\tremaining: 6m 49s\n",
            "400:\tlearn: 0.0717613\ttotal: 4m 12s\tremaining: 6m 17s\n",
            "450:\tlearn: 0.0708324\ttotal: 4m 43s\tremaining: 5m 45s\n",
            "500:\tlearn: 0.0699189\ttotal: 5m 15s\tremaining: 5m 13s\n",
            "550:\tlearn: 0.0690290\ttotal: 5m 46s\tremaining: 4m 42s\n",
            "600:\tlearn: 0.0682053\ttotal: 6m 17s\tremaining: 4m 10s\n",
            "650:\tlearn: 0.0674313\ttotal: 6m 47s\tremaining: 3m 38s\n",
            "700:\tlearn: 0.0666532\ttotal: 7m 16s\tremaining: 3m 6s\n",
            "750:\tlearn: 0.0659170\ttotal: 7m 47s\tremaining: 2m 35s\n",
            "800:\tlearn: 0.0651864\ttotal: 8m 18s\tremaining: 2m 3s\n",
            "850:\tlearn: 0.0645184\ttotal: 8m 47s\tremaining: 1m 32s\n",
            "900:\tlearn: 0.0639274\ttotal: 9m 16s\tremaining: 1m 1s\n",
            "950:\tlearn: 0.0632736\ttotal: 9m 46s\tremaining: 30.2s\n",
            "999:\tlearn: 0.0626764\ttotal: 10m 20s\tremaining: 0us\n"
          ]
        },
        {
          "output_type": "execute_result",
          "data": {
            "text/plain": [
              "<catboost.core.CatBoostClassifier at 0x7b4662ac17e0>"
            ]
          },
          "metadata": {},
          "execution_count": 35
        }
      ]
    },
    {
      "cell_type": "code",
      "source": [
        "roc_auc_score(y, model.predict_proba(X)[:, 1])"
      ],
      "metadata": {
        "id": "bjVx-xvqiciC",
        "colab": {
          "base_uri": "https://localhost:8080/"
        },
        "outputId": "66a04faf-f195-462b-f504-1e14b91e4ad3"
      },
      "execution_count": null,
      "outputs": [
        {
          "output_type": "execute_result",
          "data": {
            "text/plain": [
              "0.949534274069866"
            ]
          },
          "metadata": {},
          "execution_count": 36
        }
      ]
    },
    {
      "cell_type": "code",
      "source": [
        "del X\n",
        "del y"
      ],
      "metadata": {
        "id": "Eva429mngFj1"
      },
      "execution_count": null,
      "outputs": []
    },
    {
      "cell_type": "markdown",
      "source": [
        "Посмотрим на метрику для данных из validation.csv"
      ],
      "metadata": {
        "id": "JpC_pkP5JXKt"
      }
    },
    {
      "cell_type": "code",
      "source": [
        "n_vectors = df_val_corrected.shape[0]\n",
        "neighbors = 5"
      ],
      "metadata": {
        "id": "h3IRz6wTS0i5"
      },
      "execution_count": null,
      "outputs": []
    },
    {
      "cell_type": "code",
      "source": [
        "i_val, d_val = finder.search(vectors_to_search=df_val_corrected, number_of_vectors=n_vectors, neighbors=neighbors)"
      ],
      "metadata": {
        "id": "3nHABd3D60ma"
      },
      "execution_count": null,
      "outputs": []
    },
    {
      "cell_type": "code",
      "source": [
        "df_v = prepapre_df(indexes=i_val,\n",
        "                distances=d_val,\n",
        "                targets=df_val_answer['Expected'],\n",
        "                query=df_val_corrected,\n",
        "                base_index=base_index,\n",
        "                n_vectors=n_vectors,\n",
        "                neighbors=neighbors,\n",
        ")"
      ],
      "metadata": {
        "id": "y6IwY8bhRBrc"
      },
      "execution_count": null,
      "outputs": []
    },
    {
      "cell_type": "code",
      "source": [
        "X_val = df_v.drop(columns=['correctly_predicted', 'predicted_index', 'target'])\n",
        "y_val = df_v['correctly_predicted']"
      ],
      "metadata": {
        "id": "2VreYhuQRcHD"
      },
      "execution_count": null,
      "outputs": []
    },
    {
      "cell_type": "code",
      "source": [
        "roc_auc_score(y_val, model.predict_proba(X_val)[:, 1])"
      ],
      "metadata": {
        "id": "W6B2sE6YSXZM",
        "colab": {
          "base_uri": "https://localhost:8080/"
        },
        "outputId": "6192d96c-a093-4cc8-fdae-6fa36c448b70"
      },
      "execution_count": null,
      "outputs": [
        {
          "output_type": "execute_result",
          "data": {
            "text/plain": [
              "0.9009905957413769"
            ]
          },
          "metadata": {},
          "execution_count": 42
        }
      ]
    },
    {
      "cell_type": "markdown",
      "source": [
        "# Итоговый пайплайн"
      ],
      "metadata": {
        "id": "0kwrGfFbvmtl"
      }
    },
    {
      "cell_type": "markdown",
      "source": [
        "Поиск наиболее похожих товаров будет происходить следующм образом:\n",
        "\n",
        "\n",
        "1.   Поиск n ближайщих соседей при помощи Faiss;\n",
        "2.   Формирование датасета с признаками вектора-запроса, векторов-соседей из Faiss и дистанция между ними;\n",
        "3.   Отправка этих данных на вход CatBoostClassifier для предсказания наиболее похожих товаров.\n"
      ],
      "metadata": {
        "id": "j6uNeB5Uvrrn"
      }
    },
    {
      "cell_type": "code",
      "source": [
        "n = 5\n",
        "vector = df_val_corrected.sample(1)\n",
        "i_s, d_s = finder.search(vector, neighbors=n)"
      ],
      "metadata": {
        "id": "3sUtFDzo_bKL"
      },
      "execution_count": null,
      "outputs": []
    },
    {
      "cell_type": "code",
      "source": [
        "df_1 = prepapre_df(indexes=i_s,\n",
        "                distances=d_s,\n",
        "                targets=targets,\n",
        "                query=vector,\n",
        "                n_vectors=1,\n",
        "                neighbors=n,\n",
        ")\n",
        "X_val = df_1.drop(columns=['correctly_predicted', 'predicted_index', 'target'])"
      ],
      "metadata": {
        "id": "oyvv8KP_M2HR"
      },
      "execution_count": null,
      "outputs": []
    },
    {
      "cell_type": "markdown",
      "source": [
        "Найденные вектора:"
      ],
      "metadata": {
        "id": "NsZOXD3CNgfi"
      }
    },
    {
      "cell_type": "code",
      "source": [
        "X_val.index"
      ],
      "metadata": {
        "id": "n8ypUTM3NfYQ",
        "colab": {
          "base_uri": "https://localhost:8080/"
        },
        "outputId": "87d54025-9aba-4bae-f2ad-d4ef96de87bc"
      },
      "execution_count": null,
      "outputs": [
        {
          "output_type": "execute_result",
          "data": {
            "text/plain": [
              "Index(['286474-base', '3763022-base', '2187348-base', '3774329-base',\n",
              "       '3146992-base'],\n",
              "      dtype='object', name='predicted_index')"
            ]
          },
          "metadata": {},
          "execution_count": 45
        }
      ]
    },
    {
      "cell_type": "markdown",
      "source": [
        "Правильный ответ:"
      ],
      "metadata": {
        "id": "-w-PvZpIKOTU"
      }
    },
    {
      "cell_type": "code",
      "source": [
        "df_val_answer.loc[vector.index[0]]"
      ],
      "metadata": {
        "id": "k1if8kH4PGiK",
        "colab": {
          "base_uri": "https://localhost:8080/"
        },
        "outputId": "3990fdf8-d260-4bd6-cf0d-fb8baae47c29"
      },
      "execution_count": null,
      "outputs": [
        {
          "output_type": "execute_result",
          "data": {
            "text/plain": [
              "Expected    286474-base\n",
              "Name: 134583-query, dtype: object"
            ]
          },
          "metadata": {},
          "execution_count": 46
        }
      ]
    }
  ]
}