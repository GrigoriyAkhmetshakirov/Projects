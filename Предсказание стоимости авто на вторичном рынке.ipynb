{
  "cells": [
    {
      "cell_type": "markdown",
      "metadata": {
        "id": "wBQhv-jAChBo"
      },
      "source": [
        "# Описание задачи"
      ]
    },
    {
      "cell_type": "markdown",
      "metadata": {
        "id": "Tsd6Nc0kCoU3"
      },
      "source": [
        "Многие знают про маркетплейсы где продаются б/у вещи, на которых есть возможность недорого купить качественную и полезную вещь. Но всегда волнует вопрос - кто и как устанавливает цену, и какие его характеристики больше всего влияют на итоговую стоимость продажи?! Вопрос становиться особо актуальным, если речь идет про дорогие товары, например про автомобили!\n",
        "Целью проекта будет разработанная модель предсказания стоимости автомобиля на вторичном рынке.\n",
        "\n"
      ]
    },
    {
      "cell_type": "markdown",
      "metadata": {
        "id": "QLpqxzO7Cuih"
      },
      "source": [
        "## Данные\n"
      ]
    },
    {
      "cell_type": "markdown",
      "metadata": {
        "id": "0UEV36xdCwUq"
      },
      "source": [
        "- `train.csv` - информация о характеристиках автомобилей (~440000), которые будут использоваться в качестве обучающих данных;\n",
        "- `test.csv` - информация о характеристиках автомобилей (~110000), которые будут использоваться в качестве тестовых данных. Задача - предсказать значение `sellingprice` для каждого автомобиля из этого датасета;\n",
        "- `sample_submission.csv` - пример файла предсказаний в правильном формате."
      ]
    },
    {
      "cell_type": "markdown",
      "metadata": {
        "id": "ionvRx66C5M1"
      },
      "source": [
        "## Описание полей данных"
      ]
    },
    {
      "cell_type": "markdown",
      "metadata": {
        "id": "DuW1M0JWDSYf"
      },
      "source": [
        "- `Date` - год выпуска автомобиля;\n",
        "- `Make` - марка автомобиля;\n",
        "- `Model`- издание автомобиля определенной марки;\n",
        "- `Trim` - уровень отделки салона автомобиля;\n",
        "- `Body` - тип кузова транспортного средства;\n",
        "- `Transmission` - тип коробки передач;\n",
        "- `VIN` - идентификационный номер транспортного средства;\n",
        "- `State` - штат;\n",
        "- `Condition` - состояние автомобилей на момент аукциона;\n",
        "- `Odometer` - расстояние, пройденное автомобилем с момента выпуска;\n",
        "- `Color` - цвет кузова автомобиля;\n",
        "- `Interior` - цвет салона автомобиля;\n",
        "- `Seller` - продавец автомобиля, автосалоны;\n",
        "- `Saledate` - дата продажи автомобиля;\n",
        "- `Sellingprice` - цена, по которой автомобиль был продан на аукционе.\n"
      ]
    },
    {
      "cell_type": "markdown",
      "source": [
        "# Загрузка данных"
      ],
      "metadata": {
        "id": "lyjkoVyaZBRK"
      }
    },
    {
      "cell_type": "code",
      "source": [
        "!pip install kaggle\n",
        "!mkdir ~/.kaggle\n",
        "!cp kaggle.json ~/.kaggle/\n",
        "!chmod 600 ~/.kaggle/kaggle.json"
      ],
      "metadata": {
        "colab": {
          "base_uri": "https://localhost:8080/"
        },
        "id": "o771qdFoWnNw",
        "outputId": "4986ab2c-8935-4673-e149-ac1c1039d333"
      },
      "execution_count": null,
      "outputs": [
        {
          "output_type": "stream",
          "name": "stdout",
          "text": [
            "Requirement already satisfied: kaggle in /usr/local/lib/python3.10/dist-packages (1.5.16)\n",
            "Requirement already satisfied: six>=1.10 in /usr/local/lib/python3.10/dist-packages (from kaggle) (1.16.0)\n",
            "Requirement already satisfied: certifi in /usr/local/lib/python3.10/dist-packages (from kaggle) (2023.7.22)\n",
            "Requirement already satisfied: python-dateutil in /usr/local/lib/python3.10/dist-packages (from kaggle) (2.8.2)\n",
            "Requirement already satisfied: requests in /usr/local/lib/python3.10/dist-packages (from kaggle) (2.31.0)\n",
            "Requirement already satisfied: tqdm in /usr/local/lib/python3.10/dist-packages (from kaggle) (4.66.1)\n",
            "Requirement already satisfied: python-slugify in /usr/local/lib/python3.10/dist-packages (from kaggle) (8.0.1)\n",
            "Requirement already satisfied: urllib3 in /usr/local/lib/python3.10/dist-packages (from kaggle) (2.0.4)\n",
            "Requirement already satisfied: bleach in /usr/local/lib/python3.10/dist-packages (from kaggle) (6.0.0)\n",
            "Requirement already satisfied: webencodings in /usr/local/lib/python3.10/dist-packages (from bleach->kaggle) (0.5.1)\n",
            "Requirement already satisfied: text-unidecode>=1.3 in /usr/local/lib/python3.10/dist-packages (from python-slugify->kaggle) (1.3)\n",
            "Requirement already satisfied: charset-normalizer<4,>=2 in /usr/local/lib/python3.10/dist-packages (from requests->kaggle) (3.2.0)\n",
            "Requirement already satisfied: idna<4,>=2.5 in /usr/local/lib/python3.10/dist-packages (from requests->kaggle) (3.4)\n",
            "mkdir: cannot create directory ‘/root/.kaggle’: File exists\n"
          ]
        }
      ]
    },
    {
      "cell_type": "code",
      "source": [
        "!kaggle competitions download used-cars-price-prediction-21ds -f test.csv\n",
        "!unzip test.csv"
      ],
      "metadata": {
        "colab": {
          "base_uri": "https://localhost:8080/"
        },
        "id": "rGiOFQUkXljR",
        "outputId": "58cbc8c3-fe1d-41c3-cb66-3f0e81d5a91f"
      },
      "execution_count": null,
      "outputs": [
        {
          "output_type": "stream",
          "name": "stdout",
          "text": [
            "Downloading test.csv.zip to /content\n",
            "\r  0% 0.00/4.18M [00:00<?, ?B/s]\n",
            "\r100% 4.18M/4.18M [00:00<00:00, 68.9MB/s]\n",
            "Archive:  test.csv.zip\n",
            "  inflating: test.csv                \n"
          ]
        }
      ]
    },
    {
      "cell_type": "code",
      "source": [
        " !kaggle competitions download used-cars-price-prediction-21ds -f train.csv\n",
        " !unzip train.csv"
      ],
      "metadata": {
        "colab": {
          "base_uri": "https://localhost:8080/"
        },
        "id": "Vu_fR1_fYmS1",
        "outputId": "ac2a0705-1dcc-43ea-fbeb-618a6b132815"
      },
      "execution_count": null,
      "outputs": [
        {
          "output_type": "stream",
          "name": "stdout",
          "text": [
            "Downloading train.csv.zip to /content\n",
            " 50% 9.00M/17.8M [00:00<00:00, 13.8MB/s]\n",
            "100% 17.8M/17.8M [00:00<00:00, 25.7MB/s]\n",
            "Archive:  train.csv.zip\n",
            "  inflating: train.csv               \n"
          ]
        }
      ]
    },
    {
      "cell_type": "code",
      "source": [
        "!rm test.csv.zip\n",
        "!rm train.csv.zip"
      ],
      "metadata": {
        "id": "SggemXKjZYfC"
      },
      "execution_count": null,
      "outputs": []
    },
    {
      "cell_type": "markdown",
      "metadata": {
        "id": "GaH-GfdCEgGg"
      },
      "source": [
        "# Импорт библиотек"
      ]
    },
    {
      "cell_type": "code",
      "execution_count": null,
      "metadata": {
        "colab": {
          "base_uri": "https://localhost:8080/"
        },
        "id": "KDQ6aRnyE9H7",
        "outputId": "f29e2ab8-a529-4b42-b2cf-dcaaaaaf3d50"
      },
      "outputs": [
        {
          "output_type": "stream",
          "name": "stdout",
          "text": [
            "Requirement already satisfied: catboost in /usr/local/lib/python3.10/dist-packages (1.2)\n",
            "Requirement already satisfied: graphviz in /usr/local/lib/python3.10/dist-packages (from catboost) (0.20.1)\n",
            "Requirement already satisfied: matplotlib in /usr/local/lib/python3.10/dist-packages (from catboost) (3.7.1)\n",
            "Requirement already satisfied: numpy>=1.16.0 in /usr/local/lib/python3.10/dist-packages (from catboost) (1.23.5)\n",
            "Requirement already satisfied: pandas>=0.24 in /usr/local/lib/python3.10/dist-packages (from catboost) (1.5.3)\n",
            "Requirement already satisfied: scipy in /usr/local/lib/python3.10/dist-packages (from catboost) (1.10.1)\n",
            "Requirement already satisfied: plotly in /usr/local/lib/python3.10/dist-packages (from catboost) (5.15.0)\n",
            "Requirement already satisfied: six in /usr/local/lib/python3.10/dist-packages (from catboost) (1.16.0)\n",
            "Requirement already satisfied: python-dateutil>=2.8.1 in /usr/local/lib/python3.10/dist-packages (from pandas>=0.24->catboost) (2.8.2)\n",
            "Requirement already satisfied: pytz>=2020.1 in /usr/local/lib/python3.10/dist-packages (from pandas>=0.24->catboost) (2023.3)\n",
            "Requirement already satisfied: contourpy>=1.0.1 in /usr/local/lib/python3.10/dist-packages (from matplotlib->catboost) (1.1.0)\n",
            "Requirement already satisfied: cycler>=0.10 in /usr/local/lib/python3.10/dist-packages (from matplotlib->catboost) (0.11.0)\n",
            "Requirement already satisfied: fonttools>=4.22.0 in /usr/local/lib/python3.10/dist-packages (from matplotlib->catboost) (4.42.0)\n",
            "Requirement already satisfied: kiwisolver>=1.0.1 in /usr/local/lib/python3.10/dist-packages (from matplotlib->catboost) (1.4.4)\n",
            "Requirement already satisfied: packaging>=20.0 in /usr/local/lib/python3.10/dist-packages (from matplotlib->catboost) (23.1)\n",
            "Requirement already satisfied: pillow>=6.2.0 in /usr/local/lib/python3.10/dist-packages (from matplotlib->catboost) (9.4.0)\n",
            "Requirement already satisfied: pyparsing>=2.3.1 in /usr/local/lib/python3.10/dist-packages (from matplotlib->catboost) (3.1.1)\n",
            "Requirement already satisfied: tenacity>=6.2.0 in /usr/local/lib/python3.10/dist-packages (from plotly->catboost) (8.2.3)\n",
            "Requirement already satisfied: optuna in /usr/local/lib/python3.10/dist-packages (3.3.0)\n",
            "Requirement already satisfied: alembic>=1.5.0 in /usr/local/lib/python3.10/dist-packages (from optuna) (1.11.3)\n",
            "Requirement already satisfied: cmaes>=0.10.0 in /usr/local/lib/python3.10/dist-packages (from optuna) (0.10.0)\n",
            "Requirement already satisfied: colorlog in /usr/local/lib/python3.10/dist-packages (from optuna) (6.7.0)\n",
            "Requirement already satisfied: numpy in /usr/local/lib/python3.10/dist-packages (from optuna) (1.23.5)\n",
            "Requirement already satisfied: packaging>=20.0 in /usr/local/lib/python3.10/dist-packages (from optuna) (23.1)\n",
            "Requirement already satisfied: sqlalchemy>=1.3.0 in /usr/local/lib/python3.10/dist-packages (from optuna) (2.0.20)\n",
            "Requirement already satisfied: tqdm in /usr/local/lib/python3.10/dist-packages (from optuna) (4.66.1)\n",
            "Requirement already satisfied: PyYAML in /usr/local/lib/python3.10/dist-packages (from optuna) (6.0.1)\n",
            "Requirement already satisfied: Mako in /usr/local/lib/python3.10/dist-packages (from alembic>=1.5.0->optuna) (1.2.4)\n",
            "Requirement already satisfied: typing-extensions>=4 in /usr/local/lib/python3.10/dist-packages (from alembic>=1.5.0->optuna) (4.7.1)\n",
            "Requirement already satisfied: greenlet!=0.4.17 in /usr/local/lib/python3.10/dist-packages (from sqlalchemy>=1.3.0->optuna) (2.0.2)\n",
            "Requirement already satisfied: MarkupSafe>=0.9.2 in /usr/local/lib/python3.10/dist-packages (from Mako->alembic>=1.5.0->optuna) (2.1.3)\n",
            "Requirement already satisfied: category_encoders in /usr/local/lib/python3.10/dist-packages (2.6.2)\n",
            "Requirement already satisfied: numpy>=1.14.0 in /usr/local/lib/python3.10/dist-packages (from category_encoders) (1.23.5)\n",
            "Requirement already satisfied: scikit-learn>=0.20.0 in /usr/local/lib/python3.10/dist-packages (from category_encoders) (1.2.2)\n",
            "Requirement already satisfied: scipy>=1.0.0 in /usr/local/lib/python3.10/dist-packages (from category_encoders) (1.10.1)\n",
            "Requirement already satisfied: statsmodels>=0.9.0 in /usr/local/lib/python3.10/dist-packages (from category_encoders) (0.14.0)\n",
            "Requirement already satisfied: pandas>=1.0.5 in /usr/local/lib/python3.10/dist-packages (from category_encoders) (1.5.3)\n",
            "Requirement already satisfied: patsy>=0.5.1 in /usr/local/lib/python3.10/dist-packages (from category_encoders) (0.5.3)\n",
            "Requirement already satisfied: python-dateutil>=2.8.1 in /usr/local/lib/python3.10/dist-packages (from pandas>=1.0.5->category_encoders) (2.8.2)\n",
            "Requirement already satisfied: pytz>=2020.1 in /usr/local/lib/python3.10/dist-packages (from pandas>=1.0.5->category_encoders) (2023.3)\n",
            "Requirement already satisfied: six in /usr/local/lib/python3.10/dist-packages (from patsy>=0.5.1->category_encoders) (1.16.0)\n",
            "Requirement already satisfied: joblib>=1.1.1 in /usr/local/lib/python3.10/dist-packages (from scikit-learn>=0.20.0->category_encoders) (1.3.2)\n",
            "Requirement already satisfied: threadpoolctl>=2.0.0 in /usr/local/lib/python3.10/dist-packages (from scikit-learn>=0.20.0->category_encoders) (3.2.0)\n",
            "Requirement already satisfied: packaging>=21.3 in /usr/local/lib/python3.10/dist-packages (from statsmodels>=0.9.0->category_encoders) (23.1)\n"
          ]
        }
      ],
      "source": [
        "!pip install catboost\n",
        "!pip install optuna\n",
        "!pip install category_encoders"
      ]
    },
    {
      "cell_type": "code",
      "execution_count": null,
      "metadata": {
        "id": "Ktl5OXRSEjv5"
      },
      "outputs": [],
      "source": [
        "import pandas as pd\n",
        "import numpy as np\n",
        "import matplotlib.pyplot as plt\n",
        "import seaborn as sns\n",
        "\n",
        "from sklearn.model_selection import train_test_split\n",
        "from sklearn.metrics import mean_absolute_percentage_error\n",
        "from sklearn.preprocessing import OneHotEncoder, MinMaxScaler, FunctionTransformer, StandardScaler, PolynomialFeatures\n",
        "from sklearn.compose import make_column_transformer, ColumnTransformer\n",
        "from sklearn.impute import SimpleImputer, KNNImputer\n",
        "from sklearn.pipeline import Pipeline\n",
        "from category_encoders import TargetEncoder\n",
        "from sklearn.base import BaseEstimator, TransformerMixin\n",
        "\n",
        "from catboost import CatBoostRegressor\n",
        "import optuna"
      ]
    },
    {
      "cell_type": "code",
      "execution_count": null,
      "metadata": {
        "id": "TmxYUraJTEMp"
      },
      "outputs": [],
      "source": [
        "pd.options.mode.chained_assignment = None"
      ]
    },
    {
      "cell_type": "markdown",
      "metadata": {
        "id": "99mmndbhEQEb"
      },
      "source": [
        "# Загрузка данных и первичный анализ"
      ]
    },
    {
      "cell_type": "code",
      "execution_count": null,
      "metadata": {
        "id": "zjy2NSPxELg5"
      },
      "outputs": [],
      "source": [
        "df_train = pd.read_csv('train.csv')\n",
        "df_test = pd.read_csv('test.csv')"
      ]
    },
    {
      "cell_type": "code",
      "execution_count": null,
      "metadata": {
        "id": "E39co9s-T31S"
      },
      "outputs": [],
      "source": [
        "def describe_my_data(data):\n",
        "    print('Общая информация:', end='\\n\\n')\n",
        "    print(data.info(), end='\\n\\n')\n",
        "    print('Количество пропусков:')\n",
        "    print(data.isna().sum(), end='\\n\\n')\n",
        "    print(f'Количество явных дубликатов - {data.duplicated().sum()}', end='\\n\\n')\n",
        "    print('Коэффициенты корреляции:')\n",
        "    print(data.corr(), end='\\n\\n')\n",
        "    plt.figure(figsize=(5, 5))\n",
        "    sns.heatmap(data.corr().round(2), annot=True, square=True)\n",
        "    plt.show();"
      ]
    },
    {
      "cell_type": "code",
      "execution_count": null,
      "metadata": {
        "id": "hy_8ok0svcs8"
      },
      "outputs": [],
      "source": [
        "def hist_my_data(data, types=('number'), size=(20, 5)):\n",
        "    for col in data.select_dtypes(types).columns:\n",
        "        plt.figure(figsize=size)\n",
        "        plt.xticks(rotation=0)\n",
        "        sns.histplot(x=data[col])\n",
        "        plt.show()"
      ]
    },
    {
      "cell_type": "code",
      "execution_count": null,
      "metadata": {
        "id": "1-6_5tSmFYJv",
        "colab": {
          "base_uri": "https://localhost:8080/",
          "height": 1000
        },
        "outputId": "4c15686c-ca04-4dd7-ca3f-b9f406973c86"
      },
      "outputs": [
        {
          "output_type": "stream",
          "name": "stdout",
          "text": [
            "Общая информация:\n",
            "\n",
            "<class 'pandas.core.frame.DataFrame'>\n",
            "RangeIndex: 440236 entries, 0 to 440235\n",
            "Data columns (total 15 columns):\n",
            " #   Column        Non-Null Count   Dtype  \n",
            "---  ------        --------------   -----  \n",
            " 0   year          440236 non-null  int64  \n",
            " 1   make          432193 non-null  object \n",
            " 2   model         432113 non-null  object \n",
            " 3   trim          431899 non-null  object \n",
            " 4   body          429843 non-null  object \n",
            " 5   transmission  388775 non-null  object \n",
            " 6   vin           440236 non-null  object \n",
            " 7   state         440236 non-null  object \n",
            " 8   condition     430831 non-null  float64\n",
            " 9   odometer      440167 non-null  float64\n",
            " 10  color         439650 non-null  object \n",
            " 11  interior      439650 non-null  object \n",
            " 12  seller        440236 non-null  object \n",
            " 13  sellingprice  440236 non-null  int64  \n",
            " 14  saledate      440236 non-null  object \n",
            "dtypes: float64(2), int64(2), object(11)\n",
            "memory usage: 50.4+ MB\n",
            "None\n",
            "\n",
            "Количество пропусков:\n",
            "year                0\n",
            "make             8043\n",
            "model            8123\n",
            "trim             8337\n",
            "body            10393\n",
            "transmission    51461\n",
            "vin                 0\n",
            "state               0\n",
            "condition        9405\n",
            "odometer           69\n",
            "color             586\n",
            "interior          586\n",
            "seller              0\n",
            "sellingprice        0\n",
            "saledate            0\n",
            "dtype: int64\n",
            "\n",
            "Количество явных дубликатов - 0\n",
            "\n",
            "Коэффициенты корреляции:\n",
            "                  year  condition  odometer  sellingprice\n",
            "year          1.000000   0.553403 -0.774498      0.586847\n",
            "condition     0.553403   1.000000 -0.540544      0.538906\n",
            "odometer     -0.774498  -0.540544  1.000000     -0.583044\n",
            "sellingprice  0.586847   0.538906 -0.583044      1.000000\n",
            "\n"
          ]
        },
        {
          "output_type": "stream",
          "name": "stderr",
          "text": [
            "<ipython-input-17-2d3198fe388b>:8: FutureWarning: The default value of numeric_only in DataFrame.corr is deprecated. In a future version, it will default to False. Select only valid columns or specify the value of numeric_only to silence this warning.\n",
            "  print(data.corr(), end='\\n\\n')\n",
            "<ipython-input-17-2d3198fe388b>:10: FutureWarning: The default value of numeric_only in DataFrame.corr is deprecated. In a future version, it will default to False. Select only valid columns or specify the value of numeric_only to silence this warning.\n",
            "  sns.heatmap(data.corr().round(2), annot=True, square=True)\n"
          ]
        },
        {
          "output_type": "display_data",
          "data": {
            "text/plain": [
              "<Figure size 500x500 with 2 Axes>"
            ],
            "image/png": "[encoded data removed]"
          },
          "metadata": {}
        }
      ],
      "source": [
        "describe_my_data(df_train)"
      ]
    },
    {
      "cell_type": "code",
      "execution_count": null,
      "metadata": {
        "id": "X_LUIwDTqFk-",
        "colab": {
          "base_uri": "https://localhost:8080/",
          "height": 1000
        },
        "outputId": "0a25f82d-4ea6-4063-e81f-5bd886ca7186"
      },
      "outputs": [
        {
          "output_type": "stream",
          "name": "stdout",
          "text": [
            "Общая информация:\n",
            "\n",
            "<class 'pandas.core.frame.DataFrame'>\n",
            "RangeIndex: 110058 entries, 0 to 110057\n",
            "Data columns (total 14 columns):\n",
            " #   Column        Non-Null Count   Dtype  \n",
            "---  ------        --------------   -----  \n",
            " 0   year          110058 non-null  int64  \n",
            " 1   make          107997 non-null  object \n",
            " 2   model         107979 non-null  object \n",
            " 3   trim          107944 non-null  object \n",
            " 4   body          107464 non-null  object \n",
            " 5   transmission  97047 non-null   object \n",
            " 6   vin           110058 non-null  object \n",
            " 7   state         110058 non-null  object \n",
            " 8   condition     107679 non-null  float64\n",
            " 9   odometer      110039 non-null  float64\n",
            " 10  color         109900 non-null  object \n",
            " 11  interior      109900 non-null  object \n",
            " 12  seller        110058 non-null  object \n",
            " 13  saledate      110058 non-null  object \n",
            "dtypes: float64(2), int64(1), object(11)\n",
            "memory usage: 11.8+ MB\n",
            "None\n",
            "\n",
            "Количество пропусков:\n",
            "year                0\n",
            "make             2061\n",
            "model            2079\n",
            "trim             2114\n",
            "body             2594\n",
            "transmission    13011\n",
            "vin                 0\n",
            "state               0\n",
            "condition        2379\n",
            "odometer           19\n",
            "color             158\n",
            "interior          158\n",
            "seller              0\n",
            "saledate            0\n",
            "dtype: int64\n",
            "\n",
            "Количество явных дубликатов - 0\n",
            "\n",
            "Коэффициенты корреляции:\n",
            "               year  condition  odometer\n",
            "year       1.000000   0.547635 -0.767801\n",
            "condition  0.547635   1.000000 -0.535712\n",
            "odometer  -0.767801  -0.535712  1.000000\n",
            "\n"
          ]
        },
        {
          "output_type": "stream",
          "name": "stderr",
          "text": [
            "<ipython-input-17-2d3198fe388b>:8: FutureWarning: The default value of numeric_only in DataFrame.corr is deprecated. In a future version, it will default to False. Select only valid columns or specify the value of numeric_only to silence this warning.\n",
            "  print(data.corr(), end='\\n\\n')\n",
            "<ipython-input-17-2d3198fe388b>:10: FutureWarning: The default value of numeric_only in DataFrame.corr is deprecated. In a future version, it will default to False. Select only valid columns or specify the value of numeric_only to silence this warning.\n",
            "  sns.heatmap(data.corr().round(2), annot=True, square=True)\n"
          ]
        },
        {
          "output_type": "display_data",
          "data": {
            "text/plain": [
              "<Figure size 500x500 with 2 Axes>"
            ],
            "image/png": "[encoded data removed]"
          },
          "metadata": {}
        }
      ],
      "source": [
        "describe_my_data(df_test)"
      ]
    },
    {
      "cell_type": "code",
      "execution_count": null,
      "metadata": {
        "id": "oF8_itThvfTA",
        "colab": {
          "base_uri": "https://localhost:8080/",
          "height": 1000
        },
        "outputId": "30b05f85-5fe9-4ef8-f5d5-1ad9342e06e6"
      },
      "outputs": [
        {
          "output_type": "display_data",
          "data": {
            "text/plain": [
              "<Figure size 2000x500 with 1 Axes>"
            ],
            "image/png": "[encoded data removed]"
          },
          "metadata": {}
        },
        {
          "output_type": "display_data",
          "data": {
            "text/plain": [
              "<Figure size 2000x500 with 1 Axes>"
            ],
            "image/png": "[encoded data removed]"
          },
          "metadata": {}
        },
        {
          "output_type": "display_data",
          "data": {
            "text/plain": [
              "<Figure size 2000x500 with 1 Axes>"
            ],
            "image/png": "[encoded data removed]"
          },
          "metadata": {}
        },
        {
          "output_type": "display_data",
          "data": {
            "text/plain": [
              "<Figure size 2000x500 with 1 Axes>"
            ],
            "image/png": "[encoded data removed]"
          },
          "metadata": {}
        }
      ],
      "source": [
        "hist_my_data(df_train)"
      ]
    },
    {
      "cell_type": "code",
      "execution_count": null,
      "metadata": {
        "id": "iPP3z4-3qEmF",
        "colab": {
          "base_uri": "https://localhost:8080/",
          "height": 1000
        },
        "outputId": "97dc6ce6-5b05-49a6-867f-128af1442a7c"
      },
      "outputs": [
        {
          "output_type": "display_data",
          "data": {
            "text/plain": [
              "<Figure size 2000x500 with 1 Axes>"
            ],
            "image/png": "[encoded data removed]"
          },
          "metadata": {}
        },
        {
          "output_type": "display_data",
          "data": {
            "text/plain": [
              "<Figure size 2000x500 with 1 Axes>"
            ],
            "image/png": "[encoded data removed]"
          },
          "metadata": {}
        },
        {
          "output_type": "display_data",
          "data": {
            "text/plain": [
              "<Figure size 2000x500 with 1 Axes>"
            ],
            "image/png": "[encoded data removed]"
          },
          "metadata": {}
        }
      ],
      "source": [
        "hist_my_data(df_test)"
      ]
    },
    {
      "cell_type": "markdown",
      "metadata": {
        "id": "JtqUVE4vRCZM"
      },
      "source": [
        "### year"
      ]
    },
    {
      "cell_type": "code",
      "execution_count": null,
      "metadata": {
        "id": "bf646DzkGUwX"
      },
      "outputs": [],
      "source": [
        "def describe_year(df):\n",
        "  print('Уникальные значения:', df.year.sort_values().unique())\n",
        "  print('Пропусков:', df.year.isna().sum())"
      ]
    },
    {
      "cell_type": "code",
      "execution_count": null,
      "metadata": {
        "id": "XanSryaZG-kK",
        "colab": {
          "base_uri": "https://localhost:8080/"
        },
        "outputId": "8b664427-fc8b-41d7-bf3c-6d28d3720a99"
      },
      "outputs": [
        {
          "output_type": "stream",
          "name": "stdout",
          "text": [
            "Уникальные значения: [1982 1983 1984 1985 1986 1987 1988 1989 1990 1991 1992 1993 1994 1995\n",
            " 1996 1997 1998 1999 2000 2001 2002 2003 2004 2005 2006 2007 2008 2009\n",
            " 2010 2011 2012 2013 2014 2015]\n",
            "Пропусков: 0\n"
          ]
        }
      ],
      "source": [
        "describe_year(df_train)"
      ]
    },
    {
      "cell_type": "code",
      "execution_count": null,
      "metadata": {
        "id": "CEUAbY1QHLOX",
        "colab": {
          "base_uri": "https://localhost:8080/"
        },
        "outputId": "868cd5cf-110f-4f9a-a98f-c78a27e619c2"
      },
      "outputs": [
        {
          "output_type": "stream",
          "name": "stdout",
          "text": [
            "Уникальные значения: [1982 1984 1986 1987 1989 1990 1991 1992 1993 1994 1995 1996 1997 1998\n",
            " 1999 2000 2001 2002 2003 2004 2005 2006 2007 2008 2009 2010 2011 2012\n",
            " 2013 2014 2015]\n",
            "Пропусков: 0\n"
          ]
        }
      ],
      "source": [
        "describe_year(df_test)"
      ]
    },
    {
      "cell_type": "markdown",
      "metadata": {
        "id": "NsKICrPGRbMc"
      },
      "source": [
        "В столбце Year нет пропусков и выбросов. Оставляем как есть."
      ]
    },
    {
      "cell_type": "markdown",
      "metadata": {
        "id": "TXYtCREEFdpb"
      },
      "source": [
        "### saledate\n"
      ]
    },
    {
      "cell_type": "markdown",
      "metadata": {
        "id": "3JrsSzzl-tcO"
      },
      "source": [
        "Извлечем год и месяц из даты"
      ]
    },
    {
      "cell_type": "code",
      "execution_count": null,
      "metadata": {
        "id": "AnmCPEodFJUq"
      },
      "outputs": [],
      "source": [
        "def extract_date(df):\n",
        "  df['saledate'] = pd.to_datetime(df['saledate'], utc=True)\n",
        "  df['sale_year'] = df['saledate'].dt.year\n",
        "  df['sale_month'] = df['saledate'].dt.month\n",
        "  df = df.drop(columns='saledate', inplace=True)"
      ]
    },
    {
      "cell_type": "code",
      "execution_count": null,
      "metadata": {
        "id": "LsRFqI_U_Hp8"
      },
      "outputs": [],
      "source": [
        "extract_date(df_train)\n",
        "extract_date(df_test)"
      ]
    },
    {
      "cell_type": "markdown",
      "metadata": {
        "id": "D3AruorWLoCN"
      },
      "source": [
        "Проверим наличие в данных записей, когда год продажи меньше года производства."
      ]
    },
    {
      "cell_type": "code",
      "execution_count": null,
      "metadata": {
        "id": "z6gCvki5_Hec",
        "colab": {
          "base_uri": "https://localhost:8080/"
        },
        "outputId": "8d54aa4e-2031-4e6d-e42a-495a81f1758e"
      },
      "outputs": [
        {
          "output_type": "execute_result",
          "data": {
            "text/plain": [
              "166"
            ]
          },
          "metadata": {},
          "execution_count": 28
        }
      ],
      "source": [
        "len(df_train.query('sale_year < year'))"
      ]
    },
    {
      "cell_type": "markdown",
      "metadata": {
        "id": "0aCCG9MbL5-x"
      },
      "source": [
        "Удалим такие записи"
      ]
    },
    {
      "cell_type": "code",
      "execution_count": null,
      "metadata": {
        "id": "jBwAZvnDMaBW"
      },
      "outputs": [],
      "source": [
        "df_train = df_train[df_train.sale_year >= df_train.year]"
      ]
    },
    {
      "cell_type": "code",
      "execution_count": null,
      "metadata": {
        "id": "ilqscbSMM6oD",
        "colab": {
          "base_uri": "https://localhost:8080/"
        },
        "outputId": "bfc520ce-e590-47e0-9287-78dd6b882103"
      },
      "outputs": [
        {
          "output_type": "execute_result",
          "data": {
            "text/plain": [
              "0"
            ]
          },
          "metadata": {},
          "execution_count": 30
        }
      ],
      "source": [
        "len(df_train.query('sale_year < year'))"
      ]
    },
    {
      "cell_type": "markdown",
      "metadata": {
        "id": "A1XdDxHPR7s-"
      },
      "source": [
        "### make"
      ]
    },
    {
      "cell_type": "markdown",
      "source": [
        "Переводим все в нижний регистр."
      ],
      "metadata": {
        "id": "c06IBJBbf5Zi"
      }
    },
    {
      "cell_type": "code",
      "execution_count": null,
      "metadata": {
        "id": "XurQCLWIITdq"
      },
      "outputs": [],
      "source": [
        "def change_make(df):\n",
        "  print('Уникальные значения до преобразования', df.make.unique())\n",
        "  # переводим в нижний регистр\n",
        "  df.loc[df.make.notna(),'make'] = df.loc[df.make.notna(),'make'].apply(lambda x: x.lower().strip())\n",
        "  # правим дубликаты\n",
        "  df.loc[df['make'].isin(['mercedes', 'mercedes-b']), 'make'] = 'mercedes-benz'\n",
        "  df.loc[df['make'] == 'dodge tk', 'make'] = 'dodge'\n",
        "  df.loc[df['make'] == 'mazda tk', 'make'] = 'mazda'\n",
        "  df.loc[df['make'] == 'landrover', 'make'] = 'land rover'\n",
        "  df.loc[df['make'] == 'vw', 'make'] = 'volkswagen'\n",
        "  print('Уникальные значения после преобразования', df.make.unique())"
      ]
    },
    {
      "cell_type": "code",
      "execution_count": null,
      "metadata": {
        "id": "rOEXSS_yIsqD",
        "colab": {
          "base_uri": "https://localhost:8080/"
        },
        "outputId": "0460e78f-df8c-4822-fb28-e51ef956eabc"
      },
      "outputs": [
        {
          "output_type": "stream",
          "name": "stdout",
          "text": [
            "Уникальные значения до преобразования ['Ford' 'Nissan' 'HUMMER' 'Lincoln' 'pontiac' 'Hyundai' nan 'Buick'\n",
            " 'Chevrolet' 'Honda' 'Acura' 'Cadillac' 'GMC' 'Saab' 'Dodge'\n",
            " 'Mercedes-Benz' 'Toyota' 'Volkswagen' 'BMW' 'Infiniti' 'Chrysler' 'Kia'\n",
            " 'Jaguar' 'Subaru' 'Jeep' 'Lexus' 'mercedes' 'Scion' 'FIAT' 'Suzuki'\n",
            " 'Mazda' 'Volvo' 'Audi' 'MINI' 'Isuzu' 'Mitsubishi' 'smart' 'Pontiac'\n",
            " 'Porsche' 'subaru' 'ford' 'Land Rover' 'chrysler' 'Saturn' 'mazda'\n",
            " 'dodge' 'Ram' 'Oldsmobile' 'hyundai' 'Mercury' 'Bentley' 'toyota'\n",
            " 'lincoln' 'Fisker' 'nissan' 'chevrolet' 'honda' 'porsche' 'mitsubishi'\n",
            " 'lexus' 'bmw' 'Maserati' 'acura' 'jeep' 'mercury' 'Tesla' 'landrover'\n",
            " 'vw' 'cadillac' 'buick' 'gmc truck' 'land rover' 'volkswagen'\n",
            " 'Rolls-Royce' 'audi' 'Ferrari' 'suzuki' 'Plymouth' 'oldsmobile'\n",
            " 'Lamborghini' 'gmc' 'Geo' 'ford truck' 'Aston Martin' 'plymouth' 'Daewoo'\n",
            " 'maserati' 'kia' 'mercedes-b' 'dodge tk' 'mazda tk' 'dot' 'airstream']\n",
            "Уникальные значения после преобразования ['ford' 'nissan' 'hummer' 'lincoln' 'pontiac' 'hyundai' nan 'buick'\n",
            " 'chevrolet' 'honda' 'acura' 'cadillac' 'gmc' 'saab' 'dodge'\n",
            " 'mercedes-benz' 'toyota' 'volkswagen' 'bmw' 'infiniti' 'chrysler' 'kia'\n",
            " 'jaguar' 'subaru' 'jeep' 'lexus' 'scion' 'fiat' 'suzuki' 'mazda' 'volvo'\n",
            " 'audi' 'mini' 'isuzu' 'mitsubishi' 'smart' 'porsche' 'land rover'\n",
            " 'saturn' 'ram' 'oldsmobile' 'mercury' 'bentley' 'fisker' 'maserati'\n",
            " 'tesla' 'gmc truck' 'rolls-royce' 'ferrari' 'plymouth' 'lamborghini'\n",
            " 'geo' 'ford truck' 'aston martin' 'daewoo' 'dot' 'airstream']\n"
          ]
        }
      ],
      "source": [
        "change_make(df_train)"
      ]
    },
    {
      "cell_type": "code",
      "execution_count": null,
      "metadata": {
        "id": "zv8RrvOfKAak",
        "colab": {
          "base_uri": "https://localhost:8080/"
        },
        "outputId": "5e1d6f9b-cdc8-4370-b195-a49dedbd7771"
      },
      "outputs": [
        {
          "output_type": "stream",
          "name": "stdout",
          "text": [
            "Уникальные значения до преобразования ['Cadillac' 'GMC' 'Nissan' 'Chevrolet' 'Volkswagen' 'Hyundai' 'Ford'\n",
            " 'Infiniti' 'Subaru' 'Kia' 'BMW' nan 'Mitsubishi' 'Dodge' 'Oldsmobile'\n",
            " 'Volvo' 'Pontiac' 'Acura' 'Honda' 'Toyota' 'Audi' 'Jeep' 'Lincoln'\n",
            " 'Chrysler' 'Mercedes-Benz' 'Ram' 'Scion' 'Mercury' 'Lexus' 'Saturn'\n",
            " 'Mazda' 'Porsche' 'MINI' 'smart' 'Buick' 'HUMMER' 'ford' 'chrysler'\n",
            " 'Jaguar' 'mitsubishi' 'FIAT' 'Saab' 'mazda' 'Suzuki' 'Land Rover' 'bmw'\n",
            " 'cadillac' 'oldsmobile' 'honda' 'acura' 'buick' 'landrover' 'Geo' 'lexus'\n",
            " 'dodge' 'chevrolet' 'chev truck' 'nissan' 'Bentley' 'jeep' 'mercury'\n",
            " 'toyota' 'gmc' 'Isuzu' 'Aston Martin' 'Maserati' 'land rover' 'kia'\n",
            " 'subaru' 'Daewoo' 'vw' 'volkswagen' 'Tesla' 'mercedes' 'Ferrari'\n",
            " 'hyundai' 'pontiac' 'Fisker' 'porsche' 'Rolls-Royce' 'Lotus' 'Plymouth'\n",
            " 'hyundai tk' 'lincoln' 'ford tk' 'audi']\n",
            "Уникальные значения после преобразования ['cadillac' 'gmc' 'nissan' 'chevrolet' 'volkswagen' 'hyundai' 'ford'\n",
            " 'infiniti' 'subaru' 'kia' 'bmw' nan 'mitsubishi' 'dodge' 'oldsmobile'\n",
            " 'volvo' 'pontiac' 'acura' 'honda' 'toyota' 'audi' 'jeep' 'lincoln'\n",
            " 'chrysler' 'mercedes-benz' 'ram' 'scion' 'mercury' 'lexus' 'saturn'\n",
            " 'mazda' 'porsche' 'mini' 'smart' 'buick' 'hummer' 'jaguar' 'fiat' 'saab'\n",
            " 'suzuki' 'land rover' 'geo' 'chev truck' 'bentley' 'isuzu' 'aston martin'\n",
            " 'maserati' 'daewoo' 'tesla' 'ferrari' 'fisker' 'rolls-royce' 'lotus'\n",
            " 'plymouth' 'hyundai tk' 'ford tk']\n"
          ]
        }
      ],
      "source": [
        "change_make(df_test)"
      ]
    },
    {
      "cell_type": "markdown",
      "metadata": {
        "id": "5C0sDY7PLLXI"
      },
      "source": [
        "В данных есть поля где make, model и trim не заполнены, можно было бы попробовать вытащить эти данные из VIN номера, но так как таких данных не очень много, можно удалить такие строки."
      ]
    },
    {
      "cell_type": "code",
      "execution_count": null,
      "metadata": {
        "id": "t7OLkDLgMn3z",
        "colab": {
          "base_uri": "https://localhost:8080/"
        },
        "outputId": "0f64a3df-e3f2-4497-c0a1-f2d4d39acf88"
      },
      "outputs": [
        {
          "output_type": "execute_result",
          "data": {
            "text/plain": [
              "0"
            ]
          },
          "metadata": {},
          "execution_count": 34
        }
      ],
      "source": [
        "df_train = df_train[~(df_train.make.isna() & df_train.model.isna() & df_train.trim.isna())]\n",
        "len(df_train[df_train.make.isna()])"
      ]
    },
    {
      "cell_type": "markdown",
      "metadata": {
        "id": "0gfCCHZ40nJM"
      },
      "source": [
        "### model"
      ]
    },
    {
      "cell_type": "code",
      "execution_count": null,
      "metadata": {
        "id": "iElsY_sBRR9n"
      },
      "outputs": [],
      "source": [
        "def change_to_lower(df, column):\n",
        "  print('Уникальных значений до преобразования', len(df[column].unique()))\n",
        "  df.loc[df[column].notna(), column] = df.loc[df[column].notna(), column].apply(lambda x: x.lower().strip())\n",
        "  print('Уникальных значений после преобразования', len(df[column].unique()))"
      ]
    },
    {
      "cell_type": "code",
      "execution_count": null,
      "metadata": {
        "id": "h4_rUK9SnzFO",
        "colab": {
          "base_uri": "https://localhost:8080/"
        },
        "outputId": "9993a975-ff97-47e2-d5ff-a78bd1b9f90c"
      },
      "outputs": [
        {
          "output_type": "execute_result",
          "data": {
            "text/plain": [
              "array(['1 Series', '1500', '190-Class', '2 Series', '200', '200SX',\n",
              "       '2500', '3', '3 Series', '3 Series Gran Turismo', '300',\n",
              "       '300-Class', '3000GT', '300M', '300ZX', '300e', '320i', '323i',\n",
              "       '328i', '3500', '350Z', '350z', '370Z', '4 Series',\n",
              "       '4 Series Gran Coupe', '400-Class', '420-Class', '420sel', '42c',\n",
              "       '458 Italia', '4Runner', '5 Series', '5 Series Gran Turismo',\n",
              "       '500', '500-Class', '500L', '500e', '6', '6 Series',\n",
              "       '6 Series Gran Coupe', '626', '7', '7 Series', '750i', '750li',\n",
              "       '750lxi', '8 Series', '850', '9-2X', '9-3', '9-5', '9-7X', '911',\n",
              "       '940', '960', 'A3', 'A4', 'A5', 'A6', 'A7', 'A8', 'ATS', 'Acadia',\n",
              "       'Accent', 'Accord', 'Accord Crosstour', 'Accord Hybrid',\n",
              "       'ActiveHybrid 5', 'ActiveHybrid 7', 'ActiveHybrid X6', 'Aerio',\n",
              "       'Alero', 'Altima', 'Altima Hybrid', 'Amanti', 'Amigo', 'Armada',\n",
              "       'Ascender', 'Aspen', 'Aspire', 'Astra', 'Astro', 'Astro Cargo',\n",
              "       'Aura', 'Aura Hybrid', 'Aurora', 'Avalanche', 'Avalon',\n",
              "       'Avalon Hybrid', 'Avenger', 'Aveo', 'Aviator', 'Axiom', 'Azera',\n",
              "       'Aztek', 'B-Class Electric Drive', 'B-Series', 'B-Series Pickup',\n",
              "       'B-Series Truck', 'B9 Tribeca', 'BRZ', 'Baja', 'Beetle',\n",
              "       'Beetle Convertible', 'Black Diamond Avalanche', 'Blackwood',\n",
              "       'Blazer', 'Bonneville', 'Borrego', 'Boxster', 'Bravada', 'Breeze',\n",
              "       'C-Class', 'C-Max Energi', 'C-Max Hybrid', 'C/K 1500 Series',\n",
              "       'C/K 2500 Series', 'C/K 3500 Series', 'C/V Cargo Van',\n",
              "       'C/V Tradesman', 'C30', 'C70', 'CC', 'CL', 'CL-Class', 'CLA-Class',\n",
              "       'CLK-Class', 'CLS-Class', 'CR-V', 'CR-Z', 'CT 200h', 'CTS',\n",
              "       'CTS Coupe', 'CTS Wagon', 'CTS-V', 'CTS-V Coupe', 'CTS-V Wagon',\n",
              "       'CV Tradesman', 'CX-5', 'CX-7', 'CX-9', 'Cabrio', 'Cabriolet',\n",
              "       'Cadenza', 'Caliber', 'California', 'Camaro', 'Camry',\n",
              "       'Camry Hybrid', 'Camry Solara', 'Canyon', 'Caprice',\n",
              "       'Captiva Sport', 'Caravan', 'Catera', 'Cavalier', 'Cayenne',\n",
              "       'Cayman', 'Cayman S', 'Celica', 'Century', 'Challenger', 'Charger',\n",
              "       'Cherokee', 'Cirrus', 'Civic', 'Civic del Sol', 'Classic',\n",
              "       'Cobalt', 'Colorado', 'Commander', 'Compass', 'Concorde',\n",
              "       'Continental', 'Continental Flying Spur',\n",
              "       'Continental Flying Spur Speed', 'Continental GT',\n",
              "       'Continental GT Speed', 'Continental GTC', 'Continental GTC Speed',\n",
              "       'Continental Supersports', 'Contour', 'Cooper', 'Cooper Clubman',\n",
              "       'Cooper Countryman', 'Cooper Coupe', 'Cooper Paceman',\n",
              "       'Cooper Roadster', 'Corolla', 'Corsica', 'Corvette',\n",
              "       'Corvette Stingray', 'Cougar', 'Coupe', 'Crossfire', 'Crosstour',\n",
              "       'Crown Victoria', 'Cruze', 'Cube', 'Cutlass', 'Cutlass Ciera',\n",
              "       'Cutlass Supreme', 'DB9', 'DTS', 'Dakota', 'Dart', 'DeVille',\n",
              "       'Diamante', 'Discovery', 'Discovery Series II', 'Durango', 'E-150',\n",
              "       'E-250', 'E-350', 'E-Class', 'E-Series Van', 'E-Series Wagon',\n",
              "       'ECHO', 'ELR', 'ES 300', 'ES 300h', 'ES 330', 'ES 350', 'EX',\n",
              "       'EX35', 'Eclipse', 'Eclipse Spyder', 'Econoline Cargo',\n",
              "       'Econoline Wagon', 'Edge', 'Eighty-Eight', 'Eighty-Eight Royale',\n",
              "       'Elantra', 'Elantra Coupe', 'Elantra GT', 'Elantra Touring',\n",
              "       'Eldorado', 'Element', 'Enclave', 'Encore', 'Endeavor',\n",
              "       'Entourage', 'Envoy', 'Envoy XL', 'Envoy XUV', 'Eos', 'Equator',\n",
              "       'Equinox', 'Equus', 'Escalade', 'Escalade ESV', 'Escalade EXT',\n",
              "       'Escalade Hybrid', 'Escape', 'Escape Hybrid', 'Escort', 'Esteem',\n",
              "       'EuroVan', 'Excursion', 'Expedition', 'Expedition EL', 'Explorer',\n",
              "       'Explorer Sport', 'Explorer Sport Trac', 'Express',\n",
              "       'Express Cargo', 'F-150', 'F-150 Heritage', 'F-150 SVT Lightning',\n",
              "       'F-250', 'F-250 Super Duty', 'F-350 Super Duty',\n",
              "       'F-450 Super Duty', 'F-TYPE', 'F430', 'FJ Cruiser', 'FR-S', 'FX',\n",
              "       'FX35', 'FX45', 'FX50', 'Fiesta', 'Firebird', 'Fit',\n",
              "       'Five Hundred', 'Fleetwood', 'Flex', 'Flying Spur', 'Focus',\n",
              "       'Focus ST', 'Forenza', 'Forester', 'Forte', 'Freelander',\n",
              "       'Freestar', 'Freestyle', 'Frontier', 'Fusion', 'Fusion Energi',\n",
              "       'Fusion Hybrid', 'G Convertible', 'G Coupe', 'G Sedan', 'G-Class',\n",
              "       'G20', 'G3', 'G35', 'G37', 'G37 Convertible', 'G37 Coupe', 'G5',\n",
              "       'G6', 'G8', 'GL-Class', 'GLA-Class', 'GLI', 'GLK-Class', 'GS 300',\n",
              "       'GS 350', 'GS 400', 'GS 430', 'GS 450h', 'GS 460', 'GT-R', 'GTI',\n",
              "       'GTO', 'GX 460', 'GX 470', 'Galant', 'Gallardo', 'Genesis',\n",
              "       'Genesis Coupe', 'Ghibli', 'Ghost', 'Golf', 'Golf GTI', 'Golf R',\n",
              "       'GranSport', 'GranTurismo', 'GranTurismo Convertible', 'Grand Am',\n",
              "       'Grand Caravan', 'Grand Cherokee', 'Grand Marquis', 'Grand Prix',\n",
              "       'Grand Vitara', 'H1', 'H2', 'H2 SUT', 'H3', 'H3T', 'HHR',\n",
              "       'HS 250h', 'Highlander', 'Highlander Hybrid', 'I30', 'I35', 'ILX',\n",
              "       'ION', 'IS 250', 'IS 250 C', 'IS 300', 'IS 350', 'IS 350 C',\n",
              "       'IS F', 'Impala', 'Impala Limited', 'Impreza', 'Impreza WRX',\n",
              "       'Insight', 'Integra', 'Intrepid', 'Intrigue', 'J30', 'JX', 'Jetta',\n",
              "       'Jetta GLI', 'Jetta Hybrid', 'Jetta SportWagen', 'Jimmy',\n",
              "       'Journey', 'Juke', 'K900', 'Karma', 'Kizashi', 'L-Series', 'L300',\n",
              "       'LHS', 'LR2', 'LR3', 'LR4', 'LS', 'LS 400', 'LS 430', 'LS 460',\n",
              "       'LS 600h L', 'LX 450', 'LX 470', 'LX 570', 'LaCrosse', 'Lancer',\n",
              "       'Lancer Evolution', 'Lancer Sportback', 'Land Cruiser', 'Le Baron',\n",
              "       'LeSabre', 'Leaf', 'Legacy', 'Legend', 'Liberty', 'Lucerne',\n",
              "       'Lumina', 'M', 'M-Class', 'M3', 'M35', 'M37', 'M4', 'M45', 'M5',\n",
              "       'M56', 'M6', 'M6 Gran Coupe', 'MDX', 'MKC', 'MKS', 'MKT', 'MKX',\n",
              "       'MKZ', 'MKZ Hybrid', 'ML55 AMG', 'MPV', 'MR2 Spyder', 'MX-5 Miata',\n",
              "       'Macan', 'Magnum', 'Malibu', 'Malibu Classic', 'Malibu Hybrid',\n",
              "       'Malibu Maxx', 'Marauder', 'Mariner', 'Mariner Hybrid', 'Mark LT',\n",
              "       'Mark VIII', 'Matrix', 'Maxima', 'Mazda2', 'Mazda3', 'Mazda5',\n",
              "       'Mazda6', 'Mazdaspeed 3', 'Mazdaspeed MX-5 Miata',\n",
              "       'Mazdaspeed Mazda3', 'Mazdaspeed Mazda6', 'Mazdaspeed Protege',\n",
              "       'Mazdaspeed3', 'Metro', 'Milan', 'Milan Hybrid', 'Millenia',\n",
              "       'Mirage', 'Model S', 'Montana', 'Montana SV6', 'Monte Carlo',\n",
              "       'Montego', 'Monterey', 'Montero', 'Montero Sport', 'Mountaineer',\n",
              "       'Murano', 'Murano CrossCabriolet', 'Mustang', 'Mustang SVT Cobra',\n",
              "       'Mystique', 'NV', 'NV Cargo', 'NV Passenger', 'NV200', 'Navigator',\n",
              "       'Navigator L', 'Neon', 'New Beetle', 'Nitro', 'Nubira', 'Odyssey',\n",
              "       'Optima', 'Outback', 'Outlander', 'Outlander Sport', 'Outlook',\n",
              "       'PT Cruiser', 'Pacifica', 'Panamera', 'Park Avenue', 'Paseo',\n",
              "       'Passat', 'Passport', 'Pathfinder', 'Patriot', 'Phaeton', 'Pickup',\n",
              "       'Pilot', 'Prelude', 'Prius', 'Prius Plug-in', 'Prius c', 'Prius v',\n",
              "       'Prizm', 'Promaster Cargo Van', 'Protege', 'Protege5', 'Prowler',\n",
              "       'Q3', 'Q45', 'Q5', 'Q50', 'Q60 Convertible', 'Q60 Coupe', 'Q7',\n",
              "       'Q70', 'QX', 'QX4', 'QX50', 'QX56', 'QX60', 'QX70', 'QX80',\n",
              "       'Quattroporte', 'Quest', 'R-Class', 'R32', 'R8', 'RAV4', 'RC 350',\n",
              "       'RC F', 'RDX', 'RL', 'RLX', 'RS 4', 'RS 5', 'RS 6', 'RS 7', 'RSX',\n",
              "       'RX 300', 'RX 330', 'RX 350', 'RX 400h', 'RX 450h', 'RX-8',\n",
              "       'Rabbit', 'Raider', 'Rainier', 'Ram Cargo', 'Ram Pickup 1500',\n",
              "       'Ram Pickup 2500', 'Ram Pickup 3500', 'Ram Van', 'Range Rover',\n",
              "       'Range Rover Evoque', 'Range Rover Sport', 'Ranger', 'Rapide',\n",
              "       'Regal', 'Regency', 'Relay', 'Rendezvous', 'Reno', 'Ridgeline',\n",
              "       'Rio', 'Riviera', 'Roadmaster', 'Rodeo', 'Rodeo Sport', 'Rogue',\n",
              "       'Rogue Select', 'Rondo', 'Routan', 'S-10', 'S-10 Blazer',\n",
              "       'S-Class', 'S-Series', 'S-Type', 'S2000', 'S4', 'S40', 'S5', 'S6',\n",
              "       'S60', 'S7', 'S70', 'S8', 'S80', 'S90', 'SC 300', 'SC 400',\n",
              "       'SC 430', 'SL-Class', 'SLK-Class', 'SLS AMG', 'SQ5', 'SRX', 'SS',\n",
              "       'SSR', 'STS', 'STS-V', 'SX4', 'Sable', 'Safari', 'Safari Cargo',\n",
              "       'Santa Fe', 'Santa Fe Sport', 'Savana', 'Savana Cargo', 'Sebring',\n",
              "       'Sedona', 'Sentra', 'Sephia', 'Sequoia', 'Seville', 'Shelby GT500',\n",
              "       'Sienna', 'Sierra 1500', 'Sierra 1500 Classic',\n",
              "       'Sierra 1500 Hybrid', 'Sierra 1500HD', 'Sierra 2500',\n",
              "       'Sierra 2500HD', 'Sierra 2500HD Classic', 'Sierra 3500',\n",
              "       'Sierra 3500HD', 'Silhouette', 'Silverado 1500',\n",
              "       'Silverado 1500 Classic', 'Silverado 1500 Hybrid',\n",
              "       'Silverado 1500HD', 'Silverado 2500', 'Silverado 2500HD',\n",
              "       'Silverado 2500HD Classic', 'Silverado 3500',\n",
              "       'Silverado 3500 Classic', 'Silverado 3500HD', 'Sky', 'Solstice',\n",
              "       'Sonata', 'Sonata Hybrid', 'Sonic', 'Sonoma', 'Sorento', 'Soul',\n",
              "       'Spark', 'Spark EV', 'Spectra', 'Spirit', 'Sportage', 'Sprinter',\n",
              "       'Sprinter Cargo', 'Spyder', 'Stratus', 'Suburban', 'Sunfire',\n",
              "       'T100', 'TL', 'TSX', 'TSX Sport Wagon', 'TT', 'TT RS', 'TTS',\n",
              "       'Tacoma', 'Tahoe', 'Tahoe Hybrid', 'Tahoe Limited/Z71', 'Taurus',\n",
              "       'Taurus X', 'Tempo', 'Tercel', 'Terrain', 'Terraza', 'Thunderbird',\n",
              "       'Tiburon', 'Tiguan', 'Titan', 'Torrent', 'Touareg', 'Touareg 2',\n",
              "       'Town Car', 'Town and Country', 'Tracer', 'Tracker', 'TrailBlazer',\n",
              "       'TrailBlazer EXT', 'Transit Connect', 'Transit Van',\n",
              "       'Transit Wagon', 'Traverse', 'Tribeca', 'Tribute',\n",
              "       'Tribute Hybrid', 'Trooper', 'Truck', 'Tucson', 'Tundra',\n",
              "       'Uplander', 'V40', 'V50', 'V60', 'V70', 'V8 Vantage', 'VUE',\n",
              "       'VUE Hybrid', 'Veloster', 'Venture', 'Venza', 'Veracruz', 'Verano',\n",
              "       'Verona', 'Versa', 'Versa Note', 'Vibe', 'Villager', 'Viper',\n",
              "       'Vitara', 'Volt', 'Voyager', 'WRX', 'Windstar', 'Windstar Cargo',\n",
              "       'Wrangler', 'X-Type', 'X1', 'X3', 'X4', 'X5', 'X5 M', 'X6', 'X6 M',\n",
              "       'XC', 'XC60', 'XC70', 'XC90', 'XF', 'XG300', 'XG350', 'XJ',\n",
              "       'XJ-Series', 'XK', 'XK-Series', 'XL-7', 'XL7', 'XLR', 'XTS',\n",
              "       'XV Crosstrek', 'Xterra', 'Yaris', 'Yukon', 'Yukon Denali',\n",
              "       'Yukon Hybrid', 'Yukon XL', 'Z3', 'Z4', 'Z4 M', 'ZDX', 'Zephyr',\n",
              "       'a4', 'a6', 'accord', 'alero', 'allroad', 'allroad quattro', 'alp',\n",
              "       'astro', 'avalon', 'avenger', 'aveo', 'b1500', 'b200', 'b2300',\n",
              "       'beetle', 'borrego', 'breeze', 'c230', 'c230wz', 'c240s', 'c240w',\n",
              "       'camaro', 'camry', 'capt', 'caravan', 'carrera', 'cavalier',\n",
              "       'century', 'charger', 'cherokee', 'ciera', 'civic', 'cl55',\n",
              "       'cobalt', 'colorado', 'comm', 'compass', 'concorde', 'corolla',\n",
              "       'corsica', 'corvette', 'cougar', 'crossfire', 'crown', 'cruze',\n",
              "       'cx-7', 'dakota', 'discovery', 'dts', 'durango', 'e', 'e150',\n",
              "       'e250', 'e300dt', 'e350', 'el', 'elantra', 'endeavor', 'envoy',\n",
              "       'equinox', 'escalade', 'escape', 'eurovan', 'excurs', 'expedit',\n",
              "       'expedition', 'expeditn', 'explorer', 'f150', 'f250', 'f350',\n",
              "       'focus', 'forester', 'fortwo', 'freestyle', 'g1500', 'g2500',\n",
              "       'g3500', 'g5', 'g500', 'g55', 'g6', 'galant', 'golf', 'gr',\n",
              "       'grand', 'gx', 'hhr', 'i-MiEV', 'i-Series', 'i8', 'iQ', 'impala',\n",
              "       'interstate', 'intrepid', 'intrigue', 'jetta', 'journey',\n",
              "       'lacrosse', 'lancer', 'legacy', 'lr3', 'lumina', 'lx', 'magnum',\n",
              "       'malibu', 'matrix', 'mazda3', 'mazda5', 'mazda6', 'mdx', 'mkt',\n",
              "       'montana', 'mountaineer', 'mountnr', 'mpv', 'neon', 'odyssey',\n",
              "       'optima', 'optra', 'pacifica', 'passat', 'pathfind', 'pathfinder',\n",
              "       'patriot', 'pickup', 'pilot', 'police', 'previa', 'pt', 'pursuit',\n",
              "       'quattroporte', 'quest', 'rainier', 'ram', 'ram3500', 'range',\n",
              "       'ranger', 'rangerover', 'regal', 'ridgelin', 'rio', 'rl', 'routan',\n",
              "       'rr', 'rrs', 'rx8', 's10', 's55', 'safari', 'santa', 'savana',\n",
              "       'sebring', 'sienna', 'siera', 'silhouette', 'sl55', 'sonic',\n",
              "       'sonoma', 'sportage', 'sprinter', 'sr', 'srx', 'stratus', 'sts',\n",
              "       'subrbn', 'suburban', 'swift', 'sx4', 'tC', 'tahoe', 'taurus',\n",
              "       'thunderbird', 'town', 'tribute', 'tucson', 'tundra',\n",
              "       'twn&country', 'twn/cntry', 'uplander', 'uplandr', 'venture',\n",
              "       'versa', 'vibe', 'villager', 'voyager', 'wave', 'windstar',\n",
              "       'wrangler', 'x-trail', 'xA', 'xB', 'xD', 'yaris', 'yukon', nan],\n",
              "      dtype=object)"
            ]
          },
          "metadata": {},
          "execution_count": 36
        }
      ],
      "source": [
        "df_train['model'].sort_values().unique()"
      ]
    },
    {
      "cell_type": "code",
      "execution_count": null,
      "metadata": {
        "id": "vIfFD_LUzkba",
        "colab": {
          "base_uri": "https://localhost:8080/"
        },
        "outputId": "3083b610-6d05-4345-9834-c9c7e5917a7a"
      },
      "outputs": [
        {
          "output_type": "stream",
          "name": "stdout",
          "text": [
            "Уникальных значений до преобразования 960\n",
            "Уникальных значений после преобразования 840\n"
          ]
        }
      ],
      "source": [
        "change_to_lower(df_train, 'model')"
      ]
    },
    {
      "cell_type": "code",
      "execution_count": null,
      "metadata": {
        "id": "mj9WA-OdR9Vi",
        "colab": {
          "base_uri": "https://localhost:8080/"
        },
        "outputId": "f3046d90-cea7-4107-a55b-95f6c67023b2"
      },
      "outputs": [
        {
          "output_type": "stream",
          "name": "stdout",
          "text": [
            "Уникальных значений до преобразования 825\n",
            "Уникальных значений после преобразования 747\n"
          ]
        }
      ],
      "source": [
        "change_to_lower(df_test, 'model')"
      ]
    },
    {
      "cell_type": "markdown",
      "metadata": {
        "id": "NS6A9zH20v96"
      },
      "source": [
        "Пропуски заполним следующим образом - зная значение в поле trim мы можем посмотреть какая модель чаще всего втречается с таким параметром и заполнить этим значением поле model."
      ]
    },
    {
      "cell_type": "code",
      "execution_count": null,
      "metadata": {
        "id": "SAGUq-kysHjI"
      },
      "outputs": [],
      "source": [
        "def fill_values(df, col1, col2):\n",
        "  '''\n",
        "  col1 - столбец, который заполняем\n",
        "  col2 - столбец, по которому заполняем\n",
        "  '''\n",
        "  print(f'Пропусков до преобразования {len(df[df[col1].isna()])}')\n",
        "  items = df[df[col1].isna()][col2].value_counts().index\n",
        "  for item in items:\n",
        "    try:\n",
        "      df.loc[(df[col1].isna()) & (df[col2] == item), col1] = df.loc[(df[col1].isna()) & (df[col2] == item), col1].fillna(df[df[col2] == item][col1].value_counts().index[0])\n",
        "    except:\n",
        "      pass\n",
        "  print(f'Пропусков после преобразования {len(df[df[col1].isna()])}')"
      ]
    },
    {
      "cell_type": "code",
      "execution_count": null,
      "metadata": {
        "id": "L1crqvTcfJmN",
        "colab": {
          "base_uri": "https://localhost:8080/"
        },
        "outputId": "89f7379c-a060-422d-dd51-58f5efce0a33"
      },
      "outputs": [
        {
          "output_type": "stream",
          "name": "stdout",
          "text": [
            "Пропусков до преобразования 70\n",
            "Пропусков после преобразования 0\n"
          ]
        }
      ],
      "source": [
        "df_train.loc[(df_train.model.isna()) & (df_train.trim == '2.0 TFSI Premium quattro'), 'model'] = 'a4'\n",
        "fill_values(df_train, 'model', 'trim')"
      ]
    },
    {
      "cell_type": "code",
      "execution_count": null,
      "metadata": {
        "id": "0gyPz2Bb1Nj0",
        "colab": {
          "base_uri": "https://localhost:8080/"
        },
        "outputId": "956b291c-41aa-4ee6-b9f0-a200a639499b"
      },
      "outputs": [
        {
          "output_type": "stream",
          "name": "stdout",
          "text": [
            "Пропусков до преобразования 2077\n",
            "Пропусков после преобразования 2061\n"
          ]
        }
      ],
      "source": [
        "df_test.loc[(df_test.model.isna()) & (df_test.trim == '2.0 TFSI Premium quattro'), 'model'] = 'a4'\n",
        "fill_values(df_test, 'model', 'trim')"
      ]
    },
    {
      "cell_type": "markdown",
      "metadata": {
        "id": "x54B2lnX2CkI"
      },
      "source": [
        "### trim"
      ]
    },
    {
      "cell_type": "code",
      "execution_count": null,
      "metadata": {
        "id": "CfV7Z0bv4gH4",
        "colab": {
          "base_uri": "https://localhost:8080/"
        },
        "outputId": "7f357382-011a-48d4-ff2f-1a1064188d70"
      },
      "outputs": [
        {
          "output_type": "stream",
          "name": "stdout",
          "text": [
            "Уникальных значений до преобразования 1923\n",
            "Уникальных значений после преобразования 1841\n"
          ]
        }
      ],
      "source": [
        "change_to_lower(df_train, 'trim')"
      ]
    },
    {
      "cell_type": "code",
      "execution_count": null,
      "metadata": {
        "id": "SEKwk2My4gqp",
        "colab": {
          "base_uri": "https://localhost:8080/"
        },
        "outputId": "18fa26cb-9450-4b6c-d344-555f7070a72b"
      },
      "outputs": [
        {
          "output_type": "stream",
          "name": "stdout",
          "text": [
            "Уникальных значений до преобразования 1497\n",
            "Уникальных значений после преобразования 1449\n"
          ]
        }
      ],
      "source": [
        "change_to_lower(df_test, 'trim')"
      ]
    },
    {
      "cell_type": "markdown",
      "metadata": {
        "id": "wh1fr-z13bv2"
      },
      "source": [
        "Аналогично полю model поступим и с полем trim - зная значение в поле model мы можем посмотреть какая комплектация чаще всего втречается с таким параметром и заполнить этим значением поле trim."
      ]
    },
    {
      "cell_type": "code",
      "execution_count": null,
      "metadata": {
        "id": "b-_4LZC12HKR",
        "colab": {
          "base_uri": "https://localhost:8080/"
        },
        "outputId": "99efe21e-4db2-4163-cf2f-5d0b7f8eff56"
      },
      "outputs": [
        {
          "output_type": "stream",
          "name": "stdout",
          "text": [
            "Пропусков до преобразования 294\n",
            "Пропусков после преобразования 92\n"
          ]
        }
      ],
      "source": [
        "fill_values(df_train, 'trim', 'model')"
      ]
    },
    {
      "cell_type": "code",
      "execution_count": null,
      "metadata": {
        "id": "VdhDirpW33wl",
        "colab": {
          "base_uri": "https://localhost:8080/"
        },
        "outputId": "3e54cb88-c7cf-423b-b19c-efe8feb7e5b0"
      },
      "outputs": [
        {
          "output_type": "stream",
          "name": "stdout",
          "text": [
            "Пропусков до преобразования 2114\n",
            "Пропусков после преобразования 2082\n"
          ]
        }
      ],
      "source": [
        "fill_values(df_test, 'trim', 'model')"
      ]
    },
    {
      "cell_type": "markdown",
      "metadata": {
        "id": "Glyy67-y35rO"
      },
      "source": [
        "### body"
      ]
    },
    {
      "cell_type": "code",
      "execution_count": null,
      "metadata": {
        "id": "3CQfaIP8Fobu",
        "colab": {
          "base_uri": "https://localhost:8080/"
        },
        "outputId": "16481aba-4083-426c-97fa-62e97e1849e3"
      },
      "outputs": [
        {
          "output_type": "stream",
          "name": "stdout",
          "text": [
            "Уникальных значений до преобразования 86\n",
            "Уникальных значений после преобразования 46\n"
          ]
        }
      ],
      "source": [
        "change_to_lower(df_train, 'body')"
      ]
    },
    {
      "cell_type": "code",
      "execution_count": null,
      "metadata": {
        "id": "QdKKoW1S39Xx",
        "colab": {
          "base_uri": "https://localhost:8080/"
        },
        "outputId": "6fb3b16b-9291-449c-840f-d755cc6ae4db"
      },
      "outputs": [
        {
          "output_type": "stream",
          "name": "stdout",
          "text": [
            "Уникальных значений до преобразования 78\n",
            "Уникальных значений после преобразования 43\n"
          ]
        }
      ],
      "source": [
        "change_to_lower(df_test, 'body')"
      ]
    },
    {
      "cell_type": "markdown",
      "metadata": {
        "id": "y81xPRTRPUx3"
      },
      "source": [
        "Заполняем по полям model, trim, make."
      ]
    },
    {
      "cell_type": "code",
      "execution_count": null,
      "metadata": {
        "id": "BCTEh0aVIGoV",
        "colab": {
          "base_uri": "https://localhost:8080/"
        },
        "outputId": "3961ae67-1c12-4ded-f504-8fa632a30596"
      },
      "outputs": [
        {
          "output_type": "stream",
          "name": "stdout",
          "text": [
            "Пропусков до преобразования 2350\n",
            "Пропусков после преобразования 785\n",
            "Пропусков до преобразования 785\n",
            "Пропусков после преобразования 695\n",
            "Пропусков до преобразования 695\n",
            "Пропусков после преобразования 1\n"
          ]
        }
      ],
      "source": [
        "fill_values(df_train, 'body', 'model')\n",
        "fill_values(df_train, 'body', 'trim')\n",
        "fill_values(df_train, 'body', 'make')"
      ]
    },
    {
      "cell_type": "code",
      "execution_count": null,
      "metadata": {
        "id": "eU4kikrNQPEc",
        "colab": {
          "base_uri": "https://localhost:8080/"
        },
        "outputId": "68d1856b-8a64-4b91-d240-d57681656dda"
      },
      "outputs": [
        {
          "output_type": "stream",
          "name": "stdout",
          "text": [
            "Пропусков до преобразования 2594\n",
            "Пропусков после преобразования 2240\n",
            "Пропусков до преобразования 2240\n",
            "Пропусков после преобразования 2213\n",
            "Пропусков до преобразования 2213\n",
            "Пропусков после преобразования 2062\n"
          ]
        }
      ],
      "source": [
        "fill_values(df_test, 'body', 'model')\n",
        "fill_values(df_test, 'body', 'trim')\n",
        "fill_values(df_test, 'body', 'make')"
      ]
    },
    {
      "cell_type": "markdown",
      "metadata": {
        "id": "U0-iWm0F42XA"
      },
      "source": [
        "### transmission"
      ]
    },
    {
      "cell_type": "code",
      "execution_count": null,
      "metadata": {
        "id": "h7V8w6bO44sy",
        "colab": {
          "base_uri": "https://localhost:8080/"
        },
        "outputId": "ecfd31c5-162a-40a8-c1cc-148d64dd0877"
      },
      "outputs": [
        {
          "output_type": "execute_result",
          "data": {
            "text/plain": [
              "array(['automatic', 'manual', nan], dtype=object)"
            ]
          },
          "metadata": {},
          "execution_count": 50
        }
      ],
      "source": [
        "df_train.transmission.sort_values().unique()"
      ]
    },
    {
      "cell_type": "markdown",
      "metadata": {
        "id": "xrf4ZEisLqPG"
      },
      "source": [
        "Заполним по полю model"
      ]
    },
    {
      "cell_type": "code",
      "execution_count": null,
      "metadata": {
        "id": "yaADws3hLu-9",
        "colab": {
          "base_uri": "https://localhost:8080/"
        },
        "outputId": "48570d31-9436-407f-e867-e75fb250dfe6"
      },
      "outputs": [
        {
          "output_type": "stream",
          "name": "stdout",
          "text": [
            "Пропусков до преобразования 50060\n",
            "Пропусков после преобразования 19\n"
          ]
        }
      ],
      "source": [
        "fill_values(df_train, 'transmission', 'model')"
      ]
    },
    {
      "cell_type": "code",
      "execution_count": null,
      "metadata": {
        "id": "Caam2JTZL42s",
        "colab": {
          "base_uri": "https://localhost:8080/"
        },
        "outputId": "8aaa85d5-7c9b-4a99-e39d-5d4d624779a7"
      },
      "outputs": [
        {
          "output_type": "stream",
          "name": "stdout",
          "text": [
            "Пропусков до преобразования 13011\n",
            "Пропусков после преобразования 370\n"
          ]
        }
      ],
      "source": [
        "fill_values(df_test, 'transmission', 'model')"
      ]
    },
    {
      "cell_type": "markdown",
      "metadata": {
        "id": "Z8cgCowi6GXB"
      },
      "source": [
        "Заменим этот признак на is_automatic, который будет индикактором автоматической коробки передач."
      ]
    },
    {
      "cell_type": "code",
      "execution_count": null,
      "metadata": {
        "id": "T5BIXSQLOEau"
      },
      "outputs": [],
      "source": [
        "def replace_is_automatic(df):\n",
        "  df['is_automatic'] = df[['transmission']] == 'automatic'\n",
        "  df['is_automatic'] = df['is_automatic'].astype('int')\n",
        "  df.drop(columns=['transmission'], inplace=True)"
      ]
    },
    {
      "cell_type": "code",
      "execution_count": null,
      "metadata": {
        "id": "Y4fUgSxe6S3D"
      },
      "outputs": [],
      "source": [
        "replace_is_automatic(df_train)"
      ]
    },
    {
      "cell_type": "code",
      "execution_count": null,
      "metadata": {
        "id": "fJOg_ZS5OdBs"
      },
      "outputs": [],
      "source": [
        "replace_is_automatic(df_test)"
      ]
    },
    {
      "cell_type": "markdown",
      "metadata": {
        "id": "iT0O2Dqu9TeG"
      },
      "source": [
        "### vin"
      ]
    },
    {
      "cell_type": "code",
      "execution_count": null,
      "metadata": {
        "id": "BxYKbWEdO1iH"
      },
      "outputs": [],
      "source": [
        "def describe_column(df, column='vin'):\n",
        "  print('Количество пропусков', df[column].isna().sum())\n",
        "  print('Количество дубликатов', df[column].duplicated().sum())"
      ]
    },
    {
      "cell_type": "code",
      "execution_count": null,
      "metadata": {
        "id": "glp2_6Sg9YFl",
        "colab": {
          "base_uri": "https://localhost:8080/"
        },
        "outputId": "b2880282-dee4-42da-8291-482b8d6e9a1a"
      },
      "outputs": [
        {
          "output_type": "stream",
          "name": "stdout",
          "text": [
            "Количество пропусков 0\n",
            "Количество дубликатов 0\n"
          ]
        }
      ],
      "source": [
        "describe_column(df_train)"
      ]
    },
    {
      "cell_type": "code",
      "execution_count": null,
      "metadata": {
        "id": "FoO95yy-9ipa",
        "colab": {
          "base_uri": "https://localhost:8080/"
        },
        "outputId": "52c1adeb-2866-4ad5-f444-f1f9ef152ef5"
      },
      "outputs": [
        {
          "output_type": "stream",
          "name": "stdout",
          "text": [
            "Количество пропусков 0\n",
            "Количество дубликатов 0\n"
          ]
        }
      ],
      "source": [
        "describe_column(df_test)"
      ]
    },
    {
      "cell_type": "markdown",
      "metadata": {
        "id": "DJw07irfPOnD"
      },
      "source": [
        "В поле vin нет пропусков и дубликатов"
      ]
    },
    {
      "cell_type": "markdown",
      "metadata": {
        "id": "gLK5vyra94TI"
      },
      "source": [
        "### state"
      ]
    },
    {
      "cell_type": "code",
      "execution_count": null,
      "metadata": {
        "id": "WfvAxM0w9aZ4",
        "colab": {
          "base_uri": "https://localhost:8080/"
        },
        "outputId": "500cfd73-5033-4b8a-aa9d-e6fa55d37bc4"
      },
      "outputs": [
        {
          "output_type": "stream",
          "name": "stdout",
          "text": [
            "Количество пропусков 0\n",
            "Количество дубликатов 431989\n"
          ]
        }
      ],
      "source": [
        "describe_column(df_train, 'state')"
      ]
    },
    {
      "cell_type": "code",
      "execution_count": null,
      "metadata": {
        "id": "R6Z3oOxFSXFp",
        "colab": {
          "base_uri": "https://localhost:8080/"
        },
        "outputId": "09d245e9-6c01-4198-8b25-27300aa358e9"
      },
      "outputs": [
        {
          "output_type": "stream",
          "name": "stdout",
          "text": [
            "Количество пропусков 0\n",
            "Количество дубликатов 110020\n"
          ]
        }
      ],
      "source": [
        "describe_column(df_test, 'state')"
      ]
    },
    {
      "cell_type": "code",
      "execution_count": null,
      "metadata": {
        "id": "E3zBmKwPSDFy",
        "colab": {
          "base_uri": "https://localhost:8080/"
        },
        "outputId": "5ec98f1c-c958-4ea8-f00d-05e2fb498bdd"
      },
      "outputs": [
        {
          "output_type": "execute_result",
          "data": {
            "text/plain": [
              "array(['ab', 'al', 'az', 'ca', 'co', 'fl', 'ga', 'hi', 'il', 'in', 'la',\n",
              "       'ma', 'md', 'mi', 'mn', 'mo', 'ms', 'nc', 'ne', 'nj', 'nm', 'ns',\n",
              "       'nv', 'ny', 'oh', 'ok', 'on', 'or', 'pa', 'pr', 'qc', 'sc', 'tn',\n",
              "       'tx', 'ut', 'va', 'wa', 'wi'], dtype=object)"
            ]
          },
          "metadata": {},
          "execution_count": 61
        }
      ],
      "source": [
        "df_train.state.sort_values().unique()"
      ]
    },
    {
      "cell_type": "code",
      "execution_count": null,
      "metadata": {
        "id": "siiccv1zSNPt",
        "colab": {
          "base_uri": "https://localhost:8080/"
        },
        "outputId": "aac3a2c2-8ec7-4de1-9d79-020a19d05297"
      },
      "outputs": [
        {
          "output_type": "execute_result",
          "data": {
            "text/plain": [
              "array(['ab', 'al', 'az', 'ca', 'co', 'fl', 'ga', 'hi', 'il', 'in', 'la',\n",
              "       'ma', 'md', 'mi', 'mn', 'mo', 'ms', 'nc', 'ne', 'nj', 'nm', 'ns',\n",
              "       'nv', 'ny', 'oh', 'ok', 'on', 'or', 'pa', 'pr', 'qc', 'sc', 'tn',\n",
              "       'tx', 'ut', 'va', 'wa', 'wi'], dtype=object)"
            ]
          },
          "metadata": {},
          "execution_count": 62
        }
      ],
      "source": [
        "df_test.state.sort_values().unique()"
      ]
    },
    {
      "cell_type": "markdown",
      "metadata": {
        "id": "K7sX4QJxP2z8"
      },
      "source": [
        "С полем state все хорошо"
      ]
    },
    {
      "cell_type": "markdown",
      "metadata": {
        "id": "gat7uvJa-VTC"
      },
      "source": [
        "### condition\n"
      ]
    },
    {
      "cell_type": "code",
      "execution_count": null,
      "metadata": {
        "id": "DNf9XB5_-Fdf",
        "colab": {
          "base_uri": "https://localhost:8080/"
        },
        "outputId": "43a2098d-a0f6-4e7c-eb7e-44aedab93ab7"
      },
      "outputs": [
        {
          "output_type": "stream",
          "name": "stdout",
          "text": [
            "Количество пропусков 9314\n",
            "Количество дубликатов 431985\n"
          ]
        }
      ],
      "source": [
        "describe_column(df_train, 'condition')"
      ]
    },
    {
      "cell_type": "code",
      "execution_count": null,
      "metadata": {
        "id": "quCosL2TSIjl",
        "colab": {
          "base_uri": "https://localhost:8080/"
        },
        "outputId": "7e5bd0e4-2e02-45b4-bda8-e5cff8986097"
      },
      "outputs": [
        {
          "output_type": "stream",
          "name": "stdout",
          "text": [
            "Количество пропусков 2379\n",
            "Количество дубликатов 110016\n"
          ]
        }
      ],
      "source": [
        "describe_column(df_test, 'condition')"
      ]
    },
    {
      "cell_type": "markdown",
      "metadata": {
        "id": "3yI9jnWHS-i2"
      },
      "source": [
        "В поле condition обнаружилось много пропусков. Можно проверить как зависит состояние автомобиля от года выпуска."
      ]
    },
    {
      "cell_type": "code",
      "execution_count": null,
      "metadata": {
        "id": "TEV4cZRxaS-y",
        "colab": {
          "base_uri": "https://localhost:8080/"
        },
        "outputId": "c224bf48-ff50-4da3-8c24-f2d772d6c00f"
      },
      "outputs": [
        {
          "output_type": "execute_result",
          "data": {
            "text/plain": [
              "0.5508631425060206"
            ]
          },
          "metadata": {},
          "execution_count": 65
        }
      ],
      "source": [
        "df_train.condition.corr(df_train.year)"
      ]
    },
    {
      "cell_type": "markdown",
      "metadata": {
        "id": "UuIp1hcUZDvi"
      },
      "source": [
        "Между годом выпуска и состоянием присутствует средняя корреляция, можно заменить это значение на медианное по каждому году."
      ]
    },
    {
      "cell_type": "code",
      "execution_count": null,
      "metadata": {
        "id": "RelbxjBNVZ90"
      },
      "outputs": [],
      "source": [
        "def fill_condition_with_median(df, col1='condition', col2='year'):\n",
        "  '''\n",
        "  col1 - столбец, который заполняем\n",
        "  col2 - столбец, по которому заполняем\n",
        "  '''\n",
        "  print(f'Пропусков до преобразования {len(df[df[col1].isna()])}')\n",
        "  years = df['year'].unique()\n",
        "  for year in years:\n",
        "    try:\n",
        "      median = df[df['year'] == year]['condition'].median()\n",
        "      df.loc[(df[col1].isna()) & (df[col2] == year), col1] = df.loc[(df[col1].isna()) & (df[col2] == year), col1].fillna(median)\n",
        "    except:\n",
        "      pass\n",
        "  print(f'Пропусков после преобразования {len(df[df[col1].isna()])}')"
      ]
    },
    {
      "cell_type": "code",
      "execution_count": null,
      "metadata": {
        "id": "580cC377bhxE",
        "colab": {
          "base_uri": "https://localhost:8080/"
        },
        "outputId": "7632b6d2-3536-4f76-8694-1b8093888927"
      },
      "outputs": [
        {
          "output_type": "stream",
          "name": "stdout",
          "text": [
            "Пропусков до преобразования 9314\n",
            "Пропусков после преобразования 0\n"
          ]
        }
      ],
      "source": [
        "fill_condition_with_median(df_train)"
      ]
    },
    {
      "cell_type": "code",
      "execution_count": null,
      "metadata": {
        "id": "mh1vDUZpb4x_",
        "colab": {
          "base_uri": "https://localhost:8080/"
        },
        "outputId": "a739b279-7886-432d-f814-bb0a71ccbf57"
      },
      "outputs": [
        {
          "output_type": "stream",
          "name": "stdout",
          "text": [
            "Пропусков до преобразования 2379\n",
            "Пропусков после преобразования 0\n"
          ]
        }
      ],
      "source": [
        "fill_condition_with_median(df_test)"
      ]
    },
    {
      "cell_type": "markdown",
      "metadata": {
        "id": "A-bPWWScAPNH"
      },
      "source": [
        "### odometer"
      ]
    },
    {
      "cell_type": "markdown",
      "metadata": {
        "id": "Wwh6HyrcoeQb"
      },
      "source": [
        "Посмотрим на описательную статистику и на боксплот распределения"
      ]
    },
    {
      "cell_type": "code",
      "execution_count": null,
      "metadata": {
        "id": "oYknia0Zjbva",
        "colab": {
          "base_uri": "https://localhost:8080/"
        },
        "outputId": "b8cb4428-cecc-446d-9769-e5fdfadc9574"
      },
      "outputs": [
        {
          "output_type": "execute_result",
          "data": {
            "text/plain": [
              "count    431960.000000\n",
              "mean      67582.718821\n",
              "std       53070.296633\n",
              "min           1.000000\n",
              "25%       28035.000000\n",
              "50%       51265.500000\n",
              "75%       98096.000000\n",
              "max      999999.000000\n",
              "Name: odometer, dtype: float64"
            ]
          },
          "metadata": {},
          "execution_count": 69
        }
      ],
      "source": [
        "df_train['odometer'].describe()"
      ]
    },
    {
      "cell_type": "code",
      "execution_count": null,
      "metadata": {
        "id": "lWDxgQvljpz9",
        "colab": {
          "base_uri": "https://localhost:8080/",
          "height": 462
        },
        "outputId": "fe3f2e59-ae2d-4997-d6fe-dcebae87e0ab"
      },
      "outputs": [
        {
          "output_type": "execute_result",
          "data": {
            "text/plain": [
              "<Axes: >"
            ]
          },
          "metadata": {},
          "execution_count": 70
        },
        {
          "output_type": "display_data",
          "data": {
            "text/plain": [
              "<Figure size 640x480 with 1 Axes>"
            ],
            "image/png": "[encoded data removed]"
          },
          "metadata": {}
        }
      ],
      "source": [
        "sns.boxplot(df_train['odometer'])"
      ]
    },
    {
      "cell_type": "markdown",
      "metadata": {
        "id": "yZBvCkgooiR0"
      },
      "source": [
        "Можно заметить, что в данных присутсвуют выбросы и очень маленькие значения. Выбросами будет считать значения за границей Q3+1.5*IQR."
      ]
    },
    {
      "cell_type": "markdown",
      "metadata": {
        "id": "lYEZAYjNuhJi"
      },
      "source": [
        "Исправим выбросы следующим образом - заменим эти значение медианой пробега, которая считается за время от выпуска автомобиля, до его продажи. Для этого найдем медиану пробега за 1 год эксплуатации по всей выборке и домножим это значение на количество лет эксплуатации автомобиля.\n",
        "Помимо этого также заменим значения пробега меньше 10."
      ]
    },
    {
      "cell_type": "code",
      "execution_count": null,
      "metadata": {
        "id": "g4cQ_kHxugxq"
      },
      "outputs": [],
      "source": [
        "def replace_odometer(df):\n",
        "  median = df['odometer'].median() / (df['sale_year'].median() - df['year'].median())\n",
        "  IQR = df['odometer'].describe()['75%'] - df['odometer'].describe()['25%']\n",
        "  out_IQR =  IQR * 1.5 + df['odometer'].describe()['75%']\n",
        "  print('Выбросов до преобразования', len(df[(df['odometer'] > out_IQR) | (df['odometer'] < 10)]))\n",
        "  df.loc[(df['odometer'] > out_IQR) | (df['odometer'] < 10), 'odometer'] = (df.loc[df['odometer'] > out_IQR, 'sale_year'] -\n",
        "                                                                    df.loc[df['odometer'] > out_IQR, 'year']) * median\n",
        "  print('Выбросов после преобразования', len(df[(df['odometer'] > out_IQR) | (df['odometer'] < 10)]))"
      ]
    },
    {
      "cell_type": "code",
      "execution_count": null,
      "metadata": {
        "id": "mOoC6CXX47C8",
        "colab": {
          "base_uri": "https://localhost:8080/"
        },
        "outputId": "5683e24c-3c82-4de0-9d6c-594c4f2e5bcc"
      },
      "outputs": [
        {
          "output_type": "stream",
          "name": "stdout",
          "text": [
            "Выбросов до преобразования 9312\n",
            "Выбросов после преобразования 4571\n"
          ]
        }
      ],
      "source": [
        "replace_odometer(df_train)"
      ]
    },
    {
      "cell_type": "code",
      "execution_count": null,
      "metadata": {
        "id": "CdCoN5UZ-n-1",
        "colab": {
          "base_uri": "https://localhost:8080/"
        },
        "outputId": "54813dce-57be-429e-a54d-929e9e1d3ce7"
      },
      "outputs": [
        {
          "output_type": "stream",
          "name": "stdout",
          "text": [
            "Выбросов до преобразования 2303\n",
            "Выбросов после преобразования 1090\n"
          ]
        }
      ],
      "source": [
        "replace_odometer(df_test)"
      ]
    },
    {
      "cell_type": "markdown",
      "source": [
        "Удаляем выбросы."
      ],
      "metadata": {
        "id": "91S6eu3cgnws"
      }
    },
    {
      "cell_type": "code",
      "execution_count": null,
      "metadata": {
        "id": "4asYRnOz45h9"
      },
      "outputs": [],
      "source": [
        "df_train = df_train[df_train['odometer'] < 250000]"
      ]
    },
    {
      "cell_type": "markdown",
      "metadata": {
        "id": "vuO7I6qaDoh1"
      },
      "source": [
        "### color"
      ]
    },
    {
      "cell_type": "code",
      "execution_count": null,
      "metadata": {
        "id": "9E41kOey7lBz"
      },
      "outputs": [],
      "source": [
        "def replace_dash(df, column):\n",
        "  '''\n",
        "  column - столбец, где заменяем тире\n",
        "  '''\n",
        "  print('Уникальные значения до преобразования', df[column].sort_values().unique())\n",
        "  df.loc[df[column] == '—', column] = np.nan\n",
        "  print('Уникальные значения после преобразования', df[column].sort_values().unique())"
      ]
    },
    {
      "cell_type": "code",
      "execution_count": null,
      "metadata": {
        "id": "llU6pxToDkA5",
        "colab": {
          "base_uri": "https://localhost:8080/"
        },
        "outputId": "b9a3ad7a-f529-477d-c49d-76c5fe6ec720"
      },
      "outputs": [
        {
          "output_type": "stream",
          "name": "stdout",
          "text": [
            "Уникальные значения до преобразования ['beige' 'black' 'blue' 'brown' 'burgundy' 'charcoal' 'gold' 'gray'\n",
            " 'green' 'lime' 'off-white' 'orange' 'pink' 'purple' 'red' 'silver'\n",
            " 'turquoise' 'white' 'yellow' '—' nan]\n",
            "Уникальные значения после преобразования ['beige' 'black' 'blue' 'brown' 'burgundy' 'charcoal' 'gold' 'gray'\n",
            " 'green' 'lime' 'off-white' 'orange' 'pink' 'purple' 'red' 'silver'\n",
            " 'turquoise' 'white' 'yellow' nan]\n"
          ]
        }
      ],
      "source": [
        "replace_dash(df_train, 'color')"
      ]
    },
    {
      "cell_type": "code",
      "execution_count": null,
      "metadata": {
        "id": "3-rH0tST-_sG",
        "colab": {
          "base_uri": "https://localhost:8080/"
        },
        "outputId": "d748b884-0aff-4c36-96c4-b48cce413b24"
      },
      "outputs": [
        {
          "output_type": "stream",
          "name": "stdout",
          "text": [
            "Уникальные значения до преобразования ['beige' 'black' 'blue' 'brown' 'burgundy' 'charcoal' 'gold' 'gray'\n",
            " 'green' 'lime' 'off-white' 'orange' 'pink' 'purple' 'red' 'silver'\n",
            " 'turquoise' 'white' 'yellow' '—' nan]\n",
            "Уникальные значения после преобразования ['beige' 'black' 'blue' 'brown' 'burgundy' 'charcoal' 'gold' 'gray'\n",
            " 'green' 'lime' 'off-white' 'orange' 'pink' 'purple' 'red' 'silver'\n",
            " 'turquoise' 'white' 'yellow' nan]\n"
          ]
        }
      ],
      "source": [
        "replace_dash(df_test, 'color')"
      ]
    },
    {
      "cell_type": "markdown",
      "metadata": {
        "id": "iTiGDQu4EJmz"
      },
      "source": [
        "### interior\n"
      ]
    },
    {
      "cell_type": "code",
      "execution_count": null,
      "metadata": {
        "id": "rzNjNtHxEM6o",
        "colab": {
          "base_uri": "https://localhost:8080/"
        },
        "outputId": "cd8e519c-d8c5-43e8-c9d4-184e9a220b71"
      },
      "outputs": [
        {
          "output_type": "stream",
          "name": "stdout",
          "text": [
            "Уникальные значения до преобразования ['beige' 'black' 'blue' 'brown' 'burgundy' 'gold' 'gray' 'green'\n",
            " 'off-white' 'orange' 'purple' 'red' 'silver' 'tan' 'white' 'yellow' '—'\n",
            " nan]\n",
            "Уникальные значения после преобразования ['beige' 'black' 'blue' 'brown' 'burgundy' 'gold' 'gray' 'green'\n",
            " 'off-white' 'orange' 'purple' 'red' 'silver' 'tan' 'white' 'yellow' nan]\n"
          ]
        }
      ],
      "source": [
        "replace_dash(df_train, 'interior')"
      ]
    },
    {
      "cell_type": "code",
      "execution_count": null,
      "metadata": {
        "id": "2AKa2BdGEPV4",
        "colab": {
          "base_uri": "https://localhost:8080/"
        },
        "outputId": "0cd392b0-22f3-4fbb-dd2c-a1cff95df7bc"
      },
      "outputs": [
        {
          "output_type": "stream",
          "name": "stdout",
          "text": [
            "Уникальные значения до преобразования ['beige' 'black' 'blue' 'brown' 'burgundy' 'gold' 'gray' 'green'\n",
            " 'off-white' 'orange' 'purple' 'red' 'silver' 'tan' 'white' 'yellow' '—'\n",
            " nan]\n",
            "Уникальные значения после преобразования ['beige' 'black' 'blue' 'brown' 'burgundy' 'gold' 'gray' 'green'\n",
            " 'off-white' 'orange' 'purple' 'red' 'silver' 'tan' 'white' 'yellow' nan]\n"
          ]
        }
      ],
      "source": [
        "replace_dash(df_test, 'interior')"
      ]
    },
    {
      "cell_type": "markdown",
      "metadata": {
        "id": "9SShouXKEeEI"
      },
      "source": [
        "### seller"
      ]
    },
    {
      "cell_type": "markdown",
      "metadata": {
        "id": "I-iqU7Xb6yf_"
      },
      "source": [
        "Столбец seller можно удалить, так как эти данные не относятся к параметрам автомобиля."
      ]
    },
    {
      "cell_type": "code",
      "execution_count": null,
      "metadata": {
        "id": "PxGfDVR069Qx"
      },
      "outputs": [],
      "source": [
        "df_train.drop(columns='seller', inplace=True)\n",
        "df_test.drop(columns='seller', inplace=True)"
      ]
    },
    {
      "cell_type": "markdown",
      "metadata": {
        "id": "F2WjFP3oOxLD"
      },
      "source": [
        "### sellingprice"
      ]
    },
    {
      "cell_type": "code",
      "execution_count": null,
      "metadata": {
        "id": "2XQXiWd2O1pj",
        "colab": {
          "base_uri": "https://localhost:8080/"
        },
        "outputId": "8d9ada2a-1d8b-49f5-8dd1-4d439e814228"
      },
      "outputs": [
        {
          "output_type": "execute_result",
          "data": {
            "text/plain": [
              "count    428782.000000\n",
              "mean      13761.826058\n",
              "std        9700.571440\n",
              "min         100.000000\n",
              "25%        7100.000000\n",
              "50%       12300.000000\n",
              "75%       18300.000000\n",
              "max      230000.000000\n",
              "Name: sellingprice, dtype: float64"
            ]
          },
          "metadata": {},
          "execution_count": 81
        }
      ],
      "source": [
        "df_train.sellingprice.describe()"
      ]
    },
    {
      "cell_type": "code",
      "execution_count": null,
      "metadata": {
        "id": "okjFdFpuuXvk",
        "colab": {
          "base_uri": "https://localhost:8080/",
          "height": 449
        },
        "outputId": "03e1da77-4a25-4918-8571-b49fa451af72"
      },
      "outputs": [
        {
          "output_type": "display_data",
          "data": {
            "text/plain": [
              "<Figure size 640x480 with 1 Axes>"
            ],
            "image/png": "[encoded data removed]"
          },
          "metadata": {}
        }
      ],
      "source": [
        "sns.histplot(df_train.sellingprice);"
      ]
    },
    {
      "cell_type": "markdown",
      "source": [
        "Удаляем выбросы."
      ],
      "metadata": {
        "id": "EV2fiY3fhF7-"
      }
    },
    {
      "cell_type": "code",
      "execution_count": null,
      "metadata": {
        "id": "JzPjrwPwQ8K1"
      },
      "outputs": [],
      "source": [
        "df_train = df_train[df_train.sellingprice > 10]\n",
        "df_train = df_train[df_train.sellingprice < (df_train.sellingprice.describe()['75%'] + (df_train.sellingprice.describe()['75%'] - df_train.sellingprice.describe()['25%']) * 1.5)]"
      ]
    },
    {
      "cell_type": "code",
      "source": [
        "sns.histplot(df_train.sellingprice);"
      ],
      "metadata": {
        "id": "gp3Bwk3SK2Ee",
        "colab": {
          "base_uri": "https://localhost:8080/",
          "height": 449
        },
        "outputId": "2fe19bc5-43d0-4fd7-d419-4a5d100676fa"
      },
      "execution_count": null,
      "outputs": [
        {
          "output_type": "display_data",
          "data": {
            "text/plain": [
              "<Figure size 640x480 with 1 Axes>"
            ],
            "image/png": "[encoded data removed]"
          },
          "metadata": {}
        }
      ]
    },
    {
      "cell_type": "markdown",
      "metadata": {
        "id": "lHlRU2i-foUY"
      },
      "source": [
        "# ML\n",
        "\n"
      ]
    },
    {
      "cell_type": "markdown",
      "source": [
        "## Подготовка признаков"
      ],
      "metadata": {
        "id": "kLi6eygSUKRs"
      }
    },
    {
      "cell_type": "code",
      "source": [
        "columns_to_drop = ['vin']\n",
        "df_for_train = df_train.drop(columns=columns_to_drop)\n",
        "df_test_pr = df_test.drop(columns=columns_to_drop)\n",
        "\n",
        "df_for_train.drop_duplicates(inplace=True)\n",
        "\n",
        "features = df_for_train.drop(columns=['sellingprice'])\n",
        "target = df_for_train.sellingprice\n",
        "\n",
        "features_train, features_valid, target_train, target_valid = train_test_split(features, target, test_size=0.3, random_state=0)\n",
        "\n",
        "num_features = features.select_dtypes(include=('number')).columns.tolist()\n",
        "cat_features = features.select_dtypes('object').columns.tolist()\n",
        "num_features, cat_features"
      ],
      "metadata": {
        "id": "lYeKb-leUJob",
        "colab": {
          "base_uri": "https://localhost:8080/"
        },
        "outputId": "d221bd9f-1ff1-460c-f35e-4dd8fd89afa6"
      },
      "execution_count": null,
      "outputs": [
        {
          "output_type": "execute_result",
          "data": {
            "text/plain": [
              "(['year', 'condition', 'odometer', 'sale_year', 'sale_month', 'is_automatic'],\n",
              " ['make', 'model', 'trim', 'body', 'state', 'color', 'interior'])"
            ]
          },
          "metadata": {},
          "execution_count": 85
        }
      ]
    },
    {
      "cell_type": "markdown",
      "metadata": {
        "id": "51zK9_FkQeJH"
      },
      "source": [
        "## Pipeline"
      ]
    },
    {
      "cell_type": "code",
      "execution_count": null,
      "metadata": {
        "id": "CYnzJJViaE_p"
      },
      "outputs": [],
      "source": [
        "def make_ct():\n",
        "\n",
        "  num_pipeline = Pipeline(steps=[\n",
        "      ('imputer', KNNImputer()),\n",
        "      ('scaler', MinMaxScaler(feature_range=(0, 1)))\n",
        "      ])\n",
        "\n",
        "  cat_pipeline = Pipeline(steps=[\n",
        "      ('imputer', SimpleImputer(strategy='constant', fill_value='nan')),\n",
        "      # ('one-hot', OneHotEncoder(handle_unknown='ignore', drop='first'))\n",
        "      ])\n",
        "\n",
        "  column_transformer = ColumnTransformer(transformers=[('num', num_pipeline, num_features),\n",
        "                                                     ('cat', cat_pipeline, cat_features)],\n",
        "                                         remainder='passthrough'\n",
        "                                        )\n",
        "\n",
        "  return column_transformer\n",
        "column_transformer = make_ct()"
      ]
    },
    {
      "cell_type": "code",
      "execution_count": null,
      "metadata": {
        "id": "vHrLBCMiOQMW"
      },
      "outputs": [],
      "source": [
        "class Preparer(BaseEstimator, TransformerMixin):\n",
        "\n",
        "  def fit(self, X, y=None):\n",
        "    return self\n",
        "\n",
        "  def transform(self, X, y=None):\n",
        "    X = pd.DataFrame(data=X, columns=num_features+cat_features)\n",
        "    return X"
      ]
    },
    {
      "cell_type": "code",
      "execution_count": null,
      "metadata": {
        "id": "IWoRxcJ_nI5C",
        "colab": {
          "base_uri": "https://localhost:8080/",
          "height": 257
        },
        "outputId": "d7c694c0-734c-4732-a1a2-47e3081d1797"
      },
      "outputs": [
        {
          "output_type": "execute_result",
          "data": {
            "text/plain": [
              "Pipeline(steps=[('transoformer',\n",
              "                 ColumnTransformer(remainder='passthrough',\n",
              "                                   transformers=[('num',\n",
              "                                                  Pipeline(steps=[('imputer',\n",
              "                                                                   KNNImputer()),\n",
              "                                                                  ('scaler',\n",
              "                                                                   MinMaxScaler())]),\n",
              "                                                  ['year', 'condition',\n",
              "                                                   'odometer', 'sale_year',\n",
              "                                                   'sale_month',\n",
              "                                                   'is_automatic']),\n",
              "                                                 ('cat',\n",
              "                                                  Pipeline(steps=[('imputer',\n",
              "                                                                   SimpleImputer(fill_value='nan',\n",
              "                                                                                 strategy='constant'))]),\n",
              "                                                  ['make', 'model', 'trim',\n",
              "                                                   'body', 'state', 'color',\n",
              "                                                   'interior'])])),\n",
              "                ('preparer', Preparer()),\n",
              "                ('model',\n",
              "                 <catboost.core.CatBoostRegressor object at 0x7c9389657c10>)])"
            ],
            "text/html": [
              "<style>#sk-container-id-1 {color: black;background-color: white;}#sk-container-id-1 pre{padding: 0;}#sk-container-id-1 div.sk-toggleable {background-color: white;}#sk-container-id-1 label.sk-toggleable__label {cursor: pointer;display: block;width: 100%;margin-bottom: 0;padding: 0.3em;box-sizing: border-box;text-align: center;}#sk-container-id-1 label.sk-toggleable__label-arrow:before {content: \"▸\";float: left;margin-right: 0.25em;color: #696969;}#sk-container-id-1 label.sk-toggleable__label-arrow:hover:before {color: black;}#sk-container-id-1 div.sk-estimator:hover label.sk-toggleable__label-arrow:before {color: black;}#sk-container-id-1 div.sk-toggleable__content {max-height: 0;max-width: 0;overflow: hidden;text-align: left;background-color: #f0f8ff;}#sk-container-id-1 div.sk-toggleable__content pre {margin: 0.2em;color: black;border-radius: 0.25em;background-color: #f0f8ff;}#sk-container-id-1 input.sk-toggleable__control:checked~div.sk-toggleable__content {max-height: 200px;max-width: 100%;overflow: auto;}#sk-container-id-1 input.sk-toggleable__control:checked~label.sk-toggleable__label-arrow:before {content: \"▾\";}#sk-container-id-1 div.sk-estimator input.sk-toggleable__control:checked~label.sk-toggleable__label {background-color: #d4ebff;}#sk-container-id-1 div.sk-label input.sk-toggleable__control:checked~label.sk-toggleable__label {background-color: #d4ebff;}#sk-container-id-1 input.sk-hidden--visually {border: 0;clip: rect(1px 1px 1px 1px);clip: rect(1px, 1px, 1px, 1px);height: 1px;margin: -1px;overflow: hidden;padding: 0;position: absolute;width: 1px;}#sk-container-id-1 div.sk-estimator {font-family: monospace;background-color: #f0f8ff;border: 1px dotted black;border-radius: 0.25em;box-sizing: border-box;margin-bottom: 0.5em;}#sk-container-id-1 div.sk-estimator:hover {background-color: #d4ebff;}#sk-container-id-1 div.sk-parallel-item::after {content: \"\";width: 100%;border-bottom: 1px solid gray;flex-grow: 1;}#sk-container-id-1 div.sk-label:hover label.sk-toggleable__label {background-color: #d4ebff;}#sk-container-id-1 div.sk-serial::before {content: \"\";position: absolute;border-left: 1px solid gray;box-sizing: border-box;top: 0;bottom: 0;left: 50%;z-index: 0;}#sk-container-id-1 div.sk-serial {display: flex;flex-direction: column;align-items: center;background-color: white;padding-right: 0.2em;padding-left: 0.2em;position: relative;}#sk-container-id-1 div.sk-item {position: relative;z-index: 1;}#sk-container-id-1 div.sk-parallel {display: flex;align-items: stretch;justify-content: center;background-color: white;position: relative;}#sk-container-id-1 div.sk-item::before, #sk-container-id-1 div.sk-parallel-item::before {content: \"\";position: absolute;border-left: 1px solid gray;box-sizing: border-box;top: 0;bottom: 0;left: 50%;z-index: -1;}#sk-container-id-1 div.sk-parallel-item {display: flex;flex-direction: column;z-index: 1;position: relative;background-color: white;}#sk-container-id-1 div.sk-parallel-item:first-child::after {align-self: flex-end;width: 50%;}#sk-container-id-1 div.sk-parallel-item:last-child::after {align-self: flex-start;width: 50%;}#sk-container-id-1 div.sk-parallel-item:only-child::after {width: 0;}#sk-container-id-1 div.sk-dashed-wrapped {border: 1px dashed gray;margin: 0 0.4em 0.5em 0.4em;box-sizing: border-box;padding-bottom: 0.4em;background-color: white;}#sk-container-id-1 div.sk-label label {font-family: monospace;font-weight: bold;display: inline-block;line-height: 1.2em;}#sk-container-id-1 div.sk-label-container {text-align: center;}#sk-container-id-1 div.sk-container {/* jupyter's `normalize.less` sets `[hidden] { display: none; }` but bootstrap.min.css set `[hidden] { display: none !important; }` so we also need the `!important` here to be able to override the default hidden behavior on the sphinx rendered scikit-learn.org. See: https://github.com/scikit-learn/scikit-learn/issues/21755 */display: inline-block !important;position: relative;}#sk-container-id-1 div.sk-text-repr-fallback {display: none;}</style><div id=\"sk-container-id-1\" class=\"sk-top-container\"><div class=\"sk-text-repr-fallback\"><pre>Pipeline(steps=[(&#x27;transoformer&#x27;,\n",
              "                 ColumnTransformer(remainder=&#x27;passthrough&#x27;,\n",
              "                                   transformers=[(&#x27;num&#x27;,\n",
              "                                                  Pipeline(steps=[(&#x27;imputer&#x27;,\n",
              "                                                                   KNNImputer()),\n",
              "                                                                  (&#x27;scaler&#x27;,\n",
              "                                                                   MinMaxScaler())]),\n",
              "                                                  [&#x27;year&#x27;, &#x27;condition&#x27;,\n",
              "                                                   &#x27;odometer&#x27;, &#x27;sale_year&#x27;,\n",
              "                                                   &#x27;sale_month&#x27;,\n",
              "                                                   &#x27;is_automatic&#x27;]),\n",
              "                                                 (&#x27;cat&#x27;,\n",
              "                                                  Pipeline(steps=[(&#x27;imputer&#x27;,\n",
              "                                                                   SimpleImputer(fill_value=&#x27;nan&#x27;,\n",
              "                                                                                 strategy=&#x27;constant&#x27;))]),\n",
              "                                                  [&#x27;make&#x27;, &#x27;model&#x27;, &#x27;trim&#x27;,\n",
              "                                                   &#x27;body&#x27;, &#x27;state&#x27;, &#x27;color&#x27;,\n",
              "                                                   &#x27;interior&#x27;])])),\n",
              "                (&#x27;preparer&#x27;, Preparer()),\n",
              "                (&#x27;model&#x27;,\n",
              "                 &lt;catboost.core.CatBoostRegressor object at 0x7c9389657c10&gt;)])</pre><b>In a Jupyter environment, please rerun this cell to show the HTML representation or trust the notebook. <br />On GitHub, the HTML representation is unable to render, please try loading this page with nbviewer.org.</b></div><div class=\"sk-container\" hidden><div class=\"sk-item sk-dashed-wrapped\"><div class=\"sk-label-container\"><div class=\"sk-label sk-toggleable\"><input class=\"sk-toggleable__control sk-hidden--visually\" id=\"sk-estimator-id-1\" type=\"checkbox\" ><label for=\"sk-estimator-id-1\" class=\"sk-toggleable__label sk-toggleable__label-arrow\">Pipeline</label><div class=\"sk-toggleable__content\"><pre>Pipeline(steps=[(&#x27;transoformer&#x27;,\n",
              "                 ColumnTransformer(remainder=&#x27;passthrough&#x27;,\n",
              "                                   transformers=[(&#x27;num&#x27;,\n",
              "                                                  Pipeline(steps=[(&#x27;imputer&#x27;,\n",
              "                                                                   KNNImputer()),\n",
              "                                                                  (&#x27;scaler&#x27;,\n",
              "                                                                   MinMaxScaler())]),\n",
              "                                                  [&#x27;year&#x27;, &#x27;condition&#x27;,\n",
              "                                                   &#x27;odometer&#x27;, &#x27;sale_year&#x27;,\n",
              "                                                   &#x27;sale_month&#x27;,\n",
              "                                                   &#x27;is_automatic&#x27;]),\n",
              "                                                 (&#x27;cat&#x27;,\n",
              "                                                  Pipeline(steps=[(&#x27;imputer&#x27;,\n",
              "                                                                   SimpleImputer(fill_value=&#x27;nan&#x27;,\n",
              "                                                                                 strategy=&#x27;constant&#x27;))]),\n",
              "                                                  [&#x27;make&#x27;, &#x27;model&#x27;, &#x27;trim&#x27;,\n",
              "                                                   &#x27;body&#x27;, &#x27;state&#x27;, &#x27;color&#x27;,\n",
              "                                                   &#x27;interior&#x27;])])),\n",
              "                (&#x27;preparer&#x27;, Preparer()),\n",
              "                (&#x27;model&#x27;,\n",
              "                 &lt;catboost.core.CatBoostRegressor object at 0x7c9389657c10&gt;)])</pre></div></div></div><div class=\"sk-serial\"><div class=\"sk-item sk-dashed-wrapped\"><div class=\"sk-label-container\"><div class=\"sk-label sk-toggleable\"><input class=\"sk-toggleable__control sk-hidden--visually\" id=\"sk-estimator-id-2\" type=\"checkbox\" ><label for=\"sk-estimator-id-2\" class=\"sk-toggleable__label sk-toggleable__label-arrow\">transoformer: ColumnTransformer</label><div class=\"sk-toggleable__content\"><pre>ColumnTransformer(remainder=&#x27;passthrough&#x27;,\n",
              "                  transformers=[(&#x27;num&#x27;,\n",
              "                                 Pipeline(steps=[(&#x27;imputer&#x27;, KNNImputer()),\n",
              "                                                 (&#x27;scaler&#x27;, MinMaxScaler())]),\n",
              "                                 [&#x27;year&#x27;, &#x27;condition&#x27;, &#x27;odometer&#x27;, &#x27;sale_year&#x27;,\n",
              "                                  &#x27;sale_month&#x27;, &#x27;is_automatic&#x27;]),\n",
              "                                (&#x27;cat&#x27;,\n",
              "                                 Pipeline(steps=[(&#x27;imputer&#x27;,\n",
              "                                                  SimpleImputer(fill_value=&#x27;nan&#x27;,\n",
              "                                                                strategy=&#x27;constant&#x27;))]),\n",
              "                                 [&#x27;make&#x27;, &#x27;model&#x27;, &#x27;trim&#x27;, &#x27;body&#x27;, &#x27;state&#x27;,\n",
              "                                  &#x27;color&#x27;, &#x27;interior&#x27;])])</pre></div></div></div><div class=\"sk-parallel\"><div class=\"sk-parallel-item\"><div class=\"sk-item\"><div class=\"sk-label-container\"><div class=\"sk-label sk-toggleable\"><input class=\"sk-toggleable__control sk-hidden--visually\" id=\"sk-estimator-id-3\" type=\"checkbox\" ><label for=\"sk-estimator-id-3\" class=\"sk-toggleable__label sk-toggleable__label-arrow\">num</label><div class=\"sk-toggleable__content\"><pre>[&#x27;year&#x27;, &#x27;condition&#x27;, &#x27;odometer&#x27;, &#x27;sale_year&#x27;, &#x27;sale_month&#x27;, &#x27;is_automatic&#x27;]</pre></div></div></div><div class=\"sk-serial\"><div class=\"sk-item\"><div class=\"sk-serial\"><div class=\"sk-item\"><div class=\"sk-estimator sk-toggleable\"><input class=\"sk-toggleable__control sk-hidden--visually\" id=\"sk-estimator-id-4\" type=\"checkbox\" ><label for=\"sk-estimator-id-4\" class=\"sk-toggleable__label sk-toggleable__label-arrow\">KNNImputer</label><div class=\"sk-toggleable__content\"><pre>KNNImputer()</pre></div></div></div><div class=\"sk-item\"><div class=\"sk-estimator sk-toggleable\"><input class=\"sk-toggleable__control sk-hidden--visually\" id=\"sk-estimator-id-5\" type=\"checkbox\" ><label for=\"sk-estimator-id-5\" class=\"sk-toggleable__label sk-toggleable__label-arrow\">MinMaxScaler</label><div class=\"sk-toggleable__content\"><pre>MinMaxScaler()</pre></div></div></div></div></div></div></div></div><div class=\"sk-parallel-item\"><div class=\"sk-item\"><div class=\"sk-label-container\"><div class=\"sk-label sk-toggleable\"><input class=\"sk-toggleable__control sk-hidden--visually\" id=\"sk-estimator-id-6\" type=\"checkbox\" ><label for=\"sk-estimator-id-6\" class=\"sk-toggleable__label sk-toggleable__label-arrow\">cat</label><div class=\"sk-toggleable__content\"><pre>[&#x27;make&#x27;, &#x27;model&#x27;, &#x27;trim&#x27;, &#x27;body&#x27;, &#x27;state&#x27;, &#x27;color&#x27;, &#x27;interior&#x27;]</pre></div></div></div><div class=\"sk-serial\"><div class=\"sk-item\"><div class=\"sk-serial\"><div class=\"sk-item\"><div class=\"sk-estimator sk-toggleable\"><input class=\"sk-toggleable__control sk-hidden--visually\" id=\"sk-estimator-id-7\" type=\"checkbox\" ><label for=\"sk-estimator-id-7\" class=\"sk-toggleable__label sk-toggleable__label-arrow\">SimpleImputer</label><div class=\"sk-toggleable__content\"><pre>SimpleImputer(fill_value=&#x27;nan&#x27;, strategy=&#x27;constant&#x27;)</pre></div></div></div></div></div></div></div></div><div class=\"sk-parallel-item\"><div class=\"sk-item\"><div class=\"sk-label-container\"><div class=\"sk-label sk-toggleable\"><input class=\"sk-toggleable__control sk-hidden--visually\" id=\"sk-estimator-id-8\" type=\"checkbox\" ><label for=\"sk-estimator-id-8\" class=\"sk-toggleable__label sk-toggleable__label-arrow\">remainder</label><div class=\"sk-toggleable__content\"><pre></pre></div></div></div><div class=\"sk-serial\"><div class=\"sk-item\"><div class=\"sk-estimator sk-toggleable\"><input class=\"sk-toggleable__control sk-hidden--visually\" id=\"sk-estimator-id-9\" type=\"checkbox\" ><label for=\"sk-estimator-id-9\" class=\"sk-toggleable__label sk-toggleable__label-arrow\">passthrough</label><div class=\"sk-toggleable__content\"><pre>passthrough</pre></div></div></div></div></div></div></div></div><div class=\"sk-item\"><div class=\"sk-estimator sk-toggleable\"><input class=\"sk-toggleable__control sk-hidden--visually\" id=\"sk-estimator-id-10\" type=\"checkbox\" ><label for=\"sk-estimator-id-10\" class=\"sk-toggleable__label sk-toggleable__label-arrow\">Preparer</label><div class=\"sk-toggleable__content\"><pre>Preparer()</pre></div></div></div><div class=\"sk-item\"><div class=\"sk-estimator sk-toggleable\"><input class=\"sk-toggleable__control sk-hidden--visually\" id=\"sk-estimator-id-11\" type=\"checkbox\" ><label for=\"sk-estimator-id-11\" class=\"sk-toggleable__label sk-toggleable__label-arrow\">CatBoostRegressor</label><div class=\"sk-toggleable__content\"><pre>&lt;catboost.core.CatBoostRegressor object at 0x7c9389657c10&gt;</pre></div></div></div></div></div></div></div>"
            ]
          },
          "metadata": {},
          "execution_count": 88
        }
      ],
      "source": [
        "def make_pipeline(model):\n",
        "  pipeline = Pipeline(steps=[('transoformer', make_ct()),\n",
        "                           ('preparer', Preparer()),\n",
        "                           ('model', model)\n",
        "                            ])\n",
        "  return pipeline\n",
        "pipeline = make_pipeline(CatBoostRegressor(cat_features=cat_features, verbose=100))\n",
        "pipeline"
      ]
    },
    {
      "cell_type": "markdown",
      "source": [
        "## Важность признаков"
      ],
      "metadata": {
        "id": "R_-fEypLJZjA"
      }
    },
    {
      "cell_type": "code",
      "source": [
        "pipeline.fit(features_train, target_train)"
      ],
      "metadata": {
        "id": "QLSxP24Zn9Hc",
        "colab": {
          "base_uri": "https://localhost:8080/",
          "height": 461
        },
        "outputId": "684ff66e-8ce4-4857-e5db-500d5ede45fd"
      },
      "execution_count": null,
      "outputs": [
        {
          "output_type": "stream",
          "name": "stdout",
          "text": [
            "Learning rate set to 0.10036\n",
            "0:\tlearn: 7187.0670749\ttotal: 540ms\tremaining: 8m 59s\n",
            "100:\tlearn: 2370.0406879\ttotal: 40.1s\tremaining: 5m 57s\n",
            "200:\tlearn: 2108.0083941\ttotal: 1m 20s\tremaining: 5m 19s\n",
            "300:\tlearn: 1993.0105659\ttotal: 2m\tremaining: 4m 40s\n",
            "400:\tlearn: 1917.7720661\ttotal: 2m 42s\tremaining: 4m 2s\n",
            "500:\tlearn: 1863.8810571\ttotal: 3m 24s\tremaining: 3m 23s\n",
            "600:\tlearn: 1815.2692379\ttotal: 4m 22s\tremaining: 2m 53s\n",
            "700:\tlearn: 1780.2290285\ttotal: 5m 3s\tremaining: 2m 9s\n",
            "800:\tlearn: 1751.9948242\ttotal: 5m 47s\tremaining: 1m 26s\n",
            "900:\tlearn: 1728.5948310\ttotal: 6m 30s\tremaining: 42.9s\n",
            "999:\tlearn: 1708.9370958\ttotal: 7m 12s\tremaining: 0us\n"
          ]
        },
        {
          "output_type": "execute_result",
          "data": {
            "text/plain": [
              "Pipeline(steps=[('transoformer',\n",
              "                 ColumnTransformer(remainder='passthrough',\n",
              "                                   transformers=[('num',\n",
              "                                                  Pipeline(steps=[('imputer',\n",
              "                                                                   KNNImputer()),\n",
              "                                                                  ('scaler',\n",
              "                                                                   MinMaxScaler())]),\n",
              "                                                  ['year', 'condition',\n",
              "                                                   'odometer', 'sale_year',\n",
              "                                                   'sale_month',\n",
              "                                                   'is_automatic']),\n",
              "                                                 ('cat',\n",
              "                                                  Pipeline(steps=[('imputer',\n",
              "                                                                   SimpleImputer(fill_value='nan',\n",
              "                                                                                 strategy='constant'))]),\n",
              "                                                  ['make', 'model', 'trim',\n",
              "                                                   'body', 'state', 'color',\n",
              "                                                   'interior'])])),\n",
              "                ('preparer', Preparer()),\n",
              "                ('model',\n",
              "                 <catboost.core.CatBoostRegressor object at 0x7c9389657c10>)])"
            ],
            "text/html": [
              "<style>#sk-container-id-2 {color: black;background-color: white;}#sk-container-id-2 pre{padding: 0;}#sk-container-id-2 div.sk-toggleable {background-color: white;}#sk-container-id-2 label.sk-toggleable__label {cursor: pointer;display: block;width: 100%;margin-bottom: 0;padding: 0.3em;box-sizing: border-box;text-align: center;}#sk-container-id-2 label.sk-toggleable__label-arrow:before {content: \"▸\";float: left;margin-right: 0.25em;color: #696969;}#sk-container-id-2 label.sk-toggleable__label-arrow:hover:before {color: black;}#sk-container-id-2 div.sk-estimator:hover label.sk-toggleable__label-arrow:before {color: black;}#sk-container-id-2 div.sk-toggleable__content {max-height: 0;max-width: 0;overflow: hidden;text-align: left;background-color: #f0f8ff;}#sk-container-id-2 div.sk-toggleable__content pre {margin: 0.2em;color: black;border-radius: 0.25em;background-color: #f0f8ff;}#sk-container-id-2 input.sk-toggleable__control:checked~div.sk-toggleable__content {max-height: 200px;max-width: 100%;overflow: auto;}#sk-container-id-2 input.sk-toggleable__control:checked~label.sk-toggleable__label-arrow:before {content: \"▾\";}#sk-container-id-2 div.sk-estimator input.sk-toggleable__control:checked~label.sk-toggleable__label {background-color: #d4ebff;}#sk-container-id-2 div.sk-label input.sk-toggleable__control:checked~label.sk-toggleable__label {background-color: #d4ebff;}#sk-container-id-2 input.sk-hidden--visually {border: 0;clip: rect(1px 1px 1px 1px);clip: rect(1px, 1px, 1px, 1px);height: 1px;margin: -1px;overflow: hidden;padding: 0;position: absolute;width: 1px;}#sk-container-id-2 div.sk-estimator {font-family: monospace;background-color: #f0f8ff;border: 1px dotted black;border-radius: 0.25em;box-sizing: border-box;margin-bottom: 0.5em;}#sk-container-id-2 div.sk-estimator:hover {background-color: #d4ebff;}#sk-container-id-2 div.sk-parallel-item::after {content: \"\";width: 100%;border-bottom: 1px solid gray;flex-grow: 1;}#sk-container-id-2 div.sk-label:hover label.sk-toggleable__label {background-color: #d4ebff;}#sk-container-id-2 div.sk-serial::before {content: \"\";position: absolute;border-left: 1px solid gray;box-sizing: border-box;top: 0;bottom: 0;left: 50%;z-index: 0;}#sk-container-id-2 div.sk-serial {display: flex;flex-direction: column;align-items: center;background-color: white;padding-right: 0.2em;padding-left: 0.2em;position: relative;}#sk-container-id-2 div.sk-item {position: relative;z-index: 1;}#sk-container-id-2 div.sk-parallel {display: flex;align-items: stretch;justify-content: center;background-color: white;position: relative;}#sk-container-id-2 div.sk-item::before, #sk-container-id-2 div.sk-parallel-item::before {content: \"\";position: absolute;border-left: 1px solid gray;box-sizing: border-box;top: 0;bottom: 0;left: 50%;z-index: -1;}#sk-container-id-2 div.sk-parallel-item {display: flex;flex-direction: column;z-index: 1;position: relative;background-color: white;}#sk-container-id-2 div.sk-parallel-item:first-child::after {align-self: flex-end;width: 50%;}#sk-container-id-2 div.sk-parallel-item:last-child::after {align-self: flex-start;width: 50%;}#sk-container-id-2 div.sk-parallel-item:only-child::after {width: 0;}#sk-container-id-2 div.sk-dashed-wrapped {border: 1px dashed gray;margin: 0 0.4em 0.5em 0.4em;box-sizing: border-box;padding-bottom: 0.4em;background-color: white;}#sk-container-id-2 div.sk-label label {font-family: monospace;font-weight: bold;display: inline-block;line-height: 1.2em;}#sk-container-id-2 div.sk-label-container {text-align: center;}#sk-container-id-2 div.sk-container {/* jupyter's `normalize.less` sets `[hidden] { display: none; }` but bootstrap.min.css set `[hidden] { display: none !important; }` so we also need the `!important` here to be able to override the default hidden behavior on the sphinx rendered scikit-learn.org. See: https://github.com/scikit-learn/scikit-learn/issues/21755 */display: inline-block !important;position: relative;}#sk-container-id-2 div.sk-text-repr-fallback {display: none;}</style><div id=\"sk-container-id-2\" class=\"sk-top-container\"><div class=\"sk-text-repr-fallback\"><pre>Pipeline(steps=[(&#x27;transoformer&#x27;,\n",
              "                 ColumnTransformer(remainder=&#x27;passthrough&#x27;,\n",
              "                                   transformers=[(&#x27;num&#x27;,\n",
              "                                                  Pipeline(steps=[(&#x27;imputer&#x27;,\n",
              "                                                                   KNNImputer()),\n",
              "                                                                  (&#x27;scaler&#x27;,\n",
              "                                                                   MinMaxScaler())]),\n",
              "                                                  [&#x27;year&#x27;, &#x27;condition&#x27;,\n",
              "                                                   &#x27;odometer&#x27;, &#x27;sale_year&#x27;,\n",
              "                                                   &#x27;sale_month&#x27;,\n",
              "                                                   &#x27;is_automatic&#x27;]),\n",
              "                                                 (&#x27;cat&#x27;,\n",
              "                                                  Pipeline(steps=[(&#x27;imputer&#x27;,\n",
              "                                                                   SimpleImputer(fill_value=&#x27;nan&#x27;,\n",
              "                                                                                 strategy=&#x27;constant&#x27;))]),\n",
              "                                                  [&#x27;make&#x27;, &#x27;model&#x27;, &#x27;trim&#x27;,\n",
              "                                                   &#x27;body&#x27;, &#x27;state&#x27;, &#x27;color&#x27;,\n",
              "                                                   &#x27;interior&#x27;])])),\n",
              "                (&#x27;preparer&#x27;, Preparer()),\n",
              "                (&#x27;model&#x27;,\n",
              "                 &lt;catboost.core.CatBoostRegressor object at 0x7c9389657c10&gt;)])</pre><b>In a Jupyter environment, please rerun this cell to show the HTML representation or trust the notebook. <br />On GitHub, the HTML representation is unable to render, please try loading this page with nbviewer.org.</b></div><div class=\"sk-container\" hidden><div class=\"sk-item sk-dashed-wrapped\"><div class=\"sk-label-container\"><div class=\"sk-label sk-toggleable\"><input class=\"sk-toggleable__control sk-hidden--visually\" id=\"sk-estimator-id-12\" type=\"checkbox\" ><label for=\"sk-estimator-id-12\" class=\"sk-toggleable__label sk-toggleable__label-arrow\">Pipeline</label><div class=\"sk-toggleable__content\"><pre>Pipeline(steps=[(&#x27;transoformer&#x27;,\n",
              "                 ColumnTransformer(remainder=&#x27;passthrough&#x27;,\n",
              "                                   transformers=[(&#x27;num&#x27;,\n",
              "                                                  Pipeline(steps=[(&#x27;imputer&#x27;,\n",
              "                                                                   KNNImputer()),\n",
              "                                                                  (&#x27;scaler&#x27;,\n",
              "                                                                   MinMaxScaler())]),\n",
              "                                                  [&#x27;year&#x27;, &#x27;condition&#x27;,\n",
              "                                                   &#x27;odometer&#x27;, &#x27;sale_year&#x27;,\n",
              "                                                   &#x27;sale_month&#x27;,\n",
              "                                                   &#x27;is_automatic&#x27;]),\n",
              "                                                 (&#x27;cat&#x27;,\n",
              "                                                  Pipeline(steps=[(&#x27;imputer&#x27;,\n",
              "                                                                   SimpleImputer(fill_value=&#x27;nan&#x27;,\n",
              "                                                                                 strategy=&#x27;constant&#x27;))]),\n",
              "                                                  [&#x27;make&#x27;, &#x27;model&#x27;, &#x27;trim&#x27;,\n",
              "                                                   &#x27;body&#x27;, &#x27;state&#x27;, &#x27;color&#x27;,\n",
              "                                                   &#x27;interior&#x27;])])),\n",
              "                (&#x27;preparer&#x27;, Preparer()),\n",
              "                (&#x27;model&#x27;,\n",
              "                 &lt;catboost.core.CatBoostRegressor object at 0x7c9389657c10&gt;)])</pre></div></div></div><div class=\"sk-serial\"><div class=\"sk-item sk-dashed-wrapped\"><div class=\"sk-label-container\"><div class=\"sk-label sk-toggleable\"><input class=\"sk-toggleable__control sk-hidden--visually\" id=\"sk-estimator-id-13\" type=\"checkbox\" ><label for=\"sk-estimator-id-13\" class=\"sk-toggleable__label sk-toggleable__label-arrow\">transoformer: ColumnTransformer</label><div class=\"sk-toggleable__content\"><pre>ColumnTransformer(remainder=&#x27;passthrough&#x27;,\n",
              "                  transformers=[(&#x27;num&#x27;,\n",
              "                                 Pipeline(steps=[(&#x27;imputer&#x27;, KNNImputer()),\n",
              "                                                 (&#x27;scaler&#x27;, MinMaxScaler())]),\n",
              "                                 [&#x27;year&#x27;, &#x27;condition&#x27;, &#x27;odometer&#x27;, &#x27;sale_year&#x27;,\n",
              "                                  &#x27;sale_month&#x27;, &#x27;is_automatic&#x27;]),\n",
              "                                (&#x27;cat&#x27;,\n",
              "                                 Pipeline(steps=[(&#x27;imputer&#x27;,\n",
              "                                                  SimpleImputer(fill_value=&#x27;nan&#x27;,\n",
              "                                                                strategy=&#x27;constant&#x27;))]),\n",
              "                                 [&#x27;make&#x27;, &#x27;model&#x27;, &#x27;trim&#x27;, &#x27;body&#x27;, &#x27;state&#x27;,\n",
              "                                  &#x27;color&#x27;, &#x27;interior&#x27;])])</pre></div></div></div><div class=\"sk-parallel\"><div class=\"sk-parallel-item\"><div class=\"sk-item\"><div class=\"sk-label-container\"><div class=\"sk-label sk-toggleable\"><input class=\"sk-toggleable__control sk-hidden--visually\" id=\"sk-estimator-id-14\" type=\"checkbox\" ><label for=\"sk-estimator-id-14\" class=\"sk-toggleable__label sk-toggleable__label-arrow\">num</label><div class=\"sk-toggleable__content\"><pre>[&#x27;year&#x27;, &#x27;condition&#x27;, &#x27;odometer&#x27;, &#x27;sale_year&#x27;, &#x27;sale_month&#x27;, &#x27;is_automatic&#x27;]</pre></div></div></div><div class=\"sk-serial\"><div class=\"sk-item\"><div class=\"sk-serial\"><div class=\"sk-item\"><div class=\"sk-estimator sk-toggleable\"><input class=\"sk-toggleable__control sk-hidden--visually\" id=\"sk-estimator-id-15\" type=\"checkbox\" ><label for=\"sk-estimator-id-15\" class=\"sk-toggleable__label sk-toggleable__label-arrow\">KNNImputer</label><div class=\"sk-toggleable__content\"><pre>KNNImputer()</pre></div></div></div><div class=\"sk-item\"><div class=\"sk-estimator sk-toggleable\"><input class=\"sk-toggleable__control sk-hidden--visually\" id=\"sk-estimator-id-16\" type=\"checkbox\" ><label for=\"sk-estimator-id-16\" class=\"sk-toggleable__label sk-toggleable__label-arrow\">MinMaxScaler</label><div class=\"sk-toggleable__content\"><pre>MinMaxScaler()</pre></div></div></div></div></div></div></div></div><div class=\"sk-parallel-item\"><div class=\"sk-item\"><div class=\"sk-label-container\"><div class=\"sk-label sk-toggleable\"><input class=\"sk-toggleable__control sk-hidden--visually\" id=\"sk-estimator-id-17\" type=\"checkbox\" ><label for=\"sk-estimator-id-17\" class=\"sk-toggleable__label sk-toggleable__label-arrow\">cat</label><div class=\"sk-toggleable__content\"><pre>[&#x27;make&#x27;, &#x27;model&#x27;, &#x27;trim&#x27;, &#x27;body&#x27;, &#x27;state&#x27;, &#x27;color&#x27;, &#x27;interior&#x27;]</pre></div></div></div><div class=\"sk-serial\"><div class=\"sk-item\"><div class=\"sk-serial\"><div class=\"sk-item\"><div class=\"sk-estimator sk-toggleable\"><input class=\"sk-toggleable__control sk-hidden--visually\" id=\"sk-estimator-id-18\" type=\"checkbox\" ><label for=\"sk-estimator-id-18\" class=\"sk-toggleable__label sk-toggleable__label-arrow\">SimpleImputer</label><div class=\"sk-toggleable__content\"><pre>SimpleImputer(fill_value=&#x27;nan&#x27;, strategy=&#x27;constant&#x27;)</pre></div></div></div></div></div></div></div></div><div class=\"sk-parallel-item\"><div class=\"sk-item\"><div class=\"sk-label-container\"><div class=\"sk-label sk-toggleable\"><input class=\"sk-toggleable__control sk-hidden--visually\" id=\"sk-estimator-id-19\" type=\"checkbox\" ><label for=\"sk-estimator-id-19\" class=\"sk-toggleable__label sk-toggleable__label-arrow\">remainder</label><div class=\"sk-toggleable__content\"><pre>[]</pre></div></div></div><div class=\"sk-serial\"><div class=\"sk-item\"><div class=\"sk-estimator sk-toggleable\"><input class=\"sk-toggleable__control sk-hidden--visually\" id=\"sk-estimator-id-20\" type=\"checkbox\" ><label for=\"sk-estimator-id-20\" class=\"sk-toggleable__label sk-toggleable__label-arrow\">passthrough</label><div class=\"sk-toggleable__content\"><pre>passthrough</pre></div></div></div></div></div></div></div></div><div class=\"sk-item\"><div class=\"sk-estimator sk-toggleable\"><input class=\"sk-toggleable__control sk-hidden--visually\" id=\"sk-estimator-id-21\" type=\"checkbox\" ><label for=\"sk-estimator-id-21\" class=\"sk-toggleable__label sk-toggleable__label-arrow\">Preparer</label><div class=\"sk-toggleable__content\"><pre>Preparer()</pre></div></div></div><div class=\"sk-item\"><div class=\"sk-estimator sk-toggleable\"><input class=\"sk-toggleable__control sk-hidden--visually\" id=\"sk-estimator-id-22\" type=\"checkbox\" ><label for=\"sk-estimator-id-22\" class=\"sk-toggleable__label sk-toggleable__label-arrow\">CatBoostRegressor</label><div class=\"sk-toggleable__content\"><pre>&lt;catboost.core.CatBoostRegressor object at 0x7c9389657c10&gt;</pre></div></div></div></div></div></div></div>"
            ]
          },
          "metadata": {},
          "execution_count": 89
        }
      ]
    },
    {
      "cell_type": "code",
      "source": [
        "importances = pd.DataFrame({\"features\": pipeline[-1].feature_names_, \"scores\": pipeline[-1].feature_importances_}).sort_values(by='scores', ascending=False)\n",
        "importances"
      ],
      "metadata": {
        "id": "EE5gW88FJU-s",
        "colab": {
          "base_uri": "https://localhost:8080/",
          "height": 452
        },
        "outputId": "ca5d0276-6a82-4a27-feb7-0587acb6bbf0"
      },
      "execution_count": null,
      "outputs": [
        {
          "output_type": "execute_result",
          "data": {
            "text/plain": [
              "        features     scores\n",
              "0           year  18.796935\n",
              "6           make  18.242721\n",
              "2       odometer  16.523062\n",
              "9           body  16.428683\n",
              "7          model  15.727709\n",
              "8           trim   7.145376\n",
              "1      condition   5.320104\n",
              "12      interior   0.737364\n",
              "10         state   0.509582\n",
              "4     sale_month   0.319811\n",
              "5   is_automatic   0.113399\n",
              "11         color   0.112852\n",
              "3      sale_year   0.022401"
            ],
            "text/html": [
              "\n",
              "  <div id=\"df-9cbe63d7-15a5-46ef-b064-d5a38256a616\" class=\"colab-df-container\">\n",
              "    <div>\n",
              "<style scoped>\n",
              "    .dataframe tbody tr th:only-of-type {\n",
              "        vertical-align: middle;\n",
              "    }\n",
              "\n",
              "    .dataframe tbody tr th {\n",
              "        vertical-align: top;\n",
              "    }\n",
              "\n",
              "    .dataframe thead th {\n",
              "        text-align: right;\n",
              "    }\n",
              "</style>\n",
              "<table border=\"1\" class=\"dataframe\">\n",
              "  <thead>\n",
              "    <tr style=\"text-align: right;\">\n",
              "      <th></th>\n",
              "      <th>features</th>\n",
              "      <th>scores</th>\n",
              "    </tr>\n",
              "  </thead>\n",
              "  <tbody>\n",
              "    <tr>\n",
              "      <th>0</th>\n",
              "      <td>year</td>\n",
              "      <td>18.796935</td>\n",
              "    </tr>\n",
              "    <tr>\n",
              "      <th>6</th>\n",
              "      <td>make</td>\n",
              "      <td>18.242721</td>\n",
              "    </tr>\n",
              "    <tr>\n",
              "      <th>2</th>\n",
              "      <td>odometer</td>\n",
              "      <td>16.523062</td>\n",
              "    </tr>\n",
              "    <tr>\n",
              "      <th>9</th>\n",
              "      <td>body</td>\n",
              "      <td>16.428683</td>\n",
              "    </tr>\n",
              "    <tr>\n",
              "      <th>7</th>\n",
              "      <td>model</td>\n",
              "      <td>15.727709</td>\n",
              "    </tr>\n",
              "    <tr>\n",
              "      <th>8</th>\n",
              "      <td>trim</td>\n",
              "      <td>7.145376</td>\n",
              "    </tr>\n",
              "    <tr>\n",
              "      <th>1</th>\n",
              "      <td>condition</td>\n",
              "      <td>5.320104</td>\n",
              "    </tr>\n",
              "    <tr>\n",
              "      <th>12</th>\n",
              "      <td>interior</td>\n",
              "      <td>0.737364</td>\n",
              "    </tr>\n",
              "    <tr>\n",
              "      <th>10</th>\n",
              "      <td>state</td>\n",
              "      <td>0.509582</td>\n",
              "    </tr>\n",
              "    <tr>\n",
              "      <th>4</th>\n",
              "      <td>sale_month</td>\n",
              "      <td>0.319811</td>\n",
              "    </tr>\n",
              "    <tr>\n",
              "      <th>5</th>\n",
              "      <td>is_automatic</td>\n",
              "      <td>0.113399</td>\n",
              "    </tr>\n",
              "    <tr>\n",
              "      <th>11</th>\n",
              "      <td>color</td>\n",
              "      <td>0.112852</td>\n",
              "    </tr>\n",
              "    <tr>\n",
              "      <th>3</th>\n",
              "      <td>sale_year</td>\n",
              "      <td>0.022401</td>\n",
              "    </tr>\n",
              "  </tbody>\n",
              "</table>\n",
              "</div>\n",
              "    <div class=\"colab-df-buttons\">\n",
              "\n",
              "  <div class=\"colab-df-container\">\n",
              "    <button class=\"colab-df-convert\" onclick=\"convertToInteractive('df-9cbe63d7-15a5-46ef-b064-d5a38256a616')\"\n",
              "            title=\"Convert this dataframe to an interactive table.\"\n",
              "            style=\"display:none;\">\n",
              "\n",
              "  <svg xmlns=\"http://www.w3.org/2000/svg\" height=\"24px\" viewBox=\"0 -960 960 960\">\n",
              "    <path d=\"M120-120v-720h720v720H120Zm60-500h600v-160H180v160Zm220 220h160v-160H400v160Zm0 220h160v-160H400v160ZM180-400h160v-160H180v160Zm440 0h160v-160H620v160ZM180-180h160v-160H180v160Zm440 0h160v-160H620v160Z\"/>\n",
              "  </svg>\n",
              "    </button>\n",
              "\n",
              "  <style>\n",
              "    .colab-df-container {\n",
              "      display:flex;\n",
              "      gap: 12px;\n",
              "    }\n",
              "\n",
              "    .colab-df-convert {\n",
              "      background-color: #E8F0FE;\n",
              "      border: none;\n",
              "      border-radius: 50%;\n",
              "      cursor: pointer;\n",
              "      display: none;\n",
              "      fill: #1967D2;\n",
              "      height: 32px;\n",
              "      padding: 0 0 0 0;\n",
              "      width: 32px;\n",
              "    }\n",
              "\n",
              "    .colab-df-convert:hover {\n",
              "      background-color: #E2EBFA;\n",
              "      box-shadow: 0px 1px 2px rgba(60, 64, 67, 0.3), 0px 1px 3px 1px rgba(60, 64, 67, 0.15);\n",
              "      fill: #174EA6;\n",
              "    }\n",
              "\n",
              "    .colab-df-buttons div {\n",
              "      margin-bottom: 4px;\n",
              "    }\n",
              "\n",
              "    [theme=dark] .colab-df-convert {\n",
              "      background-color: #3B4455;\n",
              "      fill: #D2E3FC;\n",
              "    }\n",
              "\n",
              "    [theme=dark] .colab-df-convert:hover {\n",
              "      background-color: #434B5C;\n",
              "      box-shadow: 0px 1px 3px 1px rgba(0, 0, 0, 0.15);\n",
              "      filter: drop-shadow(0px 1px 2px rgba(0, 0, 0, 0.3));\n",
              "      fill: #FFFFFF;\n",
              "    }\n",
              "  </style>\n",
              "\n",
              "    <script>\n",
              "      const buttonEl =\n",
              "        document.querySelector('#df-9cbe63d7-15a5-46ef-b064-d5a38256a616 button.colab-df-convert');\n",
              "      buttonEl.style.display =\n",
              "        google.colab.kernel.accessAllowed ? 'block' : 'none';\n",
              "\n",
              "      async function convertToInteractive(key) {\n",
              "        const element = document.querySelector('#df-9cbe63d7-15a5-46ef-b064-d5a38256a616');\n",
              "        const dataTable =\n",
              "          await google.colab.kernel.invokeFunction('convertToInteractive',\n",
              "                                                    [key], {});\n",
              "        if (!dataTable) return;\n",
              "\n",
              "        const docLinkHtml = 'Like what you see? Visit the ' +\n",
              "          '<a target=\"_blank\" href=https://colab.research.google.com/notebooks/data_table.ipynb>data table notebook</a>'\n",
              "          + ' to learn more about interactive tables.';\n",
              "        element.innerHTML = '';\n",
              "        dataTable['output_type'] = 'display_data';\n",
              "        await google.colab.output.renderOutput(dataTable, element);\n",
              "        const docLink = document.createElement('div');\n",
              "        docLink.innerHTML = docLinkHtml;\n",
              "        element.appendChild(docLink);\n",
              "      }\n",
              "    </script>\n",
              "  </div>\n",
              "\n",
              "\n",
              "<div id=\"df-4dbc2f25-0c73-4232-870b-f3f7f53bde9f\">\n",
              "  <button class=\"colab-df-quickchart\" onclick=\"quickchart('df-4dbc2f25-0c73-4232-870b-f3f7f53bde9f')\"\n",
              "            title=\"Suggest charts.\"\n",
              "            style=\"display:none;\">\n",
              "\n",
              "<svg xmlns=\"http://www.w3.org/2000/svg\" height=\"24px\"viewBox=\"0 0 24 24\"\n",
              "     width=\"24px\">\n",
              "    <g>\n",
              "        <path d=\"M19 3H5c-1.1 0-2 .9-2 2v14c0 1.1.9 2 2 2h14c1.1 0 2-.9 2-2V5c0-1.1-.9-2-2-2zM9 17H7v-7h2v7zm4 0h-2V7h2v10zm4 0h-2v-4h2v4z\"/>\n",
              "    </g>\n",
              "</svg>\n",
              "  </button>\n",
              "\n",
              "<style>\n",
              "  .colab-df-quickchart {\n",
              "    background-color: #E8F0FE;\n",
              "    border: none;\n",
              "    border-radius: 50%;\n",
              "    cursor: pointer;\n",
              "    display: none;\n",
              "    fill: #1967D2;\n",
              "    height: 32px;\n",
              "    padding: 0 0 0 0;\n",
              "    width: 32px;\n",
              "  }\n",
              "\n",
              "  .colab-df-quickchart:hover {\n",
              "    background-color: #E2EBFA;\n",
              "    box-shadow: 0px 1px 2px rgba(60, 64, 67, 0.3), 0px 1px 3px 1px rgba(60, 64, 67, 0.15);\n",
              "    fill: #174EA6;\n",
              "  }\n",
              "\n",
              "  [theme=dark] .colab-df-quickchart {\n",
              "    background-color: #3B4455;\n",
              "    fill: #D2E3FC;\n",
              "  }\n",
              "\n",
              "  [theme=dark] .colab-df-quickchart:hover {\n",
              "    background-color: #434B5C;\n",
              "    box-shadow: 0px 1px 3px 1px rgba(0, 0, 0, 0.15);\n",
              "    filter: drop-shadow(0px 1px 2px rgba(0, 0, 0, 0.3));\n",
              "    fill: #FFFFFF;\n",
              "  }\n",
              "</style>\n",
              "\n",
              "  <script>\n",
              "    async function quickchart(key) {\n",
              "      const charts = await google.colab.kernel.invokeFunction(\n",
              "          'suggestCharts', [key], {});\n",
              "    }\n",
              "    (() => {\n",
              "      let quickchartButtonEl =\n",
              "        document.querySelector('#df-4dbc2f25-0c73-4232-870b-f3f7f53bde9f button');\n",
              "      quickchartButtonEl.style.display =\n",
              "        google.colab.kernel.accessAllowed ? 'block' : 'none';\n",
              "    })();\n",
              "  </script>\n",
              "</div>\n",
              "    </div>\n",
              "  </div>\n"
            ]
          },
          "metadata": {},
          "execution_count": 90
        }
      ]
    },
    {
      "cell_type": "markdown",
      "source": [
        "Формируем итоговый список признаков"
      ],
      "metadata": {
        "id": "9Ah2B-0kJiKV"
      }
    },
    {
      "cell_type": "code",
      "source": [
        "columns_to_drop = importances.loc[importances['scores'] < 10, 'features'].tolist()\n",
        "columns_to_drop.append('vin')\n",
        "columns_to_drop"
      ],
      "metadata": {
        "id": "C4N3EsppVEDr",
        "colab": {
          "base_uri": "https://localhost:8080/"
        },
        "outputId": "fd16d9a0-08e1-44ed-c587-37e42d3dae73"
      },
      "execution_count": null,
      "outputs": [
        {
          "output_type": "execute_result",
          "data": {
            "text/plain": [
              "['trim',\n",
              " 'condition',\n",
              " 'interior',\n",
              " 'state',\n",
              " 'sale_month',\n",
              " 'is_automatic',\n",
              " 'color',\n",
              " 'sale_year',\n",
              " 'vin']"
            ]
          },
          "metadata": {},
          "execution_count": 91
        }
      ]
    },
    {
      "cell_type": "code",
      "source": [
        "df_for_train = df_train.drop(columns=columns_to_drop)\n",
        "df_test_pr = df_test.drop(columns=columns_to_drop)\n",
        "\n",
        "df_for_train.drop_duplicates(inplace=True)\n",
        "\n",
        "features = df_for_train.drop(columns=['sellingprice'])\n",
        "target = df_for_train.sellingprice\n",
        "\n",
        "features_train, features_valid, target_train, target_valid = train_test_split(features, target, test_size=0.3, random_state=0)\n",
        "\n",
        "num_features = features.select_dtypes(include=('number')).columns.tolist()\n",
        "cat_features = features.select_dtypes('object').columns.tolist()\n",
        "num_features, cat_features"
      ],
      "metadata": {
        "id": "sWfLi34nVbFl",
        "colab": {
          "base_uri": "https://localhost:8080/"
        },
        "outputId": "079b1bda-3dde-48c3-8eab-eb0ba55417b7"
      },
      "execution_count": null,
      "outputs": [
        {
          "output_type": "execute_result",
          "data": {
            "text/plain": [
              "(['year', 'odometer'], ['make', 'model', 'body'])"
            ]
          },
          "metadata": {},
          "execution_count": 92
        }
      ]
    },
    {
      "cell_type": "code",
      "source": [
        "column_transformer = make_ct()"
      ],
      "metadata": {
        "id": "UT7SFSwYJhjK"
      },
      "execution_count": null,
      "outputs": []
    },
    {
      "cell_type": "markdown",
      "source": [
        "## Optuna"
      ],
      "metadata": {
        "id": "-j1vdswfF39w"
      }
    },
    {
      "cell_type": "markdown",
      "source": [
        "Качество модели будет оцениваться по метрике MAPE"
      ],
      "metadata": {
        "id": "HvTqs3S5k44o"
      }
    },
    {
      "cell_type": "code",
      "execution_count": null,
      "metadata": {
        "id": "J0AyGsi9PHuU"
      },
      "outputs": [],
      "source": [
        "def objective(trial):\n",
        "\n",
        "  params = {\n",
        "    \"iterations\": trial.suggest_int(\"iterations\", 1, 1000),\n",
        "    \"learning_rate\": trial.suggest_float(\"learning_rate\", 0.01, 0.3, log=True),\n",
        "    \"depth\": trial.suggest_int(\"depth\", 5, 15)\n",
        "    # \"colsample_bylevel\": trial.suggest_float(\"colsample_bylevel\", 0.05, 1.0),\n",
        "    # \"min_data_in_leaf\": trial.suggest_int(\"min_data_in_leaf\", 1, 100),\n",
        "  }\n",
        "\n",
        "  model = CatBoostRegressor(**params, cat_features=cat_features, verbose=100)\n",
        "\n",
        "  pipeline = Pipeline(steps=[('transoformer', column_transformer),\n",
        "                           ('preparer', Preparer()),\n",
        "                           ('model', model)\n",
        "                    ])\n",
        "\n",
        "  pipeline.fit(features_train, target_train)\n",
        "\n",
        "  mape = mean_absolute_percentage_error(pipeline.predict(features_valid), target_valid)\n",
        "\n",
        "  return mape"
      ]
    },
    {
      "cell_type": "code",
      "execution_count": null,
      "metadata": {
        "id": "iwG82JHtduhl",
        "colab": {
          "base_uri": "https://localhost:8080/"
        },
        "outputId": "54eabd31-903b-497c-93ef-edffead3eafa"
      },
      "outputs": [
        {
          "metadata": {
            "tags": null
          },
          "name": "stderr",
          "output_type": "stream",
          "text": [
            "[I 2023-08-23 07:42:38,368] A new study created in memory with name: no-name-5103e92f-5abc-42f8-9a2f-18575f8faf4f\n"
          ]
        },
        {
          "metadata": {
            "tags": null
          },
          "name": "stdout",
          "output_type": "stream",
          "text": [
            "0:\tlearn: 6728.2497796\ttotal: 788ms\tremaining: 3m 17s\n",
            "100:\tlearn: 2125.4035614\ttotal: 1m 20s\tremaining: 1m 59s\n",
            "200:\tlearn: 2028.7589682\ttotal: 2m 41s\tremaining: 40.2s\n",
            "250:\tlearn: 1997.9125371\ttotal: 3m 23s\tremaining: 0us\n"
          ]
        },
        {
          "metadata": {
            "tags": null
          },
          "name": "stderr",
          "output_type": "stream",
          "text": [
            "[I 2023-08-23 07:46:05,641] Trial 0 finished with value: 0.1583145362878909 and parameters: {'iterations': 251, 'learning_rate': 0.17990491192796293, 'depth': 14}. Best is trial 0 with value: 0.1583145362878909.\n"
          ]
        },
        {
          "metadata": {
            "tags": null
          },
          "name": "stdout",
          "output_type": "stream",
          "text": [
            "0:\tlearn: 7495.7655061\ttotal: 207ms\tremaining: 30.8s\n",
            "100:\tlearn: 3340.1233805\ttotal: 9.48s\tremaining: 4.6s\n",
            "149:\tlearn: 3104.1064811\ttotal: 15.2s\tremaining: 0us\n"
          ]
        },
        {
          "metadata": {
            "tags": null
          },
          "name": "stderr",
          "output_type": "stream",
          "text": [
            "[I 2023-08-23 07:46:22,361] Trial 1 finished with value: 0.20164768838451064 and parameters: {'iterations': 150, 'learning_rate': 0.03894849335797291, 'depth': 7}. Best is trial 0 with value: 0.1583145362878909.\n"
          ]
        },
        {
          "metadata": {
            "tags": null
          },
          "name": "stdout",
          "output_type": "stream",
          "text": [
            "0:\tlearn: 7164.8449030\ttotal: 515ms\tremaining: 6m 18s\n",
            "100:\tlearn: 2247.2242318\ttotal: 58.6s\tremaining: 6m 8s\n",
            "200:\tlearn: 2128.0732239\ttotal: 1m 57s\tremaining: 5m 12s\n",
            "300:\tlearn: 2075.3877225\ttotal: 2m 58s\tremaining: 4m 18s\n",
            "400:\tlearn: 2042.0958445\ttotal: 4m 1s\tremaining: 3m 21s\n",
            "500:\tlearn: 2014.8522936\ttotal: 5m 5s\tremaining: 2m 23s\n",
            "600:\tlearn: 1993.4051070\ttotal: 6m 9s\tremaining: 1m 23s\n",
            "700:\tlearn: 1975.1149207\ttotal: 7m 16s\tremaining: 21.8s\n",
            "735:\tlearn: 1968.6098315\ttotal: 7m 40s\tremaining: 0us\n"
          ]
        },
        {
          "metadata": {
            "tags": null
          },
          "name": "stderr",
          "output_type": "stream",
          "text": [
            "[I 2023-08-23 07:54:10,778] Trial 2 finished with value: 0.15439459386110177 and parameters: {'iterations': 736, 'learning_rate': 0.09823343088129383, 'depth': 13}. Best is trial 2 with value: 0.15439459386110177.\n"
          ]
        },
        {
          "output_type": "stream",
          "name": "stdout",
          "text": [
            "0:\tlearn: 6901.6624104\ttotal: 225ms\tremaining: 2m 14s\n",
            "100:\tlearn: 2469.0522548\ttotal: 18.1s\tremaining: 1m 29s\n",
            "200:\tlearn: 2331.0735321\ttotal: 37.2s\tremaining: 1m 13s\n",
            "300:\tlearn: 2276.2784972\ttotal: 56.6s\tremaining: 55.6s\n",
            "400:\tlearn: 2243.4182605\ttotal: 1m 20s\tremaining: 39.4s\n",
            "500:\tlearn: 2219.1219015\ttotal: 1m 39s\tremaining: 19s\n",
            "596:\tlearn: 2199.3605759\ttotal: 1m 58s\tremaining: 0us\n"
          ]
        },
        {
          "output_type": "stream",
          "name": "stderr",
          "text": [
            "[I 2023-08-23 07:56:12,409] Trial 3 finished with value: 0.18797729130618412 and parameters: {'iterations': 597, 'learning_rate': 0.15551710230976726, 'depth': 7}. Best is trial 2 with value: 0.15439459386110177.\n"
          ]
        },
        {
          "output_type": "stream",
          "name": "stdout",
          "text": [
            "0:\tlearn: 7322.7216078\ttotal: 515ms\tremaining: 3m 28s\n",
            "100:\tlearn: 2312.4060684\ttotal: 55.1s\tremaining: 2m 46s\n",
            "200:\tlearn: 2183.9420442\ttotal: 1m 52s\tremaining: 1m 54s\n",
            "300:\tlearn: 2125.2800673\ttotal: 2m 51s\tremaining: 59.7s\n",
            "400:\tlearn: 2086.8424076\ttotal: 3m 51s\tremaining: 2.89s\n",
            "405:\tlearn: 2085.5266131\ttotal: 3m 54s\tremaining: 0us\n"
          ]
        },
        {
          "output_type": "stream",
          "name": "stderr",
          "text": [
            "[I 2023-08-23 08:00:10,477] Trial 4 finished with value: 0.16486590358213116 and parameters: {'iterations': 406, 'learning_rate': 0.06899324129145172, 'depth': 13}. Best is trial 2 with value: 0.15439459386110177.\n"
          ]
        },
        {
          "output_type": "execute_result",
          "data": {
            "text/plain": [
              "(0.15439459386110177,\n",
              " {'iterations': 736, 'learning_rate': 0.09823343088129383, 'depth': 13})"
            ]
          },
          "metadata": {},
          "execution_count": 95
        }
      ],
      "source": [
        "study = optuna.create_study(direction=\"minimize\")\n",
        "study.optimize(objective, n_trials=5)\n",
        "study.best_value, study.best_params"
      ]
    },
    {
      "cell_type": "markdown",
      "source": [
        "Итоговый пайплайн"
      ],
      "metadata": {
        "id": "jouVEBfdD06c"
      }
    },
    {
      "cell_type": "code",
      "source": [
        "pipeline = make_pipeline(CatBoostRegressor(**study.best_params, cat_features=cat_features, verbose=100))\n",
        "pipeline"
      ],
      "metadata": {
        "id": "utJ6HMrzwzDN",
        "colab": {
          "base_uri": "https://localhost:8080/",
          "height": 257
        },
        "outputId": "34833fd1-07ff-4e57-a86f-1a7303da2ef0"
      },
      "execution_count": null,
      "outputs": [
        {
          "output_type": "execute_result",
          "data": {
            "text/plain": [
              "Pipeline(steps=[('transoformer',\n",
              "                 ColumnTransformer(remainder='passthrough',\n",
              "                                   transformers=[('num',\n",
              "                                                  Pipeline(steps=[('imputer',\n",
              "                                                                   KNNImputer()),\n",
              "                                                                  ('scaler',\n",
              "                                                                   MinMaxScaler())]),\n",
              "                                                  ['year', 'odometer']),\n",
              "                                                 ('cat',\n",
              "                                                  Pipeline(steps=[('imputer',\n",
              "                                                                   SimpleImputer(fill_value='nan',\n",
              "                                                                                 strategy='constant'))]),\n",
              "                                                  ['make', 'model', 'body'])])),\n",
              "                ('preparer', Preparer()),\n",
              "                ('model',\n",
              "                 <catboost.core.CatBoostRegressor object at 0x7c938a77a440>)])"
            ],
            "text/html": [
              "<style>#sk-container-id-3 {color: black;background-color: white;}#sk-container-id-3 pre{padding: 0;}#sk-container-id-3 div.sk-toggleable {background-color: white;}#sk-container-id-3 label.sk-toggleable__label {cursor: pointer;display: block;width: 100%;margin-bottom: 0;padding: 0.3em;box-sizing: border-box;text-align: center;}#sk-container-id-3 label.sk-toggleable__label-arrow:before {content: \"▸\";float: left;margin-right: 0.25em;color: #696969;}#sk-container-id-3 label.sk-toggleable__label-arrow:hover:before {color: black;}#sk-container-id-3 div.sk-estimator:hover label.sk-toggleable__label-arrow:before {color: black;}#sk-container-id-3 div.sk-toggleable__content {max-height: 0;max-width: 0;overflow: hidden;text-align: left;background-color: #f0f8ff;}#sk-container-id-3 div.sk-toggleable__content pre {margin: 0.2em;color: black;border-radius: 0.25em;background-color: #f0f8ff;}#sk-container-id-3 input.sk-toggleable__control:checked~div.sk-toggleable__content {max-height: 200px;max-width: 100%;overflow: auto;}#sk-container-id-3 input.sk-toggleable__control:checked~label.sk-toggleable__label-arrow:before {content: \"▾\";}#sk-container-id-3 div.sk-estimator input.sk-toggleable__control:checked~label.sk-toggleable__label {background-color: #d4ebff;}#sk-container-id-3 div.sk-label input.sk-toggleable__control:checked~label.sk-toggleable__label {background-color: #d4ebff;}#sk-container-id-3 input.sk-hidden--visually {border: 0;clip: rect(1px 1px 1px 1px);clip: rect(1px, 1px, 1px, 1px);height: 1px;margin: -1px;overflow: hidden;padding: 0;position: absolute;width: 1px;}#sk-container-id-3 div.sk-estimator {font-family: monospace;background-color: #f0f8ff;border: 1px dotted black;border-radius: 0.25em;box-sizing: border-box;margin-bottom: 0.5em;}#sk-container-id-3 div.sk-estimator:hover {background-color: #d4ebff;}#sk-container-id-3 div.sk-parallel-item::after {content: \"\";width: 100%;border-bottom: 1px solid gray;flex-grow: 1;}#sk-container-id-3 div.sk-label:hover label.sk-toggleable__label {background-color: #d4ebff;}#sk-container-id-3 div.sk-serial::before {content: \"\";position: absolute;border-left: 1px solid gray;box-sizing: border-box;top: 0;bottom: 0;left: 50%;z-index: 0;}#sk-container-id-3 div.sk-serial {display: flex;flex-direction: column;align-items: center;background-color: white;padding-right: 0.2em;padding-left: 0.2em;position: relative;}#sk-container-id-3 div.sk-item {position: relative;z-index: 1;}#sk-container-id-3 div.sk-parallel {display: flex;align-items: stretch;justify-content: center;background-color: white;position: relative;}#sk-container-id-3 div.sk-item::before, #sk-container-id-3 div.sk-parallel-item::before {content: \"\";position: absolute;border-left: 1px solid gray;box-sizing: border-box;top: 0;bottom: 0;left: 50%;z-index: -1;}#sk-container-id-3 div.sk-parallel-item {display: flex;flex-direction: column;z-index: 1;position: relative;background-color: white;}#sk-container-id-3 div.sk-parallel-item:first-child::after {align-self: flex-end;width: 50%;}#sk-container-id-3 div.sk-parallel-item:last-child::after {align-self: flex-start;width: 50%;}#sk-container-id-3 div.sk-parallel-item:only-child::after {width: 0;}#sk-container-id-3 div.sk-dashed-wrapped {border: 1px dashed gray;margin: 0 0.4em 0.5em 0.4em;box-sizing: border-box;padding-bottom: 0.4em;background-color: white;}#sk-container-id-3 div.sk-label label {font-family: monospace;font-weight: bold;display: inline-block;line-height: 1.2em;}#sk-container-id-3 div.sk-label-container {text-align: center;}#sk-container-id-3 div.sk-container {/* jupyter's `normalize.less` sets `[hidden] { display: none; }` but bootstrap.min.css set `[hidden] { display: none !important; }` so we also need the `!important` here to be able to override the default hidden behavior on the sphinx rendered scikit-learn.org. See: https://github.com/scikit-learn/scikit-learn/issues/21755 */display: inline-block !important;position: relative;}#sk-container-id-3 div.sk-text-repr-fallback {display: none;}</style><div id=\"sk-container-id-3\" class=\"sk-top-container\"><div class=\"sk-text-repr-fallback\"><pre>Pipeline(steps=[(&#x27;transoformer&#x27;,\n",
              "                 ColumnTransformer(remainder=&#x27;passthrough&#x27;,\n",
              "                                   transformers=[(&#x27;num&#x27;,\n",
              "                                                  Pipeline(steps=[(&#x27;imputer&#x27;,\n",
              "                                                                   KNNImputer()),\n",
              "                                                                  (&#x27;scaler&#x27;,\n",
              "                                                                   MinMaxScaler())]),\n",
              "                                                  [&#x27;year&#x27;, &#x27;odometer&#x27;]),\n",
              "                                                 (&#x27;cat&#x27;,\n",
              "                                                  Pipeline(steps=[(&#x27;imputer&#x27;,\n",
              "                                                                   SimpleImputer(fill_value=&#x27;nan&#x27;,\n",
              "                                                                                 strategy=&#x27;constant&#x27;))]),\n",
              "                                                  [&#x27;make&#x27;, &#x27;model&#x27;, &#x27;body&#x27;])])),\n",
              "                (&#x27;preparer&#x27;, Preparer()),\n",
              "                (&#x27;model&#x27;,\n",
              "                 &lt;catboost.core.CatBoostRegressor object at 0x7c938a77a440&gt;)])</pre><b>In a Jupyter environment, please rerun this cell to show the HTML representation or trust the notebook. <br />On GitHub, the HTML representation is unable to render, please try loading this page with nbviewer.org.</b></div><div class=\"sk-container\" hidden><div class=\"sk-item sk-dashed-wrapped\"><div class=\"sk-label-container\"><div class=\"sk-label sk-toggleable\"><input class=\"sk-toggleable__control sk-hidden--visually\" id=\"sk-estimator-id-23\" type=\"checkbox\" ><label for=\"sk-estimator-id-23\" class=\"sk-toggleable__label sk-toggleable__label-arrow\">Pipeline</label><div class=\"sk-toggleable__content\"><pre>Pipeline(steps=[(&#x27;transoformer&#x27;,\n",
              "                 ColumnTransformer(remainder=&#x27;passthrough&#x27;,\n",
              "                                   transformers=[(&#x27;num&#x27;,\n",
              "                                                  Pipeline(steps=[(&#x27;imputer&#x27;,\n",
              "                                                                   KNNImputer()),\n",
              "                                                                  (&#x27;scaler&#x27;,\n",
              "                                                                   MinMaxScaler())]),\n",
              "                                                  [&#x27;year&#x27;, &#x27;odometer&#x27;]),\n",
              "                                                 (&#x27;cat&#x27;,\n",
              "                                                  Pipeline(steps=[(&#x27;imputer&#x27;,\n",
              "                                                                   SimpleImputer(fill_value=&#x27;nan&#x27;,\n",
              "                                                                                 strategy=&#x27;constant&#x27;))]),\n",
              "                                                  [&#x27;make&#x27;, &#x27;model&#x27;, &#x27;body&#x27;])])),\n",
              "                (&#x27;preparer&#x27;, Preparer()),\n",
              "                (&#x27;model&#x27;,\n",
              "                 &lt;catboost.core.CatBoostRegressor object at 0x7c938a77a440&gt;)])</pre></div></div></div><div class=\"sk-serial\"><div class=\"sk-item sk-dashed-wrapped\"><div class=\"sk-label-container\"><div class=\"sk-label sk-toggleable\"><input class=\"sk-toggleable__control sk-hidden--visually\" id=\"sk-estimator-id-24\" type=\"checkbox\" ><label for=\"sk-estimator-id-24\" class=\"sk-toggleable__label sk-toggleable__label-arrow\">transoformer: ColumnTransformer</label><div class=\"sk-toggleable__content\"><pre>ColumnTransformer(remainder=&#x27;passthrough&#x27;,\n",
              "                  transformers=[(&#x27;num&#x27;,\n",
              "                                 Pipeline(steps=[(&#x27;imputer&#x27;, KNNImputer()),\n",
              "                                                 (&#x27;scaler&#x27;, MinMaxScaler())]),\n",
              "                                 [&#x27;year&#x27;, &#x27;odometer&#x27;]),\n",
              "                                (&#x27;cat&#x27;,\n",
              "                                 Pipeline(steps=[(&#x27;imputer&#x27;,\n",
              "                                                  SimpleImputer(fill_value=&#x27;nan&#x27;,\n",
              "                                                                strategy=&#x27;constant&#x27;))]),\n",
              "                                 [&#x27;make&#x27;, &#x27;model&#x27;, &#x27;body&#x27;])])</pre></div></div></div><div class=\"sk-parallel\"><div class=\"sk-parallel-item\"><div class=\"sk-item\"><div class=\"sk-label-container\"><div class=\"sk-label sk-toggleable\"><input class=\"sk-toggleable__control sk-hidden--visually\" id=\"sk-estimator-id-25\" type=\"checkbox\" ><label for=\"sk-estimator-id-25\" class=\"sk-toggleable__label sk-toggleable__label-arrow\">num</label><div class=\"sk-toggleable__content\"><pre>[&#x27;year&#x27;, &#x27;odometer&#x27;]</pre></div></div></div><div class=\"sk-serial\"><div class=\"sk-item\"><div class=\"sk-serial\"><div class=\"sk-item\"><div class=\"sk-estimator sk-toggleable\"><input class=\"sk-toggleable__control sk-hidden--visually\" id=\"sk-estimator-id-26\" type=\"checkbox\" ><label for=\"sk-estimator-id-26\" class=\"sk-toggleable__label sk-toggleable__label-arrow\">KNNImputer</label><div class=\"sk-toggleable__content\"><pre>KNNImputer()</pre></div></div></div><div class=\"sk-item\"><div class=\"sk-estimator sk-toggleable\"><input class=\"sk-toggleable__control sk-hidden--visually\" id=\"sk-estimator-id-27\" type=\"checkbox\" ><label for=\"sk-estimator-id-27\" class=\"sk-toggleable__label sk-toggleable__label-arrow\">MinMaxScaler</label><div class=\"sk-toggleable__content\"><pre>MinMaxScaler()</pre></div></div></div></div></div></div></div></div><div class=\"sk-parallel-item\"><div class=\"sk-item\"><div class=\"sk-label-container\"><div class=\"sk-label sk-toggleable\"><input class=\"sk-toggleable__control sk-hidden--visually\" id=\"sk-estimator-id-28\" type=\"checkbox\" ><label for=\"sk-estimator-id-28\" class=\"sk-toggleable__label sk-toggleable__label-arrow\">cat</label><div class=\"sk-toggleable__content\"><pre>[&#x27;make&#x27;, &#x27;model&#x27;, &#x27;body&#x27;]</pre></div></div></div><div class=\"sk-serial\"><div class=\"sk-item\"><div class=\"sk-serial\"><div class=\"sk-item\"><div class=\"sk-estimator sk-toggleable\"><input class=\"sk-toggleable__control sk-hidden--visually\" id=\"sk-estimator-id-29\" type=\"checkbox\" ><label for=\"sk-estimator-id-29\" class=\"sk-toggleable__label sk-toggleable__label-arrow\">SimpleImputer</label><div class=\"sk-toggleable__content\"><pre>SimpleImputer(fill_value=&#x27;nan&#x27;, strategy=&#x27;constant&#x27;)</pre></div></div></div></div></div></div></div></div><div class=\"sk-parallel-item\"><div class=\"sk-item\"><div class=\"sk-label-container\"><div class=\"sk-label sk-toggleable\"><input class=\"sk-toggleable__control sk-hidden--visually\" id=\"sk-estimator-id-30\" type=\"checkbox\" ><label for=\"sk-estimator-id-30\" class=\"sk-toggleable__label sk-toggleable__label-arrow\">remainder</label><div class=\"sk-toggleable__content\"><pre></pre></div></div></div><div class=\"sk-serial\"><div class=\"sk-item\"><div class=\"sk-estimator sk-toggleable\"><input class=\"sk-toggleable__control sk-hidden--visually\" id=\"sk-estimator-id-31\" type=\"checkbox\" ><label for=\"sk-estimator-id-31\" class=\"sk-toggleable__label sk-toggleable__label-arrow\">passthrough</label><div class=\"sk-toggleable__content\"><pre>passthrough</pre></div></div></div></div></div></div></div></div><div class=\"sk-item\"><div class=\"sk-estimator sk-toggleable\"><input class=\"sk-toggleable__control sk-hidden--visually\" id=\"sk-estimator-id-32\" type=\"checkbox\" ><label for=\"sk-estimator-id-32\" class=\"sk-toggleable__label sk-toggleable__label-arrow\">Preparer</label><div class=\"sk-toggleable__content\"><pre>Preparer()</pre></div></div></div><div class=\"sk-item\"><div class=\"sk-estimator sk-toggleable\"><input class=\"sk-toggleable__control sk-hidden--visually\" id=\"sk-estimator-id-33\" type=\"checkbox\" ><label for=\"sk-estimator-id-33\" class=\"sk-toggleable__label sk-toggleable__label-arrow\">CatBoostRegressor</label><div class=\"sk-toggleable__content\"><pre>&lt;catboost.core.CatBoostRegressor object at 0x7c938a77a440&gt;</pre></div></div></div></div></div></div></div>"
            ]
          },
          "metadata": {},
          "execution_count": 96
        }
      ]
    },
    {
      "cell_type": "markdown",
      "metadata": {
        "id": "LFa3YEL5UGEJ"
      },
      "source": [
        "## Submission"
      ]
    },
    {
      "cell_type": "code",
      "execution_count": null,
      "metadata": {
        "id": "sWwNDP9ZQEKx",
        "colab": {
          "base_uri": "https://localhost:8080/",
          "height": 410
        },
        "outputId": "217eebcd-ce82-4e0a-c0f5-a667c085315b"
      },
      "outputs": [
        {
          "output_type": "stream",
          "name": "stdout",
          "text": [
            "0:\tlearn: 7140.9312666\ttotal: 1.2s\tremaining: 14m 43s\n",
            "100:\tlearn: 2227.1347858\ttotal: 1m 13s\tremaining: 7m 41s\n",
            "200:\tlearn: 2128.4321415\ttotal: 2m 30s\tremaining: 6m 41s\n",
            "300:\tlearn: 2084.9095108\ttotal: 3m 50s\tremaining: 5m 33s\n",
            "400:\tlearn: 2054.9949989\ttotal: 5m 11s\tremaining: 4m 20s\n",
            "500:\tlearn: 2030.9996106\ttotal: 6m 35s\tremaining: 3m 5s\n",
            "600:\tlearn: 2012.6193935\ttotal: 7m 58s\tremaining: 1m 47s\n",
            "700:\tlearn: 1997.0220509\ttotal: 9m 25s\tremaining: 28.2s\n",
            "735:\tlearn: 1992.1096179\ttotal: 9m 54s\tremaining: 0us\n"
          ]
        },
        {
          "output_type": "execute_result",
          "data": {
            "text/plain": [
              "Pipeline(steps=[('transoformer',\n",
              "                 ColumnTransformer(remainder='passthrough',\n",
              "                                   transformers=[('num',\n",
              "                                                  Pipeline(steps=[('imputer',\n",
              "                                                                   KNNImputer()),\n",
              "                                                                  ('scaler',\n",
              "                                                                   MinMaxScaler())]),\n",
              "                                                  ['year', 'odometer']),\n",
              "                                                 ('cat',\n",
              "                                                  Pipeline(steps=[('imputer',\n",
              "                                                                   SimpleImputer(fill_value='nan',\n",
              "                                                                                 strategy='constant'))]),\n",
              "                                                  ['make', 'model', 'body'])])),\n",
              "                ('preparer', Preparer()),\n",
              "                ('model',\n",
              "                 <catboost.core.CatBoostRegressor object at 0x7c938a77a440>)])"
            ],
            "text/html": [
              "<style>#sk-container-id-4 {color: black;background-color: white;}#sk-container-id-4 pre{padding: 0;}#sk-container-id-4 div.sk-toggleable {background-color: white;}#sk-container-id-4 label.sk-toggleable__label {cursor: pointer;display: block;width: 100%;margin-bottom: 0;padding: 0.3em;box-sizing: border-box;text-align: center;}#sk-container-id-4 label.sk-toggleable__label-arrow:before {content: \"▸\";float: left;margin-right: 0.25em;color: #696969;}#sk-container-id-4 label.sk-toggleable__label-arrow:hover:before {color: black;}#sk-container-id-4 div.sk-estimator:hover label.sk-toggleable__label-arrow:before {color: black;}#sk-container-id-4 div.sk-toggleable__content {max-height: 0;max-width: 0;overflow: hidden;text-align: left;background-color: #f0f8ff;}#sk-container-id-4 div.sk-toggleable__content pre {margin: 0.2em;color: black;border-radius: 0.25em;background-color: #f0f8ff;}#sk-container-id-4 input.sk-toggleable__control:checked~div.sk-toggleable__content {max-height: 200px;max-width: 100%;overflow: auto;}#sk-container-id-4 input.sk-toggleable__control:checked~label.sk-toggleable__label-arrow:before {content: \"▾\";}#sk-container-id-4 div.sk-estimator input.sk-toggleable__control:checked~label.sk-toggleable__label {background-color: #d4ebff;}#sk-container-id-4 div.sk-label input.sk-toggleable__control:checked~label.sk-toggleable__label {background-color: #d4ebff;}#sk-container-id-4 input.sk-hidden--visually {border: 0;clip: rect(1px 1px 1px 1px);clip: rect(1px, 1px, 1px, 1px);height: 1px;margin: -1px;overflow: hidden;padding: 0;position: absolute;width: 1px;}#sk-container-id-4 div.sk-estimator {font-family: monospace;background-color: #f0f8ff;border: 1px dotted black;border-radius: 0.25em;box-sizing: border-box;margin-bottom: 0.5em;}#sk-container-id-4 div.sk-estimator:hover {background-color: #d4ebff;}#sk-container-id-4 div.sk-parallel-item::after {content: \"\";width: 100%;border-bottom: 1px solid gray;flex-grow: 1;}#sk-container-id-4 div.sk-label:hover label.sk-toggleable__label {background-color: #d4ebff;}#sk-container-id-4 div.sk-serial::before {content: \"\";position: absolute;border-left: 1px solid gray;box-sizing: border-box;top: 0;bottom: 0;left: 50%;z-index: 0;}#sk-container-id-4 div.sk-serial {display: flex;flex-direction: column;align-items: center;background-color: white;padding-right: 0.2em;padding-left: 0.2em;position: relative;}#sk-container-id-4 div.sk-item {position: relative;z-index: 1;}#sk-container-id-4 div.sk-parallel {display: flex;align-items: stretch;justify-content: center;background-color: white;position: relative;}#sk-container-id-4 div.sk-item::before, #sk-container-id-4 div.sk-parallel-item::before {content: \"\";position: absolute;border-left: 1px solid gray;box-sizing: border-box;top: 0;bottom: 0;left: 50%;z-index: -1;}#sk-container-id-4 div.sk-parallel-item {display: flex;flex-direction: column;z-index: 1;position: relative;background-color: white;}#sk-container-id-4 div.sk-parallel-item:first-child::after {align-self: flex-end;width: 50%;}#sk-container-id-4 div.sk-parallel-item:last-child::after {align-self: flex-start;width: 50%;}#sk-container-id-4 div.sk-parallel-item:only-child::after {width: 0;}#sk-container-id-4 div.sk-dashed-wrapped {border: 1px dashed gray;margin: 0 0.4em 0.5em 0.4em;box-sizing: border-box;padding-bottom: 0.4em;background-color: white;}#sk-container-id-4 div.sk-label label {font-family: monospace;font-weight: bold;display: inline-block;line-height: 1.2em;}#sk-container-id-4 div.sk-label-container {text-align: center;}#sk-container-id-4 div.sk-container {/* jupyter's `normalize.less` sets `[hidden] { display: none; }` but bootstrap.min.css set `[hidden] { display: none !important; }` so we also need the `!important` here to be able to override the default hidden behavior on the sphinx rendered scikit-learn.org. See: https://github.com/scikit-learn/scikit-learn/issues/21755 */display: inline-block !important;position: relative;}#sk-container-id-4 div.sk-text-repr-fallback {display: none;}</style><div id=\"sk-container-id-4\" class=\"sk-top-container\"><div class=\"sk-text-repr-fallback\"><pre>Pipeline(steps=[(&#x27;transoformer&#x27;,\n",
              "                 ColumnTransformer(remainder=&#x27;passthrough&#x27;,\n",
              "                                   transformers=[(&#x27;num&#x27;,\n",
              "                                                  Pipeline(steps=[(&#x27;imputer&#x27;,\n",
              "                                                                   KNNImputer()),\n",
              "                                                                  (&#x27;scaler&#x27;,\n",
              "                                                                   MinMaxScaler())]),\n",
              "                                                  [&#x27;year&#x27;, &#x27;odometer&#x27;]),\n",
              "                                                 (&#x27;cat&#x27;,\n",
              "                                                  Pipeline(steps=[(&#x27;imputer&#x27;,\n",
              "                                                                   SimpleImputer(fill_value=&#x27;nan&#x27;,\n",
              "                                                                                 strategy=&#x27;constant&#x27;))]),\n",
              "                                                  [&#x27;make&#x27;, &#x27;model&#x27;, &#x27;body&#x27;])])),\n",
              "                (&#x27;preparer&#x27;, Preparer()),\n",
              "                (&#x27;model&#x27;,\n",
              "                 &lt;catboost.core.CatBoostRegressor object at 0x7c938a77a440&gt;)])</pre><b>In a Jupyter environment, please rerun this cell to show the HTML representation or trust the notebook. <br />On GitHub, the HTML representation is unable to render, please try loading this page with nbviewer.org.</b></div><div class=\"sk-container\" hidden><div class=\"sk-item sk-dashed-wrapped\"><div class=\"sk-label-container\"><div class=\"sk-label sk-toggleable\"><input class=\"sk-toggleable__control sk-hidden--visually\" id=\"sk-estimator-id-34\" type=\"checkbox\" ><label for=\"sk-estimator-id-34\" class=\"sk-toggleable__label sk-toggleable__label-arrow\">Pipeline</label><div class=\"sk-toggleable__content\"><pre>Pipeline(steps=[(&#x27;transoformer&#x27;,\n",
              "                 ColumnTransformer(remainder=&#x27;passthrough&#x27;,\n",
              "                                   transformers=[(&#x27;num&#x27;,\n",
              "                                                  Pipeline(steps=[(&#x27;imputer&#x27;,\n",
              "                                                                   KNNImputer()),\n",
              "                                                                  (&#x27;scaler&#x27;,\n",
              "                                                                   MinMaxScaler())]),\n",
              "                                                  [&#x27;year&#x27;, &#x27;odometer&#x27;]),\n",
              "                                                 (&#x27;cat&#x27;,\n",
              "                                                  Pipeline(steps=[(&#x27;imputer&#x27;,\n",
              "                                                                   SimpleImputer(fill_value=&#x27;nan&#x27;,\n",
              "                                                                                 strategy=&#x27;constant&#x27;))]),\n",
              "                                                  [&#x27;make&#x27;, &#x27;model&#x27;, &#x27;body&#x27;])])),\n",
              "                (&#x27;preparer&#x27;, Preparer()),\n",
              "                (&#x27;model&#x27;,\n",
              "                 &lt;catboost.core.CatBoostRegressor object at 0x7c938a77a440&gt;)])</pre></div></div></div><div class=\"sk-serial\"><div class=\"sk-item sk-dashed-wrapped\"><div class=\"sk-label-container\"><div class=\"sk-label sk-toggleable\"><input class=\"sk-toggleable__control sk-hidden--visually\" id=\"sk-estimator-id-35\" type=\"checkbox\" ><label for=\"sk-estimator-id-35\" class=\"sk-toggleable__label sk-toggleable__label-arrow\">transoformer: ColumnTransformer</label><div class=\"sk-toggleable__content\"><pre>ColumnTransformer(remainder=&#x27;passthrough&#x27;,\n",
              "                  transformers=[(&#x27;num&#x27;,\n",
              "                                 Pipeline(steps=[(&#x27;imputer&#x27;, KNNImputer()),\n",
              "                                                 (&#x27;scaler&#x27;, MinMaxScaler())]),\n",
              "                                 [&#x27;year&#x27;, &#x27;odometer&#x27;]),\n",
              "                                (&#x27;cat&#x27;,\n",
              "                                 Pipeline(steps=[(&#x27;imputer&#x27;,\n",
              "                                                  SimpleImputer(fill_value=&#x27;nan&#x27;,\n",
              "                                                                strategy=&#x27;constant&#x27;))]),\n",
              "                                 [&#x27;make&#x27;, &#x27;model&#x27;, &#x27;body&#x27;])])</pre></div></div></div><div class=\"sk-parallel\"><div class=\"sk-parallel-item\"><div class=\"sk-item\"><div class=\"sk-label-container\"><div class=\"sk-label sk-toggleable\"><input class=\"sk-toggleable__control sk-hidden--visually\" id=\"sk-estimator-id-36\" type=\"checkbox\" ><label for=\"sk-estimator-id-36\" class=\"sk-toggleable__label sk-toggleable__label-arrow\">num</label><div class=\"sk-toggleable__content\"><pre>[&#x27;year&#x27;, &#x27;odometer&#x27;]</pre></div></div></div><div class=\"sk-serial\"><div class=\"sk-item\"><div class=\"sk-serial\"><div class=\"sk-item\"><div class=\"sk-estimator sk-toggleable\"><input class=\"sk-toggleable__control sk-hidden--visually\" id=\"sk-estimator-id-37\" type=\"checkbox\" ><label for=\"sk-estimator-id-37\" class=\"sk-toggleable__label sk-toggleable__label-arrow\">KNNImputer</label><div class=\"sk-toggleable__content\"><pre>KNNImputer()</pre></div></div></div><div class=\"sk-item\"><div class=\"sk-estimator sk-toggleable\"><input class=\"sk-toggleable__control sk-hidden--visually\" id=\"sk-estimator-id-38\" type=\"checkbox\" ><label for=\"sk-estimator-id-38\" class=\"sk-toggleable__label sk-toggleable__label-arrow\">MinMaxScaler</label><div class=\"sk-toggleable__content\"><pre>MinMaxScaler()</pre></div></div></div></div></div></div></div></div><div class=\"sk-parallel-item\"><div class=\"sk-item\"><div class=\"sk-label-container\"><div class=\"sk-label sk-toggleable\"><input class=\"sk-toggleable__control sk-hidden--visually\" id=\"sk-estimator-id-39\" type=\"checkbox\" ><label for=\"sk-estimator-id-39\" class=\"sk-toggleable__label sk-toggleable__label-arrow\">cat</label><div class=\"sk-toggleable__content\"><pre>[&#x27;make&#x27;, &#x27;model&#x27;, &#x27;body&#x27;]</pre></div></div></div><div class=\"sk-serial\"><div class=\"sk-item\"><div class=\"sk-serial\"><div class=\"sk-item\"><div class=\"sk-estimator sk-toggleable\"><input class=\"sk-toggleable__control sk-hidden--visually\" id=\"sk-estimator-id-40\" type=\"checkbox\" ><label for=\"sk-estimator-id-40\" class=\"sk-toggleable__label sk-toggleable__label-arrow\">SimpleImputer</label><div class=\"sk-toggleable__content\"><pre>SimpleImputer(fill_value=&#x27;nan&#x27;, strategy=&#x27;constant&#x27;)</pre></div></div></div></div></div></div></div></div><div class=\"sk-parallel-item\"><div class=\"sk-item\"><div class=\"sk-label-container\"><div class=\"sk-label sk-toggleable\"><input class=\"sk-toggleable__control sk-hidden--visually\" id=\"sk-estimator-id-41\" type=\"checkbox\" ><label for=\"sk-estimator-id-41\" class=\"sk-toggleable__label sk-toggleable__label-arrow\">remainder</label><div class=\"sk-toggleable__content\"><pre>[]</pre></div></div></div><div class=\"sk-serial\"><div class=\"sk-item\"><div class=\"sk-estimator sk-toggleable\"><input class=\"sk-toggleable__control sk-hidden--visually\" id=\"sk-estimator-id-42\" type=\"checkbox\" ><label for=\"sk-estimator-id-42\" class=\"sk-toggleable__label sk-toggleable__label-arrow\">passthrough</label><div class=\"sk-toggleable__content\"><pre>passthrough</pre></div></div></div></div></div></div></div></div><div class=\"sk-item\"><div class=\"sk-estimator sk-toggleable\"><input class=\"sk-toggleable__control sk-hidden--visually\" id=\"sk-estimator-id-43\" type=\"checkbox\" ><label for=\"sk-estimator-id-43\" class=\"sk-toggleable__label sk-toggleable__label-arrow\">Preparer</label><div class=\"sk-toggleable__content\"><pre>Preparer()</pre></div></div></div><div class=\"sk-item\"><div class=\"sk-estimator sk-toggleable\"><input class=\"sk-toggleable__control sk-hidden--visually\" id=\"sk-estimator-id-44\" type=\"checkbox\" ><label for=\"sk-estimator-id-44\" class=\"sk-toggleable__label sk-toggleable__label-arrow\">CatBoostRegressor</label><div class=\"sk-toggleable__content\"><pre>&lt;catboost.core.CatBoostRegressor object at 0x7c938a77a440&gt;</pre></div></div></div></div></div></div></div>"
            ]
          },
          "metadata": {},
          "execution_count": 97
        }
      ],
      "source": [
        "pipeline.fit(pd.concat([features_train, features_valid], axis=0), pd.concat([target_train, target_valid], axis=0))"
      ]
    },
    {
      "cell_type": "code",
      "source": [
        "sub = pd.DataFrame({\"vin\": df_test.vin, \"sellingprice\": pipeline.predict(df_test)})"
      ],
      "metadata": {
        "id": "aexQYCymt2d_"
      },
      "execution_count": null,
      "outputs": []
    },
    {
      "cell_type": "code",
      "execution_count": null,
      "metadata": {
        "id": "by4QQx1RUL_g"
      },
      "outputs": [],
      "source": [
        "sub.to_csv('sub.csv', index=False)"
      ]
    },
    {
      "cell_type": "markdown",
      "source": [
        "# Выводы"
      ],
      "metadata": {
        "id": "kw5-jAoG4klx"
      }
    },
    {
      "cell_type": "markdown",
      "source": [
        "В результате проделанной работы была разработана модель предсказания стоимости автомобиля на вторичном рынке. Финальная метрика MAPE  на валидационной выборке составила 15.4%, на тестовой 18,25%. Была изучена важность признаков, выявлено, что наиболее важными признаками являются - год, пробег, марка, модель и тип кузова автомобиля."
      ],
      "metadata": {
        "id": "9aiYWRlDVTPg"
      }
    }
  ],
  "metadata": {
    "colab": {
      "provenance": []
    },
    "kernelspec": {
      "display_name": "Python 3",
      "name": "python3"
    },
    "language_info": {
      "name": "python"
    }
  },
  "nbformat": 4,
  "nbformat_minor": 0
}