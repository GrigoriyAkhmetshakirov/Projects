{
 "cells": [
  {
   "cell_type": "markdown",
   "id": "GEqQaHzsZ_bA",
   "metadata": {
    "id": "GEqQaHzsZ_bA"
   },
   "source": [
    "# Предсказание стоимости жилья\n",
    "\n",
    "В проекте обучается модель линейной регрессии на данных о жилье в Калифорнии в 1990 году. На основе данных нужно предсказать медианную стоимость дома в жилом массиве. Обучим модель и сделаем предсказания на тестовой выборке. Для оценки качества модели используем метрики RMSE, MAE и R2. Помимо этого соберем всю цепочку обработки фичей в пайплайн, прогоним все это через grid search и посмотрим значение метрик на кросс-валдиации."
   ]
  },
  {
   "cell_type": "markdown",
   "id": "e9de4465",
   "metadata": {},
   "source": [
    "В колонках датасета содержатся следующие данные:\n",
    "\n",
    "- `longitude` — широта;\n",
    "- `latitude` — долгота;\n",
    "- `housing_median_age` — медианный возраст жителей жилого массива;\n",
    "- `total_rooms` — общее количество комнат в домах жилого массива;\n",
    "- `total_bedrooms` — общее количество спален в домах жилого массива;\n",
    "- `population` — количество человек, которые проживают в жилом массиве;\n",
    "- `households` — количество домовладений в жилом массиве;\n",
    "- `median_income` — медианный доход жителей жилого массива;\n",
    "- `median_house_value`— медианная стоимость дома в жилом массиве;\n",
    "- `ocean_proximity` — близость к океану."
   ]
  },
  {
   "cell_type": "markdown",
   "id": "53871372",
   "metadata": {
    "id": "53871372"
   },
   "source": [
    "## Импорт библиотек"
   ]
  },
  {
   "cell_type": "code",
   "execution_count": 1,
   "id": "df92e3ec",
   "metadata": {
    "id": "df92e3ec"
   },
   "outputs": [],
   "source": [
    "import warnings\n",
    "warnings.filterwarnings('ignore')\n",
    "\n",
    "import pandas as pd \n",
    "import numpy as np\n",
    "import seaborn as sns\n",
    "import matplotlib.pyplot as plt\n",
    "\n",
    "import pyspark\n",
    "from pyspark.sql import SparkSession\n",
    "from pyspark.sql.functions import*\n",
    "from pyspark.sql.types import *\n",
    "import pyspark.sql.functions as F\n",
    "\n",
    "from pyspark.ml import Pipeline\n",
    "from pyspark.ml.feature import StringIndexer, VectorAssembler, StandardScaler, OneHotEncoder\n",
    "from pyspark.ml.regression import LinearRegression\n",
    "from pyspark.ml.regression import GBTRegressor\n",
    "from pyspark.mllib.evaluation import RegressionMetrics\n",
    "from pyspark.ml.evaluation import RegressionEvaluator\n",
    "\n",
    "from pyspark.ml.tuning import CrossValidator, ParamGridBuilder"
   ]
  },
  {
   "cell_type": "markdown",
   "id": "989fef5c",
   "metadata": {},
   "source": [
    "## Инициализируем Spark сессию и загружаем данные"
   ]
  },
  {
   "cell_type": "code",
   "execution_count": 2,
   "id": "2bdf4a18",
   "metadata": {},
   "outputs": [],
   "source": [
    "spark = SparkSession.builder.master(\"local\").appName(\"Housing\").getOrCreate()"
   ]
  },
  {
   "cell_type": "markdown",
   "id": "45fe893a",
   "metadata": {},
   "source": [
    "Загрузка данных"
   ]
  },
  {
   "cell_type": "code",
   "execution_count": 3,
   "id": "d94b76d8",
   "metadata": {},
   "outputs": [
    {
     "name": "stderr",
     "output_type": "stream",
     "text": [
      "                                                                                \r"
     ]
    }
   ],
   "source": [
    "df = spark.read.option('header', 'true').csv('/datasets/housing.csv', inferSchema = True)"
   ]
  },
  {
   "cell_type": "markdown",
   "id": "f08be4ec",
   "metadata": {},
   "source": [
    "## Первичный анализ и предобработка данных"
   ]
  },
  {
   "cell_type": "code",
   "execution_count": 4,
   "id": "e16c7bd4",
   "metadata": {
    "scrolled": false
   },
   "outputs": [
    {
     "name": "stdout",
     "output_type": "stream",
     "text": [
      "root\n",
      " |-- longitude: double (nullable = true)\n",
      " |-- latitude: double (nullable = true)\n",
      " |-- housing_median_age: double (nullable = true)\n",
      " |-- total_rooms: double (nullable = true)\n",
      " |-- total_bedrooms: double (nullable = true)\n",
      " |-- population: double (nullable = true)\n",
      " |-- households: double (nullable = true)\n",
      " |-- median_income: double (nullable = true)\n",
      " |-- median_house_value: double (nullable = true)\n",
      " |-- ocean_proximity: string (nullable = true)\n",
      "\n"
     ]
    }
   ],
   "source": [
    "df.printSchema()"
   ]
  },
  {
   "cell_type": "code",
   "execution_count": 5,
   "id": "7ccaa0ee",
   "metadata": {
    "scrolled": true
   },
   "outputs": [
    {
     "name": "stderr",
     "output_type": "stream",
     "text": [
      "                                                                                \r"
     ]
    },
    {
     "data": {
      "text/html": [
       "<div>\n",
       "<style scoped>\n",
       "    .dataframe tbody tr th:only-of-type {\n",
       "        vertical-align: middle;\n",
       "    }\n",
       "\n",
       "    .dataframe tbody tr th {\n",
       "        vertical-align: top;\n",
       "    }\n",
       "\n",
       "    .dataframe thead th {\n",
       "        text-align: right;\n",
       "    }\n",
       "</style>\n",
       "<table border=\"1\" class=\"dataframe\">\n",
       "  <thead>\n",
       "    <tr style=\"text-align: right;\">\n",
       "      <th></th>\n",
       "      <th>summary</th>\n",
       "      <th>longitude</th>\n",
       "      <th>latitude</th>\n",
       "      <th>housing_median_age</th>\n",
       "      <th>total_rooms</th>\n",
       "      <th>total_bedrooms</th>\n",
       "      <th>population</th>\n",
       "      <th>households</th>\n",
       "      <th>median_income</th>\n",
       "      <th>median_house_value</th>\n",
       "      <th>ocean_proximity</th>\n",
       "    </tr>\n",
       "  </thead>\n",
       "  <tbody>\n",
       "    <tr>\n",
       "      <th>0</th>\n",
       "      <td>count</td>\n",
       "      <td>20640</td>\n",
       "      <td>20640</td>\n",
       "      <td>20640</td>\n",
       "      <td>20640</td>\n",
       "      <td>20433</td>\n",
       "      <td>20640</td>\n",
       "      <td>20640</td>\n",
       "      <td>20640</td>\n",
       "      <td>20640</td>\n",
       "      <td>20640</td>\n",
       "    </tr>\n",
       "    <tr>\n",
       "      <th>1</th>\n",
       "      <td>mean</td>\n",
       "      <td>-119.56970445736148</td>\n",
       "      <td>35.6318614341087</td>\n",
       "      <td>28.639486434108527</td>\n",
       "      <td>2635.7630813953488</td>\n",
       "      <td>537.8705525375618</td>\n",
       "      <td>1425.4767441860465</td>\n",
       "      <td>499.5396802325581</td>\n",
       "      <td>3.8706710029070246</td>\n",
       "      <td>206855.81690891474</td>\n",
       "      <td>None</td>\n",
       "    </tr>\n",
       "    <tr>\n",
       "      <th>2</th>\n",
       "      <td>stddev</td>\n",
       "      <td>2.003531723502584</td>\n",
       "      <td>2.135952397457101</td>\n",
       "      <td>12.58555761211163</td>\n",
       "      <td>2181.6152515827944</td>\n",
       "      <td>421.38507007403115</td>\n",
       "      <td>1132.46212176534</td>\n",
       "      <td>382.3297528316098</td>\n",
       "      <td>1.899821717945263</td>\n",
       "      <td>115395.61587441359</td>\n",
       "      <td>None</td>\n",
       "    </tr>\n",
       "    <tr>\n",
       "      <th>3</th>\n",
       "      <td>min</td>\n",
       "      <td>-124.35</td>\n",
       "      <td>32.54</td>\n",
       "      <td>1.0</td>\n",
       "      <td>2.0</td>\n",
       "      <td>1.0</td>\n",
       "      <td>3.0</td>\n",
       "      <td>1.0</td>\n",
       "      <td>0.4999</td>\n",
       "      <td>14999.0</td>\n",
       "      <td>&lt;1H OCEAN</td>\n",
       "    </tr>\n",
       "    <tr>\n",
       "      <th>4</th>\n",
       "      <td>max</td>\n",
       "      <td>-114.31</td>\n",
       "      <td>41.95</td>\n",
       "      <td>52.0</td>\n",
       "      <td>39320.0</td>\n",
       "      <td>6445.0</td>\n",
       "      <td>35682.0</td>\n",
       "      <td>6082.0</td>\n",
       "      <td>15.0001</td>\n",
       "      <td>500001.0</td>\n",
       "      <td>NEAR OCEAN</td>\n",
       "    </tr>\n",
       "  </tbody>\n",
       "</table>\n",
       "</div>"
      ],
      "text/plain": [
       "  summary            longitude           latitude  housing_median_age  \\\n",
       "0   count                20640              20640               20640   \n",
       "1    mean  -119.56970445736148   35.6318614341087  28.639486434108527   \n",
       "2  stddev    2.003531723502584  2.135952397457101   12.58555761211163   \n",
       "3     min              -124.35              32.54                 1.0   \n",
       "4     max              -114.31              41.95                52.0   \n",
       "\n",
       "          total_rooms      total_bedrooms          population  \\\n",
       "0               20640               20433               20640   \n",
       "1  2635.7630813953488   537.8705525375618  1425.4767441860465   \n",
       "2  2181.6152515827944  421.38507007403115    1132.46212176534   \n",
       "3                 2.0                 1.0                 3.0   \n",
       "4             39320.0              6445.0             35682.0   \n",
       "\n",
       "          households       median_income  median_house_value ocean_proximity  \n",
       "0              20640               20640               20640           20640  \n",
       "1  499.5396802325581  3.8706710029070246  206855.81690891474            None  \n",
       "2  382.3297528316098   1.899821717945263  115395.61587441359            None  \n",
       "3                1.0              0.4999             14999.0       <1H OCEAN  \n",
       "4             6082.0             15.0001            500001.0      NEAR OCEAN  "
      ]
     },
     "execution_count": 5,
     "metadata": {},
     "output_type": "execute_result"
    }
   ],
   "source": [
    "df.describe().toPandas()"
   ]
  },
  {
   "cell_type": "code",
   "execution_count": 6,
   "id": "c38bf0bb",
   "metadata": {},
   "outputs": [
    {
     "data": {
      "text/plain": [
       "['longitude',\n",
       " 'latitude',\n",
       " 'housing_median_age',\n",
       " 'total_rooms',\n",
       " 'total_bedrooms',\n",
       " 'population',\n",
       " 'households',\n",
       " 'median_income',\n",
       " 'median_house_value',\n",
       " 'ocean_proximity']"
      ]
     },
     "execution_count": 6,
     "metadata": {},
     "output_type": "execute_result"
    }
   ],
   "source": [
    "df.columns"
   ]
  },
  {
   "cell_type": "markdown",
   "id": "f21a4bf8",
   "metadata": {},
   "source": [
    "Смотрим пропуски"
   ]
  },
  {
   "cell_type": "code",
   "execution_count": 7,
   "id": "85ac5a79",
   "metadata": {
    "scrolled": false
   },
   "outputs": [],
   "source": [
    "def find_misses(data):\n",
    "    '''\n",
    "    Функция для нахождения пропусков\n",
    "    '''\n",
    "    for column in data.columns:\n",
    "        print(column, data.filter(F.column(column).isNull()).count())"
   ]
  },
  {
   "cell_type": "code",
   "execution_count": 8,
   "id": "eee2bf83",
   "metadata": {},
   "outputs": [
    {
     "name": "stdout",
     "output_type": "stream",
     "text": [
      "longitude 0\n",
      "latitude 0\n",
      "housing_median_age 0\n",
      "total_rooms 0\n",
      "total_bedrooms 207\n",
      "population 0\n",
      "households 0\n",
      "median_income 0\n",
      "median_house_value 0\n",
      "ocean_proximity 0\n"
     ]
    }
   ],
   "source": [
    "find_misses(df)"
   ]
  },
  {
   "cell_type": "code",
   "execution_count": 9,
   "id": "ef1e022e",
   "metadata": {
    "scrolled": false
   },
   "outputs": [
    {
     "data": {
      "text/html": [
       "<div>\n",
       "<style scoped>\n",
       "    .dataframe tbody tr th:only-of-type {\n",
       "        vertical-align: middle;\n",
       "    }\n",
       "\n",
       "    .dataframe tbody tr th {\n",
       "        vertical-align: top;\n",
       "    }\n",
       "\n",
       "    .dataframe thead th {\n",
       "        text-align: right;\n",
       "    }\n",
       "</style>\n",
       "<table border=\"1\" class=\"dataframe\">\n",
       "  <thead>\n",
       "    <tr style=\"text-align: right;\">\n",
       "      <th></th>\n",
       "      <th>longitude</th>\n",
       "      <th>latitude</th>\n",
       "      <th>housing_median_age</th>\n",
       "      <th>total_rooms</th>\n",
       "      <th>total_bedrooms</th>\n",
       "      <th>population</th>\n",
       "      <th>households</th>\n",
       "      <th>median_income</th>\n",
       "      <th>median_house_value</th>\n",
       "      <th>ocean_proximity</th>\n",
       "    </tr>\n",
       "  </thead>\n",
       "  <tbody>\n",
       "    <tr>\n",
       "      <th>0</th>\n",
       "      <td>-122.16</td>\n",
       "      <td>37.77</td>\n",
       "      <td>47.0</td>\n",
       "      <td>1256.0</td>\n",
       "      <td>NaN</td>\n",
       "      <td>570.0</td>\n",
       "      <td>218.0</td>\n",
       "      <td>4.3750</td>\n",
       "      <td>161900.0</td>\n",
       "      <td>NEAR BAY</td>\n",
       "    </tr>\n",
       "    <tr>\n",
       "      <th>1</th>\n",
       "      <td>-122.17</td>\n",
       "      <td>37.75</td>\n",
       "      <td>38.0</td>\n",
       "      <td>992.0</td>\n",
       "      <td>NaN</td>\n",
       "      <td>732.0</td>\n",
       "      <td>259.0</td>\n",
       "      <td>1.6196</td>\n",
       "      <td>85100.0</td>\n",
       "      <td>NEAR BAY</td>\n",
       "    </tr>\n",
       "    <tr>\n",
       "      <th>2</th>\n",
       "      <td>-122.28</td>\n",
       "      <td>37.78</td>\n",
       "      <td>29.0</td>\n",
       "      <td>5154.0</td>\n",
       "      <td>NaN</td>\n",
       "      <td>3741.0</td>\n",
       "      <td>1273.0</td>\n",
       "      <td>2.5762</td>\n",
       "      <td>173400.0</td>\n",
       "      <td>NEAR BAY</td>\n",
       "    </tr>\n",
       "    <tr>\n",
       "      <th>3</th>\n",
       "      <td>-122.24</td>\n",
       "      <td>37.75</td>\n",
       "      <td>45.0</td>\n",
       "      <td>891.0</td>\n",
       "      <td>NaN</td>\n",
       "      <td>384.0</td>\n",
       "      <td>146.0</td>\n",
       "      <td>4.9489</td>\n",
       "      <td>247100.0</td>\n",
       "      <td>NEAR BAY</td>\n",
       "    </tr>\n",
       "    <tr>\n",
       "      <th>4</th>\n",
       "      <td>-122.10</td>\n",
       "      <td>37.69</td>\n",
       "      <td>41.0</td>\n",
       "      <td>746.0</td>\n",
       "      <td>NaN</td>\n",
       "      <td>387.0</td>\n",
       "      <td>161.0</td>\n",
       "      <td>3.9063</td>\n",
       "      <td>178400.0</td>\n",
       "      <td>NEAR BAY</td>\n",
       "    </tr>\n",
       "    <tr>\n",
       "      <th>...</th>\n",
       "      <td>...</td>\n",
       "      <td>...</td>\n",
       "      <td>...</td>\n",
       "      <td>...</td>\n",
       "      <td>...</td>\n",
       "      <td>...</td>\n",
       "      <td>...</td>\n",
       "      <td>...</td>\n",
       "      <td>...</td>\n",
       "      <td>...</td>\n",
       "    </tr>\n",
       "    <tr>\n",
       "      <th>202</th>\n",
       "      <td>-119.19</td>\n",
       "      <td>34.20</td>\n",
       "      <td>18.0</td>\n",
       "      <td>3620.0</td>\n",
       "      <td>NaN</td>\n",
       "      <td>3171.0</td>\n",
       "      <td>779.0</td>\n",
       "      <td>3.3409</td>\n",
       "      <td>220500.0</td>\n",
       "      <td>NEAR OCEAN</td>\n",
       "    </tr>\n",
       "    <tr>\n",
       "      <th>203</th>\n",
       "      <td>-119.18</td>\n",
       "      <td>34.19</td>\n",
       "      <td>19.0</td>\n",
       "      <td>2393.0</td>\n",
       "      <td>NaN</td>\n",
       "      <td>1938.0</td>\n",
       "      <td>762.0</td>\n",
       "      <td>1.6953</td>\n",
       "      <td>167400.0</td>\n",
       "      <td>NEAR OCEAN</td>\n",
       "    </tr>\n",
       "    <tr>\n",
       "      <th>204</th>\n",
       "      <td>-118.88</td>\n",
       "      <td>34.17</td>\n",
       "      <td>15.0</td>\n",
       "      <td>4260.0</td>\n",
       "      <td>NaN</td>\n",
       "      <td>1701.0</td>\n",
       "      <td>669.0</td>\n",
       "      <td>5.1033</td>\n",
       "      <td>410700.0</td>\n",
       "      <td>&lt;1H OCEAN</td>\n",
       "    </tr>\n",
       "    <tr>\n",
       "      <th>205</th>\n",
       "      <td>-118.75</td>\n",
       "      <td>34.29</td>\n",
       "      <td>17.0</td>\n",
       "      <td>5512.0</td>\n",
       "      <td>NaN</td>\n",
       "      <td>2734.0</td>\n",
       "      <td>814.0</td>\n",
       "      <td>6.6073</td>\n",
       "      <td>258100.0</td>\n",
       "      <td>&lt;1H OCEAN</td>\n",
       "    </tr>\n",
       "    <tr>\n",
       "      <th>206</th>\n",
       "      <td>-118.72</td>\n",
       "      <td>34.28</td>\n",
       "      <td>17.0</td>\n",
       "      <td>3051.0</td>\n",
       "      <td>NaN</td>\n",
       "      <td>1705.0</td>\n",
       "      <td>495.0</td>\n",
       "      <td>5.7376</td>\n",
       "      <td>218600.0</td>\n",
       "      <td>&lt;1H OCEAN</td>\n",
       "    </tr>\n",
       "  </tbody>\n",
       "</table>\n",
       "<p>207 rows × 10 columns</p>\n",
       "</div>"
      ],
      "text/plain": [
       "     longitude  latitude  housing_median_age  total_rooms  total_bedrooms  \\\n",
       "0      -122.16     37.77                47.0       1256.0             NaN   \n",
       "1      -122.17     37.75                38.0        992.0             NaN   \n",
       "2      -122.28     37.78                29.0       5154.0             NaN   \n",
       "3      -122.24     37.75                45.0        891.0             NaN   \n",
       "4      -122.10     37.69                41.0        746.0             NaN   \n",
       "..         ...       ...                 ...          ...             ...   \n",
       "202    -119.19     34.20                18.0       3620.0             NaN   \n",
       "203    -119.18     34.19                19.0       2393.0             NaN   \n",
       "204    -118.88     34.17                15.0       4260.0             NaN   \n",
       "205    -118.75     34.29                17.0       5512.0             NaN   \n",
       "206    -118.72     34.28                17.0       3051.0             NaN   \n",
       "\n",
       "     population  households  median_income  median_house_value ocean_proximity  \n",
       "0         570.0       218.0         4.3750            161900.0        NEAR BAY  \n",
       "1         732.0       259.0         1.6196             85100.0        NEAR BAY  \n",
       "2        3741.0      1273.0         2.5762            173400.0        NEAR BAY  \n",
       "3         384.0       146.0         4.9489            247100.0        NEAR BAY  \n",
       "4         387.0       161.0         3.9063            178400.0        NEAR BAY  \n",
       "..          ...         ...            ...                 ...             ...  \n",
       "202      3171.0       779.0         3.3409            220500.0      NEAR OCEAN  \n",
       "203      1938.0       762.0         1.6953            167400.0      NEAR OCEAN  \n",
       "204      1701.0       669.0         5.1033            410700.0       <1H OCEAN  \n",
       "205      2734.0       814.0         6.6073            258100.0       <1H OCEAN  \n",
       "206      1705.0       495.0         5.7376            218600.0       <1H OCEAN  \n",
       "\n",
       "[207 rows x 10 columns]"
      ]
     },
     "execution_count": 9,
     "metadata": {},
     "output_type": "execute_result"
    }
   ],
   "source": [
    "df.filter(F.col('total_bedrooms').isNull()).toPandas()"
   ]
  },
  {
   "cell_type": "markdown",
   "id": "de93898d",
   "metadata": {},
   "source": [
    "Заполним пропуски в столбце `total_bedrooms` медианой."
   ]
  },
  {
   "cell_type": "code",
   "execution_count": 10,
   "id": "f04fee6c",
   "metadata": {
    "scrolled": false
   },
   "outputs": [
    {
     "data": {
      "text/plain": [
       "435.0"
      ]
     },
     "execution_count": 10,
     "metadata": {},
     "output_type": "execute_result"
    }
   ],
   "source": [
    "median = np.median(df.filter(F.col('total_bedrooms').isNotNull()).select('total_bedrooms').collect())\n",
    "median"
   ]
  },
  {
   "cell_type": "code",
   "execution_count": 11,
   "id": "4e745b74",
   "metadata": {},
   "outputs": [],
   "source": [
    "df = df.fillna(median, subset=['total_bedrooms'])"
   ]
  },
  {
   "cell_type": "code",
   "execution_count": 12,
   "id": "419923ff",
   "metadata": {
    "scrolled": true
   },
   "outputs": [
    {
     "name": "stdout",
     "output_type": "stream",
     "text": [
      "longitude 0\n",
      "latitude 0\n",
      "housing_median_age 0\n",
      "total_rooms 0\n",
      "total_bedrooms 0\n",
      "population 0\n",
      "households 0\n",
      "median_income 0\n",
      "median_house_value 0\n",
      "ocean_proximity 0\n"
     ]
    }
   ],
   "source": [
    "find_misses(df)"
   ]
  },
  {
   "cell_type": "markdown",
   "id": "3dca8762",
   "metadata": {},
   "source": [
    "Смотрим на мультиколлинеарность"
   ]
  },
  {
   "cell_type": "code",
   "execution_count": 13,
   "id": "c20e1c41",
   "metadata": {
    "scrolled": false
   },
   "outputs": [
    {
     "data": {
      "image/png": "[encoded data removed]",
      "text/plain": [
       "<Figure size 720x720 with 2 Axes>"
      ]
     },
     "metadata": {
      "needs_background": "light"
     },
     "output_type": "display_data"
    }
   ],
   "source": [
    "plt.figure(figsize=(10, 10))\n",
    "sns.heatmap(df.limit(10000).toPandas().corr().round(2), annot=True, square=True);"
   ]
  },
  {
   "cell_type": "markdown",
   "id": "8e35ed9c",
   "metadata": {},
   "source": [
    "Удаляем выскокореллирующие признаки"
   ]
  },
  {
   "cell_type": "code",
   "execution_count": 14,
   "id": "c01f7402",
   "metadata": {},
   "outputs": [],
   "source": [
    "df = df.drop('total_rooms', 'total_bedrooms', 'population', 'longitude')"
   ]
  },
  {
   "cell_type": "code",
   "execution_count": 15,
   "id": "8fb8e481",
   "metadata": {},
   "outputs": [
    {
     "data": {
      "image/png": "[encoded data removed]",
      "text/plain": [
       "<Figure size 720x720 with 2 Axes>"
      ]
     },
     "metadata": {
      "needs_background": "light"
     },
     "output_type": "display_data"
    }
   ],
   "source": [
    "plt.figure(figsize=(10, 10))\n",
    "sns.heatmap(df.limit(10000).toPandas().corr().round(2), annot=True, square=True);"
   ]
  },
  {
   "cell_type": "markdown",
   "id": "f53bcf6b",
   "metadata": {},
   "source": [
    "### Подготовка признаков"
   ]
  },
  {
   "cell_type": "markdown",
   "id": "c33a89e6",
   "metadata": {},
   "source": [
    "Разбиваем на численные и категориальные признаки"
   ]
  },
  {
   "cell_type": "code",
   "execution_count": 16,
   "id": "f5fb3f68",
   "metadata": {
    "scrolled": false
   },
   "outputs": [
    {
     "data": {
      "text/plain": [
       "(['latitude', 'housing_median_age', 'households', 'median_income'],\n",
       " ['ocean_proximity'],\n",
       " 'median_house_value')"
      ]
     },
     "execution_count": 16,
     "metadata": {},
     "output_type": "execute_result"
    }
   ],
   "source": [
    "num_feutures = [column.name for column in df.schema if column.dataType == DoubleType()]\n",
    "num_feutures.remove('median_house_value')\n",
    "cat_feutures  = [column.name for column in df.schema if column.dataType == StringType()]\n",
    "target = 'median_house_value'\n",
    "num_feutures, cat_feutures, target"
   ]
  },
  {
   "cell_type": "markdown",
   "id": "589a64be",
   "metadata": {},
   "source": [
    "### Разбиваем данные"
   ]
  },
  {
   "cell_type": "code",
   "execution_count": 17,
   "id": "6257133f",
   "metadata": {
    "scrolled": true
   },
   "outputs": [],
   "source": [
    "def split_train_test():\n",
    "    train_data, test_data = df.randomSplit([0.8, 0.2], seed=0)\n",
    "    return train_data, test_data"
   ]
  },
  {
   "cell_type": "code",
   "execution_count": 18,
   "id": "227777e1",
   "metadata": {},
   "outputs": [],
   "source": [
    "train_data, test_data = split_train_test()"
   ]
  },
  {
   "cell_type": "code",
   "execution_count": 19,
   "id": "3e4e61c8",
   "metadata": {
    "scrolled": true
   },
   "outputs": [
    {
     "name": "stdout",
     "output_type": "stream",
     "text": [
      "+--------+------------------+----------+-------------+------------------+---------------+\n",
      "|latitude|housing_median_age|households|median_income|median_house_value|ocean_proximity|\n",
      "+--------+------------------+----------+-------------+------------------+---------------+\n",
      "|   32.54|               7.0|     282.0|       1.2667|           67500.0|     NEAR OCEAN|\n",
      "|   32.55|               5.0|     854.0|       1.4384|          108800.0|     NEAR OCEAN|\n",
      "|   32.55|               8.0|    1177.0|       3.9583|          144400.0|     NEAR OCEAN|\n",
      "|   32.55|              15.0|     648.0|       1.6348|           93200.0|     NEAR OCEAN|\n",
      "|   32.56|               5.0|     855.0|       1.7301|          125000.0|     NEAR OCEAN|\n",
      "+--------+------------------+----------+-------------+------------------+---------------+\n",
      "only showing top 5 rows\n",
      "\n"
     ]
    },
    {
     "name": "stderr",
     "output_type": "stream",
     "text": [
      "                                                                                \r"
     ]
    }
   ],
   "source": [
    "train_data.show(5)"
   ]
  },
  {
   "cell_type": "code",
   "execution_count": 20,
   "id": "93f64e03",
   "metadata": {
    "scrolled": true
   },
   "outputs": [
    {
     "name": "stdout",
     "output_type": "stream",
     "text": [
      "+--------+------------------+----------+-------------+------------------+---------------+\n",
      "|latitude|housing_median_age|households|median_income|median_house_value|ocean_proximity|\n",
      "+--------+------------------+----------+-------------+------------------+---------------+\n",
      "|   32.54|               7.0|     282.0|       1.2667|           67500.0|     NEAR OCEAN|\n",
      "|   32.55|               5.0|     854.0|       1.4384|          108800.0|     NEAR OCEAN|\n",
      "|   32.55|               8.0|    1177.0|       3.9583|          144400.0|     NEAR OCEAN|\n",
      "|   32.55|              15.0|     648.0|       1.6348|           93200.0|     NEAR OCEAN|\n",
      "|   32.56|               5.0|     855.0|       1.7301|          125000.0|     NEAR OCEAN|\n",
      "+--------+------------------+----------+-------------+------------------+---------------+\n",
      "only showing top 5 rows\n",
      "\n"
     ]
    }
   ],
   "source": [
    "train_data.show(5)"
   ]
  },
  {
   "cell_type": "markdown",
   "id": "d6c3f6c2",
   "metadata": {},
   "source": [
    "### Трансформация категориальных признаков"
   ]
  },
  {
   "cell_type": "code",
   "execution_count": 21,
   "id": "73e62133",
   "metadata": {},
   "outputs": [
    {
     "name": "stderr",
     "output_type": "stream",
     "text": [
      "                                                                                \r"
     ]
    }
   ],
   "source": [
    "indexer = StringIndexer(inputCols=cat_feutures, outputCols=[c+'_idx' for c in cat_feutures],  handleInvalid='keep')\n",
    "indexer = indexer.fit(train_data)\n",
    "train_data = indexer.transform(train_data)\n",
    "test_data = indexer.transform(test_data)"
   ]
  },
  {
   "cell_type": "code",
   "execution_count": 22,
   "id": "bb3018ac",
   "metadata": {},
   "outputs": [],
   "source": [
    "encoder = OneHotEncoder(inputCols=[c+'_idx' for c in cat_feutures], outputCols=[c+'_ohe' for c in cat_feutures])\n",
    "encoder = encoder.fit(train_data)\n",
    "test_data = encoder.transform(test_data)\n",
    "train_data = encoder.transform(train_data)"
   ]
  },
  {
   "cell_type": "markdown",
   "id": "9610fd3a",
   "metadata": {},
   "source": [
    "Объединение признаков в один вектор"
   ]
  },
  {
   "cell_type": "code",
   "execution_count": 23,
   "id": "2247e118",
   "metadata": {},
   "outputs": [],
   "source": [
    "categorical_assembler = VectorAssembler(inputCols=[c+'_ohe' for c in cat_feutures], outputCol=\"categorical_features\")\n",
    "test_data = categorical_assembler.transform(test_data) \n",
    "train_data = categorical_assembler.transform(train_data) "
   ]
  },
  {
   "cell_type": "markdown",
   "id": "fb98d87d",
   "metadata": {},
   "source": [
    "### Трансформация числовых признаков"
   ]
  },
  {
   "cell_type": "code",
   "execution_count": 24,
   "id": "5fc3f533",
   "metadata": {},
   "outputs": [],
   "source": [
    "numerical_assembler = VectorAssembler(inputCols=num_feutures, outputCol=\"numerical_features\")\n",
    "test_data = numerical_assembler.transform(test_data)\n",
    "train_data = numerical_assembler.transform(train_data)"
   ]
  },
  {
   "cell_type": "code",
   "execution_count": 25,
   "id": "e0f0bf14",
   "metadata": {},
   "outputs": [
    {
     "name": "stderr",
     "output_type": "stream",
     "text": [
      "                                                                                \r"
     ]
    }
   ],
   "source": [
    "standardScaler = StandardScaler(inputCol='numerical_features', outputCol=\"numerical_features_scaled\")\n",
    "standardScaler = standardScaler.fit(train_data)\n",
    "test_data = standardScaler.transform(test_data) \n",
    "train_data = standardScaler.transform(train_data) "
   ]
  },
  {
   "cell_type": "markdown",
   "id": "e03ecb08",
   "metadata": {},
   "source": [
    "Объединение признаков в один вектор"
   ]
  },
  {
   "cell_type": "code",
   "execution_count": 26,
   "id": "51d24152",
   "metadata": {},
   "outputs": [],
   "source": [
    "all_features = ['categorical_features','numerical_features_scaled']\n",
    "final_assembler = VectorAssembler(inputCols=all_features, outputCol=\"features\") \n",
    "test_data = final_assembler.transform(test_data)\n",
    "train_data = final_assembler.transform(train_data)"
   ]
  },
  {
   "cell_type": "code",
   "execution_count": 27,
   "id": "bd3a10d3",
   "metadata": {},
   "outputs": [
    {
     "name": "stdout",
     "output_type": "stream",
     "text": [
      "+--------+------------------+----------+-------------+------------------+---------------+-------------------+-------------------+--------------------+--------------------+-------------------------+--------------------+\n",
      "|latitude|housing_median_age|households|median_income|median_house_value|ocean_proximity|ocean_proximity_idx|ocean_proximity_ohe|categorical_features|  numerical_features|numerical_features_scaled|            features|\n",
      "+--------+------------------+----------+-------------+------------------+---------------+-------------------+-------------------+--------------------+--------------------+-------------------------+--------------------+\n",
      "|   32.54|               7.0|     282.0|       1.2667|           67500.0|     NEAR OCEAN|                2.0|      (5,[2],[1.0])|       (5,[2],[1.0])|[32.54,7.0,282.0,...|     [15.2512184954674...|[0.0,0.0,1.0,0.0,...|\n",
      "|   32.55|               5.0|     854.0|       1.4384|          108800.0|     NEAR OCEAN|                2.0|      (5,[2],[1.0])|       (5,[2],[1.0])|[32.55,5.0,854.0,...|     [15.2559054095717...|[0.0,0.0,1.0,0.0,...|\n",
      "|   32.55|               8.0|    1177.0|       3.9583|          144400.0|     NEAR OCEAN|                2.0|      (5,[2],[1.0])|       (5,[2],[1.0])|[32.55,8.0,1177.0...|     [15.2559054095717...|[0.0,0.0,1.0,0.0,...|\n",
      "|   32.55|              15.0|     648.0|       1.6348|           93200.0|     NEAR OCEAN|                2.0|      (5,[2],[1.0])|       (5,[2],[1.0])|[32.55,15.0,648.0...|     [15.2559054095717...|[0.0,0.0,1.0,0.0,...|\n",
      "|   32.56|               5.0|     855.0|       1.7301|          125000.0|     NEAR OCEAN|                2.0|      (5,[2],[1.0])|       (5,[2],[1.0])|[32.56,5.0,855.0,...|     [15.2605923236760...|[0.0,0.0,1.0,0.0,...|\n",
      "+--------+------------------+----------+-------------+------------------+---------------+-------------------+-------------------+--------------------+--------------------+-------------------------+--------------------+\n",
      "only showing top 5 rows\n",
      "\n"
     ]
    }
   ],
   "source": [
    "train_data.show(5)"
   ]
  },
  {
   "cell_type": "code",
   "execution_count": 28,
   "id": "57113e21",
   "metadata": {
    "scrolled": false
   },
   "outputs": [
    {
     "name": "stdout",
     "output_type": "stream",
     "text": [
      "+--------+------------------+----------+-------------+------------------+---------------+-------------------+-------------------+--------------------+--------------------+-------------------------+--------------------+\n",
      "|latitude|housing_median_age|households|median_income|median_house_value|ocean_proximity|ocean_proximity_idx|ocean_proximity_ohe|categorical_features|  numerical_features|numerical_features_scaled|            features|\n",
      "+--------+------------------+----------+-------------+------------------+---------------+-------------------+-------------------+--------------------+--------------------+-------------------------+--------------------+\n",
      "|   32.57|              17.0|      87.0|       5.1478|          138900.0|     NEAR OCEAN|                2.0|      (5,[2],[1.0])|       (5,[2],[1.0])|[32.57,17.0,87.0,...|     [15.2652792377804...|[0.0,0.0,1.0,0.0,...|\n",
      "|   32.57|              17.0|     365.0|       4.6364|          141100.0|     NEAR OCEAN|                2.0|      (5,[2],[1.0])|       (5,[2],[1.0])|[32.57,17.0,365.0...|     [15.2652792377804...|[0.0,0.0,1.0,0.0,...|\n",
      "|   32.57|              25.0|     299.0|       3.0284|          123600.0|     NEAR OCEAN|                2.0|      (5,[2],[1.0])|       (5,[2],[1.0])|[32.57,25.0,299.0...|     [15.2652792377804...|[0.0,0.0,1.0,0.0,...|\n",
      "|   32.57|              26.0|     372.0|       4.3601|          144900.0|     NEAR OCEAN|                2.0|      (5,[2],[1.0])|       (5,[2],[1.0])|[32.57,26.0,372.0...|     [15.2652792377804...|[0.0,0.0,1.0,0.0,...|\n",
      "|   32.57|              32.0|     562.0|       3.3371|          140500.0|     NEAR OCEAN|                2.0|      (5,[2],[1.0])|       (5,[2],[1.0])|[32.57,32.0,562.0...|     [15.2652792377804...|[0.0,0.0,1.0,0.0,...|\n",
      "+--------+------------------+----------+-------------+------------------+---------------+-------------------+-------------------+--------------------+--------------------+-------------------------+--------------------+\n",
      "only showing top 5 rows\n",
      "\n"
     ]
    }
   ],
   "source": [
    "test_data.show(5)"
   ]
  },
  {
   "cell_type": "markdown",
   "id": "9f0a82f3",
   "metadata": {
    "id": "9f0a82f3"
   },
   "source": [
    "## Обучение модели"
   ]
  },
  {
   "cell_type": "code",
   "execution_count": 31,
   "id": "3e0c8771",
   "metadata": {},
   "outputs": [],
   "source": [
    "def find_metrics(model):\n",
    "    '''\n",
    "    Функция вывода метрик RMSE, MAE, R2\n",
    "    '''\n",
    "    predictions = model.transform(test_data)\n",
    "    predicted = spark.sparkContext.parallelize(predictions.select(target, 'prediction').collect())\n",
    "    metrics = RegressionMetrics(predicted)\n",
    "    print(f'RMSE: {metrics.rootMeanSquaredError:.5}')\n",
    "    print(f'MAE: {metrics.meanAbsoluteError:.5}')\n",
    "    print(f'R2: {metrics.r2:.5}')"
   ]
  },
  {
   "cell_type": "markdown",
   "id": "34a2c726",
   "metadata": {},
   "source": [
    "Модель линейной регрессии, используя все фичи"
   ]
  },
  {
   "cell_type": "code",
   "execution_count": 32,
   "id": "ca0c32ca",
   "metadata": {
    "scrolled": true
   },
   "outputs": [
    {
     "name": "stderr",
     "output_type": "stream",
     "text": [
      "23/08/26 04:07:58 WARN BLAS: Failed to load implementation from: com.github.fommil.netlib.NativeSystemBLAS\n",
      "23/08/26 04:07:58 WARN BLAS: Failed to load implementation from: com.github.fommil.netlib.NativeRefBLAS\n",
      "                                                                                \r"
     ]
    },
    {
     "name": "stdout",
     "output_type": "stream",
     "text": [
      "RMSE: 6.6222e+04\n",
      "MAE: 4.6262e+04\n",
      "R2: 0.52173\n"
     ]
    }
   ],
   "source": [
    "gbt = GBTRegressor(labelCol=target, featuresCol='features')\n",
    "model = gbt.fit(train_data)\n",
    "find_metrics(model)"
   ]
  },
  {
   "cell_type": "markdown",
   "id": "520f3f0b",
   "metadata": {},
   "source": [
    "## Собираем все в пайплайн"
   ]
  },
  {
   "cell_type": "code",
   "execution_count": 33,
   "id": "315e561e",
   "metadata": {
    "scrolled": true
   },
   "outputs": [],
   "source": [
    "train_data, test_data = split_train_test()"
   ]
  },
  {
   "cell_type": "code",
   "execution_count": 34,
   "id": "cdf41684",
   "metadata": {},
   "outputs": [],
   "source": [
    "# indexer = StringIndexer(inputCols=cat_feutures, outputCols=[c+'_idx' for c in cat_feutures],  handleInvalid='keep')\n",
    "# encoder = OneHotEncoder(inputCols=[c+'_idx' for c in cat_feutures], outputCols=[c+'_ohe' for c in cat_feutures])\n",
    "# categorical_assembler = VectorAssembler(inputCols=[c+'_ohe' for c in cat_feutures], outputCol=\"categorical_features\")\n",
    "\n",
    "# numerical_assembler = VectorAssembler(inputCols=num_feutures, outputCol=\"numerical_features\")\n",
    "# standardScaler = StandardScaler(inputCol='numerical_features', outputCol=\"numerical_features_scaled\")\n",
    "# all_features = ['categorical_features','numerical_features_scaled']\n",
    "# final_assembler = VectorAssembler(inputCols=all_features, outputCol=\"features\") \n",
    "\n",
    "pipeline = Pipeline(stages = [indexer,\n",
    "                              encoder,\n",
    "                              categorical_assembler,\n",
    "                              numerical_assembler,\n",
    "                              standardScaler,\n",
    "                              final_assembler,\n",
    "                              gbt\n",
    "                              ]\n",
    "                   )"
   ]
  },
  {
   "cell_type": "code",
   "execution_count": 35,
   "id": "b59c66cf",
   "metadata": {},
   "outputs": [],
   "source": [
    "pipeline_model = pipeline.fit(train_data)"
   ]
  },
  {
   "cell_type": "code",
   "execution_count": 36,
   "id": "3e50c346",
   "metadata": {},
   "outputs": [
    {
     "name": "stdout",
     "output_type": "stream",
     "text": [
      "RMSE: 6.6222e+04\n",
      "MAE: 4.6262e+04\n",
      "R2: 0.52173\n"
     ]
    }
   ],
   "source": [
    "find_metrics(pipeline_model)"
   ]
  },
  {
   "cell_type": "markdown",
   "id": "195a36a6",
   "metadata": {},
   "source": [
    "## Оптимизация гиперпараметров"
   ]
  },
  {
   "cell_type": "markdown",
   "id": "bb8e570d",
   "metadata": {},
   "source": [
    "Посмотрим на возможности Spark  в плане оптимизации и кросс-валидации "
   ]
  },
  {
   "cell_type": "code",
   "execution_count": 37,
   "id": "49ed9010",
   "metadata": {
    "scrolled": true
   },
   "outputs": [],
   "source": [
    "train_data, test_data = split_train_test()"
   ]
  },
  {
   "cell_type": "code",
   "execution_count": 38,
   "id": "e158e09e",
   "metadata": {},
   "outputs": [],
   "source": [
    "# indexer = StringIndexer(inputCols=cat_feutures, outputCols=[c+'_idx' for c in cat_feutures],  handleInvalid='keep')\n",
    "# encoder = OneHotEncoder(inputCols=[c+'_idx' for c in cat_feutures], outputCols=[c+'_ohe' for c in cat_feutures])\n",
    "# categorical_assembler = VectorAssembler(inputCols=[c+'_ohe' for c in cat_feutures], outputCol=\"categorical_features\")\n",
    "\n",
    "# numerical_assembler = VectorAssembler(inputCols=num_feutures, outputCol=\"numerical_features\")\n",
    "# standardScaler = StandardScaler(inputCol='numerical_features', outputCol=\"numerical_features_scaled\")\n",
    "# all_features = ['categorical_features','numerical_features_scaled']\n",
    "# final_assembler = VectorAssembler(inputCols=all_features, outputCol=\"features\") \n",
    "\n",
    "# gbt = GBTRegressor(labelCol=target, featuresCol='features')\n",
    "\n",
    "# pipeline = Pipeline(stages = [indexer,\n",
    "#                               encoder,\n",
    "#                               categorical_assembler,\n",
    "#                               numerical_assembler,\n",
    "#                               standardScaler,\n",
    "#                               final_assembler,\n",
    "#                               gbt\n",
    "#                               ]\n",
    "#                    )"
   ]
  },
  {
   "cell_type": "markdown",
   "id": "2ffbfc3a",
   "metadata": {},
   "source": [
    "Задаем пространство для поиска"
   ]
  },
  {
   "cell_type": "code",
   "execution_count": 39,
   "id": "e9cd2e83",
   "metadata": {},
   "outputs": [],
   "source": [
    "paramGrid = ParamGridBuilder() \\\n",
    "    .addGrid(gbt.maxIter, [10, 20, 30])\\\n",
    "    .addGrid(gbt.maxDepth, [3, 4, 5])\\\n",
    "    .build()"
   ]
  },
  {
   "cell_type": "markdown",
   "id": "370ee62a",
   "metadata": {},
   "source": [
    "Кросс-валидация"
   ]
  },
  {
   "cell_type": "code",
   "execution_count": 40,
   "id": "d0d5a8e6",
   "metadata": {},
   "outputs": [],
   "source": [
    "crossval = CrossValidator(estimator=pipeline,\n",
    "                          estimatorParamMaps=paramGrid,\n",
    "                          evaluator=RegressionEvaluator(labelCol=target),\n",
    "                          numFolds=5) "
   ]
  },
  {
   "cell_type": "code",
   "execution_count": 41,
   "id": "87261619",
   "metadata": {
    "scrolled": true
   },
   "outputs": [
    {
     "name": "stderr",
     "output_type": "stream",
     "text": [
      "                                                                                \r"
     ]
    }
   ],
   "source": [
    "cvModel = crossval.fit(train_data)"
   ]
  },
  {
   "cell_type": "code",
   "execution_count": 42,
   "id": "4c09e11b",
   "metadata": {},
   "outputs": [
    {
     "name": "stdout",
     "output_type": "stream",
     "text": [
      "RMSE: 6.5392e+04\n",
      "MAE: 4.5609e+04\n",
      "R2: 0.53693\n"
     ]
    }
   ],
   "source": [
    "find_metrics(cvModel.bestModel)"
   ]
  },
  {
   "cell_type": "markdown",
   "id": "be54b760",
   "metadata": {},
   "source": [
    "Останавливаем Spark сессию"
   ]
  },
  {
   "cell_type": "code",
   "execution_count": 43,
   "id": "1c39739c",
   "metadata": {},
   "outputs": [],
   "source": [
    "spark.stop()"
   ]
  },
  {
   "cell_type": "markdown",
   "id": "757fd103",
   "metadata": {
    "id": "757fd103"
   },
   "source": [
    "## Вывод"
   ]
  },
  {
   "cell_type": "markdown",
   "id": "82948fe2",
   "metadata": {},
   "source": [
    "В результате проделанной работы были исследованы возможности Spark. Попробовали обработать и подготовить фичи по отдельности, потом через пайплайн, далее посмотрели как работает оптимизатор в Spark."
   ]
  }
 ],
 "metadata": {
  "ExecuteTimeLog": [
   {
    "duration": 25295,
    "start_time": "2023-08-20T12:31:40.411Z"
   },
   {
    "duration": 41,
    "start_time": "2023-08-20T12:32:09.386Z"
   },
   {
    "duration": 409,
    "start_time": "2023-08-20T12:32:15.966Z"
   },
   {
    "duration": 190,
    "start_time": "2023-08-20T12:32:21.598Z"
   },
   {
    "duration": 421,
    "start_time": "2023-08-20T12:32:30.482Z"
   },
   {
    "duration": 1104,
    "start_time": "2023-08-20T12:32:42.070Z"
   },
   {
    "duration": 850,
    "start_time": "2023-08-20T12:32:46.907Z"
   },
   {
    "duration": 784,
    "start_time": "2023-08-20T12:33:13.890Z"
   },
   {
    "duration": 632,
    "start_time": "2023-08-20T12:33:28.350Z"
   },
   {
    "duration": 544,
    "start_time": "2023-08-20T12:33:46.444Z"
   },
   {
    "duration": 1492,
    "start_time": "2023-08-20T12:33:58.933Z"
   },
   {
    "duration": 447,
    "start_time": "2023-08-20T12:34:05.662Z"
   },
   {
    "duration": 6,
    "start_time": "2023-08-20T12:34:42.766Z"
   },
   {
    "duration": 276,
    "start_time": "2023-08-20T12:35:18.498Z"
   },
   {
    "duration": 293,
    "start_time": "2023-08-20T12:35:28.991Z"
   },
   {
    "duration": 550,
    "start_time": "2023-08-20T12:35:34.651Z"
   },
   {
    "duration": 507,
    "start_time": "2023-08-20T12:35:35.203Z"
   },
   {
    "duration": 5,
    "start_time": "2023-08-20T12:35:35.742Z"
   },
   {
    "duration": 718,
    "start_time": "2023-08-20T12:36:31.972Z"
   },
   {
    "duration": 23,
    "start_time": "2023-08-20T12:36:52.503Z"
   },
   {
    "duration": 19,
    "start_time": "2023-08-20T12:36:58.311Z"
   },
   {
    "duration": 616,
    "start_time": "2023-08-20T12:37:02.159Z"
   },
   {
    "duration": 19,
    "start_time": "2023-08-20T12:37:08.530Z"
   },
   {
    "duration": 29,
    "start_time": "2023-08-20T12:37:21.058Z"
   },
   {
    "duration": 17,
    "start_time": "2023-08-20T12:37:56.379Z"
   },
   {
    "duration": 305,
    "start_time": "2023-08-20T12:38:01.290Z"
   },
   {
    "duration": 485,
    "start_time": "2023-08-20T12:38:32.903Z"
   },
   {
    "duration": 494,
    "start_time": "2023-08-20T12:38:45.101Z"
   },
   {
    "duration": 343,
    "start_time": "2023-08-20T12:38:46.710Z"
   },
   {
    "duration": 16,
    "start_time": "2023-08-20T12:39:14.120Z"
   },
   {
    "duration": 18,
    "start_time": "2023-08-20T12:39:18.017Z"
   },
   {
    "duration": 17,
    "start_time": "2023-08-20T12:39:53.289Z"
   },
   {
    "duration": 14,
    "start_time": "2023-08-20T12:39:57.237Z"
   },
   {
    "duration": 14,
    "start_time": "2023-08-20T12:40:12.462Z"
   },
   {
    "duration": 38,
    "start_time": "2023-08-20T12:41:44.613Z"
   },
   {
    "duration": 1887,
    "start_time": "2023-08-20T12:41:55.888Z"
   },
   {
    "duration": 243,
    "start_time": "2023-08-20T12:42:35.934Z"
   },
   {
    "duration": 4,
    "start_time": "2023-08-20T12:43:22.713Z"
   },
   {
    "duration": 23,
    "start_time": "2023-08-20T12:43:25.134Z"
   },
   {
    "duration": 370,
    "start_time": "2023-08-20T12:43:27.280Z"
   },
   {
    "duration": 13,
    "start_time": "2023-08-20T12:43:38.242Z"
   },
   {
    "duration": 800,
    "start_time": "2023-08-20T12:43:39.827Z"
   },
   {
    "duration": 309,
    "start_time": "2023-08-20T12:43:45.324Z"
   },
   {
    "duration": 11,
    "start_time": "2023-08-20T12:47:50.666Z"
   },
   {
    "duration": 6,
    "start_time": "2023-08-20T12:47:53.109Z"
   },
   {
    "duration": 5,
    "start_time": "2023-08-20T12:47:59.778Z"
   },
   {
    "duration": 4,
    "start_time": "2023-08-20T12:49:12.504Z"
   },
   {
    "duration": 3,
    "start_time": "2023-08-20T12:49:46.341Z"
   },
   {
    "duration": 5,
    "start_time": "2023-08-20T12:49:55.330Z"
   },
   {
    "duration": 3,
    "start_time": "2023-08-20T12:50:10.186Z"
   },
   {
    "duration": 4,
    "start_time": "2023-08-20T12:51:12.676Z"
   },
   {
    "duration": 4,
    "start_time": "2023-08-20T12:51:24.907Z"
   },
   {
    "duration": 4,
    "start_time": "2023-08-20T12:51:52.501Z"
   },
   {
    "duration": 4,
    "start_time": "2023-08-20T12:52:16.642Z"
   },
   {
    "duration": 4,
    "start_time": "2023-08-20T12:52:27.237Z"
   },
   {
    "duration": 4,
    "start_time": "2023-08-20T12:52:37.307Z"
   },
   {
    "duration": 5,
    "start_time": "2023-08-20T12:52:44.070Z"
   },
   {
    "duration": 4,
    "start_time": "2023-08-20T12:52:47.098Z"
   },
   {
    "duration": 4,
    "start_time": "2023-08-20T12:53:45.547Z"
   },
   {
    "duration": 5,
    "start_time": "2023-08-20T12:53:48.814Z"
   },
   {
    "duration": 5,
    "start_time": "2023-08-20T12:53:57.787Z"
   },
   {
    "duration": 6,
    "start_time": "2023-08-20T12:54:15.923Z"
   },
   {
    "duration": 9,
    "start_time": "2023-08-20T12:55:23.138Z"
   },
   {
    "duration": 4,
    "start_time": "2023-08-20T12:55:28.265Z"
   },
   {
    "duration": 181,
    "start_time": "2023-08-20T12:55:28.779Z"
   },
   {
    "duration": 149,
    "start_time": "2023-08-20T12:56:51.650Z"
   },
   {
    "duration": 5,
    "start_time": "2023-08-20T12:57:26.675Z"
   },
   {
    "duration": 151,
    "start_time": "2023-08-20T12:57:26.960Z"
   },
   {
    "duration": 4,
    "start_time": "2023-08-20T12:57:36.472Z"
   },
   {
    "duration": 148,
    "start_time": "2023-08-20T12:57:38.567Z"
   },
   {
    "duration": 167,
    "start_time": "2023-08-20T12:57:59.158Z"
   },
   {
    "duration": 455,
    "start_time": "2023-08-20T12:58:55.349Z"
   },
   {
    "duration": 499,
    "start_time": "2023-08-20T12:58:55.806Z"
   },
   {
    "duration": 4,
    "start_time": "2023-08-20T12:58:56.307Z"
   },
   {
    "duration": 505,
    "start_time": "2023-08-20T12:58:56.313Z"
   },
   {
    "duration": 413,
    "start_time": "2023-08-20T12:58:56.819Z"
   },
   {
    "duration": 5,
    "start_time": "2023-08-20T12:58:57.234Z"
   },
   {
    "duration": 6,
    "start_time": "2023-08-20T12:58:57.266Z"
   },
   {
    "duration": 170,
    "start_time": "2023-08-20T12:58:57.274Z"
   },
   {
    "duration": 145,
    "start_time": "2023-08-20T13:00:28.361Z"
   },
   {
    "duration": 153,
    "start_time": "2023-08-20T13:00:49.132Z"
   },
   {
    "duration": 9,
    "start_time": "2023-08-20T13:01:13.130Z"
   },
   {
    "duration": 479,
    "start_time": "2023-08-20T13:01:18.547Z"
   },
   {
    "duration": 191,
    "start_time": "2023-08-20T13:01:30.193Z"
   },
   {
    "duration": 35,
    "start_time": "2023-08-20T13:03:07.158Z"
   },
   {
    "duration": 21,
    "start_time": "2023-08-20T13:03:34.731Z"
   },
   {
    "duration": 10,
    "start_time": "2023-08-20T13:03:58.906Z"
   },
   {
    "duration": 14,
    "start_time": "2023-08-20T13:04:05.516Z"
   },
   {
    "duration": 151,
    "start_time": "2023-08-20T13:04:26.037Z"
   },
   {
    "duration": 336,
    "start_time": "2023-08-20T13:05:26.274Z"
   },
   {
    "duration": 550,
    "start_time": "2023-08-20T13:05:31.986Z"
   },
   {
    "duration": 4,
    "start_time": "2023-08-20T13:05:37.642Z"
   },
   {
    "duration": 281,
    "start_time": "2023-08-20T13:05:40.559Z"
   },
   {
    "duration": 318,
    "start_time": "2023-08-20T13:05:42.088Z"
   },
   {
    "duration": 330,
    "start_time": "2023-08-20T13:05:47.887Z"
   },
   {
    "duration": 6,
    "start_time": "2023-08-20T13:05:55.115Z"
   },
   {
    "duration": 5,
    "start_time": "2023-08-20T13:05:58.029Z"
   },
   {
    "duration": 162,
    "start_time": "2023-08-20T13:06:03.206Z"
   },
   {
    "duration": 10,
    "start_time": "2023-08-20T13:06:36.728Z"
   },
   {
    "duration": 380,
    "start_time": "2023-08-20T13:06:43.120Z"
   },
   {
    "duration": 4,
    "start_time": "2023-08-20T13:06:44.333Z"
   },
   {
    "duration": 359,
    "start_time": "2023-08-20T13:06:55.927Z"
   },
   {
    "duration": 4,
    "start_time": "2023-08-20T13:06:56.888Z"
   },
   {
    "duration": 503,
    "start_time": "2023-08-20T13:07:06.099Z"
   },
   {
    "duration": 5,
    "start_time": "2023-08-20T13:07:12.472Z"
   },
   {
    "duration": 278,
    "start_time": "2023-08-20T13:07:15.113Z"
   },
   {
    "duration": 289,
    "start_time": "2023-08-20T13:07:18.026Z"
   },
   {
    "duration": 4,
    "start_time": "2023-08-20T13:07:24.451Z"
   },
   {
    "duration": 138,
    "start_time": "2023-08-20T13:07:26.181Z"
   },
   {
    "duration": 1623,
    "start_time": "2023-08-20T13:10:22.259Z"
   },
   {
    "duration": 349,
    "start_time": "2023-08-20T13:10:35.838Z"
   },
   {
    "duration": 232,
    "start_time": "2023-08-20T13:11:04.339Z"
   },
   {
    "duration": 1577,
    "start_time": "2023-08-20T13:11:16.448Z"
   },
   {
    "duration": 15688,
    "start_time": "2023-08-22T14:35:35.402Z"
   },
   {
    "duration": 8586,
    "start_time": "2023-08-22T14:35:51.093Z"
   },
   {
    "duration": 15,
    "start_time": "2023-08-22T14:35:59.681Z"
   },
   {
    "duration": 1293,
    "start_time": "2023-08-22T14:35:59.698Z"
   },
   {
    "duration": 1001,
    "start_time": "2023-08-22T14:36:00.994Z"
   },
   {
    "duration": 4,
    "start_time": "2023-08-22T14:36:01.997Z"
   },
   {
    "duration": 119,
    "start_time": "2023-08-22T14:36:02.002Z"
   },
   {
    "duration": 0,
    "start_time": "2023-08-22T14:36:02.123Z"
   },
   {
    "duration": 0,
    "start_time": "2023-08-22T14:36:02.124Z"
   },
   {
    "duration": 0,
    "start_time": "2023-08-22T14:36:02.125Z"
   },
   {
    "duration": 4,
    "start_time": "2023-08-22T14:36:26.634Z"
   },
   {
    "duration": 2865,
    "start_time": "2023-08-22T14:36:32.622Z"
   },
   {
    "duration": 380,
    "start_time": "2023-08-22T14:36:35.490Z"
   },
   {
    "duration": 1948,
    "start_time": "2023-08-22T14:36:35.872Z"
   },
   {
    "duration": 16510,
    "start_time": "2023-08-23T03:42:03.079Z"
   },
   {
    "duration": 10290,
    "start_time": "2023-08-23T03:42:19.593Z"
   },
   {
    "duration": 80,
    "start_time": "2023-08-23T03:42:29.885Z"
   },
   {
    "duration": 1693,
    "start_time": "2023-08-23T03:42:29.967Z"
   },
   {
    "duration": 1127,
    "start_time": "2023-08-23T03:42:31.667Z"
   },
   {
    "duration": 5,
    "start_time": "2023-08-23T03:42:32.796Z"
   },
   {
    "duration": 6,
    "start_time": "2023-08-23T03:42:32.803Z"
   },
   {
    "duration": 3061,
    "start_time": "2023-08-23T03:42:32.810Z"
   },
   {
    "duration": 310,
    "start_time": "2023-08-23T03:42:35.872Z"
   },
   {
    "duration": 2133,
    "start_time": "2023-08-23T03:42:36.185Z"
   },
   {
    "duration": 5,
    "start_time": "2023-08-23T03:48:58.826Z"
   },
   {
    "duration": 931,
    "start_time": "2023-08-23T03:48:59.148Z"
   },
   {
    "duration": 9,
    "start_time": "2023-08-23T03:49:00.081Z"
   },
   {
    "duration": 1080,
    "start_time": "2023-08-23T03:49:01.321Z"
   },
   {
    "duration": 79,
    "start_time": "2023-08-23T03:49:10.226Z"
   },
   {
    "duration": 25,
    "start_time": "2023-08-23T03:49:22.802Z"
   },
   {
    "duration": 639,
    "start_time": "2023-08-23T03:49:28.548Z"
   },
   {
    "duration": 113,
    "start_time": "2023-08-23T03:49:39.812Z"
   },
   {
    "duration": 14,
    "start_time": "2023-08-23T03:49:43.917Z"
   },
   {
    "duration": 22,
    "start_time": "2023-08-23T03:50:24.576Z"
   },
   {
    "duration": 499,
    "start_time": "2023-08-23T03:50:28.727Z"
   },
   {
    "duration": 320,
    "start_time": "2023-08-23T03:50:36.548Z"
   },
   {
    "duration": 24,
    "start_time": "2023-08-23T03:50:46.302Z"
   },
   {
    "duration": 218,
    "start_time": "2023-08-23T03:50:58.493Z"
   },
   {
    "duration": 15,
    "start_time": "2023-08-23T03:53:08.995Z"
   },
   {
    "duration": 117,
    "start_time": "2023-08-23T03:53:13.108Z"
   },
   {
    "duration": 164,
    "start_time": "2023-08-23T03:53:15.385Z"
   },
   {
    "duration": 28,
    "start_time": "2023-08-23T03:53:23.377Z"
   },
   {
    "duration": 30,
    "start_time": "2023-08-23T04:03:03.458Z"
   },
   {
    "duration": 249,
    "start_time": "2023-08-23T04:03:16.141Z"
   },
   {
    "duration": 198,
    "start_time": "2023-08-23T04:03:22.293Z"
   },
   {
    "duration": 238,
    "start_time": "2023-08-23T04:03:28.983Z"
   },
   {
    "duration": 23,
    "start_time": "2023-08-23T04:03:54.287Z"
   },
   {
    "duration": 119,
    "start_time": "2023-08-23T04:14:05.161Z"
   },
   {
    "duration": 117,
    "start_time": "2023-08-23T04:14:15.701Z"
   },
   {
    "duration": 12,
    "start_time": "2023-08-23T04:14:27.753Z"
   },
   {
    "duration": 4,
    "start_time": "2023-08-23T04:14:34.705Z"
   },
   {
    "duration": 14,
    "start_time": "2023-08-23T04:14:37.339Z"
   },
   {
    "duration": 485,
    "start_time": "2023-08-23T04:14:46.781Z"
   },
   {
    "duration": 357,
    "start_time": "2023-08-23T04:15:06.202Z"
   },
   {
    "duration": 19,
    "start_time": "2023-08-23T04:15:27.002Z"
   },
   {
    "duration": 305,
    "start_time": "2023-08-23T04:15:32.433Z"
   },
   {
    "duration": 475,
    "start_time": "2023-08-23T04:15:40.085Z"
   },
   {
    "duration": 3028,
    "start_time": "2023-08-23T04:16:35.632Z"
   },
   {
    "duration": 1529,
    "start_time": "2023-08-23T04:16:47.355Z"
   },
   {
    "duration": 18,
    "start_time": "2023-08-23T04:17:51.964Z"
   },
   {
    "duration": 15,
    "start_time": "2023-08-23T04:17:57.421Z"
   },
   {
    "duration": 15,
    "start_time": "2023-08-23T04:18:03.711Z"
   },
   {
    "duration": 618,
    "start_time": "2023-08-23T04:18:14.723Z"
   },
   {
    "duration": 447,
    "start_time": "2023-08-23T04:18:26.830Z"
   },
   {
    "duration": 383,
    "start_time": "2023-08-23T04:18:33.078Z"
   },
   {
    "duration": 339,
    "start_time": "2023-08-23T04:18:39.385Z"
   },
   {
    "duration": 425,
    "start_time": "2023-08-23T04:18:45.696Z"
   },
   {
    "duration": 176,
    "start_time": "2023-08-23T04:18:50.116Z"
   },
   {
    "duration": 316,
    "start_time": "2023-08-23T04:18:53.650Z"
   },
   {
    "duration": 281,
    "start_time": "2023-08-23T04:18:56.018Z"
   },
   {
    "duration": 295,
    "start_time": "2023-08-23T04:18:59.064Z"
   },
   {
    "duration": 276,
    "start_time": "2023-08-23T04:19:08.604Z"
   },
   {
    "duration": 2498,
    "start_time": "2023-08-23T04:19:12.924Z"
   },
   {
    "duration": 428,
    "start_time": "2023-08-23T04:19:20.655Z"
   },
   {
    "duration": 269,
    "start_time": "2023-08-23T04:19:27.431Z"
   },
   {
    "duration": 299,
    "start_time": "2023-08-23T04:19:30.415Z"
   },
   {
    "duration": 2332,
    "start_time": "2023-08-23T04:19:40.996Z"
   },
   {
    "duration": 206,
    "start_time": "2023-08-23T04:19:47.319Z"
   },
   {
    "duration": 1189,
    "start_time": "2023-08-23T04:20:06.986Z"
   },
   {
    "duration": 796,
    "start_time": "2023-08-23T04:20:13.084Z"
   },
   {
    "duration": 296,
    "start_time": "2023-08-23T04:20:24.897Z"
   },
   {
    "duration": 279,
    "start_time": "2023-08-23T04:20:30.520Z"
   },
   {
    "duration": 290,
    "start_time": "2023-08-23T04:21:23.485Z"
   },
   {
    "duration": 224,
    "start_time": "2023-08-23T04:21:30.486Z"
   },
   {
    "duration": 287,
    "start_time": "2023-08-23T04:21:34.237Z"
   },
   {
    "duration": 261,
    "start_time": "2023-08-23T04:21:49.552Z"
   },
   {
    "duration": 292,
    "start_time": "2023-08-23T04:21:58.599Z"
   },
   {
    "duration": 229,
    "start_time": "2023-08-23T04:22:08.976Z"
   },
   {
    "duration": 255,
    "start_time": "2023-08-23T04:22:21.016Z"
   },
   {
    "duration": 2040,
    "start_time": "2023-08-23T04:22:27.440Z"
   },
   {
    "duration": 247,
    "start_time": "2023-08-23T04:22:32.544Z"
   },
   {
    "duration": 198,
    "start_time": "2023-08-23T04:22:42.487Z"
   },
   {
    "duration": 230,
    "start_time": "2023-08-23T04:22:49.083Z"
   },
   {
    "duration": 239,
    "start_time": "2023-08-23T04:22:51.873Z"
   },
   {
    "duration": 184,
    "start_time": "2023-08-23T04:23:03.211Z"
   },
   {
    "duration": 297,
    "start_time": "2023-08-23T04:23:11.484Z"
   },
   {
    "duration": 210,
    "start_time": "2023-08-23T04:23:22.197Z"
   },
   {
    "duration": 13,
    "start_time": "2023-08-23T04:24:06.000Z"
   },
   {
    "duration": 180,
    "start_time": "2023-08-23T04:24:11.242Z"
   },
   {
    "duration": 615,
    "start_time": "2023-08-23T04:24:15.636Z"
   },
   {
    "duration": 512,
    "start_time": "2023-08-23T04:32:38.236Z"
   },
   {
    "duration": 13,
    "start_time": "2023-08-23T04:33:40.777Z"
   },
   {
    "duration": 7,
    "start_time": "2023-08-23T04:33:46.297Z"
   },
   {
    "duration": 20,
    "start_time": "2023-08-23T04:33:50.587Z"
   },
   {
    "duration": 213,
    "start_time": "2023-08-23T04:34:03.379Z"
   },
   {
    "duration": 14,
    "start_time": "2023-08-23T04:34:07.636Z"
   },
   {
    "duration": 14,
    "start_time": "2023-08-23T04:34:12.780Z"
   },
   {
    "duration": 18,
    "start_time": "2023-08-23T04:34:16.849Z"
   },
   {
    "duration": 12,
    "start_time": "2023-08-23T04:35:36.703Z"
   },
   {
    "duration": 17,
    "start_time": "2023-08-23T04:35:43.486Z"
   },
   {
    "duration": 15,
    "start_time": "2023-08-23T04:35:56.102Z"
   },
   {
    "duration": 367,
    "start_time": "2023-08-23T04:36:09.229Z"
   },
   {
    "duration": 30,
    "start_time": "2023-08-23T04:36:13.449Z"
   },
   {
    "duration": 18,
    "start_time": "2023-08-23T04:36:16.624Z"
   },
   {
    "duration": 18,
    "start_time": "2023-08-23T04:36:19.486Z"
   },
   {
    "duration": 22,
    "start_time": "2023-08-23T04:36:22.279Z"
   },
   {
    "duration": 357,
    "start_time": "2023-08-23T04:38:03.851Z"
   },
   {
    "duration": 201,
    "start_time": "2023-08-23T04:38:19.106Z"
   },
   {
    "duration": 249,
    "start_time": "2023-08-23T04:38:26.985Z"
   },
   {
    "duration": 298,
    "start_time": "2023-08-23T04:38:32.022Z"
   },
   {
    "duration": 48,
    "start_time": "2023-08-23T04:38:33.856Z"
   },
   {
    "duration": 836,
    "start_time": "2023-08-23T04:38:35.149Z"
   },
   {
    "duration": 45,
    "start_time": "2023-08-23T04:38:55.934Z"
   },
   {
    "duration": 168,
    "start_time": "2023-08-23T04:39:07.508Z"
   },
   {
    "duration": 207,
    "start_time": "2023-08-23T04:39:19.390Z"
   },
   {
    "duration": 26,
    "start_time": "2023-08-23T04:39:22.836Z"
   },
   {
    "duration": 342,
    "start_time": "2023-08-23T04:39:50.453Z"
   },
   {
    "duration": 120,
    "start_time": "2023-08-23T04:40:28.538Z"
   },
   {
    "duration": 26,
    "start_time": "2023-08-23T04:40:50.411Z"
   },
   {
    "duration": 288,
    "start_time": "2023-08-23T04:40:58.409Z"
   },
   {
    "duration": 28,
    "start_time": "2023-08-23T04:42:46.539Z"
   },
   {
    "duration": 308,
    "start_time": "2023-08-23T04:42:49.123Z"
   },
   {
    "duration": 24,
    "start_time": "2023-08-23T04:42:58.567Z"
   },
   {
    "duration": 1142,
    "start_time": "2023-08-23T04:43:00.892Z"
   },
   {
    "duration": 313,
    "start_time": "2023-08-23T04:43:06.123Z"
   },
   {
    "duration": 303,
    "start_time": "2023-08-23T04:44:00.532Z"
   },
   {
    "duration": 20,
    "start_time": "2023-08-23T04:44:03.891Z"
   },
   {
    "duration": 463,
    "start_time": "2023-08-23T04:44:07.275Z"
   },
   {
    "duration": 11,
    "start_time": "2023-08-23T04:44:31.668Z"
   },
   {
    "duration": 58,
    "start_time": "2023-08-23T04:44:31.686Z"
   },
   {
    "duration": 550,
    "start_time": "2023-08-23T04:44:31.746Z"
   },
   {
    "duration": 4,
    "start_time": "2023-08-23T04:44:32.299Z"
   },
   {
    "duration": 1174,
    "start_time": "2023-08-23T04:44:32.304Z"
   },
   {
    "duration": 419,
    "start_time": "2023-08-23T04:44:33.485Z"
   },
   {
    "duration": 191,
    "start_time": "2023-08-23T04:44:33.906Z"
   },
   {
    "duration": 720,
    "start_time": "2023-08-23T04:44:34.100Z"
   },
   {
    "duration": 54,
    "start_time": "2023-08-23T04:44:34.821Z"
   },
   {
    "duration": 352,
    "start_time": "2023-08-23T04:44:34.886Z"
   },
   {
    "duration": 35,
    "start_time": "2023-08-23T04:44:35.240Z"
   },
   {
    "duration": 6,
    "start_time": "2023-08-23T04:44:35.282Z"
   },
   {
    "duration": 519,
    "start_time": "2023-08-23T04:44:35.290Z"
   },
   {
    "duration": 97,
    "start_time": "2023-08-23T04:44:35.811Z"
   },
   {
    "duration": 1810,
    "start_time": "2023-08-23T04:44:35.910Z"
   },
   {
    "duration": 796,
    "start_time": "2023-08-23T05:15:43.188Z"
   },
   {
    "duration": 16916,
    "start_time": "2023-08-23T05:15:43.988Z"
   },
   {
    "duration": 11485,
    "start_time": "2023-08-23T05:16:00.906Z"
   },
   {
    "duration": 68,
    "start_time": "2023-08-23T05:16:12.392Z"
   },
   {
    "duration": 6138,
    "start_time": "2023-08-23T05:16:12.462Z"
   },
   {
    "duration": 1168,
    "start_time": "2023-08-23T05:16:18.602Z"
   },
   {
    "duration": 807,
    "start_time": "2023-08-23T05:16:19.772Z"
   },
   {
    "duration": 1074,
    "start_time": "2023-08-23T05:16:20.586Z"
   },
   {
    "duration": 99,
    "start_time": "2023-08-23T05:16:21.668Z"
   },
   {
    "duration": 1112,
    "start_time": "2023-08-23T05:16:21.770Z"
   },
   {
    "duration": 6,
    "start_time": "2023-08-23T05:16:22.885Z"
   },
   {
    "duration": 71,
    "start_time": "2023-08-23T05:16:22.893Z"
   },
   {
    "duration": 2018,
    "start_time": "2023-08-23T05:16:22.969Z"
   },
   {
    "duration": 503,
    "start_time": "2023-08-23T05:16:24.996Z"
   },
   {
    "duration": 2241,
    "start_time": "2023-08-23T05:16:25.502Z"
   },
   {
    "duration": 86,
    "start_time": "2023-08-23T05:16:59.861Z"
   },
   {
    "duration": 95,
    "start_time": "2023-08-23T05:17:08.514Z"
   },
   {
    "duration": 3241,
    "start_time": "2023-08-23T05:17:09.987Z"
   },
   {
    "duration": 70,
    "start_time": "2023-08-23T05:21:16.959Z"
   },
   {
    "duration": 1656,
    "start_time": "2023-08-23T05:21:17.304Z"
   },
   {
    "duration": 4884,
    "start_time": "2023-08-23T05:21:29.294Z"
   },
   {
    "duration": 469,
    "start_time": "2023-08-23T05:22:38.304Z"
   },
   {
    "duration": 175,
    "start_time": "2023-08-23T05:22:49.498Z"
   },
   {
    "duration": 207,
    "start_time": "2023-08-23T05:23:06.221Z"
   },
   {
    "duration": 311,
    "start_time": "2023-08-23T05:23:21.503Z"
   },
   {
    "duration": 2212,
    "start_time": "2023-08-23T05:23:27.135Z"
   },
   {
    "duration": 5,
    "start_time": "2023-08-23T05:23:41.638Z"
   },
   {
    "duration": 11,
    "start_time": "2023-08-23T05:23:41.645Z"
   },
   {
    "duration": 749,
    "start_time": "2023-08-23T05:23:41.658Z"
   },
   {
    "duration": 6,
    "start_time": "2023-08-23T05:23:42.408Z"
   },
   {
    "duration": 1589,
    "start_time": "2023-08-23T05:23:42.419Z"
   },
   {
    "duration": 985,
    "start_time": "2023-08-23T05:23:44.010Z"
   },
   {
    "duration": 219,
    "start_time": "2023-08-23T05:23:45.001Z"
   },
   {
    "duration": 490,
    "start_time": "2023-08-23T05:23:45.222Z"
   },
   {
    "duration": 72,
    "start_time": "2023-08-23T05:23:45.714Z"
   },
   {
    "duration": 1013,
    "start_time": "2023-08-23T05:23:45.788Z"
   },
   {
    "duration": 5,
    "start_time": "2023-08-23T05:23:46.803Z"
   },
   {
    "duration": 30,
    "start_time": "2023-08-23T05:23:46.810Z"
   },
   {
    "duration": 564,
    "start_time": "2023-08-23T05:23:46.842Z"
   },
   {
    "duration": 66,
    "start_time": "2023-08-23T05:23:47.414Z"
   },
   {
    "duration": 80,
    "start_time": "2023-08-23T05:23:47.482Z"
   },
   {
    "duration": 37,
    "start_time": "2023-08-23T05:23:47.565Z"
   },
   {
    "duration": 985,
    "start_time": "2023-08-23T05:23:47.604Z"
   },
   {
    "duration": 80,
    "start_time": "2023-08-23T05:23:48.591Z"
   },
   {
    "duration": 1945,
    "start_time": "2023-08-23T05:23:48.674Z"
   },
   {
    "duration": 4652,
    "start_time": "2023-08-23T05:24:59.357Z"
   },
   {
    "duration": 1857,
    "start_time": "2023-08-23T05:25:11.125Z"
   },
   {
    "duration": 197,
    "start_time": "2023-08-23T05:28:19.704Z"
   },
   {
    "duration": 5,
    "start_time": "2023-08-23T05:28:22.394Z"
   },
   {
    "duration": 5,
    "start_time": "2023-08-23T05:28:22.402Z"
   },
   {
    "duration": 434,
    "start_time": "2023-08-23T05:28:22.409Z"
   },
   {
    "duration": 8,
    "start_time": "2023-08-23T05:28:22.859Z"
   },
   {
    "duration": 1404,
    "start_time": "2023-08-23T05:28:22.876Z"
   },
   {
    "duration": 918,
    "start_time": "2023-08-23T05:28:24.282Z"
   },
   {
    "duration": 226,
    "start_time": "2023-08-23T05:28:25.202Z"
   },
   {
    "duration": 308,
    "start_time": "2023-08-23T05:28:25.430Z"
   },
   {
    "duration": 25,
    "start_time": "2023-08-23T05:28:25.740Z"
   },
   {
    "duration": 650,
    "start_time": "2023-08-23T05:28:25.766Z"
   },
   {
    "duration": 3,
    "start_time": "2023-08-23T05:28:26.422Z"
   },
   {
    "duration": 7,
    "start_time": "2023-08-23T05:28:26.427Z"
   },
   {
    "duration": 470,
    "start_time": "2023-08-23T05:28:26.436Z"
   },
   {
    "duration": 76,
    "start_time": "2023-08-23T05:28:26.909Z"
   },
   {
    "duration": 41,
    "start_time": "2023-08-23T05:28:26.986Z"
   },
   {
    "duration": 69,
    "start_time": "2023-08-23T05:28:27.060Z"
   },
   {
    "duration": 570,
    "start_time": "2023-08-23T05:28:27.131Z"
   },
   {
    "duration": 47,
    "start_time": "2023-08-23T05:28:27.763Z"
   },
   {
    "duration": 1608,
    "start_time": "2023-08-23T05:28:27.811Z"
   },
   {
    "duration": 2848,
    "start_time": "2023-08-23T05:29:48.353Z"
   },
   {
    "duration": 6,
    "start_time": "2023-08-23T05:30:02.724Z"
   },
   {
    "duration": 1232,
    "start_time": "2023-08-23T05:30:10.543Z"
   },
   {
    "duration": 16,
    "start_time": "2023-08-23T05:30:25.393Z"
   },
   {
    "duration": 1691,
    "start_time": "2023-08-23T05:30:30.999Z"
   },
   {
    "duration": 1676,
    "start_time": "2023-08-23T05:30:36.599Z"
   },
   {
    "duration": 958,
    "start_time": "2023-08-23T05:30:38.509Z"
   },
   {
    "duration": 359,
    "start_time": "2023-08-23T05:31:30.122Z"
   },
   {
    "duration": 5,
    "start_time": "2023-08-23T05:32:45.400Z"
   },
   {
    "duration": 205,
    "start_time": "2023-08-23T05:33:00.533Z"
   },
   {
    "duration": 23,
    "start_time": "2023-08-23T05:33:34.812Z"
   },
   {
    "duration": 5,
    "start_time": "2023-08-23T05:33:51.713Z"
   },
   {
    "duration": 4,
    "start_time": "2023-08-23T05:33:55.590Z"
   },
   {
    "duration": 5,
    "start_time": "2023-08-23T05:34:02.097Z"
   },
   {
    "duration": 45,
    "start_time": "2023-08-23T05:34:02.105Z"
   },
   {
    "duration": 521,
    "start_time": "2023-08-23T05:34:02.152Z"
   },
   {
    "duration": 14,
    "start_time": "2023-08-23T05:34:02.674Z"
   },
   {
    "duration": 1172,
    "start_time": "2023-08-23T05:34:02.693Z"
   },
   {
    "duration": 661,
    "start_time": "2023-08-23T05:34:03.867Z"
   },
   {
    "duration": 187,
    "start_time": "2023-08-23T05:34:04.531Z"
   },
   {
    "duration": 287,
    "start_time": "2023-08-23T05:34:04.720Z"
   },
   {
    "duration": 16,
    "start_time": "2023-08-23T05:34:05.009Z"
   },
   {
    "duration": 424,
    "start_time": "2023-08-23T05:34:05.027Z"
   },
   {
    "duration": 10,
    "start_time": "2023-08-23T05:34:05.460Z"
   },
   {
    "duration": 38,
    "start_time": "2023-08-23T05:34:05.480Z"
   },
   {
    "duration": 29,
    "start_time": "2023-08-23T05:34:05.520Z"
   },
   {
    "duration": 0,
    "start_time": "2023-08-23T05:34:05.551Z"
   },
   {
    "duration": 0,
    "start_time": "2023-08-23T05:34:05.552Z"
   },
   {
    "duration": 0,
    "start_time": "2023-08-23T05:34:05.553Z"
   },
   {
    "duration": 0,
    "start_time": "2023-08-23T05:34:05.555Z"
   },
   {
    "duration": 0,
    "start_time": "2023-08-23T05:34:05.556Z"
   },
   {
    "duration": 0,
    "start_time": "2023-08-23T05:34:05.557Z"
   },
   {
    "duration": 0,
    "start_time": "2023-08-23T05:34:05.558Z"
   },
   {
    "duration": 0,
    "start_time": "2023-08-23T05:34:05.561Z"
   },
   {
    "duration": 5,
    "start_time": "2023-08-23T05:34:30.489Z"
   },
   {
    "duration": 83,
    "start_time": "2023-08-23T05:34:30.496Z"
   },
   {
    "duration": 407,
    "start_time": "2023-08-23T05:34:30.581Z"
   },
   {
    "duration": 5,
    "start_time": "2023-08-23T05:34:30.990Z"
   },
   {
    "duration": 997,
    "start_time": "2023-08-23T05:34:30.998Z"
   },
   {
    "duration": 428,
    "start_time": "2023-08-23T05:34:31.997Z"
   },
   {
    "duration": 207,
    "start_time": "2023-08-23T05:34:32.427Z"
   },
   {
    "duration": 298,
    "start_time": "2023-08-23T05:34:32.636Z"
   },
   {
    "duration": 37,
    "start_time": "2023-08-23T05:34:32.936Z"
   },
   {
    "duration": 914,
    "start_time": "2023-08-23T05:34:32.980Z"
   },
   {
    "duration": 5,
    "start_time": "2023-08-23T05:34:33.899Z"
   },
   {
    "duration": 14,
    "start_time": "2023-08-23T05:34:33.906Z"
   },
   {
    "duration": 438,
    "start_time": "2023-08-23T05:34:33.922Z"
   },
   {
    "duration": 45,
    "start_time": "2023-08-23T05:34:34.370Z"
   },
   {
    "duration": 93,
    "start_time": "2023-08-23T05:34:34.417Z"
   },
   {
    "duration": 65,
    "start_time": "2023-08-23T05:34:34.514Z"
   },
   {
    "duration": 506,
    "start_time": "2023-08-23T05:34:34.588Z"
   },
   {
    "duration": 86,
    "start_time": "2023-08-23T05:34:35.097Z"
   },
   {
    "duration": 1820,
    "start_time": "2023-08-23T05:34:35.185Z"
   },
   {
    "duration": 982,
    "start_time": "2023-08-23T05:34:37.007Z"
   },
   {
    "duration": 21,
    "start_time": "2023-08-23T05:34:37.991Z"
   },
   {
    "duration": 5,
    "start_time": "2023-08-23T05:35:05.397Z"
   },
   {
    "duration": 18,
    "start_time": "2023-08-23T05:35:05.404Z"
   },
   {
    "duration": 338,
    "start_time": "2023-08-23T05:35:05.424Z"
   },
   {
    "duration": 8,
    "start_time": "2023-08-23T05:35:05.765Z"
   },
   {
    "duration": 839,
    "start_time": "2023-08-23T05:35:05.775Z"
   },
   {
    "duration": 452,
    "start_time": "2023-08-23T05:35:06.616Z"
   },
   {
    "duration": 256,
    "start_time": "2023-08-23T05:35:07.069Z"
   },
   {
    "duration": 287,
    "start_time": "2023-08-23T05:35:07.327Z"
   },
   {
    "duration": 13,
    "start_time": "2023-08-23T05:35:07.616Z"
   },
   {
    "duration": 400,
    "start_time": "2023-08-23T05:35:07.631Z"
   },
   {
    "duration": 6,
    "start_time": "2023-08-23T05:35:08.033Z"
   },
   {
    "duration": 11,
    "start_time": "2023-08-23T05:35:08.040Z"
   },
   {
    "duration": 398,
    "start_time": "2023-08-23T05:35:08.065Z"
   },
   {
    "duration": 43,
    "start_time": "2023-08-23T05:35:08.467Z"
   },
   {
    "duration": 99,
    "start_time": "2023-08-23T05:35:08.512Z"
   },
   {
    "duration": 59,
    "start_time": "2023-08-23T05:35:08.613Z"
   },
   {
    "duration": 547,
    "start_time": "2023-08-23T05:35:08.674Z"
   },
   {
    "duration": 70,
    "start_time": "2023-08-23T05:35:09.225Z"
   },
   {
    "duration": 3,
    "start_time": "2023-08-23T05:35:09.297Z"
   },
   {
    "duration": 1079,
    "start_time": "2023-08-23T05:35:09.301Z"
   },
   {
    "duration": 25,
    "start_time": "2023-08-23T05:35:10.382Z"
   },
   {
    "duration": 18,
    "start_time": "2023-08-23T05:35:33.512Z"
   },
   {
    "duration": 21,
    "start_time": "2023-08-23T05:35:40.366Z"
   },
   {
    "duration": 6,
    "start_time": "2023-08-23T05:36:10.443Z"
   },
   {
    "duration": 20,
    "start_time": "2023-08-23T05:36:10.451Z"
   },
   {
    "duration": 417,
    "start_time": "2023-08-23T05:36:10.474Z"
   },
   {
    "duration": 16,
    "start_time": "2023-08-23T05:36:10.892Z"
   },
   {
    "duration": 863,
    "start_time": "2023-08-23T05:36:10.912Z"
   },
   {
    "duration": 369,
    "start_time": "2023-08-23T05:36:11.776Z"
   },
   {
    "duration": 169,
    "start_time": "2023-08-23T05:36:12.147Z"
   },
   {
    "duration": 542,
    "start_time": "2023-08-23T05:36:12.317Z"
   },
   {
    "duration": 26,
    "start_time": "2023-08-23T05:36:12.868Z"
   },
   {
    "duration": 438,
    "start_time": "2023-08-23T05:36:12.896Z"
   },
   {
    "duration": 4,
    "start_time": "2023-08-23T05:36:13.336Z"
   },
   {
    "duration": 23,
    "start_time": "2023-08-23T05:36:13.342Z"
   },
   {
    "duration": 34,
    "start_time": "2023-08-23T05:36:13.367Z"
   },
   {
    "duration": 0,
    "start_time": "2023-08-23T05:36:13.403Z"
   },
   {
    "duration": 0,
    "start_time": "2023-08-23T05:36:13.404Z"
   },
   {
    "duration": 0,
    "start_time": "2023-08-23T05:36:13.405Z"
   },
   {
    "duration": 0,
    "start_time": "2023-08-23T05:36:13.406Z"
   },
   {
    "duration": 0,
    "start_time": "2023-08-23T05:36:13.407Z"
   },
   {
    "duration": 0,
    "start_time": "2023-08-23T05:36:13.408Z"
   },
   {
    "duration": 0,
    "start_time": "2023-08-23T05:36:13.409Z"
   },
   {
    "duration": 0,
    "start_time": "2023-08-23T05:36:13.410Z"
   },
   {
    "duration": 6,
    "start_time": "2023-08-23T05:36:29.635Z"
   },
   {
    "duration": 9,
    "start_time": "2023-08-23T05:36:29.643Z"
   },
   {
    "duration": 353,
    "start_time": "2023-08-23T05:36:29.653Z"
   },
   {
    "duration": 4,
    "start_time": "2023-08-23T05:36:30.008Z"
   },
   {
    "duration": 787,
    "start_time": "2023-08-23T05:36:30.014Z"
   },
   {
    "duration": 386,
    "start_time": "2023-08-23T05:36:30.804Z"
   },
   {
    "duration": 195,
    "start_time": "2023-08-23T05:36:31.192Z"
   },
   {
    "duration": 262,
    "start_time": "2023-08-23T05:36:31.389Z"
   },
   {
    "duration": 29,
    "start_time": "2023-08-23T05:36:31.653Z"
   },
   {
    "duration": 671,
    "start_time": "2023-08-23T05:36:31.684Z"
   },
   {
    "duration": 6,
    "start_time": "2023-08-23T05:36:32.364Z"
   },
   {
    "duration": 7,
    "start_time": "2023-08-23T05:36:32.372Z"
   },
   {
    "duration": 41,
    "start_time": "2023-08-23T05:36:32.381Z"
   },
   {
    "duration": 0,
    "start_time": "2023-08-23T05:36:32.425Z"
   },
   {
    "duration": 0,
    "start_time": "2023-08-23T05:36:32.426Z"
   },
   {
    "duration": 0,
    "start_time": "2023-08-23T05:36:32.428Z"
   },
   {
    "duration": 0,
    "start_time": "2023-08-23T05:36:32.429Z"
   },
   {
    "duration": 0,
    "start_time": "2023-08-23T05:36:32.430Z"
   },
   {
    "duration": 0,
    "start_time": "2023-08-23T05:36:32.431Z"
   },
   {
    "duration": 0,
    "start_time": "2023-08-23T05:36:32.432Z"
   },
   {
    "duration": 0,
    "start_time": "2023-08-23T05:36:32.434Z"
   },
   {
    "duration": 5,
    "start_time": "2023-08-23T05:37:08.586Z"
   },
   {
    "duration": 11,
    "start_time": "2023-08-23T05:37:08.593Z"
   },
   {
    "duration": 354,
    "start_time": "2023-08-23T05:37:08.606Z"
   },
   {
    "duration": 12,
    "start_time": "2023-08-23T05:37:08.963Z"
   },
   {
    "duration": 635,
    "start_time": "2023-08-23T05:37:08.978Z"
   },
   {
    "duration": 370,
    "start_time": "2023-08-23T05:37:09.661Z"
   },
   {
    "duration": 178,
    "start_time": "2023-08-23T05:37:10.033Z"
   },
   {
    "duration": 282,
    "start_time": "2023-08-23T05:37:10.213Z"
   },
   {
    "duration": 15,
    "start_time": "2023-08-23T05:37:10.497Z"
   },
   {
    "duration": 350,
    "start_time": "2023-08-23T05:37:10.514Z"
   },
   {
    "duration": 4,
    "start_time": "2023-08-23T05:37:10.865Z"
   },
   {
    "duration": 19,
    "start_time": "2023-08-23T05:37:10.871Z"
   },
   {
    "duration": 379,
    "start_time": "2023-08-23T05:37:10.891Z"
   },
   {
    "duration": 38,
    "start_time": "2023-08-23T05:37:11.274Z"
   },
   {
    "duration": 72,
    "start_time": "2023-08-23T05:37:11.314Z"
   },
   {
    "duration": 24,
    "start_time": "2023-08-23T05:37:11.388Z"
   },
   {
    "duration": 378,
    "start_time": "2023-08-23T05:37:11.414Z"
   },
   {
    "duration": 21,
    "start_time": "2023-08-23T05:37:11.794Z"
   },
   {
    "duration": 2,
    "start_time": "2023-08-23T05:37:11.817Z"
   },
   {
    "duration": 1145,
    "start_time": "2023-08-23T05:37:11.821Z"
   },
   {
    "duration": 36,
    "start_time": "2023-08-23T05:37:12.968Z"
   },
   {
    "duration": 3618,
    "start_time": "2023-08-23T05:38:41.181Z"
   },
   {
    "duration": 3904,
    "start_time": "2023-08-23T05:39:00.925Z"
   },
   {
    "duration": 8,
    "start_time": "2023-08-23T05:39:22.542Z"
   },
   {
    "duration": 10,
    "start_time": "2023-08-23T05:39:33.528Z"
   },
   {
    "duration": 724,
    "start_time": "2023-08-23T05:46:29.676Z"
   },
   {
    "duration": 17400,
    "start_time": "2023-08-23T05:46:30.402Z"
   },
   {
    "duration": 11278,
    "start_time": "2023-08-23T05:46:47.804Z"
   },
   {
    "duration": 17,
    "start_time": "2023-08-23T05:46:59.087Z"
   },
   {
    "duration": 5757,
    "start_time": "2023-08-23T05:46:59.110Z"
   },
   {
    "duration": 1805,
    "start_time": "2023-08-23T05:47:04.869Z"
   },
   {
    "duration": 739,
    "start_time": "2023-08-23T05:47:06.682Z"
   },
   {
    "duration": 1114,
    "start_time": "2023-08-23T05:47:07.423Z"
   },
   {
    "duration": 61,
    "start_time": "2023-08-23T05:47:08.539Z"
   },
   {
    "duration": 1099,
    "start_time": "2023-08-23T05:47:08.603Z"
   },
   {
    "duration": 4,
    "start_time": "2023-08-23T05:47:09.703Z"
   },
   {
    "duration": 23,
    "start_time": "2023-08-23T05:47:09.760Z"
   },
   {
    "duration": 1701,
    "start_time": "2023-08-23T05:47:09.785Z"
   },
   {
    "duration": 378,
    "start_time": "2023-08-23T05:47:11.490Z"
   },
   {
    "duration": 120,
    "start_time": "2023-08-23T05:47:11.869Z"
   },
   {
    "duration": 120,
    "start_time": "2023-08-23T05:47:11.990Z"
   },
   {
    "duration": 1754,
    "start_time": "2023-08-23T05:47:12.112Z"
   },
   {
    "duration": 42,
    "start_time": "2023-08-23T05:47:13.868Z"
   },
   {
    "duration": 6429,
    "start_time": "2023-08-23T05:47:13.963Z"
   },
   {
    "duration": 3275,
    "start_time": "2023-08-23T05:47:20.394Z"
   },
   {
    "duration": 710,
    "start_time": "2023-08-23T05:55:12.589Z"
   },
   {
    "duration": 723,
    "start_time": "2023-08-23T06:00:26.783Z"
   },
   {
    "duration": 73,
    "start_time": "2023-08-23T06:00:33.482Z"
   },
   {
    "duration": 248,
    "start_time": "2023-08-23T06:00:41.705Z"
   },
   {
    "duration": 5,
    "start_time": "2023-08-23T06:01:06.898Z"
   },
   {
    "duration": 17231,
    "start_time": "2023-08-23T06:01:07.183Z"
   },
   {
    "duration": 10950,
    "start_time": "2023-08-23T06:01:24.465Z"
   },
   {
    "duration": 77,
    "start_time": "2023-08-23T06:01:35.417Z"
   },
   {
    "duration": 6113,
    "start_time": "2023-08-23T06:01:35.496Z"
   },
   {
    "duration": 1396,
    "start_time": "2023-08-23T06:01:41.611Z"
   },
   {
    "duration": 762,
    "start_time": "2023-08-23T06:01:43.009Z"
   },
   {
    "duration": 1261,
    "start_time": "2023-08-23T06:01:43.774Z"
   },
   {
    "duration": 82,
    "start_time": "2023-08-23T06:01:45.037Z"
   },
   {
    "duration": 1225,
    "start_time": "2023-08-23T06:01:45.163Z"
   },
   {
    "duration": 8,
    "start_time": "2023-08-23T06:01:46.394Z"
   },
   {
    "duration": 11,
    "start_time": "2023-08-23T06:01:46.403Z"
   },
   {
    "duration": 1461,
    "start_time": "2023-08-23T06:01:46.416Z"
   },
   {
    "duration": 343,
    "start_time": "2023-08-23T06:01:47.879Z"
   },
   {
    "duration": 108,
    "start_time": "2023-08-23T06:01:48.267Z"
   },
   {
    "duration": 95,
    "start_time": "2023-08-23T06:01:48.377Z"
   },
   {
    "duration": 1513,
    "start_time": "2023-08-23T06:01:48.476Z"
   },
   {
    "duration": 108,
    "start_time": "2023-08-23T06:01:49.991Z"
   },
   {
    "duration": 6005,
    "start_time": "2023-08-23T06:01:50.100Z"
   },
   {
    "duration": 3193,
    "start_time": "2023-08-23T06:01:56.107Z"
   },
   {
    "duration": 100972,
    "start_time": "2023-08-23T06:01:59.301Z"
   },
   {
    "duration": 0,
    "start_time": "2023-08-23T06:03:40.275Z"
   },
   {
    "duration": 884,
    "start_time": "2023-08-23T06:03:47.445Z"
   },
   {
    "duration": 5,
    "start_time": "2023-08-23T06:12:11.424Z"
   },
   {
    "duration": 72,
    "start_time": "2023-08-23T06:12:11.432Z"
   },
   {
    "duration": 688,
    "start_time": "2023-08-23T06:18:10.131Z"
   },
   {
    "duration": 16584,
    "start_time": "2023-08-23T06:18:10.821Z"
   },
   {
    "duration": 10670,
    "start_time": "2023-08-23T06:18:27.409Z"
   },
   {
    "duration": 49,
    "start_time": "2023-08-23T06:18:38.081Z"
   },
   {
    "duration": 5931,
    "start_time": "2023-08-23T06:18:38.164Z"
   },
   {
    "duration": 1220,
    "start_time": "2023-08-23T06:18:44.101Z"
   },
   {
    "duration": 679,
    "start_time": "2023-08-23T06:18:45.324Z"
   },
   {
    "duration": 1273,
    "start_time": "2023-08-23T06:18:46.008Z"
   },
   {
    "duration": 92,
    "start_time": "2023-08-23T06:18:47.282Z"
   },
   {
    "duration": 1301,
    "start_time": "2023-08-23T06:18:47.376Z"
   },
   {
    "duration": 9,
    "start_time": "2023-08-23T06:18:48.679Z"
   },
   {
    "duration": 8,
    "start_time": "2023-08-23T06:18:48.691Z"
   },
   {
    "duration": 1923,
    "start_time": "2023-08-23T06:18:48.700Z"
   },
   {
    "duration": 594,
    "start_time": "2023-08-23T06:18:50.626Z"
   },
   {
    "duration": 138,
    "start_time": "2023-08-23T06:18:51.222Z"
   },
   {
    "duration": 113,
    "start_time": "2023-08-23T06:18:51.362Z"
   },
   {
    "duration": 1800,
    "start_time": "2023-08-23T06:18:51.476Z"
   },
   {
    "duration": 87,
    "start_time": "2023-08-23T06:18:53.277Z"
   },
   {
    "duration": 7110,
    "start_time": "2023-08-23T06:18:53.365Z"
   },
   {
    "duration": 3501,
    "start_time": "2023-08-23T06:19:00.477Z"
   },
   {
    "duration": 3841491,
    "start_time": "2023-08-23T06:19:03.983Z"
   },
   {
    "duration": 0,
    "start_time": "2023-08-23T07:23:05.485Z"
   },
   {
    "duration": 6,
    "start_time": "2023-08-23T07:23:06.410Z"
   },
   {
    "duration": 68,
    "start_time": "2023-08-23T07:23:06.418Z"
   },
   {
    "duration": 693,
    "start_time": "2023-08-23T07:24:06.824Z"
   },
   {
    "duration": 18875,
    "start_time": "2023-08-23T07:24:07.520Z"
   },
   {
    "duration": 11616,
    "start_time": "2023-08-23T07:24:26.397Z"
   },
   {
    "duration": 90,
    "start_time": "2023-08-23T07:24:38.015Z"
   },
   {
    "duration": 8384,
    "start_time": "2023-08-23T07:24:38.112Z"
   },
   {
    "duration": 1304,
    "start_time": "2023-08-23T07:24:46.501Z"
   },
   {
    "duration": 797,
    "start_time": "2023-08-23T07:24:47.809Z"
   },
   {
    "duration": 1342,
    "start_time": "2023-08-23T07:24:48.664Z"
   },
   {
    "duration": 151,
    "start_time": "2023-08-23T07:24:50.008Z"
   },
   {
    "duration": 1118,
    "start_time": "2023-08-23T07:24:50.168Z"
   },
   {
    "duration": 8,
    "start_time": "2023-08-23T07:24:51.293Z"
   },
   {
    "duration": 9,
    "start_time": "2023-08-23T07:24:51.310Z"
   },
   {
    "duration": 2054,
    "start_time": "2023-08-23T07:24:51.321Z"
   },
   {
    "duration": 395,
    "start_time": "2023-08-23T07:24:53.384Z"
   },
   {
    "duration": 134,
    "start_time": "2023-08-23T07:24:53.782Z"
   },
   {
    "duration": 107,
    "start_time": "2023-08-23T07:24:53.959Z"
   },
   {
    "duration": 2507,
    "start_time": "2023-08-23T07:24:54.068Z"
   },
   {
    "duration": 91,
    "start_time": "2023-08-23T07:24:56.578Z"
   },
   {
    "duration": 6679,
    "start_time": "2023-08-23T07:24:56.671Z"
   },
   {
    "duration": 3876,
    "start_time": "2023-08-23T07:25:03.353Z"
   },
   {
    "duration": 3638048,
    "start_time": "2023-08-23T07:25:07.263Z"
   },
   {
    "duration": 0,
    "start_time": "2023-08-23T08:25:45.313Z"
   },
   {
    "duration": 17,
    "start_time": "2023-08-23T08:25:55.075Z"
   },
   {
    "duration": 71,
    "start_time": "2023-08-23T08:26:07.816Z"
   },
   {
    "duration": 15054,
    "start_time": "2023-08-23T08:26:16.860Z"
   },
   {
    "duration": 19919,
    "start_time": "2023-08-23T08:26:33.000Z"
   },
   {
    "duration": 997,
    "start_time": "2023-08-23T08:27:01.023Z"
   },
   {
    "duration": 18657,
    "start_time": "2023-08-23T08:27:02.022Z"
   },
   {
    "duration": 12118,
    "start_time": "2023-08-23T08:27:20.684Z"
   },
   {
    "duration": 73,
    "start_time": "2023-08-23T08:27:32.804Z"
   },
   {
    "duration": 6535,
    "start_time": "2023-08-23T08:27:32.884Z"
   },
   {
    "duration": 1357,
    "start_time": "2023-08-23T08:27:39.461Z"
   },
   {
    "duration": 710,
    "start_time": "2023-08-23T08:27:40.859Z"
   },
   {
    "duration": 1088,
    "start_time": "2023-08-23T08:27:41.576Z"
   },
   {
    "duration": 48,
    "start_time": "2023-08-23T08:27:42.671Z"
   },
   {
    "duration": 1196,
    "start_time": "2023-08-23T08:27:42.722Z"
   },
   {
    "duration": 5,
    "start_time": "2023-08-23T08:27:43.920Z"
   },
   {
    "duration": 24,
    "start_time": "2023-08-23T08:27:43.967Z"
   },
   {
    "duration": 1818,
    "start_time": "2023-08-23T08:27:43.993Z"
   },
   {
    "duration": 402,
    "start_time": "2023-08-23T08:27:45.861Z"
   },
   {
    "duration": 126,
    "start_time": "2023-08-23T08:27:46.265Z"
   },
   {
    "duration": 80,
    "start_time": "2023-08-23T08:27:46.397Z"
   },
   {
    "duration": 1736,
    "start_time": "2023-08-23T08:27:46.480Z"
   },
   {
    "duration": 90,
    "start_time": "2023-08-23T08:27:48.218Z"
   },
   {
    "duration": 6298,
    "start_time": "2023-08-23T08:27:48.310Z"
   },
   {
    "duration": 914,
    "start_time": "2023-08-23T08:28:38.980Z"
   },
   {
    "duration": 366,
    "start_time": "2023-08-23T08:28:49.049Z"
   },
   {
    "duration": 422,
    "start_time": "2023-08-23T08:28:52.377Z"
   },
   {
    "duration": 5,
    "start_time": "2023-08-23T08:29:07.625Z"
   },
   {
    "duration": 349,
    "start_time": "2023-08-23T08:29:16.858Z"
   },
   {
    "duration": 6,
    "start_time": "2023-08-23T08:29:22.353Z"
   },
   {
    "duration": 443,
    "start_time": "2023-08-23T08:29:22.977Z"
   },
   {
    "duration": 2081,
    "start_time": "2023-08-23T08:29:37.796Z"
   },
   {
    "duration": 77278,
    "start_time": "2023-08-23T08:29:44.234Z"
   },
   {
    "duration": 8,
    "start_time": "2023-08-23T08:31:18.320Z"
   },
   {
    "duration": 4,
    "start_time": "2023-08-23T08:31:33.193Z"
   },
   {
    "duration": 34,
    "start_time": "2023-08-23T08:31:33.199Z"
   },
   {
    "duration": 0,
    "start_time": "2023-08-23T08:31:33.235Z"
   },
   {
    "duration": 0,
    "start_time": "2023-08-23T08:31:33.236Z"
   },
   {
    "duration": 0,
    "start_time": "2023-08-23T08:31:33.237Z"
   },
   {
    "duration": 0,
    "start_time": "2023-08-23T08:31:33.238Z"
   },
   {
    "duration": 0,
    "start_time": "2023-08-23T08:31:33.239Z"
   },
   {
    "duration": 0,
    "start_time": "2023-08-23T08:31:33.240Z"
   },
   {
    "duration": 0,
    "start_time": "2023-08-23T08:31:33.241Z"
   },
   {
    "duration": 0,
    "start_time": "2023-08-23T08:31:33.242Z"
   },
   {
    "duration": 0,
    "start_time": "2023-08-23T08:31:33.243Z"
   },
   {
    "duration": 0,
    "start_time": "2023-08-23T08:31:33.244Z"
   },
   {
    "duration": 0,
    "start_time": "2023-08-23T08:31:33.245Z"
   },
   {
    "duration": 0,
    "start_time": "2023-08-23T08:31:33.246Z"
   },
   {
    "duration": 0,
    "start_time": "2023-08-23T08:31:33.247Z"
   },
   {
    "duration": 0,
    "start_time": "2023-08-23T08:31:33.248Z"
   },
   {
    "duration": 0,
    "start_time": "2023-08-23T08:31:33.249Z"
   },
   {
    "duration": 0,
    "start_time": "2023-08-23T08:31:33.250Z"
   },
   {
    "duration": 0,
    "start_time": "2023-08-23T08:31:33.251Z"
   },
   {
    "duration": 0,
    "start_time": "2023-08-23T08:31:33.252Z"
   },
   {
    "duration": 21,
    "start_time": "2023-08-23T08:31:35.481Z"
   },
   {
    "duration": 0,
    "start_time": "2023-08-23T08:31:35.504Z"
   },
   {
    "duration": 0,
    "start_time": "2023-08-23T08:31:35.506Z"
   },
   {
    "duration": 0,
    "start_time": "2023-08-23T08:31:35.506Z"
   },
   {
    "duration": 703,
    "start_time": "2023-08-23T08:31:51.997Z"
   },
   {
    "duration": 16982,
    "start_time": "2023-08-23T08:31:52.703Z"
   },
   {
    "duration": 11726,
    "start_time": "2023-08-23T08:32:09.687Z"
   },
   {
    "duration": 90,
    "start_time": "2023-08-23T08:32:21.417Z"
   },
   {
    "duration": 6397,
    "start_time": "2023-08-23T08:32:21.510Z"
   },
   {
    "duration": 1095,
    "start_time": "2023-08-23T08:32:27.915Z"
   },
   {
    "duration": 690,
    "start_time": "2023-08-23T08:32:29.012Z"
   },
   {
    "duration": 1099,
    "start_time": "2023-08-23T08:32:29.704Z"
   },
   {
    "duration": 93,
    "start_time": "2023-08-23T08:32:30.808Z"
   },
   {
    "duration": 1291,
    "start_time": "2023-08-23T08:32:30.909Z"
   },
   {
    "duration": 7,
    "start_time": "2023-08-23T08:32:32.206Z"
   },
   {
    "duration": 53,
    "start_time": "2023-08-23T08:32:32.215Z"
   },
   {
    "duration": 1642,
    "start_time": "2023-08-23T08:32:32.270Z"
   },
   {
    "duration": 400,
    "start_time": "2023-08-23T08:32:33.961Z"
   },
   {
    "duration": 395,
    "start_time": "2023-08-23T08:32:34.368Z"
   },
   {
    "duration": 46,
    "start_time": "2023-08-23T08:32:34.765Z"
   },
   {
    "duration": 1742,
    "start_time": "2023-08-23T08:32:34.860Z"
   },
   {
    "duration": 167,
    "start_time": "2023-08-23T08:32:36.603Z"
   },
   {
    "duration": 6458,
    "start_time": "2023-08-23T08:32:36.771Z"
   },
   {
    "duration": 13,
    "start_time": "2023-08-23T08:32:43.232Z"
   },
   {
    "duration": 476,
    "start_time": "2023-08-23T08:32:43.247Z"
   },
   {
    "duration": 2168,
    "start_time": "2023-08-23T08:32:43.725Z"
   },
   {
    "duration": 69588,
    "start_time": "2023-08-23T08:32:45.895Z"
   },
   {
    "duration": 0,
    "start_time": "2023-08-23T08:33:55.489Z"
   },
   {
    "duration": 29,
    "start_time": "2023-08-23T08:35:50.662Z"
   },
   {
    "duration": 5,
    "start_time": "2023-08-23T08:36:01.421Z"
   },
   {
    "duration": 74,
    "start_time": "2023-08-23T08:36:01.428Z"
   },
   {
    "duration": 0,
    "start_time": "2023-08-23T08:36:01.504Z"
   },
   {
    "duration": 0,
    "start_time": "2023-08-23T08:36:01.506Z"
   },
   {
    "duration": 0,
    "start_time": "2023-08-23T08:36:01.507Z"
   },
   {
    "duration": 0,
    "start_time": "2023-08-23T08:36:01.509Z"
   },
   {
    "duration": 0,
    "start_time": "2023-08-23T08:36:01.510Z"
   },
   {
    "duration": 0,
    "start_time": "2023-08-23T08:36:01.511Z"
   },
   {
    "duration": 0,
    "start_time": "2023-08-23T08:36:01.512Z"
   },
   {
    "duration": 0,
    "start_time": "2023-08-23T08:36:01.513Z"
   },
   {
    "duration": 0,
    "start_time": "2023-08-23T08:36:01.514Z"
   },
   {
    "duration": 0,
    "start_time": "2023-08-23T08:36:01.515Z"
   },
   {
    "duration": 0,
    "start_time": "2023-08-23T08:36:01.516Z"
   },
   {
    "duration": 0,
    "start_time": "2023-08-23T08:36:01.517Z"
   },
   {
    "duration": 0,
    "start_time": "2023-08-23T08:36:01.518Z"
   },
   {
    "duration": 0,
    "start_time": "2023-08-23T08:36:01.519Z"
   },
   {
    "duration": 0,
    "start_time": "2023-08-23T08:36:01.520Z"
   },
   {
    "duration": 0,
    "start_time": "2023-08-23T08:36:01.520Z"
   },
   {
    "duration": 0,
    "start_time": "2023-08-23T08:36:01.522Z"
   },
   {
    "duration": 0,
    "start_time": "2023-08-23T08:36:01.523Z"
   },
   {
    "duration": 0,
    "start_time": "2023-08-23T08:36:01.524Z"
   },
   {
    "duration": 0,
    "start_time": "2023-08-23T08:36:01.524Z"
   },
   {
    "duration": 0,
    "start_time": "2023-08-23T08:36:01.526Z"
   },
   {
    "duration": 0,
    "start_time": "2023-08-23T08:36:01.527Z"
   },
   {
    "duration": 773,
    "start_time": "2023-08-23T08:36:10.941Z"
   },
   {
    "duration": 17877,
    "start_time": "2023-08-23T08:36:11.716Z"
   },
   {
    "duration": 10698,
    "start_time": "2023-08-23T08:36:29.595Z"
   },
   {
    "duration": 83,
    "start_time": "2023-08-23T08:36:40.301Z"
   },
   {
    "duration": 6238,
    "start_time": "2023-08-23T08:36:40.386Z"
   },
   {
    "duration": 1338,
    "start_time": "2023-08-23T08:36:46.625Z"
   },
   {
    "duration": 628,
    "start_time": "2023-08-23T08:36:47.965Z"
   },
   {
    "duration": 1307,
    "start_time": "2023-08-23T08:36:48.600Z"
   },
   {
    "duration": 157,
    "start_time": "2023-08-23T08:36:49.909Z"
   },
   {
    "duration": 1234,
    "start_time": "2023-08-23T08:36:50.069Z"
   },
   {
    "duration": 60,
    "start_time": "2023-08-23T08:36:51.307Z"
   },
   {
    "duration": 18,
    "start_time": "2023-08-23T08:36:51.369Z"
   },
   {
    "duration": 1715,
    "start_time": "2023-08-23T08:36:51.390Z"
   },
   {
    "duration": 379,
    "start_time": "2023-08-23T08:36:53.108Z"
   },
   {
    "duration": 173,
    "start_time": "2023-08-23T08:36:53.489Z"
   },
   {
    "duration": 120,
    "start_time": "2023-08-23T08:36:53.663Z"
   },
   {
    "duration": 1806,
    "start_time": "2023-08-23T08:36:53.785Z"
   },
   {
    "duration": 104,
    "start_time": "2023-08-23T08:36:55.593Z"
   },
   {
    "duration": 6669,
    "start_time": "2023-08-23T08:36:55.698Z"
   },
   {
    "duration": 10,
    "start_time": "2023-08-23T08:37:02.372Z"
   },
   {
    "duration": 397,
    "start_time": "2023-08-23T08:37:02.383Z"
   },
   {
    "duration": 2226,
    "start_time": "2023-08-23T08:37:02.784Z"
   },
   {
    "duration": 41827,
    "start_time": "2023-08-23T08:37:05.064Z"
   },
   {
    "duration": 0,
    "start_time": "2023-08-23T08:37:46.893Z"
   },
   {
    "duration": 29,
    "start_time": "2023-08-23T08:47:02.059Z"
   },
   {
    "duration": 29,
    "start_time": "2023-08-23T08:47:14.249Z"
   },
   {
    "duration": 12,
    "start_time": "2023-08-23T08:47:55.880Z"
   },
   {
    "duration": 21,
    "start_time": "2023-08-23T08:47:55.896Z"
   },
   {
    "duration": 0,
    "start_time": "2023-08-23T08:47:55.919Z"
   },
   {
    "duration": 0,
    "start_time": "2023-08-23T08:47:55.921Z"
   },
   {
    "duration": 0,
    "start_time": "2023-08-23T08:47:55.922Z"
   },
   {
    "duration": 0,
    "start_time": "2023-08-23T08:47:55.923Z"
   },
   {
    "duration": 0,
    "start_time": "2023-08-23T08:47:55.925Z"
   },
   {
    "duration": 0,
    "start_time": "2023-08-23T08:47:55.927Z"
   },
   {
    "duration": 0,
    "start_time": "2023-08-23T08:47:55.928Z"
   },
   {
    "duration": 0,
    "start_time": "2023-08-23T08:47:55.929Z"
   },
   {
    "duration": 0,
    "start_time": "2023-08-23T08:47:55.931Z"
   },
   {
    "duration": 0,
    "start_time": "2023-08-23T08:47:55.931Z"
   },
   {
    "duration": 0,
    "start_time": "2023-08-23T08:47:55.932Z"
   },
   {
    "duration": 0,
    "start_time": "2023-08-23T08:47:55.933Z"
   },
   {
    "duration": 0,
    "start_time": "2023-08-23T08:47:55.935Z"
   },
   {
    "duration": 0,
    "start_time": "2023-08-23T08:47:55.936Z"
   },
   {
    "duration": 0,
    "start_time": "2023-08-23T08:47:55.937Z"
   },
   {
    "duration": 0,
    "start_time": "2023-08-23T08:47:55.938Z"
   },
   {
    "duration": 0,
    "start_time": "2023-08-23T08:47:55.939Z"
   },
   {
    "duration": 0,
    "start_time": "2023-08-23T08:47:55.959Z"
   },
   {
    "duration": 0,
    "start_time": "2023-08-23T08:47:55.960Z"
   },
   {
    "duration": 0,
    "start_time": "2023-08-23T08:47:55.960Z"
   },
   {
    "duration": 0,
    "start_time": "2023-08-23T08:47:55.965Z"
   },
   {
    "duration": 0,
    "start_time": "2023-08-23T08:47:55.965Z"
   },
   {
    "duration": 7,
    "start_time": "2023-08-23T08:54:45.296Z"
   },
   {
    "duration": 21,
    "start_time": "2023-08-23T08:54:45.306Z"
   },
   {
    "duration": 0,
    "start_time": "2023-08-23T08:54:45.329Z"
   },
   {
    "duration": 0,
    "start_time": "2023-08-23T08:54:45.330Z"
   },
   {
    "duration": 0,
    "start_time": "2023-08-23T08:54:45.331Z"
   },
   {
    "duration": 0,
    "start_time": "2023-08-23T08:54:45.332Z"
   },
   {
    "duration": 0,
    "start_time": "2023-08-23T08:54:45.333Z"
   },
   {
    "duration": 0,
    "start_time": "2023-08-23T08:54:45.335Z"
   },
   {
    "duration": 0,
    "start_time": "2023-08-23T08:54:45.336Z"
   },
   {
    "duration": 0,
    "start_time": "2023-08-23T08:54:45.337Z"
   },
   {
    "duration": 0,
    "start_time": "2023-08-23T08:54:45.338Z"
   },
   {
    "duration": 0,
    "start_time": "2023-08-23T08:54:45.339Z"
   },
   {
    "duration": 0,
    "start_time": "2023-08-23T08:54:45.340Z"
   },
   {
    "duration": 0,
    "start_time": "2023-08-23T08:54:45.341Z"
   },
   {
    "duration": 52,
    "start_time": "2023-08-23T08:54:45.353Z"
   },
   {
    "duration": 0,
    "start_time": "2023-08-23T08:54:45.409Z"
   },
   {
    "duration": 0,
    "start_time": "2023-08-23T08:54:45.410Z"
   },
   {
    "duration": 0,
    "start_time": "2023-08-23T08:54:45.411Z"
   },
   {
    "duration": 0,
    "start_time": "2023-08-23T08:54:45.411Z"
   },
   {
    "duration": 0,
    "start_time": "2023-08-23T08:54:45.412Z"
   },
   {
    "duration": 0,
    "start_time": "2023-08-23T08:54:45.413Z"
   },
   {
    "duration": 0,
    "start_time": "2023-08-23T08:54:45.413Z"
   },
   {
    "duration": 0,
    "start_time": "2023-08-23T08:54:45.414Z"
   },
   {
    "duration": 0,
    "start_time": "2023-08-23T08:54:45.417Z"
   },
   {
    "duration": 709,
    "start_time": "2023-08-23T08:58:52.813Z"
   },
   {
    "duration": 17793,
    "start_time": "2023-08-23T08:58:53.524Z"
   },
   {
    "duration": 10198,
    "start_time": "2023-08-23T08:59:11.365Z"
   },
   {
    "duration": 46,
    "start_time": "2023-08-23T08:59:21.565Z"
   },
   {
    "duration": 6042,
    "start_time": "2023-08-23T08:59:21.659Z"
   },
   {
    "duration": 1077,
    "start_time": "2023-08-23T08:59:27.703Z"
   },
   {
    "duration": 1121,
    "start_time": "2023-08-23T08:59:28.785Z"
   },
   {
    "duration": 1474,
    "start_time": "2023-08-23T08:59:29.912Z"
   },
   {
    "duration": 111,
    "start_time": "2023-08-23T08:59:31.391Z"
   },
   {
    "duration": 1068,
    "start_time": "2023-08-23T08:59:31.506Z"
   },
   {
    "duration": 15,
    "start_time": "2023-08-23T08:59:32.584Z"
   },
   {
    "duration": 6,
    "start_time": "2023-08-23T08:59:32.601Z"
   },
   {
    "duration": 1676,
    "start_time": "2023-08-23T08:59:32.609Z"
   },
   {
    "duration": 494,
    "start_time": "2023-08-23T08:59:34.293Z"
   },
   {
    "duration": 119,
    "start_time": "2023-08-23T08:59:34.788Z"
   },
   {
    "duration": 101,
    "start_time": "2023-08-23T08:59:34.909Z"
   },
   {
    "duration": 1692,
    "start_time": "2023-08-23T08:59:35.012Z"
   },
   {
    "duration": 155,
    "start_time": "2023-08-23T08:59:36.706Z"
   },
   {
    "duration": 5631,
    "start_time": "2023-08-23T08:59:36.862Z"
   },
   {
    "duration": 7,
    "start_time": "2023-08-23T08:59:42.495Z"
   },
   {
    "duration": 396,
    "start_time": "2023-08-23T08:59:42.504Z"
   },
   {
    "duration": 2174,
    "start_time": "2023-08-23T08:59:42.907Z"
   },
   {
    "duration": 40019,
    "start_time": "2023-08-23T08:59:45.082Z"
   },
   {
    "duration": 0,
    "start_time": "2023-08-23T09:00:25.102Z"
   },
   {
    "duration": 12,
    "start_time": "2023-08-23T09:10:06.081Z"
   },
   {
    "duration": 5,
    "start_time": "2023-08-23T09:13:05.595Z"
   },
   {
    "duration": 15,
    "start_time": "2023-08-23T09:13:08.018Z"
   },
   {
    "duration": 16,
    "start_time": "2023-08-23T09:13:24.740Z"
   },
   {
    "duration": 673,
    "start_time": "2023-08-23T09:13:53.423Z"
   },
   {
    "duration": 16766,
    "start_time": "2023-08-23T09:13:54.798Z"
   },
   {
    "duration": 10064,
    "start_time": "2023-08-23T09:14:26.625Z"
   },
   {
    "duration": 79,
    "start_time": "2023-08-23T09:14:36.691Z"
   },
   {
    "duration": 5616,
    "start_time": "2023-08-23T09:14:36.773Z"
   },
   {
    "duration": 1088,
    "start_time": "2023-08-23T09:14:42.391Z"
   },
   {
    "duration": 627,
    "start_time": "2023-08-23T09:14:43.481Z"
   },
   {
    "duration": 1125,
    "start_time": "2023-08-23T09:14:44.111Z"
   },
   {
    "duration": 122,
    "start_time": "2023-08-23T09:14:45.238Z"
   },
   {
    "duration": 1140,
    "start_time": "2023-08-23T09:14:45.361Z"
   },
   {
    "duration": 6,
    "start_time": "2023-08-23T09:14:46.559Z"
   },
   {
    "duration": 13,
    "start_time": "2023-08-23T09:14:46.568Z"
   },
   {
    "duration": 1513,
    "start_time": "2023-08-23T09:14:46.583Z"
   },
   {
    "duration": 384,
    "start_time": "2023-08-23T09:14:48.098Z"
   },
   {
    "duration": 122,
    "start_time": "2023-08-23T09:14:48.484Z"
   },
   {
    "duration": 152,
    "start_time": "2023-08-23T09:14:48.608Z"
   },
   {
    "duration": 1613,
    "start_time": "2023-08-23T09:14:48.762Z"
   },
   {
    "duration": 26,
    "start_time": "2023-08-23T09:14:50.381Z"
   },
   {
    "duration": 5794,
    "start_time": "2023-08-23T09:14:50.461Z"
   },
   {
    "duration": 14,
    "start_time": "2023-08-23T09:14:56.256Z"
   },
   {
    "duration": 401,
    "start_time": "2023-08-23T09:14:56.274Z"
   },
   {
    "duration": 1902,
    "start_time": "2023-08-23T09:14:56.677Z"
   },
   {
    "duration": 4098,
    "start_time": "2023-08-23T09:14:58.581Z"
   },
   {
    "duration": 108,
    "start_time": "2023-08-23T09:15:02.681Z"
   },
   {
    "duration": 26,
    "start_time": "2023-08-23T09:15:07.498Z"
   },
   {
    "duration": 9,
    "start_time": "2023-08-23T09:15:15.308Z"
   },
   {
    "duration": 853,
    "start_time": "2023-08-23T09:15:24.717Z"
   },
   {
    "duration": 667,
    "start_time": "2023-08-23T09:15:31.731Z"
   },
   {
    "duration": 8,
    "start_time": "2023-08-23T09:16:04.250Z"
   },
   {
    "duration": 72,
    "start_time": "2023-08-23T09:16:18.985Z"
   },
   {
    "duration": 2044,
    "start_time": "2023-08-23T09:16:43.133Z"
   },
   {
    "duration": 2784,
    "start_time": "2023-08-23T09:16:46.400Z"
   },
   {
    "duration": 24,
    "start_time": "2023-08-23T09:16:58.640Z"
   },
   {
    "duration": 2180,
    "start_time": "2023-08-23T09:17:00.409Z"
   },
   {
    "duration": 20,
    "start_time": "2023-08-23T09:17:02.986Z"
   },
   {
    "duration": 28,
    "start_time": "2023-08-23T09:17:06.480Z"
   },
   {
    "duration": 1394,
    "start_time": "2023-08-23T09:17:11.448Z"
   },
   {
    "duration": 1362,
    "start_time": "2023-08-23T09:17:39.789Z"
   },
   {
    "duration": 17,
    "start_time": "2023-08-23T09:18:00.808Z"
   },
   {
    "duration": 1963,
    "start_time": "2023-08-23T09:18:12.542Z"
   },
   {
    "duration": 12,
    "start_time": "2023-08-23T09:22:26.484Z"
   },
   {
    "duration": 3202,
    "start_time": "2023-08-23T09:22:44.462Z"
   },
   {
    "duration": 111,
    "start_time": "2023-08-23T09:23:31.256Z"
   },
   {
    "duration": 1822,
    "start_time": "2023-08-23T09:23:35.802Z"
   },
   {
    "duration": 16,
    "start_time": "2023-08-23T09:23:47.425Z"
   },
   {
    "duration": 16,
    "start_time": "2023-08-23T09:23:53.127Z"
   },
   {
    "duration": 221,
    "start_time": "2023-08-23T09:24:06.081Z"
   },
   {
    "duration": 425,
    "start_time": "2023-08-23T09:24:14.175Z"
   },
   {
    "duration": 4,
    "start_time": "2023-08-23T09:24:16.034Z"
   },
   {
    "duration": 1216,
    "start_time": "2023-08-23T09:24:16.151Z"
   },
   {
    "duration": 454,
    "start_time": "2023-08-23T09:24:17.369Z"
   },
   {
    "duration": 180,
    "start_time": "2023-08-23T09:24:17.824Z"
   },
   {
    "duration": 295,
    "start_time": "2023-08-23T09:24:18.006Z"
   },
   {
    "duration": 14,
    "start_time": "2023-08-23T09:24:18.303Z"
   },
   {
    "duration": 477,
    "start_time": "2023-08-23T09:24:18.319Z"
   },
   {
    "duration": 4,
    "start_time": "2023-08-23T09:24:18.797Z"
   },
   {
    "duration": 5,
    "start_time": "2023-08-23T09:24:20.069Z"
   },
   {
    "duration": 410,
    "start_time": "2023-08-23T09:24:21.876Z"
   },
   {
    "duration": 101,
    "start_time": "2023-08-23T09:24:22.288Z"
   },
   {
    "duration": 72,
    "start_time": "2023-08-23T09:24:22.391Z"
   },
   {
    "duration": 24,
    "start_time": "2023-08-23T09:24:23.896Z"
   },
   {
    "duration": 308,
    "start_time": "2023-08-23T09:24:26.408Z"
   },
   {
    "duration": 19,
    "start_time": "2023-08-23T09:24:29.059Z"
   },
   {
    "duration": 3080,
    "start_time": "2023-08-23T09:24:43.227Z"
   },
   {
    "duration": 3060,
    "start_time": "2023-08-23T09:25:34.184Z"
   },
   {
    "duration": 1074,
    "start_time": "2023-08-23T09:25:39.447Z"
   },
   {
    "duration": 1853,
    "start_time": "2023-08-23T09:26:00.245Z"
   },
   {
    "duration": 21,
    "start_time": "2023-08-23T09:26:08.621Z"
   },
   {
    "duration": 1061,
    "start_time": "2023-08-23T09:26:18.566Z"
   },
   {
    "duration": 740,
    "start_time": "2023-08-23T09:26:50.561Z"
   },
   {
    "duration": 18,
    "start_time": "2023-08-23T09:28:04.552Z"
   },
   {
    "duration": 503,
    "start_time": "2023-08-23T09:31:44.387Z"
   },
   {
    "duration": 583,
    "start_time": "2023-08-23T09:33:43.128Z"
   },
   {
    "duration": 26,
    "start_time": "2023-08-23T09:33:54.213Z"
   },
   {
    "duration": 469,
    "start_time": "2023-08-23T09:34:37.930Z"
   },
   {
    "duration": 12,
    "start_time": "2023-08-23T09:34:42.217Z"
   },
   {
    "duration": 10,
    "start_time": "2023-08-23T09:34:48.473Z"
   },
   {
    "duration": 13,
    "start_time": "2023-08-23T09:34:51.899Z"
   },
   {
    "duration": 452,
    "start_time": "2023-08-23T09:34:55.830Z"
   },
   {
    "duration": 21,
    "start_time": "2023-08-23T09:35:02.972Z"
   },
   {
    "duration": 526,
    "start_time": "2023-08-23T09:37:00.963Z"
   },
   {
    "duration": 441,
    "start_time": "2023-08-23T09:37:10.348Z"
   },
   {
    "duration": 8,
    "start_time": "2023-08-23T09:37:18.829Z"
   },
   {
    "duration": 13,
    "start_time": "2023-08-23T09:37:47.162Z"
   },
   {
    "duration": 9,
    "start_time": "2023-08-23T09:37:47.601Z"
   },
   {
    "duration": 1832,
    "start_time": "2023-08-23T09:38:14.042Z"
   },
   {
    "duration": 27,
    "start_time": "2023-08-23T09:38:16.755Z"
   },
   {
    "duration": 12,
    "start_time": "2023-08-23T09:38:17.708Z"
   },
   {
    "duration": 19,
    "start_time": "2023-08-23T09:38:18.234Z"
   },
   {
    "duration": 16,
    "start_time": "2023-08-23T09:39:21.717Z"
   },
   {
    "duration": 12,
    "start_time": "2023-08-23T09:39:22.534Z"
   },
   {
    "duration": 10,
    "start_time": "2023-08-23T09:39:23.355Z"
   },
   {
    "duration": 10,
    "start_time": "2023-08-23T09:39:27.776Z"
   },
   {
    "duration": 9,
    "start_time": "2023-08-23T09:39:33.630Z"
   },
   {
    "duration": 16,
    "start_time": "2023-08-23T09:41:42.046Z"
   },
   {
    "duration": 6,
    "start_time": "2023-08-23T09:43:34.220Z"
   },
   {
    "duration": 18,
    "start_time": "2023-08-23T09:43:40.817Z"
   },
   {
    "duration": 207,
    "start_time": "2023-08-23T09:43:41.755Z"
   },
   {
    "duration": 10,
    "start_time": "2023-08-23T09:43:51.501Z"
   },
   {
    "duration": 27,
    "start_time": "2023-08-23T09:45:04.472Z"
   },
   {
    "duration": 22,
    "start_time": "2023-08-23T09:46:47.069Z"
   },
   {
    "duration": 1035,
    "start_time": "2023-08-23T09:47:04.324Z"
   },
   {
    "duration": 7,
    "start_time": "2023-08-23T09:47:17.274Z"
   },
   {
    "duration": 46,
    "start_time": "2023-08-23T09:47:24.590Z"
   },
   {
    "duration": 11,
    "start_time": "2023-08-23T09:47:30.746Z"
   },
   {
    "duration": 42,
    "start_time": "2023-08-23T09:47:36.154Z"
   },
   {
    "duration": 246,
    "start_time": "2023-08-23T09:48:06.319Z"
   },
   {
    "duration": 242,
    "start_time": "2023-08-23T09:50:04.987Z"
   },
   {
    "duration": 16,
    "start_time": "2023-08-23T09:50:09.397Z"
   },
   {
    "duration": 227,
    "start_time": "2023-08-23T09:50:13.964Z"
   },
   {
    "duration": 214,
    "start_time": "2023-08-23T09:50:17.434Z"
   },
   {
    "duration": 1668,
    "start_time": "2023-08-23T09:51:41.717Z"
   },
   {
    "duration": 22,
    "start_time": "2023-08-23T09:51:44.152Z"
   },
   {
    "duration": 211,
    "start_time": "2023-08-23T09:51:48.380Z"
   },
   {
    "duration": 1053,
    "start_time": "2023-08-23T09:52:07.028Z"
   },
   {
    "duration": 15,
    "start_time": "2023-08-23T09:52:18.534Z"
   },
   {
    "duration": 444,
    "start_time": "2023-08-23T09:52:21.754Z"
   },
   {
    "duration": 4,
    "start_time": "2023-08-23T09:52:26.854Z"
   },
   {
    "duration": 1018,
    "start_time": "2023-08-23T09:52:28.556Z"
   },
   {
    "duration": 410,
    "start_time": "2023-08-23T09:52:58.560Z"
   },
   {
    "duration": 4,
    "start_time": "2023-08-23T09:53:23.277Z"
   },
   {
    "duration": 5,
    "start_time": "2023-08-23T09:53:42.507Z"
   },
   {
    "duration": 3602,
    "start_time": "2023-08-23T09:56:41.286Z"
   },
   {
    "duration": 747,
    "start_time": "2023-08-23T09:57:48.347Z"
   },
   {
    "duration": 15496,
    "start_time": "2023-08-23T09:57:49.096Z"
   },
   {
    "duration": 8983,
    "start_time": "2023-08-23T09:58:04.597Z"
   },
   {
    "duration": 79,
    "start_time": "2023-08-23T09:58:13.581Z"
   },
   {
    "duration": 4516,
    "start_time": "2023-08-23T09:58:13.662Z"
   },
   {
    "duration": 815,
    "start_time": "2023-08-23T09:58:18.179Z"
   },
   {
    "duration": 497,
    "start_time": "2023-08-23T09:58:18.997Z"
   },
   {
    "duration": 903,
    "start_time": "2023-08-23T09:58:19.496Z"
   },
   {
    "duration": 88,
    "start_time": "2023-08-23T09:58:20.401Z"
   },
   {
    "duration": 1171,
    "start_time": "2023-08-23T09:58:20.491Z"
   },
   {
    "duration": 5,
    "start_time": "2023-08-23T09:58:21.664Z"
   },
   {
    "duration": 6,
    "start_time": "2023-08-23T09:58:21.671Z"
   },
   {
    "duration": 1594,
    "start_time": "2023-08-23T09:58:21.678Z"
   },
   {
    "duration": 419,
    "start_time": "2023-08-23T09:58:23.275Z"
   },
   {
    "duration": 163,
    "start_time": "2023-08-23T09:58:23.696Z"
   },
   {
    "duration": 98,
    "start_time": "2023-08-23T09:58:23.861Z"
   },
   {
    "duration": 1304,
    "start_time": "2023-08-23T09:58:23.961Z"
   },
   {
    "duration": 30,
    "start_time": "2023-08-23T09:58:25.267Z"
   },
   {
    "duration": 5004,
    "start_time": "2023-08-23T09:58:25.360Z"
   },
   {
    "duration": 2805,
    "start_time": "2023-08-23T09:58:30.366Z"
   },
   {
    "duration": 4194,
    "start_time": "2023-08-23T09:58:33.174Z"
   },
   {
    "duration": 90,
    "start_time": "2023-08-23T09:58:37.369Z"
   },
   {
    "duration": 806,
    "start_time": "2023-08-23T09:58:37.461Z"
   },
   {
    "duration": 1010,
    "start_time": "2023-08-23T09:58:38.269Z"
   },
   {
    "duration": 293,
    "start_time": "2023-08-23T09:58:39.281Z"
   },
   {
    "duration": 4100,
    "start_time": "2023-08-23T09:58:39.576Z"
   },
   {
    "duration": 5,
    "start_time": "2023-08-23T10:00:55.596Z"
   },
   {
    "duration": 5,
    "start_time": "2023-08-23T10:00:57.951Z"
   },
   {
    "duration": 40,
    "start_time": "2023-08-23T10:00:57.958Z"
   },
   {
    "duration": 562,
    "start_time": "2023-08-23T10:00:58.000Z"
   },
   {
    "duration": 4,
    "start_time": "2023-08-23T10:00:58.564Z"
   },
   {
    "duration": 1298,
    "start_time": "2023-08-23T10:00:58.570Z"
   },
   {
    "duration": 425,
    "start_time": "2023-08-23T10:00:59.870Z"
   },
   {
    "duration": 206,
    "start_time": "2023-08-23T10:01:00.297Z"
   },
   {
    "duration": 362,
    "start_time": "2023-08-23T10:01:00.505Z"
   },
   {
    "duration": 19,
    "start_time": "2023-08-23T10:01:00.869Z"
   },
   {
    "duration": 423,
    "start_time": "2023-08-23T10:01:00.890Z"
   },
   {
    "duration": 4,
    "start_time": "2023-08-23T10:01:01.314Z"
   },
   {
    "duration": 74,
    "start_time": "2023-08-23T10:01:01.319Z"
   },
   {
    "duration": 481,
    "start_time": "2023-08-23T10:01:01.395Z"
   },
   {
    "duration": 104,
    "start_time": "2023-08-23T10:01:01.878Z"
   },
   {
    "duration": 89,
    "start_time": "2023-08-23T10:01:01.984Z"
   },
   {
    "duration": 51,
    "start_time": "2023-08-23T10:01:02.075Z"
   },
   {
    "duration": 543,
    "start_time": "2023-08-23T10:01:02.128Z"
   },
   {
    "duration": 87,
    "start_time": "2023-08-23T10:01:02.672Z"
   },
   {
    "duration": 3502,
    "start_time": "2023-08-23T10:01:02.762Z"
   },
   {
    "duration": 1213,
    "start_time": "2023-08-23T10:01:06.266Z"
   },
   {
    "duration": 1881,
    "start_time": "2023-08-23T10:01:07.482Z"
   },
   {
    "duration": 19,
    "start_time": "2023-08-23T10:01:09.365Z"
   },
   {
    "duration": 679,
    "start_time": "2023-08-23T10:01:09.386Z"
   },
   {
    "duration": 135,
    "start_time": "2023-08-23T10:01:10.067Z"
   },
   {
    "duration": 162,
    "start_time": "2023-08-23T10:01:10.204Z"
   },
   {
    "duration": 2737,
    "start_time": "2023-08-23T10:01:10.367Z"
   },
   {
    "duration": 746,
    "start_time": "2023-08-23T10:01:27.767Z"
   },
   {
    "duration": 15588,
    "start_time": "2023-08-23T10:01:28.515Z"
   },
   {
    "duration": 8969,
    "start_time": "2023-08-23T10:01:44.106Z"
   },
   {
    "duration": 17,
    "start_time": "2023-08-23T10:01:53.077Z"
   },
   {
    "duration": 4540,
    "start_time": "2023-08-23T10:01:53.161Z"
   },
   {
    "duration": 896,
    "start_time": "2023-08-23T10:01:57.703Z"
   },
   {
    "duration": 496,
    "start_time": "2023-08-23T10:01:58.601Z"
   },
   {
    "duration": 935,
    "start_time": "2023-08-23T10:01:59.159Z"
   },
   {
    "duration": 79,
    "start_time": "2023-08-23T10:02:00.096Z"
   },
   {
    "duration": 1096,
    "start_time": "2023-08-23T10:02:00.176Z"
   },
   {
    "duration": 4,
    "start_time": "2023-08-23T10:02:01.274Z"
   },
   {
    "duration": 77,
    "start_time": "2023-08-23T10:02:01.280Z"
   },
   {
    "duration": 1511,
    "start_time": "2023-08-23T10:02:01.359Z"
   },
   {
    "duration": 315,
    "start_time": "2023-08-23T10:02:02.873Z"
   },
   {
    "duration": 100,
    "start_time": "2023-08-23T10:02:03.191Z"
   },
   {
    "duration": 94,
    "start_time": "2023-08-23T10:02:03.293Z"
   },
   {
    "duration": 1477,
    "start_time": "2023-08-23T10:02:03.389Z"
   },
   {
    "duration": 22,
    "start_time": "2023-08-23T10:02:04.867Z"
   },
   {
    "duration": 5404,
    "start_time": "2023-08-23T10:02:04.891Z"
   },
   {
    "duration": 2592,
    "start_time": "2023-08-23T10:02:10.297Z"
   },
   {
    "duration": 4875,
    "start_time": "2023-08-23T10:02:12.891Z"
   },
   {
    "duration": 19,
    "start_time": "2023-08-23T10:02:17.768Z"
   },
   {
    "duration": 992,
    "start_time": "2023-08-23T10:02:17.789Z"
   },
   {
    "duration": 1013,
    "start_time": "2023-08-23T10:02:18.782Z"
   },
   {
    "duration": 363,
    "start_time": "2023-08-23T10:02:19.796Z"
   },
   {
    "duration": 4602,
    "start_time": "2023-08-23T10:02:20.161Z"
   },
   {
    "duration": 8,
    "start_time": "2023-08-23T10:39:14.093Z"
   },
   {
    "duration": 24,
    "start_time": "2023-08-23T10:39:14.104Z"
   },
   {
    "duration": 666,
    "start_time": "2023-08-23T10:39:14.132Z"
   },
   {
    "duration": 67,
    "start_time": "2023-08-23T10:39:14.800Z"
   },
   {
    "duration": 1626,
    "start_time": "2023-08-23T10:39:14.872Z"
   },
   {
    "duration": 457,
    "start_time": "2023-08-23T10:39:16.559Z"
   },
   {
    "duration": 261,
    "start_time": "2023-08-23T10:39:17.018Z"
   },
   {
    "duration": 518,
    "start_time": "2023-08-23T10:39:17.283Z"
   },
   {
    "duration": 61,
    "start_time": "2023-08-23T10:39:17.803Z"
   },
   {
    "duration": 504,
    "start_time": "2023-08-23T10:39:17.866Z"
   },
   {
    "duration": 8,
    "start_time": "2023-08-23T10:39:18.372Z"
   },
   {
    "duration": 12,
    "start_time": "2023-08-23T10:39:18.381Z"
   },
   {
    "duration": 1170,
    "start_time": "2023-08-23T10:39:54.328Z"
   },
   {
    "duration": 790,
    "start_time": "2023-08-23T10:40:34.314Z"
   },
   {
    "duration": 171,
    "start_time": "2023-08-23T10:40:50.057Z"
   },
   {
    "duration": 641,
    "start_time": "2023-08-23T10:41:05.281Z"
   },
   {
    "duration": 760,
    "start_time": "2023-08-23T10:41:08.471Z"
   },
   {
    "duration": 164,
    "start_time": "2023-08-23T10:41:17.354Z"
   },
   {
    "duration": 561,
    "start_time": "2023-08-23T10:41:27.611Z"
   },
   {
    "duration": 529,
    "start_time": "2023-08-23T10:41:31.735Z"
   },
   {
    "duration": 474,
    "start_time": "2023-08-23T10:41:47.213Z"
   },
   {
    "duration": 606,
    "start_time": "2023-08-23T10:41:59.475Z"
   },
   {
    "duration": 8,
    "start_time": "2023-08-23T10:42:01.312Z"
   },
   {
    "duration": 989,
    "start_time": "2023-08-23T10:42:02.402Z"
   },
   {
    "duration": 559,
    "start_time": "2023-08-23T10:42:12.147Z"
   },
   {
    "duration": 923,
    "start_time": "2023-08-23T10:42:13.937Z"
   },
   {
    "duration": 216,
    "start_time": "2023-08-23T10:42:50.558Z"
   },
   {
    "duration": 466,
    "start_time": "2023-08-23T10:42:56.636Z"
   },
   {
    "duration": 826,
    "start_time": "2023-08-23T10:42:58.468Z"
   },
   {
    "duration": 214,
    "start_time": "2023-08-23T10:43:03.773Z"
   },
   {
    "duration": 494,
    "start_time": "2023-08-23T10:43:26.084Z"
   },
   {
    "duration": 829,
    "start_time": "2023-08-23T10:43:26.658Z"
   },
   {
    "duration": 193,
    "start_time": "2023-08-23T10:43:27.489Z"
   },
   {
    "duration": 497,
    "start_time": "2023-08-23T10:43:45.632Z"
   },
   {
    "duration": 449,
    "start_time": "2023-08-23T10:43:46.474Z"
   },
   {
    "duration": 184,
    "start_time": "2023-08-23T10:43:46.972Z"
   },
   {
    "duration": 430,
    "start_time": "2023-08-23T10:43:49.432Z"
   },
   {
    "duration": 563,
    "start_time": "2023-08-23T10:43:51.346Z"
   },
   {
    "duration": 156,
    "start_time": "2023-08-23T10:43:57.227Z"
   },
   {
    "duration": 404,
    "start_time": "2023-08-23T10:44:01.012Z"
   },
   {
    "duration": 726,
    "start_time": "2023-08-23T10:44:02.441Z"
   },
   {
    "duration": 70,
    "start_time": "2023-08-23T10:44:10.519Z"
   },
   {
    "duration": 34,
    "start_time": "2023-08-23T10:44:59.231Z"
   },
   {
    "duration": 32,
    "start_time": "2023-08-23T10:45:26.574Z"
   },
   {
    "duration": 1214,
    "start_time": "2023-08-23T10:45:56.679Z"
   },
   {
    "duration": 34,
    "start_time": "2023-08-23T10:46:31.381Z"
   },
   {
    "duration": 554,
    "start_time": "2023-08-23T10:46:37.412Z"
   },
   {
    "duration": 6,
    "start_time": "2023-08-23T10:46:47.079Z"
   },
   {
    "duration": 554,
    "start_time": "2023-08-23T10:46:52.827Z"
   },
   {
    "duration": 387,
    "start_time": "2023-08-23T10:47:02.377Z"
   },
   {
    "duration": 1791,
    "start_time": "2023-08-23T10:47:23.725Z"
   },
   {
    "duration": 15,
    "start_time": "2023-08-23T10:47:28.113Z"
   },
   {
    "duration": 370,
    "start_time": "2023-08-23T10:47:28.817Z"
   },
   {
    "duration": 697,
    "start_time": "2023-08-23T10:47:49.296Z"
   },
   {
    "duration": 16390,
    "start_time": "2023-08-23T10:47:49.995Z"
   },
   {
    "duration": 10076,
    "start_time": "2023-08-23T10:48:06.389Z"
   },
   {
    "duration": 24,
    "start_time": "2023-08-23T10:48:16.467Z"
   },
   {
    "duration": 5285,
    "start_time": "2023-08-23T10:48:16.494Z"
   },
   {
    "duration": 1113,
    "start_time": "2023-08-23T10:48:21.782Z"
   },
   {
    "duration": 599,
    "start_time": "2023-08-23T10:48:22.897Z"
   },
   {
    "duration": 1178,
    "start_time": "2023-08-23T10:48:23.497Z"
   },
   {
    "duration": 100,
    "start_time": "2023-08-23T10:48:24.676Z"
   },
   {
    "duration": 1220,
    "start_time": "2023-08-23T10:48:24.778Z"
   },
   {
    "duration": 61,
    "start_time": "2023-08-23T10:48:26.001Z"
   },
   {
    "duration": 11,
    "start_time": "2023-08-23T10:48:26.072Z"
   },
   {
    "duration": 1878,
    "start_time": "2023-08-23T10:48:26.084Z"
   },
   {
    "duration": 2628,
    "start_time": "2023-08-23T10:48:27.969Z"
   },
   {
    "duration": 399,
    "start_time": "2023-08-23T10:48:30.598Z"
   },
   {
    "duration": 165,
    "start_time": "2023-08-23T10:48:30.999Z"
   },
   {
    "duration": 118,
    "start_time": "2023-08-23T10:48:31.166Z"
   },
   {
    "duration": 2404,
    "start_time": "2023-08-23T10:48:31.287Z"
   },
   {
    "duration": 105,
    "start_time": "2023-08-23T10:48:33.693Z"
   },
   {
    "duration": 4828,
    "start_time": "2023-08-23T10:48:33.859Z"
   },
   {
    "duration": 93,
    "start_time": "2023-08-23T10:48:38.689Z"
   },
   {
    "duration": 1081,
    "start_time": "2023-08-23T10:48:38.784Z"
   },
   {
    "duration": 0,
    "start_time": "2023-08-23T10:48:39.868Z"
   },
   {
    "duration": 0,
    "start_time": "2023-08-23T10:48:39.869Z"
   },
   {
    "duration": 0,
    "start_time": "2023-08-23T10:48:39.870Z"
   },
   {
    "duration": 10,
    "start_time": "2023-08-23T10:48:52.410Z"
   },
   {
    "duration": 724,
    "start_time": "2023-08-23T10:49:03.350Z"
   },
   {
    "duration": 810,
    "start_time": "2023-08-23T10:49:13.197Z"
   },
   {
    "duration": 7,
    "start_time": "2023-08-23T10:49:21.005Z"
   },
   {
    "duration": 759,
    "start_time": "2023-08-23T10:49:26.640Z"
   },
   {
    "duration": 1263,
    "start_time": "2023-08-23T10:49:34.833Z"
   },
   {
    "duration": 929,
    "start_time": "2023-08-23T10:49:38.246Z"
   },
   {
    "duration": 111,
    "start_time": "2023-08-23T10:49:44.376Z"
   },
   {
    "duration": 1729,
    "start_time": "2023-08-23T10:49:47.084Z"
   },
   {
    "duration": 42,
    "start_time": "2023-08-23T10:49:55.322Z"
   },
   {
    "duration": 1481,
    "start_time": "2023-08-23T10:49:58.016Z"
   },
   {
    "duration": 41,
    "start_time": "2023-08-23T10:50:18.002Z"
   },
   {
    "duration": 2223,
    "start_time": "2023-08-23T10:50:20.253Z"
   },
   {
    "duration": 1377,
    "start_time": "2023-08-23T10:50:29.309Z"
   },
   {
    "duration": 2801,
    "start_time": "2023-08-23T10:50:35.604Z"
   },
   {
    "duration": 38,
    "start_time": "2023-08-23T10:51:07.598Z"
   },
   {
    "duration": 3062,
    "start_time": "2023-08-23T10:51:10.319Z"
   },
   {
    "duration": 2075,
    "start_time": "2023-08-23T10:51:33.989Z"
   },
   {
    "duration": 25,
    "start_time": "2023-08-23T10:51:51.151Z"
   },
   {
    "duration": 653,
    "start_time": "2023-08-23T10:52:05.638Z"
   },
   {
    "duration": 576,
    "start_time": "2023-08-23T10:52:16.502Z"
   },
   {
    "duration": 401,
    "start_time": "2023-08-23T10:52:17.080Z"
   },
   {
    "duration": 764,
    "start_time": "2023-08-23T10:52:20.125Z"
   },
   {
    "duration": 167,
    "start_time": "2023-08-23T10:52:20.892Z"
   },
   {
    "duration": 449,
    "start_time": "2023-08-23T10:52:22.044Z"
   },
   {
    "duration": 511,
    "start_time": "2023-08-23T10:52:24.412Z"
   },
   {
    "duration": 297,
    "start_time": "2023-08-23T10:52:25.667Z"
   },
   {
    "duration": 753,
    "start_time": "2023-08-23T10:52:28.238Z"
   },
   {
    "duration": 352,
    "start_time": "2023-08-23T10:52:31.227Z"
   },
   {
    "duration": 6,
    "start_time": "2023-08-23T10:53:11.039Z"
   },
   {
    "duration": 178,
    "start_time": "2023-08-23T10:53:18.146Z"
   },
   {
    "duration": 227,
    "start_time": "2023-08-23T10:53:23.977Z"
   },
   {
    "duration": 526,
    "start_time": "2023-08-23T10:53:25.054Z"
   },
   {
    "duration": 424,
    "start_time": "2023-08-23T10:53:25.582Z"
   },
   {
    "duration": 533,
    "start_time": "2023-08-23T10:53:39.046Z"
   },
   {
    "duration": 263,
    "start_time": "2023-08-23T10:53:41.799Z"
   },
   {
    "duration": 493,
    "start_time": "2023-08-23T10:55:07.813Z"
   },
   {
    "duration": 319,
    "start_time": "2023-08-23T10:55:08.308Z"
   },
   {
    "duration": 674,
    "start_time": "2023-08-23T10:55:11.132Z"
   },
   {
    "duration": 53,
    "start_time": "2023-08-23T10:55:12.384Z"
   },
   {
    "duration": 498,
    "start_time": "2023-08-23T10:55:14.413Z"
   },
   {
    "duration": 403,
    "start_time": "2023-08-23T10:55:42.569Z"
   },
   {
    "duration": 712,
    "start_time": "2023-08-23T10:55:42.974Z"
   },
   {
    "duration": 112,
    "start_time": "2023-08-23T10:55:43.688Z"
   },
   {
    "duration": 74,
    "start_time": "2023-08-23T10:55:43.801Z"
   },
   {
    "duration": 31,
    "start_time": "2023-08-23T10:55:45.041Z"
   },
   {
    "duration": 841,
    "start_time": "2023-08-23T10:55:45.341Z"
   },
   {
    "duration": 27,
    "start_time": "2023-08-23T10:55:47.873Z"
   },
   {
    "duration": 1676,
    "start_time": "2023-08-23T10:55:48.690Z"
   },
   {
    "duration": 15,
    "start_time": "2023-08-23T10:55:50.537Z"
   },
   {
    "duration": 325,
    "start_time": "2023-08-23T10:55:53.862Z"
   },
   {
    "duration": 2596,
    "start_time": "2023-08-23T10:56:34.788Z"
   },
   {
    "duration": 427,
    "start_time": "2023-08-23T10:56:44.270Z"
   },
   {
    "duration": 426,
    "start_time": "2023-08-23T10:56:44.700Z"
   },
   {
    "duration": 528,
    "start_time": "2023-08-23T10:57:40.151Z"
   },
   {
    "duration": 336,
    "start_time": "2023-08-23T10:57:40.681Z"
   },
   {
    "duration": 749,
    "start_time": "2023-08-23T10:57:41.019Z"
   },
   {
    "duration": 94,
    "start_time": "2023-08-23T10:57:41.770Z"
   },
   {
    "duration": 43,
    "start_time": "2023-08-23T10:57:41.866Z"
   },
   {
    "duration": 41,
    "start_time": "2023-08-23T10:57:41.958Z"
   },
   {
    "duration": 970,
    "start_time": "2023-08-23T10:57:42.001Z"
   },
   {
    "duration": 36,
    "start_time": "2023-08-23T10:57:42.974Z"
   },
   {
    "duration": 1390,
    "start_time": "2023-08-23T10:58:14.187Z"
   },
   {
    "duration": 20,
    "start_time": "2023-08-23T10:58:17.035Z"
   },
   {
    "duration": 345,
    "start_time": "2023-08-23T10:58:17.845Z"
   },
   {
    "duration": 8,
    "start_time": "2023-08-23T10:58:23.529Z"
   },
   {
    "duration": 435,
    "start_time": "2023-08-23T10:58:29.756Z"
   },
   {
    "duration": 304,
    "start_time": "2023-08-23T10:58:37.086Z"
   },
   {
    "duration": 3248,
    "start_time": "2023-08-23T10:58:52.932Z"
   },
   {
    "duration": 1809,
    "start_time": "2023-08-23T10:59:39.310Z"
   },
   {
    "duration": 1765,
    "start_time": "2023-08-23T10:59:48.594Z"
   },
   {
    "duration": 2486,
    "start_time": "2023-08-23T11:00:20.651Z"
   },
   {
    "duration": 396,
    "start_time": "2023-08-23T11:00:39.774Z"
   },
   {
    "duration": 3,
    "start_time": "2023-08-23T11:00:41.094Z"
   },
   {
    "duration": 1130,
    "start_time": "2023-08-23T11:00:41.653Z"
   },
   {
    "duration": 586,
    "start_time": "2023-08-23T11:00:42.786Z"
   },
   {
    "duration": 141,
    "start_time": "2023-08-23T11:00:43.374Z"
   },
   {
    "duration": 296,
    "start_time": "2023-08-23T11:00:43.517Z"
   },
   {
    "duration": 16,
    "start_time": "2023-08-23T11:00:44.998Z"
   },
   {
    "duration": 351,
    "start_time": "2023-08-23T11:00:45.509Z"
   },
   {
    "duration": 4,
    "start_time": "2023-08-23T11:00:47.370Z"
   },
   {
    "duration": 5,
    "start_time": "2023-08-23T11:00:50.118Z"
   },
   {
    "duration": 650,
    "start_time": "2023-08-23T11:01:09.132Z"
   },
   {
    "duration": 371,
    "start_time": "2023-08-23T11:01:14.897Z"
   },
   {
    "duration": 625,
    "start_time": "2023-08-23T11:01:19.197Z"
   },
   {
    "duration": 615,
    "start_time": "2023-08-23T11:01:24.465Z"
   },
   {
    "duration": 507,
    "start_time": "2023-08-23T11:01:35.595Z"
   },
   {
    "duration": 483,
    "start_time": "2023-08-23T11:01:38.535Z"
   },
   {
    "duration": 354,
    "start_time": "2023-08-23T11:01:40.583Z"
   },
   {
    "duration": 287,
    "start_time": "2023-08-23T11:01:55.713Z"
   },
   {
    "duration": 761,
    "start_time": "2023-08-23T11:02:07.599Z"
   },
   {
    "duration": 96,
    "start_time": "2023-08-23T11:02:08.363Z"
   },
   {
    "duration": 32,
    "start_time": "2023-08-23T11:02:08.868Z"
   },
   {
    "duration": 837,
    "start_time": "2023-08-23T11:02:11.719Z"
   },
   {
    "duration": 1127,
    "start_time": "2023-08-23T11:02:35.929Z"
   },
   {
    "duration": 1797,
    "start_time": "2023-08-23T11:02:54.625Z"
   },
   {
    "duration": 1012,
    "start_time": "2023-08-23T11:03:09.295Z"
   },
   {
    "duration": 402,
    "start_time": "2023-08-23T11:03:18.230Z"
   },
   {
    "duration": 478,
    "start_time": "2023-08-23T11:05:45.832Z"
   },
   {
    "duration": 506,
    "start_time": "2023-08-23T11:05:46.312Z"
   },
   {
    "duration": 371,
    "start_time": "2023-08-23T11:05:46.820Z"
   },
   {
    "duration": 522,
    "start_time": "2023-08-23T11:05:59.335Z"
   },
   {
    "duration": 227,
    "start_time": "2023-08-23T11:05:59.860Z"
   },
   {
    "duration": 274,
    "start_time": "2023-08-23T11:06:02.729Z"
   },
   {
    "duration": 349,
    "start_time": "2023-08-23T11:06:28.560Z"
   },
   {
    "duration": 306,
    "start_time": "2023-08-23T11:07:45.482Z"
   },
   {
    "duration": 286,
    "start_time": "2023-08-23T11:09:09.580Z"
   },
   {
    "duration": 267,
    "start_time": "2023-08-23T11:09:32.614Z"
   },
   {
    "duration": 416,
    "start_time": "2023-08-23T11:09:36.577Z"
   },
   {
    "duration": 245,
    "start_time": "2023-08-23T11:09:37.469Z"
   },
   {
    "duration": 406,
    "start_time": "2023-08-23T11:09:49.575Z"
   },
   {
    "duration": 196,
    "start_time": "2023-08-23T11:09:50.001Z"
   },
   {
    "duration": 38,
    "start_time": "2023-08-23T11:10:49.014Z"
   },
   {
    "duration": 1101,
    "start_time": "2023-08-23T11:10:51.931Z"
   },
   {
    "duration": 577,
    "start_time": "2023-08-23T11:10:53.034Z"
   },
   {
    "duration": 29,
    "start_time": "2023-08-23T11:11:31.923Z"
   },
   {
    "duration": 1536,
    "start_time": "2023-08-23T11:11:34.026Z"
   },
   {
    "duration": 481,
    "start_time": "2023-08-23T11:11:35.564Z"
   },
   {
    "duration": 14,
    "start_time": "2023-08-23T11:12:12.224Z"
   },
   {
    "duration": 41,
    "start_time": "2023-08-23T11:12:20.607Z"
   },
   {
    "duration": 375,
    "start_time": "2023-08-23T11:13:06.826Z"
   },
   {
    "duration": 424,
    "start_time": "2023-08-23T11:13:07.204Z"
   },
   {
    "duration": 185,
    "start_time": "2023-08-23T11:13:07.631Z"
   },
   {
    "duration": 265,
    "start_time": "2023-08-23T11:13:08.814Z"
   },
   {
    "duration": 84,
    "start_time": "2023-08-23T11:13:09.081Z"
   },
   {
    "duration": 27,
    "start_time": "2023-08-23T11:13:09.862Z"
   },
   {
    "duration": 29,
    "start_time": "2023-08-23T11:13:11.449Z"
   },
   {
    "duration": 434,
    "start_time": "2023-08-23T11:13:12.526Z"
   },
   {
    "duration": 29,
    "start_time": "2023-08-23T11:13:13.650Z"
   },
   {
    "duration": 2908,
    "start_time": "2023-08-23T11:13:16.915Z"
   },
   {
    "duration": 1151,
    "start_time": "2023-08-23T11:13:19.825Z"
   },
   {
    "duration": 2460,
    "start_time": "2023-08-23T11:13:32.809Z"
   },
   {
    "duration": 2390,
    "start_time": "2023-08-23T11:13:35.272Z"
   },
   {
    "duration": 383,
    "start_time": "2023-08-23T11:15:06.492Z"
   },
   {
    "duration": 4,
    "start_time": "2023-08-23T11:15:06.877Z"
   },
   {
    "duration": 978,
    "start_time": "2023-08-23T11:15:06.883Z"
   },
   {
    "duration": 523,
    "start_time": "2023-08-23T11:15:07.863Z"
   },
   {
    "duration": 288,
    "start_time": "2023-08-23T11:15:08.388Z"
   },
   {
    "duration": 259,
    "start_time": "2023-08-23T11:15:08.678Z"
   },
   {
    "duration": 18,
    "start_time": "2023-08-23T11:15:08.959Z"
   },
   {
    "duration": 352,
    "start_time": "2023-08-23T11:15:08.979Z"
   },
   {
    "duration": 5,
    "start_time": "2023-08-23T11:15:09.359Z"
   },
   {
    "duration": 31,
    "start_time": "2023-08-23T11:15:09.365Z"
   },
   {
    "duration": 421,
    "start_time": "2023-08-23T11:15:09.397Z"
   },
   {
    "duration": 353,
    "start_time": "2023-08-23T11:15:09.820Z"
   },
   {
    "duration": 239,
    "start_time": "2023-08-23T11:15:10.175Z"
   },
   {
    "duration": 255,
    "start_time": "2023-08-23T11:15:10.416Z"
   },
   {
    "duration": 99,
    "start_time": "2023-08-23T11:15:10.673Z"
   },
   {
    "duration": 25,
    "start_time": "2023-08-23T11:15:10.774Z"
   },
   {
    "duration": 31,
    "start_time": "2023-08-23T11:15:10.860Z"
   },
   {
    "duration": 598,
    "start_time": "2023-08-23T11:15:10.893Z"
   },
   {
    "duration": 34,
    "start_time": "2023-08-23T11:15:11.558Z"
   },
   {
    "duration": 2234,
    "start_time": "2023-08-23T11:15:11.660Z"
   },
   {
    "duration": 1711,
    "start_time": "2023-08-23T11:15:13.958Z"
   },
   {
    "duration": 559,
    "start_time": "2023-08-23T11:26:51.580Z"
   },
   {
    "duration": 480,
    "start_time": "2023-08-23T11:26:53.218Z"
   },
   {
    "duration": 370,
    "start_time": "2023-08-23T11:26:54.390Z"
   },
   {
    "duration": 375,
    "start_time": "2023-08-23T11:26:56.411Z"
   },
   {
    "duration": 88,
    "start_time": "2023-08-23T11:26:56.788Z"
   },
   {
    "duration": 89,
    "start_time": "2023-08-23T11:26:56.878Z"
   },
   {
    "duration": 37,
    "start_time": "2023-08-23T11:26:57.088Z"
   },
   {
    "duration": 455,
    "start_time": "2023-08-23T11:26:57.217Z"
   },
   {
    "duration": 97,
    "start_time": "2023-08-23T11:26:57.674Z"
   },
   {
    "duration": 2989,
    "start_time": "2023-08-23T11:26:57.804Z"
   },
   {
    "duration": 2581,
    "start_time": "2023-08-23T11:27:00.796Z"
   },
   {
    "duration": 247,
    "start_time": "2023-08-23T11:27:20.464Z"
   },
   {
    "duration": 5,
    "start_time": "2023-08-23T11:27:33.778Z"
   },
   {
    "duration": 425,
    "start_time": "2023-08-23T11:27:35.101Z"
   },
   {
    "duration": 331,
    "start_time": "2023-08-23T11:27:36.279Z"
   },
   {
    "duration": 314,
    "start_time": "2023-08-23T11:27:36.650Z"
   },
   {
    "duration": 257,
    "start_time": "2023-08-23T11:27:37.017Z"
   },
   {
    "duration": 94,
    "start_time": "2023-08-23T11:27:37.276Z"
   },
   {
    "duration": 24,
    "start_time": "2023-08-23T11:27:37.449Z"
   },
   {
    "duration": 26,
    "start_time": "2023-08-23T11:27:37.744Z"
   },
   {
    "duration": 572,
    "start_time": "2023-08-23T11:27:37.893Z"
   },
   {
    "duration": 0,
    "start_time": "2023-08-23T11:27:38.467Z"
   },
   {
    "duration": 147,
    "start_time": "2023-08-23T11:27:40.429Z"
   },
   {
    "duration": 163,
    "start_time": "2023-08-23T11:27:40.670Z"
   },
   {
    "duration": 241,
    "start_time": "2023-08-23T11:27:46.126Z"
   },
   {
    "duration": 4,
    "start_time": "2023-08-23T11:27:46.522Z"
   },
   {
    "duration": 810,
    "start_time": "2023-08-23T11:27:46.660Z"
   },
   {
    "duration": 252,
    "start_time": "2023-08-23T11:27:47.472Z"
   },
   {
    "duration": 162,
    "start_time": "2023-08-23T11:27:47.725Z"
   },
   {
    "duration": 293,
    "start_time": "2023-08-23T11:27:47.890Z"
   },
   {
    "duration": 13,
    "start_time": "2023-08-23T11:27:48.186Z"
   },
   {
    "duration": 258,
    "start_time": "2023-08-23T11:27:48.258Z"
   },
   {
    "duration": 4,
    "start_time": "2023-08-23T11:27:48.517Z"
   },
   {
    "duration": 11,
    "start_time": "2023-08-23T11:27:48.522Z"
   },
   {
    "duration": 445,
    "start_time": "2023-08-23T11:27:48.534Z"
   },
   {
    "duration": 329,
    "start_time": "2023-08-23T11:27:48.981Z"
   },
   {
    "duration": 588,
    "start_time": "2023-08-23T11:27:49.311Z"
   },
   {
    "duration": 366,
    "start_time": "2023-08-23T11:27:49.901Z"
   },
   {
    "duration": 32,
    "start_time": "2023-08-23T11:27:50.268Z"
   },
   {
    "duration": 63,
    "start_time": "2023-08-23T11:27:50.302Z"
   },
   {
    "duration": 25,
    "start_time": "2023-08-23T11:27:50.367Z"
   },
   {
    "duration": 401,
    "start_time": "2023-08-23T11:27:51.058Z"
   },
   {
    "duration": 26,
    "start_time": "2023-08-23T11:27:51.951Z"
   },
   {
    "duration": 1975,
    "start_time": "2023-08-23T11:27:52.505Z"
   },
   {
    "duration": 1520,
    "start_time": "2023-08-23T11:27:54.482Z"
   },
   {
    "duration": 447,
    "start_time": "2023-08-23T11:28:53.582Z"
   },
   {
    "duration": 315,
    "start_time": "2023-08-23T11:28:55.001Z"
   },
   {
    "duration": 351,
    "start_time": "2023-08-23T11:28:55.318Z"
   },
   {
    "duration": 335,
    "start_time": "2023-08-23T11:28:56.028Z"
   },
   {
    "duration": 35,
    "start_time": "2023-08-23T11:28:56.365Z"
   },
   {
    "duration": 22,
    "start_time": "2023-08-23T11:28:56.508Z"
   },
   {
    "duration": 28,
    "start_time": "2023-08-23T11:28:56.818Z"
   },
   {
    "duration": 418,
    "start_time": "2023-08-23T11:28:56.962Z"
   },
   {
    "duration": 24,
    "start_time": "2023-08-23T11:28:57.382Z"
   },
   {
    "duration": 1991,
    "start_time": "2023-08-23T11:28:57.708Z"
   },
   {
    "duration": 1644,
    "start_time": "2023-08-23T11:28:59.759Z"
   },
   {
    "duration": 473,
    "start_time": "2023-08-23T11:29:07.871Z"
   },
   {
    "duration": 299,
    "start_time": "2023-08-23T11:29:08.387Z"
   },
   {
    "duration": 377,
    "start_time": "2023-08-23T11:29:08.688Z"
   },
   {
    "duration": 316,
    "start_time": "2023-08-23T11:29:09.067Z"
   },
   {
    "duration": 31,
    "start_time": "2023-08-23T11:29:09.385Z"
   },
   {
    "duration": 22,
    "start_time": "2023-08-23T11:29:09.470Z"
   },
   {
    "duration": 25,
    "start_time": "2023-08-23T11:29:09.754Z"
   },
   {
    "duration": 374,
    "start_time": "2023-08-23T11:29:09.905Z"
   },
   {
    "duration": 89,
    "start_time": "2023-08-23T11:29:10.281Z"
   },
   {
    "duration": 2234,
    "start_time": "2023-08-23T11:29:10.498Z"
   },
   {
    "duration": 1667,
    "start_time": "2023-08-23T11:29:12.734Z"
   },
   {
    "duration": 300,
    "start_time": "2023-08-23T11:29:26.416Z"
   },
   {
    "duration": 5,
    "start_time": "2023-08-23T11:30:15.061Z"
   },
   {
    "duration": 5,
    "start_time": "2023-08-23T11:31:17.379Z"
   },
   {
    "duration": 338,
    "start_time": "2023-08-23T11:31:21.164Z"
   },
   {
    "duration": 364,
    "start_time": "2023-08-23T11:31:21.505Z"
   },
   {
    "duration": 218,
    "start_time": "2023-08-23T11:31:21.871Z"
   },
   {
    "duration": 243,
    "start_time": "2023-08-23T11:31:22.091Z"
   },
   {
    "duration": 62,
    "start_time": "2023-08-23T11:31:22.336Z"
   },
   {
    "duration": 24,
    "start_time": "2023-08-23T11:31:22.460Z"
   },
   {
    "duration": 27,
    "start_time": "2023-08-23T11:31:22.734Z"
   },
   {
    "duration": 362,
    "start_time": "2023-08-23T11:31:22.915Z"
   },
   {
    "duration": 22,
    "start_time": "2023-08-23T11:31:23.279Z"
   },
   {
    "duration": 1952,
    "start_time": "2023-08-23T11:31:23.721Z"
   },
   {
    "duration": 1620,
    "start_time": "2023-08-23T11:31:25.675Z"
   },
   {
    "duration": 5,
    "start_time": "2023-08-23T11:31:42.215Z"
   },
   {
    "duration": 397,
    "start_time": "2023-08-23T11:31:43.200Z"
   },
   {
    "duration": 393,
    "start_time": "2023-08-23T11:31:43.599Z"
   },
   {
    "duration": 189,
    "start_time": "2023-08-23T11:31:43.995Z"
   },
   {
    "duration": 311,
    "start_time": "2023-08-23T11:31:44.190Z"
   },
   {
    "duration": 62,
    "start_time": "2023-08-23T11:31:44.530Z"
   },
   {
    "duration": 25,
    "start_time": "2023-08-23T11:31:45.086Z"
   },
   {
    "duration": 24,
    "start_time": "2023-08-23T11:31:45.802Z"
   },
   {
    "duration": 365,
    "start_time": "2023-08-23T11:31:46.025Z"
   },
   {
    "duration": 23,
    "start_time": "2023-08-23T11:31:46.464Z"
   },
   {
    "duration": 1944,
    "start_time": "2023-08-23T11:31:47.222Z"
   },
   {
    "duration": 1610,
    "start_time": "2023-08-23T11:31:49.168Z"
   },
   {
    "duration": 28,
    "start_time": "2023-08-23T11:34:38.212Z"
   },
   {
    "duration": 5,
    "start_time": "2023-08-23T11:34:39.496Z"
   },
   {
    "duration": 4,
    "start_time": "2023-08-23T11:34:41.808Z"
   },
   {
    "duration": 5,
    "start_time": "2023-08-23T11:35:37.118Z"
   },
   {
    "duration": 622,
    "start_time": "2023-08-23T11:35:40.137Z"
   },
   {
    "duration": 397,
    "start_time": "2023-08-23T11:35:40.827Z"
   },
   {
    "duration": 260,
    "start_time": "2023-08-23T11:35:42.209Z"
   },
   {
    "duration": 360,
    "start_time": "2023-08-23T11:35:43.106Z"
   },
   {
    "duration": 42,
    "start_time": "2023-08-23T11:35:43.468Z"
   },
   {
    "duration": 56,
    "start_time": "2023-08-23T11:35:43.513Z"
   },
   {
    "duration": 27,
    "start_time": "2023-08-23T11:35:43.803Z"
   },
   {
    "duration": 440,
    "start_time": "2023-08-23T11:35:43.946Z"
   },
   {
    "duration": 81,
    "start_time": "2023-08-23T11:35:44.388Z"
   },
   {
    "duration": 2527,
    "start_time": "2023-08-23T11:35:44.641Z"
   },
   {
    "duration": 2006,
    "start_time": "2023-08-23T11:35:48.654Z"
   },
   {
    "duration": 4,
    "start_time": "2023-08-23T11:36:11.632Z"
   },
   {
    "duration": 406,
    "start_time": "2023-08-23T11:36:12.575Z"
   },
   {
    "duration": 462,
    "start_time": "2023-08-23T11:36:12.983Z"
   },
   {
    "duration": 254,
    "start_time": "2023-08-23T11:36:13.447Z"
   },
   {
    "duration": 373,
    "start_time": "2023-08-23T11:36:13.703Z"
   },
   {
    "duration": 102,
    "start_time": "2023-08-23T11:36:14.078Z"
   },
   {
    "duration": 32,
    "start_time": "2023-08-23T11:36:14.183Z"
   },
   {
    "duration": 70,
    "start_time": "2023-08-23T11:36:14.219Z"
   },
   {
    "duration": 672,
    "start_time": "2023-08-23T11:36:14.292Z"
   },
   {
    "duration": 24,
    "start_time": "2023-08-23T11:36:14.967Z"
   },
   {
    "duration": 2295,
    "start_time": "2023-08-23T11:36:14.993Z"
   },
   {
    "duration": 1704,
    "start_time": "2023-08-23T11:36:17.358Z"
   },
   {
    "duration": 5,
    "start_time": "2023-08-23T11:36:59.365Z"
   },
   {
    "duration": 4,
    "start_time": "2023-08-23T11:37:04.774Z"
   },
   {
    "duration": 401,
    "start_time": "2023-08-23T11:37:05.626Z"
   },
   {
    "duration": 404,
    "start_time": "2023-08-23T11:37:06.030Z"
   },
   {
    "duration": 613,
    "start_time": "2023-08-23T11:37:06.436Z"
   },
   {
    "duration": 441,
    "start_time": "2023-08-23T11:37:07.051Z"
   },
   {
    "duration": 95,
    "start_time": "2023-08-23T11:37:07.494Z"
   },
   {
    "duration": 86,
    "start_time": "2023-08-23T11:37:07.590Z"
   },
   {
    "duration": 88,
    "start_time": "2023-08-23T11:37:07.678Z"
   },
   {
    "duration": 529,
    "start_time": "2023-08-23T11:37:07.768Z"
   },
   {
    "duration": 85,
    "start_time": "2023-08-23T11:37:08.299Z"
   },
   {
    "duration": 2204,
    "start_time": "2023-08-23T11:37:08.386Z"
   },
   {
    "duration": 1810,
    "start_time": "2023-08-23T11:37:10.591Z"
   },
   {
    "duration": 25,
    "start_time": "2023-08-23T11:37:32.146Z"
   },
   {
    "duration": 6,
    "start_time": "2023-08-23T11:37:32.476Z"
   },
   {
    "duration": 4,
    "start_time": "2023-08-23T11:37:32.845Z"
   },
   {
    "duration": 378,
    "start_time": "2023-08-23T11:37:33.104Z"
   },
   {
    "duration": 416,
    "start_time": "2023-08-23T11:37:33.485Z"
   },
   {
    "duration": 379,
    "start_time": "2023-08-23T11:37:33.903Z"
   },
   {
    "duration": 325,
    "start_time": "2023-08-23T11:37:34.284Z"
   },
   {
    "duration": 83,
    "start_time": "2023-08-23T11:37:34.611Z"
   },
   {
    "duration": 73,
    "start_time": "2023-08-23T11:37:34.696Z"
   },
   {
    "duration": 27,
    "start_time": "2023-08-23T11:37:34.771Z"
   },
   {
    "duration": 400,
    "start_time": "2023-08-23T11:37:34.800Z"
   },
   {
    "duration": 33,
    "start_time": "2023-08-23T11:37:35.260Z"
   },
   {
    "duration": 2283,
    "start_time": "2023-08-23T11:37:35.295Z"
   },
   {
    "duration": 1894,
    "start_time": "2023-08-23T11:37:37.581Z"
   },
   {
    "duration": 3,
    "start_time": "2023-08-23T11:40:12.274Z"
   },
   {
    "duration": 4,
    "start_time": "2023-08-23T11:43:33.792Z"
   },
   {
    "duration": 4,
    "start_time": "2023-08-23T11:43:41.646Z"
   },
   {
    "duration": 2029,
    "start_time": "2023-08-23T11:43:57.833Z"
   },
   {
    "duration": 1133,
    "start_time": "2023-08-23T11:44:17.163Z"
   },
   {
    "duration": 1445,
    "start_time": "2023-08-23T11:44:23.725Z"
   },
   {
    "duration": 4,
    "start_time": "2023-08-23T11:44:40.463Z"
   },
   {
    "duration": 2057,
    "start_time": "2023-08-23T11:44:40.625Z"
   },
   {
    "duration": 1305,
    "start_time": "2023-08-23T11:44:42.684Z"
   },
   {
    "duration": 10,
    "start_time": "2023-08-23T11:48:19.647Z"
   },
   {
    "duration": 117,
    "start_time": "2023-08-23T11:48:39.819Z"
   },
   {
    "duration": 1043,
    "start_time": "2023-08-23T11:48:43.835Z"
   },
   {
    "duration": 8,
    "start_time": "2023-08-23T11:48:49.736Z"
   },
   {
    "duration": 1167,
    "start_time": "2023-08-23T11:48:58.501Z"
   },
   {
    "duration": 4,
    "start_time": "2023-08-23T11:50:07.017Z"
   },
   {
    "duration": 3,
    "start_time": "2023-08-23T11:50:41.606Z"
   },
   {
    "duration": 376,
    "start_time": "2023-08-23T11:50:58.189Z"
   },
   {
    "duration": 502,
    "start_time": "2023-08-23T11:51:47.078Z"
   },
   {
    "duration": 334,
    "start_time": "2023-08-23T11:51:48.580Z"
   },
   {
    "duration": 230,
    "start_time": "2023-08-23T11:51:49.866Z"
   },
   {
    "duration": 376,
    "start_time": "2023-08-23T11:51:51.707Z"
   },
   {
    "duration": 36,
    "start_time": "2023-08-23T11:51:52.085Z"
   },
   {
    "duration": 57,
    "start_time": "2023-08-23T11:51:52.124Z"
   },
   {
    "duration": 26,
    "start_time": "2023-08-23T11:51:53.302Z"
   },
   {
    "duration": 355,
    "start_time": "2023-08-23T11:51:53.436Z"
   },
   {
    "duration": 37,
    "start_time": "2023-08-23T11:51:54.093Z"
   },
   {
    "duration": 262,
    "start_time": "2023-08-23T11:51:56.451Z"
   },
   {
    "duration": 3233,
    "start_time": "2023-08-23T11:52:13.112Z"
   },
   {
    "duration": 1048,
    "start_time": "2023-08-23T11:52:16.347Z"
   },
   {
    "duration": 21,
    "start_time": "2023-08-23T11:54:03.637Z"
   },
   {
    "duration": 24,
    "start_time": "2023-08-23T11:54:08.017Z"
   },
   {
    "duration": 167,
    "start_time": "2023-08-23T11:55:05.796Z"
   },
   {
    "duration": 186,
    "start_time": "2023-08-23T11:55:53.062Z"
   },
   {
    "duration": 175,
    "start_time": "2023-08-23T11:57:01.366Z"
   },
   {
    "duration": 3,
    "start_time": "2023-08-23T11:57:12.256Z"
   },
   {
    "duration": 457,
    "start_time": "2023-08-23T11:57:17.918Z"
   },
   {
    "duration": 3,
    "start_time": "2023-08-23T11:57:30.762Z"
   },
   {
    "duration": 428,
    "start_time": "2023-08-23T11:57:31.282Z"
   },
   {
    "duration": 388,
    "start_time": "2023-08-23T11:57:31.712Z"
   },
   {
    "duration": 365,
    "start_time": "2023-08-23T11:57:32.102Z"
   },
   {
    "duration": 424,
    "start_time": "2023-08-23T11:57:32.470Z"
   },
   {
    "duration": 93,
    "start_time": "2023-08-23T11:57:32.896Z"
   },
   {
    "duration": 75,
    "start_time": "2023-08-23T11:57:32.991Z"
   },
   {
    "duration": 28,
    "start_time": "2023-08-23T11:57:33.069Z"
   },
   {
    "duration": 374,
    "start_time": "2023-08-23T11:57:33.200Z"
   },
   {
    "duration": 26,
    "start_time": "2023-08-23T11:57:33.903Z"
   },
   {
    "duration": 19,
    "start_time": "2023-08-23T11:57:34.975Z"
   },
   {
    "duration": 4,
    "start_time": "2023-08-23T11:58:13.282Z"
   },
   {
    "duration": 11,
    "start_time": "2023-08-23T11:58:13.477Z"
   },
   {
    "duration": 493,
    "start_time": "2023-08-23T11:59:32.583Z"
   },
   {
    "duration": 469,
    "start_time": "2023-08-23T11:59:34.060Z"
   },
   {
    "duration": 257,
    "start_time": "2023-08-23T11:59:34.531Z"
   },
   {
    "duration": 288,
    "start_time": "2023-08-23T11:59:34.791Z"
   },
   {
    "duration": 45,
    "start_time": "2023-08-23T11:59:35.081Z"
   },
   {
    "duration": 26,
    "start_time": "2023-08-23T11:59:35.873Z"
   },
   {
    "duration": 30,
    "start_time": "2023-08-23T11:59:36.357Z"
   },
   {
    "duration": 305,
    "start_time": "2023-08-23T11:59:36.690Z"
   },
   {
    "duration": 33,
    "start_time": "2023-08-23T11:59:37.447Z"
   },
   {
    "duration": 896,
    "start_time": "2023-08-23T11:59:39.414Z"
   },
   {
    "duration": 1139,
    "start_time": "2023-08-23T11:59:44.058Z"
   },
   {
    "duration": 5,
    "start_time": "2023-08-23T11:59:51.408Z"
   },
   {
    "duration": 1176,
    "start_time": "2023-08-23T11:59:51.616Z"
   },
   {
    "duration": 1279,
    "start_time": "2023-08-23T11:59:52.794Z"
   },
   {
    "duration": 5,
    "start_time": "2023-08-23T12:02:14.560Z"
   },
   {
    "duration": 22,
    "start_time": "2023-08-23T12:02:14.567Z"
   },
   {
    "duration": 324,
    "start_time": "2023-08-23T12:02:14.620Z"
   },
   {
    "duration": 15,
    "start_time": "2023-08-23T12:02:14.946Z"
   },
   {
    "duration": 1512,
    "start_time": "2023-08-23T12:02:14.963Z"
   },
   {
    "duration": 498,
    "start_time": "2023-08-23T12:02:16.477Z"
   },
   {
    "duration": 292,
    "start_time": "2023-08-23T12:02:16.978Z"
   },
   {
    "duration": 700,
    "start_time": "2023-08-23T12:02:17.272Z"
   },
   {
    "duration": 13,
    "start_time": "2023-08-23T12:02:17.974Z"
   },
   {
    "duration": 576,
    "start_time": "2023-08-23T12:02:17.989Z"
   },
   {
    "duration": 23,
    "start_time": "2023-08-23T12:02:18.567Z"
   },
   {
    "duration": 5,
    "start_time": "2023-08-23T12:02:18.592Z"
   },
   {
    "duration": 157,
    "start_time": "2023-08-23T12:02:18.599Z"
   },
   {
    "duration": 401,
    "start_time": "2023-08-23T12:02:18.758Z"
   },
   {
    "duration": 337,
    "start_time": "2023-08-23T12:02:19.161Z"
   },
   {
    "duration": 187,
    "start_time": "2023-08-23T12:02:19.501Z"
   },
   {
    "duration": 274,
    "start_time": "2023-08-23T12:02:19.690Z"
   },
   {
    "duration": 37,
    "start_time": "2023-08-23T12:02:19.966Z"
   },
   {
    "duration": 27,
    "start_time": "2023-08-23T12:02:20.005Z"
   },
   {
    "duration": 28,
    "start_time": "2023-08-23T12:02:20.060Z"
   },
   {
    "duration": 375,
    "start_time": "2023-08-23T12:02:20.090Z"
   },
   {
    "duration": 25,
    "start_time": "2023-08-23T12:02:20.467Z"
   },
   {
    "duration": 735,
    "start_time": "2023-08-23T12:02:20.494Z"
   },
   {
    "duration": 1148,
    "start_time": "2023-08-23T12:02:21.230Z"
   },
   {
    "duration": 4,
    "start_time": "2023-08-23T12:02:22.380Z"
   },
   {
    "duration": 1303,
    "start_time": "2023-08-23T12:02:22.386Z"
   },
   {
    "duration": 1374,
    "start_time": "2023-08-23T12:02:23.691Z"
   },
   {
    "duration": 881,
    "start_time": "2023-08-24T05:19:49.781Z"
   },
   {
    "duration": 7,
    "start_time": "2023-08-24T05:21:01.229Z"
   },
   {
    "duration": 6,
    "start_time": "2023-08-24T05:22:22.807Z"
   },
   {
    "duration": 17172,
    "start_time": "2023-08-24T05:22:25.243Z"
   },
   {
    "duration": 13129,
    "start_time": "2023-08-24T05:22:42.417Z"
   },
   {
    "duration": 66,
    "start_time": "2023-08-24T05:22:55.550Z"
   },
   {
    "duration": 5659,
    "start_time": "2023-08-24T05:22:55.619Z"
   },
   {
    "duration": 1142,
    "start_time": "2023-08-24T05:23:01.311Z"
   },
   {
    "duration": 108,
    "start_time": "2023-08-24T05:23:45.747Z"
   },
   {
    "duration": 8,
    "start_time": "2023-08-24T05:24:05.336Z"
   },
   {
    "duration": 21,
    "start_time": "2023-08-24T05:24:08.592Z"
   },
   {
    "duration": 975,
    "start_time": "2023-08-24T05:24:23.266Z"
   },
   {
    "duration": 6,
    "start_time": "2023-08-24T05:24:53.055Z"
   },
   {
    "duration": 3731,
    "start_time": "2023-08-24T05:25:24.784Z"
   },
   {
    "duration": 3164,
    "start_time": "2023-08-24T05:25:32.463Z"
   },
   {
    "duration": 4,
    "start_time": "2023-08-24T05:27:03.725Z"
   },
   {
    "duration": 3249,
    "start_time": "2023-08-24T05:27:18.199Z"
   },
   {
    "duration": 615,
    "start_time": "2023-08-24T05:27:22.733Z"
   },
   {
    "duration": 43,
    "start_time": "2023-08-24T05:27:23.370Z"
   },
   {
    "duration": 2358,
    "start_time": "2023-08-24T05:27:26.952Z"
   },
   {
    "duration": 9,
    "start_time": "2023-08-24T05:28:00.173Z"
   },
   {
    "duration": 7,
    "start_time": "2023-08-24T05:28:02.771Z"
   },
   {
    "duration": 8,
    "start_time": "2023-08-24T05:28:07.678Z"
   },
   {
    "duration": 7,
    "start_time": "2023-08-24T05:28:11.488Z"
   },
   {
    "duration": 14,
    "start_time": "2023-08-24T05:28:22.799Z"
   },
   {
    "duration": 148,
    "start_time": "2023-08-24T05:30:32.529Z"
   },
   {
    "duration": 35,
    "start_time": "2023-08-24T05:30:45.628Z"
   },
   {
    "duration": 274,
    "start_time": "2023-08-24T05:30:46.292Z"
   },
   {
    "duration": 225,
    "start_time": "2023-08-24T05:30:53.243Z"
   },
   {
    "duration": 134,
    "start_time": "2023-08-24T05:31:01.069Z"
   },
   {
    "duration": 11,
    "start_time": "2023-08-24T05:36:15.361Z"
   },
   {
    "duration": 7,
    "start_time": "2023-08-24T05:36:17.483Z"
   },
   {
    "duration": 5,
    "start_time": "2023-08-24T05:36:21.551Z"
   },
   {
    "duration": 8,
    "start_time": "2023-08-24T05:36:24.190Z"
   },
   {
    "duration": 203,
    "start_time": "2023-08-24T05:36:35.926Z"
   },
   {
    "duration": 5,
    "start_time": "2023-08-24T05:36:49.370Z"
   },
   {
    "duration": 5,
    "start_time": "2023-08-24T05:37:05.939Z"
   },
   {
    "duration": 532,
    "start_time": "2023-08-24T05:37:06.710Z"
   },
   {
    "duration": 4,
    "start_time": "2023-08-24T05:37:08.192Z"
   },
   {
    "duration": 1523,
    "start_time": "2023-08-24T05:37:09.126Z"
   },
   {
    "duration": 3,
    "start_time": "2023-08-24T05:37:12.169Z"
   },
   {
    "duration": 2335,
    "start_time": "2023-08-24T05:37:13.134Z"
   },
   {
    "duration": 377,
    "start_time": "2023-08-24T05:37:18.140Z"
   },
   {
    "duration": 18,
    "start_time": "2023-08-24T05:37:19.241Z"
   },
   {
    "duration": 1680,
    "start_time": "2023-08-24T05:37:20.042Z"
   },
   {
    "duration": 6,
    "start_time": "2023-08-24T05:37:25.976Z"
   },
   {
    "duration": 4,
    "start_time": "2023-08-24T05:38:20.593Z"
   },
   {
    "duration": 6,
    "start_time": "2023-08-24T05:38:24.729Z"
   },
   {
    "duration": 19,
    "start_time": "2023-08-24T05:38:42.001Z"
   },
   {
    "duration": 9,
    "start_time": "2023-08-24T05:38:58.766Z"
   },
   {
    "duration": 4,
    "start_time": "2023-08-24T05:39:02.083Z"
   },
   {
    "duration": 4,
    "start_time": "2023-08-24T05:39:16.526Z"
   },
   {
    "duration": 4,
    "start_time": "2023-08-24T05:39:21.736Z"
   },
   {
    "duration": 5,
    "start_time": "2023-08-24T05:39:24.670Z"
   },
   {
    "duration": 9,
    "start_time": "2023-08-24T05:40:36.627Z"
   },
   {
    "duration": 98,
    "start_time": "2023-08-24T05:40:55.805Z"
   },
   {
    "duration": 223,
    "start_time": "2023-08-24T05:40:58.161Z"
   },
   {
    "duration": 135,
    "start_time": "2023-08-24T05:41:05.829Z"
   },
   {
    "duration": 7,
    "start_time": "2023-08-24T05:41:23.148Z"
   },
   {
    "duration": 10,
    "start_time": "2023-08-24T05:41:41.593Z"
   },
   {
    "duration": 5,
    "start_time": "2023-08-24T05:41:46.359Z"
   },
   {
    "duration": 10,
    "start_time": "2023-08-24T05:41:51.929Z"
   },
   {
    "duration": 4,
    "start_time": "2023-08-24T05:42:02.999Z"
   },
   {
    "duration": 9,
    "start_time": "2023-08-24T05:42:10.331Z"
   },
   {
    "duration": 8,
    "start_time": "2023-08-24T05:42:17.950Z"
   },
   {
    "duration": 10,
    "start_time": "2023-08-24T05:44:30.591Z"
   },
   {
    "duration": 8,
    "start_time": "2023-08-24T05:44:33.446Z"
   },
   {
    "duration": 6,
    "start_time": "2023-08-24T05:44:36.034Z"
   },
   {
    "duration": 5,
    "start_time": "2023-08-24T05:44:44.081Z"
   },
   {
    "duration": 4,
    "start_time": "2023-08-24T05:44:50.548Z"
   },
   {
    "duration": 8,
    "start_time": "2023-08-24T05:45:00.673Z"
   },
   {
    "duration": 9,
    "start_time": "2023-08-24T05:45:04.835Z"
   },
   {
    "duration": 9,
    "start_time": "2023-08-24T05:46:17.048Z"
   },
   {
    "duration": 94,
    "start_time": "2023-08-24T05:51:58.780Z"
   },
   {
    "duration": 119,
    "start_time": "2023-08-24T05:52:36.795Z"
   },
   {
    "duration": 150,
    "start_time": "2023-08-24T05:52:40.525Z"
   },
   {
    "duration": 12,
    "start_time": "2023-08-24T05:52:52.186Z"
   },
   {
    "duration": 5,
    "start_time": "2023-08-24T05:52:57.020Z"
   },
   {
    "duration": 7,
    "start_time": "2023-08-24T05:53:12.417Z"
   },
   {
    "duration": 7,
    "start_time": "2023-08-24T05:53:20.974Z"
   },
   {
    "duration": 3,
    "start_time": "2023-08-24T05:53:30.459Z"
   },
   {
    "duration": 3,
    "start_time": "2023-08-24T05:53:38.131Z"
   },
   {
    "duration": 5,
    "start_time": "2023-08-24T05:53:46.234Z"
   },
   {
    "duration": 5,
    "start_time": "2023-08-24T05:53:50.100Z"
   },
   {
    "duration": 5,
    "start_time": "2023-08-24T05:53:58.948Z"
   },
   {
    "duration": 4,
    "start_time": "2023-08-24T05:54:01.184Z"
   },
   {
    "duration": 5,
    "start_time": "2023-08-24T05:54:05.227Z"
   },
   {
    "duration": 6,
    "start_time": "2023-08-24T05:54:09.308Z"
   },
   {
    "duration": 4,
    "start_time": "2023-08-24T05:54:26.424Z"
   },
   {
    "duration": 4,
    "start_time": "2023-08-24T05:54:51.706Z"
   },
   {
    "duration": 4,
    "start_time": "2023-08-24T05:54:59.544Z"
   },
   {
    "duration": 5,
    "start_time": "2023-08-24T05:55:05.853Z"
   },
   {
    "duration": 5,
    "start_time": "2023-08-24T05:55:09.304Z"
   },
   {
    "duration": 5,
    "start_time": "2023-08-24T05:55:15.039Z"
   },
   {
    "duration": 5,
    "start_time": "2023-08-24T05:55:21.826Z"
   },
   {
    "duration": 5,
    "start_time": "2023-08-24T05:55:28.256Z"
   },
   {
    "duration": 11,
    "start_time": "2023-08-24T05:57:49.069Z"
   },
   {
    "duration": 5,
    "start_time": "2023-08-24T05:57:52.089Z"
   },
   {
    "duration": 7,
    "start_time": "2023-08-24T05:57:56.320Z"
   },
   {
    "duration": 4,
    "start_time": "2023-08-24T05:58:03.347Z"
   },
   {
    "duration": 1287,
    "start_time": "2023-08-24T05:58:14.453Z"
   },
   {
    "duration": 362,
    "start_time": "2023-08-24T05:58:25.361Z"
   },
   {
    "duration": 9,
    "start_time": "2023-08-24T05:58:33.833Z"
   },
   {
    "duration": 394,
    "start_time": "2023-08-24T05:58:39.417Z"
   },
   {
    "duration": 222,
    "start_time": "2023-08-24T05:59:04.809Z"
   },
   {
    "duration": 251,
    "start_time": "2023-08-24T06:03:35.702Z"
   },
   {
    "duration": 225,
    "start_time": "2023-08-24T06:03:38.132Z"
   },
   {
    "duration": 1325,
    "start_time": "2023-08-24T06:04:08.684Z"
   },
   {
    "duration": 350,
    "start_time": "2023-08-24T06:04:14.580Z"
   },
   {
    "duration": 53,
    "start_time": "2023-08-24T06:04:17.167Z"
   },
   {
    "duration": 39,
    "start_time": "2023-08-24T06:04:18.140Z"
   },
   {
    "duration": 1358,
    "start_time": "2023-08-24T06:04:19.255Z"
   },
   {
    "duration": 93,
    "start_time": "2023-08-24T06:04:20.616Z"
   },
   {
    "duration": 3,
    "start_time": "2023-08-24T06:06:54.139Z"
   },
   {
    "duration": 4,
    "start_time": "2023-08-24T06:06:56.889Z"
   },
   {
    "duration": 6057,
    "start_time": "2023-08-24T06:06:57.358Z"
   },
   {
    "duration": 2631,
    "start_time": "2023-08-24T06:07:03.417Z"
   },
   {
    "duration": 1127,
    "start_time": "2023-08-24T06:07:21.988Z"
   },
   {
    "duration": 23,
    "start_time": "2023-08-24T06:07:24.755Z"
   },
   {
    "duration": 219,
    "start_time": "2023-08-24T06:07:33.236Z"
   },
   {
    "duration": 4,
    "start_time": "2023-08-24T06:07:37.668Z"
   },
   {
    "duration": 57,
    "start_time": "2023-08-24T06:07:37.674Z"
   },
   {
    "duration": 517,
    "start_time": "2023-08-24T06:07:37.732Z"
   },
   {
    "duration": 59,
    "start_time": "2023-08-24T06:07:38.252Z"
   },
   {
    "duration": 1230,
    "start_time": "2023-08-24T06:07:38.315Z"
   },
   {
    "duration": 5,
    "start_time": "2023-08-24T06:07:39.547Z"
   },
   {
    "duration": 58,
    "start_time": "2023-08-24T06:07:39.554Z"
   },
   {
    "duration": 2222,
    "start_time": "2023-08-24T06:07:39.614Z"
   },
   {
    "duration": 283,
    "start_time": "2023-08-24T06:07:41.838Z"
   },
   {
    "duration": 238,
    "start_time": "2023-08-24T06:07:42.123Z"
   },
   {
    "duration": 16,
    "start_time": "2023-08-24T06:07:42.363Z"
   },
   {
    "duration": 1712,
    "start_time": "2023-08-24T06:07:42.380Z"
   },
   {
    "duration": 5,
    "start_time": "2023-08-24T06:07:44.094Z"
   },
   {
    "duration": 510,
    "start_time": "2023-08-24T06:07:44.101Z"
   },
   {
    "duration": 305,
    "start_time": "2023-08-24T06:07:44.612Z"
   },
   {
    "duration": 291,
    "start_time": "2023-08-24T06:07:44.919Z"
   },
   {
    "duration": 521,
    "start_time": "2023-08-24T06:07:45.212Z"
   },
   {
    "duration": 116,
    "start_time": "2023-08-24T06:07:45.735Z"
   },
   {
    "duration": 90,
    "start_time": "2023-08-24T06:07:45.853Z"
   },
   {
    "duration": 93,
    "start_time": "2023-08-24T06:07:45.944Z"
   },
   {
    "duration": 502,
    "start_time": "2023-08-24T06:07:46.039Z"
   },
   {
    "duration": 99,
    "start_time": "2023-08-24T06:07:46.610Z"
   },
   {
    "duration": 5,
    "start_time": "2023-08-24T06:07:46.711Z"
   },
   {
    "duration": 3411,
    "start_time": "2023-08-24T06:07:46.718Z"
   },
   {
    "duration": 1922,
    "start_time": "2023-08-24T06:07:50.131Z"
   },
   {
    "duration": 999,
    "start_time": "2023-08-24T06:07:52.055Z"
   },
   {
    "duration": 5,
    "start_time": "2023-08-24T06:08:02.484Z"
   },
   {
    "duration": 426,
    "start_time": "2023-08-24T06:08:02.492Z"
   },
   {
    "duration": 396,
    "start_time": "2023-08-24T06:08:02.920Z"
   },
   {
    "duration": 4,
    "start_time": "2023-08-24T06:08:03.318Z"
   },
   {
    "duration": 909,
    "start_time": "2023-08-24T06:08:03.325Z"
   },
   {
    "duration": 4,
    "start_time": "2023-08-24T06:08:04.235Z"
   },
   {
    "duration": 3,
    "start_time": "2023-08-24T06:08:04.241Z"
   },
   {
    "duration": 1725,
    "start_time": "2023-08-24T06:08:04.245Z"
   },
   {
    "duration": 260,
    "start_time": "2023-08-24T06:08:05.972Z"
   },
   {
    "duration": 518,
    "start_time": "2023-08-24T06:08:06.234Z"
   },
   {
    "duration": 66,
    "start_time": "2023-08-24T06:08:06.754Z"
   },
   {
    "duration": 1896,
    "start_time": "2023-08-24T06:08:06.822Z"
   },
   {
    "duration": 5,
    "start_time": "2023-08-24T06:08:08.719Z"
   },
   {
    "duration": 407,
    "start_time": "2023-08-24T06:08:08.726Z"
   },
   {
    "duration": 229,
    "start_time": "2023-08-24T06:08:09.135Z"
   },
   {
    "duration": 173,
    "start_time": "2023-08-24T06:08:09.365Z"
   },
   {
    "duration": 399,
    "start_time": "2023-08-24T06:08:09.539Z"
   },
   {
    "duration": 103,
    "start_time": "2023-08-24T06:08:09.940Z"
   },
   {
    "duration": 88,
    "start_time": "2023-08-24T06:08:10.045Z"
   },
   {
    "duration": 74,
    "start_time": "2023-08-24T06:08:10.135Z"
   },
   {
    "duration": 436,
    "start_time": "2023-08-24T06:08:10.211Z"
   },
   {
    "duration": 92,
    "start_time": "2023-08-24T06:08:10.648Z"
   },
   {
    "duration": 4,
    "start_time": "2023-08-24T06:08:10.742Z"
   },
   {
    "duration": 2379,
    "start_time": "2023-08-24T06:08:10.748Z"
   },
   {
    "duration": 1901,
    "start_time": "2023-08-24T06:08:13.130Z"
   },
   {
    "duration": 3,
    "start_time": "2023-08-24T06:08:15.034Z"
   },
   {
    "duration": 104,
    "start_time": "2023-08-24T06:09:53.196Z"
   },
   {
    "duration": 110,
    "start_time": "2023-08-24T06:09:58.437Z"
   },
   {
    "duration": 737,
    "start_time": "2023-08-24T06:10:15.554Z"
   },
   {
    "duration": 506,
    "start_time": "2023-08-24T06:10:30.934Z"
   },
   {
    "duration": 972,
    "start_time": "2023-08-24T06:10:47.083Z"
   },
   {
    "duration": 42,
    "start_time": "2023-08-24T06:11:27.895Z"
   },
   {
    "duration": 4,
    "start_time": "2023-08-24T06:11:44.016Z"
   },
   {
    "duration": 8,
    "start_time": "2023-08-24T06:11:48.521Z"
   },
   {
    "duration": 4,
    "start_time": "2023-08-24T06:12:04.373Z"
   },
   {
    "duration": 885,
    "start_time": "2023-08-24T06:12:12.393Z"
   },
   {
    "duration": 976,
    "start_time": "2023-08-24T06:12:18.246Z"
   },
   {
    "duration": 1028,
    "start_time": "2023-08-24T06:13:13.065Z"
   },
   {
    "duration": 863,
    "start_time": "2023-08-24T06:13:19.047Z"
   },
   {
    "duration": 913,
    "start_time": "2023-08-24T06:13:25.024Z"
   },
   {
    "duration": 870,
    "start_time": "2023-08-24T06:13:33.070Z"
   },
   {
    "duration": 10,
    "start_time": "2023-08-24T06:15:17.143Z"
   },
   {
    "duration": 695,
    "start_time": "2023-08-24T06:15:24.940Z"
   },
   {
    "duration": 916,
    "start_time": "2023-08-24T06:15:30.540Z"
   },
   {
    "duration": 4,
    "start_time": "2023-08-24T06:15:40.730Z"
   },
   {
    "duration": 734,
    "start_time": "2023-08-24T06:15:42.954Z"
   },
   {
    "duration": 8,
    "start_time": "2023-08-24T06:15:56.662Z"
   },
   {
    "duration": 12,
    "start_time": "2023-08-24T06:15:58.540Z"
   },
   {
    "duration": 780,
    "start_time": "2023-08-24T06:16:00.357Z"
   },
   {
    "duration": 8,
    "start_time": "2023-08-24T06:16:17.152Z"
   },
   {
    "duration": 851,
    "start_time": "2023-08-24T06:16:19.453Z"
   },
   {
    "duration": 5,
    "start_time": "2023-08-24T06:16:32.088Z"
   },
   {
    "duration": 666,
    "start_time": "2023-08-24T06:16:34.243Z"
   },
   {
    "duration": 214,
    "start_time": "2023-08-24T06:16:36.205Z"
   },
   {
    "duration": 144,
    "start_time": "2023-08-24T06:16:56.838Z"
   },
   {
    "duration": 418,
    "start_time": "2023-08-24T06:16:58.008Z"
   },
   {
    "duration": 37,
    "start_time": "2023-08-24T06:16:59.296Z"
   },
   {
    "duration": 32,
    "start_time": "2023-08-24T06:16:59.947Z"
   },
   {
    "duration": 28,
    "start_time": "2023-08-24T06:17:00.283Z"
   },
   {
    "duration": 464,
    "start_time": "2023-08-24T06:17:00.451Z"
   },
   {
    "duration": 30,
    "start_time": "2023-08-24T06:17:01.731Z"
   },
   {
    "duration": 4,
    "start_time": "2023-08-24T06:17:03.155Z"
   },
   {
    "duration": 1922,
    "start_time": "2023-08-24T06:17:03.505Z"
   },
   {
    "duration": 1285,
    "start_time": "2023-08-24T06:17:07.230Z"
   },
   {
    "duration": 303,
    "start_time": "2023-08-24T06:17:28.622Z"
   },
   {
    "duration": 515,
    "start_time": "2023-08-24T06:17:29.398Z"
   },
   {
    "duration": 706,
    "start_time": "2023-08-24T06:17:49.128Z"
   },
   {
    "duration": 7,
    "start_time": "2023-08-24T06:18:04.035Z"
   },
   {
    "duration": 514,
    "start_time": "2023-08-24T06:18:05.929Z"
   },
   {
    "duration": 5,
    "start_time": "2023-08-24T06:18:10.195Z"
   },
   {
    "duration": 520,
    "start_time": "2023-08-24T06:18:14.115Z"
   },
   {
    "duration": 235,
    "start_time": "2023-08-24T06:18:14.638Z"
   },
   {
    "duration": 141,
    "start_time": "2023-08-24T06:18:14.874Z"
   },
   {
    "duration": 383,
    "start_time": "2023-08-24T06:18:15.258Z"
   },
   {
    "duration": 96,
    "start_time": "2023-08-24T06:18:15.643Z"
   },
   {
    "duration": 26,
    "start_time": "2023-08-24T06:18:16.006Z"
   },
   {
    "duration": 26,
    "start_time": "2023-08-24T06:18:16.325Z"
   },
   {
    "duration": 341,
    "start_time": "2023-08-24T06:18:16.491Z"
   },
   {
    "duration": 75,
    "start_time": "2023-08-24T06:18:16.834Z"
   },
   {
    "duration": 4,
    "start_time": "2023-08-24T06:18:17.544Z"
   },
   {
    "duration": 2200,
    "start_time": "2023-08-24T06:18:17.712Z"
   },
   {
    "duration": 1527,
    "start_time": "2023-08-24T06:18:19.913Z"
   },
   {
    "duration": 567,
    "start_time": "2023-08-24T06:18:35.849Z"
   },
   {
    "duration": 350,
    "start_time": "2023-08-24T06:18:49.363Z"
   },
   {
    "duration": 4,
    "start_time": "2023-08-24T06:18:50.989Z"
   },
   {
    "duration": 753,
    "start_time": "2023-08-24T06:18:51.401Z"
   },
   {
    "duration": 5,
    "start_time": "2023-08-24T06:18:52.156Z"
   },
   {
    "duration": 5,
    "start_time": "2023-08-24T06:18:52.847Z"
   },
   {
    "duration": 1321,
    "start_time": "2023-08-24T06:18:53.026Z"
   },
   {
    "duration": 157,
    "start_time": "2023-08-24T06:18:54.566Z"
   },
   {
    "duration": 340,
    "start_time": "2023-08-24T06:18:56.690Z"
   },
   {
    "duration": 13,
    "start_time": "2023-08-24T06:18:57.032Z"
   },
   {
    "duration": 1107,
    "start_time": "2023-08-24T06:18:58.135Z"
   },
   {
    "duration": 252,
    "start_time": "2023-08-24T06:19:03.618Z"
   },
   {
    "duration": 13,
    "start_time": "2023-08-24T06:19:05.032Z"
   },
   {
    "duration": 2012,
    "start_time": "2023-08-24T06:19:05.923Z"
   },
   {
    "duration": 53,
    "start_time": "2023-08-24T06:19:10.581Z"
   },
   {
    "duration": 6,
    "start_time": "2023-08-24T06:19:21.616Z"
   },
   {
    "duration": 8,
    "start_time": "2023-08-24T06:19:21.624Z"
   },
   {
    "duration": 234,
    "start_time": "2023-08-24T06:19:21.633Z"
   },
   {
    "duration": 4,
    "start_time": "2023-08-24T06:19:21.868Z"
   },
   {
    "duration": 742,
    "start_time": "2023-08-24T06:19:21.875Z"
   },
   {
    "duration": 5,
    "start_time": "2023-08-24T06:19:22.619Z"
   },
   {
    "duration": 5,
    "start_time": "2023-08-24T06:19:22.626Z"
   },
   {
    "duration": 1311,
    "start_time": "2023-08-24T06:19:22.633Z"
   },
   {
    "duration": 220,
    "start_time": "2023-08-24T06:19:23.946Z"
   },
   {
    "duration": 203,
    "start_time": "2023-08-24T06:19:24.168Z"
   },
   {
    "duration": 10,
    "start_time": "2023-08-24T06:19:24.373Z"
   },
   {
    "duration": 1388,
    "start_time": "2023-08-24T06:19:24.384Z"
   },
   {
    "duration": 1204,
    "start_time": "2023-08-24T06:19:25.774Z"
   },
   {
    "duration": 7,
    "start_time": "2023-08-24T06:19:26.982Z"
   },
   {
    "duration": 22,
    "start_time": "2023-08-24T06:19:26.991Z"
   },
   {
    "duration": 325,
    "start_time": "2023-08-24T06:19:27.015Z"
   },
   {
    "duration": 164,
    "start_time": "2023-08-24T06:19:27.341Z"
   },
   {
    "duration": 119,
    "start_time": "2023-08-24T06:19:27.510Z"
   },
   {
    "duration": 390,
    "start_time": "2023-08-24T06:19:27.630Z"
   },
   {
    "duration": 88,
    "start_time": "2023-08-24T06:19:28.022Z"
   },
   {
    "duration": 25,
    "start_time": "2023-08-24T06:19:28.112Z"
   },
   {
    "duration": 89,
    "start_time": "2023-08-24T06:19:28.139Z"
   },
   {
    "duration": 424,
    "start_time": "2023-08-24T06:19:28.229Z"
   },
   {
    "duration": 77,
    "start_time": "2023-08-24T06:19:28.655Z"
   },
   {
    "duration": 8,
    "start_time": "2023-08-24T06:19:28.733Z"
   },
   {
    "duration": 1669,
    "start_time": "2023-08-24T06:19:28.743Z"
   },
   {
    "duration": 1400,
    "start_time": "2023-08-24T06:19:30.414Z"
   },
   {
    "duration": 2,
    "start_time": "2023-08-24T06:19:31.816Z"
   },
   {
    "duration": 31,
    "start_time": "2023-08-24T06:20:12.895Z"
   },
   {
    "duration": 163,
    "start_time": "2023-08-24T06:20:14.589Z"
   },
   {
    "duration": 124,
    "start_time": "2023-08-24T06:20:18.461Z"
   },
   {
    "duration": 1233,
    "start_time": "2023-08-24T06:20:22.272Z"
   },
   {
    "duration": 612,
    "start_time": "2023-08-24T06:20:37.427Z"
   },
   {
    "duration": 4,
    "start_time": "2023-08-24T06:20:44.523Z"
   },
   {
    "duration": 15,
    "start_time": "2023-08-24T06:20:44.529Z"
   },
   {
    "duration": 284,
    "start_time": "2023-08-24T06:20:44.546Z"
   },
   {
    "duration": 4,
    "start_time": "2023-08-24T06:20:44.832Z"
   },
   {
    "duration": 600,
    "start_time": "2023-08-24T06:20:44.838Z"
   },
   {
    "duration": 5,
    "start_time": "2023-08-24T06:20:45.439Z"
   },
   {
    "duration": 48,
    "start_time": "2023-08-24T06:20:45.446Z"
   },
   {
    "duration": 1389,
    "start_time": "2023-08-24T06:20:45.496Z"
   },
   {
    "duration": 178,
    "start_time": "2023-08-24T06:20:46.887Z"
   },
   {
    "duration": 198,
    "start_time": "2023-08-24T06:20:47.067Z"
   },
   {
    "duration": 11,
    "start_time": "2023-08-24T06:20:47.267Z"
   },
   {
    "duration": 1431,
    "start_time": "2023-08-24T06:20:47.279Z"
   },
   {
    "duration": 1337,
    "start_time": "2023-08-24T06:20:48.712Z"
   },
   {
    "duration": 4,
    "start_time": "2023-08-24T06:21:28.206Z"
   },
   {
    "duration": 1331,
    "start_time": "2023-08-24T06:21:30.916Z"
   },
   {
    "duration": 1152,
    "start_time": "2023-08-24T06:21:37.345Z"
   },
   {
    "duration": 175,
    "start_time": "2023-08-24T06:22:23.894Z"
   },
   {
    "duration": 373,
    "start_time": "2023-08-24T06:22:28.050Z"
   },
   {
    "duration": 183,
    "start_time": "2023-08-24T06:22:31.409Z"
   },
   {
    "duration": 167,
    "start_time": "2023-08-24T06:22:39.440Z"
   },
   {
    "duration": 343,
    "start_time": "2023-08-24T06:22:47.095Z"
   },
   {
    "duration": 35,
    "start_time": "2023-08-24T06:22:47.747Z"
   },
   {
    "duration": 25,
    "start_time": "2023-08-24T06:22:48.709Z"
   },
   {
    "duration": 27,
    "start_time": "2023-08-24T06:22:50.475Z"
   },
   {
    "duration": 320,
    "start_time": "2023-08-24T06:22:50.890Z"
   },
   {
    "duration": 33,
    "start_time": "2023-08-24T06:22:54.512Z"
   },
   {
    "duration": 5,
    "start_time": "2023-08-24T06:23:01.011Z"
   },
   {
    "duration": 4,
    "start_time": "2023-08-24T06:23:23.831Z"
   },
   {
    "duration": 1352,
    "start_time": "2023-08-24T06:23:24.090Z"
   },
   {
    "duration": 1256,
    "start_time": "2023-08-24T06:23:27.565Z"
   },
   {
    "duration": 4,
    "start_time": "2023-08-24T06:25:45.402Z"
   },
   {
    "duration": 1666,
    "start_time": "2023-08-24T06:25:45.979Z"
   },
   {
    "duration": 1344,
    "start_time": "2023-08-24T06:25:49.878Z"
   },
   {
    "duration": 4,
    "start_time": "2023-08-24T06:26:01.928Z"
   },
   {
    "duration": 1389,
    "start_time": "2023-08-24T06:26:02.285Z"
   },
   {
    "duration": 1301,
    "start_time": "2023-08-24T06:26:03.676Z"
   },
   {
    "duration": 4,
    "start_time": "2023-08-24T06:26:44.468Z"
   },
   {
    "duration": 1823,
    "start_time": "2023-08-24T06:26:45.007Z"
   },
   {
    "duration": 1335,
    "start_time": "2023-08-24T06:26:47.891Z"
   },
   {
    "duration": 4,
    "start_time": "2023-08-24T06:27:31.133Z"
   },
   {
    "duration": 1196,
    "start_time": "2023-08-24T06:27:31.373Z"
   },
   {
    "duration": 1374,
    "start_time": "2023-08-24T06:27:32.571Z"
   },
   {
    "duration": 1020,
    "start_time": "2023-08-24T06:27:49.249Z"
   },
   {
    "duration": 7,
    "start_time": "2023-08-24T06:27:53.860Z"
   },
   {
    "duration": 529,
    "start_time": "2023-08-24T06:27:56.220Z"
   },
   {
    "duration": 777,
    "start_time": "2023-08-24T06:28:01.976Z"
   },
   {
    "duration": 6,
    "start_time": "2023-08-24T06:28:06.658Z"
   },
   {
    "duration": 302,
    "start_time": "2023-08-24T06:28:07.803Z"
   },
   {
    "duration": 132,
    "start_time": "2023-08-24T06:28:08.118Z"
   },
   {
    "duration": 120,
    "start_time": "2023-08-24T06:28:08.501Z"
   },
   {
    "duration": 278,
    "start_time": "2023-08-24T06:28:08.970Z"
   },
   {
    "duration": 29,
    "start_time": "2023-08-24T06:28:09.323Z"
   },
   {
    "duration": 26,
    "start_time": "2023-08-24T06:28:11.422Z"
   },
   {
    "duration": 23,
    "start_time": "2023-08-24T06:28:11.721Z"
   },
   {
    "duration": 268,
    "start_time": "2023-08-24T06:28:11.871Z"
   },
   {
    "duration": 36,
    "start_time": "2023-08-24T06:28:12.283Z"
   },
   {
    "duration": 4,
    "start_time": "2023-08-24T06:28:13.943Z"
   },
   {
    "duration": 1043,
    "start_time": "2023-08-24T06:28:15.126Z"
   },
   {
    "duration": 858,
    "start_time": "2023-08-24T06:28:16.364Z"
   },
   {
    "duration": 4,
    "start_time": "2023-08-24T06:31:26.331Z"
   },
   {
    "duration": 1001,
    "start_time": "2023-08-24T06:31:27.312Z"
   },
   {
    "duration": 6,
    "start_time": "2023-08-24T06:32:51.304Z"
   },
   {
    "duration": 4,
    "start_time": "2023-08-24T06:32:51.313Z"
   },
   {
    "duration": 230,
    "start_time": "2023-08-24T06:32:51.319Z"
   },
   {
    "duration": 4,
    "start_time": "2023-08-24T06:32:51.551Z"
   },
   {
    "duration": 514,
    "start_time": "2023-08-24T06:32:51.556Z"
   },
   {
    "duration": 40,
    "start_time": "2023-08-24T06:32:52.072Z"
   },
   {
    "duration": 19,
    "start_time": "2023-08-24T06:32:52.114Z"
   },
   {
    "duration": 1216,
    "start_time": "2023-08-24T06:32:52.135Z"
   },
   {
    "duration": 189,
    "start_time": "2023-08-24T06:32:53.353Z"
   },
   {
    "duration": 195,
    "start_time": "2023-08-24T06:32:53.545Z"
   },
   {
    "duration": 11,
    "start_time": "2023-08-24T06:32:53.742Z"
   },
   {
    "duration": 1280,
    "start_time": "2023-08-24T06:32:53.755Z"
   },
   {
    "duration": 1071,
    "start_time": "2023-08-24T06:32:55.038Z"
   },
   {
    "duration": 6,
    "start_time": "2023-08-24T06:32:56.111Z"
   },
   {
    "duration": 5,
    "start_time": "2023-08-24T06:32:56.119Z"
   },
   {
    "duration": 409,
    "start_time": "2023-08-24T06:32:56.126Z"
   },
   {
    "duration": 187,
    "start_time": "2023-08-24T06:32:56.537Z"
   },
   {
    "duration": 188,
    "start_time": "2023-08-24T06:32:56.726Z"
   },
   {
    "duration": 418,
    "start_time": "2023-08-24T06:32:56.915Z"
   },
   {
    "duration": 104,
    "start_time": "2023-08-24T06:32:57.334Z"
   },
   {
    "duration": 86,
    "start_time": "2023-08-24T06:32:57.440Z"
   },
   {
    "duration": 93,
    "start_time": "2023-08-24T06:32:57.528Z"
   },
   {
    "duration": 314,
    "start_time": "2023-08-24T06:32:57.623Z"
   },
   {
    "duration": 21,
    "start_time": "2023-08-24T06:32:57.939Z"
   },
   {
    "duration": 4,
    "start_time": "2023-08-24T06:32:57.962Z"
   },
   {
    "duration": 1276,
    "start_time": "2023-08-24T06:32:57.968Z"
   },
   {
    "duration": 924,
    "start_time": "2023-08-24T06:32:59.246Z"
   },
   {
    "duration": 999,
    "start_time": "2023-08-24T06:33:00.174Z"
   },
   {
    "duration": 164,
    "start_time": "2023-08-24T06:35:05.146Z"
   },
   {
    "duration": 5,
    "start_time": "2023-08-24T06:35:14.595Z"
   },
   {
    "duration": 325,
    "start_time": "2023-08-24T06:35:14.602Z"
   },
   {
    "duration": 385,
    "start_time": "2023-08-24T06:35:14.929Z"
   },
   {
    "duration": 4,
    "start_time": "2023-08-24T06:35:15.318Z"
   },
   {
    "duration": 503,
    "start_time": "2023-08-24T06:35:15.324Z"
   },
   {
    "duration": 4,
    "start_time": "2023-08-24T06:35:15.828Z"
   },
   {
    "duration": 7,
    "start_time": "2023-08-24T06:35:15.833Z"
   },
   {
    "duration": 1015,
    "start_time": "2023-08-24T06:35:15.842Z"
   },
   {
    "duration": 137,
    "start_time": "2023-08-24T06:35:16.859Z"
   },
   {
    "duration": 424,
    "start_time": "2023-08-24T06:35:16.999Z"
   },
   {
    "duration": 9,
    "start_time": "2023-08-24T06:35:17.425Z"
   },
   {
    "duration": 1260,
    "start_time": "2023-08-24T06:35:17.436Z"
   },
   {
    "duration": 965,
    "start_time": "2023-08-24T06:35:18.698Z"
   },
   {
    "duration": 7,
    "start_time": "2023-08-24T06:35:19.665Z"
   },
   {
    "duration": 7,
    "start_time": "2023-08-24T06:35:19.673Z"
   },
   {
    "duration": 304,
    "start_time": "2023-08-24T06:35:19.682Z"
   },
   {
    "duration": 145,
    "start_time": "2023-08-24T06:35:19.988Z"
   },
   {
    "duration": 188,
    "start_time": "2023-08-24T06:35:20.135Z"
   },
   {
    "duration": 227,
    "start_time": "2023-08-24T06:35:20.324Z"
   },
   {
    "duration": 85,
    "start_time": "2023-08-24T06:35:20.553Z"
   },
   {
    "duration": 79,
    "start_time": "2023-08-24T06:35:20.640Z"
   },
   {
    "duration": 32,
    "start_time": "2023-08-24T06:35:20.720Z"
   },
   {
    "duration": 263,
    "start_time": "2023-08-24T06:35:20.754Z"
   },
   {
    "duration": 22,
    "start_time": "2023-08-24T06:35:21.018Z"
   },
   {
    "duration": 4,
    "start_time": "2023-08-24T06:35:21.042Z"
   },
   {
    "duration": 1968,
    "start_time": "2023-08-24T06:35:21.047Z"
   },
   {
    "duration": 916,
    "start_time": "2023-08-24T06:35:23.016Z"
   },
   {
    "duration": 2,
    "start_time": "2023-08-24T06:35:23.935Z"
   },
   {
    "duration": 885,
    "start_time": "2023-08-24T06:35:37.833Z"
   },
   {
    "duration": 955,
    "start_time": "2023-08-24T06:35:40.324Z"
   },
   {
    "duration": 1024,
    "start_time": "2023-08-24T06:36:57.013Z"
   },
   {
    "duration": 22,
    "start_time": "2023-08-24T06:37:09.364Z"
   },
   {
    "duration": 986,
    "start_time": "2023-08-24T06:37:14.477Z"
   },
   {
    "duration": 130,
    "start_time": "2023-08-24T06:37:20.282Z"
   },
   {
    "duration": 472,
    "start_time": "2023-08-24T06:37:27.545Z"
   },
   {
    "duration": 4,
    "start_time": "2023-08-24T06:37:33.722Z"
   },
   {
    "duration": 13,
    "start_time": "2023-08-24T06:37:33.728Z"
   },
   {
    "duration": 213,
    "start_time": "2023-08-24T06:37:33.743Z"
   },
   {
    "duration": 3,
    "start_time": "2023-08-24T06:37:33.958Z"
   },
   {
    "duration": 452,
    "start_time": "2023-08-24T06:37:33.963Z"
   },
   {
    "duration": 4,
    "start_time": "2023-08-24T06:37:34.417Z"
   },
   {
    "duration": 1258,
    "start_time": "2023-08-24T06:37:38.435Z"
   },
   {
    "duration": 156,
    "start_time": "2023-08-24T06:37:42.260Z"
   },
   {
    "duration": 172,
    "start_time": "2023-08-24T06:37:49.512Z"
   },
   {
    "duration": 13,
    "start_time": "2023-08-24T06:37:51.086Z"
   },
   {
    "duration": 1004,
    "start_time": "2023-08-24T06:37:54.075Z"
   },
   {
    "duration": 910,
    "start_time": "2023-08-24T06:37:59.785Z"
   },
   {
    "duration": 3,
    "start_time": "2023-08-24T06:38:04.652Z"
   },
   {
    "duration": 895,
    "start_time": "2023-08-24T06:38:05.832Z"
   },
   {
    "duration": 3,
    "start_time": "2023-08-24T06:38:29.341Z"
   },
   {
    "duration": 12,
    "start_time": "2023-08-24T06:38:31.260Z"
   },
   {
    "duration": 3,
    "start_time": "2023-08-24T06:38:37.924Z"
   },
   {
    "duration": 948,
    "start_time": "2023-08-24T06:38:38.351Z"
   },
   {
    "duration": 4,
    "start_time": "2023-08-24T06:38:49.979Z"
   },
   {
    "duration": 29,
    "start_time": "2023-08-24T06:38:49.985Z"
   },
   {
    "duration": 246,
    "start_time": "2023-08-24T06:38:50.016Z"
   },
   {
    "duration": 4,
    "start_time": "2023-08-24T06:38:50.264Z"
   },
   {
    "duration": 440,
    "start_time": "2023-08-24T06:38:50.271Z"
   },
   {
    "duration": 5,
    "start_time": "2023-08-24T06:38:50.713Z"
   },
   {
    "duration": 11,
    "start_time": "2023-08-24T06:38:50.720Z"
   },
   {
    "duration": 1009,
    "start_time": "2023-08-24T06:38:50.733Z"
   },
   {
    "duration": 187,
    "start_time": "2023-08-24T06:38:51.743Z"
   },
   {
    "duration": 781,
    "start_time": "2023-08-24T06:38:51.932Z"
   },
   {
    "duration": 11,
    "start_time": "2023-08-24T06:38:52.717Z"
   },
   {
    "duration": 877,
    "start_time": "2023-08-24T06:38:55.854Z"
   },
   {
    "duration": 5,
    "start_time": "2023-08-24T06:39:02.451Z"
   },
   {
    "duration": 16,
    "start_time": "2023-08-24T06:39:02.459Z"
   },
   {
    "duration": 241,
    "start_time": "2023-08-24T06:39:02.478Z"
   },
   {
    "duration": 4,
    "start_time": "2023-08-24T06:39:02.721Z"
   },
   {
    "duration": 562,
    "start_time": "2023-08-24T06:39:02.730Z"
   },
   {
    "duration": 18,
    "start_time": "2023-08-24T06:39:03.294Z"
   },
   {
    "duration": 7,
    "start_time": "2023-08-24T06:39:03.314Z"
   },
   {
    "duration": 1005,
    "start_time": "2023-08-24T06:39:03.322Z"
   },
   {
    "duration": 113,
    "start_time": "2023-08-24T06:39:04.329Z"
   },
   {
    "duration": 215,
    "start_time": "2023-08-24T06:39:04.443Z"
   },
   {
    "duration": 9,
    "start_time": "2023-08-24T06:39:04.661Z"
   },
   {
    "duration": 1042,
    "start_time": "2023-08-24T06:39:04.672Z"
   },
   {
    "duration": 1055,
    "start_time": "2023-08-24T06:39:05.716Z"
   },
   {
    "duration": 7,
    "start_time": "2023-08-24T06:39:06.774Z"
   },
   {
    "duration": 30,
    "start_time": "2023-08-24T06:39:06.782Z"
   },
   {
    "duration": 292,
    "start_time": "2023-08-24T06:39:06.814Z"
   },
   {
    "duration": 143,
    "start_time": "2023-08-24T06:39:07.108Z"
   },
   {
    "duration": 205,
    "start_time": "2023-08-24T06:39:07.252Z"
   },
   {
    "duration": 244,
    "start_time": "2023-08-24T06:39:07.511Z"
   },
   {
    "duration": 36,
    "start_time": "2023-08-24T06:39:07.810Z"
   },
   {
    "duration": 79,
    "start_time": "2023-08-24T06:39:07.847Z"
   },
   {
    "duration": 20,
    "start_time": "2023-08-24T06:39:07.927Z"
   },
   {
    "duration": 219,
    "start_time": "2023-08-24T06:39:07.948Z"
   },
   {
    "duration": 47,
    "start_time": "2023-08-24T06:39:08.169Z"
   },
   {
    "duration": 4,
    "start_time": "2023-08-24T06:39:08.218Z"
   },
   {
    "duration": 1036,
    "start_time": "2023-08-24T06:39:08.224Z"
   },
   {
    "duration": 811,
    "start_time": "2023-08-24T06:39:09.262Z"
   },
   {
    "duration": 1000,
    "start_time": "2023-08-24T06:39:10.074Z"
   },
   {
    "duration": 4,
    "start_time": "2023-08-24T06:39:47.385Z"
   },
   {
    "duration": 256,
    "start_time": "2023-08-24T06:39:47.392Z"
   },
   {
    "duration": 322,
    "start_time": "2023-08-24T06:39:47.650Z"
   },
   {
    "duration": 4,
    "start_time": "2023-08-24T06:39:47.973Z"
   },
   {
    "duration": 574,
    "start_time": "2023-08-24T06:39:47.979Z"
   },
   {
    "duration": 5,
    "start_time": "2023-08-24T06:39:48.555Z"
   },
   {
    "duration": 7,
    "start_time": "2023-08-24T06:39:48.561Z"
   },
   {
    "duration": 1437,
    "start_time": "2023-08-24T06:39:48.570Z"
   },
   {
    "duration": 112,
    "start_time": "2023-08-24T06:39:50.009Z"
   },
   {
    "duration": 194,
    "start_time": "2023-08-24T06:39:50.123Z"
   },
   {
    "duration": 11,
    "start_time": "2023-08-24T06:39:50.319Z"
   },
   {
    "duration": 984,
    "start_time": "2023-08-24T06:39:50.332Z"
   },
   {
    "duration": 1298,
    "start_time": "2023-08-24T06:39:51.318Z"
   },
   {
    "duration": 7,
    "start_time": "2023-08-24T06:39:52.619Z"
   },
   {
    "duration": 630,
    "start_time": "2023-08-24T06:39:52.628Z"
   },
   {
    "duration": 7,
    "start_time": "2023-08-24T06:39:53.260Z"
   },
   {
    "duration": 326,
    "start_time": "2023-08-24T06:39:53.269Z"
   },
   {
    "duration": 152,
    "start_time": "2023-08-24T06:39:53.610Z"
   },
   {
    "duration": 132,
    "start_time": "2023-08-24T06:39:53.764Z"
   },
   {
    "duration": 420,
    "start_time": "2023-08-24T06:39:53.898Z"
   },
   {
    "duration": 96,
    "start_time": "2023-08-24T06:39:54.320Z"
   },
   {
    "duration": 31,
    "start_time": "2023-08-24T06:39:54.418Z"
   },
   {
    "duration": 26,
    "start_time": "2023-08-24T06:39:54.510Z"
   },
   {
    "duration": 484,
    "start_time": "2023-08-24T06:39:54.538Z"
   },
   {
    "duration": 33,
    "start_time": "2023-08-24T06:39:55.024Z"
   },
   {
    "duration": 5,
    "start_time": "2023-08-24T06:39:55.059Z"
   },
   {
    "duration": 1658,
    "start_time": "2023-08-24T06:39:55.066Z"
   },
   {
    "duration": 817,
    "start_time": "2023-08-24T06:39:56.726Z"
   },
   {
    "duration": 1001,
    "start_time": "2023-08-24T06:39:57.545Z"
   },
   {
    "duration": 5,
    "start_time": "2023-08-24T06:40:18.872Z"
   },
   {
    "duration": 230,
    "start_time": "2023-08-24T06:40:18.879Z"
   },
   {
    "duration": 230,
    "start_time": "2023-08-24T06:40:19.111Z"
   },
   {
    "duration": 4,
    "start_time": "2023-08-24T06:40:19.343Z"
   },
   {
    "duration": 503,
    "start_time": "2023-08-24T06:40:19.348Z"
   },
   {
    "duration": 5,
    "start_time": "2023-08-24T06:40:19.853Z"
   },
   {
    "duration": 8,
    "start_time": "2023-08-24T06:40:19.860Z"
   },
   {
    "duration": 991,
    "start_time": "2023-08-24T06:40:19.870Z"
   },
   {
    "duration": 116,
    "start_time": "2023-08-24T06:40:20.862Z"
   },
   {
    "duration": 156,
    "start_time": "2023-08-24T06:40:20.981Z"
   },
   {
    "duration": 10,
    "start_time": "2023-08-24T06:40:21.140Z"
   },
   {
    "duration": 963,
    "start_time": "2023-08-24T06:40:21.151Z"
   },
   {
    "duration": 1010,
    "start_time": "2023-08-24T06:40:22.115Z"
   },
   {
    "duration": 7,
    "start_time": "2023-08-24T06:40:23.127Z"
   },
   {
    "duration": 723,
    "start_time": "2023-08-24T06:40:23.136Z"
   },
   {
    "duration": 6,
    "start_time": "2023-08-24T06:40:23.860Z"
   },
   {
    "duration": 250,
    "start_time": "2023-08-24T06:40:23.867Z"
   },
   {
    "duration": 144,
    "start_time": "2023-08-24T06:40:24.118Z"
   },
   {
    "duration": 135,
    "start_time": "2023-08-24T06:40:24.264Z"
   },
   {
    "duration": 239,
    "start_time": "2023-08-24T06:40:24.400Z"
   },
   {
    "duration": 71,
    "start_time": "2023-08-24T06:40:24.640Z"
   },
   {
    "duration": 23,
    "start_time": "2023-08-24T06:40:24.713Z"
   },
   {
    "duration": 73,
    "start_time": "2023-08-24T06:40:24.738Z"
   },
   {
    "duration": 197,
    "start_time": "2023-08-24T06:40:24.812Z"
   },
   {
    "duration": 29,
    "start_time": "2023-08-24T06:40:25.011Z"
   },
   {
    "duration": 7,
    "start_time": "2023-08-24T06:40:58.448Z"
   },
   {
    "duration": 1650,
    "start_time": "2023-08-24T06:40:59.658Z"
   },
   {
    "duration": 98,
    "start_time": "2023-08-24T06:41:48.941Z"
   },
   {
    "duration": 113,
    "start_time": "2023-08-24T06:42:02.443Z"
   },
   {
    "duration": 5,
    "start_time": "2023-08-24T06:42:17.287Z"
   },
   {
    "duration": 972,
    "start_time": "2023-08-24T06:42:19.065Z"
   },
   {
    "duration": 4,
    "start_time": "2023-08-24T06:42:34.506Z"
   },
   {
    "duration": 4,
    "start_time": "2023-08-24T06:42:36.259Z"
   },
   {
    "duration": 1011,
    "start_time": "2023-08-24T06:42:37.101Z"
   },
   {
    "duration": 15,
    "start_time": "2023-08-24T06:42:52.553Z"
   },
   {
    "duration": 14,
    "start_time": "2023-08-24T06:42:55.353Z"
   },
   {
    "duration": 12,
    "start_time": "2023-08-24T06:42:59.073Z"
   },
   {
    "duration": 12,
    "start_time": "2023-08-24T06:43:23.732Z"
   },
   {
    "duration": 16,
    "start_time": "2023-08-24T06:43:52.657Z"
   },
   {
    "duration": 14,
    "start_time": "2023-08-24T06:44:42.910Z"
   },
   {
    "duration": 4,
    "start_time": "2023-08-24T06:44:48.190Z"
   },
   {
    "duration": 1363,
    "start_time": "2023-08-24T06:44:48.851Z"
   },
   {
    "duration": 918,
    "start_time": "2023-08-24T06:44:50.217Z"
   },
   {
    "duration": 4,
    "start_time": "2023-08-24T06:46:06.995Z"
   },
   {
    "duration": 12,
    "start_time": "2023-08-24T06:46:07.001Z"
   },
   {
    "duration": 230,
    "start_time": "2023-08-24T06:46:07.014Z"
   },
   {
    "duration": 3,
    "start_time": "2023-08-24T06:46:07.246Z"
   },
   {
    "duration": 421,
    "start_time": "2023-08-24T06:46:07.251Z"
   },
   {
    "duration": 5,
    "start_time": "2023-08-24T06:46:07.709Z"
   },
   {
    "duration": 8,
    "start_time": "2023-08-24T06:46:07.715Z"
   },
   {
    "duration": 887,
    "start_time": "2023-08-24T06:46:07.724Z"
   },
   {
    "duration": 113,
    "start_time": "2023-08-24T06:46:08.613Z"
   },
   {
    "duration": 152,
    "start_time": "2023-08-24T06:46:08.728Z"
   },
   {
    "duration": 28,
    "start_time": "2023-08-24T06:46:08.881Z"
   },
   {
    "duration": 1129,
    "start_time": "2023-08-24T06:46:08.911Z"
   },
   {
    "duration": 926,
    "start_time": "2023-08-24T06:46:10.042Z"
   },
   {
    "duration": 7,
    "start_time": "2023-08-24T06:46:10.970Z"
   },
   {
    "duration": 510,
    "start_time": "2023-08-24T06:46:10.978Z"
   },
   {
    "duration": 5,
    "start_time": "2023-08-24T06:46:11.490Z"
   },
   {
    "duration": 250,
    "start_time": "2023-08-24T06:46:11.496Z"
   },
   {
    "duration": 118,
    "start_time": "2023-08-24T06:46:11.748Z"
   },
   {
    "duration": 139,
    "start_time": "2023-08-24T06:46:11.867Z"
   },
   {
    "duration": 318,
    "start_time": "2023-08-24T06:46:12.008Z"
   },
   {
    "duration": 103,
    "start_time": "2023-08-24T06:46:12.328Z"
   },
   {
    "duration": 29,
    "start_time": "2023-08-24T06:46:12.432Z"
   },
   {
    "duration": 48,
    "start_time": "2023-08-24T06:46:12.463Z"
   },
   {
    "duration": 212,
    "start_time": "2023-08-24T06:46:12.513Z"
   },
   {
    "duration": 22,
    "start_time": "2023-08-24T06:46:12.727Z"
   },
   {
    "duration": 4,
    "start_time": "2023-08-24T06:46:12.751Z"
   },
   {
    "duration": 977,
    "start_time": "2023-08-24T06:46:12.757Z"
   },
   {
    "duration": 1104,
    "start_time": "2023-08-24T06:46:13.736Z"
   },
   {
    "duration": 1001,
    "start_time": "2023-08-24T06:46:14.842Z"
   },
   {
    "duration": 35,
    "start_time": "2023-08-24T06:53:26.630Z"
   },
   {
    "duration": 5,
    "start_time": "2023-08-24T06:53:29.590Z"
   },
   {
    "duration": 242,
    "start_time": "2023-08-24T06:53:29.597Z"
   },
   {
    "duration": 320,
    "start_time": "2023-08-24T06:53:29.841Z"
   },
   {
    "duration": 4,
    "start_time": "2023-08-24T06:53:30.163Z"
   },
   {
    "duration": 489,
    "start_time": "2023-08-24T06:53:30.169Z"
   },
   {
    "duration": 6,
    "start_time": "2023-08-24T06:53:30.661Z"
   },
   {
    "duration": 47,
    "start_time": "2023-08-24T06:53:30.670Z"
   },
   {
    "duration": 1099,
    "start_time": "2023-08-24T06:53:30.719Z"
   },
   {
    "duration": 201,
    "start_time": "2023-08-24T06:53:31.824Z"
   },
   {
    "duration": 228,
    "start_time": "2023-08-24T06:53:32.027Z"
   },
   {
    "duration": 11,
    "start_time": "2023-08-24T06:53:32.256Z"
   },
   {
    "duration": 1031,
    "start_time": "2023-08-24T06:53:32.269Z"
   },
   {
    "duration": 1158,
    "start_time": "2023-08-24T06:53:33.303Z"
   },
   {
    "duration": 8,
    "start_time": "2023-08-24T06:53:34.464Z"
   },
   {
    "duration": 668,
    "start_time": "2023-08-24T06:53:34.474Z"
   },
   {
    "duration": 7,
    "start_time": "2023-08-24T06:53:35.144Z"
   },
   {
    "duration": 315,
    "start_time": "2023-08-24T06:53:35.152Z"
   },
   {
    "duration": 196,
    "start_time": "2023-08-24T06:53:35.474Z"
   },
   {
    "duration": 158,
    "start_time": "2023-08-24T06:53:35.672Z"
   },
   {
    "duration": 291,
    "start_time": "2023-08-24T06:53:35.833Z"
   },
   {
    "duration": 37,
    "start_time": "2023-08-24T06:53:36.126Z"
   },
   {
    "duration": 68,
    "start_time": "2023-08-24T06:53:36.165Z"
   },
   {
    "duration": 22,
    "start_time": "2023-08-24T06:53:36.236Z"
   },
   {
    "duration": 391,
    "start_time": "2023-08-24T06:53:36.261Z"
   },
   {
    "duration": 63,
    "start_time": "2023-08-24T06:53:36.654Z"
   },
   {
    "duration": 109,
    "start_time": "2023-08-24T06:54:07.247Z"
   },
   {
    "duration": 134,
    "start_time": "2023-08-24T06:54:11.884Z"
   },
   {
    "duration": 121,
    "start_time": "2023-08-24T06:54:14.267Z"
   },
   {
    "duration": 5,
    "start_time": "2023-08-24T06:54:16.485Z"
   },
   {
    "duration": 4,
    "start_time": "2023-08-24T06:54:19.245Z"
   },
   {
    "duration": 1575,
    "start_time": "2023-08-24T06:54:20.754Z"
   },
   {
    "duration": 5,
    "start_time": "2023-08-24T06:54:27.702Z"
   },
   {
    "duration": 960,
    "start_time": "2023-08-24T06:54:28.501Z"
   },
   {
    "duration": 6,
    "start_time": "2023-08-24T06:54:56.438Z"
   },
   {
    "duration": 1008,
    "start_time": "2023-08-24T06:54:57.174Z"
   },
   {
    "duration": 4,
    "start_time": "2023-08-24T06:55:05.688Z"
   },
   {
    "duration": 1166,
    "start_time": "2023-08-24T06:55:06.188Z"
   },
   {
    "duration": 825,
    "start_time": "2023-08-24T06:55:07.356Z"
   },
   {
    "duration": 5,
    "start_time": "2023-08-24T06:55:16.058Z"
   },
   {
    "duration": 924,
    "start_time": "2023-08-24T06:55:16.589Z"
   },
   {
    "duration": 860,
    "start_time": "2023-08-24T06:55:17.516Z"
   },
   {
    "duration": 4,
    "start_time": "2023-08-24T06:55:50.766Z"
   },
   {
    "duration": 986,
    "start_time": "2023-08-24T06:55:51.254Z"
   },
   {
    "duration": 5,
    "start_time": "2023-08-24T06:55:58.110Z"
   },
   {
    "duration": 4,
    "start_time": "2023-08-24T06:56:02.205Z"
   },
   {
    "duration": 1119,
    "start_time": "2023-08-24T06:56:03.117Z"
   },
   {
    "duration": 905,
    "start_time": "2023-08-24T06:56:04.238Z"
   },
   {
    "duration": 5,
    "start_time": "2023-08-24T06:56:10.148Z"
   },
   {
    "duration": 962,
    "start_time": "2023-08-24T06:56:10.659Z"
   },
   {
    "duration": 847,
    "start_time": "2023-08-24T06:56:11.623Z"
   },
   {
    "duration": 5,
    "start_time": "2023-08-24T06:57:06.408Z"
   },
   {
    "duration": 6,
    "start_time": "2023-08-24T06:57:06.416Z"
   },
   {
    "duration": 233,
    "start_time": "2023-08-24T06:57:06.424Z"
   },
   {
    "duration": 4,
    "start_time": "2023-08-24T06:57:06.660Z"
   },
   {
    "duration": 486,
    "start_time": "2023-08-24T06:57:06.666Z"
   },
   {
    "duration": 5,
    "start_time": "2023-08-24T06:57:07.153Z"
   },
   {
    "duration": 8,
    "start_time": "2023-08-24T06:57:07.160Z"
   },
   {
    "duration": 1039,
    "start_time": "2023-08-24T06:57:07.170Z"
   },
   {
    "duration": 117,
    "start_time": "2023-08-24T06:57:08.211Z"
   },
   {
    "duration": 179,
    "start_time": "2023-08-24T06:57:08.331Z"
   },
   {
    "duration": 10,
    "start_time": "2023-08-24T06:57:08.512Z"
   },
   {
    "duration": 897,
    "start_time": "2023-08-24T06:57:08.524Z"
   },
   {
    "duration": 913,
    "start_time": "2023-08-24T06:57:09.423Z"
   },
   {
    "duration": 16,
    "start_time": "2023-08-24T06:57:10.341Z"
   },
   {
    "duration": 537,
    "start_time": "2023-08-24T06:57:10.359Z"
   },
   {
    "duration": 15,
    "start_time": "2023-08-24T06:57:10.898Z"
   },
   {
    "duration": 282,
    "start_time": "2023-08-24T06:57:10.914Z"
   },
   {
    "duration": 116,
    "start_time": "2023-08-24T06:57:11.197Z"
   },
   {
    "duration": 142,
    "start_time": "2023-08-24T06:57:11.315Z"
   },
   {
    "duration": 270,
    "start_time": "2023-08-24T06:57:11.459Z"
   },
   {
    "duration": 30,
    "start_time": "2023-08-24T06:57:11.731Z"
   },
   {
    "duration": 67,
    "start_time": "2023-08-24T06:57:11.763Z"
   },
   {
    "duration": 21,
    "start_time": "2023-08-24T06:57:11.832Z"
   },
   {
    "duration": 214,
    "start_time": "2023-08-24T06:57:11.854Z"
   },
   {
    "duration": 55,
    "start_time": "2023-08-24T06:57:12.069Z"
   },
   {
    "duration": 4,
    "start_time": "2023-08-24T06:57:12.126Z"
   },
   {
    "duration": 1088,
    "start_time": "2023-08-24T06:57:12.132Z"
   },
   {
    "duration": 1061,
    "start_time": "2023-08-24T06:57:13.223Z"
   },
   {
    "duration": 1003,
    "start_time": "2023-08-24T06:57:14.286Z"
   },
   {
    "duration": 1572,
    "start_time": "2023-08-24T15:58:03.651Z"
   },
   {
    "duration": 17392,
    "start_time": "2023-08-24T15:58:05.225Z"
   },
   {
    "duration": 10616,
    "start_time": "2023-08-24T15:58:22.677Z"
   },
   {
    "duration": 74,
    "start_time": "2023-08-24T15:58:33.294Z"
   },
   {
    "duration": 5925,
    "start_time": "2023-08-24T15:58:33.377Z"
   },
   {
    "duration": 5,
    "start_time": "2023-08-24T15:58:39.304Z"
   },
   {
    "duration": 20,
    "start_time": "2023-08-24T15:58:39.311Z"
   },
   {
    "duration": 5146,
    "start_time": "2023-08-24T15:58:39.332Z"
   },
   {
    "duration": 610,
    "start_time": "2023-08-24T15:58:44.479Z"
   },
   {
    "duration": 737,
    "start_time": "2023-08-24T15:58:45.093Z"
   },
   {
    "duration": 76,
    "start_time": "2023-08-24T15:58:45.832Z"
   },
   {
    "duration": 3367,
    "start_time": "2023-08-24T15:58:45.911Z"
   },
   {
    "duration": 1675,
    "start_time": "2023-08-24T15:58:49.282Z"
   },
   {
    "duration": 33,
    "start_time": "2023-08-24T15:58:50.959Z"
   },
   {
    "duration": 1021,
    "start_time": "2023-08-24T15:58:50.993Z"
   },
   {
    "duration": 6,
    "start_time": "2023-08-24T15:58:52.016Z"
   },
   {
    "duration": 1477,
    "start_time": "2023-08-24T15:58:52.023Z"
   },
   {
    "duration": 488,
    "start_time": "2023-08-24T15:58:53.502Z"
   },
   {
    "duration": 396,
    "start_time": "2023-08-24T15:58:53.999Z"
   },
   {
    "duration": 2003,
    "start_time": "2023-08-24T15:58:54.397Z"
   },
   {
    "duration": 407,
    "start_time": "2023-08-24T15:58:56.401Z"
   },
   {
    "duration": 163,
    "start_time": "2023-08-24T15:58:56.809Z"
   },
   {
    "duration": 13,
    "start_time": "2023-08-24T15:58:56.974Z"
   },
   {
    "duration": 1431,
    "start_time": "2023-08-24T16:52:21.259Z"
   },
   {
    "duration": 20952,
    "start_time": "2023-08-24T16:52:22.692Z"
   },
   {
    "duration": 9804,
    "start_time": "2023-08-24T16:52:43.647Z"
   },
   {
    "duration": 87,
    "start_time": "2023-08-24T16:52:53.453Z"
   },
   {
    "duration": 5421,
    "start_time": "2023-08-24T16:52:53.544Z"
   },
   {
    "duration": 60,
    "start_time": "2023-08-24T16:52:58.966Z"
   },
   {
    "duration": 14,
    "start_time": "2023-08-24T16:52:59.030Z"
   },
   {
    "duration": 4307,
    "start_time": "2023-08-24T16:52:59.047Z"
   },
   {
    "duration": 494,
    "start_time": "2023-08-24T16:53:03.356Z"
   },
   {
    "duration": 573,
    "start_time": "2023-08-24T16:53:03.852Z"
   },
   {
    "duration": 98,
    "start_time": "2023-08-24T16:53:04.427Z"
   },
   {
    "duration": 2938,
    "start_time": "2023-08-24T16:53:04.526Z"
   },
   {
    "duration": 1714,
    "start_time": "2023-08-24T16:53:07.466Z"
   },
   {
    "duration": 10,
    "start_time": "2023-08-24T16:53:09.182Z"
   },
   {
    "duration": 840,
    "start_time": "2023-08-24T16:53:09.193Z"
   },
   {
    "duration": 5,
    "start_time": "2023-08-24T16:54:07.298Z"
   },
   {
    "duration": 2,
    "start_time": "2023-08-24T16:54:32.203Z"
   },
   {
    "duration": 3,
    "start_time": "2023-08-24T16:54:41.475Z"
   },
   {
    "duration": 4,
    "start_time": "2023-08-24T16:54:46.694Z"
   },
   {
    "duration": 7,
    "start_time": "2023-08-24T16:54:48.329Z"
   },
   {
    "duration": 4,
    "start_time": "2023-08-24T16:55:03.114Z"
   },
   {
    "duration": 2,
    "start_time": "2023-08-24T16:55:10.462Z"
   },
   {
    "duration": 34,
    "start_time": "2023-08-24T16:55:10.466Z"
   },
   {
    "duration": 2,
    "start_time": "2023-08-24T16:55:13.434Z"
   },
   {
    "duration": 110,
    "start_time": "2023-08-24T16:55:15.634Z"
   },
   {
    "duration": 5,
    "start_time": "2023-08-24T16:55:21.297Z"
   },
   {
    "duration": 3,
    "start_time": "2023-08-24T16:55:22.695Z"
   },
   {
    "duration": 3,
    "start_time": "2023-08-24T16:55:23.795Z"
   },
   {
    "duration": 6,
    "start_time": "2023-08-24T16:55:34.632Z"
   },
   {
    "duration": 9,
    "start_time": "2023-08-24T16:55:41.593Z"
   },
   {
    "duration": 4,
    "start_time": "2023-08-24T16:56:15.633Z"
   },
   {
    "duration": 2,
    "start_time": "2023-08-24T16:56:18.563Z"
   },
   {
    "duration": 7,
    "start_time": "2023-08-24T16:56:19.935Z"
   },
   {
    "duration": 1350,
    "start_time": "2023-08-24T16:56:25.200Z"
   },
   {
    "duration": 318,
    "start_time": "2023-08-24T16:56:30.451Z"
   },
   {
    "duration": 1639,
    "start_time": "2023-08-24T16:56:32.991Z"
   },
   {
    "duration": 3,
    "start_time": "2023-08-24T16:56:39.195Z"
   },
   {
    "duration": 75,
    "start_time": "2023-08-24T16:56:40.309Z"
   },
   {
    "duration": 185,
    "start_time": "2023-08-24T16:56:40.539Z"
   },
   {
    "duration": 6,
    "start_time": "2023-08-24T16:57:08.438Z"
   },
   {
    "duration": 4,
    "start_time": "2023-08-24T16:57:09.816Z"
   },
   {
    "duration": 5,
    "start_time": "2023-08-24T16:57:13.708Z"
   },
   {
    "duration": 3,
    "start_time": "2023-08-24T16:57:14.663Z"
   },
   {
    "duration": 4,
    "start_time": "2023-08-24T16:57:15.376Z"
   },
   {
    "duration": 5,
    "start_time": "2023-08-24T16:57:20.435Z"
   },
   {
    "duration": 6,
    "start_time": "2023-08-24T16:57:27.200Z"
   },
   {
    "duration": 6,
    "start_time": "2023-08-24T16:57:33.164Z"
   },
   {
    "duration": 6,
    "start_time": "2023-08-24T16:57:33.172Z"
   },
   {
    "duration": 498,
    "start_time": "2023-08-24T16:57:33.180Z"
   },
   {
    "duration": 3,
    "start_time": "2023-08-24T16:57:33.679Z"
   },
   {
    "duration": 1303,
    "start_time": "2023-08-24T16:57:33.723Z"
   },
   {
    "duration": 9,
    "start_time": "2023-08-24T16:57:35.029Z"
   },
   {
    "duration": 33,
    "start_time": "2023-08-24T16:57:35.044Z"
   },
   {
    "duration": 2053,
    "start_time": "2023-08-24T16:57:35.078Z"
   },
   {
    "duration": 229,
    "start_time": "2023-08-24T16:57:37.134Z"
   },
   {
    "duration": 509,
    "start_time": "2023-08-24T16:57:37.365Z"
   },
   {
    "duration": 21,
    "start_time": "2023-08-24T16:57:37.876Z"
   },
   {
    "duration": 1783,
    "start_time": "2023-08-24T16:57:37.899Z"
   },
   {
    "duration": 1066,
    "start_time": "2023-08-24T16:57:39.685Z"
   },
   {
    "duration": 2,
    "start_time": "2023-08-24T16:57:40.754Z"
   },
   {
    "duration": 5,
    "start_time": "2023-08-24T16:57:40.757Z"
   },
   {
    "duration": 12,
    "start_time": "2023-08-24T16:57:40.764Z"
   },
   {
    "duration": 951,
    "start_time": "2023-08-24T16:57:40.777Z"
   },
   {
    "duration": 395,
    "start_time": "2023-08-24T16:57:41.733Z"
   },
   {
    "duration": 517,
    "start_time": "2023-08-24T16:57:42.130Z"
   },
   {
    "duration": 885,
    "start_time": "2023-08-24T16:57:42.648Z"
   },
   {
    "duration": 601,
    "start_time": "2023-08-24T16:57:43.535Z"
   },
   {
    "duration": 114,
    "start_time": "2023-08-24T16:57:44.141Z"
   },
   {
    "duration": 67,
    "start_time": "2023-08-24T16:57:44.257Z"
   },
   {
    "duration": 119,
    "start_time": "2023-08-24T16:57:44.327Z"
   },
   {
    "duration": 1613,
    "start_time": "2023-08-24T16:57:44.447Z"
   },
   {
    "duration": 98,
    "start_time": "2023-08-24T16:57:46.062Z"
   },
   {
    "duration": 13,
    "start_time": "2023-08-24T16:57:46.228Z"
   },
   {
    "duration": 6401,
    "start_time": "2023-08-24T16:57:46.243Z"
   },
   {
    "duration": 2806,
    "start_time": "2023-08-24T16:57:52.646Z"
   },
   {
    "duration": 928,
    "start_time": "2023-08-24T16:57:55.525Z"
   },
   {
    "duration": 6,
    "start_time": "2023-08-24T17:00:10.258Z"
   },
   {
    "duration": 502,
    "start_time": "2023-08-24T17:00:10.266Z"
   },
   {
    "duration": 571,
    "start_time": "2023-08-24T17:00:10.769Z"
   },
   {
    "duration": 5,
    "start_time": "2023-08-24T17:00:11.343Z"
   },
   {
    "duration": 1201,
    "start_time": "2023-08-24T17:00:11.350Z"
   },
   {
    "duration": 5,
    "start_time": "2023-08-24T17:00:12.553Z"
   },
   {
    "duration": 64,
    "start_time": "2023-08-24T17:00:12.560Z"
   },
   {
    "duration": 2531,
    "start_time": "2023-08-24T17:00:12.627Z"
   },
   {
    "duration": 243,
    "start_time": "2023-08-24T17:00:15.225Z"
   },
   {
    "duration": 508,
    "start_time": "2023-08-24T17:00:15.471Z"
   },
   {
    "duration": 51,
    "start_time": "2023-08-24T17:00:15.981Z"
   },
   {
    "duration": 2012,
    "start_time": "2023-08-24T17:00:16.035Z"
   },
   {
    "duration": 1232,
    "start_time": "2023-08-24T17:00:18.050Z"
   },
   {
    "duration": 8,
    "start_time": "2023-08-24T17:00:19.284Z"
   },
   {
    "duration": 642,
    "start_time": "2023-08-24T17:00:19.294Z"
   },
   {
    "duration": 9,
    "start_time": "2023-08-24T17:00:19.938Z"
   },
   {
    "duration": 718,
    "start_time": "2023-08-24T17:00:19.948Z"
   },
   {
    "duration": 233,
    "start_time": "2023-08-24T17:00:20.724Z"
   },
   {
    "duration": 307,
    "start_time": "2023-08-24T17:00:20.960Z"
   },
   {
    "duration": 792,
    "start_time": "2023-08-24T17:00:21.269Z"
   },
   {
    "duration": 98,
    "start_time": "2023-08-24T17:00:22.063Z"
   },
   {
    "duration": 98,
    "start_time": "2023-08-24T17:00:22.163Z"
   },
   {
    "duration": 8,
    "start_time": "2023-08-24T17:00:22.324Z"
   },
   {
    "duration": 99,
    "start_time": "2023-08-24T17:00:22.333Z"
   },
   {
    "duration": 695,
    "start_time": "2023-08-24T17:00:22.434Z"
   },
   {
    "duration": 99,
    "start_time": "2023-08-24T17:00:23.131Z"
   },
   {
    "duration": 13,
    "start_time": "2023-08-24T17:00:23.233Z"
   },
   {
    "duration": 3197,
    "start_time": "2023-08-24T17:00:23.250Z"
   },
   {
    "duration": 2102,
    "start_time": "2023-08-24T17:00:26.455Z"
   },
   {
    "duration": 1018,
    "start_time": "2023-08-24T17:00:28.558Z"
   },
   {
    "duration": 4,
    "start_time": "2023-08-24T17:02:30.931Z"
   },
   {
    "duration": 321,
    "start_time": "2023-08-24T17:02:30.938Z"
   },
   {
    "duration": 505,
    "start_time": "2023-08-24T17:02:31.260Z"
   },
   {
    "duration": 3,
    "start_time": "2023-08-24T17:02:31.767Z"
   },
   {
    "duration": 888,
    "start_time": "2023-08-24T17:02:31.772Z"
   },
   {
    "duration": 64,
    "start_time": "2023-08-24T17:02:32.662Z"
   },
   {
    "duration": 7,
    "start_time": "2023-08-24T17:02:32.728Z"
   },
   {
    "duration": 1798,
    "start_time": "2023-08-24T17:02:32.736Z"
   },
   {
    "duration": 140,
    "start_time": "2023-08-24T17:02:34.536Z"
   },
   {
    "duration": 203,
    "start_time": "2023-08-24T17:02:34.677Z"
   },
   {
    "duration": 43,
    "start_time": "2023-08-24T17:02:34.881Z"
   },
   {
    "duration": 1406,
    "start_time": "2023-08-24T17:02:34.925Z"
   },
   {
    "duration": 972,
    "start_time": "2023-08-24T17:02:36.333Z"
   },
   {
    "duration": 3,
    "start_time": "2023-08-24T17:02:37.309Z"
   },
   {
    "duration": 101,
    "start_time": "2023-08-24T17:02:37.323Z"
   },
   {
    "duration": 91,
    "start_time": "2023-08-24T17:02:37.427Z"
   },
   {
    "duration": 503,
    "start_time": "2023-08-24T17:02:37.520Z"
   },
   {
    "duration": 223,
    "start_time": "2023-08-24T17:02:38.026Z"
   },
   {
    "duration": 244,
    "start_time": "2023-08-24T17:02:38.250Z"
   },
   {
    "duration": 661,
    "start_time": "2023-08-24T17:02:38.495Z"
   },
   {
    "duration": 102,
    "start_time": "2023-08-24T17:02:39.158Z"
   },
   {
    "duration": 26,
    "start_time": "2023-08-24T17:02:39.325Z"
   },
   {
    "duration": 4,
    "start_time": "2023-08-24T17:02:39.352Z"
   },
   {
    "duration": 80,
    "start_time": "2023-08-24T17:02:39.358Z"
   },
   {
    "duration": 494,
    "start_time": "2023-08-24T17:02:39.440Z"
   },
   {
    "duration": 93,
    "start_time": "2023-08-24T17:02:39.936Z"
   },
   {
    "duration": 6,
    "start_time": "2023-08-24T17:02:40.031Z"
   },
   {
    "duration": 2588,
    "start_time": "2023-08-24T17:02:40.039Z"
   },
   {
    "duration": 1498,
    "start_time": "2023-08-24T17:02:42.629Z"
   },
   {
    "duration": 1001,
    "start_time": "2023-08-24T17:02:44.129Z"
   },
   {
    "duration": 9,
    "start_time": "2023-08-25T09:36:14.371Z"
   },
   {
    "duration": 1590,
    "start_time": "2023-08-25T09:36:29.213Z"
   },
   {
    "duration": 17058,
    "start_time": "2023-08-25T09:36:30.805Z"
   },
   {
    "duration": 11284,
    "start_time": "2023-08-25T09:36:47.866Z"
   },
   {
    "duration": 19,
    "start_time": "2023-08-25T09:36:59.225Z"
   },
   {
    "duration": 5780,
    "start_time": "2023-08-25T09:36:59.247Z"
   },
   {
    "duration": 12,
    "start_time": "2023-08-25T09:37:05.029Z"
   },
   {
    "duration": 5,
    "start_time": "2023-08-25T09:37:05.046Z"
   },
   {
    "duration": 5096,
    "start_time": "2023-08-25T09:37:05.053Z"
   },
   {
    "duration": 515,
    "start_time": "2023-08-25T09:37:10.152Z"
   },
   {
    "duration": 771,
    "start_time": "2023-08-25T09:37:10.668Z"
   },
   {
    "duration": 83,
    "start_time": "2023-08-25T09:37:11.441Z"
   },
   {
    "duration": 3243,
    "start_time": "2023-08-25T09:37:11.526Z"
   },
   {
    "duration": 2033,
    "start_time": "2023-08-25T09:37:14.771Z"
   },
   {
    "duration": 3,
    "start_time": "2023-08-25T09:37:16.807Z"
   },
   {
    "duration": 11,
    "start_time": "2023-08-25T09:37:16.829Z"
   },
   {
    "duration": 16,
    "start_time": "2023-08-25T09:37:16.843Z"
   },
   {
    "duration": 1499,
    "start_time": "2023-08-25T09:37:16.861Z"
   },
   {
    "duration": 590,
    "start_time": "2023-08-25T09:37:18.363Z"
   },
   {
    "duration": 586,
    "start_time": "2023-08-25T09:37:18.956Z"
   },
   {
    "duration": 2097,
    "start_time": "2023-08-25T09:37:19.544Z"
   },
   {
    "duration": 593,
    "start_time": "2023-08-25T09:37:21.644Z"
   },
   {
    "duration": 217,
    "start_time": "2023-08-25T09:37:22.245Z"
   },
   {
    "duration": 6,
    "start_time": "2023-08-25T09:37:22.464Z"
   },
   {
    "duration": 181,
    "start_time": "2023-08-25T09:37:22.473Z"
   },
   {
    "duration": 1905,
    "start_time": "2023-08-25T09:37:22.656Z"
   },
   {
    "duration": 180,
    "start_time": "2023-08-25T09:37:24.564Z"
   },
   {
    "duration": 7,
    "start_time": "2023-08-25T09:37:24.746Z"
   },
   {
    "duration": 8478,
    "start_time": "2023-08-25T09:37:24.757Z"
   },
   {
    "duration": 3300,
    "start_time": "2023-08-25T09:37:33.239Z"
   },
   {
    "duration": 998,
    "start_time": "2023-08-25T09:37:36.540Z"
   },
   {
    "duration": 1409,
    "start_time": "2023-08-25T09:44:31.592Z"
   },
   {
    "duration": 18062,
    "start_time": "2023-08-25T09:44:33.003Z"
   },
   {
    "duration": 11292,
    "start_time": "2023-08-25T09:44:51.067Z"
   },
   {
    "duration": 25,
    "start_time": "2023-08-25T09:45:02.427Z"
   },
   {
    "duration": 6115,
    "start_time": "2023-08-25T09:45:02.454Z"
   },
   {
    "duration": 6,
    "start_time": "2023-08-25T09:45:08.571Z"
   },
   {
    "duration": 6,
    "start_time": "2023-08-25T09:45:08.579Z"
   },
   {
    "duration": 5443,
    "start_time": "2023-08-25T09:45:08.587Z"
   },
   {
    "duration": 515,
    "start_time": "2023-08-25T09:45:14.034Z"
   },
   {
    "duration": 713,
    "start_time": "2023-08-25T09:45:14.553Z"
   },
   {
    "duration": 105,
    "start_time": "2023-08-25T09:45:15.268Z"
   },
   {
    "duration": 3603,
    "start_time": "2023-08-25T09:45:15.433Z"
   },
   {
    "duration": 1904,
    "start_time": "2023-08-25T09:45:19.039Z"
   },
   {
    "duration": 3,
    "start_time": "2023-08-25T09:45:20.946Z"
   },
   {
    "duration": 4,
    "start_time": "2023-08-25T09:45:20.951Z"
   },
   {
    "duration": 13,
    "start_time": "2023-08-25T09:45:20.957Z"
   },
   {
    "duration": 1682,
    "start_time": "2023-08-25T09:45:20.971Z"
   },
   {
    "duration": 612,
    "start_time": "2023-08-25T09:45:22.655Z"
   },
   {
    "duration": 659,
    "start_time": "2023-08-25T09:45:23.269Z"
   },
   {
    "duration": 2101,
    "start_time": "2023-08-25T09:45:23.930Z"
   },
   {
    "duration": 722,
    "start_time": "2023-08-25T09:45:26.033Z"
   },
   {
    "duration": 203,
    "start_time": "2023-08-25T09:45:26.757Z"
   },
   {
    "duration": 4,
    "start_time": "2023-08-25T09:45:26.962Z"
   },
   {
    "duration": 131,
    "start_time": "2023-08-25T09:45:27.025Z"
   },
   {
    "duration": 1710,
    "start_time": "2023-08-25T09:45:27.159Z"
   },
   {
    "duration": 161,
    "start_time": "2023-08-25T09:45:28.871Z"
   },
   {
    "duration": 8,
    "start_time": "2023-08-25T09:45:29.034Z"
   },
   {
    "duration": 8405,
    "start_time": "2023-08-25T09:45:29.055Z"
   },
   {
    "duration": 3806,
    "start_time": "2023-08-25T09:45:37.462Z"
   },
   {
    "duration": 1003,
    "start_time": "2023-08-25T09:45:41.269Z"
   },
   {
    "duration": 1327,
    "start_time": "2023-08-25T09:49:54.720Z"
   },
   {
    "duration": 17689,
    "start_time": "2023-08-25T09:49:56.050Z"
   },
   {
    "duration": 11335,
    "start_time": "2023-08-25T09:50:13.742Z"
   },
   {
    "duration": 87,
    "start_time": "2023-08-25T09:50:25.079Z"
   },
   {
    "duration": 6285,
    "start_time": "2023-08-25T09:50:25.168Z"
   },
   {
    "duration": 5,
    "start_time": "2023-08-25T09:50:31.456Z"
   },
   {
    "duration": 14,
    "start_time": "2023-08-25T09:50:31.464Z"
   },
   {
    "duration": 5901,
    "start_time": "2023-08-25T09:50:31.479Z"
   },
   {
    "duration": 732,
    "start_time": "2023-08-25T09:50:37.425Z"
   },
   {
    "duration": 909,
    "start_time": "2023-08-25T09:50:38.159Z"
   },
   {
    "duration": 79,
    "start_time": "2023-08-25T09:50:39.069Z"
   },
   {
    "duration": 3708,
    "start_time": "2023-08-25T09:50:39.154Z"
   },
   {
    "duration": 1987,
    "start_time": "2023-08-25T09:50:42.863Z"
   },
   {
    "duration": 10,
    "start_time": "2023-08-25T09:50:44.860Z"
   },
   {
    "duration": 16,
    "start_time": "2023-08-25T09:50:44.873Z"
   },
   {
    "duration": 13,
    "start_time": "2023-08-25T09:50:44.890Z"
   },
   {
    "duration": 1652,
    "start_time": "2023-08-25T09:50:44.905Z"
   },
   {
    "duration": 688,
    "start_time": "2023-08-25T09:50:46.560Z"
   },
   {
    "duration": 704,
    "start_time": "2023-08-25T09:50:47.251Z"
   },
   {
    "duration": 1778,
    "start_time": "2023-08-25T09:50:47.958Z"
   },
   {
    "duration": 434,
    "start_time": "2023-08-25T09:50:49.739Z"
   },
   {
    "duration": 143,
    "start_time": "2023-08-25T09:50:50.226Z"
   },
   {
    "duration": 62,
    "start_time": "2023-08-25T09:50:50.371Z"
   },
   {
    "duration": 95,
    "start_time": "2023-08-25T09:50:50.436Z"
   },
   {
    "duration": 1827,
    "start_time": "2023-08-25T09:50:50.534Z"
   },
   {
    "duration": 162,
    "start_time": "2023-08-25T09:50:52.363Z"
   },
   {
    "duration": 8,
    "start_time": "2023-08-25T09:50:52.527Z"
   },
   {
    "duration": 6301,
    "start_time": "2023-08-25T09:50:52.537Z"
   },
   {
    "duration": 3092,
    "start_time": "2023-08-25T09:50:58.840Z"
   },
   {
    "duration": 998,
    "start_time": "2023-08-25T09:51:01.934Z"
   },
   {
    "duration": 1560,
    "start_time": "2023-08-25T10:04:06.459Z"
   },
   {
    "duration": 18731,
    "start_time": "2023-08-25T10:04:08.021Z"
   },
   {
    "duration": 13324,
    "start_time": "2023-08-25T10:04:26.754Z"
   },
   {
    "duration": 88,
    "start_time": "2023-08-25T10:04:40.079Z"
   },
   {
    "duration": 6216,
    "start_time": "2023-08-25T10:04:40.169Z"
   },
   {
    "duration": 8,
    "start_time": "2023-08-25T10:04:46.388Z"
   },
   {
    "duration": 125,
    "start_time": "2023-08-25T10:04:46.398Z"
   },
   {
    "duration": 5557,
    "start_time": "2023-08-25T10:04:46.535Z"
   },
   {
    "duration": 710,
    "start_time": "2023-08-25T10:04:52.094Z"
   },
   {
    "duration": 752,
    "start_time": "2023-08-25T10:04:52.826Z"
   },
   {
    "duration": 142,
    "start_time": "2023-08-25T10:04:53.582Z"
   },
   {
    "duration": 3519,
    "start_time": "2023-08-25T10:04:53.727Z"
   },
   {
    "duration": 2209,
    "start_time": "2023-08-25T10:04:57.262Z"
   },
   {
    "duration": 11,
    "start_time": "2023-08-25T10:04:59.476Z"
   },
   {
    "duration": 18,
    "start_time": "2023-08-25T10:04:59.492Z"
   },
   {
    "duration": 45,
    "start_time": "2023-08-25T10:04:59.512Z"
   },
   {
    "duration": 1869,
    "start_time": "2023-08-25T10:04:59.576Z"
   },
   {
    "duration": 547,
    "start_time": "2023-08-25T10:05:01.447Z"
   },
   {
    "duration": 671,
    "start_time": "2023-08-25T10:05:01.996Z"
   },
   {
    "duration": 2384,
    "start_time": "2023-08-25T10:05:02.668Z"
   },
   {
    "duration": 529,
    "start_time": "2023-08-25T10:05:05.053Z"
   },
   {
    "duration": 150,
    "start_time": "2023-08-25T10:05:05.583Z"
   },
   {
    "duration": 7,
    "start_time": "2023-08-25T10:05:05.740Z"
   },
   {
    "duration": 94,
    "start_time": "2023-08-25T10:05:05.754Z"
   },
   {
    "duration": 2138,
    "start_time": "2023-08-25T10:05:05.850Z"
   },
   {
    "duration": 169,
    "start_time": "2023-08-25T10:05:08.027Z"
   },
   {
    "duration": 1436,
    "start_time": "2023-08-25T10:05:08.233Z"
   },
   {
    "duration": 4,
    "start_time": "2023-08-25T10:09:51.909Z"
   },
   {
    "duration": 6134,
    "start_time": "2023-08-25T10:09:57.319Z"
   },
   {
    "duration": 4,
    "start_time": "2023-08-25T10:10:45.770Z"
   },
   {
    "duration": 3243,
    "start_time": "2023-08-25T10:10:47.209Z"
   },
   {
    "duration": 7,
    "start_time": "2023-08-25T10:11:44.563Z"
   },
   {
    "duration": 3582,
    "start_time": "2023-08-25T10:11:46.669Z"
   },
   {
    "duration": 1002,
    "start_time": "2023-08-25T10:12:15.150Z"
   },
   {
    "duration": 5,
    "start_time": "2023-08-25T10:12:36.346Z"
   },
   {
    "duration": 4469,
    "start_time": "2023-08-25T10:12:38.289Z"
   },
   {
    "duration": 6,
    "start_time": "2023-08-25T10:13:56.241Z"
   },
   {
    "duration": 3369,
    "start_time": "2023-08-25T10:14:00.872Z"
   },
   {
    "duration": 1572,
    "start_time": "2023-08-25T10:14:35.368Z"
   },
   {
    "duration": 17636,
    "start_time": "2023-08-25T10:14:36.945Z"
   },
   {
    "duration": 12020,
    "start_time": "2023-08-25T10:14:54.584Z"
   },
   {
    "duration": 81,
    "start_time": "2023-08-25T10:15:06.607Z"
   },
   {
    "duration": 6555,
    "start_time": "2023-08-25T10:15:06.692Z"
   },
   {
    "duration": 10,
    "start_time": "2023-08-25T10:15:13.251Z"
   },
   {
    "duration": 21,
    "start_time": "2023-08-25T10:15:13.264Z"
   },
   {
    "duration": 6169,
    "start_time": "2023-08-25T10:15:13.287Z"
   },
   {
    "duration": 507,
    "start_time": "2023-08-25T10:15:19.458Z"
   },
   {
    "duration": 718,
    "start_time": "2023-08-25T10:15:19.969Z"
   },
   {
    "duration": 95,
    "start_time": "2023-08-25T10:15:20.689Z"
   },
   {
    "duration": 3661,
    "start_time": "2023-08-25T10:15:20.787Z"
   },
   {
    "duration": 1946,
    "start_time": "2023-08-25T10:15:24.453Z"
   },
   {
    "duration": 3,
    "start_time": "2023-08-25T10:15:26.403Z"
   },
   {
    "duration": 16,
    "start_time": "2023-08-25T10:15:26.408Z"
   },
   {
    "duration": 17,
    "start_time": "2023-08-25T10:15:26.438Z"
   },
   {
    "duration": 1788,
    "start_time": "2023-08-25T10:15:26.461Z"
   },
   {
    "duration": 587,
    "start_time": "2023-08-25T10:15:28.257Z"
   },
   {
    "duration": 684,
    "start_time": "2023-08-25T10:15:28.852Z"
   },
   {
    "duration": 1893,
    "start_time": "2023-08-25T10:15:29.549Z"
   },
   {
    "duration": 419,
    "start_time": "2023-08-25T10:15:31.444Z"
   },
   {
    "duration": 215,
    "start_time": "2023-08-25T10:15:31.865Z"
   },
   {
    "duration": 5,
    "start_time": "2023-08-25T10:15:32.081Z"
   },
   {
    "duration": 173,
    "start_time": "2023-08-25T10:15:32.123Z"
   },
   {
    "duration": 1871,
    "start_time": "2023-08-25T10:15:32.298Z"
   },
   {
    "duration": 163,
    "start_time": "2023-08-25T10:15:34.173Z"
   },
   {
    "duration": 14,
    "start_time": "2023-08-25T10:15:34.338Z"
   },
   {
    "duration": 8614,
    "start_time": "2023-08-25T10:15:34.361Z"
   },
   {
    "duration": 4282,
    "start_time": "2023-08-25T10:15:42.978Z"
   },
   {
    "duration": 982,
    "start_time": "2023-08-25T10:15:47.262Z"
   },
   {
    "duration": 1527,
    "start_time": "2023-08-25T11:11:38.038Z"
   },
   {
    "duration": 16255,
    "start_time": "2023-08-25T11:11:51.319Z"
   },
   {
    "duration": 9296,
    "start_time": "2023-08-25T11:12:07.577Z"
   },
   {
    "duration": 90,
    "start_time": "2023-08-25T11:12:16.876Z"
   },
   {
    "duration": 5427,
    "start_time": "2023-08-25T11:12:16.969Z"
   },
   {
    "duration": 5,
    "start_time": "2023-08-25T11:12:22.398Z"
   },
   {
    "duration": 39,
    "start_time": "2023-08-25T11:12:22.405Z"
   },
   {
    "duration": 4726,
    "start_time": "2023-08-25T11:12:22.446Z"
   },
   {
    "duration": 394,
    "start_time": "2023-08-25T11:12:30.100Z"
   },
   {
    "duration": 599,
    "start_time": "2023-08-25T11:12:34.994Z"
   },
   {
    "duration": 63,
    "start_time": "2023-08-25T11:12:38.404Z"
   },
   {
    "duration": 2800,
    "start_time": "2023-08-25T11:12:40.734Z"
   },
   {
    "duration": 1551,
    "start_time": "2023-08-25T11:12:48.030Z"
   },
   {
    "duration": 11,
    "start_time": "2023-08-25T11:13:04.298Z"
   },
   {
    "duration": 801,
    "start_time": "2023-08-25T11:13:04.574Z"
   },
   {
    "duration": 7,
    "start_time": "2023-08-25T11:13:08.549Z"
   },
   {
    "duration": 1299,
    "start_time": "2023-08-25T11:13:17.277Z"
   },
   {
    "duration": 345,
    "start_time": "2023-08-25T11:13:23.338Z"
   },
   {
    "duration": 97,
    "start_time": "2023-08-25T11:13:41.538Z"
   },
   {
    "duration": 302,
    "start_time": "2023-08-25T11:13:47.184Z"
   },
   {
    "duration": 174,
    "start_time": "2023-08-25T11:13:49.137Z"
   },
   {
    "duration": 1498,
    "start_time": "2023-08-25T11:13:57.291Z"
   },
   {
    "duration": 298,
    "start_time": "2023-08-25T11:14:01.593Z"
   },
   {
    "duration": 94,
    "start_time": "2023-08-25T11:14:04.476Z"
   },
   {
    "duration": 5,
    "start_time": "2023-08-25T11:14:06.308Z"
   },
   {
    "duration": 40,
    "start_time": "2023-08-25T11:14:11.519Z"
   },
   {
    "duration": 1258,
    "start_time": "2023-08-25T11:14:11.727Z"
   },
   {
    "duration": 39,
    "start_time": "2023-08-25T11:14:14.861Z"
   },
   {
    "duration": 5,
    "start_time": "2023-08-25T11:14:20.403Z"
   },
   {
    "duration": 5552,
    "start_time": "2023-08-25T11:14:26.032Z"
   },
   {
    "duration": 2595,
    "start_time": "2023-08-25T11:14:36.588Z"
   },
   {
    "duration": 4,
    "start_time": "2023-08-25T11:19:35.743Z"
   },
   {
    "duration": 28,
    "start_time": "2023-08-25T11:25:07.938Z"
   },
   {
    "duration": 26,
    "start_time": "2023-08-25T11:25:43.761Z"
   },
   {
    "duration": 4,
    "start_time": "2023-08-25T11:25:52.389Z"
   },
   {
    "duration": 5,
    "start_time": "2023-08-25T11:26:01.716Z"
   },
   {
    "duration": 13,
    "start_time": "2023-08-25T11:26:06.617Z"
   },
   {
    "duration": 441,
    "start_time": "2023-08-25T11:27:40.927Z"
   },
   {
    "duration": 584,
    "start_time": "2023-08-25T11:27:42.984Z"
   },
   {
    "duration": 1128,
    "start_time": "2023-08-25T11:27:52.743Z"
   },
   {
    "duration": 1078,
    "start_time": "2023-08-25T11:28:16.122Z"
   },
   {
    "duration": 382,
    "start_time": "2023-08-25T11:28:29.916Z"
   },
   {
    "duration": 909,
    "start_time": "2023-08-25T11:31:54.063Z"
   },
   {
    "duration": 11,
    "start_time": "2023-08-25T11:32:01.918Z"
   },
   {
    "duration": 789,
    "start_time": "2023-08-25T11:32:38.705Z"
   },
   {
    "duration": 108,
    "start_time": "2023-08-25T11:32:40.879Z"
   },
   {
    "duration": 159,
    "start_time": "2023-08-25T11:33:13.505Z"
   },
   {
    "duration": 157,
    "start_time": "2023-08-25T11:33:25.006Z"
   },
   {
    "duration": 151,
    "start_time": "2023-08-25T11:33:33.105Z"
   },
   {
    "duration": 489,
    "start_time": "2023-08-25T11:33:52.584Z"
   },
   {
    "duration": 27,
    "start_time": "2023-08-25T11:33:53.199Z"
   },
   {
    "duration": 955,
    "start_time": "2023-08-25T11:33:55.163Z"
   },
   {
    "duration": 5036,
    "start_time": "2023-08-25T11:33:56.121Z"
   },
   {
    "duration": 159,
    "start_time": "2023-08-25T11:37:10.064Z"
   },
   {
    "duration": 671,
    "start_time": "2023-08-25T11:37:12.796Z"
   },
   {
    "duration": 34,
    "start_time": "2023-08-25T11:37:13.470Z"
   },
   {
    "duration": 909,
    "start_time": "2023-08-25T11:37:13.506Z"
   },
   {
    "duration": 1592,
    "start_time": "2023-08-25T11:37:14.418Z"
   },
   {
    "duration": 4,
    "start_time": "2023-08-25T11:37:36.426Z"
   },
   {
    "duration": 2301,
    "start_time": "2023-08-25T11:37:37.571Z"
   },
   {
    "duration": 1923,
    "start_time": "2023-08-25T11:37:42.673Z"
   },
   {
    "duration": 34,
    "start_time": "2023-08-25T11:43:17.656Z"
   },
   {
    "duration": 198,
    "start_time": "2023-08-25T11:43:18.732Z"
   },
   {
    "duration": 442,
    "start_time": "2023-08-25T11:43:22.635Z"
   },
   {
    "duration": 33,
    "start_time": "2023-08-25T11:43:23.797Z"
   },
   {
    "duration": 727,
    "start_time": "2023-08-25T11:43:26.880Z"
   },
   {
    "duration": 214,
    "start_time": "2023-08-25T11:43:30.171Z"
   },
   {
    "duration": 449,
    "start_time": "2023-08-25T11:44:09.667Z"
   },
   {
    "duration": 75,
    "start_time": "2023-08-25T11:44:10.118Z"
   },
   {
    "duration": 10,
    "start_time": "2023-08-25T11:44:34.742Z"
   },
   {
    "duration": 411,
    "start_time": "2023-08-25T11:45:04.704Z"
   },
   {
    "duration": 76,
    "start_time": "2023-08-25T11:45:05.117Z"
   },
   {
    "duration": 720,
    "start_time": "2023-08-25T11:45:05.357Z"
   },
   {
    "duration": 484,
    "start_time": "2023-08-25T11:45:06.079Z"
   },
   {
    "duration": 870,
    "start_time": "2023-08-25T11:45:14.236Z"
   },
   {
    "duration": 5,
    "start_time": "2023-08-25T11:46:50.863Z"
   },
   {
    "duration": 170,
    "start_time": "2023-08-25T11:46:51.511Z"
   },
   {
    "duration": 356,
    "start_time": "2023-08-25T11:47:00.658Z"
   },
   {
    "duration": 205,
    "start_time": "2023-08-25T11:47:01.017Z"
   },
   {
    "duration": 164,
    "start_time": "2023-08-25T11:47:01.224Z"
   },
   {
    "duration": 376,
    "start_time": "2023-08-25T11:47:01.390Z"
   },
   {
    "duration": 46,
    "start_time": "2023-08-25T11:47:01.769Z"
   },
   {
    "duration": 30,
    "start_time": "2023-08-25T11:47:03.593Z"
   },
   {
    "duration": 35,
    "start_time": "2023-08-25T11:47:03.870Z"
   },
   {
    "duration": 245,
    "start_time": "2023-08-25T11:47:04.249Z"
   },
   {
    "duration": 29,
    "start_time": "2023-08-25T11:47:05.542Z"
   },
   {
    "duration": 5,
    "start_time": "2023-08-25T11:47:06.540Z"
   },
   {
    "duration": 5,
    "start_time": "2023-08-25T11:47:21.814Z"
   },
   {
    "duration": 3214,
    "start_time": "2023-08-25T11:47:22.493Z"
   },
   {
    "duration": 5,
    "start_time": "2023-08-25T11:47:48.644Z"
   },
   {
    "duration": 1829,
    "start_time": "2023-08-25T11:47:49.342Z"
   },
   {
    "duration": 1424,
    "start_time": "2023-08-25T11:47:51.172Z"
   },
   {
    "duration": 1000,
    "start_time": "2023-08-25T11:47:52.598Z"
   },
   {
    "duration": 296,
    "start_time": "2023-08-25T11:48:03.296Z"
   },
   {
    "duration": 393,
    "start_time": "2023-08-25T11:48:03.920Z"
   },
   {
    "duration": 4,
    "start_time": "2023-08-25T11:48:05.144Z"
   },
   {
    "duration": 1127,
    "start_time": "2023-08-25T11:48:05.274Z"
   },
   {
    "duration": 6,
    "start_time": "2023-08-25T11:48:06.403Z"
   },
   {
    "duration": 4,
    "start_time": "2023-08-25T11:48:06.468Z"
   },
   {
    "duration": 1447,
    "start_time": "2023-08-25T11:48:06.475Z"
   },
   {
    "duration": 168,
    "start_time": "2023-08-25T11:48:07.923Z"
   },
   {
    "duration": 313,
    "start_time": "2023-08-25T11:48:08.093Z"
   },
   {
    "duration": 13,
    "start_time": "2023-08-25T11:48:08.408Z"
   },
   {
    "duration": 1472,
    "start_time": "2023-08-25T11:48:08.422Z"
   },
   {
    "duration": 1315,
    "start_time": "2023-08-25T11:48:09.897Z"
   },
   {
    "duration": 9,
    "start_time": "2023-08-25T11:48:11.214Z"
   },
   {
    "duration": 570,
    "start_time": "2023-08-25T11:48:12.120Z"
   },
   {
    "duration": 7,
    "start_time": "2023-08-25T11:48:15.775Z"
   },
   {
    "duration": 387,
    "start_time": "2023-08-25T11:48:20.854Z"
   },
   {
    "duration": 43,
    "start_time": "2023-08-25T11:48:22.145Z"
   },
   {
    "duration": 662,
    "start_time": "2023-08-25T11:48:23.067Z"
   },
   {
    "duration": 1027,
    "start_time": "2023-08-25T11:48:26.648Z"
   },
   {
    "duration": 345,
    "start_time": "2023-08-25T11:48:53.111Z"
   },
   {
    "duration": 33,
    "start_time": "2023-08-25T11:48:53.459Z"
   },
   {
    "duration": 827,
    "start_time": "2023-08-25T11:48:53.882Z"
   },
   {
    "duration": 0,
    "start_time": "2023-08-25T11:48:54.711Z"
   },
   {
    "duration": 415,
    "start_time": "2023-08-25T11:49:01.142Z"
   },
   {
    "duration": 36,
    "start_time": "2023-08-25T11:49:02.396Z"
   },
   {
    "duration": 924,
    "start_time": "2023-08-25T11:49:06.250Z"
   },
   {
    "duration": 6,
    "start_time": "2023-08-25T11:49:27.322Z"
   },
   {
    "duration": 322,
    "start_time": "2023-08-25T11:49:29.145Z"
   },
   {
    "duration": 383,
    "start_time": "2023-08-25T11:49:35.540Z"
   },
   {
    "duration": 38,
    "start_time": "2023-08-25T11:49:36.590Z"
   },
   {
    "duration": 807,
    "start_time": "2023-08-25T11:49:36.876Z"
   },
   {
    "duration": 37,
    "start_time": "2023-08-25T11:49:59.204Z"
   },
   {
    "duration": 33,
    "start_time": "2023-08-25T11:50:00.181Z"
   },
   {
    "duration": 565,
    "start_time": "2023-08-25T11:50:02.505Z"
   },
   {
    "duration": 990,
    "start_time": "2023-08-25T11:50:04.296Z"
   },
   {
    "duration": 34,
    "start_time": "2023-08-25T11:51:16.127Z"
   },
   {
    "duration": 619,
    "start_time": "2023-08-25T11:51:17.986Z"
   },
   {
    "duration": 984,
    "start_time": "2023-08-25T11:51:20.970Z"
   },
   {
    "duration": 459,
    "start_time": "2023-08-25T11:51:26.719Z"
   },
   {
    "duration": 44,
    "start_time": "2023-08-25T11:51:30.522Z"
   },
   {
    "duration": 827,
    "start_time": "2023-08-25T11:51:31.158Z"
   },
   {
    "duration": 113,
    "start_time": "2023-08-25T11:54:08.453Z"
   },
   {
    "duration": 430,
    "start_time": "2023-08-25T11:54:12.897Z"
   },
   {
    "duration": 117,
    "start_time": "2023-08-25T11:54:17.955Z"
   },
   {
    "duration": 32,
    "start_time": "2023-08-25T11:54:30.947Z"
   },
   {
    "duration": 1477,
    "start_time": "2023-08-25T11:54:32.929Z"
   },
   {
    "duration": 1221,
    "start_time": "2023-08-25T11:54:35.784Z"
   },
   {
    "duration": 190,
    "start_time": "2023-08-25T11:56:02.606Z"
   },
   {
    "duration": 202,
    "start_time": "2023-08-25T11:56:16.165Z"
   },
   {
    "duration": 299,
    "start_time": "2023-08-25T11:56:30.469Z"
   },
   {
    "duration": 32,
    "start_time": "2023-08-25T11:56:30.770Z"
   },
   {
    "duration": 1482,
    "start_time": "2023-08-25T11:56:33.013Z"
   },
   {
    "duration": 100,
    "start_time": "2023-08-25T11:56:35.385Z"
   },
   {
    "duration": 184,
    "start_time": "2023-08-25T11:57:02.185Z"
   },
   {
    "duration": 82,
    "start_time": "2023-08-25T11:57:38.046Z"
   },
   {
    "duration": 455,
    "start_time": "2023-08-25T11:58:03.245Z"
   },
   {
    "duration": 1109,
    "start_time": "2023-08-25T11:58:22.583Z"
   },
   {
    "duration": 32,
    "start_time": "2023-08-25T11:58:44.521Z"
   },
   {
    "duration": 1398,
    "start_time": "2023-08-25T11:58:44.779Z"
   },
   {
    "duration": 694,
    "start_time": "2023-08-25T11:58:46.180Z"
   },
   {
    "duration": 46,
    "start_time": "2023-08-25T11:58:59.657Z"
   },
   {
    "duration": 1632,
    "start_time": "2023-08-25T11:58:59.882Z"
   },
   {
    "duration": 607,
    "start_time": "2023-08-25T11:59:01.517Z"
   },
   {
    "duration": 38,
    "start_time": "2023-08-25T11:59:12.364Z"
   },
   {
    "duration": 723,
    "start_time": "2023-08-25T11:59:12.619Z"
   },
   {
    "duration": 0,
    "start_time": "2023-08-25T11:59:13.345Z"
   },
   {
    "duration": 28,
    "start_time": "2023-08-25T11:59:29.256Z"
   },
   {
    "duration": 1502,
    "start_time": "2023-08-25T11:59:29.907Z"
   },
   {
    "duration": 552,
    "start_time": "2023-08-25T11:59:32.820Z"
   },
   {
    "duration": 42,
    "start_time": "2023-08-25T11:59:46.301Z"
   },
   {
    "duration": 1700,
    "start_time": "2023-08-25T11:59:46.791Z"
   },
   {
    "duration": 506,
    "start_time": "2023-08-25T11:59:48.493Z"
   },
   {
    "duration": 316,
    "start_time": "2023-08-25T12:01:07.272Z"
   },
   {
    "duration": 9,
    "start_time": "2023-08-25T12:01:07.662Z"
   },
   {
    "duration": 1929,
    "start_time": "2023-08-25T12:01:09.229Z"
   },
   {
    "duration": 512,
    "start_time": "2023-08-25T12:01:11.160Z"
   },
   {
    "duration": 6,
    "start_time": "2023-08-25T12:02:12.287Z"
   },
   {
    "duration": 5,
    "start_time": "2023-08-25T12:02:45.403Z"
   },
   {
    "duration": 35,
    "start_time": "2023-08-25T12:02:45.410Z"
   },
   {
    "duration": 333,
    "start_time": "2023-08-25T12:02:45.448Z"
   },
   {
    "duration": 4,
    "start_time": "2023-08-25T12:02:45.784Z"
   },
   {
    "duration": 909,
    "start_time": "2023-08-25T12:02:45.790Z"
   },
   {
    "duration": 5,
    "start_time": "2023-08-25T12:02:46.700Z"
   },
   {
    "duration": 65,
    "start_time": "2023-08-25T12:02:46.708Z"
   },
   {
    "duration": 1792,
    "start_time": "2023-08-25T12:02:46.776Z"
   },
   {
    "duration": 242,
    "start_time": "2023-08-25T12:02:48.571Z"
   },
   {
    "duration": 401,
    "start_time": "2023-08-25T12:02:48.867Z"
   },
   {
    "duration": 13,
    "start_time": "2023-08-25T12:02:49.271Z"
   },
   {
    "duration": 2218,
    "start_time": "2023-08-25T12:02:49.286Z"
   },
   {
    "duration": 2064,
    "start_time": "2023-08-25T12:02:51.506Z"
   },
   {
    "duration": 8,
    "start_time": "2023-08-25T12:02:53.571Z"
   },
   {
    "duration": 1093,
    "start_time": "2023-08-25T12:02:53.581Z"
   },
   {
    "duration": 7,
    "start_time": "2023-08-25T12:02:54.677Z"
   },
   {
    "duration": 622,
    "start_time": "2023-08-25T12:02:54.686Z"
   },
   {
    "duration": 215,
    "start_time": "2023-08-25T12:02:55.368Z"
   },
   {
    "duration": 281,
    "start_time": "2023-08-25T12:02:55.586Z"
   },
   {
    "duration": 506,
    "start_time": "2023-08-25T12:02:55.870Z"
   },
   {
    "duration": 97,
    "start_time": "2023-08-25T12:02:56.380Z"
   },
   {
    "duration": 88,
    "start_time": "2023-08-25T12:02:56.479Z"
   },
   {
    "duration": 31,
    "start_time": "2023-08-25T12:02:56.569Z"
   },
   {
    "duration": 498,
    "start_time": "2023-08-25T12:02:56.603Z"
   },
   {
    "duration": 88,
    "start_time": "2023-08-25T12:02:57.102Z"
   },
   {
    "duration": 10,
    "start_time": "2023-08-25T12:02:57.191Z"
   },
   {
    "duration": 2271,
    "start_time": "2023-08-25T12:02:57.202Z"
   },
   {
    "duration": 2022,
    "start_time": "2023-08-25T12:02:59.475Z"
   },
   {
    "duration": 69,
    "start_time": "2023-08-25T12:03:01.499Z"
   },
   {
    "duration": 102,
    "start_time": "2023-08-25T12:03:01.570Z"
   },
   {
    "duration": 355,
    "start_time": "2023-08-25T12:03:01.674Z"
   },
   {
    "duration": 0,
    "start_time": "2023-08-25T12:03:02.031Z"
   },
   {
    "duration": 5,
    "start_time": "2023-08-25T12:03:14.753Z"
   },
   {
    "duration": 19,
    "start_time": "2023-08-25T12:03:14.760Z"
   },
   {
    "duration": 256,
    "start_time": "2023-08-25T12:03:14.780Z"
   },
   {
    "duration": 5,
    "start_time": "2023-08-25T12:03:15.038Z"
   },
   {
    "duration": 758,
    "start_time": "2023-08-25T12:03:15.045Z"
   },
   {
    "duration": 5,
    "start_time": "2023-08-25T12:03:15.805Z"
   },
   {
    "duration": 4,
    "start_time": "2023-08-25T12:03:15.866Z"
   },
   {
    "duration": 1413,
    "start_time": "2023-08-25T12:03:15.872Z"
   },
   {
    "duration": 210,
    "start_time": "2023-08-25T12:03:17.289Z"
   },
   {
    "duration": 504,
    "start_time": "2023-08-25T12:03:17.501Z"
   },
   {
    "duration": 12,
    "start_time": "2023-08-25T12:03:18.007Z"
   },
   {
    "duration": 1366,
    "start_time": "2023-08-25T12:03:18.021Z"
   },
   {
    "duration": 1347,
    "start_time": "2023-08-25T12:03:19.389Z"
   },
   {
    "duration": 7,
    "start_time": "2023-08-25T12:03:20.738Z"
   },
   {
    "duration": 633,
    "start_time": "2023-08-25T12:03:20.748Z"
   },
   {
    "duration": 6,
    "start_time": "2023-08-25T12:03:21.383Z"
   },
   {
    "duration": 301,
    "start_time": "2023-08-25T12:03:21.391Z"
   },
   {
    "duration": 185,
    "start_time": "2023-08-25T12:03:21.696Z"
   },
   {
    "duration": 220,
    "start_time": "2023-08-25T12:03:21.883Z"
   },
   {
    "duration": 362,
    "start_time": "2023-08-25T12:03:22.105Z"
   },
   {
    "duration": 36,
    "start_time": "2023-08-25T12:03:22.469Z"
   },
   {
    "duration": 66,
    "start_time": "2023-08-25T12:03:22.508Z"
   },
   {
    "duration": 24,
    "start_time": "2023-08-25T12:03:22.576Z"
   },
   {
    "duration": 226,
    "start_time": "2023-08-25T12:03:22.603Z"
   },
   {
    "duration": 67,
    "start_time": "2023-08-25T12:03:22.831Z"
   },
   {
    "duration": 5,
    "start_time": "2023-08-25T12:03:22.900Z"
   },
   {
    "duration": 1185,
    "start_time": "2023-08-25T12:03:22.907Z"
   },
   {
    "duration": 1381,
    "start_time": "2023-08-25T12:03:24.093Z"
   },
   {
    "duration": 3,
    "start_time": "2023-08-25T12:03:25.476Z"
   },
   {
    "duration": 347,
    "start_time": "2023-08-25T12:03:25.481Z"
   },
   {
    "duration": 9,
    "start_time": "2023-08-25T12:03:25.831Z"
   },
   {
    "duration": 858,
    "start_time": "2023-08-25T12:03:25.866Z"
   },
   {
    "duration": 491,
    "start_time": "2023-08-25T12:03:26.726Z"
   },
   {
    "duration": 366,
    "start_time": "2023-08-25T12:08:53.425Z"
   },
   {
    "duration": 3,
    "start_time": "2023-08-25T12:09:53.537Z"
   },
   {
    "duration": 5,
    "start_time": "2023-08-25T12:12:34.918Z"
   },
   {
    "duration": 5,
    "start_time": "2023-08-25T12:13:05.673Z"
   },
   {
    "duration": 11,
    "start_time": "2023-08-25T12:13:13.725Z"
   },
   {
    "duration": 9,
    "start_time": "2023-08-25T12:13:14.977Z"
   },
   {
    "duration": 2827,
    "start_time": "2023-08-25T12:13:22.070Z"
   },
   {
    "duration": 394,
    "start_time": "2023-08-25T12:13:36.683Z"
   },
   {
    "duration": 3,
    "start_time": "2023-08-25T12:13:37.364Z"
   },
   {
    "duration": 10,
    "start_time": "2023-08-25T12:13:38.069Z"
   },
   {
    "duration": 1343,
    "start_time": "2023-08-25T12:13:38.726Z"
   },
   {
    "duration": 6,
    "start_time": "2023-08-25T12:14:04.562Z"
   },
   {
    "duration": 385,
    "start_time": "2023-08-25T12:14:05.854Z"
   },
   {
    "duration": 363,
    "start_time": "2023-08-25T12:14:14.538Z"
   },
   {
    "duration": 775,
    "start_time": "2023-08-25T12:14:30.117Z"
   },
   {
    "duration": 571,
    "start_time": "2023-08-25T12:14:39.314Z"
   },
   {
    "duration": 5,
    "start_time": "2023-08-25T12:14:46.014Z"
   },
   {
    "duration": 304,
    "start_time": "2023-08-25T12:14:47.190Z"
   },
   {
    "duration": 278,
    "start_time": "2023-08-25T12:14:49.009Z"
   },
   {
    "duration": 4,
    "start_time": "2023-08-25T12:15:02.134Z"
   },
   {
    "duration": 9,
    "start_time": "2023-08-25T12:15:02.953Z"
   },
   {
    "duration": 1034,
    "start_time": "2023-08-25T12:15:06.853Z"
   },
   {
    "duration": 7,
    "start_time": "2023-08-25T12:16:04.527Z"
   },
   {
    "duration": 322,
    "start_time": "2023-08-25T12:16:08.232Z"
   },
   {
    "duration": 36,
    "start_time": "2023-08-25T12:16:09.690Z"
   },
   {
    "duration": 4,
    "start_time": "2023-08-25T12:16:17.651Z"
   },
   {
    "duration": 9,
    "start_time": "2023-08-25T12:16:18.660Z"
   },
   {
    "duration": 1531,
    "start_time": "2023-08-25T12:16:19.272Z"
   },
   {
    "duration": 31,
    "start_time": "2023-08-25T12:17:43.434Z"
   },
   {
    "duration": 4,
    "start_time": "2023-08-25T12:17:47.649Z"
   },
   {
    "duration": 7,
    "start_time": "2023-08-25T12:17:48.406Z"
   },
   {
    "duration": 1299,
    "start_time": "2023-08-25T12:17:48.890Z"
   },
   {
    "duration": 30,
    "start_time": "2023-08-25T12:18:02.811Z"
   },
   {
    "duration": 4,
    "start_time": "2023-08-25T12:18:03.857Z"
   },
   {
    "duration": 7,
    "start_time": "2023-08-25T12:18:04.306Z"
   },
   {
    "duration": 774,
    "start_time": "2023-08-25T12:18:04.796Z"
   },
   {
    "duration": 8,
    "start_time": "2023-08-25T12:18:41.338Z"
   },
   {
    "duration": 16,
    "start_time": "2023-08-25T12:18:42.602Z"
   },
   {
    "duration": 355,
    "start_time": "2023-08-25T12:18:49.786Z"
   },
   {
    "duration": 41,
    "start_time": "2023-08-25T12:18:50.901Z"
   },
   {
    "duration": 3,
    "start_time": "2023-08-25T12:18:56.015Z"
   },
   {
    "duration": 8,
    "start_time": "2023-08-25T12:18:56.590Z"
   },
   {
    "duration": 12,
    "start_time": "2023-08-25T12:18:57.101Z"
   },
   {
    "duration": 7,
    "start_time": "2023-08-25T12:19:14.891Z"
   },
   {
    "duration": 690,
    "start_time": "2023-08-25T12:19:15.298Z"
   },
   {
    "duration": 44,
    "start_time": "2023-08-25T12:20:36.548Z"
   },
   {
    "duration": 32,
    "start_time": "2023-08-25T12:20:47.660Z"
   },
   {
    "duration": 4,
    "start_time": "2023-08-25T12:20:48.602Z"
   },
   {
    "duration": 9,
    "start_time": "2023-08-25T12:20:50.433Z"
   },
   {
    "duration": 1322,
    "start_time": "2023-08-25T12:20:52.448Z"
   },
   {
    "duration": 32,
    "start_time": "2023-08-25T12:21:33.573Z"
   },
   {
    "duration": 4,
    "start_time": "2023-08-25T12:21:34.150Z"
   },
   {
    "duration": 7,
    "start_time": "2023-08-25T12:21:34.758Z"
   },
   {
    "duration": 17013,
    "start_time": "2023-08-25T12:21:35.195Z"
   },
   {
    "duration": 709,
    "start_time": "2023-08-25T12:22:37.594Z"
   },
   {
    "duration": 12,
    "start_time": "2023-08-25T12:23:47.940Z"
   },
   {
    "duration": 29,
    "start_time": "2023-08-25T12:23:58.600Z"
   },
   {
    "duration": 3,
    "start_time": "2023-08-25T12:23:59.520Z"
   },
   {
    "duration": 10,
    "start_time": "2023-08-25T12:24:00.310Z"
   },
   {
    "duration": 958,
    "start_time": "2023-08-25T12:24:02.026Z"
   },
   {
    "duration": 291,
    "start_time": "2023-08-25T12:24:08.777Z"
   },
   {
    "duration": 33,
    "start_time": "2023-08-25T12:24:09.158Z"
   },
   {
    "duration": 4,
    "start_time": "2023-08-25T12:24:10.057Z"
   },
   {
    "duration": 8,
    "start_time": "2023-08-25T12:24:10.573Z"
   },
   {
    "duration": 893,
    "start_time": "2023-08-25T12:24:11.380Z"
   },
   {
    "duration": 30,
    "start_time": "2023-08-25T12:24:18.157Z"
   },
   {
    "duration": 3,
    "start_time": "2023-08-25T12:24:21.450Z"
   },
   {
    "duration": 8,
    "start_time": "2023-08-25T12:24:22.084Z"
   },
   {
    "duration": 15410,
    "start_time": "2023-08-25T12:24:23.497Z"
   },
   {
    "duration": 577,
    "start_time": "2023-08-25T12:24:38.909Z"
   },
   {
    "duration": 4,
    "start_time": "2023-08-25T12:24:56.428Z"
   },
   {
    "duration": 10,
    "start_time": "2023-08-25T12:24:56.878Z"
   },
   {
    "duration": 24523,
    "start_time": "2023-08-25T12:24:57.075Z"
   },
   {
    "duration": 412,
    "start_time": "2023-08-25T12:25:21.600Z"
   },
   {
    "duration": 71,
    "start_time": "2023-08-25T12:26:00.772Z"
   },
   {
    "duration": 7,
    "start_time": "2023-08-25T12:27:38.873Z"
   },
   {
    "duration": 11,
    "start_time": "2023-08-25T12:27:38.883Z"
   },
   {
    "duration": 240,
    "start_time": "2023-08-25T12:27:38.896Z"
   },
   {
    "duration": 4,
    "start_time": "2023-08-25T12:27:39.138Z"
   },
   {
    "duration": 533,
    "start_time": "2023-08-25T12:27:39.144Z"
   },
   {
    "duration": 5,
    "start_time": "2023-08-25T12:27:39.679Z"
   },
   {
    "duration": 12,
    "start_time": "2023-08-25T12:27:39.685Z"
   },
   {
    "duration": 1179,
    "start_time": "2023-08-25T12:27:39.699Z"
   },
   {
    "duration": 200,
    "start_time": "2023-08-25T12:27:40.880Z"
   },
   {
    "duration": 230,
    "start_time": "2023-08-25T12:27:41.081Z"
   },
   {
    "duration": 10,
    "start_time": "2023-08-25T12:27:41.313Z"
   },
   {
    "duration": 926,
    "start_time": "2023-08-25T12:27:41.325Z"
   },
   {
    "duration": 1016,
    "start_time": "2023-08-25T12:27:42.253Z"
   },
   {
    "duration": 7,
    "start_time": "2023-08-25T12:27:43.272Z"
   },
   {
    "duration": 588,
    "start_time": "2023-08-25T12:27:43.281Z"
   },
   {
    "duration": 6,
    "start_time": "2023-08-25T12:27:43.870Z"
   },
   {
    "duration": 332,
    "start_time": "2023-08-25T12:27:43.878Z"
   },
   {
    "duration": 168,
    "start_time": "2023-08-25T12:27:44.212Z"
   },
   {
    "duration": 139,
    "start_time": "2023-08-25T12:27:44.382Z"
   },
   {
    "duration": 287,
    "start_time": "2023-08-25T12:27:44.523Z"
   },
   {
    "duration": 27,
    "start_time": "2023-08-25T12:27:44.812Z"
   },
   {
    "duration": 28,
    "start_time": "2023-08-25T12:27:44.866Z"
   },
   {
    "duration": 23,
    "start_time": "2023-08-25T12:27:44.896Z"
   },
   {
    "duration": 213,
    "start_time": "2023-08-25T12:27:44.922Z"
   },
   {
    "duration": 50,
    "start_time": "2023-08-25T12:27:45.138Z"
   },
   {
    "duration": 5,
    "start_time": "2023-08-25T12:27:45.190Z"
   },
   {
    "duration": 1192,
    "start_time": "2023-08-25T12:27:45.197Z"
   },
   {
    "duration": 1499,
    "start_time": "2023-08-25T12:27:46.391Z"
   },
   {
    "duration": 3,
    "start_time": "2023-08-25T12:27:47.892Z"
   },
   {
    "duration": 42,
    "start_time": "2023-08-25T12:27:47.896Z"
   },
   {
    "duration": 161,
    "start_time": "2023-08-25T12:27:47.940Z"
   },
   {
    "duration": 0,
    "start_time": "2023-08-25T12:27:48.103Z"
   },
   {
    "duration": 0,
    "start_time": "2023-08-25T12:27:48.104Z"
   },
   {
    "duration": 0,
    "start_time": "2023-08-25T12:27:48.105Z"
   },
   {
    "duration": 0,
    "start_time": "2023-08-25T12:27:48.106Z"
   },
   {
    "duration": 0,
    "start_time": "2023-08-25T12:27:48.108Z"
   },
   {
    "duration": 0,
    "start_time": "2023-08-25T12:27:48.109Z"
   },
   {
    "duration": 0,
    "start_time": "2023-08-25T12:27:48.110Z"
   },
   {
    "duration": 0,
    "start_time": "2023-08-25T12:27:48.110Z"
   },
   {
    "duration": 113,
    "start_time": "2023-08-25T12:29:29.905Z"
   },
   {
    "duration": 3,
    "start_time": "2023-08-25T12:29:36.937Z"
   },
   {
    "duration": 324,
    "start_time": "2023-08-25T12:29:47.301Z"
   },
   {
    "duration": 6,
    "start_time": "2023-08-25T12:29:51.994Z"
   },
   {
    "duration": 23,
    "start_time": "2023-08-25T12:29:52.004Z"
   },
   {
    "duration": 252,
    "start_time": "2023-08-25T12:29:52.029Z"
   },
   {
    "duration": 5,
    "start_time": "2023-08-25T12:29:52.285Z"
   },
   {
    "duration": 591,
    "start_time": "2023-08-25T12:29:52.292Z"
   },
   {
    "duration": 6,
    "start_time": "2023-08-25T12:29:52.885Z"
   },
   {
    "duration": 32,
    "start_time": "2023-08-25T12:29:52.893Z"
   },
   {
    "duration": 1053,
    "start_time": "2023-08-25T12:29:52.927Z"
   },
   {
    "duration": 196,
    "start_time": "2023-08-25T12:29:53.982Z"
   },
   {
    "duration": 258,
    "start_time": "2023-08-25T12:29:54.181Z"
   },
   {
    "duration": 12,
    "start_time": "2023-08-25T12:29:54.468Z"
   },
   {
    "duration": 1047,
    "start_time": "2023-08-25T12:29:54.482Z"
   },
   {
    "duration": 1469,
    "start_time": "2023-08-25T12:29:55.531Z"
   },
   {
    "duration": 3,
    "start_time": "2023-08-25T12:29:57.001Z"
   },
   {
    "duration": 13,
    "start_time": "2023-08-25T12:29:57.006Z"
   },
   {
    "duration": 7,
    "start_time": "2023-08-25T12:30:00.975Z"
   },
   {
    "duration": 3,
    "start_time": "2023-08-25T12:30:05.140Z"
   },
   {
    "duration": 288,
    "start_time": "2023-08-25T12:30:06.187Z"
   },
   {
    "duration": 7,
    "start_time": "2023-08-25T12:32:50.807Z"
   },
   {
    "duration": 6,
    "start_time": "2023-08-25T12:33:04.052Z"
   },
   {
    "duration": 4,
    "start_time": "2023-08-25T12:33:18.964Z"
   },
   {
    "duration": 5,
    "start_time": "2023-08-25T12:33:23.114Z"
   },
   {
    "duration": 16,
    "start_time": "2023-08-25T12:33:23.122Z"
   },
   {
    "duration": 211,
    "start_time": "2023-08-25T12:33:23.197Z"
   },
   {
    "duration": 4,
    "start_time": "2023-08-25T12:33:23.411Z"
   },
   {
    "duration": 497,
    "start_time": "2023-08-25T12:33:23.417Z"
   },
   {
    "duration": 6,
    "start_time": "2023-08-25T12:33:23.916Z"
   },
   {
    "duration": 4,
    "start_time": "2023-08-25T12:33:23.926Z"
   },
   {
    "duration": 1117,
    "start_time": "2023-08-25T12:33:23.968Z"
   },
   {
    "duration": 140,
    "start_time": "2023-08-25T12:33:25.088Z"
   },
   {
    "duration": 209,
    "start_time": "2023-08-25T12:33:25.230Z"
   },
   {
    "duration": 30,
    "start_time": "2023-08-25T12:33:25.440Z"
   },
   {
    "duration": 1012,
    "start_time": "2023-08-25T12:33:25.472Z"
   },
   {
    "duration": 1009,
    "start_time": "2023-08-25T12:33:26.486Z"
   },
   {
    "duration": 3,
    "start_time": "2023-08-25T12:33:27.497Z"
   },
   {
    "duration": 27,
    "start_time": "2023-08-25T12:33:27.501Z"
   },
   {
    "duration": 43,
    "start_time": "2023-08-25T12:33:27.531Z"
   },
   {
    "duration": 10,
    "start_time": "2023-08-25T12:33:27.576Z"
   },
   {
    "duration": 287,
    "start_time": "2023-08-25T12:33:27.587Z"
   },
   {
    "duration": 225,
    "start_time": "2023-08-25T12:33:27.876Z"
   },
   {
    "duration": 185,
    "start_time": "2023-08-25T12:33:28.103Z"
   },
   {
    "duration": 151,
    "start_time": "2023-08-25T12:33:28.290Z"
   },
   {
    "duration": 0,
    "start_time": "2023-08-25T12:33:28.443Z"
   },
   {
    "duration": 0,
    "start_time": "2023-08-25T12:33:28.444Z"
   },
   {
    "duration": 0,
    "start_time": "2023-08-25T12:33:28.445Z"
   },
   {
    "duration": 0,
    "start_time": "2023-08-25T12:33:28.447Z"
   },
   {
    "duration": 0,
    "start_time": "2023-08-25T12:33:28.448Z"
   },
   {
    "duration": 0,
    "start_time": "2023-08-25T12:33:28.449Z"
   },
   {
    "duration": 0,
    "start_time": "2023-08-25T12:33:28.450Z"
   },
   {
    "duration": 0,
    "start_time": "2023-08-25T12:33:28.451Z"
   },
   {
    "duration": 0,
    "start_time": "2023-08-25T12:33:28.452Z"
   },
   {
    "duration": 0,
    "start_time": "2023-08-25T12:33:28.454Z"
   },
   {
    "duration": 0,
    "start_time": "2023-08-25T12:33:28.455Z"
   },
   {
    "duration": 0,
    "start_time": "2023-08-25T12:33:28.456Z"
   },
   {
    "duration": 0,
    "start_time": "2023-08-25T12:33:28.457Z"
   },
   {
    "duration": 0,
    "start_time": "2023-08-25T12:33:28.459Z"
   },
   {
    "duration": 0,
    "start_time": "2023-08-25T12:33:28.460Z"
   },
   {
    "duration": 0,
    "start_time": "2023-08-25T12:33:28.461Z"
   },
   {
    "duration": 0,
    "start_time": "2023-08-25T12:33:28.463Z"
   },
   {
    "duration": 0,
    "start_time": "2023-08-25T12:33:28.464Z"
   },
   {
    "duration": 0,
    "start_time": "2023-08-25T12:33:28.466Z"
   },
   {
    "duration": 1326,
    "start_time": "2023-08-25T12:34:04.990Z"
   },
   {
    "duration": 16091,
    "start_time": "2023-08-25T12:34:06.318Z"
   },
   {
    "duration": 10683,
    "start_time": "2023-08-25T12:34:22.412Z"
   },
   {
    "duration": 79,
    "start_time": "2023-08-25T12:34:33.100Z"
   },
   {
    "duration": 5140,
    "start_time": "2023-08-25T12:34:33.182Z"
   },
   {
    "duration": 6,
    "start_time": "2023-08-25T12:34:38.366Z"
   },
   {
    "duration": 9,
    "start_time": "2023-08-25T12:34:38.373Z"
   },
   {
    "duration": 4491,
    "start_time": "2023-08-25T12:34:38.383Z"
   },
   {
    "duration": 498,
    "start_time": "2023-08-25T12:34:42.876Z"
   },
   {
    "duration": 696,
    "start_time": "2023-08-25T12:34:43.376Z"
   },
   {
    "duration": 91,
    "start_time": "2023-08-25T12:34:44.075Z"
   },
   {
    "duration": 2820,
    "start_time": "2023-08-25T12:34:44.169Z"
   },
   {
    "duration": 1753,
    "start_time": "2023-08-25T12:34:46.992Z"
   },
   {
    "duration": 3,
    "start_time": "2023-08-25T12:34:48.747Z"
   },
   {
    "duration": 15,
    "start_time": "2023-08-25T12:34:48.751Z"
   },
   {
    "duration": 26,
    "start_time": "2023-08-25T12:34:48.768Z"
   },
   {
    "duration": 8,
    "start_time": "2023-08-25T12:34:48.796Z"
   },
   {
    "duration": 151,
    "start_time": "2023-08-25T12:34:48.806Z"
   },
   {
    "duration": 0,
    "start_time": "2023-08-25T12:34:48.960Z"
   },
   {
    "duration": 0,
    "start_time": "2023-08-25T12:34:48.967Z"
   },
   {
    "duration": 0,
    "start_time": "2023-08-25T12:34:48.969Z"
   },
   {
    "duration": 0,
    "start_time": "2023-08-25T12:34:48.970Z"
   },
   {
    "duration": 0,
    "start_time": "2023-08-25T12:34:48.971Z"
   },
   {
    "duration": 0,
    "start_time": "2023-08-25T12:34:48.973Z"
   },
   {
    "duration": 0,
    "start_time": "2023-08-25T12:34:48.974Z"
   },
   {
    "duration": 0,
    "start_time": "2023-08-25T12:34:48.975Z"
   },
   {
    "duration": 0,
    "start_time": "2023-08-25T12:34:48.977Z"
   },
   {
    "duration": 0,
    "start_time": "2023-08-25T12:34:48.978Z"
   },
   {
    "duration": 0,
    "start_time": "2023-08-25T12:34:48.979Z"
   },
   {
    "duration": 0,
    "start_time": "2023-08-25T12:34:48.980Z"
   },
   {
    "duration": 0,
    "start_time": "2023-08-25T12:34:48.981Z"
   },
   {
    "duration": 0,
    "start_time": "2023-08-25T12:34:48.982Z"
   },
   {
    "duration": 0,
    "start_time": "2023-08-25T12:34:48.984Z"
   },
   {
    "duration": 0,
    "start_time": "2023-08-25T12:34:48.985Z"
   },
   {
    "duration": 0,
    "start_time": "2023-08-25T12:34:48.986Z"
   },
   {
    "duration": 0,
    "start_time": "2023-08-25T12:34:48.987Z"
   },
   {
    "duration": 0,
    "start_time": "2023-08-25T12:34:48.989Z"
   },
   {
    "duration": 0,
    "start_time": "2023-08-25T12:34:48.990Z"
   },
   {
    "duration": 0,
    "start_time": "2023-08-25T12:34:48.991Z"
   },
   {
    "duration": 0,
    "start_time": "2023-08-25T12:34:48.992Z"
   },
   {
    "duration": 20,
    "start_time": "2023-08-25T12:37:24.097Z"
   },
   {
    "duration": 14,
    "start_time": "2023-08-25T12:37:38.549Z"
   },
   {
    "duration": 970,
    "start_time": "2023-08-25T12:37:39.205Z"
   },
   {
    "duration": 340,
    "start_time": "2023-08-25T12:37:44.562Z"
   },
   {
    "duration": 1601,
    "start_time": "2023-08-25T12:37:44.905Z"
   },
   {
    "duration": 370,
    "start_time": "2023-08-25T12:37:46.509Z"
   },
   {
    "duration": 190,
    "start_time": "2023-08-25T12:37:46.885Z"
   },
   {
    "duration": 123,
    "start_time": "2023-08-25T12:37:47.078Z"
   },
   {
    "duration": 1577,
    "start_time": "2023-08-25T12:37:47.202Z"
   },
   {
    "duration": 107,
    "start_time": "2023-08-25T12:37:48.781Z"
   },
   {
    "duration": 4,
    "start_time": "2023-08-25T12:37:48.891Z"
   },
   {
    "duration": 6172,
    "start_time": "2023-08-25T12:37:48.897Z"
   },
   {
    "duration": 2716,
    "start_time": "2023-08-25T12:37:55.071Z"
   },
   {
    "duration": 86,
    "start_time": "2023-08-25T12:37:57.789Z"
   },
   {
    "duration": 9,
    "start_time": "2023-08-25T12:37:57.877Z"
   },
   {
    "duration": 249,
    "start_time": "2023-08-25T12:37:57.888Z"
   },
   {
    "duration": 0,
    "start_time": "2023-08-25T12:37:58.141Z"
   },
   {
    "duration": 0,
    "start_time": "2023-08-25T12:37:58.145Z"
   },
   {
    "duration": 0,
    "start_time": "2023-08-25T12:37:58.146Z"
   },
   {
    "duration": 0,
    "start_time": "2023-08-25T12:37:58.148Z"
   },
   {
    "duration": 0,
    "start_time": "2023-08-25T12:37:58.149Z"
   },
   {
    "duration": 0,
    "start_time": "2023-08-25T12:37:58.151Z"
   },
   {
    "duration": 0,
    "start_time": "2023-08-25T12:37:58.154Z"
   },
   {
    "duration": 0,
    "start_time": "2023-08-25T12:37:58.156Z"
   },
   {
    "duration": 11,
    "start_time": "2023-08-25T12:38:35.643Z"
   },
   {
    "duration": 42,
    "start_time": "2023-08-25T12:38:35.656Z"
   },
   {
    "duration": 1993,
    "start_time": "2023-08-25T12:38:35.699Z"
   },
   {
    "duration": 1180,
    "start_time": "2023-08-25T12:38:37.694Z"
   },
   {
    "duration": 14,
    "start_time": "2023-08-25T12:38:38.877Z"
   },
   {
    "duration": 76,
    "start_time": "2023-08-25T12:38:38.893Z"
   },
   {
    "duration": 15,
    "start_time": "2023-08-25T12:38:38.970Z"
   },
   {
    "duration": 65,
    "start_time": "2023-08-25T12:38:38.987Z"
   },
   {
    "duration": 87231,
    "start_time": "2023-08-25T12:38:39.053Z"
   },
   {
    "duration": 0,
    "start_time": "2023-08-25T12:40:06.287Z"
   },
   {
    "duration": 0,
    "start_time": "2023-08-25T12:40:06.288Z"
   },
   {
    "duration": 0,
    "start_time": "2023-08-25T12:40:06.289Z"
   },
   {
    "duration": 1339,
    "start_time": "2023-08-25T12:40:11.366Z"
   },
   {
    "duration": 15895,
    "start_time": "2023-08-25T12:40:12.707Z"
   },
   {
    "duration": 10268,
    "start_time": "2023-08-25T12:40:28.604Z"
   },
   {
    "duration": 19,
    "start_time": "2023-08-25T12:40:38.878Z"
   },
   {
    "duration": 4969,
    "start_time": "2023-08-25T12:40:38.899Z"
   },
   {
    "duration": 7,
    "start_time": "2023-08-25T12:40:43.870Z"
   },
   {
    "duration": 9,
    "start_time": "2023-08-25T12:40:43.880Z"
   },
   {
    "duration": 4400,
    "start_time": "2023-08-25T12:40:43.892Z"
   },
   {
    "duration": 479,
    "start_time": "2023-08-25T12:40:48.294Z"
   },
   {
    "duration": 598,
    "start_time": "2023-08-25T12:40:48.776Z"
   },
   {
    "duration": 98,
    "start_time": "2023-08-25T12:40:49.377Z"
   },
   {
    "duration": 3002,
    "start_time": "2023-08-25T12:40:49.477Z"
   },
   {
    "duration": 1639,
    "start_time": "2023-08-25T12:40:52.483Z"
   },
   {
    "duration": 3,
    "start_time": "2023-08-25T12:40:54.124Z"
   },
   {
    "duration": 7,
    "start_time": "2023-08-25T12:40:54.129Z"
   },
   {
    "duration": 12,
    "start_time": "2023-08-25T12:40:54.139Z"
   },
   {
    "duration": 20,
    "start_time": "2023-08-25T12:40:54.154Z"
   },
   {
    "duration": 44,
    "start_time": "2023-08-25T12:40:54.176Z"
   },
   {
    "duration": 1181,
    "start_time": "2023-08-25T12:40:54.222Z"
   },
   {
    "duration": 451,
    "start_time": "2023-08-25T12:40:55.467Z"
   },
   {
    "duration": 1877,
    "start_time": "2023-08-25T12:40:55.920Z"
   },
   {
    "duration": 385,
    "start_time": "2023-08-25T12:40:57.799Z"
   },
   {
    "duration": 184,
    "start_time": "2023-08-25T12:40:58.186Z"
   },
   {
    "duration": 114,
    "start_time": "2023-08-25T12:40:58.372Z"
   },
   {
    "duration": 1415,
    "start_time": "2023-08-25T12:40:58.488Z"
   },
   {
    "duration": 114,
    "start_time": "2023-08-25T12:40:59.968Z"
   },
   {
    "duration": 9,
    "start_time": "2023-08-25T12:41:00.084Z"
   },
   {
    "duration": 6275,
    "start_time": "2023-08-25T12:41:00.096Z"
   },
   {
    "duration": 2802,
    "start_time": "2023-08-25T12:41:06.373Z"
   },
   {
    "duration": 11,
    "start_time": "2023-08-25T12:41:09.177Z"
   },
   {
    "duration": 17,
    "start_time": "2023-08-25T12:41:09.189Z"
   },
   {
    "duration": 2184,
    "start_time": "2023-08-25T12:41:09.208Z"
   },
   {
    "duration": 1090,
    "start_time": "2023-08-25T12:41:11.394Z"
   },
   {
    "duration": 83,
    "start_time": "2023-08-25T12:41:12.485Z"
   },
   {
    "duration": 2,
    "start_time": "2023-08-25T12:41:12.570Z"
   },
   {
    "duration": 6,
    "start_time": "2023-08-25T12:41:12.574Z"
   },
   {
    "duration": 16,
    "start_time": "2023-08-25T12:41:12.582Z"
   },
   {
    "duration": 155373,
    "start_time": "2023-08-25T12:41:12.600Z"
   },
   {
    "duration": 605,
    "start_time": "2023-08-25T12:43:47.975Z"
   },
   {
    "duration": 3,
    "start_time": "2023-08-25T12:43:48.582Z"
   },
   {
    "duration": 123490,
    "start_time": "2023-08-25T12:52:16.112Z"
   },
   {
    "duration": 165,
    "start_time": "2023-08-25T12:54:19.604Z"
   },
   {
    "duration": 4,
    "start_time": "2023-08-25T12:54:54.282Z"
   },
   {
    "duration": 10,
    "start_time": "2023-08-25T12:54:59.689Z"
   },
   {
    "duration": 12,
    "start_time": "2023-08-25T12:55:02.135Z"
   },
   {
    "duration": 4,
    "start_time": "2023-08-25T12:55:05.552Z"
   },
   {
    "duration": 553,
    "start_time": "2023-08-25T12:55:21.951Z"
   },
   {
    "duration": 82,
    "start_time": "2023-08-25T12:55:46.190Z"
   },
   {
    "duration": 536,
    "start_time": "2023-08-25T12:55:50.465Z"
   },
   {
    "duration": 5,
    "start_time": "2023-08-25T12:56:49.184Z"
   },
   {
    "duration": 203,
    "start_time": "2023-08-25T12:57:00.458Z"
   },
   {
    "duration": 4,
    "start_time": "2023-08-25T12:57:09.387Z"
   },
   {
    "duration": 162,
    "start_time": "2023-08-25T12:57:10.214Z"
   },
   {
    "duration": 5,
    "start_time": "2023-08-25T12:57:17.831Z"
   },
   {
    "duration": 3,
    "start_time": "2023-08-25T12:57:19.439Z"
   },
   {
    "duration": 8,
    "start_time": "2023-08-25T12:57:19.669Z"
   },
   {
    "duration": 173,
    "start_time": "2023-08-25T12:57:20.358Z"
   },
   {
    "duration": 148,
    "start_time": "2023-08-25T12:57:20.608Z"
   },
   {
    "duration": 497,
    "start_time": "2023-08-25T12:57:21.377Z"
   },
   {
    "duration": 36,
    "start_time": "2023-08-25T12:57:22.223Z"
   },
   {
    "duration": 32,
    "start_time": "2023-08-25T12:57:22.557Z"
   },
   {
    "duration": 30,
    "start_time": "2023-08-25T12:57:23.017Z"
   },
   {
    "duration": 370,
    "start_time": "2023-08-25T12:57:23.233Z"
   },
   {
    "duration": 26,
    "start_time": "2023-08-25T12:57:24.464Z"
   },
   {
    "duration": 3,
    "start_time": "2023-08-25T12:57:25.126Z"
   },
   {
    "duration": 1331,
    "start_time": "2023-08-25T12:57:26.379Z"
   },
   {
    "duration": 22,
    "start_time": "2023-08-25T12:57:34.830Z"
   },
   {
    "duration": 1451,
    "start_time": "2023-08-25T12:57:59.933Z"
   },
   {
    "duration": 8,
    "start_time": "2023-08-25T12:58:03.470Z"
   },
   {
    "duration": 10,
    "start_time": "2023-08-25T12:58:04.528Z"
   },
   {
    "duration": 764,
    "start_time": "2023-08-25T12:58:35.607Z"
   },
   {
    "duration": 435,
    "start_time": "2023-08-25T12:58:36.983Z"
   },
   {
    "duration": 8,
    "start_time": "2023-08-25T12:58:55.228Z"
   },
   {
    "duration": 811,
    "start_time": "2023-08-25T12:58:55.567Z"
   },
   {
    "duration": 493,
    "start_time": "2023-08-25T12:58:56.380Z"
   },
   {
    "duration": 8,
    "start_time": "2023-08-25T12:58:59.523Z"
   },
   {
    "duration": 9,
    "start_time": "2023-08-25T12:58:59.865Z"
   },
   {
    "duration": 799,
    "start_time": "2023-08-25T12:59:00.421Z"
   },
   {
    "duration": 602,
    "start_time": "2023-08-25T12:59:01.222Z"
   },
   {
    "duration": 5,
    "start_time": "2023-08-25T12:59:38.634Z"
   },
   {
    "duration": 11,
    "start_time": "2023-08-25T12:59:38.641Z"
   },
   {
    "duration": 414,
    "start_time": "2023-08-25T12:59:38.654Z"
   },
   {
    "duration": 5,
    "start_time": "2023-08-25T12:59:39.070Z"
   },
   {
    "duration": 1094,
    "start_time": "2023-08-25T12:59:39.076Z"
   },
   {
    "duration": 4,
    "start_time": "2023-08-25T12:59:40.172Z"
   },
   {
    "duration": 5,
    "start_time": "2023-08-25T12:59:40.178Z"
   },
   {
    "duration": 1406,
    "start_time": "2023-08-25T12:59:40.185Z"
   },
   {
    "duration": 298,
    "start_time": "2023-08-25T12:59:41.592Z"
   },
   {
    "duration": 293,
    "start_time": "2023-08-25T12:59:41.894Z"
   },
   {
    "duration": 10,
    "start_time": "2023-08-25T12:59:42.189Z"
   },
   {
    "duration": 1401,
    "start_time": "2023-08-25T12:59:42.201Z"
   },
   {
    "duration": 1278,
    "start_time": "2023-08-25T12:59:43.604Z"
   },
   {
    "duration": 3,
    "start_time": "2023-08-25T12:59:44.883Z"
   },
   {
    "duration": 24,
    "start_time": "2023-08-25T12:59:44.888Z"
   },
   {
    "duration": 18,
    "start_time": "2023-08-25T12:59:44.914Z"
   },
   {
    "duration": 22,
    "start_time": "2023-08-25T12:59:44.934Z"
   },
   {
    "duration": 16,
    "start_time": "2023-08-25T12:59:44.958Z"
   },
   {
    "duration": 203,
    "start_time": "2023-08-25T12:59:44.975Z"
   },
   {
    "duration": 212,
    "start_time": "2023-08-25T12:59:45.181Z"
   },
   {
    "duration": 387,
    "start_time": "2023-08-25T12:59:45.395Z"
   },
   {
    "duration": 34,
    "start_time": "2023-08-25T12:59:45.784Z"
   },
   {
    "duration": 48,
    "start_time": "2023-08-25T12:59:45.820Z"
   },
   {
    "duration": 26,
    "start_time": "2023-08-25T12:59:45.870Z"
   },
   {
    "duration": 408,
    "start_time": "2023-08-25T12:59:45.898Z"
   },
   {
    "duration": 64,
    "start_time": "2023-08-25T12:59:46.308Z"
   },
   {
    "duration": 4,
    "start_time": "2023-08-25T12:59:46.375Z"
   },
   {
    "duration": 1492,
    "start_time": "2023-08-25T12:59:46.382Z"
   },
   {
    "duration": 1298,
    "start_time": "2023-08-25T12:59:47.876Z"
   },
   {
    "duration": 8,
    "start_time": "2023-08-25T12:59:49.176Z"
   },
   {
    "duration": 11,
    "start_time": "2023-08-25T12:59:49.186Z"
   },
   {
    "duration": 1218,
    "start_time": "2023-08-25T12:59:49.199Z"
   },
   {
    "duration": 401,
    "start_time": "2023-08-25T12:59:50.418Z"
   },
   {
    "duration": 8,
    "start_time": "2023-08-25T12:59:50.821Z"
   },
   {
    "duration": 36,
    "start_time": "2023-08-25T12:59:50.831Z"
   },
   {
    "duration": 25,
    "start_time": "2023-08-25T12:59:50.870Z"
   },
   {
    "duration": 35,
    "start_time": "2023-08-25T12:59:50.896Z"
   },
   {
    "duration": 18349,
    "start_time": "2023-08-25T12:59:50.933Z"
   },
   {
    "duration": 0,
    "start_time": "2023-08-25T13:00:09.284Z"
   },
   {
    "duration": 0,
    "start_time": "2023-08-25T13:00:09.286Z"
   },
   {
    "duration": 5,
    "start_time": "2023-08-25T13:00:16.405Z"
   },
   {
    "duration": 17,
    "start_time": "2023-08-25T13:00:16.413Z"
   },
   {
    "duration": 244,
    "start_time": "2023-08-25T13:00:16.432Z"
   },
   {
    "duration": 5,
    "start_time": "2023-08-25T13:00:16.678Z"
   },
   {
    "duration": 998,
    "start_time": "2023-08-25T13:00:16.686Z"
   },
   {
    "duration": 6,
    "start_time": "2023-08-25T13:00:17.686Z"
   },
   {
    "duration": 74,
    "start_time": "2023-08-25T13:00:17.694Z"
   },
   {
    "duration": 1405,
    "start_time": "2023-08-25T13:00:17.770Z"
   },
   {
    "duration": 172,
    "start_time": "2023-08-25T13:00:19.177Z"
   },
   {
    "duration": 176,
    "start_time": "2023-08-25T13:00:19.351Z"
   },
   {
    "duration": 10,
    "start_time": "2023-08-25T13:00:19.529Z"
   },
   {
    "duration": 1154,
    "start_time": "2023-08-25T13:00:19.542Z"
   },
   {
    "duration": 1189,
    "start_time": "2023-08-25T13:00:20.698Z"
   },
   {
    "duration": 3,
    "start_time": "2023-08-25T13:00:21.890Z"
   },
   {
    "duration": 7,
    "start_time": "2023-08-25T13:00:21.895Z"
   },
   {
    "duration": 9,
    "start_time": "2023-08-25T13:00:21.904Z"
   },
   {
    "duration": 5,
    "start_time": "2023-08-25T13:00:21.916Z"
   },
   {
    "duration": 26,
    "start_time": "2023-08-25T13:00:21.922Z"
   },
   {
    "duration": 182,
    "start_time": "2023-08-25T13:00:21.949Z"
   },
   {
    "duration": 159,
    "start_time": "2023-08-25T13:00:22.133Z"
   },
   {
    "duration": 388,
    "start_time": "2023-08-25T13:00:22.294Z"
   },
   {
    "duration": 30,
    "start_time": "2023-08-25T13:00:22.684Z"
   },
   {
    "duration": 68,
    "start_time": "2023-08-25T13:00:22.716Z"
   },
   {
    "duration": 24,
    "start_time": "2023-08-25T13:00:22.785Z"
   },
   {
    "duration": 275,
    "start_time": "2023-08-25T13:00:22.811Z"
   },
   {
    "duration": 30,
    "start_time": "2023-08-25T13:00:23.088Z"
   },
   {
    "duration": 6,
    "start_time": "2023-08-25T13:00:23.120Z"
   },
   {
    "duration": 1241,
    "start_time": "2023-08-25T13:00:23.128Z"
   },
   {
    "duration": 1156,
    "start_time": "2023-08-25T13:00:24.371Z"
   },
   {
    "duration": 7,
    "start_time": "2023-08-25T13:00:25.568Z"
   },
   {
    "duration": 20,
    "start_time": "2023-08-25T13:00:25.577Z"
   },
   {
    "duration": 870,
    "start_time": "2023-08-25T13:00:25.600Z"
   },
   {
    "duration": 376,
    "start_time": "2023-08-25T13:00:26.471Z"
   },
   {
    "duration": 11,
    "start_time": "2023-08-25T13:00:26.868Z"
   },
   {
    "duration": 24,
    "start_time": "2023-08-25T13:00:26.881Z"
   },
   {
    "duration": 34,
    "start_time": "2023-08-25T13:00:26.906Z"
   },
   {
    "duration": 12,
    "start_time": "2023-08-25T13:00:26.942Z"
   },
   {
    "duration": 17523,
    "start_time": "2023-08-25T13:00:26.956Z"
   },
   {
    "duration": 389,
    "start_time": "2023-08-25T13:00:44.481Z"
   },
   {
    "duration": 3,
    "start_time": "2023-08-25T13:00:44.872Z"
   },
   {
    "duration": 3,
    "start_time": "2023-08-25T13:00:58.761Z"
   },
   {
    "duration": 10,
    "start_time": "2023-08-25T13:00:59.849Z"
   },
   {
    "duration": 37412,
    "start_time": "2023-08-25T13:01:00.719Z"
   },
   {
    "duration": 372,
    "start_time": "2023-08-25T13:01:38.168Z"
   },
   {
    "duration": 8,
    "start_time": "2023-08-25T13:01:45.789Z"
   },
   {
    "duration": 500,
    "start_time": "2023-08-25T13:02:01.217Z"
   },
   {
    "duration": 9,
    "start_time": "2023-08-25T13:02:05.721Z"
   },
   {
    "duration": 29,
    "start_time": "2023-08-25T13:02:06.853Z"
   },
   {
    "duration": 3,
    "start_time": "2023-08-25T13:02:08.109Z"
   },
   {
    "duration": 8,
    "start_time": "2023-08-25T13:02:08.601Z"
   },
   {
    "duration": 52586,
    "start_time": "2023-08-25T13:02:08.984Z"
   },
   {
    "duration": 420,
    "start_time": "2023-08-25T13:03:01.573Z"
   },
   {
    "duration": 8,
    "start_time": "2023-08-25T13:03:25.785Z"
   },
   {
    "duration": 20,
    "start_time": "2023-08-25T13:03:27.995Z"
   },
   {
    "duration": 1068,
    "start_time": "2023-08-25T13:03:29.589Z"
   },
   {
    "duration": 734,
    "start_time": "2023-08-25T13:03:32.046Z"
   },
   {
    "duration": 4,
    "start_time": "2023-08-25T13:03:53.447Z"
   },
   {
    "duration": 269,
    "start_time": "2023-08-25T13:03:54.898Z"
   },
   {
    "duration": 4,
    "start_time": "2023-08-25T13:03:59.258Z"
   },
   {
    "duration": 10,
    "start_time": "2023-08-25T13:03:59.433Z"
   },
   {
    "duration": 181,
    "start_time": "2023-08-25T13:03:59.576Z"
   },
   {
    "duration": 139,
    "start_time": "2023-08-25T13:03:59.759Z"
   },
   {
    "duration": 238,
    "start_time": "2023-08-25T13:03:59.945Z"
   },
   {
    "duration": 34,
    "start_time": "2023-08-25T13:04:00.186Z"
   },
   {
    "duration": 23,
    "start_time": "2023-08-25T13:04:00.311Z"
   },
   {
    "duration": 31,
    "start_time": "2023-08-25T13:04:00.794Z"
   },
   {
    "duration": 256,
    "start_time": "2023-08-25T13:04:00.965Z"
   },
   {
    "duration": 30,
    "start_time": "2023-08-25T13:04:01.562Z"
   },
   {
    "duration": 6,
    "start_time": "2023-08-25T13:04:02.300Z"
   },
   {
    "duration": 1289,
    "start_time": "2023-08-25T13:04:03.980Z"
   },
   {
    "duration": 948,
    "start_time": "2023-08-25T13:04:12.436Z"
   },
   {
    "duration": 979,
    "start_time": "2023-08-25T13:04:25.339Z"
   },
   {
    "duration": 1275,
    "start_time": "2023-08-25T13:04:33.814Z"
   },
   {
    "duration": 937,
    "start_time": "2023-08-25T13:04:40.139Z"
   },
   {
    "duration": 964,
    "start_time": "2023-08-25T13:04:45.229Z"
   },
   {
    "duration": 986,
    "start_time": "2023-08-25T13:04:53.026Z"
   },
   {
    "duration": 1032,
    "start_time": "2023-08-25T13:04:58.863Z"
   },
   {
    "duration": 898,
    "start_time": "2023-08-25T13:05:04.133Z"
   },
   {
    "duration": 5,
    "start_time": "2023-08-25T13:05:29.949Z"
   },
   {
    "duration": 42,
    "start_time": "2023-08-25T13:05:29.956Z"
   },
   {
    "duration": 296,
    "start_time": "2023-08-25T13:05:30.000Z"
   },
   {
    "duration": 4,
    "start_time": "2023-08-25T13:05:30.297Z"
   },
   {
    "duration": 471,
    "start_time": "2023-08-25T13:05:30.303Z"
   },
   {
    "duration": 4,
    "start_time": "2023-08-25T13:05:30.776Z"
   },
   {
    "duration": 89,
    "start_time": "2023-08-25T13:05:30.782Z"
   },
   {
    "duration": 1015,
    "start_time": "2023-08-25T13:05:30.874Z"
   },
   {
    "duration": 160,
    "start_time": "2023-08-25T13:05:31.895Z"
   },
   {
    "duration": 180,
    "start_time": "2023-08-25T13:05:32.056Z"
   },
   {
    "duration": 9,
    "start_time": "2023-08-25T13:05:32.238Z"
   },
   {
    "duration": 1052,
    "start_time": "2023-08-25T13:05:32.266Z"
   },
   {
    "duration": 1203,
    "start_time": "2023-08-25T13:05:33.320Z"
   },
   {
    "duration": 9,
    "start_time": "2023-08-25T13:05:34.526Z"
   },
   {
    "duration": 645,
    "start_time": "2023-08-25T13:05:34.537Z"
   },
   {
    "duration": 6,
    "start_time": "2023-08-25T13:05:35.184Z"
   },
   {
    "duration": 8,
    "start_time": "2023-08-25T13:05:35.192Z"
   },
   {
    "duration": 12,
    "start_time": "2023-08-25T13:05:35.202Z"
   },
   {
    "duration": 460,
    "start_time": "2023-08-25T13:05:35.215Z"
   },
   {
    "duration": 392,
    "start_time": "2023-08-25T13:05:35.676Z"
   },
   {
    "duration": 434,
    "start_time": "2023-08-25T13:05:36.070Z"
   },
   {
    "duration": 102,
    "start_time": "2023-08-25T13:05:36.506Z"
   },
   {
    "duration": 59,
    "start_time": "2023-08-25T13:05:36.609Z"
   },
   {
    "duration": 19,
    "start_time": "2023-08-25T13:05:36.671Z"
   },
   {
    "duration": 302,
    "start_time": "2023-08-25T13:05:36.691Z"
   },
   {
    "duration": 22,
    "start_time": "2023-08-25T13:05:36.995Z"
   },
   {
    "duration": 4,
    "start_time": "2023-08-25T13:05:37.067Z"
   },
   {
    "duration": 1700,
    "start_time": "2023-08-25T13:05:37.073Z"
   },
   {
    "duration": 1219,
    "start_time": "2023-08-25T13:05:38.775Z"
   },
   {
    "duration": 8,
    "start_time": "2023-08-25T13:05:39.996Z"
   },
   {
    "duration": 23,
    "start_time": "2023-08-25T13:05:40.007Z"
   },
   {
    "duration": 924,
    "start_time": "2023-08-25T13:05:40.066Z"
   },
   {
    "duration": 615,
    "start_time": "2023-08-25T13:05:40.992Z"
   },
   {
    "duration": 8,
    "start_time": "2023-08-25T13:05:41.608Z"
   },
   {
    "duration": 76,
    "start_time": "2023-08-25T13:05:41.618Z"
   },
   {
    "duration": 3,
    "start_time": "2023-08-25T13:05:41.696Z"
   },
   {
    "duration": 11,
    "start_time": "2023-08-25T13:05:41.701Z"
   },
   {
    "duration": 46496,
    "start_time": "2023-08-25T13:05:41.713Z"
   },
   {
    "duration": 461,
    "start_time": "2023-08-25T13:06:28.210Z"
   },
   {
    "duration": 3,
    "start_time": "2023-08-25T13:06:28.673Z"
   },
   {
    "duration": 4,
    "start_time": "2023-08-25T13:07:48.162Z"
   },
   {
    "duration": 5,
    "start_time": "2023-08-25T13:08:02.697Z"
   },
   {
    "duration": 4,
    "start_time": "2023-08-25T13:08:05.275Z"
   },
   {
    "duration": 4,
    "start_time": "2023-08-25T13:08:32.940Z"
   },
   {
    "duration": 4,
    "start_time": "2023-08-25T13:08:40.727Z"
   },
   {
    "duration": 50,
    "start_time": "2023-08-26T03:13:24.670Z"
   },
   {
    "duration": 6,
    "start_time": "2023-08-26T03:13:28.376Z"
   },
   {
    "duration": 1503,
    "start_time": "2023-08-26T03:13:46.917Z"
   },
   {
    "duration": 17398,
    "start_time": "2023-08-26T03:13:48.422Z"
   },
   {
    "duration": 9878,
    "start_time": "2023-08-26T03:14:05.823Z"
   },
   {
    "duration": 92,
    "start_time": "2023-08-26T03:14:15.704Z"
   },
   {
    "duration": 4712,
    "start_time": "2023-08-26T03:14:15.798Z"
   },
   {
    "duration": 5,
    "start_time": "2023-08-26T03:14:20.512Z"
   },
   {
    "duration": 62,
    "start_time": "2023-08-26T03:14:20.519Z"
   },
   {
    "duration": 4498,
    "start_time": "2023-08-26T03:14:20.583Z"
   },
   {
    "duration": 432,
    "start_time": "2023-08-26T03:14:25.083Z"
   },
   {
    "duration": 584,
    "start_time": "2023-08-26T03:14:25.517Z"
   },
   {
    "duration": 92,
    "start_time": "2023-08-26T03:14:26.103Z"
   },
   {
    "duration": 2883,
    "start_time": "2023-08-26T03:14:26.197Z"
   },
   {
    "duration": 1742,
    "start_time": "2023-08-26T03:14:29.083Z"
   },
   {
    "duration": 11,
    "start_time": "2023-08-26T03:14:30.830Z"
   },
   {
    "duration": 853,
    "start_time": "2023-08-26T03:14:30.843Z"
   },
   {
    "duration": 6,
    "start_time": "2023-08-26T03:14:31.697Z"
   },
   {
    "duration": 47,
    "start_time": "2023-08-26T03:14:31.705Z"
   },
   {
    "duration": 104,
    "start_time": "2023-08-26T03:14:31.754Z"
   },
   {
    "duration": 843,
    "start_time": "2023-08-26T03:14:31.860Z"
   },
   {
    "duration": 377,
    "start_time": "2023-08-26T03:14:32.705Z"
   },
   {
    "duration": 1439,
    "start_time": "2023-08-26T03:14:33.085Z"
   },
   {
    "duration": 328,
    "start_time": "2023-08-26T03:14:34.582Z"
   },
   {
    "duration": 202,
    "start_time": "2023-08-26T03:14:34.912Z"
   },
   {
    "duration": 167,
    "start_time": "2023-08-26T03:14:35.117Z"
   },
   {
    "duration": 1307,
    "start_time": "2023-08-26T03:14:35.287Z"
   },
   {
    "duration": 107,
    "start_time": "2023-08-26T03:14:36.597Z"
   },
   {
    "duration": 680,
    "start_time": "2023-08-26T03:14:36.706Z"
   },
   {
    "duration": 694,
    "start_time": "2023-08-26T03:14:37.388Z"
   },
   {
    "duration": 8,
    "start_time": "2023-08-26T03:14:38.084Z"
   },
   {
    "duration": 6092,
    "start_time": "2023-08-26T03:14:38.094Z"
   },
   {
    "duration": 2524,
    "start_time": "2023-08-26T03:14:44.188Z"
   },
   {
    "duration": 73,
    "start_time": "2023-08-26T03:14:46.714Z"
   },
   {
    "duration": 9,
    "start_time": "2023-08-26T03:14:46.789Z"
   },
   {
    "duration": 1994,
    "start_time": "2023-08-26T03:14:46.799Z"
   },
   {
    "duration": 1088,
    "start_time": "2023-08-26T03:14:48.795Z"
   },
   {
    "duration": 9,
    "start_time": "2023-08-26T03:14:49.886Z"
   },
   {
    "duration": 111,
    "start_time": "2023-08-26T03:14:49.897Z"
   },
   {
    "duration": 4,
    "start_time": "2023-08-26T03:14:50.011Z"
   },
   {
    "duration": 75,
    "start_time": "2023-08-26T03:14:50.017Z"
   },
   {
    "duration": 8,
    "start_time": "2023-08-26T03:16:12.598Z"
   },
   {
    "duration": 8,
    "start_time": "2023-08-26T03:16:12.608Z"
   },
   {
    "duration": 337,
    "start_time": "2023-08-26T03:16:12.682Z"
   },
   {
    "duration": 3,
    "start_time": "2023-08-26T03:16:13.021Z"
   },
   {
    "duration": 1505,
    "start_time": "2023-08-26T03:16:13.026Z"
   },
   {
    "duration": 7,
    "start_time": "2023-08-26T03:16:14.582Z"
   },
   {
    "duration": 5,
    "start_time": "2023-08-26T03:16:14.591Z"
   },
   {
    "duration": 1398,
    "start_time": "2023-08-26T03:16:14.598Z"
   },
   {
    "duration": 158,
    "start_time": "2023-08-26T03:16:15.998Z"
   },
   {
    "duration": 344,
    "start_time": "2023-08-26T03:16:16.158Z"
   },
   {
    "duration": 10,
    "start_time": "2023-08-26T03:16:16.504Z"
   },
   {
    "duration": 1320,
    "start_time": "2023-08-26T03:16:16.516Z"
   },
   {
    "duration": 1116,
    "start_time": "2023-08-26T03:16:17.838Z"
   },
   {
    "duration": 3,
    "start_time": "2023-08-26T03:16:18.956Z"
   },
   {
    "duration": 10,
    "start_time": "2023-08-26T03:16:18.961Z"
   },
   {
    "duration": 11,
    "start_time": "2023-08-26T03:16:18.974Z"
   },
   {
    "duration": 4,
    "start_time": "2023-08-26T03:16:18.987Z"
   },
   {
    "duration": 15,
    "start_time": "2023-08-26T03:16:18.993Z"
   },
   {
    "duration": 385,
    "start_time": "2023-08-26T03:16:19.010Z"
   },
   {
    "duration": 403,
    "start_time": "2023-08-26T03:16:19.397Z"
   },
   {
    "duration": 491,
    "start_time": "2023-08-26T03:16:19.802Z"
   },
   {
    "duration": 35,
    "start_time": "2023-08-26T03:16:20.295Z"
   },
   {
    "duration": 86,
    "start_time": "2023-08-26T03:16:20.334Z"
   },
   {
    "duration": 24,
    "start_time": "2023-08-26T03:16:20.423Z"
   },
   {
    "duration": 560,
    "start_time": "2023-08-26T03:16:20.449Z"
   },
   {
    "duration": 31,
    "start_time": "2023-08-26T03:16:21.012Z"
   },
   {
    "duration": 372,
    "start_time": "2023-08-26T03:16:21.080Z"
   },
   {
    "duration": 406,
    "start_time": "2023-08-26T03:16:21.454Z"
   },
   {
    "duration": 18,
    "start_time": "2023-08-26T03:16:21.863Z"
   },
   {
    "duration": 2302,
    "start_time": "2023-08-26T03:16:21.884Z"
   },
   {
    "duration": 1730,
    "start_time": "2023-08-26T03:16:24.188Z"
   },
   {
    "duration": 10,
    "start_time": "2023-08-26T03:16:25.921Z"
   },
   {
    "duration": 8,
    "start_time": "2023-08-26T03:16:25.981Z"
   },
   {
    "duration": 1468,
    "start_time": "2023-08-26T03:16:25.991Z"
   },
   {
    "duration": 725,
    "start_time": "2023-08-26T03:16:27.461Z"
   },
   {
    "duration": 8,
    "start_time": "2023-08-26T03:16:28.189Z"
   },
   {
    "duration": 101,
    "start_time": "2023-08-26T03:16:28.198Z"
   },
   {
    "duration": 4,
    "start_time": "2023-08-26T03:16:28.300Z"
   },
   {
    "duration": 34,
    "start_time": "2023-08-26T03:16:28.306Z"
   },
   {
    "duration": 75663,
    "start_time": "2023-08-26T03:16:28.342Z"
   },
   {
    "duration": 681,
    "start_time": "2023-08-26T03:17:44.007Z"
   },
   {
    "duration": 4,
    "start_time": "2023-08-26T03:17:44.690Z"
   },
   {
    "duration": 5,
    "start_time": "2023-08-26T03:18:22.845Z"
   },
   {
    "duration": 18,
    "start_time": "2023-08-26T03:18:22.852Z"
   },
   {
    "duration": 264,
    "start_time": "2023-08-26T03:18:22.872Z"
   },
   {
    "duration": 4,
    "start_time": "2023-08-26T03:18:23.139Z"
   },
   {
    "duration": 946,
    "start_time": "2023-08-26T03:18:23.145Z"
   },
   {
    "duration": 6,
    "start_time": "2023-08-26T03:18:24.093Z"
   },
   {
    "duration": 4,
    "start_time": "2023-08-26T03:18:24.101Z"
   },
   {
    "duration": 1700,
    "start_time": "2023-08-26T03:18:24.108Z"
   },
   {
    "duration": 152,
    "start_time": "2023-08-26T03:18:25.810Z"
   },
   {
    "duration": 614,
    "start_time": "2023-08-26T03:18:25.980Z"
   },
   {
    "duration": 10,
    "start_time": "2023-08-26T03:18:26.596Z"
   },
   {
    "duration": 1177,
    "start_time": "2023-08-26T03:18:26.608Z"
   },
   {
    "duration": 1100,
    "start_time": "2023-08-26T03:18:27.787Z"
   },
   {
    "duration": 3,
    "start_time": "2023-08-26T03:18:28.889Z"
   },
   {
    "duration": 7,
    "start_time": "2023-08-26T03:18:28.893Z"
   },
   {
    "duration": 7,
    "start_time": "2023-08-26T03:18:28.901Z"
   },
   {
    "duration": 14,
    "start_time": "2023-08-26T03:18:28.910Z"
   },
   {
    "duration": 20,
    "start_time": "2023-08-26T03:18:28.926Z"
   },
   {
    "duration": 208,
    "start_time": "2023-08-26T03:18:28.948Z"
   },
   {
    "duration": 168,
    "start_time": "2023-08-26T03:18:29.158Z"
   },
   {
    "duration": 317,
    "start_time": "2023-08-26T03:18:29.328Z"
   },
   {
    "duration": 36,
    "start_time": "2023-08-26T03:18:29.682Z"
   },
   {
    "duration": 23,
    "start_time": "2023-08-26T03:18:29.720Z"
   },
   {
    "duration": 54,
    "start_time": "2023-08-26T03:18:29.745Z"
   },
   {
    "duration": 309,
    "start_time": "2023-08-26T03:18:29.803Z"
   },
   {
    "duration": 90,
    "start_time": "2023-08-26T03:18:30.114Z"
   },
   {
    "duration": 298,
    "start_time": "2023-08-26T03:18:30.206Z"
   },
   {
    "duration": 299,
    "start_time": "2023-08-26T03:18:30.506Z"
   },
   {
    "duration": 4,
    "start_time": "2023-08-26T03:18:30.807Z"
   },
   {
    "duration": 1506,
    "start_time": "2023-08-26T03:18:30.813Z"
   },
   {
    "duration": 1927,
    "start_time": "2023-08-26T03:18:32.385Z"
   },
   {
    "duration": 9,
    "start_time": "2023-08-26T03:18:34.314Z"
   },
   {
    "duration": 60,
    "start_time": "2023-08-26T03:18:34.325Z"
   },
   {
    "duration": 1016,
    "start_time": "2023-08-26T03:18:34.387Z"
   },
   {
    "duration": 421,
    "start_time": "2023-08-26T03:18:35.405Z"
   },
   {
    "duration": 9,
    "start_time": "2023-08-26T03:18:35.827Z"
   },
   {
    "duration": 68,
    "start_time": "2023-08-26T03:18:35.837Z"
   },
   {
    "duration": 4,
    "start_time": "2023-08-26T03:18:35.906Z"
   },
   {
    "duration": 22,
    "start_time": "2023-08-26T03:18:35.911Z"
   },
   {
    "duration": 53186,
    "start_time": "2023-08-26T03:18:35.935Z"
   },
   {
    "duration": 420,
    "start_time": "2023-08-26T03:19:29.123Z"
   },
   {
    "duration": 3,
    "start_time": "2023-08-26T03:19:29.581Z"
   },
   {
    "duration": 149282,
    "start_time": "2023-08-26T03:19:32.621Z"
   },
   {
    "duration": 1194,
    "start_time": "2023-08-26T03:24:01.955Z"
   },
   {
    "duration": 8,
    "start_time": "2023-08-26T03:24:05.524Z"
   },
   {
    "duration": 697,
    "start_time": "2023-08-26T03:24:05.765Z"
   },
   {
    "duration": 5,
    "start_time": "2023-08-26T03:26:39.948Z"
   },
   {
    "duration": 20,
    "start_time": "2023-08-26T03:26:39.956Z"
   },
   {
    "duration": 233,
    "start_time": "2023-08-26T03:26:39.979Z"
   },
   {
    "duration": 4,
    "start_time": "2023-08-26T03:26:40.214Z"
   },
   {
    "duration": 794,
    "start_time": "2023-08-26T03:26:40.221Z"
   },
   {
    "duration": 65,
    "start_time": "2023-08-26T03:26:41.017Z"
   },
   {
    "duration": 4,
    "start_time": "2023-08-26T03:26:41.084Z"
   },
   {
    "duration": 1268,
    "start_time": "2023-08-26T03:26:41.090Z"
   },
   {
    "duration": 184,
    "start_time": "2023-08-26T03:26:42.361Z"
   },
   {
    "duration": 344,
    "start_time": "2023-08-26T03:26:42.547Z"
   },
   {
    "duration": 10,
    "start_time": "2023-08-26T03:26:42.893Z"
   },
   {
    "duration": 962,
    "start_time": "2023-08-26T03:26:42.905Z"
   },
   {
    "duration": 1045,
    "start_time": "2023-08-26T03:26:43.869Z"
   },
   {
    "duration": 6,
    "start_time": "2023-08-26T03:26:44.917Z"
   },
   {
    "duration": 591,
    "start_time": "2023-08-26T03:26:44.925Z"
   },
   {
    "duration": 8,
    "start_time": "2023-08-26T03:26:45.518Z"
   },
   {
    "duration": 5,
    "start_time": "2023-08-26T03:26:45.528Z"
   },
   {
    "duration": 12,
    "start_time": "2023-08-26T03:26:45.536Z"
   },
   {
    "duration": 172,
    "start_time": "2023-08-26T03:26:45.550Z"
   },
   {
    "duration": 166,
    "start_time": "2023-08-26T03:26:45.725Z"
   },
   {
    "duration": 346,
    "start_time": "2023-08-26T03:26:45.893Z"
   },
   {
    "duration": 75,
    "start_time": "2023-08-26T03:26:46.242Z"
   },
   {
    "duration": 32,
    "start_time": "2023-08-26T03:26:46.319Z"
   },
   {
    "duration": 46,
    "start_time": "2023-08-26T03:26:46.353Z"
   },
   {
    "duration": 202,
    "start_time": "2023-08-26T03:26:46.400Z"
   },
   {
    "duration": 20,
    "start_time": "2023-08-26T03:26:46.604Z"
   },
   {
    "duration": 268,
    "start_time": "2023-08-26T03:26:46.625Z"
   },
   {
    "duration": 218,
    "start_time": "2023-08-26T03:26:46.895Z"
   },
   {
    "duration": 3,
    "start_time": "2023-08-26T03:26:47.115Z"
   },
   {
    "duration": 1503,
    "start_time": "2023-08-26T03:26:47.120Z"
   },
   {
    "duration": 61,
    "start_time": "2023-08-26T03:26:48.625Z"
   },
   {
    "duration": 3,
    "start_time": "2023-08-26T03:26:48.688Z"
   },
   {
    "duration": 928,
    "start_time": "2023-08-26T03:26:48.693Z"
   },
   {
    "duration": 509,
    "start_time": "2023-08-26T03:26:49.623Z"
   },
   {
    "duration": 54,
    "start_time": "2023-08-26T03:26:50.134Z"
   },
   {
    "duration": 11,
    "start_time": "2023-08-26T03:26:50.191Z"
   },
   {
    "duration": 11,
    "start_time": "2023-08-26T03:26:50.204Z"
   },
   {
    "duration": 14,
    "start_time": "2023-08-26T03:26:50.217Z"
   },
   {
    "duration": 37874,
    "start_time": "2023-08-26T03:26:50.233Z"
   },
   {
    "duration": 475,
    "start_time": "2023-08-26T03:27:28.109Z"
   },
   {
    "duration": 998,
    "start_time": "2023-08-26T03:27:28.589Z"
   },
   {
    "duration": 5,
    "start_time": "2023-08-26T03:39:49.193Z"
   },
   {
    "duration": 8,
    "start_time": "2023-08-26T03:39:51.927Z"
   },
   {
    "duration": 8,
    "start_time": "2023-08-26T03:39:52.118Z"
   },
   {
    "duration": 3,
    "start_time": "2023-08-26T03:39:52.460Z"
   },
   {
    "duration": 8,
    "start_time": "2023-08-26T03:39:53.161Z"
   },
   {
    "duration": 93,
    "start_time": "2023-08-26T03:39:53.744Z"
   },
   {
    "duration": 21,
    "start_time": "2023-08-26T03:39:54.115Z"
   },
   {
    "duration": 9,
    "start_time": "2023-08-26T03:40:03.206Z"
   },
   {
    "duration": 8,
    "start_time": "2023-08-26T03:40:03.629Z"
   },
   {
    "duration": 8,
    "start_time": "2023-08-26T03:40:03.918Z"
   },
   {
    "duration": 4,
    "start_time": "2023-08-26T03:40:04.710Z"
   },
   {
    "duration": 7,
    "start_time": "2023-08-26T03:40:05.723Z"
   },
   {
    "duration": 11,
    "start_time": "2023-08-26T03:40:06.233Z"
   },
   {
    "duration": 5,
    "start_time": "2023-08-26T03:40:10.700Z"
   },
   {
    "duration": 398,
    "start_time": "2023-08-26T03:40:10.706Z"
   },
   {
    "duration": 369,
    "start_time": "2023-08-26T03:40:11.106Z"
   },
   {
    "duration": 4,
    "start_time": "2023-08-26T03:40:11.478Z"
   },
   {
    "duration": 639,
    "start_time": "2023-08-26T03:40:11.483Z"
   },
   {
    "duration": 5,
    "start_time": "2023-08-26T03:40:12.124Z"
   },
   {
    "duration": 22,
    "start_time": "2023-08-26T03:40:12.131Z"
   },
   {
    "duration": 1501,
    "start_time": "2023-08-26T03:40:12.155Z"
   },
   {
    "duration": 143,
    "start_time": "2023-08-26T03:40:13.662Z"
   },
   {
    "duration": 219,
    "start_time": "2023-08-26T03:40:13.807Z"
   },
   {
    "duration": 9,
    "start_time": "2023-08-26T03:40:14.028Z"
   },
   {
    "duration": 1014,
    "start_time": "2023-08-26T03:40:14.039Z"
   },
   {
    "duration": 1106,
    "start_time": "2023-08-26T03:40:15.055Z"
   },
   {
    "duration": 6,
    "start_time": "2023-08-26T03:40:16.163Z"
   },
   {
    "duration": 690,
    "start_time": "2023-08-26T03:40:16.181Z"
   },
   {
    "duration": 21,
    "start_time": "2023-08-26T03:40:16.873Z"
   },
   {
    "duration": 4,
    "start_time": "2023-08-26T03:40:16.895Z"
   },
   {
    "duration": 11,
    "start_time": "2023-08-26T03:40:16.900Z"
   },
   {
    "duration": 158,
    "start_time": "2023-08-26T03:40:16.913Z"
   },
   {
    "duration": 115,
    "start_time": "2023-08-26T03:40:17.073Z"
   },
   {
    "duration": 223,
    "start_time": "2023-08-26T03:40:17.193Z"
   },
   {
    "duration": 28,
    "start_time": "2023-08-26T03:40:17.418Z"
   },
   {
    "duration": 57,
    "start_time": "2023-08-26T03:40:17.447Z"
   },
   {
    "duration": 19,
    "start_time": "2023-08-26T03:40:17.508Z"
   },
   {
    "duration": 214,
    "start_time": "2023-08-26T03:40:17.529Z"
   },
   {
    "duration": 47,
    "start_time": "2023-08-26T03:40:17.744Z"
   },
   {
    "duration": 153,
    "start_time": "2023-08-26T03:40:17.793Z"
   },
   {
    "duration": 176,
    "start_time": "2023-08-26T03:40:17.948Z"
   },
   {
    "duration": 4,
    "start_time": "2023-08-26T03:40:18.125Z"
   },
   {
    "duration": 1774,
    "start_time": "2023-08-26T03:40:18.131Z"
   },
   {
    "duration": 8,
    "start_time": "2023-08-26T03:40:19.906Z"
   },
   {
    "duration": 4,
    "start_time": "2023-08-26T03:40:19.916Z"
   },
   {
    "duration": 1037,
    "start_time": "2023-08-26T03:40:19.922Z"
   },
   {
    "duration": 377,
    "start_time": "2023-08-26T03:40:20.961Z"
   },
   {
    "duration": 11,
    "start_time": "2023-08-26T03:40:21.382Z"
   },
   {
    "duration": 8,
    "start_time": "2023-08-26T03:40:21.395Z"
   },
   {
    "duration": 5,
    "start_time": "2023-08-26T03:40:21.405Z"
   },
   {
    "duration": 13,
    "start_time": "2023-08-26T03:40:21.411Z"
   },
   {
    "duration": 65707,
    "start_time": "2023-08-26T03:40:21.425Z"
   },
   {
    "duration": 406,
    "start_time": "2023-08-26T03:41:27.134Z"
   },
   {
    "duration": 1001,
    "start_time": "2023-08-26T03:41:27.542Z"
   },
   {
    "duration": 6,
    "start_time": "2023-08-26T03:47:24.104Z"
   },
   {
    "duration": 57,
    "start_time": "2023-08-26T03:48:15.119Z"
   },
   {
    "duration": 26,
    "start_time": "2023-08-26T03:48:16.566Z"
   },
   {
    "duration": 8,
    "start_time": "2023-08-26T03:48:24.498Z"
   },
   {
    "duration": 9,
    "start_time": "2023-08-26T03:48:24.997Z"
   },
   {
    "duration": 21,
    "start_time": "2023-08-26T03:48:25.477Z"
   },
   {
    "duration": 8,
    "start_time": "2023-08-26T03:48:32.055Z"
   },
   {
    "duration": 16,
    "start_time": "2023-08-26T03:48:33.923Z"
   },
   {
    "duration": 9,
    "start_time": "2023-08-26T03:48:39.804Z"
   },
   {
    "duration": 376,
    "start_time": "2023-08-26T03:48:39.815Z"
   },
   {
    "duration": 402,
    "start_time": "2023-08-26T03:48:40.193Z"
   },
   {
    "duration": 5,
    "start_time": "2023-08-26T03:48:40.597Z"
   },
   {
    "duration": 563,
    "start_time": "2023-08-26T03:48:40.603Z"
   },
   {
    "duration": 20,
    "start_time": "2023-08-26T03:48:41.168Z"
   },
   {
    "duration": 4,
    "start_time": "2023-08-26T03:48:41.190Z"
   },
   {
    "duration": 1054,
    "start_time": "2023-08-26T03:48:41.196Z"
   },
   {
    "duration": 166,
    "start_time": "2023-08-26T03:48:42.254Z"
   },
   {
    "duration": 277,
    "start_time": "2023-08-26T03:48:42.422Z"
   },
   {
    "duration": 9,
    "start_time": "2023-08-26T03:48:42.701Z"
   },
   {
    "duration": 965,
    "start_time": "2023-08-26T03:48:42.712Z"
   },
   {
    "duration": 1021,
    "start_time": "2023-08-26T03:48:43.679Z"
   },
   {
    "duration": 7,
    "start_time": "2023-08-26T03:48:44.702Z"
   },
   {
    "duration": 608,
    "start_time": "2023-08-26T03:48:44.710Z"
   },
   {
    "duration": 7,
    "start_time": "2023-08-26T03:48:45.320Z"
   },
   {
    "duration": 17,
    "start_time": "2023-08-26T03:48:45.329Z"
   },
   {
    "duration": 19,
    "start_time": "2023-08-26T03:48:45.348Z"
   },
   {
    "duration": 135,
    "start_time": "2023-08-26T03:48:45.369Z"
   },
   {
    "duration": 114,
    "start_time": "2023-08-26T03:48:45.506Z"
   },
   {
    "duration": 192,
    "start_time": "2023-08-26T03:48:45.622Z"
   },
   {
    "duration": 22,
    "start_time": "2023-08-26T03:48:45.816Z"
   },
   {
    "duration": 53,
    "start_time": "2023-08-26T03:48:45.840Z"
   },
   {
    "duration": 19,
    "start_time": "2023-08-26T03:48:45.897Z"
   },
   {
    "duration": 216,
    "start_time": "2023-08-26T03:48:45.918Z"
   },
   {
    "duration": 17,
    "start_time": "2023-08-26T03:48:46.135Z"
   },
   {
    "duration": 211,
    "start_time": "2023-08-26T03:48:46.153Z"
   },
   {
    "duration": 150,
    "start_time": "2023-08-26T03:48:46.366Z"
   },
   {
    "duration": 3,
    "start_time": "2023-08-26T03:48:46.518Z"
   },
   {
    "duration": 1800,
    "start_time": "2023-08-26T03:48:46.523Z"
   },
   {
    "duration": 7,
    "start_time": "2023-08-26T03:48:48.324Z"
   },
   {
    "duration": 61,
    "start_time": "2023-08-26T03:48:48.333Z"
   },
   {
    "duration": 9224,
    "start_time": "2023-08-26T03:48:48.396Z"
   },
   {
    "duration": 868,
    "start_time": "2023-08-26T03:48:57.622Z"
   },
   {
    "duration": 7,
    "start_time": "2023-08-26T03:48:58.495Z"
   },
   {
    "duration": 20,
    "start_time": "2023-08-26T03:48:58.504Z"
   },
   {
    "duration": 4,
    "start_time": "2023-08-26T03:48:58.526Z"
   },
   {
    "duration": 9,
    "start_time": "2023-08-26T03:48:58.531Z"
   },
   {
    "duration": 65165,
    "start_time": "2023-08-26T03:48:58.541Z"
   },
   {
    "duration": 406,
    "start_time": "2023-08-26T03:50:03.707Z"
   },
   {
    "duration": 3,
    "start_time": "2023-08-26T03:50:04.114Z"
   },
   {
    "duration": 8,
    "start_time": "2023-08-26T03:50:16.162Z"
   },
   {
    "duration": 9,
    "start_time": "2023-08-26T03:50:16.671Z"
   },
   {
    "duration": 10,
    "start_time": "2023-08-26T03:50:17.564Z"
   },
   {
    "duration": 101,
    "start_time": "2023-08-26T03:50:59.180Z"
   },
   {
    "duration": 3,
    "start_time": "2023-08-26T03:51:18.632Z"
   },
   {
    "duration": 7,
    "start_time": "2023-08-26T03:51:26.035Z"
   },
   {
    "duration": 246733,
    "start_time": "2023-08-26T03:51:26.517Z"
   },
   {
    "duration": 434,
    "start_time": "2023-08-26T03:55:33.252Z"
   },
   {
    "duration": 7,
    "start_time": "2023-08-26T03:56:07.011Z"
   },
   {
    "duration": 166,
    "start_time": "2023-08-26T03:56:07.339Z"
   },
   {
    "duration": 78,
    "start_time": "2023-08-26T03:56:22.456Z"
   },
   {
    "duration": 4,
    "start_time": "2023-08-26T03:56:37.223Z"
   },
   {
    "duration": 138,
    "start_time": "2023-08-26T03:56:48.374Z"
   },
   {
    "duration": 4,
    "start_time": "2023-08-26T03:56:54.277Z"
   },
   {
    "duration": 17,
    "start_time": "2023-08-26T03:56:54.283Z"
   },
   {
    "duration": 229,
    "start_time": "2023-08-26T03:56:54.302Z"
   },
   {
    "duration": 4,
    "start_time": "2023-08-26T03:56:54.533Z"
   },
   {
    "duration": 471,
    "start_time": "2023-08-26T03:56:54.538Z"
   },
   {
    "duration": 5,
    "start_time": "2023-08-26T03:56:55.010Z"
   },
   {
    "duration": 11,
    "start_time": "2023-08-26T03:56:55.016Z"
   },
   {
    "duration": 901,
    "start_time": "2023-08-26T03:56:55.029Z"
   },
   {
    "duration": 118,
    "start_time": "2023-08-26T03:56:55.933Z"
   },
   {
    "duration": 190,
    "start_time": "2023-08-26T03:56:56.053Z"
   },
   {
    "duration": 8,
    "start_time": "2023-08-26T03:56:56.245Z"
   },
   {
    "duration": 856,
    "start_time": "2023-08-26T03:56:56.256Z"
   },
   {
    "duration": 1026,
    "start_time": "2023-08-26T03:56:57.114Z"
   },
   {
    "duration": 8,
    "start_time": "2023-08-26T03:56:58.142Z"
   },
   {
    "duration": 546,
    "start_time": "2023-08-26T03:56:58.152Z"
   },
   {
    "duration": 6,
    "start_time": "2023-08-26T03:56:58.700Z"
   },
   {
    "duration": 7,
    "start_time": "2023-08-26T03:56:58.707Z"
   },
   {
    "duration": 9,
    "start_time": "2023-08-26T03:56:58.716Z"
   },
   {
    "duration": 127,
    "start_time": "2023-08-26T03:56:58.727Z"
   },
   {
    "duration": 116,
    "start_time": "2023-08-26T03:56:58.856Z"
   },
   {
    "duration": 173,
    "start_time": "2023-08-26T03:56:58.974Z"
   },
   {
    "duration": 59,
    "start_time": "2023-08-26T03:56:59.149Z"
   },
   {
    "duration": 34,
    "start_time": "2023-08-26T03:56:59.210Z"
   },
   {
    "duration": 44,
    "start_time": "2023-08-26T03:56:59.248Z"
   },
   {
    "duration": 192,
    "start_time": "2023-08-26T03:56:59.294Z"
   },
   {
    "duration": 19,
    "start_time": "2023-08-26T03:56:59.488Z"
   },
   {
    "duration": 152,
    "start_time": "2023-08-26T03:56:59.509Z"
   },
   {
    "duration": 130,
    "start_time": "2023-08-26T03:56:59.663Z"
   },
   {
    "duration": 3,
    "start_time": "2023-08-26T03:56:59.795Z"
   },
   {
    "duration": 7718,
    "start_time": "2023-08-26T03:56:59.800Z"
   },
   {
    "duration": 7,
    "start_time": "2023-08-26T03:57:07.520Z"
   },
   {
    "duration": 5,
    "start_time": "2023-08-26T03:57:07.529Z"
   },
   {
    "duration": 6782,
    "start_time": "2023-08-26T03:57:07.536Z"
   },
   {
    "duration": 398,
    "start_time": "2023-08-26T03:57:14.320Z"
   },
   {
    "duration": 7,
    "start_time": "2023-08-26T03:57:14.720Z"
   },
   {
    "duration": 9,
    "start_time": "2023-08-26T03:57:14.728Z"
   },
   {
    "duration": 42,
    "start_time": "2023-08-26T03:57:14.739Z"
   },
   {
    "duration": 15,
    "start_time": "2023-08-26T03:57:14.783Z"
   },
   {
    "duration": 230421,
    "start_time": "2023-08-26T03:57:14.799Z"
   },
   {
    "duration": 415,
    "start_time": "2023-08-26T04:01:05.222Z"
   },
   {
    "duration": 3,
    "start_time": "2023-08-26T04:01:05.639Z"
   },
   {
    "duration": 8,
    "start_time": "2023-08-26T04:04:09.473Z"
   },
   {
    "duration": 3,
    "start_time": "2023-08-26T04:04:09.640Z"
   },
   {
    "duration": 9,
    "start_time": "2023-08-26T04:04:09.923Z"
   },
   {
    "duration": 7,
    "start_time": "2023-08-26T04:04:10.651Z"
   },
   {
    "duration": 1387,
    "start_time": "2023-08-26T04:06:30.542Z"
   },
   {
    "duration": 16856,
    "start_time": "2023-08-26T04:06:31.931Z"
   },
   {
    "duration": 10013,
    "start_time": "2023-08-26T04:06:48.790Z"
   },
   {
    "duration": 88,
    "start_time": "2023-08-26T04:06:58.804Z"
   },
   {
    "duration": 5394,
    "start_time": "2023-08-26T04:06:58.895Z"
   },
   {
    "duration": 5,
    "start_time": "2023-08-26T04:07:04.292Z"
   },
   {
    "duration": 11,
    "start_time": "2023-08-26T04:07:04.299Z"
   },
   {
    "duration": 4770,
    "start_time": "2023-08-26T04:07:04.312Z"
   },
   {
    "duration": 422,
    "start_time": "2023-08-26T04:07:09.084Z"
   },
   {
    "duration": 590,
    "start_time": "2023-08-26T04:07:09.508Z"
   },
   {
    "duration": 89,
    "start_time": "2023-08-26T04:07:10.101Z"
   },
   {
    "duration": 2894,
    "start_time": "2023-08-26T04:07:10.192Z"
   },
   {
    "duration": 1718,
    "start_time": "2023-08-26T04:07:13.088Z"
   },
   {
    "duration": 11,
    "start_time": "2023-08-26T04:07:14.810Z"
   },
   {
    "duration": 882,
    "start_time": "2023-08-26T04:07:14.823Z"
   },
   {
    "duration": 7,
    "start_time": "2023-08-26T04:07:15.707Z"
   },
   {
    "duration": 4,
    "start_time": "2023-08-26T04:07:15.716Z"
   },
   {
    "duration": 48,
    "start_time": "2023-08-26T04:07:15.722Z"
   },
   {
    "duration": 929,
    "start_time": "2023-08-26T04:07:15.772Z"
   },
   {
    "duration": 386,
    "start_time": "2023-08-26T04:07:16.703Z"
   },
   {
    "duration": 1694,
    "start_time": "2023-08-26T04:07:17.091Z"
   },
   {
    "duration": 423,
    "start_time": "2023-08-26T04:07:18.787Z"
   },
   {
    "duration": 169,
    "start_time": "2023-08-26T04:07:19.212Z"
   },
   {
    "duration": 97,
    "start_time": "2023-08-26T04:07:19.384Z"
   },
   {
    "duration": 1214,
    "start_time": "2023-08-26T04:07:19.483Z"
   },
   {
    "duration": 99,
    "start_time": "2023-08-26T04:07:20.699Z"
   },
   {
    "duration": 705,
    "start_time": "2023-08-26T04:07:20.801Z"
   },
   {
    "duration": 674,
    "start_time": "2023-08-26T04:07:21.508Z"
   },
   {
    "duration": 7,
    "start_time": "2023-08-26T04:07:22.184Z"
   },
   {
    "duration": 327,
    "start_time": "2023-08-26T04:07:22.193Z"
   },
   {
    "duration": 0,
    "start_time": "2023-08-26T04:07:22.522Z"
   },
   {
    "duration": 0,
    "start_time": "2023-08-26T04:07:22.523Z"
   },
   {
    "duration": 0,
    "start_time": "2023-08-26T04:07:22.581Z"
   },
   {
    "duration": 0,
    "start_time": "2023-08-26T04:07:22.583Z"
   },
   {
    "duration": 0,
    "start_time": "2023-08-26T04:07:22.585Z"
   },
   {
    "duration": 0,
    "start_time": "2023-08-26T04:07:22.587Z"
   },
   {
    "duration": 0,
    "start_time": "2023-08-26T04:07:22.588Z"
   },
   {
    "duration": 0,
    "start_time": "2023-08-26T04:07:22.589Z"
   },
   {
    "duration": 0,
    "start_time": "2023-08-26T04:07:22.590Z"
   },
   {
    "duration": 0,
    "start_time": "2023-08-26T04:07:22.591Z"
   },
   {
    "duration": 0,
    "start_time": "2023-08-26T04:07:22.592Z"
   },
   {
    "duration": 4,
    "start_time": "2023-08-26T04:07:38.725Z"
   },
   {
    "duration": 20795,
    "start_time": "2023-08-26T04:07:39.217Z"
   },
   {
    "duration": 74,
    "start_time": "2023-08-26T04:08:00.015Z"
   },
   {
    "duration": 89,
    "start_time": "2023-08-26T04:08:00.092Z"
   },
   {
    "duration": 13307,
    "start_time": "2023-08-26T04:08:00.184Z"
   },
   {
    "duration": 1314,
    "start_time": "2023-08-26T04:08:13.493Z"
   },
   {
    "duration": 80,
    "start_time": "2023-08-26T04:08:14.809Z"
   },
   {
    "duration": 4,
    "start_time": "2023-08-26T04:08:14.892Z"
   },
   {
    "duration": 8,
    "start_time": "2023-08-26T04:08:14.898Z"
   },
   {
    "duration": 15,
    "start_time": "2023-08-26T04:08:14.907Z"
   },
   {
    "duration": 337546,
    "start_time": "2023-08-26T04:08:15.180Z"
   },
   {
    "duration": 607,
    "start_time": "2023-08-26T04:13:52.728Z"
   },
   {
    "duration": 956,
    "start_time": "2023-08-26T04:13:53.381Z"
   }
  ],
  "colab": {
   "name": "PySparkSprint.ipynb",
   "provenance": []
  },
  "kernelspec": {
   "display_name": "Python 3 (ipykernel)",
   "language": "python",
   "name": "python3"
  },
  "language_info": {
   "codemirror_mode": {
    "name": "ipython",
    "version": 3
   },
   "file_extension": ".py",
   "mimetype": "text/x-python",
   "name": "python",
   "nbconvert_exporter": "python",
   "pygments_lexer": "ipython3",
   "version": "3.9.5"
  },
  "toc": {
   "base_numbering": 1,
   "nav_menu": {},
   "number_sections": true,
   "sideBar": true,
   "skip_h1_title": true,
   "title_cell": "Table of Contents",
   "title_sidebar": "Contents",
   "toc_cell": false,
   "toc_position": {},
   "toc_section_display": true,
   "toc_window_display": false
  }
 },
 "nbformat": 4,
 "nbformat_minor": 5
}
