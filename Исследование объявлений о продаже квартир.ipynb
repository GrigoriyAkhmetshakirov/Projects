{
 "cells": [
  {
   "cell_type": "markdown",
   "metadata": {},
   "source": [
    "# Исследование объявлений о продаже квартир\n",
    "\n",
    "В нашем распоряжении данные сервиса Яндекс.Недвижимость — архив объявлений о продаже квартир в Санкт-Петербурге и соседних населённых пунктов за несколько лет. Нужно научиться определять рыночную стоимость объектов недвижимости. Задача — установить параметры. Это позволит построить автоматизированную систему: она отследит аномалии и мошенническую деятельность. \n",
    "\n",
    "По каждой квартире на продажу доступны два вида данных. Первые вписаны пользователем, вторые — получены автоматически на основе картографических данных. Например, расстояние до центра, аэропорта, ближайшего парка и водоёма. "
   ]
  },
  {
   "cell_type": "markdown",
   "metadata": {},
   "source": [
    "### Открываем файл с данными и изучим общую информацию"
   ]
  },
  {
   "cell_type": "code",
   "execution_count": 1,
   "metadata": {},
   "outputs": [],
   "source": [
    "import pandas as pd\n",
    "pd.options.display.float_format = '{:,.1f}'.format\n",
    "pd.options.mode.chained_assignment = None\n",
    "\n",
    "from pymystem3 import Mystem\n",
    "m = Mystem()"
   ]
  },
  {
   "cell_type": "code",
   "execution_count": 2,
   "metadata": {},
   "outputs": [],
   "source": [
    "df = pd.read_csv('/datasets/real_estate_data.csv', sep='\\t')"
   ]
  },
  {
   "cell_type": "code",
   "execution_count": 3,
   "metadata": {},
   "outputs": [
    {
     "data": {
      "text/html": [
       "<div>\n",
       "<style scoped>\n",
       "    .dataframe tbody tr th:only-of-type {\n",
       "        vertical-align: middle;\n",
       "    }\n",
       "\n",
       "    .dataframe tbody tr th {\n",
       "        vertical-align: top;\n",
       "    }\n",
       "\n",
       "    .dataframe thead th {\n",
       "        text-align: right;\n",
       "    }\n",
       "</style>\n",
       "<table border=\"1\" class=\"dataframe\">\n",
       "  <thead>\n",
       "    <tr style=\"text-align: right;\">\n",
       "      <th></th>\n",
       "      <th>total_images</th>\n",
       "      <th>last_price</th>\n",
       "      <th>total_area</th>\n",
       "      <th>first_day_exposition</th>\n",
       "      <th>rooms</th>\n",
       "      <th>ceiling_height</th>\n",
       "      <th>floors_total</th>\n",
       "      <th>living_area</th>\n",
       "      <th>floor</th>\n",
       "      <th>is_apartment</th>\n",
       "      <th>...</th>\n",
       "      <th>kitchen_area</th>\n",
       "      <th>balcony</th>\n",
       "      <th>locality_name</th>\n",
       "      <th>airports_nearest</th>\n",
       "      <th>cityCenters_nearest</th>\n",
       "      <th>parks_around3000</th>\n",
       "      <th>parks_nearest</th>\n",
       "      <th>ponds_around3000</th>\n",
       "      <th>ponds_nearest</th>\n",
       "      <th>days_exposition</th>\n",
       "    </tr>\n",
       "  </thead>\n",
       "  <tbody>\n",
       "    <tr>\n",
       "      <th>0</th>\n",
       "      <td>20</td>\n",
       "      <td>13,000,000.0</td>\n",
       "      <td>108.0</td>\n",
       "      <td>2019-03-07T00:00:00</td>\n",
       "      <td>3</td>\n",
       "      <td>2.7</td>\n",
       "      <td>16.0</td>\n",
       "      <td>51.0</td>\n",
       "      <td>8</td>\n",
       "      <td>NaN</td>\n",
       "      <td>...</td>\n",
       "      <td>25.0</td>\n",
       "      <td>NaN</td>\n",
       "      <td>Санкт-Петербург</td>\n",
       "      <td>18,863.0</td>\n",
       "      <td>16,028.0</td>\n",
       "      <td>1.0</td>\n",
       "      <td>482.0</td>\n",
       "      <td>2.0</td>\n",
       "      <td>755.0</td>\n",
       "      <td>NaN</td>\n",
       "    </tr>\n",
       "    <tr>\n",
       "      <th>1</th>\n",
       "      <td>7</td>\n",
       "      <td>3,350,000.0</td>\n",
       "      <td>40.4</td>\n",
       "      <td>2018-12-04T00:00:00</td>\n",
       "      <td>1</td>\n",
       "      <td>NaN</td>\n",
       "      <td>11.0</td>\n",
       "      <td>18.6</td>\n",
       "      <td>1</td>\n",
       "      <td>NaN</td>\n",
       "      <td>...</td>\n",
       "      <td>11.0</td>\n",
       "      <td>2.0</td>\n",
       "      <td>посёлок Шушары</td>\n",
       "      <td>12,817.0</td>\n",
       "      <td>18,603.0</td>\n",
       "      <td>0.0</td>\n",
       "      <td>NaN</td>\n",
       "      <td>0.0</td>\n",
       "      <td>NaN</td>\n",
       "      <td>81.0</td>\n",
       "    </tr>\n",
       "    <tr>\n",
       "      <th>2</th>\n",
       "      <td>10</td>\n",
       "      <td>5,196,000.0</td>\n",
       "      <td>56.0</td>\n",
       "      <td>2015-08-20T00:00:00</td>\n",
       "      <td>2</td>\n",
       "      <td>NaN</td>\n",
       "      <td>5.0</td>\n",
       "      <td>34.3</td>\n",
       "      <td>4</td>\n",
       "      <td>NaN</td>\n",
       "      <td>...</td>\n",
       "      <td>8.3</td>\n",
       "      <td>0.0</td>\n",
       "      <td>Санкт-Петербург</td>\n",
       "      <td>21,741.0</td>\n",
       "      <td>13,933.0</td>\n",
       "      <td>1.0</td>\n",
       "      <td>90.0</td>\n",
       "      <td>2.0</td>\n",
       "      <td>574.0</td>\n",
       "      <td>558.0</td>\n",
       "    </tr>\n",
       "    <tr>\n",
       "      <th>3</th>\n",
       "      <td>0</td>\n",
       "      <td>64,900,000.0</td>\n",
       "      <td>159.0</td>\n",
       "      <td>2015-07-24T00:00:00</td>\n",
       "      <td>3</td>\n",
       "      <td>NaN</td>\n",
       "      <td>14.0</td>\n",
       "      <td>NaN</td>\n",
       "      <td>9</td>\n",
       "      <td>NaN</td>\n",
       "      <td>...</td>\n",
       "      <td>NaN</td>\n",
       "      <td>0.0</td>\n",
       "      <td>Санкт-Петербург</td>\n",
       "      <td>28,098.0</td>\n",
       "      <td>6,800.0</td>\n",
       "      <td>2.0</td>\n",
       "      <td>84.0</td>\n",
       "      <td>3.0</td>\n",
       "      <td>234.0</td>\n",
       "      <td>424.0</td>\n",
       "    </tr>\n",
       "    <tr>\n",
       "      <th>4</th>\n",
       "      <td>2</td>\n",
       "      <td>10,000,000.0</td>\n",
       "      <td>100.0</td>\n",
       "      <td>2018-06-19T00:00:00</td>\n",
       "      <td>2</td>\n",
       "      <td>3.0</td>\n",
       "      <td>14.0</td>\n",
       "      <td>32.0</td>\n",
       "      <td>13</td>\n",
       "      <td>NaN</td>\n",
       "      <td>...</td>\n",
       "      <td>41.0</td>\n",
       "      <td>NaN</td>\n",
       "      <td>Санкт-Петербург</td>\n",
       "      <td>31,856.0</td>\n",
       "      <td>8,098.0</td>\n",
       "      <td>2.0</td>\n",
       "      <td>112.0</td>\n",
       "      <td>1.0</td>\n",
       "      <td>48.0</td>\n",
       "      <td>121.0</td>\n",
       "    </tr>\n",
       "    <tr>\n",
       "      <th>5</th>\n",
       "      <td>10</td>\n",
       "      <td>2,890,000.0</td>\n",
       "      <td>30.4</td>\n",
       "      <td>2018-09-10T00:00:00</td>\n",
       "      <td>1</td>\n",
       "      <td>NaN</td>\n",
       "      <td>12.0</td>\n",
       "      <td>14.4</td>\n",
       "      <td>5</td>\n",
       "      <td>NaN</td>\n",
       "      <td>...</td>\n",
       "      <td>9.1</td>\n",
       "      <td>NaN</td>\n",
       "      <td>городской посёлок Янино-1</td>\n",
       "      <td>NaN</td>\n",
       "      <td>NaN</td>\n",
       "      <td>NaN</td>\n",
       "      <td>NaN</td>\n",
       "      <td>NaN</td>\n",
       "      <td>NaN</td>\n",
       "      <td>55.0</td>\n",
       "    </tr>\n",
       "    <tr>\n",
       "      <th>6</th>\n",
       "      <td>6</td>\n",
       "      <td>3,700,000.0</td>\n",
       "      <td>37.3</td>\n",
       "      <td>2017-11-02T00:00:00</td>\n",
       "      <td>1</td>\n",
       "      <td>NaN</td>\n",
       "      <td>26.0</td>\n",
       "      <td>10.6</td>\n",
       "      <td>6</td>\n",
       "      <td>NaN</td>\n",
       "      <td>...</td>\n",
       "      <td>14.4</td>\n",
       "      <td>1.0</td>\n",
       "      <td>посёлок Парголово</td>\n",
       "      <td>52,996.0</td>\n",
       "      <td>19,143.0</td>\n",
       "      <td>0.0</td>\n",
       "      <td>NaN</td>\n",
       "      <td>0.0</td>\n",
       "      <td>NaN</td>\n",
       "      <td>155.0</td>\n",
       "    </tr>\n",
       "    <tr>\n",
       "      <th>7</th>\n",
       "      <td>5</td>\n",
       "      <td>7,915,000.0</td>\n",
       "      <td>71.6</td>\n",
       "      <td>2019-04-18T00:00:00</td>\n",
       "      <td>2</td>\n",
       "      <td>NaN</td>\n",
       "      <td>24.0</td>\n",
       "      <td>NaN</td>\n",
       "      <td>22</td>\n",
       "      <td>NaN</td>\n",
       "      <td>...</td>\n",
       "      <td>18.9</td>\n",
       "      <td>2.0</td>\n",
       "      <td>Санкт-Петербург</td>\n",
       "      <td>23,982.0</td>\n",
       "      <td>11,634.0</td>\n",
       "      <td>0.0</td>\n",
       "      <td>NaN</td>\n",
       "      <td>0.0</td>\n",
       "      <td>NaN</td>\n",
       "      <td>NaN</td>\n",
       "    </tr>\n",
       "    <tr>\n",
       "      <th>8</th>\n",
       "      <td>20</td>\n",
       "      <td>2,900,000.0</td>\n",
       "      <td>33.2</td>\n",
       "      <td>2018-05-23T00:00:00</td>\n",
       "      <td>1</td>\n",
       "      <td>NaN</td>\n",
       "      <td>27.0</td>\n",
       "      <td>15.4</td>\n",
       "      <td>26</td>\n",
       "      <td>NaN</td>\n",
       "      <td>...</td>\n",
       "      <td>8.8</td>\n",
       "      <td>NaN</td>\n",
       "      <td>посёлок Мурино</td>\n",
       "      <td>NaN</td>\n",
       "      <td>NaN</td>\n",
       "      <td>NaN</td>\n",
       "      <td>NaN</td>\n",
       "      <td>NaN</td>\n",
       "      <td>NaN</td>\n",
       "      <td>189.0</td>\n",
       "    </tr>\n",
       "    <tr>\n",
       "      <th>9</th>\n",
       "      <td>18</td>\n",
       "      <td>5,400,000.0</td>\n",
       "      <td>61.0</td>\n",
       "      <td>2017-02-26T00:00:00</td>\n",
       "      <td>3</td>\n",
       "      <td>2.5</td>\n",
       "      <td>9.0</td>\n",
       "      <td>43.6</td>\n",
       "      <td>7</td>\n",
       "      <td>NaN</td>\n",
       "      <td>...</td>\n",
       "      <td>6.5</td>\n",
       "      <td>2.0</td>\n",
       "      <td>Санкт-Петербург</td>\n",
       "      <td>50,898.0</td>\n",
       "      <td>15,008.0</td>\n",
       "      <td>0.0</td>\n",
       "      <td>NaN</td>\n",
       "      <td>0.0</td>\n",
       "      <td>NaN</td>\n",
       "      <td>289.0</td>\n",
       "    </tr>\n",
       "  </tbody>\n",
       "</table>\n",
       "<p>10 rows × 22 columns</p>\n",
       "</div>"
      ],
      "text/plain": [
       "   total_images   last_price  total_area first_day_exposition  rooms  \\\n",
       "0            20 13,000,000.0       108.0  2019-03-07T00:00:00      3   \n",
       "1             7  3,350,000.0        40.4  2018-12-04T00:00:00      1   \n",
       "2            10  5,196,000.0        56.0  2015-08-20T00:00:00      2   \n",
       "3             0 64,900,000.0       159.0  2015-07-24T00:00:00      3   \n",
       "4             2 10,000,000.0       100.0  2018-06-19T00:00:00      2   \n",
       "5            10  2,890,000.0        30.4  2018-09-10T00:00:00      1   \n",
       "6             6  3,700,000.0        37.3  2017-11-02T00:00:00      1   \n",
       "7             5  7,915,000.0        71.6  2019-04-18T00:00:00      2   \n",
       "8            20  2,900,000.0        33.2  2018-05-23T00:00:00      1   \n",
       "9            18  5,400,000.0        61.0  2017-02-26T00:00:00      3   \n",
       "\n",
       "   ceiling_height  floors_total  living_area  floor is_apartment  ...  \\\n",
       "0             2.7          16.0         51.0      8          NaN  ...   \n",
       "1             NaN          11.0         18.6      1          NaN  ...   \n",
       "2             NaN           5.0         34.3      4          NaN  ...   \n",
       "3             NaN          14.0          NaN      9          NaN  ...   \n",
       "4             3.0          14.0         32.0     13          NaN  ...   \n",
       "5             NaN          12.0         14.4      5          NaN  ...   \n",
       "6             NaN          26.0         10.6      6          NaN  ...   \n",
       "7             NaN          24.0          NaN     22          NaN  ...   \n",
       "8             NaN          27.0         15.4     26          NaN  ...   \n",
       "9             2.5           9.0         43.6      7          NaN  ...   \n",
       "\n",
       "   kitchen_area  balcony              locality_name  airports_nearest  \\\n",
       "0          25.0      NaN            Санкт-Петербург          18,863.0   \n",
       "1          11.0      2.0             посёлок Шушары          12,817.0   \n",
       "2           8.3      0.0            Санкт-Петербург          21,741.0   \n",
       "3           NaN      0.0            Санкт-Петербург          28,098.0   \n",
       "4          41.0      NaN            Санкт-Петербург          31,856.0   \n",
       "5           9.1      NaN  городской посёлок Янино-1               NaN   \n",
       "6          14.4      1.0          посёлок Парголово          52,996.0   \n",
       "7          18.9      2.0            Санкт-Петербург          23,982.0   \n",
       "8           8.8      NaN             посёлок Мурино               NaN   \n",
       "9           6.5      2.0            Санкт-Петербург          50,898.0   \n",
       "\n",
       "  cityCenters_nearest  parks_around3000  parks_nearest  ponds_around3000  \\\n",
       "0            16,028.0               1.0          482.0               2.0   \n",
       "1            18,603.0               0.0            NaN               0.0   \n",
       "2            13,933.0               1.0           90.0               2.0   \n",
       "3             6,800.0               2.0           84.0               3.0   \n",
       "4             8,098.0               2.0          112.0               1.0   \n",
       "5                 NaN               NaN            NaN               NaN   \n",
       "6            19,143.0               0.0            NaN               0.0   \n",
       "7            11,634.0               0.0            NaN               0.0   \n",
       "8                 NaN               NaN            NaN               NaN   \n",
       "9            15,008.0               0.0            NaN               0.0   \n",
       "\n",
       "   ponds_nearest  days_exposition  \n",
       "0          755.0              NaN  \n",
       "1            NaN             81.0  \n",
       "2          574.0            558.0  \n",
       "3          234.0            424.0  \n",
       "4           48.0            121.0  \n",
       "5            NaN             55.0  \n",
       "6            NaN            155.0  \n",
       "7            NaN              NaN  \n",
       "8            NaN            189.0  \n",
       "9            NaN            289.0  \n",
       "\n",
       "[10 rows x 22 columns]"
      ]
     },
     "execution_count": 3,
     "metadata": {},
     "output_type": "execute_result"
    }
   ],
   "source": [
    "df.head(10)"
   ]
  },
  {
   "cell_type": "code",
   "execution_count": 4,
   "metadata": {},
   "outputs": [
    {
     "name": "stdout",
     "output_type": "stream",
     "text": [
      "<class 'pandas.core.frame.DataFrame'>\n",
      "RangeIndex: 23699 entries, 0 to 23698\n",
      "Data columns (total 22 columns):\n",
      " #   Column                Non-Null Count  Dtype  \n",
      "---  ------                --------------  -----  \n",
      " 0   total_images          23699 non-null  int64  \n",
      " 1   last_price            23699 non-null  float64\n",
      " 2   total_area            23699 non-null  float64\n",
      " 3   first_day_exposition  23699 non-null  object \n",
      " 4   rooms                 23699 non-null  int64  \n",
      " 5   ceiling_height        14504 non-null  float64\n",
      " 6   floors_total          23613 non-null  float64\n",
      " 7   living_area           21796 non-null  float64\n",
      " 8   floor                 23699 non-null  int64  \n",
      " 9   is_apartment          2775 non-null   object \n",
      " 10  studio                23699 non-null  bool   \n",
      " 11  open_plan             23699 non-null  bool   \n",
      " 12  kitchen_area          21421 non-null  float64\n",
      " 13  balcony               12180 non-null  float64\n",
      " 14  locality_name         23650 non-null  object \n",
      " 15  airports_nearest      18157 non-null  float64\n",
      " 16  cityCenters_nearest   18180 non-null  float64\n",
      " 17  parks_around3000      18181 non-null  float64\n",
      " 18  parks_nearest         8079 non-null   float64\n",
      " 19  ponds_around3000      18181 non-null  float64\n",
      " 20  ponds_nearest         9110 non-null   float64\n",
      " 21  days_exposition       20518 non-null  float64\n",
      "dtypes: bool(2), float64(14), int64(3), object(3)\n",
      "memory usage: 3.7+ MB\n"
     ]
    }
   ],
   "source": [
    "df.info()"
   ]
  },
  {
   "cell_type": "code",
   "execution_count": 5,
   "metadata": {},
   "outputs": [
    {
     "data": {
      "text/plain": [
       "0"
      ]
     },
     "execution_count": 5,
     "metadata": {},
     "output_type": "execute_result"
    }
   ],
   "source": [
    "df.duplicated().sum()"
   ]
  },
  {
   "cell_type": "code",
   "execution_count": 6,
   "metadata": {},
   "outputs": [
    {
     "data": {
      "text/plain": [
       "Index(['total_images', 'last_price', 'total_area', 'first_day_exposition',\n",
       "       'rooms', 'ceiling_height', 'floors_total', 'living_area', 'floor',\n",
       "       'is_apartment', 'studio', 'open_plan', 'kitchen_area', 'balcony',\n",
       "       'locality_name', 'airports_nearest', 'cityCenters_nearest',\n",
       "       'parks_around3000', 'parks_nearest', 'ponds_around3000',\n",
       "       'ponds_nearest', 'days_exposition'],\n",
       "      dtype='object')"
      ]
     },
     "execution_count": 6,
     "metadata": {},
     "output_type": "execute_result"
    }
   ],
   "source": [
    "df.columns"
   ]
  },
  {
   "cell_type": "markdown",
   "metadata": {},
   "source": [
    "Построим общую гистограммы для всех числовых столбцов таблицы."
   ]
  },
  {
   "cell_type": "code",
   "execution_count": 7,
   "metadata": {},
   "outputs": [
    {
     "data": {
      "image/png": "[encoded data removed]",
      "text/plain": [
       "<Figure size 1080x1080 with 20 Axes>"
      ]
     },
     "metadata": {
      "needs_background": "light"
     },
     "output_type": "display_data"
    }
   ],
   "source": [
    "df.select_dtypes(include=['float64', 'int64']).hist(bins=100, figsize=(15, 15));"
   ]
  },
  {
   "cell_type": "markdown",
   "metadata": {},
   "source": [
    "### Предобработка данных"
   ]
  },
  {
   "cell_type": "markdown",
   "metadata": {},
   "source": [
    "#### Анализ пропусков"
   ]
  },
  {
   "cell_type": "markdown",
   "metadata": {},
   "source": [
    "##### Смотрим, где есть пропуски."
   ]
  },
  {
   "cell_type": "code",
   "execution_count": 8,
   "metadata": {},
   "outputs": [
    {
     "data": {
      "text/plain": [
       "total_images                0\n",
       "last_price                  0\n",
       "total_area                  0\n",
       "first_day_exposition        0\n",
       "rooms                       0\n",
       "ceiling_height           9195\n",
       "floors_total               86\n",
       "living_area              1903\n",
       "floor                       0\n",
       "is_apartment            20924\n",
       "studio                      0\n",
       "open_plan                   0\n",
       "kitchen_area             2278\n",
       "balcony                 11519\n",
       "locality_name              49\n",
       "airports_nearest         5542\n",
       "cityCenters_nearest      5519\n",
       "parks_around3000         5518\n",
       "parks_nearest           15620\n",
       "ponds_around3000         5518\n",
       "ponds_nearest           14589\n",
       "days_exposition          3181\n",
       "dtype: int64"
      ]
     },
     "execution_count": 8,
     "metadata": {},
     "output_type": "execute_result"
    }
   ],
   "source": [
    "df.isna().sum()"
   ]
  },
  {
   "cell_type": "markdown",
   "metadata": {},
   "source": [
    "##### Замена пропусков в столбце с высотой потолков. Заменим их на медиану высоты потолков."
   ]
  },
  {
   "cell_type": "code",
   "execution_count": 9,
   "metadata": {},
   "outputs": [
    {
     "data": {
      "text/plain": [
       "0"
      ]
     },
     "execution_count": 9,
     "metadata": {},
     "output_type": "execute_result"
    }
   ],
   "source": [
    "df['ceiling_height'] = df['ceiling_height'].fillna(df['ceiling_height'].median())\n",
    "df['ceiling_height'].isna().sum()"
   ]
  },
  {
   "cell_type": "markdown",
   "metadata": {},
   "source": [
    "##### Замена пропусков в столбце с апартаментами. Вероятне всего, если не указали, что объект это апартамент, то это жилая квартира. Заменим эти значения на False."
   ]
  },
  {
   "cell_type": "code",
   "execution_count": 10,
   "metadata": {},
   "outputs": [
    {
     "data": {
      "text/plain": [
       "0"
      ]
     },
     "execution_count": 10,
     "metadata": {},
     "output_type": "execute_result"
    }
   ],
   "source": [
    "df['is_apartment'] = df['is_apartment'].fillna(False)\n",
    "df['is_apartment'].isna().sum()"
   ]
  },
  {
   "cell_type": "markdown",
   "metadata": {},
   "source": [
    "##### Аналогично поступим со столбцом количества балконов."
   ]
  },
  {
   "cell_type": "code",
   "execution_count": 11,
   "metadata": {},
   "outputs": [
    {
     "data": {
      "text/plain": [
       "0"
      ]
     },
     "execution_count": 11,
     "metadata": {},
     "output_type": "execute_result"
    }
   ],
   "source": [
    "df['balcony'] = df['balcony'].fillna(0)\n",
    "df['balcony'].isna().sum()"
   ]
  },
  {
   "cell_type": "markdown",
   "metadata": {},
   "source": [
    "##### Разберем столбец с расстоянием до ближайшего аэропорта."
   ]
  },
  {
   "cell_type": "code",
   "execution_count": 635,
   "metadata": {},
   "outputs": [
    {
     "data": {
      "text/plain": [
       "array(['городской посёлок Янино-1', 'посёлок Мурино', 'Сертолово',\n",
       "       'деревня Кудрово', 'Коммунар',\n",
       "       'поселок городского типа Красный Бор', 'Гатчина', 'поселок Мурино',\n",
       "       'деревня Фёдоровское', 'Выборг', 'Кировск',\n",
       "       'деревня Новое Девяткино', 'Санкт-Петербург',\n",
       "       'посёлок городского типа Лебяжье',\n",
       "       'посёлок городского типа Сиверский', 'поселок Молодцово',\n",
       "       'поселок городского типа Кузьмоловский',\n",
       "       'садовое товарищество Новая Ропша', 'деревня Пикколово',\n",
       "       'Всеволожск', 'Волхов', 'Кингисепп', 'Приозерск',\n",
       "       'деревня Куттузи', 'посёлок Аннино',\n",
       "       'поселок городского типа Ефимовский', 'посёлок Плодовое',\n",
       "       'деревня Заклинье', 'поселок Торковичи', 'поселок Первомайское',\n",
       "       'Сясьстрой', 'деревня Старая', 'деревня Лесколово',\n",
       "       'посёлок Новый Свет', 'Сланцы', 'село Путилово', 'Ивангород',\n",
       "       'Мурино', 'Шлиссельбург', 'Никольское', 'Сосновый Бор',\n",
       "       'поселок Новый Свет', 'деревня Оржицы', 'деревня Кальтино',\n",
       "       'Кудрово', 'поселок Романовка', 'посёлок Бугры', 'поселок Бугры',\n",
       "       'поселок городского типа Рощино', 'Кириши', 'Луга', 'Волосово',\n",
       "       'Отрадное', 'село Павлово', 'поселок Оредеж', 'село Копорье',\n",
       "       'посёлок городского типа Красный Бор', 'Тихвин', 'посёлок Победа',\n",
       "       'деревня Нурма', 'поселок городского типа Синявино',\n",
       "       'посёлок Шушары', 'Тосно', 'посёлок городского типа Кузьмоловский',\n",
       "       'Бокситогорск', 'деревня Лопухинка', 'Пикалёво',\n",
       "       'поселок Терволово', 'поселок городского типа Советский',\n",
       "       'Подпорожье', 'посёлок Петровское',\n",
       "       'посёлок городского типа Токсово', 'поселок Сельцо',\n",
       "       'посёлок городского типа Вырица', 'деревня Кипень',\n",
       "       'деревня Келози', 'деревня Вартемяги', 'посёлок Тельмана',\n",
       "       'поселок Севастьяново', 'городской поселок Большая Ижора',\n",
       "       'городской посёлок Павлово', 'деревня Агалатово',\n",
       "       'посёлок Новогорелово', 'городской посёлок Лесогорский',\n",
       "       'деревня Лаголово', 'поселок Цвелодубово',\n",
       "       'поселок городского типа Рахья', 'поселок городского типа Вырица',\n",
       "       'деревня Белогорка', 'поселок Заводской',\n",
       "       'городской посёлок Новоселье', 'деревня Большие Колпаны',\n",
       "       'деревня Горбунки', 'деревня Батово', 'деревня Заневка',\n",
       "       'деревня Иссад', 'Приморск', 'городской посёлок Фёдоровское',\n",
       "       'деревня Мистолово', 'Новая Ладога', 'поселок Зимитицы',\n",
       "       'поселок Барышево', 'деревня Разметелево',\n",
       "       'поселок городского типа имени Свердлова', 'деревня Пеники',\n",
       "       'поселок Рябово', 'деревня Пудомяги', 'поселок станции Корнево',\n",
       "       'деревня Низино', 'деревня Бегуницы', 'посёлок Поляны',\n",
       "       'городской посёлок Мга', 'поселок Елизаветино',\n",
       "       'посёлок городского типа Кузнечное', 'деревня Колтуши',\n",
       "       'поселок Запорожское', 'посёлок городского типа Рощино',\n",
       "       'деревня Гостилицы', 'деревня Малое Карлино',\n",
       "       'посёлок Мичуринское', 'посёлок городского типа имени Морозова',\n",
       "       'посёлок Сосново', 'деревня Аро', 'поселок Ильичёво',\n",
       "       'посёлок городского типа Тайцы', 'деревня Малое Верево',\n",
       "       'деревня Извара', 'поселок станции Вещево', 'село Паша',\n",
       "       'деревня Калитино', nan, 'посёлок городского типа Ульяновка',\n",
       "       'деревня Чудской Бор', 'поселок городского типа Дубровка',\n",
       "       'деревня Мины', 'поселок Войсковицы',\n",
       "       'посёлок городского типа имени Свердлова', 'деревня Коркино',\n",
       "       'посёлок Ропша', 'поселок городского типа Приладожский',\n",
       "       'посёлок Щеглово', 'посёлок Гаврилово', 'Лодейное Поле',\n",
       "       'деревня Рабитицы', 'поселок городского типа Никольский',\n",
       "       'деревня Кузьмолово', 'деревня Малые Колпаны', 'поселок Тельмана',\n",
       "       'городской посёлок Назия', 'посёлок Ильичёво', 'поселок Углово',\n",
       "       'поселок Старая Малукса', 'садовое товарищество Рахья',\n",
       "       'поселок Аннино', 'поселок Победа', 'деревня Меньково',\n",
       "       'деревня Старые Бегуницы', 'поселок Семрино', 'поселок Гаврилово',\n",
       "       'поселок Глажево', 'поселок Кобринское', 'деревня Гарболово',\n",
       "       'деревня Юкки', 'поселок станции Приветнинское',\n",
       "       'деревня Мануйлово', 'деревня Пчева', 'поселок Поляны',\n",
       "       'поселок Цвылёво', 'поселок Мельниково', 'посёлок Пудость',\n",
       "       'посёлок Усть-Луга', 'Светогорск', 'Любань', 'поселок Селезнёво',\n",
       "       'поселок городского типа Рябово', 'Каменногорск', 'деревня Кривко',\n",
       "       'поселок Глебычево', 'деревня Парицы', 'поселок Жилпосёлок',\n",
       "       'посёлок городского типа Мга', 'городской поселок Янино-1',\n",
       "       'посёлок Войскорово', 'село Никольское', 'посёлок Терволово',\n",
       "       'поселок Стеклянный', 'посёлок городского типа Важины',\n",
       "       'посёлок Мыза-Ивановка', 'село Русско-Высоцкое',\n",
       "       'поселок городского типа Лебяжье',\n",
       "       'поселок городского типа Форносово', 'Красное Село',\n",
       "       'село Старая Ладога', 'поселок Житково',\n",
       "       'городской посёлок Виллози', 'деревня Лампово',\n",
       "       'деревня Шпаньково', 'деревня Лаврики', 'посёлок Сумино',\n",
       "       'посёлок Возрождение', 'деревня Старосиверская',\n",
       "       'посёлок Кикерино', 'поселок Возрождение',\n",
       "       'деревня Старое Хинколово', 'посёлок Пригородный',\n",
       "       'посёлок Торфяное', 'городской посёлок Будогощь',\n",
       "       'поселок Суходолье', 'поселок Красная Долина', 'деревня Хапо-Ое',\n",
       "       'поселок городского типа Дружная Горка', 'деревня Яльгелево',\n",
       "       'посёлок Стеклянный', 'село Рождествено', 'деревня Старополье',\n",
       "       'деревня Сяськелево', 'деревня Камышовка',\n",
       "       'садоводческое некоммерческое товарищество Лесная Поляна',\n",
       "       'деревня Хязельки', 'поселок Жилгородок',\n",
       "       'посёлок городского типа Павлово', 'деревня Ялгино', 'Ломоносов',\n",
       "       'поселок Новый Учхоз', 'городской посёлок Рощино',\n",
       "       'поселок Гончарово', 'поселок Почап', 'посёлок Сапёрное',\n",
       "       'посёлок Платформа 69-й километр', 'поселок Каложицы',\n",
       "       'деревня Фалилеево', 'деревня Пельгора',\n",
       "       'поселок городского типа Лесогорский', 'деревня Торошковичи',\n",
       "       'посёлок Алексеевка', 'поселок Серебрянский', 'поселок Лукаши',\n",
       "       'поселок Петровское', 'деревня Щеглово', 'Кронштадт',\n",
       "       'поселок Мичуринское', 'деревня Тарасово', 'поселок Кингисеппский',\n",
       "       'посёлок при железнодорожной станции Вещево', 'поселок Ушаки',\n",
       "       'деревня Котлы', 'деревня Сижно', 'деревня Торосово',\n",
       "       'посёлок Форт Красная Горка', 'поселок городского типа Токсово',\n",
       "       'деревня Новолисино', 'посёлок станции Громово', 'деревня Глинка',\n",
       "       'посёлок Мельниково', 'поселок городского типа Назия',\n",
       "       'деревня Старая Пустошь', 'поселок Коммунары', 'поселок Починок',\n",
       "       'посёлок городского типа Вознесенье', 'деревня Разбегаево',\n",
       "       'посёлок городского типа Рябово', 'поселок Гладкое',\n",
       "       'посёлок при железнодорожной станции Приветнинское',\n",
       "       'поселок Тёсово-4', 'посёлок Жилгородок', 'деревня Бор',\n",
       "       'посёлок Коробицыно', 'деревня Большая Вруда', 'деревня Курковицы',\n",
       "       'городской посёлок Советский', 'посёлок Кобралово',\n",
       "       'деревня Суоранда', 'поселок Кобралово',\n",
       "       'поселок городского типа Кондратьево',\n",
       "       'коттеджный поселок Счастье', 'поселок Любань', 'деревня Реброво',\n",
       "       'деревня Зимитицы', 'деревня Тойворово', 'поселок Семиозерье',\n",
       "       'поселок Лесное', 'поселок Совхозный', 'поселок Усть-Луга',\n",
       "       'посёлок Ленинское', 'посёлок Суйда',\n",
       "       'посёлок городского типа Форносово', 'деревня Нижние Осельки',\n",
       "       'посёлок станции Свирь', 'поселок Перово', 'Высоцк',\n",
       "       'поселок Гарболово', 'село Шум', 'поселок Котельский',\n",
       "       'поселок станции Лужайка', 'деревня Большая Пустомержа',\n",
       "       'поселок Красносельское', 'деревня Вахнова Кара', 'деревня Пижма',\n",
       "       'коттеджный поселок Кивеннапа Север', 'поселок Коробицыно',\n",
       "       'поселок Ромашки', 'посёлок Перово', 'деревня Каськово',\n",
       "       'деревня Куровицы', 'посёлок Плоское', 'поселок Сумино',\n",
       "       'поселок городского типа Большая Ижора', 'поселок Кирпичное',\n",
       "       'деревня Ям-Тесово', 'деревня Раздолье', 'деревня Терпилицы',\n",
       "       'посёлок Шугозеро', 'деревня Ваганово', 'поселок Пушное',\n",
       "       'садовое товарищество Садко', 'деревня Выскатка',\n",
       "       'городской посёлок Свирьстрой', 'поселок Громово',\n",
       "       'деревня Кисельня', 'посёлок Старая Малукса',\n",
       "       'деревня Трубников Бор', 'поселок Калитино',\n",
       "       'посёлок Высокоключевой', 'садовое товарищество Приладожский',\n",
       "       'посёлок Пансионат Зелёный Бор', 'деревня Ненимяки',\n",
       "       'поселок Пансионат Зелёный Бор', 'деревня Снегирёвка',\n",
       "       'деревня Рапполово', 'деревня Пустынка', 'Колпино',\n",
       "       'поселок Рабитицы', 'деревня Большой Сабск', 'деревня Русско',\n",
       "       'деревня Лупполово', 'деревня Большое Рейзино',\n",
       "       'деревня Малая Романовка', 'поселок Дружноселье', 'поселок Пчевжа',\n",
       "       'поселок Володарское', 'деревня Нижняя',\n",
       "       'коттеджный посёлок Лесное', 'деревня Тихковицы',\n",
       "       'деревня Борисова Грива', 'посёлок Дзержинского'], dtype=object)"
      ]
     },
     "execution_count": 635,
     "metadata": {},
     "output_type": "execute_result"
    }
   ],
   "source": [
    "df[df.airports_nearest.isna()][ 'locality_name'].unique()"
   ]
  },
  {
   "cell_type": "markdown",
   "metadata": {},
   "source": [
    "Видно, что в основном это информация не укзана в обьявлениях за пределами города. Оставим как есть."
   ]
  },
  {
   "cell_type": "markdown",
   "metadata": {},
   "source": [
    "##### Разберем столбец с расстоянием до центра города."
   ]
  },
  {
   "cell_type": "code",
   "execution_count": 12,
   "metadata": {},
   "outputs": [
    {
     "data": {
      "text/plain": [
       "array(['Бокситогорск', 'Волосово', 'Волхов', 'Всеволожск', 'Выборг',\n",
       "       'Высоцк', 'Гатчина', 'Ивангород', 'Каменногорск', 'Кингисепп',\n",
       "       'Кириши', 'Кировск', 'Колпино', 'Коммунар', 'Красное Село',\n",
       "       'Кронштадт', 'Кудрово', 'Лодейное Поле', 'Ломоносов', 'Луга',\n",
       "       'Любань', 'Мурино', 'Никольское', 'Новая Ладога', 'Отрадное',\n",
       "       'Пикалёво', 'Подпорожье', 'Приморск', 'Приозерск', 'Пушкин',\n",
       "       'Санкт-Петербург', 'Светогорск', 'Сертолово', 'Сланцы',\n",
       "       'Сосновый Бор', 'Сясьстрой', 'Тихвин', 'Тосно', 'Шлиссельбург',\n",
       "       'городской поселок Большая Ижора', 'городской поселок Янино-1',\n",
       "       'городской посёлок Будогощь', 'городской посёлок Виллози',\n",
       "       'городской посёлок Лесогорский', 'городской посёлок Мга',\n",
       "       'городской посёлок Назия', 'городской посёлок Новоселье',\n",
       "       'городской посёлок Павлово', 'городской посёлок Рощино',\n",
       "       'городской посёлок Свирьстрой', 'городской посёлок Советский',\n",
       "       'городской посёлок Фёдоровское', 'городской посёлок Янино-1',\n",
       "       'деревня Агалатово', 'деревня Аро', 'деревня Батово',\n",
       "       'деревня Бегуницы', 'деревня Белогорка', 'деревня Большая Вруда',\n",
       "       'деревня Большая Пустомержа', 'деревня Большие Колпаны',\n",
       "       'деревня Большое Рейзино', 'деревня Большой Сабск', 'деревня Бор',\n",
       "       'деревня Борисова Грива', 'деревня Ваганово', 'деревня Вартемяги',\n",
       "       'деревня Вахнова Кара', 'деревня Выскатка', 'деревня Гарболово',\n",
       "       'деревня Глинка', 'деревня Горбунки', 'деревня Гостилицы',\n",
       "       'деревня Заклинье', 'деревня Заневка', 'деревня Зимитицы',\n",
       "       'деревня Извара', 'деревня Иссад', 'деревня Калитино',\n",
       "       'деревня Кальтино', 'деревня Камышовка', 'деревня Каськово',\n",
       "       'деревня Келози', 'деревня Кипень', 'деревня Кисельня',\n",
       "       'деревня Колтуши', 'деревня Коркино', 'деревня Котлы',\n",
       "       'деревня Кривко', 'деревня Кудрово', 'деревня Кузьмолово',\n",
       "       'деревня Курковицы', 'деревня Куровицы', 'деревня Куттузи',\n",
       "       'деревня Лаврики', 'деревня Лаголово', 'деревня Лампово',\n",
       "       'деревня Лесколово', 'деревня Лопухинка', 'деревня Лупполово',\n",
       "       'деревня Малая Романовка', 'деревня Малое Верево',\n",
       "       'деревня Малое Карлино', 'деревня Малые Колпаны',\n",
       "       'деревня Мануйлово', 'деревня Меньково', 'деревня Мины',\n",
       "       'деревня Мистолово', 'деревня Ненимяки', 'деревня Нижние Осельки',\n",
       "       'деревня Нижняя', 'деревня Низино', 'деревня Новое Девяткино',\n",
       "       'деревня Новолисино', 'деревня Нурма', 'деревня Оржицы',\n",
       "       'деревня Парицы', 'деревня Пельгора', 'деревня Пеники',\n",
       "       'деревня Пижма', 'деревня Пикколово', 'деревня Пудомяги',\n",
       "       'деревня Пустынка', 'деревня Пчева', 'деревня Рабитицы',\n",
       "       'деревня Разбегаево', 'деревня Раздолье', 'деревня Разметелево',\n",
       "       'деревня Рапполово', 'деревня Реброво', 'деревня Русско',\n",
       "       'деревня Сижно', 'деревня Снегирёвка', 'деревня Старая',\n",
       "       'деревня Старая Пустошь', 'деревня Старое Хинколово',\n",
       "       'деревня Старополье', 'деревня Старосиверская',\n",
       "       'деревня Старые Бегуницы', 'деревня Суоранда',\n",
       "       'деревня Сяськелево', 'деревня Тарасово', 'деревня Терпилицы',\n",
       "       'деревня Тихковицы', 'деревня Тойворово', 'деревня Торосово',\n",
       "       'деревня Торошковичи', 'деревня Трубников Бор',\n",
       "       'деревня Фалилеево', 'деревня Фёдоровское', 'деревня Хапо-Ое',\n",
       "       'деревня Хязельки', 'деревня Чудской Бор', 'деревня Шпаньково',\n",
       "       'деревня Щеглово', 'деревня Юкки', 'деревня Ялгино',\n",
       "       'деревня Яльгелево', 'деревня Ям-Тесово',\n",
       "       'коттеджный поселок Кивеннапа Север', 'коттеджный поселок Счастье',\n",
       "       'коттеджный посёлок Лесное', 'поселок Аннино', 'поселок Барышево',\n",
       "       'поселок Бугры', 'поселок Возрождение', 'поселок Войсковицы',\n",
       "       'поселок Володарское', 'поселок Гаврилово', 'поселок Гарболово',\n",
       "       'поселок Гладкое', 'поселок Глажево', 'поселок Глебычево',\n",
       "       'поселок Гончарово', 'поселок Громово', 'поселок Дружноселье',\n",
       "       'поселок Елизаветино', 'поселок Жилгородок', 'поселок Жилпосёлок',\n",
       "       'поселок Житково', 'поселок Заводской', 'поселок Запорожское',\n",
       "       'поселок Зимитицы', 'поселок Ильичёво', 'поселок Калитино',\n",
       "       'поселок Каложицы', 'поселок Кингисеппский', 'поселок Кирпичное',\n",
       "       'поселок Кобралово', 'поселок Кобринское', 'поселок Коммунары',\n",
       "       'поселок Коробицыно', 'поселок Котельский',\n",
       "       'поселок Красная Долина', 'поселок Красносельское',\n",
       "       'поселок Лесное', 'поселок Лукаши', 'поселок Любань',\n",
       "       'поселок Мельниково', 'поселок Мичуринское', 'поселок Молодцово',\n",
       "       'поселок Мурино', 'поселок Новый Свет', 'поселок Новый Учхоз',\n",
       "       'поселок Оредеж', 'поселок Пансионат Зелёный Бор',\n",
       "       'поселок Первомайское', 'поселок Перово', 'поселок Петровское',\n",
       "       'поселок Победа', 'поселок Поляны', 'поселок Почап',\n",
       "       'поселок Починок', 'поселок Пушное', 'поселок Пчевжа',\n",
       "       'поселок Рабитицы', 'поселок Романовка', 'поселок Ромашки',\n",
       "       'поселок Рябово', 'поселок Севастьяново', 'поселок Селезнёво',\n",
       "       'поселок Сельцо', 'поселок Семиозерье', 'поселок Семрино',\n",
       "       'поселок Серебрянский', 'поселок Совхозный',\n",
       "       'поселок Старая Малукса', 'поселок Стеклянный', 'поселок Сумино',\n",
       "       'поселок Суходолье', 'поселок Тельмана', 'поселок Терволово',\n",
       "       'поселок Торковичи', 'поселок Тёсово-4', 'поселок Углово',\n",
       "       'поселок Усть-Луга', 'поселок Ушаки', 'поселок Цвелодубово',\n",
       "       'поселок Цвылёво', 'поселок городского типа Большая Ижора',\n",
       "       'поселок городского типа Вырица',\n",
       "       'поселок городского типа Дружная Горка',\n",
       "       'поселок городского типа Дубровка',\n",
       "       'поселок городского типа Ефимовский',\n",
       "       'поселок городского типа Кондратьево',\n",
       "       'поселок городского типа Красный Бор',\n",
       "       'поселок городского типа Кузьмоловский',\n",
       "       'поселок городского типа Лебяжье',\n",
       "       'поселок городского типа Лесогорский',\n",
       "       'поселок городского типа Назия',\n",
       "       'поселок городского типа Никольский',\n",
       "       'поселок городского типа Приладожский',\n",
       "       'поселок городского типа Рахья', 'поселок городского типа Рощино',\n",
       "       'поселок городского типа Рябово',\n",
       "       'поселок городского типа Синявино',\n",
       "       'поселок городского типа Советский',\n",
       "       'поселок городского типа Токсово',\n",
       "       'поселок городского типа Форносово',\n",
       "       'поселок городского типа имени Свердлова',\n",
       "       'поселок станции Вещево', 'поселок станции Корнево',\n",
       "       'поселок станции Лужайка', 'поселок станции Приветнинское',\n",
       "       'посёлок Алексеевка', 'посёлок Аннино', 'посёлок Бугры',\n",
       "       'посёлок Возрождение', 'посёлок Войскорово',\n",
       "       'посёлок Высокоключевой', 'посёлок Гаврилово',\n",
       "       'посёлок Дзержинского', 'посёлок Жилгородок', 'посёлок Ильичёво',\n",
       "       'посёлок Кикерино', 'посёлок Кобралово', 'посёлок Коробицыно',\n",
       "       'посёлок Ленинское', 'посёлок Мельниково', 'посёлок Мичуринское',\n",
       "       'посёлок Мурино', 'посёлок Мыза-Ивановка', 'посёлок Новогорелово',\n",
       "       'посёлок Новый Свет', 'посёлок Пансионат Зелёный Бор',\n",
       "       'посёлок Перово', 'посёлок Петровское',\n",
       "       'посёлок Платформа 69-й километр', 'посёлок Плодовое',\n",
       "       'посёлок Плоское', 'посёлок Победа', 'посёлок Поляны',\n",
       "       'посёлок Пригородный', 'посёлок Пудость', 'посёлок Ропша',\n",
       "       'посёлок Сапёрное', 'посёлок Сосново', 'посёлок Старая Малукса',\n",
       "       'посёлок Стеклянный', 'посёлок Суйда', 'посёлок Сумино',\n",
       "       'посёлок Тельмана', 'посёлок Терволово', 'посёлок Торфяное',\n",
       "       'посёлок Усть-Луга', 'посёлок Форт Красная Горка',\n",
       "       'посёлок Шугозеро', 'посёлок Шушары', 'посёлок Щеглово',\n",
       "       'посёлок городского типа Важины',\n",
       "       'посёлок городского типа Вознесенье',\n",
       "       'посёлок городского типа Вырица',\n",
       "       'посёлок городского типа Красный Бор',\n",
       "       'посёлок городского типа Кузнечное',\n",
       "       'посёлок городского типа Кузьмоловский',\n",
       "       'посёлок городского типа Лебяжье', 'посёлок городского типа Мга',\n",
       "       'посёлок городского типа Павлово',\n",
       "       'посёлок городского типа Рощино', 'посёлок городского типа Рябово',\n",
       "       'посёлок городского типа Сиверский',\n",
       "       'посёлок городского типа Тайцы', 'посёлок городского типа Токсово',\n",
       "       'посёлок городского типа Ульяновка',\n",
       "       'посёлок городского типа Форносово',\n",
       "       'посёлок городского типа имени Морозова',\n",
       "       'посёлок городского типа имени Свердлова',\n",
       "       'посёлок при железнодорожной станции Вещево',\n",
       "       'посёлок при железнодорожной станции Приветнинское',\n",
       "       'посёлок станции Громово', 'посёлок станции Свирь',\n",
       "       'садоводческое некоммерческое товарищество Лесная Поляна',\n",
       "       'садовое товарищество Новая Ропша',\n",
       "       'садовое товарищество Приладожский', 'садовое товарищество Рахья',\n",
       "       'садовое товарищество Садко', 'село Копорье', 'село Никольское',\n",
       "       'село Павлово', 'село Паша', 'село Путилово', 'село Рождествено',\n",
       "       'село Русско-Высоцкое', 'село Старая Ладога', 'село Шум', nan],\n",
       "      dtype=object)"
      ]
     },
     "execution_count": 12,
     "metadata": {},
     "output_type": "execute_result"
    }
   ],
   "source": [
    "df[df.cityCenters_nearest.isna()][ 'locality_name'].sort_values().unique()"
   ]
  },
  {
   "cell_type": "markdown",
   "metadata": {},
   "source": [
    "Аналогичная ситуация."
   ]
  },
  {
   "cell_type": "markdown",
   "metadata": {},
   "source": [
    "##### Посмотрим на количество парков в радиусе 3 км."
   ]
  },
  {
   "cell_type": "code",
   "execution_count": 13,
   "metadata": {},
   "outputs": [
    {
     "data": {
      "text/plain": [
       "array([ 1.,  0.,  2., nan,  3.])"
      ]
     },
     "execution_count": 13,
     "metadata": {},
     "output_type": "execute_result"
    }
   ],
   "source": [
    "df.parks_around3000.unique()"
   ]
  },
  {
   "cell_type": "markdown",
   "metadata": {},
   "source": [
    "Если не указали количество парков в радиусе 3 км., то  очень вероятно, что их нет. Заменим на 0."
   ]
  },
  {
   "cell_type": "code",
   "execution_count": 14,
   "metadata": {},
   "outputs": [
    {
     "data": {
      "text/plain": [
       "0"
      ]
     },
     "execution_count": 14,
     "metadata": {},
     "output_type": "execute_result"
    }
   ],
   "source": [
    "df['parks_around3000'] = df['parks_around3000'].fillna(0)\n",
    "df['parks_around3000'].isna().sum()"
   ]
  },
  {
   "cell_type": "markdown",
   "metadata": {},
   "source": [
    "##### Посмотрим на растояние до ближайшего парка. Если в столбце с количеством парков стоит 0, а в столбце с расстоянием Na, то их можно заменить на 0, так как парка нет, то и расстояния нет) "
   ]
  },
  {
   "cell_type": "code",
   "execution_count": 15,
   "metadata": {},
   "outputs": [
    {
     "data": {
      "text/plain": [
       "array([0.])"
      ]
     },
     "execution_count": 15,
     "metadata": {},
     "output_type": "execute_result"
    }
   ],
   "source": [
    "df[df.parks_nearest.isna()]['parks_around3000'].unique()"
   ]
  },
  {
   "cell_type": "markdown",
   "metadata": {},
   "source": [
    "Заменяем. "
   ]
  },
  {
   "cell_type": "code",
   "execution_count": 16,
   "metadata": {},
   "outputs": [
    {
     "data": {
      "text/plain": [
       "0"
      ]
     },
     "execution_count": 16,
     "metadata": {},
     "output_type": "execute_result"
    }
   ],
   "source": [
    "df['parks_nearest'] = df['parks_nearest'].fillna(0)\n",
    "df['parks_nearest'].isna().sum()"
   ]
  },
  {
   "cell_type": "markdown",
   "metadata": {},
   "source": [
    "##### Аналогично поступим со столбцами с количеством водоемов и расстонием до ближайшего водоема."
   ]
  },
  {
   "cell_type": "code",
   "execution_count": 17,
   "metadata": {},
   "outputs": [
    {
     "data": {
      "text/plain": [
       "array([ 2.,  0.,  3.,  1., nan])"
      ]
     },
     "execution_count": 17,
     "metadata": {},
     "output_type": "execute_result"
    }
   ],
   "source": [
    "df.ponds_around3000.unique()"
   ]
  },
  {
   "cell_type": "code",
   "execution_count": 18,
   "metadata": {},
   "outputs": [
    {
     "data": {
      "text/plain": [
       "0"
      ]
     },
     "execution_count": 18,
     "metadata": {},
     "output_type": "execute_result"
    }
   ],
   "source": [
    "df['ponds_around3000'] = df['ponds_around3000'].fillna(0)\n",
    "df['ponds_around3000'].isna().sum()"
   ]
  },
  {
   "cell_type": "markdown",
   "metadata": {},
   "source": [
    "Проверим гипотезу."
   ]
  },
  {
   "cell_type": "code",
   "execution_count": 19,
   "metadata": {},
   "outputs": [
    {
     "data": {
      "text/plain": [
       "array([0.])"
      ]
     },
     "execution_count": 19,
     "metadata": {},
     "output_type": "execute_result"
    }
   ],
   "source": [
    "df[df.ponds_nearest.isna()]['ponds_around3000'].unique()"
   ]
  },
  {
   "cell_type": "markdown",
   "metadata": {},
   "source": [
    "Смело заполняем нулями."
   ]
  },
  {
   "cell_type": "code",
   "execution_count": 20,
   "metadata": {},
   "outputs": [
    {
     "data": {
      "text/plain": [
       "0"
      ]
     },
     "execution_count": 20,
     "metadata": {},
     "output_type": "execute_result"
    }
   ],
   "source": [
    "df['ponds_nearest'] = df['ponds_nearest'].fillna(0)\n",
    "df['ponds_nearest'].isna().sum()"
   ]
  },
  {
   "cell_type": "markdown",
   "metadata": {},
   "source": [
    "##### Заполним пропуски в столбце living_area отношением общей площади к отношению медиан общей и жилой площадей. "
   ]
  },
  {
   "cell_type": "code",
   "execution_count": 21,
   "metadata": {},
   "outputs": [
    {
     "data": {
      "text/plain": [
       "0"
      ]
     },
     "execution_count": 21,
     "metadata": {},
     "output_type": "execute_result"
    }
   ],
   "source": [
    "df['living_area'] = df['living_area'].fillna(df['total_area'] / (df['total_area'].median() / df['living_area'].median()))\n",
    "df['living_area'].isna().sum()"
   ]
  },
  {
   "cell_type": "markdown",
   "metadata": {},
   "source": [
    "##### Заполним пропуски в столбце kitchen_area отношением общей площади к отношению медиан общей площади и  площади кухни. "
   ]
  },
  {
   "cell_type": "code",
   "execution_count": 22,
   "metadata": {},
   "outputs": [
    {
     "data": {
      "text/plain": [
       "0"
      ]
     },
     "execution_count": 22,
     "metadata": {},
     "output_type": "execute_result"
    }
   ],
   "source": [
    "df['kitchen_area'] = df['kitchen_area'].fillna(df['total_area'] / (df['total_area'].median() / df['kitchen_area'].median()))\n",
    "df['kitchen_area'].isna().sum()"
   ]
  },
  {
   "cell_type": "code",
   "execution_count": 23,
   "metadata": {},
   "outputs": [
    {
     "data": {
      "text/plain": [
       "total_images               0\n",
       "last_price                 0\n",
       "total_area                 0\n",
       "first_day_exposition       0\n",
       "rooms                      0\n",
       "ceiling_height             0\n",
       "floors_total              86\n",
       "living_area                0\n",
       "floor                      0\n",
       "is_apartment               0\n",
       "studio                     0\n",
       "open_plan                  0\n",
       "kitchen_area               0\n",
       "balcony                    0\n",
       "locality_name             49\n",
       "airports_nearest        5542\n",
       "cityCenters_nearest     5519\n",
       "parks_around3000           0\n",
       "parks_nearest              0\n",
       "ponds_around3000           0\n",
       "ponds_nearest              0\n",
       "days_exposition         3181\n",
       "dtype: int64"
      ]
     },
     "execution_count": 23,
     "metadata": {},
     "output_type": "execute_result"
    }
   ],
   "source": [
    "df.isna().sum()"
   ]
  },
  {
   "cell_type": "markdown",
   "metadata": {},
   "source": [
    "#### Анализ типов данных"
   ]
  },
  {
   "cell_type": "code",
   "execution_count": 24,
   "metadata": {},
   "outputs": [
    {
     "data": {
      "text/plain": [
       "total_images              int64\n",
       "last_price              float64\n",
       "total_area              float64\n",
       "first_day_exposition     object\n",
       "rooms                     int64\n",
       "ceiling_height          float64\n",
       "floors_total            float64\n",
       "living_area             float64\n",
       "floor                     int64\n",
       "is_apartment               bool\n",
       "studio                     bool\n",
       "open_plan                  bool\n",
       "kitchen_area            float64\n",
       "balcony                 float64\n",
       "locality_name            object\n",
       "airports_nearest        float64\n",
       "cityCenters_nearest     float64\n",
       "parks_around3000        float64\n",
       "parks_nearest           float64\n",
       "ponds_around3000        float64\n",
       "ponds_nearest           float64\n",
       "days_exposition         float64\n",
       "dtype: object"
      ]
     },
     "execution_count": 24,
     "metadata": {},
     "output_type": "execute_result"
    }
   ],
   "source": [
    "df.dtypes"
   ]
  },
  {
   "cell_type": "markdown",
   "metadata": {},
   "source": [
    "##### Преобразуем значения в столбце first_day_exposition в datetime"
   ]
  },
  {
   "cell_type": "code",
   "execution_count": 25,
   "metadata": {},
   "outputs": [
    {
     "data": {
      "text/plain": [
       "0       2019-03-07\n",
       "1       2018-12-04\n",
       "2       2015-08-20\n",
       "3       2015-07-24\n",
       "4       2018-06-19\n",
       "           ...    \n",
       "23694   2017-03-21\n",
       "23695   2018-01-15\n",
       "23696   2018-02-11\n",
       "23697   2017-03-28\n",
       "23698   2017-07-21\n",
       "Name: first_day_exposition, Length: 23699, dtype: datetime64[ns]"
      ]
     },
     "execution_count": 25,
     "metadata": {},
     "output_type": "execute_result"
    }
   ],
   "source": [
    "df['first_day_exposition'] = pd.to_datetime(df.first_day_exposition)\n",
    "df['first_day_exposition']"
   ]
  },
  {
   "cell_type": "markdown",
   "metadata": {},
   "source": [
    "##### Преобразуем значения в столбце is_apartment в bool"
   ]
  },
  {
   "cell_type": "code",
   "execution_count": 26,
   "metadata": {},
   "outputs": [
    {
     "data": {
      "text/plain": [
       "dtype('bool')"
      ]
     },
     "execution_count": 26,
     "metadata": {},
     "output_type": "execute_result"
    }
   ],
   "source": [
    "df['is_apartment'] = df['is_apartment'].astype('bool')\n",
    "df['is_apartment'].dtypes"
   ]
  },
  {
   "cell_type": "markdown",
   "metadata": {},
   "source": [
    "##### Преобразуем значения в столбце balcony в int, так как количество балконов может принимать только целое значение."
   ]
  },
  {
   "cell_type": "code",
   "execution_count": 27,
   "metadata": {},
   "outputs": [
    {
     "data": {
      "text/plain": [
       "dtype('int64')"
      ]
     },
     "execution_count": 27,
     "metadata": {},
     "output_type": "execute_result"
    }
   ],
   "source": [
    "df['balcony'] = df['balcony'].astype('int64')\n",
    "df['balcony'].dtypes"
   ]
  },
  {
   "cell_type": "markdown",
   "metadata": {},
   "source": [
    "##### Преобразуем значения в столбце parks_around3000 в int, так как количество парков может принимать только целое значение."
   ]
  },
  {
   "cell_type": "code",
   "execution_count": 28,
   "metadata": {},
   "outputs": [
    {
     "data": {
      "text/plain": [
       "dtype('int64')"
      ]
     },
     "execution_count": 28,
     "metadata": {},
     "output_type": "execute_result"
    }
   ],
   "source": [
    "df['parks_around3000'] = df['parks_around3000'].astype('int64')\n",
    "df['parks_around3000'].dtypes"
   ]
  },
  {
   "cell_type": "markdown",
   "metadata": {},
   "source": [
    "##### Преобразуем значения в столбце ponds_around3000 в int, так как количество водоемов может принимать только целое значение."
   ]
  },
  {
   "cell_type": "code",
   "execution_count": 29,
   "metadata": {},
   "outputs": [
    {
     "data": {
      "text/plain": [
       "dtype('int64')"
      ]
     },
     "execution_count": 29,
     "metadata": {},
     "output_type": "execute_result"
    }
   ],
   "source": [
    "df['ponds_around3000'] = df['ponds_around3000'].astype('int64')\n",
    "df['ponds_around3000'].dtypes"
   ]
  },
  {
   "cell_type": "code",
   "execution_count": 30,
   "metadata": {},
   "outputs": [
    {
     "data": {
      "text/plain": [
       "total_images                     int64\n",
       "last_price                     float64\n",
       "total_area                     float64\n",
       "first_day_exposition    datetime64[ns]\n",
       "rooms                            int64\n",
       "ceiling_height                 float64\n",
       "floors_total                   float64\n",
       "living_area                    float64\n",
       "floor                            int64\n",
       "is_apartment                      bool\n",
       "studio                            bool\n",
       "open_plan                         bool\n",
       "kitchen_area                   float64\n",
       "balcony                          int64\n",
       "locality_name                   object\n",
       "airports_nearest               float64\n",
       "cityCenters_nearest            float64\n",
       "parks_around3000                 int64\n",
       "parks_nearest                  float64\n",
       "ponds_around3000                 int64\n",
       "ponds_nearest                  float64\n",
       "days_exposition                float64\n",
       "dtype: object"
      ]
     },
     "execution_count": 30,
     "metadata": {},
     "output_type": "execute_result"
    }
   ],
   "source": [
    "df.dtypes"
   ]
  },
  {
   "cell_type": "markdown",
   "metadata": {},
   "source": [
    "#### Анализ аномальных значений и неявных дубликатов"
   ]
  },
  {
   "cell_type": "code",
   "execution_count": 31,
   "metadata": {
    "scrolled": false
   },
   "outputs": [
    {
     "name": "stdout",
     "output_type": "stream",
     "text": [
      "total_images\n",
      "[ 0  1  2  3  4  5  6  7  8  9 10 11 12 13 14 15 16 17 18 19 20 21 22 23\n",
      " 24 25 26 27 28 29 30 31 32 35 37 39 42 50]\n",
      "\n",
      "last_price\n",
      "[1.219e+04 4.300e+05 4.400e+05 ... 4.013e+08 4.200e+08 7.630e+08]\n",
      "\n",
      "total_area\n",
      "[ 12.   13.   13.2 ... 631.  631.2 900. ]\n",
      "\n",
      "first_day_exposition\n",
      "['2014-11-27T00:00:00.000000000' '2014-11-29T00:00:00.000000000'\n",
      " '2014-12-04T00:00:00.000000000' ... '2019-05-01T00:00:00.000000000'\n",
      " '2019-05-02T00:00:00.000000000' '2019-05-03T00:00:00.000000000']\n",
      "\n",
      "rooms\n",
      "[ 0  1  2  3  4  5  6  7  8  9 10 11 12 14 15 16 19]\n",
      "\n",
      "ceiling_height\n",
      "[  1.     1.2    1.75   2.     2.2    2.25   2.3    2.34   2.4    2.45\n",
      "   2.46   2.47   2.48   2.49   2.5    2.51   2.52   2.53   2.54   2.55\n",
      "   2.56   2.57   2.58   2.59   2.6    2.61   2.62   2.63   2.64   2.65\n",
      "   2.66   2.67   2.68   2.69   2.7    2.71   2.72   2.73   2.74   2.75\n",
      "   2.76   2.77   2.78   2.79   2.8    2.81   2.82   2.83   2.84   2.85\n",
      "   2.86   2.87   2.88   2.89   2.9    2.91   2.92   2.93   2.94   2.95\n",
      "   2.96   2.97   2.98   2.99   3.     3.01   3.02   3.03   3.04   3.05\n",
      "   3.06   3.07   3.08   3.09   3.1    3.11   3.12   3.13   3.14   3.15\n",
      "   3.16   3.17   3.18   3.2    3.21   3.22   3.23   3.24   3.25   3.26\n",
      "   3.27   3.28   3.29   3.3    3.31   3.32   3.33   3.34   3.35   3.36\n",
      "   3.37   3.38   3.39   3.4    3.42   3.43   3.44   3.45   3.46   3.47\n",
      "   3.48   3.49   3.5    3.51   3.52   3.53   3.54   3.55   3.56   3.57\n",
      "   3.58   3.59   3.6    3.62   3.63   3.65   3.66   3.67   3.68   3.69\n",
      "   3.7    3.75   3.76   3.78   3.8    3.82   3.83   3.84   3.85   3.86\n",
      "   3.87   3.88   3.9    3.93   3.95   3.98   4.     4.06   4.1    4.14\n",
      "   4.15   4.19   4.2    4.25   4.3    4.37   4.4    4.45   4.5    4.65\n",
      "   4.7    4.8    4.9    5.     5.2    5.3    5.5    5.6    5.8    6.\n",
      "   8.     8.3   10.3   14.    20.    22.6   24.    25.    26.    27.\n",
      "  27.5   32.   100.  ]\n",
      "\n",
      "floors_total\n",
      "[ 1.  2.  3.  4.  5.  6.  7.  8.  9. 10. 11. 12. 13. 14. 15. 16. 17. 18.\n",
      " 19. 20. 21. 22. 23. 24. 25. 26. 27. 28. 29. 33. 34. 35. 36. 37. 52. 60.\n",
      " nan]\n",
      "\n",
      "living_area\n",
      "[  2.           3.           5.         ... 364.03846154 409.\n",
      " 409.7       ]\n",
      "\n",
      "floor\n",
      "[ 1  2  3  4  5  6  7  8  9 10 11 12 13 14 15 16 17 18 19 20 21 22 23 24\n",
      " 25 26 27 28 29 30 31 32 33]\n",
      "\n",
      "is_apartment\n",
      "[False  True]\n",
      "\n",
      "studio\n",
      "[False  True]\n",
      "\n",
      "open_plan\n",
      "[False  True]\n",
      "\n",
      "kitchen_area\n",
      "[  1.3   2.    2.1 ... 100.7 107.  112. ]\n",
      "\n",
      "balcony\n",
      "[0 1 2 3 4 5]\n",
      "\n",
      "locality_name\n",
      "['Бокситогорск' 'Волосово' 'Волхов' 'Всеволожск' 'Выборг' 'Высоцк'\n",
      " 'Гатчина' 'Зеленогорск' 'Ивангород' 'Каменногорск' 'Кингисепп' 'Кириши'\n",
      " 'Кировск' 'Колпино' 'Коммунар' 'Красное Село' 'Кронштадт' 'Кудрово'\n",
      " 'Лодейное Поле' 'Ломоносов' 'Луга' 'Любань' 'Мурино' 'Никольское'\n",
      " 'Новая Ладога' 'Отрадное' 'Павловск' 'Петергоф' 'Пикалёво' 'Подпорожье'\n",
      " 'Приморск' 'Приозерск' 'Пушкин' 'Санкт-Петербург' 'Светогорск'\n",
      " 'Сертолово' 'Сестрорецк' 'Сланцы' 'Сосновый Бор' 'Сясьстрой' 'Тихвин'\n",
      " 'Тосно' 'Шлиссельбург' 'городской поселок Большая Ижора'\n",
      " 'городской поселок Янино-1' 'городской посёлок Будогощь'\n",
      " 'городской посёлок Виллози' 'городской посёлок Лесогорский'\n",
      " 'городской посёлок Мга' 'городской посёлок Назия'\n",
      " 'городской посёлок Новоселье' 'городской посёлок Павлово'\n",
      " 'городской посёлок Рощино' 'городской посёлок Свирьстрой'\n",
      " 'городской посёлок Советский' 'городской посёлок Фёдоровское'\n",
      " 'городской посёлок Янино-1' 'деревня Агалатово' 'деревня Аро'\n",
      " 'деревня Батово' 'деревня Бегуницы' 'деревня Белогорка'\n",
      " 'деревня Большая Вруда' 'деревня Большая Пустомержа'\n",
      " 'деревня Большие Колпаны' 'деревня Большое Рейзино'\n",
      " 'деревня Большой Сабск' 'деревня Бор' 'деревня Борисова Грива'\n",
      " 'деревня Ваганово' 'деревня Вартемяги' 'деревня Вахнова Кара'\n",
      " 'деревня Выскатка' 'деревня Гарболово' 'деревня Глинка'\n",
      " 'деревня Горбунки' 'деревня Гостилицы' 'деревня Заклинье'\n",
      " 'деревня Заневка' 'деревня Зимитицы' 'деревня Извара' 'деревня Иссад'\n",
      " 'деревня Калитино' 'деревня Кальтино' 'деревня Камышовка'\n",
      " 'деревня Каськово' 'деревня Келози' 'деревня Кипень' 'деревня Кисельня'\n",
      " 'деревня Колтуши' 'деревня Коркино' 'деревня Котлы' 'деревня Кривко'\n",
      " 'деревня Кудрово' 'деревня Кузьмолово' 'деревня Курковицы'\n",
      " 'деревня Куровицы' 'деревня Куттузи' 'деревня Лаврики' 'деревня Лаголово'\n",
      " 'деревня Лампово' 'деревня Лесколово' 'деревня Лопухинка'\n",
      " 'деревня Лупполово' 'деревня Малая Романовка' 'деревня Малое Верево'\n",
      " 'деревня Малое Карлино' 'деревня Малые Колпаны' 'деревня Мануйлово'\n",
      " 'деревня Меньково' 'деревня Мины' 'деревня Мистолово' 'деревня Ненимяки'\n",
      " 'деревня Нижние Осельки' 'деревня Нижняя' 'деревня Низино'\n",
      " 'деревня Новое Девяткино' 'деревня Новолисино' 'деревня Нурма'\n",
      " 'деревня Оржицы' 'деревня Парицы' 'деревня Пельгора' 'деревня Пеники'\n",
      " 'деревня Пижма' 'деревня Пикколово' 'деревня Пудомяги' 'деревня Пустынка'\n",
      " 'деревня Пчева' 'деревня Рабитицы' 'деревня Разбегаево'\n",
      " 'деревня Раздолье' 'деревня Разметелево' 'деревня Рапполово'\n",
      " 'деревня Реброво' 'деревня Русско' 'деревня Сижно' 'деревня Снегирёвка'\n",
      " 'деревня Старая' 'деревня Старая Пустошь' 'деревня Старое Хинколово'\n",
      " 'деревня Старополье' 'деревня Старосиверская' 'деревня Старые Бегуницы'\n",
      " 'деревня Суоранда' 'деревня Сяськелево' 'деревня Тарасово'\n",
      " 'деревня Терпилицы' 'деревня Тихковицы' 'деревня Тойворово'\n",
      " 'деревня Торосово' 'деревня Торошковичи' 'деревня Трубников Бор'\n",
      " 'деревня Фалилеево' 'деревня Фёдоровское' 'деревня Хапо-Ое'\n",
      " 'деревня Хязельки' 'деревня Чудской Бор' 'деревня Шпаньково'\n",
      " 'деревня Щеглово' 'деревня Юкки' 'деревня Ялгино' 'деревня Яльгелево'\n",
      " 'деревня Ям-Тесово' 'коттеджный поселок Кивеннапа Север'\n",
      " 'коттеджный поселок Счастье' 'коттеджный посёлок Лесное' 'поселок Аннино'\n",
      " 'поселок Барышево' 'поселок Бугры' 'поселок Возрождение'\n",
      " 'поселок Войсковицы' 'поселок Володарское' 'поселок Гаврилово'\n",
      " 'поселок Гарболово' 'поселок Гладкое' 'поселок Глажево'\n",
      " 'поселок Глебычево' 'поселок Гончарово' 'поселок Громово'\n",
      " 'поселок Дружноселье' 'поселок Елизаветино' 'поселок Жилгородок'\n",
      " 'поселок Жилпосёлок' 'поселок Житково' 'поселок Заводской'\n",
      " 'поселок Запорожское' 'поселок Зимитицы' 'поселок Ильичёво'\n",
      " 'поселок Калитино' 'поселок Каложицы' 'поселок Кингисеппский'\n",
      " 'поселок Кирпичное' 'поселок Кобралово' 'поселок Кобринское'\n",
      " 'поселок Коммунары' 'поселок Коробицыно' 'поселок Котельский'\n",
      " 'поселок Красная Долина' 'поселок Красносельское' 'поселок Лесное'\n",
      " 'поселок Лисий Нос' 'поселок Лукаши' 'поселок Любань'\n",
      " 'поселок Мельниково' 'поселок Мичуринское' 'поселок Молодцово'\n",
      " 'поселок Мурино' 'поселок Новый Свет' 'поселок Новый Учхоз'\n",
      " 'поселок Оредеж' 'поселок Пансионат Зелёный Бор' 'поселок Первомайское'\n",
      " 'поселок Перово' 'поселок Петровское' 'поселок Победа' 'поселок Поляны'\n",
      " 'поселок Почап' 'поселок Починок' 'поселок Пушное' 'поселок Пчевжа'\n",
      " 'поселок Рабитицы' 'поселок Романовка' 'поселок Ромашки' 'поселок Рябово'\n",
      " 'поселок Севастьяново' 'поселок Селезнёво' 'поселок Сельцо'\n",
      " 'поселок Семиозерье' 'поселок Семрино' 'поселок Серебрянский'\n",
      " 'поселок Совхозный' 'поселок Старая Малукса' 'поселок Стеклянный'\n",
      " 'поселок Сумино' 'поселок Суходолье' 'поселок Тельмана'\n",
      " 'поселок Терволово' 'поселок Торковичи' 'поселок Тёсово-4'\n",
      " 'поселок Углово' 'поселок Усть-Луга' 'поселок Ушаки'\n",
      " 'поселок Цвелодубово' 'поселок Цвылёво'\n",
      " 'поселок городского типа Большая Ижора' 'поселок городского типа Вырица'\n",
      " 'поселок городского типа Дружная Горка'\n",
      " 'поселок городского типа Дубровка' 'поселок городского типа Ефимовский'\n",
      " 'поселок городского типа Кондратьево'\n",
      " 'поселок городского типа Красный Бор'\n",
      " 'поселок городского типа Кузьмоловский' 'поселок городского типа Лебяжье'\n",
      " 'поселок городского типа Лесогорский' 'поселок городского типа Назия'\n",
      " 'поселок городского типа Никольский'\n",
      " 'поселок городского типа Приладожский' 'поселок городского типа Рахья'\n",
      " 'поселок городского типа Рощино' 'поселок городского типа Рябово'\n",
      " 'поселок городского типа Синявино' 'поселок городского типа Советский'\n",
      " 'поселок городского типа Токсово' 'поселок городского типа Форносово'\n",
      " 'поселок городского типа имени Свердлова' 'поселок станции Вещево'\n",
      " 'поселок станции Корнево' 'поселок станции Лужайка'\n",
      " 'поселок станции Приветнинское' 'посёлок Александровская'\n",
      " 'посёлок Алексеевка' 'посёлок Аннино' 'посёлок Белоостров'\n",
      " 'посёлок Бугры' 'посёлок Возрождение' 'посёлок Войскорово'\n",
      " 'посёлок Высокоключевой' 'посёлок Гаврилово' 'посёлок Дзержинского'\n",
      " 'посёлок Жилгородок' 'посёлок Ильичёво' 'посёлок Кикерино'\n",
      " 'посёлок Кобралово' 'посёлок Коробицыно' 'посёлок Левашово'\n",
      " 'посёлок Ленинское' 'посёлок Лисий Нос' 'посёлок Мельниково'\n",
      " 'посёлок Металлострой' 'посёлок Мичуринское' 'посёлок Молодёжное'\n",
      " 'посёлок Мурино' 'посёлок Мыза-Ивановка' 'посёлок Новогорелово'\n",
      " 'посёлок Новый Свет' 'посёлок Пансионат Зелёный Бор' 'посёлок Парголово'\n",
      " 'посёлок Перово' 'посёлок Песочный' 'посёлок Петро-Славянка'\n",
      " 'посёлок Петровское' 'посёлок Платформа 69-й километр' 'посёлок Плодовое'\n",
      " 'посёлок Плоское' 'посёлок Победа' 'посёлок Поляны' 'посёлок Понтонный'\n",
      " 'посёлок Пригородный' 'посёлок Пудость' 'посёлок Репино' 'посёлок Ропша'\n",
      " 'посёлок Сапёрное' 'посёлок Сапёрный' 'посёлок Сосново'\n",
      " 'посёлок Старая Малукса' 'посёлок Стеклянный' 'посёлок Стрельна'\n",
      " 'посёлок Суйда' 'посёлок Сумино' 'посёлок Тельмана' 'посёлок Терволово'\n",
      " 'посёлок Торфяное' 'посёлок Усть-Ижора' 'посёлок Усть-Луга'\n",
      " 'посёлок Форт Красная Горка' 'посёлок Шугозеро' 'посёлок Шушары'\n",
      " 'посёлок Щеглово' 'посёлок городского типа Важины'\n",
      " 'посёлок городского типа Вознесенье' 'посёлок городского типа Вырица'\n",
      " 'посёлок городского типа Красный Бор' 'посёлок городского типа Кузнечное'\n",
      " 'посёлок городского типа Кузьмоловский' 'посёлок городского типа Лебяжье'\n",
      " 'посёлок городского типа Мга' 'посёлок городского типа Павлово'\n",
      " 'посёлок городского типа Рощино' 'посёлок городского типа Рябово'\n",
      " 'посёлок городского типа Сиверский' 'посёлок городского типа Тайцы'\n",
      " 'посёлок городского типа Токсово' 'посёлок городского типа Ульяновка'\n",
      " 'посёлок городского типа Форносово'\n",
      " 'посёлок городского типа имени Морозова'\n",
      " 'посёлок городского типа имени Свердлова'\n",
      " 'посёлок при железнодорожной станции Вещево'\n",
      " 'посёлок при железнодорожной станции Приветнинское'\n",
      " 'посёлок станции Громово' 'посёлок станции Свирь'\n",
      " 'садоводческое некоммерческое товарищество Лесная Поляна'\n",
      " 'садовое товарищество Новая Ропша' 'садовое товарищество Приладожский'\n",
      " 'садовое товарищество Рахья' 'садовое товарищество Садко' 'село Копорье'\n",
      " 'село Никольское' 'село Павлово' 'село Паша' 'село Путилово'\n",
      " 'село Рождествено' 'село Русско-Высоцкое' 'село Старая Ладога' 'село Шум'\n",
      " nan]\n",
      "\n",
      "airports_nearest\n",
      "[    0.  6450.  6914. ... 84853. 84869.    nan]\n",
      "\n",
      "cityCenters_nearest\n",
      "[  181.   208.   215. ... 65952. 65968.    nan]\n",
      "\n",
      "parks_around3000\n",
      "[0 1 2 3]\n",
      "\n",
      "parks_nearest\n",
      "[0.000e+00 1.000e+00 3.000e+00 4.000e+00 7.000e+00 9.000e+00 1.000e+01\n",
      " 1.100e+01 1.200e+01 1.300e+01 1.400e+01 1.500e+01 1.600e+01 1.700e+01\n",
      " 1.800e+01 1.900e+01 2.000e+01 2.100e+01 2.200e+01 2.300e+01 2.400e+01\n",
      " 2.700e+01 2.800e+01 3.000e+01 3.200e+01 3.300e+01 3.400e+01 3.500e+01\n",
      " 3.600e+01 3.700e+01 3.800e+01 3.900e+01 4.000e+01 4.100e+01 4.200e+01\n",
      " 4.300e+01 4.400e+01 4.500e+01 4.600e+01 4.700e+01 4.800e+01 4.900e+01\n",
      " 5.000e+01 5.100e+01 5.200e+01 5.300e+01 5.400e+01 5.500e+01 5.600e+01\n",
      " 5.700e+01 5.800e+01 5.900e+01 6.000e+01 6.100e+01 6.200e+01 6.300e+01\n",
      " 6.400e+01 6.500e+01 6.600e+01 6.700e+01 6.800e+01 6.900e+01 7.100e+01\n",
      " 7.200e+01 7.300e+01 7.400e+01 7.500e+01 7.600e+01 7.700e+01 7.800e+01\n",
      " 8.000e+01 8.100e+01 8.200e+01 8.300e+01 8.400e+01 8.500e+01 8.600e+01\n",
      " 8.700e+01 8.800e+01 9.000e+01 9.100e+01 9.200e+01 9.300e+01 9.400e+01\n",
      " 9.500e+01 9.600e+01 9.700e+01 9.800e+01 9.900e+01 1.000e+02 1.010e+02\n",
      " 1.020e+02 1.030e+02 1.040e+02 1.050e+02 1.060e+02 1.070e+02 1.080e+02\n",
      " 1.090e+02 1.100e+02 1.120e+02 1.130e+02 1.140e+02 1.150e+02 1.160e+02\n",
      " 1.170e+02 1.180e+02 1.190e+02 1.200e+02 1.210e+02 1.220e+02 1.230e+02\n",
      " 1.240e+02 1.250e+02 1.260e+02 1.270e+02 1.280e+02 1.290e+02 1.300e+02\n",
      " 1.310e+02 1.320e+02 1.330e+02 1.340e+02 1.350e+02 1.360e+02 1.370e+02\n",
      " 1.380e+02 1.390e+02 1.400e+02 1.410e+02 1.420e+02 1.440e+02 1.450e+02\n",
      " 1.460e+02 1.470e+02 1.480e+02 1.490e+02 1.500e+02 1.510e+02 1.520e+02\n",
      " 1.530e+02 1.540e+02 1.550e+02 1.560e+02 1.570e+02 1.580e+02 1.590e+02\n",
      " 1.600e+02 1.610e+02 1.620e+02 1.630e+02 1.640e+02 1.650e+02 1.660e+02\n",
      " 1.670e+02 1.680e+02 1.690e+02 1.700e+02 1.710e+02 1.720e+02 1.730e+02\n",
      " 1.740e+02 1.750e+02 1.760e+02 1.770e+02 1.780e+02 1.790e+02 1.800e+02\n",
      " 1.810e+02 1.820e+02 1.830e+02 1.840e+02 1.850e+02 1.860e+02 1.870e+02\n",
      " 1.880e+02 1.890e+02 1.900e+02 1.910e+02 1.920e+02 1.930e+02 1.940e+02\n",
      " 1.950e+02 1.960e+02 1.970e+02 1.980e+02 1.990e+02 2.000e+02 2.010e+02\n",
      " 2.020e+02 2.030e+02 2.040e+02 2.050e+02 2.060e+02 2.070e+02 2.080e+02\n",
      " 2.090e+02 2.100e+02 2.110e+02 2.120e+02 2.130e+02 2.150e+02 2.160e+02\n",
      " 2.170e+02 2.180e+02 2.190e+02 2.200e+02 2.210e+02 2.220e+02 2.230e+02\n",
      " 2.240e+02 2.250e+02 2.260e+02 2.270e+02 2.280e+02 2.290e+02 2.300e+02\n",
      " 2.310e+02 2.320e+02 2.330e+02 2.340e+02 2.350e+02 2.360e+02 2.370e+02\n",
      " 2.380e+02 2.390e+02 2.400e+02 2.410e+02 2.420e+02 2.430e+02 2.440e+02\n",
      " 2.450e+02 2.460e+02 2.470e+02 2.480e+02 2.490e+02 2.500e+02 2.510e+02\n",
      " 2.520e+02 2.530e+02 2.540e+02 2.550e+02 2.560e+02 2.570e+02 2.580e+02\n",
      " 2.590e+02 2.600e+02 2.610e+02 2.620e+02 2.630e+02 2.640e+02 2.650e+02\n",
      " 2.660e+02 2.670e+02 2.680e+02 2.690e+02 2.700e+02 2.710e+02 2.720e+02\n",
      " 2.730e+02 2.740e+02 2.750e+02 2.760e+02 2.770e+02 2.780e+02 2.790e+02\n",
      " 2.800e+02 2.810e+02 2.820e+02 2.830e+02 2.840e+02 2.850e+02 2.860e+02\n",
      " 2.870e+02 2.880e+02 2.890e+02 2.900e+02 2.910e+02 2.920e+02 2.930e+02\n",
      " 2.940e+02 2.950e+02 2.960e+02 2.970e+02 2.980e+02 2.990e+02 3.000e+02\n",
      " 3.010e+02 3.020e+02 3.030e+02 3.040e+02 3.050e+02 3.060e+02 3.070e+02\n",
      " 3.080e+02 3.090e+02 3.100e+02 3.110e+02 3.120e+02 3.130e+02 3.140e+02\n",
      " 3.150e+02 3.160e+02 3.170e+02 3.180e+02 3.190e+02 3.200e+02 3.210e+02\n",
      " 3.220e+02 3.230e+02 3.240e+02 3.250e+02 3.260e+02 3.270e+02 3.280e+02\n",
      " 3.290e+02 3.300e+02 3.310e+02 3.320e+02 3.330e+02 3.340e+02 3.350e+02\n",
      " 3.360e+02 3.370e+02 3.380e+02 3.390e+02 3.400e+02 3.410e+02 3.420e+02\n",
      " 3.430e+02 3.440e+02 3.450e+02 3.460e+02 3.470e+02 3.480e+02 3.490e+02\n",
      " 3.500e+02 3.510e+02 3.520e+02 3.530e+02 3.540e+02 3.550e+02 3.560e+02\n",
      " 3.570e+02 3.580e+02 3.590e+02 3.600e+02 3.610e+02 3.620e+02 3.630e+02\n",
      " 3.640e+02 3.650e+02 3.660e+02 3.670e+02 3.680e+02 3.690e+02 3.700e+02\n",
      " 3.710e+02 3.720e+02 3.730e+02 3.740e+02 3.750e+02 3.760e+02 3.770e+02\n",
      " 3.780e+02 3.790e+02 3.800e+02 3.810e+02 3.820e+02 3.830e+02 3.840e+02\n",
      " 3.850e+02 3.860e+02 3.870e+02 3.880e+02 3.890e+02 3.900e+02 3.910e+02\n",
      " 3.920e+02 3.930e+02 3.940e+02 3.950e+02 3.960e+02 3.970e+02 3.980e+02\n",
      " 3.990e+02 4.000e+02 4.010e+02 4.020e+02 4.030e+02 4.040e+02 4.050e+02\n",
      " 4.060e+02 4.070e+02 4.080e+02 4.090e+02 4.100e+02 4.110e+02 4.120e+02\n",
      " 4.130e+02 4.140e+02 4.150e+02 4.160e+02 4.170e+02 4.180e+02 4.190e+02\n",
      " 4.200e+02 4.210e+02 4.220e+02 4.230e+02 4.240e+02 4.250e+02 4.260e+02\n",
      " 4.270e+02 4.280e+02 4.290e+02 4.300e+02 4.310e+02 4.320e+02 4.330e+02\n",
      " 4.340e+02 4.350e+02 4.360e+02 4.370e+02 4.380e+02 4.390e+02 4.400e+02\n",
      " 4.410e+02 4.420e+02 4.430e+02 4.440e+02 4.450e+02 4.460e+02 4.470e+02\n",
      " 4.480e+02 4.490e+02 4.500e+02 4.510e+02 4.520e+02 4.530e+02 4.540e+02\n",
      " 4.550e+02 4.560e+02 4.570e+02 4.580e+02 4.590e+02 4.600e+02 4.610e+02\n",
      " 4.620e+02 4.630e+02 4.640e+02 4.650e+02 4.660e+02 4.670e+02 4.680e+02\n",
      " 4.690e+02 4.700e+02 4.710e+02 4.720e+02 4.730e+02 4.740e+02 4.750e+02\n",
      " 4.760e+02 4.770e+02 4.780e+02 4.790e+02 4.800e+02 4.810e+02 4.820e+02\n",
      " 4.830e+02 4.840e+02 4.850e+02 4.860e+02 4.870e+02 4.880e+02 4.890e+02\n",
      " 4.900e+02 4.910e+02 4.920e+02 4.930e+02 4.940e+02 4.950e+02 4.960e+02\n",
      " 4.970e+02 4.980e+02 4.990e+02 5.000e+02 5.010e+02 5.020e+02 5.030e+02\n",
      " 5.040e+02 5.050e+02 5.060e+02 5.070e+02 5.080e+02 5.090e+02 5.100e+02\n",
      " 5.110e+02 5.120e+02 5.130e+02 5.140e+02 5.150e+02 5.160e+02 5.170e+02\n",
      " 5.180e+02 5.190e+02 5.200e+02 5.210e+02 5.220e+02 5.230e+02 5.240e+02\n",
      " 5.250e+02 5.260e+02 5.270e+02 5.280e+02 5.290e+02 5.300e+02 5.310e+02\n",
      " 5.320e+02 5.330e+02 5.340e+02 5.350e+02 5.360e+02 5.370e+02 5.380e+02\n",
      " 5.390e+02 5.400e+02 5.410e+02 5.420e+02 5.430e+02 5.440e+02 5.450e+02\n",
      " 5.460e+02 5.470e+02 5.480e+02 5.490e+02 5.500e+02 5.510e+02 5.520e+02\n",
      " 5.530e+02 5.540e+02 5.550e+02 5.560e+02 5.570e+02 5.580e+02 5.590e+02\n",
      " 5.600e+02 5.610e+02 5.620e+02 5.630e+02 5.640e+02 5.650e+02 5.660e+02\n",
      " 5.670e+02 5.680e+02 5.690e+02 5.700e+02 5.710e+02 5.720e+02 5.730e+02\n",
      " 5.740e+02 5.750e+02 5.760e+02 5.770e+02 5.780e+02 5.790e+02 5.800e+02\n",
      " 5.810e+02 5.820e+02 5.830e+02 5.840e+02 5.850e+02 5.860e+02 5.870e+02\n",
      " 5.880e+02 5.890e+02 5.900e+02 5.910e+02 5.920e+02 5.930e+02 5.940e+02\n",
      " 5.950e+02 5.960e+02 5.970e+02 5.980e+02 5.990e+02 6.000e+02 6.010e+02\n",
      " 6.020e+02 6.030e+02 6.040e+02 6.050e+02 6.060e+02 6.070e+02 6.080e+02\n",
      " 6.090e+02 6.100e+02 6.110e+02 6.120e+02 6.130e+02 6.140e+02 6.150e+02\n",
      " 6.160e+02 6.170e+02 6.180e+02 6.190e+02 6.200e+02 6.210e+02 6.220e+02\n",
      " 6.230e+02 6.240e+02 6.250e+02 6.260e+02 6.270e+02 6.280e+02 6.290e+02\n",
      " 6.300e+02 6.310e+02 6.320e+02 6.330e+02 6.340e+02 6.350e+02 6.360e+02\n",
      " 6.370e+02 6.380e+02 6.390e+02 6.400e+02 6.410e+02 6.420e+02 6.430e+02\n",
      " 6.440e+02 6.450e+02 6.460e+02 6.470e+02 6.480e+02 6.490e+02 6.500e+02\n",
      " 6.510e+02 6.520e+02 6.530e+02 6.540e+02 6.550e+02 6.560e+02 6.570e+02\n",
      " 6.580e+02 6.590e+02 6.600e+02 6.610e+02 6.620e+02 6.630e+02 6.640e+02\n",
      " 6.650e+02 6.660e+02 6.670e+02 6.680e+02 6.690e+02 6.700e+02 6.710e+02\n",
      " 6.720e+02 6.730e+02 6.740e+02 6.750e+02 6.760e+02 6.770e+02 6.780e+02\n",
      " 6.790e+02 6.800e+02 6.810e+02 6.820e+02 6.830e+02 6.840e+02 6.850e+02\n",
      " 6.860e+02 6.870e+02 6.880e+02 6.890e+02 6.900e+02 6.910e+02 6.920e+02\n",
      " 6.930e+02 6.940e+02 6.950e+02 6.960e+02 6.970e+02 6.980e+02 6.990e+02\n",
      " 7.000e+02 7.010e+02 7.020e+02 7.030e+02 7.040e+02 7.050e+02 7.060e+02\n",
      " 7.070e+02 7.080e+02 7.090e+02 7.100e+02 7.110e+02 7.120e+02 7.130e+02\n",
      " 7.140e+02 7.150e+02 7.160e+02 7.170e+02 7.180e+02 7.190e+02 7.210e+02\n",
      " 7.220e+02 7.230e+02 7.240e+02 7.250e+02 7.260e+02 7.270e+02 7.280e+02\n",
      " 7.290e+02 7.300e+02 7.310e+02 7.320e+02 7.330e+02 7.350e+02 7.360e+02\n",
      " 7.370e+02 7.380e+02 7.390e+02 7.400e+02 7.410e+02 7.420e+02 7.440e+02\n",
      " 7.450e+02 7.460e+02 7.480e+02 7.490e+02 7.510e+02 7.530e+02 7.540e+02\n",
      " 7.550e+02 7.560e+02 7.570e+02 7.580e+02 7.590e+02 7.600e+02 7.610e+02\n",
      " 7.620e+02 7.630e+02 7.640e+02 7.650e+02 7.660e+02 7.670e+02 7.680e+02\n",
      " 7.690e+02 7.700e+02 7.710e+02 7.750e+02 7.780e+02 7.790e+02 7.800e+02\n",
      " 7.820e+02 7.830e+02 7.840e+02 7.860e+02 7.870e+02 7.880e+02 7.890e+02\n",
      " 7.900e+02 7.910e+02 7.920e+02 7.930e+02 7.940e+02 7.960e+02 7.970e+02\n",
      " 7.980e+02 7.990e+02 8.000e+02 8.010e+02 8.020e+02 8.030e+02 8.040e+02\n",
      " 8.050e+02 8.060e+02 8.080e+02 8.090e+02 8.110e+02 8.120e+02 8.140e+02\n",
      " 8.160e+02 8.170e+02 8.200e+02 8.220e+02 8.230e+02 8.260e+02 8.270e+02\n",
      " 8.280e+02 8.290e+02 8.300e+02 8.310e+02 8.320e+02 8.340e+02 8.350e+02\n",
      " 8.390e+02 8.410e+02 8.420e+02 8.430e+02 8.450e+02 8.460e+02 8.470e+02\n",
      " 8.480e+02 8.500e+02 8.520e+02 8.530e+02 8.560e+02 8.580e+02 8.590e+02\n",
      " 8.600e+02 8.610e+02 8.620e+02 8.630e+02 8.660e+02 8.670e+02 8.680e+02\n",
      " 8.690e+02 8.700e+02 8.730e+02 8.750e+02 8.790e+02 8.850e+02 8.860e+02\n",
      " 8.870e+02 8.880e+02 8.890e+02 8.900e+02 8.930e+02 8.980e+02 9.030e+02\n",
      " 9.040e+02 9.060e+02 9.090e+02 9.130e+02 9.150e+02 9.160e+02 9.170e+02\n",
      " 9.190e+02 9.200e+02 9.210e+02 9.270e+02 9.290e+02 9.320e+02 9.330e+02\n",
      " 9.340e+02 9.360e+02 9.370e+02 9.380e+02 9.410e+02 9.420e+02 9.430e+02\n",
      " 9.450e+02 9.510e+02 9.520e+02 9.560e+02 9.610e+02 9.630e+02 9.650e+02\n",
      " 9.660e+02 9.670e+02 9.680e+02 9.690e+02 9.730e+02 9.740e+02 9.790e+02\n",
      " 9.800e+02 9.810e+02 9.850e+02 9.930e+02 9.970e+02 1.007e+03 1.008e+03\n",
      " 1.011e+03 1.021e+03 1.022e+03 1.028e+03 1.040e+03 1.041e+03 1.049e+03\n",
      " 1.053e+03 1.057e+03 1.061e+03 1.064e+03 1.065e+03 1.069e+03 1.073e+03\n",
      " 1.074e+03 1.077e+03 1.079e+03 1.086e+03 1.094e+03 1.097e+03 1.098e+03\n",
      " 1.103e+03 1.114e+03 1.120e+03 1.133e+03 1.145e+03 1.148e+03 1.150e+03\n",
      " 1.167e+03 1.181e+03 1.186e+03 1.188e+03 1.190e+03 1.191e+03 1.199e+03\n",
      " 1.200e+03 1.205e+03 1.211e+03 1.213e+03 1.215e+03 1.228e+03 1.248e+03\n",
      " 1.256e+03 1.262e+03 1.264e+03 1.270e+03 1.272e+03 1.299e+03 1.304e+03\n",
      " 1.312e+03 1.326e+03 1.329e+03 1.342e+03 1.354e+03 1.361e+03 1.362e+03\n",
      " 1.364e+03 1.400e+03 1.416e+03 1.423e+03 1.424e+03 1.443e+03 1.477e+03\n",
      " 1.481e+03 1.496e+03 1.499e+03 1.501e+03 1.510e+03 1.514e+03 1.562e+03\n",
      " 1.564e+03 1.568e+03 1.586e+03 1.596e+03 1.620e+03 1.648e+03 1.657e+03\n",
      " 1.722e+03 1.731e+03 1.756e+03 1.767e+03 1.790e+03 1.798e+03 1.802e+03\n",
      " 1.809e+03 1.887e+03 1.909e+03 1.942e+03 1.951e+03 2.009e+03 2.026e+03\n",
      " 2.066e+03 2.102e+03 2.131e+03 2.137e+03 2.209e+03 2.218e+03 2.245e+03\n",
      " 2.276e+03 2.295e+03 2.348e+03 2.409e+03 2.416e+03 2.427e+03 2.467e+03\n",
      " 2.489e+03 2.532e+03 2.555e+03 2.633e+03 2.665e+03 2.711e+03 2.747e+03\n",
      " 2.768e+03 2.847e+03 2.880e+03 2.888e+03 2.905e+03 2.984e+03 3.013e+03\n",
      " 3.064e+03 3.190e+03]\n",
      "\n",
      "ponds_around3000\n",
      "[0 1 2 3]\n",
      "\n",
      "ponds_nearest\n",
      "[   0.   13.   16. ... 1337. 1341. 1344.]\n",
      "\n",
      "days_exposition\n",
      "[1.000e+00 2.000e+00 3.000e+00 ... 1.572e+03 1.580e+03       nan]\n",
      "\n"
     ]
    }
   ],
   "source": [
    "for column in df.columns:\n",
    "    print(column)\n",
    "    print(df[column].sort_values().unique())\n",
    "    print('')"
   ]
  },
  {
   "cell_type": "markdown",
   "metadata": {},
   "source": [
    "##### В столбце ceiling_height есть занчения с потолком ниже 2,4 м. По нормам это недопустимо."
   ]
  },
  {
   "cell_type": "code",
   "execution_count": 32,
   "metadata": {},
   "outputs": [
    {
     "data": {
      "text/plain": [
       "21"
      ]
     },
     "execution_count": 32,
     "metadata": {},
     "output_type": "execute_result"
    }
   ],
   "source": [
    "len(df.query('ceiling_height < 2.4'))"
   ]
  },
  {
   "cell_type": "markdown",
   "metadata": {},
   "source": [
    "Всего 21 объявление с такой высотой потолков. Удалим их."
   ]
  },
  {
   "cell_type": "code",
   "execution_count": 33,
   "metadata": {},
   "outputs": [
    {
     "data": {
      "text/plain": [
       "0"
      ]
     },
     "execution_count": 33,
     "metadata": {},
     "output_type": "execute_result"
    }
   ],
   "source": [
    "df = df[df['ceiling_height'] > 2.4]\n",
    "len(df.query('ceiling_height < 2.4'))"
   ]
  },
  {
   "cell_type": "markdown",
   "metadata": {},
   "source": [
    "В этом же столбце есть значение больше 24, это ошибка заменим их на значения в десять раз меньше."
   ]
  },
  {
   "cell_type": "code",
   "execution_count": 34,
   "metadata": {},
   "outputs": [
    {
     "data": {
      "text/plain": [
       "20"
      ]
     },
     "execution_count": 34,
     "metadata": {},
     "output_type": "execute_result"
    }
   ],
   "source": [
    "len(df.query('ceiling_height > 24'))"
   ]
  },
  {
   "cell_type": "code",
   "execution_count": 35,
   "metadata": {},
   "outputs": [
    {
     "data": {
      "text/plain": [
       "0"
      ]
     },
     "execution_count": 35,
     "metadata": {},
     "output_type": "execute_result"
    }
   ],
   "source": [
    "df['ceiling_height'] = df['ceiling_height'].where(df['ceiling_height'] < 24.0, df['ceiling_height'] / 10)\n",
    "len(df.query('ceiling_height > 24'))"
   ]
  },
  {
   "cell_type": "markdown",
   "metadata": {},
   "source": [
    "##### В столбце floors_total есть значения с количеством этажей больше 37. В Санкт-Петербурге самое высокое  жилое здание в жилом комплексе «Князь Александр Невский» имеет 37 этажей. Выше него только бц \"Лидер Тауэр\" и Лахта центр, но в первом нет жилых помещений, а второй еще не достроен."
   ]
  },
  {
   "cell_type": "code",
   "execution_count": 36,
   "metadata": {},
   "outputs": [
    {
     "data": {
      "text/plain": [
       "2"
      ]
     },
     "execution_count": 36,
     "metadata": {},
     "output_type": "execute_result"
    }
   ],
   "source": [
    "len(df.query('floors_total > 37'))"
   ]
  },
  {
   "cell_type": "markdown",
   "metadata": {},
   "source": [
    "Всего 2 таких объявления. Удалим их."
   ]
  },
  {
   "cell_type": "code",
   "execution_count": 37,
   "metadata": {},
   "outputs": [
    {
     "data": {
      "text/plain": [
       "0"
      ]
     },
     "execution_count": 37,
     "metadata": {},
     "output_type": "execute_result"
    }
   ],
   "source": [
    "df = df[df['floors_total'] <= 37]\n",
    "len(df.query('floors_total > 37'))"
   ]
  },
  {
   "cell_type": "markdown",
   "metadata": {
    "slideshow": {
     "slide_type": "-"
    }
   },
   "source": [
    "##### После этих манипуляций не осталось пропусков в столбце floors_total, можно смело преобразовать значения в этом столбце в int."
   ]
  },
  {
   "cell_type": "code",
   "execution_count": 38,
   "metadata": {},
   "outputs": [
    {
     "data": {
      "text/plain": [
       "0"
      ]
     },
     "execution_count": 38,
     "metadata": {},
     "output_type": "execute_result"
    }
   ],
   "source": [
    "df['floors_total'].isna().sum() "
   ]
  },
  {
   "cell_type": "code",
   "execution_count": 39,
   "metadata": {},
   "outputs": [
    {
     "data": {
      "text/plain": [
       "dtype('int64')"
      ]
     },
     "execution_count": 39,
     "metadata": {},
     "output_type": "execute_result"
    }
   ],
   "source": [
    "df['floors_total'] = df['floors_total'].astype('int64')\n",
    "df['floors_total'].dtypes"
   ]
  },
  {
   "cell_type": "markdown",
   "metadata": {},
   "source": [
    "##### В столбце с жилой площадью есть квартиры со значением меньше 9 кв. м. Это запрещено жилищным кодексом"
   ]
  },
  {
   "cell_type": "code",
   "execution_count": 40,
   "metadata": {},
   "outputs": [
    {
     "data": {
      "text/plain": [
       "19"
      ]
     },
     "execution_count": 40,
     "metadata": {},
     "output_type": "execute_result"
    }
   ],
   "source": [
    "len(df.query('living_area < 9'))"
   ]
  },
  {
   "cell_type": "markdown",
   "metadata": {},
   "source": [
    "Всего 14 таких квартир. Удалим их."
   ]
  },
  {
   "cell_type": "code",
   "execution_count": 665,
   "metadata": {},
   "outputs": [
    {
     "data": {
      "text/plain": [
       "0"
      ]
     },
     "execution_count": 665,
     "metadata": {},
     "output_type": "execute_result"
    }
   ],
   "source": [
    "df = df[df['living_area'] >= 9]\n",
    "len(df.query('living_area < 9'))"
   ]
  },
  {
   "cell_type": "markdown",
   "metadata": {},
   "source": [
    "##### В столбце с общей площадью есть квартиры со значением меньше 13,65 кв. м. Это запрещено жилищным кодексом"
   ]
  },
  {
   "cell_type": "code",
   "execution_count": 666,
   "metadata": {},
   "outputs": [
    {
     "data": {
      "text/plain": [
       "2"
      ]
     },
     "execution_count": 666,
     "metadata": {},
     "output_type": "execute_result"
    }
   ],
   "source": [
    "len(df.query('total_area < 13.65'))"
   ]
  },
  {
   "cell_type": "markdown",
   "metadata": {},
   "source": [
    "Всего 2 такие квартиры. Удалим их."
   ]
  },
  {
   "cell_type": "code",
   "execution_count": 667,
   "metadata": {
    "scrolled": true
   },
   "outputs": [
    {
     "data": {
      "text/plain": [
       "0"
      ]
     },
     "execution_count": 667,
     "metadata": {},
     "output_type": "execute_result"
    }
   ],
   "source": [
    "df = df[df['total_area'] >= 13.65]\n",
    "len(df.query('total_area < 13.65'))"
   ]
  },
  {
   "cell_type": "markdown",
   "metadata": {},
   "source": [
    "##### Очень много нулевых значений в столбце и с количеством парков и расстоянием до ближайшего парка. Нет парка - нет расстояния. "
   ]
  },
  {
   "cell_type": "code",
   "execution_count": 43,
   "metadata": {
    "scrolled": false
   },
   "outputs": [
    {
     "data": {
      "text/plain": [
       "15538"
      ]
     },
     "execution_count": 43,
     "metadata": {},
     "output_type": "execute_result"
    }
   ],
   "source": [
    "len(df.query('parks_nearest == 0 and parks_around3000 == 0'))"
   ]
  },
  {
   "cell_type": "markdown",
   "metadata": {},
   "source": [
    "#####  Взглянем на всякий случай на информацию о водоемах. "
   ]
  },
  {
   "cell_type": "code",
   "execution_count": 44,
   "metadata": {
    "scrolled": false
   },
   "outputs": [
    {
     "data": {
      "text/html": [
       "<div>\n",
       "<style scoped>\n",
       "    .dataframe tbody tr th:only-of-type {\n",
       "        vertical-align: middle;\n",
       "    }\n",
       "\n",
       "    .dataframe tbody tr th {\n",
       "        vertical-align: top;\n",
       "    }\n",
       "\n",
       "    .dataframe thead th {\n",
       "        text-align: right;\n",
       "    }\n",
       "</style>\n",
       "<table border=\"1\" class=\"dataframe\">\n",
       "  <thead>\n",
       "    <tr style=\"text-align: right;\">\n",
       "      <th></th>\n",
       "      <th>total_images</th>\n",
       "      <th>last_price</th>\n",
       "      <th>total_area</th>\n",
       "      <th>first_day_exposition</th>\n",
       "      <th>rooms</th>\n",
       "      <th>ceiling_height</th>\n",
       "      <th>floors_total</th>\n",
       "      <th>living_area</th>\n",
       "      <th>floor</th>\n",
       "      <th>is_apartment</th>\n",
       "      <th>...</th>\n",
       "      <th>kitchen_area</th>\n",
       "      <th>balcony</th>\n",
       "      <th>locality_name</th>\n",
       "      <th>airports_nearest</th>\n",
       "      <th>cityCenters_nearest</th>\n",
       "      <th>parks_around3000</th>\n",
       "      <th>parks_nearest</th>\n",
       "      <th>ponds_around3000</th>\n",
       "      <th>ponds_nearest</th>\n",
       "      <th>days_exposition</th>\n",
       "    </tr>\n",
       "  </thead>\n",
       "  <tbody>\n",
       "    <tr>\n",
       "      <th>13575</th>\n",
       "      <td>10</td>\n",
       "      <td>3,900,000.0</td>\n",
       "      <td>60.0</td>\n",
       "      <td>2018-08-01</td>\n",
       "      <td>2</td>\n",
       "      <td>2.6</td>\n",
       "      <td>5</td>\n",
       "      <td>34.6</td>\n",
       "      <td>4</td>\n",
       "      <td>False</td>\n",
       "      <td>...</td>\n",
       "      <td>10.5</td>\n",
       "      <td>0</td>\n",
       "      <td>Выборг</td>\n",
       "      <td>NaN</td>\n",
       "      <td>NaN</td>\n",
       "      <td>0</td>\n",
       "      <td>0.0</td>\n",
       "      <td>0</td>\n",
       "      <td>0.0</td>\n",
       "      <td>45.0</td>\n",
       "    </tr>\n",
       "    <tr>\n",
       "      <th>12656</th>\n",
       "      <td>7</td>\n",
       "      <td>4,500,000.0</td>\n",
       "      <td>37.7</td>\n",
       "      <td>2019-04-22</td>\n",
       "      <td>1</td>\n",
       "      <td>2.6</td>\n",
       "      <td>26</td>\n",
       "      <td>14.2</td>\n",
       "      <td>1</td>\n",
       "      <td>False</td>\n",
       "      <td>...</td>\n",
       "      <td>10.8</td>\n",
       "      <td>0</td>\n",
       "      <td>посёлок Парголово</td>\n",
       "      <td>53,179.0</td>\n",
       "      <td>19,356.0</td>\n",
       "      <td>0</td>\n",
       "      <td>0.0</td>\n",
       "      <td>0</td>\n",
       "      <td>0.0</td>\n",
       "      <td>NaN</td>\n",
       "    </tr>\n",
       "    <tr>\n",
       "      <th>9303</th>\n",
       "      <td>8</td>\n",
       "      <td>1,090,000.0</td>\n",
       "      <td>31.0</td>\n",
       "      <td>2018-06-18</td>\n",
       "      <td>1</td>\n",
       "      <td>2.6</td>\n",
       "      <td>5</td>\n",
       "      <td>17.9</td>\n",
       "      <td>4</td>\n",
       "      <td>False</td>\n",
       "      <td>...</td>\n",
       "      <td>5.4</td>\n",
       "      <td>0</td>\n",
       "      <td>деревня Старые Бегуницы</td>\n",
       "      <td>NaN</td>\n",
       "      <td>NaN</td>\n",
       "      <td>0</td>\n",
       "      <td>0.0</td>\n",
       "      <td>0</td>\n",
       "      <td>0.0</td>\n",
       "      <td>45.0</td>\n",
       "    </tr>\n",
       "    <tr>\n",
       "      <th>2675</th>\n",
       "      <td>0</td>\n",
       "      <td>3,900,000.0</td>\n",
       "      <td>39.1</td>\n",
       "      <td>2017-12-13</td>\n",
       "      <td>1</td>\n",
       "      <td>2.6</td>\n",
       "      <td>5</td>\n",
       "      <td>17.8</td>\n",
       "      <td>4</td>\n",
       "      <td>False</td>\n",
       "      <td>...</td>\n",
       "      <td>8.6</td>\n",
       "      <td>1</td>\n",
       "      <td>Пушкин</td>\n",
       "      <td>14,135.0</td>\n",
       "      <td>26,288.0</td>\n",
       "      <td>0</td>\n",
       "      <td>0.0</td>\n",
       "      <td>0</td>\n",
       "      <td>0.0</td>\n",
       "      <td>331.0</td>\n",
       "    </tr>\n",
       "    <tr>\n",
       "      <th>18848</th>\n",
       "      <td>6</td>\n",
       "      <td>28,500,000.0</td>\n",
       "      <td>270.0</td>\n",
       "      <td>2015-03-02</td>\n",
       "      <td>16</td>\n",
       "      <td>3.0</td>\n",
       "      <td>4</td>\n",
       "      <td>180.0</td>\n",
       "      <td>4</td>\n",
       "      <td>False</td>\n",
       "      <td>...</td>\n",
       "      <td>13.0</td>\n",
       "      <td>1</td>\n",
       "      <td>Санкт-Петербург</td>\n",
       "      <td>23,575.0</td>\n",
       "      <td>4,142.0</td>\n",
       "      <td>1</td>\n",
       "      <td>516.0</td>\n",
       "      <td>0</td>\n",
       "      <td>0.0</td>\n",
       "      <td>1,365.0</td>\n",
       "    </tr>\n",
       "  </tbody>\n",
       "</table>\n",
       "<p>5 rows × 22 columns</p>\n",
       "</div>"
      ],
      "text/plain": [
       "       total_images   last_price  total_area first_day_exposition  rooms  \\\n",
       "13575            10  3,900,000.0        60.0           2018-08-01      2   \n",
       "12656             7  4,500,000.0        37.7           2019-04-22      1   \n",
       "9303              8  1,090,000.0        31.0           2018-06-18      1   \n",
       "2675              0  3,900,000.0        39.1           2017-12-13      1   \n",
       "18848             6 28,500,000.0       270.0           2015-03-02     16   \n",
       "\n",
       "       ceiling_height  floors_total  living_area  floor  is_apartment  ...  \\\n",
       "13575             2.6             5         34.6      4         False  ...   \n",
       "12656             2.6            26         14.2      1         False  ...   \n",
       "9303              2.6             5         17.9      4         False  ...   \n",
       "2675              2.6             5         17.8      4         False  ...   \n",
       "18848             3.0             4        180.0      4         False  ...   \n",
       "\n",
       "       kitchen_area  balcony            locality_name  airports_nearest  \\\n",
       "13575          10.5        0                   Выборг               NaN   \n",
       "12656          10.8        0        посёлок Парголово          53,179.0   \n",
       "9303            5.4        0  деревня Старые Бегуницы               NaN   \n",
       "2675            8.6        1                   Пушкин          14,135.0   \n",
       "18848          13.0        1          Санкт-Петербург          23,575.0   \n",
       "\n",
       "      cityCenters_nearest  parks_around3000  parks_nearest  ponds_around3000  \\\n",
       "13575                 NaN                 0            0.0                 0   \n",
       "12656            19,356.0                 0            0.0                 0   \n",
       "9303                  NaN                 0            0.0                 0   \n",
       "2675             26,288.0                 0            0.0                 0   \n",
       "18848             4,142.0                 1          516.0                 0   \n",
       "\n",
       "       ponds_nearest  days_exposition  \n",
       "13575            0.0             45.0  \n",
       "12656            0.0              NaN  \n",
       "9303             0.0             45.0  \n",
       "2675             0.0            331.0  \n",
       "18848            0.0          1,365.0  \n",
       "\n",
       "[5 rows x 22 columns]"
      ]
     },
     "execution_count": 44,
     "metadata": {},
     "output_type": "execute_result"
    }
   ],
   "source": [
    "df.query('ponds_nearest == 0 and ponds_around3000 == 0').sample(5)"
   ]
  },
  {
   "cell_type": "markdown",
   "metadata": {},
   "source": [
    "Та же ситуация. В дальнейшем стоит учесть, что если в столбце с расстоянием до парка/водоема стоит 0, то это означает отсутствие парка/водоема в радиусе 3 км. "
   ]
  },
  {
   "cell_type": "markdown",
   "metadata": {},
   "source": [
    "##### В столбце с  количеством комнат есть значения 0. Вероятнее всего это студии. В строительных нормах и правилах Российской Федерации определение квартиры-студии не закреплено, и чаще всего их определяют как однокомнатную квартиру свободной планировки. Можно заменить эти значения на 1, но я бы оставил как 0 чтобы не терять информацию по таким квартирам, а в дальнейшем анализе учитывал бы этот момент."
   ]
  },
  {
   "cell_type": "markdown",
   "metadata": {},
   "source": [
    "Но есть такие квартиры, которые не студии, но с количеством комнат 0. Это явно ошибка. Таких квартир 55 штук. Удалим их."
   ]
  },
  {
   "cell_type": "code",
   "execution_count": 45,
   "metadata": {
    "scrolled": true
   },
   "outputs": [
    {
     "data": {
      "text/plain": [
       "59"
      ]
     },
     "execution_count": 45,
     "metadata": {},
     "output_type": "execute_result"
    }
   ],
   "source": [
    "len(df.query('studio == False and rooms == 0'))"
   ]
  },
  {
   "cell_type": "code",
   "execution_count": 46,
   "metadata": {},
   "outputs": [
    {
     "data": {
      "text/plain": [
       "0"
      ]
     },
     "execution_count": 46,
     "metadata": {},
     "output_type": "execute_result"
    }
   ],
   "source": [
    "df = df.query('not(studio == False and rooms == 0)')\n",
    "len(df.query('studio == False and rooms == 0'))"
   ]
  },
  {
   "cell_type": "markdown",
   "metadata": {},
   "source": [
    "#### Удалим неявные дубликаты в столбце с названием населеного пункта"
   ]
  },
  {
   "cell_type": "markdown",
   "metadata": {},
   "source": [
    "##### Первым делом заменим все 'посёлок' на 'поселок'"
   ]
  },
  {
   "cell_type": "code",
   "execution_count": 47,
   "metadata": {},
   "outputs": [
    {
     "data": {
      "text/plain": [
       "330"
      ]
     },
     "execution_count": 47,
     "metadata": {},
     "output_type": "execute_result"
    }
   ],
   "source": [
    "df.locality_name = df[df['locality_name'].notna()].locality_name.apply(lambda x: x.replace('посёлок', 'поселок'))\n",
    "len(df.locality_name.unique())"
   ]
  },
  {
   "cell_type": "markdown",
   "metadata": {},
   "source": [
    "##### Далее заменим 'поселок городского типа', 'коттеджный поселок' и 'городской поселок' на 'поселок'"
   ]
  },
  {
   "cell_type": "code",
   "execution_count": 48,
   "metadata": {},
   "outputs": [
    {
     "data": {
      "text/plain": [
       "322"
      ]
     },
     "execution_count": 48,
     "metadata": {},
     "output_type": "execute_result"
    }
   ],
   "source": [
    "df.locality_name = df[df['locality_name'].notna()].locality_name.apply(lambda x: x.replace('поселок городского типа', 'поселок'))\n",
    "df.locality_name = df[df['locality_name'].notna()].locality_name.apply(lambda x: x.replace('городской поселок', 'поселок'))\n",
    "df.locality_name = df[df['locality_name'].notna()].locality_name.apply(lambda x: x.replace('коттеджный посёлок', 'поселок'))\n",
    "len(df.locality_name.unique())"
   ]
  },
  {
   "cell_type": "markdown",
   "metadata": {},
   "source": [
    "### Посчитаем и добавим в таблицу новые столбцы"
   ]
  },
  {
   "cell_type": "markdown",
   "metadata": {},
   "source": [
    "#### Добавим столбец с ценой одного квадратного метра"
   ]
  },
  {
   "cell_type": "code",
   "execution_count": 49,
   "metadata": {},
   "outputs": [],
   "source": [
    "df['one_square_price'] = df['last_price'] / df['total_area']"
   ]
  },
  {
   "cell_type": "markdown",
   "metadata": {},
   "source": [
    "#### Добавим столбец с днем недели публикации объявления (0 — понедельник, 1 — вторник и так далее);"
   ]
  },
  {
   "cell_type": "code",
   "execution_count": 50,
   "metadata": {},
   "outputs": [],
   "source": [
    "df['day_of_publication'] = df['first_day_exposition'].dt.weekday"
   ]
  },
  {
   "cell_type": "markdown",
   "metadata": {},
   "source": [
    "#### Добавим столбец c месяцем публикации объявления"
   ]
  },
  {
   "cell_type": "code",
   "execution_count": 51,
   "metadata": {},
   "outputs": [],
   "source": [
    "df['month_of_publication'] = df['first_day_exposition'].dt.month"
   ]
  },
  {
   "cell_type": "markdown",
   "metadata": {},
   "source": [
    "#### Добавим столбец c годом публикации объявления"
   ]
  },
  {
   "cell_type": "code",
   "execution_count": 52,
   "metadata": {},
   "outputs": [],
   "source": [
    "df['year_of_publication'] = df['first_day_exposition'].dt.year"
   ]
  },
  {
   "cell_type": "markdown",
   "metadata": {},
   "source": [
    "#### Добавим столбец с типом этажа квартиры (значения — «‎первый», «последний», «другой»)"
   ]
  },
  {
   "cell_type": "code",
   "execution_count": 54,
   "metadata": {},
   "outputs": [],
   "source": [
    "def type_of_flat(floor, floors_total):\n",
    "    '''\n",
    "    Функция для сравнения значений в столбцах floor и floors_total. \n",
    "    Если значение в floor равно 1, то функция возвращает 'первый'. \n",
    "    Если значение в столбце 'первый' и 'floors_total' равны, то возвращает 'последний'. \n",
    "    В ином случае возвращает 'другой'.\n",
    "    '''\n",
    "    try:\n",
    "        if floor == 1:\n",
    "            return 'первый'\n",
    "        elif floor == floors_total:\n",
    "            return 'последний'\n",
    "        return 'другой'\n",
    "    except:\n",
    "        return 'неверные входные данные' "
   ]
  },
  {
   "cell_type": "code",
   "execution_count": 55,
   "metadata": {},
   "outputs": [],
   "source": [
    "df['type_of_flat'] = df.apply(lambda x: type_of_flat(x['floor'], x['floors_total']), axis=1)"
   ]
  },
  {
   "cell_type": "markdown",
   "metadata": {},
   "source": [
    "#### Добавим столбец с расстоянием до центра города в километрах"
   ]
  },
  {
   "cell_type": "code",
   "execution_count": 56,
   "metadata": {},
   "outputs": [],
   "source": [
    "df['cityCenters_nearest_in_km'] = df['cityCenters_nearest'] / 1000\n",
    "df['cityCenters_nearest_in_km'] = df[df['cityCenters_nearest_in_km'].notna()].cityCenters_nearest_in_km.apply(lambda x: round(x))"
   ]
  },
  {
   "cell_type": "markdown",
   "metadata": {},
   "source": [
    "Проверим  добавленные столбцы"
   ]
  },
  {
   "cell_type": "code",
   "execution_count": 58,
   "metadata": {},
   "outputs": [
    {
     "data": {
      "text/html": [
       "<div>\n",
       "<style scoped>\n",
       "    .dataframe tbody tr th:only-of-type {\n",
       "        vertical-align: middle;\n",
       "    }\n",
       "\n",
       "    .dataframe tbody tr th {\n",
       "        vertical-align: top;\n",
       "    }\n",
       "\n",
       "    .dataframe thead th {\n",
       "        text-align: right;\n",
       "    }\n",
       "</style>\n",
       "<table border=\"1\" class=\"dataframe\">\n",
       "  <thead>\n",
       "    <tr style=\"text-align: right;\">\n",
       "      <th></th>\n",
       "      <th>total_images</th>\n",
       "      <th>last_price</th>\n",
       "      <th>total_area</th>\n",
       "      <th>first_day_exposition</th>\n",
       "      <th>rooms</th>\n",
       "      <th>ceiling_height</th>\n",
       "      <th>floors_total</th>\n",
       "      <th>living_area</th>\n",
       "      <th>floor</th>\n",
       "      <th>is_apartment</th>\n",
       "      <th>...</th>\n",
       "      <th>parks_nearest</th>\n",
       "      <th>ponds_around3000</th>\n",
       "      <th>ponds_nearest</th>\n",
       "      <th>days_exposition</th>\n",
       "      <th>one_square_price</th>\n",
       "      <th>day_of_publication</th>\n",
       "      <th>month_of_publication</th>\n",
       "      <th>year_of_publication</th>\n",
       "      <th>type_of_flat</th>\n",
       "      <th>cityCenters_nearest_in_km</th>\n",
       "    </tr>\n",
       "  </thead>\n",
       "  <tbody>\n",
       "    <tr>\n",
       "      <th>20718</th>\n",
       "      <td>3</td>\n",
       "      <td>1,950,000.0</td>\n",
       "      <td>36.0</td>\n",
       "      <td>2018-11-12</td>\n",
       "      <td>1</td>\n",
       "      <td>2.6</td>\n",
       "      <td>5</td>\n",
       "      <td>18.0</td>\n",
       "      <td>3</td>\n",
       "      <td>False</td>\n",
       "      <td>...</td>\n",
       "      <td>0.0</td>\n",
       "      <td>0</td>\n",
       "      <td>0.0</td>\n",
       "      <td>54.0</td>\n",
       "      <td>54,166.7</td>\n",
       "      <td>0</td>\n",
       "      <td>11</td>\n",
       "      <td>2018</td>\n",
       "      <td>другой</td>\n",
       "      <td>NaN</td>\n",
       "    </tr>\n",
       "    <tr>\n",
       "      <th>23684</th>\n",
       "      <td>20</td>\n",
       "      <td>21,400,000.0</td>\n",
       "      <td>145.0</td>\n",
       "      <td>2018-11-02</td>\n",
       "      <td>4</td>\n",
       "      <td>3.0</td>\n",
       "      <td>26</td>\n",
       "      <td>71.4</td>\n",
       "      <td>17</td>\n",
       "      <td>False</td>\n",
       "      <td>...</td>\n",
       "      <td>0.0</td>\n",
       "      <td>0</td>\n",
       "      <td>0.0</td>\n",
       "      <td>NaN</td>\n",
       "      <td>147,586.2</td>\n",
       "      <td>4</td>\n",
       "      <td>11</td>\n",
       "      <td>2018</td>\n",
       "      <td>другой</td>\n",
       "      <td>11.0</td>\n",
       "    </tr>\n",
       "    <tr>\n",
       "      <th>20253</th>\n",
       "      <td>19</td>\n",
       "      <td>9,250,000.0</td>\n",
       "      <td>75.0</td>\n",
       "      <td>2019-01-11</td>\n",
       "      <td>3</td>\n",
       "      <td>3.0</td>\n",
       "      <td>3</td>\n",
       "      <td>52.6</td>\n",
       "      <td>3</td>\n",
       "      <td>False</td>\n",
       "      <td>...</td>\n",
       "      <td>160.0</td>\n",
       "      <td>3</td>\n",
       "      <td>90.0</td>\n",
       "      <td>18.0</td>\n",
       "      <td>123,333.3</td>\n",
       "      <td>4</td>\n",
       "      <td>1</td>\n",
       "      <td>2019</td>\n",
       "      <td>последний</td>\n",
       "      <td>30.0</td>\n",
       "    </tr>\n",
       "    <tr>\n",
       "      <th>27</th>\n",
       "      <td>20</td>\n",
       "      <td>7,100,000.0</td>\n",
       "      <td>70.0</td>\n",
       "      <td>2017-05-12</td>\n",
       "      <td>3</td>\n",
       "      <td>2.6</td>\n",
       "      <td>17</td>\n",
       "      <td>49.0</td>\n",
       "      <td>11</td>\n",
       "      <td>False</td>\n",
       "      <td>...</td>\n",
       "      <td>452.0</td>\n",
       "      <td>1</td>\n",
       "      <td>779.0</td>\n",
       "      <td>151.0</td>\n",
       "      <td>101,428.6</td>\n",
       "      <td>4</td>\n",
       "      <td>5</td>\n",
       "      <td>2017</td>\n",
       "      <td>другой</td>\n",
       "      <td>11.0</td>\n",
       "    </tr>\n",
       "    <tr>\n",
       "      <th>5700</th>\n",
       "      <td>10</td>\n",
       "      <td>5,100,000.0</td>\n",
       "      <td>66.0</td>\n",
       "      <td>2018-12-18</td>\n",
       "      <td>3</td>\n",
       "      <td>2.5</td>\n",
       "      <td>9</td>\n",
       "      <td>47.0</td>\n",
       "      <td>1</td>\n",
       "      <td>False</td>\n",
       "      <td>...</td>\n",
       "      <td>0.0</td>\n",
       "      <td>0</td>\n",
       "      <td>0.0</td>\n",
       "      <td>84.0</td>\n",
       "      <td>77,272.7</td>\n",
       "      <td>1</td>\n",
       "      <td>12</td>\n",
       "      <td>2018</td>\n",
       "      <td>первый</td>\n",
       "      <td>15.0</td>\n",
       "    </tr>\n",
       "  </tbody>\n",
       "</table>\n",
       "<p>5 rows × 28 columns</p>\n",
       "</div>"
      ],
      "text/plain": [
       "       total_images   last_price  total_area first_day_exposition  rooms  \\\n",
       "20718             3  1,950,000.0        36.0           2018-11-12      1   \n",
       "23684            20 21,400,000.0       145.0           2018-11-02      4   \n",
       "20253            19  9,250,000.0        75.0           2019-01-11      3   \n",
       "27               20  7,100,000.0        70.0           2017-05-12      3   \n",
       "5700             10  5,100,000.0        66.0           2018-12-18      3   \n",
       "\n",
       "       ceiling_height  floors_total  living_area  floor  is_apartment  ...  \\\n",
       "20718             2.6             5         18.0      3         False  ...   \n",
       "23684             3.0            26         71.4     17         False  ...   \n",
       "20253             3.0             3         52.6      3         False  ...   \n",
       "27                2.6            17         49.0     11         False  ...   \n",
       "5700              2.5             9         47.0      1         False  ...   \n",
       "\n",
       "       parks_nearest  ponds_around3000  ponds_nearest  days_exposition  \\\n",
       "20718            0.0                 0            0.0             54.0   \n",
       "23684            0.0                 0            0.0              NaN   \n",
       "20253          160.0                 3           90.0             18.0   \n",
       "27             452.0                 1          779.0            151.0   \n",
       "5700             0.0                 0            0.0             84.0   \n",
       "\n",
       "      one_square_price  day_of_publication  month_of_publication  \\\n",
       "20718         54,166.7                   0                    11   \n",
       "23684        147,586.2                   4                    11   \n",
       "20253        123,333.3                   4                     1   \n",
       "27           101,428.6                   4                     5   \n",
       "5700          77,272.7                   1                    12   \n",
       "\n",
       "       year_of_publication  type_of_flat  cityCenters_nearest_in_km  \n",
       "20718                 2018        другой                        NaN  \n",
       "23684                 2018        другой                       11.0  \n",
       "20253                 2019     последний                       30.0  \n",
       "27                    2017        другой                       11.0  \n",
       "5700                  2018        первый                       15.0  \n",
       "\n",
       "[5 rows x 28 columns]"
      ]
     },
     "execution_count": 58,
     "metadata": {},
     "output_type": "execute_result"
    }
   ],
   "source": [
    "df.sample(5)"
   ]
  },
  {
   "cell_type": "markdown",
   "metadata": {},
   "source": [
    "### Исследовательский анализ данных"
   ]
  },
  {
   "cell_type": "markdown",
   "metadata": {},
   "source": [
    "#### Изучим следующие параметры объектов: \n",
    "- общая площадь;\n",
    "- жилая площадь;\n",
    "- площадь кухни;\n",
    "- цена объекта;\n",
    "- количество комнат;\n",
    "- высота потолков;\n",
    "- этаж квартиры;\n",
    "- тип этажа квартиры («первый», «последний», «другой»);\n",
    "- общее количество этажей в доме;\n",
    "- расстояние до центра города в метрах;\n",
    "- расстояние до ближайшего аэропорта;\n",
    "- расстояние до ближайшего парка;\n",
    "- день и месяц публикации объявления."
   ]
  },
  {
   "cell_type": "code",
   "execution_count": 59,
   "metadata": {},
   "outputs": [],
   "source": [
    "def row_analyze(column, bins_count=100):\n",
    "    '''\n",
    "    Функция для вывоа статистической информации по передаваемому столбцу и вывода гистограммы распределения. \n",
    "    В качестве передаваемых аргументов выступает столбец датафрейма и количество корзин для построения гистограммы.\n",
    "    '''\n",
    "    min_range = column.min()\n",
    "    max_range = column.max()\n",
    "    print(column.describe())\n",
    "    column.hist(bins=bins_count, range=(min_range, max_range))"
   ]
  },
  {
   "cell_type": "code",
   "execution_count": 60,
   "metadata": {},
   "outputs": [
    {
     "name": "stdout",
     "output_type": "stream",
     "text": [
      "count   23,508.0\n",
      "mean        60.4\n",
      "std         35.6\n",
      "min         12.0\n",
      "25%         40.0\n",
      "50%         52.0\n",
      "75%         70.0\n",
      "max        900.0\n",
      "Name: total_area, dtype: float64\n"
     ]
    },
    {
     "data": {
      "image/png": "[encoded data removed]",
      "text/plain": [
       "<Figure size 432x288 with 1 Axes>"
      ]
     },
     "metadata": {
      "needs_background": "light"
     },
     "output_type": "display_data"
    }
   ],
   "source": [
    "row_analyze(df.total_area)"
   ]
  },
  {
   "cell_type": "markdown",
   "metadata": {},
   "source": [
    "В среднем квартиры имеют общую площадь 60 кв. м. Минимальная площадь составляет 14 кв. м., а максимальная 900 кв. м. Медианное значение равно 52 кв. м. "
   ]
  },
  {
   "cell_type": "code",
   "execution_count": 61,
   "metadata": {},
   "outputs": [
    {
     "name": "stdout",
     "output_type": "stream",
     "text": [
      "count   23,508.0\n",
      "mean        34.7\n",
      "std         22.4\n",
      "min          2.0\n",
      "25%         19.0\n",
      "50%         30.0\n",
      "75%         42.2\n",
      "max        409.7\n",
      "Name: living_area, dtype: float64\n"
     ]
    },
    {
     "data": {
      "image/png": "[encoded data removed]",
      "text/plain": [
       "<Figure size 432x288 with 1 Axes>"
      ]
     },
     "metadata": {
      "needs_background": "light"
     },
     "output_type": "display_data"
    }
   ],
   "source": [
    "row_analyze(df.living_area)"
   ]
  },
  {
   "cell_type": "markdown",
   "metadata": {},
   "source": [
    "В среднем квартиры имеют жилую площадь 34,7 кв. м. Минимальная площадь составляет 9 кв. м., а максимальная 409,7 кв. м. Медианное значение равно 30 кв. м."
   ]
  },
  {
   "cell_type": "code",
   "execution_count": 686,
   "metadata": {
    "scrolled": false
   },
   "outputs": [
    {
     "name": "stdout",
     "output_type": "stream",
     "text": [
      "count   23,487.0\n",
      "mean        10.5\n",
      "std          6.0\n",
      "min          1.3\n",
      "25%          7.0\n",
      "50%          9.0\n",
      "75%         12.0\n",
      "max        112.0\n",
      "Name: kitchen_area, dtype: float64\n"
     ]
    },
    {
     "data": {
      "image/png": "[encoded data removed]",
      "text/plain": [
       "<Figure size 432x288 with 1 Axes>"
      ]
     },
     "metadata": {
      "needs_background": "light"
     },
     "output_type": "display_data"
    }
   ],
   "source": [
    "row_analyze(df.kitchen_area)"
   ]
  },
  {
   "cell_type": "markdown",
   "metadata": {},
   "source": [
    "В среднем квартиры имеют площадь кухни 10,5 кв. м. Минимальная площадь составляет 1,3 кв. м., а максимальная 112 кв. м. Медианное значение равно 9 кв. м."
   ]
  },
  {
   "cell_type": "code",
   "execution_count": 687,
   "metadata": {},
   "outputs": [
    {
     "name": "stdout",
     "output_type": "stream",
     "text": [
      "count        23,487.0\n",
      "mean      6,553,032.4\n",
      "std      10,912,836.8\n",
      "min          12,190.0\n",
      "25%       3,450,000.0\n",
      "50%       4,650,000.0\n",
      "75%       6,800,000.0\n",
      "max     763,000,000.0\n",
      "Name: last_price, dtype: float64\n"
     ]
    },
    {
     "data": {
      "image/png": "[encoded data removed]",
      "text/plain": [
       "<Figure size 432x288 with 1 Axes>"
      ]
     },
     "metadata": {
      "needs_background": "light"
     },
     "output_type": "display_data"
    }
   ],
   "source": [
    "row_analyze(df.last_price)"
   ]
  },
  {
   "cell_type": "markdown",
   "metadata": {},
   "source": [
    "Средняя цена квартиры в обьявлениях составила 6,5 млн. рублей. Максимальная цена достигает 763 млн. рублей. Минимальная около 12 млн. рублей. Медиана цены составляет 4,650 млн. рублей. "
   ]
  },
  {
   "cell_type": "code",
   "execution_count": 688,
   "metadata": {},
   "outputs": [
    {
     "name": "stdout",
     "output_type": "stream",
     "text": [
      "count   23,487.0\n",
      "mean         2.1\n",
      "std          1.1\n",
      "min          0.0\n",
      "25%          1.0\n",
      "50%          2.0\n",
      "75%          3.0\n",
      "max         19.0\n",
      "Name: rooms, dtype: float64\n"
     ]
    },
    {
     "data": {
      "image/png": "[encoded data removed]",
      "text/plain": [
       "<Figure size 432x288 with 1 Axes>"
      ]
     },
     "metadata": {
      "needs_background": "light"
     },
     "output_type": "display_data"
    }
   ],
   "source": [
    "row_analyze(df.rooms)"
   ]
  },
  {
   "cell_type": "markdown",
   "metadata": {},
   "source": [
    "Среднее значение и медиана количество комнат примерно равны и составляют 2 команты. Максимальное количество комнат - 19, а минимальное - 0, причем как было сказано выше, это квартиры-студии. "
   ]
  },
  {
   "cell_type": "code",
   "execution_count": 689,
   "metadata": {
    "scrolled": false
   },
   "outputs": [
    {
     "name": "stdout",
     "output_type": "stream",
     "text": [
      "count   23,487.0\n",
      "mean         2.7\n",
      "std          0.3\n",
      "min          2.4\n",
      "25%          2.6\n",
      "50%          2.6\n",
      "75%          2.7\n",
      "max         22.6\n",
      "Name: ceiling_height, dtype: float64\n"
     ]
    },
    {
     "data": {
      "image/png": "[encoded data removed]",
      "text/plain": [
       "<Figure size 432x288 with 1 Axes>"
      ]
     },
     "metadata": {
      "needs_background": "light"
     },
     "output_type": "display_data"
    }
   ],
   "source": [
    "row_analyze(df.ceiling_height)"
   ]
  },
  {
   "cell_type": "markdown",
   "metadata": {},
   "source": [
    "Средняя высота потолков составляет 2,7 м. Максимальная высота - 22,6 м,. минимальная - 2,4 м. Медиана выосты потолков составляет 2,6 м. "
   ]
  },
  {
   "cell_type": "code",
   "execution_count": 690,
   "metadata": {
    "scrolled": false
   },
   "outputs": [
    {
     "name": "stdout",
     "output_type": "stream",
     "text": [
      "count   23,487.0\n",
      "mean         5.9\n",
      "std          4.9\n",
      "min          1.0\n",
      "25%          2.0\n",
      "50%          4.0\n",
      "75%          8.0\n",
      "max         33.0\n",
      "Name: floor, dtype: float64\n"
     ]
    },
    {
     "data": {
      "image/png": "[encoded data removed]",
      "text/plain": [
       "<Figure size 432x288 with 1 Axes>"
      ]
     },
     "metadata": {
      "needs_background": "light"
     },
     "output_type": "display_data"
    }
   ],
   "source": [
    "row_analyze(df.floor)"
   ]
  },
  {
   "cell_type": "markdown",
   "metadata": {},
   "source": [
    "В среднем квартиры находятся на 6 этаже. Самая высокоэтажная квартира находится на 33 этаже, а на 1 этаже самая низкоэтажная. Медиана составляет 4 этажа. "
   ]
  },
  {
   "cell_type": "code",
   "execution_count": 691,
   "metadata": {
    "scrolled": true
   },
   "outputs": [
    {
     "name": "stdout",
     "output_type": "stream",
     "text": [
      "count      23487\n",
      "unique         3\n",
      "top       другой\n",
      "freq       17271\n",
      "Name: type_of_flat, dtype: object\n"
     ]
    },
    {
     "data": {
      "image/png": "[encoded data removed]",
      "text/plain": [
       "<Figure size 432x288 with 1 Axes>"
      ]
     },
     "metadata": {
      "needs_background": "light"
     },
     "output_type": "display_data"
    }
   ],
   "source": [
    "row_analyze(df.type_of_flat)"
   ]
  },
  {
   "cell_type": "markdown",
   "metadata": {},
   "source": [
    "Чаще всего квартиры располагаются между первым и псоледним этажами. Реже всего на первом. На послднем этаже не намного больше квартир чем на первом. "
   ]
  },
  {
   "cell_type": "code",
   "execution_count": 692,
   "metadata": {
    "scrolled": false
   },
   "outputs": [
    {
     "name": "stdout",
     "output_type": "stream",
     "text": [
      "count   23,487.0\n",
      "mean        10.7\n",
      "std          6.6\n",
      "min          1.0\n",
      "25%          5.0\n",
      "50%          9.0\n",
      "75%         16.0\n",
      "max         36.0\n",
      "Name: floors_total, dtype: float64\n"
     ]
    },
    {
     "data": {
      "image/png": "[encoded data removed]",
      "text/plain": [
       "<Figure size 432x288 with 1 Axes>"
      ]
     },
     "metadata": {
      "needs_background": "light"
     },
     "output_type": "display_data"
    }
   ],
   "source": [
    "row_analyze(df.floors_total, 200)"
   ]
  },
  {
   "cell_type": "markdown",
   "metadata": {},
   "source": [
    "В среднем дом, в котором. сдается квартира имеет 10 этажей. Максимальное количество этажей составляет 36, а минимальное - 1. Медиана составляет 9 этажей. "
   ]
  },
  {
   "cell_type": "code",
   "execution_count": 693,
   "metadata": {
    "scrolled": false
   },
   "outputs": [
    {
     "name": "stdout",
     "output_type": "stream",
     "text": [
      "count   18,031.0\n",
      "mean    14,184.9\n",
      "std      8,617.0\n",
      "min        181.0\n",
      "25%      9,233.0\n",
      "50%     13,094.0\n",
      "75%     16,285.0\n",
      "max     65,968.0\n",
      "Name: cityCenters_nearest, dtype: float64\n"
     ]
    },
    {
     "data": {
      "image/png": "[encoded data removed]",
      "text/plain": [
       "<Figure size 432x288 with 1 Axes>"
      ]
     },
     "metadata": {
      "needs_background": "light"
     },
     "output_type": "display_data"
    }
   ],
   "source": [
    "row_analyze(df.cityCenters_nearest, 500)"
   ]
  },
  {
   "cell_type": "markdown",
   "metadata": {},
   "source": [
    "В среднем квартиры находятся в 14 км. от центра. Самая близкорасположенная квартира расположилась в 181 метре, а самая удаленная в 66 км. Медиана расстояния до центра составила 13 км. "
   ]
  },
  {
   "cell_type": "code",
   "execution_count": 694,
   "metadata": {
    "scrolled": false
   },
   "outputs": [
    {
     "name": "stdout",
     "output_type": "stream",
     "text": [
      "count   18,008.0\n",
      "mean    28,801.9\n",
      "std     12,626.5\n",
      "min          0.0\n",
      "25%     18,578.0\n",
      "50%     26,752.0\n",
      "75%     37,273.0\n",
      "max     84,869.0\n",
      "Name: airports_nearest, dtype: float64\n"
     ]
    },
    {
     "data": {
      "image/png": "[encoded data removed]",
      "text/plain": [
       "<Figure size 432x288 with 1 Axes>"
      ]
     },
     "metadata": {
      "needs_background": "light"
     },
     "output_type": "display_data"
    }
   ],
   "source": [
    "row_analyze(df.airports_nearest, 500)"
   ]
  },
  {
   "cell_type": "markdown",
   "metadata": {},
   "source": [
    "В среднем расстояние до аэропорта составило 28,771 км. Максимальное растояние - 84,869 км. Минимальное составило 0, это где-то на Взлетной улице. Медиана составила 26,674 км. "
   ]
  },
  {
   "cell_type": "code",
   "execution_count": 695,
   "metadata": {
    "scrolled": false
   },
   "outputs": [
    {
     "name": "stdout",
     "output_type": "stream",
     "text": [
      "count   23,487.0\n",
      "mean       167.2\n",
      "std        306.3\n",
      "min          0.0\n",
      "25%          0.0\n",
      "50%          0.0\n",
      "75%        301.0\n",
      "max      3,190.0\n",
      "Name: parks_nearest, dtype: float64\n"
     ]
    },
    {
     "data": {
      "image/png": "[encoded data removed]",
      "text/plain": [
       "<Figure size 432x288 with 1 Axes>"
      ]
     },
     "metadata": {
      "needs_background": "light"
     },
     "output_type": "display_data"
    }
   ],
   "source": [
    "row_analyze(df.parks_nearest)"
   ]
  },
  {
   "cell_type": "markdown",
   "metadata": {},
   "source": [
    "Можно сделать вывод, что чаще всего возле продаваемых квартир нет парков."
   ]
  },
  {
   "cell_type": "code",
   "execution_count": 696,
   "metadata": {
    "scrolled": false
   },
   "outputs": [
    {
     "name": "stdout",
     "output_type": "stream",
     "text": [
      "count   23,487.0\n",
      "mean         2.6\n",
      "std          1.8\n",
      "min          0.0\n",
      "25%          1.0\n",
      "50%          3.0\n",
      "75%          4.0\n",
      "max          6.0\n",
      "Name: day_of_publication, dtype: float64\n"
     ]
    },
    {
     "data": {
      "image/png": "[encoded data removed]",
      "text/plain": [
       "<Figure size 432x288 with 1 Axes>"
      ]
     },
     "metadata": {
      "needs_background": "light"
     },
     "output_type": "display_data"
    }
   ],
   "source": [
    "row_analyze(df.day_of_publication)"
   ]
  },
  {
   "cell_type": "markdown",
   "metadata": {},
   "source": [
    "Можно сделать вывод, что чаще всего объявления дают по будням."
   ]
  },
  {
   "cell_type": "code",
   "execution_count": 697,
   "metadata": {
    "scrolled": false
   },
   "outputs": [
    {
     "name": "stdout",
     "output_type": "stream",
     "text": [
      "count   23,487.0\n",
      "mean         6.4\n",
      "std          3.5\n",
      "min          1.0\n",
      "25%          3.0\n",
      "50%          6.0\n",
      "75%         10.0\n",
      "max         12.0\n",
      "Name: month_of_publication, dtype: float64\n"
     ]
    },
    {
     "data": {
      "image/png": "[encoded data removed]",
      "text/plain": [
       "<Figure size 432x288 with 1 Axes>"
      ]
     },
     "metadata": {
      "needs_background": "light"
     },
     "output_type": "display_data"
    }
   ],
   "source": [
    "row_analyze(df.month_of_publication)"
   ]
  },
  {
   "cell_type": "markdown",
   "metadata": {},
   "source": [
    "Чаще всего квартиры публикуют в феврале и марте, а реже - в мае."
   ]
  },
  {
   "cell_type": "markdown",
   "metadata": {},
   "source": [
    "#### Посмотрим, как быстро продавались квартиры "
   ]
  },
  {
   "cell_type": "code",
   "execution_count": 730,
   "metadata": {
    "scrolled": false
   },
   "outputs": [
    {
     "name": "stdout",
     "output_type": "stream",
     "text": [
      "count   20,323.0\n",
      "mean       181.4\n",
      "std        220.1\n",
      "min          1.0\n",
      "25%         45.0\n",
      "50%         96.0\n",
      "75%        232.0\n",
      "max      1,580.0\n",
      "Name: days_exposition, dtype: float64\n"
     ]
    },
    {
     "data": {
      "image/png": "[encoded data removed]",
      "text/plain": [
       "<Figure size 432x288 with 1 Axes>"
      ]
     },
     "metadata": {
      "needs_background": "light"
     },
     "output_type": "display_data"
    }
   ],
   "source": [
    "row_analyze(df.days_exposition, 300)"
   ]
  },
  {
   "cell_type": "code",
   "execution_count": 699,
   "metadata": {
    "scrolled": true
   },
   "outputs": [
    {
     "data": {
      "text/plain": [
       "45.0    862\n",
       "60.0    537\n",
       "7.0     231\n",
       "30.0    208\n",
       "90.0    200\n",
       "4.0     175\n",
       "3.0     155\n",
       "5.0     151\n",
       "14.0    147\n",
       "9.0     141\n",
       "Name: days_exposition, dtype: int64"
      ]
     },
     "execution_count": 699,
     "metadata": {},
     "output_type": "execute_result"
    }
   ],
   "source": [
    "df.days_exposition.value_counts().head(10)"
   ]
  },
  {
   "cell_type": "markdown",
   "metadata": {},
   "source": [
    "В среднем квартиры продавались за 185 дней, медианное значение составило 101 день. Есть квартиры, которые продавались за 1 день - это минимальный показатель. 1580 день понадобилось для продажи квартиры выставленной в 2014 году, это почти 4 с половиной года, а еще это максимальный период продажи. Квартиры, которые продавались меньше 44 дня можно считать быстропроданными, а больше 239 дней можно считать необычно долгим периодом продажи. "
   ]
  },
  {
   "cell_type": "markdown",
   "metadata": {},
   "source": [
    "Видно, что квартиры 'снимались' с публикации чаще всего на 45, 60, 7, 30 и 90 сутки. Возможно, это связано с политикой Яндекс Недвижимости и в те года обьявления снимались по истечению срока публикации. Сейчас такие нормативы работают везде по России, кроме Санкт-Петербурга и Москвы с их областями. Возможно раньше это работало и для них. Что касается 7 дней, это правдивая информация о сроке реализации квартиры. Посмотрим на сроки реализации без этих данных, но тут есть вероятность, что квартира продалась в этот период, а не была снята с публикации."
   ]
  },
  {
   "cell_type": "code",
   "execution_count": 62,
   "metadata": {
    "scrolled": false
   },
   "outputs": [
    {
     "data": {
      "text/plain": [
       "45.0    863\n",
       "60.0    538\n",
       "7.0     231\n",
       "30.0    208\n",
       "90.0    200\n",
       "4.0     175\n",
       "3.0     155\n",
       "5.0     151\n",
       "14.0    147\n",
       "9.0     142\n",
       "Name: days_exposition, dtype: int64"
      ]
     },
     "execution_count": 62,
     "metadata": {},
     "output_type": "execute_result"
    }
   ],
   "source": [
    "df.days_exposition.value_counts().head(10)"
   ]
  },
  {
   "cell_type": "markdown",
   "metadata": {},
   "source": [
    "Для начала преобразуем данные в стобце days_exposition в int. Это нужно чтобы избежать проблемы с представлением чисел плавающей точкой."
   ]
  },
  {
   "cell_type": "code",
   "execution_count": 63,
   "metadata": {},
   "outputs": [],
   "source": [
    "df['days_exposition'] = df[df['days_exposition'].notna()]['days_exposition'].astype('int')"
   ]
  },
  {
   "cell_type": "markdown",
   "metadata": {},
   "source": [
    "Далее соберем новый датасет."
   ]
  },
  {
   "cell_type": "code",
   "execution_count": 64,
   "metadata": {
    "scrolled": true
   },
   "outputs": [
    {
     "data": {
      "text/plain": [
       "7.0     231\n",
       "30.0    208\n",
       "4.0     175\n",
       "3.0     155\n",
       "5.0     151\n",
       "14.0    147\n",
       "9.0     142\n",
       "20.0    138\n",
       "44.0    137\n",
       "8.0     137\n",
       "Name: days_exposition, dtype: int64"
      ]
     },
     "execution_count": 64,
     "metadata": {},
     "output_type": "execute_result"
    }
   ],
   "source": [
    "good_data = df[~df['days_exposition'].isin([45, 60, 90])]\n",
    "good_data.days_exposition.value_counts().head(10)"
   ]
  },
  {
   "cell_type": "markdown",
   "metadata": {},
   "source": [
    "Обновленная информация:"
   ]
  },
  {
   "cell_type": "code",
   "execution_count": 65,
   "metadata": {
    "scrolled": false
   },
   "outputs": [
    {
     "name": "stdout",
     "output_type": "stream",
     "text": [
      "count   18,741.0\n",
      "mean       192.0\n",
      "std        226.0\n",
      "min          1.0\n",
      "25%         41.0\n",
      "50%        110.0\n",
      "75%        253.0\n",
      "max      1,580.0\n",
      "Name: days_exposition, dtype: float64\n"
     ]
    },
    {
     "data": {
      "image/png": "[encoded data removed]",
      "text/plain": [
       "<Figure size 432x288 with 1 Axes>"
      ]
     },
     "metadata": {
      "needs_background": "light"
     },
     "output_type": "display_data"
    }
   ],
   "source": [
    "row_analyze(good_data.days_exposition, 300)"
   ]
  },
  {
   "cell_type": "code",
   "execution_count": 66,
   "metadata": {
    "scrolled": false
   },
   "outputs": [
    {
     "data": {
      "image/png": "[encoded data removed]",
      "text/plain": [
       "<Figure size 720x720 with 1 Axes>"
      ]
     },
     "metadata": {
      "needs_background": "light"
     },
     "output_type": "display_data"
    }
   ],
   "source": [
    "good_data.boxplot(column='days_exposition', figsize=(10, 10));"
   ]
  },
  {
   "cell_type": "markdown",
   "metadata": {},
   "source": [
    "Если взглянуть на диаграмму рассеяния, можно понять, что значения выше 571 дня соответсвуют необычно долгим продажам. Так как нижний 'ус' диаграммы упирается в 1, то статистически быстрых продаж нет."
   ]
  },
  {
   "cell_type": "markdown",
   "metadata": {},
   "source": [
    "#### Посмотрим как зависит цена от следующих параметров:\n",
    "- общей площади;\n",
    "- жилой площади;\n",
    "- площади кухни;\n",
    "- количества комнат;\n",
    "- этажа, на котором расположена квартира (первый, последний, другой);\n",
    "- даты размещения (день недели, месяц, год)."
   ]
  },
  {
   "cell_type": "code",
   "execution_count": 67,
   "metadata": {
    "scrolled": false
   },
   "outputs": [
    {
     "name": "stdout",
     "output_type": "stream",
     "text": [
      "Коэффициент корреляции со столбцом total_area составляет 0.65\n",
      "Коэффициент корреляции со столбцом living_area составляет 0.58\n",
      "Коэффициент корреляции со столбцом kitchen_area составляет 0.51\n",
      "Коэффициент корреляции со столбцом rooms составляет 0.36\n",
      "Коэффициент корреляции со столбцом floor составляет 0.027\n",
      "Коэффициент корреляции со столбцом day_of_publication составляет 0.0015\n",
      "Коэффициент корреляции со столбцом month_of_publication составляет 0.0034\n",
      "Коэффициент корреляции со столбцом year_of_publication составляет -0.043\n"
     ]
    },
    {
     "data": {
      "image/png": "[encoded data removed]",
      "text/plain": [
       "<Figure size 216x216 with 1 Axes>"
      ]
     },
     "metadata": {
      "needs_background": "light"
     },
     "output_type": "display_data"
    },
    {
     "data": {
      "image/png": "[encoded data removed]",
      "text/plain": [
       "<Figure size 216x216 with 1 Axes>"
      ]
     },
     "metadata": {
      "needs_background": "light"
     },
     "output_type": "display_data"
    },
    {
     "data": {
      "image/png": "[encoded data removed]",
      "text/plain": [
       "<Figure size 216x216 with 1 Axes>"
      ]
     },
     "metadata": {
      "needs_background": "light"
     },
     "output_type": "display_data"
    },
    {
     "data": {
      "image/png": "[encoded data removed]",
      "text/plain": [
       "<Figure size 216x216 with 1 Axes>"
      ]
     },
     "metadata": {
      "needs_background": "light"
     },
     "output_type": "display_data"
    },
    {
     "data": {
      "image/png": "[encoded data removed]",
      "text/plain": [
       "<Figure size 216x216 with 1 Axes>"
      ]
     },
     "metadata": {
      "needs_background": "light"
     },
     "output_type": "display_data"
    },
    {
     "data": {
      "image/png": "[encoded data removed]",
      "text/plain": [
       "<Figure size 216x216 with 1 Axes>"
      ]
     },
     "metadata": {
      "needs_background": "light"
     },
     "output_type": "display_data"
    },
    {
     "data": {
      "image/png": "[encoded data removed]",
      "text/plain": [
       "<Figure size 216x216 with 1 Axes>"
      ]
     },
     "metadata": {
      "needs_background": "light"
     },
     "output_type": "display_data"
    },
    {
     "data": {
      "image/png": "[encoded data removed]",
      "text/plain": [
       "<Figure size 216x216 with 1 Axes>"
      ]
     },
     "metadata": {
      "needs_background": "light"
     },
     "output_type": "display_data"
    },
    {
     "data": {
      "image/png": "[encoded data removed]",
      "text/plain": [
       "<Figure size 216x216 with 1 Axes>"
      ]
     },
     "metadata": {
      "needs_background": "light"
     },
     "output_type": "display_data"
    }
   ],
   "source": [
    "for column in ['total_area', 'living_area', 'kitchen_area', 'rooms', 'floor', \n",
    "               'type_of_flat', 'day_of_publication', 'month_of_publication', 'year_of_publication']:\n",
    "    pivot = pd.pivot_table(\n",
    "        df,\n",
    "        index=column,\n",
    "        values='last_price')\n",
    "    pivot.plot(style='o', figsize=(3, 3))\n",
    "    try:\n",
    "        print(f'Коэффициент корреляции со столбцом {column} составляет {df[\"last_price\"].corr(df.loc[:, column]):.2}')\n",
    "    except:\n",
    "        pass"
   ]
  },
  {
   "cell_type": "markdown",
   "metadata": {},
   "source": [
    "- Выяснили, что цена объекта больше всего зависит от площади помещения (общей, жилой и площади кухни). Средняя положительная корреляция показывает на увеличение стоимости в зависимости от площади. \n",
    "- Линейной зависимости между ценой и днем, месяцем, и годом публикации не наблюдается. Но по графику можно отследить, что цены на квартиры с 2014 года падают, причем резкий обвал цен произошел в период с 2014 по 2015 год.\n",
    "- Можно отметить, что кваритры на 1 этаже стоят дешевле остальных, а на последнем дороже. "
   ]
  },
  {
   "cell_type": "markdown",
   "metadata": {},
   "source": [
    "#### Посчитаем среднюю цену одного квадратного метра в 10 населённых пунктах с наибольшим числом объявлений."
   ]
  },
  {
   "cell_type": "code",
   "execution_count": 68,
   "metadata": {
    "scrolled": false
   },
   "outputs": [
    {
     "data": {
      "text/html": [
       "<div>\n",
       "<style scoped>\n",
       "    .dataframe tbody tr th:only-of-type {\n",
       "        vertical-align: middle;\n",
       "    }\n",
       "\n",
       "    .dataframe tbody tr th {\n",
       "        vertical-align: top;\n",
       "    }\n",
       "\n",
       "    .dataframe thead tr th {\n",
       "        text-align: left;\n",
       "    }\n",
       "\n",
       "    .dataframe thead tr:last-of-type th {\n",
       "        text-align: right;\n",
       "    }\n",
       "</style>\n",
       "<table border=\"1\" class=\"dataframe\">\n",
       "  <thead>\n",
       "    <tr>\n",
       "      <th></th>\n",
       "      <th>count</th>\n",
       "      <th>median</th>\n",
       "    </tr>\n",
       "    <tr>\n",
       "      <th></th>\n",
       "      <th>one_square_price</th>\n",
       "      <th>one_square_price</th>\n",
       "    </tr>\n",
       "    <tr>\n",
       "      <th>locality_name</th>\n",
       "      <th></th>\n",
       "      <th></th>\n",
       "    </tr>\n",
       "  </thead>\n",
       "  <tbody>\n",
       "    <tr>\n",
       "      <th>Санкт-Петербург</th>\n",
       "      <td>15607</td>\n",
       "      <td>104,750.0</td>\n",
       "    </tr>\n",
       "    <tr>\n",
       "      <th>поселок Мурино</th>\n",
       "      <td>545</td>\n",
       "      <td>85,680.5</td>\n",
       "    </tr>\n",
       "    <tr>\n",
       "      <th>поселок Шушары</th>\n",
       "      <td>439</td>\n",
       "      <td>76,829.3</td>\n",
       "    </tr>\n",
       "    <tr>\n",
       "      <th>Всеволожск</th>\n",
       "      <td>397</td>\n",
       "      <td>65,789.5</td>\n",
       "    </tr>\n",
       "    <tr>\n",
       "      <th>Пушкин</th>\n",
       "      <td>366</td>\n",
       "      <td>99,993.6</td>\n",
       "    </tr>\n",
       "    <tr>\n",
       "      <th>Колпино</th>\n",
       "      <td>337</td>\n",
       "      <td>74,725.3</td>\n",
       "    </tr>\n",
       "    <tr>\n",
       "      <th>поселок Парголово</th>\n",
       "      <td>324</td>\n",
       "      <td>91,780.2</td>\n",
       "    </tr>\n",
       "    <tr>\n",
       "      <th>Гатчина</th>\n",
       "      <td>307</td>\n",
       "      <td>67,796.6</td>\n",
       "    </tr>\n",
       "    <tr>\n",
       "      <th>деревня Кудрово</th>\n",
       "      <td>287</td>\n",
       "      <td>91,666.7</td>\n",
       "    </tr>\n",
       "    <tr>\n",
       "      <th>Выборг</th>\n",
       "      <td>235</td>\n",
       "      <td>58,307.7</td>\n",
       "    </tr>\n",
       "  </tbody>\n",
       "</table>\n",
       "</div>"
      ],
      "text/plain": [
       "                             count           median\n",
       "                  one_square_price one_square_price\n",
       "locality_name                                      \n",
       "Санкт-Петербург              15607        104,750.0\n",
       "поселок Мурино                 545         85,680.5\n",
       "поселок Шушары                 439         76,829.3\n",
       "Всеволожск                     397         65,789.5\n",
       "Пушкин                         366         99,993.6\n",
       "Колпино                        337         74,725.3\n",
       "поселок Парголово              324         91,780.2\n",
       "Гатчина                        307         67,796.6\n",
       "деревня Кудрово                287         91,666.7\n",
       "Выборг                         235         58,307.7"
      ]
     },
     "execution_count": 68,
     "metadata": {},
     "output_type": "execute_result"
    }
   ],
   "source": [
    "pd.pivot_table(\n",
    "    df,\n",
    "    index='locality_name',\n",
    "    values='one_square_price',\n",
    "    aggfunc = ['count', 'median']).sort_values(by=('count', 'one_square_price'), ascending=False).head(10)"
   ]
  },
  {
   "cell_type": "markdown",
   "metadata": {},
   "source": [
    "В Санкт-Петербурге больше всего объявлений о продаже."
   ]
  },
  {
   "cell_type": "markdown",
   "metadata": {},
   "source": [
    "#### Найдем 10 населенных пунктов с самым 'дешевым' квадратным метром жилья."
   ]
  },
  {
   "cell_type": "code",
   "execution_count": 69,
   "metadata": {
    "scrolled": true
   },
   "outputs": [
    {
     "data": {
      "text/plain": [
       "locality_name\n",
       "деревня Старополье        11,000.0\n",
       "поселок станции Свирь     11,481.5\n",
       "деревня Вахнова Кара      11,688.3\n",
       "деревня Выскатка          12,335.5\n",
       "поселок Совхозный         12,629.1\n",
       "деревня Малая Романовка   12,724.6\n",
       "поселок Тёсово-4          12,931.0\n",
       "деревня Сижно             13,709.7\n",
       "деревня Ям-Тесово         13,711.6\n",
       "поселок Житково           14,956.3\n",
       "Name: one_square_price, dtype: float64"
      ]
     },
     "execution_count": 69,
     "metadata": {},
     "output_type": "execute_result"
    }
   ],
   "source": [
    "df.groupby('locality_name')['one_square_price'].agg('median').sort_values().head(10)"
   ]
  },
  {
   "cell_type": "markdown",
   "metadata": {},
   "source": [
    "В деревне Старополье самый 'дешевый' квадратный метр жилья."
   ]
  },
  {
   "cell_type": "markdown",
   "metadata": {},
   "source": [
    "#### Найдем 10 населенных пунктов с самым 'дорогим' квадратным метром жилья."
   ]
  },
  {
   "cell_type": "code",
   "execution_count": 70,
   "metadata": {
    "scrolled": true
   },
   "outputs": [
    {
     "data": {
      "text/plain": [
       "locality_name\n",
       "Санкт-Петербург     104,750.0\n",
       "Зеленогорск         101,666.7\n",
       "Кудрово             100,000.0\n",
       "Пушкин               99,993.6\n",
       "Сестрорецк           99,678.5\n",
       "поселок Левашово     96,997.7\n",
       "поселок Парголово    91,780.2\n",
       "деревня Кудрово      91,666.7\n",
       "Мурино               91,478.4\n",
       "деревня Мистолово    90,888.9\n",
       "Name: one_square_price, dtype: float64"
      ]
     },
     "execution_count": 70,
     "metadata": {},
     "output_type": "execute_result"
    }
   ],
   "source": [
    "df.groupby('locality_name')['one_square_price'].agg('median').sort_values(ascending=False).head(10)"
   ]
  },
  {
   "cell_type": "markdown",
   "metadata": {},
   "source": [
    "Видно, что в поселке Репино самый 'дорогой' квадртаный метр жилья. Оно и понятно - все хотят жить в Курортном районе)"
   ]
  },
  {
   "cell_type": "markdown",
   "metadata": {},
   "source": [
    "#### Вычислим среднюю цену километра расстояния от центра города в Санкт-Петербурге\n",
    "Выделим квартиры в Санкт-Петербурге с помощью столбца locality_name и вычислим среднюю цену каждого километра."
   ]
  },
  {
   "cell_type": "code",
   "execution_count": 73,
   "metadata": {},
   "outputs": [
    {
     "data": {
      "image/png": "[encoded data removed]",
      "text/plain": [
       "<Figure size 432x288 with 1 Axes>"
      ]
     },
     "metadata": {
      "needs_background": "light"
     },
     "output_type": "display_data"
    }
   ],
   "source": [
    "flats_in_spb = df.query('locality_name == \"Санкт-Петербург\" and cityCenters_nearest_in_km != 0')\n",
    "#flats_in_spb['one_km_price'] = flats_in_spb['last_price'] / flats_in_spb['cityCenters_nearest_in_km']\n",
    "(flats_in_spb.\n",
    "    groupby('cityCenters_nearest_in_km')['last_price'].\n",
    "    mean().\n",
    "    plot(legend=True, xlim=(1, 30), style='o-')\n",
    ");"
   ]
  },
  {
   "cell_type": "markdown",
   "metadata": {},
   "source": [
    "Можно заметить, что цена на квартиру сначала резко падает, что логично, но в диапазоне от 3 до 8 километров парадоксально растет. Непонятно, что считается центром, но возможно на расстоянии 8 километров от этой точки наодится Крестовский остров, поэтому происходит рост, дальше опять идет спад и в районе 27 км. опять рост цен - возможно там тоже расположен зажиточный район."
   ]
  },
  {
   "cell_type": "markdown",
   "metadata": {},
   "source": [
    "### Общий вывод"
   ]
  },
  {
   "cell_type": "markdown",
   "metadata": {},
   "source": [
    "Так как главной задачей стоит определение рыночной стоимости объектов недвижимости, то необходимо получить модель для анализа цены в зависимости от параметров объекта. Ранее было изучено как цена зависит от следующих параметров:\n",
    " - общей площади;\n",
    " - жилой площади;\n",
    " - площади кухни;\n",
    " - количества комнат;\n",
    " - этажа, на котором расположена квартира (первый, последний, другой);\n",
    " - даты размещения (день недели, месяц, год). \n",
    " \n",
    " Сведем все эти данные в одну итоговую таблицу."
   ]
  },
  {
   "cell_type": "code",
   "execution_count": 74,
   "metadata": {
    "scrolled": false
   },
   "outputs": [
    {
     "data": {
      "text/html": [
       "<div>\n",
       "<style scoped>\n",
       "    .dataframe tbody tr th:only-of-type {\n",
       "        vertical-align: middle;\n",
       "    }\n",
       "\n",
       "    .dataframe tbody tr th {\n",
       "        vertical-align: top;\n",
       "    }\n",
       "\n",
       "    .dataframe thead th {\n",
       "        text-align: right;\n",
       "    }\n",
       "</style>\n",
       "<table border=\"1\" class=\"dataframe\">\n",
       "  <thead>\n",
       "    <tr style=\"text-align: right;\">\n",
       "      <th></th>\n",
       "      <th>total_area</th>\n",
       "      <th>rooms</th>\n",
       "      <th>ceiling_height</th>\n",
       "      <th>floors_total</th>\n",
       "      <th>living_area</th>\n",
       "      <th>floor</th>\n",
       "      <th>kitchen_area</th>\n",
       "      <th>balcony</th>\n",
       "      <th>locality_name</th>\n",
       "      <th>airports_nearest</th>\n",
       "      <th>...</th>\n",
       "      <th>parks_nearest</th>\n",
       "      <th>ponds_around3000</th>\n",
       "      <th>ponds_nearest</th>\n",
       "      <th>one_square_price</th>\n",
       "      <th>type_of_flat</th>\n",
       "      <th>cityCenters_nearest_in_km</th>\n",
       "      <th>is_apartment</th>\n",
       "      <th>studio</th>\n",
       "      <th>open_plan</th>\n",
       "      <th>last_price</th>\n",
       "    </tr>\n",
       "  </thead>\n",
       "  <tbody>\n",
       "    <tr>\n",
       "      <th>0</th>\n",
       "      <td>12.0</td>\n",
       "      <td>1</td>\n",
       "      <td>2.5</td>\n",
       "      <td>5</td>\n",
       "      <td>10.0</td>\n",
       "      <td>2</td>\n",
       "      <td>2.1</td>\n",
       "      <td>0</td>\n",
       "      <td>Санкт-Петербург</td>\n",
       "      <td>21,314.0</td>\n",
       "      <td>...</td>\n",
       "      <td>886.0</td>\n",
       "      <td>2</td>\n",
       "      <td>45.0</td>\n",
       "      <td>200,000.0</td>\n",
       "      <td>другой</td>\n",
       "      <td>1.0</td>\n",
       "      <td>False</td>\n",
       "      <td>False</td>\n",
       "      <td>False</td>\n",
       "      <td>2,400,000.0</td>\n",
       "    </tr>\n",
       "    <tr>\n",
       "      <th>1</th>\n",
       "      <td>13.0</td>\n",
       "      <td>1</td>\n",
       "      <td>2.6</td>\n",
       "      <td>9</td>\n",
       "      <td>7.5</td>\n",
       "      <td>1</td>\n",
       "      <td>2.3</td>\n",
       "      <td>0</td>\n",
       "      <td>Санкт-Петербург</td>\n",
       "      <td>14,350.0</td>\n",
       "      <td>...</td>\n",
       "      <td>0.0</td>\n",
       "      <td>1</td>\n",
       "      <td>185.0</td>\n",
       "      <td>107,692.3</td>\n",
       "      <td>первый</td>\n",
       "      <td>16.0</td>\n",
       "      <td>False</td>\n",
       "      <td>False</td>\n",
       "      <td>False</td>\n",
       "      <td>1,400,000.0</td>\n",
       "    </tr>\n",
       "    <tr>\n",
       "      <th>2</th>\n",
       "      <td>13.0</td>\n",
       "      <td>1</td>\n",
       "      <td>2.6</td>\n",
       "      <td>5</td>\n",
       "      <td>10.0</td>\n",
       "      <td>3</td>\n",
       "      <td>2.3</td>\n",
       "      <td>0</td>\n",
       "      <td>Санкт-Петербург</td>\n",
       "      <td>21,302.0</td>\n",
       "      <td>...</td>\n",
       "      <td>592.0</td>\n",
       "      <td>3</td>\n",
       "      <td>27.0</td>\n",
       "      <td>292,307.7</td>\n",
       "      <td>другой</td>\n",
       "      <td>1.0</td>\n",
       "      <td>False</td>\n",
       "      <td>False</td>\n",
       "      <td>False</td>\n",
       "      <td>3,800,000.0</td>\n",
       "    </tr>\n",
       "    <tr>\n",
       "      <th>3</th>\n",
       "      <td>13.0</td>\n",
       "      <td>1</td>\n",
       "      <td>3.4</td>\n",
       "      <td>5</td>\n",
       "      <td>7.5</td>\n",
       "      <td>2</td>\n",
       "      <td>2.3</td>\n",
       "      <td>0</td>\n",
       "      <td>Санкт-Петербург</td>\n",
       "      <td>24,915.0</td>\n",
       "      <td>...</td>\n",
       "      <td>644.0</td>\n",
       "      <td>0</td>\n",
       "      <td>0.0</td>\n",
       "      <td>142,307.7</td>\n",
       "      <td>другой</td>\n",
       "      <td>5.0</td>\n",
       "      <td>False</td>\n",
       "      <td>False</td>\n",
       "      <td>False</td>\n",
       "      <td>1,850,000.0</td>\n",
       "    </tr>\n",
       "    <tr>\n",
       "      <th>4</th>\n",
       "      <td>13.2</td>\n",
       "      <td>1</td>\n",
       "      <td>2.6</td>\n",
       "      <td>5</td>\n",
       "      <td>7.6</td>\n",
       "      <td>1</td>\n",
       "      <td>2.3</td>\n",
       "      <td>0</td>\n",
       "      <td>Санкт-Петербург</td>\n",
       "      <td>19,891.0</td>\n",
       "      <td>...</td>\n",
       "      <td>361.0</td>\n",
       "      <td>1</td>\n",
       "      <td>155.0</td>\n",
       "      <td>127,727.3</td>\n",
       "      <td>первый</td>\n",
       "      <td>4.0</td>\n",
       "      <td>False</td>\n",
       "      <td>False</td>\n",
       "      <td>False</td>\n",
       "      <td>1,686,000.0</td>\n",
       "    </tr>\n",
       "    <tr>\n",
       "      <th>...</th>\n",
       "      <td>...</td>\n",
       "      <td>...</td>\n",
       "      <td>...</td>\n",
       "      <td>...</td>\n",
       "      <td>...</td>\n",
       "      <td>...</td>\n",
       "      <td>...</td>\n",
       "      <td>...</td>\n",
       "      <td>...</td>\n",
       "      <td>...</td>\n",
       "      <td>...</td>\n",
       "      <td>...</td>\n",
       "      <td>...</td>\n",
       "      <td>...</td>\n",
       "      <td>...</td>\n",
       "      <td>...</td>\n",
       "      <td>...</td>\n",
       "      <td>...</td>\n",
       "      <td>...</td>\n",
       "      <td>...</td>\n",
       "      <td>...</td>\n",
       "    </tr>\n",
       "    <tr>\n",
       "      <th>17981</th>\n",
       "      <td>590.0</td>\n",
       "      <td>15</td>\n",
       "      <td>3.5</td>\n",
       "      <td>6</td>\n",
       "      <td>409.0</td>\n",
       "      <td>3</td>\n",
       "      <td>100.0</td>\n",
       "      <td>0</td>\n",
       "      <td>Санкт-Петербург</td>\n",
       "      <td>24,447.0</td>\n",
       "      <td>...</td>\n",
       "      <td>767.0</td>\n",
       "      <td>0</td>\n",
       "      <td>0.0</td>\n",
       "      <td>110,169.5</td>\n",
       "      <td>другой</td>\n",
       "      <td>5.0</td>\n",
       "      <td>False</td>\n",
       "      <td>False</td>\n",
       "      <td>False</td>\n",
       "      <td>65,000,000.0</td>\n",
       "    </tr>\n",
       "    <tr>\n",
       "      <th>17982</th>\n",
       "      <td>618.0</td>\n",
       "      <td>7</td>\n",
       "      <td>3.4</td>\n",
       "      <td>7</td>\n",
       "      <td>258.0</td>\n",
       "      <td>5</td>\n",
       "      <td>70.0</td>\n",
       "      <td>0</td>\n",
       "      <td>Санкт-Петербург</td>\n",
       "      <td>32,440.0</td>\n",
       "      <td>...</td>\n",
       "      <td>0.0</td>\n",
       "      <td>2</td>\n",
       "      <td>198.0</td>\n",
       "      <td>485,436.9</td>\n",
       "      <td>другой</td>\n",
       "      <td>5.0</td>\n",
       "      <td>False</td>\n",
       "      <td>False</td>\n",
       "      <td>False</td>\n",
       "      <td>300,000,000.0</td>\n",
       "    </tr>\n",
       "    <tr>\n",
       "      <th>17983</th>\n",
       "      <td>631.0</td>\n",
       "      <td>7</td>\n",
       "      <td>2.6</td>\n",
       "      <td>5</td>\n",
       "      <td>364.0</td>\n",
       "      <td>5</td>\n",
       "      <td>60.0</td>\n",
       "      <td>0</td>\n",
       "      <td>Санкт-Петербург</td>\n",
       "      <td>25,707.0</td>\n",
       "      <td>...</td>\n",
       "      <td>0.0</td>\n",
       "      <td>2</td>\n",
       "      <td>210.0</td>\n",
       "      <td>221,870.0</td>\n",
       "      <td>последний</td>\n",
       "      <td>5.0</td>\n",
       "      <td>False</td>\n",
       "      <td>False</td>\n",
       "      <td>False</td>\n",
       "      <td>140,000,000.0</td>\n",
       "    </tr>\n",
       "    <tr>\n",
       "      <th>17984</th>\n",
       "      <td>631.2</td>\n",
       "      <td>7</td>\n",
       "      <td>3.9</td>\n",
       "      <td>4</td>\n",
       "      <td>322.3</td>\n",
       "      <td>4</td>\n",
       "      <td>19.5</td>\n",
       "      <td>1</td>\n",
       "      <td>Санкт-Петербург</td>\n",
       "      <td>25,707.0</td>\n",
       "      <td>...</td>\n",
       "      <td>0.0</td>\n",
       "      <td>2</td>\n",
       "      <td>210.0</td>\n",
       "      <td>221,799.7</td>\n",
       "      <td>последний</td>\n",
       "      <td>5.0</td>\n",
       "      <td>False</td>\n",
       "      <td>False</td>\n",
       "      <td>False</td>\n",
       "      <td>140,000,000.0</td>\n",
       "    </tr>\n",
       "    <tr>\n",
       "      <th>17985</th>\n",
       "      <td>900.0</td>\n",
       "      <td>12</td>\n",
       "      <td>2.8</td>\n",
       "      <td>25</td>\n",
       "      <td>409.7</td>\n",
       "      <td>25</td>\n",
       "      <td>112.0</td>\n",
       "      <td>0</td>\n",
       "      <td>Санкт-Петербург</td>\n",
       "      <td>30,706.0</td>\n",
       "      <td>...</td>\n",
       "      <td>0.0</td>\n",
       "      <td>2</td>\n",
       "      <td>318.0</td>\n",
       "      <td>466,666.7</td>\n",
       "      <td>последний</td>\n",
       "      <td>8.0</td>\n",
       "      <td>False</td>\n",
       "      <td>False</td>\n",
       "      <td>False</td>\n",
       "      <td>420,000,000.0</td>\n",
       "    </tr>\n",
       "  </tbody>\n",
       "</table>\n",
       "<p>17986 rows × 22 columns</p>\n",
       "</div>"
      ],
      "text/plain": [
       "       total_area  rooms  ceiling_height  floors_total  living_area  floor  \\\n",
       "0            12.0      1             2.5             5         10.0      2   \n",
       "1            13.0      1             2.6             9          7.5      1   \n",
       "2            13.0      1             2.6             5         10.0      3   \n",
       "3            13.0      1             3.4             5          7.5      2   \n",
       "4            13.2      1             2.6             5          7.6      1   \n",
       "...           ...    ...             ...           ...          ...    ...   \n",
       "17981       590.0     15             3.5             6        409.0      3   \n",
       "17982       618.0      7             3.4             7        258.0      5   \n",
       "17983       631.0      7             2.6             5        364.0      5   \n",
       "17984       631.2      7             3.9             4        322.3      4   \n",
       "17985       900.0     12             2.8            25        409.7     25   \n",
       "\n",
       "       kitchen_area  balcony    locality_name  airports_nearest  ...  \\\n",
       "0               2.1        0  Санкт-Петербург          21,314.0  ...   \n",
       "1               2.3        0  Санкт-Петербург          14,350.0  ...   \n",
       "2               2.3        0  Санкт-Петербург          21,302.0  ...   \n",
       "3               2.3        0  Санкт-Петербург          24,915.0  ...   \n",
       "4               2.3        0  Санкт-Петербург          19,891.0  ...   \n",
       "...             ...      ...              ...               ...  ...   \n",
       "17981         100.0        0  Санкт-Петербург          24,447.0  ...   \n",
       "17982          70.0        0  Санкт-Петербург          32,440.0  ...   \n",
       "17983          60.0        0  Санкт-Петербург          25,707.0  ...   \n",
       "17984          19.5        1  Санкт-Петербург          25,707.0  ...   \n",
       "17985         112.0        0  Санкт-Петербург          30,706.0  ...   \n",
       "\n",
       "       parks_nearest  ponds_around3000  ponds_nearest  one_square_price  \\\n",
       "0              886.0                 2           45.0         200,000.0   \n",
       "1                0.0                 1          185.0         107,692.3   \n",
       "2              592.0                 3           27.0         292,307.7   \n",
       "3              644.0                 0            0.0         142,307.7   \n",
       "4              361.0                 1          155.0         127,727.3   \n",
       "...              ...               ...            ...               ...   \n",
       "17981          767.0                 0            0.0         110,169.5   \n",
       "17982            0.0                 2          198.0         485,436.9   \n",
       "17983            0.0                 2          210.0         221,870.0   \n",
       "17984            0.0                 2          210.0         221,799.7   \n",
       "17985            0.0                 2          318.0         466,666.7   \n",
       "\n",
       "       type_of_flat  cityCenters_nearest_in_km is_apartment  studio  \\\n",
       "0            другой                        1.0        False   False   \n",
       "1            первый                       16.0        False   False   \n",
       "2            другой                        1.0        False   False   \n",
       "3            другой                        5.0        False   False   \n",
       "4            первый                        4.0        False   False   \n",
       "...             ...                        ...          ...     ...   \n",
       "17981        другой                        5.0        False   False   \n",
       "17982        другой                        5.0        False   False   \n",
       "17983     последний                        5.0        False   False   \n",
       "17984     последний                        5.0        False   False   \n",
       "17985     последний                        8.0        False   False   \n",
       "\n",
       "       open_plan    last_price  \n",
       "0          False   2,400,000.0  \n",
       "1          False   1,400,000.0  \n",
       "2          False   3,800,000.0  \n",
       "3          False   1,850,000.0  \n",
       "4          False   1,686,000.0  \n",
       "...          ...           ...  \n",
       "17981      False  65,000,000.0  \n",
       "17982      False 300,000,000.0  \n",
       "17983      False 140,000,000.0  \n",
       "17984      False 140,000,000.0  \n",
       "17985      False 420,000,000.0  \n",
       "\n",
       "[17986 rows x 22 columns]"
      ]
     },
     "execution_count": 74,
     "metadata": {},
     "output_type": "execute_result"
    }
   ],
   "source": [
    "final_pivot = pd.pivot_table(\n",
    "    df,\n",
    "    index=['total_area', 'rooms', 'ceiling_height', 'floors_total', 'living_area', 'floor',\n",
    "       'kitchen_area', 'balcony',\n",
    "       'locality_name', 'airports_nearest', 'cityCenters_nearest',\n",
    "       'parks_around3000', 'parks_nearest', 'ponds_around3000',\n",
    "       'ponds_nearest','one_square_price','type_of_flat', 'cityCenters_nearest_in_km',\n",
    "       'is_apartment', 'studio', 'open_plan'],\n",
    "    values='last_price')\n",
    "final_pivot = final_pivot.reset_index(drop= False)\n",
    "final_pivot"
   ]
  },
  {
   "cell_type": "markdown",
   "metadata": {},
   "source": [
    "Таким образом мы получили таблицу для анализа стоимости квартиры в зависимости от наиболее значимых параметров."
   ]
  }
 ],
 "metadata": {
  "ExecuteTimeLog": [
   {
    "duration": 419,
    "start_time": "2023-02-07T15:37:02.526Z"
   },
   {
    "duration": 162,
    "start_time": "2023-02-07T15:38:04.320Z"
   },
   {
    "duration": 117,
    "start_time": "2023-02-07T15:38:11.097Z"
   },
   {
    "duration": 42,
    "start_time": "2023-02-07T15:38:27.874Z"
   },
   {
    "duration": 49,
    "start_time": "2023-02-07T15:38:57.920Z"
   },
   {
    "duration": 53,
    "start_time": "2023-02-07T15:39:01.689Z"
   },
   {
    "duration": 90,
    "start_time": "2023-02-07T15:39:16.882Z"
   },
   {
    "duration": 100,
    "start_time": "2023-02-07T15:40:53.793Z"
   },
   {
    "duration": 85,
    "start_time": "2023-02-07T15:41:12.974Z"
   },
   {
    "duration": 992,
    "start_time": "2023-02-07T15:43:09.302Z"
   },
   {
    "duration": 216,
    "start_time": "2023-02-07T15:43:18.754Z"
   },
   {
    "duration": 841,
    "start_time": "2023-02-07T15:43:21.876Z"
   },
   {
    "duration": 86,
    "start_time": "2023-02-07T15:43:33.531Z"
   },
   {
    "duration": 84,
    "start_time": "2023-02-07T15:45:56.691Z"
   },
   {
    "duration": 907,
    "start_time": "2023-02-07T15:46:06.557Z"
   },
   {
    "duration": 88,
    "start_time": "2023-02-07T15:46:20.800Z"
   },
   {
    "duration": 110,
    "start_time": "2023-02-07T15:48:16.463Z"
   },
   {
    "duration": 108,
    "start_time": "2023-02-07T15:48:44.454Z"
   },
   {
    "duration": 47,
    "start_time": "2023-02-07T15:49:12.728Z"
   },
   {
    "duration": 87,
    "start_time": "2023-02-07T15:49:24.828Z"
   },
   {
    "duration": 96,
    "start_time": "2023-02-07T15:49:32.068Z"
   },
   {
    "duration": 114,
    "start_time": "2023-02-07T15:50:23.003Z"
   },
   {
    "duration": 48,
    "start_time": "2023-02-07T15:50:29.420Z"
   },
   {
    "duration": 83,
    "start_time": "2023-02-07T15:51:27.529Z"
   },
   {
    "duration": 42,
    "start_time": "2023-02-07T15:54:15.984Z"
   },
   {
    "duration": 54,
    "start_time": "2023-02-07T15:54:27.199Z"
   },
   {
    "duration": 88,
    "start_time": "2023-02-07T15:54:32.042Z"
   },
   {
    "duration": 98,
    "start_time": "2023-02-07T15:54:46.479Z"
   },
   {
    "duration": 49,
    "start_time": "2023-02-07T15:55:10.686Z"
   },
   {
    "duration": 95,
    "start_time": "2023-02-07T15:56:57.882Z"
   },
   {
    "duration": 102,
    "start_time": "2023-02-07T15:57:35.903Z"
   },
   {
    "duration": 1798,
    "start_time": "2023-02-07T15:58:48.381Z"
   },
   {
    "duration": 1313,
    "start_time": "2023-02-07T15:59:25.691Z"
   },
   {
    "duration": 1526,
    "start_time": "2023-02-07T15:59:35.495Z"
   },
   {
    "duration": 100,
    "start_time": "2023-02-07T15:59:54.927Z"
   },
   {
    "duration": 119,
    "start_time": "2023-02-07T16:00:16.186Z"
   },
   {
    "duration": 98,
    "start_time": "2023-02-07T16:00:19.900Z"
   },
   {
    "duration": 112,
    "start_time": "2023-02-07T16:00:26.874Z"
   },
   {
    "duration": 154,
    "start_time": "2023-02-07T16:00:41.557Z"
   },
   {
    "duration": 142,
    "start_time": "2023-02-07T16:01:46.797Z"
   },
   {
    "duration": 115,
    "start_time": "2023-02-07T16:02:05.746Z"
   },
   {
    "duration": 81,
    "start_time": "2023-02-07T16:04:28.146Z"
   },
   {
    "duration": 112,
    "start_time": "2023-02-07T16:05:05.926Z"
   },
   {
    "duration": 109,
    "start_time": "2023-02-07T16:05:14.648Z"
   },
   {
    "duration": 104,
    "start_time": "2023-02-07T16:05:24.606Z"
   },
   {
    "duration": 97,
    "start_time": "2023-02-07T16:05:30.716Z"
   },
   {
    "duration": 120,
    "start_time": "2023-02-07T16:05:35.679Z"
   },
   {
    "duration": 117,
    "start_time": "2023-02-07T16:05:51.823Z"
   },
   {
    "duration": 772,
    "start_time": "2023-02-08T14:04:48.651Z"
   },
   {
    "duration": 84,
    "start_time": "2023-02-08T14:05:05.027Z"
   },
   {
    "duration": 122,
    "start_time": "2023-02-08T14:05:08.692Z"
   },
   {
    "duration": 101,
    "start_time": "2023-02-08T14:05:19.115Z"
   },
   {
    "duration": 30,
    "start_time": "2023-02-08T14:05:20.156Z"
   },
   {
    "duration": 15,
    "start_time": "2023-02-08T14:05:21.221Z"
   },
   {
    "duration": 5,
    "start_time": "2023-02-08T14:05:44.159Z"
   },
   {
    "duration": 10,
    "start_time": "2023-02-08T14:06:10.159Z"
   },
   {
    "duration": 1772,
    "start_time": "2023-02-08T14:06:51.265Z"
   },
   {
    "duration": 1511,
    "start_time": "2023-02-08T14:07:20.053Z"
   },
   {
    "duration": 1874,
    "start_time": "2023-02-08T14:07:28.926Z"
   },
   {
    "duration": 2040,
    "start_time": "2023-02-08T14:08:27.064Z"
   },
   {
    "duration": 2197,
    "start_time": "2023-02-08T14:10:39.869Z"
   },
   {
    "duration": 10,
    "start_time": "2023-02-08T14:11:19.411Z"
   },
   {
    "duration": 18,
    "start_time": "2023-02-08T14:11:28.991Z"
   },
   {
    "duration": 6,
    "start_time": "2023-02-08T14:11:44.637Z"
   },
   {
    "duration": 26,
    "start_time": "2023-02-08T14:11:59.422Z"
   },
   {
    "duration": 6,
    "start_time": "2023-02-08T14:12:19.408Z"
   },
   {
    "duration": 5,
    "start_time": "2023-02-08T14:14:17.875Z"
   },
   {
    "duration": 34,
    "start_time": "2023-02-08T14:14:30.808Z"
   },
   {
    "duration": 11,
    "start_time": "2023-02-08T14:15:15.822Z"
   },
   {
    "duration": 15,
    "start_time": "2023-02-08T14:15:23.430Z"
   },
   {
    "duration": 1988,
    "start_time": "2023-02-08T14:15:42.450Z"
   },
   {
    "duration": 1984,
    "start_time": "2023-02-08T14:16:09.585Z"
   },
   {
    "duration": 1793,
    "start_time": "2023-02-08T14:16:19.633Z"
   },
   {
    "duration": 3676,
    "start_time": "2023-02-08T14:16:32.553Z"
   },
   {
    "duration": 1853,
    "start_time": "2023-02-08T14:16:49.879Z"
   },
   {
    "duration": 3285,
    "start_time": "2023-02-08T14:20:36.410Z"
   },
   {
    "duration": 4937,
    "start_time": "2023-02-08T14:20:54.323Z"
   },
   {
    "duration": 2054,
    "start_time": "2023-02-08T14:22:18.056Z"
   },
   {
    "duration": 29263,
    "start_time": "2023-02-08T14:22:33.583Z"
   },
   {
    "duration": 3020,
    "start_time": "2023-02-08T14:23:18.582Z"
   },
   {
    "duration": 7,
    "start_time": "2023-02-08T14:25:16.533Z"
   },
   {
    "duration": 5,
    "start_time": "2023-02-08T14:25:27.510Z"
   },
   {
    "duration": 11,
    "start_time": "2023-02-08T14:25:37.757Z"
   },
   {
    "duration": 7,
    "start_time": "2023-02-08T14:26:04.185Z"
   },
   {
    "duration": 25,
    "start_time": "2023-02-08T14:26:10.686Z"
   },
   {
    "duration": 12,
    "start_time": "2023-02-08T14:26:16.815Z"
   },
   {
    "duration": 22,
    "start_time": "2023-02-08T14:28:51.912Z"
   },
   {
    "duration": 42,
    "start_time": "2023-02-08T14:29:05.363Z"
   },
   {
    "duration": 9,
    "start_time": "2023-02-08T14:29:16.362Z"
   },
   {
    "duration": 42,
    "start_time": "2023-02-08T14:29:25.411Z"
   },
   {
    "duration": 12,
    "start_time": "2023-02-08T14:30:23.753Z"
   },
   {
    "duration": 8,
    "start_time": "2023-02-08T14:30:31.012Z"
   },
   {
    "duration": 5,
    "start_time": "2023-02-08T14:31:02.913Z"
   },
   {
    "duration": 8,
    "start_time": "2023-02-08T14:31:08.628Z"
   },
   {
    "duration": 7,
    "start_time": "2023-02-08T14:31:13.716Z"
   },
   {
    "duration": 632,
    "start_time": "2023-02-08T14:32:35.332Z"
   },
   {
    "duration": 44,
    "start_time": "2023-02-08T14:32:46.481Z"
   },
   {
    "duration": 69,
    "start_time": "2023-02-08T14:32:56.616Z"
   },
   {
    "duration": 44,
    "start_time": "2023-02-08T14:33:08.920Z"
   },
   {
    "duration": 11,
    "start_time": "2023-02-08T14:34:54.281Z"
   },
   {
    "duration": 11,
    "start_time": "2023-02-08T14:35:09.849Z"
   },
   {
    "duration": 6,
    "start_time": "2023-02-08T14:35:21.420Z"
   },
   {
    "duration": 7,
    "start_time": "2023-02-08T14:35:37.324Z"
   },
   {
    "duration": 48,
    "start_time": "2023-02-08T14:35:46.814Z"
   },
   {
    "duration": 5,
    "start_time": "2023-02-08T14:38:47.250Z"
   },
   {
    "duration": 5,
    "start_time": "2023-02-08T14:40:46.613Z"
   },
   {
    "duration": 4,
    "start_time": "2023-02-08T14:41:12.686Z"
   },
   {
    "duration": 6,
    "start_time": "2023-02-08T14:41:17.560Z"
   },
   {
    "duration": 11,
    "start_time": "2023-02-08T14:41:52.927Z"
   },
   {
    "duration": 9,
    "start_time": "2023-02-08T14:42:03.287Z"
   },
   {
    "duration": 9,
    "start_time": "2023-02-08T14:42:25.541Z"
   },
   {
    "duration": 11,
    "start_time": "2023-02-08T14:43:30.322Z"
   },
   {
    "duration": 8,
    "start_time": "2023-02-08T14:44:34.855Z"
   },
   {
    "duration": 22,
    "start_time": "2023-02-08T15:04:41.014Z"
   },
   {
    "duration": 8,
    "start_time": "2023-02-08T15:06:15.447Z"
   },
   {
    "duration": 5,
    "start_time": "2023-02-08T15:07:13.121Z"
   },
   {
    "duration": 7,
    "start_time": "2023-02-08T15:07:18.601Z"
   },
   {
    "duration": 7,
    "start_time": "2023-02-08T15:07:29.183Z"
   },
   {
    "duration": 11,
    "start_time": "2023-02-08T15:08:33.762Z"
   },
   {
    "duration": 11,
    "start_time": "2023-02-08T15:08:47.554Z"
   },
   {
    "duration": 79,
    "start_time": "2023-02-08T15:09:13.463Z"
   },
   {
    "duration": 77,
    "start_time": "2023-02-08T15:09:21.649Z"
   },
   {
    "duration": 10,
    "start_time": "2023-02-08T15:09:27.931Z"
   },
   {
    "duration": 10,
    "start_time": "2023-02-08T15:12:35.101Z"
   },
   {
    "duration": 8,
    "start_time": "2023-02-08T15:14:16.160Z"
   },
   {
    "duration": 43,
    "start_time": "2023-02-08T15:15:40.693Z"
   },
   {
    "duration": 6,
    "start_time": "2023-02-08T15:18:05.420Z"
   },
   {
    "duration": 13,
    "start_time": "2023-02-08T15:18:23.119Z"
   },
   {
    "duration": 9,
    "start_time": "2023-02-08T15:20:20.094Z"
   },
   {
    "duration": 7,
    "start_time": "2023-02-08T15:20:25.243Z"
   },
   {
    "duration": 10,
    "start_time": "2023-02-08T15:20:38.026Z"
   },
   {
    "duration": 10,
    "start_time": "2023-02-08T15:21:15.548Z"
   },
   {
    "duration": 9,
    "start_time": "2023-02-08T15:22:11.317Z"
   },
   {
    "duration": 8,
    "start_time": "2023-02-08T15:22:25.213Z"
   },
   {
    "duration": 11,
    "start_time": "2023-02-08T15:23:58.419Z"
   },
   {
    "duration": 10,
    "start_time": "2023-02-08T15:24:12.883Z"
   },
   {
    "duration": 11,
    "start_time": "2023-02-08T15:24:18.201Z"
   },
   {
    "duration": 13,
    "start_time": "2023-02-08T15:24:24.617Z"
   },
   {
    "duration": 12,
    "start_time": "2023-02-08T15:25:35.821Z"
   },
   {
    "duration": 7,
    "start_time": "2023-02-08T15:25:42.216Z"
   },
   {
    "duration": 1321,
    "start_time": "2023-02-08T15:26:03.620Z"
   },
   {
    "duration": 17,
    "start_time": "2023-02-08T15:27:05.447Z"
   },
   {
    "duration": 9,
    "start_time": "2023-02-08T15:28:05.944Z"
   },
   {
    "duration": 12,
    "start_time": "2023-02-08T15:28:13.723Z"
   },
   {
    "duration": 7,
    "start_time": "2023-02-08T15:28:28.150Z"
   },
   {
    "duration": 8,
    "start_time": "2023-02-08T15:28:37.058Z"
   },
   {
    "duration": 7,
    "start_time": "2023-02-08T15:28:48.672Z"
   },
   {
    "duration": 8,
    "start_time": "2023-02-08T15:28:54.258Z"
   },
   {
    "duration": 7,
    "start_time": "2023-02-08T15:28:58.293Z"
   },
   {
    "duration": 9,
    "start_time": "2023-02-08T15:29:53.920Z"
   },
   {
    "duration": 8,
    "start_time": "2023-02-08T15:29:57.558Z"
   },
   {
    "duration": 7,
    "start_time": "2023-02-08T15:36:55.897Z"
   },
   {
    "duration": 7,
    "start_time": "2023-02-08T15:37:07.848Z"
   },
   {
    "duration": 8,
    "start_time": "2023-02-08T15:37:15.262Z"
   },
   {
    "duration": 6,
    "start_time": "2023-02-08T15:37:43.261Z"
   },
   {
    "duration": 9,
    "start_time": "2023-02-08T15:37:53.017Z"
   },
   {
    "duration": 7,
    "start_time": "2023-02-08T15:38:02.354Z"
   },
   {
    "duration": 8,
    "start_time": "2023-02-08T15:39:38.757Z"
   },
   {
    "duration": 6,
    "start_time": "2023-02-08T15:39:56.599Z"
   },
   {
    "duration": 12,
    "start_time": "2023-02-08T15:40:46.581Z"
   },
   {
    "duration": 8,
    "start_time": "2023-02-08T15:40:55.721Z"
   },
   {
    "duration": 8,
    "start_time": "2023-02-08T15:41:03.248Z"
   },
   {
    "duration": 101,
    "start_time": "2023-02-08T15:41:08.597Z"
   },
   {
    "duration": 29,
    "start_time": "2023-02-08T15:41:09.344Z"
   },
   {
    "duration": 11,
    "start_time": "2023-02-08T15:41:16.213Z"
   },
   {
    "duration": 6,
    "start_time": "2023-02-08T15:41:36.114Z"
   },
   {
    "duration": 13,
    "start_time": "2023-02-08T15:42:44.747Z"
   },
   {
    "duration": 6,
    "start_time": "2023-02-08T15:42:47.417Z"
   },
   {
    "duration": 11,
    "start_time": "2023-02-08T15:42:51.653Z"
   },
   {
    "duration": 10,
    "start_time": "2023-02-08T15:42:56.421Z"
   },
   {
    "duration": 11,
    "start_time": "2023-02-08T15:44:30.214Z"
   },
   {
    "duration": 101,
    "start_time": "2023-02-08T15:44:41.414Z"
   },
   {
    "duration": 27,
    "start_time": "2023-02-08T15:44:41.956Z"
   },
   {
    "duration": 6,
    "start_time": "2023-02-08T15:44:53.288Z"
   },
   {
    "duration": 8,
    "start_time": "2023-02-08T15:45:19.114Z"
   },
   {
    "duration": 8,
    "start_time": "2023-02-08T15:45:28.454Z"
   },
   {
    "duration": 5,
    "start_time": "2023-02-08T15:45:45.847Z"
   },
   {
    "duration": 11,
    "start_time": "2023-02-08T15:46:21.713Z"
   },
   {
    "duration": 8,
    "start_time": "2023-02-08T15:46:26.336Z"
   },
   {
    "duration": 6,
    "start_time": "2023-02-08T15:46:37.858Z"
   },
   {
    "duration": 8,
    "start_time": "2023-02-08T15:46:53.555Z"
   },
   {
    "duration": 70,
    "start_time": "2023-02-08T15:47:14.317Z"
   },
   {
    "duration": 7,
    "start_time": "2023-02-08T15:47:24.235Z"
   },
   {
    "duration": 7,
    "start_time": "2023-02-08T15:47:27.379Z"
   },
   {
    "duration": 6,
    "start_time": "2023-02-08T15:47:33.621Z"
   },
   {
    "duration": 25,
    "start_time": "2023-02-08T15:51:28.151Z"
   },
   {
    "duration": 93,
    "start_time": "2023-02-08T15:51:30.949Z"
   },
   {
    "duration": 28,
    "start_time": "2023-02-08T15:51:32.026Z"
   },
   {
    "duration": 16,
    "start_time": "2023-02-08T15:51:32.492Z"
   },
   {
    "duration": 5,
    "start_time": "2023-02-08T15:51:32.992Z"
   },
   {
    "duration": 11,
    "start_time": "2023-02-08T15:51:38.772Z"
   },
   {
    "duration": 7,
    "start_time": "2023-02-08T15:51:41.680Z"
   },
   {
    "duration": 7,
    "start_time": "2023-02-08T15:51:43.574Z"
   },
   {
    "duration": 6,
    "start_time": "2023-02-08T15:51:44.526Z"
   },
   {
    "duration": 7,
    "start_time": "2023-02-08T15:51:51.567Z"
   },
   {
    "duration": 5,
    "start_time": "2023-02-08T15:51:56.771Z"
   },
   {
    "duration": 13,
    "start_time": "2023-02-08T15:53:24.824Z"
   },
   {
    "duration": 7,
    "start_time": "2023-02-08T15:53:34.744Z"
   },
   {
    "duration": 61,
    "start_time": "2023-02-08T15:53:50.117Z"
   },
   {
    "duration": 79,
    "start_time": "2023-02-08T15:55:00.179Z"
   },
   {
    "duration": 76,
    "start_time": "2023-02-08T15:55:05.513Z"
   },
   {
    "duration": 81,
    "start_time": "2023-02-08T16:00:37.515Z"
   },
   {
    "duration": 8,
    "start_time": "2023-02-08T16:01:52.152Z"
   },
   {
    "duration": 74,
    "start_time": "2023-02-08T16:02:11.326Z"
   },
   {
    "duration": 25,
    "start_time": "2023-02-08T16:02:16.658Z"
   },
   {
    "duration": 7,
    "start_time": "2023-02-08T16:02:40.270Z"
   },
   {
    "duration": 9,
    "start_time": "2023-02-08T16:03:02.472Z"
   },
   {
    "duration": 5,
    "start_time": "2023-02-08T16:03:15.764Z"
   },
   {
    "duration": 38,
    "start_time": "2023-02-08T16:03:21.851Z"
   },
   {
    "duration": 29,
    "start_time": "2023-02-08T16:03:29.852Z"
   },
   {
    "duration": 9,
    "start_time": "2023-02-08T16:03:35.046Z"
   },
   {
    "duration": 51,
    "start_time": "2023-02-09T10:08:03.124Z"
   },
   {
    "duration": 540,
    "start_time": "2023-02-09T10:08:08.126Z"
   },
   {
    "duration": 31,
    "start_time": "2023-02-09T10:08:08.867Z"
   },
   {
    "duration": 9,
    "start_time": "2023-02-09T10:10:00.687Z"
   },
   {
    "duration": 5,
    "start_time": "2023-02-09T10:11:06.070Z"
   },
   {
    "duration": 5,
    "start_time": "2023-02-09T10:11:22.311Z"
   },
   {
    "duration": 4,
    "start_time": "2023-02-09T10:12:35.759Z"
   },
   {
    "duration": 5,
    "start_time": "2023-02-09T10:12:50.572Z"
   },
   {
    "duration": 40,
    "start_time": "2023-02-09T10:13:50.196Z"
   },
   {
    "duration": 6,
    "start_time": "2023-02-09T10:15:20.880Z"
   },
   {
    "duration": 6,
    "start_time": "2023-02-09T10:15:58.187Z"
   },
   {
    "duration": 713,
    "start_time": "2023-02-09T10:16:25.421Z"
   },
   {
    "duration": 15,
    "start_time": "2023-02-09T10:16:30.306Z"
   },
   {
    "duration": 47,
    "start_time": "2023-02-09T10:17:02.528Z"
   },
   {
    "duration": 7,
    "start_time": "2023-02-09T10:17:17.094Z"
   },
   {
    "duration": 40,
    "start_time": "2023-02-09T10:17:28.276Z"
   },
   {
    "duration": 8,
    "start_time": "2023-02-09T10:17:37.604Z"
   },
   {
    "duration": 11,
    "start_time": "2023-02-09T10:17:51.623Z"
   },
   {
    "duration": 8,
    "start_time": "2023-02-09T10:17:56.382Z"
   },
   {
    "duration": 9,
    "start_time": "2023-02-09T10:23:45.722Z"
   },
   {
    "duration": 6,
    "start_time": "2023-02-09T10:25:46.925Z"
   },
   {
    "duration": 4,
    "start_time": "2023-02-09T10:26:00.289Z"
   },
   {
    "duration": 53,
    "start_time": "2023-02-09T10:28:53.077Z"
   },
   {
    "duration": 4,
    "start_time": "2023-02-09T10:28:59.034Z"
   },
   {
    "duration": 6,
    "start_time": "2023-02-09T10:29:15.339Z"
   },
   {
    "duration": 7,
    "start_time": "2023-02-09T10:29:57.237Z"
   },
   {
    "duration": 14,
    "start_time": "2023-02-09T10:30:05.887Z"
   },
   {
    "duration": 6,
    "start_time": "2023-02-09T10:30:17.878Z"
   },
   {
    "duration": 50,
    "start_time": "2023-02-09T10:30:30.476Z"
   },
   {
    "duration": 10,
    "start_time": "2023-02-09T10:30:42.331Z"
   },
   {
    "duration": 9,
    "start_time": "2023-02-09T10:30:52.176Z"
   },
   {
    "duration": 6,
    "start_time": "2023-02-09T10:34:03.286Z"
   },
   {
    "duration": 6,
    "start_time": "2023-02-09T10:39:12.279Z"
   },
   {
    "duration": 5,
    "start_time": "2023-02-09T10:39:47.784Z"
   },
   {
    "duration": 5,
    "start_time": "2023-02-09T10:39:51.392Z"
   },
   {
    "duration": 7,
    "start_time": "2023-02-09T10:40:10.506Z"
   },
   {
    "duration": 8,
    "start_time": "2023-02-09T10:40:51.622Z"
   },
   {
    "duration": 7,
    "start_time": "2023-02-09T10:42:24.336Z"
   },
   {
    "duration": 8,
    "start_time": "2023-02-09T10:43:11.677Z"
   },
   {
    "duration": 10,
    "start_time": "2023-02-09T10:43:21.105Z"
   },
   {
    "duration": 93,
    "start_time": "2023-02-09T10:43:24.528Z"
   },
   {
    "duration": 42,
    "start_time": "2023-02-09T10:43:24.623Z"
   },
   {
    "duration": 37,
    "start_time": "2023-02-09T10:43:24.667Z"
   },
   {
    "duration": 4,
    "start_time": "2023-02-09T10:43:24.707Z"
   },
   {
    "duration": 2391,
    "start_time": "2023-02-09T10:43:24.712Z"
   },
   {
    "duration": 11,
    "start_time": "2023-02-09T10:43:27.105Z"
   },
   {
    "duration": 19,
    "start_time": "2023-02-09T10:43:27.118Z"
   },
   {
    "duration": 11,
    "start_time": "2023-02-09T10:43:27.139Z"
   },
   {
    "duration": 10,
    "start_time": "2023-02-09T10:43:27.151Z"
   },
   {
    "duration": 46,
    "start_time": "2023-02-09T10:43:27.163Z"
   },
   {
    "duration": 0,
    "start_time": "2023-02-09T10:43:27.211Z"
   },
   {
    "duration": 0,
    "start_time": "2023-02-09T10:43:27.213Z"
   },
   {
    "duration": 0,
    "start_time": "2023-02-09T10:43:27.215Z"
   },
   {
    "duration": 0,
    "start_time": "2023-02-09T10:43:27.216Z"
   },
   {
    "duration": 0,
    "start_time": "2023-02-09T10:43:27.218Z"
   },
   {
    "duration": 0,
    "start_time": "2023-02-09T10:43:27.219Z"
   },
   {
    "duration": 0,
    "start_time": "2023-02-09T10:43:27.220Z"
   },
   {
    "duration": 0,
    "start_time": "2023-02-09T10:43:27.221Z"
   },
   {
    "duration": 0,
    "start_time": "2023-02-09T10:43:27.223Z"
   },
   {
    "duration": 0,
    "start_time": "2023-02-09T10:43:27.224Z"
   },
   {
    "duration": 0,
    "start_time": "2023-02-09T10:43:27.225Z"
   },
   {
    "duration": 0,
    "start_time": "2023-02-09T10:43:27.226Z"
   },
   {
    "duration": 0,
    "start_time": "2023-02-09T10:43:27.228Z"
   },
   {
    "duration": 0,
    "start_time": "2023-02-09T10:43:27.229Z"
   },
   {
    "duration": 9,
    "start_time": "2023-02-09T10:43:36.923Z"
   },
   {
    "duration": 6,
    "start_time": "2023-02-09T10:43:42.584Z"
   },
   {
    "duration": 9,
    "start_time": "2023-02-09T10:43:45.189Z"
   },
   {
    "duration": 87,
    "start_time": "2023-02-09T10:43:51.776Z"
   },
   {
    "duration": 42,
    "start_time": "2023-02-09T10:43:51.865Z"
   },
   {
    "duration": 18,
    "start_time": "2023-02-09T10:43:51.908Z"
   },
   {
    "duration": 4,
    "start_time": "2023-02-09T10:43:51.928Z"
   },
   {
    "duration": 1947,
    "start_time": "2023-02-09T10:43:51.934Z"
   },
   {
    "duration": 21,
    "start_time": "2023-02-09T10:43:53.883Z"
   },
   {
    "duration": 10,
    "start_time": "2023-02-09T10:43:53.906Z"
   },
   {
    "duration": 7,
    "start_time": "2023-02-09T10:43:53.917Z"
   },
   {
    "duration": 9,
    "start_time": "2023-02-09T10:43:53.926Z"
   },
   {
    "duration": 44,
    "start_time": "2023-02-09T10:43:53.937Z"
   },
   {
    "duration": 0,
    "start_time": "2023-02-09T10:43:53.983Z"
   },
   {
    "duration": 0,
    "start_time": "2023-02-09T10:43:53.984Z"
   },
   {
    "duration": 0,
    "start_time": "2023-02-09T10:43:53.985Z"
   },
   {
    "duration": 0,
    "start_time": "2023-02-09T10:43:53.986Z"
   },
   {
    "duration": 0,
    "start_time": "2023-02-09T10:43:53.988Z"
   },
   {
    "duration": 0,
    "start_time": "2023-02-09T10:43:53.988Z"
   },
   {
    "duration": 0,
    "start_time": "2023-02-09T10:43:54.003Z"
   },
   {
    "duration": 0,
    "start_time": "2023-02-09T10:43:54.004Z"
   },
   {
    "duration": 0,
    "start_time": "2023-02-09T10:43:54.005Z"
   },
   {
    "duration": 0,
    "start_time": "2023-02-09T10:43:54.006Z"
   },
   {
    "duration": 0,
    "start_time": "2023-02-09T10:43:54.007Z"
   },
   {
    "duration": 0,
    "start_time": "2023-02-09T10:43:54.008Z"
   },
   {
    "duration": 0,
    "start_time": "2023-02-09T10:43:54.009Z"
   },
   {
    "duration": 8,
    "start_time": "2023-02-09T10:44:09.868Z"
   },
   {
    "duration": 10,
    "start_time": "2023-02-09T10:44:10.911Z"
   },
   {
    "duration": 87,
    "start_time": "2023-02-09T10:44:15.033Z"
   },
   {
    "duration": 43,
    "start_time": "2023-02-09T10:44:15.123Z"
   },
   {
    "duration": 37,
    "start_time": "2023-02-09T10:44:15.167Z"
   },
   {
    "duration": 4,
    "start_time": "2023-02-09T10:44:15.206Z"
   },
   {
    "duration": 1921,
    "start_time": "2023-02-09T10:44:15.213Z"
   },
   {
    "duration": 12,
    "start_time": "2023-02-09T10:44:17.136Z"
   },
   {
    "duration": 11,
    "start_time": "2023-02-09T10:44:17.150Z"
   },
   {
    "duration": 45,
    "start_time": "2023-02-09T10:44:17.163Z"
   },
   {
    "duration": 11,
    "start_time": "2023-02-09T10:44:17.210Z"
   },
   {
    "duration": 26,
    "start_time": "2023-02-09T10:44:17.222Z"
   },
   {
    "duration": 11,
    "start_time": "2023-02-09T10:44:17.250Z"
   },
   {
    "duration": 22,
    "start_time": "2023-02-09T10:44:17.262Z"
   },
   {
    "duration": 25,
    "start_time": "2023-02-09T10:44:17.286Z"
   },
   {
    "duration": 8,
    "start_time": "2023-02-09T10:44:17.314Z"
   },
   {
    "duration": 5,
    "start_time": "2023-02-09T10:44:17.324Z"
   },
   {
    "duration": 7,
    "start_time": "2023-02-09T10:44:17.331Z"
   },
   {
    "duration": 9,
    "start_time": "2023-02-09T10:44:17.340Z"
   },
   {
    "duration": 58,
    "start_time": "2023-02-09T10:44:17.350Z"
   },
   {
    "duration": 8,
    "start_time": "2023-02-09T10:44:17.410Z"
   },
   {
    "duration": 7,
    "start_time": "2023-02-09T10:44:17.420Z"
   },
   {
    "duration": 10,
    "start_time": "2023-02-09T10:44:17.428Z"
   },
   {
    "duration": 6,
    "start_time": "2023-02-09T10:44:17.439Z"
   },
   {
    "duration": 12,
    "start_time": "2023-02-09T10:44:17.447Z"
   },
   {
    "duration": 8,
    "start_time": "2023-02-09T10:52:03.077Z"
   },
   {
    "duration": 12,
    "start_time": "2023-02-09T10:52:11.605Z"
   },
   {
    "duration": 11,
    "start_time": "2023-02-09T10:52:49.609Z"
   },
   {
    "duration": 42,
    "start_time": "2023-02-09T10:53:52.867Z"
   },
   {
    "duration": 21,
    "start_time": "2023-02-09T10:54:02.600Z"
   },
   {
    "duration": 51,
    "start_time": "2023-02-09T10:54:18.806Z"
   },
   {
    "duration": 39,
    "start_time": "2023-02-09T10:55:21.494Z"
   },
   {
    "duration": 7,
    "start_time": "2023-02-09T10:58:55.700Z"
   },
   {
    "duration": 92,
    "start_time": "2023-02-09T11:00:42.266Z"
   },
   {
    "duration": 53,
    "start_time": "2023-02-09T11:00:42.360Z"
   },
   {
    "duration": 14,
    "start_time": "2023-02-09T11:00:42.415Z"
   },
   {
    "duration": 5,
    "start_time": "2023-02-09T11:00:42.431Z"
   },
   {
    "duration": 2093,
    "start_time": "2023-02-09T11:00:42.438Z"
   },
   {
    "duration": 10,
    "start_time": "2023-02-09T11:00:44.533Z"
   },
   {
    "duration": 13,
    "start_time": "2023-02-09T11:00:44.544Z"
   },
   {
    "duration": 7,
    "start_time": "2023-02-09T11:00:44.558Z"
   },
   {
    "duration": 42,
    "start_time": "2023-02-09T11:00:44.567Z"
   },
   {
    "duration": 11,
    "start_time": "2023-02-09T11:00:44.612Z"
   },
   {
    "duration": 9,
    "start_time": "2023-02-09T11:00:44.625Z"
   },
   {
    "duration": 8,
    "start_time": "2023-02-09T11:00:44.637Z"
   },
   {
    "duration": 12,
    "start_time": "2023-02-09T11:00:44.647Z"
   },
   {
    "duration": 10,
    "start_time": "2023-02-09T11:00:44.704Z"
   },
   {
    "duration": 15,
    "start_time": "2023-02-09T11:00:44.716Z"
   },
   {
    "duration": 12,
    "start_time": "2023-02-09T11:00:44.733Z"
   },
   {
    "duration": 10,
    "start_time": "2023-02-09T11:00:44.747Z"
   },
   {
    "duration": 8,
    "start_time": "2023-02-09T11:00:44.760Z"
   },
   {
    "duration": 5,
    "start_time": "2023-02-09T11:00:44.804Z"
   },
   {
    "duration": 9,
    "start_time": "2023-02-09T11:00:44.810Z"
   },
   {
    "duration": 12,
    "start_time": "2023-02-09T11:00:44.820Z"
   },
   {
    "duration": 10,
    "start_time": "2023-02-09T11:00:44.834Z"
   },
   {
    "duration": 16,
    "start_time": "2023-02-09T11:00:44.846Z"
   },
   {
    "duration": 11,
    "start_time": "2023-02-09T11:17:04.163Z"
   },
   {
    "duration": 11,
    "start_time": "2023-02-09T11:17:07.710Z"
   },
   {
    "duration": 10,
    "start_time": "2023-02-09T11:17:11.518Z"
   },
   {
    "duration": 11,
    "start_time": "2023-02-09T11:17:13.373Z"
   },
   {
    "duration": 6,
    "start_time": "2023-02-09T11:17:33.820Z"
   },
   {
    "duration": 8,
    "start_time": "2023-02-09T11:18:43.116Z"
   },
   {
    "duration": 8,
    "start_time": "2023-02-09T11:19:02.661Z"
   },
   {
    "duration": 13,
    "start_time": "2023-02-09T11:19:08.088Z"
   },
   {
    "duration": 7,
    "start_time": "2023-02-09T11:19:20.739Z"
   },
   {
    "duration": 8,
    "start_time": "2023-02-09T11:19:32.641Z"
   },
   {
    "duration": 6,
    "start_time": "2023-02-09T11:20:24.400Z"
   },
   {
    "duration": 8,
    "start_time": "2023-02-09T11:20:42.708Z"
   },
   {
    "duration": 27,
    "start_time": "2023-02-09T11:21:47.367Z"
   },
   {
    "duration": 23,
    "start_time": "2023-02-09T11:21:53.849Z"
   },
   {
    "duration": 33,
    "start_time": "2023-02-09T11:22:15.102Z"
   },
   {
    "duration": 27,
    "start_time": "2023-02-09T11:23:18.063Z"
   },
   {
    "duration": 6,
    "start_time": "2023-02-09T11:23:35.841Z"
   },
   {
    "duration": 5,
    "start_time": "2023-02-09T11:23:48.606Z"
   },
   {
    "duration": 9,
    "start_time": "2023-02-09T11:24:19.160Z"
   },
   {
    "duration": 10,
    "start_time": "2023-02-09T11:24:41.275Z"
   },
   {
    "duration": 5,
    "start_time": "2023-02-09T11:25:12.881Z"
   },
   {
    "duration": 7,
    "start_time": "2023-02-09T11:25:18.600Z"
   },
   {
    "duration": 6,
    "start_time": "2023-02-09T11:25:45.520Z"
   },
   {
    "duration": 7,
    "start_time": "2023-02-09T11:26:06.169Z"
   },
   {
    "duration": 10,
    "start_time": "2023-02-09T11:27:52.256Z"
   },
   {
    "duration": 6,
    "start_time": "2023-02-09T11:28:41.044Z"
   },
   {
    "duration": 8,
    "start_time": "2023-02-09T11:29:03.886Z"
   },
   {
    "duration": 7,
    "start_time": "2023-02-09T11:29:05.293Z"
   },
   {
    "duration": 144,
    "start_time": "2023-02-09T11:29:12.042Z"
   },
   {
    "duration": 6,
    "start_time": "2023-02-09T11:29:32.817Z"
   },
   {
    "duration": 185,
    "start_time": "2023-02-09T11:30:49.926Z"
   },
   {
    "duration": 195,
    "start_time": "2023-02-09T11:30:56.254Z"
   },
   {
    "duration": 9,
    "start_time": "2023-02-09T11:31:01.994Z"
   },
   {
    "duration": 191,
    "start_time": "2023-02-09T11:31:22.997Z"
   },
   {
    "duration": 178,
    "start_time": "2023-02-09T11:32:12.724Z"
   },
   {
    "duration": 6,
    "start_time": "2023-02-09T11:32:24.978Z"
   },
   {
    "duration": 8,
    "start_time": "2023-02-09T11:32:35.115Z"
   },
   {
    "duration": 8,
    "start_time": "2023-02-09T11:33:27.439Z"
   },
   {
    "duration": 96,
    "start_time": "2023-02-09T11:33:31.531Z"
   },
   {
    "duration": 26,
    "start_time": "2023-02-09T11:33:31.629Z"
   },
   {
    "duration": 26,
    "start_time": "2023-02-09T11:33:31.657Z"
   },
   {
    "duration": 40,
    "start_time": "2023-02-09T11:33:31.685Z"
   },
   {
    "duration": 5,
    "start_time": "2023-02-09T11:33:31.727Z"
   },
   {
    "duration": 1904,
    "start_time": "2023-02-09T11:33:31.733Z"
   },
   {
    "duration": 10,
    "start_time": "2023-02-09T11:33:33.639Z"
   },
   {
    "duration": 20,
    "start_time": "2023-02-09T11:33:33.651Z"
   },
   {
    "duration": 23,
    "start_time": "2023-02-09T11:33:33.672Z"
   },
   {
    "duration": 8,
    "start_time": "2023-02-09T11:33:33.702Z"
   },
   {
    "duration": 6,
    "start_time": "2023-02-09T11:33:33.712Z"
   },
   {
    "duration": 9,
    "start_time": "2023-02-09T11:33:33.720Z"
   },
   {
    "duration": 9,
    "start_time": "2023-02-09T11:33:33.731Z"
   },
   {
    "duration": 6,
    "start_time": "2023-02-09T11:33:33.741Z"
   },
   {
    "duration": 6,
    "start_time": "2023-02-09T11:33:33.749Z"
   },
   {
    "duration": 9,
    "start_time": "2023-02-09T11:33:33.803Z"
   },
   {
    "duration": 5,
    "start_time": "2023-02-09T11:33:33.813Z"
   },
   {
    "duration": 5,
    "start_time": "2023-02-09T11:33:33.819Z"
   },
   {
    "duration": 7,
    "start_time": "2023-02-09T11:33:33.825Z"
   },
   {
    "duration": 7,
    "start_time": "2023-02-09T11:33:33.833Z"
   },
   {
    "duration": 6,
    "start_time": "2023-02-09T11:33:33.842Z"
   },
   {
    "duration": 13,
    "start_time": "2023-02-09T11:33:33.849Z"
   },
   {
    "duration": 41,
    "start_time": "2023-02-09T11:33:33.864Z"
   },
   {
    "duration": 17,
    "start_time": "2023-02-09T11:33:33.907Z"
   },
   {
    "duration": 15,
    "start_time": "2023-02-09T11:33:33.926Z"
   },
   {
    "duration": 11,
    "start_time": "2023-02-09T11:33:46.999Z"
   },
   {
    "duration": 14,
    "start_time": "2023-02-09T11:33:51.595Z"
   },
   {
    "duration": 85,
    "start_time": "2023-02-09T11:33:59.198Z"
   },
   {
    "duration": 29,
    "start_time": "2023-02-09T11:34:01.939Z"
   },
   {
    "duration": 9,
    "start_time": "2023-02-09T11:34:08.071Z"
   },
   {
    "duration": 5,
    "start_time": "2023-02-09T11:34:50.144Z"
   },
   {
    "duration": 6,
    "start_time": "2023-02-09T11:35:00.966Z"
   },
   {
    "duration": 6,
    "start_time": "2023-02-09T11:35:34.892Z"
   },
   {
    "duration": 6,
    "start_time": "2023-02-09T11:36:13.200Z"
   },
   {
    "duration": 7,
    "start_time": "2023-02-09T11:36:24.245Z"
   },
   {
    "duration": 104,
    "start_time": "2023-02-09T11:36:44.065Z"
   },
   {
    "duration": 52,
    "start_time": "2023-02-09T11:36:44.171Z"
   },
   {
    "duration": 17,
    "start_time": "2023-02-09T11:36:44.225Z"
   },
   {
    "duration": 32,
    "start_time": "2023-02-09T11:36:44.245Z"
   },
   {
    "duration": 5,
    "start_time": "2023-02-09T11:36:44.279Z"
   },
   {
    "duration": 2053,
    "start_time": "2023-02-09T11:36:44.304Z"
   },
   {
    "duration": 11,
    "start_time": "2023-02-09T11:36:46.359Z"
   },
   {
    "duration": 14,
    "start_time": "2023-02-09T11:36:46.372Z"
   },
   {
    "duration": 24,
    "start_time": "2023-02-09T11:36:46.387Z"
   },
   {
    "duration": 8,
    "start_time": "2023-02-09T11:36:46.415Z"
   },
   {
    "duration": 10,
    "start_time": "2023-02-09T11:36:46.424Z"
   },
   {
    "duration": 11,
    "start_time": "2023-02-09T11:36:46.436Z"
   },
   {
    "duration": 9,
    "start_time": "2023-02-09T11:36:46.449Z"
   },
   {
    "duration": 4,
    "start_time": "2023-02-09T11:36:46.459Z"
   },
   {
    "duration": 6,
    "start_time": "2023-02-09T11:36:46.504Z"
   },
   {
    "duration": 8,
    "start_time": "2023-02-09T11:36:46.511Z"
   },
   {
    "duration": 7,
    "start_time": "2023-02-09T11:36:46.521Z"
   },
   {
    "duration": 8,
    "start_time": "2023-02-09T11:36:46.529Z"
   },
   {
    "duration": 6,
    "start_time": "2023-02-09T11:36:46.539Z"
   },
   {
    "duration": 8,
    "start_time": "2023-02-09T11:36:46.547Z"
   },
   {
    "duration": 50,
    "start_time": "2023-02-09T11:36:46.557Z"
   },
   {
    "duration": 17,
    "start_time": "2023-02-09T11:36:46.609Z"
   },
   {
    "duration": 5,
    "start_time": "2023-02-09T11:36:46.628Z"
   },
   {
    "duration": 33,
    "start_time": "2023-02-09T11:36:46.635Z"
   },
   {
    "duration": 6,
    "start_time": "2023-02-09T11:36:46.670Z"
   },
   {
    "duration": 6,
    "start_time": "2023-02-09T11:37:25.984Z"
   },
   {
    "duration": 6,
    "start_time": "2023-02-09T11:37:39.327Z"
   },
   {
    "duration": 8,
    "start_time": "2023-02-09T11:37:46.615Z"
   },
   {
    "duration": 5,
    "start_time": "2023-02-09T11:37:54.053Z"
   },
   {
    "duration": 92,
    "start_time": "2023-02-09T11:41:14.510Z"
   },
   {
    "duration": 6,
    "start_time": "2023-02-09T11:41:20.508Z"
   },
   {
    "duration": 92,
    "start_time": "2023-02-09T11:42:47.794Z"
   },
   {
    "duration": 32,
    "start_time": "2023-02-09T11:42:47.889Z"
   },
   {
    "duration": 24,
    "start_time": "2023-02-09T11:42:47.922Z"
   },
   {
    "duration": 21,
    "start_time": "2023-02-09T11:42:47.949Z"
   },
   {
    "duration": 4,
    "start_time": "2023-02-09T11:42:47.971Z"
   },
   {
    "duration": 2003,
    "start_time": "2023-02-09T11:42:47.976Z"
   },
   {
    "duration": 10,
    "start_time": "2023-02-09T11:42:49.980Z"
   },
   {
    "duration": 17,
    "start_time": "2023-02-09T11:42:49.991Z"
   },
   {
    "duration": 8,
    "start_time": "2023-02-09T11:42:50.010Z"
   },
   {
    "duration": 26,
    "start_time": "2023-02-09T11:42:50.020Z"
   },
   {
    "duration": 8,
    "start_time": "2023-02-09T11:42:50.048Z"
   },
   {
    "duration": 17,
    "start_time": "2023-02-09T11:42:50.057Z"
   },
   {
    "duration": 18,
    "start_time": "2023-02-09T11:42:50.075Z"
   },
   {
    "duration": 12,
    "start_time": "2023-02-09T11:42:50.095Z"
   },
   {
    "duration": 5,
    "start_time": "2023-02-09T11:42:50.108Z"
   },
   {
    "duration": 6,
    "start_time": "2023-02-09T11:42:50.115Z"
   },
   {
    "duration": 7,
    "start_time": "2023-02-09T11:42:50.122Z"
   },
   {
    "duration": 7,
    "start_time": "2023-02-09T11:42:50.131Z"
   },
   {
    "duration": 5,
    "start_time": "2023-02-09T11:42:50.140Z"
   },
   {
    "duration": 12,
    "start_time": "2023-02-09T11:42:50.147Z"
   },
   {
    "duration": 5,
    "start_time": "2023-02-09T11:42:50.161Z"
   },
   {
    "duration": 46,
    "start_time": "2023-02-09T11:42:50.167Z"
   },
   {
    "duration": 6,
    "start_time": "2023-02-09T11:42:50.215Z"
   },
   {
    "duration": 8,
    "start_time": "2023-02-09T11:42:50.222Z"
   },
   {
    "duration": 119,
    "start_time": "2023-02-09T11:44:34.126Z"
   },
   {
    "duration": 39,
    "start_time": "2023-02-09T11:44:34.248Z"
   },
   {
    "duration": 31,
    "start_time": "2023-02-09T11:44:34.290Z"
   },
   {
    "duration": 34,
    "start_time": "2023-02-09T11:44:34.323Z"
   },
   {
    "duration": 5,
    "start_time": "2023-02-09T11:44:34.360Z"
   },
   {
    "duration": 1856,
    "start_time": "2023-02-09T11:44:34.367Z"
   },
   {
    "duration": 10,
    "start_time": "2023-02-09T11:44:36.225Z"
   },
   {
    "duration": 16,
    "start_time": "2023-02-09T11:44:36.237Z"
   },
   {
    "duration": 20,
    "start_time": "2023-02-09T11:44:36.255Z"
   },
   {
    "duration": 9,
    "start_time": "2023-02-09T11:44:36.277Z"
   },
   {
    "duration": 21,
    "start_time": "2023-02-09T11:44:36.287Z"
   },
   {
    "duration": 5,
    "start_time": "2023-02-09T11:44:36.310Z"
   },
   {
    "duration": 9,
    "start_time": "2023-02-09T11:44:36.316Z"
   },
   {
    "duration": 7,
    "start_time": "2023-02-09T11:44:36.327Z"
   },
   {
    "duration": 6,
    "start_time": "2023-02-09T11:44:36.335Z"
   },
   {
    "duration": 8,
    "start_time": "2023-02-09T11:44:36.342Z"
   },
   {
    "duration": 7,
    "start_time": "2023-02-09T11:44:36.351Z"
   },
   {
    "duration": 6,
    "start_time": "2023-02-09T11:44:36.360Z"
   },
   {
    "duration": 6,
    "start_time": "2023-02-09T11:44:36.403Z"
   },
   {
    "duration": 12,
    "start_time": "2023-02-09T11:44:36.411Z"
   },
   {
    "duration": 4,
    "start_time": "2023-02-09T11:44:36.425Z"
   },
   {
    "duration": 12,
    "start_time": "2023-02-09T11:44:36.431Z"
   },
   {
    "duration": 13,
    "start_time": "2023-02-09T11:44:36.445Z"
   },
   {
    "duration": 6,
    "start_time": "2023-02-09T11:46:09.021Z"
   },
   {
    "duration": 6,
    "start_time": "2023-02-09T11:46:18.242Z"
   },
   {
    "duration": 6,
    "start_time": "2023-02-09T11:46:30.473Z"
   },
   {
    "duration": 71,
    "start_time": "2023-02-09T11:48:16.603Z"
   },
   {
    "duration": 14,
    "start_time": "2023-02-09T11:48:21.095Z"
   },
   {
    "duration": 20,
    "start_time": "2023-02-09T11:48:29.240Z"
   },
   {
    "duration": 13,
    "start_time": "2023-02-09T11:48:53.629Z"
   },
   {
    "duration": 90,
    "start_time": "2023-02-09T11:49:12.193Z"
   },
   {
    "duration": 28,
    "start_time": "2023-02-09T11:49:12.285Z"
   },
   {
    "duration": 14,
    "start_time": "2023-02-09T11:49:12.314Z"
   },
   {
    "duration": 20,
    "start_time": "2023-02-09T11:49:12.330Z"
   },
   {
    "duration": 4,
    "start_time": "2023-02-09T11:49:12.352Z"
   },
   {
    "duration": 2205,
    "start_time": "2023-02-09T11:49:12.358Z"
   },
   {
    "duration": 10,
    "start_time": "2023-02-09T11:49:14.564Z"
   },
   {
    "duration": 28,
    "start_time": "2023-02-09T11:49:14.576Z"
   },
   {
    "duration": 10,
    "start_time": "2023-02-09T11:49:14.606Z"
   },
   {
    "duration": 10,
    "start_time": "2023-02-09T11:49:14.619Z"
   },
   {
    "duration": 13,
    "start_time": "2023-02-09T11:49:14.631Z"
   },
   {
    "duration": 9,
    "start_time": "2023-02-09T11:49:14.646Z"
   },
   {
    "duration": 5,
    "start_time": "2023-02-09T11:49:14.657Z"
   },
   {
    "duration": 15,
    "start_time": "2023-02-09T11:49:14.663Z"
   },
   {
    "duration": 7,
    "start_time": "2023-02-09T11:49:14.704Z"
   },
   {
    "duration": 7,
    "start_time": "2023-02-09T11:49:14.713Z"
   },
   {
    "duration": 7,
    "start_time": "2023-02-09T11:49:14.721Z"
   },
   {
    "duration": 8,
    "start_time": "2023-02-09T11:49:14.729Z"
   },
   {
    "duration": 11,
    "start_time": "2023-02-09T11:49:14.739Z"
   },
   {
    "duration": 13,
    "start_time": "2023-02-09T11:49:14.752Z"
   },
   {
    "duration": 42,
    "start_time": "2023-02-09T11:49:14.767Z"
   },
   {
    "duration": 5,
    "start_time": "2023-02-09T11:49:14.811Z"
   },
   {
    "duration": 20,
    "start_time": "2023-02-09T11:49:14.818Z"
   },
   {
    "duration": 7,
    "start_time": "2023-02-09T11:49:14.840Z"
   },
   {
    "duration": 11,
    "start_time": "2023-02-09T11:50:22.357Z"
   },
   {
    "duration": 10,
    "start_time": "2023-02-09T11:51:52.801Z"
   },
   {
    "duration": 91,
    "start_time": "2023-02-09T11:52:12.011Z"
   },
   {
    "duration": 9,
    "start_time": "2023-02-09T11:52:22.224Z"
   },
   {
    "duration": 17,
    "start_time": "2023-02-09T11:52:33.681Z"
   },
   {
    "duration": 19,
    "start_time": "2023-02-09T11:52:43.172Z"
   },
   {
    "duration": 95,
    "start_time": "2023-02-09T11:53:19.362Z"
   },
   {
    "duration": 9,
    "start_time": "2023-02-09T11:53:26.330Z"
   },
   {
    "duration": 11,
    "start_time": "2023-02-09T11:53:38.931Z"
   },
   {
    "duration": 10,
    "start_time": "2023-02-09T11:54:35.490Z"
   },
   {
    "duration": 17,
    "start_time": "2023-02-09T11:54:44.543Z"
   },
   {
    "duration": 13,
    "start_time": "2023-02-09T11:54:50.602Z"
   },
   {
    "duration": 18,
    "start_time": "2023-02-09T11:55:30.625Z"
   },
   {
    "duration": 97,
    "start_time": "2023-02-09T11:55:35.798Z"
   },
   {
    "duration": 51,
    "start_time": "2023-02-09T11:55:40.341Z"
   },
   {
    "duration": 12,
    "start_time": "2023-02-09T11:56:12.753Z"
   },
   {
    "duration": 47,
    "start_time": "2023-02-09T11:56:20.783Z"
   },
   {
    "duration": 8,
    "start_time": "2023-02-09T11:56:25.019Z"
   },
   {
    "duration": 14,
    "start_time": "2023-02-09T11:56:49.820Z"
   },
   {
    "duration": 11,
    "start_time": "2023-02-09T11:59:24.330Z"
   },
   {
    "duration": 10,
    "start_time": "2023-02-09T12:00:18.165Z"
   },
   {
    "duration": 8,
    "start_time": "2023-02-09T12:00:23.720Z"
   },
   {
    "duration": 14,
    "start_time": "2023-02-09T12:00:32.130Z"
   },
   {
    "duration": 9,
    "start_time": "2023-02-09T12:00:41.854Z"
   },
   {
    "duration": 89,
    "start_time": "2023-02-09T12:01:31.778Z"
   },
   {
    "duration": 15,
    "start_time": "2023-02-09T12:02:02.032Z"
   },
   {
    "duration": 11,
    "start_time": "2023-02-09T12:02:23.410Z"
   },
   {
    "duration": 8,
    "start_time": "2023-02-09T12:02:36.373Z"
   },
   {
    "duration": 8,
    "start_time": "2023-02-09T12:02:38.910Z"
   },
   {
    "duration": 6,
    "start_time": "2023-02-09T12:02:39.794Z"
   },
   {
    "duration": 9,
    "start_time": "2023-02-09T12:02:40.181Z"
   },
   {
    "duration": 8,
    "start_time": "2023-02-09T12:02:40.866Z"
   },
   {
    "duration": 6,
    "start_time": "2023-02-09T12:02:41.970Z"
   },
   {
    "duration": 6,
    "start_time": "2023-02-09T12:02:42.603Z"
   },
   {
    "duration": 9,
    "start_time": "2023-02-09T12:02:43.559Z"
   },
   {
    "duration": 8,
    "start_time": "2023-02-09T12:02:44.333Z"
   },
   {
    "duration": 5,
    "start_time": "2023-02-09T12:02:45.517Z"
   },
   {
    "duration": 6,
    "start_time": "2023-02-09T12:02:45.720Z"
   },
   {
    "duration": 6,
    "start_time": "2023-02-09T12:02:46.323Z"
   },
   {
    "duration": 6,
    "start_time": "2023-02-09T12:02:47.639Z"
   },
   {
    "duration": 9,
    "start_time": "2023-02-09T12:02:48.601Z"
   },
   {
    "duration": 11,
    "start_time": "2023-02-09T12:03:50.777Z"
   },
   {
    "duration": 6,
    "start_time": "2023-02-09T12:03:53.430Z"
   },
   {
    "duration": 6,
    "start_time": "2023-02-09T12:03:59.061Z"
   },
   {
    "duration": 785,
    "start_time": "2023-02-09T13:54:27.944Z"
   },
   {
    "duration": 32,
    "start_time": "2023-02-09T13:54:28.730Z"
   },
   {
    "duration": 22,
    "start_time": "2023-02-09T13:54:28.763Z"
   },
   {
    "duration": 38,
    "start_time": "2023-02-09T13:54:28.788Z"
   },
   {
    "duration": 5,
    "start_time": "2023-02-09T13:54:28.827Z"
   },
   {
    "duration": 2315,
    "start_time": "2023-02-09T13:54:28.833Z"
   },
   {
    "duration": 21,
    "start_time": "2023-02-09T13:54:31.151Z"
   },
   {
    "duration": 28,
    "start_time": "2023-02-09T13:54:31.175Z"
   },
   {
    "duration": 33,
    "start_time": "2023-02-09T13:54:31.211Z"
   },
   {
    "duration": 14,
    "start_time": "2023-02-09T13:54:31.246Z"
   },
   {
    "duration": 32,
    "start_time": "2023-02-09T13:54:31.261Z"
   },
   {
    "duration": 27,
    "start_time": "2023-02-09T13:54:31.294Z"
   },
   {
    "duration": 12,
    "start_time": "2023-02-09T13:54:31.323Z"
   },
   {
    "duration": 27,
    "start_time": "2023-02-09T13:54:31.336Z"
   },
   {
    "duration": 21,
    "start_time": "2023-02-09T13:54:31.365Z"
   },
   {
    "duration": 32,
    "start_time": "2023-02-09T13:54:31.388Z"
   },
   {
    "duration": 15,
    "start_time": "2023-02-09T13:54:31.422Z"
   },
   {
    "duration": 33,
    "start_time": "2023-02-09T13:54:31.439Z"
   },
   {
    "duration": 10,
    "start_time": "2023-02-09T13:54:31.474Z"
   },
   {
    "duration": 30,
    "start_time": "2023-02-09T13:54:31.486Z"
   },
   {
    "duration": 27,
    "start_time": "2023-02-09T13:54:31.518Z"
   },
   {
    "duration": 9,
    "start_time": "2023-02-09T13:54:31.546Z"
   },
   {
    "duration": 66,
    "start_time": "2023-02-09T13:54:31.557Z"
   },
   {
    "duration": 22,
    "start_time": "2023-02-09T13:54:31.625Z"
   },
   {
    "duration": 7,
    "start_time": "2023-02-09T13:55:02.973Z"
   },
   {
    "duration": 15,
    "start_time": "2023-02-09T13:59:34.919Z"
   },
   {
    "duration": 26,
    "start_time": "2023-02-09T14:52:07.470Z"
   },
   {
    "duration": 14,
    "start_time": "2023-02-09T14:52:09.015Z"
   },
   {
    "duration": 2,
    "start_time": "2023-02-09T14:53:44.148Z"
   },
   {
    "duration": 3,
    "start_time": "2023-02-09T14:53:46.265Z"
   },
   {
    "duration": 76,
    "start_time": "2023-02-09T14:55:06.855Z"
   },
   {
    "duration": 24,
    "start_time": "2023-02-09T14:55:27.466Z"
   },
   {
    "duration": 7,
    "start_time": "2023-02-09T14:56:04.684Z"
   },
   {
    "duration": 7,
    "start_time": "2023-02-09T14:56:17.405Z"
   },
   {
    "duration": 8,
    "start_time": "2023-02-09T14:56:26.748Z"
   },
   {
    "duration": 73,
    "start_time": "2023-02-09T14:56:39.005Z"
   },
   {
    "duration": 89,
    "start_time": "2023-02-09T14:57:02.675Z"
   },
   {
    "duration": 17,
    "start_time": "2023-02-09T14:57:18.494Z"
   },
   {
    "duration": 305,
    "start_time": "2023-02-09T14:57:18.513Z"
   },
   {
    "duration": 25,
    "start_time": "2023-02-09T14:57:18.820Z"
   },
   {
    "duration": 13,
    "start_time": "2023-02-09T14:57:18.847Z"
   },
   {
    "duration": 24,
    "start_time": "2023-02-09T14:57:18.861Z"
   },
   {
    "duration": 4,
    "start_time": "2023-02-09T14:57:18.886Z"
   },
   {
    "duration": 1737,
    "start_time": "2023-02-09T14:57:18.904Z"
   },
   {
    "duration": 9,
    "start_time": "2023-02-09T14:57:20.642Z"
   },
   {
    "duration": 13,
    "start_time": "2023-02-09T14:57:20.652Z"
   },
   {
    "duration": 14,
    "start_time": "2023-02-09T14:57:20.667Z"
   },
   {
    "duration": 10,
    "start_time": "2023-02-09T14:57:20.683Z"
   },
   {
    "duration": 19,
    "start_time": "2023-02-09T14:57:20.695Z"
   },
   {
    "duration": 10,
    "start_time": "2023-02-09T14:57:20.716Z"
   },
   {
    "duration": 7,
    "start_time": "2023-02-09T14:57:20.727Z"
   },
   {
    "duration": 10,
    "start_time": "2023-02-09T14:57:20.735Z"
   },
   {
    "duration": 10,
    "start_time": "2023-02-09T14:57:20.746Z"
   },
   {
    "duration": 15,
    "start_time": "2023-02-09T14:57:20.757Z"
   },
   {
    "duration": 7,
    "start_time": "2023-02-09T14:57:20.773Z"
   },
   {
    "duration": 6,
    "start_time": "2023-02-09T14:57:20.781Z"
   },
   {
    "duration": 15,
    "start_time": "2023-02-09T14:57:20.789Z"
   },
   {
    "duration": 9,
    "start_time": "2023-02-09T14:57:20.806Z"
   },
   {
    "duration": 11,
    "start_time": "2023-02-09T14:57:20.816Z"
   },
   {
    "duration": 16,
    "start_time": "2023-02-09T14:57:20.828Z"
   },
   {
    "duration": 25,
    "start_time": "2023-02-09T14:57:20.846Z"
   },
   {
    "duration": 8,
    "start_time": "2023-02-09T14:57:20.873Z"
   },
   {
    "duration": 84,
    "start_time": "2023-02-09T14:57:20.883Z"
   },
   {
    "duration": 14,
    "start_time": "2023-02-09T14:57:43.406Z"
   },
   {
    "duration": 2,
    "start_time": "2023-02-09T15:00:55.101Z"
   },
   {
    "duration": 8,
    "start_time": "2023-02-09T15:02:28.393Z"
   },
   {
    "duration": 14,
    "start_time": "2023-02-09T15:02:32.571Z"
   },
   {
    "duration": 8,
    "start_time": "2023-02-09T15:04:51.289Z"
   },
   {
    "duration": 7,
    "start_time": "2023-02-09T15:05:10.949Z"
   },
   {
    "duration": 92,
    "start_time": "2023-02-09T15:05:40.446Z"
   },
   {
    "duration": 7,
    "start_time": "2023-02-09T15:05:45.203Z"
   },
   {
    "duration": 95,
    "start_time": "2023-02-09T15:05:51.347Z"
   },
   {
    "duration": 6,
    "start_time": "2023-02-09T15:07:14.175Z"
   },
   {
    "duration": 6,
    "start_time": "2023-02-09T15:07:30.047Z"
   },
   {
    "duration": 5,
    "start_time": "2023-02-09T15:07:44.992Z"
   },
   {
    "duration": 5,
    "start_time": "2023-02-09T15:07:58.449Z"
   },
   {
    "duration": 7,
    "start_time": "2023-02-09T15:10:07.749Z"
   },
   {
    "duration": 4,
    "start_time": "2023-02-09T15:10:16.851Z"
   },
   {
    "duration": 5,
    "start_time": "2023-02-09T15:10:20.395Z"
   },
   {
    "duration": 5,
    "start_time": "2023-02-09T15:10:26.264Z"
   },
   {
    "duration": 85,
    "start_time": "2023-02-09T15:10:37.707Z"
   },
   {
    "duration": 13,
    "start_time": "2023-02-09T15:10:43.609Z"
   },
   {
    "duration": 6,
    "start_time": "2023-02-09T15:11:13.403Z"
   },
   {
    "duration": 5,
    "start_time": "2023-02-09T15:11:19.003Z"
   },
   {
    "duration": 4,
    "start_time": "2023-02-09T15:11:25.282Z"
   },
   {
    "duration": 102,
    "start_time": "2023-02-09T15:11:25.288Z"
   },
   {
    "duration": 26,
    "start_time": "2023-02-09T15:11:25.392Z"
   },
   {
    "duration": 14,
    "start_time": "2023-02-09T15:11:25.419Z"
   },
   {
    "duration": 21,
    "start_time": "2023-02-09T15:11:25.435Z"
   },
   {
    "duration": 4,
    "start_time": "2023-02-09T15:11:25.458Z"
   },
   {
    "duration": 1852,
    "start_time": "2023-02-09T15:11:25.464Z"
   },
   {
    "duration": 9,
    "start_time": "2023-02-09T15:11:27.317Z"
   },
   {
    "duration": 10,
    "start_time": "2023-02-09T15:11:27.327Z"
   },
   {
    "duration": 11,
    "start_time": "2023-02-09T15:11:27.338Z"
   },
   {
    "duration": 12,
    "start_time": "2023-02-09T15:11:27.350Z"
   },
   {
    "duration": 24,
    "start_time": "2023-02-09T15:11:27.364Z"
   },
   {
    "duration": 15,
    "start_time": "2023-02-09T15:11:27.389Z"
   },
   {
    "duration": 11,
    "start_time": "2023-02-09T15:11:27.407Z"
   },
   {
    "duration": 5,
    "start_time": "2023-02-09T15:11:27.419Z"
   },
   {
    "duration": 7,
    "start_time": "2023-02-09T15:11:27.426Z"
   },
   {
    "duration": 4,
    "start_time": "2023-02-09T15:11:27.434Z"
   },
   {
    "duration": 4,
    "start_time": "2023-02-09T15:11:27.440Z"
   },
   {
    "duration": 6,
    "start_time": "2023-02-09T15:11:27.445Z"
   },
   {
    "duration": 7,
    "start_time": "2023-02-09T15:11:27.452Z"
   },
   {
    "duration": 4,
    "start_time": "2023-02-09T15:11:27.461Z"
   },
   {
    "duration": 38,
    "start_time": "2023-02-09T15:11:27.467Z"
   },
   {
    "duration": 6,
    "start_time": "2023-02-09T15:11:27.507Z"
   },
   {
    "duration": 14,
    "start_time": "2023-02-09T15:11:27.515Z"
   },
   {
    "duration": 3,
    "start_time": "2023-02-09T15:11:27.530Z"
   },
   {
    "duration": 6,
    "start_time": "2023-02-09T15:11:27.535Z"
   },
   {
    "duration": 116,
    "start_time": "2023-02-09T15:11:27.542Z"
   },
   {
    "duration": 14,
    "start_time": "2023-02-09T15:11:41.887Z"
   },
   {
    "duration": 13,
    "start_time": "2023-02-09T15:12:11.428Z"
   },
   {
    "duration": 13,
    "start_time": "2023-02-09T15:12:18.010Z"
   },
   {
    "duration": 4,
    "start_time": "2023-02-09T15:12:33.031Z"
   },
   {
    "duration": 13,
    "start_time": "2023-02-09T15:12:39.197Z"
   },
   {
    "duration": 4,
    "start_time": "2023-02-09T15:12:58.173Z"
   },
   {
    "duration": 6,
    "start_time": "2023-02-09T15:13:03.982Z"
   },
   {
    "duration": 13,
    "start_time": "2023-02-09T15:13:17.975Z"
   },
   {
    "duration": 12,
    "start_time": "2023-02-09T15:13:52.313Z"
   },
   {
    "duration": 12,
    "start_time": "2023-02-09T15:14:10.894Z"
   },
   {
    "duration": 74,
    "start_time": "2023-02-09T15:14:51.761Z"
   },
   {
    "duration": 5,
    "start_time": "2023-02-09T15:15:04.247Z"
   },
   {
    "duration": 6,
    "start_time": "2023-02-09T15:15:39.345Z"
   },
   {
    "duration": 4,
    "start_time": "2023-02-09T15:15:48.445Z"
   },
   {
    "duration": 5,
    "start_time": "2023-02-09T15:17:11.022Z"
   },
   {
    "duration": 10,
    "start_time": "2023-02-09T15:17:17.989Z"
   },
   {
    "duration": 30,
    "start_time": "2023-02-09T15:17:42.155Z"
   },
   {
    "duration": 26,
    "start_time": "2023-02-09T15:18:15.755Z"
   },
   {
    "duration": 71,
    "start_time": "2023-02-09T15:18:21.069Z"
   },
   {
    "duration": 15,
    "start_time": "2023-02-09T15:18:26.444Z"
   },
   {
    "duration": 51,
    "start_time": "2023-02-09T15:18:33.088Z"
   },
   {
    "duration": 40,
    "start_time": "2023-02-09T15:18:53.256Z"
   },
   {
    "duration": 81,
    "start_time": "2023-02-09T15:19:14.985Z"
   },
   {
    "duration": 25,
    "start_time": "2023-02-09T15:19:22.745Z"
   },
   {
    "duration": 28,
    "start_time": "2023-02-09T15:19:44.357Z"
   },
   {
    "duration": 26,
    "start_time": "2023-02-09T15:19:58.549Z"
   },
   {
    "duration": 42,
    "start_time": "2023-02-09T15:20:34.560Z"
   },
   {
    "duration": 37,
    "start_time": "2023-02-09T15:20:48.525Z"
   },
   {
    "duration": 34,
    "start_time": "2023-02-09T15:21:39.302Z"
   },
   {
    "duration": 36,
    "start_time": "2023-02-09T15:21:47.955Z"
   },
   {
    "duration": 37,
    "start_time": "2023-02-09T15:21:53.552Z"
   },
   {
    "duration": 36,
    "start_time": "2023-02-09T15:22:50.969Z"
   },
   {
    "duration": 8,
    "start_time": "2023-02-09T15:23:05.619Z"
   },
   {
    "duration": 10,
    "start_time": "2023-02-09T15:45:50.975Z"
   },
   {
    "duration": 39,
    "start_time": "2023-02-09T15:45:55.921Z"
   },
   {
    "duration": 6,
    "start_time": "2023-02-09T15:50:11.497Z"
   },
   {
    "duration": 12,
    "start_time": "2023-02-09T15:50:15.521Z"
   },
   {
    "duration": 46,
    "start_time": "2023-02-09T15:50:36.933Z"
   },
   {
    "duration": 5,
    "start_time": "2023-02-09T15:50:42.579Z"
   },
   {
    "duration": 9,
    "start_time": "2023-02-09T15:50:43.621Z"
   },
   {
    "duration": 45,
    "start_time": "2023-02-09T15:50:48.079Z"
   },
   {
    "duration": 46,
    "start_time": "2023-02-09T15:52:30.079Z"
   },
   {
    "duration": 5,
    "start_time": "2023-02-09T15:52:42.697Z"
   },
   {
    "duration": 11,
    "start_time": "2023-02-09T15:52:44.231Z"
   },
   {
    "duration": 4,
    "start_time": "2023-02-09T15:52:46.885Z"
   },
   {
    "duration": 108,
    "start_time": "2023-02-09T15:52:46.891Z"
   },
   {
    "duration": 31,
    "start_time": "2023-02-09T15:52:47.001Z"
   },
   {
    "duration": 14,
    "start_time": "2023-02-09T15:52:47.034Z"
   },
   {
    "duration": 21,
    "start_time": "2023-02-09T15:52:47.050Z"
   },
   {
    "duration": 4,
    "start_time": "2023-02-09T15:52:47.072Z"
   },
   {
    "duration": 1879,
    "start_time": "2023-02-09T15:52:47.078Z"
   },
   {
    "duration": 9,
    "start_time": "2023-02-09T15:52:48.959Z"
   },
   {
    "duration": 6,
    "start_time": "2023-02-09T15:52:48.969Z"
   },
   {
    "duration": 31,
    "start_time": "2023-02-09T15:52:48.977Z"
   },
   {
    "duration": 5,
    "start_time": "2023-02-09T15:52:49.010Z"
   },
   {
    "duration": 11,
    "start_time": "2023-02-09T15:52:49.016Z"
   },
   {
    "duration": 10,
    "start_time": "2023-02-09T15:52:49.029Z"
   },
   {
    "duration": 4,
    "start_time": "2023-02-09T15:52:49.041Z"
   },
   {
    "duration": 8,
    "start_time": "2023-02-09T15:52:49.046Z"
   },
   {
    "duration": 6,
    "start_time": "2023-02-09T15:52:49.055Z"
   },
   {
    "duration": 8,
    "start_time": "2023-02-09T15:52:49.104Z"
   },
   {
    "duration": 23,
    "start_time": "2023-02-09T15:52:49.113Z"
   },
   {
    "duration": 6,
    "start_time": "2023-02-09T15:52:49.138Z"
   },
   {
    "duration": 7,
    "start_time": "2023-02-09T15:52:49.146Z"
   },
   {
    "duration": 5,
    "start_time": "2023-02-09T15:52:49.155Z"
   },
   {
    "duration": 72,
    "start_time": "2023-02-09T15:52:49.161Z"
   },
   {
    "duration": 5,
    "start_time": "2023-02-09T15:52:49.235Z"
   },
   {
    "duration": 11,
    "start_time": "2023-02-09T15:52:49.241Z"
   },
   {
    "duration": 5,
    "start_time": "2023-02-09T15:52:49.253Z"
   },
   {
    "duration": 10,
    "start_time": "2023-02-09T15:52:49.259Z"
   },
   {
    "duration": 5,
    "start_time": "2023-02-09T15:52:49.271Z"
   },
   {
    "duration": 64,
    "start_time": "2023-02-09T15:52:49.278Z"
   },
   {
    "duration": 99,
    "start_time": "2023-02-09T15:52:49.344Z"
   },
   {
    "duration": 9,
    "start_time": "2023-02-09T15:53:34.887Z"
   },
   {
    "duration": 5,
    "start_time": "2023-02-09T15:53:36.390Z"
   },
   {
    "duration": 8,
    "start_time": "2023-02-09T15:56:56.812Z"
   },
   {
    "duration": 7,
    "start_time": "2023-02-09T15:56:57.699Z"
   },
   {
    "duration": 10,
    "start_time": "2023-02-09T15:56:59.598Z"
   },
   {
    "duration": 91,
    "start_time": "2023-02-09T15:57:11.898Z"
   },
   {
    "duration": 10,
    "start_time": "2023-02-09T15:57:18.183Z"
   },
   {
    "duration": 5,
    "start_time": "2023-02-09T15:57:19.339Z"
   },
   {
    "duration": 9,
    "start_time": "2023-02-09T15:57:20.999Z"
   },
   {
    "duration": 6,
    "start_time": "2023-02-09T15:57:30.539Z"
   },
   {
    "duration": 6,
    "start_time": "2023-02-09T15:57:38.884Z"
   },
   {
    "duration": 10,
    "start_time": "2023-02-09T15:58:06.678Z"
   },
   {
    "duration": 10,
    "start_time": "2023-02-09T15:58:09.991Z"
   },
   {
    "duration": 3,
    "start_time": "2023-02-09T15:58:32.194Z"
   },
   {
    "duration": 104,
    "start_time": "2023-02-09T15:58:32.199Z"
   },
   {
    "duration": 27,
    "start_time": "2023-02-09T15:58:32.305Z"
   },
   {
    "duration": 17,
    "start_time": "2023-02-09T15:58:32.334Z"
   },
   {
    "duration": 22,
    "start_time": "2023-02-09T15:58:32.353Z"
   },
   {
    "duration": 4,
    "start_time": "2023-02-09T15:58:32.377Z"
   },
   {
    "duration": 1915,
    "start_time": "2023-02-09T15:58:32.404Z"
   },
   {
    "duration": 9,
    "start_time": "2023-02-09T15:58:34.320Z"
   },
   {
    "duration": 6,
    "start_time": "2023-02-09T15:58:34.331Z"
   },
   {
    "duration": 7,
    "start_time": "2023-02-09T15:58:34.338Z"
   },
   {
    "duration": 6,
    "start_time": "2023-02-09T15:58:34.348Z"
   },
   {
    "duration": 10,
    "start_time": "2023-02-09T15:58:34.355Z"
   },
   {
    "duration": 45,
    "start_time": "2023-02-09T15:58:34.367Z"
   },
   {
    "duration": 9,
    "start_time": "2023-02-09T15:58:34.413Z"
   },
   {
    "duration": 7,
    "start_time": "2023-02-09T15:58:34.423Z"
   },
   {
    "duration": 9,
    "start_time": "2023-02-09T15:58:34.431Z"
   },
   {
    "duration": 6,
    "start_time": "2023-02-09T15:58:34.441Z"
   },
   {
    "duration": 4,
    "start_time": "2023-02-09T15:58:34.449Z"
   },
   {
    "duration": 6,
    "start_time": "2023-02-09T15:58:34.455Z"
   },
   {
    "duration": 45,
    "start_time": "2023-02-09T15:58:34.462Z"
   },
   {
    "duration": 6,
    "start_time": "2023-02-09T15:58:34.508Z"
   },
   {
    "duration": 11,
    "start_time": "2023-02-09T15:58:34.515Z"
   },
   {
    "duration": 8,
    "start_time": "2023-02-09T15:58:34.528Z"
   },
   {
    "duration": 7,
    "start_time": "2023-02-09T15:58:34.538Z"
   },
   {
    "duration": 11,
    "start_time": "2023-02-09T15:58:34.547Z"
   },
   {
    "duration": 4,
    "start_time": "2023-02-09T15:58:34.560Z"
   },
   {
    "duration": 72,
    "start_time": "2023-02-09T15:58:34.566Z"
   },
   {
    "duration": 98,
    "start_time": "2023-02-09T15:58:34.640Z"
   },
   {
    "duration": 13,
    "start_time": "2023-02-09T15:59:19.094Z"
   },
   {
    "duration": 10,
    "start_time": "2023-02-09T15:59:36.912Z"
   },
   {
    "duration": 4,
    "start_time": "2023-02-09T15:59:39.359Z"
   },
   {
    "duration": 91,
    "start_time": "2023-02-09T15:59:39.365Z"
   },
   {
    "duration": 24,
    "start_time": "2023-02-09T15:59:39.458Z"
   },
   {
    "duration": 25,
    "start_time": "2023-02-09T15:59:39.484Z"
   },
   {
    "duration": 21,
    "start_time": "2023-02-09T15:59:39.512Z"
   },
   {
    "duration": 5,
    "start_time": "2023-02-09T15:59:39.535Z"
   },
   {
    "duration": 1950,
    "start_time": "2023-02-09T15:59:39.542Z"
   },
   {
    "duration": 27,
    "start_time": "2023-02-09T15:59:41.495Z"
   },
   {
    "duration": 8,
    "start_time": "2023-02-09T15:59:41.524Z"
   },
   {
    "duration": 10,
    "start_time": "2023-02-09T15:59:41.533Z"
   },
   {
    "duration": 9,
    "start_time": "2023-02-09T15:59:41.545Z"
   },
   {
    "duration": 8,
    "start_time": "2023-02-09T15:59:41.556Z"
   },
   {
    "duration": 37,
    "start_time": "2023-02-09T15:59:41.567Z"
   },
   {
    "duration": 5,
    "start_time": "2023-02-09T15:59:41.606Z"
   },
   {
    "duration": 9,
    "start_time": "2023-02-09T15:59:41.613Z"
   },
   {
    "duration": 7,
    "start_time": "2023-02-09T15:59:41.623Z"
   },
   {
    "duration": 11,
    "start_time": "2023-02-09T15:59:41.632Z"
   },
   {
    "duration": 5,
    "start_time": "2023-02-09T15:59:41.644Z"
   },
   {
    "duration": 7,
    "start_time": "2023-02-09T15:59:41.650Z"
   },
   {
    "duration": 47,
    "start_time": "2023-02-09T15:59:41.658Z"
   },
   {
    "duration": 7,
    "start_time": "2023-02-09T15:59:41.706Z"
   },
   {
    "duration": 13,
    "start_time": "2023-02-09T15:59:41.715Z"
   },
   {
    "duration": 11,
    "start_time": "2023-02-09T15:59:41.730Z"
   },
   {
    "duration": 5,
    "start_time": "2023-02-09T15:59:41.744Z"
   },
   {
    "duration": 22,
    "start_time": "2023-02-09T15:59:41.751Z"
   },
   {
    "duration": 31,
    "start_time": "2023-02-09T15:59:41.775Z"
   },
   {
    "duration": 40,
    "start_time": "2023-02-09T15:59:41.809Z"
   },
   {
    "duration": 107,
    "start_time": "2023-02-09T15:59:41.851Z"
   },
   {
    "duration": 9,
    "start_time": "2023-02-09T16:00:44.396Z"
   },
   {
    "duration": 10,
    "start_time": "2023-02-09T16:00:47.354Z"
   },
   {
    "duration": 16,
    "start_time": "2023-02-09T16:04:43.582Z"
   },
   {
    "duration": 11,
    "start_time": "2023-02-09T16:04:51.988Z"
   },
   {
    "duration": 8,
    "start_time": "2023-02-09T16:04:54.068Z"
   },
   {
    "duration": 42,
    "start_time": "2023-02-09T16:05:49.124Z"
   },
   {
    "duration": 3,
    "start_time": "2023-02-09T16:07:31.279Z"
   },
   {
    "duration": 102,
    "start_time": "2023-02-09T16:07:31.283Z"
   },
   {
    "duration": 28,
    "start_time": "2023-02-09T16:07:31.387Z"
   },
   {
    "duration": 24,
    "start_time": "2023-02-09T16:07:31.417Z"
   },
   {
    "duration": 21,
    "start_time": "2023-02-09T16:07:31.443Z"
   },
   {
    "duration": 4,
    "start_time": "2023-02-09T16:07:31.466Z"
   },
   {
    "duration": 1751,
    "start_time": "2023-02-09T16:07:31.472Z"
   },
   {
    "duration": 9,
    "start_time": "2023-02-09T16:07:33.225Z"
   },
   {
    "duration": 7,
    "start_time": "2023-02-09T16:07:33.236Z"
   },
   {
    "duration": 8,
    "start_time": "2023-02-09T16:07:33.245Z"
   },
   {
    "duration": 6,
    "start_time": "2023-02-09T16:07:33.255Z"
   },
   {
    "duration": 9,
    "start_time": "2023-02-09T16:07:33.262Z"
   },
   {
    "duration": 35,
    "start_time": "2023-02-09T16:07:33.273Z"
   },
   {
    "duration": 11,
    "start_time": "2023-02-09T16:07:33.310Z"
   },
   {
    "duration": 5,
    "start_time": "2023-02-09T16:07:33.323Z"
   },
   {
    "duration": 6,
    "start_time": "2023-02-09T16:07:33.329Z"
   },
   {
    "duration": 5,
    "start_time": "2023-02-09T16:07:33.337Z"
   },
   {
    "duration": 4,
    "start_time": "2023-02-09T16:07:33.344Z"
   },
   {
    "duration": 6,
    "start_time": "2023-02-09T16:07:33.349Z"
   },
   {
    "duration": 11,
    "start_time": "2023-02-09T16:07:33.356Z"
   },
   {
    "duration": 38,
    "start_time": "2023-02-09T16:07:33.369Z"
   },
   {
    "duration": 10,
    "start_time": "2023-02-09T16:07:33.409Z"
   },
   {
    "duration": 7,
    "start_time": "2023-02-09T16:07:33.422Z"
   },
   {
    "duration": 14,
    "start_time": "2023-02-09T16:07:33.432Z"
   },
   {
    "duration": 4,
    "start_time": "2023-02-09T16:07:33.448Z"
   },
   {
    "duration": 67,
    "start_time": "2023-02-09T16:07:33.454Z"
   },
   {
    "duration": 95,
    "start_time": "2023-02-09T16:07:33.523Z"
   },
   {
    "duration": 8,
    "start_time": "2023-02-09T16:08:21.895Z"
   },
   {
    "duration": 13,
    "start_time": "2023-02-09T16:08:38.527Z"
   },
   {
    "duration": 5,
    "start_time": "2023-02-09T16:08:47.413Z"
   },
   {
    "duration": 36,
    "start_time": "2023-02-09T16:08:50.737Z"
   },
   {
    "duration": 14,
    "start_time": "2023-02-09T16:09:13.591Z"
   },
   {
    "duration": 4,
    "start_time": "2023-02-09T16:15:42.593Z"
   },
   {
    "duration": 4,
    "start_time": "2023-02-09T16:15:45.891Z"
   },
   {
    "duration": 4,
    "start_time": "2023-02-09T16:15:59.938Z"
   },
   {
    "duration": 7,
    "start_time": "2023-02-09T16:16:11.402Z"
   },
   {
    "duration": 6,
    "start_time": "2023-02-09T16:16:21.525Z"
   },
   {
    "duration": 4,
    "start_time": "2023-02-09T16:16:26.370Z"
   },
   {
    "duration": 4,
    "start_time": "2023-02-09T16:16:27.034Z"
   },
   {
    "duration": 4,
    "start_time": "2023-02-09T16:18:12.207Z"
   },
   {
    "duration": 11,
    "start_time": "2023-02-09T16:18:12.822Z"
   },
   {
    "duration": 9,
    "start_time": "2023-02-09T16:18:24.803Z"
   },
   {
    "duration": 9,
    "start_time": "2023-02-09T16:18:25.933Z"
   },
   {
    "duration": 3,
    "start_time": "2023-02-09T16:18:37.721Z"
   },
   {
    "duration": 92,
    "start_time": "2023-02-09T16:18:37.727Z"
   },
   {
    "duration": 25,
    "start_time": "2023-02-09T16:18:37.821Z"
   },
   {
    "duration": 25,
    "start_time": "2023-02-09T16:18:37.848Z"
   },
   {
    "duration": 30,
    "start_time": "2023-02-09T16:18:37.875Z"
   },
   {
    "duration": 5,
    "start_time": "2023-02-09T16:18:37.906Z"
   },
   {
    "duration": 1961,
    "start_time": "2023-02-09T16:18:37.912Z"
   },
   {
    "duration": 11,
    "start_time": "2023-02-09T16:18:39.874Z"
   },
   {
    "duration": 20,
    "start_time": "2023-02-09T16:18:39.887Z"
   },
   {
    "duration": 10,
    "start_time": "2023-02-09T16:18:39.909Z"
   },
   {
    "duration": 9,
    "start_time": "2023-02-09T16:18:39.921Z"
   },
   {
    "duration": 9,
    "start_time": "2023-02-09T16:18:39.932Z"
   },
   {
    "duration": 10,
    "start_time": "2023-02-09T16:18:39.944Z"
   },
   {
    "duration": 7,
    "start_time": "2023-02-09T16:18:39.956Z"
   },
   {
    "duration": 40,
    "start_time": "2023-02-09T16:18:39.965Z"
   },
   {
    "duration": 8,
    "start_time": "2023-02-09T16:18:40.007Z"
   },
   {
    "duration": 15,
    "start_time": "2023-02-09T16:18:40.016Z"
   },
   {
    "duration": 5,
    "start_time": "2023-02-09T16:18:40.032Z"
   },
   {
    "duration": 9,
    "start_time": "2023-02-09T16:18:40.039Z"
   },
   {
    "duration": 8,
    "start_time": "2023-02-09T16:18:40.049Z"
   },
   {
    "duration": 9,
    "start_time": "2023-02-09T16:18:40.059Z"
   },
   {
    "duration": 41,
    "start_time": "2023-02-09T16:18:40.070Z"
   },
   {
    "duration": 5,
    "start_time": "2023-02-09T16:18:40.112Z"
   },
   {
    "duration": 16,
    "start_time": "2023-02-09T16:18:40.119Z"
   },
   {
    "duration": 6,
    "start_time": "2023-02-09T16:18:40.137Z"
   },
   {
    "duration": 6,
    "start_time": "2023-02-09T16:18:40.144Z"
   },
   {
    "duration": 13,
    "start_time": "2023-02-09T16:18:40.152Z"
   },
   {
    "duration": 116,
    "start_time": "2023-02-09T16:18:40.167Z"
   },
   {
    "duration": 12,
    "start_time": "2023-02-09T16:18:57.182Z"
   },
   {
    "duration": 14,
    "start_time": "2023-02-09T16:19:02.299Z"
   },
   {
    "duration": 17,
    "start_time": "2023-02-09T16:21:36.779Z"
   },
   {
    "duration": 5,
    "start_time": "2023-02-09T16:21:38.260Z"
   },
   {
    "duration": 4,
    "start_time": "2023-02-09T16:21:40.371Z"
   },
   {
    "duration": 6,
    "start_time": "2023-02-09T16:21:41.018Z"
   },
   {
    "duration": 13,
    "start_time": "2023-02-09T16:28:05.290Z"
   },
   {
    "duration": 6,
    "start_time": "2023-02-09T16:28:29.193Z"
   },
   {
    "duration": 5,
    "start_time": "2023-02-09T16:28:38.783Z"
   },
   {
    "duration": 6,
    "start_time": "2023-02-09T16:28:48.371Z"
   },
   {
    "duration": 42,
    "start_time": "2023-02-09T16:29:16.000Z"
   },
   {
    "duration": 8,
    "start_time": "2023-02-09T16:29:43.719Z"
   },
   {
    "duration": 8,
    "start_time": "2023-02-09T16:31:27.151Z"
   },
   {
    "duration": 11,
    "start_time": "2023-02-09T16:32:21.037Z"
   },
   {
    "duration": 11,
    "start_time": "2023-02-09T16:32:38.993Z"
   },
   {
    "duration": 10,
    "start_time": "2023-02-09T16:33:33.032Z"
   },
   {
    "duration": 12,
    "start_time": "2023-02-09T16:33:58.816Z"
   },
   {
    "duration": 15,
    "start_time": "2023-02-09T16:34:21.086Z"
   },
   {
    "duration": 9,
    "start_time": "2023-02-09T16:34:42.946Z"
   },
   {
    "duration": 10,
    "start_time": "2023-02-09T16:35:01.370Z"
   },
   {
    "duration": 5,
    "start_time": "2023-02-09T16:35:06.078Z"
   },
   {
    "duration": 12,
    "start_time": "2023-02-09T16:35:17.342Z"
   },
   {
    "duration": 5,
    "start_time": "2023-02-09T16:35:18.191Z"
   },
   {
    "duration": 15,
    "start_time": "2023-02-09T16:35:26.324Z"
   },
   {
    "duration": 79,
    "start_time": "2023-02-09T16:35:38.498Z"
   },
   {
    "duration": 91,
    "start_time": "2023-02-09T16:35:43.014Z"
   },
   {
    "duration": 78,
    "start_time": "2023-02-09T16:35:53.178Z"
   },
   {
    "duration": 4,
    "start_time": "2023-02-09T16:35:54.860Z"
   },
   {
    "duration": 75,
    "start_time": "2023-02-09T16:36:00.674Z"
   },
   {
    "duration": 12,
    "start_time": "2023-02-09T16:36:15.550Z"
   },
   {
    "duration": 12,
    "start_time": "2023-02-09T16:36:24.378Z"
   },
   {
    "duration": 11,
    "start_time": "2023-02-09T16:36:31.878Z"
   },
   {
    "duration": 9,
    "start_time": "2023-02-09T16:36:59.901Z"
   },
   {
    "duration": 15,
    "start_time": "2023-02-09T16:37:13.737Z"
   },
   {
    "duration": 4,
    "start_time": "2023-02-09T16:44:42.184Z"
   },
   {
    "duration": 12,
    "start_time": "2023-02-09T16:44:54.862Z"
   },
   {
    "duration": 13,
    "start_time": "2023-02-09T16:45:46.927Z"
   },
   {
    "duration": 417,
    "start_time": "2023-02-10T11:09:26.654Z"
   },
   {
    "duration": 342,
    "start_time": "2023-02-10T11:09:27.073Z"
   },
   {
    "duration": 34,
    "start_time": "2023-02-10T11:09:27.416Z"
   },
   {
    "duration": 17,
    "start_time": "2023-02-10T11:09:27.451Z"
   },
   {
    "duration": 27,
    "start_time": "2023-02-10T11:09:27.472Z"
   },
   {
    "duration": 22,
    "start_time": "2023-02-10T11:09:27.500Z"
   },
   {
    "duration": 2405,
    "start_time": "2023-02-10T11:09:27.524Z"
   },
   {
    "duration": 11,
    "start_time": "2023-02-10T11:09:29.930Z"
   },
   {
    "duration": 24,
    "start_time": "2023-02-10T11:09:29.943Z"
   },
   {
    "duration": 22,
    "start_time": "2023-02-10T11:09:29.968Z"
   },
   {
    "duration": 13,
    "start_time": "2023-02-10T11:09:29.992Z"
   },
   {
    "duration": 26,
    "start_time": "2023-02-10T11:09:30.007Z"
   },
   {
    "duration": 28,
    "start_time": "2023-02-10T11:09:30.035Z"
   },
   {
    "duration": 7,
    "start_time": "2023-02-10T11:09:30.064Z"
   },
   {
    "duration": 21,
    "start_time": "2023-02-10T11:09:30.072Z"
   },
   {
    "duration": 12,
    "start_time": "2023-02-10T11:09:30.094Z"
   },
   {
    "duration": 19,
    "start_time": "2023-02-10T11:09:30.108Z"
   },
   {
    "duration": 14,
    "start_time": "2023-02-10T11:09:30.130Z"
   },
   {
    "duration": 25,
    "start_time": "2023-02-10T11:09:30.145Z"
   },
   {
    "duration": 11,
    "start_time": "2023-02-10T11:09:30.172Z"
   },
   {
    "duration": 10,
    "start_time": "2023-02-10T11:09:30.185Z"
   },
   {
    "duration": 38,
    "start_time": "2023-02-10T11:09:30.197Z"
   },
   {
    "duration": 6,
    "start_time": "2023-02-10T11:09:30.236Z"
   },
   {
    "duration": 14,
    "start_time": "2023-02-10T11:09:30.243Z"
   },
   {
    "duration": 8,
    "start_time": "2023-02-10T11:09:30.258Z"
   },
   {
    "duration": 104,
    "start_time": "2023-02-10T11:09:30.267Z"
   },
   {
    "duration": 0,
    "start_time": "2023-02-10T11:09:30.373Z"
   },
   {
    "duration": 0,
    "start_time": "2023-02-10T11:09:30.374Z"
   },
   {
    "duration": 4,
    "start_time": "2023-02-10T11:10:25.151Z"
   },
   {
    "duration": 17,
    "start_time": "2023-02-10T11:10:32.351Z"
   },
   {
    "duration": 16,
    "start_time": "2023-02-10T11:10:36.133Z"
   },
   {
    "duration": 6,
    "start_time": "2023-02-10T11:10:42.550Z"
   },
   {
    "duration": 6,
    "start_time": "2023-02-10T11:10:47.989Z"
   },
   {
    "duration": 16,
    "start_time": "2023-02-10T11:11:31.451Z"
   },
   {
    "duration": 17,
    "start_time": "2023-02-10T11:11:45.129Z"
   },
   {
    "duration": 16,
    "start_time": "2023-02-10T11:11:50.260Z"
   },
   {
    "duration": 6,
    "start_time": "2023-02-10T11:11:56.060Z"
   },
   {
    "duration": 87,
    "start_time": "2023-02-10T11:12:58.005Z"
   },
   {
    "duration": 16,
    "start_time": "2023-02-10T11:13:02.164Z"
   },
   {
    "duration": 9,
    "start_time": "2023-02-10T11:13:06.999Z"
   },
   {
    "duration": 6,
    "start_time": "2023-02-10T11:13:11.598Z"
   },
   {
    "duration": 5,
    "start_time": "2023-02-10T11:13:46.203Z"
   },
   {
    "duration": 6,
    "start_time": "2023-02-10T11:13:55.088Z"
   },
   {
    "duration": 5,
    "start_time": "2023-02-10T11:14:24.219Z"
   },
   {
    "duration": 72,
    "start_time": "2023-02-10T11:17:32.031Z"
   },
   {
    "duration": 6,
    "start_time": "2023-02-10T11:17:36.193Z"
   },
   {
    "duration": 8,
    "start_time": "2023-02-10T11:18:30.750Z"
   },
   {
    "duration": 6,
    "start_time": "2023-02-10T11:18:34.597Z"
   },
   {
    "duration": 93,
    "start_time": "2023-02-10T11:20:13.728Z"
   },
   {
    "duration": 7,
    "start_time": "2023-02-10T11:22:10.072Z"
   },
   {
    "duration": 7,
    "start_time": "2023-02-10T11:22:33.601Z"
   },
   {
    "duration": 8,
    "start_time": "2023-02-10T11:22:43.663Z"
   },
   {
    "duration": 6,
    "start_time": "2023-02-10T11:22:45.758Z"
   },
   {
    "duration": 6,
    "start_time": "2023-02-10T11:25:09.371Z"
   },
   {
    "duration": 6,
    "start_time": "2023-02-10T11:25:12.935Z"
   },
   {
    "duration": 6,
    "start_time": "2023-02-10T11:25:18.260Z"
   },
   {
    "duration": 43,
    "start_time": "2023-02-10T11:29:39.078Z"
   },
   {
    "duration": 25,
    "start_time": "2023-02-10T11:30:48.025Z"
   },
   {
    "duration": 97,
    "start_time": "2023-02-10T11:31:08.053Z"
   },
   {
    "duration": 26,
    "start_time": "2023-02-10T11:31:08.891Z"
   },
   {
    "duration": 16,
    "start_time": "2023-02-10T11:31:26.130Z"
   },
   {
    "duration": 26,
    "start_time": "2023-02-10T11:31:32.025Z"
   },
   {
    "duration": 3,
    "start_time": "2023-02-10T11:31:41.489Z"
   },
   {
    "duration": 110,
    "start_time": "2023-02-10T11:31:41.494Z"
   },
   {
    "duration": 31,
    "start_time": "2023-02-10T11:31:41.606Z"
   },
   {
    "duration": 18,
    "start_time": "2023-02-10T11:31:41.639Z"
   },
   {
    "duration": 20,
    "start_time": "2023-02-10T11:31:41.659Z"
   },
   {
    "duration": 4,
    "start_time": "2023-02-10T11:31:41.681Z"
   },
   {
    "duration": 1843,
    "start_time": "2023-02-10T11:31:41.686Z"
   },
   {
    "duration": 11,
    "start_time": "2023-02-10T11:31:43.531Z"
   },
   {
    "duration": 9,
    "start_time": "2023-02-10T11:31:43.544Z"
   },
   {
    "duration": 9,
    "start_time": "2023-02-10T11:31:43.555Z"
   },
   {
    "duration": 17,
    "start_time": "2023-02-10T11:31:43.568Z"
   },
   {
    "duration": 9,
    "start_time": "2023-02-10T11:31:43.586Z"
   },
   {
    "duration": 14,
    "start_time": "2023-02-10T11:31:43.622Z"
   },
   {
    "duration": 6,
    "start_time": "2023-02-10T11:31:43.638Z"
   },
   {
    "duration": 11,
    "start_time": "2023-02-10T11:31:43.646Z"
   },
   {
    "duration": 12,
    "start_time": "2023-02-10T11:31:43.659Z"
   },
   {
    "duration": 8,
    "start_time": "2023-02-10T11:31:43.672Z"
   },
   {
    "duration": 40,
    "start_time": "2023-02-10T11:31:43.682Z"
   },
   {
    "duration": 5,
    "start_time": "2023-02-10T11:31:43.724Z"
   },
   {
    "duration": 10,
    "start_time": "2023-02-10T11:31:43.731Z"
   },
   {
    "duration": 5,
    "start_time": "2023-02-10T11:31:43.742Z"
   },
   {
    "duration": 9,
    "start_time": "2023-02-10T11:31:43.749Z"
   },
   {
    "duration": 5,
    "start_time": "2023-02-10T11:31:43.759Z"
   },
   {
    "duration": 25,
    "start_time": "2023-02-10T11:31:43.766Z"
   },
   {
    "duration": 32,
    "start_time": "2023-02-10T11:31:43.793Z"
   },
   {
    "duration": 9,
    "start_time": "2023-02-10T11:31:43.827Z"
   },
   {
    "duration": 9,
    "start_time": "2023-02-10T11:31:43.838Z"
   },
   {
    "duration": 11,
    "start_time": "2023-02-10T11:31:43.848Z"
   },
   {
    "duration": 14,
    "start_time": "2023-02-10T11:31:43.862Z"
   },
   {
    "duration": 99,
    "start_time": "2023-02-10T11:31:43.878Z"
   },
   {
    "duration": 49,
    "start_time": "2023-02-10T11:31:43.979Z"
   },
   {
    "duration": 13,
    "start_time": "2023-02-10T11:32:45.398Z"
   },
   {
    "duration": 8,
    "start_time": "2023-02-10T11:32:57.037Z"
   },
   {
    "duration": 4,
    "start_time": "2023-02-10T11:35:36.660Z"
   },
   {
    "duration": 10,
    "start_time": "2023-02-10T11:35:45.711Z"
   },
   {
    "duration": 10,
    "start_time": "2023-02-10T11:36:04.581Z"
   },
   {
    "duration": 7,
    "start_time": "2023-02-10T11:37:10.359Z"
   },
   {
    "duration": 7,
    "start_time": "2023-02-10T11:37:24.918Z"
   },
   {
    "duration": 7,
    "start_time": "2023-02-10T11:37:30.821Z"
   },
   {
    "duration": 7,
    "start_time": "2023-02-10T11:37:44.993Z"
   },
   {
    "duration": 97,
    "start_time": "2023-02-10T11:37:53.119Z"
   },
   {
    "duration": 6,
    "start_time": "2023-02-10T11:38:14.196Z"
   },
   {
    "duration": 8,
    "start_time": "2023-02-10T11:38:27.938Z"
   },
   {
    "duration": 6,
    "start_time": "2023-02-10T11:38:33.169Z"
   },
   {
    "duration": 14,
    "start_time": "2023-02-10T11:39:06.375Z"
   },
   {
    "duration": 18,
    "start_time": "2023-02-10T11:39:17.509Z"
   },
   {
    "duration": 11,
    "start_time": "2023-02-10T11:39:21.169Z"
   },
   {
    "duration": 119,
    "start_time": "2023-02-10T11:39:47.871Z"
   },
   {
    "duration": 45,
    "start_time": "2023-02-10T11:40:37.641Z"
   },
   {
    "duration": 27,
    "start_time": "2023-02-10T11:41:02.868Z"
   },
   {
    "duration": 53,
    "start_time": "2023-02-10T11:41:28.985Z"
   },
   {
    "duration": 44,
    "start_time": "2023-02-10T11:45:38.067Z"
   },
   {
    "duration": 7,
    "start_time": "2023-02-10T11:48:58.516Z"
   },
   {
    "duration": 7,
    "start_time": "2023-02-10T11:50:17.915Z"
   },
   {
    "duration": 8,
    "start_time": "2023-02-10T11:51:01.558Z"
   },
   {
    "duration": 11,
    "start_time": "2023-02-10T11:51:12.581Z"
   },
   {
    "duration": 110,
    "start_time": "2023-02-10T11:51:39.599Z"
   },
   {
    "duration": 11,
    "start_time": "2023-02-10T11:51:47.923Z"
   },
   {
    "duration": 12,
    "start_time": "2023-02-10T11:51:49.501Z"
   },
   {
    "duration": 8,
    "start_time": "2023-02-10T11:51:50.821Z"
   },
   {
    "duration": 11,
    "start_time": "2023-02-10T11:51:51.884Z"
   },
   {
    "duration": 112,
    "start_time": "2023-02-10T11:51:54.252Z"
   },
   {
    "duration": 6,
    "start_time": "2023-02-10T11:52:02.855Z"
   },
   {
    "duration": 102,
    "start_time": "2023-02-10T11:52:07.641Z"
   },
   {
    "duration": 4,
    "start_time": "2023-02-10T11:52:10.397Z"
   },
   {
    "duration": 105,
    "start_time": "2023-02-10T11:52:10.403Z"
   },
   {
    "duration": 35,
    "start_time": "2023-02-10T11:52:10.510Z"
   },
   {
    "duration": 20,
    "start_time": "2023-02-10T11:52:10.546Z"
   },
   {
    "duration": 23,
    "start_time": "2023-02-10T11:52:10.569Z"
   },
   {
    "duration": 6,
    "start_time": "2023-02-10T11:52:10.622Z"
   },
   {
    "duration": 2110,
    "start_time": "2023-02-10T11:52:10.630Z"
   },
   {
    "duration": 10,
    "start_time": "2023-02-10T11:52:12.742Z"
   },
   {
    "duration": 8,
    "start_time": "2023-02-10T11:52:12.753Z"
   },
   {
    "duration": 8,
    "start_time": "2023-02-10T11:52:12.763Z"
   },
   {
    "duration": 7,
    "start_time": "2023-02-10T11:52:12.773Z"
   },
   {
    "duration": 39,
    "start_time": "2023-02-10T11:52:12.782Z"
   },
   {
    "duration": 11,
    "start_time": "2023-02-10T11:52:12.824Z"
   },
   {
    "duration": 5,
    "start_time": "2023-02-10T11:52:12.836Z"
   },
   {
    "duration": 8,
    "start_time": "2023-02-10T11:52:12.842Z"
   },
   {
    "duration": 8,
    "start_time": "2023-02-10T11:52:12.851Z"
   },
   {
    "duration": 6,
    "start_time": "2023-02-10T11:52:12.861Z"
   },
   {
    "duration": 6,
    "start_time": "2023-02-10T11:52:12.868Z"
   },
   {
    "duration": 46,
    "start_time": "2023-02-10T11:52:12.876Z"
   },
   {
    "duration": 10,
    "start_time": "2023-02-10T11:52:12.924Z"
   },
   {
    "duration": 5,
    "start_time": "2023-02-10T11:52:12.936Z"
   },
   {
    "duration": 11,
    "start_time": "2023-02-10T11:52:12.943Z"
   },
   {
    "duration": 6,
    "start_time": "2023-02-10T11:52:12.955Z"
   },
   {
    "duration": 14,
    "start_time": "2023-02-10T11:52:12.963Z"
   },
   {
    "duration": 42,
    "start_time": "2023-02-10T11:52:12.980Z"
   },
   {
    "duration": 7,
    "start_time": "2023-02-10T11:52:13.024Z"
   },
   {
    "duration": 9,
    "start_time": "2023-02-10T11:52:13.033Z"
   },
   {
    "duration": 7,
    "start_time": "2023-02-10T11:52:13.044Z"
   },
   {
    "duration": 9,
    "start_time": "2023-02-10T11:52:13.053Z"
   },
   {
    "duration": 121,
    "start_time": "2023-02-10T11:52:13.063Z"
   },
   {
    "duration": 9,
    "start_time": "2023-02-10T11:52:13.186Z"
   },
   {
    "duration": 29,
    "start_time": "2023-02-10T11:52:13.196Z"
   },
   {
    "duration": 16,
    "start_time": "2023-02-10T11:52:13.227Z"
   },
   {
    "duration": 15,
    "start_time": "2023-02-10T11:52:13.245Z"
   },
   {
    "duration": 90,
    "start_time": "2023-02-10T11:52:39.779Z"
   },
   {
    "duration": 95,
    "start_time": "2023-02-10T11:53:18.532Z"
   },
   {
    "duration": 11,
    "start_time": "2023-02-10T11:53:29.487Z"
   },
   {
    "duration": 25,
    "start_time": "2023-02-10T11:53:45.153Z"
   },
   {
    "duration": 13,
    "start_time": "2023-02-10T11:54:11.584Z"
   },
   {
    "duration": 12,
    "start_time": "2023-02-10T11:54:23.505Z"
   },
   {
    "duration": 13,
    "start_time": "2023-02-10T11:54:30.753Z"
   },
   {
    "duration": 12,
    "start_time": "2023-02-10T11:54:40.340Z"
   },
   {
    "duration": 10,
    "start_time": "2023-02-10T11:55:01.117Z"
   },
   {
    "duration": 20,
    "start_time": "2023-02-10T11:55:46.889Z"
   },
   {
    "duration": 44,
    "start_time": "2023-02-10T11:57:29.272Z"
   },
   {
    "duration": 16,
    "start_time": "2023-02-10T11:58:29.712Z"
   },
   {
    "duration": 45,
    "start_time": "2023-02-10T11:58:33.707Z"
   },
   {
    "duration": 42,
    "start_time": "2023-02-10T11:59:46.851Z"
   },
   {
    "duration": 3,
    "start_time": "2023-02-10T12:02:30.183Z"
   },
   {
    "duration": 3,
    "start_time": "2023-02-10T12:02:31.885Z"
   },
   {
    "duration": 3,
    "start_time": "2023-02-10T12:02:33.340Z"
   },
   {
    "duration": 3,
    "start_time": "2023-02-10T12:02:35.084Z"
   },
   {
    "duration": 9,
    "start_time": "2023-02-10T12:12:11.054Z"
   },
   {
    "duration": 10,
    "start_time": "2023-02-10T12:12:35.330Z"
   },
   {
    "duration": 9,
    "start_time": "2023-02-10T12:12:42.420Z"
   },
   {
    "duration": 14,
    "start_time": "2023-02-10T12:16:59.122Z"
   },
   {
    "duration": 737,
    "start_time": "2023-02-10T12:17:19.189Z"
   },
   {
    "duration": 6,
    "start_time": "2023-02-10T12:17:24.814Z"
   },
   {
    "duration": 6,
    "start_time": "2023-02-10T12:17:30.474Z"
   },
   {
    "duration": 5,
    "start_time": "2023-02-10T12:17:35.309Z"
   },
   {
    "duration": 6,
    "start_time": "2023-02-10T12:17:43.742Z"
   },
   {
    "duration": 6,
    "start_time": "2023-02-10T12:17:47.744Z"
   },
   {
    "duration": 5,
    "start_time": "2023-02-10T12:17:50.501Z"
   },
   {
    "duration": 5,
    "start_time": "2023-02-10T12:17:57.913Z"
   },
   {
    "duration": 5,
    "start_time": "2023-02-10T12:18:01.256Z"
   },
   {
    "duration": 6,
    "start_time": "2023-02-10T12:18:05.984Z"
   },
   {
    "duration": 6,
    "start_time": "2023-02-10T12:18:09.836Z"
   },
   {
    "duration": 6,
    "start_time": "2023-02-10T12:18:34.285Z"
   },
   {
    "duration": 109,
    "start_time": "2023-02-10T12:19:12.706Z"
   },
   {
    "duration": 13,
    "start_time": "2023-02-10T12:19:18.503Z"
   },
   {
    "duration": 14,
    "start_time": "2023-02-10T12:19:32.003Z"
   },
   {
    "duration": 90,
    "start_time": "2023-02-10T12:19:44.593Z"
   },
   {
    "duration": 19,
    "start_time": "2023-02-10T12:19:50.834Z"
   },
   {
    "duration": 22,
    "start_time": "2023-02-10T12:20:31.486Z"
   },
   {
    "duration": 12,
    "start_time": "2023-02-10T12:21:00.899Z"
   },
   {
    "duration": 24,
    "start_time": "2023-02-10T12:21:45.440Z"
   },
   {
    "duration": 80,
    "start_time": "2023-02-10T12:22:27.232Z"
   },
   {
    "duration": 9,
    "start_time": "2023-02-10T12:22:38.771Z"
   },
   {
    "duration": 11,
    "start_time": "2023-02-10T12:34:43.550Z"
   },
   {
    "duration": 11,
    "start_time": "2023-02-10T12:34:54.132Z"
   },
   {
    "duration": 113,
    "start_time": "2023-02-10T12:36:03.032Z"
   },
   {
    "duration": 32,
    "start_time": "2023-02-10T12:36:31.222Z"
   },
   {
    "duration": 53,
    "start_time": "2023-02-10T12:38:17.933Z"
   },
   {
    "duration": 4,
    "start_time": "2023-02-10T12:44:11.672Z"
   },
   {
    "duration": 7,
    "start_time": "2023-02-10T12:44:58.270Z"
   },
   {
    "duration": 7,
    "start_time": "2023-02-10T12:45:09.647Z"
   },
   {
    "duration": 4,
    "start_time": "2023-02-10T12:45:21.358Z"
   },
   {
    "duration": 6,
    "start_time": "2023-02-10T12:45:24.749Z"
   },
   {
    "duration": 4,
    "start_time": "2023-02-10T12:45:30.145Z"
   },
   {
    "duration": 6,
    "start_time": "2023-02-10T12:45:42.788Z"
   },
   {
    "duration": 5,
    "start_time": "2023-02-10T12:45:59.794Z"
   },
   {
    "duration": 6,
    "start_time": "2023-02-10T12:46:11.000Z"
   },
   {
    "duration": 6,
    "start_time": "2023-02-10T12:46:37.800Z"
   },
   {
    "duration": 6,
    "start_time": "2023-02-10T12:46:43.122Z"
   },
   {
    "duration": 7,
    "start_time": "2023-02-10T12:47:27.525Z"
   },
   {
    "duration": 31,
    "start_time": "2023-02-10T12:49:10.167Z"
   },
   {
    "duration": 22,
    "start_time": "2023-02-10T12:49:16.399Z"
   },
   {
    "duration": 19,
    "start_time": "2023-02-10T12:49:32.101Z"
   },
   {
    "duration": 375,
    "start_time": "2023-02-10T12:50:44.825Z"
   },
   {
    "duration": 16,
    "start_time": "2023-02-10T12:51:41.440Z"
   },
   {
    "duration": 18,
    "start_time": "2023-02-10T12:51:45.656Z"
   },
   {
    "duration": 23,
    "start_time": "2023-02-10T13:18:14.751Z"
   },
   {
    "duration": 3,
    "start_time": "2023-02-10T13:18:34.437Z"
   },
   {
    "duration": 132,
    "start_time": "2023-02-10T13:18:35.011Z"
   },
   {
    "duration": 27,
    "start_time": "2023-02-10T13:18:35.765Z"
   },
   {
    "duration": 19,
    "start_time": "2023-02-10T13:18:42.944Z"
   },
   {
    "duration": 31,
    "start_time": "2023-02-10T13:18:46.240Z"
   },
   {
    "duration": 28,
    "start_time": "2023-02-10T13:20:19.925Z"
   },
   {
    "duration": 30,
    "start_time": "2023-02-10T13:20:46.283Z"
   },
   {
    "duration": 46,
    "start_time": "2023-02-10T13:22:05.789Z"
   },
   {
    "duration": 40,
    "start_time": "2023-02-10T13:22:22.733Z"
   },
   {
    "duration": 37,
    "start_time": "2023-02-10T13:25:56.658Z"
   },
   {
    "duration": 3,
    "start_time": "2023-02-10T13:50:12.870Z"
   },
   {
    "duration": 102,
    "start_time": "2023-02-10T13:50:12.877Z"
   },
   {
    "duration": 41,
    "start_time": "2023-02-10T13:50:12.981Z"
   },
   {
    "duration": 41,
    "start_time": "2023-02-10T13:50:13.024Z"
   },
   {
    "duration": 25,
    "start_time": "2023-02-10T13:50:13.068Z"
   },
   {
    "duration": 5,
    "start_time": "2023-02-10T13:50:13.094Z"
   },
   {
    "duration": 2049,
    "start_time": "2023-02-10T13:50:13.122Z"
   },
   {
    "duration": 12,
    "start_time": "2023-02-10T13:50:15.172Z"
   },
   {
    "duration": 14,
    "start_time": "2023-02-10T13:50:15.186Z"
   },
   {
    "duration": 26,
    "start_time": "2023-02-10T13:50:15.202Z"
   },
   {
    "duration": 15,
    "start_time": "2023-02-10T13:50:15.231Z"
   },
   {
    "duration": 32,
    "start_time": "2023-02-10T13:50:15.249Z"
   },
   {
    "duration": 35,
    "start_time": "2023-02-10T13:50:15.283Z"
   },
   {
    "duration": 16,
    "start_time": "2023-02-10T13:50:15.320Z"
   },
   {
    "duration": 28,
    "start_time": "2023-02-10T13:50:15.338Z"
   },
   {
    "duration": 31,
    "start_time": "2023-02-10T13:50:15.368Z"
   },
   {
    "duration": 17,
    "start_time": "2023-02-10T13:50:15.401Z"
   },
   {
    "duration": 24,
    "start_time": "2023-02-10T13:50:15.420Z"
   },
   {
    "duration": 25,
    "start_time": "2023-02-10T13:50:15.446Z"
   },
   {
    "duration": 30,
    "start_time": "2023-02-10T13:50:15.473Z"
   },
   {
    "duration": 29,
    "start_time": "2023-02-10T13:50:15.506Z"
   },
   {
    "duration": 31,
    "start_time": "2023-02-10T13:50:15.537Z"
   },
   {
    "duration": 28,
    "start_time": "2023-02-10T13:50:15.570Z"
   },
   {
    "duration": 177,
    "start_time": "2023-02-10T13:50:15.600Z"
   },
   {
    "duration": 33,
    "start_time": "2023-02-10T13:50:15.779Z"
   },
   {
    "duration": 36,
    "start_time": "2023-02-10T13:50:15.814Z"
   },
   {
    "duration": 9,
    "start_time": "2023-02-10T13:50:15.852Z"
   },
   {
    "duration": 7,
    "start_time": "2023-02-10T13:50:15.863Z"
   },
   {
    "duration": 13,
    "start_time": "2023-02-10T13:50:15.873Z"
   },
   {
    "duration": 94,
    "start_time": "2023-02-10T13:50:15.888Z"
   },
   {
    "duration": 9,
    "start_time": "2023-02-10T13:50:15.983Z"
   },
   {
    "duration": 11,
    "start_time": "2023-02-10T13:50:15.993Z"
   },
   {
    "duration": 7,
    "start_time": "2023-02-10T13:50:16.020Z"
   },
   {
    "duration": 16,
    "start_time": "2023-02-10T13:50:16.029Z"
   },
   {
    "duration": 19,
    "start_time": "2023-02-10T13:50:16.046Z"
   },
   {
    "duration": 19,
    "start_time": "2023-02-10T13:50:16.066Z"
   },
   {
    "duration": 51,
    "start_time": "2023-02-10T13:50:16.086Z"
   },
   {
    "duration": 95,
    "start_time": "2023-02-10T13:51:42.569Z"
   },
   {
    "duration": 36,
    "start_time": "2023-02-10T13:51:49.433Z"
   },
   {
    "duration": 35,
    "start_time": "2023-02-10T13:52:31.413Z"
   },
   {
    "duration": 87,
    "start_time": "2023-02-10T13:52:44.008Z"
   },
   {
    "duration": 9,
    "start_time": "2023-02-10T13:54:26.195Z"
   },
   {
    "duration": 79,
    "start_time": "2023-02-10T13:54:41.349Z"
   },
   {
    "duration": 53,
    "start_time": "2023-02-10T13:58:04.584Z"
   },
   {
    "duration": 43,
    "start_time": "2023-02-10T13:58:18.495Z"
   },
   {
    "duration": 43,
    "start_time": "2023-02-10T13:58:39.945Z"
   },
   {
    "duration": 36,
    "start_time": "2023-02-10T13:59:06.312Z"
   },
   {
    "duration": 47,
    "start_time": "2023-02-10T14:02:05.813Z"
   },
   {
    "duration": 41,
    "start_time": "2023-02-10T14:02:28.090Z"
   },
   {
    "duration": 7,
    "start_time": "2023-02-10T14:05:32.055Z"
   },
   {
    "duration": 9,
    "start_time": "2023-02-10T14:06:37.580Z"
   },
   {
    "duration": 22,
    "start_time": "2023-02-10T14:06:48.087Z"
   },
   {
    "duration": 18,
    "start_time": "2023-02-10T14:07:20.035Z"
   },
   {
    "duration": 13,
    "start_time": "2023-02-10T14:08:03.513Z"
   },
   {
    "duration": 13,
    "start_time": "2023-02-10T14:08:13.654Z"
   },
   {
    "duration": 13,
    "start_time": "2023-02-10T14:08:19.356Z"
   },
   {
    "duration": 9,
    "start_time": "2023-02-10T14:08:29.233Z"
   },
   {
    "duration": 10,
    "start_time": "2023-02-10T14:08:48.111Z"
   },
   {
    "duration": 9,
    "start_time": "2023-02-10T14:09:05.752Z"
   },
   {
    "duration": 8,
    "start_time": "2023-02-10T14:10:09.261Z"
   },
   {
    "duration": 3,
    "start_time": "2023-02-10T14:10:21.054Z"
   },
   {
    "duration": 105,
    "start_time": "2023-02-10T14:10:21.059Z"
   },
   {
    "duration": 28,
    "start_time": "2023-02-10T14:10:21.166Z"
   },
   {
    "duration": 34,
    "start_time": "2023-02-10T14:10:21.195Z"
   },
   {
    "duration": 23,
    "start_time": "2023-02-10T14:10:21.231Z"
   },
   {
    "duration": 4,
    "start_time": "2023-02-10T14:10:21.256Z"
   },
   {
    "duration": 1853,
    "start_time": "2023-02-10T14:10:21.262Z"
   },
   {
    "duration": 11,
    "start_time": "2023-02-10T14:10:23.122Z"
   },
   {
    "duration": 8,
    "start_time": "2023-02-10T14:10:23.135Z"
   },
   {
    "duration": 8,
    "start_time": "2023-02-10T14:10:23.145Z"
   },
   {
    "duration": 6,
    "start_time": "2023-02-10T14:10:23.155Z"
   },
   {
    "duration": 8,
    "start_time": "2023-02-10T14:10:23.163Z"
   },
   {
    "duration": 55,
    "start_time": "2023-02-10T14:10:23.172Z"
   },
   {
    "duration": 5,
    "start_time": "2023-02-10T14:10:23.231Z"
   },
   {
    "duration": 13,
    "start_time": "2023-02-10T14:10:23.237Z"
   },
   {
    "duration": 7,
    "start_time": "2023-02-10T14:10:23.252Z"
   },
   {
    "duration": 6,
    "start_time": "2023-02-10T14:10:23.261Z"
   },
   {
    "duration": 5,
    "start_time": "2023-02-10T14:10:23.269Z"
   },
   {
    "duration": 6,
    "start_time": "2023-02-10T14:10:23.276Z"
   },
   {
    "duration": 42,
    "start_time": "2023-02-10T14:10:23.284Z"
   },
   {
    "duration": 6,
    "start_time": "2023-02-10T14:10:23.328Z"
   },
   {
    "duration": 8,
    "start_time": "2023-02-10T14:10:23.336Z"
   },
   {
    "duration": 5,
    "start_time": "2023-02-10T14:10:23.346Z"
   },
   {
    "duration": 13,
    "start_time": "2023-02-10T14:10:23.353Z"
   },
   {
    "duration": 8,
    "start_time": "2023-02-10T14:10:23.367Z"
   },
   {
    "duration": 46,
    "start_time": "2023-02-10T14:10:23.376Z"
   },
   {
    "duration": 5,
    "start_time": "2023-02-10T14:10:23.424Z"
   },
   {
    "duration": 10,
    "start_time": "2023-02-10T14:10:23.431Z"
   },
   {
    "duration": 8,
    "start_time": "2023-02-10T14:10:23.442Z"
   },
   {
    "duration": 105,
    "start_time": "2023-02-10T14:10:23.452Z"
   },
   {
    "duration": 9,
    "start_time": "2023-02-10T14:10:23.560Z"
   },
   {
    "duration": 16,
    "start_time": "2023-02-10T14:10:23.571Z"
   },
   {
    "duration": 7,
    "start_time": "2023-02-10T14:10:23.588Z"
   },
   {
    "duration": 35,
    "start_time": "2023-02-10T14:10:23.596Z"
   },
   {
    "duration": 7,
    "start_time": "2023-02-10T14:10:23.633Z"
   },
   {
    "duration": 17,
    "start_time": "2023-02-10T14:10:23.642Z"
   },
   {
    "duration": 19,
    "start_time": "2023-02-10T14:10:23.661Z"
   },
   {
    "duration": 15,
    "start_time": "2023-02-10T14:10:23.682Z"
   },
   {
    "duration": 53,
    "start_time": "2023-02-10T14:10:23.698Z"
   },
   {
    "duration": 3,
    "start_time": "2023-02-10T14:10:42.872Z"
   },
   {
    "duration": 97,
    "start_time": "2023-02-10T14:10:42.877Z"
   },
   {
    "duration": 27,
    "start_time": "2023-02-10T14:10:42.976Z"
   },
   {
    "duration": 15,
    "start_time": "2023-02-10T14:10:43.020Z"
   },
   {
    "duration": 28,
    "start_time": "2023-02-10T14:10:43.037Z"
   },
   {
    "duration": 5,
    "start_time": "2023-02-10T14:10:43.067Z"
   },
   {
    "duration": 2106,
    "start_time": "2023-02-10T14:10:43.074Z"
   },
   {
    "duration": 10,
    "start_time": "2023-02-10T14:10:45.182Z"
   },
   {
    "duration": 8,
    "start_time": "2023-02-10T14:10:45.194Z"
   },
   {
    "duration": 20,
    "start_time": "2023-02-10T14:10:45.209Z"
   },
   {
    "duration": 11,
    "start_time": "2023-02-10T14:10:45.232Z"
   },
   {
    "duration": 14,
    "start_time": "2023-02-10T14:10:45.245Z"
   },
   {
    "duration": 12,
    "start_time": "2023-02-10T14:10:45.260Z"
   },
   {
    "duration": 5,
    "start_time": "2023-02-10T14:10:45.274Z"
   },
   {
    "duration": 6,
    "start_time": "2023-02-10T14:10:45.281Z"
   },
   {
    "duration": 7,
    "start_time": "2023-02-10T14:10:45.322Z"
   },
   {
    "duration": 7,
    "start_time": "2023-02-10T14:10:45.331Z"
   },
   {
    "duration": 5,
    "start_time": "2023-02-10T14:10:45.339Z"
   },
   {
    "duration": 9,
    "start_time": "2023-02-10T14:10:45.346Z"
   },
   {
    "duration": 9,
    "start_time": "2023-02-10T14:10:45.357Z"
   },
   {
    "duration": 6,
    "start_time": "2023-02-10T14:10:45.368Z"
   },
   {
    "duration": 50,
    "start_time": "2023-02-10T14:10:45.375Z"
   },
   {
    "duration": 5,
    "start_time": "2023-02-10T14:10:45.427Z"
   },
   {
    "duration": 21,
    "start_time": "2023-02-10T14:10:45.433Z"
   },
   {
    "duration": 7,
    "start_time": "2023-02-10T14:10:45.455Z"
   },
   {
    "duration": 10,
    "start_time": "2023-02-10T14:10:45.464Z"
   },
   {
    "duration": 10,
    "start_time": "2023-02-10T14:10:45.476Z"
   },
   {
    "duration": 12,
    "start_time": "2023-02-10T14:10:45.488Z"
   },
   {
    "duration": 8,
    "start_time": "2023-02-10T14:10:45.521Z"
   },
   {
    "duration": 102,
    "start_time": "2023-02-10T14:10:45.530Z"
   },
   {
    "duration": 8,
    "start_time": "2023-02-10T14:10:45.633Z"
   },
   {
    "duration": 11,
    "start_time": "2023-02-10T14:10:45.643Z"
   },
   {
    "duration": 7,
    "start_time": "2023-02-10T14:10:45.655Z"
   },
   {
    "duration": 12,
    "start_time": "2023-02-10T14:10:45.664Z"
   },
   {
    "duration": 13,
    "start_time": "2023-02-10T14:10:45.677Z"
   },
   {
    "duration": 38,
    "start_time": "2023-02-10T14:10:45.692Z"
   },
   {
    "duration": 18,
    "start_time": "2023-02-10T14:10:45.732Z"
   },
   {
    "duration": 16,
    "start_time": "2023-02-10T14:10:45.752Z"
   },
   {
    "duration": 57,
    "start_time": "2023-02-10T14:10:45.770Z"
   },
   {
    "duration": 8,
    "start_time": "2023-02-10T14:11:03.856Z"
   },
   {
    "duration": 8,
    "start_time": "2023-02-10T14:11:08.918Z"
   },
   {
    "duration": 10,
    "start_time": "2023-02-10T14:11:19.747Z"
   },
   {
    "duration": 8,
    "start_time": "2023-02-10T14:11:30.085Z"
   },
   {
    "duration": 7,
    "start_time": "2023-02-10T14:12:07.527Z"
   },
   {
    "duration": 7,
    "start_time": "2023-02-10T14:12:15.681Z"
   },
   {
    "duration": 8,
    "start_time": "2023-02-10T14:13:20.511Z"
   },
   {
    "duration": 7,
    "start_time": "2023-02-10T14:13:23.937Z"
   },
   {
    "duration": 11,
    "start_time": "2023-02-10T14:13:28.280Z"
   },
   {
    "duration": 3,
    "start_time": "2023-02-10T14:13:31.351Z"
   },
   {
    "duration": 103,
    "start_time": "2023-02-10T14:13:31.356Z"
   },
   {
    "duration": 31,
    "start_time": "2023-02-10T14:13:31.461Z"
   },
   {
    "duration": 27,
    "start_time": "2023-02-10T14:13:31.494Z"
   },
   {
    "duration": 22,
    "start_time": "2023-02-10T14:13:31.524Z"
   },
   {
    "duration": 5,
    "start_time": "2023-02-10T14:13:31.547Z"
   },
   {
    "duration": 1754,
    "start_time": "2023-02-10T14:13:31.553Z"
   },
   {
    "duration": 16,
    "start_time": "2023-02-10T14:13:33.309Z"
   },
   {
    "duration": 12,
    "start_time": "2023-02-10T14:13:33.326Z"
   },
   {
    "duration": 9,
    "start_time": "2023-02-10T14:13:33.340Z"
   },
   {
    "duration": 6,
    "start_time": "2023-02-10T14:13:33.351Z"
   },
   {
    "duration": 9,
    "start_time": "2023-02-10T14:13:33.359Z"
   },
   {
    "duration": 13,
    "start_time": "2023-02-10T14:13:33.372Z"
   },
   {
    "duration": 35,
    "start_time": "2023-02-10T14:13:33.386Z"
   },
   {
    "duration": 10,
    "start_time": "2023-02-10T14:13:33.423Z"
   },
   {
    "duration": 12,
    "start_time": "2023-02-10T14:13:33.435Z"
   },
   {
    "duration": 6,
    "start_time": "2023-02-10T14:13:33.448Z"
   },
   {
    "duration": 7,
    "start_time": "2023-02-10T14:13:33.456Z"
   },
   {
    "duration": 21,
    "start_time": "2023-02-10T14:13:33.464Z"
   },
   {
    "duration": 7,
    "start_time": "2023-02-10T14:13:33.487Z"
   },
   {
    "duration": 29,
    "start_time": "2023-02-10T14:13:33.496Z"
   },
   {
    "duration": 11,
    "start_time": "2023-02-10T14:13:33.526Z"
   },
   {
    "duration": 6,
    "start_time": "2023-02-10T14:13:33.539Z"
   },
   {
    "duration": 12,
    "start_time": "2023-02-10T14:13:33.547Z"
   },
   {
    "duration": 5,
    "start_time": "2023-02-10T14:13:33.561Z"
   },
   {
    "duration": 12,
    "start_time": "2023-02-10T14:13:33.567Z"
   },
   {
    "duration": 6,
    "start_time": "2023-02-10T14:13:33.580Z"
   },
   {
    "duration": 6,
    "start_time": "2023-02-10T14:13:33.621Z"
   },
   {
    "duration": 210,
    "start_time": "2023-02-10T14:13:33.628Z"
   },
   {
    "duration": 95,
    "start_time": "2023-02-10T14:13:33.840Z"
   },
   {
    "duration": 7,
    "start_time": "2023-02-10T14:13:33.937Z"
   },
   {
    "duration": 12,
    "start_time": "2023-02-10T14:13:33.945Z"
   },
   {
    "duration": 6,
    "start_time": "2023-02-10T14:13:33.959Z"
   },
   {
    "duration": 11,
    "start_time": "2023-02-10T14:13:33.966Z"
   },
   {
    "duration": 7,
    "start_time": "2023-02-10T14:13:33.979Z"
   },
   {
    "duration": 38,
    "start_time": "2023-02-10T14:13:33.987Z"
   },
   {
    "duration": 17,
    "start_time": "2023-02-10T14:13:34.029Z"
   },
   {
    "duration": 16,
    "start_time": "2023-02-10T14:13:34.048Z"
   },
   {
    "duration": 59,
    "start_time": "2023-02-10T14:13:34.066Z"
   },
   {
    "duration": 8,
    "start_time": "2023-02-10T14:13:48.818Z"
   },
   {
    "duration": 7,
    "start_time": "2023-02-10T14:13:53.425Z"
   },
   {
    "duration": 8,
    "start_time": "2023-02-10T14:13:59.259Z"
   },
   {
    "duration": 9,
    "start_time": "2023-02-10T14:15:11.269Z"
   },
   {
    "duration": 9,
    "start_time": "2023-02-10T14:15:19.628Z"
   },
   {
    "duration": 12,
    "start_time": "2023-02-10T14:15:27.747Z"
   },
   {
    "duration": 9,
    "start_time": "2023-02-10T14:15:30.227Z"
   },
   {
    "duration": 8,
    "start_time": "2023-02-10T14:16:58.173Z"
   },
   {
    "duration": 9,
    "start_time": "2023-02-10T14:17:00.852Z"
   },
   {
    "duration": 12,
    "start_time": "2023-02-10T14:17:43.311Z"
   },
   {
    "duration": 8,
    "start_time": "2023-02-10T14:18:38.083Z"
   },
   {
    "duration": 78,
    "start_time": "2023-02-10T14:18:46.175Z"
   },
   {
    "duration": 87,
    "start_time": "2023-02-10T14:22:27.974Z"
   },
   {
    "duration": 11,
    "start_time": "2023-02-10T14:24:34.163Z"
   },
   {
    "duration": 6,
    "start_time": "2023-02-10T14:27:12.620Z"
   },
   {
    "duration": 5,
    "start_time": "2023-02-10T14:27:52.266Z"
   },
   {
    "duration": 9,
    "start_time": "2023-02-10T14:28:02.445Z"
   },
   {
    "duration": 5,
    "start_time": "2023-02-10T14:28:06.764Z"
   },
   {
    "duration": 6,
    "start_time": "2023-02-10T14:28:20.029Z"
   },
   {
    "duration": 3,
    "start_time": "2023-02-10T14:28:51.630Z"
   },
   {
    "duration": 102,
    "start_time": "2023-02-10T14:28:51.635Z"
   },
   {
    "duration": 26,
    "start_time": "2023-02-10T14:28:51.739Z"
   },
   {
    "duration": 16,
    "start_time": "2023-02-10T14:28:51.767Z"
   },
   {
    "duration": 46,
    "start_time": "2023-02-10T14:28:51.785Z"
   },
   {
    "duration": 5,
    "start_time": "2023-02-10T14:28:51.833Z"
   },
   {
    "duration": 1896,
    "start_time": "2023-02-10T14:28:51.840Z"
   },
   {
    "duration": 12,
    "start_time": "2023-02-10T14:28:53.738Z"
   },
   {
    "duration": 19,
    "start_time": "2023-02-10T14:28:53.752Z"
   },
   {
    "duration": 13,
    "start_time": "2023-02-10T14:28:53.773Z"
   },
   {
    "duration": 17,
    "start_time": "2023-02-10T14:28:53.789Z"
   },
   {
    "duration": 11,
    "start_time": "2023-02-10T14:28:53.821Z"
   },
   {
    "duration": 27,
    "start_time": "2023-02-10T14:28:53.834Z"
   },
   {
    "duration": 15,
    "start_time": "2023-02-10T14:28:53.862Z"
   },
   {
    "duration": 27,
    "start_time": "2023-02-10T14:28:53.879Z"
   },
   {
    "duration": 36,
    "start_time": "2023-02-10T14:28:53.908Z"
   },
   {
    "duration": 36,
    "start_time": "2023-02-10T14:28:53.946Z"
   },
   {
    "duration": 19,
    "start_time": "2023-02-10T14:28:53.984Z"
   },
   {
    "duration": 21,
    "start_time": "2023-02-10T14:28:54.004Z"
   },
   {
    "duration": 18,
    "start_time": "2023-02-10T14:28:54.027Z"
   },
   {
    "duration": 25,
    "start_time": "2023-02-10T14:28:54.048Z"
   },
   {
    "duration": 22,
    "start_time": "2023-02-10T14:28:54.075Z"
   },
   {
    "duration": 24,
    "start_time": "2023-02-10T14:28:54.099Z"
   },
   {
    "duration": 25,
    "start_time": "2023-02-10T14:28:54.124Z"
   },
   {
    "duration": 9,
    "start_time": "2023-02-10T14:28:54.151Z"
   },
   {
    "duration": 22,
    "start_time": "2023-02-10T14:28:54.162Z"
   },
   {
    "duration": 13,
    "start_time": "2023-02-10T14:28:54.186Z"
   },
   {
    "duration": 37,
    "start_time": "2023-02-10T14:28:54.200Z"
   },
   {
    "duration": 11,
    "start_time": "2023-02-10T14:28:54.240Z"
   },
   {
    "duration": 96,
    "start_time": "2023-02-10T14:28:54.253Z"
   },
   {
    "duration": 8,
    "start_time": "2023-02-10T14:28:54.351Z"
   },
   {
    "duration": 13,
    "start_time": "2023-02-10T14:28:54.360Z"
   },
   {
    "duration": 8,
    "start_time": "2023-02-10T14:28:54.375Z"
   },
   {
    "duration": 39,
    "start_time": "2023-02-10T14:28:54.384Z"
   },
   {
    "duration": 11,
    "start_time": "2023-02-10T14:28:54.426Z"
   },
   {
    "duration": 22,
    "start_time": "2023-02-10T14:28:54.439Z"
   },
   {
    "duration": 7,
    "start_time": "2023-02-10T14:28:54.464Z"
   },
   {
    "duration": 12,
    "start_time": "2023-02-10T14:28:54.472Z"
   },
   {
    "duration": 50,
    "start_time": "2023-02-10T14:28:54.486Z"
   },
   {
    "duration": 27,
    "start_time": "2023-02-10T14:28:54.539Z"
   },
   {
    "duration": 60,
    "start_time": "2023-02-10T14:28:54.569Z"
   },
   {
    "duration": 87,
    "start_time": "2023-02-10T14:30:04.847Z"
   },
   {
    "duration": 478,
    "start_time": "2023-02-13T07:51:21.967Z"
   },
   {
    "duration": 204,
    "start_time": "2023-02-13T07:51:22.447Z"
   },
   {
    "duration": 51,
    "start_time": "2023-02-13T07:51:22.655Z"
   },
   {
    "duration": 31,
    "start_time": "2023-02-13T07:51:22.708Z"
   },
   {
    "duration": 91,
    "start_time": "2023-02-13T07:51:22.742Z"
   },
   {
    "duration": 5,
    "start_time": "2023-02-13T07:51:22.834Z"
   },
   {
    "duration": 3,
    "start_time": "2023-02-13T07:51:35.231Z"
   },
   {
    "duration": 106,
    "start_time": "2023-02-13T07:51:35.235Z"
   },
   {
    "duration": 34,
    "start_time": "2023-02-13T07:51:35.343Z"
   },
   {
    "duration": 27,
    "start_time": "2023-02-13T07:51:35.379Z"
   },
   {
    "duration": 23,
    "start_time": "2023-02-13T07:51:35.408Z"
   },
   {
    "duration": 10,
    "start_time": "2023-02-13T07:51:35.433Z"
   },
   {
    "duration": 2326,
    "start_time": "2023-02-13T07:51:35.444Z"
   },
   {
    "duration": 14,
    "start_time": "2023-02-13T07:51:37.773Z"
   },
   {
    "duration": 17,
    "start_time": "2023-02-13T07:51:37.789Z"
   },
   {
    "duration": 10,
    "start_time": "2023-02-13T07:51:37.809Z"
   },
   {
    "duration": 28,
    "start_time": "2023-02-13T07:51:37.821Z"
   },
   {
    "duration": 46,
    "start_time": "2023-02-13T07:51:37.851Z"
   },
   {
    "duration": 13,
    "start_time": "2023-02-13T07:51:37.898Z"
   },
   {
    "duration": 5,
    "start_time": "2023-02-13T07:51:37.914Z"
   },
   {
    "duration": 17,
    "start_time": "2023-02-13T07:51:37.920Z"
   },
   {
    "duration": 28,
    "start_time": "2023-02-13T07:51:37.938Z"
   },
   {
    "duration": 18,
    "start_time": "2023-02-13T07:51:37.968Z"
   },
   {
    "duration": 6,
    "start_time": "2023-02-13T07:51:37.987Z"
   },
   {
    "duration": 5,
    "start_time": "2023-02-13T07:51:37.994Z"
   },
   {
    "duration": 15,
    "start_time": "2023-02-13T07:51:38.002Z"
   },
   {
    "duration": 6,
    "start_time": "2023-02-13T07:51:38.019Z"
   },
   {
    "duration": 23,
    "start_time": "2023-02-13T07:51:38.026Z"
   },
   {
    "duration": 21,
    "start_time": "2023-02-13T07:51:38.052Z"
   },
   {
    "duration": 23,
    "start_time": "2023-02-13T07:51:38.075Z"
   },
   {
    "duration": 16,
    "start_time": "2023-02-13T07:51:38.099Z"
   },
   {
    "duration": 9,
    "start_time": "2023-02-13T07:51:38.117Z"
   },
   {
    "duration": 9,
    "start_time": "2023-02-13T07:51:38.127Z"
   },
   {
    "duration": 32,
    "start_time": "2023-02-13T07:51:38.138Z"
   },
   {
    "duration": 7,
    "start_time": "2023-02-13T07:51:38.172Z"
   },
   {
    "duration": 98,
    "start_time": "2023-02-13T07:51:38.181Z"
   },
   {
    "duration": 7,
    "start_time": "2023-02-13T07:51:38.282Z"
   },
   {
    "duration": 11,
    "start_time": "2023-02-13T07:51:38.290Z"
   },
   {
    "duration": 6,
    "start_time": "2023-02-13T07:51:38.303Z"
   },
   {
    "duration": 9,
    "start_time": "2023-02-13T07:51:38.311Z"
   },
   {
    "duration": 49,
    "start_time": "2023-02-13T07:51:38.321Z"
   },
   {
    "duration": 14,
    "start_time": "2023-02-13T07:51:38.372Z"
   },
   {
    "duration": 10,
    "start_time": "2023-02-13T07:51:38.387Z"
   },
   {
    "duration": 8,
    "start_time": "2023-02-13T07:51:38.398Z"
   },
   {
    "duration": 23,
    "start_time": "2023-02-13T07:51:38.408Z"
   },
   {
    "duration": 32,
    "start_time": "2023-02-13T07:51:38.433Z"
   },
   {
    "duration": 35,
    "start_time": "2023-02-13T07:51:38.470Z"
   },
   {
    "duration": 106,
    "start_time": "2023-02-13T07:52:36.838Z"
   },
   {
    "duration": 76,
    "start_time": "2023-02-13T07:56:21.299Z"
   },
   {
    "duration": 48,
    "start_time": "2023-02-13T07:56:24.840Z"
   },
   {
    "duration": 5,
    "start_time": "2023-02-13T07:57:46.821Z"
   },
   {
    "duration": 67,
    "start_time": "2023-02-13T07:57:48.741Z"
   },
   {
    "duration": 7,
    "start_time": "2023-02-13T07:58:01.284Z"
   },
   {
    "duration": 41,
    "start_time": "2023-02-13T07:58:03.106Z"
   },
   {
    "duration": 5,
    "start_time": "2023-02-13T07:58:44.787Z"
   },
   {
    "duration": 52,
    "start_time": "2023-02-13T07:58:45.216Z"
   },
   {
    "duration": 29,
    "start_time": "2023-02-13T07:58:56.100Z"
   },
   {
    "duration": 6,
    "start_time": "2023-02-13T07:59:21.485Z"
   },
   {
    "duration": 24,
    "start_time": "2023-02-13T07:59:28.694Z"
   },
   {
    "duration": 24,
    "start_time": "2023-02-13T07:59:33.308Z"
   },
   {
    "duration": 3,
    "start_time": "2023-02-13T08:00:49.871Z"
   },
   {
    "duration": 26,
    "start_time": "2023-02-13T08:00:50.244Z"
   },
   {
    "duration": 6,
    "start_time": "2023-02-13T08:03:07.590Z"
   },
   {
    "duration": 23,
    "start_time": "2023-02-13T08:03:16.978Z"
   },
   {
    "duration": 29,
    "start_time": "2023-02-13T08:04:03.510Z"
   },
   {
    "duration": 29,
    "start_time": "2023-02-13T08:05:04.267Z"
   },
   {
    "duration": 63,
    "start_time": "2023-02-13T08:06:12.933Z"
   },
   {
    "duration": 6,
    "start_time": "2023-02-13T08:08:18.021Z"
   },
   {
    "duration": 8,
    "start_time": "2023-02-13T08:08:26.075Z"
   },
   {
    "duration": 27,
    "start_time": "2023-02-13T08:08:31.088Z"
   },
   {
    "duration": 26,
    "start_time": "2023-02-13T08:08:37.188Z"
   },
   {
    "duration": 7,
    "start_time": "2023-02-13T08:09:52.986Z"
   },
   {
    "duration": 6,
    "start_time": "2023-02-13T08:10:01.277Z"
   },
   {
    "duration": 27,
    "start_time": "2023-02-13T08:10:11.393Z"
   },
   {
    "duration": 12,
    "start_time": "2023-02-13T08:11:45.153Z"
   },
   {
    "duration": 6,
    "start_time": "2023-02-13T08:11:46.045Z"
   },
   {
    "duration": 8,
    "start_time": "2023-02-13T08:14:55.783Z"
   },
   {
    "duration": 49,
    "start_time": "2023-02-13T08:15:00.027Z"
   },
   {
    "duration": 24,
    "start_time": "2023-02-13T08:15:00.638Z"
   },
   {
    "duration": 3,
    "start_time": "2023-02-13T08:15:09.096Z"
   },
   {
    "duration": 41,
    "start_time": "2023-02-13T08:15:21.592Z"
   },
   {
    "duration": 5,
    "start_time": "2023-02-13T08:18:40.015Z"
   },
   {
    "duration": 5,
    "start_time": "2023-02-13T08:18:53.508Z"
   },
   {
    "duration": 5,
    "start_time": "2023-02-13T08:18:59.126Z"
   },
   {
    "duration": 8,
    "start_time": "2023-02-13T08:19:12.473Z"
   },
   {
    "duration": 5,
    "start_time": "2023-02-13T08:19:19.375Z"
   },
   {
    "duration": 8,
    "start_time": "2023-02-13T08:19:29.666Z"
   },
   {
    "duration": 5,
    "start_time": "2023-02-13T08:19:39.145Z"
   },
   {
    "duration": 12,
    "start_time": "2023-02-13T08:22:07.960Z"
   },
   {
    "duration": 5,
    "start_time": "2023-02-13T08:22:20.070Z"
   },
   {
    "duration": 45,
    "start_time": "2023-02-13T08:22:24.586Z"
   },
   {
    "duration": 12,
    "start_time": "2023-02-13T08:23:08.807Z"
   },
   {
    "duration": 10,
    "start_time": "2023-02-13T08:24:36.673Z"
   },
   {
    "duration": 243,
    "start_time": "2023-02-13T08:24:54.186Z"
   },
   {
    "duration": 43,
    "start_time": "2023-02-13T08:25:01.184Z"
   },
   {
    "duration": 14,
    "start_time": "2023-02-13T08:27:50.072Z"
   },
   {
    "duration": 11,
    "start_time": "2023-02-13T08:32:08.388Z"
   },
   {
    "duration": 41,
    "start_time": "2023-02-13T08:32:13.267Z"
   },
   {
    "duration": 15,
    "start_time": "2023-02-13T08:32:36.208Z"
   },
   {
    "duration": 635,
    "start_time": "2023-02-13T08:33:15.270Z"
   },
   {
    "duration": 376,
    "start_time": "2023-02-13T08:34:51.474Z"
   },
   {
    "duration": 285,
    "start_time": "2023-02-13T08:34:58.543Z"
   },
   {
    "duration": 36,
    "start_time": "2023-02-13T08:35:00.377Z"
   },
   {
    "duration": 44,
    "start_time": "2023-02-13T08:35:43.750Z"
   },
   {
    "duration": 423,
    "start_time": "2023-02-13T08:36:05.071Z"
   },
   {
    "duration": 3,
    "start_time": "2023-02-13T08:36:11.103Z"
   },
   {
    "duration": 43,
    "start_time": "2023-02-13T08:42:13.158Z"
   },
   {
    "duration": 9,
    "start_time": "2023-02-13T08:43:44.587Z"
   },
   {
    "duration": 4,
    "start_time": "2023-02-13T08:44:07.171Z"
   },
   {
    "duration": 13,
    "start_time": "2023-02-13T08:44:19.317Z"
   },
   {
    "duration": 13,
    "start_time": "2023-02-13T08:45:37.070Z"
   },
   {
    "duration": 38,
    "start_time": "2023-02-13T08:46:39.445Z"
   },
   {
    "duration": 9,
    "start_time": "2023-02-13T08:47:01.792Z"
   },
   {
    "duration": 38,
    "start_time": "2023-02-13T08:47:03.506Z"
   },
   {
    "duration": 11,
    "start_time": "2023-02-13T08:47:14.789Z"
   },
   {
    "duration": 7,
    "start_time": "2023-02-13T08:48:49.308Z"
   },
   {
    "duration": 33,
    "start_time": "2023-02-13T08:48:51.783Z"
   },
   {
    "duration": 8,
    "start_time": "2023-02-13T08:48:58.229Z"
   },
   {
    "duration": 36,
    "start_time": "2023-02-13T08:48:59.179Z"
   },
   {
    "duration": 8,
    "start_time": "2023-02-13T08:49:11.785Z"
   },
   {
    "duration": 5,
    "start_time": "2023-02-13T08:49:19.845Z"
   },
   {
    "duration": 9,
    "start_time": "2023-02-13T08:49:36.409Z"
   },
   {
    "duration": 5,
    "start_time": "2023-02-13T08:49:37.531Z"
   },
   {
    "duration": 3,
    "start_time": "2023-02-13T08:49:41.873Z"
   },
   {
    "duration": 87,
    "start_time": "2023-02-13T08:49:41.878Z"
   },
   {
    "duration": 24,
    "start_time": "2023-02-13T08:49:41.967Z"
   },
   {
    "duration": 24,
    "start_time": "2023-02-13T08:49:41.992Z"
   },
   {
    "duration": 36,
    "start_time": "2023-02-13T08:49:42.018Z"
   },
   {
    "duration": 4,
    "start_time": "2023-02-13T08:49:42.056Z"
   },
   {
    "duration": 1696,
    "start_time": "2023-02-13T08:49:42.061Z"
   },
   {
    "duration": 10,
    "start_time": "2023-02-13T08:49:43.759Z"
   },
   {
    "duration": 7,
    "start_time": "2023-02-13T08:49:43.770Z"
   },
   {
    "duration": 7,
    "start_time": "2023-02-13T08:49:43.779Z"
   },
   {
    "duration": 8,
    "start_time": "2023-02-13T08:49:43.788Z"
   },
   {
    "duration": 11,
    "start_time": "2023-02-13T08:49:43.797Z"
   },
   {
    "duration": 9,
    "start_time": "2023-02-13T08:49:43.810Z"
   },
   {
    "duration": 11,
    "start_time": "2023-02-13T08:49:43.852Z"
   },
   {
    "duration": 10,
    "start_time": "2023-02-13T08:49:43.865Z"
   },
   {
    "duration": 7,
    "start_time": "2023-02-13T08:49:43.877Z"
   },
   {
    "duration": 17,
    "start_time": "2023-02-13T08:49:43.886Z"
   },
   {
    "duration": 17,
    "start_time": "2023-02-13T08:49:43.905Z"
   },
   {
    "duration": 8,
    "start_time": "2023-02-13T08:49:43.923Z"
   },
   {
    "duration": 7,
    "start_time": "2023-02-13T08:49:43.933Z"
   },
   {
    "duration": 12,
    "start_time": "2023-02-13T08:49:43.942Z"
   },
   {
    "duration": 8,
    "start_time": "2023-02-13T08:49:43.956Z"
   },
   {
    "duration": 16,
    "start_time": "2023-02-13T08:49:43.966Z"
   },
   {
    "duration": 15,
    "start_time": "2023-02-13T08:49:43.984Z"
   },
   {
    "duration": 9,
    "start_time": "2023-02-13T08:49:44.001Z"
   },
   {
    "duration": 11,
    "start_time": "2023-02-13T08:49:44.011Z"
   },
   {
    "duration": 7,
    "start_time": "2023-02-13T08:49:44.024Z"
   },
   {
    "duration": 5,
    "start_time": "2023-02-13T08:49:44.033Z"
   },
   {
    "duration": 5,
    "start_time": "2023-02-13T08:49:44.055Z"
   },
   {
    "duration": 96,
    "start_time": "2023-02-13T08:49:44.062Z"
   },
   {
    "duration": 6,
    "start_time": "2023-02-13T08:49:44.160Z"
   },
   {
    "duration": 12,
    "start_time": "2023-02-13T08:49:44.168Z"
   },
   {
    "duration": 6,
    "start_time": "2023-02-13T08:49:44.182Z"
   },
   {
    "duration": 12,
    "start_time": "2023-02-13T08:49:44.189Z"
   },
   {
    "duration": 7,
    "start_time": "2023-02-13T08:49:44.203Z"
   },
   {
    "duration": 42,
    "start_time": "2023-02-13T08:49:44.212Z"
   },
   {
    "duration": 6,
    "start_time": "2023-02-13T08:49:44.256Z"
   },
   {
    "duration": 32,
    "start_time": "2023-02-13T08:49:44.263Z"
   },
   {
    "duration": 19,
    "start_time": "2023-02-13T08:49:44.297Z"
   },
   {
    "duration": 16,
    "start_time": "2023-02-13T08:49:44.319Z"
   },
   {
    "duration": 38,
    "start_time": "2023-02-13T08:49:44.337Z"
   },
   {
    "duration": 5,
    "start_time": "2023-02-13T08:49:44.377Z"
   },
   {
    "duration": 8,
    "start_time": "2023-02-13T08:49:44.384Z"
   },
   {
    "duration": 7,
    "start_time": "2023-02-13T08:49:44.393Z"
   },
   {
    "duration": 6,
    "start_time": "2023-02-13T08:49:44.402Z"
   },
   {
    "duration": 4,
    "start_time": "2023-02-13T08:49:44.409Z"
   },
   {
    "duration": 442,
    "start_time": "2023-02-13T08:49:44.414Z"
   },
   {
    "duration": 11,
    "start_time": "2023-02-13T08:49:44.857Z"
   },
   {
    "duration": 8,
    "start_time": "2023-02-13T08:49:44.869Z"
   },
   {
    "duration": 3,
    "start_time": "2023-02-13T09:25:21.980Z"
   },
   {
    "duration": 87,
    "start_time": "2023-02-13T09:25:21.986Z"
   },
   {
    "duration": 27,
    "start_time": "2023-02-13T09:25:22.074Z"
   },
   {
    "duration": 17,
    "start_time": "2023-02-13T09:25:22.103Z"
   },
   {
    "duration": 37,
    "start_time": "2023-02-13T09:25:22.122Z"
   },
   {
    "duration": 4,
    "start_time": "2023-02-13T09:25:22.160Z"
   },
   {
    "duration": 1765,
    "start_time": "2023-02-13T09:25:22.165Z"
   },
   {
    "duration": 21,
    "start_time": "2023-02-13T09:25:23.932Z"
   },
   {
    "duration": 7,
    "start_time": "2023-02-13T09:25:23.955Z"
   },
   {
    "duration": 7,
    "start_time": "2023-02-13T09:25:23.964Z"
   },
   {
    "duration": 6,
    "start_time": "2023-02-13T09:25:23.973Z"
   },
   {
    "duration": 7,
    "start_time": "2023-02-13T09:25:23.981Z"
   },
   {
    "duration": 10,
    "start_time": "2023-02-13T09:25:23.990Z"
   },
   {
    "duration": 5,
    "start_time": "2023-02-13T09:25:24.001Z"
   },
   {
    "duration": 13,
    "start_time": "2023-02-13T09:25:24.007Z"
   },
   {
    "duration": 38,
    "start_time": "2023-02-13T09:25:24.022Z"
   },
   {
    "duration": 6,
    "start_time": "2023-02-13T09:25:24.062Z"
   },
   {
    "duration": 8,
    "start_time": "2023-02-13T09:25:24.070Z"
   },
   {
    "duration": 6,
    "start_time": "2023-02-13T09:25:24.079Z"
   },
   {
    "duration": 8,
    "start_time": "2023-02-13T09:25:24.087Z"
   },
   {
    "duration": 13,
    "start_time": "2023-02-13T09:25:24.096Z"
   },
   {
    "duration": 17,
    "start_time": "2023-02-13T09:25:24.110Z"
   },
   {
    "duration": 26,
    "start_time": "2023-02-13T09:25:24.128Z"
   },
   {
    "duration": 12,
    "start_time": "2023-02-13T09:25:24.155Z"
   },
   {
    "duration": 7,
    "start_time": "2023-02-13T09:25:24.169Z"
   },
   {
    "duration": 18,
    "start_time": "2023-02-13T09:25:24.177Z"
   },
   {
    "duration": 7,
    "start_time": "2023-02-13T09:25:24.197Z"
   },
   {
    "duration": 6,
    "start_time": "2023-02-13T09:25:24.207Z"
   },
   {
    "duration": 16,
    "start_time": "2023-02-13T09:25:24.214Z"
   },
   {
    "duration": 92,
    "start_time": "2023-02-13T09:25:24.232Z"
   },
   {
    "duration": 7,
    "start_time": "2023-02-13T09:25:24.325Z"
   },
   {
    "duration": 22,
    "start_time": "2023-02-13T09:25:24.334Z"
   },
   {
    "duration": 7,
    "start_time": "2023-02-13T09:25:24.358Z"
   },
   {
    "duration": 11,
    "start_time": "2023-02-13T09:25:24.366Z"
   },
   {
    "duration": 6,
    "start_time": "2023-02-13T09:25:24.378Z"
   },
   {
    "duration": 10,
    "start_time": "2023-02-13T09:25:24.385Z"
   },
   {
    "duration": 11,
    "start_time": "2023-02-13T09:25:24.397Z"
   },
   {
    "duration": 26,
    "start_time": "2023-02-13T09:25:24.409Z"
   },
   {
    "duration": 25,
    "start_time": "2023-02-13T09:25:24.437Z"
   },
   {
    "duration": 15,
    "start_time": "2023-02-13T09:25:24.463Z"
   },
   {
    "duration": 30,
    "start_time": "2023-02-13T09:25:24.480Z"
   },
   {
    "duration": 4,
    "start_time": "2023-02-13T09:25:24.511Z"
   },
   {
    "duration": 14,
    "start_time": "2023-02-13T09:25:24.516Z"
   },
   {
    "duration": 6,
    "start_time": "2023-02-13T09:25:24.553Z"
   },
   {
    "duration": 8,
    "start_time": "2023-02-13T09:25:24.560Z"
   },
   {
    "duration": 4,
    "start_time": "2023-02-13T09:25:24.569Z"
   },
   {
    "duration": 270,
    "start_time": "2023-02-13T09:25:24.575Z"
   },
   {
    "duration": 14,
    "start_time": "2023-02-13T09:25:24.846Z"
   },
   {
    "duration": 3,
    "start_time": "2023-02-13T09:25:24.862Z"
   },
   {
    "duration": 5,
    "start_time": "2023-02-13T09:25:34.751Z"
   },
   {
    "duration": 5,
    "start_time": "2023-02-13T09:26:29.460Z"
   },
   {
    "duration": 4,
    "start_time": "2023-02-13T09:26:30.745Z"
   },
   {
    "duration": 6,
    "start_time": "2023-02-13T09:26:37.805Z"
   },
   {
    "duration": 4,
    "start_time": "2023-02-13T09:26:38.982Z"
   },
   {
    "duration": 6,
    "start_time": "2023-02-13T09:26:46.304Z"
   },
   {
    "duration": 12,
    "start_time": "2023-02-13T09:27:59.909Z"
   },
   {
    "duration": 6,
    "start_time": "2023-02-13T09:28:16.425Z"
   },
   {
    "duration": 6,
    "start_time": "2023-02-13T09:28:18.019Z"
   },
   {
    "duration": 5,
    "start_time": "2023-02-13T09:29:19.434Z"
   },
   {
    "duration": 6,
    "start_time": "2023-02-13T09:29:21.246Z"
   },
   {
    "duration": 9,
    "start_time": "2023-02-13T09:29:36.020Z"
   },
   {
    "duration": 16,
    "start_time": "2023-02-13T09:30:45.524Z"
   },
   {
    "duration": 20,
    "start_time": "2023-02-13T09:30:51.021Z"
   },
   {
    "duration": 6,
    "start_time": "2023-02-13T09:31:50.180Z"
   },
   {
    "duration": 5,
    "start_time": "2023-02-13T09:33:35.857Z"
   },
   {
    "duration": 6,
    "start_time": "2023-02-13T09:33:37.588Z"
   },
   {
    "duration": 6,
    "start_time": "2023-02-13T09:33:42.900Z"
   },
   {
    "duration": 5,
    "start_time": "2023-02-13T09:33:45.758Z"
   },
   {
    "duration": 10,
    "start_time": "2023-02-13T09:34:28.091Z"
   },
   {
    "duration": 6,
    "start_time": "2023-02-13T09:35:12.542Z"
   },
   {
    "duration": 5,
    "start_time": "2023-02-13T09:35:14.046Z"
   },
   {
    "duration": 8,
    "start_time": "2023-02-13T09:36:51.221Z"
   },
   {
    "duration": 6,
    "start_time": "2023-02-13T09:36:52.477Z"
   },
   {
    "duration": 38,
    "start_time": "2023-02-13T09:37:11.258Z"
   },
   {
    "duration": 9,
    "start_time": "2023-02-13T09:37:26.079Z"
   },
   {
    "duration": 12,
    "start_time": "2023-02-13T09:37:34.758Z"
   },
   {
    "duration": 7,
    "start_time": "2023-02-13T09:37:43.273Z"
   },
   {
    "duration": 10,
    "start_time": "2023-02-13T09:37:48.043Z"
   },
   {
    "duration": 10,
    "start_time": "2023-02-13T09:39:08.076Z"
   },
   {
    "duration": 67,
    "start_time": "2023-02-13T09:40:24.970Z"
   },
   {
    "duration": 15,
    "start_time": "2023-02-13T09:40:38.251Z"
   },
   {
    "duration": 9,
    "start_time": "2023-02-13T09:40:39.979Z"
   },
   {
    "duration": 43,
    "start_time": "2023-02-13T09:40:45.291Z"
   },
   {
    "duration": 131,
    "start_time": "2023-02-13T09:43:02.724Z"
   },
   {
    "duration": 331,
    "start_time": "2023-02-13T09:43:12.617Z"
   },
   {
    "duration": 6,
    "start_time": "2023-02-13T09:43:55.158Z"
   },
   {
    "duration": 8,
    "start_time": "2023-02-13T09:44:04.095Z"
   },
   {
    "duration": 5,
    "start_time": "2023-02-13T09:44:08.611Z"
   },
   {
    "duration": 5,
    "start_time": "2023-02-13T09:44:14.271Z"
   },
   {
    "duration": 157,
    "start_time": "2023-02-13T09:45:28.184Z"
   },
   {
    "duration": 217,
    "start_time": "2023-02-13T09:45:34.061Z"
   },
   {
    "duration": 288,
    "start_time": "2023-02-13T09:45:47.486Z"
   },
   {
    "duration": 348,
    "start_time": "2023-02-13T09:45:58.077Z"
   },
   {
    "duration": 7,
    "start_time": "2023-02-13T09:46:18.964Z"
   },
   {
    "duration": 9,
    "start_time": "2023-02-13T09:46:24.763Z"
   },
   {
    "duration": 350,
    "start_time": "2023-02-13T09:47:31.713Z"
   },
   {
    "duration": 1558,
    "start_time": "2023-02-13T09:47:42.838Z"
   },
   {
    "duration": 897,
    "start_time": "2023-02-13T09:48:06.366Z"
   },
   {
    "duration": 108,
    "start_time": "2023-02-13T09:48:12.778Z"
   },
   {
    "duration": 162,
    "start_time": "2023-02-13T09:48:21.083Z"
   },
   {
    "duration": 167,
    "start_time": "2023-02-13T09:50:17.904Z"
   },
   {
    "duration": 194,
    "start_time": "2023-02-13T09:50:35.828Z"
   },
   {
    "duration": 402,
    "start_time": "2023-02-13T09:50:44.453Z"
   },
   {
    "duration": 422,
    "start_time": "2023-02-13T09:51:02.944Z"
   },
   {
    "duration": 129,
    "start_time": "2023-02-13T09:51:19.642Z"
   },
   {
    "duration": 428,
    "start_time": "2023-02-13T09:51:35.299Z"
   },
   {
    "duration": 440,
    "start_time": "2023-02-13T09:52:26.413Z"
   },
   {
    "duration": 398,
    "start_time": "2023-02-13T09:52:34.671Z"
   },
   {
    "duration": 411,
    "start_time": "2023-02-13T09:52:40.137Z"
   },
   {
    "duration": 451,
    "start_time": "2023-02-13T09:52:46.273Z"
   },
   {
    "duration": 445,
    "start_time": "2023-02-13T09:52:51.517Z"
   },
   {
    "duration": 169,
    "start_time": "2023-02-13T09:52:57.698Z"
   },
   {
    "duration": 193,
    "start_time": "2023-02-13T09:53:03.065Z"
   },
   {
    "duration": 236,
    "start_time": "2023-02-13T09:53:37.372Z"
   },
   {
    "duration": 198,
    "start_time": "2023-02-13T10:03:07.114Z"
   },
   {
    "duration": 10,
    "start_time": "2023-02-13T10:03:32.357Z"
   },
   {
    "duration": 217,
    "start_time": "2023-02-13T10:03:43.773Z"
   },
   {
    "duration": 3,
    "start_time": "2023-02-13T10:04:00.059Z"
   },
   {
    "duration": 98,
    "start_time": "2023-02-13T10:04:00.066Z"
   },
   {
    "duration": 30,
    "start_time": "2023-02-13T10:04:00.165Z"
   },
   {
    "duration": 22,
    "start_time": "2023-02-13T10:04:00.197Z"
   },
   {
    "duration": 46,
    "start_time": "2023-02-13T10:04:00.221Z"
   },
   {
    "duration": 5,
    "start_time": "2023-02-13T10:04:00.269Z"
   },
   {
    "duration": 1806,
    "start_time": "2023-02-13T10:04:00.275Z"
   },
   {
    "duration": 9,
    "start_time": "2023-02-13T10:04:02.082Z"
   },
   {
    "duration": 24,
    "start_time": "2023-02-13T10:04:02.092Z"
   },
   {
    "duration": 22,
    "start_time": "2023-02-13T10:04:02.118Z"
   },
   {
    "duration": 28,
    "start_time": "2023-02-13T10:04:02.141Z"
   },
   {
    "duration": 15,
    "start_time": "2023-02-13T10:04:02.170Z"
   },
   {
    "duration": 14,
    "start_time": "2023-02-13T10:04:02.186Z"
   },
   {
    "duration": 12,
    "start_time": "2023-02-13T10:04:02.202Z"
   },
   {
    "duration": 5,
    "start_time": "2023-02-13T10:04:02.217Z"
   },
   {
    "duration": 13,
    "start_time": "2023-02-13T10:04:02.223Z"
   },
   {
    "duration": 13,
    "start_time": "2023-02-13T10:04:02.238Z"
   },
   {
    "duration": 7,
    "start_time": "2023-02-13T10:04:02.253Z"
   },
   {
    "duration": 23,
    "start_time": "2023-02-13T10:04:02.262Z"
   },
   {
    "duration": 27,
    "start_time": "2023-02-13T10:04:02.287Z"
   },
   {
    "duration": 21,
    "start_time": "2023-02-13T10:04:02.316Z"
   },
   {
    "duration": 27,
    "start_time": "2023-02-13T10:04:02.339Z"
   },
   {
    "duration": 8,
    "start_time": "2023-02-13T10:04:02.368Z"
   },
   {
    "duration": 20,
    "start_time": "2023-02-13T10:04:02.377Z"
   },
   {
    "duration": 27,
    "start_time": "2023-02-13T10:04:02.399Z"
   },
   {
    "duration": 19,
    "start_time": "2023-02-13T10:04:02.428Z"
   },
   {
    "duration": 25,
    "start_time": "2023-02-13T10:04:02.449Z"
   },
   {
    "duration": 24,
    "start_time": "2023-02-13T10:04:02.476Z"
   },
   {
    "duration": 27,
    "start_time": "2023-02-13T10:04:02.502Z"
   },
   {
    "duration": 101,
    "start_time": "2023-02-13T10:04:02.531Z"
   },
   {
    "duration": 20,
    "start_time": "2023-02-13T10:04:02.634Z"
   },
   {
    "duration": 10,
    "start_time": "2023-02-13T10:04:02.656Z"
   },
   {
    "duration": 6,
    "start_time": "2023-02-13T10:04:02.667Z"
   },
   {
    "duration": 13,
    "start_time": "2023-02-13T10:04:02.675Z"
   },
   {
    "duration": 6,
    "start_time": "2023-02-13T10:04:02.690Z"
   },
   {
    "duration": 12,
    "start_time": "2023-02-13T10:04:02.698Z"
   },
   {
    "duration": 17,
    "start_time": "2023-02-13T10:04:02.711Z"
   },
   {
    "duration": 28,
    "start_time": "2023-02-13T10:04:02.730Z"
   },
   {
    "duration": 29,
    "start_time": "2023-02-13T10:04:02.759Z"
   },
   {
    "duration": 18,
    "start_time": "2023-02-13T10:04:02.790Z"
   },
   {
    "duration": 49,
    "start_time": "2023-02-13T10:04:02.809Z"
   },
   {
    "duration": 5,
    "start_time": "2023-02-13T10:04:02.861Z"
   },
   {
    "duration": 10,
    "start_time": "2023-02-13T10:04:02.867Z"
   },
   {
    "duration": 8,
    "start_time": "2023-02-13T10:04:02.878Z"
   },
   {
    "duration": 5,
    "start_time": "2023-02-13T10:04:02.888Z"
   },
   {
    "duration": 16,
    "start_time": "2023-02-13T10:04:02.894Z"
   },
   {
    "duration": 615,
    "start_time": "2023-02-13T10:04:02.912Z"
   },
   {
    "duration": 24,
    "start_time": "2023-02-13T10:04:03.529Z"
   },
   {
    "duration": 34,
    "start_time": "2023-02-13T10:04:03.555Z"
   },
   {
    "duration": 9,
    "start_time": "2023-02-13T10:04:03.591Z"
   },
   {
    "duration": 217,
    "start_time": "2023-02-13T10:04:03.602Z"
   },
   {
    "duration": 9,
    "start_time": "2023-02-13T10:04:03.821Z"
   },
   {
    "duration": 206,
    "start_time": "2023-02-13T10:04:03.832Z"
   },
   {
    "duration": 34,
    "start_time": "2023-02-13T10:08:30.533Z"
   },
   {
    "duration": 11,
    "start_time": "2023-02-13T10:09:08.683Z"
   },
   {
    "duration": 8,
    "start_time": "2023-02-13T10:09:15.481Z"
   },
   {
    "duration": 7,
    "start_time": "2023-02-13T10:09:34.950Z"
   },
   {
    "duration": 48,
    "start_time": "2023-02-13T10:09:55.730Z"
   },
   {
    "duration": 6,
    "start_time": "2023-02-13T10:10:33.819Z"
   },
   {
    "duration": 12,
    "start_time": "2023-02-13T10:10:40.269Z"
   },
   {
    "duration": 385,
    "start_time": "2023-02-13T10:11:17.017Z"
   },
   {
    "duration": 25,
    "start_time": "2023-02-13T10:11:24.499Z"
   },
   {
    "duration": 7,
    "start_time": "2023-02-13T10:17:05.606Z"
   },
   {
    "duration": 8,
    "start_time": "2023-02-13T10:17:27.335Z"
   },
   {
    "duration": 13,
    "start_time": "2023-02-13T10:17:28.561Z"
   },
   {
    "duration": 9,
    "start_time": "2023-02-13T10:17:29.609Z"
   },
   {
    "duration": 13,
    "start_time": "2023-02-13T10:18:15.854Z"
   },
   {
    "duration": 11,
    "start_time": "2023-02-13T10:18:24.808Z"
   },
   {
    "duration": 11,
    "start_time": "2023-02-13T10:18:28.681Z"
   },
   {
    "duration": 3,
    "start_time": "2023-02-13T10:18:32.594Z"
   },
   {
    "duration": 119,
    "start_time": "2023-02-13T10:18:32.599Z"
   },
   {
    "duration": 35,
    "start_time": "2023-02-13T10:18:32.720Z"
   },
   {
    "duration": 13,
    "start_time": "2023-02-13T10:18:32.757Z"
   },
   {
    "duration": 25,
    "start_time": "2023-02-13T10:18:32.773Z"
   },
   {
    "duration": 5,
    "start_time": "2023-02-13T10:18:32.799Z"
   },
   {
    "duration": 1791,
    "start_time": "2023-02-13T10:18:32.806Z"
   },
   {
    "duration": 11,
    "start_time": "2023-02-13T10:18:34.598Z"
   },
   {
    "duration": 7,
    "start_time": "2023-02-13T10:18:34.610Z"
   },
   {
    "duration": 9,
    "start_time": "2023-02-13T10:18:34.619Z"
   },
   {
    "duration": 7,
    "start_time": "2023-02-13T10:18:34.653Z"
   },
   {
    "duration": 8,
    "start_time": "2023-02-13T10:18:34.661Z"
   },
   {
    "duration": 11,
    "start_time": "2023-02-13T10:18:34.670Z"
   },
   {
    "duration": 4,
    "start_time": "2023-02-13T10:18:34.683Z"
   },
   {
    "duration": 13,
    "start_time": "2023-02-13T10:18:34.689Z"
   },
   {
    "duration": 11,
    "start_time": "2023-02-13T10:18:34.704Z"
   },
   {
    "duration": 36,
    "start_time": "2023-02-13T10:18:34.717Z"
   },
   {
    "duration": 14,
    "start_time": "2023-02-13T10:18:34.755Z"
   },
   {
    "duration": 7,
    "start_time": "2023-02-13T10:18:34.770Z"
   },
   {
    "duration": 10,
    "start_time": "2023-02-13T10:18:34.778Z"
   },
   {
    "duration": 5,
    "start_time": "2023-02-13T10:18:34.790Z"
   },
   {
    "duration": 10,
    "start_time": "2023-02-13T10:18:34.796Z"
   },
   {
    "duration": 6,
    "start_time": "2023-02-13T10:18:34.808Z"
   },
   {
    "duration": 44,
    "start_time": "2023-02-13T10:18:34.816Z"
   },
   {
    "duration": 7,
    "start_time": "2023-02-13T10:18:34.862Z"
   },
   {
    "duration": 16,
    "start_time": "2023-02-13T10:18:34.871Z"
   },
   {
    "duration": 6,
    "start_time": "2023-02-13T10:18:34.889Z"
   },
   {
    "duration": 6,
    "start_time": "2023-02-13T10:18:34.896Z"
   },
   {
    "duration": 6,
    "start_time": "2023-02-13T10:18:34.905Z"
   },
   {
    "duration": 109,
    "start_time": "2023-02-13T10:18:34.913Z"
   },
   {
    "duration": 8,
    "start_time": "2023-02-13T10:18:35.024Z"
   },
   {
    "duration": 26,
    "start_time": "2023-02-13T10:18:35.034Z"
   },
   {
    "duration": 11,
    "start_time": "2023-02-13T10:18:35.062Z"
   },
   {
    "duration": 19,
    "start_time": "2023-02-13T10:18:35.075Z"
   },
   {
    "duration": 13,
    "start_time": "2023-02-13T10:18:35.095Z"
   },
   {
    "duration": 10,
    "start_time": "2023-02-13T10:18:35.109Z"
   },
   {
    "duration": 5,
    "start_time": "2023-02-13T10:18:35.120Z"
   },
   {
    "duration": 8,
    "start_time": "2023-02-13T10:18:35.126Z"
   },
   {
    "duration": 24,
    "start_time": "2023-02-13T10:18:35.135Z"
   },
   {
    "duration": 14,
    "start_time": "2023-02-13T10:18:35.160Z"
   },
   {
    "duration": 11,
    "start_time": "2023-02-13T10:18:35.176Z"
   },
   {
    "duration": 25,
    "start_time": "2023-02-13T10:18:35.188Z"
   },
   {
    "duration": 17,
    "start_time": "2023-02-13T10:18:35.214Z"
   },
   {
    "duration": 27,
    "start_time": "2023-02-13T10:18:35.233Z"
   },
   {
    "duration": 31,
    "start_time": "2023-02-13T10:18:35.262Z"
   },
   {
    "duration": 4,
    "start_time": "2023-02-13T10:18:35.294Z"
   },
   {
    "duration": 25,
    "start_time": "2023-02-13T10:18:35.300Z"
   },
   {
    "duration": 33,
    "start_time": "2023-02-13T10:18:35.328Z"
   },
   {
    "duration": 12,
    "start_time": "2023-02-13T10:18:35.362Z"
   },
   {
    "duration": 5,
    "start_time": "2023-02-13T10:18:35.375Z"
   },
   {
    "duration": 268,
    "start_time": "2023-02-13T10:18:35.381Z"
   },
   {
    "duration": 16,
    "start_time": "2023-02-13T10:18:35.653Z"
   },
   {
    "duration": 34,
    "start_time": "2023-02-13T10:18:35.670Z"
   },
   {
    "duration": 9,
    "start_time": "2023-02-13T10:18:35.706Z"
   },
   {
    "duration": 261,
    "start_time": "2023-02-13T10:18:35.716Z"
   },
   {
    "duration": 9,
    "start_time": "2023-02-13T10:18:35.979Z"
   },
   {
    "duration": 227,
    "start_time": "2023-02-13T10:18:35.990Z"
   },
   {
    "duration": 249,
    "start_time": "2023-02-13T10:18:55.449Z"
   },
   {
    "duration": 230,
    "start_time": "2023-02-13T10:19:21.824Z"
   },
   {
    "duration": 10,
    "start_time": "2023-02-13T10:19:27.343Z"
   },
   {
    "duration": 9,
    "start_time": "2023-02-13T10:19:33.688Z"
   },
   {
    "duration": 8,
    "start_time": "2023-02-13T10:21:52.640Z"
   },
   {
    "duration": 10,
    "start_time": "2023-02-13T10:22:03.478Z"
   },
   {
    "duration": 142,
    "start_time": "2023-02-13T10:22:43.144Z"
   },
   {
    "duration": 149,
    "start_time": "2023-02-13T10:23:03.419Z"
   },
   {
    "duration": 356,
    "start_time": "2023-02-13T10:23:22.586Z"
   },
   {
    "duration": 413,
    "start_time": "2023-02-13T10:24:06.874Z"
   },
   {
    "duration": 13,
    "start_time": "2023-02-13T10:24:42.969Z"
   },
   {
    "duration": 185,
    "start_time": "2023-02-13T10:24:48.567Z"
   },
   {
    "duration": 18,
    "start_time": "2023-02-13T10:24:54.951Z"
   },
   {
    "duration": 11,
    "start_time": "2023-02-13T10:24:59.128Z"
   },
   {
    "duration": 9,
    "start_time": "2023-02-13T10:25:10.027Z"
   },
   {
    "duration": 7,
    "start_time": "2023-02-13T10:25:20.708Z"
   },
   {
    "duration": 9,
    "start_time": "2023-02-13T10:25:27.904Z"
   },
   {
    "duration": 195,
    "start_time": "2023-02-13T10:26:54.461Z"
   },
   {
    "duration": 609,
    "start_time": "2023-02-13T10:27:15.780Z"
   },
   {
    "duration": 7,
    "start_time": "2023-02-13T10:27:38.662Z"
   },
   {
    "duration": 7,
    "start_time": "2023-02-13T10:27:42.685Z"
   },
   {
    "duration": 9,
    "start_time": "2023-02-13T10:27:56.047Z"
   },
   {
    "duration": 204,
    "start_time": "2023-02-13T10:28:03.656Z"
   },
   {
    "duration": 175,
    "start_time": "2023-02-13T10:28:22.264Z"
   },
   {
    "duration": 205,
    "start_time": "2023-02-13T10:28:30.874Z"
   },
   {
    "duration": 437,
    "start_time": "2023-02-13T11:49:25.359Z"
   },
   {
    "duration": 303,
    "start_time": "2023-02-13T11:49:25.798Z"
   },
   {
    "duration": 34,
    "start_time": "2023-02-13T11:49:26.103Z"
   },
   {
    "duration": 20,
    "start_time": "2023-02-13T11:49:26.139Z"
   },
   {
    "duration": 35,
    "start_time": "2023-02-13T11:49:26.161Z"
   },
   {
    "duration": 5,
    "start_time": "2023-02-13T11:49:26.197Z"
   },
   {
    "duration": 2370,
    "start_time": "2023-02-13T11:49:26.203Z"
   },
   {
    "duration": 10,
    "start_time": "2023-02-13T11:49:28.575Z"
   },
   {
    "duration": 9,
    "start_time": "2023-02-13T11:49:28.587Z"
   },
   {
    "duration": 10,
    "start_time": "2023-02-13T11:49:28.598Z"
   },
   {
    "duration": 25,
    "start_time": "2023-02-13T11:49:28.609Z"
   },
   {
    "duration": 13,
    "start_time": "2023-02-13T11:49:28.635Z"
   },
   {
    "duration": 11,
    "start_time": "2023-02-13T11:49:28.650Z"
   },
   {
    "duration": 4,
    "start_time": "2023-02-13T11:49:28.663Z"
   },
   {
    "duration": 24,
    "start_time": "2023-02-13T11:49:28.669Z"
   },
   {
    "duration": 10,
    "start_time": "2023-02-13T11:49:28.694Z"
   },
   {
    "duration": 10,
    "start_time": "2023-02-13T11:49:28.707Z"
   },
   {
    "duration": 9,
    "start_time": "2023-02-13T11:49:28.719Z"
   },
   {
    "duration": 9,
    "start_time": "2023-02-13T11:49:28.730Z"
   },
   {
    "duration": 19,
    "start_time": "2023-02-13T11:49:28.741Z"
   },
   {
    "duration": 31,
    "start_time": "2023-02-13T11:49:28.762Z"
   },
   {
    "duration": 9,
    "start_time": "2023-02-13T11:49:28.795Z"
   },
   {
    "duration": 8,
    "start_time": "2023-02-13T11:49:28.806Z"
   },
   {
    "duration": 14,
    "start_time": "2023-02-13T11:49:28.815Z"
   },
   {
    "duration": 20,
    "start_time": "2023-02-13T11:49:28.831Z"
   },
   {
    "duration": 13,
    "start_time": "2023-02-13T11:49:28.853Z"
   },
   {
    "duration": 28,
    "start_time": "2023-02-13T11:49:28.868Z"
   },
   {
    "duration": 7,
    "start_time": "2023-02-13T11:49:28.901Z"
   },
   {
    "duration": 13,
    "start_time": "2023-02-13T11:49:28.910Z"
   },
   {
    "duration": 107,
    "start_time": "2023-02-13T11:49:28.925Z"
   },
   {
    "duration": 10,
    "start_time": "2023-02-13T11:49:29.034Z"
   },
   {
    "duration": 15,
    "start_time": "2023-02-13T11:49:29.046Z"
   },
   {
    "duration": 31,
    "start_time": "2023-02-13T11:49:29.062Z"
   },
   {
    "duration": 9,
    "start_time": "2023-02-13T11:49:29.094Z"
   },
   {
    "duration": 6,
    "start_time": "2023-02-13T11:49:29.105Z"
   },
   {
    "duration": 15,
    "start_time": "2023-02-13T11:49:29.112Z"
   },
   {
    "duration": 8,
    "start_time": "2023-02-13T11:49:29.129Z"
   },
   {
    "duration": 10,
    "start_time": "2023-02-13T11:49:29.140Z"
   },
   {
    "duration": 42,
    "start_time": "2023-02-13T11:49:29.152Z"
   },
   {
    "duration": 11,
    "start_time": "2023-02-13T11:49:29.195Z"
   },
   {
    "duration": 10,
    "start_time": "2023-02-13T11:49:29.208Z"
   },
   {
    "duration": 14,
    "start_time": "2023-02-13T11:49:29.220Z"
   },
   {
    "duration": 23,
    "start_time": "2023-02-13T11:49:29.236Z"
   },
   {
    "duration": 48,
    "start_time": "2023-02-13T11:49:29.261Z"
   },
   {
    "duration": 33,
    "start_time": "2023-02-13T11:49:29.311Z"
   },
   {
    "duration": 4,
    "start_time": "2023-02-13T11:49:29.346Z"
   },
   {
    "duration": 15,
    "start_time": "2023-02-13T11:49:29.351Z"
   },
   {
    "duration": 5,
    "start_time": "2023-02-13T11:49:29.368Z"
   },
   {
    "duration": 17,
    "start_time": "2023-02-13T11:49:29.375Z"
   },
   {
    "duration": 3,
    "start_time": "2023-02-13T11:49:29.394Z"
   },
   {
    "duration": 287,
    "start_time": "2023-02-13T11:49:29.399Z"
   },
   {
    "duration": 16,
    "start_time": "2023-02-13T11:49:29.688Z"
   },
   {
    "duration": 33,
    "start_time": "2023-02-13T11:49:29.705Z"
   },
   {
    "duration": 206,
    "start_time": "2023-02-13T11:49:29.740Z"
   },
   {
    "duration": 9,
    "start_time": "2023-02-13T11:49:29.947Z"
   },
   {
    "duration": 253,
    "start_time": "2023-02-13T11:49:29.957Z"
   },
   {
    "duration": 9,
    "start_time": "2023-02-13T11:49:30.212Z"
   },
   {
    "duration": 326,
    "start_time": "2023-02-13T11:49:30.223Z"
   },
   {
    "duration": 228,
    "start_time": "2023-02-13T11:49:30.551Z"
   },
   {
    "duration": 31,
    "start_time": "2023-02-13T11:49:50.941Z"
   },
   {
    "duration": 4,
    "start_time": "2023-02-13T11:51:04.331Z"
   },
   {
    "duration": 11,
    "start_time": "2023-02-13T11:51:05.291Z"
   },
   {
    "duration": 407,
    "start_time": "2023-02-13T11:51:24.983Z"
   },
   {
    "duration": 216,
    "start_time": "2023-02-13T11:52:02.746Z"
   },
   {
    "duration": 194,
    "start_time": "2023-02-13T11:52:13.048Z"
   },
   {
    "duration": 177,
    "start_time": "2023-02-13T11:52:22.713Z"
   },
   {
    "duration": 4,
    "start_time": "2023-02-13T11:53:01.435Z"
   },
   {
    "duration": 193,
    "start_time": "2023-02-13T11:53:20.777Z"
   },
   {
    "duration": 180,
    "start_time": "2023-02-13T11:54:12.114Z"
   },
   {
    "duration": 209,
    "start_time": "2023-02-13T11:54:41.188Z"
   },
   {
    "duration": 311,
    "start_time": "2023-02-13T11:55:18.459Z"
   },
   {
    "duration": 193,
    "start_time": "2023-02-13T11:56:09.826Z"
   },
   {
    "duration": 212,
    "start_time": "2023-02-13T11:56:25.239Z"
   },
   {
    "duration": 216,
    "start_time": "2023-02-13T11:56:30.428Z"
   },
   {
    "duration": 201,
    "start_time": "2023-02-13T11:56:40.733Z"
   },
   {
    "duration": 193,
    "start_time": "2023-02-13T11:56:48.044Z"
   },
   {
    "duration": 4,
    "start_time": "2023-02-13T11:56:55.745Z"
   },
   {
    "duration": 306,
    "start_time": "2023-02-13T11:56:58.339Z"
   },
   {
    "duration": 81,
    "start_time": "2023-02-13T11:57:13.868Z"
   },
   {
    "duration": 75,
    "start_time": "2023-02-13T11:57:23.915Z"
   },
   {
    "duration": 73,
    "start_time": "2023-02-13T11:57:37.485Z"
   },
   {
    "duration": 3,
    "start_time": "2023-02-13T11:57:55.614Z"
   },
   {
    "duration": 132,
    "start_time": "2023-02-13T11:57:58.586Z"
   },
   {
    "duration": 254,
    "start_time": "2023-02-13T11:58:13.723Z"
   },
   {
    "duration": 369,
    "start_time": "2023-02-13T11:58:18.237Z"
   },
   {
    "duration": 197,
    "start_time": "2023-02-13T11:58:22.576Z"
   },
   {
    "duration": 3,
    "start_time": "2023-02-13T11:58:28.743Z"
   },
   {
    "duration": 221,
    "start_time": "2023-02-13T11:58:51.132Z"
   },
   {
    "duration": 217,
    "start_time": "2023-02-13T11:59:19.059Z"
   },
   {
    "duration": 16,
    "start_time": "2023-02-13T11:59:56.215Z"
   },
   {
    "duration": 16,
    "start_time": "2023-02-13T11:59:59.776Z"
   },
   {
    "duration": 11,
    "start_time": "2023-02-13T12:00:09.919Z"
   },
   {
    "duration": 306,
    "start_time": "2023-02-13T12:00:40.377Z"
   },
   {
    "duration": 191,
    "start_time": "2023-02-13T12:01:14.483Z"
   },
   {
    "duration": 372,
    "start_time": "2023-02-13T12:01:35.395Z"
   },
   {
    "duration": 192,
    "start_time": "2023-02-13T12:02:32.724Z"
   },
   {
    "duration": 383,
    "start_time": "2023-02-13T12:02:38.612Z"
   },
   {
    "duration": 538,
    "start_time": "2023-02-13T12:02:51.216Z"
   },
   {
    "duration": 371,
    "start_time": "2023-02-13T12:02:58.244Z"
   },
   {
    "duration": 185,
    "start_time": "2023-02-13T12:03:30.809Z"
   },
   {
    "duration": 405,
    "start_time": "2023-02-13T12:03:36.222Z"
   },
   {
    "duration": 185,
    "start_time": "2023-02-13T12:04:39.281Z"
   },
   {
    "duration": 207,
    "start_time": "2023-02-13T12:05:27.772Z"
   },
   {
    "duration": 237,
    "start_time": "2023-02-13T12:05:31.530Z"
   },
   {
    "duration": 402,
    "start_time": "2023-02-13T12:05:43.035Z"
   },
   {
    "duration": 196,
    "start_time": "2023-02-13T12:05:47.564Z"
   },
   {
    "duration": 185,
    "start_time": "2023-02-13T12:05:50.910Z"
   },
   {
    "duration": 4,
    "start_time": "2023-02-13T12:06:26.050Z"
   },
   {
    "duration": 279,
    "start_time": "2023-02-13T12:06:26.504Z"
   },
   {
    "duration": 279,
    "start_time": "2023-02-13T12:06:26.924Z"
   },
   {
    "duration": 255,
    "start_time": "2023-02-13T12:06:27.257Z"
   },
   {
    "duration": 400,
    "start_time": "2023-02-13T12:06:27.513Z"
   },
   {
    "duration": 265,
    "start_time": "2023-02-13T12:06:27.915Z"
   },
   {
    "duration": 214,
    "start_time": "2023-02-13T12:06:28.181Z"
   },
   {
    "duration": 264,
    "start_time": "2023-02-13T12:06:28.398Z"
   },
   {
    "duration": 256,
    "start_time": "2023-02-13T12:06:28.664Z"
   },
   {
    "duration": 503,
    "start_time": "2023-02-13T12:06:28.922Z"
   },
   {
    "duration": 380,
    "start_time": "2023-02-13T12:06:29.427Z"
   },
   {
    "duration": 399,
    "start_time": "2023-02-13T12:06:29.809Z"
   },
   {
    "duration": 282,
    "start_time": "2023-02-13T12:06:30.210Z"
   },
   {
    "duration": 416,
    "start_time": "2023-02-13T12:06:30.493Z"
   },
   {
    "duration": 274,
    "start_time": "2023-02-13T12:06:30.911Z"
   },
   {
    "duration": 259,
    "start_time": "2023-02-13T12:07:06.940Z"
   },
   {
    "duration": 44,
    "start_time": "2023-02-13T13:50:42.773Z"
   },
   {
    "duration": 386,
    "start_time": "2023-02-13T13:50:46.983Z"
   },
   {
    "duration": 150,
    "start_time": "2023-02-13T13:50:47.371Z"
   },
   {
    "duration": 39,
    "start_time": "2023-02-13T13:50:47.523Z"
   },
   {
    "duration": 17,
    "start_time": "2023-02-13T13:50:47.565Z"
   },
   {
    "duration": 28,
    "start_time": "2023-02-13T13:50:47.584Z"
   },
   {
    "duration": 41,
    "start_time": "2023-02-13T13:50:47.615Z"
   },
   {
    "duration": 2232,
    "start_time": "2023-02-13T13:50:47.658Z"
   },
   {
    "duration": 9,
    "start_time": "2023-02-13T13:50:49.892Z"
   },
   {
    "duration": 11,
    "start_time": "2023-02-13T13:50:49.903Z"
   },
   {
    "duration": 7,
    "start_time": "2023-02-13T13:50:49.917Z"
   },
   {
    "duration": 6,
    "start_time": "2023-02-13T13:50:49.925Z"
   },
   {
    "duration": 12,
    "start_time": "2023-02-13T13:50:49.933Z"
   },
   {
    "duration": 11,
    "start_time": "2023-02-13T13:50:49.947Z"
   },
   {
    "duration": 5,
    "start_time": "2023-02-13T13:50:49.959Z"
   },
   {
    "duration": 6,
    "start_time": "2023-02-13T13:50:49.965Z"
   },
   {
    "duration": 7,
    "start_time": "2023-02-13T13:50:49.973Z"
   },
   {
    "duration": 10,
    "start_time": "2023-02-13T13:50:49.981Z"
   },
   {
    "duration": 4,
    "start_time": "2023-02-13T13:50:49.993Z"
   },
   {
    "duration": 6,
    "start_time": "2023-02-13T13:50:49.998Z"
   },
   {
    "duration": 7,
    "start_time": "2023-02-13T13:50:50.005Z"
   },
   {
    "duration": 40,
    "start_time": "2023-02-13T13:50:50.014Z"
   },
   {
    "duration": 10,
    "start_time": "2023-02-13T13:50:50.056Z"
   },
   {
    "duration": 5,
    "start_time": "2023-02-13T13:50:50.068Z"
   },
   {
    "duration": 13,
    "start_time": "2023-02-13T13:50:50.074Z"
   },
   {
    "duration": 6,
    "start_time": "2023-02-13T13:50:50.088Z"
   },
   {
    "duration": 8,
    "start_time": "2023-02-13T13:50:50.095Z"
   },
   {
    "duration": 7,
    "start_time": "2023-02-13T13:50:50.104Z"
   },
   {
    "duration": 6,
    "start_time": "2023-02-13T13:50:50.154Z"
   },
   {
    "duration": 9,
    "start_time": "2023-02-13T13:50:50.161Z"
   },
   {
    "duration": 91,
    "start_time": "2023-02-13T13:50:50.172Z"
   },
   {
    "duration": 8,
    "start_time": "2023-02-13T13:50:50.264Z"
   },
   {
    "duration": 31,
    "start_time": "2023-02-13T13:50:50.273Z"
   },
   {
    "duration": 15,
    "start_time": "2023-02-13T13:50:50.305Z"
   },
   {
    "duration": 21,
    "start_time": "2023-02-13T13:50:50.321Z"
   },
   {
    "duration": 12,
    "start_time": "2023-02-13T13:50:50.344Z"
   },
   {
    "duration": 22,
    "start_time": "2023-02-13T13:50:50.357Z"
   },
   {
    "duration": 4,
    "start_time": "2023-02-13T13:50:50.381Z"
   },
   {
    "duration": 7,
    "start_time": "2023-02-13T13:50:50.386Z"
   },
   {
    "duration": 24,
    "start_time": "2023-02-13T13:50:50.395Z"
   },
   {
    "duration": 19,
    "start_time": "2023-02-13T13:50:50.420Z"
   },
   {
    "duration": 5,
    "start_time": "2023-02-13T13:50:50.441Z"
   },
   {
    "duration": 18,
    "start_time": "2023-02-13T13:50:50.447Z"
   },
   {
    "duration": 40,
    "start_time": "2023-02-13T13:50:50.466Z"
   },
   {
    "duration": 15,
    "start_time": "2023-02-13T13:50:50.508Z"
   },
   {
    "duration": 28,
    "start_time": "2023-02-13T13:50:50.524Z"
   },
   {
    "duration": 5,
    "start_time": "2023-02-13T13:50:50.554Z"
   },
   {
    "duration": 13,
    "start_time": "2023-02-13T13:50:50.560Z"
   },
   {
    "duration": 6,
    "start_time": "2023-02-13T13:50:50.575Z"
   },
   {
    "duration": 6,
    "start_time": "2023-02-13T13:50:50.583Z"
   },
   {
    "duration": 8,
    "start_time": "2023-02-13T13:50:50.591Z"
   },
   {
    "duration": 286,
    "start_time": "2023-02-13T13:50:50.601Z"
   },
   {
    "duration": 14,
    "start_time": "2023-02-13T13:50:50.889Z"
   },
   {
    "duration": 20,
    "start_time": "2023-02-13T13:50:50.905Z"
   },
   {
    "duration": 252,
    "start_time": "2023-02-13T13:50:50.926Z"
   },
   {
    "duration": 292,
    "start_time": "2023-02-13T13:50:51.180Z"
   },
   {
    "duration": 266,
    "start_time": "2023-02-13T13:50:51.474Z"
   },
   {
    "duration": 235,
    "start_time": "2023-02-13T13:50:51.742Z"
   },
   {
    "duration": 264,
    "start_time": "2023-02-13T13:50:51.979Z"
   },
   {
    "duration": 246,
    "start_time": "2023-02-13T13:50:52.245Z"
   },
   {
    "duration": 195,
    "start_time": "2023-02-13T13:50:52.493Z"
   },
   {
    "duration": 327,
    "start_time": "2023-02-13T13:50:52.690Z"
   },
   {
    "duration": 242,
    "start_time": "2023-02-13T13:50:53.018Z"
   },
   {
    "duration": 356,
    "start_time": "2023-02-13T13:50:53.262Z"
   },
   {
    "duration": 371,
    "start_time": "2023-02-13T13:50:53.619Z"
   },
   {
    "duration": 465,
    "start_time": "2023-02-13T13:50:53.992Z"
   },
   {
    "duration": 245,
    "start_time": "2023-02-13T13:50:54.459Z"
   },
   {
    "duration": 269,
    "start_time": "2023-02-13T13:50:54.705Z"
   },
   {
    "duration": 238,
    "start_time": "2023-02-13T13:50:54.976Z"
   },
   {
    "duration": 264,
    "start_time": "2023-02-13T13:50:55.216Z"
   },
   {
    "duration": 174,
    "start_time": "2023-02-13T13:51:07.862Z"
   },
   {
    "duration": 352,
    "start_time": "2023-02-13T13:54:44.592Z"
   },
   {
    "duration": 236,
    "start_time": "2023-02-13T13:55:24.873Z"
   },
   {
    "duration": 242,
    "start_time": "2023-02-13T13:55:40.183Z"
   },
   {
    "duration": 3,
    "start_time": "2023-02-13T13:56:41.250Z"
   },
   {
    "duration": 1511,
    "start_time": "2023-02-13T13:59:07.004Z"
   },
   {
    "duration": 2298,
    "start_time": "2023-02-13T13:59:16.561Z"
   },
   {
    "duration": 1536,
    "start_time": "2023-02-13T13:59:32.178Z"
   },
   {
    "duration": 1571,
    "start_time": "2023-02-13T14:00:11.410Z"
   },
   {
    "duration": 2447,
    "start_time": "2023-02-13T14:01:54.348Z"
   },
   {
    "duration": 48,
    "start_time": "2023-02-13T14:02:07.994Z"
   },
   {
    "duration": 52,
    "start_time": "2023-02-13T14:03:23.282Z"
   },
   {
    "duration": 16,
    "start_time": "2023-02-13T14:04:36.343Z"
   },
   {
    "duration": 40,
    "start_time": "2023-02-13T14:06:02.089Z"
   },
   {
    "duration": 9,
    "start_time": "2023-02-13T14:06:10.602Z"
   },
   {
    "duration": 21,
    "start_time": "2023-02-13T14:06:32.102Z"
   },
   {
    "duration": 9,
    "start_time": "2023-02-13T14:08:10.753Z"
   },
   {
    "duration": 28,
    "start_time": "2023-02-13T14:08:32.410Z"
   },
   {
    "duration": 27,
    "start_time": "2023-02-13T14:09:46.467Z"
   },
   {
    "duration": 26,
    "start_time": "2023-02-13T14:11:15.832Z"
   },
   {
    "duration": 41,
    "start_time": "2023-02-13T14:12:57.586Z"
   },
   {
    "duration": 84,
    "start_time": "2023-02-13T14:13:12.813Z"
   },
   {
    "duration": 1098,
    "start_time": "2023-02-13T14:14:31.046Z"
   },
   {
    "duration": 35,
    "start_time": "2023-02-13T14:14:52.543Z"
   },
   {
    "duration": 25,
    "start_time": "2023-02-13T14:16:01.405Z"
   },
   {
    "duration": 34,
    "start_time": "2023-02-13T14:16:58.502Z"
   },
   {
    "duration": 28,
    "start_time": "2023-02-13T14:17:05.106Z"
   },
   {
    "duration": 17,
    "start_time": "2023-02-13T14:17:41.400Z"
   },
   {
    "duration": 15,
    "start_time": "2023-02-13T14:18:01.304Z"
   },
   {
    "duration": 15,
    "start_time": "2023-02-13T14:18:12.309Z"
   },
   {
    "duration": 40,
    "start_time": "2023-02-13T14:18:20.427Z"
   },
   {
    "duration": 45,
    "start_time": "2023-02-13T14:18:27.626Z"
   },
   {
    "duration": 29,
    "start_time": "2023-02-13T14:18:32.790Z"
   },
   {
    "duration": 28,
    "start_time": "2023-02-13T14:18:55.533Z"
   },
   {
    "duration": 14,
    "start_time": "2023-02-13T14:19:35.046Z"
   },
   {
    "duration": 155,
    "start_time": "2023-02-13T14:19:51.714Z"
   },
   {
    "duration": 145,
    "start_time": "2023-02-13T14:20:23.868Z"
   },
   {
    "duration": 184,
    "start_time": "2023-02-13T14:20:39.767Z"
   },
   {
    "duration": 1311,
    "start_time": "2023-02-13T14:21:16.644Z"
   },
   {
    "duration": 23,
    "start_time": "2023-02-13T14:22:02.980Z"
   },
   {
    "duration": 22,
    "start_time": "2023-02-13T14:22:39.384Z"
   },
   {
    "duration": 1227,
    "start_time": "2023-02-13T14:22:46.615Z"
   },
   {
    "duration": 25,
    "start_time": "2023-02-13T14:24:56.118Z"
   },
   {
    "duration": 945,
    "start_time": "2023-02-13T14:25:00.855Z"
   },
   {
    "duration": 876,
    "start_time": "2023-02-13T14:25:15.696Z"
   },
   {
    "duration": 972,
    "start_time": "2023-02-13T14:25:27.712Z"
   },
   {
    "duration": 31,
    "start_time": "2023-02-13T14:25:43.940Z"
   },
   {
    "duration": 1138,
    "start_time": "2023-02-13T14:27:04.430Z"
   },
   {
    "duration": 2901,
    "start_time": "2023-02-13T14:27:41.370Z"
   },
   {
    "duration": 1832,
    "start_time": "2023-02-13T14:28:00.676Z"
   },
   {
    "duration": 197,
    "start_time": "2023-02-13T14:28:41.794Z"
   },
   {
    "duration": 24,
    "start_time": "2023-02-13T14:28:50.938Z"
   },
   {
    "duration": 26,
    "start_time": "2023-02-13T14:28:59.470Z"
   },
   {
    "duration": 299,
    "start_time": "2023-02-13T14:29:17.135Z"
   },
   {
    "duration": 279,
    "start_time": "2023-02-13T14:29:32.121Z"
   },
   {
    "duration": 30,
    "start_time": "2023-02-13T14:29:59.339Z"
   },
   {
    "duration": 20,
    "start_time": "2023-02-13T14:30:05.645Z"
   },
   {
    "duration": 19,
    "start_time": "2023-02-13T14:30:20.609Z"
   },
   {
    "duration": 22,
    "start_time": "2023-02-13T14:30:28.616Z"
   },
   {
    "duration": 22,
    "start_time": "2023-02-13T14:30:35.180Z"
   },
   {
    "duration": 20,
    "start_time": "2023-02-13T14:30:41.283Z"
   },
   {
    "duration": 270,
    "start_time": "2023-02-13T14:30:50.324Z"
   },
   {
    "duration": 21,
    "start_time": "2023-02-13T14:31:04.688Z"
   },
   {
    "duration": 21,
    "start_time": "2023-02-13T14:31:14.253Z"
   },
   {
    "duration": 20,
    "start_time": "2023-02-13T14:31:23.122Z"
   },
   {
    "duration": 100,
    "start_time": "2023-02-13T14:44:51.727Z"
   },
   {
    "duration": 11,
    "start_time": "2023-02-13T14:45:01.501Z"
   },
   {
    "duration": 16,
    "start_time": "2023-02-13T14:45:08.808Z"
   },
   {
    "duration": 12,
    "start_time": "2023-02-13T14:45:21.417Z"
   },
   {
    "duration": 20,
    "start_time": "2023-02-13T14:45:27.660Z"
   },
   {
    "duration": 15,
    "start_time": "2023-02-13T14:45:36.653Z"
   },
   {
    "duration": 133,
    "start_time": "2023-02-13T14:45:54.195Z"
   },
   {
    "duration": 133,
    "start_time": "2023-02-13T14:46:05.150Z"
   },
   {
    "duration": 136,
    "start_time": "2023-02-13T14:46:26.661Z"
   },
   {
    "duration": 122,
    "start_time": "2023-02-13T14:46:47.061Z"
   },
   {
    "duration": 134,
    "start_time": "2023-02-13T14:47:24.679Z"
   },
   {
    "duration": 428,
    "start_time": "2023-02-13T14:47:47.069Z"
   },
   {
    "duration": 318,
    "start_time": "2023-02-13T14:47:59.022Z"
   },
   {
    "duration": 663,
    "start_time": "2023-02-13T14:48:58.009Z"
   },
   {
    "duration": 44,
    "start_time": "2023-02-13T14:51:54.422Z"
   },
   {
    "duration": 12,
    "start_time": "2023-02-13T14:52:00.003Z"
   },
   {
    "duration": 15,
    "start_time": "2023-02-13T14:52:42.399Z"
   },
   {
    "duration": 250,
    "start_time": "2023-02-13T14:52:49.060Z"
   },
   {
    "duration": 18,
    "start_time": "2023-02-13T14:53:01.330Z"
   },
   {
    "duration": 10,
    "start_time": "2023-02-13T14:53:19.540Z"
   },
   {
    "duration": 16,
    "start_time": "2023-02-13T14:53:24.398Z"
   },
   {
    "duration": 23,
    "start_time": "2023-02-13T14:53:48.438Z"
   },
   {
    "duration": 14,
    "start_time": "2023-02-13T14:54:04.348Z"
   },
   {
    "duration": 42,
    "start_time": "2023-02-13T14:54:21.339Z"
   },
   {
    "duration": 30,
    "start_time": "2023-02-13T14:54:53.456Z"
   },
   {
    "duration": 44,
    "start_time": "2023-02-13T14:54:57.949Z"
   },
   {
    "duration": 44,
    "start_time": "2023-02-13T14:59:28.263Z"
   },
   {
    "duration": 36,
    "start_time": "2023-02-13T15:01:08.211Z"
   },
   {
    "duration": 3,
    "start_time": "2023-02-13T15:02:11.426Z"
   },
   {
    "duration": 75,
    "start_time": "2023-02-13T15:02:12.148Z"
   },
   {
    "duration": 23,
    "start_time": "2023-02-13T15:02:13.091Z"
   },
   {
    "duration": 3,
    "start_time": "2023-02-13T15:20:32.765Z"
   },
   {
    "duration": 94,
    "start_time": "2023-02-13T15:20:32.771Z"
   },
   {
    "duration": 24,
    "start_time": "2023-02-13T15:20:32.867Z"
   },
   {
    "duration": 28,
    "start_time": "2023-02-13T15:20:32.892Z"
   },
   {
    "duration": 32,
    "start_time": "2023-02-13T15:20:32.922Z"
   },
   {
    "duration": 4,
    "start_time": "2023-02-13T15:20:32.955Z"
   },
   {
    "duration": 1748,
    "start_time": "2023-02-13T15:20:32.960Z"
   },
   {
    "duration": 10,
    "start_time": "2023-02-13T15:20:34.710Z"
   },
   {
    "duration": 11,
    "start_time": "2023-02-13T15:20:34.722Z"
   },
   {
    "duration": 23,
    "start_time": "2023-02-13T15:20:34.735Z"
   },
   {
    "duration": 12,
    "start_time": "2023-02-13T15:20:34.760Z"
   },
   {
    "duration": 22,
    "start_time": "2023-02-13T15:20:34.774Z"
   },
   {
    "duration": 12,
    "start_time": "2023-02-13T15:20:34.798Z"
   },
   {
    "duration": 4,
    "start_time": "2023-02-13T15:20:34.813Z"
   },
   {
    "duration": 6,
    "start_time": "2023-02-13T15:20:34.819Z"
   },
   {
    "duration": 26,
    "start_time": "2023-02-13T15:20:34.827Z"
   },
   {
    "duration": 6,
    "start_time": "2023-02-13T15:20:34.855Z"
   },
   {
    "duration": 11,
    "start_time": "2023-02-13T15:20:34.862Z"
   },
   {
    "duration": 18,
    "start_time": "2023-02-13T15:20:34.874Z"
   },
   {
    "duration": 116,
    "start_time": "2023-02-13T15:20:34.893Z"
   },
   {
    "duration": 6,
    "start_time": "2023-02-13T15:20:35.011Z"
   },
   {
    "duration": 22,
    "start_time": "2023-02-13T15:20:35.019Z"
   },
   {
    "duration": 12,
    "start_time": "2023-02-13T15:20:35.043Z"
   },
   {
    "duration": 37,
    "start_time": "2023-02-13T15:20:35.057Z"
   },
   {
    "duration": 10,
    "start_time": "2023-02-13T15:20:35.096Z"
   },
   {
    "duration": 13,
    "start_time": "2023-02-13T15:20:35.108Z"
   },
   {
    "duration": 9,
    "start_time": "2023-02-13T15:20:35.123Z"
   },
   {
    "duration": 19,
    "start_time": "2023-02-13T15:20:35.133Z"
   },
   {
    "duration": 8,
    "start_time": "2023-02-13T15:20:35.154Z"
   },
   {
    "duration": 80,
    "start_time": "2023-02-13T15:20:35.163Z"
   },
   {
    "duration": 10,
    "start_time": "2023-02-13T15:20:35.258Z"
   },
   {
    "duration": 24,
    "start_time": "2023-02-13T15:20:35.270Z"
   },
   {
    "duration": 12,
    "start_time": "2023-02-13T15:20:35.296Z"
   },
   {
    "duration": 12,
    "start_time": "2023-02-13T15:20:35.310Z"
   },
   {
    "duration": 7,
    "start_time": "2023-02-13T15:20:35.323Z"
   },
   {
    "duration": 29,
    "start_time": "2023-02-13T15:20:35.332Z"
   },
   {
    "duration": 9,
    "start_time": "2023-02-13T15:20:35.363Z"
   },
   {
    "duration": 20,
    "start_time": "2023-02-13T15:20:35.374Z"
   },
   {
    "duration": 8,
    "start_time": "2023-02-13T15:20:35.396Z"
   },
   {
    "duration": 11,
    "start_time": "2023-02-13T15:20:35.406Z"
   },
   {
    "duration": 7,
    "start_time": "2023-02-13T15:20:35.422Z"
   },
   {
    "duration": 26,
    "start_time": "2023-02-13T15:20:35.431Z"
   },
   {
    "duration": 20,
    "start_time": "2023-02-13T15:20:35.459Z"
   },
   {
    "duration": 22,
    "start_time": "2023-02-13T15:20:35.481Z"
   },
   {
    "duration": 58,
    "start_time": "2023-02-13T15:20:35.505Z"
   },
   {
    "duration": 4,
    "start_time": "2023-02-13T15:20:35.565Z"
   },
   {
    "duration": 16,
    "start_time": "2023-02-13T15:20:35.571Z"
   },
   {
    "duration": 33,
    "start_time": "2023-02-13T15:20:35.589Z"
   },
   {
    "duration": 21,
    "start_time": "2023-02-13T15:20:35.623Z"
   },
   {
    "duration": 6,
    "start_time": "2023-02-13T15:20:35.646Z"
   },
   {
    "duration": 259,
    "start_time": "2023-02-13T15:20:35.653Z"
   },
   {
    "duration": 17,
    "start_time": "2023-02-13T15:20:35.915Z"
   },
   {
    "duration": 34,
    "start_time": "2023-02-13T15:20:35.934Z"
   },
   {
    "duration": 260,
    "start_time": "2023-02-13T15:20:35.970Z"
   },
   {
    "duration": 248,
    "start_time": "2023-02-13T15:20:36.232Z"
   },
   {
    "duration": 277,
    "start_time": "2023-02-13T15:20:36.482Z"
   },
   {
    "duration": 257,
    "start_time": "2023-02-13T15:20:36.761Z"
   },
   {
    "duration": 423,
    "start_time": "2023-02-13T15:20:37.019Z"
   },
   {
    "duration": 303,
    "start_time": "2023-02-13T15:20:37.444Z"
   },
   {
    "duration": 191,
    "start_time": "2023-02-13T15:20:37.754Z"
   },
   {
    "duration": 231,
    "start_time": "2023-02-13T15:20:37.952Z"
   },
   {
    "duration": 240,
    "start_time": "2023-02-13T15:20:38.185Z"
   },
   {
    "duration": 502,
    "start_time": "2023-02-13T15:20:38.427Z"
   },
   {
    "duration": 369,
    "start_time": "2023-02-13T15:20:38.931Z"
   },
   {
    "duration": 390,
    "start_time": "2023-02-13T15:20:39.302Z"
   },
   {
    "duration": 220,
    "start_time": "2023-02-13T15:20:39.694Z"
   },
   {
    "duration": 262,
    "start_time": "2023-02-13T15:20:39.916Z"
   },
   {
    "duration": 507,
    "start_time": "2023-02-13T15:20:40.179Z"
   },
   {
    "duration": 306,
    "start_time": "2023-02-13T15:20:40.687Z"
   },
   {
    "duration": 47,
    "start_time": "2023-02-13T15:20:40.995Z"
   },
   {
    "duration": 9,
    "start_time": "2023-02-13T15:23:08.347Z"
   },
   {
    "duration": 6,
    "start_time": "2023-02-13T15:23:16.948Z"
   },
   {
    "duration": 7,
    "start_time": "2023-02-13T15:23:36.842Z"
   },
   {
    "duration": 7,
    "start_time": "2023-02-13T15:23:47.800Z"
   },
   {
    "duration": 50,
    "start_time": "2023-02-13T15:24:55.304Z"
   },
   {
    "duration": 7,
    "start_time": "2023-02-13T15:25:25.544Z"
   },
   {
    "duration": 40,
    "start_time": "2023-02-13T15:25:36.867Z"
   },
   {
    "duration": 47,
    "start_time": "2023-02-13T15:25:50.925Z"
   },
   {
    "duration": 79,
    "start_time": "2023-02-13T15:26:02.720Z"
   },
   {
    "duration": 40,
    "start_time": "2023-02-13T15:26:08.046Z"
   },
   {
    "duration": 47,
    "start_time": "2023-02-13T15:26:15.278Z"
   },
   {
    "duration": 3,
    "start_time": "2023-02-13T15:26:47.202Z"
   },
   {
    "duration": 85,
    "start_time": "2023-02-13T15:26:47.207Z"
   },
   {
    "duration": 26,
    "start_time": "2023-02-13T15:26:47.293Z"
   },
   {
    "duration": 36,
    "start_time": "2023-02-13T15:26:47.320Z"
   },
   {
    "duration": 21,
    "start_time": "2023-02-13T15:26:47.358Z"
   },
   {
    "duration": 3,
    "start_time": "2023-02-13T15:26:47.381Z"
   },
   {
    "duration": 1952,
    "start_time": "2023-02-13T15:26:47.385Z"
   },
   {
    "duration": 17,
    "start_time": "2023-02-13T15:26:49.339Z"
   },
   {
    "duration": 6,
    "start_time": "2023-02-13T15:26:49.358Z"
   },
   {
    "duration": 7,
    "start_time": "2023-02-13T15:26:49.365Z"
   },
   {
    "duration": 6,
    "start_time": "2023-02-13T15:26:49.373Z"
   },
   {
    "duration": 7,
    "start_time": "2023-02-13T15:26:49.381Z"
   },
   {
    "duration": 10,
    "start_time": "2023-02-13T15:26:49.389Z"
   },
   {
    "duration": 4,
    "start_time": "2023-02-13T15:26:49.402Z"
   },
   {
    "duration": 46,
    "start_time": "2023-02-13T15:26:49.408Z"
   },
   {
    "duration": 6,
    "start_time": "2023-02-13T15:26:49.456Z"
   },
   {
    "duration": 9,
    "start_time": "2023-02-13T15:26:49.464Z"
   },
   {
    "duration": 5,
    "start_time": "2023-02-13T15:26:49.474Z"
   },
   {
    "duration": 6,
    "start_time": "2023-02-13T15:26:49.481Z"
   },
   {
    "duration": 7,
    "start_time": "2023-02-13T15:26:49.489Z"
   },
   {
    "duration": 6,
    "start_time": "2023-02-13T15:26:49.498Z"
   },
   {
    "duration": 13,
    "start_time": "2023-02-13T15:26:49.505Z"
   },
   {
    "duration": 7,
    "start_time": "2023-02-13T15:26:49.554Z"
   },
   {
    "duration": 19,
    "start_time": "2023-02-13T15:26:49.563Z"
   },
   {
    "duration": 13,
    "start_time": "2023-02-13T15:26:49.583Z"
   },
   {
    "duration": 15,
    "start_time": "2023-02-13T15:26:49.597Z"
   },
   {
    "duration": 8,
    "start_time": "2023-02-13T15:26:49.613Z"
   },
   {
    "duration": 6,
    "start_time": "2023-02-13T15:26:49.622Z"
   },
   {
    "duration": 25,
    "start_time": "2023-02-13T15:26:49.629Z"
   },
   {
    "duration": 85,
    "start_time": "2023-02-13T15:26:49.656Z"
   },
   {
    "duration": 16,
    "start_time": "2023-02-13T15:26:49.743Z"
   },
   {
    "duration": 25,
    "start_time": "2023-02-13T15:26:49.761Z"
   },
   {
    "duration": 7,
    "start_time": "2023-02-13T15:26:49.789Z"
   },
   {
    "duration": 20,
    "start_time": "2023-02-13T15:26:49.798Z"
   },
   {
    "duration": 9,
    "start_time": "2023-02-13T15:26:49.820Z"
   },
   {
    "duration": 28,
    "start_time": "2023-02-13T15:26:49.831Z"
   },
   {
    "duration": 4,
    "start_time": "2023-02-13T15:26:49.861Z"
   },
   {
    "duration": 12,
    "start_time": "2023-02-13T15:26:49.867Z"
   },
   {
    "duration": 9,
    "start_time": "2023-02-13T15:26:49.881Z"
   },
   {
    "duration": 14,
    "start_time": "2023-02-13T15:26:49.891Z"
   },
   {
    "duration": 18,
    "start_time": "2023-02-13T15:26:49.908Z"
   },
   {
    "duration": 11,
    "start_time": "2023-02-13T15:26:49.928Z"
   },
   {
    "duration": 16,
    "start_time": "2023-02-13T15:26:49.940Z"
   },
   {
    "duration": 43,
    "start_time": "2023-02-13T15:26:49.958Z"
   },
   {
    "duration": 16,
    "start_time": "2023-02-13T15:26:50.003Z"
   },
   {
    "duration": 32,
    "start_time": "2023-02-13T15:26:50.021Z"
   },
   {
    "duration": 28,
    "start_time": "2023-02-13T15:26:50.055Z"
   },
   {
    "duration": 5,
    "start_time": "2023-02-13T15:26:50.084Z"
   },
   {
    "duration": 9,
    "start_time": "2023-02-13T15:26:50.090Z"
   },
   {
    "duration": 5,
    "start_time": "2023-02-13T15:26:50.102Z"
   },
   {
    "duration": 13,
    "start_time": "2023-02-13T15:26:50.108Z"
   },
   {
    "duration": 3,
    "start_time": "2023-02-13T15:26:50.123Z"
   },
   {
    "duration": 272,
    "start_time": "2023-02-13T15:26:50.127Z"
   },
   {
    "duration": 18,
    "start_time": "2023-02-13T15:26:50.400Z"
   },
   {
    "duration": 40,
    "start_time": "2023-02-13T15:26:50.419Z"
   },
   {
    "duration": 263,
    "start_time": "2023-02-13T15:26:50.461Z"
   },
   {
    "duration": 249,
    "start_time": "2023-02-13T15:26:50.727Z"
   },
   {
    "duration": 275,
    "start_time": "2023-02-13T15:26:50.978Z"
   },
   {
    "duration": 400,
    "start_time": "2023-02-13T15:26:51.255Z"
   },
   {
    "duration": 250,
    "start_time": "2023-02-13T15:26:51.657Z"
   },
   {
    "duration": 257,
    "start_time": "2023-02-13T15:26:51.909Z"
   },
   {
    "duration": 204,
    "start_time": "2023-02-13T15:26:52.168Z"
   },
   {
    "duration": 248,
    "start_time": "2023-02-13T15:26:52.373Z"
   },
   {
    "duration": 245,
    "start_time": "2023-02-13T15:26:52.622Z"
   },
   {
    "duration": 520,
    "start_time": "2023-02-13T15:26:52.869Z"
   },
   {
    "duration": 392,
    "start_time": "2023-02-13T15:26:53.391Z"
   },
   {
    "duration": 353,
    "start_time": "2023-02-13T15:26:53.785Z"
   },
   {
    "duration": 193,
    "start_time": "2023-02-13T15:26:54.140Z"
   },
   {
    "duration": 256,
    "start_time": "2023-02-13T15:26:54.335Z"
   },
   {
    "duration": 408,
    "start_time": "2023-02-13T15:26:54.593Z"
   },
   {
    "duration": 268,
    "start_time": "2023-02-13T15:26:55.003Z"
   },
   {
    "duration": 47,
    "start_time": "2023-02-13T15:26:55.273Z"
   },
   {
    "duration": 7,
    "start_time": "2023-02-13T15:28:40.934Z"
   },
   {
    "duration": 6,
    "start_time": "2023-02-13T15:28:46.642Z"
   },
   {
    "duration": 6,
    "start_time": "2023-02-13T15:28:49.514Z"
   },
   {
    "duration": 3,
    "start_time": "2023-02-13T15:28:53.630Z"
   },
   {
    "duration": 77,
    "start_time": "2023-02-13T15:28:53.638Z"
   },
   {
    "duration": 25,
    "start_time": "2023-02-13T15:28:53.988Z"
   },
   {
    "duration": 15,
    "start_time": "2023-02-13T15:28:54.014Z"
   },
   {
    "duration": 20,
    "start_time": "2023-02-13T15:28:54.031Z"
   },
   {
    "duration": 4,
    "start_time": "2023-02-13T15:28:54.053Z"
   },
   {
    "duration": 1900,
    "start_time": "2023-02-13T15:28:54.059Z"
   },
   {
    "duration": 10,
    "start_time": "2023-02-13T15:28:55.961Z"
   },
   {
    "duration": 7,
    "start_time": "2023-02-13T15:28:55.972Z"
   },
   {
    "duration": 8,
    "start_time": "2023-02-13T15:28:55.980Z"
   },
   {
    "duration": 7,
    "start_time": "2023-02-13T15:28:55.989Z"
   },
   {
    "duration": 8,
    "start_time": "2023-02-13T15:28:55.997Z"
   },
   {
    "duration": 53,
    "start_time": "2023-02-13T15:28:56.007Z"
   },
   {
    "duration": 5,
    "start_time": "2023-02-13T15:28:56.061Z"
   },
   {
    "duration": 7,
    "start_time": "2023-02-13T15:28:56.068Z"
   },
   {
    "duration": 7,
    "start_time": "2023-02-13T15:28:56.078Z"
   },
   {
    "duration": 5,
    "start_time": "2023-02-13T15:28:56.087Z"
   },
   {
    "duration": 19,
    "start_time": "2023-02-13T15:28:56.093Z"
   },
   {
    "duration": 5,
    "start_time": "2023-02-13T15:28:56.114Z"
   },
   {
    "duration": 33,
    "start_time": "2023-02-13T15:28:56.121Z"
   },
   {
    "duration": 5,
    "start_time": "2023-02-13T15:28:56.156Z"
   },
   {
    "duration": 11,
    "start_time": "2023-02-13T15:28:56.162Z"
   },
   {
    "duration": 6,
    "start_time": "2023-02-13T15:28:56.174Z"
   },
   {
    "duration": 12,
    "start_time": "2023-02-13T15:28:56.182Z"
   },
   {
    "duration": 4,
    "start_time": "2023-02-13T15:28:56.196Z"
   },
   {
    "duration": 14,
    "start_time": "2023-02-13T15:28:56.202Z"
   },
   {
    "duration": 38,
    "start_time": "2023-02-13T15:28:56.219Z"
   },
   {
    "duration": 10,
    "start_time": "2023-02-13T15:28:56.259Z"
   },
   {
    "duration": 6,
    "start_time": "2023-02-13T15:28:56.270Z"
   },
   {
    "duration": 108,
    "start_time": "2023-02-13T15:28:56.278Z"
   },
   {
    "duration": 8,
    "start_time": "2023-02-13T15:28:56.387Z"
   },
   {
    "duration": 11,
    "start_time": "2023-02-13T15:28:56.397Z"
   },
   {
    "duration": 6,
    "start_time": "2023-02-13T15:28:56.409Z"
   },
   {
    "duration": 39,
    "start_time": "2023-02-13T15:28:56.417Z"
   },
   {
    "duration": 7,
    "start_time": "2023-02-13T15:28:56.457Z"
   },
   {
    "duration": 11,
    "start_time": "2023-02-13T15:28:56.465Z"
   },
   {
    "duration": 6,
    "start_time": "2023-02-13T15:28:56.477Z"
   },
   {
    "duration": 7,
    "start_time": "2023-02-13T15:28:56.485Z"
   },
   {
    "duration": 8,
    "start_time": "2023-02-13T15:28:56.494Z"
   },
   {
    "duration": 16,
    "start_time": "2023-02-13T15:28:56.504Z"
   },
   {
    "duration": 9,
    "start_time": "2023-02-13T15:28:56.552Z"
   },
   {
    "duration": 10,
    "start_time": "2023-02-13T15:28:56.563Z"
   },
   {
    "duration": 6,
    "start_time": "2023-02-13T15:28:56.578Z"
   },
   {
    "duration": 9,
    "start_time": "2023-02-13T15:28:56.585Z"
   },
   {
    "duration": 19,
    "start_time": "2023-02-13T15:28:56.596Z"
   },
   {
    "duration": 43,
    "start_time": "2023-02-13T15:28:56.617Z"
   },
   {
    "duration": 28,
    "start_time": "2023-02-13T15:28:56.662Z"
   },
   {
    "duration": 5,
    "start_time": "2023-02-13T15:28:56.691Z"
   },
   {
    "duration": 8,
    "start_time": "2023-02-13T15:28:56.697Z"
   },
   {
    "duration": 5,
    "start_time": "2023-02-13T15:28:56.706Z"
   },
   {
    "duration": 42,
    "start_time": "2023-02-13T15:28:56.713Z"
   },
   {
    "duration": 4,
    "start_time": "2023-02-13T15:28:56.756Z"
   },
   {
    "duration": 250,
    "start_time": "2023-02-13T15:28:56.761Z"
   },
   {
    "duration": 16,
    "start_time": "2023-02-13T15:28:57.013Z"
   },
   {
    "duration": 33,
    "start_time": "2023-02-13T15:28:57.030Z"
   },
   {
    "duration": 238,
    "start_time": "2023-02-13T15:28:57.065Z"
   },
   {
    "duration": 303,
    "start_time": "2023-02-13T15:28:57.305Z"
   },
   {
    "duration": 277,
    "start_time": "2023-02-13T15:28:57.611Z"
   },
   {
    "duration": 248,
    "start_time": "2023-02-13T15:28:57.890Z"
   },
   {
    "duration": 443,
    "start_time": "2023-02-13T15:28:58.139Z"
   },
   {
    "duration": 265,
    "start_time": "2023-02-13T15:28:58.584Z"
   },
   {
    "duration": 211,
    "start_time": "2023-02-13T15:28:58.854Z"
   },
   {
    "duration": 247,
    "start_time": "2023-02-13T15:28:59.067Z"
   },
   {
    "duration": 273,
    "start_time": "2023-02-13T15:28:59.316Z"
   },
   {
    "duration": 386,
    "start_time": "2023-02-13T15:28:59.591Z"
   },
   {
    "duration": 398,
    "start_time": "2023-02-13T15:28:59.978Z"
   },
   {
    "duration": 628,
    "start_time": "2023-02-13T15:29:00.378Z"
   },
   {
    "duration": 215,
    "start_time": "2023-02-13T15:29:01.008Z"
   },
   {
    "duration": 271,
    "start_time": "2023-02-13T15:29:01.225Z"
   },
   {
    "duration": 250,
    "start_time": "2023-02-13T15:29:01.498Z"
   },
   {
    "duration": 272,
    "start_time": "2023-02-13T15:29:01.753Z"
   },
   {
    "duration": 55,
    "start_time": "2023-02-13T15:29:02.027Z"
   },
   {
    "duration": 34,
    "start_time": "2023-02-13T15:29:09.374Z"
   },
   {
    "duration": 33,
    "start_time": "2023-02-13T15:29:48.162Z"
   },
   {
    "duration": 14,
    "start_time": "2023-02-13T15:30:47.366Z"
   },
   {
    "duration": 30,
    "start_time": "2023-02-13T15:32:01.020Z"
   },
   {
    "duration": 36,
    "start_time": "2023-02-13T15:32:13.517Z"
   },
   {
    "duration": 168,
    "start_time": "2023-02-13T15:32:27.016Z"
   },
   {
    "duration": 324,
    "start_time": "2023-02-13T15:32:39.507Z"
   },
   {
    "duration": 5,
    "start_time": "2023-02-13T15:35:23.231Z"
   },
   {
    "duration": 5,
    "start_time": "2023-02-13T15:35:55.697Z"
   },
   {
    "duration": 9,
    "start_time": "2023-02-13T15:36:28.845Z"
   },
   {
    "duration": 8,
    "start_time": "2023-02-13T15:36:48.990Z"
   },
   {
    "duration": 10,
    "start_time": "2023-02-13T15:37:01.571Z"
   },
   {
    "duration": 9,
    "start_time": "2023-02-13T15:37:50.995Z"
   },
   {
    "duration": 10,
    "start_time": "2023-02-13T15:38:04.485Z"
   },
   {
    "duration": 9,
    "start_time": "2023-02-13T15:38:32.989Z"
   },
   {
    "duration": 12,
    "start_time": "2023-02-13T15:38:42.947Z"
   },
   {
    "duration": 8,
    "start_time": "2023-02-13T15:40:12.436Z"
   },
   {
    "duration": 39,
    "start_time": "2023-02-13T15:41:12.223Z"
   },
   {
    "duration": 10,
    "start_time": "2023-02-13T15:42:40.540Z"
   },
   {
    "duration": 34,
    "start_time": "2023-02-13T15:43:09.830Z"
   },
   {
    "duration": 11,
    "start_time": "2023-02-13T15:44:05.591Z"
   },
   {
    "duration": 14,
    "start_time": "2023-02-13T15:44:30.365Z"
   },
   {
    "duration": 4,
    "start_time": "2023-02-13T15:46:29.262Z"
   },
   {
    "duration": 4,
    "start_time": "2023-02-13T15:46:33.808Z"
   },
   {
    "duration": 4,
    "start_time": "2023-02-13T15:46:44.637Z"
   },
   {
    "duration": 6,
    "start_time": "2023-02-13T15:46:45.631Z"
   },
   {
    "duration": 32,
    "start_time": "2023-02-13T15:46:53.364Z"
   },
   {
    "duration": 5,
    "start_time": "2023-02-13T15:46:55.688Z"
   },
   {
    "duration": 6,
    "start_time": "2023-02-13T15:46:56.763Z"
   },
   {
    "duration": 5,
    "start_time": "2023-02-13T15:46:57.441Z"
   },
   {
    "duration": 6,
    "start_time": "2023-02-13T15:46:58.516Z"
   },
   {
    "duration": 3,
    "start_time": "2023-02-13T15:46:59.520Z"
   },
   {
    "duration": 445,
    "start_time": "2023-02-13T15:46:59.781Z"
   },
   {
    "duration": 14,
    "start_time": "2023-02-13T15:47:00.705Z"
   },
   {
    "duration": 721,
    "start_time": "2023-02-13T15:47:37.039Z"
   },
   {
    "duration": 10,
    "start_time": "2023-02-13T15:49:01.490Z"
   },
   {
    "duration": 8,
    "start_time": "2023-02-13T15:49:41.825Z"
   },
   {
    "duration": 8,
    "start_time": "2023-02-13T15:49:50.578Z"
   },
   {
    "duration": 657,
    "start_time": "2023-02-13T15:49:58.790Z"
   },
   {
    "duration": 9,
    "start_time": "2023-02-13T15:50:08.611Z"
   },
   {
    "duration": 40,
    "start_time": "2023-02-13T15:50:19.058Z"
   },
   {
    "duration": 5,
    "start_time": "2023-02-13T15:50:37.369Z"
   },
   {
    "duration": 3,
    "start_time": "2023-02-13T15:50:40.169Z"
   },
   {
    "duration": 81,
    "start_time": "2023-02-13T15:50:40.176Z"
   },
   {
    "duration": 36,
    "start_time": "2023-02-13T15:50:40.274Z"
   },
   {
    "duration": 17,
    "start_time": "2023-02-13T15:50:40.311Z"
   },
   {
    "duration": 25,
    "start_time": "2023-02-13T15:50:40.330Z"
   },
   {
    "duration": 4,
    "start_time": "2023-02-13T15:50:40.356Z"
   },
   {
    "duration": 1672,
    "start_time": "2023-02-13T15:50:40.362Z"
   },
   {
    "duration": 19,
    "start_time": "2023-02-13T15:50:42.035Z"
   },
   {
    "duration": 6,
    "start_time": "2023-02-13T15:50:42.055Z"
   },
   {
    "duration": 6,
    "start_time": "2023-02-13T15:50:42.063Z"
   },
   {
    "duration": 6,
    "start_time": "2023-02-13T15:50:42.070Z"
   },
   {
    "duration": 7,
    "start_time": "2023-02-13T15:50:42.077Z"
   },
   {
    "duration": 11,
    "start_time": "2023-02-13T15:50:42.085Z"
   },
   {
    "duration": 4,
    "start_time": "2023-02-13T15:50:42.098Z"
   },
   {
    "duration": 49,
    "start_time": "2023-02-13T15:50:42.104Z"
   },
   {
    "duration": 8,
    "start_time": "2023-02-13T15:50:42.156Z"
   },
   {
    "duration": 4,
    "start_time": "2023-02-13T15:50:42.166Z"
   },
   {
    "duration": 5,
    "start_time": "2023-02-13T15:50:42.171Z"
   },
   {
    "duration": 5,
    "start_time": "2023-02-13T15:50:42.177Z"
   },
   {
    "duration": 7,
    "start_time": "2023-02-13T15:50:42.183Z"
   },
   {
    "duration": 5,
    "start_time": "2023-02-13T15:50:42.191Z"
   },
   {
    "duration": 9,
    "start_time": "2023-02-13T15:50:42.198Z"
   },
   {
    "duration": 46,
    "start_time": "2023-02-13T15:50:42.209Z"
   },
   {
    "duration": 10,
    "start_time": "2023-02-13T15:50:42.257Z"
   },
   {
    "duration": 5,
    "start_time": "2023-02-13T15:50:42.268Z"
   },
   {
    "duration": 6,
    "start_time": "2023-02-13T15:50:42.275Z"
   },
   {
    "duration": 5,
    "start_time": "2023-02-13T15:50:42.282Z"
   },
   {
    "duration": 8,
    "start_time": "2023-02-13T15:50:42.289Z"
   },
   {
    "duration": 5,
    "start_time": "2023-02-13T15:50:42.298Z"
   },
   {
    "duration": 107,
    "start_time": "2023-02-13T15:50:42.304Z"
   },
   {
    "duration": 7,
    "start_time": "2023-02-13T15:50:42.413Z"
   },
   {
    "duration": 9,
    "start_time": "2023-02-13T15:50:42.422Z"
   },
   {
    "duration": 7,
    "start_time": "2023-02-13T15:50:42.452Z"
   },
   {
    "duration": 9,
    "start_time": "2023-02-13T15:50:42.462Z"
   },
   {
    "duration": 6,
    "start_time": "2023-02-13T15:50:42.473Z"
   },
   {
    "duration": 9,
    "start_time": "2023-02-13T15:50:42.481Z"
   },
   {
    "duration": 4,
    "start_time": "2023-02-13T15:50:42.492Z"
   },
   {
    "duration": 7,
    "start_time": "2023-02-13T15:50:42.497Z"
   },
   {
    "duration": 9,
    "start_time": "2023-02-13T15:50:42.505Z"
   },
   {
    "duration": 42,
    "start_time": "2023-02-13T15:50:42.516Z"
   },
   {
    "duration": 6,
    "start_time": "2023-02-13T15:50:42.559Z"
   },
   {
    "duration": 11,
    "start_time": "2023-02-13T15:50:42.566Z"
   },
   {
    "duration": 5,
    "start_time": "2023-02-13T15:50:42.578Z"
   },
   {
    "duration": 7,
    "start_time": "2023-02-13T15:50:42.584Z"
   },
   {
    "duration": 15,
    "start_time": "2023-02-13T15:50:42.593Z"
   },
   {
    "duration": 13,
    "start_time": "2023-02-13T15:50:42.609Z"
   },
   {
    "duration": 27,
    "start_time": "2023-02-13T15:50:42.653Z"
   },
   {
    "duration": 3,
    "start_time": "2023-02-13T15:50:42.682Z"
   },
   {
    "duration": 12,
    "start_time": "2023-02-13T15:50:42.687Z"
   },
   {
    "duration": 7,
    "start_time": "2023-02-13T15:50:42.701Z"
   },
   {
    "duration": 7,
    "start_time": "2023-02-13T15:50:42.709Z"
   },
   {
    "duration": 3,
    "start_time": "2023-02-13T15:50:42.718Z"
   },
   {
    "duration": 441,
    "start_time": "2023-02-13T15:50:42.722Z"
   },
   {
    "duration": 16,
    "start_time": "2023-02-13T15:50:43.165Z"
   },
   {
    "duration": 23,
    "start_time": "2023-02-13T15:50:43.182Z"
   },
   {
    "duration": 265,
    "start_time": "2023-02-13T15:50:43.207Z"
   },
   {
    "duration": 283,
    "start_time": "2023-02-13T15:50:43.474Z"
   },
   {
    "duration": 270,
    "start_time": "2023-02-13T15:50:43.759Z"
   },
   {
    "duration": 257,
    "start_time": "2023-02-13T15:50:44.031Z"
   },
   {
    "duration": 263,
    "start_time": "2023-02-13T15:50:44.290Z"
   },
   {
    "duration": 246,
    "start_time": "2023-02-13T15:50:44.555Z"
   },
   {
    "duration": 212,
    "start_time": "2023-02-13T15:50:44.804Z"
   },
   {
    "duration": 266,
    "start_time": "2023-02-13T15:50:45.018Z"
   },
   {
    "duration": 250,
    "start_time": "2023-02-13T15:50:45.286Z"
   },
   {
    "duration": 632,
    "start_time": "2023-02-13T15:50:45.538Z"
   },
   {
    "duration": 386,
    "start_time": "2023-02-13T15:50:46.172Z"
   },
   {
    "duration": 353,
    "start_time": "2023-02-13T15:50:46.560Z"
   },
   {
    "duration": 210,
    "start_time": "2023-02-13T15:50:46.915Z"
   },
   {
    "duration": 254,
    "start_time": "2023-02-13T15:50:47.126Z"
   },
   {
    "duration": 251,
    "start_time": "2023-02-13T15:50:47.382Z"
   },
   {
    "duration": 359,
    "start_time": "2023-02-13T15:50:47.635Z"
   },
   {
    "duration": 35,
    "start_time": "2023-02-13T15:50:47.996Z"
   },
   {
    "duration": 27,
    "start_time": "2023-02-13T15:50:48.033Z"
   },
   {
    "duration": 53,
    "start_time": "2023-02-13T15:50:48.062Z"
   },
   {
    "duration": 4,
    "start_time": "2023-02-13T15:51:02.793Z"
   },
   {
    "duration": 31,
    "start_time": "2023-02-13T15:51:27.447Z"
   },
   {
    "duration": 16,
    "start_time": "2023-02-13T15:52:12.801Z"
   },
   {
    "duration": 52,
    "start_time": "2023-02-13T15:52:22.873Z"
   },
   {
    "duration": 12,
    "start_time": "2023-02-13T15:52:42.612Z"
   },
   {
    "duration": 33,
    "start_time": "2023-02-13T15:54:35.088Z"
   },
   {
    "duration": 11,
    "start_time": "2023-02-13T15:54:47.681Z"
   },
   {
    "duration": 41,
    "start_time": "2023-02-13T15:54:53.370Z"
   },
   {
    "duration": 4,
    "start_time": "2023-02-13T15:55:25.074Z"
   },
   {
    "duration": 105,
    "start_time": "2023-02-13T15:55:25.081Z"
   },
   {
    "duration": 38,
    "start_time": "2023-02-13T15:55:25.187Z"
   },
   {
    "duration": 43,
    "start_time": "2023-02-13T15:55:25.227Z"
   },
   {
    "duration": 23,
    "start_time": "2023-02-13T15:55:25.272Z"
   },
   {
    "duration": 4,
    "start_time": "2023-02-13T15:55:25.297Z"
   },
   {
    "duration": 2115,
    "start_time": "2023-02-13T15:55:25.303Z"
   },
   {
    "duration": 10,
    "start_time": "2023-02-13T15:55:27.419Z"
   },
   {
    "duration": 33,
    "start_time": "2023-02-13T15:55:27.431Z"
   },
   {
    "duration": 19,
    "start_time": "2023-02-13T15:55:27.467Z"
   },
   {
    "duration": 23,
    "start_time": "2023-02-13T15:55:27.488Z"
   },
   {
    "duration": 8,
    "start_time": "2023-02-13T15:55:27.513Z"
   },
   {
    "duration": 18,
    "start_time": "2023-02-13T15:55:27.523Z"
   },
   {
    "duration": 5,
    "start_time": "2023-02-13T15:55:27.542Z"
   },
   {
    "duration": 36,
    "start_time": "2023-02-13T15:55:27.549Z"
   },
   {
    "duration": 13,
    "start_time": "2023-02-13T15:55:27.586Z"
   },
   {
    "duration": 20,
    "start_time": "2023-02-13T15:55:27.600Z"
   },
   {
    "duration": 13,
    "start_time": "2023-02-13T15:55:27.621Z"
   },
   {
    "duration": 6,
    "start_time": "2023-02-13T15:55:27.635Z"
   },
   {
    "duration": 11,
    "start_time": "2023-02-13T15:55:27.643Z"
   },
   {
    "duration": 10,
    "start_time": "2023-02-13T15:55:27.659Z"
   },
   {
    "duration": 11,
    "start_time": "2023-02-13T15:55:27.671Z"
   },
   {
    "duration": 5,
    "start_time": "2023-02-13T15:55:27.683Z"
   },
   {
    "duration": 12,
    "start_time": "2023-02-13T15:55:27.689Z"
   },
   {
    "duration": 8,
    "start_time": "2023-02-13T15:55:27.702Z"
   },
   {
    "duration": 7,
    "start_time": "2023-02-13T15:55:27.712Z"
   },
   {
    "duration": 36,
    "start_time": "2023-02-13T15:55:27.721Z"
   },
   {
    "duration": 10,
    "start_time": "2023-02-13T15:55:27.762Z"
   },
   {
    "duration": 15,
    "start_time": "2023-02-13T15:55:27.773Z"
   },
   {
    "duration": 98,
    "start_time": "2023-02-13T15:55:27.790Z"
   },
   {
    "duration": 7,
    "start_time": "2023-02-13T15:55:27.890Z"
   },
   {
    "duration": 15,
    "start_time": "2023-02-13T15:55:27.899Z"
   },
   {
    "duration": 14,
    "start_time": "2023-02-13T15:55:27.916Z"
   },
   {
    "duration": 31,
    "start_time": "2023-02-13T15:55:27.932Z"
   },
   {
    "duration": 8,
    "start_time": "2023-02-13T15:55:27.965Z"
   },
   {
    "duration": 19,
    "start_time": "2023-02-13T15:55:27.975Z"
   },
   {
    "duration": 4,
    "start_time": "2023-02-13T15:55:27.995Z"
   },
   {
    "duration": 12,
    "start_time": "2023-02-13T15:55:28.001Z"
   },
   {
    "duration": 9,
    "start_time": "2023-02-13T15:55:28.014Z"
   },
   {
    "duration": 32,
    "start_time": "2023-02-13T15:55:28.025Z"
   },
   {
    "duration": 9,
    "start_time": "2023-02-13T15:55:28.064Z"
   },
   {
    "duration": 10,
    "start_time": "2023-02-13T15:55:28.076Z"
   },
   {
    "duration": 6,
    "start_time": "2023-02-13T15:55:28.088Z"
   },
   {
    "duration": 8,
    "start_time": "2023-02-13T15:55:28.096Z"
   },
   {
    "duration": 31,
    "start_time": "2023-02-13T15:55:28.107Z"
   },
   {
    "duration": 34,
    "start_time": "2023-02-13T15:55:28.140Z"
   },
   {
    "duration": 62,
    "start_time": "2023-02-13T15:55:28.176Z"
   },
   {
    "duration": 19,
    "start_time": "2023-02-13T15:55:28.240Z"
   },
   {
    "duration": 8,
    "start_time": "2023-02-13T15:55:28.261Z"
   },
   {
    "duration": 21,
    "start_time": "2023-02-13T15:55:28.272Z"
   },
   {
    "duration": 16,
    "start_time": "2023-02-13T15:55:28.296Z"
   },
   {
    "duration": 9,
    "start_time": "2023-02-13T15:55:28.314Z"
   },
   {
    "duration": 287,
    "start_time": "2023-02-13T15:55:28.325Z"
   },
   {
    "duration": 16,
    "start_time": "2023-02-13T15:55:28.613Z"
   },
   {
    "duration": 39,
    "start_time": "2023-02-13T15:55:28.630Z"
   },
   {
    "duration": 256,
    "start_time": "2023-02-13T15:55:28.672Z"
   },
   {
    "duration": 251,
    "start_time": "2023-02-13T15:55:28.930Z"
   },
   {
    "duration": 508,
    "start_time": "2023-02-13T15:55:29.183Z"
   },
   {
    "duration": 279,
    "start_time": "2023-02-13T15:55:29.693Z"
   },
   {
    "duration": 268,
    "start_time": "2023-02-13T15:55:29.974Z"
   },
   {
    "duration": 258,
    "start_time": "2023-02-13T15:55:30.244Z"
   },
   {
    "duration": 210,
    "start_time": "2023-02-13T15:55:30.504Z"
   },
   {
    "duration": 279,
    "start_time": "2023-02-13T15:55:30.716Z"
   },
   {
    "duration": 274,
    "start_time": "2023-02-13T15:55:30.997Z"
   },
   {
    "duration": 396,
    "start_time": "2023-02-13T15:55:31.273Z"
   },
   {
    "duration": 368,
    "start_time": "2023-02-13T15:55:31.671Z"
   },
   {
    "duration": 633,
    "start_time": "2023-02-13T15:55:32.041Z"
   },
   {
    "duration": 211,
    "start_time": "2023-02-13T15:55:32.675Z"
   },
   {
    "duration": 265,
    "start_time": "2023-02-13T15:55:32.887Z"
   },
   {
    "duration": 230,
    "start_time": "2023-02-13T15:55:33.157Z"
   },
   {
    "duration": 274,
    "start_time": "2023-02-13T15:55:33.388Z"
   },
   {
    "duration": 49,
    "start_time": "2023-02-13T15:55:33.664Z"
   },
   {
    "duration": 12,
    "start_time": "2023-02-13T15:55:33.716Z"
   },
   {
    "duration": 53,
    "start_time": "2023-02-13T15:55:33.730Z"
   },
   {
    "duration": 55,
    "start_time": "2023-02-13T15:56:07.673Z"
   },
   {
    "duration": 2,
    "start_time": "2023-02-13T15:56:32.838Z"
   },
   {
    "duration": 105,
    "start_time": "2023-02-13T15:56:32.842Z"
   },
   {
    "duration": 40,
    "start_time": "2023-02-13T15:56:32.949Z"
   },
   {
    "duration": 16,
    "start_time": "2023-02-13T15:56:32.991Z"
   },
   {
    "duration": 20,
    "start_time": "2023-02-13T15:56:33.009Z"
   },
   {
    "duration": 30,
    "start_time": "2023-02-13T15:56:33.030Z"
   },
   {
    "duration": 1780,
    "start_time": "2023-02-13T15:56:33.064Z"
   },
   {
    "duration": 19,
    "start_time": "2023-02-13T15:56:34.852Z"
   },
   {
    "duration": 14,
    "start_time": "2023-02-13T15:56:34.873Z"
   },
   {
    "duration": 9,
    "start_time": "2023-02-13T15:56:34.889Z"
   },
   {
    "duration": 6,
    "start_time": "2023-02-13T15:56:34.900Z"
   },
   {
    "duration": 50,
    "start_time": "2023-02-13T15:56:34.908Z"
   },
   {
    "duration": 25,
    "start_time": "2023-02-13T15:56:34.962Z"
   },
   {
    "duration": 4,
    "start_time": "2023-02-13T15:56:34.990Z"
   },
   {
    "duration": 10,
    "start_time": "2023-02-13T15:56:34.996Z"
   },
   {
    "duration": 10,
    "start_time": "2023-02-13T15:56:35.009Z"
   },
   {
    "duration": 11,
    "start_time": "2023-02-13T15:56:35.021Z"
   },
   {
    "duration": 29,
    "start_time": "2023-02-13T15:56:35.034Z"
   },
   {
    "duration": 8,
    "start_time": "2023-02-13T15:56:35.065Z"
   },
   {
    "duration": 15,
    "start_time": "2023-02-13T15:56:35.075Z"
   },
   {
    "duration": 6,
    "start_time": "2023-02-13T15:56:35.091Z"
   },
   {
    "duration": 10,
    "start_time": "2023-02-13T15:56:35.098Z"
   },
   {
    "duration": 272,
    "start_time": "2023-02-13T15:56:35.110Z"
   },
   {
    "duration": 13,
    "start_time": "2023-02-13T15:56:35.384Z"
   },
   {
    "duration": 12,
    "start_time": "2023-02-13T15:56:35.399Z"
   },
   {
    "duration": 7,
    "start_time": "2023-02-13T15:56:35.413Z"
   },
   {
    "duration": 5,
    "start_time": "2023-02-13T15:56:35.421Z"
   },
   {
    "duration": 28,
    "start_time": "2023-02-13T15:56:35.428Z"
   },
   {
    "duration": 8,
    "start_time": "2023-02-13T15:56:35.458Z"
   },
   {
    "duration": 105,
    "start_time": "2023-02-13T15:56:35.468Z"
   },
   {
    "duration": 8,
    "start_time": "2023-02-13T15:56:35.574Z"
   },
   {
    "duration": 19,
    "start_time": "2023-02-13T15:56:35.583Z"
   },
   {
    "duration": 6,
    "start_time": "2023-02-13T15:56:35.603Z"
   },
   {
    "duration": 12,
    "start_time": "2023-02-13T15:56:35.610Z"
   },
   {
    "duration": 11,
    "start_time": "2023-02-13T15:56:35.623Z"
   },
   {
    "duration": 39,
    "start_time": "2023-02-13T15:56:35.636Z"
   },
   {
    "duration": 8,
    "start_time": "2023-02-13T15:56:35.677Z"
   },
   {
    "duration": 8,
    "start_time": "2023-02-13T15:56:35.687Z"
   },
   {
    "duration": 11,
    "start_time": "2023-02-13T15:56:35.696Z"
   },
   {
    "duration": 36,
    "start_time": "2023-02-13T15:56:35.708Z"
   },
   {
    "duration": 26,
    "start_time": "2023-02-13T15:56:35.748Z"
   },
   {
    "duration": 18,
    "start_time": "2023-02-13T15:56:35.775Z"
   },
   {
    "duration": 6,
    "start_time": "2023-02-13T15:56:35.794Z"
   },
   {
    "duration": 8,
    "start_time": "2023-02-13T15:56:35.802Z"
   },
   {
    "duration": 24,
    "start_time": "2023-02-13T15:56:35.812Z"
   },
   {
    "duration": 29,
    "start_time": "2023-02-13T15:56:35.838Z"
   },
   {
    "duration": 31,
    "start_time": "2023-02-13T15:56:35.870Z"
   },
   {
    "duration": 4,
    "start_time": "2023-02-13T15:56:35.903Z"
   },
   {
    "duration": 21,
    "start_time": "2023-02-13T15:56:35.909Z"
   },
   {
    "duration": 7,
    "start_time": "2023-02-13T15:56:35.932Z"
   },
   {
    "duration": 22,
    "start_time": "2023-02-13T15:56:35.940Z"
   },
   {
    "duration": 4,
    "start_time": "2023-02-13T15:56:35.971Z"
   },
   {
    "duration": 302,
    "start_time": "2023-02-13T15:56:35.977Z"
   },
   {
    "duration": 21,
    "start_time": "2023-02-13T15:56:36.281Z"
   },
   {
    "duration": 57,
    "start_time": "2023-02-13T15:56:36.304Z"
   },
   {
    "duration": 263,
    "start_time": "2023-02-13T15:56:36.366Z"
   },
   {
    "duration": 265,
    "start_time": "2023-02-13T15:56:36.631Z"
   },
   {
    "duration": 278,
    "start_time": "2023-02-13T15:56:36.897Z"
   },
   {
    "duration": 301,
    "start_time": "2023-02-13T15:56:37.177Z"
   },
   {
    "duration": 316,
    "start_time": "2023-02-13T15:56:37.480Z"
   },
   {
    "duration": 270,
    "start_time": "2023-02-13T15:56:37.798Z"
   },
   {
    "duration": 198,
    "start_time": "2023-02-13T15:56:38.070Z"
   },
   {
    "duration": 257,
    "start_time": "2023-02-13T15:56:38.270Z"
   },
   {
    "duration": 254,
    "start_time": "2023-02-13T15:56:38.529Z"
   },
   {
    "duration": 661,
    "start_time": "2023-02-13T15:56:38.784Z"
   },
   {
    "duration": 409,
    "start_time": "2023-02-13T15:56:39.448Z"
   },
   {
    "duration": 425,
    "start_time": "2023-02-13T15:56:39.866Z"
   },
   {
    "duration": 391,
    "start_time": "2023-02-13T15:56:40.293Z"
   },
   {
    "duration": 255,
    "start_time": "2023-02-13T15:56:40.685Z"
   },
   {
    "duration": 239,
    "start_time": "2023-02-13T15:56:40.942Z"
   },
   {
    "duration": 264,
    "start_time": "2023-02-13T15:56:41.184Z"
   },
   {
    "duration": 31,
    "start_time": "2023-02-13T15:56:41.453Z"
   },
   {
    "duration": 10,
    "start_time": "2023-02-13T15:56:41.486Z"
   },
   {
    "duration": 76,
    "start_time": "2023-02-13T15:56:41.498Z"
   },
   {
    "duration": 53,
    "start_time": "2023-02-13T15:57:32.035Z"
   },
   {
    "duration": 47,
    "start_time": "2023-02-13T15:57:38.901Z"
   },
   {
    "duration": 7,
    "start_time": "2023-02-13T15:58:15.273Z"
   },
   {
    "duration": 41,
    "start_time": "2023-02-13T15:58:20.398Z"
   },
   {
    "duration": 3,
    "start_time": "2023-02-13T15:58:30.867Z"
   },
   {
    "duration": 105,
    "start_time": "2023-02-13T15:58:30.873Z"
   },
   {
    "duration": 40,
    "start_time": "2023-02-13T15:58:30.980Z"
   },
   {
    "duration": 46,
    "start_time": "2023-02-13T15:58:31.022Z"
   },
   {
    "duration": 40,
    "start_time": "2023-02-13T15:58:31.070Z"
   },
   {
    "duration": 14,
    "start_time": "2023-02-13T15:58:31.112Z"
   },
   {
    "duration": 2050,
    "start_time": "2023-02-13T15:58:31.128Z"
   },
   {
    "duration": 10,
    "start_time": "2023-02-13T15:58:33.180Z"
   },
   {
    "duration": 7,
    "start_time": "2023-02-13T15:58:33.191Z"
   },
   {
    "duration": 7,
    "start_time": "2023-02-13T15:58:33.200Z"
   },
   {
    "duration": 7,
    "start_time": "2023-02-13T15:58:33.209Z"
   },
   {
    "duration": 43,
    "start_time": "2023-02-13T15:58:33.217Z"
   },
   {
    "duration": 13,
    "start_time": "2023-02-13T15:58:33.262Z"
   },
   {
    "duration": 9,
    "start_time": "2023-02-13T15:58:33.277Z"
   },
   {
    "duration": 17,
    "start_time": "2023-02-13T15:58:33.288Z"
   },
   {
    "duration": 10,
    "start_time": "2023-02-13T15:58:33.306Z"
   },
   {
    "duration": 5,
    "start_time": "2023-02-13T15:58:33.318Z"
   },
   {
    "duration": 7,
    "start_time": "2023-02-13T15:58:33.324Z"
   },
   {
    "duration": 6,
    "start_time": "2023-02-13T15:58:33.332Z"
   },
   {
    "duration": 27,
    "start_time": "2023-02-13T15:58:33.339Z"
   },
   {
    "duration": 9,
    "start_time": "2023-02-13T15:58:33.368Z"
   },
   {
    "duration": 20,
    "start_time": "2023-02-13T15:58:33.378Z"
   },
   {
    "duration": 4,
    "start_time": "2023-02-13T15:58:33.400Z"
   },
   {
    "duration": 14,
    "start_time": "2023-02-13T15:58:33.406Z"
   },
   {
    "duration": 7,
    "start_time": "2023-02-13T15:58:33.422Z"
   },
   {
    "duration": 8,
    "start_time": "2023-02-13T15:58:33.430Z"
   },
   {
    "duration": 25,
    "start_time": "2023-02-13T15:58:33.439Z"
   },
   {
    "duration": 10,
    "start_time": "2023-02-13T15:58:33.466Z"
   },
   {
    "duration": 5,
    "start_time": "2023-02-13T15:58:33.480Z"
   },
   {
    "duration": 106,
    "start_time": "2023-02-13T15:58:33.486Z"
   },
   {
    "duration": 8,
    "start_time": "2023-02-13T15:58:33.593Z"
   },
   {
    "duration": 10,
    "start_time": "2023-02-13T15:58:33.602Z"
   },
   {
    "duration": 6,
    "start_time": "2023-02-13T15:58:33.613Z"
   },
   {
    "duration": 45,
    "start_time": "2023-02-13T15:58:33.621Z"
   },
   {
    "duration": 7,
    "start_time": "2023-02-13T15:58:33.668Z"
   },
   {
    "duration": 12,
    "start_time": "2023-02-13T15:58:33.677Z"
   },
   {
    "duration": 4,
    "start_time": "2023-02-13T15:58:33.691Z"
   },
   {
    "duration": 6,
    "start_time": "2023-02-13T15:58:33.696Z"
   },
   {
    "duration": 10,
    "start_time": "2023-02-13T15:58:33.704Z"
   },
   {
    "duration": 35,
    "start_time": "2023-02-13T15:58:33.716Z"
   },
   {
    "duration": 25,
    "start_time": "2023-02-13T15:58:33.753Z"
   },
   {
    "duration": 34,
    "start_time": "2023-02-13T15:58:33.780Z"
   },
   {
    "duration": 8,
    "start_time": "2023-02-13T15:58:33.816Z"
   },
   {
    "duration": 9,
    "start_time": "2023-02-13T15:58:33.826Z"
   },
   {
    "duration": 31,
    "start_time": "2023-02-13T15:58:33.836Z"
   },
   {
    "duration": 21,
    "start_time": "2023-02-13T15:58:33.869Z"
   },
   {
    "duration": 29,
    "start_time": "2023-02-13T15:58:33.892Z"
   },
   {
    "duration": 4,
    "start_time": "2023-02-13T15:58:33.923Z"
   },
   {
    "duration": 10,
    "start_time": "2023-02-13T15:58:33.929Z"
   },
   {
    "duration": 25,
    "start_time": "2023-02-13T15:58:33.940Z"
   },
   {
    "duration": 7,
    "start_time": "2023-02-13T15:58:33.968Z"
   },
   {
    "duration": 5,
    "start_time": "2023-02-13T15:58:33.977Z"
   },
   {
    "duration": 256,
    "start_time": "2023-02-13T15:58:33.984Z"
   },
   {
    "duration": 26,
    "start_time": "2023-02-13T15:58:34.242Z"
   },
   {
    "duration": 26,
    "start_time": "2023-02-13T15:58:34.270Z"
   },
   {
    "duration": 269,
    "start_time": "2023-02-13T15:58:34.298Z"
   },
   {
    "duration": 240,
    "start_time": "2023-02-13T15:58:34.569Z"
   },
   {
    "duration": 294,
    "start_time": "2023-02-13T15:58:34.811Z"
   },
   {
    "duration": 280,
    "start_time": "2023-02-13T15:58:35.106Z"
   },
   {
    "duration": 284,
    "start_time": "2023-02-13T15:58:35.388Z"
   },
   {
    "duration": 270,
    "start_time": "2023-02-13T15:58:35.674Z"
   },
   {
    "duration": 231,
    "start_time": "2023-02-13T15:58:35.953Z"
   },
   {
    "duration": 259,
    "start_time": "2023-02-13T15:58:36.186Z"
   },
   {
    "duration": 559,
    "start_time": "2023-02-13T15:58:36.446Z"
   },
   {
    "duration": 370,
    "start_time": "2023-02-13T15:58:37.007Z"
   },
   {
    "duration": 386,
    "start_time": "2023-02-13T15:58:37.379Z"
   },
   {
    "duration": 437,
    "start_time": "2023-02-13T15:58:37.767Z"
   },
   {
    "duration": 195,
    "start_time": "2023-02-13T15:58:38.207Z"
   },
   {
    "duration": 266,
    "start_time": "2023-02-13T15:58:38.404Z"
   },
   {
    "duration": 237,
    "start_time": "2023-02-13T15:58:38.672Z"
   },
   {
    "duration": 262,
    "start_time": "2023-02-13T15:58:38.911Z"
   },
   {
    "duration": 25,
    "start_time": "2023-02-13T15:58:39.174Z"
   },
   {
    "duration": 7,
    "start_time": "2023-02-13T15:58:39.201Z"
   },
   {
    "duration": 71,
    "start_time": "2023-02-13T15:58:39.210Z"
   },
   {
    "duration": 62,
    "start_time": "2023-02-13T15:58:57.789Z"
   },
   {
    "duration": 2,
    "start_time": "2023-02-13T15:59:52.087Z"
   },
   {
    "duration": 107,
    "start_time": "2023-02-13T15:59:52.091Z"
   },
   {
    "duration": 40,
    "start_time": "2023-02-13T15:59:52.200Z"
   },
   {
    "duration": 14,
    "start_time": "2023-02-13T15:59:52.266Z"
   },
   {
    "duration": 25,
    "start_time": "2023-02-13T15:59:52.282Z"
   },
   {
    "duration": 4,
    "start_time": "2023-02-13T15:59:52.308Z"
   },
   {
    "duration": 2085,
    "start_time": "2023-02-13T15:59:52.314Z"
   },
   {
    "duration": 9,
    "start_time": "2023-02-13T15:59:54.400Z"
   },
   {
    "duration": 7,
    "start_time": "2023-02-13T15:59:54.411Z"
   },
   {
    "duration": 16,
    "start_time": "2023-02-13T15:59:54.419Z"
   },
   {
    "duration": 15,
    "start_time": "2023-02-13T15:59:54.454Z"
   },
   {
    "duration": 18,
    "start_time": "2023-02-13T15:59:54.470Z"
   },
   {
    "duration": 18,
    "start_time": "2023-02-13T15:59:54.490Z"
   },
   {
    "duration": 4,
    "start_time": "2023-02-13T15:59:54.510Z"
   },
   {
    "duration": 15,
    "start_time": "2023-02-13T15:59:54.516Z"
   },
   {
    "duration": 16,
    "start_time": "2023-02-13T15:59:54.533Z"
   },
   {
    "duration": 22,
    "start_time": "2023-02-13T15:59:54.551Z"
   },
   {
    "duration": 12,
    "start_time": "2023-02-13T15:59:54.575Z"
   },
   {
    "duration": 9,
    "start_time": "2023-02-13T15:59:54.589Z"
   },
   {
    "duration": 12,
    "start_time": "2023-02-13T15:59:54.599Z"
   },
   {
    "duration": 5,
    "start_time": "2023-02-13T15:59:54.613Z"
   },
   {
    "duration": 14,
    "start_time": "2023-02-13T15:59:54.619Z"
   },
   {
    "duration": 5,
    "start_time": "2023-02-13T15:59:54.634Z"
   },
   {
    "duration": 11,
    "start_time": "2023-02-13T15:59:54.641Z"
   },
   {
    "duration": 17,
    "start_time": "2023-02-13T15:59:54.656Z"
   },
   {
    "duration": 10,
    "start_time": "2023-02-13T15:59:54.675Z"
   },
   {
    "duration": 14,
    "start_time": "2023-02-13T15:59:54.687Z"
   },
   {
    "duration": 12,
    "start_time": "2023-02-13T15:59:54.703Z"
   },
   {
    "duration": 5,
    "start_time": "2023-02-13T15:59:54.719Z"
   },
   {
    "duration": 87,
    "start_time": "2023-02-13T15:59:54.726Z"
   },
   {
    "duration": 7,
    "start_time": "2023-02-13T15:59:54.815Z"
   },
   {
    "duration": 10,
    "start_time": "2023-02-13T15:59:54.823Z"
   },
   {
    "duration": 24,
    "start_time": "2023-02-13T15:59:54.835Z"
   },
   {
    "duration": 25,
    "start_time": "2023-02-13T15:59:54.862Z"
   },
   {
    "duration": 10,
    "start_time": "2023-02-13T15:59:54.889Z"
   },
   {
    "duration": 13,
    "start_time": "2023-02-13T15:59:54.900Z"
   },
   {
    "duration": 4,
    "start_time": "2023-02-13T15:59:54.915Z"
   },
   {
    "duration": 6,
    "start_time": "2023-02-13T15:59:54.921Z"
   },
   {
    "duration": 7,
    "start_time": "2023-02-13T15:59:54.929Z"
   },
   {
    "duration": 20,
    "start_time": "2023-02-13T15:59:54.953Z"
   },
   {
    "duration": 13,
    "start_time": "2023-02-13T15:59:54.975Z"
   },
   {
    "duration": 13,
    "start_time": "2023-02-13T15:59:54.990Z"
   },
   {
    "duration": 6,
    "start_time": "2023-02-13T15:59:55.005Z"
   },
   {
    "duration": 13,
    "start_time": "2023-02-13T15:59:55.013Z"
   },
   {
    "duration": 39,
    "start_time": "2023-02-13T15:59:55.028Z"
   },
   {
    "duration": 24,
    "start_time": "2023-02-13T15:59:55.069Z"
   },
   {
    "duration": 32,
    "start_time": "2023-02-13T15:59:55.094Z"
   },
   {
    "duration": 3,
    "start_time": "2023-02-13T15:59:55.128Z"
   },
   {
    "duration": 8,
    "start_time": "2023-02-13T15:59:55.133Z"
   },
   {
    "duration": 13,
    "start_time": "2023-02-13T15:59:55.143Z"
   },
   {
    "duration": 6,
    "start_time": "2023-02-13T15:59:55.165Z"
   },
   {
    "duration": 5,
    "start_time": "2023-02-13T15:59:55.173Z"
   },
   {
    "duration": 271,
    "start_time": "2023-02-13T15:59:55.180Z"
   },
   {
    "duration": 23,
    "start_time": "2023-02-13T15:59:55.453Z"
   },
   {
    "duration": 38,
    "start_time": "2023-02-13T15:59:55.477Z"
   },
   {
    "duration": 266,
    "start_time": "2023-02-13T15:59:55.516Z"
   },
   {
    "duration": 260,
    "start_time": "2023-02-13T15:59:55.784Z"
   },
   {
    "duration": 277,
    "start_time": "2023-02-13T15:59:56.061Z"
   },
   {
    "duration": 293,
    "start_time": "2023-02-13T15:59:56.339Z"
   },
   {
    "duration": 263,
    "start_time": "2023-02-13T15:59:56.635Z"
   },
   {
    "duration": 269,
    "start_time": "2023-02-13T15:59:56.900Z"
   },
   {
    "duration": 214,
    "start_time": "2023-02-13T15:59:57.171Z"
   },
   {
    "duration": 307,
    "start_time": "2023-02-13T15:59:57.386Z"
   },
   {
    "duration": 649,
    "start_time": "2023-02-13T15:59:57.695Z"
   },
   {
    "duration": 394,
    "start_time": "2023-02-13T15:59:58.345Z"
   },
   {
    "duration": 386,
    "start_time": "2023-02-13T15:59:58.741Z"
   },
   {
    "duration": 347,
    "start_time": "2023-02-13T15:59:59.129Z"
   },
   {
    "duration": 212,
    "start_time": "2023-02-13T15:59:59.477Z"
   },
   {
    "duration": 282,
    "start_time": "2023-02-13T15:59:59.691Z"
   },
   {
    "duration": 234,
    "start_time": "2023-02-13T15:59:59.974Z"
   },
   {
    "duration": 271,
    "start_time": "2023-02-13T16:00:00.210Z"
   },
   {
    "duration": 24,
    "start_time": "2023-02-13T16:00:00.483Z"
   },
   {
    "duration": 10,
    "start_time": "2023-02-13T16:00:00.509Z"
   },
   {
    "duration": 75,
    "start_time": "2023-02-13T16:00:00.520Z"
   },
   {
    "duration": 8,
    "start_time": "2023-02-13T16:00:37.596Z"
   },
   {
    "duration": 6,
    "start_time": "2023-02-13T16:00:58.830Z"
   },
   {
    "duration": 3,
    "start_time": "2023-02-13T16:01:35.884Z"
   },
   {
    "duration": 93,
    "start_time": "2023-02-13T16:01:35.889Z"
   },
   {
    "duration": 42,
    "start_time": "2023-02-13T16:01:35.983Z"
   },
   {
    "duration": 46,
    "start_time": "2023-02-13T16:01:36.027Z"
   },
   {
    "duration": 26,
    "start_time": "2023-02-13T16:01:36.076Z"
   },
   {
    "duration": 6,
    "start_time": "2023-02-13T16:01:36.104Z"
   },
   {
    "duration": 2383,
    "start_time": "2023-02-13T16:01:36.112Z"
   },
   {
    "duration": 11,
    "start_time": "2023-02-13T16:01:38.497Z"
   },
   {
    "duration": 36,
    "start_time": "2023-02-13T16:01:38.510Z"
   },
   {
    "duration": 30,
    "start_time": "2023-02-13T16:01:38.548Z"
   },
   {
    "duration": 15,
    "start_time": "2023-02-13T16:01:38.579Z"
   },
   {
    "duration": 17,
    "start_time": "2023-02-13T16:01:38.596Z"
   },
   {
    "duration": 12,
    "start_time": "2023-02-13T16:01:38.614Z"
   },
   {
    "duration": 5,
    "start_time": "2023-02-13T16:01:38.629Z"
   },
   {
    "duration": 12,
    "start_time": "2023-02-13T16:01:38.635Z"
   },
   {
    "duration": 14,
    "start_time": "2023-02-13T16:01:38.649Z"
   },
   {
    "duration": 14,
    "start_time": "2023-02-13T16:01:38.665Z"
   },
   {
    "duration": 4,
    "start_time": "2023-02-13T16:01:38.681Z"
   },
   {
    "duration": 9,
    "start_time": "2023-02-13T16:01:38.686Z"
   },
   {
    "duration": 10,
    "start_time": "2023-02-13T16:01:38.697Z"
   },
   {
    "duration": 7,
    "start_time": "2023-02-13T16:01:38.709Z"
   },
   {
    "duration": 20,
    "start_time": "2023-02-13T16:01:38.718Z"
   },
   {
    "duration": 22,
    "start_time": "2023-02-13T16:01:38.741Z"
   },
   {
    "duration": 26,
    "start_time": "2023-02-13T16:01:38.765Z"
   },
   {
    "duration": 6,
    "start_time": "2023-02-13T16:01:38.794Z"
   },
   {
    "duration": 8,
    "start_time": "2023-02-13T16:01:38.802Z"
   },
   {
    "duration": 11,
    "start_time": "2023-02-13T16:01:38.811Z"
   },
   {
    "duration": 9,
    "start_time": "2023-02-13T16:01:38.824Z"
   },
   {
    "duration": 22,
    "start_time": "2023-02-13T16:01:38.834Z"
   },
   {
    "duration": 102,
    "start_time": "2023-02-13T16:01:38.861Z"
   },
   {
    "duration": 10,
    "start_time": "2023-02-13T16:01:38.966Z"
   },
   {
    "duration": 12,
    "start_time": "2023-02-13T16:01:38.978Z"
   },
   {
    "duration": 9,
    "start_time": "2023-02-13T16:01:38.992Z"
   },
   {
    "duration": 12,
    "start_time": "2023-02-13T16:01:39.003Z"
   },
   {
    "duration": 39,
    "start_time": "2023-02-13T16:01:39.017Z"
   },
   {
    "duration": 21,
    "start_time": "2023-02-13T16:01:39.058Z"
   },
   {
    "duration": 15,
    "start_time": "2023-02-13T16:01:39.081Z"
   },
   {
    "duration": 11,
    "start_time": "2023-02-13T16:01:39.098Z"
   },
   {
    "duration": 11,
    "start_time": "2023-02-13T16:01:39.111Z"
   },
   {
    "duration": 12,
    "start_time": "2023-02-13T16:01:39.124Z"
   },
   {
    "duration": 14,
    "start_time": "2023-02-13T16:01:39.156Z"
   },
   {
    "duration": 13,
    "start_time": "2023-02-13T16:01:39.172Z"
   },
   {
    "duration": 6,
    "start_time": "2023-02-13T16:01:39.187Z"
   },
   {
    "duration": 10,
    "start_time": "2023-02-13T16:01:39.195Z"
   },
   {
    "duration": 9,
    "start_time": "2023-02-13T16:01:39.207Z"
   },
   {
    "duration": 11,
    "start_time": "2023-02-13T16:01:39.218Z"
   },
   {
    "duration": 45,
    "start_time": "2023-02-13T16:01:39.231Z"
   },
   {
    "duration": 15,
    "start_time": "2023-02-13T16:01:39.278Z"
   },
   {
    "duration": 33,
    "start_time": "2023-02-13T16:01:39.294Z"
   },
   {
    "duration": 27,
    "start_time": "2023-02-13T16:01:39.329Z"
   },
   {
    "duration": 20,
    "start_time": "2023-02-13T16:01:39.359Z"
   },
   {
    "duration": 6,
    "start_time": "2023-02-13T16:01:39.382Z"
   },
   {
    "duration": 7,
    "start_time": "2023-02-13T16:01:39.391Z"
   },
   {
    "duration": 4,
    "start_time": "2023-02-13T16:01:39.400Z"
   },
   {
    "duration": 294,
    "start_time": "2023-02-13T16:01:39.405Z"
   },
   {
    "duration": 18,
    "start_time": "2023-02-13T16:01:39.701Z"
   },
   {
    "duration": 52,
    "start_time": "2023-02-13T16:01:39.721Z"
   },
   {
    "duration": 269,
    "start_time": "2023-02-13T16:01:39.776Z"
   },
   {
    "duration": 259,
    "start_time": "2023-02-13T16:01:40.053Z"
   },
   {
    "duration": 294,
    "start_time": "2023-02-13T16:01:40.313Z"
   },
   {
    "duration": 295,
    "start_time": "2023-02-13T16:01:40.610Z"
   },
   {
    "duration": 322,
    "start_time": "2023-02-13T16:01:40.906Z"
   },
   {
    "duration": 279,
    "start_time": "2023-02-13T16:01:41.230Z"
   },
   {
    "duration": 225,
    "start_time": "2023-02-13T16:01:41.511Z"
   },
   {
    "duration": 263,
    "start_time": "2023-02-13T16:01:41.738Z"
   },
   {
    "duration": 248,
    "start_time": "2023-02-13T16:01:42.003Z"
   },
   {
    "duration": 382,
    "start_time": "2023-02-13T16:01:42.254Z"
   },
   {
    "duration": 772,
    "start_time": "2023-02-13T16:01:42.638Z"
   },
   {
    "duration": 423,
    "start_time": "2023-02-13T16:01:43.412Z"
   },
   {
    "duration": 203,
    "start_time": "2023-02-13T16:01:43.836Z"
   },
   {
    "duration": 261,
    "start_time": "2023-02-13T16:01:44.041Z"
   },
   {
    "duration": 228,
    "start_time": "2023-02-13T16:01:44.304Z"
   },
   {
    "duration": 276,
    "start_time": "2023-02-13T16:01:44.534Z"
   },
   {
    "duration": 24,
    "start_time": "2023-02-13T16:01:44.811Z"
   },
   {
    "duration": 23,
    "start_time": "2023-02-13T16:01:44.837Z"
   },
   {
    "duration": 37,
    "start_time": "2023-02-13T16:01:44.862Z"
   },
   {
    "duration": 77,
    "start_time": "2023-02-13T16:02:29.374Z"
   },
   {
    "duration": 9,
    "start_time": "2023-02-13T16:02:48.623Z"
   },
   {
    "duration": 21,
    "start_time": "2023-02-13T16:03:13.446Z"
   },
   {
    "duration": 20,
    "start_time": "2023-02-13T16:03:17.890Z"
   },
   {
    "duration": 52,
    "start_time": "2023-02-13T16:03:22.023Z"
   },
   {
    "duration": 4,
    "start_time": "2023-02-13T16:03:46.429Z"
   },
   {
    "duration": 94,
    "start_time": "2023-02-13T16:03:46.435Z"
   },
   {
    "duration": 45,
    "start_time": "2023-02-13T16:03:46.531Z"
   },
   {
    "duration": 16,
    "start_time": "2023-02-13T16:03:46.578Z"
   },
   {
    "duration": 23,
    "start_time": "2023-02-13T16:03:46.596Z"
   },
   {
    "duration": 35,
    "start_time": "2023-02-13T16:03:46.621Z"
   },
   {
    "duration": 1913,
    "start_time": "2023-02-13T16:03:46.658Z"
   },
   {
    "duration": 14,
    "start_time": "2023-02-13T16:03:48.577Z"
   },
   {
    "duration": 9,
    "start_time": "2023-02-13T16:03:48.594Z"
   },
   {
    "duration": 11,
    "start_time": "2023-02-13T16:03:48.605Z"
   },
   {
    "duration": 15,
    "start_time": "2023-02-13T16:03:48.619Z"
   },
   {
    "duration": 37,
    "start_time": "2023-02-13T16:03:48.654Z"
   },
   {
    "duration": 19,
    "start_time": "2023-02-13T16:03:48.693Z"
   },
   {
    "duration": 6,
    "start_time": "2023-02-13T16:03:48.714Z"
   },
   {
    "duration": 14,
    "start_time": "2023-02-13T16:03:48.722Z"
   },
   {
    "duration": 10,
    "start_time": "2023-02-13T16:03:48.738Z"
   },
   {
    "duration": 18,
    "start_time": "2023-02-13T16:03:48.750Z"
   },
   {
    "duration": 22,
    "start_time": "2023-02-13T16:03:48.770Z"
   },
   {
    "duration": 15,
    "start_time": "2023-02-13T16:03:48.794Z"
   },
   {
    "duration": 19,
    "start_time": "2023-02-13T16:03:48.811Z"
   },
   {
    "duration": 20,
    "start_time": "2023-02-13T16:03:48.832Z"
   },
   {
    "duration": 39,
    "start_time": "2023-02-13T16:03:48.853Z"
   },
   {
    "duration": 12,
    "start_time": "2023-02-13T16:03:48.895Z"
   },
   {
    "duration": 24,
    "start_time": "2023-02-13T16:03:48.909Z"
   },
   {
    "duration": 7,
    "start_time": "2023-02-13T16:03:48.935Z"
   },
   {
    "duration": 6,
    "start_time": "2023-02-13T16:03:48.944Z"
   },
   {
    "duration": 23,
    "start_time": "2023-02-13T16:03:48.952Z"
   },
   {
    "duration": 5,
    "start_time": "2023-02-13T16:03:48.977Z"
   },
   {
    "duration": 6,
    "start_time": "2023-02-13T16:03:48.986Z"
   },
   {
    "duration": 101,
    "start_time": "2023-02-13T16:03:48.993Z"
   },
   {
    "duration": 7,
    "start_time": "2023-02-13T16:03:49.096Z"
   },
   {
    "duration": 11,
    "start_time": "2023-02-13T16:03:49.104Z"
   },
   {
    "duration": 7,
    "start_time": "2023-02-13T16:03:49.117Z"
   },
   {
    "duration": 42,
    "start_time": "2023-02-13T16:03:49.126Z"
   },
   {
    "duration": 7,
    "start_time": "2023-02-13T16:03:49.170Z"
   },
   {
    "duration": 14,
    "start_time": "2023-02-13T16:03:49.179Z"
   },
   {
    "duration": 4,
    "start_time": "2023-02-13T16:03:49.195Z"
   },
   {
    "duration": 8,
    "start_time": "2023-02-13T16:03:49.201Z"
   },
   {
    "duration": 10,
    "start_time": "2023-02-13T16:03:49.211Z"
   },
   {
    "duration": 41,
    "start_time": "2023-02-13T16:03:49.223Z"
   },
   {
    "duration": 7,
    "start_time": "2023-02-13T16:03:49.270Z"
   },
   {
    "duration": 15,
    "start_time": "2023-02-13T16:03:49.279Z"
   },
   {
    "duration": 10,
    "start_time": "2023-02-13T16:03:49.296Z"
   },
   {
    "duration": 22,
    "start_time": "2023-02-13T16:03:49.308Z"
   },
   {
    "duration": 24,
    "start_time": "2023-02-13T16:03:49.332Z"
   },
   {
    "duration": 55,
    "start_time": "2023-02-13T16:03:49.366Z"
   },
   {
    "duration": 18,
    "start_time": "2023-02-13T16:03:49.422Z"
   },
   {
    "duration": 36,
    "start_time": "2023-02-13T16:03:49.441Z"
   },
   {
    "duration": 47,
    "start_time": "2023-02-13T16:03:49.479Z"
   },
   {
    "duration": 4,
    "start_time": "2023-02-13T16:03:49.528Z"
   },
   {
    "duration": 26,
    "start_time": "2023-02-13T16:03:49.535Z"
   },
   {
    "duration": 36,
    "start_time": "2023-02-13T16:03:49.565Z"
   },
   {
    "duration": 8,
    "start_time": "2023-02-13T16:03:49.604Z"
   },
   {
    "duration": 5,
    "start_time": "2023-02-13T16:03:49.614Z"
   },
   {
    "duration": 304,
    "start_time": "2023-02-13T16:03:49.621Z"
   },
   {
    "duration": 26,
    "start_time": "2023-02-13T16:03:49.927Z"
   },
   {
    "duration": 25,
    "start_time": "2023-02-13T16:03:49.955Z"
   },
   {
    "duration": 279,
    "start_time": "2023-02-13T16:03:49.981Z"
   },
   {
    "duration": 578,
    "start_time": "2023-02-13T16:03:50.262Z"
   },
   {
    "duration": 282,
    "start_time": "2023-02-13T16:03:50.842Z"
   },
   {
    "duration": 277,
    "start_time": "2023-02-13T16:03:51.126Z"
   },
   {
    "duration": 296,
    "start_time": "2023-02-13T16:03:51.405Z"
   },
   {
    "duration": 269,
    "start_time": "2023-02-13T16:03:51.703Z"
   },
   {
    "duration": 205,
    "start_time": "2023-02-13T16:03:51.974Z"
   },
   {
    "duration": 260,
    "start_time": "2023-02-13T16:03:52.181Z"
   },
   {
    "duration": 269,
    "start_time": "2023-02-13T16:03:52.443Z"
   },
   {
    "duration": 422,
    "start_time": "2023-02-13T16:03:52.714Z"
   },
   {
    "duration": 419,
    "start_time": "2023-02-13T16:03:53.138Z"
   },
   {
    "duration": 379,
    "start_time": "2023-02-13T16:03:53.561Z"
   },
   {
    "duration": 195,
    "start_time": "2023-02-13T16:03:53.941Z"
   },
   {
    "duration": 267,
    "start_time": "2023-02-13T16:03:54.137Z"
   },
   {
    "duration": 230,
    "start_time": "2023-02-13T16:03:54.405Z"
   },
   {
    "duration": 734,
    "start_time": "2023-02-13T16:03:54.637Z"
   },
   {
    "duration": 26,
    "start_time": "2023-02-13T16:03:55.373Z"
   },
   {
    "duration": 8,
    "start_time": "2023-02-13T16:03:55.401Z"
   },
   {
    "duration": 28,
    "start_time": "2023-02-13T16:03:55.411Z"
   },
   {
    "duration": 49,
    "start_time": "2023-02-13T16:05:29.078Z"
   },
   {
    "duration": 51,
    "start_time": "2023-02-13T16:06:45.466Z"
   },
   {
    "duration": 60,
    "start_time": "2023-02-13T16:07:13.949Z"
   },
   {
    "duration": 20,
    "start_time": "2023-02-13T16:09:10.538Z"
   },
   {
    "duration": 63,
    "start_time": "2023-02-13T16:10:18.810Z"
   },
   {
    "duration": 57,
    "start_time": "2023-02-13T16:10:36.944Z"
   },
   {
    "duration": 57,
    "start_time": "2023-02-13T16:11:05.746Z"
   },
   {
    "duration": 45,
    "start_time": "2023-02-13T16:11:48.296Z"
   },
   {
    "duration": 23,
    "start_time": "2023-02-13T16:12:25.720Z"
   },
   {
    "duration": 61,
    "start_time": "2023-02-13T16:12:35.622Z"
   },
   {
    "duration": 23,
    "start_time": "2023-02-13T16:13:25.778Z"
   },
   {
    "duration": 21,
    "start_time": "2023-02-13T16:13:35.964Z"
   },
   {
    "duration": 24,
    "start_time": "2023-02-13T16:13:45.078Z"
   },
   {
    "duration": 160,
    "start_time": "2023-02-13T16:14:23.439Z"
   },
   {
    "duration": 47,
    "start_time": "2023-02-14T07:45:24.172Z"
   },
   {
    "duration": 405,
    "start_time": "2023-02-14T07:45:27.957Z"
   },
   {
    "duration": 147,
    "start_time": "2023-02-14T07:45:28.364Z"
   },
   {
    "duration": 46,
    "start_time": "2023-02-14T07:45:28.513Z"
   },
   {
    "duration": 15,
    "start_time": "2023-02-14T07:45:28.561Z"
   },
   {
    "duration": 37,
    "start_time": "2023-02-14T07:45:28.577Z"
   },
   {
    "duration": 3,
    "start_time": "2023-02-14T07:45:28.616Z"
   },
   {
    "duration": 2340,
    "start_time": "2023-02-14T07:45:28.621Z"
   },
   {
    "duration": 10,
    "start_time": "2023-02-14T07:45:30.964Z"
   },
   {
    "duration": 55,
    "start_time": "2023-02-14T07:45:30.976Z"
   },
   {
    "duration": 29,
    "start_time": "2023-02-14T07:45:31.035Z"
   },
   {
    "duration": 20,
    "start_time": "2023-02-14T07:45:31.066Z"
   },
   {
    "duration": 32,
    "start_time": "2023-02-14T07:45:31.088Z"
   },
   {
    "duration": 16,
    "start_time": "2023-02-14T07:45:31.122Z"
   },
   {
    "duration": 20,
    "start_time": "2023-02-14T07:45:31.140Z"
   },
   {
    "duration": 23,
    "start_time": "2023-02-14T07:45:31.162Z"
   },
   {
    "duration": 18,
    "start_time": "2023-02-14T07:45:31.187Z"
   },
   {
    "duration": 17,
    "start_time": "2023-02-14T07:45:31.208Z"
   },
   {
    "duration": 19,
    "start_time": "2023-02-14T07:45:31.227Z"
   },
   {
    "duration": 15,
    "start_time": "2023-02-14T07:45:31.248Z"
   },
   {
    "duration": 33,
    "start_time": "2023-02-14T07:45:31.265Z"
   },
   {
    "duration": 19,
    "start_time": "2023-02-14T07:45:31.300Z"
   },
   {
    "duration": 18,
    "start_time": "2023-02-14T07:45:31.321Z"
   },
   {
    "duration": 25,
    "start_time": "2023-02-14T07:45:31.341Z"
   },
   {
    "duration": 22,
    "start_time": "2023-02-14T07:45:31.368Z"
   },
   {
    "duration": 16,
    "start_time": "2023-02-14T07:45:31.392Z"
   },
   {
    "duration": 15,
    "start_time": "2023-02-14T07:45:31.410Z"
   },
   {
    "duration": 13,
    "start_time": "2023-02-14T07:45:31.427Z"
   },
   {
    "duration": 6,
    "start_time": "2023-02-14T07:45:31.444Z"
   },
   {
    "duration": 7,
    "start_time": "2023-02-14T07:45:31.451Z"
   },
   {
    "duration": 88,
    "start_time": "2023-02-14T07:45:31.460Z"
   },
   {
    "duration": 9,
    "start_time": "2023-02-14T07:45:31.550Z"
   },
   {
    "duration": 28,
    "start_time": "2023-02-14T07:45:31.560Z"
   },
   {
    "duration": 26,
    "start_time": "2023-02-14T07:45:31.590Z"
   },
   {
    "duration": 37,
    "start_time": "2023-02-14T07:45:31.617Z"
   },
   {
    "duration": 25,
    "start_time": "2023-02-14T07:45:31.656Z"
   },
   {
    "duration": 16,
    "start_time": "2023-02-14T07:45:31.682Z"
   },
   {
    "duration": 12,
    "start_time": "2023-02-14T07:45:31.699Z"
   },
   {
    "duration": 10,
    "start_time": "2023-02-14T07:45:31.712Z"
   },
   {
    "duration": 10,
    "start_time": "2023-02-14T07:45:31.724Z"
   },
   {
    "duration": 15,
    "start_time": "2023-02-14T07:45:31.735Z"
   },
   {
    "duration": 7,
    "start_time": "2023-02-14T07:45:31.751Z"
   },
   {
    "duration": 12,
    "start_time": "2023-02-14T07:45:31.759Z"
   },
   {
    "duration": 6,
    "start_time": "2023-02-14T07:45:31.773Z"
   },
   {
    "duration": 7,
    "start_time": "2023-02-14T07:45:31.799Z"
   },
   {
    "duration": 20,
    "start_time": "2023-02-14T07:45:31.808Z"
   },
   {
    "duration": 14,
    "start_time": "2023-02-14T07:45:31.830Z"
   },
   {
    "duration": 30,
    "start_time": "2023-02-14T07:45:31.846Z"
   },
   {
    "duration": 4,
    "start_time": "2023-02-14T07:45:31.898Z"
   },
   {
    "duration": 25,
    "start_time": "2023-02-14T07:45:31.904Z"
   },
   {
    "duration": 14,
    "start_time": "2023-02-14T07:45:31.930Z"
   },
   {
    "duration": 9,
    "start_time": "2023-02-14T07:45:31.945Z"
   },
   {
    "duration": 11,
    "start_time": "2023-02-14T07:45:31.955Z"
   },
   {
    "duration": 246,
    "start_time": "2023-02-14T07:45:31.968Z"
   },
   {
    "duration": 15,
    "start_time": "2023-02-14T07:45:32.215Z"
   },
   {
    "duration": 23,
    "start_time": "2023-02-14T07:45:32.231Z"
   },
   {
    "duration": 282,
    "start_time": "2023-02-14T07:45:32.256Z"
   },
   {
    "duration": 319,
    "start_time": "2023-02-14T07:45:32.540Z"
   },
   {
    "duration": 248,
    "start_time": "2023-02-14T07:45:32.860Z"
   },
   {
    "duration": 255,
    "start_time": "2023-02-14T07:45:33.109Z"
   },
   {
    "duration": 292,
    "start_time": "2023-02-14T07:45:33.366Z"
   },
   {
    "duration": 297,
    "start_time": "2023-02-14T07:45:33.660Z"
   },
   {
    "duration": 282,
    "start_time": "2023-02-14T07:45:33.958Z"
   },
   {
    "duration": 404,
    "start_time": "2023-02-14T07:45:34.242Z"
   },
   {
    "duration": 258,
    "start_time": "2023-02-14T07:45:34.648Z"
   },
   {
    "duration": 418,
    "start_time": "2023-02-14T07:45:34.908Z"
   },
   {
    "duration": 427,
    "start_time": "2023-02-14T07:45:35.328Z"
   },
   {
    "duration": 518,
    "start_time": "2023-02-14T07:45:35.757Z"
   },
   {
    "duration": 207,
    "start_time": "2023-02-14T07:45:36.278Z"
   },
   {
    "duration": 280,
    "start_time": "2023-02-14T07:45:36.487Z"
   },
   {
    "duration": 288,
    "start_time": "2023-02-14T07:45:36.769Z"
   },
   {
    "duration": 314,
    "start_time": "2023-02-14T07:45:37.059Z"
   },
   {
    "duration": 45,
    "start_time": "2023-02-14T07:45:37.375Z"
   },
   {
    "duration": 4,
    "start_time": "2023-02-14T07:45:37.422Z"
   },
   {
    "duration": 171,
    "start_time": "2023-02-14T07:45:37.428Z"
   },
   {
    "duration": 26,
    "start_time": "2023-02-14T07:45:45.776Z"
   },
   {
    "duration": 46,
    "start_time": "2023-02-14T07:46:08.923Z"
   },
   {
    "duration": 26,
    "start_time": "2023-02-14T07:46:23.079Z"
   },
   {
    "duration": 5,
    "start_time": "2023-02-14T07:46:54.491Z"
   },
   {
    "duration": 12,
    "start_time": "2023-02-14T07:47:11.109Z"
   },
   {
    "duration": 11,
    "start_time": "2023-02-14T07:47:27.161Z"
   },
   {
    "duration": 10,
    "start_time": "2023-02-14T07:47:33.875Z"
   },
   {
    "duration": 8,
    "start_time": "2023-02-14T07:48:24.881Z"
   },
   {
    "duration": 43,
    "start_time": "2023-02-14T07:49:50.488Z"
   },
   {
    "duration": 44,
    "start_time": "2023-02-14T07:50:17.356Z"
   },
   {
    "duration": 19,
    "start_time": "2023-02-14T07:50:22.606Z"
   },
   {
    "duration": 24,
    "start_time": "2023-02-14T07:51:05.293Z"
   },
   {
    "duration": 26,
    "start_time": "2023-02-14T07:51:53.424Z"
   },
   {
    "duration": 32,
    "start_time": "2023-02-14T07:52:07.610Z"
   },
   {
    "duration": 24,
    "start_time": "2023-02-14T07:52:50.919Z"
   },
   {
    "duration": 26,
    "start_time": "2023-02-14T07:53:10.798Z"
   },
   {
    "duration": 24,
    "start_time": "2023-02-14T07:53:21.521Z"
   },
   {
    "duration": 18,
    "start_time": "2023-02-14T07:53:28.438Z"
   },
   {
    "duration": 24,
    "start_time": "2023-02-14T07:53:53.788Z"
   },
   {
    "duration": 26,
    "start_time": "2023-02-14T07:54:06.996Z"
   },
   {
    "duration": 9,
    "start_time": "2023-02-14T07:55:48.839Z"
   },
   {
    "duration": 8,
    "start_time": "2023-02-14T07:55:56.601Z"
   },
   {
    "duration": 69,
    "start_time": "2023-02-14T08:00:24.126Z"
   },
   {
    "duration": 29,
    "start_time": "2023-02-14T08:00:37.149Z"
   },
   {
    "duration": 23,
    "start_time": "2023-02-14T08:00:57.004Z"
   },
   {
    "duration": 25,
    "start_time": "2023-02-14T08:01:21.866Z"
   },
   {
    "duration": 24,
    "start_time": "2023-02-14T08:01:35.440Z"
   },
   {
    "duration": 43,
    "start_time": "2023-02-14T08:30:41.158Z"
   },
   {
    "duration": 15,
    "start_time": "2023-02-14T08:30:47.368Z"
   },
   {
    "duration": 14,
    "start_time": "2023-02-14T08:30:57.651Z"
   },
   {
    "duration": 20,
    "start_time": "2023-02-14T08:31:03.942Z"
   },
   {
    "duration": 18,
    "start_time": "2023-02-14T08:31:11.283Z"
   },
   {
    "duration": 15,
    "start_time": "2023-02-14T08:31:19.276Z"
   },
   {
    "duration": 26,
    "start_time": "2023-02-14T08:31:27.297Z"
   },
   {
    "duration": 21,
    "start_time": "2023-02-14T08:31:50.140Z"
   },
   {
    "duration": 22,
    "start_time": "2023-02-14T08:31:59.278Z"
   },
   {
    "duration": 47,
    "start_time": "2023-02-14T08:32:47.363Z"
   },
   {
    "duration": 47,
    "start_time": "2023-02-14T08:32:55.843Z"
   },
   {
    "duration": 30,
    "start_time": "2023-02-14T08:33:07.304Z"
   },
   {
    "duration": 9,
    "start_time": "2023-02-14T08:35:38.047Z"
   },
   {
    "duration": 35,
    "start_time": "2023-02-14T08:36:29.660Z"
   },
   {
    "duration": 58,
    "start_time": "2023-02-14T08:36:38.469Z"
   },
   {
    "duration": 3,
    "start_time": "2023-02-14T08:38:44.179Z"
   },
   {
    "duration": 108,
    "start_time": "2023-02-14T08:38:44.184Z"
   },
   {
    "duration": 55,
    "start_time": "2023-02-14T08:38:44.294Z"
   },
   {
    "duration": 14,
    "start_time": "2023-02-14T08:38:44.351Z"
   },
   {
    "duration": 62,
    "start_time": "2023-02-14T08:38:44.367Z"
   },
   {
    "duration": 4,
    "start_time": "2023-02-14T08:38:44.430Z"
   },
   {
    "duration": 2112,
    "start_time": "2023-02-14T08:38:44.435Z"
   },
   {
    "duration": 9,
    "start_time": "2023-02-14T08:38:46.550Z"
   },
   {
    "duration": 9,
    "start_time": "2023-02-14T08:38:46.561Z"
   },
   {
    "duration": 27,
    "start_time": "2023-02-14T08:38:46.572Z"
   },
   {
    "duration": 16,
    "start_time": "2023-02-14T08:38:46.602Z"
   },
   {
    "duration": 12,
    "start_time": "2023-02-14T08:38:46.620Z"
   },
   {
    "duration": 12,
    "start_time": "2023-02-14T08:38:46.633Z"
   },
   {
    "duration": 5,
    "start_time": "2023-02-14T08:38:46.648Z"
   },
   {
    "duration": 9,
    "start_time": "2023-02-14T08:38:46.654Z"
   },
   {
    "duration": 10,
    "start_time": "2023-02-14T08:38:46.665Z"
   },
   {
    "duration": 33,
    "start_time": "2023-02-14T08:38:46.676Z"
   },
   {
    "duration": 13,
    "start_time": "2023-02-14T08:38:46.711Z"
   },
   {
    "duration": 10,
    "start_time": "2023-02-14T08:38:46.726Z"
   },
   {
    "duration": 13,
    "start_time": "2023-02-14T08:38:46.738Z"
   },
   {
    "duration": 21,
    "start_time": "2023-02-14T08:38:46.753Z"
   },
   {
    "duration": 13,
    "start_time": "2023-02-14T08:38:46.776Z"
   },
   {
    "duration": 11,
    "start_time": "2023-02-14T08:38:46.791Z"
   },
   {
    "duration": 34,
    "start_time": "2023-02-14T08:38:46.804Z"
   },
   {
    "duration": 28,
    "start_time": "2023-02-14T08:38:46.840Z"
   },
   {
    "duration": 9,
    "start_time": "2023-02-14T08:38:46.871Z"
   },
   {
    "duration": 12,
    "start_time": "2023-02-14T08:38:46.882Z"
   },
   {
    "duration": 7,
    "start_time": "2023-02-14T08:38:46.896Z"
   },
   {
    "duration": 21,
    "start_time": "2023-02-14T08:38:46.906Z"
   },
   {
    "duration": 94,
    "start_time": "2023-02-14T08:38:46.929Z"
   },
   {
    "duration": 8,
    "start_time": "2023-02-14T08:38:47.026Z"
   },
   {
    "duration": 11,
    "start_time": "2023-02-14T08:38:47.036Z"
   },
   {
    "duration": 6,
    "start_time": "2023-02-14T08:38:47.049Z"
   },
   {
    "duration": 13,
    "start_time": "2023-02-14T08:38:47.057Z"
   },
   {
    "duration": 9,
    "start_time": "2023-02-14T08:38:47.099Z"
   },
   {
    "duration": 20,
    "start_time": "2023-02-14T08:38:47.112Z"
   },
   {
    "duration": 6,
    "start_time": "2023-02-14T08:38:47.134Z"
   },
   {
    "duration": 10,
    "start_time": "2023-02-14T08:38:47.141Z"
   },
   {
    "duration": 15,
    "start_time": "2023-02-14T08:38:47.153Z"
   },
   {
    "duration": 39,
    "start_time": "2023-02-14T08:38:47.170Z"
   },
   {
    "duration": 15,
    "start_time": "2023-02-14T08:38:47.215Z"
   },
   {
    "duration": 30,
    "start_time": "2023-02-14T08:38:47.232Z"
   },
   {
    "duration": 18,
    "start_time": "2023-02-14T08:38:47.264Z"
   },
   {
    "duration": 16,
    "start_time": "2023-02-14T08:38:47.283Z"
   },
   {
    "duration": 38,
    "start_time": "2023-02-14T08:38:47.304Z"
   },
   {
    "duration": 4,
    "start_time": "2023-02-14T08:38:47.344Z"
   },
   {
    "duration": 12,
    "start_time": "2023-02-14T08:38:47.350Z"
   },
   {
    "duration": 7,
    "start_time": "2023-02-14T08:38:47.364Z"
   },
   {
    "duration": 33,
    "start_time": "2023-02-14T08:38:47.372Z"
   },
   {
    "duration": 16,
    "start_time": "2023-02-14T08:38:47.408Z"
   },
   {
    "duration": 398,
    "start_time": "2023-02-14T08:38:47.426Z"
   },
   {
    "duration": 17,
    "start_time": "2023-02-14T08:38:47.825Z"
   },
   {
    "duration": 28,
    "start_time": "2023-02-14T08:38:47.844Z"
   },
   {
    "duration": 306,
    "start_time": "2023-02-14T08:38:47.874Z"
   },
   {
    "duration": 294,
    "start_time": "2023-02-14T08:38:48.183Z"
   },
   {
    "duration": 305,
    "start_time": "2023-02-14T08:38:48.478Z"
   },
   {
    "duration": 281,
    "start_time": "2023-02-14T08:38:48.784Z"
   },
   {
    "duration": 300,
    "start_time": "2023-02-14T08:38:49.067Z"
   },
   {
    "duration": 414,
    "start_time": "2023-02-14T08:38:49.369Z"
   },
   {
    "duration": 270,
    "start_time": "2023-02-14T08:38:49.785Z"
   },
   {
    "duration": 347,
    "start_time": "2023-02-14T08:38:50.056Z"
   },
   {
    "duration": 328,
    "start_time": "2023-02-14T08:38:50.405Z"
   },
   {
    "duration": 370,
    "start_time": "2023-02-14T08:38:50.734Z"
   },
   {
    "duration": 557,
    "start_time": "2023-02-14T08:38:51.106Z"
   },
   {
    "duration": 415,
    "start_time": "2023-02-14T08:38:51.665Z"
   },
   {
    "duration": 220,
    "start_time": "2023-02-14T08:38:52.082Z"
   },
   {
    "duration": 297,
    "start_time": "2023-02-14T08:38:52.305Z"
   },
   {
    "duration": 264,
    "start_time": "2023-02-14T08:38:52.604Z"
   },
   {
    "duration": 480,
    "start_time": "2023-02-14T08:38:52.870Z"
   },
   {
    "duration": 68,
    "start_time": "2023-02-14T08:38:53.352Z"
   },
   {
    "duration": 27,
    "start_time": "2023-02-14T08:38:53.423Z"
   },
   {
    "duration": 12,
    "start_time": "2023-02-14T08:38:53.451Z"
   },
   {
    "duration": 42,
    "start_time": "2023-02-14T08:38:53.465Z"
   },
   {
    "duration": 179,
    "start_time": "2023-02-14T08:38:53.509Z"
   },
   {
    "duration": 5,
    "start_time": "2023-02-14T08:39:36.410Z"
   },
   {
    "duration": 334,
    "start_time": "2023-02-14T08:39:37.101Z"
   },
   {
    "duration": 154,
    "start_time": "2023-02-14T09:42:24.479Z"
   },
   {
    "duration": 157,
    "start_time": "2023-02-14T09:45:03.411Z"
   },
   {
    "duration": 149,
    "start_time": "2023-02-14T09:45:24.814Z"
   },
   {
    "duration": 159,
    "start_time": "2023-02-14T09:46:56.309Z"
   },
   {
    "duration": 9,
    "start_time": "2023-02-14T09:47:23.607Z"
   },
   {
    "duration": 158,
    "start_time": "2023-02-14T09:49:11.491Z"
   },
   {
    "duration": 152,
    "start_time": "2023-02-14T09:49:15.979Z"
   },
   {
    "duration": 17,
    "start_time": "2023-02-14T09:49:50.706Z"
   },
   {
    "duration": 172,
    "start_time": "2023-02-14T09:50:02.185Z"
   },
   {
    "duration": 61,
    "start_time": "2023-02-14T09:50:45.276Z"
   },
   {
    "duration": 158,
    "start_time": "2023-02-14T09:50:54.810Z"
   },
   {
    "duration": 46,
    "start_time": "2023-02-14T09:51:36.402Z"
   },
   {
    "duration": 18,
    "start_time": "2023-02-14T09:51:42.301Z"
   },
   {
    "duration": 973,
    "start_time": "2023-02-14T09:52:49.712Z"
   },
   {
    "duration": 151,
    "start_time": "2023-02-14T09:53:03.050Z"
   },
   {
    "duration": 163,
    "start_time": "2023-02-14T09:53:27.858Z"
   },
   {
    "duration": 168,
    "start_time": "2023-02-14T09:53:34.510Z"
   },
   {
    "duration": 164,
    "start_time": "2023-02-14T09:53:41.840Z"
   },
   {
    "duration": 150,
    "start_time": "2023-02-14T09:56:12.019Z"
   },
   {
    "duration": 695,
    "start_time": "2023-02-14T09:58:21.980Z"
   },
   {
    "duration": 160,
    "start_time": "2023-02-14T09:58:56.486Z"
   },
   {
    "duration": 28,
    "start_time": "2023-02-14T10:00:04.398Z"
   },
   {
    "duration": 10,
    "start_time": "2023-02-14T10:00:23.109Z"
   },
   {
    "duration": 49,
    "start_time": "2023-02-14T10:03:59.906Z"
   },
   {
    "duration": 18,
    "start_time": "2023-02-14T10:05:57.426Z"
   },
   {
    "duration": 149,
    "start_time": "2023-02-14T10:06:32.607Z"
   },
   {
    "duration": 20,
    "start_time": "2023-02-14T10:06:39.585Z"
   },
   {
    "duration": 17,
    "start_time": "2023-02-14T10:06:48.386Z"
   },
   {
    "duration": 67,
    "start_time": "2023-02-14T10:07:18.747Z"
   },
   {
    "duration": 10,
    "start_time": "2023-02-14T10:07:23.711Z"
   },
   {
    "duration": 17,
    "start_time": "2023-02-14T10:08:38.850Z"
   },
   {
    "duration": 21,
    "start_time": "2023-02-14T10:08:47.345Z"
   },
   {
    "duration": 144,
    "start_time": "2023-02-14T10:08:55.226Z"
   },
   {
    "duration": 153,
    "start_time": "2023-02-14T10:10:02.460Z"
   },
   {
    "duration": 155,
    "start_time": "2023-02-14T10:10:16.594Z"
   },
   {
    "duration": 277,
    "start_time": "2023-02-14T10:10:25.800Z"
   },
   {
    "duration": 157,
    "start_time": "2023-02-14T10:10:34.828Z"
   },
   {
    "duration": 272,
    "start_time": "2023-02-14T10:18:37.273Z"
   },
   {
    "duration": 165,
    "start_time": "2023-02-14T10:18:52.975Z"
   },
   {
    "duration": 146,
    "start_time": "2023-02-14T10:19:17.604Z"
   },
   {
    "duration": 196,
    "start_time": "2023-02-14T10:19:24.021Z"
   },
   {
    "duration": 143,
    "start_time": "2023-02-14T10:19:42.708Z"
   },
   {
    "duration": 142,
    "start_time": "2023-02-14T10:19:48.075Z"
   },
   {
    "duration": 1329,
    "start_time": "2023-02-14T10:20:53.667Z"
   },
   {
    "duration": 1580,
    "start_time": "2023-02-14T10:21:03.654Z"
   },
   {
    "duration": 9,
    "start_time": "2023-02-14T10:21:26.019Z"
   },
   {
    "duration": 11,
    "start_time": "2023-02-14T10:21:30.706Z"
   },
   {
    "duration": 1237,
    "start_time": "2023-02-14T10:21:57.111Z"
   },
   {
    "duration": 1179,
    "start_time": "2023-02-14T10:22:19.510Z"
   },
   {
    "duration": 1137,
    "start_time": "2023-02-14T10:22:26.815Z"
   },
   {
    "duration": 1416,
    "start_time": "2023-02-14T10:22:54.256Z"
   },
   {
    "duration": 17,
    "start_time": "2023-02-14T10:24:09.127Z"
   },
   {
    "duration": 26,
    "start_time": "2023-02-14T10:29:18.422Z"
   },
   {
    "duration": 44,
    "start_time": "2023-02-14T10:29:18.451Z"
   },
   {
    "duration": 14,
    "start_time": "2023-02-14T10:31:17.070Z"
   },
   {
    "duration": 899,
    "start_time": "2023-02-14T10:31:48.626Z"
   },
   {
    "duration": 1075,
    "start_time": "2023-02-14T10:32:41.677Z"
   },
   {
    "duration": 1012,
    "start_time": "2023-02-14T10:33:06.855Z"
   },
   {
    "duration": 50,
    "start_time": "2023-02-14T10:33:25.737Z"
   },
   {
    "duration": 1343,
    "start_time": "2023-02-14T10:33:42.107Z"
   },
   {
    "duration": 1323,
    "start_time": "2023-02-14T10:34:21.955Z"
   },
   {
    "duration": 1293,
    "start_time": "2023-02-14T10:34:32.466Z"
   },
   {
    "duration": 1333,
    "start_time": "2023-02-14T10:34:43.179Z"
   },
   {
    "duration": 1272,
    "start_time": "2023-02-14T10:34:51.702Z"
   },
   {
    "duration": 1384,
    "start_time": "2023-02-14T10:34:59.364Z"
   },
   {
    "duration": 1289,
    "start_time": "2023-02-14T10:35:27.358Z"
   },
   {
    "duration": 421,
    "start_time": "2023-02-14T10:47:08.929Z"
   },
   {
    "duration": 2619,
    "start_time": "2023-02-14T10:47:22.336Z"
   },
   {
    "duration": 28,
    "start_time": "2023-02-14T10:47:56.134Z"
   },
   {
    "duration": 36,
    "start_time": "2023-02-14T10:48:21.883Z"
   },
   {
    "duration": 45,
    "start_time": "2023-02-14T10:48:43.897Z"
   },
   {
    "duration": 50,
    "start_time": "2023-02-14T10:48:48.144Z"
   },
   {
    "duration": 872,
    "start_time": "2023-02-14T11:04:32.854Z"
   },
   {
    "duration": 167,
    "start_time": "2023-02-14T11:04:42.684Z"
   },
   {
    "duration": 209,
    "start_time": "2023-02-14T11:04:47.544Z"
   },
   {
    "duration": 548,
    "start_time": "2023-02-14T11:05:03.799Z"
   },
   {
    "duration": 863,
    "start_time": "2023-02-14T11:05:13.769Z"
   },
   {
    "duration": 403,
    "start_time": "2023-02-15T08:21:10.021Z"
   },
   {
    "duration": 144,
    "start_time": "2023-02-15T08:21:10.425Z"
   },
   {
    "duration": 46,
    "start_time": "2023-02-15T08:21:10.570Z"
   },
   {
    "duration": 14,
    "start_time": "2023-02-15T08:21:10.618Z"
   },
   {
    "duration": 28,
    "start_time": "2023-02-15T08:21:10.634Z"
   },
   {
    "duration": 4,
    "start_time": "2023-02-15T08:21:10.664Z"
   },
   {
    "duration": 2227,
    "start_time": "2023-02-15T08:21:10.670Z"
   },
   {
    "duration": 9,
    "start_time": "2023-02-15T08:21:12.899Z"
   },
   {
    "duration": 14,
    "start_time": "2023-02-15T08:21:12.910Z"
   },
   {
    "duration": 7,
    "start_time": "2023-02-15T08:21:12.926Z"
   },
   {
    "duration": 7,
    "start_time": "2023-02-15T08:21:12.934Z"
   },
   {
    "duration": 12,
    "start_time": "2023-02-15T08:21:12.942Z"
   },
   {
    "duration": 11,
    "start_time": "2023-02-15T08:21:12.956Z"
   },
   {
    "duration": 5,
    "start_time": "2023-02-15T08:21:13.000Z"
   },
   {
    "duration": 9,
    "start_time": "2023-02-15T08:21:13.007Z"
   },
   {
    "duration": 8,
    "start_time": "2023-02-15T08:21:13.017Z"
   },
   {
    "duration": 5,
    "start_time": "2023-02-15T08:21:13.026Z"
   },
   {
    "duration": 14,
    "start_time": "2023-02-15T08:21:13.033Z"
   },
   {
    "duration": 6,
    "start_time": "2023-02-15T08:21:13.048Z"
   },
   {
    "duration": 46,
    "start_time": "2023-02-15T08:21:13.056Z"
   },
   {
    "duration": 5,
    "start_time": "2023-02-15T08:21:13.104Z"
   },
   {
    "duration": 10,
    "start_time": "2023-02-15T08:21:13.110Z"
   },
   {
    "duration": 5,
    "start_time": "2023-02-15T08:21:13.122Z"
   },
   {
    "duration": 13,
    "start_time": "2023-02-15T08:21:13.128Z"
   },
   {
    "duration": 7,
    "start_time": "2023-02-15T08:21:13.142Z"
   },
   {
    "duration": 7,
    "start_time": "2023-02-15T08:21:13.151Z"
   },
   {
    "duration": 45,
    "start_time": "2023-02-15T08:21:13.160Z"
   },
   {
    "duration": 17,
    "start_time": "2023-02-15T08:21:13.210Z"
   },
   {
    "duration": 10,
    "start_time": "2023-02-15T08:21:13.229Z"
   },
   {
    "duration": 84,
    "start_time": "2023-02-15T08:21:13.241Z"
   },
   {
    "duration": 8,
    "start_time": "2023-02-15T08:21:13.327Z"
   },
   {
    "duration": 18,
    "start_time": "2023-02-15T08:21:13.336Z"
   },
   {
    "duration": 7,
    "start_time": "2023-02-15T08:21:13.355Z"
   },
   {
    "duration": 18,
    "start_time": "2023-02-15T08:21:13.363Z"
   },
   {
    "duration": 24,
    "start_time": "2023-02-15T08:21:13.383Z"
   },
   {
    "duration": 15,
    "start_time": "2023-02-15T08:21:13.409Z"
   },
   {
    "duration": 6,
    "start_time": "2023-02-15T08:21:13.425Z"
   },
   {
    "duration": 21,
    "start_time": "2023-02-15T08:21:13.433Z"
   },
   {
    "duration": 8,
    "start_time": "2023-02-15T08:21:13.456Z"
   },
   {
    "duration": 16,
    "start_time": "2023-02-15T08:21:13.466Z"
   },
   {
    "duration": 8,
    "start_time": "2023-02-15T08:21:13.500Z"
   },
   {
    "duration": 26,
    "start_time": "2023-02-15T08:21:13.510Z"
   },
   {
    "duration": 14,
    "start_time": "2023-02-15T08:21:13.538Z"
   },
   {
    "duration": 17,
    "start_time": "2023-02-15T08:21:13.554Z"
   },
   {
    "duration": 45,
    "start_time": "2023-02-15T08:21:13.573Z"
   },
   {
    "duration": 4,
    "start_time": "2023-02-15T08:21:13.620Z"
   },
   {
    "duration": 11,
    "start_time": "2023-02-15T08:21:13.625Z"
   },
   {
    "duration": 10,
    "start_time": "2023-02-15T08:21:13.637Z"
   },
   {
    "duration": 5,
    "start_time": "2023-02-15T08:21:13.649Z"
   },
   {
    "duration": 4,
    "start_time": "2023-02-15T08:21:13.656Z"
   },
   {
    "duration": 297,
    "start_time": "2023-02-15T08:21:13.661Z"
   },
   {
    "duration": 19,
    "start_time": "2023-02-15T08:21:13.960Z"
   },
   {
    "duration": 43,
    "start_time": "2023-02-15T08:21:13.981Z"
   },
   {
    "duration": 3,
    "start_time": "2023-02-15T08:21:14.026Z"
   },
   {
    "duration": 273,
    "start_time": "2023-02-15T08:21:14.031Z"
   },
   {
    "duration": 335,
    "start_time": "2023-02-15T08:21:14.306Z"
   },
   {
    "duration": 245,
    "start_time": "2023-02-15T08:21:14.642Z"
   },
   {
    "duration": 266,
    "start_time": "2023-02-15T08:21:14.889Z"
   },
   {
    "duration": 245,
    "start_time": "2023-02-15T08:21:15.156Z"
   },
   {
    "duration": 201,
    "start_time": "2023-02-15T08:21:15.402Z"
   },
   {
    "duration": 228,
    "start_time": "2023-02-15T08:21:15.605Z"
   },
   {
    "duration": 364,
    "start_time": "2023-02-15T08:21:15.835Z"
   },
   {
    "duration": 455,
    "start_time": "2023-02-15T08:21:16.200Z"
   },
   {
    "duration": 338,
    "start_time": "2023-02-15T08:21:16.657Z"
   },
   {
    "duration": 379,
    "start_time": "2023-02-15T08:21:16.998Z"
   },
   {
    "duration": 328,
    "start_time": "2023-02-15T08:21:17.378Z"
   },
   {
    "duration": 236,
    "start_time": "2023-02-15T08:21:17.707Z"
   },
   {
    "duration": 215,
    "start_time": "2023-02-15T08:21:17.944Z"
   },
   {
    "duration": 399,
    "start_time": "2023-02-15T08:21:18.160Z"
   },
   {
    "duration": 1304,
    "start_time": "2023-02-15T08:21:18.561Z"
   },
   {
    "duration": 33,
    "start_time": "2023-02-15T08:21:19.867Z"
   },
   {
    "duration": 8,
    "start_time": "2023-02-15T08:21:19.902Z"
   },
   {
    "duration": 10,
    "start_time": "2023-02-15T08:21:19.911Z"
   },
   {
    "duration": 168,
    "start_time": "2023-02-15T08:21:19.923Z"
   },
   {
    "duration": 12,
    "start_time": "2023-02-15T08:21:34.223Z"
   },
   {
    "duration": 4,
    "start_time": "2023-02-15T08:21:39.982Z"
   },
   {
    "duration": 113,
    "start_time": "2023-02-15T08:21:39.988Z"
   },
   {
    "duration": 45,
    "start_time": "2023-02-15T08:21:40.103Z"
   },
   {
    "duration": 25,
    "start_time": "2023-02-15T08:21:40.150Z"
   },
   {
    "duration": 43,
    "start_time": "2023-02-15T08:21:40.177Z"
   },
   {
    "duration": 5,
    "start_time": "2023-02-15T08:21:40.222Z"
   },
   {
    "duration": 1920,
    "start_time": "2023-02-15T08:21:40.229Z"
   },
   {
    "duration": 10,
    "start_time": "2023-02-15T08:21:42.151Z"
   },
   {
    "duration": 7,
    "start_time": "2023-02-15T08:21:42.163Z"
   },
   {
    "duration": 28,
    "start_time": "2023-02-15T08:21:42.172Z"
   },
   {
    "duration": 7,
    "start_time": "2023-02-15T08:21:42.202Z"
   },
   {
    "duration": 10,
    "start_time": "2023-02-15T08:21:42.210Z"
   },
   {
    "duration": 11,
    "start_time": "2023-02-15T08:21:42.221Z"
   },
   {
    "duration": 7,
    "start_time": "2023-02-15T08:21:42.234Z"
   },
   {
    "duration": 11,
    "start_time": "2023-02-15T08:21:42.243Z"
   },
   {
    "duration": 8,
    "start_time": "2023-02-15T08:21:42.256Z"
   },
   {
    "duration": 38,
    "start_time": "2023-02-15T08:21:42.265Z"
   },
   {
    "duration": 5,
    "start_time": "2023-02-15T08:21:42.305Z"
   },
   {
    "duration": 9,
    "start_time": "2023-02-15T08:21:42.312Z"
   },
   {
    "duration": 7,
    "start_time": "2023-02-15T08:21:42.323Z"
   },
   {
    "duration": 5,
    "start_time": "2023-02-15T08:21:42.332Z"
   },
   {
    "duration": 19,
    "start_time": "2023-02-15T08:21:42.338Z"
   },
   {
    "duration": 6,
    "start_time": "2023-02-15T08:21:42.359Z"
   },
   {
    "duration": 36,
    "start_time": "2023-02-15T08:21:42.369Z"
   },
   {
    "duration": 5,
    "start_time": "2023-02-15T08:21:42.407Z"
   },
   {
    "duration": 7,
    "start_time": "2023-02-15T08:21:42.413Z"
   },
   {
    "duration": 6,
    "start_time": "2023-02-15T08:21:42.421Z"
   },
   {
    "duration": 6,
    "start_time": "2023-02-15T08:21:42.428Z"
   },
   {
    "duration": 8,
    "start_time": "2023-02-15T08:21:42.436Z"
   },
   {
    "duration": 110,
    "start_time": "2023-02-15T08:21:42.446Z"
   },
   {
    "duration": 8,
    "start_time": "2023-02-15T08:21:42.558Z"
   },
   {
    "duration": 14,
    "start_time": "2023-02-15T08:21:42.568Z"
   },
   {
    "duration": 7,
    "start_time": "2023-02-15T08:21:42.598Z"
   },
   {
    "duration": 10,
    "start_time": "2023-02-15T08:21:42.607Z"
   },
   {
    "duration": 6,
    "start_time": "2023-02-15T08:21:42.618Z"
   },
   {
    "duration": 10,
    "start_time": "2023-02-15T08:21:42.626Z"
   },
   {
    "duration": 4,
    "start_time": "2023-02-15T08:21:42.638Z"
   },
   {
    "duration": 11,
    "start_time": "2023-02-15T08:21:42.643Z"
   },
   {
    "duration": 8,
    "start_time": "2023-02-15T08:21:42.656Z"
   },
   {
    "duration": 10,
    "start_time": "2023-02-15T08:21:42.699Z"
   },
   {
    "duration": 7,
    "start_time": "2023-02-15T08:21:42.710Z"
   },
   {
    "duration": 11,
    "start_time": "2023-02-15T08:21:42.718Z"
   },
   {
    "duration": 23,
    "start_time": "2023-02-15T08:21:42.730Z"
   },
   {
    "duration": 15,
    "start_time": "2023-02-15T08:21:42.754Z"
   },
   {
    "duration": 50,
    "start_time": "2023-02-15T08:21:42.770Z"
   },
   {
    "duration": 4,
    "start_time": "2023-02-15T08:21:42.822Z"
   },
   {
    "duration": 9,
    "start_time": "2023-02-15T08:21:42.828Z"
   },
   {
    "duration": 21,
    "start_time": "2023-02-15T08:21:42.838Z"
   },
   {
    "duration": 6,
    "start_time": "2023-02-15T08:21:42.861Z"
   },
   {
    "duration": 3,
    "start_time": "2023-02-15T08:21:42.869Z"
   },
   {
    "duration": 255,
    "start_time": "2023-02-15T08:21:42.874Z"
   },
   {
    "duration": 15,
    "start_time": "2023-02-15T08:21:43.131Z"
   },
   {
    "duration": 37,
    "start_time": "2023-02-15T08:21:43.148Z"
   },
   {
    "duration": 5,
    "start_time": "2023-02-15T08:21:43.186Z"
   },
   {
    "duration": 229,
    "start_time": "2023-02-15T08:21:43.193Z"
   },
   {
    "duration": 278,
    "start_time": "2023-02-15T08:21:43.424Z"
   },
   {
    "duration": 285,
    "start_time": "2023-02-15T08:21:43.704Z"
   },
   {
    "duration": 407,
    "start_time": "2023-02-15T08:21:43.992Z"
   },
   {
    "duration": 245,
    "start_time": "2023-02-15T08:21:44.400Z"
   },
   {
    "duration": 207,
    "start_time": "2023-02-15T08:21:44.647Z"
   },
   {
    "duration": 235,
    "start_time": "2023-02-15T08:21:44.856Z"
   },
   {
    "duration": 252,
    "start_time": "2023-02-15T08:21:45.093Z"
   },
   {
    "duration": 532,
    "start_time": "2023-02-15T08:21:45.347Z"
   },
   {
    "duration": 367,
    "start_time": "2023-02-15T08:21:45.881Z"
   },
   {
    "duration": 420,
    "start_time": "2023-02-15T08:21:46.251Z"
   },
   {
    "duration": 187,
    "start_time": "2023-02-15T08:21:46.673Z"
   },
   {
    "duration": 275,
    "start_time": "2023-02-15T08:21:46.862Z"
   },
   {
    "duration": 390,
    "start_time": "2023-02-15T08:21:47.140Z"
   },
   {
    "duration": 419,
    "start_time": "2023-02-15T08:21:47.535Z"
   },
   {
    "duration": 1264,
    "start_time": "2023-02-15T08:21:47.956Z"
   },
   {
    "duration": 24,
    "start_time": "2023-02-15T08:21:49.221Z"
   },
   {
    "duration": 8,
    "start_time": "2023-02-15T08:21:49.247Z"
   },
   {
    "duration": 15,
    "start_time": "2023-02-15T08:21:49.257Z"
   },
   {
    "duration": 163,
    "start_time": "2023-02-15T08:21:49.274Z"
   },
   {
    "duration": 2682,
    "start_time": "2023-02-15T08:22:39.261Z"
   },
   {
    "duration": 4401,
    "start_time": "2023-02-15T08:23:38.808Z"
   },
   {
    "duration": 6,
    "start_time": "2023-02-15T08:24:33.034Z"
   },
   {
    "duration": 10,
    "start_time": "2023-02-15T08:25:03.240Z"
   },
   {
    "duration": 5,
    "start_time": "2023-02-15T08:25:45.908Z"
   },
   {
    "duration": 12,
    "start_time": "2023-02-15T08:26:36.710Z"
   },
   {
    "duration": 8,
    "start_time": "2023-02-15T08:26:39.019Z"
   },
   {
    "duration": 10,
    "start_time": "2023-02-15T08:26:44.232Z"
   },
   {
    "duration": 12,
    "start_time": "2023-02-15T08:26:51.335Z"
   },
   {
    "duration": 12,
    "start_time": "2023-02-15T08:26:57.277Z"
   },
   {
    "duration": 50,
    "start_time": "2023-02-15T08:27:06.641Z"
   },
   {
    "duration": 18,
    "start_time": "2023-02-15T08:27:16.895Z"
   },
   {
    "duration": 23,
    "start_time": "2023-02-15T08:27:21.879Z"
   },
   {
    "duration": 20,
    "start_time": "2023-02-15T08:27:27.706Z"
   },
   {
    "duration": 48,
    "start_time": "2023-02-15T08:27:32.316Z"
   },
   {
    "duration": 10,
    "start_time": "2023-02-15T08:27:57.390Z"
   },
   {
    "duration": 17,
    "start_time": "2023-02-15T08:28:29.974Z"
   },
   {
    "duration": 18,
    "start_time": "2023-02-15T08:28:36.761Z"
   },
   {
    "duration": 15,
    "start_time": "2023-02-15T08:29:46.579Z"
   },
   {
    "duration": 12,
    "start_time": "2023-02-15T08:30:51.703Z"
   },
   {
    "duration": 45,
    "start_time": "2023-02-15T08:33:01.907Z"
   },
   {
    "duration": 4,
    "start_time": "2023-02-15T08:35:04.583Z"
   },
   {
    "duration": 288,
    "start_time": "2023-02-15T08:35:07.333Z"
   },
   {
    "duration": 4,
    "start_time": "2023-02-15T08:36:16.268Z"
   },
   {
    "duration": 5,
    "start_time": "2023-02-15T08:37:01.613Z"
   },
   {
    "duration": 5,
    "start_time": "2023-02-15T08:38:04.229Z"
   },
   {
    "duration": 521,
    "start_time": "2023-02-15T08:38:07.008Z"
   },
   {
    "duration": 3,
    "start_time": "2023-02-15T08:38:41.507Z"
   },
   {
    "duration": 3,
    "start_time": "2023-02-15T08:38:57.684Z"
   },
   {
    "duration": 298,
    "start_time": "2023-02-15T08:39:27.380Z"
   },
   {
    "duration": 359,
    "start_time": "2023-02-15T08:39:41.408Z"
   },
   {
    "duration": 263,
    "start_time": "2023-02-15T08:39:47.310Z"
   },
   {
    "duration": 64,
    "start_time": "2023-02-15T09:03:40.580Z"
   },
   {
    "duration": 38,
    "start_time": "2023-02-15T09:03:48.903Z"
   },
   {
    "duration": 3,
    "start_time": "2023-02-15T09:04:06.014Z"
   },
   {
    "duration": 103,
    "start_time": "2023-02-15T09:04:06.515Z"
   },
   {
    "duration": 25,
    "start_time": "2023-02-15T09:04:07.255Z"
   },
   {
    "duration": 114,
    "start_time": "2023-02-15T09:04:22.662Z"
   },
   {
    "duration": 4,
    "start_time": "2023-02-15T09:04:31.615Z"
   },
   {
    "duration": 116,
    "start_time": "2023-02-15T09:04:31.621Z"
   },
   {
    "duration": 28,
    "start_time": "2023-02-15T09:04:31.738Z"
   },
   {
    "duration": 45,
    "start_time": "2023-02-15T09:04:31.768Z"
   },
   {
    "duration": 23,
    "start_time": "2023-02-15T09:04:31.817Z"
   },
   {
    "duration": 9,
    "start_time": "2023-02-15T09:04:31.842Z"
   },
   {
    "duration": 3101,
    "start_time": "2023-02-15T09:04:31.853Z"
   },
   {
    "duration": 10,
    "start_time": "2023-02-15T09:04:34.956Z"
   },
   {
    "duration": 10,
    "start_time": "2023-02-15T09:04:34.968Z"
   },
   {
    "duration": 9,
    "start_time": "2023-02-15T09:04:35.000Z"
   },
   {
    "duration": 18,
    "start_time": "2023-02-15T09:04:35.013Z"
   },
   {
    "duration": 24,
    "start_time": "2023-02-15T09:04:35.032Z"
   },
   {
    "duration": 24,
    "start_time": "2023-02-15T09:04:35.059Z"
   },
   {
    "duration": 20,
    "start_time": "2023-02-15T09:04:35.088Z"
   },
   {
    "duration": 18,
    "start_time": "2023-02-15T09:04:35.110Z"
   },
   {
    "duration": 18,
    "start_time": "2023-02-15T09:04:35.130Z"
   },
   {
    "duration": 25,
    "start_time": "2023-02-15T09:04:35.150Z"
   },
   {
    "duration": 21,
    "start_time": "2023-02-15T09:04:35.177Z"
   },
   {
    "duration": 14,
    "start_time": "2023-02-15T09:04:35.200Z"
   },
   {
    "duration": 10,
    "start_time": "2023-02-15T09:04:35.217Z"
   },
   {
    "duration": 11,
    "start_time": "2023-02-15T09:04:35.229Z"
   },
   {
    "duration": 14,
    "start_time": "2023-02-15T09:04:35.242Z"
   },
   {
    "duration": 16,
    "start_time": "2023-02-15T09:04:35.258Z"
   },
   {
    "duration": 25,
    "start_time": "2023-02-15T09:04:35.276Z"
   },
   {
    "duration": 14,
    "start_time": "2023-02-15T09:04:35.302Z"
   },
   {
    "duration": 22,
    "start_time": "2023-02-15T09:04:35.317Z"
   },
   {
    "duration": 14,
    "start_time": "2023-02-15T09:04:35.342Z"
   },
   {
    "duration": 27,
    "start_time": "2023-02-15T09:04:35.358Z"
   },
   {
    "duration": 15,
    "start_time": "2023-02-15T09:04:35.390Z"
   },
   {
    "duration": 93,
    "start_time": "2023-02-15T09:04:35.407Z"
   },
   {
    "duration": 10,
    "start_time": "2023-02-15T09:04:35.503Z"
   },
   {
    "duration": 24,
    "start_time": "2023-02-15T09:04:35.515Z"
   },
   {
    "duration": 9,
    "start_time": "2023-02-15T09:04:35.541Z"
   },
   {
    "duration": 16,
    "start_time": "2023-02-15T09:04:35.553Z"
   },
   {
    "duration": 29,
    "start_time": "2023-02-15T09:04:35.571Z"
   },
   {
    "duration": 17,
    "start_time": "2023-02-15T09:04:35.602Z"
   },
   {
    "duration": 13,
    "start_time": "2023-02-15T09:04:35.622Z"
   },
   {
    "duration": 8,
    "start_time": "2023-02-15T09:04:35.639Z"
   },
   {
    "duration": 10,
    "start_time": "2023-02-15T09:04:35.649Z"
   },
   {
    "duration": 11,
    "start_time": "2023-02-15T09:04:35.661Z"
   },
   {
    "duration": 31,
    "start_time": "2023-02-15T09:04:35.674Z"
   },
   {
    "duration": 14,
    "start_time": "2023-02-15T09:04:35.707Z"
   },
   {
    "duration": 17,
    "start_time": "2023-02-15T09:04:35.723Z"
   },
   {
    "duration": 19,
    "start_time": "2023-02-15T09:04:35.742Z"
   },
   {
    "duration": 46,
    "start_time": "2023-02-15T09:04:35.798Z"
   },
   {
    "duration": 6,
    "start_time": "2023-02-15T09:04:35.845Z"
   },
   {
    "duration": 13,
    "start_time": "2023-02-15T09:04:35.854Z"
   },
   {
    "duration": 31,
    "start_time": "2023-02-15T09:04:35.868Z"
   },
   {
    "duration": 7,
    "start_time": "2023-02-15T09:04:35.902Z"
   },
   {
    "duration": 5,
    "start_time": "2023-02-15T09:04:35.912Z"
   },
   {
    "duration": 360,
    "start_time": "2023-02-15T09:04:35.919Z"
   },
   {
    "duration": 22,
    "start_time": "2023-02-15T09:04:36.281Z"
   },
   {
    "duration": 21,
    "start_time": "2023-02-15T09:04:36.305Z"
   },
   {
    "duration": 5,
    "start_time": "2023-02-15T09:04:36.328Z"
   },
   {
    "duration": 369,
    "start_time": "2023-02-15T09:04:36.335Z"
   },
   {
    "duration": 647,
    "start_time": "2023-02-15T09:04:36.707Z"
   },
   {
    "duration": 319,
    "start_time": "2023-02-15T09:04:37.357Z"
   },
   {
    "duration": 354,
    "start_time": "2023-02-15T09:04:37.679Z"
   },
   {
    "duration": 331,
    "start_time": "2023-02-15T09:04:38.036Z"
   },
   {
    "duration": 263,
    "start_time": "2023-02-15T09:04:38.370Z"
   },
   {
    "duration": 444,
    "start_time": "2023-02-15T09:04:38.636Z"
   },
   {
    "duration": 307,
    "start_time": "2023-02-15T09:04:39.083Z"
   },
   {
    "duration": 426,
    "start_time": "2023-02-15T09:04:39.392Z"
   },
   {
    "duration": 459,
    "start_time": "2023-02-15T09:04:39.820Z"
   },
   {
    "duration": 777,
    "start_time": "2023-02-15T09:04:40.281Z"
   },
   {
    "duration": 208,
    "start_time": "2023-02-15T09:04:41.060Z"
   },
   {
    "duration": 276,
    "start_time": "2023-02-15T09:04:41.270Z"
   },
   {
    "duration": 240,
    "start_time": "2023-02-15T09:04:41.548Z"
   },
   {
    "duration": 449,
    "start_time": "2023-02-15T09:04:41.791Z"
   },
   {
    "duration": 1322,
    "start_time": "2023-02-15T09:04:42.242Z"
   },
   {
    "duration": 44,
    "start_time": "2023-02-15T09:04:43.566Z"
   },
   {
    "duration": 10,
    "start_time": "2023-02-15T09:04:43.612Z"
   },
   {
    "duration": 58,
    "start_time": "2023-02-15T09:04:43.625Z"
   },
   {
    "duration": 208,
    "start_time": "2023-02-15T09:04:43.685Z"
   },
   {
    "duration": 26,
    "start_time": "2023-02-15T09:07:57.324Z"
   },
   {
    "duration": 267,
    "start_time": "2023-02-15T09:11:11.932Z"
   },
   {
    "duration": 246,
    "start_time": "2023-02-15T09:11:16.378Z"
   },
   {
    "duration": 1115,
    "start_time": "2023-02-15T09:11:57.897Z"
   },
   {
    "duration": 750,
    "start_time": "2023-02-15T09:12:05.425Z"
   },
   {
    "duration": 380,
    "start_time": "2023-02-15T09:12:15.158Z"
   },
   {
    "duration": 249,
    "start_time": "2023-02-15T09:12:21.111Z"
   },
   {
    "duration": 6214,
    "start_time": "2023-02-15T09:14:58.336Z"
   },
   {
    "duration": 5,
    "start_time": "2023-02-15T09:16:05.708Z"
   },
   {
    "duration": 28,
    "start_time": "2023-02-15T09:16:09.913Z"
   },
   {
    "duration": 6,
    "start_time": "2023-02-15T09:16:43.632Z"
   },
   {
    "duration": 3,
    "start_time": "2023-02-15T09:17:35.351Z"
   },
   {
    "duration": 623,
    "start_time": "2023-02-15T09:17:36.141Z"
   },
   {
    "duration": 4,
    "start_time": "2023-02-15T09:20:18.437Z"
   },
   {
    "duration": 259,
    "start_time": "2023-02-15T09:20:20.723Z"
   },
   {
    "duration": 4,
    "start_time": "2023-02-15T09:20:28.696Z"
   },
   {
    "duration": 258,
    "start_time": "2023-02-15T09:20:31.405Z"
   },
   {
    "duration": 4,
    "start_time": "2023-02-15T09:20:49.696Z"
   },
   {
    "duration": 372,
    "start_time": "2023-02-15T09:20:53.936Z"
   },
   {
    "duration": 4,
    "start_time": "2023-02-15T09:21:12.770Z"
   },
   {
    "duration": 308,
    "start_time": "2023-02-15T09:21:13.631Z"
   },
   {
    "duration": 4,
    "start_time": "2023-02-15T09:21:25.003Z"
   },
   {
    "duration": 354,
    "start_time": "2023-02-15T09:21:28.175Z"
   },
   {
    "duration": 4,
    "start_time": "2023-02-15T09:21:48.239Z"
   },
   {
    "duration": 256,
    "start_time": "2023-02-15T09:21:49.595Z"
   },
   {
    "duration": 5,
    "start_time": "2023-02-15T09:22:31.378Z"
   },
   {
    "duration": 350,
    "start_time": "2023-02-15T09:22:33.951Z"
   },
   {
    "duration": 6,
    "start_time": "2023-02-15T09:22:49.635Z"
   },
   {
    "duration": 302,
    "start_time": "2023-02-15T09:22:51.831Z"
   },
   {
    "duration": 5,
    "start_time": "2023-02-15T09:23:28.583Z"
   },
   {
    "duration": 259,
    "start_time": "2023-02-15T09:23:29.524Z"
   },
   {
    "duration": 4,
    "start_time": "2023-02-15T09:24:32.612Z"
   },
   {
    "duration": 251,
    "start_time": "2023-02-15T09:24:33.126Z"
   },
   {
    "duration": 32,
    "start_time": "2023-02-15T09:29:54.456Z"
   },
   {
    "duration": 397,
    "start_time": "2023-02-15T09:31:58.955Z"
   },
   {
    "duration": 25,
    "start_time": "2023-02-15T09:32:20.080Z"
   },
   {
    "duration": 319,
    "start_time": "2023-02-15T09:35:27.112Z"
   },
   {
    "duration": 39,
    "start_time": "2023-02-15T09:36:53.392Z"
   },
   {
    "duration": 12,
    "start_time": "2023-02-15T09:39:44.668Z"
   },
   {
    "duration": 9,
    "start_time": "2023-02-15T09:40:13.163Z"
   },
   {
    "duration": 32,
    "start_time": "2023-02-15T10:18:45.779Z"
   },
   {
    "duration": 36,
    "start_time": "2023-02-15T10:22:54.524Z"
   },
   {
    "duration": 31,
    "start_time": "2023-02-15T10:23:29.056Z"
   },
   {
    "duration": 45,
    "start_time": "2023-02-15T10:23:39.142Z"
   },
   {
    "duration": 44,
    "start_time": "2023-02-15T10:29:15.287Z"
   },
   {
    "duration": 62,
    "start_time": "2023-02-15T10:31:06.587Z"
   },
   {
    "duration": 16,
    "start_time": "2023-02-15T10:32:22.094Z"
   },
   {
    "duration": 25,
    "start_time": "2023-02-15T10:32:35.687Z"
   },
   {
    "duration": 15,
    "start_time": "2023-02-15T10:34:44.431Z"
   },
   {
    "duration": 38,
    "start_time": "2023-02-15T10:34:49.708Z"
   },
   {
    "duration": 47,
    "start_time": "2023-02-15T10:39:16.558Z"
   },
   {
    "duration": 265,
    "start_time": "2023-02-15T10:41:38.250Z"
   },
   {
    "duration": 47,
    "start_time": "2023-02-15T10:42:29.424Z"
   },
   {
    "duration": 101,
    "start_time": "2023-02-15T10:45:24.630Z"
   },
   {
    "duration": 24,
    "start_time": "2023-02-15T10:49:52.341Z"
   },
   {
    "duration": 133,
    "start_time": "2023-02-15T11:13:23.259Z"
   },
   {
    "duration": 155,
    "start_time": "2023-02-15T11:13:56.629Z"
   },
   {
    "duration": 163,
    "start_time": "2023-02-15T11:14:11.017Z"
   },
   {
    "duration": 176,
    "start_time": "2023-02-15T11:14:16.877Z"
   },
   {
    "duration": 143,
    "start_time": "2023-02-15T11:14:21.831Z"
   },
   {
    "duration": 139,
    "start_time": "2023-02-15T11:14:26.307Z"
   },
   {
    "duration": 185,
    "start_time": "2023-02-15T11:14:31.091Z"
   },
   {
    "duration": 181,
    "start_time": "2023-02-15T11:14:36.198Z"
   },
   {
    "duration": 184,
    "start_time": "2023-02-15T11:14:40.699Z"
   },
   {
    "duration": 207,
    "start_time": "2023-02-15T11:14:46.302Z"
   },
   {
    "duration": 666,
    "start_time": "2023-02-15T11:14:53.925Z"
   },
   {
    "duration": 152,
    "start_time": "2023-02-15T11:14:59.569Z"
   },
   {
    "duration": 155,
    "start_time": "2023-02-15T11:15:05.181Z"
   },
   {
    "duration": 147,
    "start_time": "2023-02-15T11:15:09.637Z"
   },
   {
    "duration": 208,
    "start_time": "2023-02-15T11:15:13.928Z"
   },
   {
    "duration": 157,
    "start_time": "2023-02-15T11:15:26.576Z"
   },
   {
    "duration": 165,
    "start_time": "2023-02-15T11:15:31.722Z"
   },
   {
    "duration": 50,
    "start_time": "2023-02-15T11:22:08.216Z"
   },
   {
    "duration": 46,
    "start_time": "2023-02-15T11:22:19.066Z"
   },
   {
    "duration": 27,
    "start_time": "2023-02-15T11:22:25.524Z"
   },
   {
    "duration": 40,
    "start_time": "2023-02-15T11:22:45.932Z"
   },
   {
    "duration": 28,
    "start_time": "2023-02-15T11:23:08.975Z"
   },
   {
    "duration": 22,
    "start_time": "2023-02-15T11:23:21.611Z"
   },
   {
    "duration": 17,
    "start_time": "2023-02-15T11:23:41.498Z"
   },
   {
    "duration": 63,
    "start_time": "2023-02-15T11:23:57.082Z"
   },
   {
    "duration": 93,
    "start_time": "2023-02-15T11:24:01.299Z"
   },
   {
    "duration": 59,
    "start_time": "2023-02-15T11:24:45.465Z"
   },
   {
    "duration": 97,
    "start_time": "2023-02-15T11:24:51.110Z"
   },
   {
    "duration": 35,
    "start_time": "2023-02-15T11:26:08.167Z"
   },
   {
    "duration": 46,
    "start_time": "2023-02-15T11:26:23.931Z"
   },
   {
    "duration": 24,
    "start_time": "2023-02-15T11:27:11.302Z"
   },
   {
    "duration": 40,
    "start_time": "2023-02-15T11:27:19.721Z"
   },
   {
    "duration": 8,
    "start_time": "2023-02-15T11:29:28.172Z"
   },
   {
    "duration": 10,
    "start_time": "2023-02-15T11:30:11.096Z"
   },
   {
    "duration": 18,
    "start_time": "2023-02-15T11:30:16.660Z"
   },
   {
    "duration": 10,
    "start_time": "2023-02-15T11:30:21.368Z"
   },
   {
    "duration": 12,
    "start_time": "2023-02-15T11:30:33.833Z"
   },
   {
    "duration": 17,
    "start_time": "2023-02-15T11:31:04.675Z"
   },
   {
    "duration": 3,
    "start_time": "2023-02-15T11:31:09.676Z"
   },
   {
    "duration": 104,
    "start_time": "2023-02-15T11:31:09.682Z"
   },
   {
    "duration": 24,
    "start_time": "2023-02-15T11:31:09.789Z"
   },
   {
    "duration": 15,
    "start_time": "2023-02-15T11:31:09.815Z"
   },
   {
    "duration": 34,
    "start_time": "2023-02-15T11:31:09.833Z"
   },
   {
    "duration": 4,
    "start_time": "2023-02-15T11:31:09.868Z"
   },
   {
    "duration": 4291,
    "start_time": "2023-02-15T11:31:09.874Z"
   },
   {
    "duration": 11,
    "start_time": "2023-02-15T11:31:14.167Z"
   },
   {
    "duration": 20,
    "start_time": "2023-02-15T11:31:14.180Z"
   },
   {
    "duration": 8,
    "start_time": "2023-02-15T11:31:14.202Z"
   },
   {
    "duration": 7,
    "start_time": "2023-02-15T11:31:14.212Z"
   },
   {
    "duration": 10,
    "start_time": "2023-02-15T11:31:14.220Z"
   },
   {
    "duration": 12,
    "start_time": "2023-02-15T11:31:14.233Z"
   },
   {
    "duration": 7,
    "start_time": "2023-02-15T11:31:14.249Z"
   },
   {
    "duration": 45,
    "start_time": "2023-02-15T11:31:14.258Z"
   },
   {
    "duration": 15,
    "start_time": "2023-02-15T11:31:14.304Z"
   },
   {
    "duration": 21,
    "start_time": "2023-02-15T11:31:14.321Z"
   },
   {
    "duration": 9,
    "start_time": "2023-02-15T11:31:14.344Z"
   },
   {
    "duration": 29,
    "start_time": "2023-02-15T11:31:14.355Z"
   },
   {
    "duration": 11,
    "start_time": "2023-02-15T11:31:14.386Z"
   },
   {
    "duration": 28,
    "start_time": "2023-02-15T11:31:14.398Z"
   },
   {
    "duration": 13,
    "start_time": "2023-02-15T11:31:14.429Z"
   },
   {
    "duration": 6,
    "start_time": "2023-02-15T11:31:14.443Z"
   },
   {
    "duration": 44,
    "start_time": "2023-02-15T11:31:14.451Z"
   },
   {
    "duration": 8,
    "start_time": "2023-02-15T11:31:14.498Z"
   },
   {
    "duration": 16,
    "start_time": "2023-02-15T11:31:14.508Z"
   },
   {
    "duration": 7,
    "start_time": "2023-02-15T11:31:14.526Z"
   },
   {
    "duration": 7,
    "start_time": "2023-02-15T11:31:14.535Z"
   },
   {
    "duration": 13,
    "start_time": "2023-02-15T11:31:14.544Z"
   },
   {
    "duration": 93,
    "start_time": "2023-02-15T11:31:14.559Z"
   },
   {
    "duration": 7,
    "start_time": "2023-02-15T11:31:14.654Z"
   },
   {
    "duration": 12,
    "start_time": "2023-02-15T11:31:14.665Z"
   },
   {
    "duration": 26,
    "start_time": "2023-02-15T11:31:14.678Z"
   },
   {
    "duration": 13,
    "start_time": "2023-02-15T11:31:14.706Z"
   },
   {
    "duration": 12,
    "start_time": "2023-02-15T11:31:14.721Z"
   },
   {
    "duration": 19,
    "start_time": "2023-02-15T11:31:14.735Z"
   },
   {
    "duration": 31,
    "start_time": "2023-02-15T11:31:14.756Z"
   },
   {
    "duration": 16,
    "start_time": "2023-02-15T11:31:14.788Z"
   },
   {
    "duration": 11,
    "start_time": "2023-02-15T11:31:14.806Z"
   },
   {
    "duration": 10,
    "start_time": "2023-02-15T11:31:14.819Z"
   },
   {
    "duration": 7,
    "start_time": "2023-02-15T11:31:14.830Z"
   },
   {
    "duration": 17,
    "start_time": "2023-02-15T11:31:14.839Z"
   },
   {
    "duration": 64,
    "start_time": "2023-02-15T11:31:14.857Z"
   },
   {
    "duration": 37,
    "start_time": "2023-02-15T11:31:14.923Z"
   },
   {
    "duration": 7,
    "start_time": "2023-02-15T11:31:14.962Z"
   },
   {
    "duration": 37,
    "start_time": "2023-02-15T11:31:14.971Z"
   },
   {
    "duration": 17,
    "start_time": "2023-02-15T11:31:15.010Z"
   },
   {
    "duration": 30,
    "start_time": "2023-02-15T11:31:15.028Z"
   },
   {
    "duration": 40,
    "start_time": "2023-02-15T11:31:15.059Z"
   },
   {
    "duration": 5,
    "start_time": "2023-02-15T11:31:15.101Z"
   },
   {
    "duration": 12,
    "start_time": "2023-02-15T11:31:15.108Z"
   },
   {
    "duration": 6,
    "start_time": "2023-02-15T11:31:15.122Z"
   },
   {
    "duration": 17,
    "start_time": "2023-02-15T11:31:15.130Z"
   },
   {
    "duration": 10,
    "start_time": "2023-02-15T11:31:15.149Z"
   },
   {
    "duration": 273,
    "start_time": "2023-02-15T11:31:15.161Z"
   },
   {
    "duration": 15,
    "start_time": "2023-02-15T11:31:15.436Z"
   },
   {
    "duration": 24,
    "start_time": "2023-02-15T11:31:15.453Z"
   },
   {
    "duration": 15,
    "start_time": "2023-02-15T11:31:15.479Z"
   },
   {
    "duration": 276,
    "start_time": "2023-02-15T11:31:15.498Z"
   },
   {
    "duration": 311,
    "start_time": "2023-02-15T11:31:15.775Z"
   },
   {
    "duration": 263,
    "start_time": "2023-02-15T11:31:16.088Z"
   },
   {
    "duration": 276,
    "start_time": "2023-02-15T11:31:16.353Z"
   },
   {
    "duration": 270,
    "start_time": "2023-02-15T11:31:16.631Z"
   },
   {
    "duration": 287,
    "start_time": "2023-02-15T11:31:16.902Z"
   },
   {
    "duration": 268,
    "start_time": "2023-02-15T11:31:17.191Z"
   },
   {
    "duration": 246,
    "start_time": "2023-02-15T11:31:17.460Z"
   },
   {
    "duration": 386,
    "start_time": "2023-02-15T11:31:17.708Z"
   },
   {
    "duration": 750,
    "start_time": "2023-02-15T11:31:18.099Z"
   },
   {
    "duration": 1297,
    "start_time": "2023-02-15T11:31:18.851Z"
   },
   {
    "duration": 256,
    "start_time": "2023-02-15T11:31:20.150Z"
   },
   {
    "duration": 278,
    "start_time": "2023-02-15T11:31:20.407Z"
   },
   {
    "duration": 253,
    "start_time": "2023-02-15T11:31:20.687Z"
   },
   {
    "duration": 545,
    "start_time": "2023-02-15T11:31:20.942Z"
   },
   {
    "duration": 1260,
    "start_time": "2023-02-15T11:31:21.489Z"
   },
   {
    "duration": 23,
    "start_time": "2023-02-15T11:31:22.751Z"
   },
   {
    "duration": 24,
    "start_time": "2023-02-15T11:31:22.776Z"
   },
   {
    "duration": 11,
    "start_time": "2023-02-15T11:31:22.801Z"
   },
   {
    "duration": 159,
    "start_time": "2023-02-15T11:31:22.814Z"
   },
   {
    "duration": 91,
    "start_time": "2023-02-15T11:31:22.975Z"
   },
   {
    "duration": 102,
    "start_time": "2023-02-15T11:32:31.273Z"
   },
   {
    "duration": 1477,
    "start_time": "2023-02-15T11:32:40.915Z"
   },
   {
    "duration": 45,
    "start_time": "2023-02-15T11:33:37.057Z"
   },
   {
    "duration": 126,
    "start_time": "2023-02-15T11:33:42.183Z"
   },
   {
    "duration": 58,
    "start_time": "2023-02-15T11:34:18.228Z"
   },
   {
    "duration": 150,
    "start_time": "2023-02-15T11:34:24.523Z"
   },
   {
    "duration": 97,
    "start_time": "2023-02-15T11:34:50.763Z"
   },
   {
    "duration": 66,
    "start_time": "2023-02-15T11:40:13.564Z"
   },
   {
    "duration": 102,
    "start_time": "2023-02-15T11:40:24.183Z"
   },
   {
    "duration": 47,
    "start_time": "2023-02-15T11:42:25.149Z"
   },
   {
    "duration": 44,
    "start_time": "2023-02-15T11:43:12.614Z"
   },
   {
    "duration": 45,
    "start_time": "2023-02-15T11:43:26.285Z"
   },
   {
    "duration": 27,
    "start_time": "2023-02-15T11:47:47.345Z"
   },
   {
    "duration": 93,
    "start_time": "2023-02-15T11:48:06.798Z"
   },
   {
    "duration": 88,
    "start_time": "2023-02-15T11:49:16.583Z"
   },
   {
    "duration": 89,
    "start_time": "2023-02-15T11:53:22.516Z"
   },
   {
    "duration": 60,
    "start_time": "2023-02-15T11:53:32.958Z"
   },
   {
    "duration": 72,
    "start_time": "2023-02-15T11:53:59.749Z"
   },
   {
    "duration": 82,
    "start_time": "2023-02-15T11:54:04.036Z"
   },
   {
    "duration": 3,
    "start_time": "2023-02-15T11:55:18.292Z"
   },
   {
    "duration": 90,
    "start_time": "2023-02-15T11:55:18.298Z"
   },
   {
    "duration": 28,
    "start_time": "2023-02-15T11:55:18.390Z"
   },
   {
    "duration": 17,
    "start_time": "2023-02-15T11:55:18.421Z"
   },
   {
    "duration": 20,
    "start_time": "2023-02-15T11:55:18.440Z"
   },
   {
    "duration": 5,
    "start_time": "2023-02-15T11:55:18.498Z"
   },
   {
    "duration": 4221,
    "start_time": "2023-02-15T11:55:18.505Z"
   },
   {
    "duration": 12,
    "start_time": "2023-02-15T11:55:22.728Z"
   },
   {
    "duration": 10,
    "start_time": "2023-02-15T11:55:22.743Z"
   },
   {
    "duration": 14,
    "start_time": "2023-02-15T11:55:22.755Z"
   },
   {
    "duration": 31,
    "start_time": "2023-02-15T11:55:22.771Z"
   },
   {
    "duration": 14,
    "start_time": "2023-02-15T11:55:22.804Z"
   },
   {
    "duration": 12,
    "start_time": "2023-02-15T11:55:22.820Z"
   },
   {
    "duration": 7,
    "start_time": "2023-02-15T11:55:22.833Z"
   },
   {
    "duration": 10,
    "start_time": "2023-02-15T11:55:22.841Z"
   },
   {
    "duration": 22,
    "start_time": "2023-02-15T11:55:22.853Z"
   },
   {
    "duration": 24,
    "start_time": "2023-02-15T11:55:22.876Z"
   },
   {
    "duration": 6,
    "start_time": "2023-02-15T11:55:22.902Z"
   },
   {
    "duration": 16,
    "start_time": "2023-02-15T11:55:22.909Z"
   },
   {
    "duration": 12,
    "start_time": "2023-02-15T11:55:22.926Z"
   },
   {
    "duration": 12,
    "start_time": "2023-02-15T11:55:22.940Z"
   },
   {
    "duration": 12,
    "start_time": "2023-02-15T11:55:22.953Z"
   },
   {
    "duration": 5,
    "start_time": "2023-02-15T11:55:22.967Z"
   },
   {
    "duration": 14,
    "start_time": "2023-02-15T11:55:23.000Z"
   },
   {
    "duration": 14,
    "start_time": "2023-02-15T11:55:23.016Z"
   },
   {
    "duration": 10,
    "start_time": "2023-02-15T11:55:23.032Z"
   },
   {
    "duration": 6,
    "start_time": "2023-02-15T11:55:23.044Z"
   },
   {
    "duration": 17,
    "start_time": "2023-02-15T11:55:23.052Z"
   },
   {
    "duration": 18,
    "start_time": "2023-02-15T11:55:23.071Z"
   },
   {
    "duration": 87,
    "start_time": "2023-02-15T11:55:23.091Z"
   },
   {
    "duration": 8,
    "start_time": "2023-02-15T11:55:23.180Z"
   },
   {
    "duration": 10,
    "start_time": "2023-02-15T11:55:23.199Z"
   },
   {
    "duration": 6,
    "start_time": "2023-02-15T11:55:23.211Z"
   },
   {
    "duration": 10,
    "start_time": "2023-02-15T11:55:23.220Z"
   },
   {
    "duration": 7,
    "start_time": "2023-02-15T11:55:23.232Z"
   },
   {
    "duration": 11,
    "start_time": "2023-02-15T11:55:23.241Z"
   },
   {
    "duration": 5,
    "start_time": "2023-02-15T11:55:23.254Z"
   },
   {
    "duration": 41,
    "start_time": "2023-02-15T11:55:23.260Z"
   },
   {
    "duration": 19,
    "start_time": "2023-02-15T11:55:23.303Z"
   },
   {
    "duration": 12,
    "start_time": "2023-02-15T11:55:23.324Z"
   },
   {
    "duration": 6,
    "start_time": "2023-02-15T11:55:23.338Z"
   },
   {
    "duration": 22,
    "start_time": "2023-02-15T11:55:23.346Z"
   },
   {
    "duration": 55,
    "start_time": "2023-02-15T11:55:23.370Z"
   },
   {
    "duration": 37,
    "start_time": "2023-02-15T11:55:23.427Z"
   },
   {
    "duration": 8,
    "start_time": "2023-02-15T11:55:23.466Z"
   },
   {
    "duration": 32,
    "start_time": "2023-02-15T11:55:23.475Z"
   },
   {
    "duration": 15,
    "start_time": "2023-02-15T11:55:23.508Z"
   },
   {
    "duration": 14,
    "start_time": "2023-02-15T11:55:23.525Z"
   },
   {
    "duration": 39,
    "start_time": "2023-02-15T11:55:23.541Z"
   },
   {
    "duration": 4,
    "start_time": "2023-02-15T11:55:23.598Z"
   },
   {
    "duration": 12,
    "start_time": "2023-02-15T11:55:23.604Z"
   },
   {
    "duration": 9,
    "start_time": "2023-02-15T11:55:23.617Z"
   },
   {
    "duration": 7,
    "start_time": "2023-02-15T11:55:23.628Z"
   },
   {
    "duration": 5,
    "start_time": "2023-02-15T11:55:23.636Z"
   },
   {
    "duration": 283,
    "start_time": "2023-02-15T11:55:23.643Z"
   },
   {
    "duration": 20,
    "start_time": "2023-02-15T11:55:23.929Z"
   },
   {
    "duration": 38,
    "start_time": "2023-02-15T11:55:23.951Z"
   },
   {
    "duration": 12,
    "start_time": "2023-02-15T11:55:23.991Z"
   },
   {
    "duration": 276,
    "start_time": "2023-02-15T11:55:24.005Z"
   },
   {
    "duration": 294,
    "start_time": "2023-02-15T11:55:24.284Z"
   },
   {
    "duration": 267,
    "start_time": "2023-02-15T11:55:24.581Z"
   },
   {
    "duration": 255,
    "start_time": "2023-02-15T11:55:24.850Z"
   },
   {
    "duration": 236,
    "start_time": "2023-02-15T11:55:25.106Z"
   },
   {
    "duration": 764,
    "start_time": "2023-02-15T11:55:25.344Z"
   },
   {
    "duration": 232,
    "start_time": "2023-02-15T11:55:26.109Z"
   },
   {
    "duration": 249,
    "start_time": "2023-02-15T11:55:26.342Z"
   },
   {
    "duration": 371,
    "start_time": "2023-02-15T11:55:26.593Z"
   },
   {
    "duration": 741,
    "start_time": "2023-02-15T11:55:26.966Z"
   },
   {
    "duration": 718,
    "start_time": "2023-02-15T11:55:27.712Z"
   },
   {
    "duration": 272,
    "start_time": "2023-02-15T11:55:28.432Z"
   },
   {
    "duration": 303,
    "start_time": "2023-02-15T11:55:28.705Z"
   },
   {
    "duration": 235,
    "start_time": "2023-02-15T11:55:29.010Z"
   },
   {
    "duration": 471,
    "start_time": "2023-02-15T11:55:29.247Z"
   },
   {
    "duration": 1251,
    "start_time": "2023-02-15T11:55:29.720Z"
   },
   {
    "duration": 32,
    "start_time": "2023-02-15T11:55:30.973Z"
   },
   {
    "duration": 10,
    "start_time": "2023-02-15T11:55:31.007Z"
   },
   {
    "duration": 44,
    "start_time": "2023-02-15T11:55:31.018Z"
   },
   {
    "duration": 177,
    "start_time": "2023-02-15T11:55:31.064Z"
   },
   {
    "duration": 69,
    "start_time": "2023-02-15T11:55:31.243Z"
   },
   {
    "duration": 3,
    "start_time": "2023-02-15T11:55:48.640Z"
   },
   {
    "duration": 3,
    "start_time": "2023-02-15T11:56:01.234Z"
   },
   {
    "duration": 147,
    "start_time": "2023-02-15T11:56:01.239Z"
   },
   {
    "duration": 27,
    "start_time": "2023-02-15T11:56:01.388Z"
   },
   {
    "duration": 43,
    "start_time": "2023-02-15T11:56:01.416Z"
   },
   {
    "duration": 37,
    "start_time": "2023-02-15T11:56:01.461Z"
   },
   {
    "duration": 5,
    "start_time": "2023-02-15T11:56:01.500Z"
   },
   {
    "duration": 4568,
    "start_time": "2023-02-15T11:56:01.506Z"
   },
   {
    "duration": 10,
    "start_time": "2023-02-15T11:56:06.075Z"
   },
   {
    "duration": 22,
    "start_time": "2023-02-15T11:56:06.086Z"
   },
   {
    "duration": 37,
    "start_time": "2023-02-15T11:56:06.109Z"
   },
   {
    "duration": 10,
    "start_time": "2023-02-15T11:56:06.147Z"
   },
   {
    "duration": 10,
    "start_time": "2023-02-15T11:56:06.159Z"
   },
   {
    "duration": 11,
    "start_time": "2023-02-15T11:56:06.171Z"
   },
   {
    "duration": 7,
    "start_time": "2023-02-15T11:56:06.185Z"
   },
   {
    "duration": 7,
    "start_time": "2023-02-15T11:56:06.193Z"
   },
   {
    "duration": 9,
    "start_time": "2023-02-15T11:56:06.201Z"
   },
   {
    "duration": 7,
    "start_time": "2023-02-15T11:56:06.212Z"
   },
   {
    "duration": 5,
    "start_time": "2023-02-15T11:56:06.220Z"
   },
   {
    "duration": 6,
    "start_time": "2023-02-15T11:56:06.227Z"
   },
   {
    "duration": 11,
    "start_time": "2023-02-15T11:56:06.234Z"
   },
   {
    "duration": 6,
    "start_time": "2023-02-15T11:56:06.246Z"
   },
   {
    "duration": 10,
    "start_time": "2023-02-15T11:56:06.254Z"
   },
   {
    "duration": 38,
    "start_time": "2023-02-15T11:56:06.265Z"
   },
   {
    "duration": 14,
    "start_time": "2023-02-15T11:56:06.306Z"
   },
   {
    "duration": 6,
    "start_time": "2023-02-15T11:56:06.322Z"
   },
   {
    "duration": 7,
    "start_time": "2023-02-15T11:56:06.330Z"
   },
   {
    "duration": 8,
    "start_time": "2023-02-15T11:56:06.339Z"
   },
   {
    "duration": 6,
    "start_time": "2023-02-15T11:56:06.348Z"
   },
   {
    "duration": 10,
    "start_time": "2023-02-15T11:56:06.356Z"
   },
   {
    "duration": 80,
    "start_time": "2023-02-15T11:56:06.399Z"
   },
   {
    "duration": 9,
    "start_time": "2023-02-15T11:56:06.498Z"
   },
   {
    "duration": 20,
    "start_time": "2023-02-15T11:56:06.509Z"
   },
   {
    "duration": 7,
    "start_time": "2023-02-15T11:56:06.531Z"
   },
   {
    "duration": 11,
    "start_time": "2023-02-15T11:56:06.540Z"
   },
   {
    "duration": 7,
    "start_time": "2023-02-15T11:56:06.553Z"
   },
   {
    "duration": 13,
    "start_time": "2023-02-15T11:56:06.561Z"
   },
   {
    "duration": 5,
    "start_time": "2023-02-15T11:56:06.599Z"
   },
   {
    "duration": 9,
    "start_time": "2023-02-15T11:56:06.606Z"
   },
   {
    "duration": 9,
    "start_time": "2023-02-15T11:56:06.617Z"
   },
   {
    "duration": 11,
    "start_time": "2023-02-15T11:56:06.628Z"
   },
   {
    "duration": 8,
    "start_time": "2023-02-15T11:56:06.643Z"
   },
   {
    "duration": 46,
    "start_time": "2023-02-15T11:56:06.653Z"
   },
   {
    "duration": 40,
    "start_time": "2023-02-15T11:56:06.701Z"
   },
   {
    "duration": 39,
    "start_time": "2023-02-15T11:56:06.743Z"
   },
   {
    "duration": 22,
    "start_time": "2023-02-15T11:56:06.783Z"
   },
   {
    "duration": 16,
    "start_time": "2023-02-15T11:56:06.807Z"
   },
   {
    "duration": 16,
    "start_time": "2023-02-15T11:56:06.824Z"
   },
   {
    "duration": 15,
    "start_time": "2023-02-15T11:56:06.841Z"
   },
   {
    "duration": 66,
    "start_time": "2023-02-15T11:56:06.857Z"
   },
   {
    "duration": 5,
    "start_time": "2023-02-15T11:56:06.924Z"
   },
   {
    "duration": 12,
    "start_time": "2023-02-15T11:56:06.930Z"
   },
   {
    "duration": 8,
    "start_time": "2023-02-15T11:56:06.944Z"
   },
   {
    "duration": 12,
    "start_time": "2023-02-15T11:56:06.953Z"
   },
   {
    "duration": 15,
    "start_time": "2023-02-15T11:56:06.966Z"
   },
   {
    "duration": 286,
    "start_time": "2023-02-15T11:56:06.983Z"
   },
   {
    "duration": 16,
    "start_time": "2023-02-15T11:56:07.271Z"
   },
   {
    "duration": 30,
    "start_time": "2023-02-15T11:56:07.288Z"
   },
   {
    "duration": 3,
    "start_time": "2023-02-15T11:56:07.319Z"
   },
   {
    "duration": 260,
    "start_time": "2023-02-15T11:56:07.324Z"
   },
   {
    "duration": 273,
    "start_time": "2023-02-15T11:56:07.586Z"
   },
   {
    "duration": 254,
    "start_time": "2023-02-15T11:56:07.861Z"
   },
   {
    "duration": 255,
    "start_time": "2023-02-15T11:56:08.117Z"
   },
   {
    "duration": 269,
    "start_time": "2023-02-15T11:56:08.375Z"
   },
   {
    "duration": 822,
    "start_time": "2023-02-15T11:56:08.646Z"
   },
   {
    "duration": 237,
    "start_time": "2023-02-15T11:56:09.470Z"
   },
   {
    "duration": 230,
    "start_time": "2023-02-15T11:56:09.709Z"
   },
   {
    "duration": 332,
    "start_time": "2023-02-15T11:56:09.941Z"
   },
   {
    "duration": 720,
    "start_time": "2023-02-15T11:56:10.275Z"
   },
   {
    "duration": 712,
    "start_time": "2023-02-15T11:56:10.999Z"
   },
   {
    "duration": 260,
    "start_time": "2023-02-15T11:56:11.712Z"
   },
   {
    "duration": 250,
    "start_time": "2023-02-15T11:56:11.973Z"
   },
   {
    "duration": 231,
    "start_time": "2023-02-15T11:56:12.224Z"
   },
   {
    "duration": 437,
    "start_time": "2023-02-15T11:56:12.457Z"
   },
   {
    "duration": 1294,
    "start_time": "2023-02-15T11:56:12.898Z"
   },
   {
    "duration": 29,
    "start_time": "2023-02-15T11:56:14.193Z"
   },
   {
    "duration": 9,
    "start_time": "2023-02-15T11:56:14.223Z"
   },
   {
    "duration": 9,
    "start_time": "2023-02-15T11:56:14.234Z"
   },
   {
    "duration": 178,
    "start_time": "2023-02-15T11:56:14.244Z"
   },
   {
    "duration": 52,
    "start_time": "2023-02-15T11:56:14.424Z"
   },
   {
    "duration": 27,
    "start_time": "2023-02-15T11:56:14.478Z"
   },
   {
    "duration": 5,
    "start_time": "2023-02-15T11:56:23.760Z"
   },
   {
    "duration": 5,
    "start_time": "2023-02-15T11:56:40.023Z"
   },
   {
    "duration": 114,
    "start_time": "2023-02-15T11:56:40.030Z"
   },
   {
    "duration": 27,
    "start_time": "2023-02-15T11:56:40.146Z"
   },
   {
    "duration": 31,
    "start_time": "2023-02-15T11:56:40.174Z"
   },
   {
    "duration": 23,
    "start_time": "2023-02-15T11:56:40.207Z"
   },
   {
    "duration": 4,
    "start_time": "2023-02-15T11:56:40.233Z"
   },
   {
    "duration": 4707,
    "start_time": "2023-02-15T11:56:40.239Z"
   },
   {
    "duration": 9,
    "start_time": "2023-02-15T11:56:44.948Z"
   },
   {
    "duration": 15,
    "start_time": "2023-02-15T11:56:44.959Z"
   },
   {
    "duration": 24,
    "start_time": "2023-02-15T11:56:44.976Z"
   },
   {
    "duration": 6,
    "start_time": "2023-02-15T11:56:45.001Z"
   },
   {
    "duration": 31,
    "start_time": "2023-02-15T11:56:45.008Z"
   },
   {
    "duration": 34,
    "start_time": "2023-02-15T11:56:45.041Z"
   },
   {
    "duration": 14,
    "start_time": "2023-02-15T11:56:45.078Z"
   },
   {
    "duration": 10,
    "start_time": "2023-02-15T11:56:45.093Z"
   },
   {
    "duration": 12,
    "start_time": "2023-02-15T11:56:45.105Z"
   },
   {
    "duration": 16,
    "start_time": "2023-02-15T11:56:45.118Z"
   },
   {
    "duration": 8,
    "start_time": "2023-02-15T11:56:45.136Z"
   },
   {
    "duration": 6,
    "start_time": "2023-02-15T11:56:45.146Z"
   },
   {
    "duration": 37,
    "start_time": "2023-02-15T11:56:45.154Z"
   },
   {
    "duration": 8,
    "start_time": "2023-02-15T11:56:45.193Z"
   },
   {
    "duration": 10,
    "start_time": "2023-02-15T11:56:45.203Z"
   },
   {
    "duration": 4,
    "start_time": "2023-02-15T11:56:45.215Z"
   },
   {
    "duration": 13,
    "start_time": "2023-02-15T11:56:45.221Z"
   },
   {
    "duration": 9,
    "start_time": "2023-02-15T11:56:45.235Z"
   },
   {
    "duration": 8,
    "start_time": "2023-02-15T11:56:45.246Z"
   },
   {
    "duration": 7,
    "start_time": "2023-02-15T11:56:45.256Z"
   },
   {
    "duration": 14,
    "start_time": "2023-02-15T11:56:45.264Z"
   },
   {
    "duration": 21,
    "start_time": "2023-02-15T11:56:45.279Z"
   },
   {
    "duration": 75,
    "start_time": "2023-02-15T11:56:45.301Z"
   },
   {
    "duration": 26,
    "start_time": "2023-02-15T11:56:45.378Z"
   },
   {
    "duration": 12,
    "start_time": "2023-02-15T11:56:45.406Z"
   },
   {
    "duration": 7,
    "start_time": "2023-02-15T11:56:45.420Z"
   },
   {
    "duration": 19,
    "start_time": "2023-02-15T11:56:45.429Z"
   },
   {
    "duration": 7,
    "start_time": "2023-02-15T11:56:45.450Z"
   },
   {
    "duration": 11,
    "start_time": "2023-02-15T11:56:45.459Z"
   },
   {
    "duration": 4,
    "start_time": "2023-02-15T11:56:45.471Z"
   },
   {
    "duration": 7,
    "start_time": "2023-02-15T11:56:45.499Z"
   },
   {
    "duration": 25,
    "start_time": "2023-02-15T11:56:45.508Z"
   },
   {
    "duration": 14,
    "start_time": "2023-02-15T11:56:45.535Z"
   },
   {
    "duration": 6,
    "start_time": "2023-02-15T11:56:45.554Z"
   },
   {
    "duration": 19,
    "start_time": "2023-02-15T11:56:45.562Z"
   },
   {
    "duration": 56,
    "start_time": "2023-02-15T11:56:45.583Z"
   },
   {
    "duration": 35,
    "start_time": "2023-02-15T11:56:45.640Z"
   },
   {
    "duration": 8,
    "start_time": "2023-02-15T11:56:45.676Z"
   },
   {
    "duration": 13,
    "start_time": "2023-02-15T11:56:45.699Z"
   },
   {
    "duration": 16,
    "start_time": "2023-02-15T11:56:45.713Z"
   },
   {
    "duration": 32,
    "start_time": "2023-02-15T11:56:45.731Z"
   },
   {
    "duration": 27,
    "start_time": "2023-02-15T11:56:45.764Z"
   },
   {
    "duration": 4,
    "start_time": "2023-02-15T11:56:45.799Z"
   },
   {
    "duration": 9,
    "start_time": "2023-02-15T11:56:45.804Z"
   },
   {
    "duration": 5,
    "start_time": "2023-02-15T11:56:45.815Z"
   },
   {
    "duration": 8,
    "start_time": "2023-02-15T11:56:45.821Z"
   },
   {
    "duration": 3,
    "start_time": "2023-02-15T11:56:45.830Z"
   },
   {
    "duration": 272,
    "start_time": "2023-02-15T11:56:45.835Z"
   },
   {
    "duration": 14,
    "start_time": "2023-02-15T11:56:46.109Z"
   },
   {
    "duration": 21,
    "start_time": "2023-02-15T11:56:46.125Z"
   },
   {
    "duration": 3,
    "start_time": "2023-02-15T11:56:46.147Z"
   },
   {
    "duration": 268,
    "start_time": "2023-02-15T11:56:46.151Z"
   },
   {
    "duration": 281,
    "start_time": "2023-02-15T11:56:46.420Z"
   },
   {
    "duration": 243,
    "start_time": "2023-02-15T11:56:46.702Z"
   },
   {
    "duration": 290,
    "start_time": "2023-02-15T11:56:46.947Z"
   },
   {
    "duration": 276,
    "start_time": "2023-02-15T11:56:47.239Z"
   },
   {
    "duration": 267,
    "start_time": "2023-02-15T11:56:47.517Z"
   },
   {
    "duration": 315,
    "start_time": "2023-02-15T11:56:47.786Z"
   },
   {
    "duration": 291,
    "start_time": "2023-02-15T11:56:48.104Z"
   },
   {
    "duration": 434,
    "start_time": "2023-02-15T11:56:48.400Z"
   },
   {
    "duration": 1476,
    "start_time": "2023-02-15T11:56:48.836Z"
   },
   {
    "duration": 733,
    "start_time": "2023-02-15T11:56:50.313Z"
   },
   {
    "duration": 245,
    "start_time": "2023-02-15T11:56:51.048Z"
   },
   {
    "duration": 249,
    "start_time": "2023-02-15T11:56:51.298Z"
   },
   {
    "duration": 230,
    "start_time": "2023-02-15T11:56:51.549Z"
   },
   {
    "duration": 434,
    "start_time": "2023-02-15T11:56:51.781Z"
   },
   {
    "duration": 1255,
    "start_time": "2023-02-15T11:56:52.217Z"
   },
   {
    "duration": 27,
    "start_time": "2023-02-15T11:56:53.473Z"
   },
   {
    "duration": 8,
    "start_time": "2023-02-15T11:56:53.502Z"
   },
   {
    "duration": 12,
    "start_time": "2023-02-15T11:56:53.512Z"
   },
   {
    "duration": 165,
    "start_time": "2023-02-15T11:56:53.526Z"
   },
   {
    "duration": 88,
    "start_time": "2023-02-15T11:56:53.692Z"
   },
   {
    "duration": 54,
    "start_time": "2023-02-15T11:58:20.070Z"
   },
   {
    "duration": 60,
    "start_time": "2023-02-15T11:58:26.640Z"
   },
   {
    "duration": 98,
    "start_time": "2023-02-15T11:58:51.131Z"
   },
   {
    "duration": 114,
    "start_time": "2023-02-15T11:59:18.768Z"
   },
   {
    "duration": 105,
    "start_time": "2023-02-15T11:59:31.997Z"
   },
   {
    "duration": 92,
    "start_time": "2023-02-15T11:59:36.200Z"
   },
   {
    "duration": 68,
    "start_time": "2023-02-15T12:00:21.055Z"
   },
   {
    "duration": 60,
    "start_time": "2023-02-15T12:00:55.404Z"
   },
   {
    "duration": 89,
    "start_time": "2023-02-15T12:00:59.746Z"
   },
   {
    "duration": 85,
    "start_time": "2023-02-15T12:01:10.088Z"
   },
   {
    "duration": 99,
    "start_time": "2023-02-15T12:01:42.201Z"
   },
   {
    "duration": 3,
    "start_time": "2023-02-15T12:04:21.055Z"
   },
   {
    "duration": 125,
    "start_time": "2023-02-15T12:04:21.060Z"
   },
   {
    "duration": 36,
    "start_time": "2023-02-15T12:04:21.187Z"
   },
   {
    "duration": 15,
    "start_time": "2023-02-15T12:04:21.227Z"
   },
   {
    "duration": 24,
    "start_time": "2023-02-15T12:04:21.244Z"
   },
   {
    "duration": 4,
    "start_time": "2023-02-15T12:04:21.270Z"
   },
   {
    "duration": 3883,
    "start_time": "2023-02-15T12:04:21.298Z"
   },
   {
    "duration": 17,
    "start_time": "2023-02-15T12:04:25.183Z"
   },
   {
    "duration": 7,
    "start_time": "2023-02-15T12:04:25.202Z"
   },
   {
    "duration": 8,
    "start_time": "2023-02-15T12:04:25.211Z"
   },
   {
    "duration": 18,
    "start_time": "2023-02-15T12:04:25.221Z"
   },
   {
    "duration": 17,
    "start_time": "2023-02-15T12:04:25.241Z"
   },
   {
    "duration": 21,
    "start_time": "2023-02-15T12:04:25.260Z"
   },
   {
    "duration": 4,
    "start_time": "2023-02-15T12:04:25.283Z"
   },
   {
    "duration": 13,
    "start_time": "2023-02-15T12:04:25.289Z"
   },
   {
    "duration": 7,
    "start_time": "2023-02-15T12:04:25.304Z"
   },
   {
    "duration": 5,
    "start_time": "2023-02-15T12:04:25.313Z"
   },
   {
    "duration": 6,
    "start_time": "2023-02-15T12:04:25.319Z"
   },
   {
    "duration": 8,
    "start_time": "2023-02-15T12:04:25.326Z"
   },
   {
    "duration": 8,
    "start_time": "2023-02-15T12:04:25.336Z"
   },
   {
    "duration": 11,
    "start_time": "2023-02-15T12:04:25.346Z"
   },
   {
    "duration": 43,
    "start_time": "2023-02-15T12:04:25.360Z"
   },
   {
    "duration": 6,
    "start_time": "2023-02-15T12:04:25.404Z"
   },
   {
    "duration": 11,
    "start_time": "2023-02-15T12:04:26.341Z"
   },
   {
    "duration": 9,
    "start_time": "2023-02-15T12:04:26.354Z"
   },
   {
    "duration": 8,
    "start_time": "2023-02-15T12:04:26.365Z"
   },
   {
    "duration": 26,
    "start_time": "2023-02-15T12:04:26.375Z"
   },
   {
    "duration": 6,
    "start_time": "2023-02-15T12:04:26.403Z"
   },
   {
    "duration": 18,
    "start_time": "2023-02-15T12:04:26.410Z"
   },
   {
    "duration": 82,
    "start_time": "2023-02-15T12:04:26.430Z"
   },
   {
    "duration": 8,
    "start_time": "2023-02-15T12:04:26.513Z"
   },
   {
    "duration": 15,
    "start_time": "2023-02-15T12:04:26.523Z"
   },
   {
    "duration": 6,
    "start_time": "2023-02-15T12:04:26.540Z"
   },
   {
    "duration": 20,
    "start_time": "2023-02-15T12:04:26.548Z"
   },
   {
    "duration": 6,
    "start_time": "2023-02-15T12:04:26.570Z"
   },
   {
    "duration": 30,
    "start_time": "2023-02-15T12:04:26.578Z"
   },
   {
    "duration": 4,
    "start_time": "2023-02-15T12:04:26.610Z"
   },
   {
    "duration": 19,
    "start_time": "2023-02-15T12:04:26.616Z"
   },
   {
    "duration": 10,
    "start_time": "2023-02-15T12:04:26.637Z"
   },
   {
    "duration": 11,
    "start_time": "2023-02-15T12:04:26.648Z"
   },
   {
    "duration": 7,
    "start_time": "2023-02-15T12:04:26.662Z"
   },
   {
    "duration": 37,
    "start_time": "2023-02-15T12:04:26.671Z"
   },
   {
    "duration": 40,
    "start_time": "2023-02-15T12:04:26.709Z"
   },
   {
    "duration": 61,
    "start_time": "2023-02-15T12:04:26.751Z"
   },
   {
    "duration": 8,
    "start_time": "2023-02-15T12:04:26.813Z"
   },
   {
    "duration": 21,
    "start_time": "2023-02-15T12:04:26.822Z"
   },
   {
    "duration": 14,
    "start_time": "2023-02-15T12:04:26.845Z"
   },
   {
    "duration": 14,
    "start_time": "2023-02-15T12:04:26.861Z"
   },
   {
    "duration": 49,
    "start_time": "2023-02-15T12:04:26.877Z"
   },
   {
    "duration": 4,
    "start_time": "2023-02-15T12:04:26.928Z"
   },
   {
    "duration": 15,
    "start_time": "2023-02-15T12:04:26.933Z"
   },
   {
    "duration": 18,
    "start_time": "2023-02-15T12:04:26.950Z"
   },
   {
    "duration": 27,
    "start_time": "2023-02-15T12:04:26.970Z"
   },
   {
    "duration": 10,
    "start_time": "2023-02-15T12:04:26.998Z"
   },
   {
    "duration": 278,
    "start_time": "2023-02-15T12:04:27.010Z"
   },
   {
    "duration": 18,
    "start_time": "2023-02-15T12:04:27.290Z"
   },
   {
    "duration": 20,
    "start_time": "2023-02-15T12:04:27.309Z"
   },
   {
    "duration": 18,
    "start_time": "2023-02-15T12:04:27.331Z"
   },
   {
    "duration": 268,
    "start_time": "2023-02-15T12:04:27.351Z"
   },
   {
    "duration": 311,
    "start_time": "2023-02-15T12:04:27.621Z"
   },
   {
    "duration": 237,
    "start_time": "2023-02-15T12:04:27.934Z"
   },
   {
    "duration": 258,
    "start_time": "2023-02-15T12:04:28.172Z"
   },
   {
    "duration": 260,
    "start_time": "2023-02-15T12:04:28.432Z"
   },
   {
    "duration": 249,
    "start_time": "2023-02-15T12:04:28.698Z"
   },
   {
    "duration": 236,
    "start_time": "2023-02-15T12:04:28.949Z"
   },
   {
    "duration": 234,
    "start_time": "2023-02-15T12:04:29.187Z"
   },
   {
    "duration": 340,
    "start_time": "2023-02-15T12:04:29.423Z"
   },
   {
    "duration": 727,
    "start_time": "2023-02-15T12:04:29.765Z"
   },
   {
    "duration": 887,
    "start_time": "2023-02-15T12:04:30.500Z"
   },
   {
    "duration": 243,
    "start_time": "2023-02-15T12:04:31.389Z"
   },
   {
    "duration": 247,
    "start_time": "2023-02-15T12:04:31.634Z"
   },
   {
    "duration": 220,
    "start_time": "2023-02-15T12:04:31.882Z"
   },
   {
    "duration": 410,
    "start_time": "2023-02-15T12:04:32.104Z"
   },
   {
    "duration": 1153,
    "start_time": "2023-02-15T12:04:32.516Z"
   },
   {
    "duration": 33,
    "start_time": "2023-02-15T12:04:33.671Z"
   },
   {
    "duration": 8,
    "start_time": "2023-02-15T12:04:33.706Z"
   },
   {
    "duration": 9,
    "start_time": "2023-02-15T12:04:33.716Z"
   },
   {
    "duration": 160,
    "start_time": "2023-02-15T12:04:33.727Z"
   },
   {
    "duration": 128,
    "start_time": "2023-02-15T12:04:33.890Z"
   },
   {
    "duration": 156,
    "start_time": "2023-02-15T12:49:09.484Z"
   },
   {
    "duration": 147,
    "start_time": "2023-02-15T12:49:17.735Z"
   },
   {
    "duration": 431,
    "start_time": "2023-02-16T03:43:08.871Z"
   },
   {
    "duration": 326,
    "start_time": "2023-02-16T03:43:09.304Z"
   },
   {
    "duration": 31,
    "start_time": "2023-02-16T03:43:09.632Z"
   },
   {
    "duration": 23,
    "start_time": "2023-02-16T03:43:09.665Z"
   },
   {
    "duration": 23,
    "start_time": "2023-02-16T03:43:09.691Z"
   },
   {
    "duration": 4,
    "start_time": "2023-02-16T03:43:09.716Z"
   },
   {
    "duration": 4163,
    "start_time": "2023-02-16T03:43:09.721Z"
   },
   {
    "duration": 10,
    "start_time": "2023-02-16T03:43:13.886Z"
   },
   {
    "duration": 9,
    "start_time": "2023-02-16T03:43:13.898Z"
   },
   {
    "duration": 8,
    "start_time": "2023-02-16T03:43:13.909Z"
   },
   {
    "duration": 7,
    "start_time": "2023-02-16T03:43:13.918Z"
   },
   {
    "duration": 14,
    "start_time": "2023-02-16T03:43:13.927Z"
   },
   {
    "duration": 37,
    "start_time": "2023-02-16T03:43:13.942Z"
   },
   {
    "duration": 128,
    "start_time": "2023-02-16T03:43:13.982Z"
   },
   {
    "duration": 11,
    "start_time": "2023-02-16T03:43:14.112Z"
   },
   {
    "duration": 13,
    "start_time": "2023-02-16T03:43:14.125Z"
   },
   {
    "duration": 5,
    "start_time": "2023-02-16T03:43:14.140Z"
   },
   {
    "duration": 21,
    "start_time": "2023-02-16T03:43:14.146Z"
   },
   {
    "duration": 6,
    "start_time": "2023-02-16T03:43:14.168Z"
   },
   {
    "duration": 7,
    "start_time": "2023-02-16T03:43:14.175Z"
   },
   {
    "duration": 4,
    "start_time": "2023-02-16T03:43:14.184Z"
   },
   {
    "duration": 9,
    "start_time": "2023-02-16T03:43:14.190Z"
   },
   {
    "duration": 5,
    "start_time": "2023-02-16T03:43:14.201Z"
   },
   {
    "duration": 15,
    "start_time": "2023-02-16T03:43:14.207Z"
   },
   {
    "duration": 44,
    "start_time": "2023-02-16T03:43:14.224Z"
   },
   {
    "duration": 11,
    "start_time": "2023-02-16T03:43:14.271Z"
   },
   {
    "duration": 7,
    "start_time": "2023-02-16T03:43:14.284Z"
   },
   {
    "duration": 6,
    "start_time": "2023-02-16T03:43:14.292Z"
   },
   {
    "duration": 5,
    "start_time": "2023-02-16T03:43:14.300Z"
   },
   {
    "duration": 120,
    "start_time": "2023-02-16T03:43:14.307Z"
   },
   {
    "duration": 8,
    "start_time": "2023-02-16T03:43:14.429Z"
   },
   {
    "duration": 9,
    "start_time": "2023-02-16T03:43:14.439Z"
   },
   {
    "duration": 7,
    "start_time": "2023-02-16T03:43:14.468Z"
   },
   {
    "duration": 12,
    "start_time": "2023-02-16T03:43:14.477Z"
   },
   {
    "duration": 5,
    "start_time": "2023-02-16T03:43:14.491Z"
   },
   {
    "duration": 15,
    "start_time": "2023-02-16T03:43:14.498Z"
   },
   {
    "duration": 4,
    "start_time": "2023-02-16T03:43:14.514Z"
   },
   {
    "duration": 8,
    "start_time": "2023-02-16T03:43:14.520Z"
   },
   {
    "duration": 8,
    "start_time": "2023-02-16T03:43:14.530Z"
   },
   {
    "duration": 10,
    "start_time": "2023-02-16T03:43:14.568Z"
   },
   {
    "duration": 6,
    "start_time": "2023-02-16T03:43:14.583Z"
   },
   {
    "duration": 9,
    "start_time": "2023-02-16T03:43:14.590Z"
   },
   {
    "duration": 68,
    "start_time": "2023-02-16T03:43:14.601Z"
   },
   {
    "duration": 43,
    "start_time": "2023-02-16T03:43:14.670Z"
   },
   {
    "duration": 10,
    "start_time": "2023-02-16T03:43:14.715Z"
   },
   {
    "duration": 19,
    "start_time": "2023-02-16T03:43:14.727Z"
   },
   {
    "duration": 26,
    "start_time": "2023-02-16T03:43:14.767Z"
   },
   {
    "duration": 20,
    "start_time": "2023-02-16T03:43:14.796Z"
   },
   {
    "duration": 62,
    "start_time": "2023-02-16T03:43:14.818Z"
   },
   {
    "duration": 6,
    "start_time": "2023-02-16T03:43:14.882Z"
   },
   {
    "duration": 10,
    "start_time": "2023-02-16T03:43:14.890Z"
   },
   {
    "duration": 11,
    "start_time": "2023-02-16T03:43:14.903Z"
   },
   {
    "duration": 8,
    "start_time": "2023-02-16T03:43:14.916Z"
   },
   {
    "duration": 3,
    "start_time": "2023-02-16T03:43:14.926Z"
   },
   {
    "duration": 296,
    "start_time": "2023-02-16T03:43:14.931Z"
   },
   {
    "duration": 14,
    "start_time": "2023-02-16T03:43:15.229Z"
   },
   {
    "duration": 28,
    "start_time": "2023-02-16T03:43:15.244Z"
   },
   {
    "duration": 23,
    "start_time": "2023-02-16T03:43:15.274Z"
   },
   {
    "duration": 240,
    "start_time": "2023-02-16T03:43:15.298Z"
   },
   {
    "duration": 263,
    "start_time": "2023-02-16T03:43:15.539Z"
   },
   {
    "duration": 239,
    "start_time": "2023-02-16T03:43:15.804Z"
   },
   {
    "duration": 260,
    "start_time": "2023-02-16T03:43:16.044Z"
   },
   {
    "duration": 382,
    "start_time": "2023-02-16T03:43:16.305Z"
   },
   {
    "duration": 282,
    "start_time": "2023-02-16T03:43:16.689Z"
   },
   {
    "duration": 253,
    "start_time": "2023-02-16T03:43:16.973Z"
   },
   {
    "duration": 268,
    "start_time": "2023-02-16T03:43:17.228Z"
   },
   {
    "duration": 354,
    "start_time": "2023-02-16T03:43:17.498Z"
   },
   {
    "duration": 846,
    "start_time": "2023-02-16T03:43:17.853Z"
   },
   {
    "duration": 868,
    "start_time": "2023-02-16T03:43:18.701Z"
   },
   {
    "duration": 246,
    "start_time": "2023-02-16T03:43:19.571Z"
   },
   {
    "duration": 242,
    "start_time": "2023-02-16T03:43:19.818Z"
   },
   {
    "duration": 226,
    "start_time": "2023-02-16T03:43:20.067Z"
   },
   {
    "duration": 427,
    "start_time": "2023-02-16T03:43:20.295Z"
   },
   {
    "duration": 1355,
    "start_time": "2023-02-16T03:43:20.724Z"
   },
   {
    "duration": 24,
    "start_time": "2023-02-16T03:43:22.081Z"
   },
   {
    "duration": 15,
    "start_time": "2023-02-16T03:43:22.106Z"
   },
   {
    "duration": 24,
    "start_time": "2023-02-16T03:43:22.123Z"
   },
   {
    "duration": 156,
    "start_time": "2023-02-16T03:43:22.148Z"
   },
   {
    "duration": 102,
    "start_time": "2023-02-16T03:43:22.306Z"
   },
   {
    "duration": 2,
    "start_time": "2023-02-16T03:48:02.723Z"
   },
   {
    "duration": 4,
    "start_time": "2023-02-16T03:49:42.577Z"
   },
   {
    "duration": 10,
    "start_time": "2023-02-16T03:49:47.837Z"
   },
   {
    "duration": 88,
    "start_time": "2023-02-16T03:49:55.768Z"
   },
   {
    "duration": 31,
    "start_time": "2023-02-16T03:49:56.743Z"
   },
   {
    "duration": 10,
    "start_time": "2023-02-16T03:51:02.799Z"
   },
   {
    "duration": 71,
    "start_time": "2023-02-16T03:51:14.334Z"
   },
   {
    "duration": 6,
    "start_time": "2023-02-16T03:51:23.772Z"
   },
   {
    "duration": 6,
    "start_time": "2023-02-16T03:51:37.518Z"
   },
   {
    "duration": 7,
    "start_time": "2023-02-16T03:51:54.867Z"
   },
   {
    "duration": 30,
    "start_time": "2023-02-16T03:52:24.590Z"
   },
   {
    "duration": 13,
    "start_time": "2023-02-16T03:52:49.188Z"
   },
   {
    "duration": 14,
    "start_time": "2023-02-16T03:53:33.355Z"
   },
   {
    "duration": 7,
    "start_time": "2023-02-16T03:55:48.701Z"
   },
   {
    "duration": 13,
    "start_time": "2023-02-16T03:55:56.401Z"
   },
   {
    "duration": 5,
    "start_time": "2023-02-16T03:57:56.619Z"
   },
   {
    "duration": 9,
    "start_time": "2023-02-16T03:58:06.509Z"
   },
   {
    "duration": 7,
    "start_time": "2023-02-16T03:59:58.269Z"
   },
   {
    "duration": 7,
    "start_time": "2023-02-16T04:00:02.166Z"
   },
   {
    "duration": 12,
    "start_time": "2023-02-16T04:00:34.846Z"
   },
   {
    "duration": 8,
    "start_time": "2023-02-16T04:02:47.546Z"
   },
   {
    "duration": 10,
    "start_time": "2023-02-16T04:02:49.087Z"
   },
   {
    "duration": 4,
    "start_time": "2023-02-16T04:02:51.231Z"
   },
   {
    "duration": 92,
    "start_time": "2023-02-16T04:02:51.237Z"
   },
   {
    "duration": 23,
    "start_time": "2023-02-16T04:02:51.331Z"
   },
   {
    "duration": 25,
    "start_time": "2023-02-16T04:02:51.356Z"
   },
   {
    "duration": 20,
    "start_time": "2023-02-16T04:02:51.383Z"
   },
   {
    "duration": 4,
    "start_time": "2023-02-16T04:02:51.405Z"
   },
   {
    "duration": 3726,
    "start_time": "2023-02-16T04:02:51.411Z"
   },
   {
    "duration": 13,
    "start_time": "2023-02-16T04:02:55.140Z"
   },
   {
    "duration": 6,
    "start_time": "2023-02-16T04:02:55.166Z"
   },
   {
    "duration": 8,
    "start_time": "2023-02-16T04:02:55.174Z"
   },
   {
    "duration": 6,
    "start_time": "2023-02-16T04:02:55.184Z"
   },
   {
    "duration": 7,
    "start_time": "2023-02-16T04:02:55.192Z"
   },
   {
    "duration": 9,
    "start_time": "2023-02-16T04:02:55.200Z"
   },
   {
    "duration": 4,
    "start_time": "2023-02-16T04:02:55.215Z"
   },
   {
    "duration": 7,
    "start_time": "2023-02-16T04:02:55.220Z"
   },
   {
    "duration": 39,
    "start_time": "2023-02-16T04:02:55.229Z"
   },
   {
    "duration": 5,
    "start_time": "2023-02-16T04:02:55.269Z"
   },
   {
    "duration": 6,
    "start_time": "2023-02-16T04:02:55.276Z"
   },
   {
    "duration": 5,
    "start_time": "2023-02-16T04:02:55.283Z"
   },
   {
    "duration": 8,
    "start_time": "2023-02-16T04:02:55.289Z"
   },
   {
    "duration": 5,
    "start_time": "2023-02-16T04:02:55.298Z"
   },
   {
    "duration": 6,
    "start_time": "2023-02-16T04:02:55.305Z"
   },
   {
    "duration": 7,
    "start_time": "2023-02-16T04:02:55.313Z"
   },
   {
    "duration": 44,
    "start_time": "2023-02-16T04:02:55.324Z"
   },
   {
    "duration": 6,
    "start_time": "2023-02-16T04:02:55.369Z"
   },
   {
    "duration": 12,
    "start_time": "2023-02-16T04:02:55.376Z"
   },
   {
    "duration": 6,
    "start_time": "2023-02-16T04:02:55.389Z"
   },
   {
    "duration": 14,
    "start_time": "2023-02-16T04:02:55.396Z"
   },
   {
    "duration": 5,
    "start_time": "2023-02-16T04:02:55.412Z"
   },
   {
    "duration": 5,
    "start_time": "2023-02-16T04:02:55.419Z"
   },
   {
    "duration": 6,
    "start_time": "2023-02-16T04:02:55.426Z"
   },
   {
    "duration": 99,
    "start_time": "2023-02-16T04:02:55.433Z"
   },
   {
    "duration": 6,
    "start_time": "2023-02-16T04:02:55.534Z"
   },
   {
    "duration": 26,
    "start_time": "2023-02-16T04:02:55.541Z"
   },
   {
    "duration": 5,
    "start_time": "2023-02-16T04:02:55.569Z"
   },
   {
    "duration": 13,
    "start_time": "2023-02-16T04:02:55.575Z"
   },
   {
    "duration": 7,
    "start_time": "2023-02-16T04:02:55.589Z"
   },
   {
    "duration": 13,
    "start_time": "2023-02-16T04:02:55.597Z"
   },
   {
    "duration": 5,
    "start_time": "2023-02-16T04:02:55.611Z"
   },
   {
    "duration": 6,
    "start_time": "2023-02-16T04:02:55.617Z"
   },
   {
    "duration": 10,
    "start_time": "2023-02-16T04:02:55.625Z"
   },
   {
    "duration": 38,
    "start_time": "2023-02-16T04:02:55.637Z"
   },
   {
    "duration": 7,
    "start_time": "2023-02-16T04:02:55.677Z"
   },
   {
    "duration": 38,
    "start_time": "2023-02-16T04:02:55.686Z"
   },
   {
    "duration": 33,
    "start_time": "2023-02-16T04:02:55.726Z"
   },
   {
    "duration": 45,
    "start_time": "2023-02-16T04:02:55.760Z"
   },
   {
    "duration": 7,
    "start_time": "2023-02-16T04:02:55.807Z"
   },
   {
    "duration": 16,
    "start_time": "2023-02-16T04:02:55.816Z"
   },
   {
    "duration": 41,
    "start_time": "2023-02-16T04:02:55.834Z"
   },
   {
    "duration": 21,
    "start_time": "2023-02-16T04:02:55.877Z"
   },
   {
    "duration": 28,
    "start_time": "2023-02-16T04:02:55.900Z"
   },
   {
    "duration": 4,
    "start_time": "2023-02-16T04:02:55.929Z"
   },
   {
    "duration": 8,
    "start_time": "2023-02-16T04:02:55.935Z"
   },
   {
    "duration": 8,
    "start_time": "2023-02-16T04:02:55.967Z"
   },
   {
    "duration": 9,
    "start_time": "2023-02-16T04:02:55.976Z"
   },
   {
    "duration": 7,
    "start_time": "2023-02-16T04:02:55.987Z"
   },
   {
    "duration": 461,
    "start_time": "2023-02-16T04:02:55.996Z"
   },
   {
    "duration": 23,
    "start_time": "2023-02-16T04:02:56.459Z"
   },
   {
    "duration": 21,
    "start_time": "2023-02-16T04:02:56.484Z"
   },
   {
    "duration": 3,
    "start_time": "2023-02-16T04:02:56.506Z"
   },
   {
    "duration": 228,
    "start_time": "2023-02-16T04:02:56.511Z"
   },
   {
    "duration": 268,
    "start_time": "2023-02-16T04:02:56.740Z"
   },
   {
    "duration": 235,
    "start_time": "2023-02-16T04:02:57.009Z"
   },
   {
    "duration": 261,
    "start_time": "2023-02-16T04:02:57.245Z"
   },
   {
    "duration": 233,
    "start_time": "2023-02-16T04:02:57.508Z"
   },
   {
    "duration": 236,
    "start_time": "2023-02-16T04:02:57.743Z"
   },
   {
    "duration": 233,
    "start_time": "2023-02-16T04:02:57.980Z"
   },
   {
    "duration": 218,
    "start_time": "2023-02-16T04:02:58.214Z"
   },
   {
    "duration": 346,
    "start_time": "2023-02-16T04:02:58.436Z"
   },
   {
    "duration": 958,
    "start_time": "2023-02-16T04:02:58.784Z"
   },
   {
    "duration": 693,
    "start_time": "2023-02-16T04:02:59.744Z"
   },
   {
    "duration": 267,
    "start_time": "2023-02-16T04:03:00.439Z"
   },
   {
    "duration": 540,
    "start_time": "2023-02-16T04:03:00.708Z"
   },
   {
    "duration": 229,
    "start_time": "2023-02-16T04:03:01.250Z"
   },
   {
    "duration": 408,
    "start_time": "2023-02-16T04:03:01.480Z"
   },
   {
    "duration": 1129,
    "start_time": "2023-02-16T04:03:01.889Z"
   },
   {
    "duration": 29,
    "start_time": "2023-02-16T04:03:03.020Z"
   },
   {
    "duration": 21,
    "start_time": "2023-02-16T04:03:03.051Z"
   },
   {
    "duration": 25,
    "start_time": "2023-02-16T04:03:03.073Z"
   },
   {
    "duration": 148,
    "start_time": "2023-02-16T04:03:03.100Z"
   },
   {
    "duration": 97,
    "start_time": "2023-02-16T04:03:03.250Z"
   },
   {
    "duration": 75,
    "start_time": "2023-02-16T04:10:22.677Z"
   },
   {
    "duration": 7,
    "start_time": "2023-02-16T04:10:29.911Z"
   },
   {
    "duration": 8,
    "start_time": "2023-02-16T04:10:44.949Z"
   },
   {
    "duration": 78,
    "start_time": "2023-02-16T04:13:37.805Z"
   },
   {
    "duration": 7,
    "start_time": "2023-02-16T04:13:42.152Z"
   },
   {
    "duration": 9,
    "start_time": "2023-02-16T04:13:54.084Z"
   },
   {
    "duration": 12,
    "start_time": "2023-02-16T04:17:06.232Z"
   },
   {
    "duration": 5,
    "start_time": "2023-02-16T04:17:13.574Z"
   },
   {
    "duration": 275,
    "start_time": "2023-02-16T04:17:14.620Z"
   },
   {
    "duration": 1055,
    "start_time": "2023-02-16T04:17:53.490Z"
   },
   {
    "duration": 11,
    "start_time": "2023-02-16T04:32:04.256Z"
   },
   {
    "duration": 8,
    "start_time": "2023-02-16T04:32:14.004Z"
   },
   {
    "duration": 13,
    "start_time": "2023-02-16T04:32:26.174Z"
   },
   {
    "duration": 16,
    "start_time": "2023-02-16T04:32:48.347Z"
   },
   {
    "duration": 17,
    "start_time": "2023-02-16T04:33:07.048Z"
   },
   {
    "duration": 37,
    "start_time": "2023-02-16T04:33:16.210Z"
   },
   {
    "duration": 1284,
    "start_time": "2023-02-16T04:33:27.323Z"
   },
   {
    "duration": 63,
    "start_time": "2023-02-16T04:33:37.947Z"
   },
   {
    "duration": 8,
    "start_time": "2023-02-16T04:33:42.210Z"
   },
   {
    "duration": 14,
    "start_time": "2023-02-16T04:34:01.142Z"
   },
   {
    "duration": 8,
    "start_time": "2023-02-16T04:34:09.290Z"
   },
   {
    "duration": 11,
    "start_time": "2023-02-16T04:34:47.933Z"
   },
   {
    "duration": 10,
    "start_time": "2023-02-16T04:34:54.337Z"
   },
   {
    "duration": 19,
    "start_time": "2023-02-16T04:34:58.807Z"
   },
   {
    "duration": 40,
    "start_time": "2023-02-16T04:35:10.829Z"
   },
   {
    "duration": 8,
    "start_time": "2023-02-16T04:35:50.893Z"
   },
   {
    "duration": 1203,
    "start_time": "2023-02-16T04:36:06.184Z"
   },
   {
    "duration": 1258,
    "start_time": "2023-02-16T04:36:20.143Z"
   },
   {
    "duration": 20,
    "start_time": "2023-02-16T04:36:33.634Z"
   },
   {
    "duration": 21,
    "start_time": "2023-02-16T04:36:46.786Z"
   },
   {
    "duration": 17,
    "start_time": "2023-02-16T04:37:00.944Z"
   },
   {
    "duration": 21,
    "start_time": "2023-02-16T04:37:06.550Z"
   },
   {
    "duration": 17,
    "start_time": "2023-02-16T04:37:13.658Z"
   },
   {
    "duration": 54,
    "start_time": "2023-02-16T04:37:54.484Z"
   },
   {
    "duration": 59,
    "start_time": "2023-02-16T04:38:08.597Z"
   },
   {
    "duration": 34,
    "start_time": "2023-02-16T04:38:22.710Z"
   },
   {
    "duration": 47,
    "start_time": "2023-02-16T04:38:26.659Z"
   },
   {
    "duration": 27,
    "start_time": "2023-02-16T04:38:38.825Z"
   },
   {
    "duration": 7,
    "start_time": "2023-02-16T04:38:54.016Z"
   },
   {
    "duration": 9,
    "start_time": "2023-02-16T04:39:04.045Z"
   },
   {
    "duration": 1009,
    "start_time": "2023-02-16T04:39:37.490Z"
   },
   {
    "duration": 25,
    "start_time": "2023-02-16T04:39:49.967Z"
   },
   {
    "duration": 7,
    "start_time": "2023-02-16T04:40:01.129Z"
   },
   {
    "duration": 6,
    "start_time": "2023-02-16T04:40:10.544Z"
   },
   {
    "duration": 6,
    "start_time": "2023-02-16T04:40:21.417Z"
   },
   {
    "duration": 7,
    "start_time": "2023-02-16T04:40:28.344Z"
   },
   {
    "duration": 1478,
    "start_time": "2023-02-16T04:40:50.853Z"
   },
   {
    "duration": 15,
    "start_time": "2023-02-16T04:41:03.194Z"
   },
   {
    "duration": 11,
    "start_time": "2023-02-16T04:41:10.965Z"
   },
   {
    "duration": 21,
    "start_time": "2023-02-16T04:41:17.961Z"
   },
   {
    "duration": 19,
    "start_time": "2023-02-16T04:41:21.457Z"
   },
   {
    "duration": 661,
    "start_time": "2023-02-16T04:41:53.349Z"
   },
   {
    "duration": 16,
    "start_time": "2023-02-16T04:41:58.842Z"
   },
   {
    "duration": 14,
    "start_time": "2023-02-16T04:42:47.988Z"
   },
   {
    "duration": 21,
    "start_time": "2023-02-16T04:42:51.341Z"
   },
   {
    "duration": 27,
    "start_time": "2023-02-16T04:42:56.693Z"
   },
   {
    "duration": 53,
    "start_time": "2023-02-16T04:43:06.684Z"
   },
   {
    "duration": 16,
    "start_time": "2023-02-16T04:43:24.488Z"
   },
   {
    "duration": 16,
    "start_time": "2023-02-16T04:43:29.200Z"
   },
   {
    "duration": 25,
    "start_time": "2023-02-16T04:43:33.967Z"
   },
   {
    "duration": 7,
    "start_time": "2023-02-16T04:43:40.702Z"
   },
   {
    "duration": 34,
    "start_time": "2023-02-16T04:43:50.489Z"
   },
   {
    "duration": 76,
    "start_time": "2023-02-16T07:29:44.925Z"
   },
   {
    "duration": 465,
    "start_time": "2023-02-16T07:29:49.930Z"
   },
   {
    "duration": 367,
    "start_time": "2023-02-16T07:29:50.398Z"
   },
   {
    "duration": 44,
    "start_time": "2023-02-16T07:29:50.767Z"
   },
   {
    "duration": 16,
    "start_time": "2023-02-16T07:29:50.813Z"
   },
   {
    "duration": 46,
    "start_time": "2023-02-16T07:29:50.831Z"
   },
   {
    "duration": 6,
    "start_time": "2023-02-16T07:29:50.879Z"
   },
   {
    "duration": 4816,
    "start_time": "2023-02-16T07:29:50.887Z"
   },
   {
    "duration": 11,
    "start_time": "2023-02-16T07:29:55.705Z"
   },
   {
    "duration": 43,
    "start_time": "2023-02-16T07:29:55.718Z"
   },
   {
    "duration": 15,
    "start_time": "2023-02-16T07:29:55.765Z"
   },
   {
    "duration": 21,
    "start_time": "2023-02-16T07:29:55.783Z"
   },
   {
    "duration": 48,
    "start_time": "2023-02-16T07:29:55.807Z"
   },
   {
    "duration": 21,
    "start_time": "2023-02-16T07:29:55.858Z"
   },
   {
    "duration": 141,
    "start_time": "2023-02-16T07:29:55.881Z"
   },
   {
    "duration": 6,
    "start_time": "2023-02-16T07:29:56.024Z"
   },
   {
    "duration": 57,
    "start_time": "2023-02-16T07:29:56.032Z"
   },
   {
    "duration": 25,
    "start_time": "2023-02-16T07:29:56.091Z"
   },
   {
    "duration": 55,
    "start_time": "2023-02-16T07:29:56.118Z"
   },
   {
    "duration": 29,
    "start_time": "2023-02-16T07:29:56.175Z"
   },
   {
    "duration": 47,
    "start_time": "2023-02-16T07:29:56.212Z"
   },
   {
    "duration": 37,
    "start_time": "2023-02-16T07:29:56.261Z"
   },
   {
    "duration": 87,
    "start_time": "2023-02-16T07:29:56.300Z"
   },
   {
    "duration": 66,
    "start_time": "2023-02-16T07:29:56.391Z"
   },
   {
    "duration": 108,
    "start_time": "2023-02-16T07:29:56.459Z"
   },
   {
    "duration": 57,
    "start_time": "2023-02-16T07:29:56.569Z"
   },
   {
    "duration": 42,
    "start_time": "2023-02-16T07:29:56.630Z"
   },
   {
    "duration": 28,
    "start_time": "2023-02-16T07:29:56.674Z"
   },
   {
    "duration": 78,
    "start_time": "2023-02-16T07:29:56.709Z"
   },
   {
    "duration": 62,
    "start_time": "2023-02-16T07:29:56.789Z"
   },
   {
    "duration": 22,
    "start_time": "2023-02-16T07:29:56.853Z"
   },
   {
    "duration": 20,
    "start_time": "2023-02-16T07:29:56.877Z"
   },
   {
    "duration": 130,
    "start_time": "2023-02-16T07:29:56.899Z"
   },
   {
    "duration": 19,
    "start_time": "2023-02-16T07:29:57.031Z"
   },
   {
    "duration": 198,
    "start_time": "2023-02-16T07:29:57.052Z"
   },
   {
    "duration": 60,
    "start_time": "2023-02-16T07:29:57.252Z"
   },
   {
    "duration": 23,
    "start_time": "2023-02-16T07:29:57.314Z"
   },
   {
    "duration": 15,
    "start_time": "2023-02-16T07:29:57.340Z"
   },
   {
    "duration": 17,
    "start_time": "2023-02-16T07:29:57.358Z"
   },
   {
    "duration": 11,
    "start_time": "2023-02-16T07:29:57.377Z"
   },
   {
    "duration": 17,
    "start_time": "2023-02-16T07:29:57.390Z"
   },
   {
    "duration": 18,
    "start_time": "2023-02-16T07:29:57.410Z"
   },
   {
    "duration": 20,
    "start_time": "2023-02-16T07:29:57.431Z"
   },
   {
    "duration": 11,
    "start_time": "2023-02-16T07:29:57.453Z"
   },
   {
    "duration": 17,
    "start_time": "2023-02-16T07:29:57.466Z"
   },
   {
    "duration": 90,
    "start_time": "2023-02-16T07:29:57.485Z"
   },
   {
    "duration": 41,
    "start_time": "2023-02-16T07:29:57.584Z"
   },
   {
    "duration": 8,
    "start_time": "2023-02-16T07:29:57.627Z"
   },
   {
    "duration": 25,
    "start_time": "2023-02-16T07:29:57.637Z"
   },
   {
    "duration": 50,
    "start_time": "2023-02-16T07:29:57.664Z"
   },
   {
    "duration": 16,
    "start_time": "2023-02-16T07:29:57.716Z"
   },
   {
    "duration": 35,
    "start_time": "2023-02-16T07:29:57.734Z"
   },
   {
    "duration": 6,
    "start_time": "2023-02-16T07:29:57.771Z"
   },
   {
    "duration": 22,
    "start_time": "2023-02-16T07:29:57.780Z"
   },
   {
    "duration": 8,
    "start_time": "2023-02-16T07:29:57.805Z"
   },
   {
    "duration": 11,
    "start_time": "2023-02-16T07:29:57.816Z"
   },
   {
    "duration": 23,
    "start_time": "2023-02-16T07:29:57.829Z"
   },
   {
    "duration": 407,
    "start_time": "2023-02-16T07:29:57.854Z"
   },
   {
    "duration": 28,
    "start_time": "2023-02-16T07:29:58.263Z"
   },
   {
    "duration": 34,
    "start_time": "2023-02-16T07:29:58.293Z"
   },
   {
    "duration": 6,
    "start_time": "2023-02-16T07:29:58.348Z"
   },
   {
    "duration": 348,
    "start_time": "2023-02-16T07:29:58.356Z"
   },
   {
    "duration": 282,
    "start_time": "2023-02-16T07:29:58.707Z"
   },
   {
    "duration": 276,
    "start_time": "2023-02-16T07:29:58.990Z"
   },
   {
    "duration": 266,
    "start_time": "2023-02-16T07:29:59.268Z"
   },
   {
    "duration": 402,
    "start_time": "2023-02-16T07:29:59.536Z"
   },
   {
    "duration": 257,
    "start_time": "2023-02-16T07:29:59.940Z"
   },
   {
    "duration": 261,
    "start_time": "2023-02-16T07:30:00.199Z"
   },
   {
    "duration": 246,
    "start_time": "2023-02-16T07:30:00.462Z"
   },
   {
    "duration": 388,
    "start_time": "2023-02-16T07:30:00.710Z"
   },
   {
    "duration": 887,
    "start_time": "2023-02-16T07:30:01.100Z"
   },
   {
    "duration": 891,
    "start_time": "2023-02-16T07:30:01.989Z"
   },
   {
    "duration": 268,
    "start_time": "2023-02-16T07:30:02.882Z"
   },
   {
    "duration": 323,
    "start_time": "2023-02-16T07:30:03.153Z"
   },
   {
    "duration": 248,
    "start_time": "2023-02-16T07:30:03.478Z"
   },
   {
    "duration": 1383,
    "start_time": "2023-02-16T07:30:03.727Z"
   },
   {
    "duration": 12,
    "start_time": "2023-02-16T07:30:05.113Z"
   },
   {
    "duration": 1681,
    "start_time": "2023-02-16T07:30:05.129Z"
   },
   {
    "duration": 39,
    "start_time": "2023-02-16T07:30:06.812Z"
   },
   {
    "duration": 13,
    "start_time": "2023-02-16T07:30:06.853Z"
   },
   {
    "duration": 17,
    "start_time": "2023-02-16T07:30:06.868Z"
   },
   {
    "duration": 235,
    "start_time": "2023-02-16T07:30:06.887Z"
   },
   {
    "duration": 113,
    "start_time": "2023-02-16T07:30:07.129Z"
   },
   {
    "duration": 31,
    "start_time": "2023-02-16T07:31:23.255Z"
   },
   {
    "duration": 32,
    "start_time": "2023-02-16T07:31:37.950Z"
   },
   {
    "duration": 1252,
    "start_time": "2023-02-16T07:32:51.430Z"
   },
   {
    "duration": 50,
    "start_time": "2023-02-16T07:39:43.942Z"
   },
   {
    "duration": 6,
    "start_time": "2023-02-16T07:41:28.297Z"
   },
   {
    "duration": 6,
    "start_time": "2023-02-16T07:41:42.351Z"
   },
   {
    "duration": 2067,
    "start_time": "2023-02-16T07:42:01.458Z"
   },
   {
    "duration": 171,
    "start_time": "2023-02-16T07:42:09.705Z"
   },
   {
    "duration": 853,
    "start_time": "2023-02-16T07:42:18.619Z"
   },
   {
    "duration": 732,
    "start_time": "2023-02-16T07:42:33.295Z"
   },
   {
    "duration": 912,
    "start_time": "2023-02-16T07:42:44.856Z"
   },
   {
    "duration": 705,
    "start_time": "2023-02-16T07:42:51.724Z"
   },
   {
    "duration": 445,
    "start_time": "2023-02-16T07:43:29.579Z"
   },
   {
    "duration": 852,
    "start_time": "2023-02-16T07:43:39.873Z"
   },
   {
    "duration": 954,
    "start_time": "2023-02-16T07:43:49.506Z"
   },
   {
    "duration": 473,
    "start_time": "2023-02-16T07:43:58.485Z"
   },
   {
    "duration": 299,
    "start_time": "2023-02-16T07:44:06.265Z"
   },
   {
    "duration": 470,
    "start_time": "2023-02-16T07:44:11.492Z"
   },
   {
    "duration": 15,
    "start_time": "2023-02-16T07:44:45.816Z"
   },
   {
    "duration": 29,
    "start_time": "2023-02-16T07:44:54.926Z"
   },
   {
    "duration": 37,
    "start_time": "2023-02-16T07:45:14.826Z"
   },
   {
    "duration": 14,
    "start_time": "2023-02-16T07:45:34.463Z"
   },
   {
    "duration": 14,
    "start_time": "2023-02-16T07:45:39.453Z"
   },
   {
    "duration": 6,
    "start_time": "2023-02-16T07:48:18.314Z"
   },
   {
    "duration": 41,
    "start_time": "2023-02-16T07:48:32.190Z"
   },
   {
    "duration": 10,
    "start_time": "2023-02-16T07:48:38.846Z"
   },
   {
    "duration": 7,
    "start_time": "2023-02-16T07:48:55.794Z"
   },
   {
    "duration": 10,
    "start_time": "2023-02-16T07:49:05.462Z"
   },
   {
    "duration": 7,
    "start_time": "2023-02-16T07:49:16.693Z"
   },
   {
    "duration": 39,
    "start_time": "2023-02-16T07:51:00.333Z"
   },
   {
    "duration": 3,
    "start_time": "2023-02-16T07:51:14.439Z"
   },
   {
    "duration": 106,
    "start_time": "2023-02-16T07:51:14.444Z"
   },
   {
    "duration": 26,
    "start_time": "2023-02-16T07:51:14.551Z"
   },
   {
    "duration": 17,
    "start_time": "2023-02-16T07:51:14.579Z"
   },
   {
    "duration": 51,
    "start_time": "2023-02-16T07:51:14.598Z"
   },
   {
    "duration": 5,
    "start_time": "2023-02-16T07:51:14.651Z"
   },
   {
    "duration": 3911,
    "start_time": "2023-02-16T07:51:14.657Z"
   },
   {
    "duration": 11,
    "start_time": "2023-02-16T07:51:18.569Z"
   },
   {
    "duration": 7,
    "start_time": "2023-02-16T07:51:18.582Z"
   },
   {
    "duration": 8,
    "start_time": "2023-02-16T07:51:18.591Z"
   },
   {
    "duration": 15,
    "start_time": "2023-02-16T07:51:18.601Z"
   },
   {
    "duration": 35,
    "start_time": "2023-02-16T07:51:18.618Z"
   },
   {
    "duration": 11,
    "start_time": "2023-02-16T07:51:18.655Z"
   },
   {
    "duration": 9,
    "start_time": "2023-02-16T07:51:18.669Z"
   },
   {
    "duration": 9,
    "start_time": "2023-02-16T07:51:18.680Z"
   },
   {
    "duration": 11,
    "start_time": "2023-02-16T07:51:18.690Z"
   },
   {
    "duration": 7,
    "start_time": "2023-02-16T07:51:18.703Z"
   },
   {
    "duration": 8,
    "start_time": "2023-02-16T07:51:18.712Z"
   },
   {
    "duration": 6,
    "start_time": "2023-02-16T07:51:18.748Z"
   },
   {
    "duration": 283,
    "start_time": "2023-02-16T07:51:18.755Z"
   },
   {
    "duration": 11,
    "start_time": "2023-02-16T07:51:19.040Z"
   },
   {
    "duration": 8,
    "start_time": "2023-02-16T07:51:19.052Z"
   },
   {
    "duration": 7,
    "start_time": "2023-02-16T07:51:19.061Z"
   },
   {
    "duration": 8,
    "start_time": "2023-02-16T07:51:19.069Z"
   },
   {
    "duration": 4,
    "start_time": "2023-02-16T07:51:19.079Z"
   },
   {
    "duration": 11,
    "start_time": "2023-02-16T07:51:19.084Z"
   },
   {
    "duration": 4,
    "start_time": "2023-02-16T07:51:19.097Z"
   },
   {
    "duration": 48,
    "start_time": "2023-02-16T07:51:19.102Z"
   },
   {
    "duration": 5,
    "start_time": "2023-02-16T07:51:19.152Z"
   },
   {
    "duration": 5,
    "start_time": "2023-02-16T07:51:19.159Z"
   },
   {
    "duration": 5,
    "start_time": "2023-02-16T07:51:19.165Z"
   },
   {
    "duration": 97,
    "start_time": "2023-02-16T07:51:19.172Z"
   },
   {
    "duration": 7,
    "start_time": "2023-02-16T07:51:19.271Z"
   },
   {
    "duration": 17,
    "start_time": "2023-02-16T07:51:19.279Z"
   },
   {
    "duration": 6,
    "start_time": "2023-02-16T07:51:19.298Z"
   },
   {
    "duration": 9,
    "start_time": "2023-02-16T07:51:19.306Z"
   },
   {
    "duration": 7,
    "start_time": "2023-02-16T07:51:19.317Z"
   },
   {
    "duration": 27,
    "start_time": "2023-02-16T07:51:19.325Z"
   },
   {
    "duration": 4,
    "start_time": "2023-02-16T07:51:19.353Z"
   },
   {
    "duration": 6,
    "start_time": "2023-02-16T07:51:19.359Z"
   },
   {
    "duration": 17,
    "start_time": "2023-02-16T07:51:19.369Z"
   },
   {
    "duration": 10,
    "start_time": "2023-02-16T07:51:19.387Z"
   },
   {
    "duration": 7,
    "start_time": "2023-02-16T07:51:19.398Z"
   },
   {
    "duration": 42,
    "start_time": "2023-02-16T07:51:19.406Z"
   },
   {
    "duration": 36,
    "start_time": "2023-02-16T07:51:19.450Z"
   },
   {
    "duration": 38,
    "start_time": "2023-02-16T07:51:19.488Z"
   },
   {
    "duration": 24,
    "start_time": "2023-02-16T07:51:19.528Z"
   },
   {
    "duration": 22,
    "start_time": "2023-02-16T07:51:19.553Z"
   },
   {
    "duration": 19,
    "start_time": "2023-02-16T07:51:19.577Z"
   },
   {
    "duration": 14,
    "start_time": "2023-02-16T07:51:19.597Z"
   },
   {
    "duration": 50,
    "start_time": "2023-02-16T07:51:19.613Z"
   },
   {
    "duration": 3,
    "start_time": "2023-02-16T07:51:19.665Z"
   },
   {
    "duration": 8,
    "start_time": "2023-02-16T07:51:19.669Z"
   },
   {
    "duration": 5,
    "start_time": "2023-02-16T07:51:19.679Z"
   },
   {
    "duration": 6,
    "start_time": "2023-02-16T07:51:19.685Z"
   },
   {
    "duration": 4,
    "start_time": "2023-02-16T07:51:19.692Z"
   },
   {
    "duration": 294,
    "start_time": "2023-02-16T07:51:19.697Z"
   },
   {
    "duration": 17,
    "start_time": "2023-02-16T07:51:19.993Z"
   },
   {
    "duration": 22,
    "start_time": "2023-02-16T07:51:20.011Z"
   },
   {
    "duration": 3,
    "start_time": "2023-02-16T07:51:20.049Z"
   },
   {
    "duration": 227,
    "start_time": "2023-02-16T07:51:20.054Z"
   },
   {
    "duration": 257,
    "start_time": "2023-02-16T07:51:20.283Z"
   },
   {
    "duration": 255,
    "start_time": "2023-02-16T07:51:20.541Z"
   },
   {
    "duration": 265,
    "start_time": "2023-02-16T07:51:20.797Z"
   },
   {
    "duration": 245,
    "start_time": "2023-02-16T07:51:21.064Z"
   },
   {
    "duration": 263,
    "start_time": "2023-02-16T07:51:21.310Z"
   },
   {
    "duration": 242,
    "start_time": "2023-02-16T07:51:21.575Z"
   },
   {
    "duration": 235,
    "start_time": "2023-02-16T07:51:21.818Z"
   },
   {
    "duration": 372,
    "start_time": "2023-02-16T07:51:22.055Z"
   },
   {
    "duration": 1109,
    "start_time": "2023-02-16T07:51:22.428Z"
   },
   {
    "duration": 745,
    "start_time": "2023-02-16T07:51:23.539Z"
   },
   {
    "duration": 254,
    "start_time": "2023-02-16T07:51:24.286Z"
   },
   {
    "duration": 252,
    "start_time": "2023-02-16T07:51:24.542Z"
   },
   {
    "duration": 236,
    "start_time": "2023-02-16T07:51:24.796Z"
   },
   {
    "duration": 518,
    "start_time": "2023-02-16T07:51:25.034Z"
   },
   {
    "duration": 3,
    "start_time": "2023-02-16T07:51:25.553Z"
   },
   {
    "duration": 19,
    "start_time": "2023-02-16T07:51:25.558Z"
   },
   {
    "duration": 1256,
    "start_time": "2023-02-16T07:51:25.579Z"
   },
   {
    "duration": 28,
    "start_time": "2023-02-16T07:51:26.837Z"
   },
   {
    "duration": 8,
    "start_time": "2023-02-16T07:51:26.866Z"
   },
   {
    "duration": 9,
    "start_time": "2023-02-16T07:51:26.876Z"
   },
   {
    "duration": 170,
    "start_time": "2023-02-16T07:51:26.887Z"
   },
   {
    "duration": 104,
    "start_time": "2023-02-16T07:51:27.058Z"
   },
   {
    "duration": 4,
    "start_time": "2023-02-16T07:51:54.370Z"
   },
   {
    "duration": 92,
    "start_time": "2023-02-16T07:51:54.930Z"
   },
   {
    "duration": 15,
    "start_time": "2023-02-16T07:51:56.026Z"
   },
   {
    "duration": 30,
    "start_time": "2023-02-16T07:52:02.678Z"
   },
   {
    "duration": 26,
    "start_time": "2023-02-16T07:52:27.842Z"
   },
   {
    "duration": 2,
    "start_time": "2023-02-16T07:52:49.202Z"
   },
   {
    "duration": 13,
    "start_time": "2023-02-16T07:52:49.859Z"
   },
   {
    "duration": 6,
    "start_time": "2023-02-16T07:53:01.140Z"
   },
   {
    "duration": 31,
    "start_time": "2023-02-16T07:53:08.317Z"
   },
   {
    "duration": 17,
    "start_time": "2023-02-16T07:53:23.414Z"
   },
   {
    "duration": 29,
    "start_time": "2023-02-16T07:53:35.341Z"
   },
   {
    "duration": 6,
    "start_time": "2023-02-16T07:53:44.641Z"
   },
   {
    "duration": 5,
    "start_time": "2023-02-16T07:53:50.687Z"
   },
   {
    "duration": 4,
    "start_time": "2023-02-16T07:53:59.461Z"
   },
   {
    "duration": 4,
    "start_time": "2023-02-16T07:54:38.914Z"
   },
   {
    "duration": 4,
    "start_time": "2023-02-16T08:24:27.346Z"
   },
   {
    "duration": 112,
    "start_time": "2023-02-16T08:24:27.353Z"
   },
   {
    "duration": 23,
    "start_time": "2023-02-16T08:24:27.467Z"
   },
   {
    "duration": 20,
    "start_time": "2023-02-16T08:24:27.491Z"
   },
   {
    "duration": 23,
    "start_time": "2023-02-16T08:24:27.513Z"
   },
   {
    "duration": 13,
    "start_time": "2023-02-16T08:24:27.538Z"
   },
   {
    "duration": 4548,
    "start_time": "2023-02-16T08:24:27.553Z"
   },
   {
    "duration": 10,
    "start_time": "2023-02-16T08:24:32.102Z"
   },
   {
    "duration": 9,
    "start_time": "2023-02-16T08:24:32.114Z"
   },
   {
    "duration": 24,
    "start_time": "2023-02-16T08:24:32.125Z"
   },
   {
    "duration": 6,
    "start_time": "2023-02-16T08:24:32.151Z"
   },
   {
    "duration": 11,
    "start_time": "2023-02-16T08:24:32.158Z"
   },
   {
    "duration": 11,
    "start_time": "2023-02-16T08:24:32.171Z"
   },
   {
    "duration": 21,
    "start_time": "2023-02-16T08:24:32.184Z"
   },
   {
    "duration": 19,
    "start_time": "2023-02-16T08:24:32.209Z"
   },
   {
    "duration": 20,
    "start_time": "2023-02-16T08:24:32.229Z"
   },
   {
    "duration": 11,
    "start_time": "2023-02-16T08:24:32.251Z"
   },
   {
    "duration": 17,
    "start_time": "2023-02-16T08:24:32.263Z"
   },
   {
    "duration": 14,
    "start_time": "2023-02-16T08:24:32.282Z"
   },
   {
    "duration": 10,
    "start_time": "2023-02-16T08:24:32.298Z"
   },
   {
    "duration": 6,
    "start_time": "2023-02-16T08:24:32.310Z"
   },
   {
    "duration": 11,
    "start_time": "2023-02-16T08:24:32.317Z"
   },
   {
    "duration": 21,
    "start_time": "2023-02-16T08:24:32.330Z"
   },
   {
    "duration": 9,
    "start_time": "2023-02-16T08:24:32.353Z"
   },
   {
    "duration": 18,
    "start_time": "2023-02-16T08:24:32.364Z"
   },
   {
    "duration": 16,
    "start_time": "2023-02-16T08:24:32.384Z"
   },
   {
    "duration": 5,
    "start_time": "2023-02-16T08:24:32.402Z"
   },
   {
    "duration": 13,
    "start_time": "2023-02-16T08:24:32.409Z"
   },
   {
    "duration": 32,
    "start_time": "2023-02-16T08:24:32.424Z"
   },
   {
    "duration": 9,
    "start_time": "2023-02-16T08:24:32.458Z"
   },
   {
    "duration": 11,
    "start_time": "2023-02-16T08:24:32.469Z"
   },
   {
    "duration": 100,
    "start_time": "2023-02-16T08:24:32.482Z"
   },
   {
    "duration": 8,
    "start_time": "2023-02-16T08:24:32.583Z"
   },
   {
    "duration": 15,
    "start_time": "2023-02-16T08:24:32.592Z"
   },
   {
    "duration": 7,
    "start_time": "2023-02-16T08:24:32.609Z"
   },
   {
    "duration": 34,
    "start_time": "2023-02-16T08:24:32.618Z"
   },
   {
    "duration": 9,
    "start_time": "2023-02-16T08:24:32.653Z"
   },
   {
    "duration": 13,
    "start_time": "2023-02-16T08:24:32.663Z"
   },
   {
    "duration": 7,
    "start_time": "2023-02-16T08:24:32.678Z"
   },
   {
    "duration": 11,
    "start_time": "2023-02-16T08:24:32.687Z"
   },
   {
    "duration": 12,
    "start_time": "2023-02-16T08:24:32.700Z"
   },
   {
    "duration": 32,
    "start_time": "2023-02-16T08:24:32.717Z"
   },
   {
    "duration": 7,
    "start_time": "2023-02-16T08:24:32.751Z"
   },
   {
    "duration": 24,
    "start_time": "2023-02-16T08:24:32.760Z"
   },
   {
    "duration": 40,
    "start_time": "2023-02-16T08:24:32.785Z"
   },
   {
    "duration": 53,
    "start_time": "2023-02-16T08:24:32.826Z"
   },
   {
    "duration": 8,
    "start_time": "2023-02-16T08:24:32.880Z"
   },
   {
    "duration": 15,
    "start_time": "2023-02-16T08:24:32.890Z"
   },
   {
    "duration": 43,
    "start_time": "2023-02-16T08:24:32.906Z"
   },
   {
    "duration": 17,
    "start_time": "2023-02-16T08:24:32.951Z"
   },
   {
    "duration": 33,
    "start_time": "2023-02-16T08:24:32.969Z"
   },
   {
    "duration": 3,
    "start_time": "2023-02-16T08:24:33.004Z"
   },
   {
    "duration": 11,
    "start_time": "2023-02-16T08:24:33.009Z"
   },
   {
    "duration": 31,
    "start_time": "2023-02-16T08:24:33.022Z"
   },
   {
    "duration": 13,
    "start_time": "2023-02-16T08:24:33.056Z"
   },
   {
    "duration": 9,
    "start_time": "2023-02-16T08:24:33.070Z"
   },
   {
    "duration": 303,
    "start_time": "2023-02-16T08:24:33.080Z"
   },
   {
    "duration": 17,
    "start_time": "2023-02-16T08:24:33.384Z"
   },
   {
    "duration": 24,
    "start_time": "2023-02-16T08:24:33.402Z"
   },
   {
    "duration": 186,
    "start_time": "2023-02-16T08:24:33.428Z"
   },
   {
    "duration": 272,
    "start_time": "2023-02-16T08:24:33.616Z"
   },
   {
    "duration": 283,
    "start_time": "2023-02-16T08:24:33.890Z"
   },
   {
    "duration": 287,
    "start_time": "2023-02-16T08:24:34.175Z"
   },
   {
    "duration": 342,
    "start_time": "2023-02-16T08:24:34.464Z"
   },
   {
    "duration": 265,
    "start_time": "2023-02-16T08:24:34.807Z"
   },
   {
    "duration": 286,
    "start_time": "2023-02-16T08:24:35.074Z"
   },
   {
    "duration": 264,
    "start_time": "2023-02-16T08:24:35.361Z"
   },
   {
    "duration": 253,
    "start_time": "2023-02-16T08:24:35.627Z"
   },
   {
    "duration": 393,
    "start_time": "2023-02-16T08:24:35.882Z"
   },
   {
    "duration": 1195,
    "start_time": "2023-02-16T08:24:36.277Z"
   },
   {
    "duration": 731,
    "start_time": "2023-02-16T08:24:37.474Z"
   },
   {
    "duration": 254,
    "start_time": "2023-02-16T08:24:38.206Z"
   },
   {
    "duration": 253,
    "start_time": "2023-02-16T08:24:38.462Z"
   },
   {
    "duration": 226,
    "start_time": "2023-02-16T08:24:38.717Z"
   },
   {
    "duration": 482,
    "start_time": "2023-02-16T08:24:38.948Z"
   },
   {
    "duration": 4,
    "start_time": "2023-02-16T08:24:39.431Z"
   },
   {
    "duration": 1213,
    "start_time": "2023-02-16T08:24:39.437Z"
   },
   {
    "duration": 23,
    "start_time": "2023-02-16T08:24:40.652Z"
   },
   {
    "duration": 8,
    "start_time": "2023-02-16T08:24:40.676Z"
   },
   {
    "duration": 9,
    "start_time": "2023-02-16T08:24:40.685Z"
   },
   {
    "duration": 169,
    "start_time": "2023-02-16T08:24:40.695Z"
   },
   {
    "duration": 113,
    "start_time": "2023-02-16T08:24:40.866Z"
   },
   {
    "duration": 8,
    "start_time": "2023-02-16T08:26:28.241Z"
   },
   {
    "duration": 8,
    "start_time": "2023-02-16T08:26:47.205Z"
   },
   {
    "duration": 8,
    "start_time": "2023-02-16T08:26:58.226Z"
   },
   {
    "duration": 5,
    "start_time": "2023-02-16T08:27:06.379Z"
   },
   {
    "duration": 26,
    "start_time": "2023-02-16T08:27:18.099Z"
   },
   {
    "duration": 12,
    "start_time": "2023-02-16T08:27:50.593Z"
   },
   {
    "duration": 26,
    "start_time": "2023-02-16T08:27:55.710Z"
   },
   {
    "duration": 1449,
    "start_time": "2023-02-16T08:28:10.781Z"
   },
   {
    "duration": 26,
    "start_time": "2023-02-16T08:28:20.433Z"
   },
   {
    "duration": 2395,
    "start_time": "2023-02-16T08:28:33.140Z"
   },
   {
    "duration": 25,
    "start_time": "2023-02-16T08:28:48.775Z"
   },
   {
    "duration": 25,
    "start_time": "2023-02-16T08:29:23.643Z"
   },
   {
    "duration": 7,
    "start_time": "2023-02-16T08:29:44.341Z"
   },
   {
    "duration": 6,
    "start_time": "2023-02-16T08:30:01.182Z"
   },
   {
    "duration": 8,
    "start_time": "2023-02-16T08:36:48.341Z"
   },
   {
    "duration": 10,
    "start_time": "2023-02-16T08:37:15.630Z"
   },
   {
    "duration": 768,
    "start_time": "2023-02-16T08:37:28.324Z"
   },
   {
    "duration": 10,
    "start_time": "2023-02-16T08:39:15.798Z"
   },
   {
    "duration": 15,
    "start_time": "2023-02-16T08:40:05.249Z"
   },
   {
    "duration": 156,
    "start_time": "2023-02-16T08:40:26.543Z"
   },
   {
    "duration": 132,
    "start_time": "2023-02-16T08:40:44.672Z"
   },
   {
    "duration": 8,
    "start_time": "2023-02-16T08:41:59.390Z"
   },
   {
    "duration": 8,
    "start_time": "2023-02-16T08:42:15.124Z"
   },
   {
    "duration": 8,
    "start_time": "2023-02-16T08:42:37.634Z"
   },
   {
    "duration": 129,
    "start_time": "2023-02-16T08:42:48.704Z"
   },
   {
    "duration": 4,
    "start_time": "2023-02-16T08:43:10.099Z"
   },
   {
    "duration": 136,
    "start_time": "2023-02-16T08:43:32.103Z"
   },
   {
    "duration": 4,
    "start_time": "2023-02-16T08:45:00.388Z"
   },
   {
    "duration": 6,
    "start_time": "2023-02-16T08:54:29.120Z"
   },
   {
    "duration": 5,
    "start_time": "2023-02-16T08:55:20.764Z"
   },
   {
    "duration": 81,
    "start_time": "2023-02-16T09:08:40.723Z"
   },
   {
    "duration": 8,
    "start_time": "2023-02-16T09:09:02.645Z"
   },
   {
    "duration": 87,
    "start_time": "2023-02-16T09:09:42.044Z"
   },
   {
    "duration": 107,
    "start_time": "2023-02-16T09:09:51.397Z"
   },
   {
    "duration": 464,
    "start_time": "2023-02-16T09:10:22.525Z"
   },
   {
    "duration": 37,
    "start_time": "2023-02-16T09:10:43.901Z"
   },
   {
    "duration": 6,
    "start_time": "2023-02-16T09:10:58.588Z"
   },
   {
    "duration": 35,
    "start_time": "2023-02-16T09:11:12.082Z"
   },
   {
    "duration": 6,
    "start_time": "2023-02-16T09:12:12.842Z"
   },
   {
    "duration": 107,
    "start_time": "2023-02-16T09:12:31.735Z"
   },
   {
    "duration": 107,
    "start_time": "2023-02-16T09:12:37.765Z"
   },
   {
    "duration": 100,
    "start_time": "2023-02-16T09:12:50.533Z"
   },
   {
    "duration": 219,
    "start_time": "2023-02-16T09:13:25.782Z"
   },
   {
    "duration": 251,
    "start_time": "2023-02-16T09:13:32.587Z"
   },
   {
    "duration": 247,
    "start_time": "2023-02-16T09:13:41.529Z"
   },
   {
    "duration": 291,
    "start_time": "2023-02-16T09:13:46.475Z"
   },
   {
    "duration": 1149,
    "start_time": "2023-02-16T09:13:57.364Z"
   },
   {
    "duration": 724,
    "start_time": "2023-02-16T09:14:03.561Z"
   },
   {
    "duration": 242,
    "start_time": "2023-02-16T09:14:22.792Z"
   },
   {
    "duration": 3,
    "start_time": "2023-02-16T10:17:34.460Z"
   },
   {
    "duration": 98,
    "start_time": "2023-02-16T10:17:34.465Z"
   },
   {
    "duration": 25,
    "start_time": "2023-02-16T10:17:34.565Z"
   },
   {
    "duration": 15,
    "start_time": "2023-02-16T10:17:34.592Z"
   },
   {
    "duration": 43,
    "start_time": "2023-02-16T10:17:34.609Z"
   },
   {
    "duration": 4,
    "start_time": "2023-02-16T10:17:34.654Z"
   },
   {
    "duration": 4101,
    "start_time": "2023-02-16T10:17:34.659Z"
   },
   {
    "duration": 10,
    "start_time": "2023-02-16T10:17:38.762Z"
   },
   {
    "duration": 22,
    "start_time": "2023-02-16T10:17:38.774Z"
   },
   {
    "duration": 6,
    "start_time": "2023-02-16T10:17:38.798Z"
   },
   {
    "duration": 13,
    "start_time": "2023-02-16T10:17:38.807Z"
   },
   {
    "duration": 7,
    "start_time": "2023-02-16T10:17:38.821Z"
   },
   {
    "duration": 22,
    "start_time": "2023-02-16T10:17:38.830Z"
   },
   {
    "duration": 4,
    "start_time": "2023-02-16T10:17:38.853Z"
   },
   {
    "duration": 13,
    "start_time": "2023-02-16T10:17:38.858Z"
   },
   {
    "duration": 7,
    "start_time": "2023-02-16T10:17:38.873Z"
   },
   {
    "duration": 7,
    "start_time": "2023-02-16T10:17:38.881Z"
   },
   {
    "duration": 14,
    "start_time": "2023-02-16T10:17:38.889Z"
   },
   {
    "duration": 6,
    "start_time": "2023-02-16T10:17:38.904Z"
   },
   {
    "duration": 10,
    "start_time": "2023-02-16T10:17:38.912Z"
   },
   {
    "duration": 25,
    "start_time": "2023-02-16T10:17:38.924Z"
   },
   {
    "duration": 7,
    "start_time": "2023-02-16T10:17:38.951Z"
   },
   {
    "duration": 12,
    "start_time": "2023-02-16T10:17:38.960Z"
   },
   {
    "duration": 8,
    "start_time": "2023-02-16T10:17:38.974Z"
   },
   {
    "duration": 5,
    "start_time": "2023-02-16T10:17:38.983Z"
   },
   {
    "duration": 10,
    "start_time": "2023-02-16T10:17:38.989Z"
   },
   {
    "duration": 5,
    "start_time": "2023-02-16T10:17:39.001Z"
   },
   {
    "duration": 6,
    "start_time": "2023-02-16T10:17:39.008Z"
   },
   {
    "duration": 6,
    "start_time": "2023-02-16T10:17:39.048Z"
   },
   {
    "duration": 7,
    "start_time": "2023-02-16T10:17:39.056Z"
   },
   {
    "duration": 6,
    "start_time": "2023-02-16T10:17:39.065Z"
   },
   {
    "duration": 100,
    "start_time": "2023-02-16T10:17:39.073Z"
   },
   {
    "duration": 7,
    "start_time": "2023-02-16T10:17:39.175Z"
   },
   {
    "duration": 10,
    "start_time": "2023-02-16T10:17:39.183Z"
   },
   {
    "duration": 6,
    "start_time": "2023-02-16T10:17:39.194Z"
   },
   {
    "duration": 14,
    "start_time": "2023-02-16T10:17:39.202Z"
   },
   {
    "duration": 35,
    "start_time": "2023-02-16T10:17:39.217Z"
   },
   {
    "duration": 22,
    "start_time": "2023-02-16T10:17:39.253Z"
   },
   {
    "duration": 4,
    "start_time": "2023-02-16T10:17:39.277Z"
   },
   {
    "duration": 7,
    "start_time": "2023-02-16T10:17:39.283Z"
   },
   {
    "duration": 9,
    "start_time": "2023-02-16T10:17:39.291Z"
   },
   {
    "duration": 9,
    "start_time": "2023-02-16T10:17:39.302Z"
   },
   {
    "duration": 6,
    "start_time": "2023-02-16T10:17:39.313Z"
   },
   {
    "duration": 9,
    "start_time": "2023-02-16T10:17:39.349Z"
   },
   {
    "duration": 39,
    "start_time": "2023-02-16T10:17:39.359Z"
   },
   {
    "duration": 55,
    "start_time": "2023-02-16T10:17:39.400Z"
   },
   {
    "duration": 6,
    "start_time": "2023-02-16T10:17:39.456Z"
   },
   {
    "duration": 16,
    "start_time": "2023-02-16T10:17:39.464Z"
   },
   {
    "duration": 17,
    "start_time": "2023-02-16T10:17:39.482Z"
   },
   {
    "duration": 14,
    "start_time": "2023-02-16T10:17:39.501Z"
   },
   {
    "duration": 55,
    "start_time": "2023-02-16T10:17:39.517Z"
   },
   {
    "duration": 4,
    "start_time": "2023-02-16T10:17:39.573Z"
   },
   {
    "duration": 9,
    "start_time": "2023-02-16T10:17:39.578Z"
   },
   {
    "duration": 8,
    "start_time": "2023-02-16T10:17:39.588Z"
   },
   {
    "duration": 7,
    "start_time": "2023-02-16T10:17:39.597Z"
   },
   {
    "duration": 4,
    "start_time": "2023-02-16T10:17:39.605Z"
   },
   {
    "duration": 297,
    "start_time": "2023-02-16T10:17:39.610Z"
   },
   {
    "duration": 15,
    "start_time": "2023-02-16T10:17:39.909Z"
   },
   {
    "duration": 28,
    "start_time": "2023-02-16T10:17:39.926Z"
   },
   {
    "duration": 3,
    "start_time": "2023-02-16T10:17:39.956Z"
   },
   {
    "duration": 236,
    "start_time": "2023-02-16T10:17:39.961Z"
   },
   {
    "duration": 263,
    "start_time": "2023-02-16T10:17:40.199Z"
   },
   {
    "duration": 242,
    "start_time": "2023-02-16T10:17:40.464Z"
   },
   {
    "duration": 267,
    "start_time": "2023-02-16T10:17:40.708Z"
   },
   {
    "duration": 243,
    "start_time": "2023-02-16T10:17:40.977Z"
   },
   {
    "duration": 289,
    "start_time": "2023-02-16T10:17:41.222Z"
   },
   {
    "duration": 254,
    "start_time": "2023-02-16T10:17:41.512Z"
   },
   {
    "duration": 235,
    "start_time": "2023-02-16T10:17:41.768Z"
   },
   {
    "duration": 357,
    "start_time": "2023-02-16T10:17:42.005Z"
   },
   {
    "duration": 1238,
    "start_time": "2023-02-16T10:17:42.364Z"
   },
   {
    "duration": 715,
    "start_time": "2023-02-16T10:17:43.604Z"
   },
   {
    "duration": 250,
    "start_time": "2023-02-16T10:17:44.320Z"
   },
   {
    "duration": 245,
    "start_time": "2023-02-16T10:17:44.572Z"
   },
   {
    "duration": 236,
    "start_time": "2023-02-16T10:17:44.818Z"
   },
   {
    "duration": 484,
    "start_time": "2023-02-16T10:17:45.056Z"
   },
   {
    "duration": 11,
    "start_time": "2023-02-16T10:17:45.541Z"
   },
   {
    "duration": 107,
    "start_time": "2023-02-16T10:17:45.554Z"
   },
   {
    "duration": 245,
    "start_time": "2023-02-16T10:17:45.663Z"
   },
   {
    "duration": 1266,
    "start_time": "2023-02-16T10:17:45.910Z"
   },
   {
    "duration": 24,
    "start_time": "2023-02-16T10:17:47.178Z"
   },
   {
    "duration": 8,
    "start_time": "2023-02-16T10:17:47.204Z"
   },
   {
    "duration": 8,
    "start_time": "2023-02-16T10:17:47.214Z"
   },
   {
    "duration": 151,
    "start_time": "2023-02-16T10:17:47.252Z"
   },
   {
    "duration": 102,
    "start_time": "2023-02-16T10:17:47.405Z"
   },
   {
    "duration": 3,
    "start_time": "2023-02-16T10:19:24.166Z"
   },
   {
    "duration": 94,
    "start_time": "2023-02-16T10:19:24.171Z"
   },
   {
    "duration": 22,
    "start_time": "2023-02-16T10:19:24.268Z"
   },
   {
    "duration": 16,
    "start_time": "2023-02-16T10:19:24.292Z"
   },
   {
    "duration": 22,
    "start_time": "2023-02-16T10:19:24.309Z"
   },
   {
    "duration": 4,
    "start_time": "2023-02-16T10:19:24.464Z"
   },
   {
    "duration": 4238,
    "start_time": "2023-02-16T10:19:24.470Z"
   },
   {
    "duration": 11,
    "start_time": "2023-02-16T10:19:28.711Z"
   },
   {
    "duration": 29,
    "start_time": "2023-02-16T10:19:28.723Z"
   },
   {
    "duration": 7,
    "start_time": "2023-02-16T10:19:28.754Z"
   },
   {
    "duration": 6,
    "start_time": "2023-02-16T10:19:28.763Z"
   },
   {
    "duration": 7,
    "start_time": "2023-02-16T10:19:28.771Z"
   },
   {
    "duration": 17,
    "start_time": "2023-02-16T10:19:28.780Z"
   },
   {
    "duration": 6,
    "start_time": "2023-02-16T10:19:28.798Z"
   },
   {
    "duration": 6,
    "start_time": "2023-02-16T10:19:28.805Z"
   },
   {
    "duration": 36,
    "start_time": "2023-02-16T10:19:28.813Z"
   },
   {
    "duration": 5,
    "start_time": "2023-02-16T10:19:28.851Z"
   },
   {
    "duration": 5,
    "start_time": "2023-02-16T10:19:28.857Z"
   },
   {
    "duration": 5,
    "start_time": "2023-02-16T10:19:28.865Z"
   },
   {
    "duration": 6,
    "start_time": "2023-02-16T10:19:28.871Z"
   },
   {
    "duration": 4,
    "start_time": "2023-02-16T10:19:28.879Z"
   },
   {
    "duration": 6,
    "start_time": "2023-02-16T10:19:28.885Z"
   },
   {
    "duration": 7,
    "start_time": "2023-02-16T10:19:28.893Z"
   },
   {
    "duration": 50,
    "start_time": "2023-02-16T10:19:28.901Z"
   },
   {
    "duration": 5,
    "start_time": "2023-02-16T10:19:28.952Z"
   },
   {
    "duration": 13,
    "start_time": "2023-02-16T10:19:28.959Z"
   },
   {
    "duration": 6,
    "start_time": "2023-02-16T10:19:28.974Z"
   },
   {
    "duration": 10,
    "start_time": "2023-02-16T10:19:28.982Z"
   },
   {
    "duration": 6,
    "start_time": "2023-02-16T10:19:28.994Z"
   },
   {
    "duration": 7,
    "start_time": "2023-02-16T10:19:29.002Z"
   },
   {
    "duration": 37,
    "start_time": "2023-02-16T10:19:29.011Z"
   },
   {
    "duration": 77,
    "start_time": "2023-02-16T10:19:29.050Z"
   },
   {
    "duration": 8,
    "start_time": "2023-02-16T10:19:29.148Z"
   },
   {
    "duration": 12,
    "start_time": "2023-02-16T10:19:29.158Z"
   },
   {
    "duration": 6,
    "start_time": "2023-02-16T10:19:29.171Z"
   },
   {
    "duration": 12,
    "start_time": "2023-02-16T10:19:29.178Z"
   },
   {
    "duration": 25,
    "start_time": "2023-02-16T10:19:29.191Z"
   },
   {
    "duration": 10,
    "start_time": "2023-02-16T10:19:29.218Z"
   },
   {
    "duration": 4,
    "start_time": "2023-02-16T10:19:29.230Z"
   },
   {
    "duration": 17,
    "start_time": "2023-02-16T10:19:29.235Z"
   },
   {
    "duration": 8,
    "start_time": "2023-02-16T10:19:29.253Z"
   },
   {
    "duration": 9,
    "start_time": "2023-02-16T10:19:29.262Z"
   },
   {
    "duration": 6,
    "start_time": "2023-02-16T10:19:29.272Z"
   },
   {
    "duration": 9,
    "start_time": "2023-02-16T10:19:29.280Z"
   },
   {
    "duration": 68,
    "start_time": "2023-02-16T10:19:29.291Z"
   },
   {
    "duration": 44,
    "start_time": "2023-02-16T10:19:29.363Z"
   },
   {
    "duration": 8,
    "start_time": "2023-02-16T10:19:29.409Z"
   },
   {
    "duration": 29,
    "start_time": "2023-02-16T10:19:29.420Z"
   },
   {
    "duration": 18,
    "start_time": "2023-02-16T10:19:29.451Z"
   },
   {
    "duration": 16,
    "start_time": "2023-02-16T10:19:29.471Z"
   },
   {
    "duration": 62,
    "start_time": "2023-02-16T10:19:29.488Z"
   },
   {
    "duration": 4,
    "start_time": "2023-02-16T10:19:29.551Z"
   },
   {
    "duration": 9,
    "start_time": "2023-02-16T10:19:29.557Z"
   },
   {
    "duration": 6,
    "start_time": "2023-02-16T10:19:29.568Z"
   },
   {
    "duration": 8,
    "start_time": "2023-02-16T10:19:29.576Z"
   },
   {
    "duration": 4,
    "start_time": "2023-02-16T10:19:29.585Z"
   },
   {
    "duration": 290,
    "start_time": "2023-02-16T10:19:29.591Z"
   },
   {
    "duration": 16,
    "start_time": "2023-02-16T10:19:29.883Z"
   },
   {
    "duration": 20,
    "start_time": "2023-02-16T10:19:29.900Z"
   },
   {
    "duration": 7,
    "start_time": "2023-02-16T10:19:29.922Z"
   },
   {
    "duration": 233,
    "start_time": "2023-02-16T10:19:29.949Z"
   },
   {
    "duration": 266,
    "start_time": "2023-02-16T10:19:30.184Z"
   },
   {
    "duration": 254,
    "start_time": "2023-02-16T10:19:30.452Z"
   },
   {
    "duration": 269,
    "start_time": "2023-02-16T10:19:30.709Z"
   },
   {
    "duration": 274,
    "start_time": "2023-02-16T10:19:30.980Z"
   },
   {
    "duration": 254,
    "start_time": "2023-02-16T10:19:31.256Z"
   },
   {
    "duration": 249,
    "start_time": "2023-02-16T10:19:31.512Z"
   },
   {
    "duration": 796,
    "start_time": "2023-02-16T10:19:31.763Z"
   },
   {
    "duration": 366,
    "start_time": "2023-02-16T10:19:32.561Z"
   },
   {
    "duration": 727,
    "start_time": "2023-02-16T10:19:32.928Z"
   },
   {
    "duration": 716,
    "start_time": "2023-02-16T10:19:33.657Z"
   },
   {
    "duration": 249,
    "start_time": "2023-02-16T10:19:34.374Z"
   },
   {
    "duration": 262,
    "start_time": "2023-02-16T10:19:34.624Z"
   },
   {
    "duration": 250,
    "start_time": "2023-02-16T10:19:34.887Z"
   },
   {
    "duration": 521,
    "start_time": "2023-02-16T10:19:35.139Z"
   },
   {
    "duration": 6,
    "start_time": "2023-02-16T10:19:35.662Z"
   },
   {
    "duration": 8,
    "start_time": "2023-02-16T10:19:35.669Z"
   },
   {
    "duration": 252,
    "start_time": "2023-02-16T10:19:35.678Z"
   },
   {
    "duration": 1231,
    "start_time": "2023-02-16T10:19:35.932Z"
   },
   {
    "duration": 29,
    "start_time": "2023-02-16T10:19:37.166Z"
   },
   {
    "duration": 17,
    "start_time": "2023-02-16T10:19:37.197Z"
   },
   {
    "duration": 22,
    "start_time": "2023-02-16T10:19:37.216Z"
   },
   {
    "duration": 152,
    "start_time": "2023-02-16T10:19:37.240Z"
   },
   {
    "duration": 109,
    "start_time": "2023-02-16T10:19:37.394Z"
   },
   {
    "duration": 5,
    "start_time": "2023-02-16T10:20:36.047Z"
   },
   {
    "duration": 6,
    "start_time": "2023-02-16T10:20:39.280Z"
   },
   {
    "duration": 6,
    "start_time": "2023-02-16T10:20:51.500Z"
   },
   {
    "duration": 5,
    "start_time": "2023-02-16T10:20:58.188Z"
   },
   {
    "duration": 7,
    "start_time": "2023-02-16T10:22:01.920Z"
   },
   {
    "duration": 4,
    "start_time": "2023-02-16T10:22:04.527Z"
   },
   {
    "duration": 13,
    "start_time": "2023-02-16T10:22:49.066Z"
   },
   {
    "duration": 16,
    "start_time": "2023-02-16T10:23:18.268Z"
   },
   {
    "duration": 9,
    "start_time": "2023-02-16T10:23:34.453Z"
   },
   {
    "duration": 11,
    "start_time": "2023-02-16T10:23:50.134Z"
   },
   {
    "duration": 10,
    "start_time": "2023-02-16T10:24:07.553Z"
   },
   {
    "duration": 10,
    "start_time": "2023-02-16T10:24:27.151Z"
   },
   {
    "duration": 10,
    "start_time": "2023-02-16T10:24:42.578Z"
   },
   {
    "duration": 9,
    "start_time": "2023-02-16T10:24:46.138Z"
   },
   {
    "duration": 3,
    "start_time": "2023-02-16T10:26:14.969Z"
   },
   {
    "duration": 101,
    "start_time": "2023-02-16T10:26:14.975Z"
   },
   {
    "duration": 24,
    "start_time": "2023-02-16T10:26:15.078Z"
   },
   {
    "duration": 61,
    "start_time": "2023-02-16T10:26:15.103Z"
   },
   {
    "duration": 25,
    "start_time": "2023-02-16T10:26:15.166Z"
   },
   {
    "duration": 4,
    "start_time": "2023-02-16T10:26:15.193Z"
   },
   {
    "duration": 4343,
    "start_time": "2023-02-16T10:26:15.198Z"
   },
   {
    "duration": 9,
    "start_time": "2023-02-16T10:26:19.548Z"
   },
   {
    "duration": 11,
    "start_time": "2023-02-16T10:26:19.558Z"
   },
   {
    "duration": 6,
    "start_time": "2023-02-16T10:26:19.571Z"
   },
   {
    "duration": 4,
    "start_time": "2023-02-16T10:26:19.580Z"
   },
   {
    "duration": 11,
    "start_time": "2023-02-16T10:26:19.586Z"
   },
   {
    "duration": 18,
    "start_time": "2023-02-16T10:26:19.599Z"
   },
   {
    "duration": 6,
    "start_time": "2023-02-16T10:26:19.619Z"
   },
   {
    "duration": 22,
    "start_time": "2023-02-16T10:26:19.626Z"
   },
   {
    "duration": 10,
    "start_time": "2023-02-16T10:26:19.650Z"
   },
   {
    "duration": 5,
    "start_time": "2023-02-16T10:26:19.662Z"
   },
   {
    "duration": 9,
    "start_time": "2023-02-16T10:26:19.668Z"
   },
   {
    "duration": 6,
    "start_time": "2023-02-16T10:26:19.678Z"
   },
   {
    "duration": 6,
    "start_time": "2023-02-16T10:26:19.686Z"
   },
   {
    "duration": 9,
    "start_time": "2023-02-16T10:26:19.693Z"
   },
   {
    "duration": 8,
    "start_time": "2023-02-16T10:26:19.704Z"
   },
   {
    "duration": 37,
    "start_time": "2023-02-16T10:26:19.714Z"
   },
   {
    "duration": 8,
    "start_time": "2023-02-16T10:26:19.753Z"
   },
   {
    "duration": 4,
    "start_time": "2023-02-16T10:26:19.763Z"
   },
   {
    "duration": 11,
    "start_time": "2023-02-16T10:26:19.769Z"
   },
   {
    "duration": 8,
    "start_time": "2023-02-16T10:26:19.782Z"
   },
   {
    "duration": 8,
    "start_time": "2023-02-16T10:26:19.792Z"
   },
   {
    "duration": 7,
    "start_time": "2023-02-16T10:26:19.804Z"
   },
   {
    "duration": 37,
    "start_time": "2023-02-16T10:26:19.812Z"
   },
   {
    "duration": 4,
    "start_time": "2023-02-16T10:26:19.851Z"
   },
   {
    "duration": 92,
    "start_time": "2023-02-16T10:26:19.857Z"
   },
   {
    "duration": 8,
    "start_time": "2023-02-16T10:26:19.951Z"
   },
   {
    "duration": 9,
    "start_time": "2023-02-16T10:26:19.960Z"
   },
   {
    "duration": 6,
    "start_time": "2023-02-16T10:26:19.971Z"
   },
   {
    "duration": 10,
    "start_time": "2023-02-16T10:26:19.979Z"
   },
   {
    "duration": 7,
    "start_time": "2023-02-16T10:26:19.991Z"
   },
   {
    "duration": 17,
    "start_time": "2023-02-16T10:26:19.999Z"
   },
   {
    "duration": 5,
    "start_time": "2023-02-16T10:26:20.048Z"
   },
   {
    "duration": 9,
    "start_time": "2023-02-16T10:26:20.055Z"
   },
   {
    "duration": 10,
    "start_time": "2023-02-16T10:26:20.065Z"
   },
   {
    "duration": 9,
    "start_time": "2023-02-16T10:26:20.077Z"
   },
   {
    "duration": 6,
    "start_time": "2023-02-16T10:26:20.088Z"
   },
   {
    "duration": 9,
    "start_time": "2023-02-16T10:26:20.095Z"
   },
   {
    "duration": 69,
    "start_time": "2023-02-16T10:26:20.105Z"
   },
   {
    "duration": 35,
    "start_time": "2023-02-16T10:26:20.176Z"
   },
   {
    "duration": 7,
    "start_time": "2023-02-16T10:26:20.213Z"
   },
   {
    "duration": 43,
    "start_time": "2023-02-16T10:26:20.221Z"
   },
   {
    "duration": 18,
    "start_time": "2023-02-16T10:26:20.266Z"
   },
   {
    "duration": 14,
    "start_time": "2023-02-16T10:26:20.285Z"
   },
   {
    "duration": 31,
    "start_time": "2023-02-16T10:26:20.300Z"
   },
   {
    "duration": 4,
    "start_time": "2023-02-16T10:26:20.348Z"
   },
   {
    "duration": 11,
    "start_time": "2023-02-16T10:26:20.354Z"
   },
   {
    "duration": 6,
    "start_time": "2023-02-16T10:26:20.366Z"
   },
   {
    "duration": 5,
    "start_time": "2023-02-16T10:26:20.373Z"
   },
   {
    "duration": 3,
    "start_time": "2023-02-16T10:26:20.380Z"
   },
   {
    "duration": 307,
    "start_time": "2023-02-16T10:26:20.385Z"
   },
   {
    "duration": 16,
    "start_time": "2023-02-16T10:26:20.694Z"
   },
   {
    "duration": 21,
    "start_time": "2023-02-16T10:26:20.712Z"
   },
   {
    "duration": 3,
    "start_time": "2023-02-16T10:26:20.749Z"
   },
   {
    "duration": 238,
    "start_time": "2023-02-16T10:26:20.754Z"
   },
   {
    "duration": 265,
    "start_time": "2023-02-16T10:26:20.993Z"
   },
   {
    "duration": 255,
    "start_time": "2023-02-16T10:26:21.260Z"
   },
   {
    "duration": 261,
    "start_time": "2023-02-16T10:26:21.517Z"
   },
   {
    "duration": 263,
    "start_time": "2023-02-16T10:26:21.781Z"
   },
   {
    "duration": 250,
    "start_time": "2023-02-16T10:26:22.048Z"
   },
   {
    "duration": 238,
    "start_time": "2023-02-16T10:26:22.300Z"
   },
   {
    "duration": 231,
    "start_time": "2023-02-16T10:26:22.540Z"
   },
   {
    "duration": 354,
    "start_time": "2023-02-16T10:26:22.772Z"
   },
   {
    "duration": 1385,
    "start_time": "2023-02-16T10:26:23.128Z"
   },
   {
    "duration": 709,
    "start_time": "2023-02-16T10:26:24.514Z"
   },
   {
    "duration": 251,
    "start_time": "2023-02-16T10:26:25.225Z"
   },
   {
    "duration": 254,
    "start_time": "2023-02-16T10:26:25.477Z"
   },
   {
    "duration": 226,
    "start_time": "2023-02-16T10:26:25.733Z"
   },
   {
    "duration": 471,
    "start_time": "2023-02-16T10:26:25.960Z"
   },
   {
    "duration": 15,
    "start_time": "2023-02-16T10:26:26.433Z"
   },
   {
    "duration": 5,
    "start_time": "2023-02-16T10:26:26.450Z"
   },
   {
    "duration": 1297,
    "start_time": "2023-02-16T10:26:26.457Z"
   },
   {
    "duration": 24,
    "start_time": "2023-02-16T10:26:27.756Z"
   },
   {
    "duration": 10,
    "start_time": "2023-02-16T10:26:27.781Z"
   },
   {
    "duration": 13,
    "start_time": "2023-02-16T10:26:27.792Z"
   },
   {
    "duration": 171,
    "start_time": "2023-02-16T10:26:27.807Z"
   },
   {
    "duration": 105,
    "start_time": "2023-02-16T10:26:27.983Z"
   },
   {
    "duration": 4,
    "start_time": "2023-02-16T10:30:00.494Z"
   },
   {
    "duration": 5,
    "start_time": "2023-02-16T10:30:06.185Z"
   },
   {
    "duration": 33,
    "start_time": "2023-02-16T10:30:29.758Z"
   },
   {
    "duration": 37,
    "start_time": "2023-02-16T10:31:16.840Z"
   },
   {
    "duration": 481,
    "start_time": "2023-02-16T10:32:28.796Z"
   },
   {
    "duration": 17,
    "start_time": "2023-02-16T10:34:32.247Z"
   },
   {
    "duration": 21,
    "start_time": "2023-02-16T10:34:37.234Z"
   },
   {
    "duration": 18,
    "start_time": "2023-02-16T10:34:40.934Z"
   },
   {
    "duration": 18,
    "start_time": "2023-02-16T10:34:43.542Z"
   },
   {
    "duration": 22,
    "start_time": "2023-02-16T10:34:46.400Z"
   },
   {
    "duration": 37,
    "start_time": "2023-02-16T10:35:50.380Z"
   },
   {
    "duration": 35,
    "start_time": "2023-02-16T10:36:18.021Z"
   },
   {
    "duration": 13,
    "start_time": "2023-02-16T10:36:43.726Z"
   },
   {
    "duration": 3,
    "start_time": "2023-02-16T10:39:56.544Z"
   },
   {
    "duration": 102,
    "start_time": "2023-02-16T10:39:57.987Z"
   },
   {
    "duration": 25,
    "start_time": "2023-02-16T10:39:59.339Z"
   },
   {
    "duration": 3,
    "start_time": "2023-02-16T10:40:01.155Z"
   },
   {
    "duration": 119,
    "start_time": "2023-02-16T10:40:01.160Z"
   },
   {
    "duration": 27,
    "start_time": "2023-02-16T10:40:01.281Z"
   },
   {
    "duration": 44,
    "start_time": "2023-02-16T10:40:01.310Z"
   },
   {
    "duration": 35,
    "start_time": "2023-02-16T10:40:01.357Z"
   },
   {
    "duration": 8,
    "start_time": "2023-02-16T10:40:01.394Z"
   },
   {
    "duration": 4408,
    "start_time": "2023-02-16T10:40:01.403Z"
   },
   {
    "duration": 9,
    "start_time": "2023-02-16T10:40:05.813Z"
   },
   {
    "duration": 8,
    "start_time": "2023-02-16T10:40:05.823Z"
   },
   {
    "duration": 8,
    "start_time": "2023-02-16T10:40:05.848Z"
   },
   {
    "duration": 6,
    "start_time": "2023-02-16T10:40:05.858Z"
   },
   {
    "duration": 8,
    "start_time": "2023-02-16T10:40:05.866Z"
   },
   {
    "duration": 10,
    "start_time": "2023-02-16T10:40:05.877Z"
   },
   {
    "duration": 5,
    "start_time": "2023-02-16T10:40:05.888Z"
   },
   {
    "duration": 7,
    "start_time": "2023-02-16T10:40:05.894Z"
   },
   {
    "duration": 48,
    "start_time": "2023-02-16T10:40:05.902Z"
   },
   {
    "duration": 5,
    "start_time": "2023-02-16T10:40:05.952Z"
   },
   {
    "duration": 9,
    "start_time": "2023-02-16T10:40:05.958Z"
   },
   {
    "duration": 6,
    "start_time": "2023-02-16T10:40:05.968Z"
   },
   {
    "duration": 6,
    "start_time": "2023-02-16T10:40:05.976Z"
   },
   {
    "duration": 5,
    "start_time": "2023-02-16T10:40:05.984Z"
   },
   {
    "duration": 11,
    "start_time": "2023-02-16T10:40:05.990Z"
   },
   {
    "duration": 8,
    "start_time": "2023-02-16T10:40:06.003Z"
   },
   {
    "duration": 42,
    "start_time": "2023-02-16T10:40:06.012Z"
   },
   {
    "duration": 5,
    "start_time": "2023-02-16T10:40:06.055Z"
   },
   {
    "duration": 16,
    "start_time": "2023-02-16T10:40:06.061Z"
   },
   {
    "duration": 5,
    "start_time": "2023-02-16T10:40:06.078Z"
   },
   {
    "duration": 6,
    "start_time": "2023-02-16T10:40:06.085Z"
   },
   {
    "duration": 7,
    "start_time": "2023-02-16T10:40:06.093Z"
   },
   {
    "duration": 11,
    "start_time": "2023-02-16T10:40:06.102Z"
   },
   {
    "duration": 35,
    "start_time": "2023-02-16T10:40:06.114Z"
   },
   {
    "duration": 74,
    "start_time": "2023-02-16T10:40:06.150Z"
   },
   {
    "duration": 24,
    "start_time": "2023-02-16T10:40:06.226Z"
   },
   {
    "duration": 11,
    "start_time": "2023-02-16T10:40:06.252Z"
   },
   {
    "duration": 6,
    "start_time": "2023-02-16T10:40:06.264Z"
   },
   {
    "duration": 9,
    "start_time": "2023-02-16T10:40:06.271Z"
   },
   {
    "duration": 6,
    "start_time": "2023-02-16T10:40:06.284Z"
   },
   {
    "duration": 15,
    "start_time": "2023-02-16T10:40:06.291Z"
   },
   {
    "duration": 3,
    "start_time": "2023-02-16T10:40:06.308Z"
   },
   {
    "duration": 7,
    "start_time": "2023-02-16T10:40:06.313Z"
   },
   {
    "duration": 8,
    "start_time": "2023-02-16T10:40:06.348Z"
   },
   {
    "duration": 21,
    "start_time": "2023-02-16T10:40:06.357Z"
   },
   {
    "duration": 5,
    "start_time": "2023-02-16T10:40:06.379Z"
   },
   {
    "duration": 22,
    "start_time": "2023-02-16T10:40:06.386Z"
   },
   {
    "duration": 59,
    "start_time": "2023-02-16T10:40:06.411Z"
   },
   {
    "duration": 52,
    "start_time": "2023-02-16T10:40:06.472Z"
   },
   {
    "duration": 28,
    "start_time": "2023-02-16T10:40:06.525Z"
   },
   {
    "duration": 27,
    "start_time": "2023-02-16T10:40:06.555Z"
   },
   {
    "duration": 25,
    "start_time": "2023-02-16T10:40:06.584Z"
   },
   {
    "duration": 22,
    "start_time": "2023-02-16T10:40:06.611Z"
   },
   {
    "duration": 28,
    "start_time": "2023-02-16T10:40:06.648Z"
   },
   {
    "duration": 4,
    "start_time": "2023-02-16T10:40:06.678Z"
   },
   {
    "duration": 10,
    "start_time": "2023-02-16T10:40:06.683Z"
   },
   {
    "duration": 5,
    "start_time": "2023-02-16T10:40:06.695Z"
   },
   {
    "duration": 6,
    "start_time": "2023-02-16T10:40:06.702Z"
   },
   {
    "duration": 3,
    "start_time": "2023-02-16T10:40:06.709Z"
   },
   {
    "duration": 292,
    "start_time": "2023-02-16T10:40:06.714Z"
   },
   {
    "duration": 16,
    "start_time": "2023-02-16T10:40:07.008Z"
   },
   {
    "duration": 29,
    "start_time": "2023-02-16T10:40:07.025Z"
   },
   {
    "duration": 3,
    "start_time": "2023-02-16T10:40:07.056Z"
   },
   {
    "duration": 229,
    "start_time": "2023-02-16T10:40:07.060Z"
   },
   {
    "duration": 282,
    "start_time": "2023-02-16T10:40:07.290Z"
   },
   {
    "duration": 248,
    "start_time": "2023-02-16T10:40:07.573Z"
   },
   {
    "duration": 266,
    "start_time": "2023-02-16T10:40:07.823Z"
   },
   {
    "duration": 263,
    "start_time": "2023-02-16T10:40:08.090Z"
   },
   {
    "duration": 253,
    "start_time": "2023-02-16T10:40:08.355Z"
   },
   {
    "duration": 242,
    "start_time": "2023-02-16T10:40:08.610Z"
   },
   {
    "duration": 236,
    "start_time": "2023-02-16T10:40:08.854Z"
   },
   {
    "duration": 365,
    "start_time": "2023-02-16T10:40:09.091Z"
   },
   {
    "duration": 729,
    "start_time": "2023-02-16T10:40:09.457Z"
   },
   {
    "duration": 699,
    "start_time": "2023-02-16T10:40:10.188Z"
   },
   {
    "duration": 245,
    "start_time": "2023-02-16T10:40:10.888Z"
   },
   {
    "duration": 253,
    "start_time": "2023-02-16T10:40:11.135Z"
   },
   {
    "duration": 237,
    "start_time": "2023-02-16T10:40:11.390Z"
   },
   {
    "duration": 495,
    "start_time": "2023-02-16T10:40:11.629Z"
   },
   {
    "duration": 5,
    "start_time": "2023-02-16T10:40:12.126Z"
   },
   {
    "duration": 24,
    "start_time": "2023-02-16T10:40:12.133Z"
   },
   {
    "duration": 18,
    "start_time": "2023-02-16T10:40:12.159Z"
   },
   {
    "duration": 1328,
    "start_time": "2023-02-16T10:40:12.178Z"
   },
   {
    "duration": 1180,
    "start_time": "2023-02-16T10:40:13.507Z"
   },
   {
    "duration": 24,
    "start_time": "2023-02-16T10:40:14.689Z"
   },
   {
    "duration": 10,
    "start_time": "2023-02-16T10:40:14.715Z"
   },
   {
    "duration": 26,
    "start_time": "2023-02-16T10:40:14.726Z"
   },
   {
    "duration": 150,
    "start_time": "2023-02-16T10:40:14.754Z"
   },
   {
    "duration": 104,
    "start_time": "2023-02-16T10:40:14.906Z"
   },
   {
    "duration": 13,
    "start_time": "2023-02-16T10:40:27.538Z"
   },
   {
    "duration": 12,
    "start_time": "2023-02-16T10:40:40.575Z"
   },
   {
    "duration": 13,
    "start_time": "2023-02-16T10:40:57.773Z"
   },
   {
    "duration": 8,
    "start_time": "2023-02-16T10:45:57.796Z"
   },
   {
    "duration": 14,
    "start_time": "2023-02-16T10:46:04.117Z"
   },
   {
    "duration": 36,
    "start_time": "2023-02-16T10:46:10.335Z"
   },
   {
    "duration": 513,
    "start_time": "2023-02-16T10:46:18.226Z"
   },
   {
    "duration": 6,
    "start_time": "2023-02-16T10:47:27.826Z"
   },
   {
    "duration": 11,
    "start_time": "2023-02-16T10:47:43.571Z"
   },
   {
    "duration": 9,
    "start_time": "2023-02-16T10:47:58.555Z"
   },
   {
    "duration": 10,
    "start_time": "2023-02-16T10:47:59.939Z"
   },
   {
    "duration": 503,
    "start_time": "2023-02-16T10:48:01.185Z"
   },
   {
    "duration": 6,
    "start_time": "2023-02-16T10:48:11.860Z"
   },
   {
    "duration": 351,
    "start_time": "2023-02-16T10:51:49.965Z"
   },
   {
    "duration": 250,
    "start_time": "2023-02-16T10:51:55.446Z"
   },
   {
    "duration": 474,
    "start_time": "2023-02-16T10:52:19.638Z"
   },
   {
    "duration": 8,
    "start_time": "2023-02-16T10:54:12.254Z"
   },
   {
    "duration": 121,
    "start_time": "2023-02-16T10:54:57.272Z"
   },
   {
    "duration": 134,
    "start_time": "2023-02-16T10:55:07.462Z"
   },
   {
    "duration": 465,
    "start_time": "2023-02-16T10:57:40.588Z"
   },
   {
    "duration": 150,
    "start_time": "2023-02-16T10:57:46.258Z"
   },
   {
    "duration": 484,
    "start_time": "2023-02-16T10:57:54.739Z"
   },
   {
    "duration": 112,
    "start_time": "2023-02-16T11:02:58.836Z"
   },
   {
    "duration": 73,
    "start_time": "2023-02-16T11:03:28.053Z"
   },
   {
    "duration": 22,
    "start_time": "2023-02-16T11:03:33.833Z"
   },
   {
    "duration": 15,
    "start_time": "2023-02-16T11:03:52.341Z"
   },
   {
    "duration": 201,
    "start_time": "2023-02-16T11:04:15.550Z"
   },
   {
    "duration": 89,
    "start_time": "2023-02-16T11:04:33.222Z"
   },
   {
    "duration": 141,
    "start_time": "2023-02-16T11:04:38.639Z"
   },
   {
    "duration": 159,
    "start_time": "2023-02-16T11:17:00.125Z"
   },
   {
    "duration": 155,
    "start_time": "2023-02-16T11:23:15.176Z"
   },
   {
    "duration": 142,
    "start_time": "2023-02-16T11:26:09.020Z"
   },
   {
    "duration": 157,
    "start_time": "2023-02-16T11:26:17.034Z"
   },
   {
    "duration": 146,
    "start_time": "2023-02-16T11:26:50.937Z"
   },
   {
    "duration": 187,
    "start_time": "2023-02-16T11:26:57.643Z"
   },
   {
    "duration": 147,
    "start_time": "2023-02-16T11:30:00.777Z"
   },
   {
    "duration": 146,
    "start_time": "2023-02-16T11:30:08.332Z"
   },
   {
    "duration": 503,
    "start_time": "2023-08-21T10:41:06.217Z"
   },
   {
    "duration": 452,
    "start_time": "2023-08-21T10:41:06.724Z"
   },
   {
    "duration": 36,
    "start_time": "2023-08-21T10:41:10.857Z"
   },
   {
    "duration": 23,
    "start_time": "2023-08-21T10:41:14.006Z"
   },
   {
    "duration": 79,
    "start_time": "2023-08-21T10:41:17.368Z"
   },
   {
    "duration": 4,
    "start_time": "2023-08-21T10:41:17.953Z"
   },
   {
    "duration": 5497,
    "start_time": "2023-08-21T10:41:27.803Z"
   },
   {
    "duration": 15,
    "start_time": "2023-08-21T10:41:52.654Z"
   },
   {
    "duration": 14,
    "start_time": "2023-08-21T10:41:57.219Z"
   },
   {
    "duration": 14,
    "start_time": "2023-08-21T10:42:02.407Z"
   },
   {
    "duration": 5,
    "start_time": "2023-08-21T10:42:05.621Z"
   },
   {
    "duration": 30,
    "start_time": "2023-08-21T10:42:18.024Z"
   },
   {
    "duration": 17,
    "start_time": "2023-08-21T10:42:26.707Z"
   },
   {
    "duration": 10,
    "start_time": "2023-08-21T10:42:29.008Z"
   },
   {
    "duration": 15,
    "start_time": "2023-08-21T10:42:32.107Z"
   },
   {
    "duration": 8,
    "start_time": "2023-08-21T10:42:35.560Z"
   },
   {
    "duration": 7,
    "start_time": "2023-08-21T10:42:46.910Z"
   },
   {
    "duration": 11,
    "start_time": "2023-08-21T10:42:47.207Z"
   },
   {
    "duration": 7,
    "start_time": "2023-08-21T10:42:49.552Z"
   },
   {
    "duration": 8,
    "start_time": "2023-08-21T10:42:50.714Z"
   },
   {
    "duration": 10,
    "start_time": "2023-08-21T10:42:55.429Z"
   },
   {
    "duration": 10,
    "start_time": "2023-08-21T10:42:58.020Z"
   },
   {
    "duration": 14,
    "start_time": "2023-08-21T10:42:58.303Z"
   },
   {
    "duration": 6,
    "start_time": "2023-08-21T10:43:03.949Z"
   },
   {
    "duration": 294,
    "start_time": "2023-08-21T10:43:06.931Z"
   },
   {
    "duration": 6,
    "start_time": "2023-08-21T10:43:10.329Z"
   },
   {
    "duration": 7,
    "start_time": "2023-08-21T10:43:13.032Z"
   },
   {
    "duration": 8,
    "start_time": "2023-08-21T10:43:15.103Z"
   },
   {
    "duration": 8,
    "start_time": "2023-08-21T10:43:17.107Z"
   },
   {
    "duration": 6,
    "start_time": "2023-08-21T10:43:17.325Z"
   },
   {
    "duration": 106,
    "start_time": "2023-08-21T10:43:23.355Z"
   },
   {
    "duration": 9,
    "start_time": "2023-08-21T10:43:37.465Z"
   },
   {
    "duration": 16,
    "start_time": "2023-08-21T10:43:38.303Z"
   },
   {
    "duration": 7,
    "start_time": "2023-08-21T10:43:39.243Z"
   },
   {
    "duration": 11,
    "start_time": "2023-08-21T10:43:40.639Z"
   },
   {
    "duration": 9,
    "start_time": "2023-08-21T10:43:42.504Z"
   },
   {
    "duration": 14,
    "start_time": "2023-08-21T10:43:44.215Z"
   },
   {
    "duration": 5,
    "start_time": "2023-08-21T10:43:46.115Z"
   },
   {
    "duration": 11,
    "start_time": "2023-08-21T10:43:46.314Z"
   },
   {
    "duration": 13,
    "start_time": "2023-08-21T10:43:48.003Z"
   },
   {
    "duration": 21,
    "start_time": "2023-08-21T10:44:02.624Z"
   },
   {
    "duration": 11,
    "start_time": "2023-08-21T10:44:09.323Z"
   },
   {
    "duration": 9,
    "start_time": "2023-08-21T10:44:11.340Z"
   },
   {
    "duration": 52,
    "start_time": "2023-08-21T10:44:17.863Z"
   },
   {
    "duration": 23,
    "start_time": "2023-08-21T10:44:27.903Z"
   },
   {
    "duration": 20,
    "start_time": "2023-08-21T10:44:28.458Z"
   },
   {
    "duration": 17,
    "start_time": "2023-08-21T10:44:43.150Z"
   },
   {
    "duration": 37,
    "start_time": "2023-08-21T10:44:44.506Z"
   },
   {
    "duration": 6,
    "start_time": "2023-08-21T10:44:55.573Z"
   },
   {
    "duration": 10,
    "start_time": "2023-08-21T10:44:56.109Z"
   },
   {
    "duration": 10,
    "start_time": "2023-08-21T10:44:57.200Z"
   },
   {
    "duration": 8,
    "start_time": "2023-08-21T10:44:58.812Z"
   },
   {
    "duration": 5,
    "start_time": "2023-08-21T10:45:01.441Z"
   },
   {
    "duration": 11,
    "start_time": "2023-08-21T10:45:33.800Z"
   },
   {
    "duration": 430,
    "start_time": "2023-08-21T10:45:35.447Z"
   },
   {
    "duration": 18,
    "start_time": "2023-08-21T10:45:36.043Z"
   },
   {
    "duration": 27,
    "start_time": "2023-08-21T10:45:42.258Z"
   },
   {
    "duration": 38,
    "start_time": "2023-08-21T10:45:54.462Z"
   },
   {
    "duration": 4,
    "start_time": "2023-08-21T10:47:56.957Z"
   },
   {
    "duration": 293,
    "start_time": "2023-08-21T10:47:57.218Z"
   },
   {
    "duration": 304,
    "start_time": "2023-08-21T10:47:59.875Z"
   },
   {
    "duration": 8,
    "start_time": "2023-08-21T10:49:36.019Z"
   },
   {
    "duration": 8,
    "start_time": "2023-08-21T10:49:38.965Z"
   },
   {
    "duration": 9,
    "start_time": "2023-08-21T10:49:40.649Z"
   },
   {
    "duration": 585,
    "start_time": "2023-08-21T10:49:43.309Z"
   },
   {
    "duration": 258,
    "start_time": "2023-08-21T10:49:48.612Z"
   },
   {
    "duration": 1856,
    "start_time": "2023-08-21T10:50:15.852Z"
   },
   {
    "duration": 26,
    "start_time": "2023-08-21T10:50:33.933Z"
   },
   {
    "duration": 10,
    "start_time": "2023-08-21T10:50:39.045Z"
   },
   {
    "duration": 10,
    "start_time": "2023-08-21T10:50:42.461Z"
   },
   {
    "duration": 197,
    "start_time": "2023-08-21T10:50:49.957Z"
   },
   {
    "duration": 130,
    "start_time": "2023-08-21T10:50:54.220Z"
   },
   {
    "duration": 174,
    "start_time": "2023-08-21T10:50:59.134Z"
   },
   {
    "duration": 128,
    "start_time": "2023-08-21T10:51:19.922Z"
   }
  ],
  "kernelspec": {
   "display_name": "Python 3 (ipykernel)",
   "language": "python",
   "name": "python3"
  },
  "language_info": {
   "codemirror_mode": {
    "name": "ipython",
    "version": 3
   },
   "file_extension": ".py",
   "mimetype": "text/x-python",
   "name": "python",
   "nbconvert_exporter": "python",
   "pygments_lexer": "ipython3",
   "version": "3.9.5"
  },
  "toc": {
   "base_numbering": 1,
   "nav_menu": {},
   "number_sections": true,
   "sideBar": true,
   "skip_h1_title": true,
   "title_cell": "Table of Contents",
   "title_sidebar": "Contents",
   "toc_cell": false,
   "toc_position": {
    "height": "calc(100% - 180px)",
    "left": "10px",
    "top": "150px",
    "width": "301.796875px"
   },
   "toc_section_display": true,
   "toc_window_display": true
  },
  "widgets": {
   "application/vnd.jupyter.widget-state+json": {
    "state": {},
    "version_major": 2,
    "version_minor": 0
   }
  }
 },
 "nbformat": 4,
 "nbformat_minor": 2
}
