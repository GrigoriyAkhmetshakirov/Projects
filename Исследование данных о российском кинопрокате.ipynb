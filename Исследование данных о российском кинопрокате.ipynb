{
 "cells": [
  {
   "cell_type": "markdown",
   "metadata": {
    "id": "sIfNaMOxgFyK"
   },
   "source": [
    "## Исследование данных о российском кинопрокате\n",
    "\n"
   ]
  },
  {
   "cell_type": "markdown",
   "metadata": {},
   "source": [
    "### Описание проекта\n",
    "\n",
    "Заказчик этого исследования — Министерство культуры Российской Федерации. \n",
    "Необходимо изучить рынок российского кинопроката и выявить текущие тренды. Необходимо уделить внимание фильмам, которые получили государственную поддержку, ответить на вопрос, насколько такие фильмы интересны зрителю. \n",
    "Набор данных содержит информацию о прокатных удостоверениях, сборах и государственной поддержке фильмов, а также информацию с сайта КиноПоиск. \n",
    "\n",
    "Данные: \n",
    "- mkrf_movies.csv — данные о прокатных удостоверениях. \n",
    "- mkrf_shows.csv — данные о прокате в российских кинотеатрах. "
   ]
  },
  {
   "cell_type": "markdown",
   "metadata": {},
   "source": [
    "### Описание данных\n",
    "Таблица mkrf_movies содержит информацию из реестра прокатных удостоверений. У одного фильма может быть несколько прокатных удостоверений.\n",
    "- title — название фильма;\n",
    "- puNumber — номер прокатного удостоверения;\n",
    "- show_start_date — дата премьеры фильма;\n",
    "- type — тип фильма;\n",
    "- film_studio — студия-производитель;\n",
    "- production_country — страна-производитель;\n",
    "- director — режиссёр;\n",
    "- producer — продюсер;\n",
    "- age_restriction — возрастная категория;\n",
    "- refundable_support — объём возвратных средств государственной поддержки;\n",
    "- nonrefundable_support — объём невозвратных средств государственной поддержки;\n",
    "- financing_source — источник государственного финансирования;\n",
    "- budget — общий бюджет фильма;\n",
    "- ratings — рейтинг фильма на КиноПоиске;\n",
    "- genres — жанр фильма.\n",
    "\n",
    "Таблица mkrf_shows содержит сведения о показах фильмов в российских кинотеатрах.\n",
    "- puNumber — номер прокатного удостоверения;\n",
    "- box_office — сборы в рублях."
   ]
  },
  {
   "cell_type": "markdown",
   "metadata": {
    "id": "3bSlkCsbgFyL"
   },
   "source": [
    "##  Импорт библиотек и данных"
   ]
  },
  {
   "cell_type": "code",
   "execution_count": 1,
   "metadata": {
    "id": "dw87FlzMgFyM"
   },
   "outputs": [],
   "source": [
    "import pandas as pd\n",
    "\n",
    "pd.options.display.float_format = '{:,.1f}'.format\n",
    "pd.options.mode.chained_assignment = None"
   ]
  },
  {
   "cell_type": "code",
   "execution_count": 2,
   "metadata": {},
   "outputs": [
    {
     "name": "stdout",
     "output_type": "stream",
     "text": [
      "<class 'pandas.core.frame.DataFrame'>\n",
      "RangeIndex: 7486 entries, 0 to 7485\n",
      "Data columns (total 15 columns):\n",
      " #   Column                 Non-Null Count  Dtype  \n",
      "---  ------                 --------------  -----  \n",
      " 0   title                  7486 non-null   object \n",
      " 1   puNumber               7486 non-null   object \n",
      " 2   show_start_date        7486 non-null   object \n",
      " 3   type                   7486 non-null   object \n",
      " 4   film_studio            7468 non-null   object \n",
      " 5   production_country     7484 non-null   object \n",
      " 6   director               7477 non-null   object \n",
      " 7   producer               6918 non-null   object \n",
      " 8   age_restriction        7486 non-null   object \n",
      " 9   refundable_support     332 non-null    float64\n",
      " 10  nonrefundable_support  332 non-null    float64\n",
      " 11  budget                 332 non-null    float64\n",
      " 12  financing_source       332 non-null    object \n",
      " 13  ratings                6519 non-null   object \n",
      " 14  genres                 6510 non-null   object \n",
      "dtypes: float64(3), object(12)\n",
      "memory usage: 877.4+ KB\n"
     ]
    }
   ],
   "source": [
    "movies = pd.read_csv('/datasets/mkrf_movies.csv')\n",
    "movies.info()"
   ]
  },
  {
   "cell_type": "code",
   "execution_count": 9,
   "metadata": {},
   "outputs": [
    {
     "name": "stdout",
     "output_type": "stream",
     "text": [
      "<class 'pandas.core.frame.DataFrame'>\n",
      "RangeIndex: 3158 entries, 0 to 3157\n",
      "Data columns (total 2 columns):\n",
      " #   Column      Non-Null Count  Dtype  \n",
      "---  ------      --------------  -----  \n",
      " 0   puNumber    3158 non-null   int64  \n",
      " 1   box_office  3158 non-null   float64\n",
      "dtypes: float64(1), int64(1)\n",
      "memory usage: 49.5 KB\n"
     ]
    }
   ],
   "source": [
    "shows = pd.read_csv('/datasets/mkrf_shows.csv')\n",
    "shows.info()"
   ]
  },
  {
   "cell_type": "markdown",
   "metadata": {},
   "source": [
    "Для объединения датафреймов по столбцу puNumber преобразуем значения в этом столбце в int."
   ]
  },
  {
   "cell_type": "code",
   "execution_count": 3,
   "metadata": {},
   "outputs": [
    {
     "data": {
      "text/html": [
       "<div>\n",
       "<style scoped>\n",
       "    .dataframe tbody tr th:only-of-type {\n",
       "        vertical-align: middle;\n",
       "    }\n",
       "\n",
       "    .dataframe tbody tr th {\n",
       "        vertical-align: top;\n",
       "    }\n",
       "\n",
       "    .dataframe thead th {\n",
       "        text-align: right;\n",
       "    }\n",
       "</style>\n",
       "<table border=\"1\" class=\"dataframe\">\n",
       "  <thead>\n",
       "    <tr style=\"text-align: right;\">\n",
       "      <th></th>\n",
       "      <th>title</th>\n",
       "      <th>puNumber</th>\n",
       "      <th>show_start_date</th>\n",
       "      <th>type</th>\n",
       "      <th>film_studio</th>\n",
       "      <th>production_country</th>\n",
       "      <th>director</th>\n",
       "      <th>producer</th>\n",
       "      <th>age_restriction</th>\n",
       "      <th>refundable_support</th>\n",
       "      <th>nonrefundable_support</th>\n",
       "      <th>budget</th>\n",
       "      <th>financing_source</th>\n",
       "      <th>ratings</th>\n",
       "      <th>genres</th>\n",
       "    </tr>\n",
       "  </thead>\n",
       "  <tbody>\n",
       "    <tr>\n",
       "      <th>804</th>\n",
       "      <td>Паранормальный Якутск</td>\n",
       "      <td>111004112</td>\n",
       "      <td>2012-08-24T12:00:00.000Z</td>\n",
       "      <td>Художественный</td>\n",
       "      <td>ИП Тимофеев К.П.</td>\n",
       "      <td>Россия</td>\n",
       "      <td>К.Тимофеев</td>\n",
       "      <td>NaN</td>\n",
       "      <td>«16+» - для детей старше 16 лет</td>\n",
       "      <td>NaN</td>\n",
       "      <td>NaN</td>\n",
       "      <td>NaN</td>\n",
       "      <td>NaN</td>\n",
       "      <td>NaN</td>\n",
       "      <td>NaN</td>\n",
       "    </tr>\n",
       "    <tr>\n",
       "      <th>1797</th>\n",
       "      <td>Курбан-роман. (История с жертвой)</td>\n",
       "      <td>нет</td>\n",
       "      <td>2014-05-15T12:00:00.000Z</td>\n",
       "      <td>Художественный</td>\n",
       "      <td>ФОНД \"ИННОВАЦИЯ\"</td>\n",
       "      <td>Россия</td>\n",
       "      <td>С.Юзеев</td>\n",
       "      <td>М.Галицкая</td>\n",
       "      <td>«12+» - для детей старше 12 лет</td>\n",
       "      <td>NaN</td>\n",
       "      <td>NaN</td>\n",
       "      <td>NaN</td>\n",
       "      <td>NaN</td>\n",
       "      <td>NaN</td>\n",
       "      <td>NaN</td>\n",
       "    </tr>\n",
       "  </tbody>\n",
       "</table>\n",
       "</div>"
      ],
      "text/plain": [
       "                                  title    puNumber           show_start_date  \\\n",
       "804               Паранормальный Якутск   111004112  2012-08-24T12:00:00.000Z   \n",
       "1797  Курбан-роман. (История с жертвой)         нет  2014-05-15T12:00:00.000Z   \n",
       "\n",
       "                type       film_studio production_country    director  \\\n",
       "804   Художественный  ИП Тимофеев К.П.             Россия  К.Тимофеев   \n",
       "1797  Художественный  ФОНД \"ИННОВАЦИЯ\"             Россия     С.Юзеев   \n",
       "\n",
       "        producer                  age_restriction  refundable_support  \\\n",
       "804          NaN  «16+» - для детей старше 16 лет                 NaN   \n",
       "1797  М.Галицкая  «12+» - для детей старше 12 лет                 NaN   \n",
       "\n",
       "      nonrefundable_support  budget financing_source ratings genres  \n",
       "804                     NaN     NaN              NaN     NaN    NaN  \n",
       "1797                    NaN     NaN              NaN     NaN    NaN  "
      ]
     },
     "execution_count": 3,
     "metadata": {},
     "output_type": "execute_result"
    }
   ],
   "source": [
    "movies[~movies['puNumber'].str.isdigit()]"
   ]
  },
  {
   "cell_type": "markdown",
   "metadata": {},
   "source": [
    "В таблице movies в столбце puNumber есть значение \"нет\", заменим его на 0 для корректного преоброазования данных."
   ]
  },
  {
   "cell_type": "code",
   "execution_count": 6,
   "metadata": {
    "scrolled": false
   },
   "outputs": [],
   "source": [
    "movies.loc[movies['puNumber'] == \"нет\", 'puNumber'] = 0"
   ]
  },
  {
   "cell_type": "code",
   "execution_count": 10,
   "metadata": {},
   "outputs": [
    {
     "data": {
      "text/plain": [
       "dtype('int32')"
      ]
     },
     "execution_count": 10,
     "metadata": {},
     "output_type": "execute_result"
    }
   ],
   "source": [
    "movies.puNumber = movies['puNumber'].astype('int32')\n",
    "movies.puNumber.dtypes"
   ]
  },
  {
   "cell_type": "code",
   "execution_count": 11,
   "metadata": {},
   "outputs": [],
   "source": [
    "df = movies.merge(shows, on='puNumber', how='left')"
   ]
  },
  {
   "cell_type": "markdown",
   "metadata": {},
   "source": [
    "_Проверка._"
   ]
  },
  {
   "cell_type": "code",
   "execution_count": 12,
   "metadata": {},
   "outputs": [
    {
     "data": {
      "text/plain": [
       "3158"
      ]
     },
     "execution_count": 12,
     "metadata": {},
     "output_type": "execute_result"
    }
   ],
   "source": [
    "df[df['box_office'].notna()]['box_office'].count()"
   ]
  },
  {
   "cell_type": "code",
   "execution_count": 13,
   "metadata": {},
   "outputs": [
    {
     "data": {
      "text/html": [
       "<div>\n",
       "<style scoped>\n",
       "    .dataframe tbody tr th:only-of-type {\n",
       "        vertical-align: middle;\n",
       "    }\n",
       "\n",
       "    .dataframe tbody tr th {\n",
       "        vertical-align: top;\n",
       "    }\n",
       "\n",
       "    .dataframe thead th {\n",
       "        text-align: right;\n",
       "    }\n",
       "</style>\n",
       "<table border=\"1\" class=\"dataframe\">\n",
       "  <thead>\n",
       "    <tr style=\"text-align: right;\">\n",
       "      <th></th>\n",
       "      <th>title</th>\n",
       "      <th>puNumber</th>\n",
       "      <th>show_start_date</th>\n",
       "      <th>type</th>\n",
       "      <th>film_studio</th>\n",
       "      <th>production_country</th>\n",
       "      <th>director</th>\n",
       "      <th>producer</th>\n",
       "      <th>age_restriction</th>\n",
       "      <th>refundable_support</th>\n",
       "      <th>nonrefundable_support</th>\n",
       "      <th>budget</th>\n",
       "      <th>financing_source</th>\n",
       "      <th>ratings</th>\n",
       "      <th>genres</th>\n",
       "      <th>box_office</th>\n",
       "    </tr>\n",
       "  </thead>\n",
       "  <tbody>\n",
       "    <tr>\n",
       "      <th>5132</th>\n",
       "      <td>Воды слонам! /По произведению Сары Груэн/</td>\n",
       "      <td>121006111</td>\n",
       "      <td>2011-04-14T12:00:00.000Z</td>\n",
       "      <td>Художественный</td>\n",
       "      <td>3 Артс Интертейнмент, Крейзи Хорз Эффектс,Флэш...</td>\n",
       "      <td>США</td>\n",
       "      <td>Фрэнсис Лоуренс</td>\n",
       "      <td>Джил Неттер, Эрвин Стофф, Эндрю Р.Теннербаум</td>\n",
       "      <td>«16+» - для детей старше 16 лет</td>\n",
       "      <td>NaN</td>\n",
       "      <td>NaN</td>\n",
       "      <td>NaN</td>\n",
       "      <td>NaN</td>\n",
       "      <td>7.6</td>\n",
       "      <td>драма,мелодрама</td>\n",
       "      <td>NaN</td>\n",
       "    </tr>\n",
       "    <tr>\n",
       "      <th>3980</th>\n",
       "      <td>Я счастлив, что моя мать жива</td>\n",
       "      <td>221102510</td>\n",
       "      <td>2010-09-08T12:00:00.000Z</td>\n",
       "      <td>Художественный</td>\n",
       "      <td>Эф Комм Филм, Орли Филмс, Франс 3 Синема, Пэйд...</td>\n",
       "      <td>Франция</td>\n",
       "      <td>Клод Миллер, Натан Миллер</td>\n",
       "      <td>Жак Одиар, Жан-Луи Ливи, Ален Ваннье</td>\n",
       "      <td>«16+» - для детей старше 16 лет</td>\n",
       "      <td>NaN</td>\n",
       "      <td>NaN</td>\n",
       "      <td>NaN</td>\n",
       "      <td>NaN</td>\n",
       "      <td>6.8</td>\n",
       "      <td>драма</td>\n",
       "      <td>NaN</td>\n",
       "    </tr>\n",
       "    <tr>\n",
       "      <th>2671</th>\n",
       "      <td>Игра на выживание__</td>\n",
       "      <td>121009515</td>\n",
       "      <td>2015-04-27T12:00:00.000Z</td>\n",
       "      <td>Художественный</td>\n",
       "      <td>Фэзе Филмз</td>\n",
       "      <td>США</td>\n",
       "      <td>Жан-Батист Леонетти</td>\n",
       "      <td>Майкл Дуглас, Роберт Митас, Филлип Элвей</td>\n",
       "      <td>«18+» - запрещено для детей</td>\n",
       "      <td>NaN</td>\n",
       "      <td>NaN</td>\n",
       "      <td>NaN</td>\n",
       "      <td>NaN</td>\n",
       "      <td>7.6</td>\n",
       "      <td>триллер,приключения</td>\n",
       "      <td>9,358,511.3</td>\n",
       "    </tr>\n",
       "    <tr>\n",
       "      <th>2984</th>\n",
       "      <td>Маргарита</td>\n",
       "      <td>121008916</td>\n",
       "      <td>2016-04-19T12:00:00.000Z</td>\n",
       "      <td>Художественный</td>\n",
       "      <td>Фиделите Фильм, Габриэль, Франс 3 Синема, Сире...</td>\n",
       "      <td>Франция - Чехия - Бельгия</td>\n",
       "      <td>Ксавье Джанноли</td>\n",
       "      <td>Оливье Дельбоск, Марк Миссонье</td>\n",
       "      <td>«18+» - запрещено для детей</td>\n",
       "      <td>NaN</td>\n",
       "      <td>NaN</td>\n",
       "      <td>NaN</td>\n",
       "      <td>NaN</td>\n",
       "      <td>6.9</td>\n",
       "      <td>драма,комедия,музыка</td>\n",
       "      <td>1,237,661.0</td>\n",
       "    </tr>\n",
       "    <tr>\n",
       "      <th>5673</th>\n",
       "      <td>Селфи</td>\n",
       "      <td>111012117</td>\n",
       "      <td>2018-02-01T12:00:00.000Z</td>\n",
       "      <td>Художественный</td>\n",
       "      <td>ООО \"Киностудия \"Слово\", ООО \"Арт Пикчерс Студия\"</td>\n",
       "      <td>Россия</td>\n",
       "      <td>Н.Хомерики</td>\n",
       "      <td>П.Ануров, Ф.Бондарчук, Д.Рудовский</td>\n",
       "      <td>«16+» - для детей старше 16 лет</td>\n",
       "      <td>20,000,000.0</td>\n",
       "      <td>40,000,000.0</td>\n",
       "      <td>0.0</td>\n",
       "      <td>Фонд кино</td>\n",
       "      <td>5.8</td>\n",
       "      <td>триллер,драма</td>\n",
       "      <td>225,196,400.0</td>\n",
       "    </tr>\n",
       "  </tbody>\n",
       "</table>\n",
       "</div>"
      ],
      "text/plain": [
       "                                          title   puNumber  \\\n",
       "5132  Воды слонам! /По произведению Сары Груэн/  121006111   \n",
       "3980              Я счастлив, что моя мать жива  221102510   \n",
       "2671                        Игра на выживание__  121009515   \n",
       "2984                                  Маргарита  121008916   \n",
       "5673                                      Селфи  111012117   \n",
       "\n",
       "               show_start_date             type  \\\n",
       "5132  2011-04-14T12:00:00.000Z   Художественный   \n",
       "3980  2010-09-08T12:00:00.000Z   Художественный   \n",
       "2671  2015-04-27T12:00:00.000Z   Художественный   \n",
       "2984  2016-04-19T12:00:00.000Z   Художественный   \n",
       "5673  2018-02-01T12:00:00.000Z   Художественный   \n",
       "\n",
       "                                            film_studio  \\\n",
       "5132  3 Артс Интертейнмент, Крейзи Хорз Эффектс,Флэш...   \n",
       "3980  Эф Комм Филм, Орли Филмс, Франс 3 Синема, Пэйд...   \n",
       "2671                                         Фэзе Филмз   \n",
       "2984  Фиделите Фильм, Габриэль, Франс 3 Синема, Сире...   \n",
       "5673  ООО \"Киностудия \"Слово\", ООО \"Арт Пикчерс Студия\"   \n",
       "\n",
       "             production_country                   director  \\\n",
       "5132                        США            Фрэнсис Лоуренс   \n",
       "3980                    Франция  Клод Миллер, Натан Миллер   \n",
       "2671                        США       Жан-Батист Леонетти    \n",
       "2984  Франция - Чехия - Бельгия            Ксавье Джанноли   \n",
       "5673                     Россия                 Н.Хомерики   \n",
       "\n",
       "                                          producer  \\\n",
       "5132  Джил Неттер, Эрвин Стофф, Эндрю Р.Теннербаум   \n",
       "3980          Жак Одиар, Жан-Луи Ливи, Ален Ваннье   \n",
       "2671      Майкл Дуглас, Роберт Митас, Филлип Элвей   \n",
       "2984                Оливье Дельбоск, Марк Миссонье   \n",
       "5673            П.Ануров, Ф.Бондарчук, Д.Рудовский   \n",
       "\n",
       "                      age_restriction  refundable_support  \\\n",
       "5132  «16+» - для детей старше 16 лет                 NaN   \n",
       "3980  «16+» - для детей старше 16 лет                 NaN   \n",
       "2671      «18+» - запрещено для детей                 NaN   \n",
       "2984      «18+» - запрещено для детей                 NaN   \n",
       "5673  «16+» - для детей старше 16 лет        20,000,000.0   \n",
       "\n",
       "      nonrefundable_support  budget financing_source ratings  \\\n",
       "5132                    NaN     NaN              NaN     7.6   \n",
       "3980                    NaN     NaN              NaN     6.8   \n",
       "2671                    NaN     NaN              NaN     7.6   \n",
       "2984                    NaN     NaN              NaN     6.9   \n",
       "5673           40,000,000.0     0.0        Фонд кино     5.8   \n",
       "\n",
       "                    genres    box_office  \n",
       "5132       драма,мелодрама           NaN  \n",
       "3980                 драма           NaN  \n",
       "2671   триллер,приключения   9,358,511.3  \n",
       "2984  драма,комедия,музыка   1,237,661.0  \n",
       "5673         триллер,драма 225,196,400.0  "
      ]
     },
     "execution_count": 13,
     "metadata": {},
     "output_type": "execute_result"
    }
   ],
   "source": [
    "df.sample(5)"
   ]
  },
  {
   "cell_type": "markdown",
   "metadata": {
    "id": "KLDGpPG0gFyM"
   },
   "source": [
    "## Предобработка данных"
   ]
  },
  {
   "cell_type": "markdown",
   "metadata": {},
   "source": [
    "Переименуем столбец puNumber согласно snake_case."
   ]
  },
  {
   "cell_type": "code",
   "execution_count": 14,
   "metadata": {},
   "outputs": [
    {
     "data": {
      "text/plain": [
       "Index(['title', 'pu_number', 'show_start_date', 'type', 'film_studio',\n",
       "       'production_country', 'director', 'producer', 'age_restriction',\n",
       "       'refundable_support', 'nonrefundable_support', 'budget',\n",
       "       'financing_source', 'ratings', 'genres', 'box_office'],\n",
       "      dtype='object')"
      ]
     },
     "execution_count": 14,
     "metadata": {},
     "output_type": "execute_result"
    }
   ],
   "source": [
    "df = df.rename(columns={'puNumber':'pu_number'})\n",
    "df.columns"
   ]
  },
  {
   "cell_type": "markdown",
   "metadata": {
    "id": "i0MOLbF-gFyP"
   },
   "source": [
    "### Изучим пропуски в датафрейме"
   ]
  },
  {
   "cell_type": "code",
   "execution_count": 15,
   "metadata": {
    "scrolled": false
   },
   "outputs": [
    {
     "data": {
      "text/plain": [
       "title                       0\n",
       "pu_number                   0\n",
       "show_start_date             0\n",
       "type                        0\n",
       "film_studio                18\n",
       "production_country          2\n",
       "director                    9\n",
       "producer                  568\n",
       "age_restriction             0\n",
       "refundable_support       7154\n",
       "nonrefundable_support    7154\n",
       "budget                   7154\n",
       "financing_source         7154\n",
       "ratings                   967\n",
       "genres                    976\n",
       "box_office               4328\n",
       "dtype: int64"
      ]
     },
     "execution_count": 15,
     "metadata": {},
     "output_type": "execute_result"
    }
   ],
   "source": [
    "df.isna().sum()"
   ]
  },
  {
   "cell_type": "markdown",
   "metadata": {},
   "source": [
    "- В столбцах с категориальными значениями пропуски заполнить сложно - для этого нужно искать в сторонних источниках информацию о фильме, что достоточно трудоемко.\n",
    "- В столбцах с количественными значениями пропуски стоят там, где информация для фильма не предоставлена. Оставим как есть."
   ]
  },
  {
   "cell_type": "markdown",
   "metadata": {
    "id": "ssWwKXsxgFyO"
   },
   "source": [
    "### Проверка типов данных"
   ]
  },
  {
   "cell_type": "code",
   "execution_count": 16,
   "metadata": {
    "id": "kVGSplJOgFyO",
    "scrolled": false
   },
   "outputs": [
    {
     "data": {
      "text/plain": [
       "title                     object\n",
       "pu_number                  int32\n",
       "show_start_date           object\n",
       "type                      object\n",
       "film_studio               object\n",
       "production_country        object\n",
       "director                  object\n",
       "producer                  object\n",
       "age_restriction           object\n",
       "refundable_support       float64\n",
       "nonrefundable_support    float64\n",
       "budget                   float64\n",
       "financing_source          object\n",
       "ratings                   object\n",
       "genres                    object\n",
       "box_office               float64\n",
       "dtype: object"
      ]
     },
     "execution_count": 16,
     "metadata": {},
     "output_type": "execute_result"
    }
   ],
   "source": [
    "df.dtypes"
   ]
  },
  {
   "cell_type": "markdown",
   "metadata": {},
   "source": [
    "- Преобразуем данные в столбце show_start_date в datetime. "
   ]
  },
  {
   "cell_type": "code",
   "execution_count": 17,
   "metadata": {
    "scrolled": false
   },
   "outputs": [
    {
     "data": {
      "text/plain": [
       "0   2015-11-27\n",
       "1   2016-09-13\n",
       "2   2016-10-10\n",
       "3   2016-06-10\n",
       "4   2015-07-29\n",
       "Name: show_start_date, dtype: datetime64[ns]"
      ]
     },
     "execution_count": 17,
     "metadata": {},
     "output_type": "execute_result"
    }
   ],
   "source": [
    "df.show_start_date = pd.to_datetime(df.show_start_date).dt.tz_localize(None).dt.normalize()\n",
    "df.show_start_date.head()"
   ]
  },
  {
   "cell_type": "markdown",
   "metadata": {
    "id": "4c6k1t9ygFyQ"
   },
   "source": [
    "### Изучим дубликаты в датафрейме"
   ]
  },
  {
   "cell_type": "code",
   "execution_count": 18,
   "metadata": {
    "scrolled": true
   },
   "outputs": [
    {
     "name": "stdout",
     "output_type": "stream",
     "text": [
      "Количество дубликатов в столбце title - 714\n",
      "Количество дубликатов в столбце pu_number - 2\n",
      "Количество дубликатов в столбце show_start_date - 5521\n",
      "Количество дубликатов в столбце type - 7478\n",
      "Количество дубликатов в столбце film_studio - 1995\n",
      "Количество дубликатов в столбце production_country - 6535\n",
      "Количество дубликатов в столбце director - 2674\n",
      "Количество дубликатов в столбце producer - 2136\n",
      "Количество дубликатов в столбце age_restriction - 7481\n",
      "Количество дубликатов в столбце refundable_support - 7451\n",
      "Количество дубликатов в столбце nonrefundable_support - 7410\n",
      "Количество дубликатов в столбце budget - 7195\n",
      "Количество дубликатов в столбце financing_source - 7482\n",
      "Количество дубликатов в столбце ratings - 7391\n",
      "Количество дубликатов в столбце genres - 6743\n",
      "Количество дубликатов в столбце box_office - 4547\n"
     ]
    }
   ],
   "source": [
    "for column in df.columns:\n",
    "    print(f'Количество дубликатов в столбце {column} - {df[column].duplicated().sum()}')"
   ]
  },
  {
   "cell_type": "markdown",
   "metadata": {},
   "source": [
    "Так как у одного фильма может быть несколько прокатных удостоверений, то получилось 714 неявных дубликатов в столбце title. Удалим их."
   ]
  },
  {
   "cell_type": "code",
   "execution_count": 19,
   "metadata": {},
   "outputs": [
    {
     "data": {
      "text/plain": [
       "0"
      ]
     },
     "execution_count": 19,
     "metadata": {},
     "output_type": "execute_result"
    }
   ],
   "source": [
    "df = df.drop_duplicates(subset='title').reset_index(drop=True)\n",
    "len(df[df['title'].duplicated()])"
   ]
  },
  {
   "cell_type": "code",
   "execution_count": 20,
   "metadata": {
    "scrolled": false
   },
   "outputs": [
    {
     "name": "stdout",
     "output_type": "stream",
     "text": [
      "Количество дубликатов в столбце title - 0\n",
      "Количество дубликатов в столбце pu_number - 0\n",
      "Количество дубликатов в столбце show_start_date - 4858\n",
      "Количество дубликатов в столбце type - 6764\n",
      "Количество дубликатов в столбце film_studio - 1325\n",
      "Количество дубликатов в столбце production_country - 5828\n",
      "Количество дубликатов в столбце director - 1985\n",
      "Количество дубликатов в столбце producer - 1465\n",
      "Количество дубликатов в столбце age_restriction - 6767\n",
      "Количество дубликатов в столбце refundable_support - 6737\n",
      "Количество дубликатов в столбце nonrefundable_support - 6696\n",
      "Количество дубликатов в столбце budget - 6484\n",
      "Количество дубликатов в столбце financing_source - 6768\n",
      "Количество дубликатов в столбце ratings - 6677\n",
      "Количество дубликатов в столбце genres - 6029\n",
      "Количество дубликатов в столбце box_office - 3937\n"
     ]
    }
   ],
   "source": [
    "for column in df.columns:\n",
    "    print(f'Количество дубликатов в столбце {column} - {df[column].duplicated().sum()}')"
   ]
  },
  {
   "cell_type": "markdown",
   "metadata": {},
   "source": [
    "- Проверка на явные дубликаты."
   ]
  },
  {
   "cell_type": "code",
   "execution_count": 21,
   "metadata": {
    "scrolled": true
   },
   "outputs": [
    {
     "data": {
      "text/plain": [
       "0"
      ]
     },
     "execution_count": 21,
     "metadata": {},
     "output_type": "execute_result"
    }
   ],
   "source": [
    "df.duplicated().sum()"
   ]
  },
  {
   "cell_type": "markdown",
   "metadata": {},
   "source": [
    "Явные дубликаты отсутсвуют."
   ]
  },
  {
   "cell_type": "markdown",
   "metadata": {},
   "source": [
    "### Анализ уникальных значений"
   ]
  },
  {
   "cell_type": "markdown",
   "metadata": {
    "id": "52fOPrEBgFyQ"
   },
   "source": [
    "#### Изучим категориальные значения"
   ]
  },
  {
   "cell_type": "markdown",
   "metadata": {},
   "source": [
    "В датасете есть столбцы, где встречаются пробелы в начале или конце строковых значений. Удалим их."
   ]
  },
  {
   "cell_type": "code",
   "execution_count": 23,
   "metadata": {
    "id": "PnXKIVdFgFyR"
   },
   "outputs": [],
   "source": [
    "for column in ['type', 'film_studio', 'production_country', 'director', 'producer', 'age_restriction', 'genres']:\n",
    "    df[column] = df[column].str.strip(' ')"
   ]
  },
  {
   "cell_type": "markdown",
   "metadata": {},
   "source": [
    "В столбце production_country приведем все к одному виду - перечесление через запятую."
   ]
  },
  {
   "cell_type": "code",
   "execution_count": 27,
   "metadata": {},
   "outputs": [],
   "source": [
    "df['production_country'] = df['production_country'].apply(lambda x: x.replace(' - ', ', ').replace('-', ', ') if type(x) != float else x)"
   ]
  },
  {
   "cell_type": "markdown",
   "metadata": {},
   "source": [
    "В столбце age_restriction удалим лишние комментарии и оставим только возрастной рейтинг."
   ]
  },
  {
   "cell_type": "code",
   "execution_count": 28,
   "metadata": {
    "scrolled": true
   },
   "outputs": [
    {
     "data": {
      "text/plain": [
       "array(['18+', '6+', '12+', '16+', '0+'], dtype=object)"
      ]
     },
     "execution_count": 28,
     "metadata": {},
     "output_type": "execute_result"
    }
   ],
   "source": [
    "df.age_restriction = df.age_restriction.apply(lambda x: x.split()[0].replace('«', '').replace('»', ''))\n",
    "df.age_restriction.unique()"
   ]
  },
  {
   "cell_type": "markdown",
   "metadata": {},
   "source": [
    "В столбце ratings есть значения, записанные в процентах. Приведем их к числу с плавающей точкой."
   ]
  },
  {
   "cell_type": "code",
   "execution_count": 29,
   "metadata": {
    "scrolled": true
   },
   "outputs": [
    {
     "data": {
      "text/plain": [
       "array([7.2, 6.6, 6.8, 7.7, 8.3, 8. , 7.8, 8.1, 7.1, 6. , 7.4, 5.8, 8.7,\n",
       "       6.3, 6.9, 5. , 4.3, 7.3, 7. , 6.4, nan, 8.2, 7.5, 6.7, 7.9, 5.9,\n",
       "       6.2, 5.6, 6.5, 2.4, 7.6, 6.1, 8.6, 8.5, 8.8, 5.5, 5.1, 5.7, 5.4,\n",
       "       9.9, 4.4, 4.5, 5.3, 4.1, 8.4, 2.6, 3.8, 4.6, 4.8, 4. , 3. , 1.6,\n",
       "       4.2, 5.2, 4.7, 4.9, 3.9, 2.7, 3.3, 2.9, 2.8, 3.7, 1.4, 3.1, 9.7,\n",
       "       3.5, 3.2, 1.5, 2.1, 2.5, 9.2, 3.4, 1.1, 3.6, 9.1, 9.4, 9. , 1.9,\n",
       "       1. , 8.9, 1.3, 1.8, 1.2, 1.7, 9.8], dtype=float32)"
      ]
     },
     "execution_count": 29,
     "metadata": {},
     "output_type": "execute_result"
    }
   ],
   "source": [
    "df.ratings = df.ratings.apply(lambda x: float(x[:-1]) / 10 if type(x) != float and \"%\" in x else x).astype('float32')\n",
    "df.ratings.unique()"
   ]
  },
  {
   "cell_type": "markdown",
   "metadata": {},
   "source": [
    "В столбце genres добавим пробел после запятой."
   ]
  },
  {
   "cell_type": "code",
   "execution_count": 30,
   "metadata": {
    "scrolled": false
   },
   "outputs": [
    {
     "data": {
      "text/plain": [
       "0       боевик, драма, мелодрама\n",
       "1                 драма, военный\n",
       "2    фантастика, боевик, триллер\n",
       "3                          драма\n",
       "4             мелодрама, комедия\n",
       "Name: genres, dtype: object"
      ]
     },
     "execution_count": 30,
     "metadata": {},
     "output_type": "execute_result"
    }
   ],
   "source": [
    "df.genres = df.genres.apply(lambda x: x.replace(',', ', ') if type(x) != float else x)\n",
    "df.genres.head()"
   ]
  },
  {
   "cell_type": "code",
   "execution_count": 90,
   "metadata": {
    "scrolled": true
   },
   "outputs": [
    {
     "data": {
      "text/html": [
       "<div>\n",
       "<style scoped>\n",
       "    .dataframe tbody tr th:only-of-type {\n",
       "        vertical-align: middle;\n",
       "    }\n",
       "\n",
       "    .dataframe tbody tr th {\n",
       "        vertical-align: top;\n",
       "    }\n",
       "\n",
       "    .dataframe thead th {\n",
       "        text-align: right;\n",
       "    }\n",
       "</style>\n",
       "<table border=\"1\" class=\"dataframe\">\n",
       "  <thead>\n",
       "    <tr style=\"text-align: right;\">\n",
       "      <th></th>\n",
       "      <th>title</th>\n",
       "      <th>pu_number</th>\n",
       "      <th>show_start_date</th>\n",
       "      <th>type</th>\n",
       "      <th>film_studio</th>\n",
       "      <th>production_country</th>\n",
       "      <th>director</th>\n",
       "      <th>producer</th>\n",
       "      <th>age_restriction</th>\n",
       "      <th>refundable_support</th>\n",
       "      <th>nonrefundable_support</th>\n",
       "      <th>budget</th>\n",
       "      <th>financing_source</th>\n",
       "      <th>ratings</th>\n",
       "      <th>genres</th>\n",
       "      <th>box_office</th>\n",
       "    </tr>\n",
       "  </thead>\n",
       "  <tbody>\n",
       "    <tr>\n",
       "      <th>5675</th>\n",
       "      <td>ДЕВЯНОСТЫЕ</td>\n",
       "      <td>111020718</td>\n",
       "      <td>2018-11-20</td>\n",
       "      <td>Художественный</td>\n",
       "      <td>ООО \"ИДИЛЛИЯ\"</td>\n",
       "      <td>Россия</td>\n",
       "      <td>В.Локтионов</td>\n",
       "      <td>В.Локтионов</td>\n",
       "      <td>18+</td>\n",
       "      <td>NaN</td>\n",
       "      <td>NaN</td>\n",
       "      <td>NaN</td>\n",
       "      <td>NaN</td>\n",
       "      <td>NaN</td>\n",
       "      <td>NaN</td>\n",
       "      <td>NaN</td>\n",
       "    </tr>\n",
       "    <tr>\n",
       "      <th>3110</th>\n",
       "      <td>В тихом омуте</td>\n",
       "      <td>121018516</td>\n",
       "      <td>2016-06-21</td>\n",
       "      <td>Художественный</td>\n",
       "      <td>Зэ Бэ Продуцион, Твенти Твенти Вижн Филмпродуц...</td>\n",
       "      <td>Германия, Франция</td>\n",
       "      <td>Брюно Дюмон</td>\n",
       "      <td>Жан Бреа, Рашид Бушареб, Мюриэль Мерлин</td>\n",
       "      <td>16+</td>\n",
       "      <td>NaN</td>\n",
       "      <td>NaN</td>\n",
       "      <td>NaN</td>\n",
       "      <td>NaN</td>\n",
       "      <td>6.8</td>\n",
       "      <td>триллер, криминал, детектив</td>\n",
       "      <td>2,883,624.0</td>\n",
       "    </tr>\n",
       "    <tr>\n",
       "      <th>326</th>\n",
       "      <td>Другой мужчина</td>\n",
       "      <td>121008516</td>\n",
       "      <td>2016-04-11</td>\n",
       "      <td>Художественный</td>\n",
       "      <td>Готэм Продакшнз, Рэйнмарк Филмз, Илинг Студиос...</td>\n",
       "      <td>США, Великобритания</td>\n",
       "      <td>РичардЭйр</td>\n",
       "      <td>Ричард Эйр, Майкл Дрейер, Фрэнк Дулгер</td>\n",
       "      <td>16+</td>\n",
       "      <td>NaN</td>\n",
       "      <td>NaN</td>\n",
       "      <td>NaN</td>\n",
       "      <td>NaN</td>\n",
       "      <td>5.9</td>\n",
       "      <td>триллер, драма, мелодрама</td>\n",
       "      <td>NaN</td>\n",
       "    </tr>\n",
       "    <tr>\n",
       "      <th>4880</th>\n",
       "      <td>Убийство в \"Восточном экспрессе\"</td>\n",
       "      <td>121021717</td>\n",
       "      <td>2017-11-09</td>\n",
       "      <td>Художественный</td>\n",
       "      <td>ХХ век Фокс, Жанр Филмз, Кинберг Жанр, Марк Го...</td>\n",
       "      <td>США, Мальта</td>\n",
       "      <td>Кеннет Брана</td>\n",
       "      <td>Кеннет Брана, Марк Гордон, Джуди Хоффланд</td>\n",
       "      <td>16+</td>\n",
       "      <td>NaN</td>\n",
       "      <td>NaN</td>\n",
       "      <td>NaN</td>\n",
       "      <td>NaN</td>\n",
       "      <td>6.7</td>\n",
       "      <td>детектив, криминал, драма</td>\n",
       "      <td>866,359,507.0</td>\n",
       "    </tr>\n",
       "    <tr>\n",
       "      <th>6459</th>\n",
       "      <td>По совести</td>\n",
       "      <td>111013819</td>\n",
       "      <td>2019-09-01</td>\n",
       "      <td>Художественный</td>\n",
       "      <td>ООО \"Азия Фильмс\"</td>\n",
       "      <td>Россия</td>\n",
       "      <td>А.Цыренов</td>\n",
       "      <td>А.Цыренов, А.Бурлов</td>\n",
       "      <td>16+</td>\n",
       "      <td>NaN</td>\n",
       "      <td>NaN</td>\n",
       "      <td>NaN</td>\n",
       "      <td>NaN</td>\n",
       "      <td>8.0</td>\n",
       "      <td>драма, военный, биография</td>\n",
       "      <td>547,720.0</td>\n",
       "    </tr>\n",
       "  </tbody>\n",
       "</table>\n",
       "</div>"
      ],
      "text/plain": [
       "                                 title  pu_number show_start_date  \\\n",
       "5675                        ДЕВЯНОСТЫЕ  111020718      2018-11-20   \n",
       "3110                     В тихом омуте  121018516      2016-06-21   \n",
       "326                     Другой мужчина  121008516      2016-04-11   \n",
       "4880  Убийство в \"Восточном экспрессе\"  121021717      2017-11-09   \n",
       "6459                        По совести  111013819      2019-09-01   \n",
       "\n",
       "                type                                        film_studio  \\\n",
       "5675  Художественный                                      ООО \"ИДИЛЛИЯ\"   \n",
       "3110  Художественный  Зэ Бэ Продуцион, Твенти Твенти Вижн Филмпродуц...   \n",
       "326   Художественный  Готэм Продакшнз, Рэйнмарк Филмз, Илинг Студиос...   \n",
       "4880  Художественный  ХХ век Фокс, Жанр Филмз, Кинберг Жанр, Марк Го...   \n",
       "6459  Художественный                                  ООО \"Азия Фильмс\"   \n",
       "\n",
       "       production_country      director  \\\n",
       "5675               Россия   В.Локтионов   \n",
       "3110    Германия, Франция   Брюно Дюмон   \n",
       "326   США, Великобритания     РичардЭйр   \n",
       "4880          США, Мальта  Кеннет Брана   \n",
       "6459               Россия     А.Цыренов   \n",
       "\n",
       "                                       producer age_restriction  \\\n",
       "5675                                В.Локтионов             18+   \n",
       "3110    Жан Бреа, Рашид Бушареб, Мюриэль Мерлин             16+   \n",
       "326      Ричард Эйр, Майкл Дрейер, Фрэнк Дулгер             16+   \n",
       "4880  Кеннет Брана, Марк Гордон, Джуди Хоффланд             16+   \n",
       "6459                        А.Цыренов, А.Бурлов             16+   \n",
       "\n",
       "      refundable_support  nonrefundable_support  budget financing_source  \\\n",
       "5675                 NaN                    NaN     NaN              NaN   \n",
       "3110                 NaN                    NaN     NaN              NaN   \n",
       "326                  NaN                    NaN     NaN              NaN   \n",
       "4880                 NaN                    NaN     NaN              NaN   \n",
       "6459                 NaN                    NaN     NaN              NaN   \n",
       "\n",
       "      ratings                       genres    box_office  \n",
       "5675      NaN                          NaN           NaN  \n",
       "3110      6.8  триллер, криминал, детектив   2,883,624.0  \n",
       "326       5.9    триллер, драма, мелодрама           NaN  \n",
       "4880      6.7    детектив, криминал, драма 866,359,507.0  \n",
       "6459      8.0    драма, военный, биография     547,720.0  "
      ]
     },
     "execution_count": 90,
     "metadata": {},
     "output_type": "execute_result"
    }
   ],
   "source": [
    "df.sample(5)"
   ]
  },
  {
   "cell_type": "markdown",
   "metadata": {
    "id": "XFSN5lrEgFyR"
   },
   "source": [
    "#### Проверим количественные значения"
   ]
  },
  {
   "cell_type": "code",
   "execution_count": 31,
   "metadata": {},
   "outputs": [
    {
     "data": {
      "text/plain": [
       "17"
      ]
     },
     "execution_count": 31,
     "metadata": {},
     "output_type": "execute_result"
    }
   ],
   "source": [
    "len(df.query('refundable_support + nonrefundable_support > budget'))"
   ]
  },
  {
   "cell_type": "markdown",
   "metadata": {},
   "source": [
    "В датасете есть строки, где бюджет меньше чем государственная поддержка. В этих строках указан нулевой бюджет. Заменим эти нули суммой всех средств гос. поддержки и разницей медианы бюджета и медианы общей гос. поддержки.\n"
   ]
  },
  {
   "cell_type": "code",
   "execution_count": 32,
   "metadata": {},
   "outputs": [
    {
     "data": {
      "text/plain": [
       "38490606.0"
      ]
     },
     "execution_count": 32,
     "metadata": {},
     "output_type": "execute_result"
    }
   ],
   "source": [
    "budget_for_replace = df.budget.median() - (df.nonrefundable_support.median() + df.refundable_support.median())\n",
    "budget_for_replace"
   ]
  },
  {
   "cell_type": "code",
   "execution_count": 33,
   "metadata": {},
   "outputs": [
    {
     "data": {
      "text/plain": [
       "2.2830202"
      ]
     },
     "execution_count": 33,
     "metadata": {},
     "output_type": "execute_result"
    }
   ],
   "source": [
    "budget_for_replace_ratio = df.budget.median() / (df.nonrefundable_support.median() + df.refundable_support.median())\n",
    "budget_for_replace_ratio"
   ]
  },
  {
   "cell_type": "code",
   "execution_count": 34,
   "metadata": {},
   "outputs": [],
   "source": [
    "df['budget_for_replace_ratio'] = (df.refundable_support + df.nonrefundable_support) * budget_for_replace_ratio\n",
    "df['budget_for_replace'] = (df.refundable_support + df.nonrefundable_support) + budget_for_replace"
   ]
  },
  {
   "cell_type": "code",
   "execution_count": 35,
   "metadata": {},
   "outputs": [
    {
     "data": {
      "text/html": [
       "<div>\n",
       "<style scoped>\n",
       "    .dataframe tbody tr th:only-of-type {\n",
       "        vertical-align: middle;\n",
       "    }\n",
       "\n",
       "    .dataframe tbody tr th {\n",
       "        vertical-align: top;\n",
       "    }\n",
       "\n",
       "    .dataframe thead th {\n",
       "        text-align: right;\n",
       "    }\n",
       "</style>\n",
       "<table border=\"1\" class=\"dataframe\">\n",
       "  <thead>\n",
       "    <tr style=\"text-align: right;\">\n",
       "      <th></th>\n",
       "      <th>budget_for_replace_ratio</th>\n",
       "      <th>budget_for_replace</th>\n",
       "    </tr>\n",
       "  </thead>\n",
       "  <tbody>\n",
       "    <tr>\n",
       "      <th>1165</th>\n",
       "      <td>60,500,035.3</td>\n",
       "      <td>64,990,606.0</td>\n",
       "    </tr>\n",
       "    <tr>\n",
       "      <th>1316</th>\n",
       "      <td>59,358,525.2</td>\n",
       "      <td>64,490,606.0</td>\n",
       "    </tr>\n",
       "    <tr>\n",
       "      <th>1361</th>\n",
       "      <td>246,219,037.0</td>\n",
       "      <td>146,338,551.0</td>\n",
       "    </tr>\n",
       "    <tr>\n",
       "      <th>1384</th>\n",
       "      <td>63,924,565.6</td>\n",
       "      <td>66,490,606.0</td>\n",
       "    </tr>\n",
       "    <tr>\n",
       "      <th>1629</th>\n",
       "      <td>57,075,505.0</td>\n",
       "      <td>63,490,606.0</td>\n",
       "    </tr>\n",
       "    <tr>\n",
       "      <th>...</th>\n",
       "      <td>...</td>\n",
       "      <td>...</td>\n",
       "    </tr>\n",
       "    <tr>\n",
       "      <th>6743</th>\n",
       "      <td>136,981,212.0</td>\n",
       "      <td>98,490,606.0</td>\n",
       "    </tr>\n",
       "    <tr>\n",
       "      <th>6751</th>\n",
       "      <td>1,141,510,100.0</td>\n",
       "      <td>538,490,606.0</td>\n",
       "    </tr>\n",
       "    <tr>\n",
       "      <th>6753</th>\n",
       "      <td>228,302,020.0</td>\n",
       "      <td>138,490,606.0</td>\n",
       "    </tr>\n",
       "    <tr>\n",
       "      <th>6762</th>\n",
       "      <td>68,490,606.0</td>\n",
       "      <td>68,490,606.0</td>\n",
       "    </tr>\n",
       "    <tr>\n",
       "      <th>6764</th>\n",
       "      <td>228,302,020.0</td>\n",
       "      <td>138,490,606.0</td>\n",
       "    </tr>\n",
       "  </tbody>\n",
       "</table>\n",
       "<p>329 rows × 2 columns</p>\n",
       "</div>"
      ],
      "text/plain": [
       "      budget_for_replace_ratio  budget_for_replace\n",
       "1165              60,500,035.3        64,990,606.0\n",
       "1316              59,358,525.2        64,490,606.0\n",
       "1361             246,219,037.0       146,338,551.0\n",
       "1384              63,924,565.6        66,490,606.0\n",
       "1629              57,075,505.0        63,490,606.0\n",
       "...                        ...                 ...\n",
       "6743             136,981,212.0        98,490,606.0\n",
       "6751           1,141,510,100.0       538,490,606.0\n",
       "6753             228,302,020.0       138,490,606.0\n",
       "6762              68,490,606.0        68,490,606.0\n",
       "6764             228,302,020.0       138,490,606.0\n",
       "\n",
       "[329 rows x 2 columns]"
      ]
     },
     "execution_count": 35,
     "metadata": {},
     "output_type": "execute_result"
    }
   ],
   "source": [
    "df.loc[df.budget_for_replace_ratio.notna(), ['budget_for_replace_ratio', 'budget_for_replace']]"
   ]
  },
  {
   "cell_type": "code",
   "execution_count": 36,
   "metadata": {},
   "outputs": [
    {
     "data": {
      "text/plain": [
       "17"
      ]
     },
     "execution_count": 36,
     "metadata": {},
     "output_type": "execute_result"
    }
   ],
   "source": [
    "len(df.query('refundable_support + nonrefundable_support > budget'))"
   ]
  },
  {
   "cell_type": "code",
   "execution_count": 37,
   "metadata": {},
   "outputs": [],
   "source": [
    "quantitative_columns = ['refundable_support', 'nonrefundable_support', 'budget', 'box_office']"
   ]
  },
  {
   "cell_type": "code",
   "execution_count": 38,
   "metadata": {},
   "outputs": [
    {
     "data": {
      "image/png": "[encoded data removed]",
      "text/plain": [
       "<Figure size 720x720 with 4 Axes>"
      ]
     },
     "metadata": {
      "needs_background": "light"
     },
     "output_type": "display_data"
    }
   ],
   "source": [
    "df[df[quantitative_columns].notna()][quantitative_columns].hist(bins=100, figsize=(10, 10));"
   ]
  },
  {
   "cell_type": "markdown",
   "metadata": {
    "id": "Eu6oWp2CgFyS"
   },
   "source": [
    "### Добавим новые столбцы"
   ]
  },
  {
   "cell_type": "markdown",
   "metadata": {
    "id": "7GgW-UpAgFyS"
   },
   "source": [
    "Создадим столбец с информацией о годе проката."
   ]
  },
  {
   "cell_type": "code",
   "execution_count": 39,
   "metadata": {
    "id": "I-yd1DkWgFyT"
   },
   "outputs": [],
   "source": [
    "df['year_start_date'] = df['show_start_date'].dt.year"
   ]
  },
  {
   "cell_type": "markdown",
   "metadata": {
    "id": "nFTDLDYOgFyT"
   },
   "source": [
    "Создадим два столбца: с именем и фамилией главного режиссёра и основным жанром фильма. В столбцы войдут первые значения из списка режиссёров и жанров соответственно."
   ]
  },
  {
   "cell_type": "code",
   "execution_count": 40,
   "metadata": {},
   "outputs": [],
   "source": [
    "df['main_director'] = df.director.apply(lambda x: x.split(',')[0] if type(x) != float else x )"
   ]
  },
  {
   "cell_type": "code",
   "execution_count": 41,
   "metadata": {},
   "outputs": [],
   "source": [
    "df['main_genre'] = df.genres.apply(lambda x: x.split(',')[0] if type(x) != float else x )"
   ]
  },
  {
   "cell_type": "code",
   "execution_count": 42,
   "metadata": {},
   "outputs": [
    {
     "data": {
      "text/html": [
       "<div>\n",
       "<style scoped>\n",
       "    .dataframe tbody tr th:only-of-type {\n",
       "        vertical-align: middle;\n",
       "    }\n",
       "\n",
       "    .dataframe tbody tr th {\n",
       "        vertical-align: top;\n",
       "    }\n",
       "\n",
       "    .dataframe thead th {\n",
       "        text-align: right;\n",
       "    }\n",
       "</style>\n",
       "<table border=\"1\" class=\"dataframe\">\n",
       "  <thead>\n",
       "    <tr style=\"text-align: right;\">\n",
       "      <th></th>\n",
       "      <th>director</th>\n",
       "      <th>main_director</th>\n",
       "      <th>genres</th>\n",
       "      <th>main_genre</th>\n",
       "    </tr>\n",
       "  </thead>\n",
       "  <tbody>\n",
       "    <tr>\n",
       "      <th>3100</th>\n",
       "      <td>Джон Клацкевич, Курт Морган</td>\n",
       "      <td>Джон Клацкевич</td>\n",
       "      <td>документальный, боевик, приключения</td>\n",
       "      <td>документальный</td>\n",
       "    </tr>\n",
       "    <tr>\n",
       "      <th>4604</th>\n",
       "      <td>Оливье Мегатон</td>\n",
       "      <td>Оливье Мегатон</td>\n",
       "      <td>боевик, триллер, драма</td>\n",
       "      <td>боевик</td>\n",
       "    </tr>\n",
       "    <tr>\n",
       "      <th>6003</th>\n",
       "      <td>Н.Урвачева</td>\n",
       "      <td>Н.Урвачева</td>\n",
       "      <td>NaN</td>\n",
       "      <td>NaN</td>\n",
       "    </tr>\n",
       "    <tr>\n",
       "      <th>4218</th>\n",
       "      <td>Кристофер Нолан</td>\n",
       "      <td>Кристофер Нолан</td>\n",
       "      <td>фантастика, триллер, драма</td>\n",
       "      <td>фантастика</td>\n",
       "    </tr>\n",
       "    <tr>\n",
       "      <th>3097</th>\n",
       "      <td>Хак Ботко</td>\n",
       "      <td>Хак Ботко</td>\n",
       "      <td>комедия</td>\n",
       "      <td>комедия</td>\n",
       "    </tr>\n",
       "  </tbody>\n",
       "</table>\n",
       "</div>"
      ],
      "text/plain": [
       "                         director    main_director  \\\n",
       "3100  Джон Клацкевич, Курт Морган   Джон Клацкевич   \n",
       "4604               Оливье Мегатон   Оливье Мегатон   \n",
       "6003                   Н.Урвачева       Н.Урвачева   \n",
       "4218              Кристофер Нолан  Кристофер Нолан   \n",
       "3097                    Хак Ботко        Хак Ботко   \n",
       "\n",
       "                                   genres      main_genre  \n",
       "3100  документальный, боевик, приключения  документальный  \n",
       "4604               боевик, триллер, драма          боевик  \n",
       "6003                                  NaN             NaN  \n",
       "4218           фантастика, триллер, драма      фантастика  \n",
       "3097                              комедия         комедия  "
      ]
     },
     "execution_count": 42,
     "metadata": {},
     "output_type": "execute_result"
    }
   ],
   "source": [
    "df[['director', 'main_director', 'genres', 'main_genre']].sample(5)"
   ]
  },
  {
   "cell_type": "markdown",
   "metadata": {
    "id": "1FsCXHwdgFyU"
   },
   "source": [
    "Посчитаем, какую долю от общего бюджета фильма составляет государственная поддержка."
   ]
  },
  {
   "cell_type": "code",
   "execution_count": 43,
   "metadata": {
    "id": "LV6qFuZLgFyV"
   },
   "outputs": [],
   "source": [
    "df['support_ratio'] = (df.nonrefundable_support + df.refundable_support) / df.budget"
   ]
  },
  {
   "cell_type": "code",
   "execution_count": 44,
   "metadata": {},
   "outputs": [
    {
     "data": {
      "text/html": [
       "<div>\n",
       "<style scoped>\n",
       "    .dataframe tbody tr th:only-of-type {\n",
       "        vertical-align: middle;\n",
       "    }\n",
       "\n",
       "    .dataframe tbody tr th {\n",
       "        vertical-align: top;\n",
       "    }\n",
       "\n",
       "    .dataframe thead th {\n",
       "        text-align: right;\n",
       "    }\n",
       "</style>\n",
       "<table border=\"1\" class=\"dataframe\">\n",
       "  <thead>\n",
       "    <tr style=\"text-align: right;\">\n",
       "      <th></th>\n",
       "      <th>title</th>\n",
       "      <th>pu_number</th>\n",
       "      <th>show_start_date</th>\n",
       "      <th>type</th>\n",
       "      <th>film_studio</th>\n",
       "      <th>production_country</th>\n",
       "      <th>director</th>\n",
       "      <th>producer</th>\n",
       "      <th>age_restriction</th>\n",
       "      <th>refundable_support</th>\n",
       "      <th>...</th>\n",
       "      <th>financing_source</th>\n",
       "      <th>ratings</th>\n",
       "      <th>genres</th>\n",
       "      <th>box_office</th>\n",
       "      <th>budget_for_replace_ratio</th>\n",
       "      <th>budget_for_replace</th>\n",
       "      <th>year_start_date</th>\n",
       "      <th>main_director</th>\n",
       "      <th>main_genre</th>\n",
       "      <th>support_ratio</th>\n",
       "    </tr>\n",
       "  </thead>\n",
       "  <tbody>\n",
       "    <tr>\n",
       "      <th>1703</th>\n",
       "      <td>Две женщины</td>\n",
       "      <td>111013714</td>\n",
       "      <td>2014-10-02</td>\n",
       "      <td>Художественный</td>\n",
       "      <td>ООО \"Продюсерский Центр \"Хорошо Продакшн\", Rez...</td>\n",
       "      <td>Россия, Франция, Латвия</td>\n",
       "      <td>В.Глаголева</td>\n",
       "      <td>Н.Иванова</td>\n",
       "      <td>12+</td>\n",
       "      <td>0.0</td>\n",
       "      <td>...</td>\n",
       "      <td>Министерство культуры, Фонд кино</td>\n",
       "      <td>6.7</td>\n",
       "      <td>драма</td>\n",
       "      <td>4,731,239.5</td>\n",
       "      <td>106,165,688.0</td>\n",
       "      <td>84,992,905.0</td>\n",
       "      <td>2014</td>\n",
       "      <td>В.Глаголева</td>\n",
       "      <td>драма</td>\n",
       "      <td>0.5</td>\n",
       "    </tr>\n",
       "    <tr>\n",
       "      <th>3144</th>\n",
       "      <td>Ура! Каникулы!</td>\n",
       "      <td>111009916</td>\n",
       "      <td>2016-06-09</td>\n",
       "      <td>Художественный</td>\n",
       "      <td>ООО \"Бармалей - Фильм\"</td>\n",
       "      <td>Россия</td>\n",
       "      <td>М.Демченко</td>\n",
       "      <td>С.Снежкин, Н.Горина</td>\n",
       "      <td>6+</td>\n",
       "      <td>0.0</td>\n",
       "      <td>...</td>\n",
       "      <td>Министерство культуры</td>\n",
       "      <td>7.3</td>\n",
       "      <td>детский, приключения, семейный</td>\n",
       "      <td>1,975,132.0</td>\n",
       "      <td>79,905,707.0</td>\n",
       "      <td>73,490,606.0</td>\n",
       "      <td>2016</td>\n",
       "      <td>М.Демченко</td>\n",
       "      <td>детский</td>\n",
       "      <td>0.6</td>\n",
       "    </tr>\n",
       "    <tr>\n",
       "      <th>4916</th>\n",
       "      <td>СОФИЧКА</td>\n",
       "      <td>111007717</td>\n",
       "      <td>2017-11-21</td>\n",
       "      <td>Художественный</td>\n",
       "      <td>Некоммерческий фонд поддержки кинематографа \"П...</td>\n",
       "      <td>Россия</td>\n",
       "      <td>К.Коваленко</td>\n",
       "      <td>Н.Янкин</td>\n",
       "      <td>16+</td>\n",
       "      <td>0.0</td>\n",
       "      <td>...</td>\n",
       "      <td>Министерство культуры</td>\n",
       "      <td>6.7</td>\n",
       "      <td>драма</td>\n",
       "      <td>168,512.0</td>\n",
       "      <td>57,075,505.0</td>\n",
       "      <td>63,490,606.0</td>\n",
       "      <td>2017</td>\n",
       "      <td>К.Коваленко</td>\n",
       "      <td>драма</td>\n",
       "      <td>0.6</td>\n",
       "    </tr>\n",
       "    <tr>\n",
       "      <th>4859</th>\n",
       "      <td>Конверт</td>\n",
       "      <td>111007217</td>\n",
       "      <td>2017-11-30</td>\n",
       "      <td>Художественный</td>\n",
       "      <td>ООО \"РБ ПРОДАКШН\"</td>\n",
       "      <td>Россия</td>\n",
       "      <td>В.Марков</td>\n",
       "      <td>К.Буслов</td>\n",
       "      <td>16+</td>\n",
       "      <td>5,000,000.0</td>\n",
       "      <td>...</td>\n",
       "      <td>Фонд кино</td>\n",
       "      <td>5.6</td>\n",
       "      <td>триллер, ужасы</td>\n",
       "      <td>7,189,790.0</td>\n",
       "      <td>79,905,707.0</td>\n",
       "      <td>73,490,606.0</td>\n",
       "      <td>2017</td>\n",
       "      <td>В.Марков</td>\n",
       "      <td>триллер</td>\n",
       "      <td>0.5</td>\n",
       "    </tr>\n",
       "    <tr>\n",
       "      <th>3322</th>\n",
       "      <td>Все о мужчинах</td>\n",
       "      <td>111012716</td>\n",
       "      <td>2016-08-17</td>\n",
       "      <td>Художественный</td>\n",
       "      <td>ООО \"Фреш-Фильм\", ООО \"Энджой мувиз\"</td>\n",
       "      <td>Россия</td>\n",
       "      <td>Л.Марголин, С.Андреасян, М.Жерневский</td>\n",
       "      <td>С.Андреасян, Г.Андреасян, А.Ананикян, М.Галуст...</td>\n",
       "      <td>16+</td>\n",
       "      <td>10,000,000.0</td>\n",
       "      <td>...</td>\n",
       "      <td>Фонд кино</td>\n",
       "      <td>4.9</td>\n",
       "      <td>комедия</td>\n",
       "      <td>62,260,863.6</td>\n",
       "      <td>45,660,404.0</td>\n",
       "      <td>58,490,606.0</td>\n",
       "      <td>2016</td>\n",
       "      <td>Л.Марголин</td>\n",
       "      <td>комедия</td>\n",
       "      <td>0.6</td>\n",
       "    </tr>\n",
       "  </tbody>\n",
       "</table>\n",
       "<p>5 rows × 22 columns</p>\n",
       "</div>"
      ],
      "text/plain": [
       "               title  pu_number show_start_date            type  \\\n",
       "1703     Две женщины  111013714      2014-10-02  Художественный   \n",
       "3144  Ура! Каникулы!  111009916      2016-06-09  Художественный   \n",
       "4916         СОФИЧКА  111007717      2017-11-21  Художественный   \n",
       "4859         Конверт  111007217      2017-11-30  Художественный   \n",
       "3322  Все о мужчинах  111012716      2016-08-17  Художественный   \n",
       "\n",
       "                                            film_studio  \\\n",
       "1703  ООО \"Продюсерский Центр \"Хорошо Продакшн\", Rez...   \n",
       "3144                             ООО \"Бармалей - Фильм\"   \n",
       "4916  Некоммерческий фонд поддержки кинематографа \"П...   \n",
       "4859                                  ООО \"РБ ПРОДАКШН\"   \n",
       "3322               ООО \"Фреш-Фильм\", ООО \"Энджой мувиз\"   \n",
       "\n",
       "           production_country                               director  \\\n",
       "1703  Россия, Франция, Латвия                            В.Глаголева   \n",
       "3144                   Россия                             М.Демченко   \n",
       "4916                   Россия                            К.Коваленко   \n",
       "4859                   Россия                               В.Марков   \n",
       "3322                   Россия  Л.Марголин, С.Андреасян, М.Жерневский   \n",
       "\n",
       "                                               producer age_restriction  \\\n",
       "1703                                          Н.Иванова             12+   \n",
       "3144                                С.Снежкин, Н.Горина              6+   \n",
       "4916                                            Н.Янкин             16+   \n",
       "4859                                           К.Буслов             16+   \n",
       "3322  С.Андреасян, Г.Андреасян, А.Ананикян, М.Галуст...             16+   \n",
       "\n",
       "      refundable_support  ...                  financing_source  ratings  \\\n",
       "1703                 0.0  ...  Министерство культуры, Фонд кино      6.7   \n",
       "3144                 0.0  ...             Министерство культуры      7.3   \n",
       "4916                 0.0  ...             Министерство культуры      6.7   \n",
       "4859         5,000,000.0  ...                         Фонд кино      5.6   \n",
       "3322        10,000,000.0  ...                         Фонд кино      4.9   \n",
       "\n",
       "                              genres   box_office budget_for_replace_ratio  \\\n",
       "1703                           драма  4,731,239.5            106,165,688.0   \n",
       "3144  детский, приключения, семейный  1,975,132.0             79,905,707.0   \n",
       "4916                           драма    168,512.0             57,075,505.0   \n",
       "4859                  триллер, ужасы  7,189,790.0             79,905,707.0   \n",
       "3322                         комедия 62,260,863.6             45,660,404.0   \n",
       "\n",
       "      budget_for_replace  year_start_date  main_director  main_genre  \\\n",
       "1703        84,992,905.0             2014    В.Глаголева       драма   \n",
       "3144        73,490,606.0             2016     М.Демченко     детский   \n",
       "4916        63,490,606.0             2017    К.Коваленко       драма   \n",
       "4859        73,490,606.0             2017       В.Марков     триллер   \n",
       "3322        58,490,606.0             2016     Л.Марголин     комедия   \n",
       "\n",
       "     support_ratio  \n",
       "1703           0.5  \n",
       "3144           0.6  \n",
       "4916           0.6  \n",
       "4859           0.5  \n",
       "3322           0.6  \n",
       "\n",
       "[5 rows x 22 columns]"
      ]
     },
     "execution_count": 44,
     "metadata": {},
     "output_type": "execute_result"
    }
   ],
   "source": [
    "df[df.support_ratio.notna()].sample(5)"
   ]
  },
  {
   "cell_type": "markdown",
   "metadata": {
    "id": "6t4EukPLgFyV"
   },
   "source": [
    "## Исследовательский анализ данных\n"
   ]
  },
  {
   "cell_type": "markdown",
   "metadata": {
    "id": "vAH8WCzugFyV"
   },
   "source": [
    "Посмотрим, сколько фильмов выходило в прокат каждый год. Посчитаем, какую долю составляют фильмы с указанной информацией о прокате в кинотеатрах."
   ]
  },
  {
   "cell_type": "code",
   "execution_count": 45,
   "metadata": {
    "id": "ABeV47y7gFyW",
    "scrolled": true
   },
   "outputs": [
    {
     "data": {
      "image/png": "[encoded data removed]",
      "text/plain": [
       "<Figure size 432x288 with 1 Axes>"
      ]
     },
     "metadata": {
      "needs_background": "light"
     },
     "output_type": "display_data"
    }
   ],
   "source": [
    "pd.pivot_table(df,\n",
    "               index='year_start_date',\n",
    "               values='box_office',\n",
    "               aggfunc='count').plot(kind='bar', title='Количество фильмов по годам', rot='45');"
   ]
  },
  {
   "cell_type": "code",
   "execution_count": 46,
   "metadata": {},
   "outputs": [
    {
     "name": "stdout",
     "output_type": "stream",
     "text": [
      "Доля фильмов с информацией о прокате составляет 44.6%\n"
     ]
    }
   ],
   "source": [
    "print(f'Доля фильмов с информацией о прокате составляет {df.box_office.notna().mean():.1%}')"
   ]
  },
  {
   "cell_type": "markdown",
   "metadata": {
    "id": "BEOdcIrIgFyW"
   },
   "source": [
    "Изучим, как менялась динамика проката по годам."
   ]
  },
  {
   "cell_type": "code",
   "execution_count": 47,
   "metadata": {
    "id": "tfEhofYvgFyX",
    "scrolled": true
   },
   "outputs": [
    {
     "data": {
      "image/png": "[encoded data removed]",
      "text/plain": [
       "<Figure size 432x288 with 1 Axes>"
      ]
     },
     "metadata": {
      "needs_background": "light"
     },
     "output_type": "display_data"
    }
   ],
   "source": [
    "pd.pivot_table(df, index='year_start_date', values='box_office', aggfunc='sum').plot(title='Сборы фильмов по годам');"
   ]
  },
  {
   "cell_type": "markdown",
   "metadata": {},
   "source": [
    "В 2010 вышло меньше всего фильмов, в а 2017 больше всего."
   ]
  },
  {
   "cell_type": "markdown",
   "metadata": {
    "id": "G-7qS-N-gFyY"
   },
   "source": [
    "- С помощью сводной таблицы посчитаем среднюю и медианную сумму сборов для каждого года."
   ]
  },
  {
   "cell_type": "code",
   "execution_count": 48,
   "metadata": {
    "id": "jmp-rgg9gFyY",
    "scrolled": false
   },
   "outputs": [
    {
     "data": {
      "text/html": [
       "<div>\n",
       "<style scoped>\n",
       "    .dataframe tbody tr th:only-of-type {\n",
       "        vertical-align: middle;\n",
       "    }\n",
       "\n",
       "    .dataframe tbody tr th {\n",
       "        vertical-align: top;\n",
       "    }\n",
       "\n",
       "    .dataframe thead tr th {\n",
       "        text-align: left;\n",
       "    }\n",
       "\n",
       "    .dataframe thead tr:last-of-type th {\n",
       "        text-align: right;\n",
       "    }\n",
       "</style>\n",
       "<table border=\"1\" class=\"dataframe\">\n",
       "  <thead>\n",
       "    <tr>\n",
       "      <th></th>\n",
       "      <th>mean</th>\n",
       "      <th>median</th>\n",
       "    </tr>\n",
       "    <tr>\n",
       "      <th></th>\n",
       "      <th>box_office</th>\n",
       "      <th>box_office</th>\n",
       "    </tr>\n",
       "    <tr>\n",
       "      <th>year_start_date</th>\n",
       "      <th></th>\n",
       "      <th></th>\n",
       "    </tr>\n",
       "  </thead>\n",
       "  <tbody>\n",
       "    <tr>\n",
       "      <th>2010</th>\n",
       "      <td>26,981.1</td>\n",
       "      <td>1,868.0</td>\n",
       "    </tr>\n",
       "    <tr>\n",
       "      <th>2011</th>\n",
       "      <td>142,289.7</td>\n",
       "      <td>3,042.5</td>\n",
       "    </tr>\n",
       "    <tr>\n",
       "      <th>2012</th>\n",
       "      <td>55,733.7</td>\n",
       "      <td>6,692.5</td>\n",
       "    </tr>\n",
       "    <tr>\n",
       "      <th>2013</th>\n",
       "      <td>169,139.4</td>\n",
       "      <td>3,565.0</td>\n",
       "    </tr>\n",
       "    <tr>\n",
       "      <th>2014</th>\n",
       "      <td>28,687,154.0</td>\n",
       "      <td>22,490.0</td>\n",
       "    </tr>\n",
       "    <tr>\n",
       "      <th>2015</th>\n",
       "      <td>74,442,343.1</td>\n",
       "      <td>4,327,265.7</td>\n",
       "    </tr>\n",
       "    <tr>\n",
       "      <th>2016</th>\n",
       "      <td>87,288,312.8</td>\n",
       "      <td>3,640,802.3</td>\n",
       "    </tr>\n",
       "    <tr>\n",
       "      <th>2017</th>\n",
       "      <td>136,408,860.3</td>\n",
       "      <td>10,177,833.5</td>\n",
       "    </tr>\n",
       "    <tr>\n",
       "      <th>2018</th>\n",
       "      <td>101,633,460.9</td>\n",
       "      <td>8,821,499.0</td>\n",
       "    </tr>\n",
       "    <tr>\n",
       "      <th>2019</th>\n",
       "      <td>92,738,314.8</td>\n",
       "      <td>4,774,520.5</td>\n",
       "    </tr>\n",
       "  </tbody>\n",
       "</table>\n",
       "</div>"
      ],
      "text/plain": [
       "                         mean       median\n",
       "                   box_office   box_office\n",
       "year_start_date                           \n",
       "2010                 26,981.1      1,868.0\n",
       "2011                142,289.7      3,042.5\n",
       "2012                 55,733.7      6,692.5\n",
       "2013                169,139.4      3,565.0\n",
       "2014             28,687,154.0     22,490.0\n",
       "2015             74,442,343.1  4,327,265.7\n",
       "2016             87,288,312.8  3,640,802.3\n",
       "2017            136,408,860.3 10,177,833.5\n",
       "2018            101,633,460.9  8,821,499.0\n",
       "2019             92,738,314.8  4,774,520.5"
      ]
     },
     "execution_count": 48,
     "metadata": {},
     "output_type": "execute_result"
    }
   ],
   "source": [
    "pd.pivot_table(df, index='year_start_date', values='box_office', aggfunc=['mean', 'median'])"
   ]
  },
  {
   "cell_type": "markdown",
   "metadata": {},
   "source": [
    "То что медиана и среднее так сильно различаются говорит о том, что в данных есть выбросы. В нашем случае это означает, что в выборке есть фильмы, сборы которых сильно отличаюся от медианного значения. И так как медиана намного меньше среднего, можно сделать преположение, что в данных много нулевых значений. Гистограмма ниже это подтверждает."
   ]
  },
  {
   "cell_type": "code",
   "execution_count": 49,
   "metadata": {},
   "outputs": [
    {
     "data": {
      "image/png": "[encoded data removed]",
      "text/plain": [
       "<Figure size 432x288 with 1 Axes>"
      ]
     },
     "metadata": {
      "needs_background": "light"
     },
     "output_type": "display_data"
    }
   ],
   "source": [
    "df.box_office.plot(kind='hist', bins=100);"
   ]
  },
  {
   "cell_type": "markdown",
   "metadata": {
    "id": "Ok89WFwJgFyZ"
   },
   "source": [
    "- Определим, влияет ли возрастное ограничение аудитории на сборы фильма в прокате в период с 2015 по 2019 год?"
   ]
  },
  {
   "cell_type": "code",
   "execution_count": 50,
   "metadata": {
    "id": "jsSbEqfjgFya",
    "scrolled": false
   },
   "outputs": [
    {
     "data": {
      "image/png": "[encoded data removed]",
      "text/plain": [
       "<Figure size 432x288 with 1 Axes>"
      ]
     },
     "metadata": {
      "needs_background": "light"
     },
     "output_type": "display_data"
    }
   ],
   "source": [
    "pd.pivot_table(df.query('year_start_date >= 2015'), index='age_restriction', values='box_office', aggfunc='sum').plot(kind='bar');"
   ]
  },
  {
   "cell_type": "markdown",
   "metadata": {},
   "source": [
    "Фильмы с рейтингом \"16+\" собрали больше всего денег в прокате, а фильмы с рейтингом \"0+\" меньше всего."
   ]
  },
  {
   "cell_type": "markdown",
   "metadata": {},
   "source": [
    "- Посмотрим на динамику сборов по годам для фильмов с разными возрастными ограничениями."
   ]
  },
  {
   "cell_type": "code",
   "execution_count": 51,
   "metadata": {},
   "outputs": [
    {
     "data": {
      "image/png": "[encoded data removed]",
      "text/plain": [
       "<Figure size 720x360 with 1 Axes>"
      ]
     },
     "metadata": {
      "needs_background": "light"
     },
     "output_type": "display_data"
    }
   ],
   "source": [
    "pd.pivot_table(df.query('year_start_date >= 2015'),\n",
    "               index='year_start_date',\n",
    "               columns='age_restriction',\n",
    "               values='box_office',\n",
    "               aggfunc='sum').plot(rot='45', figsize=(10, 5));"
   ]
  },
  {
   "cell_type": "markdown",
   "metadata": {},
   "source": [
    "- Видно что фильмы '16+' практически всегда собирали больше денег. Но с 2017 года начался спад сборов для этой категории;\n",
    "- В это же время начался подъем фильмов '12+'; \n",
    "- Фильмы '0+' собирали меньше остальных фильмов с 2015 по 2019 года;\n",
    "- Фильмы '18+' хоть и обгоняют фильмы '0+', но стабильно ниже фильмов '16+' и '12+'.\n",
    "\n",
    "\n"
   ]
  },
  {
   "cell_type": "markdown",
   "metadata": {
    "id": "l_Kg6Ku4gFya"
   },
   "source": [
    "### Исследуем фильмы, которые получили государственную поддержку"
   ]
  },
  {
   "cell_type": "code",
   "execution_count": 52,
   "metadata": {
    "id": "W9QKpjUdgFyb"
   },
   "outputs": [
    {
     "data": {
      "text/html": [
       "<div>\n",
       "<style scoped>\n",
       "    .dataframe tbody tr th:only-of-type {\n",
       "        vertical-align: middle;\n",
       "    }\n",
       "\n",
       "    .dataframe tbody tr th {\n",
       "        vertical-align: top;\n",
       "    }\n",
       "\n",
       "    .dataframe thead th {\n",
       "        text-align: right;\n",
       "    }\n",
       "</style>\n",
       "<table border=\"1\" class=\"dataframe\">\n",
       "  <thead>\n",
       "    <tr style=\"text-align: right;\">\n",
       "      <th></th>\n",
       "      <th>title</th>\n",
       "      <th>pu_number</th>\n",
       "      <th>show_start_date</th>\n",
       "      <th>type</th>\n",
       "      <th>film_studio</th>\n",
       "      <th>production_country</th>\n",
       "      <th>director</th>\n",
       "      <th>producer</th>\n",
       "      <th>age_restriction</th>\n",
       "      <th>refundable_support</th>\n",
       "      <th>...</th>\n",
       "      <th>financing_source</th>\n",
       "      <th>ratings</th>\n",
       "      <th>genres</th>\n",
       "      <th>box_office</th>\n",
       "      <th>budget_for_replace_ratio</th>\n",
       "      <th>budget_for_replace</th>\n",
       "      <th>year_start_date</th>\n",
       "      <th>main_director</th>\n",
       "      <th>main_genre</th>\n",
       "      <th>support_ratio</th>\n",
       "    </tr>\n",
       "  </thead>\n",
       "  <tbody>\n",
       "    <tr>\n",
       "      <th>2321</th>\n",
       "      <td>Зеленая Карета</td>\n",
       "      <td>111009715</td>\n",
       "      <td>2015-06-01</td>\n",
       "      <td>Художественный</td>\n",
       "      <td>ООО \"Пропеллер продакшн\", ООО \"Революция Фильм...</td>\n",
       "      <td>Россия</td>\n",
       "      <td>С.Комаров, О.Асадулин</td>\n",
       "      <td>Р.Давлетьяров, А.Алькема, Г.Подземельный, В.Ма...</td>\n",
       "      <td>16+</td>\n",
       "      <td>0.0</td>\n",
       "      <td>...</td>\n",
       "      <td>Министерство культуры</td>\n",
       "      <td>6.6</td>\n",
       "      <td>драма</td>\n",
       "      <td>2,325,871.1</td>\n",
       "      <td>61,527,394.4</td>\n",
       "      <td>65,440,606.0</td>\n",
       "      <td>2015</td>\n",
       "      <td>С.Комаров</td>\n",
       "      <td>драма</td>\n",
       "      <td>0.7</td>\n",
       "    </tr>\n",
       "    <tr>\n",
       "      <th>1733</th>\n",
       "      <td>Призрак_.</td>\n",
       "      <td>111001815</td>\n",
       "      <td>2015-03-02</td>\n",
       "      <td>Художественный</td>\n",
       "      <td>ООО \"Водород 2011\"</td>\n",
       "      <td>Россия</td>\n",
       "      <td>А.Войтинский</td>\n",
       "      <td>С.Сельянов</td>\n",
       "      <td>6+</td>\n",
       "      <td>0.0</td>\n",
       "      <td>...</td>\n",
       "      <td>Фонд кино</td>\n",
       "      <td>7.0</td>\n",
       "      <td>триллер, боевик, приключения</td>\n",
       "      <td>352,804,320.4</td>\n",
       "      <td>171,226,515.0</td>\n",
       "      <td>113,490,606.0</td>\n",
       "      <td>2015</td>\n",
       "      <td>А.Войтинский</td>\n",
       "      <td>триллер</td>\n",
       "      <td>0.5</td>\n",
       "    </tr>\n",
       "    <tr>\n",
       "      <th>1829</th>\n",
       "      <td>Снежная Королева 2: Перезаморозка</td>\n",
       "      <td>114000214</td>\n",
       "      <td>2014-11-13</td>\n",
       "      <td>Анимационный</td>\n",
       "      <td>ООО \"ВИЗАРТ ФИЛЬМ\"</td>\n",
       "      <td>Россия</td>\n",
       "      <td>А.Цицилин</td>\n",
       "      <td>ООО \"ВИЗАРТ ФИЛЬМ\", ООО \"ТаББаК\"</td>\n",
       "      <td>0+</td>\n",
       "      <td>30,000,000.0</td>\n",
       "      <td>...</td>\n",
       "      <td>Фонд кино</td>\n",
       "      <td>6.5</td>\n",
       "      <td>мультфильм, фэнтези, приключения</td>\n",
       "      <td>313,489,846.5</td>\n",
       "      <td>159,811,414.0</td>\n",
       "      <td>108,490,606.0</td>\n",
       "      <td>2014</td>\n",
       "      <td>А.Цицилин</td>\n",
       "      <td>мультфильм</td>\n",
       "      <td>0.3</td>\n",
       "    </tr>\n",
       "    <tr>\n",
       "      <th>1908</th>\n",
       "      <td>Батальонъ</td>\n",
       "      <td>111000715</td>\n",
       "      <td>2015-01-29</td>\n",
       "      <td>Художественный</td>\n",
       "      <td>ООО \"Корнер Ворк\", ООО \"Арт Пикчерс Студия\"</td>\n",
       "      <td>Россия</td>\n",
       "      <td>Д.Месхиев</td>\n",
       "      <td>И.Угольников</td>\n",
       "      <td>12+</td>\n",
       "      <td>0.0</td>\n",
       "      <td>...</td>\n",
       "      <td>Министерство культуры, Фонд кино</td>\n",
       "      <td>7.1</td>\n",
       "      <td>драма, военный, история</td>\n",
       "      <td>451,812,221.7</td>\n",
       "      <td>129,171,125.5</td>\n",
       "      <td>95,069,661.0</td>\n",
       "      <td>2015</td>\n",
       "      <td>Д.Месхиев</td>\n",
       "      <td>драма</td>\n",
       "      <td>0.1</td>\n",
       "    </tr>\n",
       "    <tr>\n",
       "      <th>2649</th>\n",
       "      <td>Преображение (2015)</td>\n",
       "      <td>111007016</td>\n",
       "      <td>2016-04-08</td>\n",
       "      <td>Художественный</td>\n",
       "      <td>ООО \"АБС\"</td>\n",
       "      <td>Россия</td>\n",
       "      <td>Т.Воронецкая, Д.Сергин</td>\n",
       "      <td>Е.Белова</td>\n",
       "      <td>16+</td>\n",
       "      <td>0.0</td>\n",
       "      <td>...</td>\n",
       "      <td>Министерство культуры</td>\n",
       "      <td>5.7</td>\n",
       "      <td>ужасы</td>\n",
       "      <td>56,800.0</td>\n",
       "      <td>59,358,525.2</td>\n",
       "      <td>64,490,606.0</td>\n",
       "      <td>2016</td>\n",
       "      <td>Т.Воронецкая</td>\n",
       "      <td>ужасы</td>\n",
       "      <td>0.7</td>\n",
       "    </tr>\n",
       "  </tbody>\n",
       "</table>\n",
       "<p>5 rows × 22 columns</p>\n",
       "</div>"
      ],
      "text/plain": [
       "                                  title  pu_number show_start_date  \\\n",
       "2321                     Зеленая Карета  111009715      2015-06-01   \n",
       "1733                          Призрак_.  111001815      2015-03-02   \n",
       "1829  Снежная Королева 2: Перезаморозка  114000214      2014-11-13   \n",
       "1908                          Батальонъ  111000715      2015-01-29   \n",
       "2649                Преображение (2015)  111007016      2016-04-08   \n",
       "\n",
       "                type                                        film_studio  \\\n",
       "2321  Художественный  ООО \"Пропеллер продакшн\", ООО \"Революция Фильм...   \n",
       "1733  Художественный                                 ООО \"Водород 2011\"   \n",
       "1829    Анимационный                                 ООО \"ВИЗАРТ ФИЛЬМ\"   \n",
       "1908  Художественный        ООО \"Корнер Ворк\", ООО \"Арт Пикчерс Студия\"   \n",
       "2649  Художественный                                          ООО \"АБС\"   \n",
       "\n",
       "     production_country                director  \\\n",
       "2321             Россия   С.Комаров, О.Асадулин   \n",
       "1733             Россия            А.Войтинский   \n",
       "1829             Россия               А.Цицилин   \n",
       "1908             Россия               Д.Месхиев   \n",
       "2649             Россия  Т.Воронецкая, Д.Сергин   \n",
       "\n",
       "                                               producer age_restriction  \\\n",
       "2321  Р.Давлетьяров, А.Алькема, Г.Подземельный, В.Ма...             16+   \n",
       "1733                                         С.Сельянов              6+   \n",
       "1829                   ООО \"ВИЗАРТ ФИЛЬМ\", ООО \"ТаББаК\"              0+   \n",
       "1908                                       И.Угольников             12+   \n",
       "2649                                           Е.Белова             16+   \n",
       "\n",
       "      refundable_support  ...                  financing_source  ratings  \\\n",
       "2321                 0.0  ...             Министерство культуры      6.6   \n",
       "1733                 0.0  ...                         Фонд кино      7.0   \n",
       "1829        30,000,000.0  ...                         Фонд кино      6.5   \n",
       "1908                 0.0  ...  Министерство культуры, Фонд кино      7.1   \n",
       "2649                 0.0  ...             Министерство культуры      5.7   \n",
       "\n",
       "                                genres    box_office budget_for_replace_ratio  \\\n",
       "2321                             драма   2,325,871.1             61,527,394.4   \n",
       "1733      триллер, боевик, приключения 352,804,320.4            171,226,515.0   \n",
       "1829  мультфильм, фэнтези, приключения 313,489,846.5            159,811,414.0   \n",
       "1908           драма, военный, история 451,812,221.7            129,171,125.5   \n",
       "2649                             ужасы      56,800.0             59,358,525.2   \n",
       "\n",
       "      budget_for_replace  year_start_date  main_director  main_genre  \\\n",
       "2321        65,440,606.0             2015      С.Комаров       драма   \n",
       "1733       113,490,606.0             2015   А.Войтинский     триллер   \n",
       "1829       108,490,606.0             2014      А.Цицилин  мультфильм   \n",
       "1908        95,069,661.0             2015      Д.Месхиев       драма   \n",
       "2649        64,490,606.0             2016   Т.Воронецкая       ужасы   \n",
       "\n",
       "     support_ratio  \n",
       "2321           0.7  \n",
       "1733           0.5  \n",
       "1829           0.3  \n",
       "1908           0.1  \n",
       "2649           0.7  \n",
       "\n",
       "[5 rows x 22 columns]"
      ]
     },
     "execution_count": 52,
     "metadata": {},
     "output_type": "execute_result"
    }
   ],
   "source": [
    "df_with_support = df[df.financing_source.notna()]\n",
    "df_with_support.sample(5)"
   ]
  },
  {
   "cell_type": "markdown",
   "metadata": {},
   "source": [
    "### Исследуем как источник финансирования влияет на показатели"
   ]
  },
  {
   "cell_type": "code",
   "execution_count": 53,
   "metadata": {
    "scrolled": false
   },
   "outputs": [
    {
     "data": {
      "text/html": [
       "<div>\n",
       "<style scoped>\n",
       "    .dataframe tbody tr th:only-of-type {\n",
       "        vertical-align: middle;\n",
       "    }\n",
       "\n",
       "    .dataframe tbody tr th {\n",
       "        vertical-align: top;\n",
       "    }\n",
       "\n",
       "    .dataframe thead th {\n",
       "        text-align: right;\n",
       "    }\n",
       "</style>\n",
       "<table border=\"1\" class=\"dataframe\">\n",
       "  <thead>\n",
       "    <tr style=\"text-align: right;\">\n",
       "      <th></th>\n",
       "      <th>title</th>\n",
       "    </tr>\n",
       "    <tr>\n",
       "      <th>financing_source</th>\n",
       "      <th></th>\n",
       "    </tr>\n",
       "  </thead>\n",
       "  <tbody>\n",
       "    <tr>\n",
       "      <th>Министерство культуры</th>\n",
       "      <td>163</td>\n",
       "    </tr>\n",
       "    <tr>\n",
       "      <th>Министерство культуры, Фонд кино</th>\n",
       "      <td>22</td>\n",
       "    </tr>\n",
       "    <tr>\n",
       "      <th>Фонд кино</th>\n",
       "      <td>144</td>\n",
       "    </tr>\n",
       "  </tbody>\n",
       "</table>\n",
       "</div>"
      ],
      "text/plain": [
       "                                  title\n",
       "financing_source                       \n",
       "Министерство культуры               163\n",
       "Министерство культуры, Фонд кино     22\n",
       "Фонд кино                           144"
      ]
     },
     "execution_count": 53,
     "metadata": {},
     "output_type": "execute_result"
    }
   ],
   "source": [
    "pd.pivot_table(df_with_support, index='financing_source', values='title', aggfunc='count')"
   ]
  },
  {
   "cell_type": "markdown",
   "metadata": {},
   "source": [
    "- Фонд кино и минкульт практически в одинаковом объеме финансируют фильмы."
   ]
  },
  {
   "cell_type": "code",
   "execution_count": 54,
   "metadata": {
    "scrolled": true
   },
   "outputs": [
    {
     "data": {
      "text/html": [
       "<div>\n",
       "<style scoped>\n",
       "    .dataframe tbody tr th:only-of-type {\n",
       "        vertical-align: middle;\n",
       "    }\n",
       "\n",
       "    .dataframe tbody tr th {\n",
       "        vertical-align: top;\n",
       "    }\n",
       "\n",
       "    .dataframe thead tr th {\n",
       "        text-align: left;\n",
       "    }\n",
       "\n",
       "    .dataframe thead tr:last-of-type th {\n",
       "        text-align: right;\n",
       "    }\n",
       "</style>\n",
       "<table border=\"1\" class=\"dataframe\">\n",
       "  <thead>\n",
       "    <tr>\n",
       "      <th></th>\n",
       "      <th colspan=\"2\" halign=\"left\">sum</th>\n",
       "    </tr>\n",
       "    <tr>\n",
       "      <th></th>\n",
       "      <th>nonrefundable_support</th>\n",
       "      <th>refundable_support</th>\n",
       "    </tr>\n",
       "    <tr>\n",
       "      <th>financing_source</th>\n",
       "      <th></th>\n",
       "      <th></th>\n",
       "    </tr>\n",
       "  </thead>\n",
       "  <tbody>\n",
       "    <tr>\n",
       "      <th>Министерство культуры</th>\n",
       "      <td>4,806,661,000.0</td>\n",
       "      <td>0.0</td>\n",
       "    </tr>\n",
       "    <tr>\n",
       "      <th>Министерство культуры, Фонд кино</th>\n",
       "      <td>859,931,354.0</td>\n",
       "      <td>325,500,000.0</td>\n",
       "    </tr>\n",
       "    <tr>\n",
       "      <th>Фонд кино</th>\n",
       "      <td>10,145,095,958.0</td>\n",
       "      <td>3,508,500,000.0</td>\n",
       "    </tr>\n",
       "  </tbody>\n",
       "</table>\n",
       "</div>"
      ],
      "text/plain": [
       "                                                   sum                   \n",
       "                                 nonrefundable_support refundable_support\n",
       "financing_source                                                         \n",
       "Министерство культуры                  4,806,661,000.0                0.0\n",
       "Министерство культуры, Фонд кино         859,931,354.0      325,500,000.0\n",
       "Фонд кино                             10,145,095,958.0    3,508,500,000.0"
      ]
     },
     "execution_count": 54,
     "metadata": {},
     "output_type": "execute_result"
    }
   ],
   "source": [
    "pd.pivot_table(df_with_support,\n",
    "               index='financing_source',\n",
    "               values=['refundable_support', 'nonrefundable_support'],\n",
    "               aggfunc=['sum'])"
   ]
  },
  {
   "cell_type": "markdown",
   "metadata": {},
   "source": [
    "- Оба фонда выделяют больше невозвратных средств, причем Министерство культуры выделяет только невозвратные."
   ]
  },
  {
   "cell_type": "code",
   "execution_count": 55,
   "metadata": {
    "scrolled": true
   },
   "outputs": [
    {
     "data": {
      "text/html": [
       "<div>\n",
       "<style scoped>\n",
       "    .dataframe tbody tr th:only-of-type {\n",
       "        vertical-align: middle;\n",
       "    }\n",
       "\n",
       "    .dataframe tbody tr th {\n",
       "        vertical-align: top;\n",
       "    }\n",
       "\n",
       "    .dataframe thead th {\n",
       "        text-align: right;\n",
       "    }\n",
       "</style>\n",
       "<table border=\"1\" class=\"dataframe\">\n",
       "  <thead>\n",
       "    <tr style=\"text-align: right;\">\n",
       "      <th></th>\n",
       "      <th>support_ratio</th>\n",
       "    </tr>\n",
       "    <tr>\n",
       "      <th>financing_source</th>\n",
       "      <th></th>\n",
       "    </tr>\n",
       "  </thead>\n",
       "  <tbody>\n",
       "    <tr>\n",
       "      <th>Министерство культуры</th>\n",
       "      <td>inf</td>\n",
       "    </tr>\n",
       "    <tr>\n",
       "      <th>Министерство культуры, Фонд кино</th>\n",
       "      <td>inf</td>\n",
       "    </tr>\n",
       "    <tr>\n",
       "      <th>Фонд кино</th>\n",
       "      <td>inf</td>\n",
       "    </tr>\n",
       "  </tbody>\n",
       "</table>\n",
       "</div>"
      ],
      "text/plain": [
       "                                  support_ratio\n",
       "financing_source                               \n",
       "Министерство культуры                       inf\n",
       "Министерство культуры, Фонд кино            inf\n",
       "Фонд кино                                   inf"
      ]
     },
     "execution_count": 55,
     "metadata": {},
     "output_type": "execute_result"
    }
   ],
   "source": [
    "pd.pivot_table(df_with_support, index='financing_source', values='support_ratio', aggfunc='mean')"
   ]
  },
  {
   "cell_type": "markdown",
   "metadata": {},
   "source": [
    "- Доля финансируемых средств составляет половину всего бюджета, причем не важен источник финансирования."
   ]
  },
  {
   "cell_type": "code",
   "execution_count": 56,
   "metadata": {
    "scrolled": true
   },
   "outputs": [
    {
     "data": {
      "text/html": [
       "<div>\n",
       "<style scoped>\n",
       "    .dataframe tbody tr th:only-of-type {\n",
       "        vertical-align: middle;\n",
       "    }\n",
       "\n",
       "    .dataframe tbody tr th {\n",
       "        vertical-align: top;\n",
       "    }\n",
       "\n",
       "    .dataframe thead th {\n",
       "        text-align: right;\n",
       "    }\n",
       "</style>\n",
       "<table border=\"1\" class=\"dataframe\">\n",
       "  <thead>\n",
       "    <tr style=\"text-align: right;\">\n",
       "      <th></th>\n",
       "      <th>ratings</th>\n",
       "    </tr>\n",
       "    <tr>\n",
       "      <th>financing_source</th>\n",
       "      <th></th>\n",
       "    </tr>\n",
       "  </thead>\n",
       "  <tbody>\n",
       "    <tr>\n",
       "      <th>Министерство культуры</th>\n",
       "      <td>6.2</td>\n",
       "    </tr>\n",
       "    <tr>\n",
       "      <th>Министерство культуры, Фонд кино</th>\n",
       "      <td>6.6</td>\n",
       "    </tr>\n",
       "    <tr>\n",
       "      <th>Фонд кино</th>\n",
       "      <td>6.0</td>\n",
       "    </tr>\n",
       "  </tbody>\n",
       "</table>\n",
       "</div>"
      ],
      "text/plain": [
       "                                  ratings\n",
       "financing_source                         \n",
       "Министерство культуры                 6.2\n",
       "Министерство культуры, Фонд кино      6.6\n",
       "Фонд кино                             6.0"
      ]
     },
     "execution_count": 56,
     "metadata": {},
     "output_type": "execute_result"
    }
   ],
   "source": [
    "pd.pivot_table(df_with_support[df_with_support.ratings.notna()],\n",
    "               index='financing_source',\n",
    "               values='ratings', aggfunc='median')"
   ]
  },
  {
   "cell_type": "markdown",
   "metadata": {},
   "source": [
    "- Медиана оценки финансируемых фильмов составляет около 6."
   ]
  },
  {
   "cell_type": "markdown",
   "metadata": {},
   "source": [
    "### Исследуем как жанр влияет на показатели"
   ]
  },
  {
   "cell_type": "code",
   "execution_count": 57,
   "metadata": {
    "scrolled": false
   },
   "outputs": [],
   "source": [
    "pivot_by_genre = pd.pivot_table(df_with_support,\n",
    "                                index='main_genre',\n",
    "                                values=['box_office', 'budget', 'ratings'],\n",
    "                                aggfunc={'box_office':'sum',\n",
    "                                         'budget':'sum',\n",
    "                                         'ratings':'median'})"
   ]
  },
  {
   "cell_type": "markdown",
   "metadata": {},
   "source": [
    "- Посмотрим распределние собранных средств в зависимости от жанра."
   ]
  },
  {
   "cell_type": "code",
   "execution_count": 58,
   "metadata": {
    "scrolled": false
   },
   "outputs": [
    {
     "data": {
      "image/png": "[encoded data removed]",
      "text/plain": [
       "<Figure size 720x360 with 1 Axes>"
      ]
     },
     "metadata": {
      "needs_background": "light"
     },
     "output_type": "display_data"
    }
   ],
   "source": [
    "pivot_by_genre.sort_values(by='box_office', ascending=False).plot(kind='bar', y='box_office', figsize=(10, 5));"
   ]
  },
  {
   "cell_type": "markdown",
   "metadata": {},
   "source": [
    "Больше всего собирают комедии, драмы и мультфильмы."
   ]
  },
  {
   "cell_type": "markdown",
   "metadata": {},
   "source": [
    "- Посмотрим у каких фильмов самый большой бюджет."
   ]
  },
  {
   "cell_type": "code",
   "execution_count": 59,
   "metadata": {
    "scrolled": false
   },
   "outputs": [
    {
     "data": {
      "image/png": "[encoded data removed]",
      "text/plain": [
       "<Figure size 720x360 with 1 Axes>"
      ]
     },
     "metadata": {
      "needs_background": "light"
     },
     "output_type": "display_data"
    }
   ],
   "source": [
    "pivot_by_genre.sort_values(by='budget', ascending=False).plot(kind='bar', y='budget', figsize=(10, 5));"
   ]
  },
  {
   "cell_type": "markdown",
   "metadata": {},
   "source": [
    "На драмы выделяют больше всего денег."
   ]
  },
  {
   "cell_type": "markdown",
   "metadata": {},
   "source": [
    "- Посмотрим как зависит рейтинг от жанра."
   ]
  },
  {
   "cell_type": "code",
   "execution_count": 60,
   "metadata": {},
   "outputs": [
    {
     "data": {
      "image/png": "[encoded data removed]",
      "text/plain": [
       "<Figure size 720x360 with 1 Axes>"
      ]
     },
     "metadata": {
      "needs_background": "light"
     },
     "output_type": "display_data"
    }
   ],
   "source": [
    "pivot_by_genre.sort_values(by='ratings', ascending=False).plot(kind='bar', y='ratings', figsize=(10, 5));"
   ]
  },
  {
   "cell_type": "markdown",
   "metadata": {},
   "source": [
    "Криминальные фильмы оценивают выше других."
   ]
  },
  {
   "cell_type": "markdown",
   "metadata": {},
   "source": [
    "### Исследуем фильмы, которыe окупились в прокате"
   ]
  },
  {
   "cell_type": "markdown",
   "metadata": {},
   "source": [
    "- Посмотрим сколько фильмов окупилось."
   ]
  },
  {
   "cell_type": "code",
   "execution_count": 61,
   "metadata": {
    "scrolled": false
   },
   "outputs": [
    {
     "data": {
      "text/plain": [
       "83"
      ]
     },
     "execution_count": 61,
     "metadata": {},
     "output_type": "execute_result"
    }
   ],
   "source": [
    "len(df_with_support.query('box_office >= budget'))"
   ]
  },
  {
   "cell_type": "code",
   "execution_count": 62,
   "metadata": {},
   "outputs": [],
   "source": [
    "payback_films = pd.pivot_table(df_with_support.\n",
    "                                  query('box_office >= budget'),\n",
    "                                  index='main_genre',\n",
    "                                  values=['title', 'box_office', 'ratings'],\n",
    "                                  aggfunc={'title':'count', 'box_office':'median', 'ratings':'median'})"
   ]
  },
  {
   "cell_type": "markdown",
   "metadata": {},
   "source": [
    "- Посмотри, какие жанры чаще всего окупаются."
   ]
  },
  {
   "cell_type": "code",
   "execution_count": 63,
   "metadata": {},
   "outputs": [
    {
     "data": {
      "image/png": "[encoded data removed]",
      "text/plain": [
       "<Figure size 720x360 with 1 Axes>"
      ]
     },
     "metadata": {
      "needs_background": "light"
     },
     "output_type": "display_data"
    }
   ],
   "source": [
    "payback_films.sort_values(by='title', ascending=False).plot(kind='bar', y='title', figsize=(10, 5));"
   ]
  },
  {
   "cell_type": "markdown",
   "metadata": {},
   "source": [
    "Чаще всего окупаются комедии, дальше располагаются драмы, за ними мультфильмы."
   ]
  },
  {
   "cell_type": "markdown",
   "metadata": {},
   "source": [
    "- Посмотрим, как рейтинг зависит от жанра."
   ]
  },
  {
   "cell_type": "code",
   "execution_count": 64,
   "metadata": {},
   "outputs": [
    {
     "data": {
      "image/png": "[encoded data removed]",
      "text/plain": [
       "<Figure size 720x360 with 1 Axes>"
      ]
     },
     "metadata": {
      "needs_background": "light"
     },
     "output_type": "display_data"
    }
   ],
   "source": [
    "payback_films.sort_values(by='ratings', ascending=False).plot(kind='bar', y='ratings', figsize=(10, 5));"
   ]
  },
  {
   "cell_type": "markdown",
   "metadata": {},
   "source": [
    "Боевики, биографию, спорт и приключения оценивают выше других жанров."
   ]
  },
  {
   "cell_type": "markdown",
   "metadata": {},
   "source": [
    "- Посмотрим, какие жанры собирают больше всего денег в прокате."
   ]
  },
  {
   "cell_type": "code",
   "execution_count": 65,
   "metadata": {},
   "outputs": [
    {
     "data": {
      "image/png": "[encoded data removed]",
      "text/plain": [
       "<Figure size 720x360 with 1 Axes>"
      ]
     },
     "metadata": {
      "needs_background": "light"
     },
     "output_type": "display_data"
    }
   ],
   "source": [
    "payback_films.sort_values(by='box_office', ascending=False).plot(kind='bar', y='box_office', figsize=(10, 5));"
   ]
  },
  {
   "cell_type": "markdown",
   "metadata": {},
   "source": [
    "Спортивные фильмы собирают больше остальных."
   ]
  },
  {
   "cell_type": "markdown",
   "metadata": {
    "id": "V2gYwMcPgFyd"
   },
   "source": [
    "## Общий вывод"
   ]
  },
  {
   "cell_type": "markdown",
   "metadata": {},
   "source": [
    "В ходе исследования мы изучили рынок российского кинопроката и посторались выявить текущие тренды. Особое внимание было уделено фильмам, получившим государственную поддержку.\n",
    "\n",
    "Вот, что удалось выяснить:\n",
    "1. С каждым годом количество фильмов, которые выходят в кинопрокат растет за исключением 2017 года;\n",
    "\n",
    "\n",
    "2. До 2013 года динамика роста сборов была не такая внушительная - всего 29 млн. рублей за 2013 год. Но уже в 2014 году сборы составили 7 млрд., а в 2015 уже 32 млрд. рублей, что очень впечатляет. После 2014 года рост значительно замедлился;\n",
    "\n",
    "\n",
    "3. Больше всего собирают фильмы с рейтингом '16+' в период с 2014 по 2019 года такие фильмы собрали почти 67 млрд. рублей. Меньше всего собрали фильмы с рейтингом '0+' - всего 703 млн. рублей за аналогичный период;\n",
    "\n",
    "\n",
    "4. Министерство культуры и Фонд кино профинансировали 329 фильмов в период с 2010 по 2019 года, причем только 71 фильм окупился в прокате. И для таких фильмов объем финансируемых средств составляет половину бюджета. Зрители не очень хорошо принимают финансируемые фильмы - серединная оценка таких кинокартин составила около 6 баллов из 10;\n",
    "\n",
    "\n",
    "5. А вот выделяют больше всего денег на драмы (11 млрд. рублей), комедии и пульт (по 6 млрд. рублей);\n",
    "\n",
    "\n",
    "6. Среди финансируемых фильмов чаще всего окупаются комедии - таких фильмов 27, а хуже всего биографии, приключения и фэнтези, таких по одному фильму;\n",
    "\n",
    "\n",
    "7. Зато больше остальных окупившихся фильмов собирают спортивные фильмы - почти 1.5 млрд. рублей.\n"
   ]
  }
 ],
 "metadata": {
  "ExecuteTimeLog": [
   {
    "duration": 537,
    "start_time": "2021-07-07T10:12:08.634Z"
   },
   {
    "duration": 206,
    "start_time": "2021-07-07T10:12:30.191Z"
   },
   {
    "duration": 227,
    "start_time": "2021-07-07T10:12:33.078Z"
   },
   {
    "duration": 153,
    "start_time": "2021-07-07T10:13:42.146Z"
   },
   {
    "duration": 233,
    "start_time": "2021-07-07T10:30:09.252Z"
   },
   {
    "duration": 19,
    "start_time": "2021-07-07T10:30:15.577Z"
   },
   {
    "duration": 18,
    "start_time": "2021-07-07T10:30:57.348Z"
   },
   {
    "duration": 19,
    "start_time": "2021-07-07T10:31:17.452Z"
   },
   {
    "duration": 21,
    "start_time": "2021-07-07T10:31:32.227Z"
   },
   {
    "duration": 27,
    "start_time": "2021-07-07T10:32:06.588Z"
   },
   {
    "duration": 23,
    "start_time": "2021-07-07T10:32:43.645Z"
   },
   {
    "duration": 24,
    "start_time": "2021-07-07T10:33:06.948Z"
   },
   {
    "duration": 7,
    "start_time": "2021-07-07T10:33:28.558Z"
   },
   {
    "duration": 23,
    "start_time": "2021-07-07T10:33:43.761Z"
   },
   {
    "duration": 28,
    "start_time": "2021-07-07T10:34:13.466Z"
   },
   {
    "duration": 23,
    "start_time": "2021-07-07T10:35:56.187Z"
   },
   {
    "duration": 6,
    "start_time": "2021-07-07T10:36:48.182Z"
   },
   {
    "duration": 14,
    "start_time": "2021-07-07T10:37:49.641Z"
   },
   {
    "duration": 6,
    "start_time": "2021-07-07T10:38:06.694Z"
   },
   {
    "duration": 6,
    "start_time": "2021-07-07T10:38:13.493Z"
   },
   {
    "duration": 19,
    "start_time": "2021-07-07T10:38:44.056Z"
   },
   {
    "duration": 186,
    "start_time": "2021-07-07T10:48:35.618Z"
   },
   {
    "duration": 24,
    "start_time": "2021-07-07T10:48:51.498Z"
   },
   {
    "duration": 20,
    "start_time": "2021-07-07T10:48:59.415Z"
   },
   {
    "duration": 20,
    "start_time": "2021-07-07T10:53:02.195Z"
   },
   {
    "duration": 188,
    "start_time": "2021-07-07T10:54:40.486Z"
   },
   {
    "duration": 115,
    "start_time": "2021-07-07T10:54:52.552Z"
   },
   {
    "duration": 214,
    "start_time": "2021-07-07T10:54:56.354Z"
   },
   {
    "duration": 47,
    "start_time": "2021-07-07T10:54:58.282Z"
   },
   {
    "duration": 217,
    "start_time": "2021-07-07T10:59:16.075Z"
   },
   {
    "duration": 51,
    "start_time": "2021-07-07T10:59:16.243Z"
   },
   {
    "duration": 578,
    "start_time": "2021-07-07T10:59:18.774Z"
   },
   {
    "duration": 161,
    "start_time": "2021-07-07T10:59:21.238Z"
   },
   {
    "duration": 59,
    "start_time": "2021-07-07T10:59:21.453Z"
   },
   {
    "duration": 3,
    "start_time": "2021-07-07T11:02:10.786Z"
   },
   {
    "duration": 13,
    "start_time": "2021-07-07T11:07:07.722Z"
   },
   {
    "duration": 26,
    "start_time": "2021-07-07T11:07:17.958Z"
   },
   {
    "duration": 22,
    "start_time": "2021-07-07T11:08:17.939Z"
   },
   {
    "duration": 212,
    "start_time": "2021-07-07T11:08:19.665Z"
   },
   {
    "duration": 21,
    "start_time": "2021-07-07T11:08:29.945Z"
   },
   {
    "duration": 31,
    "start_time": "2021-07-07T11:08:38.899Z"
   },
   {
    "duration": 23,
    "start_time": "2021-07-07T11:08:54.527Z"
   },
   {
    "duration": 8,
    "start_time": "2021-07-07T11:18:55.974Z"
   },
   {
    "duration": 7,
    "start_time": "2021-07-07T11:19:03.639Z"
   },
   {
    "duration": 7,
    "start_time": "2021-07-07T11:19:06.444Z"
   },
   {
    "duration": 578,
    "start_time": "2021-07-07T12:09:59.576Z"
   },
   {
    "duration": 195,
    "start_time": "2021-07-07T12:10:00.156Z"
   },
   {
    "duration": 115,
    "start_time": "2021-07-07T12:10:00.353Z"
   },
   {
    "duration": 3,
    "start_time": "2021-07-07T12:10:00.470Z"
   },
   {
    "duration": 32,
    "start_time": "2021-07-07T12:10:00.474Z"
   },
   {
    "duration": 23,
    "start_time": "2021-07-07T12:10:00.508Z"
   },
   {
    "duration": 19,
    "start_time": "2021-07-07T12:10:00.533Z"
   },
   {
    "duration": 44,
    "start_time": "2021-07-07T12:10:00.553Z"
   },
   {
    "duration": 7,
    "start_time": "2021-07-07T12:10:00.600Z"
   },
   {
    "duration": 7,
    "start_time": "2021-07-07T12:19:45.761Z"
   },
   {
    "duration": 21,
    "start_time": "2021-07-07T12:21:35.482Z"
   },
   {
    "duration": 21,
    "start_time": "2021-07-07T12:29:23.569Z"
   },
   {
    "duration": 525,
    "start_time": "2021-07-07T12:29:44.542Z"
   },
   {
    "duration": 214,
    "start_time": "2021-07-07T12:29:45.069Z"
   },
   {
    "duration": 92,
    "start_time": "2021-07-07T12:29:45.285Z"
   },
   {
    "duration": 3,
    "start_time": "2021-07-07T12:29:45.379Z"
   },
   {
    "duration": 28,
    "start_time": "2021-07-07T12:29:45.384Z"
   },
   {
    "duration": 23,
    "start_time": "2021-07-07T12:29:45.413Z"
   },
   {
    "duration": 21,
    "start_time": "2021-07-07T12:29:45.437Z"
   },
   {
    "duration": 41,
    "start_time": "2021-07-07T12:29:45.460Z"
   },
   {
    "duration": 7,
    "start_time": "2021-07-07T12:29:45.502Z"
   },
   {
    "duration": 20,
    "start_time": "2021-07-07T12:29:45.511Z"
   },
   {
    "duration": 12,
    "start_time": "2021-07-07T12:34:02.800Z"
   },
   {
    "duration": 7,
    "start_time": "2021-07-07T12:35:10.479Z"
   },
   {
    "duration": 8,
    "start_time": "2021-07-07T12:35:22.440Z"
   },
   {
    "duration": 6,
    "start_time": "2021-07-07T12:35:35.649Z"
   },
   {
    "duration": 6,
    "start_time": "2021-07-07T12:35:43.107Z"
   },
   {
    "duration": 22,
    "start_time": "2021-07-07T12:38:03.029Z"
   },
   {
    "duration": 10,
    "start_time": "2021-07-07T12:38:06.592Z"
   },
   {
    "duration": 563,
    "start_time": "2021-07-07T12:38:46.493Z"
   },
   {
    "duration": 265,
    "start_time": "2021-07-07T12:38:47.058Z"
   },
   {
    "duration": 94,
    "start_time": "2021-07-07T12:38:47.325Z"
   },
   {
    "duration": 3,
    "start_time": "2021-07-07T12:38:47.422Z"
   },
   {
    "duration": 30,
    "start_time": "2021-07-07T12:38:47.427Z"
   },
   {
    "duration": 16,
    "start_time": "2021-07-07T12:38:53.305Z"
   },
   {
    "duration": 10,
    "start_time": "2021-07-07T12:38:53.499Z"
   },
   {
    "duration": 8,
    "start_time": "2021-07-07T12:39:48.161Z"
   },
   {
    "duration": 27,
    "start_time": "2021-07-07T12:41:17.629Z"
   },
   {
    "duration": 17,
    "start_time": "2021-07-07T12:41:17.867Z"
   },
   {
    "duration": 21,
    "start_time": "2021-07-07T12:41:19.310Z"
   },
   {
    "duration": 7,
    "start_time": "2021-07-07T12:41:19.544Z"
   },
   {
    "duration": 20,
    "start_time": "2021-07-07T12:41:20.504Z"
   },
   {
    "duration": 554,
    "start_time": "2021-07-07T12:56:23.696Z"
   },
   {
    "duration": 200,
    "start_time": "2021-07-07T12:56:25.234Z"
   },
   {
    "duration": 119,
    "start_time": "2021-07-07T12:56:25.480Z"
   },
   {
    "duration": 4,
    "start_time": "2021-07-07T12:56:25.762Z"
   },
   {
    "duration": 26,
    "start_time": "2021-07-07T12:56:27.172Z"
   },
   {
    "duration": 12,
    "start_time": "2021-07-07T12:56:29.051Z"
   },
   {
    "duration": 10,
    "start_time": "2021-07-07T12:56:29.291Z"
   },
   {
    "duration": 8,
    "start_time": "2021-07-07T12:56:29.623Z"
   },
   {
    "duration": 28,
    "start_time": "2021-07-07T12:56:32.137Z"
   },
   {
    "duration": 19,
    "start_time": "2021-07-07T12:56:39.785Z"
   },
   {
    "duration": 20,
    "start_time": "2021-07-07T12:56:44.297Z"
   },
   {
    "duration": 7,
    "start_time": "2021-07-07T12:56:45.392Z"
   },
   {
    "duration": 23,
    "start_time": "2021-07-07T12:56:46.615Z"
   },
   {
    "duration": 4,
    "start_time": "2021-07-07T12:57:06.625Z"
   },
   {
    "duration": 32,
    "start_time": "2021-07-07T12:57:36.690Z"
   },
   {
    "duration": 18,
    "start_time": "2021-07-07T12:58:00.149Z"
   },
   {
    "duration": 15,
    "start_time": "2021-07-07T12:59:16.793Z"
   },
   {
    "duration": 7,
    "start_time": "2021-07-07T13:19:22.624Z"
   },
   {
    "duration": 6,
    "start_time": "2021-07-07T14:17:33.527Z"
   },
   {
    "duration": 9,
    "start_time": "2021-07-07T14:17:48.409Z"
   },
   {
    "duration": 8,
    "start_time": "2021-07-07T14:20:13.060Z"
   },
   {
    "duration": 8,
    "start_time": "2021-07-07T14:20:37.957Z"
   },
   {
    "duration": 8,
    "start_time": "2021-07-07T14:20:47.470Z"
   },
   {
    "duration": 9,
    "start_time": "2021-07-07T14:20:54.503Z"
   },
   {
    "duration": 10,
    "start_time": "2021-07-07T14:28:57.763Z"
   },
   {
    "duration": 3,
    "start_time": "2021-07-07T14:30:23.377Z"
   },
   {
    "duration": 3,
    "start_time": "2021-07-07T14:30:36.489Z"
   },
   {
    "duration": 103,
    "start_time": "2021-07-07T14:30:52.351Z"
   },
   {
    "duration": 8,
    "start_time": "2021-07-07T14:30:54.763Z"
   },
   {
    "duration": 8,
    "start_time": "2021-07-07T14:31:29.301Z"
   },
   {
    "duration": 13,
    "start_time": "2021-07-07T14:31:44.516Z"
   },
   {
    "duration": 7,
    "start_time": "2021-07-07T14:33:10.972Z"
   },
   {
    "duration": 11,
    "start_time": "2021-07-07T14:33:27.780Z"
   },
   {
    "duration": 8,
    "start_time": "2021-07-07T14:34:44.588Z"
   },
   {
    "duration": 57,
    "start_time": "2021-07-07T14:35:59.042Z"
   },
   {
    "duration": 3,
    "start_time": "2021-07-07T14:36:28.168Z"
   },
   {
    "duration": 5,
    "start_time": "2021-07-07T14:36:46.254Z"
   },
   {
    "duration": 4,
    "start_time": "2021-07-07T14:36:52.714Z"
   },
   {
    "duration": 3,
    "start_time": "2021-07-07T14:36:56.612Z"
   },
   {
    "duration": 4,
    "start_time": "2021-07-07T14:36:57.049Z"
   },
   {
    "duration": 3,
    "start_time": "2021-07-07T14:39:21.214Z"
   },
   {
    "duration": 7,
    "start_time": "2021-07-07T14:39:52.406Z"
   },
   {
    "duration": 11,
    "start_time": "2021-07-07T14:39:58.576Z"
   },
   {
    "duration": 9,
    "start_time": "2021-07-07T14:40:26.301Z"
   },
   {
    "duration": 10,
    "start_time": "2021-07-07T14:40:31.704Z"
   },
   {
    "duration": 11,
    "start_time": "2021-07-07T14:40:36.249Z"
   },
   {
    "duration": 10,
    "start_time": "2021-07-07T14:40:39.783Z"
   },
   {
    "duration": 9,
    "start_time": "2021-07-07T14:40:48.558Z"
   },
   {
    "duration": 10,
    "start_time": "2021-07-07T14:40:57.143Z"
   },
   {
    "duration": 9,
    "start_time": "2021-07-07T14:41:06.074Z"
   },
   {
    "duration": 4324,
    "start_time": "2021-07-07T14:41:22.004Z"
   },
   {
    "duration": 11,
    "start_time": "2021-07-07T14:41:33.392Z"
   },
   {
    "duration": 9,
    "start_time": "2021-07-07T14:41:39.288Z"
   },
   {
    "duration": 569,
    "start_time": "2021-07-07T14:42:14.387Z"
   },
   {
    "duration": 197,
    "start_time": "2021-07-07T14:42:14.959Z"
   },
   {
    "duration": 84,
    "start_time": "2021-07-07T14:42:16.052Z"
   },
   {
    "duration": 4,
    "start_time": "2021-07-07T14:42:16.900Z"
   },
   {
    "duration": 27,
    "start_time": "2021-07-07T14:42:19.898Z"
   },
   {
    "duration": 12,
    "start_time": "2021-07-07T14:42:21.577Z"
   },
   {
    "duration": 9,
    "start_time": "2021-07-07T14:42:21.813Z"
   },
   {
    "duration": 9,
    "start_time": "2021-07-07T14:42:22.569Z"
   },
   {
    "duration": 29,
    "start_time": "2021-07-07T14:42:25.837Z"
   },
   {
    "duration": 20,
    "start_time": "2021-07-07T14:42:27.003Z"
   },
   {
    "duration": 21,
    "start_time": "2021-07-07T14:42:28.767Z"
   },
   {
    "duration": 7,
    "start_time": "2021-07-07T14:42:29.838Z"
   },
   {
    "duration": 4,
    "start_time": "2021-07-07T14:43:25.493Z"
   },
   {
    "duration": 7,
    "start_time": "2021-07-07T14:43:26.573Z"
   },
   {
    "duration": 10,
    "start_time": "2021-07-07T14:43:31.639Z"
   },
   {
    "duration": 9,
    "start_time": "2021-07-07T14:43:32.046Z"
   },
   {
    "duration": 10,
    "start_time": "2021-07-07T14:43:33.301Z"
   },
   {
    "duration": 12,
    "start_time": "2021-07-07T14:43:33.658Z"
   },
   {
    "duration": 8,
    "start_time": "2021-07-07T14:43:34.552Z"
   },
   {
    "duration": 9,
    "start_time": "2021-07-07T14:43:35.058Z"
   },
   {
    "duration": 12,
    "start_time": "2021-07-07T14:43:35.914Z"
   },
   {
    "duration": 17,
    "start_time": "2021-07-07T14:45:34.368Z"
   },
   {
    "duration": 512,
    "start_time": "2021-07-07T14:51:58.236Z"
   },
   {
    "duration": 223,
    "start_time": "2021-07-07T14:51:58.750Z"
   },
   {
    "duration": 93,
    "start_time": "2021-07-07T14:51:58.977Z"
   },
   {
    "duration": 4,
    "start_time": "2021-07-07T14:51:59.071Z"
   },
   {
    "duration": 37,
    "start_time": "2021-07-07T14:51:59.077Z"
   },
   {
    "duration": 18,
    "start_time": "2021-07-07T14:51:59.116Z"
   },
   {
    "duration": 10,
    "start_time": "2021-07-07T14:51:59.137Z"
   },
   {
    "duration": 8,
    "start_time": "2021-07-07T14:51:59.149Z"
   },
   {
    "duration": 54,
    "start_time": "2021-07-07T14:51:59.158Z"
   },
   {
    "duration": 18,
    "start_time": "2021-07-07T14:51:59.213Z"
   },
   {
    "duration": 22,
    "start_time": "2021-07-07T14:51:59.232Z"
   },
   {
    "duration": 36,
    "start_time": "2021-07-07T14:51:59.255Z"
   },
   {
    "duration": 7,
    "start_time": "2021-07-07T14:51:59.293Z"
   },
   {
    "duration": 10,
    "start_time": "2021-07-07T14:51:59.302Z"
   },
   {
    "duration": 9,
    "start_time": "2021-07-07T14:51:59.313Z"
   },
   {
    "duration": 11,
    "start_time": "2021-07-07T14:51:59.324Z"
   },
   {
    "duration": 8,
    "start_time": "2021-07-07T14:51:59.337Z"
   },
   {
    "duration": 46,
    "start_time": "2021-07-07T14:51:59.347Z"
   },
   {
    "duration": 22,
    "start_time": "2021-07-07T14:51:59.395Z"
   },
   {
    "duration": 24,
    "start_time": "2021-07-07T14:57:32.911Z"
   },
   {
    "duration": 7,
    "start_time": "2021-07-07T14:58:22.070Z"
   },
   {
    "duration": 4,
    "start_time": "2021-07-07T14:59:11.239Z"
   },
   {
    "duration": 25,
    "start_time": "2021-07-07T15:07:22.208Z"
   },
   {
    "duration": 16,
    "start_time": "2021-07-07T15:08:25.560Z"
   },
   {
    "duration": 15,
    "start_time": "2021-07-07T15:08:40.647Z"
   },
   {
    "duration": 14,
    "start_time": "2021-07-07T15:08:46.669Z"
   },
   {
    "duration": 533,
    "start_time": "2021-07-07T15:18:07.440Z"
   },
   {
    "duration": 173,
    "start_time": "2021-07-07T15:18:07.974Z"
   },
   {
    "duration": 84,
    "start_time": "2021-07-07T15:18:08.149Z"
   },
   {
    "duration": 3,
    "start_time": "2021-07-07T15:18:08.235Z"
   },
   {
    "duration": 30,
    "start_time": "2021-07-07T15:18:08.240Z"
   },
   {
    "duration": 22,
    "start_time": "2021-07-07T15:18:08.272Z"
   },
   {
    "duration": 11,
    "start_time": "2021-07-07T15:18:08.295Z"
   },
   {
    "duration": 11,
    "start_time": "2021-07-07T15:18:08.309Z"
   },
   {
    "duration": 40,
    "start_time": "2021-07-07T15:18:08.322Z"
   },
   {
    "duration": 42,
    "start_time": "2021-07-07T15:18:08.364Z"
   },
   {
    "duration": 22,
    "start_time": "2021-07-07T15:18:08.408Z"
   },
   {
    "duration": 5,
    "start_time": "2021-07-07T15:18:08.432Z"
   },
   {
    "duration": 13,
    "start_time": "2021-07-07T15:18:08.439Z"
   },
   {
    "duration": 9,
    "start_time": "2021-07-07T15:18:08.454Z"
   },
   {
    "duration": 32,
    "start_time": "2021-07-07T15:18:08.465Z"
   },
   {
    "duration": 10,
    "start_time": "2021-07-07T15:18:08.501Z"
   },
   {
    "duration": 7,
    "start_time": "2021-07-07T15:18:08.513Z"
   },
   {
    "duration": 11,
    "start_time": "2021-07-07T15:18:08.521Z"
   },
   {
    "duration": 17,
    "start_time": "2021-07-07T15:18:08.534Z"
   },
   {
    "duration": 44,
    "start_time": "2021-07-07T15:18:08.553Z"
   },
   {
    "duration": 22,
    "start_time": "2021-07-07T15:18:08.599Z"
   },
   {
    "duration": 61,
    "start_time": "2021-07-07T15:18:08.622Z"
   },
   {
    "duration": 7,
    "start_time": "2021-07-07T15:18:39.457Z"
   },
   {
    "duration": 5,
    "start_time": "2021-07-07T16:05:17.020Z"
   },
   {
    "duration": 5,
    "start_time": "2021-07-07T16:51:28.794Z"
   },
   {
    "duration": 546,
    "start_time": "2021-07-07T16:52:26.306Z"
   },
   {
    "duration": 203,
    "start_time": "2021-07-07T16:52:27.523Z"
   },
   {
    "duration": 85,
    "start_time": "2021-07-07T16:52:27.736Z"
   },
   {
    "duration": 4,
    "start_time": "2021-07-07T16:52:27.899Z"
   },
   {
    "duration": 25,
    "start_time": "2021-07-07T16:52:28.674Z"
   },
   {
    "duration": 8,
    "start_time": "2021-07-07T16:52:32.956Z"
   },
   {
    "duration": 18,
    "start_time": "2021-07-07T16:52:35.616Z"
   },
   {
    "duration": 6,
    "start_time": "2021-07-07T16:52:36.913Z"
   },
   {
    "duration": 11,
    "start_time": "2021-07-07T16:52:40.258Z"
   },
   {
    "duration": 10,
    "start_time": "2021-07-07T16:52:46.251Z"
   },
   {
    "duration": 8,
    "start_time": "2021-07-07T16:52:47.182Z"
   },
   {
    "duration": 27,
    "start_time": "2021-07-07T16:53:20.391Z"
   },
   {
    "duration": 20,
    "start_time": "2021-07-07T16:53:22.022Z"
   },
   {
    "duration": 23,
    "start_time": "2021-07-07T16:53:23.690Z"
   },
   {
    "duration": 8,
    "start_time": "2021-07-07T16:53:24.261Z"
   },
   {
    "duration": 4,
    "start_time": "2021-07-07T16:53:38.733Z"
   },
   {
    "duration": 7,
    "start_time": "2021-07-07T16:53:40.445Z"
   },
   {
    "duration": 11,
    "start_time": "2021-07-07T16:53:41.348Z"
   },
   {
    "duration": 13,
    "start_time": "2021-07-07T16:53:45.250Z"
   },
   {
    "duration": 12,
    "start_time": "2021-07-07T16:53:45.467Z"
   },
   {
    "duration": 4,
    "start_time": "2021-07-07T16:55:32.704Z"
   },
   {
    "duration": 12,
    "start_time": "2021-07-07T16:55:49.012Z"
   },
   {
    "duration": 18,
    "start_time": "2021-07-07T16:55:49.547Z"
   },
   {
    "duration": 611,
    "start_time": "2021-07-07T16:58:35.156Z"
   },
   {
    "duration": 200,
    "start_time": "2021-07-07T16:58:35.770Z"
   },
   {
    "duration": 86,
    "start_time": "2021-07-07T16:58:35.972Z"
   },
   {
    "duration": 3,
    "start_time": "2021-07-07T16:58:36.060Z"
   },
   {
    "duration": 27,
    "start_time": "2021-07-07T16:58:36.065Z"
   },
   {
    "duration": 8,
    "start_time": "2021-07-07T16:58:36.094Z"
   },
   {
    "duration": 17,
    "start_time": "2021-07-07T16:58:36.103Z"
   },
   {
    "duration": 5,
    "start_time": "2021-07-07T16:58:36.123Z"
   },
   {
    "duration": 11,
    "start_time": "2021-07-07T16:58:36.130Z"
   },
   {
    "duration": 7,
    "start_time": "2021-07-07T16:58:36.143Z"
   },
   {
    "duration": 37,
    "start_time": "2021-07-07T16:58:36.152Z"
   },
   {
    "duration": 27,
    "start_time": "2021-07-07T16:58:36.191Z"
   },
   {
    "duration": 19,
    "start_time": "2021-07-07T16:58:36.219Z"
   },
   {
    "duration": 49,
    "start_time": "2021-07-07T16:58:36.240Z"
   },
   {
    "duration": 6,
    "start_time": "2021-07-07T16:58:36.291Z"
   },
   {
    "duration": 3,
    "start_time": "2021-07-07T16:58:36.299Z"
   },
   {
    "duration": 13,
    "start_time": "2021-07-07T16:58:36.304Z"
   },
   {
    "duration": 10,
    "start_time": "2021-07-07T16:58:36.319Z"
   },
   {
    "duration": 10,
    "start_time": "2021-07-07T16:58:36.331Z"
   },
   {
    "duration": 44,
    "start_time": "2021-07-07T16:58:36.343Z"
   },
   {
    "duration": 4,
    "start_time": "2021-07-07T16:58:36.388Z"
   },
   {
    "duration": 13,
    "start_time": "2021-07-07T16:58:36.394Z"
   },
   {
    "duration": 16,
    "start_time": "2021-07-07T16:58:36.410Z"
   },
   {
    "duration": 8,
    "start_time": "2021-07-07T17:02:31.629Z"
   },
   {
    "duration": 8,
    "start_time": "2021-07-07T17:02:34.308Z"
   },
   {
    "duration": 6,
    "start_time": "2021-07-07T17:05:13.483Z"
   },
   {
    "duration": 17,
    "start_time": "2021-07-07T17:05:20.606Z"
   },
   {
    "duration": 7,
    "start_time": "2021-07-07T17:05:34.638Z"
   },
   {
    "duration": 3,
    "start_time": "2021-07-07T17:06:31.883Z"
   },
   {
    "duration": 570,
    "start_time": "2021-07-07T17:06:37.165Z"
   },
   {
    "duration": 174,
    "start_time": "2021-07-07T17:06:37.737Z"
   },
   {
    "duration": 47,
    "start_time": "2021-07-07T17:06:37.913Z"
   },
   {
    "duration": 3,
    "start_time": "2021-07-07T17:06:37.962Z"
   },
   {
    "duration": 27,
    "start_time": "2021-07-07T17:06:37.967Z"
   },
   {
    "duration": 7,
    "start_time": "2021-07-07T17:06:37.996Z"
   },
   {
    "duration": 16,
    "start_time": "2021-07-07T17:06:38.005Z"
   },
   {
    "duration": 6,
    "start_time": "2021-07-07T17:06:38.024Z"
   },
   {
    "duration": 12,
    "start_time": "2021-07-07T17:06:38.031Z"
   },
   {
    "duration": 41,
    "start_time": "2021-07-07T17:06:38.045Z"
   },
   {
    "duration": 8,
    "start_time": "2021-07-07T17:06:38.088Z"
   },
   {
    "duration": 26,
    "start_time": "2021-07-07T17:06:38.098Z"
   },
   {
    "duration": 17,
    "start_time": "2021-07-07T17:06:38.126Z"
   },
   {
    "duration": 43,
    "start_time": "2021-07-07T17:06:38.144Z"
   },
   {
    "duration": 6,
    "start_time": "2021-07-07T17:06:38.188Z"
   },
   {
    "duration": 5,
    "start_time": "2021-07-07T17:06:38.195Z"
   },
   {
    "duration": 9,
    "start_time": "2021-07-07T17:06:38.201Z"
   },
   {
    "duration": 12,
    "start_time": "2021-07-07T17:06:38.212Z"
   },
   {
    "duration": 11,
    "start_time": "2021-07-07T17:06:38.226Z"
   },
   {
    "duration": 47,
    "start_time": "2021-07-07T17:06:38.239Z"
   },
   {
    "duration": 4,
    "start_time": "2021-07-07T17:06:38.288Z"
   },
   {
    "duration": 13,
    "start_time": "2021-07-07T17:06:38.293Z"
   },
   {
    "duration": 5,
    "start_time": "2021-07-07T17:06:38.309Z"
   },
   {
    "duration": 18,
    "start_time": "2021-07-07T17:06:38.325Z"
   },
   {
    "duration": 20,
    "start_time": "2021-07-07T17:07:02.805Z"
   },
   {
    "duration": 19,
    "start_time": "2021-07-07T17:07:08.527Z"
   },
   {
    "duration": 19,
    "start_time": "2021-07-07T17:07:12.758Z"
   },
   {
    "duration": 22,
    "start_time": "2021-07-07T17:07:17.497Z"
   },
   {
    "duration": 19,
    "start_time": "2021-07-07T17:07:19.645Z"
   },
   {
    "duration": 10,
    "start_time": "2021-07-07T17:07:34.239Z"
   },
   {
    "duration": 17,
    "start_time": "2021-07-07T17:07:54.144Z"
   },
   {
    "duration": 14,
    "start_time": "2021-07-07T17:08:14.357Z"
   },
   {
    "duration": 616,
    "start_time": "2021-07-07T17:08:45.254Z"
   },
   {
    "duration": 178,
    "start_time": "2021-07-07T17:08:45.872Z"
   },
   {
    "duration": 60,
    "start_time": "2021-07-07T17:08:46.054Z"
   },
   {
    "duration": 3,
    "start_time": "2021-07-07T17:08:46.116Z"
   },
   {
    "duration": 26,
    "start_time": "2021-07-07T17:08:46.121Z"
   },
   {
    "duration": 7,
    "start_time": "2021-07-07T17:08:46.149Z"
   },
   {
    "duration": 17,
    "start_time": "2021-07-07T17:08:46.158Z"
   },
   {
    "duration": 14,
    "start_time": "2021-07-07T17:08:46.176Z"
   },
   {
    "duration": 17,
    "start_time": "2021-07-07T17:08:46.193Z"
   },
   {
    "duration": 9,
    "start_time": "2021-07-07T17:08:46.211Z"
   },
   {
    "duration": 21,
    "start_time": "2021-07-07T17:08:46.221Z"
   },
   {
    "duration": 49,
    "start_time": "2021-07-07T17:08:46.244Z"
   },
   {
    "duration": 24,
    "start_time": "2021-07-07T17:08:46.295Z"
   },
   {
    "duration": 22,
    "start_time": "2021-07-07T17:08:46.321Z"
   },
   {
    "duration": 6,
    "start_time": "2021-07-07T17:08:46.345Z"
   },
   {
    "duration": 5,
    "start_time": "2021-07-07T17:08:46.353Z"
   },
   {
    "duration": 13,
    "start_time": "2021-07-07T17:08:46.386Z"
   },
   {
    "duration": 12,
    "start_time": "2021-07-07T17:08:46.402Z"
   },
   {
    "duration": 10,
    "start_time": "2021-07-07T17:08:46.415Z"
   },
   {
    "duration": 7,
    "start_time": "2021-07-07T17:08:46.427Z"
   },
   {
    "duration": 8,
    "start_time": "2021-07-07T17:08:46.435Z"
   },
   {
    "duration": 68,
    "start_time": "2021-07-07T17:08:46.446Z"
   },
   {
    "duration": 13,
    "start_time": "2021-07-07T17:08:46.516Z"
   },
   {
    "duration": 78,
    "start_time": "2021-07-07T17:08:46.530Z"
   },
   {
    "duration": 40,
    "start_time": "2021-07-07T17:09:08.185Z"
   },
   {
    "duration": 16,
    "start_time": "2021-07-07T17:09:19.324Z"
   },
   {
    "duration": 21,
    "start_time": "2021-07-07T17:09:23.290Z"
   },
   {
    "duration": 13,
    "start_time": "2021-07-07T17:09:54.812Z"
   },
   {
    "duration": 13,
    "start_time": "2021-07-07T17:10:02.039Z"
   },
   {
    "duration": 10,
    "start_time": "2021-07-07T17:10:29.632Z"
   },
   {
    "duration": 13,
    "start_time": "2021-07-07T17:10:52.372Z"
   },
   {
    "duration": 13,
    "start_time": "2021-07-07T17:11:17.270Z"
   },
   {
    "duration": 13,
    "start_time": "2021-07-07T17:14:59.284Z"
   },
   {
    "duration": 547,
    "start_time": "2021-07-07T17:18:52.403Z"
   },
   {
    "duration": 163,
    "start_time": "2021-07-07T17:18:52.952Z"
   },
   {
    "duration": 44,
    "start_time": "2021-07-07T17:18:53.117Z"
   },
   {
    "duration": 3,
    "start_time": "2021-07-07T17:18:53.162Z"
   },
   {
    "duration": 26,
    "start_time": "2021-07-07T17:18:53.167Z"
   },
   {
    "duration": 6,
    "start_time": "2021-07-07T17:18:53.195Z"
   },
   {
    "duration": 15,
    "start_time": "2021-07-07T17:18:53.203Z"
   },
   {
    "duration": 5,
    "start_time": "2021-07-07T17:18:53.220Z"
   },
   {
    "duration": 11,
    "start_time": "2021-07-07T17:18:53.228Z"
   },
   {
    "duration": 9,
    "start_time": "2021-07-07T17:18:53.241Z"
   },
   {
    "duration": 41,
    "start_time": "2021-07-07T17:18:53.252Z"
   },
   {
    "duration": 33,
    "start_time": "2021-07-07T17:18:53.295Z"
   },
   {
    "duration": 19,
    "start_time": "2021-07-07T17:18:53.330Z"
   },
   {
    "duration": 49,
    "start_time": "2021-07-07T17:18:53.350Z"
   },
   {
    "duration": 5,
    "start_time": "2021-07-07T17:18:53.401Z"
   },
   {
    "duration": 5,
    "start_time": "2021-07-07T17:18:53.408Z"
   },
   {
    "duration": 11,
    "start_time": "2021-07-07T17:18:53.414Z"
   },
   {
    "duration": 9,
    "start_time": "2021-07-07T17:18:53.427Z"
   },
   {
    "duration": 10,
    "start_time": "2021-07-07T17:18:53.437Z"
   },
   {
    "duration": 39,
    "start_time": "2021-07-07T17:18:53.448Z"
   },
   {
    "duration": 26,
    "start_time": "2021-07-07T17:18:55.799Z"
   },
   {
    "duration": 598,
    "start_time": "2021-07-07T17:20:17.862Z"
   },
   {
    "duration": 161,
    "start_time": "2021-07-07T17:20:18.462Z"
   },
   {
    "duration": 45,
    "start_time": "2021-07-07T17:20:18.626Z"
   },
   {
    "duration": 4,
    "start_time": "2021-07-07T17:20:18.673Z"
   },
   {
    "duration": 38,
    "start_time": "2021-07-07T17:20:26.877Z"
   },
   {
    "duration": 7,
    "start_time": "2021-07-07T17:20:37.405Z"
   },
   {
    "duration": 19,
    "start_time": "2021-07-07T17:20:51.534Z"
   },
   {
    "duration": 5,
    "start_time": "2021-07-07T17:20:57.228Z"
   },
   {
    "duration": 7,
    "start_time": "2021-07-07T17:21:08.235Z"
   },
   {
    "duration": 19,
    "start_time": "2021-07-07T17:21:42.158Z"
   },
   {
    "duration": 14,
    "start_time": "2021-07-07T17:21:50.225Z"
   },
   {
    "duration": 22,
    "start_time": "2021-07-07T17:22:54.104Z"
   },
   {
    "duration": 5,
    "start_time": "2021-07-07T17:22:56.371Z"
   },
   {
    "duration": 14,
    "start_time": "2021-07-07T17:22:58.316Z"
   },
   {
    "duration": 5,
    "start_time": "2021-07-07T17:22:58.493Z"
   },
   {
    "duration": 35,
    "start_time": "2021-07-07T17:22:59.666Z"
   },
   {
    "duration": 6,
    "start_time": "2021-07-07T17:23:02.410Z"
   },
   {
    "duration": 611,
    "start_time": "2021-07-07T17:24:59.664Z"
   },
   {
    "duration": 178,
    "start_time": "2021-07-07T17:25:01.945Z"
   },
   {
    "duration": 47,
    "start_time": "2021-07-07T17:25:02.125Z"
   },
   {
    "duration": 2,
    "start_time": "2021-07-07T17:25:07.903Z"
   },
   {
    "duration": 254,
    "start_time": "2021-07-07T17:25:08.232Z"
   },
   {
    "duration": 182,
    "start_time": "2021-07-07T17:25:08.671Z"
   },
   {
    "duration": 6,
    "start_time": "2021-07-07T17:25:13.104Z"
   },
   {
    "duration": 36,
    "start_time": "2021-07-07T17:25:13.662Z"
   },
   {
    "duration": 7,
    "start_time": "2021-07-07T17:25:14.528Z"
   },
   {
    "duration": 24,
    "start_time": "2021-07-07T17:25:27.982Z"
   },
   {
    "duration": 3,
    "start_time": "2021-07-07T17:25:48.982Z"
   },
   {
    "duration": 165,
    "start_time": "2021-07-07T17:25:48.987Z"
   },
   {
    "duration": 50,
    "start_time": "2021-07-07T17:25:49.154Z"
   },
   {
    "duration": 4,
    "start_time": "2021-07-07T17:25:49.206Z"
   },
   {
    "duration": 26,
    "start_time": "2021-07-07T17:25:49.212Z"
   },
   {
    "duration": 7,
    "start_time": "2021-07-07T17:25:49.240Z"
   },
   {
    "duration": 16,
    "start_time": "2021-07-07T17:25:49.249Z"
   },
   {
    "duration": 22,
    "start_time": "2021-07-07T17:25:49.266Z"
   },
   {
    "duration": 16,
    "start_time": "2021-07-07T17:25:49.291Z"
   },
   {
    "duration": 9,
    "start_time": "2021-07-07T17:25:49.309Z"
   },
   {
    "duration": 7,
    "start_time": "2021-07-07T17:25:49.319Z"
   },
   {
    "duration": 28,
    "start_time": "2021-07-07T17:25:49.328Z"
   },
   {
    "duration": 44,
    "start_time": "2021-07-07T17:25:49.357Z"
   },
   {
    "duration": 22,
    "start_time": "2021-07-07T17:25:49.403Z"
   },
   {
    "duration": 7,
    "start_time": "2021-07-07T17:25:49.427Z"
   },
   {
    "duration": 3,
    "start_time": "2021-07-07T17:25:49.436Z"
   },
   {
    "duration": 44,
    "start_time": "2021-07-07T17:25:49.441Z"
   },
   {
    "duration": 12,
    "start_time": "2021-07-07T17:25:49.488Z"
   },
   {
    "duration": 13,
    "start_time": "2021-07-07T17:25:49.502Z"
   },
   {
    "duration": 10,
    "start_time": "2021-07-07T17:25:49.516Z"
   },
   {
    "duration": 62,
    "start_time": "2021-07-07T17:25:49.527Z"
   },
   {
    "duration": 26,
    "start_time": "2021-07-07T17:26:51.809Z"
   },
   {
    "duration": 26,
    "start_time": "2021-07-07T17:26:55.759Z"
   },
   {
    "duration": 26,
    "start_time": "2021-07-07T17:27:04.501Z"
   },
   {
    "duration": 25,
    "start_time": "2021-07-07T17:28:24.859Z"
   },
   {
    "duration": 21,
    "start_time": "2021-07-07T17:28:55.250Z"
   },
   {
    "duration": 21,
    "start_time": "2021-07-07T17:28:58.885Z"
   },
   {
    "duration": 7,
    "start_time": "2021-07-07T17:45:40.972Z"
   },
   {
    "duration": 13,
    "start_time": "2021-07-07T17:45:42.529Z"
   },
   {
    "duration": 27,
    "start_time": "2021-07-07T17:45:51.026Z"
   },
   {
    "duration": 518,
    "start_time": "2021-07-07T17:46:15.532Z"
   },
   {
    "duration": 235,
    "start_time": "2021-07-07T17:46:16.053Z"
   },
   {
    "duration": 80,
    "start_time": "2021-07-07T17:46:16.292Z"
   },
   {
    "duration": 5,
    "start_time": "2021-07-07T17:46:16.373Z"
   },
   {
    "duration": 26,
    "start_time": "2021-07-07T17:46:16.380Z"
   },
   {
    "duration": 7,
    "start_time": "2021-07-07T17:46:16.408Z"
   },
   {
    "duration": 16,
    "start_time": "2021-07-07T17:46:16.418Z"
   },
   {
    "duration": 5,
    "start_time": "2021-07-07T17:46:16.436Z"
   },
   {
    "duration": 13,
    "start_time": "2021-07-07T17:46:16.442Z"
   },
   {
    "duration": 35,
    "start_time": "2021-07-07T17:46:16.456Z"
   },
   {
    "duration": 8,
    "start_time": "2021-07-07T17:46:16.493Z"
   },
   {
    "duration": 28,
    "start_time": "2021-07-07T17:46:16.502Z"
   },
   {
    "duration": 17,
    "start_time": "2021-07-07T17:46:16.532Z"
   },
   {
    "duration": 44,
    "start_time": "2021-07-07T17:46:16.551Z"
   },
   {
    "duration": 6,
    "start_time": "2021-07-07T17:46:16.597Z"
   },
   {
    "duration": 4,
    "start_time": "2021-07-07T17:46:16.605Z"
   },
   {
    "duration": 9,
    "start_time": "2021-07-07T17:46:16.610Z"
   },
   {
    "duration": 9,
    "start_time": "2021-07-07T17:46:16.621Z"
   },
   {
    "duration": 10,
    "start_time": "2021-07-07T17:46:16.632Z"
   },
   {
    "duration": 43,
    "start_time": "2021-07-07T17:46:16.644Z"
   },
   {
    "duration": 26,
    "start_time": "2021-07-07T17:46:16.689Z"
   },
   {
    "duration": 19,
    "start_time": "2021-07-07T17:46:16.718Z"
   },
   {
    "duration": 8,
    "start_time": "2021-07-07T17:46:16.738Z"
   },
   {
    "duration": 43,
    "start_time": "2021-07-07T17:46:16.747Z"
   },
   {
    "duration": 19,
    "start_time": "2021-07-07T17:46:16.791Z"
   },
   {
    "duration": 9,
    "start_time": "2021-07-07T17:46:16.812Z"
   },
   {
    "duration": 60,
    "start_time": "2021-07-07T17:46:16.822Z"
   },
   {
    "duration": -8,
    "start_time": "2021-07-07T17:46:16.892Z"
   },
   {
    "duration": 12,
    "start_time": "2021-07-07T17:48:47.707Z"
   },
   {
    "duration": 553,
    "start_time": "2021-07-07T18:10:09.350Z"
   },
   {
    "duration": 230,
    "start_time": "2021-07-07T18:10:09.905Z"
   },
   {
    "duration": 97,
    "start_time": "2021-07-07T18:10:10.137Z"
   },
   {
    "duration": 5,
    "start_time": "2021-07-07T18:10:10.236Z"
   },
   {
    "duration": 29,
    "start_time": "2021-07-07T18:10:10.242Z"
   },
   {
    "duration": 7,
    "start_time": "2021-07-07T18:10:10.272Z"
   },
   {
    "duration": 15,
    "start_time": "2021-07-07T18:10:10.281Z"
   },
   {
    "duration": 4,
    "start_time": "2021-07-07T18:10:10.299Z"
   },
   {
    "duration": 14,
    "start_time": "2021-07-07T18:10:10.305Z"
   },
   {
    "duration": 8,
    "start_time": "2021-07-07T18:10:10.321Z"
   },
   {
    "duration": 8,
    "start_time": "2021-07-07T18:10:10.331Z"
   },
   {
    "duration": 56,
    "start_time": "2021-07-07T18:10:10.341Z"
   },
   {
    "duration": 19,
    "start_time": "2021-07-07T18:10:10.399Z"
   },
   {
    "duration": 23,
    "start_time": "2021-07-07T18:10:10.419Z"
   },
   {
    "duration": 6,
    "start_time": "2021-07-07T18:10:10.444Z"
   },
   {
    "duration": 9,
    "start_time": "2021-07-07T18:10:10.451Z"
   },
   {
    "duration": 30,
    "start_time": "2021-07-07T18:10:10.462Z"
   },
   {
    "duration": 9,
    "start_time": "2021-07-07T18:10:10.494Z"
   },
   {
    "duration": 14,
    "start_time": "2021-07-07T18:10:10.505Z"
   },
   {
    "duration": 7,
    "start_time": "2021-07-07T18:10:10.521Z"
   },
   {
    "duration": 26,
    "start_time": "2021-07-07T18:10:10.530Z"
   },
   {
    "duration": 44,
    "start_time": "2021-07-07T18:10:10.558Z"
   },
   {
    "duration": 7,
    "start_time": "2021-07-07T18:10:10.605Z"
   },
   {
    "duration": 11,
    "start_time": "2021-07-07T18:10:10.614Z"
   },
   {
    "duration": 19,
    "start_time": "2021-07-07T18:10:10.626Z"
   },
   {
    "duration": 44,
    "start_time": "2021-07-07T18:10:10.646Z"
   },
   {
    "duration": 516,
    "start_time": "2021-07-07T18:14:00.826Z"
   },
   {
    "duration": 230,
    "start_time": "2021-07-07T18:14:01.344Z"
   },
   {
    "duration": 105,
    "start_time": "2021-07-07T18:14:01.576Z"
   },
   {
    "duration": 5,
    "start_time": "2021-07-07T18:14:01.683Z"
   },
   {
    "duration": 46,
    "start_time": "2021-07-07T18:14:01.690Z"
   },
   {
    "duration": 7,
    "start_time": "2021-07-07T18:14:01.738Z"
   },
   {
    "duration": 20,
    "start_time": "2021-07-07T18:14:01.747Z"
   },
   {
    "duration": 16,
    "start_time": "2021-07-07T18:14:01.769Z"
   },
   {
    "duration": 14,
    "start_time": "2021-07-07T18:14:01.787Z"
   },
   {
    "duration": 15,
    "start_time": "2021-07-07T18:14:01.803Z"
   },
   {
    "duration": 12,
    "start_time": "2021-07-07T18:14:01.820Z"
   },
   {
    "duration": 35,
    "start_time": "2021-07-07T18:14:01.833Z"
   },
   {
    "duration": 31,
    "start_time": "2021-07-07T18:14:01.869Z"
   },
   {
    "duration": 37,
    "start_time": "2021-07-07T18:14:01.902Z"
   },
   {
    "duration": 8,
    "start_time": "2021-07-07T18:14:01.942Z"
   },
   {
    "duration": 16,
    "start_time": "2021-07-07T18:14:01.952Z"
   },
   {
    "duration": 13,
    "start_time": "2021-07-07T18:14:01.970Z"
   },
   {
    "duration": 32,
    "start_time": "2021-07-07T18:14:01.985Z"
   },
   {
    "duration": 11,
    "start_time": "2021-07-07T18:14:02.019Z"
   },
   {
    "duration": 22,
    "start_time": "2021-07-07T18:14:02.031Z"
   },
   {
    "duration": 27,
    "start_time": "2021-07-07T18:14:02.055Z"
   },
   {
    "duration": 18,
    "start_time": "2021-07-07T18:14:02.084Z"
   },
   {
    "duration": 18,
    "start_time": "2021-07-07T18:14:02.106Z"
   },
   {
    "duration": 11,
    "start_time": "2021-07-07T18:14:02.126Z"
   },
   {
    "duration": 21,
    "start_time": "2021-07-07T18:14:02.138Z"
   },
   {
    "duration": 32,
    "start_time": "2021-07-07T18:14:02.161Z"
   },
   {
    "duration": 28,
    "start_time": "2021-07-07T18:14:44.295Z"
   },
   {
    "duration": 6,
    "start_time": "2021-07-07T18:15:05.834Z"
   },
   {
    "duration": 511,
    "start_time": "2021-07-07T18:15:41.541Z"
   },
   {
    "duration": 183,
    "start_time": "2021-07-07T18:15:42.054Z"
   },
   {
    "duration": 50,
    "start_time": "2021-07-07T18:15:42.239Z"
   },
   {
    "duration": 5,
    "start_time": "2021-07-07T18:15:42.291Z"
   },
   {
    "duration": 48,
    "start_time": "2021-07-07T18:15:42.297Z"
   },
   {
    "duration": 8,
    "start_time": "2021-07-07T18:15:42.346Z"
   },
   {
    "duration": 17,
    "start_time": "2021-07-07T18:15:42.356Z"
   },
   {
    "duration": 15,
    "start_time": "2021-07-07T18:15:42.375Z"
   },
   {
    "duration": 12,
    "start_time": "2021-07-07T18:15:42.392Z"
   },
   {
    "duration": 7,
    "start_time": "2021-07-07T18:15:42.406Z"
   },
   {
    "duration": 7,
    "start_time": "2021-07-07T18:15:42.415Z"
   },
   {
    "duration": 29,
    "start_time": "2021-07-07T18:15:42.423Z"
   },
   {
    "duration": 43,
    "start_time": "2021-07-07T18:15:42.453Z"
   },
   {
    "duration": 18,
    "start_time": "2021-07-07T18:15:42.497Z"
   },
   {
    "duration": 6,
    "start_time": "2021-07-07T18:15:42.516Z"
   },
   {
    "duration": 3,
    "start_time": "2021-07-07T18:15:42.523Z"
   },
   {
    "duration": 18,
    "start_time": "2021-07-07T18:15:42.528Z"
   },
   {
    "duration": 10,
    "start_time": "2021-07-07T18:15:42.547Z"
   },
   {
    "duration": 36,
    "start_time": "2021-07-07T18:15:42.559Z"
   },
   {
    "duration": 8,
    "start_time": "2021-07-07T18:15:42.597Z"
   },
   {
    "duration": 28,
    "start_time": "2021-07-07T18:15:42.606Z"
   },
   {
    "duration": 52,
    "start_time": "2021-07-07T18:15:42.635Z"
   },
   {
    "duration": 7,
    "start_time": "2021-07-07T18:15:42.690Z"
   },
   {
    "duration": 10,
    "start_time": "2021-07-07T18:15:42.699Z"
   },
   {
    "duration": 19,
    "start_time": "2021-07-07T18:15:42.711Z"
   },
   {
    "duration": 9,
    "start_time": "2021-07-07T18:15:42.732Z"
   },
   {
    "duration": 5,
    "start_time": "2021-07-07T18:15:42.743Z"
   },
   {
    "duration": 1450,
    "start_time": "2021-07-07T18:15:51.984Z"
   },
   {
    "duration": 161,
    "start_time": "2021-07-07T18:15:53.435Z"
   },
   {
    "duration": 124,
    "start_time": "2021-07-07T18:15:53.598Z"
   },
   {
    "duration": 5,
    "start_time": "2021-07-07T18:15:53.724Z"
   },
   {
    "duration": 34,
    "start_time": "2021-07-07T18:15:53.730Z"
   },
   {
    "duration": 7,
    "start_time": "2021-07-07T18:15:53.765Z"
   },
   {
    "duration": 15,
    "start_time": "2021-07-07T18:15:53.773Z"
   },
   {
    "duration": 5,
    "start_time": "2021-07-07T18:15:53.791Z"
   },
   {
    "duration": 19,
    "start_time": "2021-07-07T18:15:53.798Z"
   },
   {
    "duration": 9,
    "start_time": "2021-07-07T18:15:53.818Z"
   },
   {
    "duration": 19,
    "start_time": "2021-07-07T18:15:53.828Z"
   },
   {
    "duration": 27,
    "start_time": "2021-07-07T18:15:53.848Z"
   },
   {
    "duration": 16,
    "start_time": "2021-07-07T18:15:53.884Z"
   },
   {
    "duration": 29,
    "start_time": "2021-07-07T18:15:53.901Z"
   },
   {
    "duration": 5,
    "start_time": "2021-07-07T18:15:53.932Z"
   },
   {
    "duration": 15,
    "start_time": "2021-07-07T18:15:53.939Z"
   },
   {
    "duration": 13,
    "start_time": "2021-07-07T18:15:53.956Z"
   },
   {
    "duration": 20,
    "start_time": "2021-07-07T18:15:53.971Z"
   },
   {
    "duration": 14,
    "start_time": "2021-07-07T18:15:53.992Z"
   },
   {
    "duration": 9,
    "start_time": "2021-07-07T18:15:54.009Z"
   },
   {
    "duration": 28,
    "start_time": "2021-07-07T18:15:54.020Z"
   },
   {
    "duration": 50,
    "start_time": "2021-07-07T18:15:54.051Z"
   },
   {
    "duration": 8,
    "start_time": "2021-07-07T18:15:54.105Z"
   },
   {
    "duration": 11,
    "start_time": "2021-07-07T18:15:54.115Z"
   },
   {
    "duration": 20,
    "start_time": "2021-07-07T18:15:54.128Z"
   },
   {
    "duration": 13,
    "start_time": "2021-07-07T18:15:54.184Z"
   },
   {
    "duration": 7,
    "start_time": "2021-07-07T18:15:54.199Z"
   },
   {
    "duration": 7,
    "start_time": "2021-07-07T18:17:08.042Z"
   },
   {
    "duration": 8,
    "start_time": "2021-07-07T18:17:21.008Z"
   },
   {
    "duration": 7,
    "start_time": "2021-07-07T18:17:29.003Z"
   },
   {
    "duration": 8,
    "start_time": "2021-07-07T18:17:32.492Z"
   },
   {
    "duration": 9,
    "start_time": "2021-07-07T18:17:41.758Z"
   },
   {
    "duration": 255,
    "start_time": "2021-07-07T18:20:20.897Z"
   },
   {
    "duration": 173,
    "start_time": "2021-07-07T18:20:26.636Z"
   },
   {
    "duration": 7,
    "start_time": "2021-07-07T18:21:47.164Z"
   },
   {
    "duration": 254,
    "start_time": "2021-07-07T18:23:08.703Z"
   },
   {
    "duration": 21,
    "start_time": "2021-07-07T18:23:22.506Z"
   },
   {
    "duration": 315,
    "start_time": "2021-07-07T18:25:54.801Z"
   },
   {
    "duration": 34,
    "start_time": "2021-07-07T18:26:51.817Z"
   },
   {
    "duration": 327,
    "start_time": "2021-07-07T18:26:56.147Z"
   },
   {
    "duration": 342,
    "start_time": "2021-07-07T18:27:15.887Z"
   },
   {
    "duration": 302,
    "start_time": "2021-07-07T18:28:18.569Z"
   },
   {
    "duration": 226,
    "start_time": "2021-07-07T18:29:20.879Z"
   },
   {
    "duration": 207,
    "start_time": "2021-07-07T18:29:58.114Z"
   },
   {
    "duration": 140,
    "start_time": "2021-07-07T18:32:04.372Z"
   },
   {
    "duration": 158,
    "start_time": "2021-07-07T18:32:32.508Z"
   },
   {
    "duration": 145,
    "start_time": "2021-07-07T18:32:41.365Z"
   },
   {
    "duration": 132,
    "start_time": "2021-07-07T18:32:45.199Z"
   },
   {
    "duration": 11,
    "start_time": "2021-07-07T18:35:24.679Z"
   },
   {
    "duration": 268,
    "start_time": "2021-07-07T18:36:16.145Z"
   },
   {
    "duration": 227,
    "start_time": "2021-07-07T18:37:04.918Z"
   },
   {
    "duration": 3,
    "start_time": "2021-07-07T18:37:33.012Z"
   },
   {
    "duration": 671,
    "start_time": "2021-07-07T18:37:38.295Z"
   },
   {
    "duration": 54,
    "start_time": "2021-07-07T18:37:53.406Z"
   },
   {
    "duration": 631,
    "start_time": "2021-07-07T18:37:56.463Z"
   },
   {
    "duration": 19,
    "start_time": "2021-07-07T18:39:40.535Z"
   },
   {
    "duration": 20,
    "start_time": "2021-07-07T18:40:12.236Z"
   },
   {
    "duration": 633,
    "start_time": "2021-07-07T18:42:00.398Z"
   },
   {
    "duration": 218,
    "start_time": "2021-07-07T18:42:01.033Z"
   },
   {
    "duration": 49,
    "start_time": "2021-07-07T18:42:01.253Z"
   },
   {
    "duration": 5,
    "start_time": "2021-07-07T18:42:01.303Z"
   },
   {
    "duration": 27,
    "start_time": "2021-07-07T18:42:01.310Z"
   },
   {
    "duration": 8,
    "start_time": "2021-07-07T18:42:01.339Z"
   },
   {
    "duration": 20,
    "start_time": "2021-07-07T18:42:01.348Z"
   },
   {
    "duration": 6,
    "start_time": "2021-07-07T18:42:01.386Z"
   },
   {
    "duration": 16,
    "start_time": "2021-07-07T18:42:01.394Z"
   },
   {
    "duration": 9,
    "start_time": "2021-07-07T18:42:01.411Z"
   },
   {
    "duration": 11,
    "start_time": "2021-07-07T18:42:01.421Z"
   },
   {
    "duration": 31,
    "start_time": "2021-07-07T18:42:01.434Z"
   },
   {
    "duration": 18,
    "start_time": "2021-07-07T18:42:01.485Z"
   },
   {
    "duration": 23,
    "start_time": "2021-07-07T18:42:01.505Z"
   },
   {
    "duration": 6,
    "start_time": "2021-07-07T18:42:01.530Z"
   },
   {
    "duration": 10,
    "start_time": "2021-07-07T18:42:01.538Z"
   },
   {
    "duration": 13,
    "start_time": "2021-07-07T18:42:01.550Z"
   },
   {
    "duration": 24,
    "start_time": "2021-07-07T18:42:01.564Z"
   },
   {
    "duration": 20,
    "start_time": "2021-07-07T18:42:01.590Z"
   },
   {
    "duration": 8,
    "start_time": "2021-07-07T18:42:01.611Z"
   },
   {
    "duration": 31,
    "start_time": "2021-07-07T18:42:01.620Z"
   },
   {
    "duration": 39,
    "start_time": "2021-07-07T18:42:01.653Z"
   },
   {
    "duration": 8,
    "start_time": "2021-07-07T18:42:01.696Z"
   },
   {
    "duration": 13,
    "start_time": "2021-07-07T18:42:01.705Z"
   },
   {
    "duration": 20,
    "start_time": "2021-07-07T18:42:01.720Z"
   },
   {
    "duration": 12,
    "start_time": "2021-07-07T18:42:01.741Z"
   },
   {
    "duration": 35,
    "start_time": "2021-07-07T18:42:01.755Z"
   },
   {
    "duration": 14,
    "start_time": "2021-07-07T18:42:01.792Z"
   },
   {
    "duration": 188,
    "start_time": "2021-07-07T18:42:01.808Z"
   },
   {
    "duration": 19,
    "start_time": "2021-07-07T18:42:01.998Z"
   },
   {
    "duration": 175,
    "start_time": "2021-07-07T18:42:02.019Z"
   },
   {
    "duration": 134,
    "start_time": "2021-07-07T18:42:02.196Z"
   },
   {
    "duration": 10,
    "start_time": "2021-07-07T18:42:02.331Z"
   },
   {
    "duration": 19,
    "start_time": "2021-07-07T18:42:02.343Z"
   },
   {
    "duration": 628,
    "start_time": "2021-07-07T18:46:30.701Z"
   },
   {
    "duration": 183,
    "start_time": "2021-07-07T18:46:31.331Z"
   },
   {
    "duration": 48,
    "start_time": "2021-07-07T18:46:31.516Z"
   },
   {
    "duration": 5,
    "start_time": "2021-07-07T18:46:31.566Z"
   },
   {
    "duration": 28,
    "start_time": "2021-07-07T18:46:31.572Z"
   },
   {
    "duration": 8,
    "start_time": "2021-07-07T18:46:31.602Z"
   },
   {
    "duration": 19,
    "start_time": "2021-07-07T18:46:31.611Z"
   },
   {
    "duration": 6,
    "start_time": "2021-07-07T18:46:31.633Z"
   },
   {
    "duration": 17,
    "start_time": "2021-07-07T18:46:31.642Z"
   },
   {
    "duration": 10,
    "start_time": "2021-07-07T18:46:31.684Z"
   },
   {
    "duration": 9,
    "start_time": "2021-07-07T18:46:31.695Z"
   },
   {
    "duration": 28,
    "start_time": "2021-07-07T18:46:31.705Z"
   },
   {
    "duration": 18,
    "start_time": "2021-07-07T18:46:31.735Z"
   },
   {
    "duration": 48,
    "start_time": "2021-07-07T18:46:31.755Z"
   },
   {
    "duration": 6,
    "start_time": "2021-07-07T18:46:31.804Z"
   },
   {
    "duration": 4,
    "start_time": "2021-07-07T18:46:31.812Z"
   },
   {
    "duration": 9,
    "start_time": "2021-07-07T18:46:31.817Z"
   },
   {
    "duration": 10,
    "start_time": "2021-07-07T18:46:31.827Z"
   },
   {
    "duration": 12,
    "start_time": "2021-07-07T18:46:31.838Z"
   },
   {
    "duration": 39,
    "start_time": "2021-07-07T18:46:31.851Z"
   },
   {
    "duration": 24,
    "start_time": "2021-07-07T18:46:31.892Z"
   },
   {
    "duration": 15,
    "start_time": "2021-07-07T18:46:31.918Z"
   },
   {
    "duration": 7,
    "start_time": "2021-07-07T18:46:31.936Z"
   },
   {
    "duration": 8,
    "start_time": "2021-07-07T18:46:31.944Z"
   },
   {
    "duration": 19,
    "start_time": "2021-07-07T18:46:31.984Z"
   },
   {
    "duration": 10,
    "start_time": "2021-07-07T18:46:32.004Z"
   },
   {
    "duration": 5,
    "start_time": "2021-07-07T18:46:32.016Z"
   },
   {
    "duration": 9,
    "start_time": "2021-07-07T18:46:32.023Z"
   },
   {
    "duration": 199,
    "start_time": "2021-07-07T18:46:32.033Z"
   },
   {
    "duration": 19,
    "start_time": "2021-07-07T18:46:32.234Z"
   },
   {
    "duration": 159,
    "start_time": "2021-07-07T18:46:32.255Z"
   },
   {
    "duration": 134,
    "start_time": "2021-07-07T18:46:32.416Z"
   },
   {
    "duration": 10,
    "start_time": "2021-07-07T18:46:32.552Z"
   },
   {
    "duration": 34,
    "start_time": "2021-07-07T18:46:32.563Z"
   },
   {
    "duration": 1039,
    "start_time": "2021-07-08T08:41:09.419Z"
   },
   {
    "duration": 333,
    "start_time": "2021-07-08T08:41:10.459Z"
   },
   {
    "duration": 173,
    "start_time": "2021-07-08T08:41:10.794Z"
   },
   {
    "duration": 5,
    "start_time": "2021-07-08T08:41:10.968Z"
   },
   {
    "duration": 25,
    "start_time": "2021-07-08T08:41:10.975Z"
   },
   {
    "duration": 9,
    "start_time": "2021-07-08T08:41:11.002Z"
   },
   {
    "duration": 18,
    "start_time": "2021-07-08T08:41:11.013Z"
   },
   {
    "duration": 6,
    "start_time": "2021-07-08T08:41:11.033Z"
   },
   {
    "duration": 44,
    "start_time": "2021-07-08T08:41:11.042Z"
   },
   {
    "duration": 10,
    "start_time": "2021-07-08T08:41:11.088Z"
   },
   {
    "duration": 9,
    "start_time": "2021-07-08T08:41:11.100Z"
   },
   {
    "duration": 27,
    "start_time": "2021-07-08T08:41:11.111Z"
   },
   {
    "duration": 46,
    "start_time": "2021-07-08T08:41:11.140Z"
   },
   {
    "duration": 17,
    "start_time": "2021-07-08T08:41:11.187Z"
   },
   {
    "duration": 6,
    "start_time": "2021-07-08T08:41:11.206Z"
   },
   {
    "duration": 5,
    "start_time": "2021-07-08T08:41:11.213Z"
   },
   {
    "duration": 10,
    "start_time": "2021-07-08T08:41:11.219Z"
   },
   {
    "duration": 9,
    "start_time": "2021-07-08T08:41:11.230Z"
   },
   {
    "duration": 45,
    "start_time": "2021-07-08T08:41:11.241Z"
   },
   {
    "duration": 7,
    "start_time": "2021-07-08T08:41:11.287Z"
   },
   {
    "duration": 24,
    "start_time": "2021-07-08T08:41:11.296Z"
   },
   {
    "duration": 16,
    "start_time": "2021-07-08T08:41:11.322Z"
   },
   {
    "duration": 7,
    "start_time": "2021-07-08T08:41:11.341Z"
   },
   {
    "duration": 41,
    "start_time": "2021-07-08T08:41:11.349Z"
   },
   {
    "duration": 17,
    "start_time": "2021-07-08T08:41:11.391Z"
   },
   {
    "duration": 9,
    "start_time": "2021-07-08T08:41:11.410Z"
   },
   {
    "duration": 5,
    "start_time": "2021-07-08T08:41:11.421Z"
   },
   {
    "duration": 6,
    "start_time": "2021-07-08T08:41:11.428Z"
   },
   {
    "duration": 198,
    "start_time": "2021-07-08T08:41:11.435Z"
   },
   {
    "duration": 18,
    "start_time": "2021-07-08T08:41:11.635Z"
   },
   {
    "duration": 155,
    "start_time": "2021-07-08T08:41:11.655Z"
   },
   {
    "duration": 138,
    "start_time": "2021-07-08T08:41:11.811Z"
   },
   {
    "duration": 10,
    "start_time": "2021-07-08T08:41:11.950Z"
   },
   {
    "duration": 29,
    "start_time": "2021-07-08T08:41:11.961Z"
   },
   {
    "duration": 171,
    "start_time": "2021-07-08T08:47:44.522Z"
   },
   {
    "duration": 124,
    "start_time": "2021-07-08T08:47:46.872Z"
   },
   {
    "duration": 191,
    "start_time": "2021-07-08T08:47:58.148Z"
   },
   {
    "duration": 191,
    "start_time": "2021-07-08T08:48:07.412Z"
   },
   {
    "duration": 261,
    "start_time": "2021-07-08T08:48:10.385Z"
   },
   {
    "duration": 255,
    "start_time": "2021-07-08T08:48:14.494Z"
   },
   {
    "duration": 219,
    "start_time": "2021-07-08T08:48:22.752Z"
   },
   {
    "duration": 173,
    "start_time": "2021-07-08T08:49:06.395Z"
   },
   {
    "duration": 180,
    "start_time": "2021-07-08T08:49:21.011Z"
   },
   {
    "duration": 6,
    "start_time": "2021-07-08T08:50:31.697Z"
   },
   {
    "duration": 10,
    "start_time": "2021-07-08T08:50:47.394Z"
   },
   {
    "duration": 11,
    "start_time": "2021-07-08T08:53:49.332Z"
   },
   {
    "duration": 171,
    "start_time": "2021-07-08T08:54:28.408Z"
   },
   {
    "duration": 636,
    "start_time": "2021-07-08T09:02:48.385Z"
   },
   {
    "duration": 227,
    "start_time": "2021-07-08T09:02:49.023Z"
   },
   {
    "duration": 104,
    "start_time": "2021-07-08T09:02:49.252Z"
   },
   {
    "duration": 5,
    "start_time": "2021-07-08T09:02:49.358Z"
   },
   {
    "duration": 27,
    "start_time": "2021-07-08T09:02:49.365Z"
   },
   {
    "duration": 8,
    "start_time": "2021-07-08T09:02:49.394Z"
   },
   {
    "duration": 18,
    "start_time": "2021-07-08T09:02:49.404Z"
   },
   {
    "duration": 6,
    "start_time": "2021-07-08T09:02:49.424Z"
   },
   {
    "duration": 11,
    "start_time": "2021-07-08T09:02:49.433Z"
   },
   {
    "duration": 13,
    "start_time": "2021-07-08T09:02:49.485Z"
   },
   {
    "duration": 9,
    "start_time": "2021-07-08T09:02:49.500Z"
   },
   {
    "duration": 38,
    "start_time": "2021-07-08T09:02:49.511Z"
   },
   {
    "duration": 42,
    "start_time": "2021-07-08T09:02:49.551Z"
   },
   {
    "duration": 21,
    "start_time": "2021-07-08T09:02:49.594Z"
   },
   {
    "duration": 6,
    "start_time": "2021-07-08T09:02:49.616Z"
   },
   {
    "duration": 3,
    "start_time": "2021-07-08T09:02:49.623Z"
   },
   {
    "duration": 9,
    "start_time": "2021-07-08T09:02:49.628Z"
   },
   {
    "duration": 52,
    "start_time": "2021-07-08T09:02:49.638Z"
   },
   {
    "duration": 11,
    "start_time": "2021-07-08T09:02:49.692Z"
   },
   {
    "duration": 8,
    "start_time": "2021-07-08T09:02:49.704Z"
   },
   {
    "duration": 27,
    "start_time": "2021-07-08T09:02:49.713Z"
   },
   {
    "duration": 59,
    "start_time": "2021-07-08T09:02:49.741Z"
   },
   {
    "duration": 8,
    "start_time": "2021-07-08T09:02:49.803Z"
   },
   {
    "duration": 14,
    "start_time": "2021-07-08T09:02:49.813Z"
   },
   {
    "duration": 20,
    "start_time": "2021-07-08T09:02:49.829Z"
   },
   {
    "duration": 44,
    "start_time": "2021-07-08T09:02:49.851Z"
   },
   {
    "duration": 14,
    "start_time": "2021-07-08T09:02:49.896Z"
   },
   {
    "duration": 221,
    "start_time": "2021-07-08T09:02:49.912Z"
   },
   {
    "duration": 6,
    "start_time": "2021-07-08T09:02:50.134Z"
   },
   {
    "duration": 206,
    "start_time": "2021-07-08T09:02:50.142Z"
   },
   {
    "duration": 19,
    "start_time": "2021-07-08T09:02:50.350Z"
   },
   {
    "duration": 21,
    "start_time": "2021-07-08T09:02:50.370Z"
   },
   {
    "duration": 20,
    "start_time": "2021-07-08T09:02:50.393Z"
   },
   {
    "duration": 5,
    "start_time": "2021-07-08T09:02:50.414Z"
   },
   {
    "duration": 5,
    "start_time": "2021-07-08T09:03:34.173Z"
   },
   {
    "duration": 6,
    "start_time": "2021-07-08T09:04:49.062Z"
   },
   {
    "duration": 9,
    "start_time": "2021-07-08T09:04:50.118Z"
   },
   {
    "duration": 14,
    "start_time": "2021-07-08T09:04:58.512Z"
   },
   {
    "duration": 9,
    "start_time": "2021-07-08T09:05:10.988Z"
   },
   {
    "duration": 11,
    "start_time": "2021-07-08T09:05:11.743Z"
   },
   {
    "duration": 7,
    "start_time": "2021-07-08T09:05:25.677Z"
   },
   {
    "duration": 13,
    "start_time": "2021-07-08T09:05:47.189Z"
   },
   {
    "duration": 13,
    "start_time": "2021-07-08T09:05:54.755Z"
   },
   {
    "duration": 4,
    "start_time": "2021-07-08T09:06:29.189Z"
   },
   {
    "duration": 244,
    "start_time": "2021-07-08T09:06:29.195Z"
   },
   {
    "duration": 91,
    "start_time": "2021-07-08T09:06:29.441Z"
   },
   {
    "duration": 4,
    "start_time": "2021-07-08T09:06:29.534Z"
   },
   {
    "duration": 28,
    "start_time": "2021-07-08T09:06:29.540Z"
   },
   {
    "duration": 6,
    "start_time": "2021-07-08T09:06:29.570Z"
   },
   {
    "duration": 18,
    "start_time": "2021-07-08T09:06:29.578Z"
   },
   {
    "duration": 5,
    "start_time": "2021-07-08T09:06:29.597Z"
   },
   {
    "duration": 13,
    "start_time": "2021-07-08T09:06:29.605Z"
   },
   {
    "duration": 8,
    "start_time": "2021-07-08T09:06:29.620Z"
   },
   {
    "duration": 7,
    "start_time": "2021-07-08T09:06:29.630Z"
   },
   {
    "duration": 63,
    "start_time": "2021-07-08T09:06:29.639Z"
   },
   {
    "duration": 17,
    "start_time": "2021-07-08T09:06:29.704Z"
   },
   {
    "duration": 20,
    "start_time": "2021-07-08T09:06:29.723Z"
   },
   {
    "duration": 6,
    "start_time": "2021-07-08T09:06:29.745Z"
   },
   {
    "duration": 3,
    "start_time": "2021-07-08T09:06:29.752Z"
   },
   {
    "duration": 7,
    "start_time": "2021-07-08T09:06:29.785Z"
   },
   {
    "duration": 11,
    "start_time": "2021-07-08T09:06:29.794Z"
   },
   {
    "duration": 15,
    "start_time": "2021-07-08T09:06:29.807Z"
   },
   {
    "duration": 8,
    "start_time": "2021-07-08T09:06:29.823Z"
   },
   {
    "duration": 70,
    "start_time": "2021-07-08T09:06:29.832Z"
   },
   {
    "duration": 17,
    "start_time": "2021-07-08T09:06:29.903Z"
   },
   {
    "duration": 9,
    "start_time": "2021-07-08T09:06:29.921Z"
   },
   {
    "duration": 9,
    "start_time": "2021-07-08T09:06:29.932Z"
   },
   {
    "duration": 57,
    "start_time": "2021-07-08T09:06:29.942Z"
   },
   {
    "duration": 11,
    "start_time": "2021-07-08T09:06:30.001Z"
   },
   {
    "duration": 19,
    "start_time": "2021-07-08T09:06:30.016Z"
   },
   {
    "duration": 217,
    "start_time": "2021-07-08T09:06:30.037Z"
   },
   {
    "duration": 6,
    "start_time": "2021-07-08T09:06:30.255Z"
   },
   {
    "duration": 205,
    "start_time": "2021-07-08T09:06:30.263Z"
   },
   {
    "duration": 27,
    "start_time": "2021-07-08T09:06:30.470Z"
   },
   {
    "duration": 11,
    "start_time": "2021-07-08T09:06:30.500Z"
   },
   {
    "duration": 31,
    "start_time": "2021-07-08T09:06:30.513Z"
   },
   {
    "duration": 18,
    "start_time": "2021-07-08T09:06:30.546Z"
   },
   {
    "duration": 11,
    "start_time": "2021-07-08T09:06:30.566Z"
   },
   {
    "duration": 19,
    "start_time": "2021-07-08T09:06:30.579Z"
   },
   {
    "duration": 20,
    "start_time": "2021-07-08T09:06:49.466Z"
   },
   {
    "duration": 9,
    "start_time": "2021-07-08T09:06:51.994Z"
   },
   {
    "duration": 20,
    "start_time": "2021-07-08T09:06:52.273Z"
   },
   {
    "duration": 246,
    "start_time": "2021-07-08T09:10:21.272Z"
   },
   {
    "duration": 84,
    "start_time": "2021-07-08T09:10:21.436Z"
   },
   {
    "duration": 7,
    "start_time": "2021-07-08T09:10:37.608Z"
   },
   {
    "duration": 189,
    "start_time": "2021-07-08T09:10:38.573Z"
   },
   {
    "duration": 185,
    "start_time": "2021-07-08T09:10:53.181Z"
   },
   {
    "duration": 11,
    "start_time": "2021-07-08T09:10:59.549Z"
   },
   {
    "duration": 42,
    "start_time": "2021-07-08T09:10:59.709Z"
   },
   {
    "duration": 12,
    "start_time": "2021-07-08T09:11:02.857Z"
   },
   {
    "duration": 28,
    "start_time": "2021-07-08T09:11:10.062Z"
   },
   {
    "duration": 249,
    "start_time": "2021-07-08T09:11:37.388Z"
   },
   {
    "duration": 232,
    "start_time": "2021-07-08T09:11:49.485Z"
   },
   {
    "duration": 453,
    "start_time": "2021-07-08T09:12:01.546Z"
   },
   {
    "duration": 440,
    "start_time": "2021-07-08T09:12:12.347Z"
   },
   {
    "duration": 213,
    "start_time": "2021-07-08T09:13:32.196Z"
   },
   {
    "duration": 172,
    "start_time": "2021-07-08T09:14:07.400Z"
   },
   {
    "duration": 185,
    "start_time": "2021-07-08T09:14:14.905Z"
   },
   {
    "duration": 209,
    "start_time": "2021-07-08T09:14:40.109Z"
   },
   {
    "duration": 201,
    "start_time": "2021-07-08T09:14:54.506Z"
   },
   {
    "duration": 622,
    "start_time": "2021-07-08T09:18:14.497Z"
   },
   {
    "duration": 220,
    "start_time": "2021-07-08T09:18:15.121Z"
   },
   {
    "duration": 79,
    "start_time": "2021-07-08T09:18:15.343Z"
   },
   {
    "duration": 4,
    "start_time": "2021-07-08T09:18:15.425Z"
   },
   {
    "duration": 24,
    "start_time": "2021-07-08T09:18:15.431Z"
   },
   {
    "duration": 8,
    "start_time": "2021-07-08T09:18:15.457Z"
   },
   {
    "duration": 16,
    "start_time": "2021-07-08T09:18:15.466Z"
   },
   {
    "duration": 5,
    "start_time": "2021-07-08T09:18:15.484Z"
   },
   {
    "duration": 10,
    "start_time": "2021-07-08T09:18:15.493Z"
   },
   {
    "duration": 8,
    "start_time": "2021-07-08T09:18:15.504Z"
   },
   {
    "duration": 7,
    "start_time": "2021-07-08T09:18:15.513Z"
   },
   {
    "duration": 26,
    "start_time": "2021-07-08T09:18:15.522Z"
   },
   {
    "duration": 49,
    "start_time": "2021-07-08T09:18:15.550Z"
   },
   {
    "duration": 21,
    "start_time": "2021-07-08T09:18:15.601Z"
   },
   {
    "duration": 8,
    "start_time": "2021-07-08T09:18:15.624Z"
   },
   {
    "duration": 3,
    "start_time": "2021-07-08T09:18:15.634Z"
   },
   {
    "duration": 8,
    "start_time": "2021-07-08T09:18:15.639Z"
   },
   {
    "duration": 45,
    "start_time": "2021-07-08T09:18:15.649Z"
   },
   {
    "duration": 13,
    "start_time": "2021-07-08T09:18:15.696Z"
   },
   {
    "duration": 10,
    "start_time": "2021-07-08T09:18:15.711Z"
   },
   {
    "duration": 64,
    "start_time": "2021-07-08T09:18:15.722Z"
   },
   {
    "duration": 19,
    "start_time": "2021-07-08T09:18:15.788Z"
   },
   {
    "duration": 9,
    "start_time": "2021-07-08T09:18:15.809Z"
   },
   {
    "duration": 9,
    "start_time": "2021-07-08T09:18:15.820Z"
   },
   {
    "duration": 18,
    "start_time": "2021-07-08T09:18:15.831Z"
   },
   {
    "duration": 43,
    "start_time": "2021-07-08T09:18:15.851Z"
   },
   {
    "duration": 12,
    "start_time": "2021-07-08T09:18:15.897Z"
   },
   {
    "duration": 219,
    "start_time": "2021-07-08T09:18:15.911Z"
   },
   {
    "duration": 8,
    "start_time": "2021-07-08T09:18:16.132Z"
   },
   {
    "duration": 199,
    "start_time": "2021-07-08T09:18:16.141Z"
   },
   {
    "duration": 18,
    "start_time": "2021-07-08T09:18:16.341Z"
   },
   {
    "duration": 24,
    "start_time": "2021-07-08T09:18:16.361Z"
   },
   {
    "duration": 24,
    "start_time": "2021-07-08T09:18:16.387Z"
   },
   {
    "duration": 211,
    "start_time": "2021-07-08T09:18:16.413Z"
   },
   {
    "duration": 18,
    "start_time": "2021-07-08T09:18:16.626Z"
   },
   {
    "duration": 596,
    "start_time": "2021-07-08T10:06:33.623Z"
   },
   {
    "duration": 181,
    "start_time": "2021-07-08T10:06:34.221Z"
   },
   {
    "duration": 176,
    "start_time": "2021-07-08T10:06:34.635Z"
   },
   {
    "duration": 239,
    "start_time": "2021-07-08T10:06:55.572Z"
   },
   {
    "duration": 6,
    "start_time": "2021-07-08T10:06:57.687Z"
   },
   {
    "duration": 4,
    "start_time": "2021-07-08T10:07:03.956Z"
   },
   {
    "duration": 4,
    "start_time": "2021-07-08T10:07:10.376Z"
   },
   {
    "duration": 4,
    "start_time": "2021-07-08T10:17:19.889Z"
   },
   {
    "duration": 3,
    "start_time": "2021-07-08T10:19:19.407Z"
   },
   {
    "duration": 197,
    "start_time": "2021-07-08T10:19:19.412Z"
   },
   {
    "duration": 127,
    "start_time": "2021-07-08T10:19:19.611Z"
   },
   {
    "duration": 4,
    "start_time": "2021-07-08T10:19:19.740Z"
   },
   {
    "duration": 27,
    "start_time": "2021-07-08T10:19:19.746Z"
   },
   {
    "duration": 7,
    "start_time": "2021-07-08T10:19:19.775Z"
   },
   {
    "duration": 30,
    "start_time": "2021-07-08T10:19:19.784Z"
   },
   {
    "duration": 7,
    "start_time": "2021-07-08T10:19:19.817Z"
   },
   {
    "duration": 26,
    "start_time": "2021-07-08T10:19:19.826Z"
   },
   {
    "duration": 18,
    "start_time": "2021-07-08T10:19:19.854Z"
   },
   {
    "duration": 14,
    "start_time": "2021-07-08T10:19:19.874Z"
   },
   {
    "duration": 48,
    "start_time": "2021-07-08T10:19:19.890Z"
   },
   {
    "duration": 17,
    "start_time": "2021-07-08T10:19:19.940Z"
   },
   {
    "duration": 38,
    "start_time": "2021-07-08T10:19:19.959Z"
   },
   {
    "duration": 8,
    "start_time": "2021-07-08T10:19:19.999Z"
   },
   {
    "duration": 15,
    "start_time": "2021-07-08T10:19:20.009Z"
   },
   {
    "duration": 22,
    "start_time": "2021-07-08T10:19:20.026Z"
   },
   {
    "duration": 10,
    "start_time": "2021-07-08T10:19:20.050Z"
   },
   {
    "duration": 10,
    "start_time": "2021-07-08T10:19:20.062Z"
   },
   {
    "duration": 20,
    "start_time": "2021-07-08T10:19:20.073Z"
   },
   {
    "duration": 29,
    "start_time": "2021-07-08T10:19:20.095Z"
   },
   {
    "duration": 17,
    "start_time": "2021-07-08T10:19:20.126Z"
   },
   {
    "duration": 40,
    "start_time": "2021-07-08T10:19:20.146Z"
   },
   {
    "duration": 15,
    "start_time": "2021-07-08T10:19:20.189Z"
   },
   {
    "duration": 19,
    "start_time": "2021-07-08T10:19:20.206Z"
   },
   {
    "duration": 10,
    "start_time": "2021-07-08T10:19:20.226Z"
   },
   {
    "duration": 11,
    "start_time": "2021-07-08T10:19:20.238Z"
   },
   {
    "duration": 297,
    "start_time": "2021-07-08T10:19:20.250Z"
   },
   {
    "duration": 6,
    "start_time": "2021-07-08T10:19:20.549Z"
   },
   {
    "duration": 191,
    "start_time": "2021-07-08T10:19:20.557Z"
   },
   {
    "duration": 19,
    "start_time": "2021-07-08T10:19:20.750Z"
   },
   {
    "duration": 20,
    "start_time": "2021-07-08T10:19:20.771Z"
   },
   {
    "duration": 15,
    "start_time": "2021-07-08T10:19:20.793Z"
   },
   {
    "duration": 222,
    "start_time": "2021-07-08T10:19:20.809Z"
   },
   {
    "duration": 20,
    "start_time": "2021-07-08T10:19:21.033Z"
   },
   {
    "duration": 27,
    "start_time": "2021-07-08T10:45:04.055Z"
   },
   {
    "duration": 8,
    "start_time": "2021-07-08T10:45:08.478Z"
   },
   {
    "duration": 8,
    "start_time": "2021-07-08T10:45:31.982Z"
   },
   {
    "duration": 10,
    "start_time": "2021-07-08T10:46:01.221Z"
   },
   {
    "duration": 17,
    "start_time": "2021-07-08T10:46:40.011Z"
   },
   {
    "duration": 193,
    "start_time": "2021-07-08T10:48:19.471Z"
   },
   {
    "duration": 225,
    "start_time": "2021-07-08T10:49:26.480Z"
   },
   {
    "duration": 204,
    "start_time": "2021-07-08T10:49:59.992Z"
   },
   {
    "duration": 435,
    "start_time": "2021-07-08T10:50:06.779Z"
   },
   {
    "duration": 199,
    "start_time": "2021-07-08T10:50:14.891Z"
   },
   {
    "duration": 204,
    "start_time": "2021-07-08T10:50:18.501Z"
   },
   {
    "duration": 244,
    "start_time": "2021-07-08T10:50:23.359Z"
   },
   {
    "duration": 192,
    "start_time": "2021-07-08T10:50:29.135Z"
   },
   {
    "duration": 218,
    "start_time": "2021-07-08T10:50:33.092Z"
   },
   {
    "duration": 207,
    "start_time": "2021-07-08T10:52:45.381Z"
   },
   {
    "duration": 5,
    "start_time": "2021-07-08T10:53:34.641Z"
   },
   {
    "duration": 196,
    "start_time": "2021-07-08T10:53:41.478Z"
   },
   {
    "duration": 43,
    "start_time": "2021-07-08T10:53:50.335Z"
   },
   {
    "duration": 32,
    "start_time": "2021-07-08T10:53:55.294Z"
   },
   {
    "duration": 55,
    "start_time": "2021-07-08T10:54:09.675Z"
   },
   {
    "duration": 16,
    "start_time": "2021-07-08T10:54:12.260Z"
   },
   {
    "duration": 15,
    "start_time": "2021-07-08T10:54:49.150Z"
   },
   {
    "duration": 20,
    "start_time": "2021-07-08T10:56:07.596Z"
   },
   {
    "duration": 16,
    "start_time": "2021-07-08T10:58:26.276Z"
   },
   {
    "duration": 22,
    "start_time": "2021-07-08T10:59:00.486Z"
   },
   {
    "duration": 18,
    "start_time": "2021-07-08T11:02:09.653Z"
   },
   {
    "duration": 10,
    "start_time": "2021-07-08T11:03:44.331Z"
   },
   {
    "duration": 10,
    "start_time": "2021-07-08T11:03:54.055Z"
   },
   {
    "duration": 12,
    "start_time": "2021-07-08T11:04:41.967Z"
   },
   {
    "duration": 24,
    "start_time": "2021-07-08T11:07:30.732Z"
   },
   {
    "duration": 6,
    "start_time": "2021-07-08T11:07:37.364Z"
   },
   {
    "duration": 16,
    "start_time": "2021-07-08T11:08:01.819Z"
   },
   {
    "duration": 17,
    "start_time": "2021-07-08T11:09:47.488Z"
   },
   {
    "duration": 246,
    "start_time": "2021-07-08T11:10:00.830Z"
   },
   {
    "duration": 18,
    "start_time": "2021-07-08T11:13:55.195Z"
   },
   {
    "duration": 204,
    "start_time": "2021-07-08T11:14:04.951Z"
   },
   {
    "duration": 19,
    "start_time": "2021-07-08T11:15:10.613Z"
   },
   {
    "duration": 680,
    "start_time": "2021-07-08T11:16:25.793Z"
   },
   {
    "duration": 451,
    "start_time": "2021-07-08T11:16:40.313Z"
   },
   {
    "duration": 469,
    "start_time": "2021-07-08T11:17:21.286Z"
   },
   {
    "duration": 20,
    "start_time": "2021-07-08T11:19:12.554Z"
   },
   {
    "duration": 35,
    "start_time": "2021-07-08T11:20:05.484Z"
   },
   {
    "duration": 53,
    "start_time": "2021-07-08T11:21:40.050Z"
   },
   {
    "duration": 13,
    "start_time": "2021-07-08T11:22:26.059Z"
   },
   {
    "duration": 19,
    "start_time": "2021-07-08T11:22:47.419Z"
   },
   {
    "duration": 25,
    "start_time": "2021-07-08T11:23:19.958Z"
   },
   {
    "duration": 29,
    "start_time": "2021-07-08T11:23:25.415Z"
   },
   {
    "duration": 10,
    "start_time": "2021-07-08T11:24:45.138Z"
   },
   {
    "duration": 19,
    "start_time": "2021-07-08T11:24:54.498Z"
   },
   {
    "duration": 12,
    "start_time": "2021-07-08T11:25:32.225Z"
   },
   {
    "duration": 19,
    "start_time": "2021-07-08T11:25:37.092Z"
   },
   {
    "duration": 17,
    "start_time": "2021-07-08T11:25:58.116Z"
   },
   {
    "duration": 15,
    "start_time": "2021-07-08T11:26:02.258Z"
   },
   {
    "duration": 8,
    "start_time": "2021-07-08T11:26:59.682Z"
   },
   {
    "duration": 184,
    "start_time": "2021-07-08T11:27:21.894Z"
   },
   {
    "duration": 8,
    "start_time": "2021-07-08T11:27:23.824Z"
   },
   {
    "duration": 202,
    "start_time": "2021-07-08T11:27:23.962Z"
   },
   {
    "duration": 360,
    "start_time": "2021-07-08T11:28:33.215Z"
   },
   {
    "duration": 231,
    "start_time": "2021-07-08T11:32:05.542Z"
   },
   {
    "duration": 607,
    "start_time": "2021-07-08T11:36:27.854Z"
   },
   {
    "duration": 241,
    "start_time": "2021-07-08T11:36:28.463Z"
   },
   {
    "duration": 67,
    "start_time": "2021-07-08T11:36:28.709Z"
   },
   {
    "duration": 5,
    "start_time": "2021-07-08T11:36:28.778Z"
   },
   {
    "duration": 32,
    "start_time": "2021-07-08T11:36:28.784Z"
   },
   {
    "duration": 11,
    "start_time": "2021-07-08T11:36:28.819Z"
   },
   {
    "duration": 20,
    "start_time": "2021-07-08T11:36:28.834Z"
   },
   {
    "duration": 36,
    "start_time": "2021-07-08T11:36:28.857Z"
   },
   {
    "duration": 16,
    "start_time": "2021-07-08T11:36:28.895Z"
   },
   {
    "duration": 14,
    "start_time": "2021-07-08T11:36:28.913Z"
   },
   {
    "duration": 9,
    "start_time": "2021-07-08T11:36:28.930Z"
   },
   {
    "duration": 55,
    "start_time": "2021-07-08T11:36:28.941Z"
   },
   {
    "duration": 27,
    "start_time": "2021-07-08T11:36:28.999Z"
   },
   {
    "duration": 30,
    "start_time": "2021-07-08T11:36:29.028Z"
   },
   {
    "duration": 31,
    "start_time": "2021-07-08T11:36:29.060Z"
   },
   {
    "duration": 3,
    "start_time": "2021-07-08T11:36:29.093Z"
   },
   {
    "duration": 12,
    "start_time": "2021-07-08T11:36:29.099Z"
   },
   {
    "duration": 11,
    "start_time": "2021-07-08T11:36:29.112Z"
   },
   {
    "duration": 12,
    "start_time": "2021-07-08T11:36:29.125Z"
   },
   {
    "duration": 9,
    "start_time": "2021-07-08T11:36:29.139Z"
   },
   {
    "duration": 31,
    "start_time": "2021-07-08T11:36:29.191Z"
   },
   {
    "duration": 17,
    "start_time": "2021-07-08T11:36:29.226Z"
   },
   {
    "duration": 7,
    "start_time": "2021-07-08T11:36:29.245Z"
   },
   {
    "duration": 10,
    "start_time": "2021-07-08T11:36:29.254Z"
   },
   {
    "duration": 30,
    "start_time": "2021-07-08T11:36:29.292Z"
   },
   {
    "duration": 11,
    "start_time": "2021-07-08T11:36:29.324Z"
   },
   {
    "duration": 11,
    "start_time": "2021-07-08T11:36:29.337Z"
   },
   {
    "duration": 230,
    "start_time": "2021-07-08T11:36:29.349Z"
   },
   {
    "duration": 13,
    "start_time": "2021-07-08T11:36:29.588Z"
   },
   {
    "duration": 205,
    "start_time": "2021-07-08T11:36:29.603Z"
   },
   {
    "duration": 20,
    "start_time": "2021-07-08T11:36:29.810Z"
   },
   {
    "duration": 9,
    "start_time": "2021-07-08T11:36:29.832Z"
   },
   {
    "duration": 16,
    "start_time": "2021-07-08T11:36:29.843Z"
   },
   {
    "duration": 283,
    "start_time": "2021-07-08T11:36:29.861Z"
   },
   {
    "duration": 50,
    "start_time": "2021-07-08T11:36:30.146Z"
   },
   {
    "duration": 14,
    "start_time": "2021-07-08T11:36:30.198Z"
   },
   {
    "duration": 11,
    "start_time": "2021-07-08T11:36:30.214Z"
   },
   {
    "duration": 245,
    "start_time": "2021-07-08T11:36:30.227Z"
   },
   {
    "duration": 439,
    "start_time": "2021-07-08T11:36:30.474Z"
   },
   {
    "duration": 210,
    "start_time": "2021-07-08T11:36:30.915Z"
   },
   {
    "duration": 15,
    "start_time": "2021-07-08T11:36:31.127Z"
   },
   {
    "duration": 17,
    "start_time": "2021-07-08T11:38:20.451Z"
   },
   {
    "duration": 642,
    "start_time": "2021-07-08T11:46:17.881Z"
   },
   {
    "duration": 210,
    "start_time": "2021-07-08T11:46:18.525Z"
   },
   {
    "duration": 104,
    "start_time": "2021-07-08T11:46:18.741Z"
   },
   {
    "duration": 8,
    "start_time": "2021-07-08T11:46:18.847Z"
   },
   {
    "duration": 25,
    "start_time": "2021-07-08T11:46:18.857Z"
   },
   {
    "duration": 14,
    "start_time": "2021-07-08T11:46:18.884Z"
   },
   {
    "duration": 22,
    "start_time": "2021-07-08T11:46:18.900Z"
   },
   {
    "duration": 5,
    "start_time": "2021-07-08T11:46:18.924Z"
   },
   {
    "duration": 13,
    "start_time": "2021-07-08T11:46:18.931Z"
   },
   {
    "duration": 45,
    "start_time": "2021-07-08T11:46:18.946Z"
   },
   {
    "duration": 12,
    "start_time": "2021-07-08T11:46:18.993Z"
   },
   {
    "duration": 38,
    "start_time": "2021-07-08T11:46:19.006Z"
   },
   {
    "duration": 50,
    "start_time": "2021-07-08T11:46:19.046Z"
   },
   {
    "duration": 29,
    "start_time": "2021-07-08T11:46:19.099Z"
   },
   {
    "duration": 7,
    "start_time": "2021-07-08T11:46:19.130Z"
   },
   {
    "duration": 3,
    "start_time": "2021-07-08T11:46:19.139Z"
   },
   {
    "duration": 11,
    "start_time": "2021-07-08T11:46:19.144Z"
   },
   {
    "duration": 40,
    "start_time": "2021-07-08T11:46:19.157Z"
   },
   {
    "duration": 15,
    "start_time": "2021-07-08T11:46:19.199Z"
   },
   {
    "duration": 10,
    "start_time": "2021-07-08T11:46:19.217Z"
   },
   {
    "duration": 68,
    "start_time": "2021-07-08T11:46:19.230Z"
   },
   {
    "duration": 17,
    "start_time": "2021-07-08T11:46:19.301Z"
   },
   {
    "duration": 7,
    "start_time": "2021-07-08T11:46:19.321Z"
   },
   {
    "duration": 11,
    "start_time": "2021-07-08T11:46:19.330Z"
   },
   {
    "duration": 59,
    "start_time": "2021-07-08T11:46:19.343Z"
   },
   {
    "duration": 17,
    "start_time": "2021-07-08T11:46:19.405Z"
   },
   {
    "duration": 16,
    "start_time": "2021-07-08T11:46:19.424Z"
   },
   {
    "duration": 252,
    "start_time": "2021-07-08T11:46:19.443Z"
   },
   {
    "duration": 9,
    "start_time": "2021-07-08T11:46:19.697Z"
   },
   {
    "duration": 224,
    "start_time": "2021-07-08T11:46:19.708Z"
   },
   {
    "duration": 21,
    "start_time": "2021-07-08T11:46:19.934Z"
   },
   {
    "duration": 9,
    "start_time": "2021-07-08T11:46:19.956Z"
   },
   {
    "duration": 32,
    "start_time": "2021-07-08T11:46:19.967Z"
   },
   {
    "duration": 288,
    "start_time": "2021-07-08T11:46:20.004Z"
   },
   {
    "duration": 23,
    "start_time": "2021-07-08T11:46:20.300Z"
   },
   {
    "duration": 11,
    "start_time": "2021-07-08T11:46:20.325Z"
   },
   {
    "duration": 11,
    "start_time": "2021-07-08T11:46:20.339Z"
   },
   {
    "duration": 259,
    "start_time": "2021-07-08T11:46:20.352Z"
   },
   {
    "duration": 438,
    "start_time": "2021-07-08T11:46:20.613Z"
   },
   {
    "duration": 207,
    "start_time": "2021-07-08T11:46:21.054Z"
   },
   {
    "duration": 27,
    "start_time": "2021-07-08T11:46:21.262Z"
   },
   {
    "duration": 19,
    "start_time": "2021-07-08T11:46:21.291Z"
   },
   {
    "duration": 820,
    "start_time": "2021-07-08T11:49:01.655Z"
   },
   {
    "duration": 372,
    "start_time": "2021-07-08T11:49:02.478Z"
   },
   {
    "duration": 98,
    "start_time": "2021-07-08T11:49:02.853Z"
   },
   {
    "duration": 6,
    "start_time": "2021-07-08T11:49:02.953Z"
   },
   {
    "duration": 39,
    "start_time": "2021-07-08T11:49:02.960Z"
   },
   {
    "duration": 9,
    "start_time": "2021-07-08T11:49:03.003Z"
   },
   {
    "duration": 23,
    "start_time": "2021-07-08T11:49:03.014Z"
   },
   {
    "duration": 6,
    "start_time": "2021-07-08T11:49:03.041Z"
   },
   {
    "duration": 20,
    "start_time": "2021-07-08T11:49:03.049Z"
   },
   {
    "duration": 18,
    "start_time": "2021-07-08T11:49:03.084Z"
   },
   {
    "duration": 14,
    "start_time": "2021-07-08T11:49:03.104Z"
   },
   {
    "duration": 39,
    "start_time": "2021-07-08T11:49:03.119Z"
   },
   {
    "duration": 38,
    "start_time": "2021-07-08T11:49:03.160Z"
   },
   {
    "duration": 26,
    "start_time": "2021-07-08T11:49:03.200Z"
   },
   {
    "duration": 7,
    "start_time": "2021-07-08T11:49:03.227Z"
   },
   {
    "duration": 4,
    "start_time": "2021-07-08T11:49:03.236Z"
   },
   {
    "duration": 15,
    "start_time": "2021-07-08T11:49:03.243Z"
   },
   {
    "duration": 21,
    "start_time": "2021-07-08T11:49:03.285Z"
   },
   {
    "duration": 17,
    "start_time": "2021-07-08T11:49:03.309Z"
   },
   {
    "duration": 10,
    "start_time": "2021-07-08T11:49:03.328Z"
   },
   {
    "duration": 65,
    "start_time": "2021-07-08T11:49:03.340Z"
   },
   {
    "duration": 18,
    "start_time": "2021-07-08T11:49:03.407Z"
   },
   {
    "duration": 8,
    "start_time": "2021-07-08T11:49:03.428Z"
   },
   {
    "duration": 15,
    "start_time": "2021-07-08T11:49:03.438Z"
   },
   {
    "duration": 40,
    "start_time": "2021-07-08T11:49:03.455Z"
   },
   {
    "duration": 12,
    "start_time": "2021-07-08T11:49:03.497Z"
   },
   {
    "duration": 29,
    "start_time": "2021-07-08T11:49:03.511Z"
   },
   {
    "duration": 285,
    "start_time": "2021-07-08T11:49:03.542Z"
   },
   {
    "duration": 8,
    "start_time": "2021-07-08T11:49:03.829Z"
   },
   {
    "duration": 227,
    "start_time": "2021-07-08T11:49:03.838Z"
   },
   {
    "duration": 40,
    "start_time": "2021-07-08T11:49:04.066Z"
   },
   {
    "duration": 10,
    "start_time": "2021-07-08T11:49:04.108Z"
   },
   {
    "duration": 26,
    "start_time": "2021-07-08T11:49:04.121Z"
   },
   {
    "duration": 290,
    "start_time": "2021-07-08T11:49:04.149Z"
   },
   {
    "duration": 26,
    "start_time": "2021-07-08T11:49:04.441Z"
   },
   {
    "duration": 31,
    "start_time": "2021-07-08T11:49:04.470Z"
   },
   {
    "duration": 14,
    "start_time": "2021-07-08T11:49:04.503Z"
   },
   {
    "duration": 259,
    "start_time": "2021-07-08T11:49:04.521Z"
   },
   {
    "duration": 480,
    "start_time": "2021-07-08T11:49:04.782Z"
   },
   {
    "duration": 225,
    "start_time": "2021-07-08T11:49:05.264Z"
   },
   {
    "duration": 22,
    "start_time": "2021-07-08T11:49:05.491Z"
   },
   {
    "duration": 24,
    "start_time": "2021-07-08T11:49:05.515Z"
   },
   {
    "duration": 634,
    "start_time": "2021-07-08T11:52:24.960Z"
   },
   {
    "duration": 199,
    "start_time": "2021-07-08T11:52:25.599Z"
   },
   {
    "duration": 106,
    "start_time": "2021-07-08T11:52:25.803Z"
   },
   {
    "duration": 7,
    "start_time": "2021-07-08T11:52:25.911Z"
   },
   {
    "duration": 29,
    "start_time": "2021-07-08T11:52:25.920Z"
   },
   {
    "duration": 7,
    "start_time": "2021-07-08T11:52:25.951Z"
   },
   {
    "duration": 26,
    "start_time": "2021-07-08T11:52:25.961Z"
   },
   {
    "duration": 11,
    "start_time": "2021-07-08T11:52:25.990Z"
   },
   {
    "duration": 29,
    "start_time": "2021-07-08T11:52:26.005Z"
   },
   {
    "duration": 9,
    "start_time": "2021-07-08T11:52:26.036Z"
   },
   {
    "duration": 8,
    "start_time": "2021-07-08T11:52:26.047Z"
   },
   {
    "duration": 63,
    "start_time": "2021-07-08T11:52:26.057Z"
   },
   {
    "duration": 17,
    "start_time": "2021-07-08T11:52:26.122Z"
   },
   {
    "duration": 43,
    "start_time": "2021-07-08T11:52:26.142Z"
   },
   {
    "duration": 17,
    "start_time": "2021-07-08T11:52:26.187Z"
   },
   {
    "duration": 5,
    "start_time": "2021-07-08T11:52:26.206Z"
   },
   {
    "duration": 12,
    "start_time": "2021-07-08T11:52:26.212Z"
   },
   {
    "duration": 11,
    "start_time": "2021-07-08T11:52:26.226Z"
   },
   {
    "duration": 12,
    "start_time": "2021-07-08T11:52:26.238Z"
   },
   {
    "duration": 38,
    "start_time": "2021-07-08T11:52:26.252Z"
   },
   {
    "duration": 40,
    "start_time": "2021-07-08T11:52:26.292Z"
   },
   {
    "duration": 17,
    "start_time": "2021-07-08T11:52:26.336Z"
   },
   {
    "duration": 39,
    "start_time": "2021-07-08T11:52:26.355Z"
   },
   {
    "duration": 11,
    "start_time": "2021-07-08T11:52:26.395Z"
   },
   {
    "duration": 23,
    "start_time": "2021-07-08T11:52:26.408Z"
   },
   {
    "duration": 12,
    "start_time": "2021-07-08T11:52:26.432Z"
   },
   {
    "duration": 41,
    "start_time": "2021-07-08T11:52:26.446Z"
   },
   {
    "duration": 215,
    "start_time": "2021-07-08T11:52:26.493Z"
   },
   {
    "duration": 8,
    "start_time": "2021-07-08T11:52:26.710Z"
   },
   {
    "duration": 228,
    "start_time": "2021-07-08T11:52:26.720Z"
   },
   {
    "duration": 18,
    "start_time": "2021-07-08T11:52:26.950Z"
   },
   {
    "duration": 35,
    "start_time": "2021-07-08T11:52:26.969Z"
   },
   {
    "duration": 23,
    "start_time": "2021-07-08T11:52:27.006Z"
   },
   {
    "duration": 258,
    "start_time": "2021-07-08T11:52:27.030Z"
   },
   {
    "duration": 24,
    "start_time": "2021-07-08T11:52:27.290Z"
   },
   {
    "duration": 12,
    "start_time": "2021-07-08T11:52:27.316Z"
   },
   {
    "duration": 10,
    "start_time": "2021-07-08T11:52:27.329Z"
   },
   {
    "duration": 298,
    "start_time": "2021-07-08T11:52:27.341Z"
   },
   {
    "duration": 436,
    "start_time": "2021-07-08T11:52:27.641Z"
   },
   {
    "duration": 216,
    "start_time": "2021-07-08T11:52:28.079Z"
   },
   {
    "duration": 20,
    "start_time": "2021-07-08T11:52:28.297Z"
   },
   {
    "duration": 17,
    "start_time": "2021-07-08T11:52:28.319Z"
   },
   {
    "duration": 385,
    "start_time": "2023-02-20T03:41:32.764Z"
   },
   {
    "duration": 60,
    "start_time": "2023-02-20T03:42:02.786Z"
   },
   {
    "duration": 3,
    "start_time": "2023-02-20T03:42:07.968Z"
   },
   {
    "duration": 3,
    "start_time": "2023-02-20T03:42:08.288Z"
   },
   {
    "duration": 2,
    "start_time": "2023-02-20T03:42:08.882Z"
   },
   {
    "duration": 2,
    "start_time": "2023-02-20T03:42:10.600Z"
   },
   {
    "duration": 263,
    "start_time": "2023-02-20T03:42:11.095Z"
   },
   {
    "duration": 95,
    "start_time": "2023-02-20T03:42:29.022Z"
   },
   {
    "duration": 87,
    "start_time": "2023-02-20T03:42:38.700Z"
   },
   {
    "duration": 86,
    "start_time": "2023-02-20T03:43:03.741Z"
   },
   {
    "duration": 79,
    "start_time": "2023-02-20T03:43:56.851Z"
   },
   {
    "duration": 84,
    "start_time": "2023-02-20T03:44:01.448Z"
   },
   {
    "duration": 98,
    "start_time": "2023-02-20T03:44:47.488Z"
   },
   {
    "duration": 84,
    "start_time": "2023-02-20T03:44:52.500Z"
   },
   {
    "duration": 80,
    "start_time": "2023-02-20T03:45:08.783Z"
   },
   {
    "duration": 43,
    "start_time": "2023-02-20T03:45:14.077Z"
   },
   {
    "duration": 87,
    "start_time": "2023-02-20T03:45:37.879Z"
   },
   {
    "duration": 48,
    "start_time": "2023-02-20T09:40:40.588Z"
   },
   {
    "duration": 350,
    "start_time": "2023-02-20T09:40:44.153Z"
   },
   {
    "duration": 288,
    "start_time": "2023-02-20T09:40:45.304Z"
   },
   {
    "duration": 102,
    "start_time": "2023-02-20T09:40:50.318Z"
   },
   {
    "duration": 82,
    "start_time": "2023-02-20T09:41:43.203Z"
   },
   {
    "duration": 33,
    "start_time": "2023-02-20T10:09:58.579Z"
   },
   {
    "duration": 5,
    "start_time": "2023-02-20T10:10:52.386Z"
   },
   {
    "duration": 84,
    "start_time": "2023-02-20T10:11:02.435Z"
   },
   {
    "duration": 5,
    "start_time": "2023-02-20T10:11:09.131Z"
   },
   {
    "duration": 9,
    "start_time": "2023-02-20T10:11:42.903Z"
   },
   {
    "duration": 5,
    "start_time": "2023-02-20T10:12:00.525Z"
   },
   {
    "duration": 97,
    "start_time": "2023-02-20T10:12:28.826Z"
   },
   {
    "duration": 47,
    "start_time": "2023-02-20T10:12:36.705Z"
   },
   {
    "duration": 9,
    "start_time": "2023-02-20T10:14:42.120Z"
   },
   {
    "duration": 9,
    "start_time": "2023-02-20T10:15:00.470Z"
   },
   {
    "duration": 228,
    "start_time": "2023-02-20T10:15:07.883Z"
   },
   {
    "duration": 9,
    "start_time": "2023-02-20T10:15:52.435Z"
   },
   {
    "duration": 7,
    "start_time": "2023-02-20T10:16:10.801Z"
   },
   {
    "duration": 10,
    "start_time": "2023-02-20T10:17:50.253Z"
   },
   {
    "duration": 5,
    "start_time": "2023-02-20T10:19:26.182Z"
   },
   {
    "duration": 183,
    "start_time": "2023-02-20T10:19:57.099Z"
   },
   {
    "duration": 113,
    "start_time": "2023-02-20T10:20:24.358Z"
   },
   {
    "duration": 119,
    "start_time": "2023-02-20T10:20:49.333Z"
   },
   {
    "duration": 86,
    "start_time": "2023-02-20T10:21:04.539Z"
   },
   {
    "duration": 45,
    "start_time": "2023-02-20T10:31:23.535Z"
   },
   {
    "duration": 18,
    "start_time": "2023-02-20T10:31:34.548Z"
   },
   {
    "duration": 12,
    "start_time": "2023-02-20T10:35:50.946Z"
   },
   {
    "duration": 16,
    "start_time": "2023-02-20T10:36:12.441Z"
   },
   {
    "duration": 188,
    "start_time": "2023-02-20T10:36:46.661Z"
   },
   {
    "duration": 19,
    "start_time": "2023-02-20T10:36:57.604Z"
   },
   {
    "duration": 7,
    "start_time": "2023-02-20T10:38:10.407Z"
   },
   {
    "duration": 7,
    "start_time": "2023-02-20T10:38:21.425Z"
   },
   {
    "duration": 8,
    "start_time": "2023-02-20T10:38:27.184Z"
   },
   {
    "duration": 6,
    "start_time": "2023-02-20T10:38:35.048Z"
   },
   {
    "duration": 4,
    "start_time": "2023-02-20T10:39:04.408Z"
   },
   {
    "duration": 18,
    "start_time": "2023-02-20T10:39:07.556Z"
   },
   {
    "duration": 4,
    "start_time": "2023-02-20T10:39:09.152Z"
   },
   {
    "duration": 5,
    "start_time": "2023-02-20T10:39:11.750Z"
   },
   {
    "duration": 3,
    "start_time": "2023-02-20T10:39:31.671Z"
   },
   {
    "duration": 25,
    "start_time": "2023-02-20T10:39:32.721Z"
   },
   {
    "duration": 38,
    "start_time": "2023-02-20T10:39:58.935Z"
   },
   {
    "duration": 50,
    "start_time": "2023-02-20T10:40:34.589Z"
   },
   {
    "duration": 28,
    "start_time": "2023-02-20T10:40:48.331Z"
   },
   {
    "duration": 27,
    "start_time": "2023-02-20T10:41:26.613Z"
   },
   {
    "duration": 12,
    "start_time": "2023-02-20T10:41:38.749Z"
   },
   {
    "duration": 7,
    "start_time": "2023-02-20T10:41:54.278Z"
   },
   {
    "duration": 7,
    "start_time": "2023-02-20T10:42:14.727Z"
   },
   {
    "duration": 12,
    "start_time": "2023-02-20T10:43:02.470Z"
   },
   {
    "duration": 17,
    "start_time": "2023-02-20T10:43:17.642Z"
   },
   {
    "duration": 3,
    "start_time": "2023-02-20T10:44:34.838Z"
   },
   {
    "duration": 13,
    "start_time": "2023-02-20T10:44:35.760Z"
   },
   {
    "duration": 8,
    "start_time": "2023-02-20T10:44:36.809Z"
   },
   {
    "duration": 18,
    "start_time": "2023-02-20T10:44:37.566Z"
   },
   {
    "duration": 4,
    "start_time": "2023-02-20T11:00:28.692Z"
   },
   {
    "duration": 5,
    "start_time": "2023-02-20T11:01:44.713Z"
   },
   {
    "duration": 4,
    "start_time": "2023-02-20T11:01:49.212Z"
   },
   {
    "duration": 4,
    "start_time": "2023-02-20T11:02:18.325Z"
   },
   {
    "duration": 5,
    "start_time": "2023-02-20T11:04:48.988Z"
   },
   {
    "duration": 6,
    "start_time": "2023-02-20T11:04:58.112Z"
   },
   {
    "duration": 3,
    "start_time": "2023-02-20T11:05:14.796Z"
   },
   {
    "duration": 4,
    "start_time": "2023-02-20T11:05:18.028Z"
   },
   {
    "duration": 4,
    "start_time": "2023-02-20T11:05:19.676Z"
   },
   {
    "duration": 5,
    "start_time": "2023-02-20T11:05:27.456Z"
   },
   {
    "duration": 7,
    "start_time": "2023-02-20T11:07:41.671Z"
   },
   {
    "duration": 5,
    "start_time": "2023-02-20T11:07:46.991Z"
   },
   {
    "duration": 6,
    "start_time": "2023-02-20T11:08:33.247Z"
   },
   {
    "duration": 7,
    "start_time": "2023-02-20T11:09:27.825Z"
   },
   {
    "duration": 13,
    "start_time": "2023-02-20T11:09:33.066Z"
   },
   {
    "duration": 11,
    "start_time": "2023-02-20T11:11:17.955Z"
   },
   {
    "duration": 7,
    "start_time": "2023-02-20T11:11:23.206Z"
   },
   {
    "duration": 5,
    "start_time": "2023-02-20T11:11:32.110Z"
   },
   {
    "duration": 336,
    "start_time": "2023-02-20T11:12:59.424Z"
   },
   {
    "duration": 12,
    "start_time": "2023-02-20T11:13:13.986Z"
   },
   {
    "duration": 14,
    "start_time": "2023-02-20T11:13:44.325Z"
   },
   {
    "duration": 15,
    "start_time": "2023-02-20T11:13:49.727Z"
   },
   {
    "duration": 13,
    "start_time": "2023-02-20T11:14:08.849Z"
   },
   {
    "duration": 14,
    "start_time": "2023-02-20T11:14:11.998Z"
   },
   {
    "duration": 3,
    "start_time": "2023-02-20T11:14:19.351Z"
   },
   {
    "duration": 99,
    "start_time": "2023-02-20T11:14:19.356Z"
   },
   {
    "duration": 45,
    "start_time": "2023-02-20T11:14:19.456Z"
   },
   {
    "duration": 16,
    "start_time": "2023-02-20T11:14:19.503Z"
   },
   {
    "duration": 7,
    "start_time": "2023-02-20T11:14:19.522Z"
   },
   {
    "duration": 8,
    "start_time": "2023-02-20T11:14:19.531Z"
   },
   {
    "duration": 19,
    "start_time": "2023-02-20T11:14:19.541Z"
   },
   {
    "duration": 9,
    "start_time": "2023-02-20T11:14:19.562Z"
   },
   {
    "duration": 34,
    "start_time": "2023-02-20T11:14:19.573Z"
   },
   {
    "duration": 10,
    "start_time": "2023-02-20T11:14:19.609Z"
   },
   {
    "duration": 11,
    "start_time": "2023-02-20T11:14:19.620Z"
   },
   {
    "duration": 16,
    "start_time": "2023-02-20T11:14:19.632Z"
   },
   {
    "duration": 2,
    "start_time": "2023-02-20T11:17:31.381Z"
   },
   {
    "duration": 105,
    "start_time": "2023-02-20T11:17:31.386Z"
   },
   {
    "duration": 42,
    "start_time": "2023-02-20T11:17:31.493Z"
   },
   {
    "duration": 14,
    "start_time": "2023-02-20T11:17:31.537Z"
   },
   {
    "duration": 10,
    "start_time": "2023-02-20T11:17:31.553Z"
   },
   {
    "duration": 25,
    "start_time": "2023-02-20T11:17:31.565Z"
   },
   {
    "duration": 40,
    "start_time": "2023-02-20T11:17:31.593Z"
   },
   {
    "duration": 11,
    "start_time": "2023-02-20T11:17:31.635Z"
   },
   {
    "duration": 18,
    "start_time": "2023-02-20T11:17:31.648Z"
   },
   {
    "duration": 14,
    "start_time": "2023-02-20T11:17:31.668Z"
   },
   {
    "duration": 20,
    "start_time": "2023-02-20T11:17:31.683Z"
   },
   {
    "duration": 13,
    "start_time": "2023-02-20T11:17:31.704Z"
   },
   {
    "duration": 10,
    "start_time": "2023-02-20T11:20:00.234Z"
   },
   {
    "duration": 12,
    "start_time": "2023-02-20T11:20:08.100Z"
   },
   {
    "duration": 354,
    "start_time": "2023-02-20T11:20:31.735Z"
   },
   {
    "duration": 355,
    "start_time": "2023-02-20T11:20:41.373Z"
   },
   {
    "duration": 13,
    "start_time": "2023-02-20T11:20:55.917Z"
   },
   {
    "duration": 11,
    "start_time": "2023-02-20T11:21:39.204Z"
   },
   {
    "duration": 13,
    "start_time": "2023-02-20T11:21:51.868Z"
   },
   {
    "duration": 3,
    "start_time": "2023-02-20T11:21:56.482Z"
   },
   {
    "duration": 100,
    "start_time": "2023-02-20T11:21:56.487Z"
   },
   {
    "duration": 38,
    "start_time": "2023-02-20T11:21:56.589Z"
   },
   {
    "duration": 15,
    "start_time": "2023-02-20T11:21:56.629Z"
   },
   {
    "duration": 6,
    "start_time": "2023-02-20T11:21:56.646Z"
   },
   {
    "duration": 13,
    "start_time": "2023-02-20T11:21:56.653Z"
   },
   {
    "duration": 15,
    "start_time": "2023-02-20T11:21:56.668Z"
   },
   {
    "duration": 8,
    "start_time": "2023-02-20T11:21:56.684Z"
   },
   {
    "duration": 14,
    "start_time": "2023-02-20T11:21:56.693Z"
   },
   {
    "duration": 8,
    "start_time": "2023-02-20T11:21:56.709Z"
   },
   {
    "duration": 16,
    "start_time": "2023-02-20T11:21:56.719Z"
   },
   {
    "duration": 11,
    "start_time": "2023-02-20T11:21:56.736Z"
   },
   {
    "duration": 13,
    "start_time": "2023-02-20T11:25:42.668Z"
   },
   {
    "duration": 12,
    "start_time": "2023-02-20T11:26:08.046Z"
   },
   {
    "duration": 14,
    "start_time": "2023-02-20T11:26:13.291Z"
   },
   {
    "duration": 11,
    "start_time": "2023-02-20T11:26:22.767Z"
   },
   {
    "duration": 11,
    "start_time": "2023-02-20T11:26:47.665Z"
   },
   {
    "duration": 17,
    "start_time": "2023-02-20T11:26:52.289Z"
   },
   {
    "duration": 10,
    "start_time": "2023-02-20T11:26:58.712Z"
   },
   {
    "duration": 27,
    "start_time": "2023-02-20T11:27:10.291Z"
   },
   {
    "duration": 734,
    "start_time": "2023-02-20T11:27:13.938Z"
   },
   {
    "duration": 683,
    "start_time": "2023-02-20T11:27:17.616Z"
   },
   {
    "duration": 3,
    "start_time": "2023-02-20T11:27:24.429Z"
   },
   {
    "duration": 88,
    "start_time": "2023-02-20T11:27:24.433Z"
   },
   {
    "duration": 38,
    "start_time": "2023-02-20T11:27:24.523Z"
   },
   {
    "duration": 16,
    "start_time": "2023-02-20T11:27:24.563Z"
   },
   {
    "duration": 12,
    "start_time": "2023-02-20T11:27:24.582Z"
   },
   {
    "duration": 26,
    "start_time": "2023-02-20T11:27:24.596Z"
   },
   {
    "duration": 23,
    "start_time": "2023-02-20T11:27:24.624Z"
   },
   {
    "duration": 8,
    "start_time": "2023-02-20T11:27:24.648Z"
   },
   {
    "duration": 33,
    "start_time": "2023-02-20T11:27:24.657Z"
   },
   {
    "duration": 32,
    "start_time": "2023-02-20T11:27:24.691Z"
   },
   {
    "duration": 8,
    "start_time": "2023-02-20T11:27:24.725Z"
   },
   {
    "duration": 28,
    "start_time": "2023-02-20T11:27:24.734Z"
   },
   {
    "duration": 8,
    "start_time": "2023-02-20T11:28:07.004Z"
   },
   {
    "duration": 759,
    "start_time": "2023-02-20T11:28:11.912Z"
   },
   {
    "duration": 2,
    "start_time": "2023-02-20T11:31:01.364Z"
   },
   {
    "duration": 118,
    "start_time": "2023-02-20T11:31:01.368Z"
   },
   {
    "duration": 38,
    "start_time": "2023-02-20T11:31:01.488Z"
   },
   {
    "duration": 15,
    "start_time": "2023-02-20T11:31:01.529Z"
   },
   {
    "duration": 19,
    "start_time": "2023-02-20T11:31:01.547Z"
   },
   {
    "duration": 37,
    "start_time": "2023-02-20T11:31:01.568Z"
   },
   {
    "duration": 27,
    "start_time": "2023-02-20T11:31:01.607Z"
   },
   {
    "duration": 58,
    "start_time": "2023-02-20T11:31:01.635Z"
   },
   {
    "duration": 51,
    "start_time": "2023-02-20T11:31:01.694Z"
   },
   {
    "duration": 42,
    "start_time": "2023-02-20T11:31:01.746Z"
   },
   {
    "duration": 21,
    "start_time": "2023-02-20T11:31:01.790Z"
   },
   {
    "duration": 48,
    "start_time": "2023-02-20T11:31:01.813Z"
   },
   {
    "duration": 12,
    "start_time": "2023-02-20T11:31:18.679Z"
   },
   {
    "duration": 2,
    "start_time": "2023-02-20T11:31:21.301Z"
   },
   {
    "duration": 96,
    "start_time": "2023-02-20T11:31:21.305Z"
   },
   {
    "duration": 38,
    "start_time": "2023-02-20T11:31:21.403Z"
   },
   {
    "duration": 16,
    "start_time": "2023-02-20T11:31:21.443Z"
   },
   {
    "duration": 17,
    "start_time": "2023-02-20T11:31:21.461Z"
   },
   {
    "duration": 9,
    "start_time": "2023-02-20T11:31:21.480Z"
   },
   {
    "duration": 16,
    "start_time": "2023-02-20T11:31:21.490Z"
   },
   {
    "duration": 8,
    "start_time": "2023-02-20T11:31:21.509Z"
   },
   {
    "duration": 30,
    "start_time": "2023-02-20T11:31:21.519Z"
   },
   {
    "duration": 9,
    "start_time": "2023-02-20T11:31:21.550Z"
   },
   {
    "duration": 7,
    "start_time": "2023-02-20T11:31:21.561Z"
   },
   {
    "duration": 416,
    "start_time": "2023-02-20T11:31:21.569Z"
   },
   {
    "duration": 550,
    "start_time": "2023-02-20T11:31:52.236Z"
   },
   {
    "duration": 385,
    "start_time": "2023-02-20T11:32:02.318Z"
   },
   {
    "duration": 2,
    "start_time": "2023-02-20T11:32:08.623Z"
   },
   {
    "duration": 93,
    "start_time": "2023-02-20T11:32:08.627Z"
   },
   {
    "duration": 38,
    "start_time": "2023-02-20T11:32:08.722Z"
   },
   {
    "duration": 17,
    "start_time": "2023-02-20T11:32:08.761Z"
   },
   {
    "duration": 5,
    "start_time": "2023-02-20T11:32:08.781Z"
   },
   {
    "duration": 10,
    "start_time": "2023-02-20T11:32:08.788Z"
   },
   {
    "duration": 15,
    "start_time": "2023-02-20T11:32:08.800Z"
   },
   {
    "duration": 8,
    "start_time": "2023-02-20T11:32:08.817Z"
   },
   {
    "duration": 15,
    "start_time": "2023-02-20T11:32:08.827Z"
   },
   {
    "duration": 9,
    "start_time": "2023-02-20T11:32:08.844Z"
   },
   {
    "duration": 8,
    "start_time": "2023-02-20T11:32:08.855Z"
   },
   {
    "duration": 344,
    "start_time": "2023-02-20T11:32:08.865Z"
   },
   {
    "duration": 348,
    "start_time": "2023-02-20T11:32:41.110Z"
   },
   {
    "duration": 3,
    "start_time": "2023-02-20T11:33:04.949Z"
   },
   {
    "duration": 125,
    "start_time": "2023-02-20T11:33:04.954Z"
   },
   {
    "duration": 45,
    "start_time": "2023-02-20T11:33:05.081Z"
   },
   {
    "duration": 20,
    "start_time": "2023-02-20T11:33:05.127Z"
   },
   {
    "duration": 17,
    "start_time": "2023-02-20T11:33:05.149Z"
   },
   {
    "duration": 14,
    "start_time": "2023-02-20T11:33:05.168Z"
   },
   {
    "duration": 23,
    "start_time": "2023-02-20T11:33:05.184Z"
   },
   {
    "duration": 15,
    "start_time": "2023-02-20T11:33:05.209Z"
   },
   {
    "duration": 31,
    "start_time": "2023-02-20T11:33:05.226Z"
   },
   {
    "duration": 16,
    "start_time": "2023-02-20T11:33:05.259Z"
   },
   {
    "duration": 16,
    "start_time": "2023-02-20T11:33:05.277Z"
   },
   {
    "duration": 405,
    "start_time": "2023-02-20T11:33:05.295Z"
   },
   {
    "duration": 385,
    "start_time": "2023-02-20T11:33:30.428Z"
   },
   {
    "duration": 10,
    "start_time": "2023-02-20T11:33:46.152Z"
   },
   {
    "duration": 12,
    "start_time": "2023-02-20T11:33:54.527Z"
   },
   {
    "duration": 17,
    "start_time": "2023-02-20T11:34:00.359Z"
   },
   {
    "duration": 297,
    "start_time": "2023-02-20T11:34:06.251Z"
   },
   {
    "duration": 3,
    "start_time": "2023-02-20T11:34:52.992Z"
   },
   {
    "duration": 120,
    "start_time": "2023-02-20T11:34:52.996Z"
   },
   {
    "duration": 37,
    "start_time": "2023-02-20T11:34:53.118Z"
   },
   {
    "duration": 16,
    "start_time": "2023-02-20T11:34:53.157Z"
   },
   {
    "duration": 24,
    "start_time": "2023-02-20T11:34:53.175Z"
   },
   {
    "duration": 17,
    "start_time": "2023-02-20T11:34:53.201Z"
   },
   {
    "duration": 36,
    "start_time": "2023-02-20T11:34:53.219Z"
   },
   {
    "duration": 10,
    "start_time": "2023-02-20T11:34:53.256Z"
   },
   {
    "duration": 17,
    "start_time": "2023-02-20T11:34:53.268Z"
   },
   {
    "duration": 26,
    "start_time": "2023-02-20T11:34:53.287Z"
   },
   {
    "duration": 11,
    "start_time": "2023-02-20T11:34:53.315Z"
   },
   {
    "duration": 22,
    "start_time": "2023-02-20T11:34:53.327Z"
   },
   {
    "duration": 13,
    "start_time": "2023-02-20T11:35:02.224Z"
   },
   {
    "duration": 3,
    "start_time": "2023-02-20T11:36:08.327Z"
   },
   {
    "duration": 91,
    "start_time": "2023-02-20T11:36:08.332Z"
   },
   {
    "duration": 37,
    "start_time": "2023-02-20T11:36:08.424Z"
   },
   {
    "duration": 15,
    "start_time": "2023-02-20T11:36:08.463Z"
   },
   {
    "duration": 11,
    "start_time": "2023-02-20T11:36:08.480Z"
   },
   {
    "duration": 14,
    "start_time": "2023-02-20T11:36:08.493Z"
   },
   {
    "duration": 23,
    "start_time": "2023-02-20T11:36:08.509Z"
   },
   {
    "duration": 10,
    "start_time": "2023-02-20T11:36:08.533Z"
   },
   {
    "duration": 20,
    "start_time": "2023-02-20T11:36:08.544Z"
   },
   {
    "duration": 13,
    "start_time": "2023-02-20T11:36:08.566Z"
   },
   {
    "duration": 14,
    "start_time": "2023-02-20T11:36:08.581Z"
   },
   {
    "duration": 15,
    "start_time": "2023-02-20T11:36:08.597Z"
   },
   {
    "duration": 11,
    "start_time": "2023-02-20T11:37:45.574Z"
   },
   {
    "duration": 376,
    "start_time": "2023-02-20T11:37:55.523Z"
   },
   {
    "duration": 351,
    "start_time": "2023-02-20T11:38:03.176Z"
   },
   {
    "duration": 384,
    "start_time": "2023-02-20T11:38:14.742Z"
   },
   {
    "duration": 355,
    "start_time": "2023-02-20T11:38:18.896Z"
   },
   {
    "duration": 350,
    "start_time": "2023-02-20T11:38:22.881Z"
   },
   {
    "duration": 331,
    "start_time": "2023-02-20T11:38:27.512Z"
   },
   {
    "duration": 2,
    "start_time": "2023-02-20T11:38:37.171Z"
   },
   {
    "duration": 96,
    "start_time": "2023-02-20T11:38:37.176Z"
   },
   {
    "duration": 39,
    "start_time": "2023-02-20T11:38:37.274Z"
   },
   {
    "duration": 16,
    "start_time": "2023-02-20T11:38:37.315Z"
   },
   {
    "duration": 6,
    "start_time": "2023-02-20T11:38:37.333Z"
   },
   {
    "duration": 9,
    "start_time": "2023-02-20T11:38:37.341Z"
   },
   {
    "duration": 22,
    "start_time": "2023-02-20T11:38:37.351Z"
   },
   {
    "duration": 9,
    "start_time": "2023-02-20T11:38:37.375Z"
   },
   {
    "duration": 24,
    "start_time": "2023-02-20T11:38:37.387Z"
   },
   {
    "duration": 11,
    "start_time": "2023-02-20T11:38:37.413Z"
   },
   {
    "duration": 15,
    "start_time": "2023-02-20T11:38:37.426Z"
   },
   {
    "duration": 348,
    "start_time": "2023-02-20T11:38:37.474Z"
   },
   {
    "duration": 11,
    "start_time": "2023-02-20T11:40:20.605Z"
   },
   {
    "duration": 3,
    "start_time": "2023-02-20T11:41:31.550Z"
   },
   {
    "duration": 104,
    "start_time": "2023-02-20T11:41:31.556Z"
   },
   {
    "duration": 38,
    "start_time": "2023-02-20T11:41:31.661Z"
   },
   {
    "duration": 17,
    "start_time": "2023-02-20T11:41:31.701Z"
   },
   {
    "duration": 20,
    "start_time": "2023-02-20T11:41:31.719Z"
   },
   {
    "duration": 41,
    "start_time": "2023-02-20T11:41:31.740Z"
   },
   {
    "duration": 35,
    "start_time": "2023-02-20T11:41:31.783Z"
   },
   {
    "duration": 21,
    "start_time": "2023-02-20T11:41:31.820Z"
   },
   {
    "duration": 27,
    "start_time": "2023-02-20T11:41:31.843Z"
   },
   {
    "duration": 31,
    "start_time": "2023-02-20T11:41:31.872Z"
   },
   {
    "duration": 9,
    "start_time": "2023-02-20T11:41:31.904Z"
   },
   {
    "duration": 14,
    "start_time": "2023-02-20T11:41:31.914Z"
   },
   {
    "duration": 2,
    "start_time": "2023-02-20T11:43:13.806Z"
   },
   {
    "duration": 97,
    "start_time": "2023-02-20T11:43:13.811Z"
   },
   {
    "duration": 41,
    "start_time": "2023-02-20T11:43:13.909Z"
   },
   {
    "duration": 19,
    "start_time": "2023-02-20T11:43:13.953Z"
   },
   {
    "duration": 9,
    "start_time": "2023-02-20T11:43:13.974Z"
   },
   {
    "duration": 12,
    "start_time": "2023-02-20T11:43:13.986Z"
   },
   {
    "duration": 28,
    "start_time": "2023-02-20T11:43:14.000Z"
   },
   {
    "duration": 12,
    "start_time": "2023-02-20T11:43:14.030Z"
   },
   {
    "duration": 26,
    "start_time": "2023-02-20T11:43:14.045Z"
   },
   {
    "duration": 21,
    "start_time": "2023-02-20T11:43:14.072Z"
   },
   {
    "duration": 13,
    "start_time": "2023-02-20T11:43:14.095Z"
   },
   {
    "duration": 21,
    "start_time": "2023-02-20T11:43:14.111Z"
   },
   {
    "duration": 14,
    "start_time": "2023-02-20T11:43:29.298Z"
   },
   {
    "duration": 19,
    "start_time": "2023-02-20T11:43:48.688Z"
   },
   {
    "duration": 3,
    "start_time": "2023-02-20T11:45:51.677Z"
   },
   {
    "duration": 105,
    "start_time": "2023-02-20T11:45:51.682Z"
   },
   {
    "duration": 37,
    "start_time": "2023-02-20T11:45:51.788Z"
   },
   {
    "duration": 17,
    "start_time": "2023-02-20T11:45:51.827Z"
   },
   {
    "duration": 9,
    "start_time": "2023-02-20T11:45:51.845Z"
   },
   {
    "duration": 11,
    "start_time": "2023-02-20T11:45:51.855Z"
   },
   {
    "duration": 43,
    "start_time": "2023-02-20T11:45:51.868Z"
   },
   {
    "duration": 11,
    "start_time": "2023-02-20T11:45:51.913Z"
   },
   {
    "duration": 16,
    "start_time": "2023-02-20T11:45:51.926Z"
   },
   {
    "duration": 12,
    "start_time": "2023-02-20T11:45:51.944Z"
   },
   {
    "duration": 13,
    "start_time": "2023-02-20T11:45:51.958Z"
   },
   {
    "duration": 34,
    "start_time": "2023-02-20T11:45:51.972Z"
   },
   {
    "duration": 12,
    "start_time": "2023-02-20T11:47:52.311Z"
   },
   {
    "duration": 11,
    "start_time": "2023-02-20T11:48:02.819Z"
   },
   {
    "duration": 14,
    "start_time": "2023-02-20T11:48:21.666Z"
   },
   {
    "duration": 83,
    "start_time": "2023-02-20T11:55:25.864Z"
   },
   {
    "duration": 49,
    "start_time": "2023-02-20T11:55:48.959Z"
   },
   {
    "duration": 16,
    "start_time": "2023-02-20T11:56:01.888Z"
   },
   {
    "duration": 16,
    "start_time": "2023-02-20T11:56:19.001Z"
   },
   {
    "duration": 9,
    "start_time": "2023-02-20T11:56:55.522Z"
   },
   {
    "duration": 4,
    "start_time": "2023-02-20T11:57:23.584Z"
   },
   {
    "duration": 6,
    "start_time": "2023-02-20T11:57:34.768Z"
   },
   {
    "duration": 6,
    "start_time": "2023-02-20T11:57:47.640Z"
   },
   {
    "duration": 5,
    "start_time": "2023-02-20T11:57:57.532Z"
   },
   {
    "duration": 6,
    "start_time": "2023-02-20T11:58:16.258Z"
   },
   {
    "duration": 9,
    "start_time": "2023-02-20T11:58:33.338Z"
   },
   {
    "duration": 6,
    "start_time": "2023-02-20T11:59:08.532Z"
   },
   {
    "duration": 6,
    "start_time": "2023-02-20T11:59:19.258Z"
   },
   {
    "duration": 4,
    "start_time": "2023-02-20T11:59:26.996Z"
   },
   {
    "duration": 7,
    "start_time": "2023-02-20T11:59:29.563Z"
   },
   {
    "duration": 10,
    "start_time": "2023-02-20T11:59:38.467Z"
   },
   {
    "duration": 8,
    "start_time": "2023-02-20T12:00:33.219Z"
   },
   {
    "duration": 6,
    "start_time": "2023-02-20T12:00:41.283Z"
   },
   {
    "duration": 5,
    "start_time": "2023-02-20T12:00:54.408Z"
   },
   {
    "duration": 5,
    "start_time": "2023-02-20T12:01:05.846Z"
   },
   {
    "duration": 5,
    "start_time": "2023-02-20T12:01:23.618Z"
   },
   {
    "duration": 5,
    "start_time": "2023-02-20T12:01:39.361Z"
   },
   {
    "duration": 7,
    "start_time": "2023-02-20T12:01:46.742Z"
   },
   {
    "duration": 5,
    "start_time": "2023-02-20T12:01:57.192Z"
   },
   {
    "duration": 5,
    "start_time": "2023-02-20T12:02:18.109Z"
   },
   {
    "duration": 11,
    "start_time": "2023-02-20T12:02:48.361Z"
   },
   {
    "duration": 3,
    "start_time": "2023-02-20T12:02:58.028Z"
   },
   {
    "duration": 110,
    "start_time": "2023-02-20T12:02:58.033Z"
   },
   {
    "duration": 38,
    "start_time": "2023-02-20T12:02:58.144Z"
   },
   {
    "duration": 16,
    "start_time": "2023-02-20T12:02:58.323Z"
   },
   {
    "duration": 31,
    "start_time": "2023-02-20T12:02:58.341Z"
   },
   {
    "duration": 17,
    "start_time": "2023-02-20T12:02:58.374Z"
   },
   {
    "duration": 16,
    "start_time": "2023-02-20T12:02:58.392Z"
   },
   {
    "duration": 8,
    "start_time": "2023-02-20T12:02:58.410Z"
   },
   {
    "duration": 23,
    "start_time": "2023-02-20T12:02:58.420Z"
   },
   {
    "duration": 10,
    "start_time": "2023-02-20T12:02:58.445Z"
   },
   {
    "duration": 7,
    "start_time": "2023-02-20T12:02:58.457Z"
   },
   {
    "duration": 14,
    "start_time": "2023-02-20T12:02:58.465Z"
   },
   {
    "duration": 4,
    "start_time": "2023-02-20T12:02:58.480Z"
   },
   {
    "duration": 8,
    "start_time": "2023-02-20T12:02:58.499Z"
   },
   {
    "duration": 5,
    "start_time": "2023-02-20T12:03:38.275Z"
   },
   {
    "duration": 3,
    "start_time": "2023-02-20T12:07:02.838Z"
   },
   {
    "duration": 102,
    "start_time": "2023-02-20T12:07:02.845Z"
   },
   {
    "duration": 37,
    "start_time": "2023-02-20T12:07:02.949Z"
   },
   {
    "duration": 15,
    "start_time": "2023-02-20T12:07:02.988Z"
   },
   {
    "duration": 8,
    "start_time": "2023-02-20T12:07:03.004Z"
   },
   {
    "duration": 11,
    "start_time": "2023-02-20T12:07:03.014Z"
   },
   {
    "duration": 15,
    "start_time": "2023-02-20T12:07:03.026Z"
   },
   {
    "duration": 8,
    "start_time": "2023-02-20T12:07:03.215Z"
   },
   {
    "duration": 14,
    "start_time": "2023-02-20T12:07:03.225Z"
   },
   {
    "duration": 16,
    "start_time": "2023-02-20T12:07:03.240Z"
   },
   {
    "duration": 10,
    "start_time": "2023-02-20T12:07:03.257Z"
   },
   {
    "duration": 16,
    "start_time": "2023-02-20T12:07:03.269Z"
   },
   {
    "duration": 3,
    "start_time": "2023-02-20T12:07:03.286Z"
   },
   {
    "duration": 8,
    "start_time": "2023-02-20T12:07:03.291Z"
   },
   {
    "duration": 5,
    "start_time": "2023-02-20T12:07:20.164Z"
   },
   {
    "duration": 10,
    "start_time": "2023-02-20T12:07:49.539Z"
   },
   {
    "duration": 3,
    "start_time": "2023-02-20T12:08:13.146Z"
   },
   {
    "duration": 91,
    "start_time": "2023-02-20T12:08:13.151Z"
   },
   {
    "duration": 38,
    "start_time": "2023-02-20T12:08:13.243Z"
   },
   {
    "duration": 15,
    "start_time": "2023-02-20T12:08:13.282Z"
   },
   {
    "duration": 11,
    "start_time": "2023-02-20T12:08:13.299Z"
   },
   {
    "duration": 9,
    "start_time": "2023-02-20T12:08:13.312Z"
   },
   {
    "duration": 20,
    "start_time": "2023-02-20T12:08:13.323Z"
   },
   {
    "duration": 12,
    "start_time": "2023-02-20T12:08:13.346Z"
   },
   {
    "duration": 36,
    "start_time": "2023-02-20T12:08:13.360Z"
   },
   {
    "duration": 13,
    "start_time": "2023-02-20T12:08:13.398Z"
   },
   {
    "duration": 14,
    "start_time": "2023-02-20T12:08:13.413Z"
   },
   {
    "duration": 49,
    "start_time": "2023-02-20T12:08:13.429Z"
   },
   {
    "duration": 5,
    "start_time": "2023-02-20T12:08:13.479Z"
   },
   {
    "duration": 11,
    "start_time": "2023-02-20T12:08:13.487Z"
   },
   {
    "duration": 11,
    "start_time": "2023-02-20T12:09:27.552Z"
   },
   {
    "duration": 5,
    "start_time": "2023-02-20T12:09:51.662Z"
   },
   {
    "duration": 6,
    "start_time": "2023-02-20T12:10:17.063Z"
   },
   {
    "duration": 5,
    "start_time": "2023-02-20T12:10:19.613Z"
   },
   {
    "duration": 7,
    "start_time": "2023-02-20T12:10:42.922Z"
   },
   {
    "duration": 6,
    "start_time": "2023-02-20T12:10:45.517Z"
   },
   {
    "duration": 13,
    "start_time": "2023-02-20T12:11:24.886Z"
   },
   {
    "duration": 44,
    "start_time": "2023-02-20T12:16:35.225Z"
   },
   {
    "duration": 421,
    "start_time": "2023-02-20T12:23:14.950Z"
   },
   {
    "duration": 219,
    "start_time": "2023-02-20T12:23:15.372Z"
   },
   {
    "duration": 125,
    "start_time": "2023-02-20T12:23:15.593Z"
   },
   {
    "duration": 23,
    "start_time": "2023-02-20T12:23:15.720Z"
   },
   {
    "duration": 3,
    "start_time": "2023-02-20T12:23:15.746Z"
   },
   {
    "duration": 20,
    "start_time": "2023-02-20T12:23:15.751Z"
   },
   {
    "duration": 30,
    "start_time": "2023-02-20T12:23:15.774Z"
   },
   {
    "duration": 13,
    "start_time": "2023-02-20T12:23:15.805Z"
   },
   {
    "duration": 16,
    "start_time": "2023-02-20T12:23:15.820Z"
   },
   {
    "duration": 30,
    "start_time": "2023-02-20T12:23:15.837Z"
   },
   {
    "duration": 17,
    "start_time": "2023-02-20T12:23:15.869Z"
   },
   {
    "duration": 69,
    "start_time": "2023-02-20T12:23:15.887Z"
   },
   {
    "duration": 4,
    "start_time": "2023-02-20T12:23:15.958Z"
   },
   {
    "duration": 17,
    "start_time": "2023-02-20T12:23:15.965Z"
   },
   {
    "duration": 17,
    "start_time": "2023-02-20T12:23:15.983Z"
   },
   {
    "duration": 14,
    "start_time": "2023-02-20T12:23:16.001Z"
   },
   {
    "duration": 40,
    "start_time": "2023-02-20T12:23:35.402Z"
   },
   {
    "duration": 39,
    "start_time": "2023-02-20T12:23:46.566Z"
   },
   {
    "duration": 103,
    "start_time": "2023-02-20T12:23:58.468Z"
   },
   {
    "duration": 44,
    "start_time": "2023-02-20T12:24:08.439Z"
   },
   {
    "duration": 37,
    "start_time": "2023-02-20T12:24:16.988Z"
   },
   {
    "duration": 37,
    "start_time": "2023-02-20T12:24:21.189Z"
   },
   {
    "duration": 3,
    "start_time": "2023-02-20T12:24:25.239Z"
   },
   {
    "duration": 103,
    "start_time": "2023-02-20T12:24:25.244Z"
   },
   {
    "duration": 46,
    "start_time": "2023-02-20T12:24:25.349Z"
   },
   {
    "duration": 15,
    "start_time": "2023-02-20T12:24:25.396Z"
   },
   {
    "duration": 15,
    "start_time": "2023-02-20T12:24:25.413Z"
   },
   {
    "duration": 12,
    "start_time": "2023-02-20T12:24:25.430Z"
   },
   {
    "duration": 12,
    "start_time": "2023-02-20T12:24:25.443Z"
   },
   {
    "duration": 8,
    "start_time": "2023-02-20T12:24:25.457Z"
   },
   {
    "duration": 14,
    "start_time": "2023-02-20T12:24:25.466Z"
   },
   {
    "duration": 19,
    "start_time": "2023-02-20T12:24:25.481Z"
   },
   {
    "duration": 7,
    "start_time": "2023-02-20T12:24:25.501Z"
   },
   {
    "duration": 52,
    "start_time": "2023-02-20T12:24:25.510Z"
   },
   {
    "duration": 3,
    "start_time": "2023-02-20T12:24:25.564Z"
   },
   {
    "duration": 7,
    "start_time": "2023-02-20T12:24:25.569Z"
   },
   {
    "duration": 9,
    "start_time": "2023-02-20T12:24:25.577Z"
   },
   {
    "duration": 6,
    "start_time": "2023-02-20T12:24:25.587Z"
   },
   {
    "duration": 8,
    "start_time": "2023-02-20T12:24:39.050Z"
   },
   {
    "duration": 13,
    "start_time": "2023-02-20T12:25:22.463Z"
   },
   {
    "duration": 11,
    "start_time": "2023-02-20T12:26:53.579Z"
   },
   {
    "duration": 10,
    "start_time": "2023-02-20T12:27:00.929Z"
   },
   {
    "duration": 15,
    "start_time": "2023-02-20T12:27:12.531Z"
   },
   {
    "duration": 8,
    "start_time": "2023-02-20T12:28:06.633Z"
   },
   {
    "duration": 3,
    "start_time": "2023-02-20T12:28:17.995Z"
   },
   {
    "duration": 120,
    "start_time": "2023-02-20T12:28:18.000Z"
   },
   {
    "duration": 49,
    "start_time": "2023-02-20T12:28:18.122Z"
   },
   {
    "duration": 19,
    "start_time": "2023-02-20T12:28:18.173Z"
   },
   {
    "duration": 21,
    "start_time": "2023-02-20T12:28:18.194Z"
   },
   {
    "duration": 25,
    "start_time": "2023-02-20T12:28:18.216Z"
   },
   {
    "duration": 26,
    "start_time": "2023-02-20T12:28:18.242Z"
   },
   {
    "duration": 9,
    "start_time": "2023-02-20T12:28:18.270Z"
   },
   {
    "duration": 16,
    "start_time": "2023-02-20T12:28:18.280Z"
   },
   {
    "duration": 9,
    "start_time": "2023-02-20T12:28:18.299Z"
   },
   {
    "duration": 16,
    "start_time": "2023-02-20T12:28:18.310Z"
   },
   {
    "duration": 11,
    "start_time": "2023-02-20T12:28:18.328Z"
   },
   {
    "duration": 0,
    "start_time": "2023-02-20T12:28:18.361Z"
   },
   {
    "duration": 0,
    "start_time": "2023-02-20T12:28:18.362Z"
   },
   {
    "duration": 0,
    "start_time": "2023-02-20T12:28:18.363Z"
   },
   {
    "duration": 0,
    "start_time": "2023-02-20T12:28:18.365Z"
   },
   {
    "duration": 5,
    "start_time": "2023-02-20T12:28:33.732Z"
   },
   {
    "duration": 9,
    "start_time": "2023-02-20T12:28:34.773Z"
   },
   {
    "duration": 3,
    "start_time": "2023-02-20T12:28:39.487Z"
   },
   {
    "duration": 103,
    "start_time": "2023-02-20T12:28:39.492Z"
   },
   {
    "duration": 45,
    "start_time": "2023-02-20T12:28:39.596Z"
   },
   {
    "duration": 14,
    "start_time": "2023-02-20T12:28:39.642Z"
   },
   {
    "duration": 6,
    "start_time": "2023-02-20T12:28:39.658Z"
   },
   {
    "duration": 11,
    "start_time": "2023-02-20T12:28:39.665Z"
   },
   {
    "duration": 12,
    "start_time": "2023-02-20T12:28:39.677Z"
   },
   {
    "duration": 8,
    "start_time": "2023-02-20T12:28:39.690Z"
   },
   {
    "duration": 14,
    "start_time": "2023-02-20T12:28:39.699Z"
   },
   {
    "duration": 9,
    "start_time": "2023-02-20T12:28:39.715Z"
   },
   {
    "duration": 12,
    "start_time": "2023-02-20T12:28:39.725Z"
   },
   {
    "duration": 25,
    "start_time": "2023-02-20T12:28:39.739Z"
   },
   {
    "duration": 0,
    "start_time": "2023-02-20T12:28:39.766Z"
   },
   {
    "duration": 0,
    "start_time": "2023-02-20T12:28:39.767Z"
   },
   {
    "duration": 0,
    "start_time": "2023-02-20T12:28:39.768Z"
   },
   {
    "duration": 0,
    "start_time": "2023-02-20T12:28:39.769Z"
   },
   {
    "duration": 7,
    "start_time": "2023-02-20T12:28:47.351Z"
   },
   {
    "duration": 7,
    "start_time": "2023-02-20T12:28:58.901Z"
   },
   {
    "duration": 3,
    "start_time": "2023-02-20T12:28:59.935Z"
   },
   {
    "duration": 3,
    "start_time": "2023-02-20T12:29:23.653Z"
   },
   {
    "duration": 103,
    "start_time": "2023-02-20T12:29:23.658Z"
   },
   {
    "duration": 48,
    "start_time": "2023-02-20T12:29:23.763Z"
   },
   {
    "duration": 15,
    "start_time": "2023-02-20T12:29:23.813Z"
   },
   {
    "duration": 5,
    "start_time": "2023-02-20T12:29:23.830Z"
   },
   {
    "duration": 7,
    "start_time": "2023-02-20T12:29:23.836Z"
   },
   {
    "duration": 13,
    "start_time": "2023-02-20T12:29:23.845Z"
   },
   {
    "duration": 7,
    "start_time": "2023-02-20T12:29:23.859Z"
   },
   {
    "duration": 14,
    "start_time": "2023-02-20T12:29:23.867Z"
   },
   {
    "duration": 7,
    "start_time": "2023-02-20T12:29:23.882Z"
   },
   {
    "duration": 6,
    "start_time": "2023-02-20T12:29:23.890Z"
   },
   {
    "duration": 14,
    "start_time": "2023-02-20T12:29:23.897Z"
   },
   {
    "duration": 0,
    "start_time": "2023-02-20T12:29:23.913Z"
   },
   {
    "duration": 0,
    "start_time": "2023-02-20T12:29:23.914Z"
   },
   {
    "duration": 0,
    "start_time": "2023-02-20T12:29:23.915Z"
   },
   {
    "duration": 0,
    "start_time": "2023-02-20T12:29:23.916Z"
   },
   {
    "duration": 5,
    "start_time": "2023-02-20T12:29:48.170Z"
   },
   {
    "duration": 8,
    "start_time": "2023-02-20T12:30:12.873Z"
   },
   {
    "duration": 7,
    "start_time": "2023-02-20T12:30:22.252Z"
   },
   {
    "duration": 8,
    "start_time": "2023-02-20T12:30:27.519Z"
   },
   {
    "duration": 3,
    "start_time": "2023-02-20T12:30:41.282Z"
   },
   {
    "duration": 109,
    "start_time": "2023-02-20T12:30:41.876Z"
   },
   {
    "duration": 56,
    "start_time": "2023-02-20T12:30:43.750Z"
   },
   {
    "duration": 15,
    "start_time": "2023-02-20T12:30:45.906Z"
   },
   {
    "duration": 3,
    "start_time": "2023-02-20T12:30:46.367Z"
   },
   {
    "duration": 6,
    "start_time": "2023-02-20T12:30:47.025Z"
   },
   {
    "duration": 12,
    "start_time": "2023-02-20T12:30:47.950Z"
   },
   {
    "duration": 10,
    "start_time": "2023-02-20T12:30:49.514Z"
   },
   {
    "duration": 17,
    "start_time": "2023-02-20T12:30:50.617Z"
   },
   {
    "duration": 5,
    "start_time": "2023-02-20T12:30:54.460Z"
   },
   {
    "duration": 6,
    "start_time": "2023-02-20T12:30:57.904Z"
   },
   {
    "duration": 7,
    "start_time": "2023-02-20T12:30:59.473Z"
   },
   {
    "duration": 4,
    "start_time": "2023-02-20T12:32:10.779Z"
   },
   {
    "duration": 5,
    "start_time": "2023-02-20T12:32:11.369Z"
   },
   {
    "duration": 7,
    "start_time": "2023-02-20T12:32:11.837Z"
   },
   {
    "duration": 6,
    "start_time": "2023-02-20T12:32:12.350Z"
   },
   {
    "duration": 7,
    "start_time": "2023-02-20T12:32:16.667Z"
   },
   {
    "duration": 7,
    "start_time": "2023-02-20T12:32:28.660Z"
   },
   {
    "duration": 6,
    "start_time": "2023-02-20T12:33:03.208Z"
   },
   {
    "duration": 7,
    "start_time": "2023-02-20T12:35:40.222Z"
   },
   {
    "duration": 6,
    "start_time": "2023-02-20T12:35:48.612Z"
   },
   {
    "duration": 6,
    "start_time": "2023-02-20T12:35:51.853Z"
   },
   {
    "duration": 4,
    "start_time": "2023-02-20T12:35:56.544Z"
   },
   {
    "duration": 3,
    "start_time": "2023-02-20T12:36:10.634Z"
   },
   {
    "duration": 105,
    "start_time": "2023-02-20T12:36:10.639Z"
   },
   {
    "duration": 46,
    "start_time": "2023-02-20T12:36:10.746Z"
   },
   {
    "duration": 17,
    "start_time": "2023-02-20T12:36:10.793Z"
   },
   {
    "duration": 7,
    "start_time": "2023-02-20T12:36:10.812Z"
   },
   {
    "duration": 9,
    "start_time": "2023-02-20T12:36:10.821Z"
   },
   {
    "duration": 15,
    "start_time": "2023-02-20T12:36:10.831Z"
   },
   {
    "duration": 9,
    "start_time": "2023-02-20T12:36:10.848Z"
   },
   {
    "duration": 14,
    "start_time": "2023-02-20T12:36:10.860Z"
   },
   {
    "duration": 10,
    "start_time": "2023-02-20T12:36:10.875Z"
   },
   {
    "duration": 11,
    "start_time": "2023-02-20T12:36:10.887Z"
   },
   {
    "duration": 21,
    "start_time": "2023-02-20T12:36:10.899Z"
   },
   {
    "duration": 0,
    "start_time": "2023-02-20T12:36:10.922Z"
   },
   {
    "duration": 0,
    "start_time": "2023-02-20T12:36:10.923Z"
   },
   {
    "duration": 0,
    "start_time": "2023-02-20T12:36:10.924Z"
   },
   {
    "duration": 0,
    "start_time": "2023-02-20T12:36:10.925Z"
   },
   {
    "duration": 3,
    "start_time": "2023-02-20T12:36:42.617Z"
   },
   {
    "duration": 92,
    "start_time": "2023-02-20T12:36:43.143Z"
   },
   {
    "duration": 44,
    "start_time": "2023-02-20T12:36:43.665Z"
   },
   {
    "duration": 18,
    "start_time": "2023-02-20T12:36:44.324Z"
   },
   {
    "duration": 5,
    "start_time": "2023-02-20T12:36:44.717Z"
   },
   {
    "duration": 6,
    "start_time": "2023-02-20T12:36:45.235Z"
   },
   {
    "duration": 11,
    "start_time": "2023-02-20T12:36:45.368Z"
   },
   {
    "duration": 9,
    "start_time": "2023-02-20T12:36:46.493Z"
   },
   {
    "duration": 14,
    "start_time": "2023-02-20T12:36:46.974Z"
   },
   {
    "duration": 7,
    "start_time": "2023-02-20T12:37:02.537Z"
   },
   {
    "duration": 5,
    "start_time": "2023-02-20T12:37:05.710Z"
   },
   {
    "duration": 7,
    "start_time": "2023-02-20T12:37:08.475Z"
   },
   {
    "duration": 6,
    "start_time": "2023-02-20T12:37:23.508Z"
   },
   {
    "duration": 9,
    "start_time": "2023-02-20T12:37:57.078Z"
   },
   {
    "duration": 4,
    "start_time": "2023-02-20T12:38:36.385Z"
   },
   {
    "duration": 6,
    "start_time": "2023-02-20T12:38:41.105Z"
   },
   {
    "duration": 107,
    "start_time": "2023-02-20T12:38:41.650Z"
   },
   {
    "duration": 60,
    "start_time": "2023-02-20T12:38:42.676Z"
   },
   {
    "duration": 21,
    "start_time": "2023-02-20T12:38:43.201Z"
   },
   {
    "duration": 4,
    "start_time": "2023-02-20T12:38:43.227Z"
   },
   {
    "duration": 8,
    "start_time": "2023-02-20T12:38:43.727Z"
   },
   {
    "duration": 15,
    "start_time": "2023-02-20T12:38:43.737Z"
   },
   {
    "duration": 11,
    "start_time": "2023-02-20T12:38:43.875Z"
   },
   {
    "duration": 14,
    "start_time": "2023-02-20T12:38:44.255Z"
   },
   {
    "duration": 7,
    "start_time": "2023-02-20T12:38:44.775Z"
   },
   {
    "duration": 5,
    "start_time": "2023-02-20T12:38:45.488Z"
   },
   {
    "duration": 7,
    "start_time": "2023-02-20T12:38:45.887Z"
   },
   {
    "duration": 7,
    "start_time": "2023-02-20T12:39:41.587Z"
   },
   {
    "duration": 8,
    "start_time": "2023-02-20T12:39:46.328Z"
   },
   {
    "duration": 6,
    "start_time": "2023-02-20T12:53:21.047Z"
   },
   {
    "duration": 50,
    "start_time": "2023-02-20T12:53:37.141Z"
   },
   {
    "duration": 371,
    "start_time": "2023-02-20T12:53:40.384Z"
   },
   {
    "duration": 94,
    "start_time": "2023-02-20T12:53:40.757Z"
   },
   {
    "duration": 44,
    "start_time": "2023-02-20T12:53:40.852Z"
   },
   {
    "duration": 23,
    "start_time": "2023-02-20T12:53:40.898Z"
   },
   {
    "duration": 4,
    "start_time": "2023-02-20T12:53:40.922Z"
   },
   {
    "duration": 11,
    "start_time": "2023-02-20T12:53:40.927Z"
   },
   {
    "duration": 18,
    "start_time": "2023-02-20T12:53:40.939Z"
   },
   {
    "duration": 10,
    "start_time": "2023-02-20T12:53:40.958Z"
   },
   {
    "duration": 14,
    "start_time": "2023-02-20T12:53:40.969Z"
   },
   {
    "duration": 15,
    "start_time": "2023-02-20T12:53:40.984Z"
   },
   {
    "duration": 13,
    "start_time": "2023-02-20T12:53:41.000Z"
   },
   {
    "duration": 23,
    "start_time": "2023-02-20T12:53:41.015Z"
   },
   {
    "duration": 8,
    "start_time": "2023-02-20T12:53:41.039Z"
   },
   {
    "duration": 14,
    "start_time": "2023-02-20T12:53:41.049Z"
   },
   {
    "duration": 6,
    "start_time": "2023-02-20T12:53:41.064Z"
   },
   {
    "duration": 12,
    "start_time": "2023-02-20T12:53:41.071Z"
   },
   {
    "duration": 8,
    "start_time": "2023-02-20T12:53:55.585Z"
   },
   {
    "duration": 4,
    "start_time": "2023-02-20T12:54:00.654Z"
   },
   {
    "duration": 9,
    "start_time": "2023-02-20T12:54:02.835Z"
   },
   {
    "duration": 40,
    "start_time": "2023-02-20T12:54:15.479Z"
   },
   {
    "duration": 11,
    "start_time": "2023-02-20T12:54:22.921Z"
   },
   {
    "duration": 8,
    "start_time": "2023-02-20T12:54:33.666Z"
   },
   {
    "duration": 14,
    "start_time": "2023-02-20T12:54:46.218Z"
   },
   {
    "duration": 3,
    "start_time": "2023-02-20T12:56:30.590Z"
   },
   {
    "duration": 132,
    "start_time": "2023-02-20T12:56:30.596Z"
   },
   {
    "duration": 60,
    "start_time": "2023-02-20T12:56:30.730Z"
   },
   {
    "duration": 15,
    "start_time": "2023-02-20T12:56:30.792Z"
   },
   {
    "duration": 47,
    "start_time": "2023-02-20T12:56:30.810Z"
   },
   {
    "duration": 61,
    "start_time": "2023-02-20T12:56:30.858Z"
   },
   {
    "duration": 42,
    "start_time": "2023-02-20T12:56:30.920Z"
   },
   {
    "duration": 26,
    "start_time": "2023-02-20T12:56:30.968Z"
   },
   {
    "duration": 34,
    "start_time": "2023-02-20T12:56:30.996Z"
   },
   {
    "duration": 45,
    "start_time": "2023-02-20T12:56:31.031Z"
   },
   {
    "duration": 21,
    "start_time": "2023-02-20T12:56:31.077Z"
   },
   {
    "duration": 28,
    "start_time": "2023-02-20T12:56:31.100Z"
   },
   {
    "duration": 24,
    "start_time": "2023-02-20T12:56:31.130Z"
   },
   {
    "duration": 38,
    "start_time": "2023-02-20T12:56:31.155Z"
   },
   {
    "duration": 34,
    "start_time": "2023-02-20T12:56:31.194Z"
   },
   {
    "duration": 21,
    "start_time": "2023-02-20T12:56:31.230Z"
   },
   {
    "duration": 13,
    "start_time": "2023-02-20T12:56:36.081Z"
   },
   {
    "duration": 10,
    "start_time": "2023-02-20T12:58:13.873Z"
   },
   {
    "duration": 10,
    "start_time": "2023-02-20T12:58:18.007Z"
   },
   {
    "duration": 5,
    "start_time": "2023-02-20T12:58:25.701Z"
   },
   {
    "duration": 34,
    "start_time": "2023-02-20T12:59:20.988Z"
   },
   {
    "duration": 13,
    "start_time": "2023-02-20T12:59:27.043Z"
   },
   {
    "duration": 24,
    "start_time": "2023-02-20T12:59:37.337Z"
   },
   {
    "duration": 10,
    "start_time": "2023-02-20T12:59:47.378Z"
   },
   {
    "duration": 7,
    "start_time": "2023-02-20T13:00:04.864Z"
   },
   {
    "duration": 8,
    "start_time": "2023-02-20T13:00:29.076Z"
   },
   {
    "duration": 17,
    "start_time": "2023-02-20T13:00:37.594Z"
   },
   {
    "duration": 18,
    "start_time": "2023-02-20T13:01:03.414Z"
   },
   {
    "duration": 24,
    "start_time": "2023-02-20T13:01:33.784Z"
   },
   {
    "duration": 25,
    "start_time": "2023-02-20T13:01:59.718Z"
   },
   {
    "duration": 22,
    "start_time": "2023-02-20T13:02:57.933Z"
   },
   {
    "duration": 9,
    "start_time": "2023-02-20T13:03:38.756Z"
   },
   {
    "duration": 8,
    "start_time": "2023-02-20T13:03:42.776Z"
   },
   {
    "duration": 18,
    "start_time": "2023-02-20T13:03:51.614Z"
   },
   {
    "duration": 20,
    "start_time": "2023-02-20T13:03:57.696Z"
   },
   {
    "duration": 5,
    "start_time": "2023-02-20T13:05:23.298Z"
   },
   {
    "duration": 9,
    "start_time": "2023-02-20T13:06:01.422Z"
   },
   {
    "duration": 6,
    "start_time": "2023-02-20T13:06:08.240Z"
   },
   {
    "duration": 7,
    "start_time": "2023-02-20T13:06:43.695Z"
   },
   {
    "duration": 18,
    "start_time": "2023-02-20T13:08:40.836Z"
   },
   {
    "duration": 6,
    "start_time": "2023-02-20T13:09:03.637Z"
   },
   {
    "duration": 9,
    "start_time": "2023-02-20T13:09:15.746Z"
   },
   {
    "duration": 6,
    "start_time": "2023-02-20T13:09:31.521Z"
   },
   {
    "duration": 12,
    "start_time": "2023-02-20T13:11:27.359Z"
   },
   {
    "duration": 16,
    "start_time": "2023-02-20T13:11:50.177Z"
   },
   {
    "duration": 81,
    "start_time": "2023-02-20T13:12:24.493Z"
   },
   {
    "duration": 20,
    "start_time": "2023-02-20T13:12:35.360Z"
   },
   {
    "duration": 7,
    "start_time": "2023-02-20T13:13:10.144Z"
   },
   {
    "duration": 20,
    "start_time": "2023-02-20T13:13:26.506Z"
   },
   {
    "duration": 96,
    "start_time": "2023-02-20T13:13:54.596Z"
   },
   {
    "duration": 38,
    "start_time": "2023-02-20T13:14:19.246Z"
   },
   {
    "duration": 99,
    "start_time": "2023-02-20T13:14:43.746Z"
   },
   {
    "duration": 84,
    "start_time": "2023-02-20T13:14:58.456Z"
   },
   {
    "duration": 20,
    "start_time": "2023-02-20T13:15:02.755Z"
   },
   {
    "duration": 33,
    "start_time": "2023-02-20T13:15:28.277Z"
   },
   {
    "duration": 16,
    "start_time": "2023-02-20T13:15:36.700Z"
   },
   {
    "duration": 21,
    "start_time": "2023-02-20T13:17:34.455Z"
   },
   {
    "duration": 436,
    "start_time": "2023-02-20T15:40:38.562Z"
   },
   {
    "duration": 349,
    "start_time": "2023-02-20T15:40:39.001Z"
   },
   {
    "duration": 228,
    "start_time": "2023-02-20T15:40:39.353Z"
   },
   {
    "duration": 32,
    "start_time": "2023-02-20T15:40:39.584Z"
   },
   {
    "duration": 16,
    "start_time": "2023-02-20T15:40:39.618Z"
   },
   {
    "duration": 18,
    "start_time": "2023-02-20T15:40:39.642Z"
   },
   {
    "duration": 15,
    "start_time": "2023-02-20T15:40:39.662Z"
   },
   {
    "duration": 11,
    "start_time": "2023-02-20T15:40:39.678Z"
   },
   {
    "duration": 16,
    "start_time": "2023-02-20T15:40:39.691Z"
   },
   {
    "duration": 8,
    "start_time": "2023-02-20T15:40:39.710Z"
   },
   {
    "duration": 36,
    "start_time": "2023-02-20T15:40:39.726Z"
   },
   {
    "duration": 15,
    "start_time": "2023-02-20T15:40:39.764Z"
   },
   {
    "duration": 4,
    "start_time": "2023-02-20T15:40:39.781Z"
   },
   {
    "duration": 9,
    "start_time": "2023-02-20T15:40:39.787Z"
   },
   {
    "duration": 8,
    "start_time": "2023-02-20T15:40:39.798Z"
   },
   {
    "duration": 8,
    "start_time": "2023-02-20T15:40:39.807Z"
   },
   {
    "duration": 23,
    "start_time": "2023-02-20T15:40:39.817Z"
   },
   {
    "duration": 44,
    "start_time": "2023-02-20T15:40:39.842Z"
   },
   {
    "duration": 24,
    "start_time": "2023-02-20T15:40:39.888Z"
   },
   {
    "duration": 28,
    "start_time": "2023-02-20T15:40:39.915Z"
   },
   {
    "duration": 35,
    "start_time": "2023-02-20T15:40:39.945Z"
   },
   {
    "duration": 11,
    "start_time": "2023-02-20T15:40:39.982Z"
   },
   {
    "duration": 28,
    "start_time": "2023-02-20T15:46:23.850Z"
   },
   {
    "duration": 25,
    "start_time": "2023-02-20T15:47:40.168Z"
   },
   {
    "duration": 21,
    "start_time": "2023-02-20T15:49:31.648Z"
   },
   {
    "duration": 16,
    "start_time": "2023-02-20T15:51:19.352Z"
   },
   {
    "duration": 40,
    "start_time": "2023-02-20T15:52:13.293Z"
   },
   {
    "duration": 28,
    "start_time": "2023-02-20T15:52:58.147Z"
   },
   {
    "duration": 34,
    "start_time": "2023-02-20T15:53:19.123Z"
   },
   {
    "duration": 28,
    "start_time": "2023-02-20T15:54:05.054Z"
   },
   {
    "duration": 35,
    "start_time": "2023-02-20T15:54:48.814Z"
   },
   {
    "duration": 23,
    "start_time": "2023-02-20T15:55:04.358Z"
   },
   {
    "duration": 26,
    "start_time": "2023-02-20T15:55:12.451Z"
   },
   {
    "duration": 19,
    "start_time": "2023-02-20T15:55:45.848Z"
   },
   {
    "duration": 19,
    "start_time": "2023-02-20T15:55:57.855Z"
   },
   {
    "duration": 20,
    "start_time": "2023-02-20T15:57:29.078Z"
   },
   {
    "duration": 85,
    "start_time": "2023-02-20T15:59:38.217Z"
   },
   {
    "duration": 33,
    "start_time": "2023-02-20T15:59:49.232Z"
   },
   {
    "duration": 574,
    "start_time": "2023-02-20T16:00:08.869Z"
   },
   {
    "duration": 415,
    "start_time": "2023-02-20T16:00:21.565Z"
   },
   {
    "duration": 437,
    "start_time": "2023-02-20T16:00:33.846Z"
   },
   {
    "duration": 20,
    "start_time": "2023-02-20T16:00:40.679Z"
   },
   {
    "duration": 11,
    "start_time": "2023-02-20T16:01:37.045Z"
   },
   {
    "duration": 1184,
    "start_time": "2023-02-20T16:01:58.002Z"
   },
   {
    "duration": 53,
    "start_time": "2023-02-20T16:02:14.311Z"
   },
   {
    "duration": 3,
    "start_time": "2023-02-20T16:02:59.893Z"
   },
   {
    "duration": 178,
    "start_time": "2023-02-20T16:03:00.844Z"
   },
   {
    "duration": 98,
    "start_time": "2023-02-20T16:38:18.278Z"
   },
   {
    "duration": 25,
    "start_time": "2023-02-20T16:38:29.006Z"
   },
   {
    "duration": 18,
    "start_time": "2023-02-20T16:38:34.517Z"
   },
   {
    "duration": 18,
    "start_time": "2023-02-20T16:38:38.640Z"
   },
   {
    "duration": 18,
    "start_time": "2023-02-20T16:38:42.437Z"
   },
   {
    "duration": 26,
    "start_time": "2023-02-20T16:38:55.416Z"
   },
   {
    "duration": 20,
    "start_time": "2023-02-20T16:39:26.517Z"
   },
   {
    "duration": 18,
    "start_time": "2023-02-20T16:39:33.808Z"
   },
   {
    "duration": 17,
    "start_time": "2023-02-20T16:39:37.251Z"
   },
   {
    "duration": 430,
    "start_time": "2023-02-20T16:41:01.533Z"
   },
   {
    "duration": 18,
    "start_time": "2023-02-20T16:41:10.320Z"
   },
   {
    "duration": 7,
    "start_time": "2023-02-20T16:41:11.069Z"
   },
   {
    "duration": 15,
    "start_time": "2023-02-20T16:42:07.350Z"
   },
   {
    "duration": 3,
    "start_time": "2023-02-20T16:42:17.367Z"
   },
   {
    "duration": 127,
    "start_time": "2023-02-20T16:42:17.372Z"
   },
   {
    "duration": 78,
    "start_time": "2023-02-20T16:42:17.501Z"
   },
   {
    "duration": 16,
    "start_time": "2023-02-20T16:42:17.581Z"
   },
   {
    "duration": 6,
    "start_time": "2023-02-20T16:42:17.600Z"
   },
   {
    "duration": 15,
    "start_time": "2023-02-20T16:42:17.608Z"
   },
   {
    "duration": 46,
    "start_time": "2023-02-20T16:42:17.631Z"
   },
   {
    "duration": 13,
    "start_time": "2023-02-20T16:42:17.679Z"
   },
   {
    "duration": 15,
    "start_time": "2023-02-20T16:42:17.695Z"
   },
   {
    "duration": 19,
    "start_time": "2023-02-20T16:42:17.713Z"
   },
   {
    "duration": 16,
    "start_time": "2023-02-20T16:42:17.744Z"
   },
   {
    "duration": 17,
    "start_time": "2023-02-20T16:42:17.762Z"
   },
   {
    "duration": 4,
    "start_time": "2023-02-20T16:42:17.780Z"
   },
   {
    "duration": 12,
    "start_time": "2023-02-20T16:42:17.786Z"
   },
   {
    "duration": 7,
    "start_time": "2023-02-20T16:42:17.800Z"
   },
   {
    "duration": 10,
    "start_time": "2023-02-20T16:42:17.809Z"
   },
   {
    "duration": 44,
    "start_time": "2023-02-20T16:42:17.821Z"
   },
   {
    "duration": 22,
    "start_time": "2023-02-20T16:42:17.868Z"
   },
   {
    "duration": 27,
    "start_time": "2023-02-20T16:42:17.892Z"
   },
   {
    "duration": 33,
    "start_time": "2023-02-20T16:42:17.927Z"
   },
   {
    "duration": 27,
    "start_time": "2023-02-20T16:42:17.962Z"
   },
   {
    "duration": 13,
    "start_time": "2023-02-20T16:42:17.990Z"
   },
   {
    "duration": 4,
    "start_time": "2023-02-20T16:42:55.114Z"
   },
   {
    "duration": 8,
    "start_time": "2023-02-20T16:43:08.184Z"
   },
   {
    "duration": 6,
    "start_time": "2023-02-20T16:43:18.850Z"
   },
   {
    "duration": 5,
    "start_time": "2023-02-20T16:43:25.285Z"
   },
   {
    "duration": 23,
    "start_time": "2023-02-20T16:45:24.611Z"
   },
   {
    "duration": 16,
    "start_time": "2023-02-20T16:45:40.944Z"
   },
   {
    "duration": 404,
    "start_time": "2023-02-20T16:46:44.180Z"
   },
   {
    "duration": 20,
    "start_time": "2023-02-20T16:46:50.972Z"
   },
   {
    "duration": 27,
    "start_time": "2023-02-20T16:47:00.910Z"
   },
   {
    "duration": 8,
    "start_time": "2023-02-20T16:47:40.097Z"
   },
   {
    "duration": 4,
    "start_time": "2023-02-20T16:47:42.182Z"
   },
   {
    "duration": 5,
    "start_time": "2023-02-20T16:47:57.567Z"
   },
   {
    "duration": 4,
    "start_time": "2023-02-20T16:48:04.212Z"
   },
   {
    "duration": 8,
    "start_time": "2023-02-20T16:48:15.349Z"
   },
   {
    "duration": 19,
    "start_time": "2023-02-20T16:48:38.967Z"
   },
   {
    "duration": 604,
    "start_time": "2023-02-20T16:48:58.801Z"
   },
   {
    "duration": 47,
    "start_time": "2023-02-20T16:49:15.214Z"
   },
   {
    "duration": 37,
    "start_time": "2023-02-20T16:50:07.410Z"
   },
   {
    "duration": 35,
    "start_time": "2023-02-20T16:50:24.051Z"
   },
   {
    "duration": 43,
    "start_time": "2023-02-20T16:51:47.514Z"
   },
   {
    "duration": 17,
    "start_time": "2023-02-20T16:51:56.375Z"
   },
   {
    "duration": 22,
    "start_time": "2023-02-20T16:52:11.320Z"
   },
   {
    "duration": 24,
    "start_time": "2023-02-20T16:52:19.411Z"
   },
   {
    "duration": 22,
    "start_time": "2023-02-20T16:52:34.342Z"
   },
   {
    "duration": 26,
    "start_time": "2023-02-20T16:53:07.773Z"
   },
   {
    "duration": 17,
    "start_time": "2023-02-20T16:53:17.370Z"
   },
   {
    "duration": 42,
    "start_time": "2023-02-20T16:53:37.613Z"
   },
   {
    "duration": 43,
    "start_time": "2023-02-20T16:54:26.313Z"
   },
   {
    "duration": 31,
    "start_time": "2023-02-20T16:54:57.312Z"
   },
   {
    "duration": 24,
    "start_time": "2023-02-20T16:55:18.270Z"
   },
   {
    "duration": 40,
    "start_time": "2023-02-20T16:55:23.519Z"
   },
   {
    "duration": 9,
    "start_time": "2023-02-20T16:58:20.784Z"
   },
   {
    "duration": 37,
    "start_time": "2023-02-20T16:58:33.320Z"
   },
   {
    "duration": 15,
    "start_time": "2023-02-20T16:58:41.090Z"
   },
   {
    "duration": 13,
    "start_time": "2023-02-20T16:59:15.794Z"
   },
   {
    "duration": 15,
    "start_time": "2023-02-20T16:59:19.002Z"
   },
   {
    "duration": 44,
    "start_time": "2023-02-20T17:00:03.199Z"
   },
   {
    "duration": 29,
    "start_time": "2023-02-20T17:01:01.178Z"
   },
   {
    "duration": 25,
    "start_time": "2023-02-20T17:01:14.788Z"
   },
   {
    "duration": 34,
    "start_time": "2023-02-20T17:01:25.876Z"
   },
   {
    "duration": 47,
    "start_time": "2023-02-20T17:01:33.745Z"
   },
   {
    "duration": 63,
    "start_time": "2023-02-20T17:02:16.248Z"
   },
   {
    "duration": 102,
    "start_time": "2023-02-20T17:02:21.915Z"
   },
   {
    "duration": 41,
    "start_time": "2023-02-20T17:03:11.796Z"
   },
   {
    "duration": 28,
    "start_time": "2023-02-20T17:03:26.683Z"
   },
   {
    "duration": 33,
    "start_time": "2023-02-20T17:04:13.660Z"
   },
   {
    "duration": 28,
    "start_time": "2023-02-20T17:04:54.575Z"
   },
   {
    "duration": 17,
    "start_time": "2023-02-20T17:05:11.784Z"
   },
   {
    "duration": 30,
    "start_time": "2023-02-20T17:05:17.473Z"
   },
   {
    "duration": 31,
    "start_time": "2023-02-20T17:05:32.271Z"
   },
   {
    "duration": 79,
    "start_time": "2023-02-20T17:06:45.113Z"
   },
   {
    "duration": 40,
    "start_time": "2023-02-20T17:06:51.981Z"
   },
   {
    "duration": 41,
    "start_time": "2023-02-20T17:07:05.250Z"
   },
   {
    "duration": 642,
    "start_time": "2023-02-20T17:07:07.766Z"
   },
   {
    "duration": 534,
    "start_time": "2023-02-20T17:07:16.648Z"
   },
   {
    "duration": 11,
    "start_time": "2023-02-20T17:07:22.218Z"
   },
   {
    "duration": 189,
    "start_time": "2023-02-20T17:07:22.238Z"
   },
   {
    "duration": 71,
    "start_time": "2023-02-20T17:07:22.428Z"
   },
   {
    "duration": 24,
    "start_time": "2023-02-20T17:07:22.502Z"
   },
   {
    "duration": 72,
    "start_time": "2023-02-20T17:07:22.528Z"
   },
   {
    "duration": 13,
    "start_time": "2023-02-20T17:07:22.602Z"
   },
   {
    "duration": 26,
    "start_time": "2023-02-20T17:07:22.619Z"
   },
   {
    "duration": 37,
    "start_time": "2023-02-20T17:07:22.647Z"
   },
   {
    "duration": 27,
    "start_time": "2023-02-20T17:07:22.690Z"
   },
   {
    "duration": 54,
    "start_time": "2023-02-20T17:07:22.719Z"
   },
   {
    "duration": 25,
    "start_time": "2023-02-20T17:07:22.775Z"
   },
   {
    "duration": 41,
    "start_time": "2023-02-20T17:07:22.802Z"
   },
   {
    "duration": 42,
    "start_time": "2023-02-20T17:07:22.849Z"
   },
   {
    "duration": 9,
    "start_time": "2023-02-20T17:07:22.892Z"
   },
   {
    "duration": 13,
    "start_time": "2023-02-20T17:07:22.902Z"
   },
   {
    "duration": 75,
    "start_time": "2023-02-20T17:07:22.917Z"
   },
   {
    "duration": 10,
    "start_time": "2023-02-20T17:07:22.994Z"
   },
   {
    "duration": 33,
    "start_time": "2023-02-20T17:07:23.006Z"
   },
   {
    "duration": 60,
    "start_time": "2023-02-20T17:07:23.042Z"
   },
   {
    "duration": 30,
    "start_time": "2023-02-20T17:07:23.104Z"
   },
   {
    "duration": 45,
    "start_time": "2023-02-20T17:07:23.136Z"
   },
   {
    "duration": 24,
    "start_time": "2023-02-20T17:07:23.183Z"
   },
   {
    "duration": 21,
    "start_time": "2023-02-20T17:07:23.209Z"
   },
   {
    "duration": 16,
    "start_time": "2023-02-20T17:07:40.792Z"
   },
   {
    "duration": 47,
    "start_time": "2023-02-20T17:08:12.312Z"
   },
   {
    "duration": 14,
    "start_time": "2023-02-20T17:08:41.481Z"
   },
   {
    "duration": 10,
    "start_time": "2023-02-20T17:08:51.968Z"
   },
   {
    "duration": 10,
    "start_time": "2023-02-20T17:10:28.489Z"
   },
   {
    "duration": 28,
    "start_time": "2023-02-20T17:10:36.013Z"
   },
   {
    "duration": 52,
    "start_time": "2023-02-20T17:10:40.114Z"
   },
   {
    "duration": 18,
    "start_time": "2023-02-20T17:10:47.713Z"
   },
   {
    "duration": 27,
    "start_time": "2023-02-20T17:10:52.779Z"
   },
   {
    "duration": 27,
    "start_time": "2023-02-20T17:10:59.352Z"
   },
   {
    "duration": 7,
    "start_time": "2023-02-20T17:11:07.652Z"
   },
   {
    "duration": 183,
    "start_time": "2023-02-20T17:11:07.661Z"
   },
   {
    "duration": 60,
    "start_time": "2023-02-20T17:11:07.846Z"
   },
   {
    "duration": 43,
    "start_time": "2023-02-20T17:11:07.909Z"
   },
   {
    "duration": 44,
    "start_time": "2023-02-20T17:11:07.954Z"
   },
   {
    "duration": 18,
    "start_time": "2023-02-20T17:11:08.002Z"
   },
   {
    "duration": 25,
    "start_time": "2023-02-20T17:11:08.026Z"
   },
   {
    "duration": 43,
    "start_time": "2023-02-20T17:11:08.053Z"
   },
   {
    "duration": 20,
    "start_time": "2023-02-20T17:11:08.098Z"
   },
   {
    "duration": 50,
    "start_time": "2023-02-20T17:11:08.120Z"
   },
   {
    "duration": 16,
    "start_time": "2023-02-20T17:11:08.173Z"
   },
   {
    "duration": 12,
    "start_time": "2023-02-20T17:11:08.191Z"
   },
   {
    "duration": 4,
    "start_time": "2023-02-20T17:11:08.205Z"
   },
   {
    "duration": 7,
    "start_time": "2023-02-20T17:11:08.211Z"
   },
   {
    "duration": 73,
    "start_time": "2023-02-20T17:11:08.223Z"
   },
   {
    "duration": 9,
    "start_time": "2023-02-20T17:11:08.298Z"
   },
   {
    "duration": 42,
    "start_time": "2023-02-20T17:11:08.309Z"
   },
   {
    "duration": 46,
    "start_time": "2023-02-20T17:11:08.357Z"
   },
   {
    "duration": 23,
    "start_time": "2023-02-20T17:11:08.405Z"
   },
   {
    "duration": 51,
    "start_time": "2023-02-20T17:11:08.438Z"
   },
   {
    "duration": 19,
    "start_time": "2023-02-20T17:11:08.491Z"
   },
   {
    "duration": 19,
    "start_time": "2023-02-20T17:11:08.512Z"
   },
   {
    "duration": 59,
    "start_time": "2023-02-20T17:11:08.533Z"
   },
   {
    "duration": 20,
    "start_time": "2023-02-20T17:12:00.256Z"
   },
   {
    "duration": 68,
    "start_time": "2023-02-20T17:12:50.018Z"
   },
   {
    "duration": 44,
    "start_time": "2023-02-20T17:12:53.855Z"
   },
   {
    "duration": 43,
    "start_time": "2023-02-20T17:12:58.892Z"
   },
   {
    "duration": 15,
    "start_time": "2023-02-20T17:13:16.281Z"
   },
   {
    "duration": 9,
    "start_time": "2023-02-20T17:14:24.660Z"
   },
   {
    "duration": 4,
    "start_time": "2023-02-20T17:14:37.192Z"
   },
   {
    "duration": 13,
    "start_time": "2023-02-20T17:15:06.339Z"
   },
   {
    "duration": 6,
    "start_time": "2023-02-20T17:15:09.982Z"
   },
   {
    "duration": 8,
    "start_time": "2023-02-20T17:15:14.349Z"
   },
   {
    "duration": 5,
    "start_time": "2023-02-20T17:15:18.483Z"
   },
   {
    "duration": 14,
    "start_time": "2023-02-20T17:15:23.149Z"
   },
   {
    "duration": 9,
    "start_time": "2023-02-20T17:15:26.441Z"
   },
   {
    "duration": 4,
    "start_time": "2023-02-20T17:15:29.773Z"
   },
   {
    "duration": 4,
    "start_time": "2023-02-20T17:15:32.972Z"
   },
   {
    "duration": 96,
    "start_time": "2023-02-20T17:15:53.520Z"
   },
   {
    "duration": 3,
    "start_time": "2023-02-20T17:15:57.050Z"
   },
   {
    "duration": 7,
    "start_time": "2023-02-20T17:16:04.588Z"
   },
   {
    "duration": 10,
    "start_time": "2023-02-20T17:16:14.471Z"
   },
   {
    "duration": 8,
    "start_time": "2023-02-20T17:16:25.058Z"
   },
   {
    "duration": 17,
    "start_time": "2023-02-20T17:16:57.938Z"
   },
   {
    "duration": 9,
    "start_time": "2023-02-20T17:17:08.004Z"
   },
   {
    "duration": 406,
    "start_time": "2023-02-21T11:15:49.799Z"
   },
   {
    "duration": 334,
    "start_time": "2023-02-21T11:15:50.209Z"
   },
   {
    "duration": 54,
    "start_time": "2023-02-21T11:15:50.545Z"
   },
   {
    "duration": 19,
    "start_time": "2023-02-21T11:15:50.600Z"
   },
   {
    "duration": 3,
    "start_time": "2023-02-21T11:15:50.621Z"
   },
   {
    "duration": 9,
    "start_time": "2023-02-21T11:15:50.625Z"
   },
   {
    "duration": 11,
    "start_time": "2023-02-21T11:15:50.636Z"
   },
   {
    "duration": 8,
    "start_time": "2023-02-21T11:15:50.648Z"
   },
   {
    "duration": 14,
    "start_time": "2023-02-21T11:15:50.657Z"
   },
   {
    "duration": 6,
    "start_time": "2023-02-21T11:15:50.672Z"
   },
   {
    "duration": 34,
    "start_time": "2023-02-21T11:15:50.679Z"
   },
   {
    "duration": 14,
    "start_time": "2023-02-21T11:15:50.714Z"
   },
   {
    "duration": 3,
    "start_time": "2023-02-21T11:15:50.729Z"
   },
   {
    "duration": 4,
    "start_time": "2023-02-21T11:15:50.735Z"
   },
   {
    "duration": 8,
    "start_time": "2023-02-21T11:15:50.740Z"
   },
   {
    "duration": 5,
    "start_time": "2023-02-21T11:15:50.749Z"
   },
   {
    "duration": 8,
    "start_time": "2023-02-21T11:15:50.755Z"
   },
   {
    "duration": 17,
    "start_time": "2023-02-21T11:15:50.764Z"
   },
   {
    "duration": 13,
    "start_time": "2023-02-21T11:15:50.810Z"
   },
   {
    "duration": 25,
    "start_time": "2023-02-21T11:15:50.824Z"
   },
   {
    "duration": 13,
    "start_time": "2023-02-21T11:15:50.850Z"
   },
   {
    "duration": 51,
    "start_time": "2023-02-21T11:15:50.864Z"
   },
   {
    "duration": 8,
    "start_time": "2023-02-21T11:15:50.917Z"
   },
   {
    "duration": 24,
    "start_time": "2023-02-21T11:17:52.898Z"
   },
   {
    "duration": 7,
    "start_time": "2023-02-21T11:18:13.881Z"
   },
   {
    "duration": 10,
    "start_time": "2023-02-21T11:18:38.898Z"
   },
   {
    "duration": 9,
    "start_time": "2023-02-21T11:18:49.380Z"
   },
   {
    "duration": 3,
    "start_time": "2023-02-21T11:19:53.865Z"
   },
   {
    "duration": 98,
    "start_time": "2023-02-21T11:19:53.870Z"
   },
   {
    "duration": 35,
    "start_time": "2023-02-21T11:19:53.970Z"
   },
   {
    "duration": 15,
    "start_time": "2023-02-21T11:19:54.007Z"
   },
   {
    "duration": 12,
    "start_time": "2023-02-21T11:19:54.023Z"
   },
   {
    "duration": 11,
    "start_time": "2023-02-21T11:19:54.036Z"
   },
   {
    "duration": 16,
    "start_time": "2023-02-21T11:19:54.048Z"
   },
   {
    "duration": 8,
    "start_time": "2023-02-21T11:19:54.065Z"
   },
   {
    "duration": 13,
    "start_time": "2023-02-21T11:19:54.075Z"
   },
   {
    "duration": 21,
    "start_time": "2023-02-21T11:19:54.089Z"
   },
   {
    "duration": 4,
    "start_time": "2023-02-21T11:19:54.112Z"
   },
   {
    "duration": 11,
    "start_time": "2023-02-21T11:19:54.117Z"
   },
   {
    "duration": 3,
    "start_time": "2023-02-21T11:19:54.129Z"
   },
   {
    "duration": 8,
    "start_time": "2023-02-21T11:19:54.134Z"
   },
   {
    "duration": 14,
    "start_time": "2023-02-21T11:19:54.143Z"
   },
   {
    "duration": 82,
    "start_time": "2023-02-21T11:19:54.159Z"
   },
   {
    "duration": 0,
    "start_time": "2023-02-21T11:19:54.242Z"
   },
   {
    "duration": 0,
    "start_time": "2023-02-21T11:19:54.244Z"
   },
   {
    "duration": 0,
    "start_time": "2023-02-21T11:19:54.245Z"
   },
   {
    "duration": 0,
    "start_time": "2023-02-21T11:19:54.246Z"
   },
   {
    "duration": 0,
    "start_time": "2023-02-21T11:19:54.246Z"
   },
   {
    "duration": 0,
    "start_time": "2023-02-21T11:19:54.248Z"
   },
   {
    "duration": 0,
    "start_time": "2023-02-21T11:19:54.248Z"
   },
   {
    "duration": 3,
    "start_time": "2023-02-21T11:20:10.557Z"
   },
   {
    "duration": 5,
    "start_time": "2023-02-21T11:20:11.051Z"
   },
   {
    "duration": 6,
    "start_time": "2023-02-21T11:20:12.225Z"
   },
   {
    "duration": 10,
    "start_time": "2023-02-21T11:20:13.076Z"
   },
   {
    "duration": 8,
    "start_time": "2023-02-21T11:21:38.896Z"
   },
   {
    "duration": 11,
    "start_time": "2023-02-21T11:21:46.491Z"
   },
   {
    "duration": 10,
    "start_time": "2023-02-21T11:21:54.597Z"
   },
   {
    "duration": 22,
    "start_time": "2023-02-21T11:22:04.008Z"
   },
   {
    "duration": 6,
    "start_time": "2023-02-21T11:22:43.455Z"
   },
   {
    "duration": 10,
    "start_time": "2023-02-21T11:22:49.480Z"
   },
   {
    "duration": 9,
    "start_time": "2023-02-21T11:23:00.913Z"
   },
   {
    "duration": 11,
    "start_time": "2023-02-21T11:23:13.501Z"
   },
   {
    "duration": 6,
    "start_time": "2023-02-21T11:24:26.394Z"
   },
   {
    "duration": 6,
    "start_time": "2023-02-21T11:24:27.494Z"
   },
   {
    "duration": 20,
    "start_time": "2023-02-21T11:25:16.300Z"
   },
   {
    "duration": 31,
    "start_time": "2023-02-21T11:25:25.170Z"
   },
   {
    "duration": 22,
    "start_time": "2023-02-21T11:25:39.658Z"
   },
   {
    "duration": 3,
    "start_time": "2023-02-21T11:26:00.757Z"
   },
   {
    "duration": 161,
    "start_time": "2023-02-21T11:26:00.762Z"
   },
   {
    "duration": 35,
    "start_time": "2023-02-21T11:26:00.926Z"
   },
   {
    "duration": 14,
    "start_time": "2023-02-21T11:26:00.963Z"
   },
   {
    "duration": 41,
    "start_time": "2023-02-21T11:26:00.979Z"
   },
   {
    "duration": 33,
    "start_time": "2023-02-21T11:26:01.022Z"
   },
   {
    "duration": 18,
    "start_time": "2023-02-21T11:26:01.057Z"
   },
   {
    "duration": 25,
    "start_time": "2023-02-21T11:26:01.076Z"
   },
   {
    "duration": 21,
    "start_time": "2023-02-21T11:26:01.103Z"
   },
   {
    "duration": 28,
    "start_time": "2023-02-21T11:26:01.126Z"
   },
   {
    "duration": 15,
    "start_time": "2023-02-21T11:26:01.156Z"
   },
   {
    "duration": 29,
    "start_time": "2023-02-21T11:26:01.172Z"
   },
   {
    "duration": 23,
    "start_time": "2023-02-21T11:26:01.203Z"
   },
   {
    "duration": 23,
    "start_time": "2023-02-21T11:26:01.228Z"
   },
   {
    "duration": 18,
    "start_time": "2023-02-21T11:26:01.253Z"
   },
   {
    "duration": 67,
    "start_time": "2023-02-21T11:26:01.272Z"
   },
   {
    "duration": 26,
    "start_time": "2023-02-21T11:26:01.340Z"
   },
   {
    "duration": 17,
    "start_time": "2023-02-21T11:26:01.368Z"
   },
   {
    "duration": 0,
    "start_time": "2023-02-21T11:26:01.387Z"
   },
   {
    "duration": 0,
    "start_time": "2023-02-21T11:26:01.388Z"
   },
   {
    "duration": 0,
    "start_time": "2023-02-21T11:26:01.389Z"
   },
   {
    "duration": 0,
    "start_time": "2023-02-21T11:26:01.390Z"
   },
   {
    "duration": 0,
    "start_time": "2023-02-21T11:26:01.392Z"
   },
   {
    "duration": 10,
    "start_time": "2023-02-21T11:26:20.925Z"
   },
   {
    "duration": 2,
    "start_time": "2023-02-21T11:26:28.738Z"
   },
   {
    "duration": 100,
    "start_time": "2023-02-21T11:26:28.761Z"
   },
   {
    "duration": 35,
    "start_time": "2023-02-21T11:26:28.863Z"
   },
   {
    "duration": 30,
    "start_time": "2023-02-21T11:26:28.899Z"
   },
   {
    "duration": 6,
    "start_time": "2023-02-21T11:26:28.931Z"
   },
   {
    "duration": 7,
    "start_time": "2023-02-21T11:26:28.939Z"
   },
   {
    "duration": 11,
    "start_time": "2023-02-21T11:26:28.948Z"
   },
   {
    "duration": 6,
    "start_time": "2023-02-21T11:26:28.961Z"
   },
   {
    "duration": 12,
    "start_time": "2023-02-21T11:26:28.969Z"
   },
   {
    "duration": 7,
    "start_time": "2023-02-21T11:26:28.982Z"
   },
   {
    "duration": 27,
    "start_time": "2023-02-21T11:26:28.990Z"
   },
   {
    "duration": 21,
    "start_time": "2023-02-21T11:26:29.018Z"
   },
   {
    "duration": 3,
    "start_time": "2023-02-21T11:26:29.041Z"
   },
   {
    "duration": 12,
    "start_time": "2023-02-21T11:26:29.046Z"
   },
   {
    "duration": 6,
    "start_time": "2023-02-21T11:26:29.061Z"
   },
   {
    "duration": 19,
    "start_time": "2023-02-21T11:26:29.068Z"
   },
   {
    "duration": 30,
    "start_time": "2023-02-21T11:26:29.088Z"
   },
   {
    "duration": 25,
    "start_time": "2023-02-21T11:26:29.123Z"
   },
   {
    "duration": 14,
    "start_time": "2023-02-21T11:26:29.150Z"
   },
   {
    "duration": 54,
    "start_time": "2023-02-21T11:26:29.165Z"
   },
   {
    "duration": 20,
    "start_time": "2023-02-21T11:26:29.221Z"
   },
   {
    "duration": 35,
    "start_time": "2023-02-21T11:26:29.243Z"
   },
   {
    "duration": 8,
    "start_time": "2023-02-21T11:26:29.280Z"
   },
   {
    "duration": 9,
    "start_time": "2023-02-21T11:26:39.987Z"
   },
   {
    "duration": 18,
    "start_time": "2023-02-21T11:26:54.570Z"
   },
   {
    "duration": 14,
    "start_time": "2023-02-21T11:26:56.630Z"
   },
   {
    "duration": 206,
    "start_time": "2023-02-21T11:27:27.985Z"
   },
   {
    "duration": 3,
    "start_time": "2023-02-21T11:27:46.049Z"
   },
   {
    "duration": 93,
    "start_time": "2023-02-21T11:27:46.055Z"
   },
   {
    "duration": 39,
    "start_time": "2023-02-21T11:27:46.150Z"
   },
   {
    "duration": 14,
    "start_time": "2023-02-21T11:27:46.191Z"
   },
   {
    "duration": 16,
    "start_time": "2023-02-21T11:27:46.207Z"
   },
   {
    "duration": 15,
    "start_time": "2023-02-21T11:27:46.227Z"
   },
   {
    "duration": 14,
    "start_time": "2023-02-21T11:27:46.244Z"
   },
   {
    "duration": 9,
    "start_time": "2023-02-21T11:27:46.260Z"
   },
   {
    "duration": 14,
    "start_time": "2023-02-21T11:27:46.270Z"
   },
   {
    "duration": 5,
    "start_time": "2023-02-21T11:27:46.286Z"
   },
   {
    "duration": 35,
    "start_time": "2023-02-21T11:27:46.293Z"
   },
   {
    "duration": 13,
    "start_time": "2023-02-21T11:27:46.333Z"
   },
   {
    "duration": 4,
    "start_time": "2023-02-21T11:27:46.348Z"
   },
   {
    "duration": 13,
    "start_time": "2023-02-21T11:27:46.354Z"
   },
   {
    "duration": 13,
    "start_time": "2023-02-21T11:27:46.368Z"
   },
   {
    "duration": 26,
    "start_time": "2023-02-21T11:27:46.382Z"
   },
   {
    "duration": 19,
    "start_time": "2023-02-21T11:27:46.414Z"
   },
   {
    "duration": 203,
    "start_time": "2023-02-21T11:27:46.434Z"
   },
   {
    "duration": 0,
    "start_time": "2023-02-21T11:27:46.639Z"
   },
   {
    "duration": 0,
    "start_time": "2023-02-21T11:27:46.640Z"
   },
   {
    "duration": 0,
    "start_time": "2023-02-21T11:27:46.641Z"
   },
   {
    "duration": 0,
    "start_time": "2023-02-21T11:27:46.642Z"
   },
   {
    "duration": 0,
    "start_time": "2023-02-21T11:27:46.643Z"
   },
   {
    "duration": 209,
    "start_time": "2023-02-21T11:29:08.889Z"
   },
   {
    "duration": 3,
    "start_time": "2023-02-21T11:29:12.293Z"
   },
   {
    "duration": 100,
    "start_time": "2023-02-21T11:29:12.299Z"
   },
   {
    "duration": 41,
    "start_time": "2023-02-21T11:29:12.401Z"
   },
   {
    "duration": 14,
    "start_time": "2023-02-21T11:29:12.444Z"
   },
   {
    "duration": 5,
    "start_time": "2023-02-21T11:29:12.460Z"
   },
   {
    "duration": 6,
    "start_time": "2023-02-21T11:29:12.467Z"
   },
   {
    "duration": 13,
    "start_time": "2023-02-21T11:29:12.475Z"
   },
   {
    "duration": 8,
    "start_time": "2023-02-21T11:29:12.490Z"
   },
   {
    "duration": 30,
    "start_time": "2023-02-21T11:29:12.500Z"
   },
   {
    "duration": 5,
    "start_time": "2023-02-21T11:29:12.532Z"
   },
   {
    "duration": 5,
    "start_time": "2023-02-21T11:29:12.538Z"
   },
   {
    "duration": 11,
    "start_time": "2023-02-21T11:29:12.545Z"
   },
   {
    "duration": 3,
    "start_time": "2023-02-21T11:29:12.558Z"
   },
   {
    "duration": 14,
    "start_time": "2023-02-21T11:29:12.563Z"
   },
   {
    "duration": 5,
    "start_time": "2023-02-21T11:29:12.579Z"
   },
   {
    "duration": 42,
    "start_time": "2023-02-21T11:29:12.586Z"
   },
   {
    "duration": 12,
    "start_time": "2023-02-21T11:29:12.630Z"
   },
   {
    "duration": 216,
    "start_time": "2023-02-21T11:29:12.645Z"
   },
   {
    "duration": 0,
    "start_time": "2023-02-21T11:29:12.863Z"
   },
   {
    "duration": 0,
    "start_time": "2023-02-21T11:29:12.864Z"
   },
   {
    "duration": 0,
    "start_time": "2023-02-21T11:29:12.865Z"
   },
   {
    "duration": 0,
    "start_time": "2023-02-21T11:29:12.866Z"
   },
   {
    "duration": 0,
    "start_time": "2023-02-21T11:29:12.867Z"
   },
   {
    "duration": 4,
    "start_time": "2023-02-21T11:29:57.256Z"
   },
   {
    "duration": 102,
    "start_time": "2023-02-21T11:29:57.263Z"
   },
   {
    "duration": 38,
    "start_time": "2023-02-21T11:29:57.366Z"
   },
   {
    "duration": 18,
    "start_time": "2023-02-21T11:29:57.405Z"
   },
   {
    "duration": 5,
    "start_time": "2023-02-21T11:29:57.425Z"
   },
   {
    "duration": 12,
    "start_time": "2023-02-21T11:29:57.432Z"
   },
   {
    "duration": 12,
    "start_time": "2023-02-21T11:29:57.445Z"
   },
   {
    "duration": 8,
    "start_time": "2023-02-21T11:29:57.459Z"
   },
   {
    "duration": 17,
    "start_time": "2023-02-21T11:29:57.468Z"
   },
   {
    "duration": 32,
    "start_time": "2023-02-21T11:29:57.487Z"
   },
   {
    "duration": 7,
    "start_time": "2023-02-21T11:29:57.522Z"
   },
   {
    "duration": 13,
    "start_time": "2023-02-21T11:29:57.530Z"
   },
   {
    "duration": 3,
    "start_time": "2023-02-21T11:29:57.544Z"
   },
   {
    "duration": 7,
    "start_time": "2023-02-21T11:29:57.548Z"
   },
   {
    "duration": 5,
    "start_time": "2023-02-21T11:29:57.556Z"
   },
   {
    "duration": 15,
    "start_time": "2023-02-21T11:29:57.562Z"
   },
   {
    "duration": 36,
    "start_time": "2023-02-21T11:29:57.579Z"
   },
   {
    "duration": 196,
    "start_time": "2023-02-21T11:29:57.616Z"
   },
   {
    "duration": 0,
    "start_time": "2023-02-21T11:29:57.814Z"
   },
   {
    "duration": 0,
    "start_time": "2023-02-21T11:29:57.814Z"
   },
   {
    "duration": 0,
    "start_time": "2023-02-21T11:29:57.815Z"
   },
   {
    "duration": 0,
    "start_time": "2023-02-21T11:29:57.818Z"
   },
   {
    "duration": 0,
    "start_time": "2023-02-21T11:29:57.819Z"
   },
   {
    "duration": 16,
    "start_time": "2023-02-21T11:30:25.059Z"
   },
   {
    "duration": 30,
    "start_time": "2023-02-21T11:30:35.334Z"
   },
   {
    "duration": 14,
    "start_time": "2023-02-21T11:30:41.038Z"
   },
   {
    "duration": 42,
    "start_time": "2023-02-21T11:30:51.627Z"
   },
   {
    "duration": 14,
    "start_time": "2023-02-21T11:30:55.701Z"
   },
   {
    "duration": 4,
    "start_time": "2023-02-21T11:51:24.428Z"
   },
   {
    "duration": 98,
    "start_time": "2023-02-21T11:51:24.434Z"
   },
   {
    "duration": 35,
    "start_time": "2023-02-21T11:51:24.533Z"
   },
   {
    "duration": 17,
    "start_time": "2023-02-21T11:51:24.570Z"
   },
   {
    "duration": 4,
    "start_time": "2023-02-21T11:51:24.589Z"
   },
   {
    "duration": 7,
    "start_time": "2023-02-21T11:51:24.595Z"
   },
   {
    "duration": 12,
    "start_time": "2023-02-21T11:51:24.751Z"
   },
   {
    "duration": 9,
    "start_time": "2023-02-21T11:51:24.765Z"
   },
   {
    "duration": 13,
    "start_time": "2023-02-21T11:51:24.858Z"
   },
   {
    "duration": 7,
    "start_time": "2023-02-21T11:51:24.872Z"
   },
   {
    "duration": 12,
    "start_time": "2023-02-21T11:51:24.881Z"
   },
   {
    "duration": 5,
    "start_time": "2023-02-21T11:51:24.894Z"
   },
   {
    "duration": 9,
    "start_time": "2023-02-21T11:51:24.901Z"
   },
   {
    "duration": 3,
    "start_time": "2023-02-21T11:51:24.912Z"
   },
   {
    "duration": 7,
    "start_time": "2023-02-21T11:51:24.916Z"
   },
   {
    "duration": 14,
    "start_time": "2023-02-21T11:51:24.924Z"
   },
   {
    "duration": 8,
    "start_time": "2023-02-21T11:51:24.939Z"
   },
   {
    "duration": 17,
    "start_time": "2023-02-21T11:51:24.949Z"
   },
   {
    "duration": 44,
    "start_time": "2023-02-21T11:51:24.967Z"
   },
   {
    "duration": 14,
    "start_time": "2023-02-21T11:51:25.013Z"
   },
   {
    "duration": 27,
    "start_time": "2023-02-21T11:51:25.029Z"
   },
   {
    "duration": 8,
    "start_time": "2023-02-21T11:51:25.059Z"
   },
   {
    "duration": 28,
    "start_time": "2023-02-21T11:52:14.426Z"
   },
   {
    "duration": 42,
    "start_time": "2023-02-21T11:52:16.679Z"
   },
   {
    "duration": 17,
    "start_time": "2023-02-21T11:52:22.019Z"
   },
   {
    "duration": 9,
    "start_time": "2023-02-21T11:52:29.292Z"
   },
   {
    "duration": 3,
    "start_time": "2023-02-21T11:58:17.511Z"
   },
   {
    "duration": 88,
    "start_time": "2023-02-21T11:58:20.172Z"
   },
   {
    "duration": 15,
    "start_time": "2023-02-21T11:58:26.463Z"
   },
   {
    "duration": 52,
    "start_time": "2023-02-21T11:58:35.770Z"
   },
   {
    "duration": 6,
    "start_time": "2023-02-21T11:58:40.321Z"
   },
   {
    "duration": 14,
    "start_time": "2023-02-21T11:58:42.174Z"
   },
   {
    "duration": 3,
    "start_time": "2023-02-21T12:18:19.773Z"
   },
   {
    "duration": 120,
    "start_time": "2023-02-21T12:18:19.779Z"
   },
   {
    "duration": 53,
    "start_time": "2023-02-21T12:18:19.900Z"
   },
   {
    "duration": 15,
    "start_time": "2023-02-21T12:18:19.954Z"
   },
   {
    "duration": 14,
    "start_time": "2023-02-21T12:18:19.971Z"
   },
   {
    "duration": 41,
    "start_time": "2023-02-21T12:18:19.986Z"
   },
   {
    "duration": 21,
    "start_time": "2023-02-21T12:18:20.030Z"
   },
   {
    "duration": 11,
    "start_time": "2023-02-21T12:18:20.053Z"
   },
   {
    "duration": 26,
    "start_time": "2023-02-21T12:18:20.066Z"
   },
   {
    "duration": 14,
    "start_time": "2023-02-21T12:18:20.094Z"
   },
   {
    "duration": 11,
    "start_time": "2023-02-21T12:18:23.285Z"
   },
   {
    "duration": 23,
    "start_time": "2023-02-21T12:18:34.071Z"
   },
   {
    "duration": 53,
    "start_time": "2023-02-21T12:18:40.778Z"
   },
   {
    "duration": 34,
    "start_time": "2023-02-21T12:18:48.757Z"
   },
   {
    "duration": 7,
    "start_time": "2023-02-21T12:19:07.826Z"
   },
   {
    "duration": 4,
    "start_time": "2023-02-21T12:19:22.778Z"
   },
   {
    "duration": 8,
    "start_time": "2023-02-21T12:19:28.159Z"
   },
   {
    "duration": 5,
    "start_time": "2023-02-21T12:19:34.080Z"
   },
   {
    "duration": 4,
    "start_time": "2023-02-21T12:19:39.829Z"
   },
   {
    "duration": 5,
    "start_time": "2023-02-21T12:19:51.660Z"
   },
   {
    "duration": 324,
    "start_time": "2023-02-21T12:20:02.825Z"
   },
   {
    "duration": 3,
    "start_time": "2023-02-21T12:20:09.598Z"
   },
   {
    "duration": 143,
    "start_time": "2023-02-21T12:20:09.604Z"
   },
   {
    "duration": 41,
    "start_time": "2023-02-21T12:20:09.749Z"
   },
   {
    "duration": 15,
    "start_time": "2023-02-21T12:20:09.791Z"
   },
   {
    "duration": 28,
    "start_time": "2023-02-21T12:20:09.808Z"
   },
   {
    "duration": 11,
    "start_time": "2023-02-21T12:20:09.837Z"
   },
   {
    "duration": 14,
    "start_time": "2023-02-21T12:20:09.850Z"
   },
   {
    "duration": 8,
    "start_time": "2023-02-21T12:20:09.865Z"
   },
   {
    "duration": 12,
    "start_time": "2023-02-21T12:20:09.874Z"
   },
   {
    "duration": 17,
    "start_time": "2023-02-21T12:20:09.888Z"
   },
   {
    "duration": 25,
    "start_time": "2023-02-21T12:20:09.907Z"
   },
   {
    "duration": 37,
    "start_time": "2023-02-21T12:20:09.933Z"
   },
   {
    "duration": 5,
    "start_time": "2023-02-21T12:20:09.971Z"
   },
   {
    "duration": 16,
    "start_time": "2023-02-21T12:20:09.979Z"
   },
   {
    "duration": 14,
    "start_time": "2023-02-21T12:20:09.997Z"
   },
   {
    "duration": 256,
    "start_time": "2023-02-21T12:20:10.012Z"
   },
   {
    "duration": 0,
    "start_time": "2023-02-21T12:20:10.270Z"
   },
   {
    "duration": 0,
    "start_time": "2023-02-21T12:20:10.271Z"
   },
   {
    "duration": 0,
    "start_time": "2023-02-21T12:20:10.273Z"
   },
   {
    "duration": 0,
    "start_time": "2023-02-21T12:20:10.274Z"
   },
   {
    "duration": 0,
    "start_time": "2023-02-21T12:20:10.275Z"
   },
   {
    "duration": 0,
    "start_time": "2023-02-21T12:20:10.276Z"
   },
   {
    "duration": 0,
    "start_time": "2023-02-21T12:20:10.277Z"
   },
   {
    "duration": 10,
    "start_time": "2023-02-21T12:21:47.390Z"
   },
   {
    "duration": 14,
    "start_time": "2023-02-21T12:21:57.629Z"
   },
   {
    "duration": 15,
    "start_time": "2023-02-21T12:22:13.228Z"
   },
   {
    "duration": 18,
    "start_time": "2023-02-21T12:22:20.832Z"
   },
   {
    "duration": 24,
    "start_time": "2023-02-21T12:22:24.930Z"
   },
   {
    "duration": 20,
    "start_time": "2023-02-21T12:22:28.947Z"
   },
   {
    "duration": 39,
    "start_time": "2023-02-21T12:22:32.394Z"
   },
   {
    "duration": 5,
    "start_time": "2023-02-21T12:22:55.562Z"
   },
   {
    "duration": 3,
    "start_time": "2023-02-21T12:23:46.695Z"
   },
   {
    "duration": 108,
    "start_time": "2023-02-21T12:23:46.700Z"
   },
   {
    "duration": 36,
    "start_time": "2023-02-21T12:23:46.827Z"
   },
   {
    "duration": 15,
    "start_time": "2023-02-21T12:23:46.865Z"
   },
   {
    "duration": 9,
    "start_time": "2023-02-21T12:23:46.881Z"
   },
   {
    "duration": 9,
    "start_time": "2023-02-21T12:23:46.891Z"
   },
   {
    "duration": 18,
    "start_time": "2023-02-21T12:23:46.902Z"
   },
   {
    "duration": 16,
    "start_time": "2023-02-21T12:23:46.922Z"
   },
   {
    "duration": 19,
    "start_time": "2023-02-21T12:23:46.940Z"
   },
   {
    "duration": 7,
    "start_time": "2023-02-21T12:23:46.961Z"
   },
   {
    "duration": 14,
    "start_time": "2023-02-21T12:23:46.970Z"
   },
   {
    "duration": 58,
    "start_time": "2023-02-21T12:23:46.986Z"
   },
   {
    "duration": 5,
    "start_time": "2023-02-21T12:23:47.045Z"
   },
   {
    "duration": 28,
    "start_time": "2023-02-21T12:23:47.053Z"
   },
   {
    "duration": 4,
    "start_time": "2023-02-21T12:23:47.082Z"
   },
   {
    "duration": 14,
    "start_time": "2023-02-21T12:23:47.088Z"
   },
   {
    "duration": 291,
    "start_time": "2023-02-21T12:23:47.109Z"
   },
   {
    "duration": 0,
    "start_time": "2023-02-21T12:23:47.402Z"
   },
   {
    "duration": 0,
    "start_time": "2023-02-21T12:23:47.402Z"
   },
   {
    "duration": 0,
    "start_time": "2023-02-21T12:23:47.404Z"
   },
   {
    "duration": 0,
    "start_time": "2023-02-21T12:23:47.406Z"
   },
   {
    "duration": 0,
    "start_time": "2023-02-21T12:23:47.407Z"
   },
   {
    "duration": 0,
    "start_time": "2023-02-21T12:23:47.408Z"
   },
   {
    "duration": 11,
    "start_time": "2023-02-21T12:24:22.334Z"
   },
   {
    "duration": 6,
    "start_time": "2023-02-21T12:24:50.606Z"
   },
   {
    "duration": 13,
    "start_time": "2023-02-21T12:25:15.245Z"
   },
   {
    "duration": 12,
    "start_time": "2023-02-21T12:25:42.073Z"
   },
   {
    "duration": 6,
    "start_time": "2023-02-21T12:25:53.616Z"
   },
   {
    "duration": 24,
    "start_time": "2023-02-21T12:26:01.448Z"
   },
   {
    "duration": 14,
    "start_time": "2023-02-21T12:26:18.583Z"
   },
   {
    "duration": 15,
    "start_time": "2023-02-21T12:26:29.510Z"
   },
   {
    "duration": 15,
    "start_time": "2023-02-21T12:26:38.526Z"
   },
   {
    "duration": 17,
    "start_time": "2023-02-21T12:27:00.521Z"
   },
   {
    "duration": 9,
    "start_time": "2023-02-21T12:27:10.352Z"
   },
   {
    "duration": 11,
    "start_time": "2023-02-21T12:28:05.964Z"
   },
   {
    "duration": 11,
    "start_time": "2023-02-21T12:28:13.529Z"
   },
   {
    "duration": 10,
    "start_time": "2023-02-21T12:28:21.793Z"
   },
   {
    "duration": 18,
    "start_time": "2023-02-21T12:28:31.753Z"
   },
   {
    "duration": 14,
    "start_time": "2023-02-21T12:28:35.668Z"
   },
   {
    "duration": 11,
    "start_time": "2023-02-21T12:28:36.335Z"
   },
   {
    "duration": 10,
    "start_time": "2023-02-21T12:28:54.827Z"
   },
   {
    "duration": 3,
    "start_time": "2023-02-21T12:29:45.448Z"
   },
   {
    "duration": 97,
    "start_time": "2023-02-21T12:29:45.453Z"
   },
   {
    "duration": 35,
    "start_time": "2023-02-21T12:29:45.552Z"
   },
   {
    "duration": 15,
    "start_time": "2023-02-21T12:29:45.589Z"
   },
   {
    "duration": 22,
    "start_time": "2023-02-21T12:29:45.605Z"
   },
   {
    "duration": 15,
    "start_time": "2023-02-21T12:29:45.629Z"
   },
   {
    "duration": 19,
    "start_time": "2023-02-21T12:29:45.645Z"
   },
   {
    "duration": 13,
    "start_time": "2023-02-21T12:29:45.665Z"
   },
   {
    "duration": 13,
    "start_time": "2023-02-21T12:29:45.680Z"
   },
   {
    "duration": 6,
    "start_time": "2023-02-21T12:29:45.695Z"
   },
   {
    "duration": 21,
    "start_time": "2023-02-21T12:29:45.702Z"
   },
   {
    "duration": 36,
    "start_time": "2023-02-21T12:29:45.728Z"
   },
   {
    "duration": 5,
    "start_time": "2023-02-21T12:29:45.765Z"
   },
   {
    "duration": 14,
    "start_time": "2023-02-21T12:29:45.771Z"
   },
   {
    "duration": 3,
    "start_time": "2023-02-21T12:29:45.787Z"
   },
   {
    "duration": 24,
    "start_time": "2023-02-21T12:29:45.791Z"
   },
   {
    "duration": 10,
    "start_time": "2023-02-21T12:29:45.816Z"
   },
   {
    "duration": 12,
    "start_time": "2023-02-21T12:29:45.828Z"
   },
   {
    "duration": 8,
    "start_time": "2023-02-21T12:29:45.841Z"
   },
   {
    "duration": 14,
    "start_time": "2023-02-21T12:29:45.850Z"
   },
   {
    "duration": 25,
    "start_time": "2023-02-21T12:29:45.865Z"
   },
   {
    "duration": 36,
    "start_time": "2023-02-21T12:29:45.891Z"
   },
   {
    "duration": 45,
    "start_time": "2023-02-21T12:29:45.929Z"
   },
   {
    "duration": 21,
    "start_time": "2023-02-21T12:29:45.977Z"
   },
   {
    "duration": 9,
    "start_time": "2023-02-21T12:29:46.024Z"
   },
   {
    "duration": 15,
    "start_time": "2023-02-21T12:29:56.879Z"
   },
   {
    "duration": 15,
    "start_time": "2023-02-21T12:30:09.052Z"
   },
   {
    "duration": 25,
    "start_time": "2023-02-21T12:30:16.608Z"
   },
   {
    "duration": 19,
    "start_time": "2023-02-21T12:30:25.100Z"
   },
   {
    "duration": 15,
    "start_time": "2023-02-21T12:30:29.351Z"
   },
   {
    "duration": 15,
    "start_time": "2023-02-21T12:30:32.427Z"
   },
   {
    "duration": 14,
    "start_time": "2023-02-21T12:30:35.555Z"
   },
   {
    "duration": 15,
    "start_time": "2023-02-21T12:30:39.026Z"
   },
   {
    "duration": 19,
    "start_time": "2023-02-21T12:30:52.659Z"
   },
   {
    "duration": 6,
    "start_time": "2023-02-21T12:31:34.228Z"
   },
   {
    "duration": 23,
    "start_time": "2023-02-21T12:32:15.104Z"
   },
   {
    "duration": 9,
    "start_time": "2023-02-21T12:32:18.251Z"
   },
   {
    "duration": 9,
    "start_time": "2023-02-21T12:32:19.978Z"
   },
   {
    "duration": 11,
    "start_time": "2023-02-21T12:32:22.842Z"
   },
   {
    "duration": 12,
    "start_time": "2023-02-21T12:32:23.982Z"
   },
   {
    "duration": 4,
    "start_time": "2023-02-21T12:32:40.286Z"
   },
   {
    "duration": 130,
    "start_time": "2023-02-21T12:32:40.293Z"
   },
   {
    "duration": 35,
    "start_time": "2023-02-21T12:32:40.429Z"
   },
   {
    "duration": 15,
    "start_time": "2023-02-21T12:32:40.465Z"
   },
   {
    "duration": 3,
    "start_time": "2023-02-21T12:32:40.482Z"
   },
   {
    "duration": 10,
    "start_time": "2023-02-21T12:32:40.487Z"
   },
   {
    "duration": 21,
    "start_time": "2023-02-21T12:32:40.498Z"
   },
   {
    "duration": 13,
    "start_time": "2023-02-21T12:32:40.520Z"
   },
   {
    "duration": 13,
    "start_time": "2023-02-21T12:32:40.534Z"
   },
   {
    "duration": 9,
    "start_time": "2023-02-21T12:32:40.549Z"
   },
   {
    "duration": 9,
    "start_time": "2023-02-21T12:32:40.561Z"
   },
   {
    "duration": 59,
    "start_time": "2023-02-21T12:32:40.571Z"
   },
   {
    "duration": 4,
    "start_time": "2023-02-21T12:32:40.632Z"
   },
   {
    "duration": 20,
    "start_time": "2023-02-21T12:32:40.638Z"
   },
   {
    "duration": 3,
    "start_time": "2023-02-21T12:32:40.660Z"
   },
   {
    "duration": 11,
    "start_time": "2023-02-21T12:32:40.666Z"
   },
   {
    "duration": 9,
    "start_time": "2023-02-21T12:32:40.679Z"
   },
   {
    "duration": 38,
    "start_time": "2023-02-21T12:32:40.689Z"
   },
   {
    "duration": 16,
    "start_time": "2023-02-21T12:32:40.730Z"
   },
   {
    "duration": 38,
    "start_time": "2023-02-21T12:32:40.748Z"
   },
   {
    "duration": 39,
    "start_time": "2023-02-21T12:32:40.788Z"
   },
   {
    "duration": 68,
    "start_time": "2023-02-21T12:32:40.828Z"
   },
   {
    "duration": 28,
    "start_time": "2023-02-21T12:32:40.898Z"
   },
   {
    "duration": 9,
    "start_time": "2023-02-21T12:32:40.928Z"
   },
   {
    "duration": 17,
    "start_time": "2023-02-21T12:33:35.539Z"
   },
   {
    "duration": 12,
    "start_time": "2023-02-21T12:33:39.081Z"
   },
   {
    "duration": 3,
    "start_time": "2023-02-21T12:33:42.147Z"
   },
   {
    "duration": 101,
    "start_time": "2023-02-21T12:33:42.152Z"
   },
   {
    "duration": 35,
    "start_time": "2023-02-21T12:33:42.255Z"
   },
   {
    "duration": 15,
    "start_time": "2023-02-21T12:33:42.291Z"
   },
   {
    "duration": 22,
    "start_time": "2023-02-21T12:33:42.309Z"
   },
   {
    "duration": 8,
    "start_time": "2023-02-21T12:33:42.334Z"
   },
   {
    "duration": 11,
    "start_time": "2023-02-21T12:33:42.343Z"
   },
   {
    "duration": 9,
    "start_time": "2023-02-21T12:33:42.356Z"
   },
   {
    "duration": 15,
    "start_time": "2023-02-21T12:33:42.366Z"
   },
   {
    "duration": 8,
    "start_time": "2023-02-21T12:33:42.383Z"
   },
   {
    "duration": 32,
    "start_time": "2023-02-21T12:33:42.393Z"
   },
   {
    "duration": 40,
    "start_time": "2023-02-21T12:33:42.427Z"
   },
   {
    "duration": 5,
    "start_time": "2023-02-21T12:33:42.468Z"
   },
   {
    "duration": 14,
    "start_time": "2023-02-21T12:33:42.476Z"
   },
   {
    "duration": 4,
    "start_time": "2023-02-21T12:33:42.510Z"
   },
   {
    "duration": 12,
    "start_time": "2023-02-21T12:33:42.515Z"
   },
   {
    "duration": 16,
    "start_time": "2023-02-21T12:33:42.529Z"
   },
   {
    "duration": 12,
    "start_time": "2023-02-21T12:33:42.547Z"
   },
   {
    "duration": 18,
    "start_time": "2023-02-21T12:33:42.564Z"
   },
   {
    "duration": 57,
    "start_time": "2023-02-21T12:33:42.583Z"
   },
   {
    "duration": 20,
    "start_time": "2023-02-21T12:33:42.641Z"
   },
   {
    "duration": 98,
    "start_time": "2023-02-21T12:33:42.663Z"
   },
   {
    "duration": 23,
    "start_time": "2023-02-21T12:33:42.763Z"
   },
   {
    "duration": 12,
    "start_time": "2023-02-21T12:33:42.788Z"
   },
   {
    "duration": 30,
    "start_time": "2023-02-21T12:33:46.792Z"
   },
   {
    "duration": 944,
    "start_time": "2023-02-21T12:46:10.990Z"
   },
   {
    "duration": 30,
    "start_time": "2023-02-21T12:46:21.409Z"
   },
   {
    "duration": 11,
    "start_time": "2023-02-21T12:46:54.567Z"
   },
   {
    "duration": 30,
    "start_time": "2023-02-21T12:46:58.759Z"
   },
   {
    "duration": 10,
    "start_time": "2023-02-21T12:47:26.026Z"
   },
   {
    "duration": 23,
    "start_time": "2023-02-21T12:47:30.788Z"
   },
   {
    "duration": 41,
    "start_time": "2023-02-21T12:47:36.586Z"
   },
   {
    "duration": 28,
    "start_time": "2023-02-21T12:47:48.048Z"
   },
   {
    "duration": 28,
    "start_time": "2023-02-21T12:47:58.537Z"
   },
   {
    "duration": 17,
    "start_time": "2023-02-21T12:50:09.044Z"
   },
   {
    "duration": 14,
    "start_time": "2023-02-21T12:50:24.465Z"
   },
   {
    "duration": 13,
    "start_time": "2023-02-21T12:50:37.674Z"
   },
   {
    "duration": 16,
    "start_time": "2023-02-21T12:50:42.563Z"
   },
   {
    "duration": 23,
    "start_time": "2023-02-21T12:51:25.156Z"
   },
   {
    "duration": 33,
    "start_time": "2023-02-21T12:51:31.806Z"
   },
   {
    "duration": 13,
    "start_time": "2023-02-21T12:52:44.844Z"
   },
   {
    "duration": 32,
    "start_time": "2023-02-21T12:55:02.736Z"
   },
   {
    "duration": 6,
    "start_time": "2023-02-21T12:56:19.499Z"
   },
   {
    "duration": 5,
    "start_time": "2023-02-21T12:56:35.871Z"
   },
   {
    "duration": 5,
    "start_time": "2023-02-21T12:56:46.255Z"
   },
   {
    "duration": 11,
    "start_time": "2023-02-21T12:57:00.204Z"
   },
   {
    "duration": 4,
    "start_time": "2023-02-21T12:57:11.129Z"
   },
   {
    "duration": 9,
    "start_time": "2023-02-21T12:58:00.842Z"
   },
   {
    "duration": 815,
    "start_time": "2023-02-21T12:58:09.193Z"
   },
   {
    "duration": 24,
    "start_time": "2023-02-21T12:58:17.780Z"
   },
   {
    "duration": 25,
    "start_time": "2023-02-21T12:58:29.777Z"
   },
   {
    "duration": 26,
    "start_time": "2023-02-21T12:59:00.177Z"
   },
   {
    "duration": 25,
    "start_time": "2023-02-21T12:59:09.045Z"
   },
   {
    "duration": 4,
    "start_time": "2023-02-21T13:02:04.759Z"
   },
   {
    "duration": 99,
    "start_time": "2023-02-21T13:02:04.765Z"
   },
   {
    "duration": 36,
    "start_time": "2023-02-21T13:02:04.865Z"
   },
   {
    "duration": 31,
    "start_time": "2023-02-21T13:02:04.903Z"
   },
   {
    "duration": 5,
    "start_time": "2023-02-21T13:02:04.937Z"
   },
   {
    "duration": 8,
    "start_time": "2023-02-21T13:02:04.944Z"
   },
   {
    "duration": 10,
    "start_time": "2023-02-21T13:02:04.954Z"
   },
   {
    "duration": 7,
    "start_time": "2023-02-21T13:02:04.965Z"
   },
   {
    "duration": 13,
    "start_time": "2023-02-21T13:02:04.974Z"
   },
   {
    "duration": 33,
    "start_time": "2023-02-21T13:02:04.989Z"
   },
   {
    "duration": 12,
    "start_time": "2023-02-21T13:02:05.023Z"
   },
   {
    "duration": 39,
    "start_time": "2023-02-21T13:02:05.037Z"
   },
   {
    "duration": 7,
    "start_time": "2023-02-21T13:02:05.077Z"
   },
   {
    "duration": 40,
    "start_time": "2023-02-21T13:02:05.087Z"
   },
   {
    "duration": 3,
    "start_time": "2023-02-21T13:02:05.129Z"
   },
   {
    "duration": 12,
    "start_time": "2023-02-21T13:02:05.134Z"
   },
   {
    "duration": 8,
    "start_time": "2023-02-21T13:02:05.148Z"
   },
   {
    "duration": 14,
    "start_time": "2023-02-21T13:02:05.158Z"
   },
   {
    "duration": 14,
    "start_time": "2023-02-21T13:02:05.174Z"
   },
   {
    "duration": 40,
    "start_time": "2023-02-21T13:02:05.189Z"
   },
   {
    "duration": 14,
    "start_time": "2023-02-21T13:02:05.230Z"
   },
   {
    "duration": 34,
    "start_time": "2023-02-21T13:02:05.246Z"
   },
   {
    "duration": 47,
    "start_time": "2023-02-21T13:02:05.282Z"
   },
   {
    "duration": 53,
    "start_time": "2023-02-21T13:02:05.332Z"
   },
   {
    "duration": 8,
    "start_time": "2023-02-21T13:02:05.388Z"
   },
   {
    "duration": 36,
    "start_time": "2023-02-21T13:03:32.888Z"
   },
   {
    "duration": 18,
    "start_time": "2023-02-21T13:04:52.909Z"
   },
   {
    "duration": 11,
    "start_time": "2023-02-21T13:04:56.171Z"
   },
   {
    "duration": 44,
    "start_time": "2023-02-21T13:04:57.129Z"
   },
   {
    "duration": 31,
    "start_time": "2023-02-21T13:05:11.403Z"
   },
   {
    "duration": 4,
    "start_time": "2023-02-21T13:05:12.652Z"
   },
   {
    "duration": 13,
    "start_time": "2023-02-21T13:05:13.527Z"
   },
   {
    "duration": 12,
    "start_time": "2023-02-21T13:05:13.745Z"
   },
   {
    "duration": 8,
    "start_time": "2023-02-21T13:05:14.527Z"
   },
   {
    "duration": 18,
    "start_time": "2023-02-21T13:05:16.755Z"
   },
   {
    "duration": 18,
    "start_time": "2023-02-21T13:05:18.112Z"
   },
   {
    "duration": 19,
    "start_time": "2023-02-21T13:05:19.126Z"
   },
   {
    "duration": 22,
    "start_time": "2023-02-21T13:05:21.863Z"
   },
   {
    "duration": 36,
    "start_time": "2023-02-21T13:05:24.394Z"
   },
   {
    "duration": 4,
    "start_time": "2023-02-21T13:06:17.436Z"
   },
   {
    "duration": 118,
    "start_time": "2023-02-21T13:06:17.441Z"
   },
   {
    "duration": 36,
    "start_time": "2023-02-21T13:06:17.561Z"
   },
   {
    "duration": 28,
    "start_time": "2023-02-21T13:06:17.599Z"
   },
   {
    "duration": 7,
    "start_time": "2023-02-21T13:06:17.628Z"
   },
   {
    "duration": 7,
    "start_time": "2023-02-21T13:06:17.636Z"
   },
   {
    "duration": 12,
    "start_time": "2023-02-21T13:06:17.645Z"
   },
   {
    "duration": 7,
    "start_time": "2023-02-21T13:06:17.658Z"
   },
   {
    "duration": 17,
    "start_time": "2023-02-21T13:06:17.667Z"
   },
   {
    "duration": 11,
    "start_time": "2023-02-21T13:06:17.686Z"
   },
   {
    "duration": 13,
    "start_time": "2023-02-21T13:06:17.710Z"
   },
   {
    "duration": 46,
    "start_time": "2023-02-21T13:06:17.725Z"
   },
   {
    "duration": 5,
    "start_time": "2023-02-21T13:06:17.773Z"
   },
   {
    "duration": 13,
    "start_time": "2023-02-21T13:06:17.780Z"
   },
   {
    "duration": 33,
    "start_time": "2023-02-21T13:06:17.795Z"
   },
   {
    "duration": 12,
    "start_time": "2023-02-21T13:06:17.829Z"
   },
   {
    "duration": 11,
    "start_time": "2023-02-21T13:06:17.842Z"
   },
   {
    "duration": 12,
    "start_time": "2023-02-21T13:06:17.855Z"
   },
   {
    "duration": 14,
    "start_time": "2023-02-21T13:06:17.868Z"
   },
   {
    "duration": 12,
    "start_time": "2023-02-21T13:06:17.884Z"
   },
   {
    "duration": 39,
    "start_time": "2023-02-21T13:06:17.898Z"
   },
   {
    "duration": 25,
    "start_time": "2023-02-21T13:06:17.939Z"
   },
   {
    "duration": 53,
    "start_time": "2023-02-21T13:06:17.966Z"
   },
   {
    "duration": 44,
    "start_time": "2023-02-21T13:06:18.023Z"
   },
   {
    "duration": 12,
    "start_time": "2023-02-21T13:06:18.069Z"
   },
   {
    "duration": 12,
    "start_time": "2023-02-21T13:08:20.245Z"
   },
   {
    "duration": 7,
    "start_time": "2023-02-21T13:08:39.035Z"
   },
   {
    "duration": 15,
    "start_time": "2023-02-21T13:08:41.087Z"
   },
   {
    "duration": 6,
    "start_time": "2023-02-21T13:09:06.725Z"
   },
   {
    "duration": 4,
    "start_time": "2023-02-21T13:09:13.830Z"
   },
   {
    "duration": 4,
    "start_time": "2023-02-21T13:09:22.660Z"
   },
   {
    "duration": 3,
    "start_time": "2023-02-21T13:09:27.255Z"
   },
   {
    "duration": 4,
    "start_time": "2023-02-21T13:10:42.372Z"
   },
   {
    "duration": 5,
    "start_time": "2023-02-21T13:11:10.516Z"
   },
   {
    "duration": 41,
    "start_time": "2023-02-21T13:11:46.794Z"
   },
   {
    "duration": 5,
    "start_time": "2023-02-21T13:11:51.948Z"
   },
   {
    "duration": 5,
    "start_time": "2023-02-21T13:12:03.521Z"
   },
   {
    "duration": 5,
    "start_time": "2023-02-21T13:12:21.715Z"
   },
   {
    "duration": 5,
    "start_time": "2023-02-21T13:12:32.381Z"
   },
   {
    "duration": 6,
    "start_time": "2023-02-21T13:12:42.767Z"
   },
   {
    "duration": 8,
    "start_time": "2023-02-21T13:12:54.091Z"
   },
   {
    "duration": 4,
    "start_time": "2023-02-21T13:13:01.160Z"
   },
   {
    "duration": 99,
    "start_time": "2023-02-21T13:13:01.166Z"
   },
   {
    "duration": 41,
    "start_time": "2023-02-21T13:13:01.267Z"
   },
   {
    "duration": 18,
    "start_time": "2023-02-21T13:13:01.309Z"
   },
   {
    "duration": 26,
    "start_time": "2023-02-21T13:13:01.329Z"
   },
   {
    "duration": 21,
    "start_time": "2023-02-21T13:13:01.357Z"
   },
   {
    "duration": 13,
    "start_time": "2023-02-21T13:13:01.380Z"
   },
   {
    "duration": 7,
    "start_time": "2023-02-21T13:13:01.395Z"
   },
   {
    "duration": 16,
    "start_time": "2023-02-21T13:13:01.403Z"
   },
   {
    "duration": 7,
    "start_time": "2023-02-21T13:13:01.421Z"
   },
   {
    "duration": 18,
    "start_time": "2023-02-21T13:13:01.429Z"
   },
   {
    "duration": 53,
    "start_time": "2023-02-21T13:13:01.448Z"
   },
   {
    "duration": 4,
    "start_time": "2023-02-21T13:13:01.503Z"
   },
   {
    "duration": 45,
    "start_time": "2023-02-21T13:13:01.511Z"
   },
   {
    "duration": 26,
    "start_time": "2023-02-21T13:13:01.557Z"
   },
   {
    "duration": 28,
    "start_time": "2023-02-21T13:13:01.585Z"
   },
   {
    "duration": 13,
    "start_time": "2023-02-21T13:13:01.615Z"
   },
   {
    "duration": 20,
    "start_time": "2023-02-21T13:13:01.629Z"
   },
   {
    "duration": 17,
    "start_time": "2023-02-21T13:13:01.651Z"
   },
   {
    "duration": 12,
    "start_time": "2023-02-21T13:13:01.670Z"
   },
   {
    "duration": 28,
    "start_time": "2023-02-21T13:13:01.684Z"
   },
   {
    "duration": 23,
    "start_time": "2023-02-21T13:13:01.714Z"
   },
   {
    "duration": 27,
    "start_time": "2023-02-21T13:13:01.739Z"
   },
   {
    "duration": 67,
    "start_time": "2023-02-21T13:13:01.768Z"
   },
   {
    "duration": 7,
    "start_time": "2023-02-21T13:13:01.837Z"
   },
   {
    "duration": 11,
    "start_time": "2023-02-21T13:13:01.845Z"
   },
   {
    "duration": 4,
    "start_time": "2023-02-21T13:15:57.696Z"
   },
   {
    "duration": 4,
    "start_time": "2023-02-21T13:16:02.286Z"
   },
   {
    "duration": 4,
    "start_time": "2023-02-21T13:16:06.100Z"
   },
   {
    "duration": 4,
    "start_time": "2023-02-21T13:16:09.883Z"
   },
   {
    "duration": 4,
    "start_time": "2023-02-21T13:16:15.516Z"
   },
   {
    "duration": 3,
    "start_time": "2023-02-21T13:16:19.036Z"
   },
   {
    "duration": 5,
    "start_time": "2023-02-21T13:16:22.465Z"
   },
   {
    "duration": 4,
    "start_time": "2023-02-21T13:16:25.142Z"
   },
   {
    "duration": 4,
    "start_time": "2023-02-21T13:16:29.048Z"
   },
   {
    "duration": 4,
    "start_time": "2023-02-21T13:17:07.670Z"
   },
   {
    "duration": 5,
    "start_time": "2023-02-21T13:18:14.690Z"
   },
   {
    "duration": 9,
    "start_time": "2023-02-21T13:18:32.895Z"
   },
   {
    "duration": 11,
    "start_time": "2023-02-21T13:18:47.864Z"
   },
   {
    "duration": 10,
    "start_time": "2023-02-21T13:19:51.935Z"
   },
   {
    "duration": 4,
    "start_time": "2023-02-21T13:21:23.882Z"
   },
   {
    "duration": 92,
    "start_time": "2023-02-21T13:21:23.890Z"
   },
   {
    "duration": 39,
    "start_time": "2023-02-21T13:21:23.984Z"
   },
   {
    "duration": 15,
    "start_time": "2023-02-21T13:21:24.024Z"
   },
   {
    "duration": 5,
    "start_time": "2023-02-21T13:21:24.041Z"
   },
   {
    "duration": 7,
    "start_time": "2023-02-21T13:21:24.048Z"
   },
   {
    "duration": 9,
    "start_time": "2023-02-21T13:21:24.057Z"
   },
   {
    "duration": 6,
    "start_time": "2023-02-21T13:21:24.068Z"
   },
   {
    "duration": 35,
    "start_time": "2023-02-21T13:21:24.076Z"
   },
   {
    "duration": 6,
    "start_time": "2023-02-21T13:21:24.112Z"
   },
   {
    "duration": 11,
    "start_time": "2023-02-21T13:21:24.120Z"
   },
   {
    "duration": 34,
    "start_time": "2023-02-21T13:21:24.133Z"
   },
   {
    "duration": 4,
    "start_time": "2023-02-21T13:21:24.169Z"
   },
   {
    "duration": 40,
    "start_time": "2023-02-21T13:21:24.175Z"
   },
   {
    "duration": 3,
    "start_time": "2023-02-21T13:21:24.218Z"
   },
   {
    "duration": 12,
    "start_time": "2023-02-21T13:21:24.223Z"
   },
   {
    "duration": 8,
    "start_time": "2023-02-21T13:21:24.236Z"
   },
   {
    "duration": 10,
    "start_time": "2023-02-21T13:21:24.245Z"
   },
   {
    "duration": 13,
    "start_time": "2023-02-21T13:21:24.256Z"
   },
   {
    "duration": 13,
    "start_time": "2023-02-21T13:21:24.270Z"
   },
   {
    "duration": 13,
    "start_time": "2023-02-21T13:21:24.310Z"
   },
   {
    "duration": 22,
    "start_time": "2023-02-21T13:21:24.325Z"
   },
   {
    "duration": 25,
    "start_time": "2023-02-21T13:21:24.349Z"
   },
   {
    "duration": 71,
    "start_time": "2023-02-21T13:21:24.376Z"
   },
   {
    "duration": 9,
    "start_time": "2023-02-21T13:21:24.449Z"
   },
   {
    "duration": 12,
    "start_time": "2023-02-21T13:21:24.459Z"
   },
   {
    "duration": 5,
    "start_time": "2023-02-21T13:21:40.184Z"
   },
   {
    "duration": 10,
    "start_time": "2023-02-21T13:21:42.293Z"
   },
   {
    "duration": 8,
    "start_time": "2023-02-21T13:21:43.339Z"
   },
   {
    "duration": 13,
    "start_time": "2023-02-21T13:21:43.517Z"
   },
   {
    "duration": 3,
    "start_time": "2023-02-21T13:21:56.311Z"
   },
   {
    "duration": 112,
    "start_time": "2023-02-21T13:21:56.317Z"
   },
   {
    "duration": 36,
    "start_time": "2023-02-21T13:21:56.431Z"
   },
   {
    "duration": 15,
    "start_time": "2023-02-21T13:21:56.469Z"
   },
   {
    "duration": 5,
    "start_time": "2023-02-21T13:21:56.486Z"
   },
   {
    "duration": 7,
    "start_time": "2023-02-21T13:21:56.492Z"
   },
   {
    "duration": 16,
    "start_time": "2023-02-21T13:21:56.501Z"
   },
   {
    "duration": 7,
    "start_time": "2023-02-21T13:21:56.519Z"
   },
   {
    "duration": 13,
    "start_time": "2023-02-21T13:21:56.529Z"
   },
   {
    "duration": 9,
    "start_time": "2023-02-21T13:21:56.544Z"
   },
   {
    "duration": 11,
    "start_time": "2023-02-21T13:21:56.555Z"
   },
   {
    "duration": 65,
    "start_time": "2023-02-21T13:21:56.567Z"
   },
   {
    "duration": 6,
    "start_time": "2023-02-21T13:21:56.634Z"
   },
   {
    "duration": 12,
    "start_time": "2023-02-21T13:21:56.642Z"
   },
   {
    "duration": 4,
    "start_time": "2023-02-21T13:21:56.656Z"
   },
   {
    "duration": 13,
    "start_time": "2023-02-21T13:21:56.661Z"
   },
   {
    "duration": 39,
    "start_time": "2023-02-21T13:21:56.676Z"
   },
   {
    "duration": 11,
    "start_time": "2023-02-21T13:21:56.717Z"
   },
   {
    "duration": 15,
    "start_time": "2023-02-21T13:21:56.729Z"
   },
   {
    "duration": 11,
    "start_time": "2023-02-21T13:21:56.745Z"
   },
   {
    "duration": 10,
    "start_time": "2023-02-21T13:21:56.758Z"
   },
   {
    "duration": 78,
    "start_time": "2023-02-21T13:21:56.771Z"
   },
   {
    "duration": 38,
    "start_time": "2023-02-21T13:21:56.851Z"
   },
   {
    "duration": 73,
    "start_time": "2023-02-21T13:21:56.912Z"
   },
   {
    "duration": 27,
    "start_time": "2023-02-21T13:21:56.988Z"
   },
   {
    "duration": 12,
    "start_time": "2023-02-21T13:21:57.017Z"
   },
   {
    "duration": 3,
    "start_time": "2023-02-21T13:22:31.991Z"
   },
   {
    "duration": 12,
    "start_time": "2023-02-21T13:23:04.490Z"
   },
   {
    "duration": 11,
    "start_time": "2023-02-21T13:23:15.639Z"
   },
   {
    "duration": 4,
    "start_time": "2023-02-21T13:23:27.186Z"
   },
   {
    "duration": 96,
    "start_time": "2023-02-21T13:23:27.192Z"
   },
   {
    "duration": 36,
    "start_time": "2023-02-21T13:23:27.290Z"
   },
   {
    "duration": 15,
    "start_time": "2023-02-21T13:23:27.328Z"
   },
   {
    "duration": 5,
    "start_time": "2023-02-21T13:23:27.346Z"
   },
   {
    "duration": 12,
    "start_time": "2023-02-21T13:23:27.353Z"
   },
   {
    "duration": 17,
    "start_time": "2023-02-21T13:23:27.367Z"
   },
   {
    "duration": 8,
    "start_time": "2023-02-21T13:23:27.386Z"
   },
   {
    "duration": 14,
    "start_time": "2023-02-21T13:23:27.411Z"
   },
   {
    "duration": 8,
    "start_time": "2023-02-21T13:23:27.428Z"
   },
   {
    "duration": 14,
    "start_time": "2023-02-21T13:23:27.437Z"
   },
   {
    "duration": 78,
    "start_time": "2023-02-21T13:23:27.453Z"
   },
   {
    "duration": 6,
    "start_time": "2023-02-21T13:23:27.533Z"
   },
   {
    "duration": 15,
    "start_time": "2023-02-21T13:23:27.543Z"
   },
   {
    "duration": 7,
    "start_time": "2023-02-21T13:23:27.560Z"
   },
   {
    "duration": 16,
    "start_time": "2023-02-21T13:23:27.569Z"
   },
   {
    "duration": 27,
    "start_time": "2023-02-21T13:23:27.587Z"
   },
   {
    "duration": 11,
    "start_time": "2023-02-21T13:23:27.616Z"
   },
   {
    "duration": 43,
    "start_time": "2023-02-21T13:23:27.629Z"
   },
   {
    "duration": 13,
    "start_time": "2023-02-21T13:23:27.674Z"
   },
   {
    "duration": 29,
    "start_time": "2023-02-21T13:23:27.688Z"
   },
   {
    "duration": 40,
    "start_time": "2023-02-21T13:23:27.720Z"
   },
   {
    "duration": 35,
    "start_time": "2023-02-21T13:23:27.762Z"
   },
   {
    "duration": 64,
    "start_time": "2023-02-21T13:23:27.799Z"
   },
   {
    "duration": 11,
    "start_time": "2023-02-21T13:23:27.865Z"
   },
   {
    "duration": 9,
    "start_time": "2023-02-21T13:23:27.878Z"
   },
   {
    "duration": 7,
    "start_time": "2023-02-21T13:23:50.215Z"
   },
   {
    "duration": 15,
    "start_time": "2023-02-21T13:23:57.302Z"
   },
   {
    "duration": 4,
    "start_time": "2023-02-21T13:24:46.588Z"
   },
   {
    "duration": 11,
    "start_time": "2023-02-21T13:24:52.879Z"
   },
   {
    "duration": 6,
    "start_time": "2023-02-21T13:25:10.370Z"
   },
   {
    "duration": 6,
    "start_time": "2023-02-21T13:25:15.170Z"
   },
   {
    "duration": 12,
    "start_time": "2023-02-21T13:25:18.298Z"
   },
   {
    "duration": 7,
    "start_time": "2023-02-21T13:25:20.995Z"
   },
   {
    "duration": 6,
    "start_time": "2023-02-21T13:25:24.001Z"
   },
   {
    "duration": 8,
    "start_time": "2023-02-21T13:25:27.085Z"
   },
   {
    "duration": 7,
    "start_time": "2023-02-21T13:25:30.658Z"
   },
   {
    "duration": 7,
    "start_time": "2023-02-21T13:25:36.708Z"
   },
   {
    "duration": 7,
    "start_time": "2023-02-21T13:25:45.844Z"
   },
   {
    "duration": 6,
    "start_time": "2023-02-21T13:25:59.776Z"
   },
   {
    "duration": 7,
    "start_time": "2023-02-21T13:27:24.265Z"
   },
   {
    "duration": 9,
    "start_time": "2023-02-21T13:27:37.762Z"
   },
   {
    "duration": 8,
    "start_time": "2023-02-21T13:27:58.732Z"
   },
   {
    "duration": 14,
    "start_time": "2023-02-21T13:28:09.306Z"
   },
   {
    "duration": 205,
    "start_time": "2023-02-21T13:28:40.184Z"
   },
   {
    "duration": 821,
    "start_time": "2023-02-21T13:28:47.181Z"
   },
   {
    "duration": 35,
    "start_time": "2023-02-21T13:29:28.123Z"
   },
   {
    "duration": 9,
    "start_time": "2023-02-21T13:30:01.089Z"
   },
   {
    "duration": 4,
    "start_time": "2023-02-21T13:30:12.120Z"
   },
   {
    "duration": 100,
    "start_time": "2023-02-21T13:30:12.126Z"
   },
   {
    "duration": 36,
    "start_time": "2023-02-21T13:30:12.227Z"
   },
   {
    "duration": 16,
    "start_time": "2023-02-21T13:30:12.266Z"
   },
   {
    "duration": 4,
    "start_time": "2023-02-21T13:30:12.284Z"
   },
   {
    "duration": 8,
    "start_time": "2023-02-21T13:30:12.289Z"
   },
   {
    "duration": 12,
    "start_time": "2023-02-21T13:30:12.299Z"
   },
   {
    "duration": 10,
    "start_time": "2023-02-21T13:30:12.313Z"
   },
   {
    "duration": 17,
    "start_time": "2023-02-21T13:30:12.324Z"
   },
   {
    "duration": 7,
    "start_time": "2023-02-21T13:30:12.344Z"
   },
   {
    "duration": 13,
    "start_time": "2023-02-21T13:30:12.352Z"
   },
   {
    "duration": 76,
    "start_time": "2023-02-21T13:30:12.367Z"
   },
   {
    "duration": 5,
    "start_time": "2023-02-21T13:30:12.445Z"
   },
   {
    "duration": 16,
    "start_time": "2023-02-21T13:30:12.452Z"
   },
   {
    "duration": 4,
    "start_time": "2023-02-21T13:30:12.469Z"
   },
   {
    "duration": 36,
    "start_time": "2023-02-21T13:30:12.474Z"
   },
   {
    "duration": 9,
    "start_time": "2023-02-21T13:30:12.511Z"
   },
   {
    "duration": 17,
    "start_time": "2023-02-21T13:30:12.522Z"
   },
   {
    "duration": 19,
    "start_time": "2023-02-21T13:30:12.540Z"
   },
   {
    "duration": 15,
    "start_time": "2023-02-21T13:30:12.561Z"
   },
   {
    "duration": 13,
    "start_time": "2023-02-21T13:30:12.578Z"
   },
   {
    "duration": 15,
    "start_time": "2023-02-21T13:30:12.609Z"
   },
   {
    "duration": 31,
    "start_time": "2023-02-21T13:30:12.626Z"
   },
   {
    "duration": 26,
    "start_time": "2023-02-21T13:30:12.658Z"
   },
   {
    "duration": 56,
    "start_time": "2023-02-21T13:30:12.686Z"
   },
   {
    "duration": 12,
    "start_time": "2023-02-21T13:30:12.744Z"
   },
   {
    "duration": 8,
    "start_time": "2023-02-21T13:30:12.758Z"
   },
   {
    "duration": 3,
    "start_time": "2023-02-21T13:31:08.046Z"
   },
   {
    "duration": 94,
    "start_time": "2023-02-21T13:31:08.051Z"
   },
   {
    "duration": 35,
    "start_time": "2023-02-21T13:31:08.147Z"
   },
   {
    "duration": 14,
    "start_time": "2023-02-21T13:31:08.184Z"
   },
   {
    "duration": 5,
    "start_time": "2023-02-21T13:31:08.200Z"
   },
   {
    "duration": 6,
    "start_time": "2023-02-21T13:31:08.246Z"
   },
   {
    "duration": 21,
    "start_time": "2023-02-21T13:31:08.254Z"
   },
   {
    "duration": 9,
    "start_time": "2023-02-21T13:31:09.279Z"
   },
   {
    "duration": 13,
    "start_time": "2023-02-21T13:31:09.290Z"
   },
   {
    "duration": 11,
    "start_time": "2023-02-21T13:31:09.305Z"
   },
   {
    "duration": 9,
    "start_time": "2023-02-21T13:31:09.317Z"
   },
   {
    "duration": 41,
    "start_time": "2023-02-21T13:31:09.329Z"
   },
   {
    "duration": 5,
    "start_time": "2023-02-21T13:31:09.372Z"
   },
   {
    "duration": 32,
    "start_time": "2023-02-21T13:31:09.378Z"
   },
   {
    "duration": 9,
    "start_time": "2023-02-21T13:31:09.412Z"
   },
   {
    "duration": 180,
    "start_time": "2023-02-21T13:31:09.423Z"
   },
   {
    "duration": 0,
    "start_time": "2023-02-21T13:31:09.605Z"
   },
   {
    "duration": 0,
    "start_time": "2023-02-21T13:31:09.606Z"
   },
   {
    "duration": 0,
    "start_time": "2023-02-21T13:31:09.607Z"
   },
   {
    "duration": 0,
    "start_time": "2023-02-21T13:31:09.608Z"
   },
   {
    "duration": 0,
    "start_time": "2023-02-21T13:31:09.609Z"
   },
   {
    "duration": 0,
    "start_time": "2023-02-21T13:31:09.610Z"
   },
   {
    "duration": 0,
    "start_time": "2023-02-21T13:31:09.611Z"
   },
   {
    "duration": 0,
    "start_time": "2023-02-21T13:31:09.612Z"
   },
   {
    "duration": 0,
    "start_time": "2023-02-21T13:31:09.613Z"
   },
   {
    "duration": 0,
    "start_time": "2023-02-21T13:31:09.614Z"
   },
   {
    "duration": 0,
    "start_time": "2023-02-21T13:31:09.615Z"
   },
   {
    "duration": 4,
    "start_time": "2023-02-21T13:34:11.490Z"
   },
   {
    "duration": 9,
    "start_time": "2023-02-21T13:34:25.838Z"
   },
   {
    "duration": 4,
    "start_time": "2023-02-21T13:35:21.389Z"
   },
   {
    "duration": 9,
    "start_time": "2023-02-21T13:35:22.784Z"
   },
   {
    "duration": 8,
    "start_time": "2023-02-21T13:35:32.158Z"
   },
   {
    "duration": 4,
    "start_time": "2023-02-21T13:36:41.999Z"
   },
   {
    "duration": 11,
    "start_time": "2023-02-21T13:36:45.862Z"
   },
   {
    "duration": 4,
    "start_time": "2023-02-21T13:36:50.381Z"
   },
   {
    "duration": 9,
    "start_time": "2023-02-21T13:36:51.414Z"
   },
   {
    "duration": 3,
    "start_time": "2023-02-21T13:36:56.028Z"
   },
   {
    "duration": 6,
    "start_time": "2023-02-21T13:38:11.106Z"
   },
   {
    "duration": 4,
    "start_time": "2023-02-21T13:38:18.843Z"
   },
   {
    "duration": 6,
    "start_time": "2023-02-21T13:38:26.981Z"
   },
   {
    "duration": 5,
    "start_time": "2023-02-21T13:38:32.081Z"
   },
   {
    "duration": 8,
    "start_time": "2023-02-21T13:38:39.134Z"
   },
   {
    "duration": 176,
    "start_time": "2023-02-21T13:39:20.327Z"
   },
   {
    "duration": 45,
    "start_time": "2023-02-21T13:39:30.822Z"
   },
   {
    "duration": 47,
    "start_time": "2023-02-21T13:39:36.736Z"
   },
   {
    "duration": 201,
    "start_time": "2023-02-21T13:39:46.529Z"
   },
   {
    "duration": 9,
    "start_time": "2023-02-21T13:40:28.634Z"
   },
   {
    "duration": 8,
    "start_time": "2023-02-21T13:40:30.004Z"
   },
   {
    "duration": 8,
    "start_time": "2023-02-21T13:40:33.075Z"
   },
   {
    "duration": 9,
    "start_time": "2023-02-21T13:40:46.406Z"
   },
   {
    "duration": 8,
    "start_time": "2023-02-21T13:40:47.353Z"
   },
   {
    "duration": 9,
    "start_time": "2023-02-21T13:40:51.794Z"
   },
   {
    "duration": 9,
    "start_time": "2023-02-21T13:41:18.195Z"
   },
   {
    "duration": 9,
    "start_time": "2023-02-21T13:41:18.831Z"
   },
   {
    "duration": 10,
    "start_time": "2023-02-21T13:41:37.330Z"
   },
   {
    "duration": 9,
    "start_time": "2023-02-21T13:41:37.680Z"
   },
   {
    "duration": 11,
    "start_time": "2023-02-21T13:41:38.141Z"
   },
   {
    "duration": 3,
    "start_time": "2023-02-21T13:41:41.219Z"
   },
   {
    "duration": 94,
    "start_time": "2023-02-21T13:41:41.224Z"
   },
   {
    "duration": 41,
    "start_time": "2023-02-21T13:41:41.320Z"
   },
   {
    "duration": 23,
    "start_time": "2023-02-21T13:41:41.363Z"
   },
   {
    "duration": 5,
    "start_time": "2023-02-21T13:41:41.388Z"
   },
   {
    "duration": 9,
    "start_time": "2023-02-21T13:41:41.395Z"
   },
   {
    "duration": 15,
    "start_time": "2023-02-21T13:41:41.411Z"
   },
   {
    "duration": 11,
    "start_time": "2023-02-21T13:41:41.428Z"
   },
   {
    "duration": 14,
    "start_time": "2023-02-21T13:41:41.442Z"
   },
   {
    "duration": 9,
    "start_time": "2023-02-21T13:41:41.457Z"
   },
   {
    "duration": 44,
    "start_time": "2023-02-21T13:41:41.468Z"
   },
   {
    "duration": 37,
    "start_time": "2023-02-21T13:41:41.513Z"
   },
   {
    "duration": 6,
    "start_time": "2023-02-21T13:41:41.552Z"
   },
   {
    "duration": 21,
    "start_time": "2023-02-21T13:41:41.560Z"
   },
   {
    "duration": 27,
    "start_time": "2023-02-21T13:41:41.583Z"
   },
   {
    "duration": 20,
    "start_time": "2023-02-21T13:41:41.613Z"
   },
   {
    "duration": 13,
    "start_time": "2023-02-21T13:41:41.636Z"
   },
   {
    "duration": 24,
    "start_time": "2023-02-21T13:41:41.651Z"
   },
   {
    "duration": 34,
    "start_time": "2023-02-21T13:41:41.678Z"
   },
   {
    "duration": 14,
    "start_time": "2023-02-21T13:41:41.714Z"
   },
   {
    "duration": 14,
    "start_time": "2023-02-21T13:41:41.730Z"
   },
   {
    "duration": 24,
    "start_time": "2023-02-21T13:41:41.745Z"
   },
   {
    "duration": 63,
    "start_time": "2023-02-21T13:41:41.771Z"
   },
   {
    "duration": 47,
    "start_time": "2023-02-21T13:41:41.836Z"
   },
   {
    "duration": 29,
    "start_time": "2023-02-21T13:41:41.885Z"
   },
   {
    "duration": 15,
    "start_time": "2023-02-21T13:41:41.917Z"
   },
   {
    "duration": 9,
    "start_time": "2023-02-21T13:42:33.382Z"
   },
   {
    "duration": 31,
    "start_time": "2023-02-21T13:42:42.929Z"
   },
   {
    "duration": 3,
    "start_time": "2023-02-21T13:43:41.517Z"
   },
   {
    "duration": 92,
    "start_time": "2023-02-21T13:43:41.523Z"
   },
   {
    "duration": 37,
    "start_time": "2023-02-21T13:43:41.617Z"
   },
   {
    "duration": 14,
    "start_time": "2023-02-21T13:43:41.656Z"
   },
   {
    "duration": 5,
    "start_time": "2023-02-21T13:43:41.671Z"
   },
   {
    "duration": 7,
    "start_time": "2023-02-21T13:43:41.678Z"
   },
   {
    "duration": 12,
    "start_time": "2023-02-21T13:43:41.686Z"
   },
   {
    "duration": 7,
    "start_time": "2023-02-21T13:43:41.700Z"
   },
   {
    "duration": 13,
    "start_time": "2023-02-21T13:43:41.709Z"
   },
   {
    "duration": 7,
    "start_time": "2023-02-21T13:43:41.723Z"
   },
   {
    "duration": 9,
    "start_time": "2023-02-21T13:43:41.732Z"
   },
   {
    "duration": 35,
    "start_time": "2023-02-21T13:43:41.743Z"
   },
   {
    "duration": 31,
    "start_time": "2023-02-21T13:43:41.780Z"
   },
   {
    "duration": 11,
    "start_time": "2023-02-21T13:43:41.812Z"
   },
   {
    "duration": 7,
    "start_time": "2023-02-21T13:43:41.825Z"
   },
   {
    "duration": 11,
    "start_time": "2023-02-21T13:43:41.833Z"
   },
   {
    "duration": 8,
    "start_time": "2023-02-21T13:43:41.845Z"
   },
   {
    "duration": 10,
    "start_time": "2023-02-21T13:43:41.854Z"
   },
   {
    "duration": 13,
    "start_time": "2023-02-21T13:43:41.866Z"
   },
   {
    "duration": 11,
    "start_time": "2023-02-21T13:43:41.910Z"
   },
   {
    "duration": 13,
    "start_time": "2023-02-21T13:43:41.922Z"
   },
   {
    "duration": 21,
    "start_time": "2023-02-21T13:43:41.936Z"
   },
   {
    "duration": 54,
    "start_time": "2023-02-21T13:43:41.958Z"
   },
   {
    "duration": 41,
    "start_time": "2023-02-21T13:43:42.013Z"
   },
   {
    "duration": 8,
    "start_time": "2023-02-21T13:43:42.056Z"
   },
   {
    "duration": 11,
    "start_time": "2023-02-21T13:43:42.065Z"
   },
   {
    "duration": 33,
    "start_time": "2023-02-21T13:44:10.300Z"
   },
   {
    "duration": 25,
    "start_time": "2023-02-21T13:44:18.117Z"
   },
   {
    "duration": 4,
    "start_time": "2023-02-21T13:44:34.243Z"
   },
   {
    "duration": 89,
    "start_time": "2023-02-21T13:44:34.249Z"
   },
   {
    "duration": 37,
    "start_time": "2023-02-21T13:44:34.339Z"
   },
   {
    "duration": 19,
    "start_time": "2023-02-21T13:44:34.377Z"
   },
   {
    "duration": 4,
    "start_time": "2023-02-21T13:44:34.399Z"
   },
   {
    "duration": 7,
    "start_time": "2023-02-21T13:44:34.405Z"
   },
   {
    "duration": 12,
    "start_time": "2023-02-21T13:44:34.413Z"
   },
   {
    "duration": 7,
    "start_time": "2023-02-21T13:44:34.427Z"
   },
   {
    "duration": 18,
    "start_time": "2023-02-21T13:44:34.435Z"
   },
   {
    "duration": 7,
    "start_time": "2023-02-21T13:44:34.454Z"
   },
   {
    "duration": 10,
    "start_time": "2023-02-21T13:44:34.462Z"
   },
   {
    "duration": 62,
    "start_time": "2023-02-21T13:44:34.473Z"
   },
   {
    "duration": 5,
    "start_time": "2023-02-21T13:44:34.536Z"
   },
   {
    "duration": 12,
    "start_time": "2023-02-21T13:44:34.543Z"
   },
   {
    "duration": 3,
    "start_time": "2023-02-21T13:44:34.556Z"
   },
   {
    "duration": 10,
    "start_time": "2023-02-21T13:44:34.561Z"
   },
   {
    "duration": 12,
    "start_time": "2023-02-21T13:44:34.573Z"
   },
   {
    "duration": 11,
    "start_time": "2023-02-21T13:44:34.610Z"
   },
   {
    "duration": 13,
    "start_time": "2023-02-21T13:44:34.623Z"
   },
   {
    "duration": 12,
    "start_time": "2023-02-21T13:44:34.637Z"
   },
   {
    "duration": 12,
    "start_time": "2023-02-21T13:44:34.650Z"
   },
   {
    "duration": 53,
    "start_time": "2023-02-21T13:44:34.663Z"
   },
   {
    "duration": 28,
    "start_time": "2023-02-21T13:44:34.718Z"
   },
   {
    "duration": 40,
    "start_time": "2023-02-21T13:44:34.747Z"
   },
   {
    "duration": 7,
    "start_time": "2023-02-21T13:44:34.809Z"
   },
   {
    "duration": 11,
    "start_time": "2023-02-21T13:44:34.818Z"
   },
   {
    "duration": 4,
    "start_time": "2023-02-21T13:46:44.616Z"
   },
   {
    "duration": 4,
    "start_time": "2023-02-21T13:46:52.256Z"
   },
   {
    "duration": 4,
    "start_time": "2023-02-21T13:46:59.840Z"
   },
   {
    "duration": 4,
    "start_time": "2023-02-21T13:47:21.001Z"
   },
   {
    "duration": 7,
    "start_time": "2023-02-21T13:47:36.297Z"
   },
   {
    "duration": 5,
    "start_time": "2023-02-21T13:47:45.737Z"
   },
   {
    "duration": 6,
    "start_time": "2023-02-21T13:48:03.672Z"
   },
   {
    "duration": 15,
    "start_time": "2023-02-21T13:48:53.387Z"
   },
   {
    "duration": 12,
    "start_time": "2023-02-21T13:48:59.905Z"
   },
   {
    "duration": 11,
    "start_time": "2023-02-21T13:49:09.728Z"
   },
   {
    "duration": 6,
    "start_time": "2023-02-21T13:49:38.496Z"
   },
   {
    "duration": 11,
    "start_time": "2023-02-21T13:49:55.120Z"
   },
   {
    "duration": 61,
    "start_time": "2023-02-21T13:51:43.198Z"
   },
   {
    "duration": 6,
    "start_time": "2023-02-21T13:52:34.201Z"
   },
   {
    "duration": 9,
    "start_time": "2023-02-21T13:52:44.238Z"
   },
   {
    "duration": 21,
    "start_time": "2023-02-21T13:52:57.602Z"
   },
   {
    "duration": 4,
    "start_time": "2023-02-21T13:53:01.637Z"
   },
   {
    "duration": 105,
    "start_time": "2023-02-21T13:53:01.644Z"
   },
   {
    "duration": 35,
    "start_time": "2023-02-21T13:53:01.751Z"
   },
   {
    "duration": 15,
    "start_time": "2023-02-21T13:53:01.788Z"
   },
   {
    "duration": 29,
    "start_time": "2023-02-21T13:53:01.805Z"
   },
   {
    "duration": 14,
    "start_time": "2023-02-21T13:53:01.835Z"
   },
   {
    "duration": 26,
    "start_time": "2023-02-21T13:53:01.850Z"
   },
   {
    "duration": 12,
    "start_time": "2023-02-21T13:53:01.878Z"
   },
   {
    "duration": 72,
    "start_time": "2023-02-21T13:53:01.892Z"
   },
   {
    "duration": 15,
    "start_time": "2023-02-21T13:53:01.965Z"
   },
   {
    "duration": 24,
    "start_time": "2023-02-21T13:53:01.982Z"
   },
   {
    "duration": 69,
    "start_time": "2023-02-21T13:53:02.008Z"
   },
   {
    "duration": 6,
    "start_time": "2023-02-21T13:53:02.079Z"
   },
   {
    "duration": 21,
    "start_time": "2023-02-21T13:53:02.088Z"
   },
   {
    "duration": 40,
    "start_time": "2023-02-21T13:53:02.124Z"
   },
   {
    "duration": 20,
    "start_time": "2023-02-21T13:53:02.166Z"
   },
   {
    "duration": 60,
    "start_time": "2023-02-21T13:53:02.188Z"
   },
   {
    "duration": 29,
    "start_time": "2023-02-21T13:53:02.250Z"
   },
   {
    "duration": 27,
    "start_time": "2023-02-21T13:53:02.280Z"
   },
   {
    "duration": 23,
    "start_time": "2023-02-21T13:53:02.309Z"
   },
   {
    "duration": 18,
    "start_time": "2023-02-21T13:53:02.334Z"
   },
   {
    "duration": 25,
    "start_time": "2023-02-21T13:53:02.354Z"
   },
   {
    "duration": 45,
    "start_time": "2023-02-21T13:53:02.381Z"
   },
   {
    "duration": 43,
    "start_time": "2023-02-21T13:53:02.427Z"
   },
   {
    "duration": 8,
    "start_time": "2023-02-21T13:53:02.472Z"
   },
   {
    "duration": 47,
    "start_time": "2023-02-21T13:53:02.481Z"
   },
   {
    "duration": 11,
    "start_time": "2023-02-21T13:53:02.530Z"
   },
   {
    "duration": 13,
    "start_time": "2023-02-21T13:53:48.128Z"
   },
   {
    "duration": 4,
    "start_time": "2023-02-21T13:53:59.159Z"
   },
   {
    "duration": 98,
    "start_time": "2023-02-21T13:53:59.165Z"
   },
   {
    "duration": 35,
    "start_time": "2023-02-21T13:53:59.265Z"
   },
   {
    "duration": 19,
    "start_time": "2023-02-21T13:53:59.303Z"
   },
   {
    "duration": 21,
    "start_time": "2023-02-21T13:53:59.326Z"
   },
   {
    "duration": 12,
    "start_time": "2023-02-21T13:53:59.349Z"
   },
   {
    "duration": 16,
    "start_time": "2023-02-21T13:53:59.362Z"
   },
   {
    "duration": 8,
    "start_time": "2023-02-21T13:53:59.380Z"
   },
   {
    "duration": 25,
    "start_time": "2023-02-21T13:53:59.390Z"
   },
   {
    "duration": 20,
    "start_time": "2023-02-21T13:53:59.418Z"
   },
   {
    "duration": 14,
    "start_time": "2023-02-21T13:53:59.440Z"
   },
   {
    "duration": 42,
    "start_time": "2023-02-21T13:53:59.456Z"
   },
   {
    "duration": 5,
    "start_time": "2023-02-21T13:53:59.500Z"
   },
   {
    "duration": 23,
    "start_time": "2023-02-21T13:53:59.509Z"
   },
   {
    "duration": 4,
    "start_time": "2023-02-21T13:53:59.534Z"
   },
   {
    "duration": 13,
    "start_time": "2023-02-21T13:53:59.539Z"
   },
   {
    "duration": 11,
    "start_time": "2023-02-21T13:53:59.554Z"
   },
   {
    "duration": 12,
    "start_time": "2023-02-21T13:53:59.570Z"
   },
   {
    "duration": 50,
    "start_time": "2023-02-21T13:53:59.584Z"
   },
   {
    "duration": 12,
    "start_time": "2023-02-21T13:53:59.636Z"
   },
   {
    "duration": 12,
    "start_time": "2023-02-21T13:53:59.650Z"
   },
   {
    "duration": 24,
    "start_time": "2023-02-21T13:53:59.664Z"
   },
   {
    "duration": 51,
    "start_time": "2023-02-21T13:53:59.689Z"
   },
   {
    "duration": 39,
    "start_time": "2023-02-21T13:53:59.741Z"
   },
   {
    "duration": 5,
    "start_time": "2023-02-21T13:53:59.782Z"
   },
   {
    "duration": 49,
    "start_time": "2023-02-21T13:53:59.789Z"
   },
   {
    "duration": 15,
    "start_time": "2023-02-21T13:53:59.839Z"
   },
   {
    "duration": 7,
    "start_time": "2023-02-21T13:54:59.886Z"
   },
   {
    "duration": 30,
    "start_time": "2023-02-21T13:55:17.840Z"
   },
   {
    "duration": 4,
    "start_time": "2023-02-21T13:55:26.175Z"
   },
   {
    "duration": 101,
    "start_time": "2023-02-21T13:55:26.181Z"
   },
   {
    "duration": 49,
    "start_time": "2023-02-21T13:55:26.284Z"
   },
   {
    "duration": 14,
    "start_time": "2023-02-21T13:55:26.335Z"
   },
   {
    "duration": 4,
    "start_time": "2023-02-21T13:55:26.350Z"
   },
   {
    "duration": 6,
    "start_time": "2023-02-21T13:55:26.356Z"
   },
   {
    "duration": 12,
    "start_time": "2023-02-21T13:55:26.364Z"
   },
   {
    "duration": 7,
    "start_time": "2023-02-21T13:55:26.377Z"
   },
   {
    "duration": 38,
    "start_time": "2023-02-21T13:55:26.387Z"
   },
   {
    "duration": 7,
    "start_time": "2023-02-21T13:55:26.426Z"
   },
   {
    "duration": 11,
    "start_time": "2023-02-21T13:55:26.435Z"
   },
   {
    "duration": 35,
    "start_time": "2023-02-21T13:55:26.447Z"
   },
   {
    "duration": 5,
    "start_time": "2023-02-21T13:55:26.483Z"
   },
   {
    "duration": 15,
    "start_time": "2023-02-21T13:55:26.519Z"
   },
   {
    "duration": 3,
    "start_time": "2023-02-21T13:55:26.535Z"
   },
   {
    "duration": 12,
    "start_time": "2023-02-21T13:55:26.539Z"
   },
   {
    "duration": 8,
    "start_time": "2023-02-21T13:55:26.552Z"
   },
   {
    "duration": 10,
    "start_time": "2023-02-21T13:55:26.562Z"
   },
   {
    "duration": 45,
    "start_time": "2023-02-21T13:55:26.574Z"
   },
   {
    "duration": 16,
    "start_time": "2023-02-21T13:55:26.621Z"
   },
   {
    "duration": 16,
    "start_time": "2023-02-21T13:55:26.639Z"
   },
   {
    "duration": 33,
    "start_time": "2023-02-21T13:55:26.657Z"
   },
   {
    "duration": 49,
    "start_time": "2023-02-21T13:55:26.692Z"
   },
   {
    "duration": 91,
    "start_time": "2023-02-21T13:55:26.744Z"
   },
   {
    "duration": 6,
    "start_time": "2023-02-21T13:55:26.837Z"
   },
   {
    "duration": 20,
    "start_time": "2023-02-21T13:55:26.845Z"
   },
   {
    "duration": 13,
    "start_time": "2023-02-21T13:55:26.867Z"
   },
   {
    "duration": 21,
    "start_time": "2023-02-21T13:56:08.410Z"
   },
   {
    "duration": 11,
    "start_time": "2023-02-21T13:56:13.261Z"
   },
   {
    "duration": 20,
    "start_time": "2023-02-21T13:57:01.725Z"
   },
   {
    "duration": 25,
    "start_time": "2023-02-21T13:57:26.702Z"
   },
   {
    "duration": 12,
    "start_time": "2023-02-21T13:57:34.426Z"
   },
   {
    "duration": 10,
    "start_time": "2023-02-21T13:57:58.631Z"
   },
   {
    "duration": 29,
    "start_time": "2023-02-21T13:58:05.565Z"
   },
   {
    "duration": 9,
    "start_time": "2023-02-21T13:58:11.737Z"
   },
   {
    "duration": 4,
    "start_time": "2023-02-21T13:58:25.370Z"
   },
   {
    "duration": 98,
    "start_time": "2023-02-21T13:58:25.375Z"
   },
   {
    "duration": 41,
    "start_time": "2023-02-21T13:58:25.474Z"
   },
   {
    "duration": 15,
    "start_time": "2023-02-21T13:58:25.524Z"
   },
   {
    "duration": 4,
    "start_time": "2023-02-21T13:58:25.541Z"
   },
   {
    "duration": 10,
    "start_time": "2023-02-21T13:58:25.546Z"
   },
   {
    "duration": 16,
    "start_time": "2023-02-21T13:58:25.558Z"
   },
   {
    "duration": 8,
    "start_time": "2023-02-21T13:58:25.575Z"
   },
   {
    "duration": 31,
    "start_time": "2023-02-21T13:58:25.584Z"
   },
   {
    "duration": 6,
    "start_time": "2023-02-21T13:58:25.624Z"
   },
   {
    "duration": 11,
    "start_time": "2023-02-21T13:58:25.632Z"
   },
   {
    "duration": 32,
    "start_time": "2023-02-21T13:58:25.644Z"
   },
   {
    "duration": 4,
    "start_time": "2023-02-21T13:58:25.677Z"
   },
   {
    "duration": 39,
    "start_time": "2023-02-21T13:58:25.683Z"
   },
   {
    "duration": 2,
    "start_time": "2023-02-21T13:58:25.728Z"
   },
   {
    "duration": 4,
    "start_time": "2023-02-21T13:58:25.732Z"
   },
   {
    "duration": 4,
    "start_time": "2023-02-21T13:58:25.738Z"
   },
   {
    "duration": 9,
    "start_time": "2023-02-21T13:58:25.743Z"
   },
   {
    "duration": 15,
    "start_time": "2023-02-21T13:58:25.753Z"
   },
   {
    "duration": 12,
    "start_time": "2023-02-21T13:58:25.770Z"
   },
   {
    "duration": 38,
    "start_time": "2023-02-21T13:58:25.784Z"
   },
   {
    "duration": 23,
    "start_time": "2023-02-21T13:58:25.823Z"
   },
   {
    "duration": 26,
    "start_time": "2023-02-21T13:58:25.848Z"
   },
   {
    "duration": 11,
    "start_time": "2023-02-21T13:58:25.875Z"
   },
   {
    "duration": 44,
    "start_time": "2023-02-21T13:58:25.923Z"
   },
   {
    "duration": 5,
    "start_time": "2023-02-21T13:58:25.969Z"
   },
   {
    "duration": 13,
    "start_time": "2023-02-21T13:58:25.976Z"
   },
   {
    "duration": 10,
    "start_time": "2023-02-21T13:58:25.990Z"
   },
   {
    "duration": 16,
    "start_time": "2023-02-21T13:58:41.133Z"
   },
   {
    "duration": 34,
    "start_time": "2023-02-21T13:58:57.028Z"
   },
   {
    "duration": 32,
    "start_time": "2023-02-21T13:59:17.800Z"
   },
   {
    "duration": 44,
    "start_time": "2023-02-21T14:00:13.892Z"
   },
   {
    "duration": 3,
    "start_time": "2023-02-21T14:00:19.675Z"
   },
   {
    "duration": 103,
    "start_time": "2023-02-21T14:00:19.680Z"
   },
   {
    "duration": 48,
    "start_time": "2023-02-21T14:00:19.784Z"
   },
   {
    "duration": 14,
    "start_time": "2023-02-21T14:00:19.834Z"
   },
   {
    "duration": 7,
    "start_time": "2023-02-21T14:00:19.850Z"
   },
   {
    "duration": 13,
    "start_time": "2023-02-21T14:00:19.859Z"
   },
   {
    "duration": 15,
    "start_time": "2023-02-21T14:00:19.874Z"
   },
   {
    "duration": 8,
    "start_time": "2023-02-21T14:00:19.890Z"
   },
   {
    "duration": 29,
    "start_time": "2023-02-21T14:00:19.899Z"
   },
   {
    "duration": 7,
    "start_time": "2023-02-21T14:00:19.932Z"
   },
   {
    "duration": 18,
    "start_time": "2023-02-21T14:00:19.941Z"
   },
   {
    "duration": 63,
    "start_time": "2023-02-21T14:00:19.961Z"
   },
   {
    "duration": 5,
    "start_time": "2023-02-21T14:00:20.026Z"
   },
   {
    "duration": 18,
    "start_time": "2023-02-21T14:00:20.032Z"
   },
   {
    "duration": 8,
    "start_time": "2023-02-21T14:00:20.052Z"
   },
   {
    "duration": 26,
    "start_time": "2023-02-21T14:00:20.062Z"
   },
   {
    "duration": 10,
    "start_time": "2023-02-21T14:00:20.091Z"
   },
   {
    "duration": 28,
    "start_time": "2023-02-21T14:00:20.103Z"
   },
   {
    "duration": 37,
    "start_time": "2023-02-21T14:00:20.133Z"
   },
   {
    "duration": 12,
    "start_time": "2023-02-21T14:00:20.171Z"
   },
   {
    "duration": 18,
    "start_time": "2023-02-21T14:00:20.185Z"
   },
   {
    "duration": 30,
    "start_time": "2023-02-21T14:00:20.204Z"
   },
   {
    "duration": 26,
    "start_time": "2023-02-21T14:00:20.236Z"
   },
   {
    "duration": 65,
    "start_time": "2023-02-21T14:00:20.264Z"
   },
   {
    "duration": 7,
    "start_time": "2023-02-21T14:00:20.330Z"
   },
   {
    "duration": 13,
    "start_time": "2023-02-21T14:00:20.339Z"
   },
   {
    "duration": 28,
    "start_time": "2023-02-21T14:00:20.354Z"
   },
   {
    "duration": 12,
    "start_time": "2023-02-21T14:00:38.538Z"
   },
   {
    "duration": 31,
    "start_time": "2023-02-21T14:00:42.406Z"
   },
   {
    "duration": 15,
    "start_time": "2023-02-21T14:01:07.267Z"
   },
   {
    "duration": 14,
    "start_time": "2023-02-21T14:01:11.125Z"
   },
   {
    "duration": 14,
    "start_time": "2023-02-21T14:01:16.289Z"
   },
   {
    "duration": 15,
    "start_time": "2023-02-21T14:01:22.583Z"
   },
   {
    "duration": 15,
    "start_time": "2023-02-21T14:01:30.528Z"
   },
   {
    "duration": 3,
    "start_time": "2023-02-21T14:01:42.026Z"
   },
   {
    "duration": 108,
    "start_time": "2023-02-21T14:01:42.661Z"
   },
   {
    "duration": 45,
    "start_time": "2023-02-21T14:01:43.052Z"
   },
   {
    "duration": 14,
    "start_time": "2023-02-21T14:01:43.962Z"
   },
   {
    "duration": 3,
    "start_time": "2023-02-21T14:01:45.650Z"
   },
   {
    "duration": 7,
    "start_time": "2023-02-21T14:01:46.725Z"
   },
   {
    "duration": 11,
    "start_time": "2023-02-21T14:01:49.184Z"
   },
   {
    "duration": 9,
    "start_time": "2023-02-21T14:01:50.906Z"
   },
   {
    "duration": 16,
    "start_time": "2023-02-21T14:01:51.518Z"
   },
   {
    "duration": 6,
    "start_time": "2023-02-21T14:01:56.240Z"
   },
   {
    "duration": 9,
    "start_time": "2023-02-21T14:02:01.771Z"
   },
   {
    "duration": 45,
    "start_time": "2023-02-21T14:02:38.497Z"
   },
   {
    "duration": 12,
    "start_time": "2023-02-21T14:02:49.785Z"
   },
   {
    "duration": 18,
    "start_time": "2023-02-21T14:02:55.630Z"
   },
   {
    "duration": 16,
    "start_time": "2023-02-21T14:03:09.825Z"
   },
   {
    "duration": 21,
    "start_time": "2023-02-21T14:03:12.733Z"
   },
   {
    "duration": 9,
    "start_time": "2023-02-21T14:03:22.532Z"
   },
   {
    "duration": 3,
    "start_time": "2023-02-21T14:03:36.462Z"
   },
   {
    "duration": 124,
    "start_time": "2023-02-21T14:03:36.467Z"
   },
   {
    "duration": 49,
    "start_time": "2023-02-21T14:03:36.593Z"
   },
   {
    "duration": 15,
    "start_time": "2023-02-21T14:03:36.644Z"
   },
   {
    "duration": 4,
    "start_time": "2023-02-21T14:03:36.662Z"
   },
   {
    "duration": 10,
    "start_time": "2023-02-21T14:03:36.668Z"
   },
   {
    "duration": 14,
    "start_time": "2023-02-21T14:03:36.680Z"
   },
   {
    "duration": 8,
    "start_time": "2023-02-21T14:03:36.696Z"
   },
   {
    "duration": 22,
    "start_time": "2023-02-21T14:03:36.709Z"
   },
   {
    "duration": 8,
    "start_time": "2023-02-21T14:03:36.733Z"
   },
   {
    "duration": 18,
    "start_time": "2023-02-21T14:03:36.742Z"
   },
   {
    "duration": 73,
    "start_time": "2023-02-21T14:03:36.761Z"
   },
   {
    "duration": 5,
    "start_time": "2023-02-21T14:03:36.837Z"
   },
   {
    "duration": 12,
    "start_time": "2023-02-21T14:03:36.844Z"
   },
   {
    "duration": 2,
    "start_time": "2023-02-21T14:03:36.858Z"
   },
   {
    "duration": 3,
    "start_time": "2023-02-21T14:03:36.862Z"
   },
   {
    "duration": 12,
    "start_time": "2023-02-21T14:03:36.867Z"
   },
   {
    "duration": 17,
    "start_time": "2023-02-21T14:03:36.881Z"
   },
   {
    "duration": 54,
    "start_time": "2023-02-21T14:03:36.900Z"
   },
   {
    "duration": 12,
    "start_time": "2023-02-21T14:03:36.956Z"
   },
   {
    "duration": 26,
    "start_time": "2023-02-21T14:03:36.970Z"
   },
   {
    "duration": 31,
    "start_time": "2023-02-21T14:03:36.998Z"
   },
   {
    "duration": 34,
    "start_time": "2023-02-21T14:03:37.030Z"
   },
   {
    "duration": 92,
    "start_time": "2023-02-21T14:03:37.066Z"
   },
   {
    "duration": 7,
    "start_time": "2023-02-21T14:03:37.161Z"
   },
   {
    "duration": 23,
    "start_time": "2023-02-21T14:03:37.170Z"
   },
   {
    "duration": 32,
    "start_time": "2023-02-21T14:03:37.195Z"
   },
   {
    "duration": 28,
    "start_time": "2023-02-21T14:04:04.061Z"
   },
   {
    "duration": 6,
    "start_time": "2023-02-21T14:04:19.888Z"
   },
   {
    "duration": 5,
    "start_time": "2023-02-21T14:04:26.743Z"
   },
   {
    "duration": 828,
    "start_time": "2023-02-21T14:04:29.279Z"
   },
   {
    "duration": 8,
    "start_time": "2023-02-21T14:04:35.293Z"
   },
   {
    "duration": 4,
    "start_time": "2023-02-21T14:04:49.358Z"
   },
   {
    "duration": 4,
    "start_time": "2023-02-21T14:04:59.081Z"
   },
   {
    "duration": 5,
    "start_time": "2023-02-21T14:05:06.328Z"
   },
   {
    "duration": 3,
    "start_time": "2023-02-21T14:07:27.155Z"
   },
   {
    "duration": 101,
    "start_time": "2023-02-21T14:07:27.161Z"
   },
   {
    "duration": 35,
    "start_time": "2023-02-21T14:07:27.264Z"
   },
   {
    "duration": 15,
    "start_time": "2023-02-21T14:07:27.302Z"
   },
   {
    "duration": 6,
    "start_time": "2023-02-21T14:07:27.319Z"
   },
   {
    "duration": 15,
    "start_time": "2023-02-21T14:07:27.326Z"
   },
   {
    "duration": 11,
    "start_time": "2023-02-21T14:07:27.623Z"
   },
   {
    "duration": 7,
    "start_time": "2023-02-21T14:07:27.636Z"
   },
   {
    "duration": 17,
    "start_time": "2023-02-21T14:07:27.645Z"
   },
   {
    "duration": 12,
    "start_time": "2023-02-21T14:07:27.663Z"
   },
   {
    "duration": 17,
    "start_time": "2023-02-21T14:07:27.677Z"
   },
   {
    "duration": 42,
    "start_time": "2023-02-21T14:07:27.695Z"
   },
   {
    "duration": 5,
    "start_time": "2023-02-21T14:07:27.742Z"
   },
   {
    "duration": 16,
    "start_time": "2023-02-21T14:07:27.748Z"
   },
   {
    "duration": 2,
    "start_time": "2023-02-21T14:07:27.766Z"
   },
   {
    "duration": 8,
    "start_time": "2023-02-21T14:07:27.770Z"
   },
   {
    "duration": 4,
    "start_time": "2023-02-21T14:07:27.780Z"
   },
   {
    "duration": 24,
    "start_time": "2023-02-21T14:07:27.786Z"
   },
   {
    "duration": 17,
    "start_time": "2023-02-21T14:07:27.812Z"
   },
   {
    "duration": 12,
    "start_time": "2023-02-21T14:07:27.830Z"
   },
   {
    "duration": 13,
    "start_time": "2023-02-21T14:07:27.843Z"
   },
   {
    "duration": 53,
    "start_time": "2023-02-21T14:07:27.857Z"
   },
   {
    "duration": 28,
    "start_time": "2023-02-21T14:07:27.912Z"
   },
   {
    "duration": 4,
    "start_time": "2023-02-21T14:07:27.941Z"
   },
   {
    "duration": 74,
    "start_time": "2023-02-21T14:07:27.946Z"
   },
   {
    "duration": 6,
    "start_time": "2023-02-21T14:07:28.021Z"
   },
   {
    "duration": 14,
    "start_time": "2023-02-21T14:07:28.029Z"
   },
   {
    "duration": 14,
    "start_time": "2023-02-21T14:07:28.044Z"
   },
   {
    "duration": 4,
    "start_time": "2023-02-21T14:07:40.642Z"
   },
   {
    "duration": 5,
    "start_time": "2023-02-21T14:07:45.313Z"
   },
   {
    "duration": 4,
    "start_time": "2023-02-21T14:08:00.166Z"
   },
   {
    "duration": 4,
    "start_time": "2023-02-21T14:08:12.232Z"
   },
   {
    "duration": 111,
    "start_time": "2023-02-21T14:08:12.238Z"
   },
   {
    "duration": 35,
    "start_time": "2023-02-21T14:08:12.351Z"
   },
   {
    "duration": 16,
    "start_time": "2023-02-21T14:08:12.388Z"
   },
   {
    "duration": 7,
    "start_time": "2023-02-21T14:08:12.407Z"
   },
   {
    "duration": 9,
    "start_time": "2023-02-21T14:08:12.416Z"
   },
   {
    "duration": 13,
    "start_time": "2023-02-21T14:08:12.427Z"
   },
   {
    "duration": 8,
    "start_time": "2023-02-21T14:08:12.441Z"
   },
   {
    "duration": 13,
    "start_time": "2023-02-21T14:08:12.450Z"
   },
   {
    "duration": 8,
    "start_time": "2023-02-21T14:08:12.465Z"
   },
   {
    "duration": 12,
    "start_time": "2023-02-21T14:08:12.474Z"
   },
   {
    "duration": 39,
    "start_time": "2023-02-21T14:08:12.511Z"
   },
   {
    "duration": 5,
    "start_time": "2023-02-21T14:08:12.551Z"
   },
   {
    "duration": 10,
    "start_time": "2023-02-21T14:08:12.559Z"
   },
   {
    "duration": 2,
    "start_time": "2023-02-21T14:08:12.571Z"
   },
   {
    "duration": 35,
    "start_time": "2023-02-21T14:08:12.575Z"
   },
   {
    "duration": 3,
    "start_time": "2023-02-21T14:08:12.612Z"
   },
   {
    "duration": 8,
    "start_time": "2023-02-21T14:08:12.617Z"
   },
   {
    "duration": 17,
    "start_time": "2023-02-21T14:08:12.626Z"
   },
   {
    "duration": 12,
    "start_time": "2023-02-21T14:08:12.645Z"
   },
   {
    "duration": 12,
    "start_time": "2023-02-21T14:08:12.658Z"
   },
   {
    "duration": 61,
    "start_time": "2023-02-21T14:08:12.672Z"
   },
   {
    "duration": 29,
    "start_time": "2023-02-21T14:08:12.735Z"
   },
   {
    "duration": 4,
    "start_time": "2023-02-21T14:08:12.765Z"
   },
   {
    "duration": 76,
    "start_time": "2023-02-21T14:08:12.770Z"
   },
   {
    "duration": 6,
    "start_time": "2023-02-21T14:08:12.848Z"
   },
   {
    "duration": 18,
    "start_time": "2023-02-21T14:08:12.855Z"
   },
   {
    "duration": 9,
    "start_time": "2023-02-21T14:08:12.875Z"
   },
   {
    "duration": 4,
    "start_time": "2023-02-21T14:08:53.662Z"
   },
   {
    "duration": 4,
    "start_time": "2023-02-21T14:09:06.149Z"
   },
   {
    "duration": 95,
    "start_time": "2023-02-21T14:09:06.154Z"
   },
   {
    "duration": 35,
    "start_time": "2023-02-21T14:09:06.251Z"
   },
   {
    "duration": 98,
    "start_time": "2023-02-21T14:09:06.287Z"
   },
   {
    "duration": 10,
    "start_time": "2023-02-21T14:09:06.387Z"
   },
   {
    "duration": 15,
    "start_time": "2023-02-21T14:09:06.398Z"
   },
   {
    "duration": 20,
    "start_time": "2023-02-21T14:09:06.415Z"
   },
   {
    "duration": 7,
    "start_time": "2023-02-21T14:09:06.437Z"
   },
   {
    "duration": 17,
    "start_time": "2023-02-21T14:09:06.446Z"
   },
   {
    "duration": 21,
    "start_time": "2023-02-21T14:09:06.465Z"
   },
   {
    "duration": 13,
    "start_time": "2023-02-21T14:09:06.488Z"
   },
   {
    "duration": 46,
    "start_time": "2023-02-21T14:09:06.503Z"
   },
   {
    "duration": 5,
    "start_time": "2023-02-21T14:09:06.551Z"
   },
   {
    "duration": 13,
    "start_time": "2023-02-21T14:09:06.559Z"
   },
   {
    "duration": 2,
    "start_time": "2023-02-21T14:09:06.573Z"
   },
   {
    "duration": 7,
    "start_time": "2023-02-21T14:09:06.577Z"
   },
   {
    "duration": 24,
    "start_time": "2023-02-21T14:09:06.586Z"
   },
   {
    "duration": 2,
    "start_time": "2023-02-21T14:09:06.611Z"
   },
   {
    "duration": 16,
    "start_time": "2023-02-21T14:09:06.615Z"
   },
   {
    "duration": 12,
    "start_time": "2023-02-21T14:09:06.632Z"
   },
   {
    "duration": 12,
    "start_time": "2023-02-21T14:09:06.646Z"
   },
   {
    "duration": 53,
    "start_time": "2023-02-21T14:09:06.660Z"
   },
   {
    "duration": 34,
    "start_time": "2023-02-21T14:09:06.715Z"
   },
   {
    "duration": 3,
    "start_time": "2023-02-21T14:09:06.752Z"
   },
   {
    "duration": 12,
    "start_time": "2023-02-21T14:09:06.757Z"
   },
   {
    "duration": 77,
    "start_time": "2023-02-21T14:09:06.770Z"
   },
   {
    "duration": 8,
    "start_time": "2023-02-21T14:09:06.849Z"
   },
   {
    "duration": 31,
    "start_time": "2023-02-21T14:09:06.859Z"
   },
   {
    "duration": 18,
    "start_time": "2023-02-21T14:09:06.892Z"
   },
   {
    "duration": 4,
    "start_time": "2023-02-21T14:09:15.489Z"
   },
   {
    "duration": 3,
    "start_time": "2023-02-21T14:09:22.222Z"
   },
   {
    "duration": 96,
    "start_time": "2023-02-21T14:09:22.226Z"
   },
   {
    "duration": 36,
    "start_time": "2023-02-21T14:09:22.324Z"
   },
   {
    "duration": 15,
    "start_time": "2023-02-21T14:09:22.362Z"
   },
   {
    "duration": 6,
    "start_time": "2023-02-21T14:09:22.380Z"
   },
   {
    "duration": 11,
    "start_time": "2023-02-21T14:09:22.387Z"
   },
   {
    "duration": 12,
    "start_time": "2023-02-21T14:09:22.399Z"
   },
   {
    "duration": 7,
    "start_time": "2023-02-21T14:09:22.413Z"
   },
   {
    "duration": 14,
    "start_time": "2023-02-21T14:09:22.422Z"
   },
   {
    "duration": 8,
    "start_time": "2023-02-21T14:09:22.437Z"
   },
   {
    "duration": 13,
    "start_time": "2023-02-21T14:09:22.447Z"
   },
   {
    "duration": 57,
    "start_time": "2023-02-21T14:09:22.462Z"
   },
   {
    "duration": 4,
    "start_time": "2023-02-21T14:09:22.522Z"
   },
   {
    "duration": 13,
    "start_time": "2023-02-21T14:09:22.528Z"
   },
   {
    "duration": 2,
    "start_time": "2023-02-21T14:09:22.542Z"
   },
   {
    "duration": 5,
    "start_time": "2023-02-21T14:09:22.545Z"
   },
   {
    "duration": 3,
    "start_time": "2023-02-21T14:09:22.552Z"
   },
   {
    "duration": 4,
    "start_time": "2023-02-21T14:09:22.557Z"
   },
   {
    "duration": 50,
    "start_time": "2023-02-21T14:09:22.562Z"
   },
   {
    "duration": 13,
    "start_time": "2023-02-21T14:09:22.614Z"
   },
   {
    "duration": 12,
    "start_time": "2023-02-21T14:09:22.628Z"
   },
   {
    "duration": 24,
    "start_time": "2023-02-21T14:09:22.642Z"
   },
   {
    "duration": 53,
    "start_time": "2023-02-21T14:09:22.668Z"
   },
   {
    "duration": 3,
    "start_time": "2023-02-21T14:09:22.723Z"
   },
   {
    "duration": 47,
    "start_time": "2023-02-21T14:09:22.727Z"
   },
   {
    "duration": 5,
    "start_time": "2023-02-21T14:09:22.776Z"
   },
   {
    "duration": 38,
    "start_time": "2023-02-21T14:09:22.783Z"
   },
   {
    "duration": 9,
    "start_time": "2023-02-21T14:09:22.823Z"
   },
   {
    "duration": 43,
    "start_time": "2023-02-21T14:12:31.626Z"
   },
   {
    "duration": 5,
    "start_time": "2023-02-21T14:12:47.974Z"
   },
   {
    "duration": 6,
    "start_time": "2023-02-21T14:12:53.322Z"
   },
   {
    "duration": 4,
    "start_time": "2023-02-21T14:13:06.470Z"
   },
   {
    "duration": 5,
    "start_time": "2023-02-21T14:13:09.343Z"
   },
   {
    "duration": 52,
    "start_time": "2023-02-21T14:13:45.498Z"
   },
   {
    "duration": 17,
    "start_time": "2023-02-21T14:13:52.057Z"
   },
   {
    "duration": 7,
    "start_time": "2023-02-21T14:14:04.920Z"
   },
   {
    "duration": 727,
    "start_time": "2023-02-21T14:14:08.525Z"
   },
   {
    "duration": 17,
    "start_time": "2023-02-21T14:14:30.068Z"
   },
   {
    "duration": 7,
    "start_time": "2023-02-21T14:14:46.841Z"
   },
   {
    "duration": 10,
    "start_time": "2023-02-21T14:14:57.368Z"
   },
   {
    "duration": 7,
    "start_time": "2023-02-21T14:15:09.391Z"
   },
   {
    "duration": 8,
    "start_time": "2023-02-21T14:15:19.373Z"
   },
   {
    "duration": 7,
    "start_time": "2023-02-21T14:15:23.138Z"
   },
   {
    "duration": 8,
    "start_time": "2023-02-21T14:16:14.125Z"
   },
   {
    "duration": 8,
    "start_time": "2023-02-21T14:16:28.161Z"
   },
   {
    "duration": 54,
    "start_time": "2023-02-21T14:18:53.317Z"
   },
   {
    "duration": 46,
    "start_time": "2023-02-21T14:19:04.792Z"
   },
   {
    "duration": 45,
    "start_time": "2023-02-21T14:19:08.735Z"
   },
   {
    "duration": 53,
    "start_time": "2023-02-21T14:19:44.857Z"
   },
   {
    "duration": 43,
    "start_time": "2023-02-21T14:21:04.520Z"
   },
   {
    "duration": 48,
    "start_time": "2023-02-21T14:21:11.415Z"
   },
   {
    "duration": 44,
    "start_time": "2023-02-21T14:21:40.406Z"
   },
   {
    "duration": 172,
    "start_time": "2023-02-21T14:21:45.641Z"
   },
   {
    "duration": 212,
    "start_time": "2023-02-21T14:22:00.963Z"
   },
   {
    "duration": 56,
    "start_time": "2023-02-21T15:48:35.452Z"
   },
   {
    "duration": 37,
    "start_time": "2023-02-21T15:49:04.702Z"
   },
   {
    "duration": 50,
    "start_time": "2023-02-21T15:49:09.289Z"
   },
   {
    "duration": 42,
    "start_time": "2023-02-21T15:50:02.470Z"
   },
   {
    "duration": 371,
    "start_time": "2023-02-21T15:50:07.262Z"
   },
   {
    "duration": 264,
    "start_time": "2023-02-21T15:50:07.635Z"
   },
   {
    "duration": 59,
    "start_time": "2023-02-21T15:50:07.901Z"
   },
   {
    "duration": 29,
    "start_time": "2023-02-21T15:50:07.962Z"
   },
   {
    "duration": 7,
    "start_time": "2023-02-21T15:50:07.993Z"
   },
   {
    "duration": 14,
    "start_time": "2023-02-21T15:50:08.001Z"
   },
   {
    "duration": 26,
    "start_time": "2023-02-21T15:50:08.017Z"
   },
   {
    "duration": 11,
    "start_time": "2023-02-21T15:50:08.045Z"
   },
   {
    "duration": 17,
    "start_time": "2023-02-21T15:50:08.058Z"
   },
   {
    "duration": 8,
    "start_time": "2023-02-21T15:50:08.078Z"
   },
   {
    "duration": 11,
    "start_time": "2023-02-21T15:50:08.088Z"
   },
   {
    "duration": 65,
    "start_time": "2023-02-21T15:50:08.100Z"
   },
   {
    "duration": 5,
    "start_time": "2023-02-21T15:50:08.167Z"
   },
   {
    "duration": 16,
    "start_time": "2023-02-21T15:50:08.174Z"
   },
   {
    "duration": 3,
    "start_time": "2023-02-21T15:50:08.192Z"
   },
   {
    "duration": 10,
    "start_time": "2023-02-21T15:50:08.197Z"
   },
   {
    "duration": 4,
    "start_time": "2023-02-21T15:50:08.226Z"
   },
   {
    "duration": 6,
    "start_time": "2023-02-21T15:50:08.232Z"
   },
   {
    "duration": 21,
    "start_time": "2023-02-21T15:50:08.239Z"
   },
   {
    "duration": 12,
    "start_time": "2023-02-21T15:50:08.261Z"
   },
   {
    "duration": 13,
    "start_time": "2023-02-21T15:50:08.275Z"
   },
   {
    "duration": 46,
    "start_time": "2023-02-21T15:50:08.290Z"
   },
   {
    "duration": 45,
    "start_time": "2023-02-21T15:50:08.338Z"
   },
   {
    "duration": 52,
    "start_time": "2023-02-21T15:50:08.385Z"
   },
   {
    "duration": 5,
    "start_time": "2023-02-21T15:50:08.439Z"
   },
   {
    "duration": 33,
    "start_time": "2023-02-21T15:50:08.446Z"
   },
   {
    "duration": 201,
    "start_time": "2023-02-21T15:50:08.481Z"
   },
   {
    "duration": 0,
    "start_time": "2023-02-21T15:50:08.683Z"
   },
   {
    "duration": 6,
    "start_time": "2023-02-21T15:50:30.288Z"
   },
   {
    "duration": 196,
    "start_time": "2023-02-21T15:50:56.358Z"
   },
   {
    "duration": 3,
    "start_time": "2023-02-21T15:51:03.489Z"
   },
   {
    "duration": 86,
    "start_time": "2023-02-21T15:51:03.493Z"
   },
   {
    "duration": 40,
    "start_time": "2023-02-21T15:51:03.581Z"
   },
   {
    "duration": 16,
    "start_time": "2023-02-21T15:51:03.622Z"
   },
   {
    "duration": 11,
    "start_time": "2023-02-21T15:51:03.640Z"
   },
   {
    "duration": 8,
    "start_time": "2023-02-21T15:51:03.653Z"
   },
   {
    "duration": 15,
    "start_time": "2023-02-21T15:51:03.663Z"
   },
   {
    "duration": 7,
    "start_time": "2023-02-21T15:51:03.680Z"
   },
   {
    "duration": 15,
    "start_time": "2023-02-21T15:51:03.689Z"
   },
   {
    "duration": 22,
    "start_time": "2023-02-21T15:51:03.705Z"
   },
   {
    "duration": 9,
    "start_time": "2023-02-21T15:51:03.728Z"
   },
   {
    "duration": 38,
    "start_time": "2023-02-21T15:51:03.739Z"
   },
   {
    "duration": 5,
    "start_time": "2023-02-21T15:51:03.778Z"
   },
   {
    "duration": 10,
    "start_time": "2023-02-21T15:51:03.786Z"
   },
   {
    "duration": 29,
    "start_time": "2023-02-21T15:51:03.798Z"
   },
   {
    "duration": 3,
    "start_time": "2023-02-21T15:51:03.828Z"
   },
   {
    "duration": 9,
    "start_time": "2023-02-21T15:51:03.832Z"
   },
   {
    "duration": 6,
    "start_time": "2023-02-21T15:51:03.843Z"
   },
   {
    "duration": 26,
    "start_time": "2023-02-21T15:51:03.850Z"
   },
   {
    "duration": 12,
    "start_time": "2023-02-21T15:51:03.877Z"
   },
   {
    "duration": 14,
    "start_time": "2023-02-21T15:51:03.890Z"
   },
   {
    "duration": 42,
    "start_time": "2023-02-21T15:51:03.906Z"
   },
   {
    "duration": 24,
    "start_time": "2023-02-21T15:51:03.950Z"
   },
   {
    "duration": 59,
    "start_time": "2023-02-21T15:51:03.976Z"
   },
   {
    "duration": 7,
    "start_time": "2023-02-21T15:51:04.037Z"
   },
   {
    "duration": 30,
    "start_time": "2023-02-21T15:51:04.045Z"
   },
   {
    "duration": 12,
    "start_time": "2023-02-21T15:51:04.076Z"
   },
   {
    "duration": 9,
    "start_time": "2023-02-21T15:51:04.090Z"
   },
   {
    "duration": 214,
    "start_time": "2023-02-21T15:51:24.566Z"
   },
   {
    "duration": 3,
    "start_time": "2023-02-21T15:51:32.459Z"
   },
   {
    "duration": 101,
    "start_time": "2023-02-21T15:51:32.464Z"
   },
   {
    "duration": 41,
    "start_time": "2023-02-21T15:51:32.567Z"
   },
   {
    "duration": 15,
    "start_time": "2023-02-21T15:51:32.609Z"
   },
   {
    "duration": 8,
    "start_time": "2023-02-21T15:51:32.627Z"
   },
   {
    "duration": 22,
    "start_time": "2023-02-21T15:51:32.636Z"
   },
   {
    "duration": 19,
    "start_time": "2023-02-21T15:51:32.660Z"
   },
   {
    "duration": 8,
    "start_time": "2023-02-21T15:51:32.681Z"
   },
   {
    "duration": 14,
    "start_time": "2023-02-21T15:51:32.691Z"
   },
   {
    "duration": 8,
    "start_time": "2023-02-21T15:51:32.707Z"
   },
   {
    "duration": 17,
    "start_time": "2023-02-21T15:51:32.716Z"
   },
   {
    "duration": 35,
    "start_time": "2023-02-21T15:51:32.735Z"
   },
   {
    "duration": 4,
    "start_time": "2023-02-21T15:51:32.772Z"
   },
   {
    "duration": 14,
    "start_time": "2023-02-21T15:51:32.779Z"
   },
   {
    "duration": 2,
    "start_time": "2023-02-21T15:51:32.794Z"
   },
   {
    "duration": 3,
    "start_time": "2023-02-21T15:51:32.826Z"
   },
   {
    "duration": 6,
    "start_time": "2023-02-21T15:51:32.831Z"
   },
   {
    "duration": 16,
    "start_time": "2023-02-21T15:51:32.838Z"
   },
   {
    "duration": 30,
    "start_time": "2023-02-21T15:51:32.856Z"
   },
   {
    "duration": 16,
    "start_time": "2023-02-21T15:51:32.887Z"
   },
   {
    "duration": 45,
    "start_time": "2023-02-21T15:51:32.905Z"
   },
   {
    "duration": 23,
    "start_time": "2023-02-21T15:51:32.951Z"
   },
   {
    "duration": 26,
    "start_time": "2023-02-21T15:51:32.976Z"
   },
   {
    "duration": 64,
    "start_time": "2023-02-21T15:51:33.004Z"
   },
   {
    "duration": 19,
    "start_time": "2023-02-21T15:51:33.070Z"
   },
   {
    "duration": 25,
    "start_time": "2023-02-21T15:51:33.091Z"
   },
   {
    "duration": 20,
    "start_time": "2023-02-21T15:51:33.118Z"
   },
   {
    "duration": 12,
    "start_time": "2023-02-21T15:51:33.139Z"
   },
   {
    "duration": 22,
    "start_time": "2023-02-21T15:52:06.690Z"
   },
   {
    "duration": 18,
    "start_time": "2023-02-21T15:52:35.957Z"
   },
   {
    "duration": 21,
    "start_time": "2023-02-21T15:53:07.248Z"
   },
   {
    "duration": 9,
    "start_time": "2023-02-21T15:53:11.317Z"
   },
   {
    "duration": 9,
    "start_time": "2023-02-21T15:53:15.221Z"
   },
   {
    "duration": 14,
    "start_time": "2023-02-21T15:53:58.947Z"
   },
   {
    "duration": 13,
    "start_time": "2023-02-21T15:54:02.505Z"
   },
   {
    "duration": 14,
    "start_time": "2023-02-21T15:54:04.256Z"
   },
   {
    "duration": 31,
    "start_time": "2023-02-21T15:54:10.794Z"
   },
   {
    "duration": 2,
    "start_time": "2023-02-21T15:56:24.027Z"
   },
   {
    "duration": 93,
    "start_time": "2023-02-21T15:56:24.032Z"
   },
   {
    "duration": 39,
    "start_time": "2023-02-21T15:56:24.127Z"
   },
   {
    "duration": 15,
    "start_time": "2023-02-21T15:56:24.168Z"
   },
   {
    "duration": 4,
    "start_time": "2023-02-21T15:56:24.185Z"
   },
   {
    "duration": 10,
    "start_time": "2023-02-21T15:56:24.191Z"
   },
   {
    "duration": 13,
    "start_time": "2023-02-21T15:56:24.203Z"
   },
   {
    "duration": 12,
    "start_time": "2023-02-21T15:56:24.217Z"
   },
   {
    "duration": 14,
    "start_time": "2023-02-21T15:56:24.231Z"
   },
   {
    "duration": 7,
    "start_time": "2023-02-21T15:56:24.248Z"
   },
   {
    "duration": 10,
    "start_time": "2023-02-21T15:56:24.257Z"
   },
   {
    "duration": 35,
    "start_time": "2023-02-21T15:56:24.269Z"
   },
   {
    "duration": 4,
    "start_time": "2023-02-21T15:56:24.328Z"
   },
   {
    "duration": 23,
    "start_time": "2023-02-21T15:56:24.334Z"
   },
   {
    "duration": 3,
    "start_time": "2023-02-21T15:56:24.358Z"
   },
   {
    "duration": 4,
    "start_time": "2023-02-21T15:56:24.362Z"
   },
   {
    "duration": 11,
    "start_time": "2023-02-21T15:56:24.368Z"
   },
   {
    "duration": 10,
    "start_time": "2023-02-21T15:56:24.380Z"
   },
   {
    "duration": 26,
    "start_time": "2023-02-21T15:56:24.391Z"
   },
   {
    "duration": 12,
    "start_time": "2023-02-21T15:56:24.419Z"
   },
   {
    "duration": 14,
    "start_time": "2023-02-21T15:56:24.432Z"
   },
   {
    "duration": 22,
    "start_time": "2023-02-21T15:56:24.448Z"
   },
   {
    "duration": 56,
    "start_time": "2023-02-21T15:56:24.472Z"
   },
   {
    "duration": 44,
    "start_time": "2023-02-21T15:56:24.530Z"
   },
   {
    "duration": 6,
    "start_time": "2023-02-21T15:56:24.575Z"
   },
   {
    "duration": 15,
    "start_time": "2023-02-21T15:56:24.583Z"
   },
   {
    "duration": 30,
    "start_time": "2023-02-21T15:56:24.600Z"
   },
   {
    "duration": 9,
    "start_time": "2023-02-21T15:56:24.633Z"
   },
   {
    "duration": 20,
    "start_time": "2023-02-21T15:56:24.643Z"
   },
   {
    "duration": 18,
    "start_time": "2023-02-21T15:56:24.665Z"
   },
   {
    "duration": 26,
    "start_time": "2023-02-21T15:56:33.087Z"
   },
   {
    "duration": 36,
    "start_time": "2023-02-21T15:56:54.769Z"
   },
   {
    "duration": 4,
    "start_time": "2023-02-21T15:57:29.210Z"
   },
   {
    "duration": 95,
    "start_time": "2023-02-21T15:57:29.215Z"
   },
   {
    "duration": 38,
    "start_time": "2023-02-21T15:57:29.312Z"
   },
   {
    "duration": 15,
    "start_time": "2023-02-21T15:57:29.352Z"
   },
   {
    "duration": 21,
    "start_time": "2023-02-21T15:57:29.369Z"
   },
   {
    "duration": 8,
    "start_time": "2023-02-21T15:57:29.392Z"
   },
   {
    "duration": 19,
    "start_time": "2023-02-21T15:57:29.401Z"
   },
   {
    "duration": 7,
    "start_time": "2023-02-21T15:57:29.421Z"
   },
   {
    "duration": 13,
    "start_time": "2023-02-21T15:57:29.430Z"
   },
   {
    "duration": 7,
    "start_time": "2023-02-21T15:57:29.446Z"
   },
   {
    "duration": 9,
    "start_time": "2023-02-21T15:57:29.455Z"
   },
   {
    "duration": 37,
    "start_time": "2023-02-21T15:57:29.465Z"
   },
   {
    "duration": 24,
    "start_time": "2023-02-21T15:57:29.504Z"
   },
   {
    "duration": 10,
    "start_time": "2023-02-21T15:57:29.530Z"
   },
   {
    "duration": 2,
    "start_time": "2023-02-21T15:57:29.542Z"
   },
   {
    "duration": 4,
    "start_time": "2023-02-21T15:57:29.546Z"
   },
   {
    "duration": 6,
    "start_time": "2023-02-21T15:57:29.552Z"
   },
   {
    "duration": 5,
    "start_time": "2023-02-21T15:57:29.559Z"
   },
   {
    "duration": 15,
    "start_time": "2023-02-21T15:57:29.566Z"
   },
   {
    "duration": 12,
    "start_time": "2023-02-21T15:57:29.583Z"
   },
   {
    "duration": 41,
    "start_time": "2023-02-21T15:57:29.596Z"
   },
   {
    "duration": 23,
    "start_time": "2023-02-21T15:57:29.639Z"
   },
   {
    "duration": 27,
    "start_time": "2023-02-21T15:57:29.665Z"
   },
   {
    "duration": 71,
    "start_time": "2023-02-21T15:57:29.693Z"
   },
   {
    "duration": 6,
    "start_time": "2023-02-21T15:57:29.766Z"
   },
   {
    "duration": 11,
    "start_time": "2023-02-21T15:57:29.774Z"
   },
   {
    "duration": 8,
    "start_time": "2023-02-21T15:57:29.787Z"
   },
   {
    "duration": 9,
    "start_time": "2023-02-21T15:57:29.826Z"
   },
   {
    "duration": 21,
    "start_time": "2023-02-21T15:57:29.836Z"
   },
   {
    "duration": 11,
    "start_time": "2023-02-21T15:57:29.859Z"
   },
   {
    "duration": 30,
    "start_time": "2023-02-21T15:57:43.652Z"
   },
   {
    "duration": 12,
    "start_time": "2023-02-21T15:58:19.835Z"
   },
   {
    "duration": 6,
    "start_time": "2023-02-21T15:58:24.121Z"
   },
   {
    "duration": 3,
    "start_time": "2023-02-21T15:58:27.805Z"
   },
   {
    "duration": 103,
    "start_time": "2023-02-21T15:58:27.810Z"
   },
   {
    "duration": 40,
    "start_time": "2023-02-21T15:58:27.915Z"
   },
   {
    "duration": 15,
    "start_time": "2023-02-21T15:58:27.956Z"
   },
   {
    "duration": 4,
    "start_time": "2023-02-21T15:58:27.973Z"
   },
   {
    "duration": 8,
    "start_time": "2023-02-21T15:58:27.979Z"
   },
   {
    "duration": 13,
    "start_time": "2023-02-21T15:58:27.988Z"
   },
   {
    "duration": 8,
    "start_time": "2023-02-21T15:58:28.003Z"
   },
   {
    "duration": 19,
    "start_time": "2023-02-21T15:58:28.013Z"
   },
   {
    "duration": 7,
    "start_time": "2023-02-21T15:58:28.034Z"
   },
   {
    "duration": 16,
    "start_time": "2023-02-21T15:58:28.044Z"
   },
   {
    "duration": 38,
    "start_time": "2023-02-21T15:58:28.061Z"
   },
   {
    "duration": 28,
    "start_time": "2023-02-21T15:58:28.100Z"
   },
   {
    "duration": 11,
    "start_time": "2023-02-21T15:58:28.130Z"
   },
   {
    "duration": 5,
    "start_time": "2023-02-21T15:58:28.143Z"
   },
   {
    "duration": 5,
    "start_time": "2023-02-21T15:58:28.149Z"
   },
   {
    "duration": 4,
    "start_time": "2023-02-21T15:58:28.156Z"
   },
   {
    "duration": 4,
    "start_time": "2023-02-21T15:58:28.162Z"
   },
   {
    "duration": 16,
    "start_time": "2023-02-21T15:58:28.168Z"
   },
   {
    "duration": 11,
    "start_time": "2023-02-21T15:58:28.186Z"
   },
   {
    "duration": 15,
    "start_time": "2023-02-21T15:58:28.228Z"
   },
   {
    "duration": 21,
    "start_time": "2023-02-21T15:58:28.244Z"
   },
   {
    "duration": 28,
    "start_time": "2023-02-21T15:58:28.267Z"
   },
   {
    "duration": 74,
    "start_time": "2023-02-21T15:58:28.297Z"
   },
   {
    "duration": 6,
    "start_time": "2023-02-21T15:58:28.373Z"
   },
   {
    "duration": 14,
    "start_time": "2023-02-21T15:58:28.381Z"
   },
   {
    "duration": 31,
    "start_time": "2023-02-21T15:58:28.396Z"
   },
   {
    "duration": 8,
    "start_time": "2023-02-21T15:58:28.429Z"
   },
   {
    "duration": 23,
    "start_time": "2023-02-21T15:58:28.440Z"
   },
   {
    "duration": 15,
    "start_time": "2023-02-21T15:58:28.464Z"
   },
   {
    "duration": 35,
    "start_time": "2023-02-21T15:59:04.392Z"
   },
   {
    "duration": 33,
    "start_time": "2023-02-21T15:59:09.749Z"
   },
   {
    "duration": 10,
    "start_time": "2023-02-21T15:59:17.503Z"
   },
   {
    "duration": 9,
    "start_time": "2023-02-21T15:59:19.677Z"
   },
   {
    "duration": 11,
    "start_time": "2023-02-21T15:59:21.824Z"
   },
   {
    "duration": 10,
    "start_time": "2023-02-21T15:59:45.519Z"
   },
   {
    "duration": 9,
    "start_time": "2023-02-21T15:59:49.526Z"
   },
   {
    "duration": 10,
    "start_time": "2023-02-21T16:00:03.942Z"
   },
   {
    "duration": 27,
    "start_time": "2023-02-21T16:00:07.309Z"
   },
   {
    "duration": 11,
    "start_time": "2023-02-21T16:00:11.504Z"
   },
   {
    "duration": 11,
    "start_time": "2023-02-21T16:00:13.729Z"
   },
   {
    "duration": 24,
    "start_time": "2023-02-21T16:00:28.279Z"
   },
   {
    "duration": 10,
    "start_time": "2023-02-21T16:00:33.914Z"
   },
   {
    "duration": 38,
    "start_time": "2023-02-21T16:00:51.832Z"
   },
   {
    "duration": 10,
    "start_time": "2023-02-21T16:00:55.270Z"
   },
   {
    "duration": 10,
    "start_time": "2023-02-21T16:00:57.797Z"
   },
   {
    "duration": 35,
    "start_time": "2023-02-21T16:01:00.980Z"
   },
   {
    "duration": 9,
    "start_time": "2023-02-21T16:01:03.939Z"
   },
   {
    "duration": 6,
    "start_time": "2023-02-21T16:01:12.045Z"
   },
   {
    "duration": 11,
    "start_time": "2023-02-21T16:01:16.760Z"
   },
   {
    "duration": 8,
    "start_time": "2023-02-21T16:01:22.420Z"
   },
   {
    "duration": 187,
    "start_time": "2023-02-21T16:01:24.134Z"
   },
   {
    "duration": 9,
    "start_time": "2023-02-21T16:01:30.537Z"
   },
   {
    "duration": 10,
    "start_time": "2023-02-21T16:01:34.808Z"
   },
   {
    "duration": 11,
    "start_time": "2023-02-21T16:01:43.875Z"
   },
   {
    "duration": 25,
    "start_time": "2023-02-21T16:01:49.023Z"
   },
   {
    "duration": 10,
    "start_time": "2023-02-21T16:01:51.862Z"
   },
   {
    "duration": 3,
    "start_time": "2023-02-21T16:01:59.665Z"
   },
   {
    "duration": 94,
    "start_time": "2023-02-21T16:01:59.670Z"
   },
   {
    "duration": 38,
    "start_time": "2023-02-21T16:01:59.766Z"
   },
   {
    "duration": 15,
    "start_time": "2023-02-21T16:01:59.806Z"
   },
   {
    "duration": 4,
    "start_time": "2023-02-21T16:01:59.824Z"
   },
   {
    "duration": 18,
    "start_time": "2023-02-21T16:01:59.830Z"
   },
   {
    "duration": 17,
    "start_time": "2023-02-21T16:01:59.850Z"
   },
   {
    "duration": 8,
    "start_time": "2023-02-21T16:01:59.869Z"
   },
   {
    "duration": 14,
    "start_time": "2023-02-21T16:01:59.878Z"
   },
   {
    "duration": 8,
    "start_time": "2023-02-21T16:01:59.893Z"
   },
   {
    "duration": 28,
    "start_time": "2023-02-21T16:01:59.902Z"
   },
   {
    "duration": 36,
    "start_time": "2023-02-21T16:01:59.932Z"
   },
   {
    "duration": 5,
    "start_time": "2023-02-21T16:01:59.970Z"
   },
   {
    "duration": 11,
    "start_time": "2023-02-21T16:01:59.978Z"
   },
   {
    "duration": 2,
    "start_time": "2023-02-21T16:01:59.991Z"
   },
   {
    "duration": 32,
    "start_time": "2023-02-21T16:01:59.994Z"
   },
   {
    "duration": 2,
    "start_time": "2023-02-21T16:02:00.028Z"
   },
   {
    "duration": 5,
    "start_time": "2023-02-21T16:02:00.032Z"
   },
   {
    "duration": 22,
    "start_time": "2023-02-21T16:02:00.038Z"
   },
   {
    "duration": 12,
    "start_time": "2023-02-21T16:02:00.061Z"
   },
   {
    "duration": 18,
    "start_time": "2023-02-21T16:02:00.075Z"
   },
   {
    "duration": 44,
    "start_time": "2023-02-21T16:02:00.094Z"
   },
   {
    "duration": 11,
    "start_time": "2023-02-21T16:02:00.139Z"
   },
   {
    "duration": 29,
    "start_time": "2023-02-21T16:02:00.151Z"
   },
   {
    "duration": 59,
    "start_time": "2023-02-21T16:02:00.181Z"
   },
   {
    "duration": 6,
    "start_time": "2023-02-21T16:02:00.241Z"
   },
   {
    "duration": 51,
    "start_time": "2023-02-21T16:02:00.249Z"
   },
   {
    "duration": 15,
    "start_time": "2023-02-21T16:02:00.302Z"
   },
   {
    "duration": 26,
    "start_time": "2023-02-21T16:02:00.318Z"
   },
   {
    "duration": 37,
    "start_time": "2023-02-21T16:02:00.346Z"
   },
   {
    "duration": 48,
    "start_time": "2023-02-21T16:02:00.385Z"
   },
   {
    "duration": 10,
    "start_time": "2023-02-21T16:02:15.235Z"
   },
   {
    "duration": 4,
    "start_time": "2023-02-21T16:02:30.208Z"
   },
   {
    "duration": 171,
    "start_time": "2023-02-21T16:02:30.214Z"
   },
   {
    "duration": 44,
    "start_time": "2023-02-21T16:02:30.387Z"
   },
   {
    "duration": 31,
    "start_time": "2023-02-21T16:02:30.433Z"
   },
   {
    "duration": 82,
    "start_time": "2023-02-21T16:02:30.466Z"
   },
   {
    "duration": 27,
    "start_time": "2023-02-21T16:02:30.550Z"
   },
   {
    "duration": 65,
    "start_time": "2023-02-21T16:02:30.579Z"
   },
   {
    "duration": 83,
    "start_time": "2023-02-21T16:02:30.646Z"
   },
   {
    "duration": 39,
    "start_time": "2023-02-21T16:02:30.731Z"
   },
   {
    "duration": 39,
    "start_time": "2023-02-21T16:02:30.773Z"
   },
   {
    "duration": 29,
    "start_time": "2023-02-21T16:02:30.813Z"
   },
   {
    "duration": 53,
    "start_time": "2023-02-21T16:02:30.843Z"
   },
   {
    "duration": 5,
    "start_time": "2023-02-21T16:02:30.898Z"
   },
   {
    "duration": 28,
    "start_time": "2023-02-21T16:02:30.905Z"
   },
   {
    "duration": 17,
    "start_time": "2023-02-21T16:02:30.935Z"
   },
   {
    "duration": 50,
    "start_time": "2023-02-21T16:02:30.954Z"
   },
   {
    "duration": 29,
    "start_time": "2023-02-21T16:02:31.006Z"
   },
   {
    "duration": 23,
    "start_time": "2023-02-21T16:02:31.037Z"
   },
   {
    "duration": 50,
    "start_time": "2023-02-21T16:02:31.062Z"
   },
   {
    "duration": 12,
    "start_time": "2023-02-21T16:02:31.114Z"
   },
   {
    "duration": 17,
    "start_time": "2023-02-21T16:02:31.127Z"
   },
   {
    "duration": 23,
    "start_time": "2023-02-21T16:02:31.146Z"
   },
   {
    "duration": 11,
    "start_time": "2023-02-21T16:03:01.986Z"
   },
   {
    "duration": 10,
    "start_time": "2023-02-21T16:03:09.786Z"
   },
   {
    "duration": 10,
    "start_time": "2023-02-21T16:03:13.342Z"
   },
   {
    "duration": 4,
    "start_time": "2023-02-21T16:03:17.262Z"
   },
   {
    "duration": 103,
    "start_time": "2023-02-21T16:03:17.268Z"
   },
   {
    "duration": 38,
    "start_time": "2023-02-21T16:03:17.373Z"
   },
   {
    "duration": 16,
    "start_time": "2023-02-21T16:03:17.414Z"
   },
   {
    "duration": 6,
    "start_time": "2023-02-21T16:03:17.431Z"
   },
   {
    "duration": 9,
    "start_time": "2023-02-21T16:03:17.439Z"
   },
   {
    "duration": 14,
    "start_time": "2023-02-21T16:03:17.449Z"
   },
   {
    "duration": 9,
    "start_time": "2023-02-21T16:03:17.465Z"
   },
   {
    "duration": 15,
    "start_time": "2023-02-21T16:03:17.476Z"
   },
   {
    "duration": 7,
    "start_time": "2023-02-21T16:03:17.526Z"
   },
   {
    "duration": 10,
    "start_time": "2023-02-21T16:03:17.535Z"
   },
   {
    "duration": 38,
    "start_time": "2023-02-21T16:03:17.546Z"
   },
   {
    "duration": 4,
    "start_time": "2023-02-21T16:03:17.586Z"
   },
   {
    "duration": 41,
    "start_time": "2023-02-21T16:03:17.592Z"
   },
   {
    "duration": 3,
    "start_time": "2023-02-21T16:03:17.634Z"
   },
   {
    "duration": 20,
    "start_time": "2023-02-21T16:03:17.638Z"
   },
   {
    "duration": 5,
    "start_time": "2023-02-21T16:03:17.660Z"
   },
   {
    "duration": 6,
    "start_time": "2023-02-21T16:03:17.666Z"
   },
   {
    "duration": 10,
    "start_time": "2023-02-21T16:03:23.788Z"
   },
   {
    "duration": 15,
    "start_time": "2023-02-21T16:03:31.377Z"
   },
   {
    "duration": 9,
    "start_time": "2023-02-21T16:03:32.909Z"
   },
   {
    "duration": 12,
    "start_time": "2023-02-21T16:03:45.424Z"
   },
   {
    "duration": 9,
    "start_time": "2023-02-21T16:03:45.840Z"
   },
   {
    "duration": 10,
    "start_time": "2023-02-21T16:03:48.309Z"
   },
   {
    "duration": 15,
    "start_time": "2023-02-21T16:03:56.947Z"
   },
   {
    "duration": 12,
    "start_time": "2023-02-21T16:03:57.999Z"
   },
   {
    "duration": 23,
    "start_time": "2023-02-21T16:04:06.843Z"
   },
   {
    "duration": 10,
    "start_time": "2023-02-21T16:04:09.134Z"
   },
   {
    "duration": 26,
    "start_time": "2023-02-21T16:04:14.791Z"
   },
   {
    "duration": 10,
    "start_time": "2023-02-21T16:04:19.246Z"
   },
   {
    "duration": 28,
    "start_time": "2023-02-21T16:04:27.492Z"
   },
   {
    "duration": 11,
    "start_time": "2023-02-21T16:04:32.265Z"
   },
   {
    "duration": 10,
    "start_time": "2023-02-21T16:04:39.569Z"
   },
   {
    "duration": 39,
    "start_time": "2023-02-21T16:04:43.347Z"
   },
   {
    "duration": 10,
    "start_time": "2023-02-21T16:04:45.998Z"
   },
   {
    "duration": 38,
    "start_time": "2023-02-21T16:04:55.923Z"
   },
   {
    "duration": 11,
    "start_time": "2023-02-21T16:04:57.360Z"
   },
   {
    "duration": 39,
    "start_time": "2023-02-21T16:05:01.304Z"
   },
   {
    "duration": 11,
    "start_time": "2023-02-21T16:05:03.218Z"
   },
   {
    "duration": 3,
    "start_time": "2023-02-21T16:06:27.544Z"
   },
   {
    "duration": 95,
    "start_time": "2023-02-21T16:06:27.549Z"
   },
   {
    "duration": 41,
    "start_time": "2023-02-21T16:06:27.646Z"
   },
   {
    "duration": 15,
    "start_time": "2023-02-21T16:06:27.689Z"
   },
   {
    "duration": 5,
    "start_time": "2023-02-21T16:06:27.706Z"
   },
   {
    "duration": 9,
    "start_time": "2023-02-21T16:06:27.712Z"
   },
   {
    "duration": 13,
    "start_time": "2023-02-21T16:06:27.722Z"
   },
   {
    "duration": 8,
    "start_time": "2023-02-21T16:06:27.737Z"
   },
   {
    "duration": 14,
    "start_time": "2023-02-21T16:06:27.748Z"
   },
   {
    "duration": 8,
    "start_time": "2023-02-21T16:06:27.764Z"
   },
   {
    "duration": 14,
    "start_time": "2023-02-21T16:06:27.774Z"
   },
   {
    "duration": 86,
    "start_time": "2023-02-21T16:06:27.790Z"
   },
   {
    "duration": 5,
    "start_time": "2023-02-21T16:06:27.877Z"
   },
   {
    "duration": 14,
    "start_time": "2023-02-21T16:06:27.883Z"
   },
   {
    "duration": 3,
    "start_time": "2023-02-21T16:06:27.899Z"
   },
   {
    "duration": 24,
    "start_time": "2023-02-21T16:06:27.903Z"
   },
   {
    "duration": 4,
    "start_time": "2023-02-21T16:06:27.929Z"
   },
   {
    "duration": 6,
    "start_time": "2023-02-21T16:06:27.935Z"
   },
   {
    "duration": 18,
    "start_time": "2023-02-21T16:06:27.942Z"
   },
   {
    "duration": 14,
    "start_time": "2023-02-21T16:06:27.963Z"
   },
   {
    "duration": 12,
    "start_time": "2023-02-21T16:06:27.979Z"
   },
   {
    "duration": 24,
    "start_time": "2023-02-21T16:06:28.026Z"
   },
   {
    "duration": 30,
    "start_time": "2023-02-21T16:06:28.052Z"
   },
   {
    "duration": 45,
    "start_time": "2023-02-21T16:06:28.087Z"
   },
   {
    "duration": 52,
    "start_time": "2023-02-21T16:06:28.134Z"
   },
   {
    "duration": 6,
    "start_time": "2023-02-21T16:06:28.188Z"
   },
   {
    "duration": 33,
    "start_time": "2023-02-21T16:06:28.195Z"
   },
   {
    "duration": 8,
    "start_time": "2023-02-21T16:06:28.229Z"
   },
   {
    "duration": 13,
    "start_time": "2023-02-21T16:06:28.238Z"
   },
   {
    "duration": 18,
    "start_time": "2023-02-21T16:06:28.253Z"
   },
   {
    "duration": 11,
    "start_time": "2023-02-21T16:06:28.273Z"
   },
   {
    "duration": 10,
    "start_time": "2023-02-21T16:06:47.361Z"
   },
   {
    "duration": 10,
    "start_time": "2023-02-21T16:06:57.303Z"
   },
   {
    "duration": 13,
    "start_time": "2023-02-21T16:07:16.711Z"
   },
   {
    "duration": 3,
    "start_time": "2023-02-21T16:08:11.496Z"
   },
   {
    "duration": 103,
    "start_time": "2023-02-21T16:08:11.500Z"
   },
   {
    "duration": 40,
    "start_time": "2023-02-21T16:08:11.605Z"
   },
   {
    "duration": 18,
    "start_time": "2023-02-21T16:08:11.648Z"
   },
   {
    "duration": 7,
    "start_time": "2023-02-21T16:08:11.668Z"
   },
   {
    "duration": 24,
    "start_time": "2023-02-21T16:08:11.676Z"
   },
   {
    "duration": 37,
    "start_time": "2023-02-21T16:08:11.701Z"
   },
   {
    "duration": 16,
    "start_time": "2023-02-21T16:08:11.739Z"
   },
   {
    "duration": 22,
    "start_time": "2023-02-21T16:08:11.758Z"
   },
   {
    "duration": 14,
    "start_time": "2023-02-21T16:08:11.781Z"
   },
   {
    "duration": 40,
    "start_time": "2023-02-21T16:08:11.796Z"
   },
   {
    "duration": 58,
    "start_time": "2023-02-21T16:08:11.838Z"
   },
   {
    "duration": 5,
    "start_time": "2023-02-21T16:08:11.899Z"
   },
   {
    "duration": 22,
    "start_time": "2023-02-21T16:08:11.906Z"
   },
   {
    "duration": 11,
    "start_time": "2023-02-21T16:08:11.930Z"
   },
   {
    "duration": 35,
    "start_time": "2023-02-21T16:08:11.943Z"
   },
   {
    "duration": 11,
    "start_time": "2023-02-21T16:08:11.980Z"
   },
   {
    "duration": 14,
    "start_time": "2023-02-21T16:08:11.993Z"
   },
   {
    "duration": 47,
    "start_time": "2023-02-21T16:08:12.009Z"
   },
   {
    "duration": 17,
    "start_time": "2023-02-21T16:08:12.058Z"
   },
   {
    "duration": 40,
    "start_time": "2023-02-21T16:08:12.077Z"
   },
   {
    "duration": 27,
    "start_time": "2023-02-21T16:08:12.119Z"
   },
   {
    "duration": 39,
    "start_time": "2023-02-21T16:08:12.148Z"
   },
   {
    "duration": 14,
    "start_time": "2023-02-21T16:08:12.190Z"
   },
   {
    "duration": 92,
    "start_time": "2023-02-21T16:08:12.206Z"
   },
   {
    "duration": 6,
    "start_time": "2023-02-21T16:08:12.300Z"
   },
   {
    "duration": 30,
    "start_time": "2023-02-21T16:08:12.308Z"
   },
   {
    "duration": 10,
    "start_time": "2023-02-21T16:08:12.341Z"
   },
   {
    "duration": 10,
    "start_time": "2023-02-21T16:08:12.352Z"
   },
   {
    "duration": 20,
    "start_time": "2023-02-21T16:08:12.364Z"
   },
   {
    "duration": 12,
    "start_time": "2023-02-21T16:08:12.386Z"
   },
   {
    "duration": 12,
    "start_time": "2023-02-21T16:08:25.929Z"
   },
   {
    "duration": 6,
    "start_time": "2023-02-21T16:08:40.066Z"
   },
   {
    "duration": 5,
    "start_time": "2023-02-21T16:08:45.825Z"
   },
   {
    "duration": 23,
    "start_time": "2023-02-21T16:08:58.293Z"
   },
   {
    "duration": 3,
    "start_time": "2023-02-21T16:09:24.106Z"
   },
   {
    "duration": 104,
    "start_time": "2023-02-21T16:09:24.112Z"
   },
   {
    "duration": 38,
    "start_time": "2023-02-21T16:09:24.218Z"
   },
   {
    "duration": 17,
    "start_time": "2023-02-21T16:09:24.522Z"
   },
   {
    "duration": 5,
    "start_time": "2023-02-21T16:09:24.541Z"
   },
   {
    "duration": 10,
    "start_time": "2023-02-21T16:09:24.547Z"
   },
   {
    "duration": 14,
    "start_time": "2023-02-21T16:09:24.558Z"
   },
   {
    "duration": 9,
    "start_time": "2023-02-21T16:09:24.575Z"
   },
   {
    "duration": 16,
    "start_time": "2023-02-21T16:09:24.586Z"
   },
   {
    "duration": 36,
    "start_time": "2023-02-21T16:09:24.604Z"
   },
   {
    "duration": 12,
    "start_time": "2023-02-21T16:09:24.642Z"
   },
   {
    "duration": 46,
    "start_time": "2023-02-21T16:09:24.656Z"
   },
   {
    "duration": 25,
    "start_time": "2023-02-21T16:09:24.704Z"
   },
   {
    "duration": 16,
    "start_time": "2023-02-21T16:09:24.731Z"
   },
   {
    "duration": 2,
    "start_time": "2023-02-21T16:09:24.749Z"
   },
   {
    "duration": 7,
    "start_time": "2023-02-21T16:09:24.753Z"
   },
   {
    "duration": 5,
    "start_time": "2023-02-21T16:09:24.762Z"
   },
   {
    "duration": 5,
    "start_time": "2023-02-21T16:09:24.768Z"
   },
   {
    "duration": 19,
    "start_time": "2023-02-21T16:09:24.774Z"
   },
   {
    "duration": 44,
    "start_time": "2023-02-21T16:09:24.794Z"
   },
   {
    "duration": 13,
    "start_time": "2023-02-21T16:09:24.840Z"
   },
   {
    "duration": 22,
    "start_time": "2023-02-21T16:09:24.854Z"
   },
   {
    "duration": 66,
    "start_time": "2023-02-21T16:09:24.878Z"
   },
   {
    "duration": 6,
    "start_time": "2023-02-21T16:09:24.946Z"
   },
   {
    "duration": 0,
    "start_time": "2023-02-21T16:09:24.953Z"
   },
   {
    "duration": 0,
    "start_time": "2023-02-21T16:09:24.955Z"
   },
   {
    "duration": 0,
    "start_time": "2023-02-21T16:09:24.956Z"
   },
   {
    "duration": 0,
    "start_time": "2023-02-21T16:09:24.957Z"
   },
   {
    "duration": 0,
    "start_time": "2023-02-21T16:09:24.958Z"
   },
   {
    "duration": 0,
    "start_time": "2023-02-21T16:09:24.959Z"
   },
   {
    "duration": 0,
    "start_time": "2023-02-21T16:09:24.960Z"
   },
   {
    "duration": 3,
    "start_time": "2023-02-21T16:09:37.168Z"
   },
   {
    "duration": 91,
    "start_time": "2023-02-21T16:09:37.173Z"
   },
   {
    "duration": 39,
    "start_time": "2023-02-21T16:09:37.266Z"
   },
   {
    "duration": 16,
    "start_time": "2023-02-21T16:09:37.307Z"
   },
   {
    "duration": 5,
    "start_time": "2023-02-21T16:09:37.325Z"
   },
   {
    "duration": 12,
    "start_time": "2023-02-21T16:09:37.331Z"
   },
   {
    "duration": 13,
    "start_time": "2023-02-21T16:09:37.345Z"
   },
   {
    "duration": 8,
    "start_time": "2023-02-21T16:09:37.360Z"
   },
   {
    "duration": 16,
    "start_time": "2023-02-21T16:09:37.369Z"
   },
   {
    "duration": 10,
    "start_time": "2023-02-21T16:09:37.388Z"
   },
   {
    "duration": 32,
    "start_time": "2023-02-21T16:09:37.400Z"
   },
   {
    "duration": 40,
    "start_time": "2023-02-21T16:09:37.434Z"
   },
   {
    "duration": 5,
    "start_time": "2023-02-21T16:09:37.476Z"
   },
   {
    "duration": 15,
    "start_time": "2023-02-21T16:09:37.483Z"
   },
   {
    "duration": 3,
    "start_time": "2023-02-21T16:09:37.527Z"
   },
   {
    "duration": 5,
    "start_time": "2023-02-21T16:09:37.532Z"
   },
   {
    "duration": 21,
    "start_time": "2023-02-21T16:09:37.539Z"
   },
   {
    "duration": 14,
    "start_time": "2023-02-21T16:09:37.562Z"
   },
   {
    "duration": 18,
    "start_time": "2023-02-21T16:09:37.578Z"
   },
   {
    "duration": 12,
    "start_time": "2023-02-21T16:09:37.598Z"
   },
   {
    "duration": 18,
    "start_time": "2023-02-21T16:09:37.612Z"
   },
   {
    "duration": 23,
    "start_time": "2023-02-21T16:09:37.631Z"
   },
   {
    "duration": 27,
    "start_time": "2023-02-21T16:09:37.655Z"
   },
   {
    "duration": 7,
    "start_time": "2023-02-21T16:09:59.835Z"
   },
   {
    "duration": 8,
    "start_time": "2023-02-21T16:10:17.336Z"
   },
   {
    "duration": 4,
    "start_time": "2023-02-21T16:10:21.834Z"
   },
   {
    "duration": 43,
    "start_time": "2023-02-21T16:10:27.018Z"
   },
   {
    "duration": 4,
    "start_time": "2023-02-21T16:10:29.797Z"
   },
   {
    "duration": 3,
    "start_time": "2023-02-21T16:10:36.004Z"
   },
   {
    "duration": 102,
    "start_time": "2023-02-21T16:10:36.009Z"
   },
   {
    "duration": 38,
    "start_time": "2023-02-21T16:10:36.112Z"
   },
   {
    "duration": 15,
    "start_time": "2023-02-21T16:10:36.151Z"
   },
   {
    "duration": 6,
    "start_time": "2023-02-21T16:10:36.168Z"
   },
   {
    "duration": 7,
    "start_time": "2023-02-21T16:10:36.176Z"
   },
   {
    "duration": 13,
    "start_time": "2023-02-21T16:10:36.185Z"
   },
   {
    "duration": 8,
    "start_time": "2023-02-21T16:10:36.200Z"
   },
   {
    "duration": 124,
    "start_time": "2023-02-21T16:10:36.209Z"
   },
   {
    "duration": 15,
    "start_time": "2023-02-21T16:10:36.335Z"
   },
   {
    "duration": 23,
    "start_time": "2023-02-21T16:10:36.352Z"
   },
   {
    "duration": 56,
    "start_time": "2023-02-21T16:10:36.377Z"
   },
   {
    "duration": 6,
    "start_time": "2023-02-21T16:10:36.435Z"
   },
   {
    "duration": 17,
    "start_time": "2023-02-21T16:10:36.444Z"
   },
   {
    "duration": 15,
    "start_time": "2023-02-21T16:10:36.463Z"
   },
   {
    "duration": 5,
    "start_time": "2023-02-21T16:10:36.480Z"
   },
   {
    "duration": 6,
    "start_time": "2023-02-21T16:10:36.486Z"
   },
   {
    "duration": 8,
    "start_time": "2023-02-21T16:10:36.494Z"
   },
   {
    "duration": 24,
    "start_time": "2023-02-21T16:10:36.504Z"
   },
   {
    "duration": 14,
    "start_time": "2023-02-21T16:10:36.530Z"
   },
   {
    "duration": 15,
    "start_time": "2023-02-21T16:10:36.546Z"
   },
   {
    "duration": 23,
    "start_time": "2023-02-21T16:10:36.563Z"
   },
   {
    "duration": 67,
    "start_time": "2023-02-21T16:10:36.588Z"
   },
   {
    "duration": 3,
    "start_time": "2023-02-21T16:10:44.963Z"
   },
   {
    "duration": 93,
    "start_time": "2023-02-21T16:10:44.968Z"
   },
   {
    "duration": 40,
    "start_time": "2023-02-21T16:10:45.062Z"
   },
   {
    "duration": 16,
    "start_time": "2023-02-21T16:10:45.103Z"
   },
   {
    "duration": 7,
    "start_time": "2023-02-21T16:10:45.120Z"
   },
   {
    "duration": 8,
    "start_time": "2023-02-21T16:10:45.128Z"
   },
   {
    "duration": 20,
    "start_time": "2023-02-21T16:10:45.138Z"
   },
   {
    "duration": 7,
    "start_time": "2023-02-21T16:10:45.160Z"
   },
   {
    "duration": 14,
    "start_time": "2023-02-21T16:10:45.169Z"
   },
   {
    "duration": 13,
    "start_time": "2023-02-21T16:10:45.185Z"
   },
   {
    "duration": 11,
    "start_time": "2023-02-21T16:10:45.200Z"
   },
   {
    "duration": 48,
    "start_time": "2023-02-21T16:10:45.212Z"
   },
   {
    "duration": 5,
    "start_time": "2023-02-21T16:10:45.261Z"
   },
   {
    "duration": 16,
    "start_time": "2023-02-21T16:10:45.268Z"
   },
   {
    "duration": 2,
    "start_time": "2023-02-21T16:10:45.286Z"
   },
   {
    "duration": 10,
    "start_time": "2023-02-21T16:10:45.289Z"
   },
   {
    "duration": 6,
    "start_time": "2023-02-21T16:10:45.300Z"
   },
   {
    "duration": 16,
    "start_time": "2023-02-21T16:10:45.327Z"
   },
   {
    "duration": 21,
    "start_time": "2023-02-21T16:10:45.345Z"
   },
   {
    "duration": 12,
    "start_time": "2023-02-21T16:10:45.368Z"
   },
   {
    "duration": 13,
    "start_time": "2023-02-21T16:10:45.382Z"
   },
   {
    "duration": 32,
    "start_time": "2023-02-21T16:10:45.396Z"
   },
   {
    "duration": 26,
    "start_time": "2023-02-21T16:10:45.429Z"
   },
   {
    "duration": 3,
    "start_time": "2023-02-21T16:10:45.458Z"
   },
   {
    "duration": 41,
    "start_time": "2023-02-21T16:10:45.463Z"
   },
   {
    "duration": 5,
    "start_time": "2023-02-21T16:10:45.528Z"
   },
   {
    "duration": 30,
    "start_time": "2023-02-21T16:10:45.535Z"
   },
   {
    "duration": 11,
    "start_time": "2023-02-21T16:10:45.567Z"
   },
   {
    "duration": 8,
    "start_time": "2023-02-21T16:10:45.580Z"
   },
   {
    "duration": 20,
    "start_time": "2023-02-21T16:10:45.589Z"
   },
   {
    "duration": 20,
    "start_time": "2023-02-21T16:10:45.611Z"
   },
   {
    "duration": 3,
    "start_time": "2023-02-21T16:11:15.651Z"
   },
   {
    "duration": 5,
    "start_time": "2023-02-21T16:11:20.514Z"
   },
   {
    "duration": 6,
    "start_time": "2023-02-21T16:11:33.472Z"
   },
   {
    "duration": 4,
    "start_time": "2023-02-21T16:11:39.453Z"
   },
   {
    "duration": 5,
    "start_time": "2023-02-21T16:11:42.520Z"
   },
   {
    "duration": 4,
    "start_time": "2023-02-21T16:11:59.307Z"
   },
   {
    "duration": 3,
    "start_time": "2023-02-21T16:12:03.053Z"
   },
   {
    "duration": 3,
    "start_time": "2023-02-21T16:12:09.383Z"
   },
   {
    "duration": 4,
    "start_time": "2023-02-21T16:12:20.689Z"
   },
   {
    "duration": 4,
    "start_time": "2023-02-21T16:12:25.747Z"
   },
   {
    "duration": 4,
    "start_time": "2023-02-21T16:12:34.327Z"
   },
   {
    "duration": 3,
    "start_time": "2023-02-21T16:12:40.842Z"
   },
   {
    "duration": 108,
    "start_time": "2023-02-21T16:12:40.847Z"
   },
   {
    "duration": 40,
    "start_time": "2023-02-21T16:12:40.957Z"
   },
   {
    "duration": 18,
    "start_time": "2023-02-21T16:12:40.999Z"
   },
   {
    "duration": 12,
    "start_time": "2023-02-21T16:12:41.020Z"
   },
   {
    "duration": 16,
    "start_time": "2023-02-21T16:12:41.034Z"
   },
   {
    "duration": 45,
    "start_time": "2023-02-21T16:12:41.052Z"
   },
   {
    "duration": 8,
    "start_time": "2023-02-21T16:12:41.100Z"
   },
   {
    "duration": 22,
    "start_time": "2023-02-21T16:12:41.109Z"
   },
   {
    "duration": 17,
    "start_time": "2023-02-21T16:12:41.133Z"
   },
   {
    "duration": 10,
    "start_time": "2023-02-21T16:12:41.152Z"
   },
   {
    "duration": 43,
    "start_time": "2023-02-21T16:12:41.163Z"
   },
   {
    "duration": 22,
    "start_time": "2023-02-21T16:12:41.208Z"
   },
   {
    "duration": 19,
    "start_time": "2023-02-21T16:12:41.234Z"
   },
   {
    "duration": 15,
    "start_time": "2023-02-21T16:12:41.254Z"
   },
   {
    "duration": 26,
    "start_time": "2023-02-21T16:12:41.271Z"
   },
   {
    "duration": 8,
    "start_time": "2023-02-21T16:12:41.299Z"
   },
   {
    "duration": 5,
    "start_time": "2023-02-21T16:12:41.309Z"
   },
   {
    "duration": 20,
    "start_time": "2023-02-21T16:12:41.316Z"
   },
   {
    "duration": 13,
    "start_time": "2023-02-21T16:12:41.337Z"
   },
   {
    "duration": 12,
    "start_time": "2023-02-21T16:12:41.352Z"
   },
   {
    "duration": 51,
    "start_time": "2023-02-21T16:12:41.365Z"
   },
   {
    "duration": 28,
    "start_time": "2023-02-21T16:12:41.418Z"
   },
   {
    "duration": 5,
    "start_time": "2023-02-21T16:12:41.447Z"
   },
   {
    "duration": 74,
    "start_time": "2023-02-21T16:12:41.453Z"
   },
   {
    "duration": 6,
    "start_time": "2023-02-21T16:12:41.529Z"
   },
   {
    "duration": 14,
    "start_time": "2023-02-21T16:12:41.537Z"
   },
   {
    "duration": 15,
    "start_time": "2023-02-21T16:12:41.552Z"
   },
   {
    "duration": 10,
    "start_time": "2023-02-21T16:12:41.569Z"
   },
   {
    "duration": 22,
    "start_time": "2023-02-21T16:12:41.581Z"
   },
   {
    "duration": 26,
    "start_time": "2023-02-21T16:12:41.605Z"
   },
   {
    "duration": 8,
    "start_time": "2023-02-21T16:13:17.332Z"
   },
   {
    "duration": 8,
    "start_time": "2023-02-21T16:13:24.797Z"
   },
   {
    "duration": 3,
    "start_time": "2023-02-21T16:13:28.823Z"
   },
   {
    "duration": 94,
    "start_time": "2023-02-21T16:13:28.827Z"
   },
   {
    "duration": 39,
    "start_time": "2023-02-21T16:13:28.923Z"
   },
   {
    "duration": 15,
    "start_time": "2023-02-21T16:13:28.963Z"
   },
   {
    "duration": 8,
    "start_time": "2023-02-21T16:13:28.980Z"
   },
   {
    "duration": 12,
    "start_time": "2023-02-21T16:13:28.990Z"
   },
   {
    "duration": 13,
    "start_time": "2023-02-21T16:13:29.004Z"
   },
   {
    "duration": 7,
    "start_time": "2023-02-21T16:13:29.019Z"
   },
   {
    "duration": 13,
    "start_time": "2023-02-21T16:13:29.028Z"
   },
   {
    "duration": 11,
    "start_time": "2023-02-21T16:13:29.043Z"
   },
   {
    "duration": 28,
    "start_time": "2023-02-21T16:13:29.055Z"
   },
   {
    "duration": 37,
    "start_time": "2023-02-21T16:13:29.084Z"
   },
   {
    "duration": 5,
    "start_time": "2023-02-21T16:13:29.127Z"
   },
   {
    "duration": 14,
    "start_time": "2023-02-21T16:13:29.134Z"
   },
   {
    "duration": 3,
    "start_time": "2023-02-21T16:13:29.149Z"
   },
   {
    "duration": 4,
    "start_time": "2023-02-21T16:13:29.154Z"
   },
   {
    "duration": 4,
    "start_time": "2023-02-21T16:13:29.160Z"
   },
   {
    "duration": 11,
    "start_time": "2023-02-21T16:13:29.165Z"
   },
   {
    "duration": 17,
    "start_time": "2023-02-21T16:13:29.177Z"
   },
   {
    "duration": 34,
    "start_time": "2023-02-21T16:13:29.196Z"
   },
   {
    "duration": 13,
    "start_time": "2023-02-21T16:13:29.232Z"
   },
   {
    "duration": 23,
    "start_time": "2023-02-21T16:13:29.247Z"
   },
   {
    "duration": 58,
    "start_time": "2023-02-21T16:13:29.272Z"
   },
   {
    "duration": 9,
    "start_time": "2023-02-21T16:13:29.332Z"
   },
   {
    "duration": 0,
    "start_time": "2023-02-21T16:13:29.343Z"
   },
   {
    "duration": 0,
    "start_time": "2023-02-21T16:13:29.344Z"
   },
   {
    "duration": 0,
    "start_time": "2023-02-21T16:13:29.345Z"
   },
   {
    "duration": 0,
    "start_time": "2023-02-21T16:13:29.346Z"
   },
   {
    "duration": 0,
    "start_time": "2023-02-21T16:13:29.347Z"
   },
   {
    "duration": 0,
    "start_time": "2023-02-21T16:13:29.348Z"
   },
   {
    "duration": 0,
    "start_time": "2023-02-21T16:13:29.349Z"
   },
   {
    "duration": 23,
    "start_time": "2023-02-21T16:15:17.705Z"
   },
   {
    "duration": 48,
    "start_time": "2023-02-21T16:15:35.312Z"
   },
   {
    "duration": 25,
    "start_time": "2023-02-21T16:15:39.512Z"
   },
   {
    "duration": 29,
    "start_time": "2023-02-21T16:15:54.617Z"
   },
   {
    "duration": 3,
    "start_time": "2023-02-21T16:16:04.860Z"
   },
   {
    "duration": 89,
    "start_time": "2023-02-21T16:16:04.865Z"
   },
   {
    "duration": 39,
    "start_time": "2023-02-21T16:16:04.955Z"
   },
   {
    "duration": 15,
    "start_time": "2023-02-21T16:16:04.996Z"
   },
   {
    "duration": 13,
    "start_time": "2023-02-21T16:16:05.014Z"
   },
   {
    "duration": 13,
    "start_time": "2023-02-21T16:16:05.029Z"
   },
   {
    "duration": 14,
    "start_time": "2023-02-21T16:16:05.044Z"
   },
   {
    "duration": 12,
    "start_time": "2023-02-21T16:16:05.059Z"
   },
   {
    "duration": 25,
    "start_time": "2023-02-21T16:16:05.072Z"
   },
   {
    "duration": 9,
    "start_time": "2023-02-21T16:16:05.099Z"
   },
   {
    "duration": 17,
    "start_time": "2023-02-21T16:16:05.110Z"
   },
   {
    "duration": 37,
    "start_time": "2023-02-21T16:16:05.129Z"
   },
   {
    "duration": 4,
    "start_time": "2023-02-21T16:16:05.168Z"
   },
   {
    "duration": 17,
    "start_time": "2023-02-21T16:16:05.175Z"
   },
   {
    "duration": 3,
    "start_time": "2023-02-21T16:16:05.193Z"
   },
   {
    "duration": 7,
    "start_time": "2023-02-21T16:16:05.197Z"
   },
   {
    "duration": 21,
    "start_time": "2023-02-21T16:16:05.205Z"
   },
   {
    "duration": 3,
    "start_time": "2023-02-21T16:16:05.228Z"
   },
   {
    "duration": 17,
    "start_time": "2023-02-21T16:16:05.232Z"
   },
   {
    "duration": 13,
    "start_time": "2023-02-21T16:16:05.251Z"
   },
   {
    "duration": 23,
    "start_time": "2023-02-21T16:16:05.265Z"
   },
   {
    "duration": 43,
    "start_time": "2023-02-21T16:16:05.290Z"
   },
   {
    "duration": 33,
    "start_time": "2023-02-21T16:16:05.335Z"
   },
   {
    "duration": 22,
    "start_time": "2023-02-21T16:16:05.370Z"
   },
   {
    "duration": 2,
    "start_time": "2023-02-21T16:16:05.394Z"
   },
   {
    "duration": 41,
    "start_time": "2023-02-21T16:16:05.428Z"
   },
   {
    "duration": 6,
    "start_time": "2023-02-21T16:16:05.470Z"
   },
   {
    "duration": 33,
    "start_time": "2023-02-21T16:16:05.477Z"
   },
   {
    "duration": 10,
    "start_time": "2023-02-21T16:16:05.512Z"
   },
   {
    "duration": 8,
    "start_time": "2023-02-21T16:16:05.527Z"
   },
   {
    "duration": 21,
    "start_time": "2023-02-21T16:16:05.537Z"
   },
   {
    "duration": 12,
    "start_time": "2023-02-21T16:16:05.560Z"
   },
   {
    "duration": 3,
    "start_time": "2023-02-21T16:18:02.285Z"
   },
   {
    "duration": 112,
    "start_time": "2023-02-21T16:18:02.290Z"
   },
   {
    "duration": 42,
    "start_time": "2023-02-21T16:18:02.403Z"
   },
   {
    "duration": 16,
    "start_time": "2023-02-21T16:18:02.447Z"
   },
   {
    "duration": 8,
    "start_time": "2023-02-21T16:18:02.465Z"
   },
   {
    "duration": 8,
    "start_time": "2023-02-21T16:18:02.475Z"
   },
   {
    "duration": 15,
    "start_time": "2023-02-21T16:18:02.484Z"
   },
   {
    "duration": 8,
    "start_time": "2023-02-21T16:18:02.501Z"
   },
   {
    "duration": 20,
    "start_time": "2023-02-21T16:18:02.511Z"
   },
   {
    "duration": 11,
    "start_time": "2023-02-21T16:18:02.534Z"
   },
   {
    "duration": 12,
    "start_time": "2023-02-21T16:18:02.547Z"
   },
   {
    "duration": 36,
    "start_time": "2023-02-21T16:18:02.561Z"
   },
   {
    "duration": 31,
    "start_time": "2023-02-21T16:18:02.599Z"
   },
   {
    "duration": 24,
    "start_time": "2023-02-21T16:18:02.632Z"
   },
   {
    "duration": 2,
    "start_time": "2023-02-21T16:18:02.658Z"
   },
   {
    "duration": 11,
    "start_time": "2023-02-21T16:18:02.662Z"
   },
   {
    "duration": 11,
    "start_time": "2023-02-21T16:18:02.675Z"
   },
   {
    "duration": 8,
    "start_time": "2023-02-21T16:18:02.688Z"
   },
   {
    "duration": 20,
    "start_time": "2023-02-21T16:18:02.697Z"
   },
   {
    "duration": 18,
    "start_time": "2023-02-21T16:18:02.719Z"
   },
   {
    "duration": 20,
    "start_time": "2023-02-21T16:18:02.739Z"
   },
   {
    "duration": 35,
    "start_time": "2023-02-21T16:18:02.761Z"
   },
   {
    "duration": 34,
    "start_time": "2023-02-21T16:18:02.798Z"
   },
   {
    "duration": 24,
    "start_time": "2023-02-21T16:18:02.834Z"
   },
   {
    "duration": 13,
    "start_time": "2023-02-21T16:18:02.860Z"
   },
   {
    "duration": 23,
    "start_time": "2023-02-21T16:18:02.875Z"
   },
   {
    "duration": 7,
    "start_time": "2023-02-21T16:18:02.899Z"
   },
   {
    "duration": 23,
    "start_time": "2023-02-21T16:18:02.908Z"
   },
   {
    "duration": 9,
    "start_time": "2023-02-21T16:18:02.933Z"
   },
   {
    "duration": 13,
    "start_time": "2023-02-21T16:18:02.944Z"
   },
   {
    "duration": 36,
    "start_time": "2023-02-21T16:18:02.959Z"
   },
   {
    "duration": 13,
    "start_time": "2023-02-21T16:18:02.996Z"
   },
   {
    "duration": 12,
    "start_time": "2023-02-21T16:18:29.763Z"
   },
   {
    "duration": 181,
    "start_time": "2023-02-21T16:18:51.792Z"
   },
   {
    "duration": 12,
    "start_time": "2023-02-21T16:19:13.826Z"
   },
   {
    "duration": 11,
    "start_time": "2023-02-21T16:19:25.199Z"
   },
   {
    "duration": 3,
    "start_time": "2023-02-21T16:19:38.828Z"
   },
   {
    "duration": 113,
    "start_time": "2023-02-21T16:19:38.833Z"
   },
   {
    "duration": 38,
    "start_time": "2023-02-21T16:19:38.948Z"
   },
   {
    "duration": 15,
    "start_time": "2023-02-21T16:19:38.988Z"
   },
   {
    "duration": 49,
    "start_time": "2023-02-21T16:19:39.005Z"
   },
   {
    "duration": 19,
    "start_time": "2023-02-21T16:19:39.056Z"
   },
   {
    "duration": 14,
    "start_time": "2023-02-21T16:19:39.077Z"
   },
   {
    "duration": 8,
    "start_time": "2023-02-21T16:19:39.093Z"
   },
   {
    "duration": 14,
    "start_time": "2023-02-21T16:19:39.103Z"
   },
   {
    "duration": 31,
    "start_time": "2023-02-21T16:19:39.119Z"
   },
   {
    "duration": 11,
    "start_time": "2023-02-21T16:19:39.152Z"
   },
   {
    "duration": 38,
    "start_time": "2023-02-21T16:19:39.165Z"
   },
   {
    "duration": 5,
    "start_time": "2023-02-21T16:19:39.205Z"
   },
   {
    "duration": 18,
    "start_time": "2023-02-21T16:19:39.211Z"
   },
   {
    "duration": 5,
    "start_time": "2023-02-21T16:19:39.231Z"
   },
   {
    "duration": 5,
    "start_time": "2023-02-21T16:19:39.238Z"
   },
   {
    "duration": 5,
    "start_time": "2023-02-21T16:19:39.244Z"
   },
   {
    "duration": 5,
    "start_time": "2023-02-21T16:19:39.250Z"
   },
   {
    "duration": 17,
    "start_time": "2023-02-21T16:19:39.256Z"
   },
   {
    "duration": 12,
    "start_time": "2023-02-21T16:19:39.274Z"
   },
   {
    "duration": 13,
    "start_time": "2023-02-21T16:19:39.287Z"
   },
   {
    "duration": 21,
    "start_time": "2023-02-21T16:19:39.328Z"
   },
   {
    "duration": 24,
    "start_time": "2023-02-21T16:19:39.351Z"
   },
   {
    "duration": 11,
    "start_time": "2023-02-21T16:19:39.377Z"
   },
   {
    "duration": 2,
    "start_time": "2023-02-21T16:19:39.390Z"
   },
   {
    "duration": 50,
    "start_time": "2023-02-21T16:19:39.394Z"
   },
   {
    "duration": 6,
    "start_time": "2023-02-21T16:19:39.445Z"
   },
   {
    "duration": 13,
    "start_time": "2023-02-21T16:19:39.454Z"
   },
   {
    "duration": 9,
    "start_time": "2023-02-21T16:19:39.469Z"
   },
   {
    "duration": 19,
    "start_time": "2023-02-21T16:19:39.480Z"
   },
   {
    "duration": 30,
    "start_time": "2023-02-21T16:19:39.501Z"
   },
   {
    "duration": 20,
    "start_time": "2023-02-21T16:19:39.532Z"
   },
   {
    "duration": 3,
    "start_time": "2023-02-21T16:20:11.731Z"
   },
   {
    "duration": 101,
    "start_time": "2023-02-21T16:20:11.736Z"
   },
   {
    "duration": 40,
    "start_time": "2023-02-21T16:20:11.838Z"
   },
   {
    "duration": 17,
    "start_time": "2023-02-21T16:20:11.880Z"
   },
   {
    "duration": 10,
    "start_time": "2023-02-21T16:20:11.899Z"
   },
   {
    "duration": 10,
    "start_time": "2023-02-21T16:20:11.911Z"
   },
   {
    "duration": 14,
    "start_time": "2023-02-21T16:20:11.923Z"
   },
   {
    "duration": 8,
    "start_time": "2023-02-21T16:20:11.939Z"
   },
   {
    "duration": 14,
    "start_time": "2023-02-21T16:20:11.949Z"
   },
   {
    "duration": 17,
    "start_time": "2023-02-21T16:20:11.965Z"
   },
   {
    "duration": 13,
    "start_time": "2023-02-21T16:20:11.984Z"
   },
   {
    "duration": 52,
    "start_time": "2023-02-21T16:20:11.999Z"
   },
   {
    "duration": 6,
    "start_time": "2023-02-21T16:20:12.053Z"
   },
   {
    "duration": 13,
    "start_time": "2023-02-21T16:20:12.061Z"
   },
   {
    "duration": 3,
    "start_time": "2023-02-21T16:20:12.076Z"
   },
   {
    "duration": 6,
    "start_time": "2023-02-21T16:20:12.081Z"
   },
   {
    "duration": 4,
    "start_time": "2023-02-21T16:20:12.088Z"
   },
   {
    "duration": 33,
    "start_time": "2023-02-21T16:20:12.094Z"
   },
   {
    "duration": 33,
    "start_time": "2023-02-21T16:20:12.129Z"
   },
   {
    "duration": 13,
    "start_time": "2023-02-21T16:20:12.164Z"
   },
   {
    "duration": 15,
    "start_time": "2023-02-21T16:20:12.178Z"
   },
   {
    "duration": 36,
    "start_time": "2023-02-21T16:20:12.195Z"
   },
   {
    "duration": 25,
    "start_time": "2023-02-21T16:20:12.233Z"
   },
   {
    "duration": 2,
    "start_time": "2023-02-21T16:20:12.260Z"
   },
   {
    "duration": 22,
    "start_time": "2023-02-21T16:20:12.264Z"
   },
   {
    "duration": 7,
    "start_time": "2023-02-21T16:20:12.287Z"
   },
   {
    "duration": 40,
    "start_time": "2023-02-21T16:20:12.295Z"
   },
   {
    "duration": 10,
    "start_time": "2023-02-21T16:20:12.337Z"
   },
   {
    "duration": 8,
    "start_time": "2023-02-21T16:20:12.348Z"
   },
   {
    "duration": 9,
    "start_time": "2023-02-21T16:20:12.357Z"
   },
   {
    "duration": 9,
    "start_time": "2023-02-21T16:20:12.367Z"
   },
   {
    "duration": 51,
    "start_time": "2023-02-21T16:20:12.378Z"
   },
   {
    "duration": 47,
    "start_time": "2023-02-21T16:20:51.000Z"
   },
   {
    "duration": 185,
    "start_time": "2023-02-21T16:20:58.685Z"
   },
   {
    "duration": 3,
    "start_time": "2023-02-21T16:21:02.202Z"
   },
   {
    "duration": 116,
    "start_time": "2023-02-21T16:21:02.207Z"
   },
   {
    "duration": 38,
    "start_time": "2023-02-21T16:21:02.326Z"
   },
   {
    "duration": 16,
    "start_time": "2023-02-21T16:21:02.366Z"
   },
   {
    "duration": 13,
    "start_time": "2023-02-21T16:21:02.383Z"
   },
   {
    "duration": 14,
    "start_time": "2023-02-21T16:21:02.398Z"
   },
   {
    "duration": 19,
    "start_time": "2023-02-21T16:21:02.413Z"
   },
   {
    "duration": 8,
    "start_time": "2023-02-21T16:21:02.434Z"
   },
   {
    "duration": 15,
    "start_time": "2023-02-21T16:21:02.443Z"
   },
   {
    "duration": 26,
    "start_time": "2023-02-21T16:21:02.461Z"
   },
   {
    "duration": 14,
    "start_time": "2023-02-21T16:21:02.489Z"
   },
   {
    "duration": 41,
    "start_time": "2023-02-21T16:21:02.505Z"
   },
   {
    "duration": 5,
    "start_time": "2023-02-21T16:21:02.548Z"
   },
   {
    "duration": 32,
    "start_time": "2023-02-21T16:21:02.555Z"
   },
   {
    "duration": 2,
    "start_time": "2023-02-21T16:21:02.590Z"
   },
   {
    "duration": 26,
    "start_time": "2023-02-21T16:21:02.594Z"
   },
   {
    "duration": 9,
    "start_time": "2023-02-21T16:21:02.622Z"
   },
   {
    "duration": 10,
    "start_time": "2023-02-21T16:21:02.633Z"
   },
   {
    "duration": 23,
    "start_time": "2023-02-21T16:21:02.644Z"
   },
   {
    "duration": 15,
    "start_time": "2023-02-21T16:21:02.668Z"
   },
   {
    "duration": 22,
    "start_time": "2023-02-21T16:21:02.685Z"
   },
   {
    "duration": 32,
    "start_time": "2023-02-21T16:21:02.709Z"
   },
   {
    "duration": 24,
    "start_time": "2023-02-21T16:21:02.742Z"
   },
   {
    "duration": 2,
    "start_time": "2023-02-21T16:21:02.768Z"
   },
   {
    "duration": 29,
    "start_time": "2023-02-21T16:21:02.771Z"
   },
   {
    "duration": 32,
    "start_time": "2023-02-21T16:21:02.802Z"
   },
   {
    "duration": 19,
    "start_time": "2023-02-21T16:21:02.836Z"
   },
   {
    "duration": 15,
    "start_time": "2023-02-21T16:21:02.859Z"
   },
   {
    "duration": 10,
    "start_time": "2023-02-21T16:21:02.876Z"
   },
   {
    "duration": 29,
    "start_time": "2023-02-21T16:21:02.888Z"
   },
   {
    "duration": 9,
    "start_time": "2023-02-21T16:21:02.928Z"
   },
   {
    "duration": 20,
    "start_time": "2023-02-21T16:21:02.939Z"
   },
   {
    "duration": 33,
    "start_time": "2023-02-21T16:22:03.694Z"
   },
   {
    "duration": 7,
    "start_time": "2023-02-21T16:23:33.552Z"
   },
   {
    "duration": 11,
    "start_time": "2023-02-21T16:23:39.746Z"
   },
   {
    "duration": 8,
    "start_time": "2023-02-21T16:24:15.399Z"
   },
   {
    "duration": 17,
    "start_time": "2023-02-21T16:26:33.437Z"
   },
   {
    "duration": 21,
    "start_time": "2023-02-21T16:26:36.621Z"
   },
   {
    "duration": 27,
    "start_time": "2023-02-21T16:28:34.002Z"
   },
   {
    "duration": 24,
    "start_time": "2023-02-21T16:30:12.314Z"
   },
   {
    "duration": 26,
    "start_time": "2023-02-21T16:31:08.605Z"
   },
   {
    "duration": 56,
    "start_time": "2023-02-21T16:34:49.902Z"
   },
   {
    "duration": 3,
    "start_time": "2023-02-21T16:34:55.181Z"
   },
   {
    "duration": 8,
    "start_time": "2023-02-21T16:35:07.363Z"
   },
   {
    "duration": 11,
    "start_time": "2023-02-21T16:35:17.161Z"
   },
   {
    "duration": 8,
    "start_time": "2023-02-21T16:35:22.601Z"
   },
   {
    "duration": 322,
    "start_time": "2023-02-21T16:35:29.097Z"
   },
   {
    "duration": 4,
    "start_time": "2023-02-21T16:39:31.939Z"
   },
   {
    "duration": 128,
    "start_time": "2023-02-21T16:39:31.945Z"
   },
   {
    "duration": 41,
    "start_time": "2023-02-21T16:39:32.075Z"
   },
   {
    "duration": 21,
    "start_time": "2023-02-21T16:39:32.118Z"
   },
   {
    "duration": 14,
    "start_time": "2023-02-21T16:39:32.141Z"
   },
   {
    "duration": 16,
    "start_time": "2023-02-21T16:39:32.156Z"
   },
   {
    "duration": 15,
    "start_time": "2023-02-21T16:39:32.174Z"
   },
   {
    "duration": 8,
    "start_time": "2023-02-21T16:39:32.191Z"
   },
   {
    "duration": 28,
    "start_time": "2023-02-21T16:39:32.200Z"
   },
   {
    "duration": 6,
    "start_time": "2023-02-21T16:39:32.230Z"
   },
   {
    "duration": 12,
    "start_time": "2023-02-21T16:39:32.237Z"
   },
   {
    "duration": 3,
    "start_time": "2023-02-21T16:39:32.251Z"
   },
   {
    "duration": 21,
    "start_time": "2023-02-21T16:39:32.255Z"
   },
   {
    "duration": 39,
    "start_time": "2023-02-21T16:39:32.277Z"
   },
   {
    "duration": 10,
    "start_time": "2023-02-21T16:39:32.318Z"
   },
   {
    "duration": 2,
    "start_time": "2023-02-21T16:39:32.561Z"
   },
   {
    "duration": 17,
    "start_time": "2023-02-21T16:39:32.566Z"
   },
   {
    "duration": 10,
    "start_time": "2023-02-21T16:39:32.586Z"
   },
   {
    "duration": 26,
    "start_time": "2023-02-21T16:39:32.598Z"
   },
   {
    "duration": 18,
    "start_time": "2023-02-21T16:39:32.626Z"
   },
   {
    "duration": 16,
    "start_time": "2023-02-21T16:39:32.646Z"
   },
   {
    "duration": 29,
    "start_time": "2023-02-21T16:39:32.665Z"
   },
   {
    "duration": 50,
    "start_time": "2023-02-21T16:39:32.696Z"
   },
   {
    "duration": 20,
    "start_time": "2023-02-21T16:39:32.748Z"
   },
   {
    "duration": 188,
    "start_time": "2023-02-21T16:39:32.770Z"
   },
   {
    "duration": 0,
    "start_time": "2023-02-21T16:39:32.960Z"
   },
   {
    "duration": 0,
    "start_time": "2023-02-21T16:39:32.961Z"
   },
   {
    "duration": 0,
    "start_time": "2023-02-21T16:39:32.963Z"
   },
   {
    "duration": 0,
    "start_time": "2023-02-21T16:39:32.964Z"
   },
   {
    "duration": 0,
    "start_time": "2023-02-21T16:39:32.965Z"
   },
   {
    "duration": 0,
    "start_time": "2023-02-21T16:39:32.966Z"
   },
   {
    "duration": 0,
    "start_time": "2023-02-21T16:39:32.967Z"
   },
   {
    "duration": 0,
    "start_time": "2023-02-21T16:39:32.969Z"
   },
   {
    "duration": 3,
    "start_time": "2023-02-21T16:40:03.553Z"
   },
   {
    "duration": 455,
    "start_time": "2023-02-21T16:40:04.397Z"
   },
   {
    "duration": 371,
    "start_time": "2023-02-21T16:40:14.431Z"
   },
   {
    "duration": 574,
    "start_time": "2023-02-21T16:40:26.890Z"
   },
   {
    "duration": 28,
    "start_time": "2023-02-21T16:40:36.507Z"
   },
   {
    "duration": 24,
    "start_time": "2023-02-21T16:40:47.602Z"
   },
   {
    "duration": 271,
    "start_time": "2023-02-21T16:40:58.257Z"
   },
   {
    "duration": 17,
    "start_time": "2023-02-21T16:41:18.379Z"
   },
   {
    "duration": 210,
    "start_time": "2023-02-21T16:41:20.314Z"
   },
   {
    "duration": 192,
    "start_time": "2023-02-21T16:41:37.173Z"
   },
   {
    "duration": 13,
    "start_time": "2023-02-21T16:42:21.800Z"
   },
   {
    "duration": 13,
    "start_time": "2023-02-21T16:42:37.647Z"
   },
   {
    "duration": 12,
    "start_time": "2023-02-21T16:42:54.927Z"
   },
   {
    "duration": 12,
    "start_time": "2023-02-21T16:43:08.921Z"
   },
   {
    "duration": 13,
    "start_time": "2023-02-21T16:43:24.312Z"
   },
   {
    "duration": 10,
    "start_time": "2023-02-21T16:43:46.038Z"
   },
   {
    "duration": 14,
    "start_time": "2023-02-21T16:44:31.753Z"
   },
   {
    "duration": 19,
    "start_time": "2023-02-21T16:44:55.324Z"
   },
   {
    "duration": 12,
    "start_time": "2023-02-21T16:45:05.855Z"
   },
   {
    "duration": 196,
    "start_time": "2023-02-21T16:45:49.813Z"
   },
   {
    "duration": 52,
    "start_time": "2023-02-21T16:46:40.475Z"
   },
   {
    "duration": 181,
    "start_time": "2023-02-21T16:46:45.969Z"
   },
   {
    "duration": 7,
    "start_time": "2023-02-21T16:46:56.967Z"
   },
   {
    "duration": 8,
    "start_time": "2023-02-21T16:47:11.152Z"
   },
   {
    "duration": 177,
    "start_time": "2023-02-21T16:47:54.268Z"
   },
   {
    "duration": 3,
    "start_time": "2023-02-21T16:48:03.254Z"
   },
   {
    "duration": 115,
    "start_time": "2023-02-21T16:48:03.262Z"
   },
   {
    "duration": 39,
    "start_time": "2023-02-21T16:48:03.379Z"
   },
   {
    "duration": 17,
    "start_time": "2023-02-21T16:48:03.420Z"
   },
   {
    "duration": 8,
    "start_time": "2023-02-21T16:48:03.439Z"
   },
   {
    "duration": 22,
    "start_time": "2023-02-21T16:48:03.449Z"
   },
   {
    "duration": 22,
    "start_time": "2023-02-21T16:48:03.473Z"
   },
   {
    "duration": 14,
    "start_time": "2023-02-21T16:48:03.497Z"
   },
   {
    "duration": 34,
    "start_time": "2023-02-21T16:48:03.513Z"
   },
   {
    "duration": 15,
    "start_time": "2023-02-21T16:48:03.549Z"
   },
   {
    "duration": 18,
    "start_time": "2023-02-21T16:48:03.566Z"
   },
   {
    "duration": 17,
    "start_time": "2023-02-21T16:48:03.585Z"
   },
   {
    "duration": 27,
    "start_time": "2023-02-21T16:48:03.604Z"
   },
   {
    "duration": 19,
    "start_time": "2023-02-21T16:48:03.633Z"
   },
   {
    "duration": 8,
    "start_time": "2023-02-21T16:48:03.656Z"
   },
   {
    "duration": 29,
    "start_time": "2023-02-21T16:48:03.665Z"
   },
   {
    "duration": 37,
    "start_time": "2023-02-21T16:48:03.696Z"
   },
   {
    "duration": 42,
    "start_time": "2023-02-21T16:48:03.735Z"
   },
   {
    "duration": 38,
    "start_time": "2023-02-21T16:48:03.779Z"
   },
   {
    "duration": 22,
    "start_time": "2023-02-21T16:48:03.819Z"
   },
   {
    "duration": 24,
    "start_time": "2023-02-21T16:48:03.843Z"
   },
   {
    "duration": 36,
    "start_time": "2023-02-21T16:48:03.869Z"
   },
   {
    "duration": 45,
    "start_time": "2023-02-21T16:48:03.907Z"
   },
   {
    "duration": 21,
    "start_time": "2023-02-21T16:48:03.954Z"
   },
   {
    "duration": 16,
    "start_time": "2023-02-21T16:48:03.977Z"
   },
   {
    "duration": 32,
    "start_time": "2023-02-21T16:48:03.995Z"
   },
   {
    "duration": 186,
    "start_time": "2023-02-21T16:48:04.029Z"
   },
   {
    "duration": 0,
    "start_time": "2023-02-21T16:48:04.217Z"
   },
   {
    "duration": 0,
    "start_time": "2023-02-21T16:48:04.219Z"
   },
   {
    "duration": 0,
    "start_time": "2023-02-21T16:48:04.220Z"
   },
   {
    "duration": 0,
    "start_time": "2023-02-21T16:48:04.222Z"
   },
   {
    "duration": 0,
    "start_time": "2023-02-21T16:48:04.223Z"
   },
   {
    "duration": 0,
    "start_time": "2023-02-21T16:48:04.224Z"
   },
   {
    "duration": 17,
    "start_time": "2023-02-21T16:48:24.543Z"
   },
   {
    "duration": 10,
    "start_time": "2023-02-21T16:48:54.297Z"
   },
   {
    "duration": 10,
    "start_time": "2023-02-21T16:49:29.323Z"
   },
   {
    "duration": 4,
    "start_time": "2023-02-21T16:49:39.154Z"
   },
   {
    "duration": 608,
    "start_time": "2023-02-21T16:49:41.491Z"
   },
   {
    "duration": 721,
    "start_time": "2023-02-21T16:50:01.453Z"
   },
   {
    "duration": 227,
    "start_time": "2023-02-21T16:50:27.375Z"
   },
   {
    "duration": 175,
    "start_time": "2023-02-21T16:51:03.920Z"
   },
   {
    "duration": 12,
    "start_time": "2023-02-21T16:51:19.854Z"
   },
   {
    "duration": 157,
    "start_time": "2023-02-21T16:51:52.155Z"
   },
   {
    "duration": 114,
    "start_time": "2023-02-21T16:52:15.620Z"
   },
   {
    "duration": 122,
    "start_time": "2023-02-21T16:52:27.432Z"
   },
   {
    "duration": 113,
    "start_time": "2023-02-21T16:52:34.303Z"
   },
   {
    "duration": 131,
    "start_time": "2023-02-21T16:53:01.596Z"
   },
   {
    "duration": 22,
    "start_time": "2023-02-21T16:53:43.382Z"
   },
   {
    "duration": 4,
    "start_time": "2023-02-21T16:54:04.690Z"
   },
   {
    "duration": 4,
    "start_time": "2023-02-21T16:54:52.131Z"
   },
   {
    "duration": 5,
    "start_time": "2023-02-21T16:54:57.982Z"
   },
   {
    "duration": 36,
    "start_time": "2023-02-21T16:55:30.657Z"
   },
   {
    "duration": 421,
    "start_time": "2023-02-22T12:05:29.167Z"
   },
   {
    "duration": 267,
    "start_time": "2023-02-22T12:05:29.589Z"
   },
   {
    "duration": 54,
    "start_time": "2023-02-22T12:05:29.858Z"
   },
   {
    "duration": 21,
    "start_time": "2023-02-22T12:05:29.915Z"
   },
   {
    "duration": 5,
    "start_time": "2023-02-22T12:05:29.937Z"
   },
   {
    "duration": 9,
    "start_time": "2023-02-22T12:05:29.944Z"
   },
   {
    "duration": 14,
    "start_time": "2023-02-22T12:05:29.954Z"
   },
   {
    "duration": 13,
    "start_time": "2023-02-22T12:05:29.969Z"
   },
   {
    "duration": 28,
    "start_time": "2023-02-22T12:05:29.983Z"
   },
   {
    "duration": 6,
    "start_time": "2023-02-22T12:05:30.014Z"
   },
   {
    "duration": 39,
    "start_time": "2023-02-22T12:05:30.021Z"
   },
   {
    "duration": 22,
    "start_time": "2023-02-22T12:05:30.062Z"
   },
   {
    "duration": 37,
    "start_time": "2023-02-22T12:05:30.086Z"
   },
   {
    "duration": 45,
    "start_time": "2023-02-22T12:05:30.125Z"
   },
   {
    "duration": 28,
    "start_time": "2023-02-22T12:05:30.172Z"
   },
   {
    "duration": 32,
    "start_time": "2023-02-22T12:05:30.202Z"
   },
   {
    "duration": 26,
    "start_time": "2023-02-22T12:05:30.236Z"
   },
   {
    "duration": 27,
    "start_time": "2023-02-22T12:05:30.264Z"
   },
   {
    "duration": 44,
    "start_time": "2023-02-22T12:05:30.294Z"
   },
   {
    "duration": 22,
    "start_time": "2023-02-22T12:05:30.340Z"
   },
   {
    "duration": 43,
    "start_time": "2023-02-22T12:05:30.363Z"
   },
   {
    "duration": 31,
    "start_time": "2023-02-22T12:05:30.408Z"
   },
   {
    "duration": 79,
    "start_time": "2023-02-22T12:05:30.441Z"
   },
   {
    "duration": 20,
    "start_time": "2023-02-22T12:05:30.522Z"
   },
   {
    "duration": 45,
    "start_time": "2023-02-22T12:05:30.543Z"
   },
   {
    "duration": 37,
    "start_time": "2023-02-22T12:05:30.590Z"
   },
   {
    "duration": 22,
    "start_time": "2023-02-22T12:05:30.629Z"
   },
   {
    "duration": 28,
    "start_time": "2023-02-22T12:05:30.653Z"
   },
   {
    "duration": 62,
    "start_time": "2023-02-22T12:05:30.682Z"
   },
   {
    "duration": 33,
    "start_time": "2023-02-22T12:05:30.746Z"
   },
   {
    "duration": 29,
    "start_time": "2023-02-22T12:05:30.781Z"
   },
   {
    "duration": 37,
    "start_time": "2023-02-22T12:05:30.812Z"
   },
   {
    "duration": 610,
    "start_time": "2023-02-22T12:10:04.202Z"
   },
   {
    "duration": 126,
    "start_time": "2023-02-22T12:10:18.377Z"
   },
   {
    "duration": 4,
    "start_time": "2023-02-22T12:11:52.385Z"
   },
   {
    "duration": 108,
    "start_time": "2023-02-22T12:11:52.390Z"
   },
   {
    "duration": 37,
    "start_time": "2023-02-22T12:11:52.500Z"
   },
   {
    "duration": 18,
    "start_time": "2023-02-22T12:11:52.538Z"
   },
   {
    "duration": 8,
    "start_time": "2023-02-22T12:11:52.557Z"
   },
   {
    "duration": 15,
    "start_time": "2023-02-22T12:11:52.567Z"
   },
   {
    "duration": 21,
    "start_time": "2023-02-22T12:11:52.584Z"
   },
   {
    "duration": 9,
    "start_time": "2023-02-22T12:11:52.607Z"
   },
   {
    "duration": 23,
    "start_time": "2023-02-22T12:11:52.617Z"
   },
   {
    "duration": 12,
    "start_time": "2023-02-22T12:11:52.641Z"
   },
   {
    "duration": 14,
    "start_time": "2023-02-22T12:11:52.654Z"
   },
   {
    "duration": 25,
    "start_time": "2023-02-22T12:11:52.669Z"
   },
   {
    "duration": 22,
    "start_time": "2023-02-22T12:11:52.695Z"
   },
   {
    "duration": 15,
    "start_time": "2023-02-22T12:11:52.719Z"
   },
   {
    "duration": 12,
    "start_time": "2023-02-22T12:11:52.736Z"
   },
   {
    "duration": 11,
    "start_time": "2023-02-22T12:11:52.749Z"
   },
   {
    "duration": 22,
    "start_time": "2023-02-22T12:11:52.761Z"
   },
   {
    "duration": 17,
    "start_time": "2023-02-22T12:11:52.785Z"
   },
   {
    "duration": 36,
    "start_time": "2023-02-22T12:11:52.803Z"
   },
   {
    "duration": 45,
    "start_time": "2023-02-22T12:11:52.840Z"
   },
   {
    "duration": 17,
    "start_time": "2023-02-22T12:11:52.887Z"
   },
   {
    "duration": 29,
    "start_time": "2023-02-22T12:11:52.906Z"
   },
   {
    "duration": 32,
    "start_time": "2023-02-22T12:11:52.936Z"
   },
   {
    "duration": 38,
    "start_time": "2023-02-22T12:11:52.972Z"
   },
   {
    "duration": 13,
    "start_time": "2023-02-22T12:11:53.012Z"
   },
   {
    "duration": 25,
    "start_time": "2023-02-22T12:11:53.027Z"
   },
   {
    "duration": 32,
    "start_time": "2023-02-22T12:11:53.054Z"
   },
   {
    "duration": 17,
    "start_time": "2023-02-22T12:11:53.088Z"
   },
   {
    "duration": 31,
    "start_time": "2023-02-22T12:11:53.107Z"
   },
   {
    "duration": 2,
    "start_time": "2023-02-22T12:11:53.140Z"
   },
   {
    "duration": 13,
    "start_time": "2023-02-22T12:13:07.630Z"
   },
   {
    "duration": 73343,
    "start_time": "2023-02-22T12:13:07.645Z"
   },
   {
    "duration": 26,
    "start_time": "2023-02-22T12:14:20.990Z"
   },
   {
    "duration": 44,
    "start_time": "2023-02-22T12:14:32.912Z"
   },
   {
    "duration": 131,
    "start_time": "2023-02-22T12:14:38.563Z"
   },
   {
    "duration": 11,
    "start_time": "2023-02-22T12:15:45.674Z"
   },
   {
    "duration": 105,
    "start_time": "2023-02-22T12:16:03.777Z"
   },
   {
    "duration": 141,
    "start_time": "2023-02-22T12:16:23.405Z"
   },
   {
    "duration": 139,
    "start_time": "2023-02-22T12:16:41.986Z"
   },
   {
    "duration": 9,
    "start_time": "2023-02-22T12:20:21.661Z"
   },
   {
    "duration": 14,
    "start_time": "2023-02-22T12:21:03.047Z"
   },
   {
    "duration": 31,
    "start_time": "2023-02-22T12:21:18.872Z"
   },
   {
    "duration": 21,
    "start_time": "2023-02-22T12:21:26.297Z"
   },
   {
    "duration": 10,
    "start_time": "2023-02-22T12:21:42.079Z"
   },
   {
    "duration": 19,
    "start_time": "2023-02-22T12:21:51.520Z"
   },
   {
    "duration": 15,
    "start_time": "2023-02-22T12:27:10.263Z"
   },
   {
    "duration": 14,
    "start_time": "2023-02-22T12:27:23.515Z"
   },
   {
    "duration": 14,
    "start_time": "2023-02-22T12:27:29.627Z"
   },
   {
    "duration": 14,
    "start_time": "2023-02-22T12:27:36.164Z"
   },
   {
    "duration": 5,
    "start_time": "2023-02-22T12:28:28.893Z"
   },
   {
    "duration": 5,
    "start_time": "2023-02-22T12:28:34.051Z"
   },
   {
    "duration": 4,
    "start_time": "2023-02-22T12:28:38.122Z"
   },
   {
    "duration": 5,
    "start_time": "2023-02-22T12:28:50.202Z"
   },
   {
    "duration": 6,
    "start_time": "2023-02-22T12:29:16.814Z"
   },
   {
    "duration": 5,
    "start_time": "2023-02-22T12:29:53.011Z"
   },
   {
    "duration": 6,
    "start_time": "2023-02-22T12:30:12.605Z"
   },
   {
    "duration": 7,
    "start_time": "2023-02-22T12:30:48.454Z"
   },
   {
    "duration": 21,
    "start_time": "2023-02-22T12:31:05.453Z"
   },
   {
    "duration": 11,
    "start_time": "2023-02-22T12:31:59.358Z"
   },
   {
    "duration": 8,
    "start_time": "2023-02-22T12:32:04.268Z"
   },
   {
    "duration": 9,
    "start_time": "2023-02-22T12:33:36.620Z"
   },
   {
    "duration": 7,
    "start_time": "2023-02-22T12:33:52.083Z"
   },
   {
    "duration": 19,
    "start_time": "2023-02-22T12:34:10.309Z"
   },
   {
    "duration": 7,
    "start_time": "2023-02-22T12:35:20.978Z"
   },
   {
    "duration": 20,
    "start_time": "2023-02-22T12:35:25.745Z"
   },
   {
    "duration": 3,
    "start_time": "2023-02-22T13:30:16.610Z"
   },
   {
    "duration": 120,
    "start_time": "2023-02-22T13:30:16.616Z"
   },
   {
    "duration": 36,
    "start_time": "2023-02-22T13:30:16.739Z"
   },
   {
    "duration": 19,
    "start_time": "2023-02-22T13:30:16.777Z"
   },
   {
    "duration": 5,
    "start_time": "2023-02-22T13:30:16.798Z"
   },
   {
    "duration": 9,
    "start_time": "2023-02-22T13:30:16.804Z"
   },
   {
    "duration": 14,
    "start_time": "2023-02-22T13:30:16.814Z"
   },
   {
    "duration": 7,
    "start_time": "2023-02-22T13:30:16.829Z"
   },
   {
    "duration": 13,
    "start_time": "2023-02-22T13:30:16.837Z"
   },
   {
    "duration": 5,
    "start_time": "2023-02-22T13:30:16.852Z"
   },
   {
    "duration": 15,
    "start_time": "2023-02-22T13:30:16.859Z"
   },
   {
    "duration": 2,
    "start_time": "2023-02-22T13:30:16.876Z"
   },
   {
    "duration": 30,
    "start_time": "2023-02-22T13:30:16.881Z"
   },
   {
    "duration": 17,
    "start_time": "2023-02-22T13:30:16.914Z"
   },
   {
    "duration": 3,
    "start_time": "2023-02-22T13:30:16.932Z"
   },
   {
    "duration": 12,
    "start_time": "2023-02-22T13:30:16.937Z"
   },
   {
    "duration": 5,
    "start_time": "2023-02-22T13:30:16.950Z"
   },
   {
    "duration": 6,
    "start_time": "2023-02-22T13:30:16.956Z"
   },
   {
    "duration": 17,
    "start_time": "2023-02-22T13:30:16.963Z"
   },
   {
    "duration": 29,
    "start_time": "2023-02-22T13:30:16.982Z"
   },
   {
    "duration": 12,
    "start_time": "2023-02-22T13:30:17.012Z"
   },
   {
    "duration": 14,
    "start_time": "2023-02-22T13:30:17.026Z"
   },
   {
    "duration": 23,
    "start_time": "2023-02-22T13:30:17.042Z"
   },
   {
    "duration": 51,
    "start_time": "2023-02-22T13:30:17.066Z"
   },
   {
    "duration": 9,
    "start_time": "2023-02-22T13:30:17.119Z"
   },
   {
    "duration": 15,
    "start_time": "2023-02-22T13:30:17.129Z"
   },
   {
    "duration": 12,
    "start_time": "2023-02-22T13:30:17.146Z"
   },
   {
    "duration": 12,
    "start_time": "2023-02-22T13:30:17.159Z"
   },
   {
    "duration": 18,
    "start_time": "2023-02-22T13:30:17.172Z"
   },
   {
    "duration": 20,
    "start_time": "2023-02-22T13:30:17.191Z"
   },
   {
    "duration": 150,
    "start_time": "2023-02-22T13:30:17.212Z"
   },
   {
    "duration": 9,
    "start_time": "2023-02-22T13:30:17.363Z"
   },
   {
    "duration": 11,
    "start_time": "2023-02-22T13:30:17.373Z"
   },
   {
    "duration": 10,
    "start_time": "2023-02-22T13:30:17.385Z"
   },
   {
    "duration": 15,
    "start_time": "2023-02-22T13:30:17.396Z"
   },
   {
    "duration": 14,
    "start_time": "2023-02-22T13:30:17.412Z"
   },
   {
    "duration": 8,
    "start_time": "2023-02-22T13:30:17.428Z"
   },
   {
    "duration": 20,
    "start_time": "2023-02-22T13:30:17.437Z"
   },
   {
    "duration": 10,
    "start_time": "2023-02-22T13:30:42.775Z"
   },
   {
    "duration": 19,
    "start_time": "2023-02-22T13:30:46.051Z"
   },
   {
    "duration": 7,
    "start_time": "2023-02-22T13:30:55.391Z"
   },
   {
    "duration": 19,
    "start_time": "2023-02-22T13:30:56.127Z"
   },
   {
    "duration": 7,
    "start_time": "2023-02-22T13:31:20.706Z"
   },
   {
    "duration": 23,
    "start_time": "2023-02-22T13:31:25.286Z"
   },
   {
    "duration": 3,
    "start_time": "2023-02-22T13:31:45.328Z"
   },
   {
    "duration": 88,
    "start_time": "2023-02-22T13:31:45.339Z"
   },
   {
    "duration": 35,
    "start_time": "2023-02-22T13:31:45.429Z"
   },
   {
    "duration": 16,
    "start_time": "2023-02-22T13:31:45.466Z"
   },
   {
    "duration": 19,
    "start_time": "2023-02-22T13:31:45.483Z"
   },
   {
    "duration": 17,
    "start_time": "2023-02-22T13:31:45.506Z"
   },
   {
    "duration": 43,
    "start_time": "2023-02-22T13:31:45.525Z"
   },
   {
    "duration": 8,
    "start_time": "2023-02-22T13:31:45.570Z"
   },
   {
    "duration": 32,
    "start_time": "2023-02-22T13:31:45.579Z"
   },
   {
    "duration": 14,
    "start_time": "2023-02-22T13:31:45.612Z"
   },
   {
    "duration": 18,
    "start_time": "2023-02-22T13:31:45.627Z"
   },
   {
    "duration": 5,
    "start_time": "2023-02-22T13:31:45.646Z"
   },
   {
    "duration": 14,
    "start_time": "2023-02-22T13:31:45.652Z"
   },
   {
    "duration": 17,
    "start_time": "2023-02-22T13:31:45.669Z"
   },
   {
    "duration": 3,
    "start_time": "2023-02-22T13:31:45.688Z"
   },
   {
    "duration": 8,
    "start_time": "2023-02-22T13:31:45.692Z"
   },
   {
    "duration": 4,
    "start_time": "2023-02-22T13:31:45.701Z"
   },
   {
    "duration": 7,
    "start_time": "2023-02-22T13:31:45.707Z"
   },
   {
    "duration": 33,
    "start_time": "2023-02-22T13:31:45.715Z"
   },
   {
    "duration": 12,
    "start_time": "2023-02-22T13:31:45.749Z"
   },
   {
    "duration": 13,
    "start_time": "2023-02-22T13:31:45.762Z"
   },
   {
    "duration": 15,
    "start_time": "2023-02-22T13:31:45.776Z"
   },
   {
    "duration": 39,
    "start_time": "2023-02-22T13:31:45.793Z"
   },
   {
    "duration": 29,
    "start_time": "2023-02-22T13:31:45.834Z"
   },
   {
    "duration": 6,
    "start_time": "2023-02-22T13:31:45.865Z"
   },
   {
    "duration": 29,
    "start_time": "2023-02-22T13:31:45.872Z"
   },
   {
    "duration": 10,
    "start_time": "2023-02-22T13:31:45.910Z"
   },
   {
    "duration": 14,
    "start_time": "2023-02-22T13:31:45.922Z"
   },
   {
    "duration": 36,
    "start_time": "2023-02-22T13:31:45.937Z"
   },
   {
    "duration": 21,
    "start_time": "2023-02-22T13:31:45.974Z"
   },
   {
    "duration": 148,
    "start_time": "2023-02-22T13:31:45.997Z"
   },
   {
    "duration": 8,
    "start_time": "2023-02-22T13:31:46.146Z"
   },
   {
    "duration": 9,
    "start_time": "2023-02-22T13:31:46.155Z"
   },
   {
    "duration": 16,
    "start_time": "2023-02-22T13:31:46.166Z"
   },
   {
    "duration": 7,
    "start_time": "2023-02-22T13:31:46.183Z"
   },
   {
    "duration": 17,
    "start_time": "2023-02-22T13:31:46.193Z"
   },
   {
    "duration": 7,
    "start_time": "2023-02-22T13:31:46.212Z"
   },
   {
    "duration": 20,
    "start_time": "2023-02-22T13:31:46.220Z"
   },
   {
    "duration": 8,
    "start_time": "2023-02-22T13:32:00.950Z"
   },
   {
    "duration": 7,
    "start_time": "2023-02-22T13:32:10.846Z"
   },
   {
    "duration": 5,
    "start_time": "2023-02-22T13:32:16.530Z"
   },
   {
    "duration": 6,
    "start_time": "2023-02-22T13:32:17.211Z"
   },
   {
    "duration": 5,
    "start_time": "2023-02-22T13:32:18.233Z"
   },
   {
    "duration": 8,
    "start_time": "2023-02-22T13:32:19.514Z"
   },
   {
    "duration": 20,
    "start_time": "2023-02-22T13:32:20.700Z"
   },
   {
    "duration": 8,
    "start_time": "2023-02-22T13:32:32.631Z"
   },
   {
    "duration": 6,
    "start_time": "2023-02-22T13:32:49.376Z"
   },
   {
    "duration": 20,
    "start_time": "2023-02-22T13:32:52.751Z"
   },
   {
    "duration": 8,
    "start_time": "2023-02-22T13:33:26.289Z"
   },
   {
    "duration": 19,
    "start_time": "2023-02-22T13:33:27.848Z"
   },
   {
    "duration": 3,
    "start_time": "2023-02-22T13:33:38.262Z"
   },
   {
    "duration": 99,
    "start_time": "2023-02-22T13:33:38.267Z"
   },
   {
    "duration": 35,
    "start_time": "2023-02-22T13:33:38.367Z"
   },
   {
    "duration": 14,
    "start_time": "2023-02-22T13:33:38.404Z"
   },
   {
    "duration": 3,
    "start_time": "2023-02-22T13:33:38.422Z"
   },
   {
    "duration": 7,
    "start_time": "2023-02-22T13:33:38.426Z"
   },
   {
    "duration": 13,
    "start_time": "2023-02-22T13:33:38.435Z"
   },
   {
    "duration": 7,
    "start_time": "2023-02-22T13:33:38.450Z"
   },
   {
    "duration": 13,
    "start_time": "2023-02-22T13:33:38.459Z"
   },
   {
    "duration": 37,
    "start_time": "2023-02-22T13:33:38.474Z"
   },
   {
    "duration": 9,
    "start_time": "2023-02-22T13:33:38.513Z"
   },
   {
    "duration": 2,
    "start_time": "2023-02-22T13:33:38.523Z"
   },
   {
    "duration": 11,
    "start_time": "2023-02-22T13:33:38.527Z"
   },
   {
    "duration": 10,
    "start_time": "2023-02-22T13:33:38.541Z"
   },
   {
    "duration": 8,
    "start_time": "2023-02-22T13:33:38.552Z"
   },
   {
    "duration": 6,
    "start_time": "2023-02-22T13:33:38.561Z"
   },
   {
    "duration": 6,
    "start_time": "2023-02-22T13:33:38.569Z"
   },
   {
    "duration": 5,
    "start_time": "2023-02-22T13:33:38.577Z"
   },
   {
    "duration": 34,
    "start_time": "2023-02-22T13:33:38.584Z"
   },
   {
    "duration": 13,
    "start_time": "2023-02-22T13:33:38.620Z"
   },
   {
    "duration": 13,
    "start_time": "2023-02-22T13:33:38.634Z"
   },
   {
    "duration": 14,
    "start_time": "2023-02-22T13:33:38.649Z"
   },
   {
    "duration": 60,
    "start_time": "2023-02-22T13:33:38.664Z"
   },
   {
    "duration": 19,
    "start_time": "2023-02-22T13:33:38.725Z"
   },
   {
    "duration": 10,
    "start_time": "2023-02-22T13:33:38.746Z"
   },
   {
    "duration": 12,
    "start_time": "2023-02-22T13:33:38.757Z"
   },
   {
    "duration": 9,
    "start_time": "2023-02-22T13:33:38.770Z"
   },
   {
    "duration": 34,
    "start_time": "2023-02-22T13:33:38.780Z"
   },
   {
    "duration": 23,
    "start_time": "2023-02-22T13:33:38.815Z"
   },
   {
    "duration": 4,
    "start_time": "2023-02-22T13:33:38.840Z"
   },
   {
    "duration": 10,
    "start_time": "2023-02-22T13:33:38.845Z"
   },
   {
    "duration": 7,
    "start_time": "2023-02-22T13:33:38.857Z"
   },
   {
    "duration": 6,
    "start_time": "2023-02-22T13:33:38.866Z"
   },
   {
    "duration": 7,
    "start_time": "2023-02-22T13:33:38.873Z"
   },
   {
    "duration": 34,
    "start_time": "2023-02-22T13:33:38.881Z"
   },
   {
    "duration": 9,
    "start_time": "2023-02-22T13:33:38.916Z"
   },
   {
    "duration": 24,
    "start_time": "2023-02-22T13:33:38.926Z"
   },
   {
    "duration": 5,
    "start_time": "2023-02-22T13:34:34.891Z"
   },
   {
    "duration": 19,
    "start_time": "2023-02-22T13:34:35.759Z"
   },
   {
    "duration": 4,
    "start_time": "2023-02-22T13:34:49.191Z"
   },
   {
    "duration": 20,
    "start_time": "2023-02-22T13:34:49.855Z"
   },
   {
    "duration": 4,
    "start_time": "2023-02-22T13:34:54.408Z"
   },
   {
    "duration": 93,
    "start_time": "2023-02-22T13:34:54.414Z"
   },
   {
    "duration": 36,
    "start_time": "2023-02-22T13:34:54.509Z"
   },
   {
    "duration": 14,
    "start_time": "2023-02-22T13:34:54.548Z"
   },
   {
    "duration": 16,
    "start_time": "2023-02-22T13:34:54.564Z"
   },
   {
    "duration": 15,
    "start_time": "2023-02-22T13:34:54.582Z"
   },
   {
    "duration": 13,
    "start_time": "2023-02-22T13:34:54.599Z"
   },
   {
    "duration": 20,
    "start_time": "2023-02-22T13:34:54.613Z"
   },
   {
    "duration": 14,
    "start_time": "2023-02-22T13:34:54.637Z"
   },
   {
    "duration": 13,
    "start_time": "2023-02-22T13:34:54.652Z"
   },
   {
    "duration": 10,
    "start_time": "2023-02-22T13:34:54.667Z"
   },
   {
    "duration": 8,
    "start_time": "2023-02-22T13:34:54.679Z"
   },
   {
    "duration": 16,
    "start_time": "2023-02-22T13:34:54.688Z"
   },
   {
    "duration": 19,
    "start_time": "2023-02-22T13:34:54.706Z"
   },
   {
    "duration": 4,
    "start_time": "2023-02-22T13:34:54.727Z"
   },
   {
    "duration": 7,
    "start_time": "2023-02-22T13:34:54.733Z"
   },
   {
    "duration": 4,
    "start_time": "2023-02-22T13:34:54.742Z"
   },
   {
    "duration": 15,
    "start_time": "2023-02-22T13:34:54.748Z"
   },
   {
    "duration": 18,
    "start_time": "2023-02-22T13:34:54.764Z"
   },
   {
    "duration": 12,
    "start_time": "2023-02-22T13:34:54.784Z"
   },
   {
    "duration": 34,
    "start_time": "2023-02-22T13:34:54.798Z"
   },
   {
    "duration": 34,
    "start_time": "2023-02-22T13:34:54.833Z"
   },
   {
    "duration": 27,
    "start_time": "2023-02-22T13:34:54.869Z"
   },
   {
    "duration": 22,
    "start_time": "2023-02-22T13:34:54.900Z"
   },
   {
    "duration": 8,
    "start_time": "2023-02-22T13:34:54.923Z"
   },
   {
    "duration": 11,
    "start_time": "2023-02-22T13:34:54.933Z"
   },
   {
    "duration": 10,
    "start_time": "2023-02-22T13:34:54.945Z"
   },
   {
    "duration": 27,
    "start_time": "2023-02-22T13:34:54.956Z"
   },
   {
    "duration": 28,
    "start_time": "2023-02-22T13:34:54.985Z"
   },
   {
    "duration": 15,
    "start_time": "2023-02-22T13:34:55.014Z"
   },
   {
    "duration": 14,
    "start_time": "2023-02-22T13:34:55.030Z"
   },
   {
    "duration": 15,
    "start_time": "2023-02-22T13:34:55.046Z"
   },
   {
    "duration": 5,
    "start_time": "2023-02-22T13:34:55.062Z"
   },
   {
    "duration": 13,
    "start_time": "2023-02-22T13:34:55.068Z"
   },
   {
    "duration": 8,
    "start_time": "2023-02-22T13:34:55.084Z"
   },
   {
    "duration": 4,
    "start_time": "2023-02-22T13:34:55.093Z"
   },
   {
    "duration": 52,
    "start_time": "2023-02-22T13:34:55.098Z"
   },
   {
    "duration": 4,
    "start_time": "2023-02-22T13:36:26.536Z"
   },
   {
    "duration": 7,
    "start_time": "2023-02-22T13:37:14.617Z"
   },
   {
    "duration": 5,
    "start_time": "2023-02-22T13:37:45.884Z"
   },
   {
    "duration": 3,
    "start_time": "2023-02-22T13:37:55.406Z"
   },
   {
    "duration": 109,
    "start_time": "2023-02-22T13:37:55.410Z"
   },
   {
    "duration": 36,
    "start_time": "2023-02-22T13:37:55.521Z"
   },
   {
    "duration": 16,
    "start_time": "2023-02-22T13:37:55.558Z"
   },
   {
    "duration": 3,
    "start_time": "2023-02-22T13:37:55.576Z"
   },
   {
    "duration": 9,
    "start_time": "2023-02-22T13:37:55.581Z"
   },
   {
    "duration": 11,
    "start_time": "2023-02-22T13:37:55.591Z"
   },
   {
    "duration": 13,
    "start_time": "2023-02-22T13:37:55.604Z"
   },
   {
    "duration": 21,
    "start_time": "2023-02-22T13:37:55.619Z"
   },
   {
    "duration": 9,
    "start_time": "2023-02-22T13:37:55.642Z"
   },
   {
    "duration": 12,
    "start_time": "2023-02-22T13:37:55.653Z"
   },
   {
    "duration": 3,
    "start_time": "2023-02-22T13:37:55.666Z"
   },
   {
    "duration": 7,
    "start_time": "2023-02-22T13:37:55.672Z"
   },
   {
    "duration": 12,
    "start_time": "2023-02-22T13:37:55.709Z"
   },
   {
    "duration": 3,
    "start_time": "2023-02-22T13:37:55.722Z"
   },
   {
    "duration": 5,
    "start_time": "2023-02-22T13:37:55.726Z"
   },
   {
    "duration": 5,
    "start_time": "2023-02-22T13:37:55.733Z"
   },
   {
    "duration": 6,
    "start_time": "2023-02-22T13:37:55.740Z"
   },
   {
    "duration": 18,
    "start_time": "2023-02-22T13:37:55.748Z"
   },
   {
    "duration": 43,
    "start_time": "2023-02-22T13:37:55.767Z"
   },
   {
    "duration": 13,
    "start_time": "2023-02-22T13:37:55.812Z"
   },
   {
    "duration": 15,
    "start_time": "2023-02-22T13:37:55.827Z"
   },
   {
    "duration": 29,
    "start_time": "2023-02-22T13:37:55.843Z"
   },
   {
    "duration": 63,
    "start_time": "2023-02-22T13:37:55.874Z"
   },
   {
    "duration": 10,
    "start_time": "2023-02-22T13:37:55.939Z"
   },
   {
    "duration": 13,
    "start_time": "2023-02-22T13:37:55.950Z"
   },
   {
    "duration": 9,
    "start_time": "2023-02-22T13:37:55.964Z"
   },
   {
    "duration": 36,
    "start_time": "2023-02-22T13:37:55.974Z"
   },
   {
    "duration": 16,
    "start_time": "2023-02-22T13:37:56.012Z"
   },
   {
    "duration": 3,
    "start_time": "2023-02-22T13:37:56.030Z"
   },
   {
    "duration": 11,
    "start_time": "2023-02-22T13:37:56.035Z"
   },
   {
    "duration": 7,
    "start_time": "2023-02-22T13:37:56.048Z"
   },
   {
    "duration": 6,
    "start_time": "2023-02-22T13:37:56.057Z"
   },
   {
    "duration": 5,
    "start_time": "2023-02-22T13:37:56.064Z"
   },
   {
    "duration": 54,
    "start_time": "2023-02-22T13:37:56.070Z"
   },
   {
    "duration": 10,
    "start_time": "2023-02-22T13:38:20.687Z"
   },
   {
    "duration": 11,
    "start_time": "2023-02-22T13:44:20.202Z"
   },
   {
    "duration": 10,
    "start_time": "2023-02-22T13:44:37.532Z"
   },
   {
    "duration": 7,
    "start_time": "2023-02-22T13:44:51.830Z"
   },
   {
    "duration": 3,
    "start_time": "2023-02-22T13:45:02.151Z"
   },
   {
    "duration": 98,
    "start_time": "2023-02-22T13:45:02.156Z"
   },
   {
    "duration": 38,
    "start_time": "2023-02-22T13:45:02.256Z"
   },
   {
    "duration": 16,
    "start_time": "2023-02-22T13:45:02.296Z"
   },
   {
    "duration": 19,
    "start_time": "2023-02-22T13:45:02.314Z"
   },
   {
    "duration": 10,
    "start_time": "2023-02-22T13:45:02.335Z"
   },
   {
    "duration": 11,
    "start_time": "2023-02-22T13:45:02.347Z"
   },
   {
    "duration": 57,
    "start_time": "2023-02-22T13:45:02.360Z"
   },
   {
    "duration": 23,
    "start_time": "2023-02-22T13:45:02.419Z"
   },
   {
    "duration": 15,
    "start_time": "2023-02-22T13:45:02.444Z"
   },
   {
    "duration": 37,
    "start_time": "2023-02-22T13:45:02.461Z"
   },
   {
    "duration": 30,
    "start_time": "2023-02-22T13:45:02.500Z"
   },
   {
    "duration": 14,
    "start_time": "2023-02-22T13:45:02.532Z"
   },
   {
    "duration": 12,
    "start_time": "2023-02-22T13:45:02.552Z"
   },
   {
    "duration": 4,
    "start_time": "2023-02-22T13:45:02.566Z"
   },
   {
    "duration": 9,
    "start_time": "2023-02-22T13:45:02.572Z"
   },
   {
    "duration": 4,
    "start_time": "2023-02-22T13:45:02.583Z"
   },
   {
    "duration": 6,
    "start_time": "2023-02-22T13:45:02.589Z"
   },
   {
    "duration": 21,
    "start_time": "2023-02-22T13:45:02.596Z"
   },
   {
    "duration": 13,
    "start_time": "2023-02-22T13:45:02.619Z"
   },
   {
    "duration": 17,
    "start_time": "2023-02-22T13:45:02.633Z"
   },
   {
    "duration": 25,
    "start_time": "2023-02-22T13:45:02.652Z"
   },
   {
    "duration": 49,
    "start_time": "2023-02-22T13:45:02.678Z"
   },
   {
    "duration": 19,
    "start_time": "2023-02-22T13:45:02.729Z"
   },
   {
    "duration": 16,
    "start_time": "2023-02-22T13:45:02.750Z"
   },
   {
    "duration": 25,
    "start_time": "2023-02-22T13:45:02.768Z"
   },
   {
    "duration": 8,
    "start_time": "2023-02-22T13:45:02.795Z"
   },
   {
    "duration": 9,
    "start_time": "2023-02-22T13:45:02.810Z"
   },
   {
    "duration": 20,
    "start_time": "2023-02-22T13:45:02.820Z"
   },
   {
    "duration": 7,
    "start_time": "2023-02-22T13:45:02.842Z"
   },
   {
    "duration": 9,
    "start_time": "2023-02-22T13:45:02.850Z"
   },
   {
    "duration": 20,
    "start_time": "2023-02-22T13:45:02.860Z"
   },
   {
    "duration": 9,
    "start_time": "2023-02-22T13:45:02.881Z"
   },
   {
    "duration": 5,
    "start_time": "2023-02-22T13:45:02.891Z"
   },
   {
    "duration": 18,
    "start_time": "2023-02-22T13:45:02.898Z"
   },
   {
    "duration": 3,
    "start_time": "2023-02-22T13:46:21.329Z"
   },
   {
    "duration": 336,
    "start_time": "2023-02-22T13:46:25.944Z"
   },
   {
    "duration": 920,
    "start_time": "2023-02-22T13:47:01.827Z"
   },
   {
    "duration": 25,
    "start_time": "2023-02-22T13:48:00.258Z"
   },
   {
    "duration": 13,
    "start_time": "2023-02-22T13:48:20.061Z"
   },
   {
    "duration": 11,
    "start_time": "2023-02-22T13:48:26.059Z"
   },
   {
    "duration": 24,
    "start_time": "2023-02-22T13:48:33.464Z"
   },
   {
    "duration": 14,
    "start_time": "2023-02-22T13:48:49.638Z"
   },
   {
    "duration": 3,
    "start_time": "2023-02-22T13:48:59.498Z"
   },
   {
    "duration": 105,
    "start_time": "2023-02-22T13:48:59.503Z"
   },
   {
    "duration": 37,
    "start_time": "2023-02-22T13:48:59.609Z"
   },
   {
    "duration": 15,
    "start_time": "2023-02-22T13:48:59.648Z"
   },
   {
    "duration": 7,
    "start_time": "2023-02-22T13:48:59.666Z"
   },
   {
    "duration": 17,
    "start_time": "2023-02-22T13:48:59.675Z"
   },
   {
    "duration": 16,
    "start_time": "2023-02-22T13:48:59.693Z"
   },
   {
    "duration": 7,
    "start_time": "2023-02-22T13:48:59.710Z"
   },
   {
    "duration": 14,
    "start_time": "2023-02-22T13:48:59.719Z"
   },
   {
    "duration": 8,
    "start_time": "2023-02-22T13:48:59.735Z"
   },
   {
    "duration": 13,
    "start_time": "2023-02-22T13:48:59.744Z"
   },
   {
    "duration": 7,
    "start_time": "2023-02-22T13:48:59.758Z"
   },
   {
    "duration": 7,
    "start_time": "2023-02-22T13:48:59.766Z"
   },
   {
    "duration": 34,
    "start_time": "2023-02-22T13:48:59.776Z"
   },
   {
    "duration": 5,
    "start_time": "2023-02-22T13:48:59.812Z"
   },
   {
    "duration": 7,
    "start_time": "2023-02-22T13:48:59.818Z"
   },
   {
    "duration": 4,
    "start_time": "2023-02-22T13:48:59.827Z"
   },
   {
    "duration": 14,
    "start_time": "2023-02-22T13:48:59.833Z"
   },
   {
    "duration": 20,
    "start_time": "2023-02-22T13:48:59.848Z"
   },
   {
    "duration": 12,
    "start_time": "2023-02-22T13:48:59.870Z"
   },
   {
    "duration": 32,
    "start_time": "2023-02-22T13:48:59.884Z"
   },
   {
    "duration": 14,
    "start_time": "2023-02-22T13:48:59.918Z"
   },
   {
    "duration": 31,
    "start_time": "2023-02-22T13:48:59.934Z"
   },
   {
    "duration": 50,
    "start_time": "2023-02-22T13:48:59.967Z"
   },
   {
    "duration": 7,
    "start_time": "2023-02-22T13:49:00.019Z"
   },
   {
    "duration": 32,
    "start_time": "2023-02-22T13:49:00.028Z"
   },
   {
    "duration": 18,
    "start_time": "2023-02-22T13:49:00.061Z"
   },
   {
    "duration": 24,
    "start_time": "2023-02-22T13:49:00.081Z"
   },
   {
    "duration": 39,
    "start_time": "2023-02-22T13:49:00.106Z"
   },
   {
    "duration": 58,
    "start_time": "2023-02-22T13:49:00.147Z"
   },
   {
    "duration": 17,
    "start_time": "2023-02-22T13:49:00.207Z"
   },
   {
    "duration": 34,
    "start_time": "2023-02-22T13:49:00.226Z"
   },
   {
    "duration": 20,
    "start_time": "2023-02-22T13:49:00.262Z"
   },
   {
    "duration": 32,
    "start_time": "2023-02-22T13:49:00.284Z"
   },
   {
    "duration": 39,
    "start_time": "2023-02-22T13:49:00.318Z"
   },
   {
    "duration": 51,
    "start_time": "2023-02-22T13:49:00.359Z"
   },
   {
    "duration": 986,
    "start_time": "2023-02-22T13:49:00.411Z"
   },
   {
    "duration": 903,
    "start_time": "2023-02-22T13:50:23.723Z"
   },
   {
    "duration": 4,
    "start_time": "2023-02-22T13:51:17.268Z"
   },
   {
    "duration": 22,
    "start_time": "2023-02-22T13:51:20.878Z"
   },
   {
    "duration": 5,
    "start_time": "2023-02-22T13:51:38.554Z"
   },
   {
    "duration": 21,
    "start_time": "2023-02-22T13:51:51.229Z"
   },
   {
    "duration": 5,
    "start_time": "2023-02-22T13:52:16.921Z"
   },
   {
    "duration": 5,
    "start_time": "2023-02-22T13:52:27.930Z"
   },
   {
    "duration": 5,
    "start_time": "2023-02-22T13:52:43.590Z"
   },
   {
    "duration": 5,
    "start_time": "2023-02-22T13:52:50.477Z"
   },
   {
    "duration": 6,
    "start_time": "2023-02-22T13:53:01.671Z"
   },
   {
    "duration": 6,
    "start_time": "2023-02-22T13:53:07.753Z"
   },
   {
    "duration": 29,
    "start_time": "2023-02-22T13:54:18.059Z"
   },
   {
    "duration": 4,
    "start_time": "2023-02-22T13:54:56.350Z"
   },
   {
    "duration": 3,
    "start_time": "2023-02-22T13:55:03.621Z"
   },
   {
    "duration": 4,
    "start_time": "2023-02-22T13:55:06.637Z"
   },
   {
    "duration": 4,
    "start_time": "2023-02-22T13:55:08.778Z"
   },
   {
    "duration": 4,
    "start_time": "2023-02-22T13:55:11.797Z"
   },
   {
    "duration": 4,
    "start_time": "2023-02-22T13:55:13.845Z"
   },
   {
    "duration": 3,
    "start_time": "2023-02-22T13:55:16.303Z"
   },
   {
    "duration": 11,
    "start_time": "2023-02-22T13:55:19.382Z"
   },
   {
    "duration": 4,
    "start_time": "2023-02-22T13:55:24.831Z"
   },
   {
    "duration": 5,
    "start_time": "2023-02-22T13:55:27.763Z"
   },
   {
    "duration": 3,
    "start_time": "2023-02-22T13:55:43.107Z"
   },
   {
    "duration": 6,
    "start_time": "2023-02-22T13:55:52.977Z"
   },
   {
    "duration": 5,
    "start_time": "2023-02-22T13:56:03.458Z"
   },
   {
    "duration": 6,
    "start_time": "2023-02-22T13:56:07.060Z"
   },
   {
    "duration": 5,
    "start_time": "2023-02-22T13:56:09.805Z"
   },
   {
    "duration": 4,
    "start_time": "2023-02-22T13:56:18.946Z"
   },
   {
    "duration": 4,
    "start_time": "2023-02-22T13:56:24.651Z"
   },
   {
    "duration": 4,
    "start_time": "2023-02-22T13:56:33.139Z"
   },
   {
    "duration": 4,
    "start_time": "2023-02-22T13:56:38.693Z"
   },
   {
    "duration": 4,
    "start_time": "2023-02-22T13:56:41.962Z"
   },
   {
    "duration": 4,
    "start_time": "2023-02-22T13:56:46.454Z"
   },
   {
    "duration": 7,
    "start_time": "2023-02-22T13:56:51.053Z"
   },
   {
    "duration": 4,
    "start_time": "2023-02-22T13:56:53.583Z"
   },
   {
    "duration": 177,
    "start_time": "2023-02-22T13:57:42.482Z"
   },
   {
    "duration": 7,
    "start_time": "2023-02-22T13:59:03.125Z"
   },
   {
    "duration": 4,
    "start_time": "2023-02-22T13:59:05.245Z"
   },
   {
    "duration": 6,
    "start_time": "2023-02-22T13:59:12.418Z"
   },
   {
    "duration": 19,
    "start_time": "2023-02-22T13:59:21.094Z"
   },
   {
    "duration": 18,
    "start_time": "2023-02-22T13:59:35.104Z"
   },
   {
    "duration": 9,
    "start_time": "2023-02-22T14:00:37.625Z"
   },
   {
    "duration": 8,
    "start_time": "2023-02-22T14:00:52.349Z"
   },
   {
    "duration": 20,
    "start_time": "2023-02-22T14:00:59.630Z"
   },
   {
    "duration": 669,
    "start_time": "2023-02-22T14:07:33.096Z"
   },
   {
    "duration": 14,
    "start_time": "2023-02-22T14:07:44.054Z"
   },
   {
    "duration": 6,
    "start_time": "2023-02-22T14:07:54.591Z"
   },
   {
    "duration": 5,
    "start_time": "2023-02-22T14:08:02.705Z"
   },
   {
    "duration": 5,
    "start_time": "2023-02-22T14:08:09.949Z"
   },
   {
    "duration": 7,
    "start_time": "2023-02-22T14:08:13.022Z"
   },
   {
    "duration": 6,
    "start_time": "2023-02-22T14:08:17.294Z"
   },
   {
    "duration": 6,
    "start_time": "2023-02-22T14:08:20.882Z"
   },
   {
    "duration": 6,
    "start_time": "2023-02-22T14:08:29.886Z"
   },
   {
    "duration": 5,
    "start_time": "2023-02-22T14:08:32.616Z"
   },
   {
    "duration": 5,
    "start_time": "2023-02-22T14:08:36.188Z"
   },
   {
    "duration": 5,
    "start_time": "2023-02-22T14:08:41.157Z"
   },
   {
    "duration": 6,
    "start_time": "2023-02-22T14:08:45.595Z"
   },
   {
    "duration": 5,
    "start_time": "2023-02-22T14:08:46.858Z"
   },
   {
    "duration": 5,
    "start_time": "2023-02-22T14:08:49.506Z"
   },
   {
    "duration": 5,
    "start_time": "2023-02-22T14:08:50.728Z"
   },
   {
    "duration": 5,
    "start_time": "2023-02-22T14:08:52.267Z"
   },
   {
    "duration": 5,
    "start_time": "2023-02-22T14:08:53.825Z"
   },
   {
    "duration": 5,
    "start_time": "2023-02-22T14:08:56.159Z"
   },
   {
    "duration": 5,
    "start_time": "2023-02-22T14:08:59.728Z"
   },
   {
    "duration": 7,
    "start_time": "2023-02-22T14:09:02.544Z"
   },
   {
    "duration": 5,
    "start_time": "2023-02-22T14:09:04.780Z"
   },
   {
    "duration": 5,
    "start_time": "2023-02-22T14:09:08.792Z"
   },
   {
    "duration": 6,
    "start_time": "2023-02-22T14:09:10.767Z"
   },
   {
    "duration": 5,
    "start_time": "2023-02-22T14:09:12.432Z"
   },
   {
    "duration": 5,
    "start_time": "2023-02-22T14:09:14.088Z"
   },
   {
    "duration": 6,
    "start_time": "2023-02-22T14:09:15.787Z"
   },
   {
    "duration": 7,
    "start_time": "2023-02-22T14:09:17.070Z"
   },
   {
    "duration": 6,
    "start_time": "2023-02-22T14:09:19.768Z"
   },
   {
    "duration": 761,
    "start_time": "2023-02-22T14:09:40.839Z"
   },
   {
    "duration": 9,
    "start_time": "2023-02-22T14:09:52.016Z"
   },
   {
    "duration": 9,
    "start_time": "2023-02-22T14:09:58.248Z"
   },
   {
    "duration": 9,
    "start_time": "2023-02-22T14:10:00.945Z"
   },
   {
    "duration": 9,
    "start_time": "2023-02-22T14:10:05.803Z"
   },
   {
    "duration": 9,
    "start_time": "2023-02-22T14:10:10.615Z"
   },
   {
    "duration": 9,
    "start_time": "2023-02-22T14:10:17.687Z"
   },
   {
    "duration": 8,
    "start_time": "2023-02-22T14:10:20.145Z"
   },
   {
    "duration": 10,
    "start_time": "2023-02-22T14:10:23.754Z"
   },
   {
    "duration": 9,
    "start_time": "2023-02-22T14:10:27.223Z"
   },
   {
    "duration": 9,
    "start_time": "2023-02-22T14:10:29.222Z"
   },
   {
    "duration": 9,
    "start_time": "2023-02-22T14:10:33.446Z"
   },
   {
    "duration": 8,
    "start_time": "2023-02-22T14:10:35.763Z"
   },
   {
    "duration": 9,
    "start_time": "2023-02-22T14:10:38.068Z"
   },
   {
    "duration": 8,
    "start_time": "2023-02-22T14:10:42.573Z"
   },
   {
    "duration": 13,
    "start_time": "2023-02-22T14:10:46.518Z"
   },
   {
    "duration": 9,
    "start_time": "2023-02-22T14:13:14.702Z"
   },
   {
    "duration": 10,
    "start_time": "2023-02-22T14:13:42.833Z"
   },
   {
    "duration": 9,
    "start_time": "2023-02-22T14:13:53.733Z"
   },
   {
    "duration": 4,
    "start_time": "2023-02-22T14:30:49.163Z"
   },
   {
    "duration": 5,
    "start_time": "2023-02-22T14:30:59.358Z"
   },
   {
    "duration": 18,
    "start_time": "2023-02-22T14:31:10.333Z"
   },
   {
    "duration": 23,
    "start_time": "2023-02-22T14:31:29.297Z"
   },
   {
    "duration": 9,
    "start_time": "2023-02-22T14:32:12.294Z"
   },
   {
    "duration": 346,
    "start_time": "2023-02-22T14:32:33.076Z"
   },
   {
    "duration": 365,
    "start_time": "2023-02-22T14:32:37.597Z"
   },
   {
    "duration": 10,
    "start_time": "2023-02-22T14:33:43.101Z"
   },
   {
    "duration": 9,
    "start_time": "2023-02-22T14:33:46.420Z"
   },
   {
    "duration": 9,
    "start_time": "2023-02-22T14:34:05.036Z"
   },
   {
    "duration": 9,
    "start_time": "2023-02-22T14:34:07.481Z"
   },
   {
    "duration": 4,
    "start_time": "2023-02-22T14:34:32.658Z"
   },
   {
    "duration": 9,
    "start_time": "2023-02-22T14:34:33.262Z"
   },
   {
    "duration": 13,
    "start_time": "2023-02-22T14:34:36.922Z"
   },
   {
    "duration": 9,
    "start_time": "2023-02-22T14:34:41.054Z"
   },
   {
    "duration": 721,
    "start_time": "2023-02-22T14:34:57.540Z"
   },
   {
    "duration": 721,
    "start_time": "2023-02-22T14:35:20.372Z"
   },
   {
    "duration": 96,
    "start_time": "2023-02-22T14:35:29.480Z"
   },
   {
    "duration": 86,
    "start_time": "2023-02-22T14:35:44.962Z"
   },
   {
    "duration": 9,
    "start_time": "2023-02-22T14:36:03.702Z"
   },
   {
    "duration": 8,
    "start_time": "2023-02-22T14:36:09.189Z"
   },
   {
    "duration": 9,
    "start_time": "2023-02-22T14:36:10.000Z"
   },
   {
    "duration": 9,
    "start_time": "2023-02-22T14:36:13.666Z"
   },
   {
    "duration": 9,
    "start_time": "2023-02-22T14:36:15.481Z"
   },
   {
    "duration": 12,
    "start_time": "2023-02-22T14:36:16.661Z"
   },
   {
    "duration": 9,
    "start_time": "2023-02-22T14:36:18.529Z"
   },
   {
    "duration": 9,
    "start_time": "2023-02-22T14:36:20.069Z"
   },
   {
    "duration": 9,
    "start_time": "2023-02-22T14:36:21.858Z"
   },
   {
    "duration": 8,
    "start_time": "2023-02-22T14:36:28.501Z"
   },
   {
    "duration": 9,
    "start_time": "2023-02-22T14:36:29.358Z"
   },
   {
    "duration": 9,
    "start_time": "2023-02-22T14:36:30.073Z"
   },
   {
    "duration": 9,
    "start_time": "2023-02-22T14:36:30.727Z"
   },
   {
    "duration": 9,
    "start_time": "2023-02-22T14:36:31.224Z"
   },
   {
    "duration": 117,
    "start_time": "2023-02-22T14:37:02.866Z"
   },
   {
    "duration": 66,
    "start_time": "2023-02-22T14:37:12.643Z"
   },
   {
    "duration": 3,
    "start_time": "2023-02-22T14:37:21.693Z"
   },
   {
    "duration": 118,
    "start_time": "2023-02-22T14:37:21.697Z"
   },
   {
    "duration": 40,
    "start_time": "2023-02-22T14:37:21.816Z"
   },
   {
    "duration": 16,
    "start_time": "2023-02-22T14:37:21.858Z"
   },
   {
    "duration": 4,
    "start_time": "2023-02-22T14:37:21.875Z"
   },
   {
    "duration": 10,
    "start_time": "2023-02-22T14:37:21.880Z"
   },
   {
    "duration": 12,
    "start_time": "2023-02-22T14:37:21.892Z"
   },
   {
    "duration": 8,
    "start_time": "2023-02-22T14:37:21.905Z"
   },
   {
    "duration": 37,
    "start_time": "2023-02-22T14:37:21.915Z"
   },
   {
    "duration": 8,
    "start_time": "2023-02-22T14:37:21.954Z"
   },
   {
    "duration": 14,
    "start_time": "2023-02-22T14:37:21.963Z"
   },
   {
    "duration": 3,
    "start_time": "2023-02-22T14:37:21.978Z"
   },
   {
    "duration": 7,
    "start_time": "2023-02-22T14:37:21.982Z"
   },
   {
    "duration": 16,
    "start_time": "2023-02-22T14:37:21.990Z"
   },
   {
    "duration": 2,
    "start_time": "2023-02-22T14:37:22.010Z"
   },
   {
    "duration": 5,
    "start_time": "2023-02-22T14:37:22.014Z"
   },
   {
    "duration": 16,
    "start_time": "2023-02-22T14:37:22.020Z"
   },
   {
    "duration": 8,
    "start_time": "2023-02-22T14:37:22.038Z"
   },
   {
    "duration": 26,
    "start_time": "2023-02-22T14:37:22.047Z"
   },
   {
    "duration": 11,
    "start_time": "2023-02-22T14:37:22.075Z"
   },
   {
    "duration": 11,
    "start_time": "2023-02-22T14:37:22.087Z"
   },
   {
    "duration": 20,
    "start_time": "2023-02-22T14:37:22.110Z"
   },
   {
    "duration": 24,
    "start_time": "2023-02-22T14:37:22.131Z"
   },
   {
    "duration": 23,
    "start_time": "2023-02-22T14:37:22.158Z"
   },
   {
    "duration": 55,
    "start_time": "2023-02-22T14:37:22.183Z"
   },
   {
    "duration": 0,
    "start_time": "2023-02-22T14:37:22.239Z"
   },
   {
    "duration": 0,
    "start_time": "2023-02-22T14:37:22.241Z"
   },
   {
    "duration": 0,
    "start_time": "2023-02-22T14:37:22.242Z"
   },
   {
    "duration": 0,
    "start_time": "2023-02-22T14:37:22.243Z"
   },
   {
    "duration": 0,
    "start_time": "2023-02-22T14:37:22.245Z"
   },
   {
    "duration": 0,
    "start_time": "2023-02-22T14:37:22.246Z"
   },
   {
    "duration": 0,
    "start_time": "2023-02-22T14:37:22.247Z"
   },
   {
    "duration": 0,
    "start_time": "2023-02-22T14:37:22.248Z"
   },
   {
    "duration": 0,
    "start_time": "2023-02-22T14:37:22.249Z"
   },
   {
    "duration": 0,
    "start_time": "2023-02-22T14:37:22.250Z"
   },
   {
    "duration": 0,
    "start_time": "2023-02-22T14:37:22.251Z"
   },
   {
    "duration": 0,
    "start_time": "2023-02-22T14:37:22.253Z"
   },
   {
    "duration": 0,
    "start_time": "2023-02-22T14:37:22.254Z"
   },
   {
    "duration": 0,
    "start_time": "2023-02-22T14:37:22.255Z"
   },
   {
    "duration": 0,
    "start_time": "2023-02-22T14:37:22.256Z"
   },
   {
    "duration": 0,
    "start_time": "2023-02-22T14:37:22.257Z"
   },
   {
    "duration": 7,
    "start_time": "2023-02-22T14:37:40.524Z"
   },
   {
    "duration": 7,
    "start_time": "2023-02-22T14:37:41.189Z"
   },
   {
    "duration": 12,
    "start_time": "2023-02-22T14:37:41.679Z"
   },
   {
    "duration": 4,
    "start_time": "2023-02-22T14:37:45.597Z"
   },
   {
    "duration": 78,
    "start_time": "2023-02-22T14:37:47.424Z"
   },
   {
    "duration": 35,
    "start_time": "2023-02-22T14:37:56.963Z"
   },
   {
    "duration": 11,
    "start_time": "2023-02-22T14:38:11.281Z"
   },
   {
    "duration": 3,
    "start_time": "2023-02-22T14:42:33.094Z"
   },
   {
    "duration": 109,
    "start_time": "2023-02-22T14:42:33.099Z"
   },
   {
    "duration": 46,
    "start_time": "2023-02-22T14:42:33.209Z"
   },
   {
    "duration": 15,
    "start_time": "2023-02-22T14:42:33.257Z"
   },
   {
    "duration": 4,
    "start_time": "2023-02-22T14:42:33.274Z"
   },
   {
    "duration": 8,
    "start_time": "2023-02-22T14:42:33.280Z"
   },
   {
    "duration": 15,
    "start_time": "2023-02-22T14:42:33.289Z"
   },
   {
    "duration": 8,
    "start_time": "2023-02-22T14:42:33.306Z"
   },
   {
    "duration": 27,
    "start_time": "2023-02-22T14:42:33.316Z"
   },
   {
    "duration": 8,
    "start_time": "2023-02-22T14:42:33.347Z"
   },
   {
    "duration": 9,
    "start_time": "2023-02-22T14:42:33.357Z"
   },
   {
    "duration": 2,
    "start_time": "2023-02-22T14:42:33.368Z"
   },
   {
    "duration": 8,
    "start_time": "2023-02-22T14:42:33.372Z"
   },
   {
    "duration": 12,
    "start_time": "2023-02-22T14:42:33.382Z"
   },
   {
    "duration": 4,
    "start_time": "2023-02-22T14:42:33.411Z"
   },
   {
    "duration": 17,
    "start_time": "2023-02-22T14:42:33.417Z"
   },
   {
    "duration": 10,
    "start_time": "2023-02-22T14:42:33.436Z"
   },
   {
    "duration": 5,
    "start_time": "2023-02-22T14:42:33.447Z"
   },
   {
    "duration": 18,
    "start_time": "2023-02-22T14:42:33.453Z"
   },
   {
    "duration": 11,
    "start_time": "2023-02-22T14:42:33.473Z"
   },
   {
    "duration": 17,
    "start_time": "2023-02-22T14:42:33.485Z"
   },
   {
    "duration": 20,
    "start_time": "2023-02-22T14:42:33.509Z"
   },
   {
    "duration": 26,
    "start_time": "2023-02-22T14:42:33.530Z"
   },
   {
    "duration": 20,
    "start_time": "2023-02-22T14:42:33.557Z"
   },
   {
    "duration": 66,
    "start_time": "2023-02-22T14:42:33.579Z"
   },
   {
    "duration": 0,
    "start_time": "2023-02-22T14:42:33.647Z"
   },
   {
    "duration": 0,
    "start_time": "2023-02-22T14:42:33.649Z"
   },
   {
    "duration": 0,
    "start_time": "2023-02-22T14:42:33.650Z"
   },
   {
    "duration": 0,
    "start_time": "2023-02-22T14:42:33.650Z"
   },
   {
    "duration": 0,
    "start_time": "2023-02-22T14:42:33.652Z"
   },
   {
    "duration": 0,
    "start_time": "2023-02-22T14:42:33.653Z"
   },
   {
    "duration": 0,
    "start_time": "2023-02-22T14:42:33.654Z"
   },
   {
    "duration": 0,
    "start_time": "2023-02-22T14:42:33.655Z"
   },
   {
    "duration": 0,
    "start_time": "2023-02-22T14:42:33.656Z"
   },
   {
    "duration": 0,
    "start_time": "2023-02-22T14:42:33.657Z"
   },
   {
    "duration": 0,
    "start_time": "2023-02-22T14:42:33.658Z"
   },
   {
    "duration": 0,
    "start_time": "2023-02-22T14:42:33.659Z"
   },
   {
    "duration": 0,
    "start_time": "2023-02-22T14:42:33.659Z"
   },
   {
    "duration": 0,
    "start_time": "2023-02-22T14:42:33.660Z"
   },
   {
    "duration": 0,
    "start_time": "2023-02-22T14:42:33.661Z"
   },
   {
    "duration": 0,
    "start_time": "2023-02-22T14:42:33.661Z"
   },
   {
    "duration": 0,
    "start_time": "2023-02-22T14:42:33.662Z"
   },
   {
    "duration": 0,
    "start_time": "2023-02-22T14:42:33.663Z"
   },
   {
    "duration": 3,
    "start_time": "2023-02-22T14:42:56.202Z"
   },
   {
    "duration": 123,
    "start_time": "2023-02-22T14:42:56.206Z"
   },
   {
    "duration": 34,
    "start_time": "2023-02-22T14:42:56.331Z"
   },
   {
    "duration": 17,
    "start_time": "2023-02-22T14:42:56.366Z"
   },
   {
    "duration": 4,
    "start_time": "2023-02-22T14:42:56.385Z"
   },
   {
    "duration": 10,
    "start_time": "2023-02-22T14:42:56.391Z"
   },
   {
    "duration": 19,
    "start_time": "2023-02-22T14:42:56.403Z"
   },
   {
    "duration": 13,
    "start_time": "2023-02-22T14:42:56.424Z"
   },
   {
    "duration": 14,
    "start_time": "2023-02-22T14:42:56.438Z"
   },
   {
    "duration": 5,
    "start_time": "2023-02-22T14:42:56.454Z"
   },
   {
    "duration": 18,
    "start_time": "2023-02-22T14:42:56.462Z"
   },
   {
    "duration": 2,
    "start_time": "2023-02-22T14:42:56.482Z"
   },
   {
    "duration": 26,
    "start_time": "2023-02-22T14:42:56.486Z"
   },
   {
    "duration": 23,
    "start_time": "2023-02-22T14:42:56.514Z"
   },
   {
    "duration": 3,
    "start_time": "2023-02-22T14:42:56.538Z"
   },
   {
    "duration": 6,
    "start_time": "2023-02-22T14:42:56.543Z"
   },
   {
    "duration": 6,
    "start_time": "2023-02-22T14:42:56.550Z"
   },
   {
    "duration": 4,
    "start_time": "2023-02-22T14:42:56.558Z"
   },
   {
    "duration": 17,
    "start_time": "2023-02-22T14:42:56.563Z"
   },
   {
    "duration": 12,
    "start_time": "2023-02-22T14:42:56.582Z"
   },
   {
    "duration": 14,
    "start_time": "2023-02-22T14:42:56.610Z"
   },
   {
    "duration": 21,
    "start_time": "2023-02-22T14:42:56.626Z"
   },
   {
    "duration": 25,
    "start_time": "2023-02-22T14:42:56.648Z"
   },
   {
    "duration": 54,
    "start_time": "2023-02-22T14:42:56.675Z"
   },
   {
    "duration": 38,
    "start_time": "2023-02-22T14:42:56.731Z"
   },
   {
    "duration": 0,
    "start_time": "2023-02-22T14:42:56.771Z"
   },
   {
    "duration": 0,
    "start_time": "2023-02-22T14:42:56.772Z"
   },
   {
    "duration": 0,
    "start_time": "2023-02-22T14:42:56.773Z"
   },
   {
    "duration": 0,
    "start_time": "2023-02-22T14:42:56.774Z"
   },
   {
    "duration": 0,
    "start_time": "2023-02-22T14:42:56.775Z"
   },
   {
    "duration": 0,
    "start_time": "2023-02-22T14:42:56.776Z"
   },
   {
    "duration": 0,
    "start_time": "2023-02-22T14:42:56.777Z"
   },
   {
    "duration": 0,
    "start_time": "2023-02-22T14:42:56.778Z"
   },
   {
    "duration": 0,
    "start_time": "2023-02-22T14:42:56.779Z"
   },
   {
    "duration": 0,
    "start_time": "2023-02-22T14:42:56.780Z"
   },
   {
    "duration": 0,
    "start_time": "2023-02-22T14:42:56.781Z"
   },
   {
    "duration": 0,
    "start_time": "2023-02-22T14:42:56.782Z"
   },
   {
    "duration": 0,
    "start_time": "2023-02-22T14:42:56.783Z"
   },
   {
    "duration": 0,
    "start_time": "2023-02-22T14:42:56.784Z"
   },
   {
    "duration": 1,
    "start_time": "2023-02-22T14:42:56.784Z"
   },
   {
    "duration": 0,
    "start_time": "2023-02-22T14:42:56.785Z"
   },
   {
    "duration": 0,
    "start_time": "2023-02-22T14:42:56.786Z"
   },
   {
    "duration": 0,
    "start_time": "2023-02-22T14:42:56.787Z"
   },
   {
    "duration": 3,
    "start_time": "2023-02-22T14:43:14.869Z"
   },
   {
    "duration": 98,
    "start_time": "2023-02-22T14:43:14.873Z"
   },
   {
    "duration": 36,
    "start_time": "2023-02-22T14:43:15.551Z"
   },
   {
    "duration": 15,
    "start_time": "2023-02-22T14:43:15.588Z"
   },
   {
    "duration": 5,
    "start_time": "2023-02-22T14:43:15.604Z"
   },
   {
    "duration": 19,
    "start_time": "2023-02-22T14:43:15.611Z"
   },
   {
    "duration": 11,
    "start_time": "2023-02-22T14:43:15.633Z"
   },
   {
    "duration": 8,
    "start_time": "2023-02-22T14:43:15.646Z"
   },
   {
    "duration": 14,
    "start_time": "2023-02-22T14:43:15.655Z"
   },
   {
    "duration": 12,
    "start_time": "2023-02-22T14:43:15.670Z"
   },
   {
    "duration": 26,
    "start_time": "2023-02-22T14:43:15.684Z"
   },
   {
    "duration": 3,
    "start_time": "2023-02-22T14:43:15.711Z"
   },
   {
    "duration": 20,
    "start_time": "2023-02-22T14:43:15.715Z"
   },
   {
    "duration": 20,
    "start_time": "2023-02-22T14:43:15.736Z"
   },
   {
    "duration": 3,
    "start_time": "2023-02-22T14:43:15.757Z"
   },
   {
    "duration": 3,
    "start_time": "2023-02-22T14:43:15.763Z"
   },
   {
    "duration": 5,
    "start_time": "2023-02-22T14:43:15.768Z"
   },
   {
    "duration": 5,
    "start_time": "2023-02-22T14:43:15.774Z"
   },
   {
    "duration": 17,
    "start_time": "2023-02-22T14:43:15.780Z"
   },
   {
    "duration": 14,
    "start_time": "2023-02-22T14:43:15.799Z"
   },
   {
    "duration": 21,
    "start_time": "2023-02-22T14:43:15.814Z"
   },
   {
    "duration": 15,
    "start_time": "2023-02-22T14:43:15.837Z"
   },
   {
    "duration": 24,
    "start_time": "2023-02-22T14:43:15.853Z"
   },
   {
    "duration": 53,
    "start_time": "2023-02-22T14:43:15.879Z"
   },
   {
    "duration": 209,
    "start_time": "2023-02-22T14:43:15.934Z"
   },
   {
    "duration": 0,
    "start_time": "2023-02-22T14:43:16.145Z"
   },
   {
    "duration": 0,
    "start_time": "2023-02-22T14:43:16.146Z"
   },
   {
    "duration": 0,
    "start_time": "2023-02-22T14:43:16.147Z"
   },
   {
    "duration": 0,
    "start_time": "2023-02-22T14:43:16.149Z"
   },
   {
    "duration": 0,
    "start_time": "2023-02-22T14:43:16.150Z"
   },
   {
    "duration": 0,
    "start_time": "2023-02-22T14:43:16.152Z"
   },
   {
    "duration": 0,
    "start_time": "2023-02-22T14:43:16.153Z"
   },
   {
    "duration": 0,
    "start_time": "2023-02-22T14:43:16.154Z"
   },
   {
    "duration": 0,
    "start_time": "2023-02-22T14:43:16.155Z"
   },
   {
    "duration": 0,
    "start_time": "2023-02-22T14:43:16.157Z"
   },
   {
    "duration": 0,
    "start_time": "2023-02-22T14:43:16.158Z"
   },
   {
    "duration": 1,
    "start_time": "2023-02-22T14:43:16.159Z"
   },
   {
    "duration": 0,
    "start_time": "2023-02-22T14:43:16.161Z"
   },
   {
    "duration": 0,
    "start_time": "2023-02-22T14:43:16.162Z"
   },
   {
    "duration": 0,
    "start_time": "2023-02-22T14:43:16.163Z"
   },
   {
    "duration": 0,
    "start_time": "2023-02-22T14:43:16.165Z"
   },
   {
    "duration": 0,
    "start_time": "2023-02-22T14:43:16.166Z"
   },
   {
    "duration": 0,
    "start_time": "2023-02-22T14:43:16.167Z"
   },
   {
    "duration": 2,
    "start_time": "2023-02-22T14:43:52.976Z"
   },
   {
    "duration": 104,
    "start_time": "2023-02-22T14:43:52.981Z"
   },
   {
    "duration": 36,
    "start_time": "2023-02-22T14:43:53.086Z"
   },
   {
    "duration": 15,
    "start_time": "2023-02-22T14:43:53.124Z"
   },
   {
    "duration": 4,
    "start_time": "2023-02-22T14:43:53.141Z"
   },
   {
    "duration": 7,
    "start_time": "2023-02-22T14:43:53.146Z"
   },
   {
    "duration": 13,
    "start_time": "2023-02-22T14:43:53.154Z"
   },
   {
    "duration": 7,
    "start_time": "2023-02-22T14:43:53.169Z"
   },
   {
    "duration": 40,
    "start_time": "2023-02-22T14:43:53.178Z"
   },
   {
    "duration": 13,
    "start_time": "2023-02-22T14:43:53.220Z"
   },
   {
    "duration": 11,
    "start_time": "2023-02-22T14:43:53.235Z"
   },
   {
    "duration": 3,
    "start_time": "2023-02-22T14:43:53.248Z"
   },
   {
    "duration": 7,
    "start_time": "2023-02-22T14:43:53.252Z"
   },
   {
    "duration": 21,
    "start_time": "2023-02-22T14:43:53.261Z"
   },
   {
    "duration": 3,
    "start_time": "2023-02-22T14:43:53.283Z"
   },
   {
    "duration": 11,
    "start_time": "2023-02-22T14:43:53.288Z"
   },
   {
    "duration": 11,
    "start_time": "2023-02-22T14:43:53.300Z"
   },
   {
    "duration": 8,
    "start_time": "2023-02-22T14:43:53.312Z"
   },
   {
    "duration": 42,
    "start_time": "2023-02-22T14:43:53.321Z"
   },
   {
    "duration": 12,
    "start_time": "2023-02-22T14:43:53.364Z"
   },
   {
    "duration": 15,
    "start_time": "2023-02-22T14:43:53.377Z"
   },
   {
    "duration": 18,
    "start_time": "2023-02-22T14:43:53.394Z"
   },
   {
    "duration": 24,
    "start_time": "2023-02-22T14:43:53.413Z"
   },
   {
    "duration": 19,
    "start_time": "2023-02-22T14:43:53.438Z"
   },
   {
    "duration": 6,
    "start_time": "2023-02-22T14:43:53.458Z"
   },
   {
    "duration": 14,
    "start_time": "2023-02-22T14:43:53.466Z"
   },
   {
    "duration": 34,
    "start_time": "2023-02-22T14:43:53.481Z"
   },
   {
    "duration": 8,
    "start_time": "2023-02-22T14:43:53.518Z"
   },
   {
    "duration": 17,
    "start_time": "2023-02-22T14:43:53.528Z"
   },
   {
    "duration": 8,
    "start_time": "2023-02-22T14:43:53.547Z"
   },
   {
    "duration": 6,
    "start_time": "2023-02-22T14:43:53.556Z"
   },
   {
    "duration": 9,
    "start_time": "2023-02-22T14:43:53.563Z"
   },
   {
    "duration": 37,
    "start_time": "2023-02-22T14:43:53.573Z"
   },
   {
    "duration": 7,
    "start_time": "2023-02-22T14:43:53.612Z"
   },
   {
    "duration": 3,
    "start_time": "2023-02-22T14:43:53.621Z"
   },
   {
    "duration": 807,
    "start_time": "2023-02-22T14:43:53.626Z"
   },
   {
    "duration": 5,
    "start_time": "2023-02-22T14:43:54.434Z"
   },
   {
    "duration": 9,
    "start_time": "2023-02-22T14:43:54.440Z"
   },
   {
    "duration": 7,
    "start_time": "2023-02-22T14:43:54.451Z"
   },
   {
    "duration": 14,
    "start_time": "2023-02-22T14:43:54.459Z"
   },
   {
    "duration": 4,
    "start_time": "2023-02-22T14:43:54.474Z"
   },
   {
    "duration": 110,
    "start_time": "2023-02-22T14:43:54.479Z"
   },
   {
    "duration": 20,
    "start_time": "2023-02-22T14:43:54.590Z"
   },
   {
    "duration": 18,
    "start_time": "2023-02-22T14:45:16.820Z"
   },
   {
    "duration": 13,
    "start_time": "2023-02-22T14:47:36.698Z"
   },
   {
    "duration": 3,
    "start_time": "2023-02-22T14:48:03.725Z"
   },
   {
    "duration": 97,
    "start_time": "2023-02-22T14:48:03.734Z"
   },
   {
    "duration": 34,
    "start_time": "2023-02-22T14:48:03.833Z"
   },
   {
    "duration": 14,
    "start_time": "2023-02-22T14:48:03.869Z"
   },
   {
    "duration": 4,
    "start_time": "2023-02-22T14:48:03.885Z"
   },
   {
    "duration": 12,
    "start_time": "2023-02-22T14:48:03.890Z"
   },
   {
    "duration": 13,
    "start_time": "2023-02-22T14:48:03.903Z"
   },
   {
    "duration": 7,
    "start_time": "2023-02-22T14:48:03.918Z"
   },
   {
    "duration": 14,
    "start_time": "2023-02-22T14:48:03.927Z"
   },
   {
    "duration": 6,
    "start_time": "2023-02-22T14:48:04.307Z"
   },
   {
    "duration": 10,
    "start_time": "2023-02-22T14:48:04.315Z"
   },
   {
    "duration": 6,
    "start_time": "2023-02-22T14:48:04.326Z"
   },
   {
    "duration": 6,
    "start_time": "2023-02-22T14:48:04.333Z"
   },
   {
    "duration": 13,
    "start_time": "2023-02-22T14:48:04.341Z"
   },
   {
    "duration": 3,
    "start_time": "2023-02-22T14:48:04.355Z"
   },
   {
    "duration": 4,
    "start_time": "2023-02-22T14:48:04.360Z"
   },
   {
    "duration": 8,
    "start_time": "2023-02-22T14:48:04.366Z"
   },
   {
    "duration": 4,
    "start_time": "2023-02-22T14:48:04.375Z"
   },
   {
    "duration": 42,
    "start_time": "2023-02-22T14:48:04.380Z"
   },
   {
    "duration": 12,
    "start_time": "2023-02-22T14:48:04.424Z"
   },
   {
    "duration": 11,
    "start_time": "2023-02-22T14:48:04.437Z"
   },
   {
    "duration": 19,
    "start_time": "2023-02-22T14:48:04.450Z"
   },
   {
    "duration": 52,
    "start_time": "2023-02-22T14:48:04.472Z"
   },
   {
    "duration": 20,
    "start_time": "2023-02-22T14:48:04.526Z"
   },
   {
    "duration": 6,
    "start_time": "2023-02-22T14:48:04.548Z"
   },
   {
    "duration": 12,
    "start_time": "2023-02-22T14:48:04.555Z"
   },
   {
    "duration": 6,
    "start_time": "2023-02-22T14:48:04.569Z"
   },
   {
    "duration": 38,
    "start_time": "2023-02-22T14:48:04.577Z"
   },
   {
    "duration": 17,
    "start_time": "2023-02-22T14:48:04.616Z"
   },
   {
    "duration": 11,
    "start_time": "2023-02-22T14:48:04.635Z"
   },
   {
    "duration": 7,
    "start_time": "2023-02-22T14:48:04.648Z"
   },
   {
    "duration": 7,
    "start_time": "2023-02-22T14:48:04.657Z"
   },
   {
    "duration": 46,
    "start_time": "2023-02-22T14:48:04.665Z"
   },
   {
    "duration": 5,
    "start_time": "2023-02-22T14:48:04.712Z"
   },
   {
    "duration": 9,
    "start_time": "2023-02-22T14:48:04.719Z"
   },
   {
    "duration": 3,
    "start_time": "2023-02-22T14:48:04.729Z"
   },
   {
    "duration": 1791,
    "start_time": "2023-02-22T14:48:04.734Z"
   },
   {
    "duration": 5,
    "start_time": "2023-02-22T14:48:06.527Z"
   },
   {
    "duration": 18,
    "start_time": "2023-02-22T14:48:06.533Z"
   },
   {
    "duration": 27,
    "start_time": "2023-02-22T14:48:06.552Z"
   },
   {
    "duration": 24,
    "start_time": "2023-02-22T14:48:06.581Z"
   },
   {
    "duration": 6,
    "start_time": "2023-02-22T14:48:06.607Z"
   },
   {
    "duration": 89,
    "start_time": "2023-02-22T14:48:06.616Z"
   },
   {
    "duration": 17,
    "start_time": "2023-02-22T14:48:06.709Z"
   },
   {
    "duration": 2,
    "start_time": "2023-02-22T14:48:39.443Z"
   },
   {
    "duration": 89,
    "start_time": "2023-02-22T14:48:39.455Z"
   },
   {
    "duration": 35,
    "start_time": "2023-02-22T14:48:39.546Z"
   },
   {
    "duration": 14,
    "start_time": "2023-02-22T14:48:39.583Z"
   },
   {
    "duration": 5,
    "start_time": "2023-02-22T14:48:39.598Z"
   },
   {
    "duration": 7,
    "start_time": "2023-02-22T14:48:39.605Z"
   },
   {
    "duration": 12,
    "start_time": "2023-02-22T14:48:39.613Z"
   },
   {
    "duration": 7,
    "start_time": "2023-02-22T14:48:39.626Z"
   },
   {
    "duration": 13,
    "start_time": "2023-02-22T14:48:39.634Z"
   },
   {
    "duration": 6,
    "start_time": "2023-02-22T14:48:39.649Z"
   },
   {
    "duration": 9,
    "start_time": "2023-02-22T14:48:39.656Z"
   },
   {
    "duration": 2,
    "start_time": "2023-02-22T14:48:39.667Z"
   },
   {
    "duration": 44,
    "start_time": "2023-02-22T14:48:39.671Z"
   },
   {
    "duration": 5,
    "start_time": "2023-02-22T14:48:39.717Z"
   },
   {
    "duration": 11,
    "start_time": "2023-02-22T14:48:39.725Z"
   },
   {
    "duration": 3,
    "start_time": "2023-02-22T14:48:39.738Z"
   },
   {
    "duration": 3,
    "start_time": "2023-02-22T14:48:39.742Z"
   },
   {
    "duration": 9,
    "start_time": "2023-02-22T14:48:39.747Z"
   },
   {
    "duration": 18,
    "start_time": "2023-02-22T14:48:39.757Z"
   },
   {
    "duration": 20,
    "start_time": "2023-02-22T14:48:39.776Z"
   },
   {
    "duration": 22,
    "start_time": "2023-02-22T14:48:39.797Z"
   },
   {
    "duration": 12,
    "start_time": "2023-02-22T14:48:39.821Z"
   },
   {
    "duration": 15,
    "start_time": "2023-02-22T14:48:39.835Z"
   },
   {
    "duration": 29,
    "start_time": "2023-02-22T14:48:39.851Z"
   },
   {
    "duration": 47,
    "start_time": "2023-02-22T14:48:39.882Z"
   },
   {
    "duration": 6,
    "start_time": "2023-02-22T14:48:39.931Z"
   },
   {
    "duration": 13,
    "start_time": "2023-02-22T14:48:39.939Z"
   },
   {
    "duration": 7,
    "start_time": "2023-02-22T14:48:39.953Z"
   },
   {
    "duration": 9,
    "start_time": "2023-02-22T14:48:39.962Z"
   },
   {
    "duration": 48,
    "start_time": "2023-02-22T14:48:39.972Z"
   },
   {
    "duration": 9,
    "start_time": "2023-02-22T14:48:40.022Z"
   },
   {
    "duration": 7,
    "start_time": "2023-02-22T14:48:40.032Z"
   },
   {
    "duration": 12,
    "start_time": "2023-02-22T14:48:40.040Z"
   },
   {
    "duration": 5,
    "start_time": "2023-02-22T14:48:40.054Z"
   },
   {
    "duration": 8,
    "start_time": "2023-02-22T14:48:40.060Z"
   },
   {
    "duration": 4,
    "start_time": "2023-02-22T14:48:40.575Z"
   },
   {
    "duration": 913,
    "start_time": "2023-02-22T14:48:40.581Z"
   },
   {
    "duration": 5,
    "start_time": "2023-02-22T14:48:41.496Z"
   },
   {
    "duration": 9,
    "start_time": "2023-02-22T14:48:41.511Z"
   },
   {
    "duration": 12,
    "start_time": "2023-02-22T14:48:41.522Z"
   },
   {
    "duration": 14,
    "start_time": "2023-02-22T14:48:41.536Z"
   },
   {
    "duration": 5,
    "start_time": "2023-02-22T14:48:41.551Z"
   },
   {
    "duration": 103,
    "start_time": "2023-02-22T14:48:41.558Z"
   },
   {
    "duration": 12,
    "start_time": "2023-02-22T14:48:41.663Z"
   },
   {
    "duration": 11,
    "start_time": "2023-02-22T14:49:08.839Z"
   },
   {
    "duration": 11,
    "start_time": "2023-02-22T14:49:17.878Z"
   },
   {
    "duration": 85,
    "start_time": "2023-02-22T14:50:36.755Z"
   },
   {
    "duration": 84,
    "start_time": "2023-02-22T14:50:43.633Z"
   },
   {
    "duration": 10,
    "start_time": "2023-02-22T14:50:51.671Z"
   },
   {
    "duration": 9,
    "start_time": "2023-02-22T14:50:58.883Z"
   },
   {
    "duration": 10,
    "start_time": "2023-02-22T14:51:02.398Z"
   },
   {
    "duration": 19,
    "start_time": "2023-02-22T14:51:08.403Z"
   },
   {
    "duration": 19,
    "start_time": "2023-02-22T14:51:16.900Z"
   },
   {
    "duration": 11,
    "start_time": "2023-02-22T14:51:23.609Z"
   },
   {
    "duration": 13,
    "start_time": "2023-02-22T14:52:44.991Z"
   },
   {
    "duration": 18,
    "start_time": "2023-02-22T14:52:59.656Z"
   },
   {
    "duration": 7,
    "start_time": "2023-02-22T14:53:20.739Z"
   },
   {
    "duration": 24,
    "start_time": "2023-02-22T14:53:22.747Z"
   },
   {
    "duration": 15,
    "start_time": "2023-02-22T14:53:57.832Z"
   },
   {
    "duration": 19,
    "start_time": "2023-02-22T14:55:07.808Z"
   },
   {
    "duration": 40,
    "start_time": "2023-02-22T14:55:28.739Z"
   },
   {
    "duration": 13,
    "start_time": "2023-02-22T14:55:34.941Z"
   },
   {
    "duration": 121,
    "start_time": "2023-02-22T15:01:15.871Z"
   },
   {
    "duration": 128,
    "start_time": "2023-02-22T15:01:27.382Z"
   },
   {
    "duration": 12,
    "start_time": "2023-02-22T15:01:39.470Z"
   },
   {
    "duration": 363,
    "start_time": "2023-02-23T14:27:38.209Z"
   },
   {
    "duration": 273,
    "start_time": "2023-02-23T14:27:38.574Z"
   },
   {
    "duration": 57,
    "start_time": "2023-02-23T14:27:38.849Z"
   },
   {
    "duration": 19,
    "start_time": "2023-02-23T14:27:38.908Z"
   },
   {
    "duration": 3,
    "start_time": "2023-02-23T14:27:38.929Z"
   },
   {
    "duration": 11,
    "start_time": "2023-02-23T14:27:38.933Z"
   },
   {
    "duration": 12,
    "start_time": "2023-02-23T14:27:38.945Z"
   },
   {
    "duration": 8,
    "start_time": "2023-02-23T14:27:38.958Z"
   },
   {
    "duration": 20,
    "start_time": "2023-02-23T14:27:38.967Z"
   },
   {
    "duration": 6,
    "start_time": "2023-02-23T14:27:38.991Z"
   },
   {
    "duration": 12,
    "start_time": "2023-02-23T14:27:38.998Z"
   },
   {
    "duration": 2,
    "start_time": "2023-02-23T14:27:39.012Z"
   },
   {
    "duration": 7,
    "start_time": "2023-02-23T14:27:39.015Z"
   },
   {
    "duration": 14,
    "start_time": "2023-02-23T14:27:39.023Z"
   },
   {
    "duration": 3,
    "start_time": "2023-02-23T14:27:39.038Z"
   },
   {
    "duration": 5,
    "start_time": "2023-02-23T14:27:39.042Z"
   },
   {
    "duration": 5,
    "start_time": "2023-02-23T14:27:39.048Z"
   },
   {
    "duration": 5,
    "start_time": "2023-02-23T14:27:39.055Z"
   },
   {
    "duration": 38,
    "start_time": "2023-02-23T14:27:39.061Z"
   },
   {
    "duration": 18,
    "start_time": "2023-02-23T14:27:39.100Z"
   },
   {
    "duration": 24,
    "start_time": "2023-02-23T14:27:39.120Z"
   },
   {
    "duration": 12,
    "start_time": "2023-02-23T14:27:39.146Z"
   },
   {
    "duration": 57,
    "start_time": "2023-02-23T14:27:39.159Z"
   },
   {
    "duration": 20,
    "start_time": "2023-02-23T14:27:39.218Z"
   },
   {
    "duration": 6,
    "start_time": "2023-02-23T14:27:39.239Z"
   },
   {
    "duration": 13,
    "start_time": "2023-02-23T14:27:39.246Z"
   },
   {
    "duration": 16,
    "start_time": "2023-02-23T14:27:39.260Z"
   },
   {
    "duration": 10,
    "start_time": "2023-02-23T14:27:39.279Z"
   },
   {
    "duration": 16,
    "start_time": "2023-02-23T14:27:39.291Z"
   },
   {
    "duration": 8,
    "start_time": "2023-02-23T14:27:39.309Z"
   },
   {
    "duration": 5,
    "start_time": "2023-02-23T14:27:39.319Z"
   },
   {
    "duration": 10,
    "start_time": "2023-02-23T14:27:39.326Z"
   },
   {
    "duration": 5,
    "start_time": "2023-02-23T14:27:39.338Z"
   },
   {
    "duration": 7,
    "start_time": "2023-02-23T14:27:39.344Z"
   },
   {
    "duration": 34,
    "start_time": "2023-02-23T14:27:39.352Z"
   },
   {
    "duration": 1251,
    "start_time": "2023-02-23T14:27:39.387Z"
   },
   {
    "duration": 4,
    "start_time": "2023-02-23T14:27:40.640Z"
   },
   {
    "duration": 14,
    "start_time": "2023-02-23T14:27:40.645Z"
   },
   {
    "duration": 12,
    "start_time": "2023-02-23T14:27:40.661Z"
   },
   {
    "duration": 21,
    "start_time": "2023-02-23T14:27:40.674Z"
   },
   {
    "duration": 4,
    "start_time": "2023-02-23T14:27:40.697Z"
   },
   {
    "duration": 17,
    "start_time": "2023-02-23T14:27:40.702Z"
   },
   {
    "duration": 19,
    "start_time": "2023-02-23T14:27:40.720Z"
   },
   {
    "duration": 22,
    "start_time": "2023-02-23T14:27:57.588Z"
   },
   {
    "duration": 18,
    "start_time": "2023-02-23T14:28:12.037Z"
   },
   {
    "duration": 18,
    "start_time": "2023-02-23T14:28:16.753Z"
   },
   {
    "duration": 19,
    "start_time": "2023-02-23T14:28:38.289Z"
   },
   {
    "duration": 19,
    "start_time": "2023-02-23T14:28:47.651Z"
   },
   {
    "duration": 146,
    "start_time": "2023-02-23T14:29:28.852Z"
   },
   {
    "duration": 40,
    "start_time": "2023-02-23T14:29:34.998Z"
   },
   {
    "duration": 139,
    "start_time": "2023-02-23T14:29:38.207Z"
   },
   {
    "duration": 149,
    "start_time": "2023-02-23T14:30:06.244Z"
   },
   {
    "duration": 210,
    "start_time": "2023-02-23T14:30:24.997Z"
   },
   {
    "duration": 139,
    "start_time": "2023-02-23T14:30:29.755Z"
   },
   {
    "duration": 15,
    "start_time": "2023-02-23T14:36:54.856Z"
   },
   {
    "duration": 18,
    "start_time": "2023-02-23T14:37:04.216Z"
   },
   {
    "duration": 175,
    "start_time": "2023-02-23T14:37:20.165Z"
   },
   {
    "duration": 17,
    "start_time": "2023-02-23T14:39:20.995Z"
   },
   {
    "duration": 145,
    "start_time": "2023-02-23T14:39:29.460Z"
   },
   {
    "duration": 17,
    "start_time": "2023-02-23T14:41:06.323Z"
   },
   {
    "duration": 608,
    "start_time": "2023-02-23T14:41:20.838Z"
   },
   {
    "duration": 17,
    "start_time": "2023-02-23T14:41:33.760Z"
   },
   {
    "duration": 17,
    "start_time": "2023-02-23T14:41:57.050Z"
   },
   {
    "duration": 16,
    "start_time": "2023-02-23T14:42:22.916Z"
   },
   {
    "duration": 16,
    "start_time": "2023-02-23T14:43:43.395Z"
   },
   {
    "duration": 23,
    "start_time": "2023-02-23T14:44:17.173Z"
   },
   {
    "duration": 17,
    "start_time": "2023-02-23T14:45:09.428Z"
   },
   {
    "duration": 178,
    "start_time": "2023-02-23T14:53:25.831Z"
   },
   {
    "duration": 118,
    "start_time": "2023-02-23T14:53:32.206Z"
   },
   {
    "duration": 18,
    "start_time": "2023-02-23T14:55:04.101Z"
   },
   {
    "duration": 168,
    "start_time": "2023-02-23T14:55:14.345Z"
   },
   {
    "duration": 204,
    "start_time": "2023-02-23T14:55:30.873Z"
   },
   {
    "duration": 9,
    "start_time": "2023-02-23T14:58:32.106Z"
   },
   {
    "duration": 5,
    "start_time": "2023-02-23T14:58:39.352Z"
   },
   {
    "duration": 4,
    "start_time": "2023-02-23T14:58:47.338Z"
   },
   {
    "duration": 8,
    "start_time": "2023-02-23T14:58:58.591Z"
   },
   {
    "duration": 4,
    "start_time": "2023-02-23T14:59:03.349Z"
   },
   {
    "duration": 4,
    "start_time": "2023-02-23T14:59:15.859Z"
   },
   {
    "duration": 5,
    "start_time": "2023-02-23T14:59:18.744Z"
   },
   {
    "duration": 4,
    "start_time": "2023-02-23T14:59:35.208Z"
   },
   {
    "duration": 4,
    "start_time": "2023-02-23T14:59:50.195Z"
   },
   {
    "duration": 6,
    "start_time": "2023-02-23T14:59:59.308Z"
   },
   {
    "duration": 5,
    "start_time": "2023-02-23T15:00:03.850Z"
   },
   {
    "duration": 5,
    "start_time": "2023-02-23T15:00:14.644Z"
   },
   {
    "duration": 206,
    "start_time": "2023-02-23T15:03:18.073Z"
   },
   {
    "duration": 470,
    "start_time": "2023-02-24T11:59:50.430Z"
   },
   {
    "duration": 330,
    "start_time": "2023-02-24T11:59:50.903Z"
   },
   {
    "duration": 82,
    "start_time": "2023-02-24T11:59:51.235Z"
   },
   {
    "duration": 33,
    "start_time": "2023-02-24T11:59:51.319Z"
   },
   {
    "duration": 23,
    "start_time": "2023-02-24T11:59:51.355Z"
   },
   {
    "duration": 16,
    "start_time": "2023-02-24T11:59:51.379Z"
   },
   {
    "duration": 21,
    "start_time": "2023-02-24T11:59:51.398Z"
   },
   {
    "duration": 14,
    "start_time": "2023-02-24T11:59:51.421Z"
   },
   {
    "duration": 51,
    "start_time": "2023-02-24T11:59:51.437Z"
   },
   {
    "duration": 16,
    "start_time": "2023-02-24T11:59:51.490Z"
   },
   {
    "duration": 27,
    "start_time": "2023-02-24T11:59:51.508Z"
   },
   {
    "duration": 28,
    "start_time": "2023-02-24T11:59:51.537Z"
   },
   {
    "duration": 8,
    "start_time": "2023-02-24T11:59:51.566Z"
   },
   {
    "duration": 13,
    "start_time": "2023-02-24T11:59:51.577Z"
   },
   {
    "duration": 10,
    "start_time": "2023-02-24T11:59:51.591Z"
   },
   {
    "duration": 5,
    "start_time": "2023-02-24T11:59:51.603Z"
   },
   {
    "duration": 8,
    "start_time": "2023-02-24T11:59:51.610Z"
   },
   {
    "duration": 41,
    "start_time": "2023-02-24T11:59:51.620Z"
   },
   {
    "duration": 23,
    "start_time": "2023-02-24T11:59:51.663Z"
   },
   {
    "duration": 12,
    "start_time": "2023-02-24T11:59:51.687Z"
   },
   {
    "duration": 13,
    "start_time": "2023-02-24T11:59:51.701Z"
   },
   {
    "duration": 20,
    "start_time": "2023-02-24T11:59:51.715Z"
   },
   {
    "duration": 39,
    "start_time": "2023-02-24T11:59:51.743Z"
   },
   {
    "duration": 37,
    "start_time": "2023-02-24T11:59:51.824Z"
   },
   {
    "duration": 9,
    "start_time": "2023-02-24T11:59:51.863Z"
   },
   {
    "duration": 19,
    "start_time": "2023-02-24T11:59:51.874Z"
   },
   {
    "duration": 9,
    "start_time": "2023-02-24T11:59:51.895Z"
   },
   {
    "duration": 30,
    "start_time": "2023-02-24T11:59:51.906Z"
   },
   {
    "duration": 36,
    "start_time": "2023-02-24T11:59:51.937Z"
   },
   {
    "duration": 15,
    "start_time": "2023-02-24T11:59:51.975Z"
   },
   {
    "duration": 9,
    "start_time": "2023-02-24T11:59:51.992Z"
   },
   {
    "duration": 13,
    "start_time": "2023-02-24T11:59:52.002Z"
   },
   {
    "duration": 48,
    "start_time": "2023-02-24T11:59:52.017Z"
   },
   {
    "duration": 19,
    "start_time": "2023-02-24T11:59:52.067Z"
   },
   {
    "duration": 5,
    "start_time": "2023-02-24T11:59:52.087Z"
   },
   {
    "duration": 1506,
    "start_time": "2023-02-24T11:59:52.093Z"
   },
   {
    "duration": 5,
    "start_time": "2023-02-24T11:59:53.601Z"
   },
   {
    "duration": 45,
    "start_time": "2023-02-24T11:59:53.607Z"
   },
   {
    "duration": 48,
    "start_time": "2023-02-24T11:59:53.655Z"
   },
   {
    "duration": 36,
    "start_time": "2023-02-24T11:59:53.704Z"
   },
   {
    "duration": 26,
    "start_time": "2023-02-24T11:59:53.746Z"
   },
   {
    "duration": 35,
    "start_time": "2023-02-24T11:59:53.774Z"
   },
   {
    "duration": 168,
    "start_time": "2023-02-24T11:59:53.811Z"
   },
   {
    "duration": 4,
    "start_time": "2023-02-24T11:59:53.981Z"
   },
   {
    "duration": 167,
    "start_time": "2023-02-24T11:59:53.986Z"
   },
   {
    "duration": 200,
    "start_time": "2023-02-24T11:59:54.154Z"
   },
   {
    "duration": 149,
    "start_time": "2023-02-24T11:59:54.355Z"
   },
   {
    "duration": 253,
    "start_time": "2023-02-24T11:59:54.506Z"
   },
   {
    "duration": 221,
    "start_time": "2023-02-24T12:00:25.390Z"
   },
   {
    "duration": 192,
    "start_time": "2023-02-24T12:02:42.296Z"
   },
   {
    "duration": 188,
    "start_time": "2023-02-24T12:02:49.577Z"
   },
   {
    "duration": 47,
    "start_time": "2023-02-24T12:03:52.162Z"
   },
   {
    "duration": 73,
    "start_time": "2023-02-24T12:04:08.013Z"
   },
   {
    "duration": 43,
    "start_time": "2023-02-24T12:04:15.172Z"
   },
   {
    "duration": 44,
    "start_time": "2023-02-24T12:04:18.669Z"
   },
   {
    "duration": 407,
    "start_time": "2023-02-24T12:04:22.585Z"
   },
   {
    "duration": 225,
    "start_time": "2023-02-24T12:04:27.251Z"
   },
   {
    "duration": 234,
    "start_time": "2023-02-24T12:04:32.918Z"
   },
   {
    "duration": 195,
    "start_time": "2023-02-24T12:04:45.576Z"
   },
   {
    "duration": 250,
    "start_time": "2023-02-24T12:05:08.770Z"
   },
   {
    "duration": 293,
    "start_time": "2023-02-24T12:05:23.900Z"
   },
   {
    "duration": 310,
    "start_time": "2023-02-24T12:05:29.707Z"
   },
   {
    "duration": 12,
    "start_time": "2023-02-24T12:06:21.237Z"
   },
   {
    "duration": 34,
    "start_time": "2023-02-24T12:06:39.253Z"
   },
   {
    "duration": 22,
    "start_time": "2023-02-24T12:07:17.402Z"
   },
   {
    "duration": 65,
    "start_time": "2023-02-24T12:08:58.052Z"
   },
   {
    "duration": 311,
    "start_time": "2023-02-24T12:09:02.232Z"
   },
   {
    "duration": 250,
    "start_time": "2023-02-24T12:09:14.179Z"
   },
   {
    "duration": 286,
    "start_time": "2023-02-24T12:09:21.871Z"
   },
   {
    "duration": 6,
    "start_time": "2023-02-24T12:11:24.920Z"
   },
   {
    "duration": 47,
    "start_time": "2023-02-24T12:11:32.147Z"
   },
   {
    "duration": 38,
    "start_time": "2023-02-24T12:12:13.496Z"
   },
   {
    "duration": 127,
    "start_time": "2023-02-24T12:12:41.928Z"
   },
   {
    "duration": 5,
    "start_time": "2023-02-24T12:13:01.647Z"
   },
   {
    "duration": 25,
    "start_time": "2023-02-24T12:13:46.181Z"
   },
   {
    "duration": 24,
    "start_time": "2023-02-24T12:14:15.157Z"
   },
   {
    "duration": 16,
    "start_time": "2023-02-24T12:14:33.899Z"
   },
   {
    "duration": 14,
    "start_time": "2023-02-24T12:14:54.773Z"
   },
   {
    "duration": 10,
    "start_time": "2023-02-24T12:15:01.506Z"
   },
   {
    "duration": 31,
    "start_time": "2023-02-24T12:15:14.679Z"
   },
   {
    "duration": 63,
    "start_time": "2023-02-24T12:15:27.086Z"
   },
   {
    "duration": 12,
    "start_time": "2023-02-24T12:15:33.408Z"
   },
   {
    "duration": 36,
    "start_time": "2023-02-24T12:17:15.970Z"
   },
   {
    "duration": 20,
    "start_time": "2023-02-24T12:17:29.599Z"
   },
   {
    "duration": 17,
    "start_time": "2023-02-24T12:18:32.679Z"
   },
   {
    "duration": 35,
    "start_time": "2023-02-24T12:18:45.534Z"
   },
   {
    "duration": 16,
    "start_time": "2023-02-24T12:18:49.759Z"
   },
   {
    "duration": 24,
    "start_time": "2023-02-24T12:19:43.656Z"
   },
   {
    "duration": 14,
    "start_time": "2023-02-24T12:20:11.324Z"
   },
   {
    "duration": 32,
    "start_time": "2023-02-24T12:20:18.414Z"
   },
   {
    "duration": 25,
    "start_time": "2023-02-24T12:20:44.309Z"
   },
   {
    "duration": 27,
    "start_time": "2023-02-24T12:20:56.018Z"
   },
   {
    "duration": 5,
    "start_time": "2023-02-24T12:21:28.071Z"
   },
   {
    "duration": 28,
    "start_time": "2023-02-24T12:21:45.875Z"
   },
   {
    "duration": 8,
    "start_time": "2023-02-24T12:22:09.972Z"
   },
   {
    "duration": 13,
    "start_time": "2023-02-24T12:23:57.125Z"
   },
   {
    "duration": 12,
    "start_time": "2023-02-24T12:24:13.602Z"
   },
   {
    "duration": 24,
    "start_time": "2023-02-24T12:24:20.671Z"
   },
   {
    "duration": 15,
    "start_time": "2023-02-24T12:24:27.848Z"
   },
   {
    "duration": 16,
    "start_time": "2023-02-24T12:25:22.655Z"
   },
   {
    "duration": 17,
    "start_time": "2023-02-24T12:25:45.282Z"
   },
   {
    "duration": 8,
    "start_time": "2023-02-24T12:25:48.208Z"
   },
   {
    "duration": 5,
    "start_time": "2023-02-24T12:25:59.923Z"
   },
   {
    "duration": 227,
    "start_time": "2023-02-24T12:25:59.931Z"
   },
   {
    "duration": 58,
    "start_time": "2023-02-24T12:26:00.160Z"
   },
   {
    "duration": 29,
    "start_time": "2023-02-24T12:26:00.220Z"
   },
   {
    "duration": 66,
    "start_time": "2023-02-24T12:26:00.251Z"
   },
   {
    "duration": 81,
    "start_time": "2023-02-24T12:26:00.319Z"
   },
   {
    "duration": 44,
    "start_time": "2023-02-24T12:26:00.402Z"
   },
   {
    "duration": 157,
    "start_time": "2023-02-24T12:26:00.452Z"
   },
   {
    "duration": 82,
    "start_time": "2023-02-24T12:26:00.611Z"
   },
   {
    "duration": 68,
    "start_time": "2023-02-24T12:26:00.698Z"
   },
   {
    "duration": 95,
    "start_time": "2023-02-24T12:26:00.770Z"
   },
   {
    "duration": 109,
    "start_time": "2023-02-24T12:26:00.867Z"
   },
   {
    "duration": 111,
    "start_time": "2023-02-24T12:26:00.983Z"
   },
   {
    "duration": 93,
    "start_time": "2023-02-24T12:26:01.100Z"
   },
   {
    "duration": 89,
    "start_time": "2023-02-24T12:26:01.198Z"
   },
   {
    "duration": 50,
    "start_time": "2023-02-24T12:26:01.290Z"
   },
   {
    "duration": 99,
    "start_time": "2023-02-24T12:26:01.345Z"
   },
   {
    "duration": 74,
    "start_time": "2023-02-24T12:26:01.446Z"
   },
   {
    "duration": 55,
    "start_time": "2023-02-24T12:26:01.522Z"
   },
   {
    "duration": 52,
    "start_time": "2023-02-24T12:26:01.580Z"
   },
   {
    "duration": 61,
    "start_time": "2023-02-24T12:26:01.639Z"
   },
   {
    "duration": 18,
    "start_time": "2023-02-24T12:26:01.703Z"
   },
   {
    "duration": 72,
    "start_time": "2023-02-24T12:26:01.724Z"
   },
   {
    "duration": 21,
    "start_time": "2023-02-24T12:26:01.799Z"
   },
   {
    "duration": 72,
    "start_time": "2023-02-24T12:26:01.826Z"
   },
   {
    "duration": 17,
    "start_time": "2023-02-24T12:26:01.900Z"
   },
   {
    "duration": 16,
    "start_time": "2023-02-24T12:26:01.919Z"
   },
   {
    "duration": 75,
    "start_time": "2023-02-24T12:26:01.937Z"
   },
   {
    "duration": 64,
    "start_time": "2023-02-24T12:26:02.015Z"
   },
   {
    "duration": 42,
    "start_time": "2023-02-24T12:26:02.081Z"
   },
   {
    "duration": 83,
    "start_time": "2023-02-24T12:26:02.125Z"
   },
   {
    "duration": 1512,
    "start_time": "2023-02-24T12:26:02.211Z"
   },
   {
    "duration": 9,
    "start_time": "2023-02-24T12:26:03.725Z"
   },
   {
    "duration": 88,
    "start_time": "2023-02-24T12:26:03.735Z"
   },
   {
    "duration": 73,
    "start_time": "2023-02-24T12:26:03.826Z"
   },
   {
    "duration": 18,
    "start_time": "2023-02-24T12:26:03.901Z"
   },
   {
    "duration": 6,
    "start_time": "2023-02-24T12:26:03.921Z"
   },
   {
    "duration": 75,
    "start_time": "2023-02-24T12:26:03.931Z"
   },
   {
    "duration": 205,
    "start_time": "2023-02-24T12:26:04.008Z"
   },
   {
    "duration": 4,
    "start_time": "2023-02-24T12:26:04.215Z"
   },
   {
    "duration": 233,
    "start_time": "2023-02-24T12:26:04.226Z"
   },
   {
    "duration": 25,
    "start_time": "2023-02-24T12:26:04.461Z"
   },
   {
    "duration": 183,
    "start_time": "2023-02-24T12:26:04.488Z"
   },
   {
    "duration": 257,
    "start_time": "2023-02-24T12:26:04.673Z"
   },
   {
    "duration": 32,
    "start_time": "2023-02-24T12:26:04.932Z"
   },
   {
    "duration": 45,
    "start_time": "2023-02-24T12:26:04.965Z"
   },
   {
    "duration": 24,
    "start_time": "2023-02-24T12:26:05.012Z"
   },
   {
    "duration": 71,
    "start_time": "2023-02-24T12:26:05.038Z"
   },
   {
    "duration": 15,
    "start_time": "2023-02-24T12:26:05.111Z"
   },
   {
    "duration": 86,
    "start_time": "2023-02-24T12:26:05.133Z"
   },
   {
    "duration": 12,
    "start_time": "2023-02-24T12:26:44.050Z"
   },
   {
    "duration": 18,
    "start_time": "2023-02-24T12:27:18.495Z"
   },
   {
    "duration": 8,
    "start_time": "2023-02-24T12:27:25.372Z"
   },
   {
    "duration": 8,
    "start_time": "2023-02-24T12:27:42.116Z"
   },
   {
    "duration": 7,
    "start_time": "2023-02-24T12:28:04.896Z"
   },
   {
    "duration": 8,
    "start_time": "2023-02-24T12:28:12.958Z"
   },
   {
    "duration": 22,
    "start_time": "2023-02-24T12:28:32.745Z"
   },
   {
    "duration": 3,
    "start_time": "2023-02-24T13:03:23.696Z"
   },
   {
    "duration": 97,
    "start_time": "2023-02-24T13:03:23.701Z"
   },
   {
    "duration": 44,
    "start_time": "2023-02-24T13:03:23.799Z"
   },
   {
    "duration": 16,
    "start_time": "2023-02-24T13:03:23.845Z"
   },
   {
    "duration": 5,
    "start_time": "2023-02-24T13:03:23.863Z"
   },
   {
    "duration": 9,
    "start_time": "2023-02-24T13:03:23.869Z"
   },
   {
    "duration": 12,
    "start_time": "2023-02-24T13:03:23.880Z"
   },
   {
    "duration": 8,
    "start_time": "2023-02-24T13:03:23.893Z"
   },
   {
    "duration": 48,
    "start_time": "2023-02-24T13:03:23.903Z"
   },
   {
    "duration": 6,
    "start_time": "2023-02-24T13:03:23.952Z"
   },
   {
    "duration": 18,
    "start_time": "2023-02-24T13:03:23.959Z"
   },
   {
    "duration": 7,
    "start_time": "2023-02-24T13:03:23.978Z"
   },
   {
    "duration": 35,
    "start_time": "2023-02-24T13:03:23.987Z"
   },
   {
    "duration": 7,
    "start_time": "2023-02-24T13:03:24.031Z"
   },
   {
    "duration": 31,
    "start_time": "2023-02-24T13:03:24.040Z"
   },
   {
    "duration": 32,
    "start_time": "2023-02-24T13:03:24.073Z"
   },
   {
    "duration": 15,
    "start_time": "2023-02-24T13:03:24.107Z"
   },
   {
    "duration": 24,
    "start_time": "2023-02-24T13:03:24.124Z"
   },
   {
    "duration": 23,
    "start_time": "2023-02-24T13:03:24.150Z"
   },
   {
    "duration": 21,
    "start_time": "2023-02-24T13:03:24.175Z"
   },
   {
    "duration": 8,
    "start_time": "2023-02-24T13:03:24.198Z"
   },
   {
    "duration": 35,
    "start_time": "2023-02-24T13:03:24.208Z"
   },
   {
    "duration": 7,
    "start_time": "2023-02-24T13:03:24.245Z"
   },
   {
    "duration": 10,
    "start_time": "2023-02-24T13:03:24.254Z"
   },
   {
    "duration": 18,
    "start_time": "2023-02-24T13:03:24.265Z"
   },
   {
    "duration": 8,
    "start_time": "2023-02-24T13:03:24.285Z"
   },
   {
    "duration": 41,
    "start_time": "2023-02-24T13:03:24.294Z"
   },
   {
    "duration": 18,
    "start_time": "2023-02-24T13:03:24.337Z"
   },
   {
    "duration": 5,
    "start_time": "2023-02-24T13:03:24.357Z"
   },
   {
    "duration": 25,
    "start_time": "2023-02-24T13:03:24.363Z"
   },
   {
    "duration": 2,
    "start_time": "2023-02-24T13:03:24.390Z"
   },
   {
    "duration": 1031,
    "start_time": "2023-02-24T13:03:24.394Z"
   },
   {
    "duration": 14,
    "start_time": "2023-02-24T13:03:25.428Z"
   },
   {
    "duration": 9,
    "start_time": "2023-02-24T13:03:25.444Z"
   },
   {
    "duration": 8,
    "start_time": "2023-02-24T13:03:25.455Z"
   },
   {
    "duration": 14,
    "start_time": "2023-02-24T13:03:25.465Z"
   },
   {
    "duration": 5,
    "start_time": "2023-02-24T13:03:25.481Z"
   },
   {
    "duration": 56,
    "start_time": "2023-02-24T13:03:25.488Z"
   },
   {
    "duration": 157,
    "start_time": "2023-02-24T13:03:25.546Z"
   },
   {
    "duration": 4,
    "start_time": "2023-02-24T13:03:25.705Z"
   },
   {
    "duration": 149,
    "start_time": "2023-02-24T13:03:25.713Z"
   },
   {
    "duration": 20,
    "start_time": "2023-02-24T13:03:25.864Z"
   },
   {
    "duration": 164,
    "start_time": "2023-02-24T13:03:25.885Z"
   },
   {
    "duration": 220,
    "start_time": "2023-02-24T13:03:26.051Z"
   },
   {
    "duration": 22,
    "start_time": "2023-02-24T13:03:26.273Z"
   },
   {
    "duration": 41,
    "start_time": "2023-02-24T13:03:26.297Z"
   },
   {
    "duration": 17,
    "start_time": "2023-02-24T13:03:26.343Z"
   },
   {
    "duration": 14,
    "start_time": "2023-02-24T13:03:26.361Z"
   },
   {
    "duration": 19,
    "start_time": "2023-02-24T13:03:26.377Z"
   },
   {
    "duration": 20,
    "start_time": "2023-02-24T13:03:26.399Z"
   },
   {
    "duration": 9,
    "start_time": "2023-02-24T13:04:17.212Z"
   },
   {
    "duration": 3,
    "start_time": "2023-02-24T13:05:45.741Z"
   },
   {
    "duration": 14,
    "start_time": "2023-02-24T13:05:56.843Z"
   },
   {
    "duration": 7,
    "start_time": "2023-02-24T13:06:14.892Z"
   },
   {
    "duration": 26,
    "start_time": "2023-02-24T13:06:18.614Z"
   },
   {
    "duration": 3,
    "start_time": "2023-02-24T13:06:22.940Z"
   },
   {
    "duration": 97,
    "start_time": "2023-02-24T13:06:22.948Z"
   },
   {
    "duration": 39,
    "start_time": "2023-02-24T13:06:23.047Z"
   },
   {
    "duration": 15,
    "start_time": "2023-02-24T13:06:23.087Z"
   },
   {
    "duration": 5,
    "start_time": "2023-02-24T13:06:23.103Z"
   },
   {
    "duration": 7,
    "start_time": "2023-02-24T13:06:23.110Z"
   },
   {
    "duration": 22,
    "start_time": "2023-02-24T13:06:23.119Z"
   },
   {
    "duration": 8,
    "start_time": "2023-02-24T13:06:23.142Z"
   },
   {
    "duration": 15,
    "start_time": "2023-02-24T13:06:23.152Z"
   },
   {
    "duration": 7,
    "start_time": "2023-02-24T13:06:23.168Z"
   },
   {
    "duration": 10,
    "start_time": "2023-02-24T13:06:23.176Z"
   },
   {
    "duration": 7,
    "start_time": "2023-02-24T13:06:23.187Z"
   },
   {
    "duration": 38,
    "start_time": "2023-02-24T13:06:23.196Z"
   },
   {
    "duration": 5,
    "start_time": "2023-02-24T13:06:23.236Z"
   },
   {
    "duration": 24,
    "start_time": "2023-02-24T13:06:23.244Z"
   },
   {
    "duration": 14,
    "start_time": "2023-02-24T13:06:23.269Z"
   },
   {
    "duration": 15,
    "start_time": "2023-02-24T13:06:23.285Z"
   },
   {
    "duration": 45,
    "start_time": "2023-02-24T13:06:23.301Z"
   },
   {
    "duration": 27,
    "start_time": "2023-02-24T13:06:23.348Z"
   },
   {
    "duration": 23,
    "start_time": "2023-02-24T13:06:23.376Z"
   },
   {
    "duration": 40,
    "start_time": "2023-02-24T13:06:23.401Z"
   },
   {
    "duration": 11,
    "start_time": "2023-02-24T13:06:23.443Z"
   },
   {
    "duration": 199,
    "start_time": "2023-02-24T13:06:23.455Z"
   },
   {
    "duration": 0,
    "start_time": "2023-02-24T13:06:23.656Z"
   },
   {
    "duration": 0,
    "start_time": "2023-02-24T13:06:23.658Z"
   },
   {
    "duration": 0,
    "start_time": "2023-02-24T13:06:23.659Z"
   },
   {
    "duration": 1,
    "start_time": "2023-02-24T13:06:23.659Z"
   },
   {
    "duration": 0,
    "start_time": "2023-02-24T13:06:23.661Z"
   },
   {
    "duration": 0,
    "start_time": "2023-02-24T13:06:23.662Z"
   },
   {
    "duration": 0,
    "start_time": "2023-02-24T13:06:23.663Z"
   },
   {
    "duration": 0,
    "start_time": "2023-02-24T13:06:23.664Z"
   },
   {
    "duration": 0,
    "start_time": "2023-02-24T13:06:23.665Z"
   },
   {
    "duration": 0,
    "start_time": "2023-02-24T13:06:23.666Z"
   },
   {
    "duration": 0,
    "start_time": "2023-02-24T13:06:23.667Z"
   },
   {
    "duration": 0,
    "start_time": "2023-02-24T13:06:23.668Z"
   },
   {
    "duration": 0,
    "start_time": "2023-02-24T13:06:23.669Z"
   },
   {
    "duration": 0,
    "start_time": "2023-02-24T13:06:23.670Z"
   },
   {
    "duration": 0,
    "start_time": "2023-02-24T13:06:23.672Z"
   },
   {
    "duration": 0,
    "start_time": "2023-02-24T13:06:23.672Z"
   },
   {
    "duration": 0,
    "start_time": "2023-02-24T13:06:23.674Z"
   },
   {
    "duration": 0,
    "start_time": "2023-02-24T13:06:23.675Z"
   },
   {
    "duration": 0,
    "start_time": "2023-02-24T13:06:23.676Z"
   },
   {
    "duration": 0,
    "start_time": "2023-02-24T13:06:23.677Z"
   },
   {
    "duration": 0,
    "start_time": "2023-02-24T13:06:23.678Z"
   },
   {
    "duration": 0,
    "start_time": "2023-02-24T13:06:23.679Z"
   },
   {
    "duration": 0,
    "start_time": "2023-02-24T13:06:23.680Z"
   },
   {
    "duration": 0,
    "start_time": "2023-02-24T13:06:23.682Z"
   },
   {
    "duration": 0,
    "start_time": "2023-02-24T13:06:23.683Z"
   },
   {
    "duration": 0,
    "start_time": "2023-02-24T13:06:23.684Z"
   },
   {
    "duration": 0,
    "start_time": "2023-02-24T13:06:23.685Z"
   },
   {
    "duration": 202,
    "start_time": "2023-02-24T13:06:51.216Z"
   },
   {
    "duration": 42,
    "start_time": "2023-02-24T13:07:21.779Z"
   },
   {
    "duration": 19,
    "start_time": "2023-02-24T13:07:30.021Z"
   },
   {
    "duration": 7,
    "start_time": "2023-02-24T13:07:43.156Z"
   },
   {
    "duration": 17,
    "start_time": "2023-02-24T13:07:46.044Z"
   },
   {
    "duration": 3,
    "start_time": "2023-02-24T13:07:49.068Z"
   },
   {
    "duration": 96,
    "start_time": "2023-02-24T13:07:49.073Z"
   },
   {
    "duration": 37,
    "start_time": "2023-02-24T13:07:49.172Z"
   },
   {
    "duration": 15,
    "start_time": "2023-02-24T13:07:49.211Z"
   },
   {
    "duration": 20,
    "start_time": "2023-02-24T13:07:49.228Z"
   },
   {
    "duration": 9,
    "start_time": "2023-02-24T13:07:49.249Z"
   },
   {
    "duration": 11,
    "start_time": "2023-02-24T13:07:49.260Z"
   },
   {
    "duration": 7,
    "start_time": "2023-02-24T13:07:49.273Z"
   },
   {
    "duration": 15,
    "start_time": "2023-02-24T13:07:49.282Z"
   },
   {
    "duration": 8,
    "start_time": "2023-02-24T13:07:49.298Z"
   },
   {
    "duration": 23,
    "start_time": "2023-02-24T13:07:49.309Z"
   },
   {
    "duration": 13,
    "start_time": "2023-02-24T13:07:49.333Z"
   },
   {
    "duration": 11,
    "start_time": "2023-02-24T13:07:49.348Z"
   },
   {
    "duration": 3,
    "start_time": "2023-02-24T13:07:49.360Z"
   },
   {
    "duration": 16,
    "start_time": "2023-02-24T13:07:49.365Z"
   },
   {
    "duration": 12,
    "start_time": "2023-02-24T13:07:49.383Z"
   },
   {
    "duration": 48,
    "start_time": "2023-02-24T13:07:49.396Z"
   },
   {
    "duration": 15,
    "start_time": "2023-02-24T13:07:49.446Z"
   },
   {
    "duration": 24,
    "start_time": "2023-02-24T13:07:49.463Z"
   },
   {
    "duration": 50,
    "start_time": "2023-02-24T13:07:49.488Z"
   },
   {
    "duration": 8,
    "start_time": "2023-02-24T13:07:49.540Z"
   },
   {
    "duration": 12,
    "start_time": "2023-02-24T13:07:49.549Z"
   },
   {
    "duration": 9,
    "start_time": "2023-02-24T13:07:49.562Z"
   },
   {
    "duration": 21,
    "start_time": "2023-02-24T13:07:49.572Z"
   },
   {
    "duration": 32,
    "start_time": "2023-02-24T13:07:49.595Z"
   },
   {
    "duration": 24,
    "start_time": "2023-02-24T13:07:49.628Z"
   },
   {
    "duration": 7,
    "start_time": "2023-02-24T13:07:49.654Z"
   },
   {
    "duration": 12,
    "start_time": "2023-02-24T13:07:49.663Z"
   },
   {
    "duration": 6,
    "start_time": "2023-02-24T13:07:49.679Z"
   },
   {
    "duration": 20,
    "start_time": "2023-02-24T13:07:49.686Z"
   },
   {
    "duration": 4,
    "start_time": "2023-02-24T13:07:49.708Z"
   },
   {
    "duration": 1115,
    "start_time": "2023-02-24T13:07:49.727Z"
   },
   {
    "duration": 4,
    "start_time": "2023-02-24T13:07:50.844Z"
   },
   {
    "duration": 29,
    "start_time": "2023-02-24T13:07:50.849Z"
   },
   {
    "duration": 10,
    "start_time": "2023-02-24T13:07:50.880Z"
   },
   {
    "duration": 17,
    "start_time": "2023-02-24T13:07:50.893Z"
   },
   {
    "duration": 4,
    "start_time": "2023-02-24T13:07:50.911Z"
   },
   {
    "duration": 28,
    "start_time": "2023-02-24T13:07:50.917Z"
   },
   {
    "duration": 147,
    "start_time": "2023-02-24T13:07:50.947Z"
   },
   {
    "duration": 4,
    "start_time": "2023-02-24T13:07:51.095Z"
   },
   {
    "duration": 146,
    "start_time": "2023-02-24T13:07:51.101Z"
   },
   {
    "duration": 19,
    "start_time": "2023-02-24T13:07:51.249Z"
   },
   {
    "duration": 152,
    "start_time": "2023-02-24T13:07:51.269Z"
   },
   {
    "duration": 223,
    "start_time": "2023-02-24T13:07:51.422Z"
   },
   {
    "duration": 21,
    "start_time": "2023-02-24T13:07:51.647Z"
   },
   {
    "duration": 22,
    "start_time": "2023-02-24T13:07:51.670Z"
   },
   {
    "duration": 37,
    "start_time": "2023-02-24T13:07:51.693Z"
   },
   {
    "duration": 26,
    "start_time": "2023-02-24T13:07:51.731Z"
   },
   {
    "duration": 17,
    "start_time": "2023-02-24T13:07:51.759Z"
   },
   {
    "duration": 15,
    "start_time": "2023-02-24T13:07:51.777Z"
   },
   {
    "duration": 362,
    "start_time": "2023-02-27T08:28:37.326Z"
   },
   {
    "duration": 281,
    "start_time": "2023-02-27T08:28:37.689Z"
   },
   {
    "duration": 69,
    "start_time": "2023-02-27T08:28:37.971Z"
   },
   {
    "duration": 20,
    "start_time": "2023-02-27T08:28:38.042Z"
   },
   {
    "duration": 3,
    "start_time": "2023-02-27T08:28:38.065Z"
   },
   {
    "duration": 12,
    "start_time": "2023-02-27T08:28:38.069Z"
   },
   {
    "duration": 17,
    "start_time": "2023-02-27T08:28:38.083Z"
   },
   {
    "duration": 25,
    "start_time": "2023-02-27T08:28:38.101Z"
   },
   {
    "duration": 13,
    "start_time": "2023-02-27T08:28:38.128Z"
   },
   {
    "duration": 16,
    "start_time": "2023-02-27T08:28:38.142Z"
   },
   {
    "duration": 11,
    "start_time": "2023-02-27T08:28:38.159Z"
   },
   {
    "duration": 12,
    "start_time": "2023-02-27T08:28:38.171Z"
   },
   {
    "duration": 14,
    "start_time": "2023-02-27T08:28:38.184Z"
   },
   {
    "duration": 3,
    "start_time": "2023-02-27T08:28:38.200Z"
   },
   {
    "duration": 17,
    "start_time": "2023-02-27T08:28:38.205Z"
   },
   {
    "duration": 9,
    "start_time": "2023-02-27T08:28:38.224Z"
   },
   {
    "duration": 11,
    "start_time": "2023-02-27T08:28:38.235Z"
   },
   {
    "duration": 18,
    "start_time": "2023-02-27T08:28:38.247Z"
   },
   {
    "duration": 27,
    "start_time": "2023-02-27T08:28:38.286Z"
   },
   {
    "duration": 21,
    "start_time": "2023-02-27T08:28:38.345Z"
   },
   {
    "duration": 12,
    "start_time": "2023-02-27T08:28:38.368Z"
   },
   {
    "duration": 18,
    "start_time": "2023-02-27T08:28:38.381Z"
   },
   {
    "duration": 10,
    "start_time": "2023-02-27T08:28:38.400Z"
   },
   {
    "duration": 13,
    "start_time": "2023-02-27T08:28:38.412Z"
   },
   {
    "duration": 27,
    "start_time": "2023-02-27T08:28:38.428Z"
   },
   {
    "duration": 12,
    "start_time": "2023-02-27T08:28:38.457Z"
   },
   {
    "duration": 16,
    "start_time": "2023-02-27T08:28:38.470Z"
   },
   {
    "duration": 10,
    "start_time": "2023-02-27T08:28:38.488Z"
   },
   {
    "duration": 6,
    "start_time": "2023-02-27T08:28:38.500Z"
   },
   {
    "duration": 6,
    "start_time": "2023-02-27T08:28:38.508Z"
   },
   {
    "duration": 11,
    "start_time": "2023-02-27T08:28:38.516Z"
   },
   {
    "duration": 1342,
    "start_time": "2023-02-27T08:28:38.528Z"
   },
   {
    "duration": 5,
    "start_time": "2023-02-27T08:28:39.872Z"
   },
   {
    "duration": 28,
    "start_time": "2023-02-27T08:28:39.886Z"
   },
   {
    "duration": 16,
    "start_time": "2023-02-27T08:28:39.915Z"
   },
   {
    "duration": 29,
    "start_time": "2023-02-27T08:28:39.932Z"
   },
   {
    "duration": 4,
    "start_time": "2023-02-27T08:28:39.962Z"
   },
   {
    "duration": 27,
    "start_time": "2023-02-27T08:28:39.967Z"
   },
   {
    "duration": 164,
    "start_time": "2023-02-27T08:28:39.996Z"
   },
   {
    "duration": 4,
    "start_time": "2023-02-27T08:28:40.162Z"
   },
   {
    "duration": 183,
    "start_time": "2023-02-27T08:28:40.170Z"
   },
   {
    "duration": 33,
    "start_time": "2023-02-27T08:28:40.355Z"
   },
   {
    "duration": 145,
    "start_time": "2023-02-27T08:28:40.390Z"
   },
   {
    "duration": 212,
    "start_time": "2023-02-27T08:28:40.537Z"
   },
   {
    "duration": 20,
    "start_time": "2023-02-27T08:28:40.751Z"
   },
   {
    "duration": 34,
    "start_time": "2023-02-27T08:28:40.772Z"
   },
   {
    "duration": 22,
    "start_time": "2023-02-27T08:28:40.808Z"
   },
   {
    "duration": 20,
    "start_time": "2023-02-27T08:28:40.832Z"
   },
   {
    "duration": 17,
    "start_time": "2023-02-27T08:28:40.854Z"
   },
   {
    "duration": 76,
    "start_time": "2023-02-27T08:31:49.178Z"
   },
   {
    "duration": 13,
    "start_time": "2023-02-27T08:31:53.935Z"
   },
   {
    "duration": 41,
    "start_time": "2023-02-27T08:32:16.722Z"
   },
   {
    "duration": 84,
    "start_time": "2023-02-27T08:32:35.051Z"
   },
   {
    "duration": 51,
    "start_time": "2023-02-27T08:32:45.430Z"
   },
   {
    "duration": 12,
    "start_time": "2023-02-27T08:32:50.704Z"
   },
   {
    "duration": 6,
    "start_time": "2023-02-27T08:33:03.559Z"
   },
   {
    "duration": 12,
    "start_time": "2023-02-27T08:33:12.692Z"
   },
   {
    "duration": 44,
    "start_time": "2023-02-27T08:33:36.428Z"
   },
   {
    "duration": 81,
    "start_time": "2023-02-27T08:33:46.257Z"
   },
   {
    "duration": 23,
    "start_time": "2023-02-27T08:43:04.470Z"
   },
   {
    "duration": 13,
    "start_time": "2023-02-27T08:43:20.471Z"
   },
   {
    "duration": 12,
    "start_time": "2023-02-27T08:43:29.905Z"
   },
   {
    "duration": 154,
    "start_time": "2023-02-27T08:43:53.369Z"
   },
   {
    "duration": 142,
    "start_time": "2023-02-27T08:44:08.084Z"
   },
   {
    "duration": 102,
    "start_time": "2023-02-27T08:44:26.669Z"
   },
   {
    "duration": 21,
    "start_time": "2023-02-27T08:44:37.649Z"
   },
   {
    "duration": 14,
    "start_time": "2023-02-27T08:44:59.462Z"
   },
   {
    "duration": 28,
    "start_time": "2023-02-27T08:46:18.965Z"
   },
   {
    "duration": 140,
    "start_time": "2023-02-27T08:51:53.232Z"
   },
   {
    "duration": 167,
    "start_time": "2023-02-27T08:52:20.501Z"
   },
   {
    "duration": 229,
    "start_time": "2023-02-27T08:52:30.464Z"
   },
   {
    "duration": 170,
    "start_time": "2023-02-27T08:52:39.643Z"
   },
   {
    "duration": 197,
    "start_time": "2023-02-27T08:52:46.359Z"
   },
   {
    "duration": 24,
    "start_time": "2023-02-27T08:52:57.209Z"
   },
   {
    "duration": 252,
    "start_time": "2023-02-27T08:53:05.588Z"
   },
   {
    "duration": 10,
    "start_time": "2023-02-27T08:53:50.677Z"
   },
   {
    "duration": 15,
    "start_time": "2023-02-27T08:55:12.487Z"
   },
   {
    "duration": 13,
    "start_time": "2023-02-27T08:55:49.385Z"
   },
   {
    "duration": 13,
    "start_time": "2023-02-27T08:55:53.869Z"
   },
   {
    "duration": 17,
    "start_time": "2023-02-27T08:56:09.844Z"
   },
   {
    "duration": 16,
    "start_time": "2023-02-27T08:57:40.317Z"
   },
   {
    "duration": 406,
    "start_time": "2023-02-27T08:57:54.697Z"
   },
   {
    "duration": 166,
    "start_time": "2023-02-27T08:58:04.181Z"
   },
   {
    "duration": 158,
    "start_time": "2023-02-27T08:58:18.072Z"
   },
   {
    "duration": 308,
    "start_time": "2023-02-27T08:58:29.236Z"
   },
   {
    "duration": 21,
    "start_time": "2023-02-27T08:58:45.728Z"
   },
   {
    "duration": 2169,
    "start_time": "2023-02-27T08:59:03.767Z"
   },
   {
    "duration": 147,
    "start_time": "2023-02-27T08:59:27.433Z"
   },
   {
    "duration": 185,
    "start_time": "2023-02-27T08:59:46.218Z"
   },
   {
    "duration": 17,
    "start_time": "2023-02-27T08:59:50.573Z"
   },
   {
    "duration": 16,
    "start_time": "2023-02-27T09:00:02.923Z"
   },
   {
    "duration": 17,
    "start_time": "2023-02-27T09:00:34.914Z"
   },
   {
    "duration": 16,
    "start_time": "2023-02-27T09:00:41.339Z"
   },
   {
    "duration": 33,
    "start_time": "2023-02-27T09:34:38.285Z"
   },
   {
    "duration": 36,
    "start_time": "2023-02-27T09:34:57.997Z"
   },
   {
    "duration": 10,
    "start_time": "2023-02-27T09:35:14.106Z"
   },
   {
    "duration": 7,
    "start_time": "2023-02-27T09:35:31.933Z"
   },
   {
    "duration": 46,
    "start_time": "2023-02-27T09:35:51.904Z"
   },
   {
    "duration": 7,
    "start_time": "2023-02-27T09:37:34.219Z"
   },
   {
    "duration": 8,
    "start_time": "2023-02-27T09:37:41.260Z"
   },
   {
    "duration": 10,
    "start_time": "2023-02-27T09:38:49.863Z"
   },
   {
    "duration": 7,
    "start_time": "2023-02-27T09:38:54.163Z"
   },
   {
    "duration": 17,
    "start_time": "2023-02-27T09:38:59.553Z"
   },
   {
    "duration": 9,
    "start_time": "2023-02-27T09:39:55.264Z"
   },
   {
    "duration": 6,
    "start_time": "2023-02-27T09:40:30.447Z"
   },
   {
    "duration": 11,
    "start_time": "2023-02-27T09:41:24.906Z"
   },
   {
    "duration": 8,
    "start_time": "2023-02-27T09:41:29.704Z"
   },
   {
    "duration": 7,
    "start_time": "2023-02-27T09:43:18.700Z"
   },
   {
    "duration": 6,
    "start_time": "2023-02-27T09:43:30.780Z"
   },
   {
    "duration": 3,
    "start_time": "2023-02-27T09:43:39.612Z"
   },
   {
    "duration": 94,
    "start_time": "2023-02-27T09:43:39.617Z"
   },
   {
    "duration": 38,
    "start_time": "2023-02-27T09:43:39.712Z"
   },
   {
    "duration": 17,
    "start_time": "2023-02-27T09:43:39.751Z"
   },
   {
    "duration": 9,
    "start_time": "2023-02-27T09:43:39.770Z"
   },
   {
    "duration": 27,
    "start_time": "2023-02-27T09:43:39.783Z"
   },
   {
    "duration": 34,
    "start_time": "2023-02-27T09:43:39.812Z"
   },
   {
    "duration": 13,
    "start_time": "2023-02-27T09:43:39.848Z"
   },
   {
    "duration": 20,
    "start_time": "2023-02-27T09:43:39.862Z"
   },
   {
    "duration": 13,
    "start_time": "2023-02-27T09:43:39.883Z"
   },
   {
    "duration": 25,
    "start_time": "2023-02-27T09:43:39.899Z"
   },
   {
    "duration": 16,
    "start_time": "2023-02-27T09:43:39.925Z"
   },
   {
    "duration": 13,
    "start_time": "2023-02-27T09:43:39.943Z"
   },
   {
    "duration": 15,
    "start_time": "2023-02-27T09:43:39.957Z"
   },
   {
    "duration": 15,
    "start_time": "2023-02-27T09:43:39.973Z"
   },
   {
    "duration": 14,
    "start_time": "2023-02-27T09:43:39.990Z"
   },
   {
    "duration": 15,
    "start_time": "2023-02-27T09:43:40.005Z"
   },
   {
    "duration": 24,
    "start_time": "2023-02-27T09:43:40.022Z"
   },
   {
    "duration": 45,
    "start_time": "2023-02-27T09:43:40.048Z"
   },
   {
    "duration": 6,
    "start_time": "2023-02-27T09:43:40.095Z"
   },
   {
    "duration": 17,
    "start_time": "2023-02-27T09:43:40.103Z"
   },
   {
    "duration": 11,
    "start_time": "2023-02-27T09:43:40.122Z"
   },
   {
    "duration": 26,
    "start_time": "2023-02-27T09:43:40.134Z"
   },
   {
    "duration": 28,
    "start_time": "2023-02-27T09:43:40.161Z"
   },
   {
    "duration": 18,
    "start_time": "2023-02-27T09:43:40.190Z"
   },
   {
    "duration": 9,
    "start_time": "2023-02-27T09:43:40.209Z"
   },
   {
    "duration": 16,
    "start_time": "2023-02-27T09:43:40.220Z"
   },
   {
    "duration": 9,
    "start_time": "2023-02-27T09:43:40.237Z"
   },
   {
    "duration": 13,
    "start_time": "2023-02-27T09:43:40.250Z"
   },
   {
    "duration": 8,
    "start_time": "2023-02-27T09:43:40.265Z"
   },
   {
    "duration": 1085,
    "start_time": "2023-02-27T09:43:40.275Z"
   },
   {
    "duration": 5,
    "start_time": "2023-02-27T09:43:41.362Z"
   },
   {
    "duration": 21,
    "start_time": "2023-02-27T09:43:41.368Z"
   },
   {
    "duration": 7,
    "start_time": "2023-02-27T09:43:41.390Z"
   },
   {
    "duration": 16,
    "start_time": "2023-02-27T09:43:41.398Z"
   },
   {
    "duration": 4,
    "start_time": "2023-02-27T09:43:41.415Z"
   },
   {
    "duration": 24,
    "start_time": "2023-02-27T09:43:41.420Z"
   },
   {
    "duration": 160,
    "start_time": "2023-02-27T09:43:41.446Z"
   },
   {
    "duration": 4,
    "start_time": "2023-02-27T09:43:41.608Z"
   },
   {
    "duration": 134,
    "start_time": "2023-02-27T09:43:41.614Z"
   },
   {
    "duration": 17,
    "start_time": "2023-02-27T09:43:41.750Z"
   },
   {
    "duration": 140,
    "start_time": "2023-02-27T09:43:41.769Z"
   },
   {
    "duration": 214,
    "start_time": "2023-02-27T09:43:41.911Z"
   },
   {
    "duration": 21,
    "start_time": "2023-02-27T09:43:42.126Z"
   },
   {
    "duration": 27,
    "start_time": "2023-02-27T09:43:42.148Z"
   },
   {
    "duration": 23,
    "start_time": "2023-02-27T09:43:42.177Z"
   },
   {
    "duration": 18,
    "start_time": "2023-02-27T09:43:42.202Z"
   },
   {
    "duration": 25,
    "start_time": "2023-02-27T09:43:42.222Z"
   },
   {
    "duration": 24,
    "start_time": "2023-02-27T09:43:42.249Z"
   },
   {
    "duration": 28,
    "start_time": "2023-02-27T09:43:42.275Z"
   },
   {
    "duration": 5,
    "start_time": "2023-02-27T09:43:42.305Z"
   },
   {
    "duration": 10,
    "start_time": "2023-02-27T09:43:42.312Z"
   },
   {
    "duration": 38,
    "start_time": "2023-02-27T09:43:55.282Z"
   },
   {
    "duration": 13,
    "start_time": "2023-02-27T09:44:03.370Z"
   },
   {
    "duration": 48,
    "start_time": "2023-02-27T09:44:29.956Z"
   },
   {
    "duration": 48,
    "start_time": "2023-02-27T09:44:36.800Z"
   },
   {
    "duration": 44,
    "start_time": "2023-02-27T09:44:54.660Z"
   },
   {
    "duration": 47,
    "start_time": "2023-02-27T09:45:04.827Z"
   },
   {
    "duration": 15,
    "start_time": "2023-02-27T09:45:15.121Z"
   },
   {
    "duration": 14,
    "start_time": "2023-02-27T09:45:21.268Z"
   },
   {
    "duration": 46,
    "start_time": "2023-02-27T09:45:43.072Z"
   },
   {
    "duration": 50,
    "start_time": "2023-02-27T09:46:10.519Z"
   },
   {
    "duration": 14,
    "start_time": "2023-02-27T09:46:16.421Z"
   },
   {
    "duration": 16,
    "start_time": "2023-02-27T09:46:29.229Z"
   },
   {
    "duration": 19,
    "start_time": "2023-02-27T09:49:21.521Z"
   },
   {
    "duration": 59,
    "start_time": "2023-02-27T09:51:35.298Z"
   },
   {
    "duration": 52,
    "start_time": "2023-02-27T09:51:46.445Z"
   },
   {
    "duration": 45,
    "start_time": "2023-02-27T09:51:52.266Z"
   },
   {
    "duration": 22,
    "start_time": "2023-02-27T09:51:58.866Z"
   },
   {
    "duration": 24,
    "start_time": "2023-02-27T09:52:19.473Z"
   },
   {
    "duration": 20,
    "start_time": "2023-02-27T09:52:45.833Z"
   },
   {
    "duration": 21,
    "start_time": "2023-02-27T09:53:24.259Z"
   },
   {
    "duration": 14,
    "start_time": "2023-02-27T09:55:22.748Z"
   },
   {
    "duration": 8,
    "start_time": "2023-02-27T09:55:34.428Z"
   },
   {
    "duration": 9,
    "start_time": "2023-02-27T09:56:36.266Z"
   },
   {
    "duration": 9,
    "start_time": "2023-02-27T09:56:53.326Z"
   },
   {
    "duration": 14,
    "start_time": "2023-02-27T09:57:14.924Z"
   },
   {
    "duration": 11,
    "start_time": "2023-02-27T09:57:17.183Z"
   },
   {
    "duration": 9,
    "start_time": "2023-02-27T09:57:19.365Z"
   },
   {
    "duration": 8,
    "start_time": "2023-02-27T09:57:20.961Z"
   },
   {
    "duration": 6,
    "start_time": "2023-02-27T09:57:56.876Z"
   },
   {
    "duration": 90,
    "start_time": "2023-02-27T09:58:02.873Z"
   },
   {
    "duration": 8,
    "start_time": "2023-02-27T09:58:06.700Z"
   },
   {
    "duration": 14,
    "start_time": "2023-02-27T09:58:13.199Z"
   },
   {
    "duration": 6,
    "start_time": "2023-02-27T10:01:30.156Z"
   },
   {
    "duration": 10,
    "start_time": "2023-02-27T10:02:02.389Z"
   },
   {
    "duration": 9,
    "start_time": "2023-02-27T10:02:12.067Z"
   },
   {
    "duration": 21,
    "start_time": "2023-02-27T10:02:19.411Z"
   },
   {
    "duration": 418,
    "start_time": "2023-02-27T14:39:03.362Z"
   },
   {
    "duration": 416,
    "start_time": "2023-02-27T14:39:03.782Z"
   },
   {
    "duration": 105,
    "start_time": "2023-02-27T14:39:04.200Z"
   },
   {
    "duration": 24,
    "start_time": "2023-02-27T14:39:04.307Z"
   },
   {
    "duration": 20,
    "start_time": "2023-02-27T14:39:04.332Z"
   },
   {
    "duration": 26,
    "start_time": "2023-02-27T14:39:04.356Z"
   },
   {
    "duration": 71,
    "start_time": "2023-02-27T14:39:04.384Z"
   },
   {
    "duration": 36,
    "start_time": "2023-02-27T14:39:04.457Z"
   },
   {
    "duration": 57,
    "start_time": "2023-02-27T14:39:04.495Z"
   },
   {
    "duration": 28,
    "start_time": "2023-02-27T14:39:04.555Z"
   },
   {
    "duration": 48,
    "start_time": "2023-02-27T14:39:04.584Z"
   },
   {
    "duration": 73,
    "start_time": "2023-02-27T14:39:04.633Z"
   },
   {
    "duration": 17,
    "start_time": "2023-02-27T14:39:04.708Z"
   },
   {
    "duration": 42,
    "start_time": "2023-02-27T14:39:04.727Z"
   },
   {
    "duration": 39,
    "start_time": "2023-02-27T14:39:04.771Z"
   },
   {
    "duration": 39,
    "start_time": "2023-02-27T14:39:04.812Z"
   },
   {
    "duration": 52,
    "start_time": "2023-02-27T14:39:04.852Z"
   },
   {
    "duration": 71,
    "start_time": "2023-02-27T14:39:04.906Z"
   },
   {
    "duration": 27,
    "start_time": "2023-02-27T14:39:04.978Z"
   },
   {
    "duration": 10,
    "start_time": "2023-02-27T14:39:05.007Z"
   },
   {
    "duration": 19,
    "start_time": "2023-02-27T14:39:05.019Z"
   },
   {
    "duration": 41,
    "start_time": "2023-02-27T14:39:05.039Z"
   },
   {
    "duration": 23,
    "start_time": "2023-02-27T14:39:05.082Z"
   },
   {
    "duration": 37,
    "start_time": "2023-02-27T14:39:05.106Z"
   },
   {
    "duration": 27,
    "start_time": "2023-02-27T14:39:05.151Z"
   },
   {
    "duration": 13,
    "start_time": "2023-02-27T14:39:05.179Z"
   },
   {
    "duration": 33,
    "start_time": "2023-02-27T14:39:05.194Z"
   },
   {
    "duration": 8,
    "start_time": "2023-02-27T14:39:05.232Z"
   },
   {
    "duration": 29,
    "start_time": "2023-02-27T14:39:05.242Z"
   },
   {
    "duration": 16,
    "start_time": "2023-02-27T14:39:05.272Z"
   },
   {
    "duration": 1604,
    "start_time": "2023-02-27T14:39:05.290Z"
   },
   {
    "duration": 5,
    "start_time": "2023-02-27T14:39:06.896Z"
   },
   {
    "duration": 34,
    "start_time": "2023-02-27T14:39:06.903Z"
   },
   {
    "duration": 50,
    "start_time": "2023-02-27T14:39:06.942Z"
   },
   {
    "duration": 30,
    "start_time": "2023-02-27T14:39:06.994Z"
   },
   {
    "duration": 15,
    "start_time": "2023-02-27T14:39:07.025Z"
   },
   {
    "duration": 41,
    "start_time": "2023-02-27T14:39:07.041Z"
   },
   {
    "duration": 190,
    "start_time": "2023-02-27T14:39:07.084Z"
   },
   {
    "duration": 5,
    "start_time": "2023-02-27T14:39:07.276Z"
   },
   {
    "duration": 188,
    "start_time": "2023-02-27T14:39:07.283Z"
   },
   {
    "duration": 24,
    "start_time": "2023-02-27T14:39:07.473Z"
   },
   {
    "duration": 178,
    "start_time": "2023-02-27T14:39:07.498Z"
   },
   {
    "duration": 279,
    "start_time": "2023-02-27T14:39:07.678Z"
   },
   {
    "duration": 23,
    "start_time": "2023-02-27T14:39:07.959Z"
   },
   {
    "duration": 49,
    "start_time": "2023-02-27T14:39:07.984Z"
   },
   {
    "duration": 69,
    "start_time": "2023-02-27T14:39:08.035Z"
   },
   {
    "duration": 43,
    "start_time": "2023-02-27T14:39:08.107Z"
   },
   {
    "duration": 55,
    "start_time": "2023-02-27T14:39:08.152Z"
   },
   {
    "duration": 49,
    "start_time": "2023-02-27T14:39:08.209Z"
   },
   {
    "duration": 43,
    "start_time": "2023-02-27T14:39:08.260Z"
   },
   {
    "duration": 19,
    "start_time": "2023-02-27T14:39:08.305Z"
   },
   {
    "duration": 29,
    "start_time": "2023-02-27T14:39:08.325Z"
   },
   {
    "duration": 32,
    "start_time": "2023-02-27T14:39:08.356Z"
   },
   {
    "duration": 23,
    "start_time": "2023-02-27T14:39:08.390Z"
   },
   {
    "duration": 19,
    "start_time": "2023-02-27T14:39:08.415Z"
   },
   {
    "duration": 18,
    "start_time": "2023-02-27T14:41:55.238Z"
   },
   {
    "duration": 162,
    "start_time": "2023-02-27T14:42:05.633Z"
   },
   {
    "duration": 208,
    "start_time": "2023-02-27T14:42:30.392Z"
   },
   {
    "duration": 26,
    "start_time": "2023-02-27T14:44:02.663Z"
   },
   {
    "duration": 242,
    "start_time": "2023-02-27T14:44:13.543Z"
   },
   {
    "duration": 23,
    "start_time": "2023-02-27T14:44:39.973Z"
   },
   {
    "duration": 241,
    "start_time": "2023-02-27T14:44:46.753Z"
   },
   {
    "duration": 42,
    "start_time": "2023-02-27T14:59:18.813Z"
   },
   {
    "duration": 8,
    "start_time": "2023-02-27T15:00:10.757Z"
   },
   {
    "duration": 18,
    "start_time": "2023-02-27T15:00:22.337Z"
   },
   {
    "duration": 11,
    "start_time": "2023-02-27T15:00:23.216Z"
   },
   {
    "duration": 16,
    "start_time": "2023-02-27T15:00:28.070Z"
   },
   {
    "duration": 10,
    "start_time": "2023-02-27T15:00:29.449Z"
   },
   {
    "duration": 188,
    "start_time": "2023-02-27T15:04:03.565Z"
   },
   {
    "duration": 75,
    "start_time": "2023-02-27T15:04:18.056Z"
   },
   {
    "duration": 19,
    "start_time": "2023-02-27T15:04:20.432Z"
   },
   {
    "duration": 3,
    "start_time": "2023-02-27T15:18:23.533Z"
   },
   {
    "duration": 125,
    "start_time": "2023-02-27T15:18:23.540Z"
   },
   {
    "duration": 48,
    "start_time": "2023-02-27T15:18:23.667Z"
   },
   {
    "duration": 18,
    "start_time": "2023-02-27T15:18:23.717Z"
   },
   {
    "duration": 113,
    "start_time": "2023-02-27T15:18:23.737Z"
   },
   {
    "duration": 17,
    "start_time": "2023-02-27T15:18:23.852Z"
   },
   {
    "duration": 27,
    "start_time": "2023-02-27T15:18:23.871Z"
   },
   {
    "duration": 8,
    "start_time": "2023-02-27T15:18:23.900Z"
   },
   {
    "duration": 20,
    "start_time": "2023-02-27T15:18:23.909Z"
   },
   {
    "duration": 30,
    "start_time": "2023-02-27T15:18:23.930Z"
   },
   {
    "duration": 16,
    "start_time": "2023-02-27T15:18:23.961Z"
   },
   {
    "duration": 13,
    "start_time": "2023-02-27T15:18:23.979Z"
   },
   {
    "duration": 17,
    "start_time": "2023-02-27T15:18:23.994Z"
   },
   {
    "duration": 17,
    "start_time": "2023-02-27T15:18:24.013Z"
   },
   {
    "duration": 21,
    "start_time": "2023-02-27T15:18:24.031Z"
   },
   {
    "duration": 16,
    "start_time": "2023-02-27T15:18:24.054Z"
   },
   {
    "duration": 17,
    "start_time": "2023-02-27T15:18:24.071Z"
   },
   {
    "duration": 28,
    "start_time": "2023-02-27T15:18:24.090Z"
   },
   {
    "duration": 41,
    "start_time": "2023-02-27T15:18:24.138Z"
   },
   {
    "duration": 10,
    "start_time": "2023-02-27T15:18:24.182Z"
   },
   {
    "duration": 24,
    "start_time": "2023-02-27T15:18:24.194Z"
   },
   {
    "duration": 17,
    "start_time": "2023-02-27T15:18:24.237Z"
   },
   {
    "duration": 24,
    "start_time": "2023-02-27T15:18:24.256Z"
   },
   {
    "duration": 22,
    "start_time": "2023-02-27T15:18:24.282Z"
   },
   {
    "duration": 12,
    "start_time": "2023-02-27T15:18:24.306Z"
   },
   {
    "duration": 9,
    "start_time": "2023-02-27T15:18:24.320Z"
   },
   {
    "duration": 27,
    "start_time": "2023-02-27T15:18:24.330Z"
   },
   {
    "duration": 10,
    "start_time": "2023-02-27T15:18:24.358Z"
   },
   {
    "duration": 12,
    "start_time": "2023-02-27T15:18:24.370Z"
   },
   {
    "duration": 9,
    "start_time": "2023-02-27T15:18:24.384Z"
   },
   {
    "duration": 971,
    "start_time": "2023-02-27T15:18:24.395Z"
   },
   {
    "duration": 5,
    "start_time": "2023-02-27T15:18:25.367Z"
   },
   {
    "duration": 10,
    "start_time": "2023-02-27T15:18:25.373Z"
   },
   {
    "duration": 76,
    "start_time": "2023-02-27T15:18:25.384Z"
   },
   {
    "duration": 37,
    "start_time": "2023-02-27T15:18:25.462Z"
   },
   {
    "duration": 11,
    "start_time": "2023-02-27T15:18:25.501Z"
   },
   {
    "duration": 58,
    "start_time": "2023-02-27T15:18:25.516Z"
   },
   {
    "duration": 157,
    "start_time": "2023-02-27T15:18:25.576Z"
   },
   {
    "duration": 9,
    "start_time": "2023-02-27T15:18:25.737Z"
   },
   {
    "duration": 150,
    "start_time": "2023-02-27T15:18:25.749Z"
   },
   {
    "duration": 19,
    "start_time": "2023-02-27T15:18:25.901Z"
   },
   {
    "duration": 183,
    "start_time": "2023-02-27T15:18:25.922Z"
   },
   {
    "duration": 251,
    "start_time": "2023-02-27T15:18:26.107Z"
   },
   {
    "duration": 21,
    "start_time": "2023-02-27T15:18:26.360Z"
   },
   {
    "duration": 33,
    "start_time": "2023-02-27T15:18:26.383Z"
   },
   {
    "duration": 38,
    "start_time": "2023-02-27T15:18:26.418Z"
   },
   {
    "duration": 30,
    "start_time": "2023-02-27T15:18:26.458Z"
   },
   {
    "duration": 52,
    "start_time": "2023-02-27T15:18:26.490Z"
   },
   {
    "duration": 27,
    "start_time": "2023-02-27T15:18:26.544Z"
   },
   {
    "duration": 179,
    "start_time": "2023-02-27T15:18:26.572Z"
   },
   {
    "duration": 12,
    "start_time": "2023-02-27T15:18:26.753Z"
   },
   {
    "duration": 19,
    "start_time": "2023-02-27T15:18:26.767Z"
   },
   {
    "duration": 23,
    "start_time": "2023-02-27T15:18:26.788Z"
   },
   {
    "duration": 38,
    "start_time": "2023-02-27T15:18:26.812Z"
   },
   {
    "duration": 19,
    "start_time": "2023-02-27T15:18:26.854Z"
   },
   {
    "duration": 37,
    "start_time": "2023-02-27T15:18:32.615Z"
   },
   {
    "duration": 16,
    "start_time": "2023-02-27T15:19:34.996Z"
   },
   {
    "duration": 90,
    "start_time": "2023-02-27T15:19:55.767Z"
   },
   {
    "duration": 13,
    "start_time": "2023-02-27T15:20:18.230Z"
   },
   {
    "duration": 18,
    "start_time": "2023-02-27T15:21:26.882Z"
   },
   {
    "duration": 10,
    "start_time": "2023-02-27T15:21:28.802Z"
   },
   {
    "duration": 14,
    "start_time": "2023-02-27T15:21:57.976Z"
   },
   {
    "duration": 9,
    "start_time": "2023-02-27T15:21:59.008Z"
   },
   {
    "duration": 10,
    "start_time": "2023-02-27T15:31:22.077Z"
   },
   {
    "duration": 10,
    "start_time": "2023-02-27T15:31:25.369Z"
   },
   {
    "duration": 26,
    "start_time": "2023-02-27T15:31:32.077Z"
   },
   {
    "duration": 15,
    "start_time": "2023-02-27T15:31:38.404Z"
   },
   {
    "duration": 34,
    "start_time": "2023-02-27T15:31:53.566Z"
   },
   {
    "duration": 18,
    "start_time": "2023-02-27T15:34:46.806Z"
   },
   {
    "duration": 18,
    "start_time": "2023-02-27T15:35:09.753Z"
   },
   {
    "duration": 30,
    "start_time": "2023-02-27T15:35:19.065Z"
   },
   {
    "duration": 385,
    "start_time": "2023-02-28T03:26:20.424Z"
   },
   {
    "duration": 215,
    "start_time": "2023-02-28T03:26:20.811Z"
   },
   {
    "duration": 101,
    "start_time": "2023-02-28T03:26:21.027Z"
   },
   {
    "duration": 21,
    "start_time": "2023-02-28T03:26:21.130Z"
   },
   {
    "duration": 3,
    "start_time": "2023-02-28T03:26:21.153Z"
   },
   {
    "duration": 16,
    "start_time": "2023-02-28T03:26:21.157Z"
   },
   {
    "duration": 14,
    "start_time": "2023-02-28T03:26:21.175Z"
   },
   {
    "duration": 10,
    "start_time": "2023-02-28T03:26:21.191Z"
   },
   {
    "duration": 17,
    "start_time": "2023-02-28T03:26:21.203Z"
   },
   {
    "duration": 9,
    "start_time": "2023-02-28T03:26:21.222Z"
   },
   {
    "duration": 13,
    "start_time": "2023-02-28T03:26:21.233Z"
   },
   {
    "duration": 5,
    "start_time": "2023-02-28T03:26:21.248Z"
   },
   {
    "duration": 37,
    "start_time": "2023-02-28T03:26:21.255Z"
   },
   {
    "duration": 19,
    "start_time": "2023-02-28T03:26:21.294Z"
   },
   {
    "duration": 14,
    "start_time": "2023-02-28T03:26:21.315Z"
   },
   {
    "duration": 12,
    "start_time": "2023-02-28T03:26:21.330Z"
   },
   {
    "duration": 14,
    "start_time": "2023-02-28T03:26:21.344Z"
   },
   {
    "duration": 63,
    "start_time": "2023-02-28T03:26:21.394Z"
   },
   {
    "duration": 20,
    "start_time": "2023-02-28T03:26:21.458Z"
   },
   {
    "duration": 11,
    "start_time": "2023-02-28T03:26:21.480Z"
   },
   {
    "duration": 16,
    "start_time": "2023-02-28T03:26:21.492Z"
   },
   {
    "duration": 12,
    "start_time": "2023-02-28T03:26:21.509Z"
   },
   {
    "duration": 10,
    "start_time": "2023-02-28T03:26:21.522Z"
   },
   {
    "duration": 22,
    "start_time": "2023-02-28T03:26:21.534Z"
   },
   {
    "duration": 12,
    "start_time": "2023-02-28T03:26:21.557Z"
   },
   {
    "duration": 22,
    "start_time": "2023-02-28T03:26:21.571Z"
   },
   {
    "duration": 13,
    "start_time": "2023-02-28T03:26:21.594Z"
   },
   {
    "duration": 5,
    "start_time": "2023-02-28T03:26:21.610Z"
   },
   {
    "duration": 7,
    "start_time": "2023-02-28T03:26:21.617Z"
   },
   {
    "duration": 9,
    "start_time": "2023-02-28T03:26:21.625Z"
   },
   {
    "duration": 1380,
    "start_time": "2023-02-28T03:26:21.636Z"
   },
   {
    "duration": 5,
    "start_time": "2023-02-28T03:26:23.017Z"
   },
   {
    "duration": 11,
    "start_time": "2023-02-28T03:26:23.023Z"
   },
   {
    "duration": 6,
    "start_time": "2023-02-28T03:26:23.036Z"
   },
   {
    "duration": 20,
    "start_time": "2023-02-28T03:26:23.044Z"
   },
   {
    "duration": 5,
    "start_time": "2023-02-28T03:26:23.065Z"
   },
   {
    "duration": 20,
    "start_time": "2023-02-28T03:26:23.092Z"
   },
   {
    "duration": 165,
    "start_time": "2023-02-28T03:26:23.114Z"
   },
   {
    "duration": 4,
    "start_time": "2023-02-28T03:26:23.281Z"
   },
   {
    "duration": 141,
    "start_time": "2023-02-28T03:26:23.292Z"
   },
   {
    "duration": 19,
    "start_time": "2023-02-28T03:26:23.434Z"
   },
   {
    "duration": 153,
    "start_time": "2023-02-28T03:26:23.455Z"
   },
   {
    "duration": 211,
    "start_time": "2023-02-28T03:26:23.610Z"
   },
   {
    "duration": 29,
    "start_time": "2023-02-28T03:26:23.822Z"
   },
   {
    "duration": 10,
    "start_time": "2023-02-28T03:26:23.853Z"
   },
   {
    "duration": 36,
    "start_time": "2023-02-28T03:26:23.865Z"
   },
   {
    "duration": 11,
    "start_time": "2023-02-28T03:26:23.903Z"
   },
   {
    "duration": 13,
    "start_time": "2023-02-28T03:26:23.915Z"
   },
   {
    "duration": 6,
    "start_time": "2023-02-28T03:26:23.930Z"
   },
   {
    "duration": 16,
    "start_time": "2023-02-28T03:26:23.937Z"
   },
   {
    "duration": 7,
    "start_time": "2023-02-28T03:26:23.955Z"
   },
   {
    "duration": 37,
    "start_time": "2023-02-28T03:26:23.963Z"
   },
   {
    "duration": 16,
    "start_time": "2023-02-28T03:26:24.001Z"
   },
   {
    "duration": 7,
    "start_time": "2023-02-28T03:28:11.988Z"
   },
   {
    "duration": 5,
    "start_time": "2023-02-28T03:31:50.863Z"
   },
   {
    "duration": 12,
    "start_time": "2023-02-28T03:32:05.451Z"
   },
   {
    "duration": 6,
    "start_time": "2023-02-28T03:32:17.339Z"
   },
   {
    "duration": 7,
    "start_time": "2023-02-28T03:32:18.168Z"
   },
   {
    "duration": 2,
    "start_time": "2023-02-28T03:32:19.097Z"
   },
   {
    "duration": 970,
    "start_time": "2023-02-28T03:32:20.093Z"
   },
   {
    "duration": 503,
    "start_time": "2023-02-28T03:32:26.421Z"
   },
   {
    "duration": 638,
    "start_time": "2023-02-28T03:32:36.586Z"
   },
   {
    "duration": 12,
    "start_time": "2023-02-28T03:32:51.273Z"
   },
   {
    "duration": 751,
    "start_time": "2023-02-28T03:32:58.058Z"
   },
   {
    "duration": 1440,
    "start_time": "2023-02-28T03:33:16.418Z"
   },
   {
    "duration": 247,
    "start_time": "2023-02-28T03:33:29.957Z"
   },
   {
    "duration": 817,
    "start_time": "2023-02-28T03:33:37.350Z"
   },
   {
    "duration": 443,
    "start_time": "2023-03-01T12:26:15.418Z"
   },
   {
    "duration": 295,
    "start_time": "2023-03-01T12:26:15.864Z"
   },
   {
    "duration": 133,
    "start_time": "2023-03-01T12:26:16.162Z"
   },
   {
    "duration": 32,
    "start_time": "2023-03-01T12:26:16.297Z"
   },
   {
    "duration": 16,
    "start_time": "2023-03-01T12:26:16.332Z"
   },
   {
    "duration": 37,
    "start_time": "2023-03-01T12:26:16.350Z"
   },
   {
    "duration": 25,
    "start_time": "2023-03-01T12:26:16.389Z"
   },
   {
    "duration": 16,
    "start_time": "2023-03-01T12:26:16.416Z"
   },
   {
    "duration": 19,
    "start_time": "2023-03-01T12:26:16.434Z"
   },
   {
    "duration": 23,
    "start_time": "2023-03-01T12:26:16.454Z"
   },
   {
    "duration": 60,
    "start_time": "2023-03-01T12:26:16.479Z"
   },
   {
    "duration": 28,
    "start_time": "2023-03-01T12:26:16.541Z"
   },
   {
    "duration": 52,
    "start_time": "2023-03-01T12:26:16.571Z"
   },
   {
    "duration": 27,
    "start_time": "2023-03-01T12:26:16.628Z"
   },
   {
    "duration": 76,
    "start_time": "2023-03-01T12:26:16.658Z"
   },
   {
    "duration": 22,
    "start_time": "2023-03-01T12:26:16.736Z"
   },
   {
    "duration": 30,
    "start_time": "2023-03-01T12:26:16.762Z"
   },
   {
    "duration": 83,
    "start_time": "2023-03-01T12:26:16.794Z"
   },
   {
    "duration": 35,
    "start_time": "2023-03-01T12:26:16.879Z"
   },
   {
    "duration": 10,
    "start_time": "2023-03-01T12:26:16.919Z"
   },
   {
    "duration": 18,
    "start_time": "2023-03-01T12:26:16.932Z"
   },
   {
    "duration": 17,
    "start_time": "2023-03-01T12:26:16.954Z"
   },
   {
    "duration": 65,
    "start_time": "2023-03-01T12:26:16.973Z"
   },
   {
    "duration": 39,
    "start_time": "2023-03-01T12:26:17.040Z"
   },
   {
    "duration": 21,
    "start_time": "2023-03-01T12:26:17.081Z"
   },
   {
    "duration": 19,
    "start_time": "2023-03-01T12:26:17.104Z"
   },
   {
    "duration": 46,
    "start_time": "2023-03-01T12:26:17.125Z"
   },
   {
    "duration": 28,
    "start_time": "2023-03-01T12:26:17.173Z"
   },
   {
    "duration": 7,
    "start_time": "2023-03-01T12:26:17.203Z"
   },
   {
    "duration": 1206,
    "start_time": "2023-03-01T12:26:17.212Z"
   },
   {
    "duration": 5,
    "start_time": "2023-03-01T12:26:18.420Z"
   },
   {
    "duration": 17,
    "start_time": "2023-03-01T12:26:18.427Z"
   },
   {
    "duration": 24,
    "start_time": "2023-03-01T12:26:18.446Z"
   },
   {
    "duration": 35,
    "start_time": "2023-03-01T12:26:18.472Z"
   },
   {
    "duration": 8,
    "start_time": "2023-03-01T12:26:18.509Z"
   },
   {
    "duration": 45,
    "start_time": "2023-03-01T12:26:18.520Z"
   },
   {
    "duration": 235,
    "start_time": "2023-03-01T12:26:18.568Z"
   },
   {
    "duration": 5,
    "start_time": "2023-03-01T12:26:18.804Z"
   },
   {
    "duration": 153,
    "start_time": "2023-03-01T12:26:18.811Z"
   },
   {
    "duration": 34,
    "start_time": "2023-03-01T12:26:18.966Z"
   },
   {
    "duration": 162,
    "start_time": "2023-03-01T12:26:19.004Z"
   },
   {
    "duration": 230,
    "start_time": "2023-03-01T12:26:19.168Z"
   },
   {
    "duration": 30,
    "start_time": "2023-03-01T12:26:19.400Z"
   },
   {
    "duration": 11,
    "start_time": "2023-03-01T12:26:19.431Z"
   },
   {
    "duration": 20,
    "start_time": "2023-03-01T12:26:19.444Z"
   },
   {
    "duration": 37,
    "start_time": "2023-03-01T12:26:19.465Z"
   },
   {
    "duration": 15,
    "start_time": "2023-03-01T12:26:19.504Z"
   },
   {
    "duration": 6,
    "start_time": "2023-03-01T12:26:19.521Z"
   },
   {
    "duration": 16,
    "start_time": "2023-03-01T12:26:19.528Z"
   },
   {
    "duration": 48,
    "start_time": "2023-03-01T12:26:19.546Z"
   },
   {
    "duration": 11,
    "start_time": "2023-03-01T12:26:19.595Z"
   },
   {
    "duration": 12,
    "start_time": "2023-03-01T12:26:19.608Z"
   },
   {
    "duration": 5,
    "start_time": "2023-03-01T12:29:20.602Z"
   },
   {
    "duration": 17,
    "start_time": "2023-03-01T12:29:22.287Z"
   },
   {
    "duration": 7,
    "start_time": "2023-03-01T12:30:44.888Z"
   },
   {
    "duration": 15,
    "start_time": "2023-03-01T12:30:52.130Z"
   },
   {
    "duration": 8,
    "start_time": "2023-03-01T12:30:55.970Z"
   },
   {
    "duration": 23,
    "start_time": "2023-03-01T12:31:59.295Z"
   },
   {
    "duration": 4,
    "start_time": "2023-03-01T12:32:08.029Z"
   },
   {
    "duration": 115,
    "start_time": "2023-03-01T12:32:08.035Z"
   },
   {
    "duration": 45,
    "start_time": "2023-03-01T12:32:08.152Z"
   },
   {
    "duration": 18,
    "start_time": "2023-03-01T12:32:08.199Z"
   },
   {
    "duration": 10,
    "start_time": "2023-03-01T12:32:08.219Z"
   },
   {
    "duration": 9,
    "start_time": "2023-03-01T12:32:08.231Z"
   },
   {
    "duration": 15,
    "start_time": "2023-03-01T12:32:08.242Z"
   },
   {
    "duration": 8,
    "start_time": "2023-03-01T12:32:08.259Z"
   },
   {
    "duration": 16,
    "start_time": "2023-03-01T12:32:08.269Z"
   },
   {
    "duration": 10,
    "start_time": "2023-03-01T12:32:08.286Z"
   },
   {
    "duration": 13,
    "start_time": "2023-03-01T12:32:08.298Z"
   },
   {
    "duration": 7,
    "start_time": "2023-03-01T12:32:08.313Z"
   },
   {
    "duration": 14,
    "start_time": "2023-03-01T12:32:08.322Z"
   },
   {
    "duration": 18,
    "start_time": "2023-03-01T12:32:08.339Z"
   },
   {
    "duration": 14,
    "start_time": "2023-03-01T12:32:08.358Z"
   },
   {
    "duration": 29,
    "start_time": "2023-03-01T12:32:08.375Z"
   },
   {
    "duration": 16,
    "start_time": "2023-03-01T12:32:08.406Z"
   },
   {
    "duration": 27,
    "start_time": "2023-03-01T12:32:08.424Z"
   },
   {
    "duration": 23,
    "start_time": "2023-03-01T12:32:08.453Z"
   },
   {
    "duration": 10,
    "start_time": "2023-03-01T12:32:08.491Z"
   },
   {
    "duration": 22,
    "start_time": "2023-03-01T12:32:08.504Z"
   },
   {
    "duration": 16,
    "start_time": "2023-03-01T12:32:08.528Z"
   },
   {
    "duration": 9,
    "start_time": "2023-03-01T12:32:08.546Z"
   },
   {
    "duration": 24,
    "start_time": "2023-03-01T12:32:08.557Z"
   },
   {
    "duration": 10,
    "start_time": "2023-03-01T12:32:08.584Z"
   },
   {
    "duration": 5,
    "start_time": "2023-03-01T12:32:08.596Z"
   },
   {
    "duration": 8,
    "start_time": "2023-03-01T12:32:08.603Z"
   },
   {
    "duration": 8,
    "start_time": "2023-03-01T12:32:08.613Z"
   },
   {
    "duration": 4,
    "start_time": "2023-03-01T12:32:08.623Z"
   },
   {
    "duration": 801,
    "start_time": "2023-03-01T12:32:08.628Z"
   },
   {
    "duration": 5,
    "start_time": "2023-03-01T12:32:09.431Z"
   },
   {
    "duration": 62,
    "start_time": "2023-03-01T12:32:09.438Z"
   },
   {
    "duration": 12,
    "start_time": "2023-03-01T12:32:09.503Z"
   },
   {
    "duration": 22,
    "start_time": "2023-03-01T12:32:09.517Z"
   },
   {
    "duration": 5,
    "start_time": "2023-03-01T12:32:09.542Z"
   },
   {
    "duration": 32,
    "start_time": "2023-03-01T12:32:09.592Z"
   },
   {
    "duration": 172,
    "start_time": "2023-03-01T12:32:09.626Z"
   },
   {
    "duration": 5,
    "start_time": "2023-03-01T12:32:09.799Z"
   },
   {
    "duration": 163,
    "start_time": "2023-03-01T12:32:09.807Z"
   },
   {
    "duration": 38,
    "start_time": "2023-03-01T12:32:09.972Z"
   },
   {
    "duration": 272,
    "start_time": "2023-03-01T12:32:10.015Z"
   },
   {
    "duration": 288,
    "start_time": "2023-03-01T12:32:10.292Z"
   },
   {
    "duration": 40,
    "start_time": "2023-03-01T12:32:10.582Z"
   },
   {
    "duration": 14,
    "start_time": "2023-03-01T12:32:10.624Z"
   },
   {
    "duration": 20,
    "start_time": "2023-03-01T12:32:10.639Z"
   },
   {
    "duration": 41,
    "start_time": "2023-03-01T12:32:10.661Z"
   },
   {
    "duration": 15,
    "start_time": "2023-03-01T12:32:10.704Z"
   },
   {
    "duration": 9,
    "start_time": "2023-03-01T12:32:10.721Z"
   },
   {
    "duration": 21,
    "start_time": "2023-03-01T12:32:10.733Z"
   },
   {
    "duration": 37,
    "start_time": "2023-03-01T12:32:10.756Z"
   },
   {
    "duration": 10,
    "start_time": "2023-03-01T12:32:10.795Z"
   },
   {
    "duration": 21,
    "start_time": "2023-03-01T12:32:10.806Z"
   },
   {
    "duration": 28,
    "start_time": "2023-03-01T12:32:25.618Z"
   },
   {
    "duration": 564,
    "start_time": "2023-03-01T12:33:16.619Z"
   },
   {
    "duration": 686,
    "start_time": "2023-03-01T12:33:21.043Z"
   },
   {
    "duration": 12,
    "start_time": "2023-03-01T12:33:41.231Z"
   },
   {
    "duration": 11,
    "start_time": "2023-03-01T12:33:47.554Z"
   },
   {
    "duration": 14,
    "start_time": "2023-03-01T12:34:05.561Z"
   },
   {
    "duration": 17,
    "start_time": "2023-03-01T12:34:14.895Z"
   },
   {
    "duration": 15,
    "start_time": "2023-03-01T12:34:21.774Z"
   },
   {
    "duration": 29,
    "start_time": "2023-03-01T12:34:28.330Z"
   },
   {
    "duration": 189,
    "start_time": "2023-03-01T12:35:06.226Z"
   },
   {
    "duration": 156,
    "start_time": "2023-03-01T12:35:19.705Z"
   },
   {
    "duration": 305,
    "start_time": "2023-03-01T12:35:36.541Z"
   },
   {
    "duration": 216,
    "start_time": "2023-03-01T12:35:53.095Z"
   },
   {
    "duration": 184,
    "start_time": "2023-03-01T12:36:08.080Z"
   },
   {
    "duration": 180,
    "start_time": "2023-03-01T12:36:12.449Z"
   },
   {
    "duration": 204,
    "start_time": "2023-03-01T12:36:47.552Z"
   },
   {
    "duration": 214,
    "start_time": "2023-03-01T12:37:03.343Z"
   },
   {
    "duration": 260,
    "start_time": "2023-03-01T12:39:12.739Z"
   },
   {
    "duration": 231,
    "start_time": "2023-03-01T12:39:25.736Z"
   },
   {
    "duration": 223,
    "start_time": "2023-03-01T12:40:55.713Z"
   },
   {
    "duration": 230,
    "start_time": "2023-03-01T12:41:34.418Z"
   },
   {
    "duration": 304,
    "start_time": "2023-03-01T12:44:32.887Z"
   },
   {
    "duration": 9,
    "start_time": "2023-03-01T12:44:43.173Z"
   },
   {
    "duration": 144,
    "start_time": "2023-03-01T12:53:10.071Z"
   },
   {
    "duration": 244,
    "start_time": "2023-03-01T12:54:10.439Z"
   },
   {
    "duration": 94,
    "start_time": "2023-03-01T12:54:23.085Z"
   },
   {
    "duration": 244,
    "start_time": "2023-03-01T12:54:28.632Z"
   },
   {
    "duration": 244,
    "start_time": "2023-03-01T12:54:38.773Z"
   },
   {
    "duration": 226,
    "start_time": "2023-03-01T12:54:42.907Z"
   },
   {
    "duration": 207,
    "start_time": "2023-03-01T12:54:48.451Z"
   },
   {
    "duration": 226,
    "start_time": "2023-03-01T12:55:04.755Z"
   },
   {
    "duration": 202,
    "start_time": "2023-03-01T12:55:08.020Z"
   },
   {
    "duration": 248,
    "start_time": "2023-03-01T12:55:50.025Z"
   },
   {
    "duration": 232,
    "start_time": "2023-03-01T12:56:34.121Z"
   },
   {
    "duration": 20,
    "start_time": "2023-03-01T12:59:05.118Z"
   },
   {
    "duration": 16,
    "start_time": "2023-03-01T13:00:15.513Z"
   },
   {
    "duration": 24,
    "start_time": "2023-03-01T13:06:35.377Z"
   },
   {
    "duration": 27,
    "start_time": "2023-03-01T13:07:05.767Z"
   },
   {
    "duration": 94,
    "start_time": "2023-03-01T13:08:46.867Z"
   },
   {
    "duration": 104,
    "start_time": "2023-03-01T13:11:16.070Z"
   },
   {
    "duration": 31,
    "start_time": "2023-03-01T13:11:23.617Z"
   },
   {
    "duration": 294,
    "start_time": "2023-03-01T13:13:56.361Z"
   },
   {
    "duration": 230,
    "start_time": "2023-03-01T13:15:13.005Z"
   },
   {
    "duration": 70,
    "start_time": "2023-03-01T13:17:27.524Z"
   },
   {
    "duration": 234,
    "start_time": "2023-03-01T13:17:47.252Z"
   },
   {
    "duration": 249,
    "start_time": "2023-03-01T13:19:47.736Z"
   },
   {
    "duration": 9,
    "start_time": "2023-03-01T13:20:44.073Z"
   },
   {
    "duration": 32,
    "start_time": "2023-03-01T13:20:51.622Z"
   },
   {
    "duration": 11,
    "start_time": "2023-03-01T13:20:54.950Z"
   },
   {
    "duration": 13,
    "start_time": "2023-03-01T13:21:07.456Z"
   },
   {
    "duration": 17,
    "start_time": "2023-03-01T13:21:21.886Z"
   },
   {
    "duration": 13,
    "start_time": "2023-03-01T13:22:00.335Z"
   },
   {
    "duration": 17,
    "start_time": "2023-03-01T13:22:30.153Z"
   },
   {
    "duration": 547,
    "start_time": "2023-03-01T13:23:29.339Z"
   },
   {
    "duration": 507,
    "start_time": "2023-03-01T13:23:38.548Z"
   },
   {
    "duration": 455,
    "start_time": "2023-03-01T13:24:19.356Z"
   },
   {
    "duration": 522,
    "start_time": "2023-03-01T13:24:24.581Z"
   },
   {
    "duration": 233,
    "start_time": "2023-03-01T13:25:06.921Z"
   },
   {
    "duration": 230,
    "start_time": "2023-03-01T13:25:15.334Z"
   },
   {
    "duration": 20,
    "start_time": "2023-03-01T13:27:36.722Z"
   },
   {
    "duration": 246,
    "start_time": "2023-03-01T13:27:40.778Z"
   },
   {
    "duration": 14,
    "start_time": "2023-03-01T13:27:47.868Z"
   },
   {
    "duration": 9,
    "start_time": "2023-03-01T13:35:09.806Z"
   },
   {
    "duration": 17,
    "start_time": "2023-03-01T13:35:12.264Z"
   },
   {
    "duration": 286,
    "start_time": "2023-03-01T13:35:13.552Z"
   },
   {
    "duration": 206,
    "start_time": "2023-03-01T13:35:22.809Z"
   },
   {
    "duration": 3,
    "start_time": "2023-03-01T14:26:00.599Z"
   },
   {
    "duration": 122,
    "start_time": "2023-03-01T14:26:00.604Z"
   },
   {
    "duration": 44,
    "start_time": "2023-03-01T14:26:00.728Z"
   },
   {
    "duration": 16,
    "start_time": "2023-03-01T14:26:00.774Z"
   },
   {
    "duration": 26,
    "start_time": "2023-03-01T14:26:00.792Z"
   },
   {
    "duration": 28,
    "start_time": "2023-03-01T14:26:00.820Z"
   },
   {
    "duration": 38,
    "start_time": "2023-03-01T14:26:00.850Z"
   },
   {
    "duration": 21,
    "start_time": "2023-03-01T14:26:00.890Z"
   },
   {
    "duration": 29,
    "start_time": "2023-03-01T14:26:00.913Z"
   },
   {
    "duration": 33,
    "start_time": "2023-03-01T14:26:00.944Z"
   },
   {
    "duration": 23,
    "start_time": "2023-03-01T14:26:00.979Z"
   },
   {
    "duration": 17,
    "start_time": "2023-03-01T14:26:01.004Z"
   },
   {
    "duration": 35,
    "start_time": "2023-03-01T14:26:01.025Z"
   },
   {
    "duration": 17,
    "start_time": "2023-03-01T14:26:01.062Z"
   },
   {
    "duration": 20,
    "start_time": "2023-03-01T14:26:01.081Z"
   },
   {
    "duration": 34,
    "start_time": "2023-03-01T14:26:01.103Z"
   },
   {
    "duration": 33,
    "start_time": "2023-03-01T14:26:01.138Z"
   },
   {
    "duration": 37,
    "start_time": "2023-03-01T14:26:01.172Z"
   },
   {
    "duration": 22,
    "start_time": "2023-03-01T14:26:01.211Z"
   },
   {
    "duration": 9,
    "start_time": "2023-03-01T14:26:01.234Z"
   },
   {
    "duration": 21,
    "start_time": "2023-03-01T14:26:01.245Z"
   },
   {
    "duration": 37,
    "start_time": "2023-03-01T14:26:01.267Z"
   },
   {
    "duration": 24,
    "start_time": "2023-03-01T14:26:01.306Z"
   },
   {
    "duration": 31,
    "start_time": "2023-03-01T14:26:01.332Z"
   },
   {
    "duration": 18,
    "start_time": "2023-03-01T14:26:01.365Z"
   },
   {
    "duration": 13,
    "start_time": "2023-03-01T14:26:01.385Z"
   },
   {
    "duration": 17,
    "start_time": "2023-03-01T14:26:01.400Z"
   },
   {
    "duration": 23,
    "start_time": "2023-03-01T14:26:01.419Z"
   },
   {
    "duration": 21,
    "start_time": "2023-03-01T14:26:01.444Z"
   },
   {
    "duration": 725,
    "start_time": "2023-03-01T14:26:01.466Z"
   },
   {
    "duration": 5,
    "start_time": "2023-03-01T14:26:02.193Z"
   },
   {
    "duration": 7,
    "start_time": "2023-03-01T14:26:02.200Z"
   },
   {
    "duration": 11,
    "start_time": "2023-03-01T14:26:02.209Z"
   },
   {
    "duration": 16,
    "start_time": "2023-03-01T14:26:02.222Z"
   },
   {
    "duration": 4,
    "start_time": "2023-03-01T14:26:02.240Z"
   },
   {
    "duration": 46,
    "start_time": "2023-03-01T14:26:02.246Z"
   },
   {
    "duration": 160,
    "start_time": "2023-03-01T14:26:02.296Z"
   },
   {
    "duration": 4,
    "start_time": "2023-03-01T14:26:02.458Z"
   },
   {
    "duration": 154,
    "start_time": "2023-03-01T14:26:02.464Z"
   },
   {
    "duration": 20,
    "start_time": "2023-03-01T14:26:02.620Z"
   },
   {
    "duration": 159,
    "start_time": "2023-03-01T14:26:02.641Z"
   },
   {
    "duration": 247,
    "start_time": "2023-03-01T14:26:02.802Z"
   },
   {
    "duration": 25,
    "start_time": "2023-03-01T14:26:03.051Z"
   },
   {
    "duration": 15,
    "start_time": "2023-03-01T14:26:03.091Z"
   },
   {
    "duration": 19,
    "start_time": "2023-03-01T14:26:03.108Z"
   },
   {
    "duration": 18,
    "start_time": "2023-03-01T14:26:03.129Z"
   },
   {
    "duration": 20,
    "start_time": "2023-03-01T14:26:03.149Z"
   },
   {
    "duration": 30,
    "start_time": "2023-03-01T14:26:03.171Z"
   },
   {
    "duration": 243,
    "start_time": "2023-03-01T14:26:03.203Z"
   },
   {
    "duration": 316,
    "start_time": "2023-03-01T14:26:03.448Z"
   },
   {
    "duration": 250,
    "start_time": "2023-03-01T14:26:03.765Z"
   },
   {
    "duration": 7,
    "start_time": "2023-03-01T14:26:04.017Z"
   },
   {
    "duration": 14,
    "start_time": "2023-03-01T14:26:04.026Z"
   },
   {
    "duration": 203,
    "start_time": "2023-03-01T14:26:04.042Z"
   },
   {
    "duration": 209,
    "start_time": "2023-03-01T14:26:04.247Z"
   },
   {
    "duration": 212,
    "start_time": "2023-03-01T14:26:04.458Z"
   },
   {
    "duration": 142,
    "start_time": "2023-03-01T14:39:18.847Z"
   },
   {
    "duration": 379,
    "start_time": "2023-03-01T15:06:34.449Z"
   },
   {
    "duration": 91,
    "start_time": "2023-03-01T15:06:34.830Z"
   },
   {
    "duration": 38,
    "start_time": "2023-03-01T15:06:34.922Z"
   },
   {
    "duration": 21,
    "start_time": "2023-03-01T15:06:34.962Z"
   },
   {
    "duration": 4,
    "start_time": "2023-03-01T15:06:34.985Z"
   },
   {
    "duration": 11,
    "start_time": "2023-03-01T15:06:34.990Z"
   },
   {
    "duration": 23,
    "start_time": "2023-03-01T15:06:35.002Z"
   },
   {
    "duration": 10,
    "start_time": "2023-03-01T15:06:35.026Z"
   },
   {
    "duration": 16,
    "start_time": "2023-03-01T15:06:35.038Z"
   },
   {
    "duration": 28,
    "start_time": "2023-03-01T15:06:35.055Z"
   },
   {
    "duration": 23,
    "start_time": "2023-03-01T15:06:35.085Z"
   },
   {
    "duration": 5,
    "start_time": "2023-03-01T15:06:35.110Z"
   },
   {
    "duration": 21,
    "start_time": "2023-03-01T15:06:35.117Z"
   },
   {
    "duration": 14,
    "start_time": "2023-03-01T15:06:35.141Z"
   },
   {
    "duration": 12,
    "start_time": "2023-03-01T15:06:35.157Z"
   },
   {
    "duration": 39,
    "start_time": "2023-03-01T15:06:35.170Z"
   },
   {
    "duration": 30,
    "start_time": "2023-03-01T15:06:35.210Z"
   },
   {
    "duration": 55,
    "start_time": "2023-03-01T15:06:35.242Z"
   },
   {
    "duration": 22,
    "start_time": "2023-03-01T15:06:35.299Z"
   },
   {
    "duration": 21,
    "start_time": "2023-03-01T15:06:35.323Z"
   },
   {
    "duration": 42,
    "start_time": "2023-03-01T15:06:35.346Z"
   },
   {
    "duration": 17,
    "start_time": "2023-03-01T15:06:35.390Z"
   },
   {
    "duration": 35,
    "start_time": "2023-03-01T15:06:35.408Z"
   },
   {
    "duration": 29,
    "start_time": "2023-03-01T15:06:35.445Z"
   },
   {
    "duration": 32,
    "start_time": "2023-03-01T15:06:35.476Z"
   },
   {
    "duration": 6,
    "start_time": "2023-03-01T15:06:35.510Z"
   },
   {
    "duration": 31,
    "start_time": "2023-03-01T15:06:35.517Z"
   },
   {
    "duration": 16,
    "start_time": "2023-03-01T15:06:35.550Z"
   },
   {
    "duration": 10,
    "start_time": "2023-03-01T15:06:35.569Z"
   },
   {
    "duration": 1033,
    "start_time": "2023-03-01T15:06:35.581Z"
   },
   {
    "duration": 6,
    "start_time": "2023-03-01T15:06:36.616Z"
   },
   {
    "duration": 16,
    "start_time": "2023-03-01T15:06:36.623Z"
   },
   {
    "duration": 17,
    "start_time": "2023-03-01T15:06:36.641Z"
   },
   {
    "duration": 26,
    "start_time": "2023-03-01T15:06:36.660Z"
   },
   {
    "duration": 11,
    "start_time": "2023-03-01T15:06:36.687Z"
   },
   {
    "duration": 22,
    "start_time": "2023-03-01T15:06:36.700Z"
   },
   {
    "duration": 217,
    "start_time": "2023-03-01T15:06:36.724Z"
   },
   {
    "duration": 3,
    "start_time": "2023-03-01T15:06:36.944Z"
   },
   {
    "duration": 147,
    "start_time": "2023-03-01T15:06:36.949Z"
   },
   {
    "duration": 26,
    "start_time": "2023-03-01T15:06:37.097Z"
   },
   {
    "duration": 148,
    "start_time": "2023-03-01T15:06:37.127Z"
   },
   {
    "duration": 223,
    "start_time": "2023-03-01T15:06:37.278Z"
   },
   {
    "duration": 25,
    "start_time": "2023-03-01T15:06:37.503Z"
   },
   {
    "duration": 16,
    "start_time": "2023-03-01T15:06:37.530Z"
   },
   {
    "duration": 15,
    "start_time": "2023-03-01T15:06:37.548Z"
   },
   {
    "duration": 11,
    "start_time": "2023-03-01T15:06:37.565Z"
   },
   {
    "duration": 19,
    "start_time": "2023-03-01T15:06:37.578Z"
   },
   {
    "duration": 12,
    "start_time": "2023-03-01T15:06:37.626Z"
   },
   {
    "duration": 271,
    "start_time": "2023-03-01T15:06:37.640Z"
   },
   {
    "duration": 260,
    "start_time": "2023-03-01T15:06:37.913Z"
   },
   {
    "duration": 247,
    "start_time": "2023-03-01T15:06:38.175Z"
   },
   {
    "duration": 7,
    "start_time": "2023-03-01T15:06:38.424Z"
   },
   {
    "duration": 43,
    "start_time": "2023-03-01T15:06:38.433Z"
   },
   {
    "duration": 224,
    "start_time": "2023-03-01T15:06:38.478Z"
   },
   {
    "duration": 218,
    "start_time": "2023-03-01T15:06:38.704Z"
   },
   {
    "duration": 228,
    "start_time": "2023-03-01T15:06:38.923Z"
   },
   {
    "duration": 430,
    "start_time": "2023-03-01T15:37:11.792Z"
   },
   {
    "duration": 92,
    "start_time": "2023-03-01T15:37:12.224Z"
   },
   {
    "duration": 40,
    "start_time": "2023-03-01T15:37:12.318Z"
   },
   {
    "duration": 22,
    "start_time": "2023-03-01T15:37:12.360Z"
   },
   {
    "duration": 4,
    "start_time": "2023-03-01T15:37:12.384Z"
   },
   {
    "duration": 13,
    "start_time": "2023-03-01T15:37:12.389Z"
   },
   {
    "duration": 16,
    "start_time": "2023-03-01T15:37:12.404Z"
   },
   {
    "duration": 10,
    "start_time": "2023-03-01T15:37:12.421Z"
   },
   {
    "duration": 35,
    "start_time": "2023-03-01T15:37:12.432Z"
   },
   {
    "duration": 15,
    "start_time": "2023-03-01T15:37:12.469Z"
   },
   {
    "duration": 24,
    "start_time": "2023-03-01T15:37:12.486Z"
   },
   {
    "duration": 8,
    "start_time": "2023-03-01T15:37:12.512Z"
   },
   {
    "duration": 22,
    "start_time": "2023-03-01T15:37:12.522Z"
   },
   {
    "duration": 13,
    "start_time": "2023-03-01T15:37:12.546Z"
   },
   {
    "duration": 12,
    "start_time": "2023-03-01T15:37:12.561Z"
   },
   {
    "duration": 12,
    "start_time": "2023-03-01T15:37:12.574Z"
   },
   {
    "duration": 22,
    "start_time": "2023-03-01T15:37:12.587Z"
   },
   {
    "duration": 71,
    "start_time": "2023-03-01T15:37:12.622Z"
   },
   {
    "duration": 19,
    "start_time": "2023-03-01T15:37:12.695Z"
   },
   {
    "duration": 13,
    "start_time": "2023-03-01T15:37:12.717Z"
   },
   {
    "duration": 23,
    "start_time": "2023-03-01T15:37:12.732Z"
   },
   {
    "duration": 12,
    "start_time": "2023-03-01T15:37:12.757Z"
   },
   {
    "duration": 11,
    "start_time": "2023-03-01T15:37:12.770Z"
   },
   {
    "duration": 17,
    "start_time": "2023-03-01T15:37:12.783Z"
   },
   {
    "duration": 12,
    "start_time": "2023-03-01T15:37:12.802Z"
   },
   {
    "duration": 7,
    "start_time": "2023-03-01T15:37:12.815Z"
   },
   {
    "duration": 9,
    "start_time": "2023-03-01T15:37:12.824Z"
   },
   {
    "duration": 73,
    "start_time": "2023-03-01T15:37:12.838Z"
   },
   {
    "duration": 26,
    "start_time": "2023-03-01T15:37:12.912Z"
   },
   {
    "duration": 985,
    "start_time": "2023-03-01T15:37:12.940Z"
   },
   {
    "duration": 6,
    "start_time": "2023-03-01T15:37:13.927Z"
   },
   {
    "duration": 14,
    "start_time": "2023-03-01T15:37:13.934Z"
   },
   {
    "duration": 14,
    "start_time": "2023-03-01T15:37:13.950Z"
   },
   {
    "duration": 17,
    "start_time": "2023-03-01T15:37:13.965Z"
   },
   {
    "duration": 6,
    "start_time": "2023-03-01T15:37:13.984Z"
   },
   {
    "duration": 42,
    "start_time": "2023-03-01T15:37:13.993Z"
   },
   {
    "duration": 231,
    "start_time": "2023-03-01T15:37:14.037Z"
   },
   {
    "duration": 4,
    "start_time": "2023-03-01T15:37:14.270Z"
   },
   {
    "duration": 149,
    "start_time": "2023-03-01T15:37:14.276Z"
   },
   {
    "duration": 19,
    "start_time": "2023-03-01T15:37:14.427Z"
   },
   {
    "duration": 147,
    "start_time": "2023-03-01T15:37:14.448Z"
   },
   {
    "duration": 214,
    "start_time": "2023-03-01T15:37:14.596Z"
   },
   {
    "duration": 21,
    "start_time": "2023-03-01T15:37:14.811Z"
   },
   {
    "duration": 15,
    "start_time": "2023-03-01T15:37:14.833Z"
   },
   {
    "duration": 23,
    "start_time": "2023-03-01T15:37:14.850Z"
   },
   {
    "duration": 12,
    "start_time": "2023-03-01T15:37:14.874Z"
   },
   {
    "duration": 25,
    "start_time": "2023-03-01T15:37:14.887Z"
   },
   {
    "duration": 17,
    "start_time": "2023-03-01T15:37:14.914Z"
   },
   {
    "duration": 250,
    "start_time": "2023-03-01T15:37:14.933Z"
   },
   {
    "duration": 248,
    "start_time": "2023-03-01T15:37:15.185Z"
   },
   {
    "duration": 280,
    "start_time": "2023-03-01T15:37:15.435Z"
   },
   {
    "duration": 13,
    "start_time": "2023-03-01T15:37:15.717Z"
   },
   {
    "duration": 25,
    "start_time": "2023-03-01T15:37:15.732Z"
   },
   {
    "duration": 228,
    "start_time": "2023-03-01T15:37:15.760Z"
   },
   {
    "duration": 212,
    "start_time": "2023-03-01T15:37:15.990Z"
   },
   {
    "duration": 213,
    "start_time": "2023-03-01T15:37:16.203Z"
   },
   {
    "duration": 5,
    "start_time": "2023-03-01T15:47:18.989Z"
   },
   {
    "duration": 3,
    "start_time": "2023-03-01T15:47:28.180Z"
   },
   {
    "duration": 420,
    "start_time": "2023-03-01T15:55:40.012Z"
   },
   {
    "duration": 383,
    "start_time": "2023-03-02T04:59:53.306Z"
   },
   {
    "duration": 272,
    "start_time": "2023-03-02T04:59:53.691Z"
   },
   {
    "duration": 101,
    "start_time": "2023-03-02T04:59:53.964Z"
   },
   {
    "duration": 20,
    "start_time": "2023-03-02T04:59:54.067Z"
   },
   {
    "duration": 8,
    "start_time": "2023-03-02T04:59:54.089Z"
   },
   {
    "duration": 9,
    "start_time": "2023-03-02T04:59:54.099Z"
   },
   {
    "duration": 16,
    "start_time": "2023-03-02T04:59:54.109Z"
   },
   {
    "duration": 8,
    "start_time": "2023-03-02T04:59:54.127Z"
   },
   {
    "duration": 20,
    "start_time": "2023-03-02T04:59:54.136Z"
   },
   {
    "duration": 6,
    "start_time": "2023-03-02T04:59:54.160Z"
   },
   {
    "duration": 10,
    "start_time": "2023-03-02T04:59:54.167Z"
   },
   {
    "duration": 5,
    "start_time": "2023-03-02T04:59:54.179Z"
   },
   {
    "duration": 15,
    "start_time": "2023-03-02T04:59:54.186Z"
   },
   {
    "duration": 37,
    "start_time": "2023-03-02T04:59:54.203Z"
   },
   {
    "duration": 16,
    "start_time": "2023-03-02T04:59:54.242Z"
   },
   {
    "duration": 14,
    "start_time": "2023-03-02T04:59:54.260Z"
   },
   {
    "duration": 15,
    "start_time": "2023-03-02T04:59:54.275Z"
   },
   {
    "duration": 86,
    "start_time": "2023-03-02T04:59:54.292Z"
   },
   {
    "duration": 22,
    "start_time": "2023-03-02T04:59:54.380Z"
   },
   {
    "duration": 6,
    "start_time": "2023-03-02T04:59:54.404Z"
   },
   {
    "duration": 12,
    "start_time": "2023-03-02T04:59:54.412Z"
   },
   {
    "duration": 16,
    "start_time": "2023-03-02T04:59:54.426Z"
   },
   {
    "duration": 10,
    "start_time": "2023-03-02T04:59:54.443Z"
   },
   {
    "duration": 24,
    "start_time": "2023-03-02T04:59:54.454Z"
   },
   {
    "duration": 10,
    "start_time": "2023-03-02T04:59:54.479Z"
   },
   {
    "duration": 3,
    "start_time": "2023-03-02T04:59:54.491Z"
   },
   {
    "duration": 7,
    "start_time": "2023-03-02T04:59:54.495Z"
   },
   {
    "duration": 6,
    "start_time": "2023-03-02T04:59:54.504Z"
   },
   {
    "duration": 7,
    "start_time": "2023-03-02T04:59:54.512Z"
   },
   {
    "duration": 1009,
    "start_time": "2023-03-02T04:59:54.520Z"
   },
   {
    "duration": 9,
    "start_time": "2023-03-02T04:59:55.531Z"
   },
   {
    "duration": 8,
    "start_time": "2023-03-02T04:59:55.541Z"
   },
   {
    "duration": 13,
    "start_time": "2023-03-02T04:59:55.550Z"
   },
   {
    "duration": 18,
    "start_time": "2023-03-02T04:59:55.565Z"
   },
   {
    "duration": 4,
    "start_time": "2023-03-02T04:59:55.584Z"
   },
   {
    "duration": 18,
    "start_time": "2023-03-02T04:59:55.590Z"
   },
   {
    "duration": 216,
    "start_time": "2023-03-02T04:59:55.610Z"
   },
   {
    "duration": 4,
    "start_time": "2023-03-02T04:59:55.827Z"
   },
   {
    "duration": 126,
    "start_time": "2023-03-02T04:59:55.833Z"
   },
   {
    "duration": 19,
    "start_time": "2023-03-02T04:59:55.961Z"
   },
   {
    "duration": 138,
    "start_time": "2023-03-02T04:59:55.982Z"
   },
   {
    "duration": 205,
    "start_time": "2023-03-02T04:59:56.121Z"
   },
   {
    "duration": 19,
    "start_time": "2023-03-02T04:59:56.328Z"
   },
   {
    "duration": 12,
    "start_time": "2023-03-02T04:59:56.349Z"
   },
   {
    "duration": 18,
    "start_time": "2023-03-02T04:59:56.362Z"
   },
   {
    "duration": 11,
    "start_time": "2023-03-02T04:59:56.381Z"
   },
   {
    "duration": 13,
    "start_time": "2023-03-02T04:59:56.393Z"
   },
   {
    "duration": 32,
    "start_time": "2023-03-02T04:59:56.408Z"
   },
   {
    "duration": 238,
    "start_time": "2023-03-02T04:59:56.442Z"
   },
   {
    "duration": 222,
    "start_time": "2023-03-02T04:59:56.683Z"
   },
   {
    "duration": 225,
    "start_time": "2023-03-02T04:59:56.906Z"
   },
   {
    "duration": 13,
    "start_time": "2023-03-02T04:59:57.133Z"
   },
   {
    "duration": 15,
    "start_time": "2023-03-02T04:59:57.147Z"
   },
   {
    "duration": 182,
    "start_time": "2023-03-02T04:59:57.163Z"
   },
   {
    "duration": 181,
    "start_time": "2023-03-02T04:59:57.347Z"
   },
   {
    "duration": 185,
    "start_time": "2023-03-02T04:59:57.529Z"
   },
   {
    "duration": 9,
    "start_time": "2023-03-02T05:13:44.646Z"
   },
   {
    "duration": 3,
    "start_time": "2023-03-02T05:13:49.720Z"
   },
   {
    "duration": 92,
    "start_time": "2023-03-02T05:13:49.725Z"
   },
   {
    "duration": 44,
    "start_time": "2023-03-02T05:13:49.819Z"
   },
   {
    "duration": 14,
    "start_time": "2023-03-02T05:13:49.865Z"
   },
   {
    "duration": 17,
    "start_time": "2023-03-02T05:13:49.880Z"
   },
   {
    "duration": 265,
    "start_time": "2023-03-02T05:13:49.898Z"
   },
   {
    "duration": 0,
    "start_time": "2023-03-02T05:13:50.166Z"
   },
   {
    "duration": 0,
    "start_time": "2023-03-02T05:13:50.168Z"
   },
   {
    "duration": 0,
    "start_time": "2023-03-02T05:13:50.169Z"
   },
   {
    "duration": 0,
    "start_time": "2023-03-02T05:13:50.170Z"
   },
   {
    "duration": 0,
    "start_time": "2023-03-02T05:13:50.171Z"
   },
   {
    "duration": 0,
    "start_time": "2023-03-02T05:13:50.172Z"
   },
   {
    "duration": 0,
    "start_time": "2023-03-02T05:13:50.173Z"
   },
   {
    "duration": 0,
    "start_time": "2023-03-02T05:13:50.174Z"
   },
   {
    "duration": 0,
    "start_time": "2023-03-02T05:13:50.175Z"
   },
   {
    "duration": 0,
    "start_time": "2023-03-02T05:13:50.175Z"
   },
   {
    "duration": 0,
    "start_time": "2023-03-02T05:13:50.176Z"
   },
   {
    "duration": 0,
    "start_time": "2023-03-02T05:13:50.177Z"
   },
   {
    "duration": 0,
    "start_time": "2023-03-02T05:13:50.178Z"
   },
   {
    "duration": 0,
    "start_time": "2023-03-02T05:13:50.179Z"
   },
   {
    "duration": 0,
    "start_time": "2023-03-02T05:13:50.180Z"
   },
   {
    "duration": 0,
    "start_time": "2023-03-02T05:13:50.181Z"
   },
   {
    "duration": 0,
    "start_time": "2023-03-02T05:13:50.181Z"
   },
   {
    "duration": 0,
    "start_time": "2023-03-02T05:13:50.182Z"
   },
   {
    "duration": 0,
    "start_time": "2023-03-02T05:13:50.184Z"
   },
   {
    "duration": 0,
    "start_time": "2023-03-02T05:13:50.184Z"
   },
   {
    "duration": 0,
    "start_time": "2023-03-02T05:13:50.185Z"
   },
   {
    "duration": 0,
    "start_time": "2023-03-02T05:13:50.186Z"
   },
   {
    "duration": 0,
    "start_time": "2023-03-02T05:13:50.187Z"
   },
   {
    "duration": 0,
    "start_time": "2023-03-02T05:13:50.189Z"
   },
   {
    "duration": 0,
    "start_time": "2023-03-02T05:13:50.190Z"
   },
   {
    "duration": 0,
    "start_time": "2023-03-02T05:13:50.190Z"
   },
   {
    "duration": 0,
    "start_time": "2023-03-02T05:13:50.191Z"
   },
   {
    "duration": 0,
    "start_time": "2023-03-02T05:13:50.192Z"
   },
   {
    "duration": 0,
    "start_time": "2023-03-02T05:13:50.194Z"
   },
   {
    "duration": 0,
    "start_time": "2023-03-02T05:13:50.195Z"
   },
   {
    "duration": 0,
    "start_time": "2023-03-02T05:13:50.196Z"
   },
   {
    "duration": 0,
    "start_time": "2023-03-02T05:13:50.196Z"
   },
   {
    "duration": 0,
    "start_time": "2023-03-02T05:13:50.198Z"
   },
   {
    "duration": 0,
    "start_time": "2023-03-02T05:13:50.199Z"
   },
   {
    "duration": 0,
    "start_time": "2023-03-02T05:13:50.200Z"
   },
   {
    "duration": 0,
    "start_time": "2023-03-02T05:13:50.201Z"
   },
   {
    "duration": 0,
    "start_time": "2023-03-02T05:13:50.202Z"
   },
   {
    "duration": 0,
    "start_time": "2023-03-02T05:13:50.241Z"
   },
   {
    "duration": 0,
    "start_time": "2023-03-02T05:13:50.242Z"
   },
   {
    "duration": 0,
    "start_time": "2023-03-02T05:13:50.243Z"
   },
   {
    "duration": 0,
    "start_time": "2023-03-02T05:13:50.244Z"
   },
   {
    "duration": 0,
    "start_time": "2023-03-02T05:13:50.245Z"
   },
   {
    "duration": 0,
    "start_time": "2023-03-02T05:13:50.246Z"
   },
   {
    "duration": 0,
    "start_time": "2023-03-02T05:13:50.248Z"
   },
   {
    "duration": 0,
    "start_time": "2023-03-02T05:13:50.249Z"
   },
   {
    "duration": 0,
    "start_time": "2023-03-02T05:13:50.250Z"
   },
   {
    "duration": 0,
    "start_time": "2023-03-02T05:13:50.251Z"
   },
   {
    "duration": 0,
    "start_time": "2023-03-02T05:13:50.252Z"
   },
   {
    "duration": 0,
    "start_time": "2023-03-02T05:13:50.253Z"
   },
   {
    "duration": 0,
    "start_time": "2023-03-02T05:13:50.254Z"
   },
   {
    "duration": 6,
    "start_time": "2023-03-02T05:14:20.054Z"
   },
   {
    "duration": 200,
    "start_time": "2023-03-02T05:14:21.883Z"
   },
   {
    "duration": 20,
    "start_time": "2023-03-02T05:14:32.015Z"
   },
   {
    "duration": 7,
    "start_time": "2023-03-02T05:14:47.725Z"
   },
   {
    "duration": 5,
    "start_time": "2023-03-02T05:14:57.113Z"
   },
   {
    "duration": 15,
    "start_time": "2023-03-02T05:15:00.717Z"
   },
   {
    "duration": 55,
    "start_time": "2023-03-02T05:15:29.732Z"
   },
   {
    "duration": 19,
    "start_time": "2023-03-02T05:15:39.513Z"
   },
   {
    "duration": 8,
    "start_time": "2023-03-02T05:15:46.774Z"
   },
   {
    "duration": 6,
    "start_time": "2023-03-02T05:15:49.797Z"
   },
   {
    "duration": 17,
    "start_time": "2023-03-02T05:15:52.197Z"
   },
   {
    "duration": 184,
    "start_time": "2023-03-02T05:15:58.835Z"
   },
   {
    "duration": 21,
    "start_time": "2023-03-02T05:16:39.851Z"
   },
   {
    "duration": 17,
    "start_time": "2023-03-02T05:16:48.132Z"
   },
   {
    "duration": 693,
    "start_time": "2023-03-02T05:20:03.711Z"
   },
   {
    "duration": 14,
    "start_time": "2023-03-02T05:20:13.466Z"
   },
   {
    "duration": 10,
    "start_time": "2023-03-02T05:20:35.469Z"
   },
   {
    "duration": 43,
    "start_time": "2023-03-02T05:20:55.118Z"
   },
   {
    "duration": 7,
    "start_time": "2023-03-02T05:21:08.586Z"
   },
   {
    "duration": 6,
    "start_time": "2023-03-02T05:21:12.450Z"
   },
   {
    "duration": 20,
    "start_time": "2023-03-02T05:21:14.989Z"
   },
   {
    "duration": 6,
    "start_time": "2023-03-02T05:21:24.466Z"
   },
   {
    "duration": 13,
    "start_time": "2023-03-02T05:21:30.650Z"
   },
   {
    "duration": 8,
    "start_time": "2023-03-02T05:21:32.095Z"
   },
   {
    "duration": 14,
    "start_time": "2023-03-02T05:21:34.274Z"
   },
   {
    "duration": 3,
    "start_time": "2023-03-02T05:21:42.575Z"
   },
   {
    "duration": 103,
    "start_time": "2023-03-02T05:21:42.580Z"
   },
   {
    "duration": 45,
    "start_time": "2023-03-02T05:21:42.685Z"
   },
   {
    "duration": 15,
    "start_time": "2023-03-02T05:21:42.732Z"
   },
   {
    "duration": 7,
    "start_time": "2023-03-02T05:21:42.749Z"
   },
   {
    "duration": 7,
    "start_time": "2023-03-02T05:21:42.757Z"
   },
   {
    "duration": 14,
    "start_time": "2023-03-02T05:21:42.766Z"
   },
   {
    "duration": 8,
    "start_time": "2023-03-02T05:21:42.781Z"
   },
   {
    "duration": 15,
    "start_time": "2023-03-02T05:21:42.792Z"
   },
   {
    "duration": 39,
    "start_time": "2023-03-02T05:21:42.808Z"
   },
   {
    "duration": 10,
    "start_time": "2023-03-02T05:21:42.849Z"
   },
   {
    "duration": 10,
    "start_time": "2023-03-02T05:21:42.860Z"
   },
   {
    "duration": 12,
    "start_time": "2023-03-02T05:21:42.871Z"
   },
   {
    "duration": 14,
    "start_time": "2023-03-02T05:21:42.885Z"
   },
   {
    "duration": 12,
    "start_time": "2023-03-02T05:21:42.900Z"
   },
   {
    "duration": 38,
    "start_time": "2023-03-02T05:21:42.914Z"
   },
   {
    "duration": 15,
    "start_time": "2023-03-02T05:21:42.953Z"
   },
   {
    "duration": 25,
    "start_time": "2023-03-02T05:21:42.969Z"
   },
   {
    "duration": 56,
    "start_time": "2023-03-02T05:21:42.996Z"
   },
   {
    "duration": 7,
    "start_time": "2023-03-02T05:21:43.053Z"
   },
   {
    "duration": 14,
    "start_time": "2023-03-02T05:21:43.061Z"
   },
   {
    "duration": 10,
    "start_time": "2023-03-02T05:21:43.076Z"
   },
   {
    "duration": 10,
    "start_time": "2023-03-02T05:21:43.087Z"
   },
   {
    "duration": 47,
    "start_time": "2023-03-02T05:21:43.100Z"
   },
   {
    "duration": 11,
    "start_time": "2023-03-02T05:21:43.148Z"
   },
   {
    "duration": 7,
    "start_time": "2023-03-02T05:21:43.160Z"
   },
   {
    "duration": 6,
    "start_time": "2023-03-02T05:21:43.169Z"
   },
   {
    "duration": 8,
    "start_time": "2023-03-02T05:21:43.176Z"
   },
   {
    "duration": 5,
    "start_time": "2023-03-02T05:21:43.186Z"
   },
   {
    "duration": 786,
    "start_time": "2023-03-02T05:21:43.192Z"
   },
   {
    "duration": 4,
    "start_time": "2023-03-02T05:21:43.980Z"
   },
   {
    "duration": 10,
    "start_time": "2023-03-02T05:21:43.986Z"
   },
   {
    "duration": 8,
    "start_time": "2023-03-02T05:21:43.997Z"
   },
   {
    "duration": 16,
    "start_time": "2023-03-02T05:21:44.007Z"
   },
   {
    "duration": 19,
    "start_time": "2023-03-02T05:21:44.024Z"
   },
   {
    "duration": 21,
    "start_time": "2023-03-02T05:21:44.045Z"
   },
   {
    "duration": 178,
    "start_time": "2023-03-02T05:21:44.069Z"
   },
   {
    "duration": 4,
    "start_time": "2023-03-02T05:21:44.249Z"
   },
   {
    "duration": 147,
    "start_time": "2023-03-02T05:21:44.255Z"
   },
   {
    "duration": 44,
    "start_time": "2023-03-02T05:21:44.404Z"
   },
   {
    "duration": 237,
    "start_time": "2023-03-02T05:21:44.450Z"
   },
   {
    "duration": 403,
    "start_time": "2023-03-02T05:21:44.741Z"
   },
   {
    "duration": 27,
    "start_time": "2023-03-02T05:21:45.147Z"
   },
   {
    "duration": 64,
    "start_time": "2023-03-02T05:21:45.176Z"
   },
   {
    "duration": 15,
    "start_time": "2023-03-02T05:21:45.242Z"
   },
   {
    "duration": 12,
    "start_time": "2023-03-02T05:21:45.259Z"
   },
   {
    "duration": 70,
    "start_time": "2023-03-02T05:21:45.272Z"
   },
   {
    "duration": 13,
    "start_time": "2023-03-02T05:21:45.345Z"
   },
   {
    "duration": 485,
    "start_time": "2023-03-02T05:21:45.360Z"
   },
   {
    "duration": 376,
    "start_time": "2023-03-02T05:21:45.846Z"
   },
   {
    "duration": 230,
    "start_time": "2023-03-02T05:21:46.240Z"
   },
   {
    "duration": 7,
    "start_time": "2023-03-02T05:21:46.471Z"
   },
   {
    "duration": 15,
    "start_time": "2023-03-02T05:21:46.480Z"
   },
   {
    "duration": 293,
    "start_time": "2023-03-02T05:21:46.497Z"
   },
   {
    "duration": 206,
    "start_time": "2023-03-02T05:21:46.792Z"
   },
   {
    "duration": 199,
    "start_time": "2023-03-02T05:21:47.000Z"
   },
   {
    "duration": 13,
    "start_time": "2023-03-02T05:22:13.910Z"
   },
   {
    "duration": 6,
    "start_time": "2023-03-02T05:22:33.130Z"
   },
   {
    "duration": 4,
    "start_time": "2023-03-02T05:22:36.767Z"
   },
   {
    "duration": 59,
    "start_time": "2023-03-02T05:22:46.231Z"
   },
   {
    "duration": 89,
    "start_time": "2023-03-02T05:22:48.708Z"
   },
   {
    "duration": 21,
    "start_time": "2023-03-02T05:22:51.834Z"
   },
   {
    "duration": 6,
    "start_time": "2023-03-02T05:23:00.507Z"
   },
   {
    "duration": 14,
    "start_time": "2023-03-02T05:23:07.949Z"
   },
   {
    "duration": 26,
    "start_time": "2023-03-02T05:23:15.335Z"
   },
   {
    "duration": 7,
    "start_time": "2023-03-02T05:23:17.098Z"
   },
   {
    "duration": 21,
    "start_time": "2023-03-02T05:23:19.744Z"
   },
   {
    "duration": 4,
    "start_time": "2023-03-02T05:23:24.611Z"
   },
   {
    "duration": 105,
    "start_time": "2023-03-02T05:23:24.617Z"
   },
   {
    "duration": 45,
    "start_time": "2023-03-02T05:23:24.723Z"
   },
   {
    "duration": 15,
    "start_time": "2023-03-02T05:23:24.769Z"
   },
   {
    "duration": 8,
    "start_time": "2023-03-02T05:23:24.786Z"
   },
   {
    "duration": 13,
    "start_time": "2023-03-02T05:23:24.796Z"
   },
   {
    "duration": 27,
    "start_time": "2023-03-02T05:23:24.811Z"
   },
   {
    "duration": 7,
    "start_time": "2023-03-02T05:23:24.840Z"
   },
   {
    "duration": 14,
    "start_time": "2023-03-02T05:23:24.848Z"
   },
   {
    "duration": 9,
    "start_time": "2023-03-02T05:23:24.863Z"
   },
   {
    "duration": 9,
    "start_time": "2023-03-02T05:23:24.873Z"
   },
   {
    "duration": 4,
    "start_time": "2023-03-02T05:23:24.884Z"
   },
   {
    "duration": 14,
    "start_time": "2023-03-02T05:23:24.890Z"
   },
   {
    "duration": 41,
    "start_time": "2023-03-02T05:23:24.907Z"
   },
   {
    "duration": 11,
    "start_time": "2023-03-02T05:23:24.949Z"
   },
   {
    "duration": 13,
    "start_time": "2023-03-02T05:23:24.961Z"
   },
   {
    "duration": 15,
    "start_time": "2023-03-02T05:23:24.975Z"
   },
   {
    "duration": 62,
    "start_time": "2023-03-02T05:23:24.992Z"
   },
   {
    "duration": 20,
    "start_time": "2023-03-02T05:23:25.056Z"
   },
   {
    "duration": 7,
    "start_time": "2023-03-02T05:23:25.078Z"
   },
   {
    "duration": 25,
    "start_time": "2023-03-02T05:23:25.086Z"
   },
   {
    "duration": 9,
    "start_time": "2023-03-02T05:23:25.113Z"
   },
   {
    "duration": 23,
    "start_time": "2023-03-02T05:23:25.124Z"
   },
   {
    "duration": 17,
    "start_time": "2023-03-02T05:23:25.148Z"
   },
   {
    "duration": 9,
    "start_time": "2023-03-02T05:23:25.166Z"
   },
   {
    "duration": 5,
    "start_time": "2023-03-02T05:23:25.176Z"
   },
   {
    "duration": 6,
    "start_time": "2023-03-02T05:23:25.182Z"
   },
   {
    "duration": 6,
    "start_time": "2023-03-02T05:23:25.191Z"
   },
   {
    "duration": 4,
    "start_time": "2023-03-02T05:23:25.198Z"
   },
   {
    "duration": 636,
    "start_time": "2023-03-02T05:23:25.716Z"
   },
   {
    "duration": 5,
    "start_time": "2023-03-02T05:23:26.354Z"
   },
   {
    "duration": 8,
    "start_time": "2023-03-02T05:23:26.360Z"
   },
   {
    "duration": 7,
    "start_time": "2023-03-02T05:23:26.370Z"
   },
   {
    "duration": 15,
    "start_time": "2023-03-02T05:23:26.380Z"
   },
   {
    "duration": 3,
    "start_time": "2023-03-02T05:23:26.397Z"
   },
   {
    "duration": 56,
    "start_time": "2023-03-02T05:23:26.402Z"
   },
   {
    "duration": 188,
    "start_time": "2023-03-02T05:23:26.460Z"
   },
   {
    "duration": 5,
    "start_time": "2023-03-02T05:23:26.649Z"
   },
   {
    "duration": 142,
    "start_time": "2023-03-02T05:23:26.655Z"
   },
   {
    "duration": 26,
    "start_time": "2023-03-02T05:23:26.799Z"
   },
   {
    "duration": 154,
    "start_time": "2023-03-02T05:23:26.827Z"
   },
   {
    "duration": 279,
    "start_time": "2023-03-02T05:23:26.982Z"
   },
   {
    "duration": 29,
    "start_time": "2023-03-02T05:23:27.265Z"
   },
   {
    "duration": 19,
    "start_time": "2023-03-02T05:23:27.296Z"
   },
   {
    "duration": 29,
    "start_time": "2023-03-02T05:23:27.317Z"
   },
   {
    "duration": 11,
    "start_time": "2023-03-02T05:23:27.348Z"
   },
   {
    "duration": 12,
    "start_time": "2023-03-02T05:23:27.361Z"
   },
   {
    "duration": 11,
    "start_time": "2023-03-02T05:23:27.375Z"
   },
   {
    "duration": 251,
    "start_time": "2023-03-02T05:23:27.387Z"
   },
   {
    "duration": 224,
    "start_time": "2023-03-02T05:23:27.639Z"
   },
   {
    "duration": 228,
    "start_time": "2023-03-02T05:23:27.865Z"
   },
   {
    "duration": 7,
    "start_time": "2023-03-02T05:23:28.095Z"
   },
   {
    "duration": 16,
    "start_time": "2023-03-02T05:23:28.103Z"
   },
   {
    "duration": 199,
    "start_time": "2023-03-02T05:23:28.121Z"
   },
   {
    "duration": 203,
    "start_time": "2023-03-02T05:23:28.322Z"
   },
   {
    "duration": 200,
    "start_time": "2023-03-02T05:23:28.527Z"
   },
   {
    "duration": 3,
    "start_time": "2023-03-02T05:26:20.592Z"
   },
   {
    "duration": 106,
    "start_time": "2023-03-02T05:26:20.598Z"
   },
   {
    "duration": 46,
    "start_time": "2023-03-02T05:26:20.705Z"
   },
   {
    "duration": 16,
    "start_time": "2023-03-02T05:26:20.752Z"
   },
   {
    "duration": 4,
    "start_time": "2023-03-02T05:26:20.770Z"
   },
   {
    "duration": 13,
    "start_time": "2023-03-02T05:26:20.775Z"
   },
   {
    "duration": 14,
    "start_time": "2023-03-02T05:26:20.789Z"
   },
   {
    "duration": 8,
    "start_time": "2023-03-02T05:26:20.805Z"
   },
   {
    "duration": 37,
    "start_time": "2023-03-02T05:26:20.815Z"
   },
   {
    "duration": 10,
    "start_time": "2023-03-02T05:26:20.854Z"
   },
   {
    "duration": 11,
    "start_time": "2023-03-02T05:26:20.866Z"
   },
   {
    "duration": 8,
    "start_time": "2023-03-02T05:26:20.879Z"
   },
   {
    "duration": 13,
    "start_time": "2023-03-02T05:26:20.889Z"
   },
   {
    "duration": 39,
    "start_time": "2023-03-02T05:26:20.903Z"
   },
   {
    "duration": 14,
    "start_time": "2023-03-02T05:26:20.944Z"
   },
   {
    "duration": 12,
    "start_time": "2023-03-02T05:26:20.960Z"
   },
   {
    "duration": 15,
    "start_time": "2023-03-02T05:26:20.974Z"
   },
   {
    "duration": 57,
    "start_time": "2023-03-02T05:26:20.991Z"
   },
   {
    "duration": 19,
    "start_time": "2023-03-02T05:26:21.049Z"
   },
   {
    "duration": 9,
    "start_time": "2023-03-02T05:26:21.069Z"
   },
   {
    "duration": 22,
    "start_time": "2023-03-02T05:26:21.080Z"
   },
   {
    "duration": 11,
    "start_time": "2023-03-02T05:26:21.104Z"
   },
   {
    "duration": 25,
    "start_time": "2023-03-02T05:26:21.116Z"
   },
   {
    "duration": 17,
    "start_time": "2023-03-02T05:26:21.143Z"
   },
   {
    "duration": 9,
    "start_time": "2023-03-02T05:26:21.162Z"
   },
   {
    "duration": 4,
    "start_time": "2023-03-02T05:26:21.172Z"
   },
   {
    "duration": 6,
    "start_time": "2023-03-02T05:26:21.177Z"
   },
   {
    "duration": 9,
    "start_time": "2023-03-02T05:26:21.184Z"
   },
   {
    "duration": 3,
    "start_time": "2023-03-02T05:26:21.194Z"
   },
   {
    "duration": 667,
    "start_time": "2023-03-02T05:26:21.199Z"
   },
   {
    "duration": 4,
    "start_time": "2023-03-02T05:26:21.868Z"
   },
   {
    "duration": 9,
    "start_time": "2023-03-02T05:26:21.873Z"
   },
   {
    "duration": 8,
    "start_time": "2023-03-02T05:26:21.883Z"
   },
   {
    "duration": 11,
    "start_time": "2023-03-02T05:26:21.892Z"
   },
   {
    "duration": 4,
    "start_time": "2023-03-02T05:26:21.904Z"
   },
   {
    "duration": 49,
    "start_time": "2023-03-02T05:26:21.909Z"
   },
   {
    "duration": 285,
    "start_time": "2023-03-02T05:26:21.965Z"
   },
   {
    "duration": 4,
    "start_time": "2023-03-02T05:26:22.252Z"
   },
   {
    "duration": 138,
    "start_time": "2023-03-02T05:26:22.258Z"
   },
   {
    "duration": 24,
    "start_time": "2023-03-02T05:26:22.398Z"
   },
   {
    "duration": 176,
    "start_time": "2023-03-02T05:26:22.423Z"
   },
   {
    "duration": 206,
    "start_time": "2023-03-02T05:26:22.602Z"
   },
   {
    "duration": 30,
    "start_time": "2023-03-02T05:26:22.810Z"
   },
   {
    "duration": 12,
    "start_time": "2023-03-02T05:26:22.843Z"
   },
   {
    "duration": 20,
    "start_time": "2023-03-02T05:26:22.857Z"
   },
   {
    "duration": 14,
    "start_time": "2023-03-02T05:26:22.879Z"
   },
   {
    "duration": 13,
    "start_time": "2023-03-02T05:26:22.895Z"
   },
   {
    "duration": 34,
    "start_time": "2023-03-02T05:26:22.910Z"
   },
   {
    "duration": 241,
    "start_time": "2023-03-02T05:26:22.946Z"
   },
   {
    "duration": 237,
    "start_time": "2023-03-02T05:26:23.189Z"
   },
   {
    "duration": 338,
    "start_time": "2023-03-02T05:26:23.428Z"
   },
   {
    "duration": 7,
    "start_time": "2023-03-02T05:26:23.768Z"
   },
   {
    "duration": 68,
    "start_time": "2023-03-02T05:26:23.776Z"
   },
   {
    "duration": 335,
    "start_time": "2023-03-02T05:26:23.846Z"
   },
   {
    "duration": 393,
    "start_time": "2023-03-02T05:26:24.183Z"
   },
   {
    "duration": 392,
    "start_time": "2023-03-02T05:26:24.577Z"
   },
   {
    "duration": 4,
    "start_time": "2023-03-02T05:39:28.818Z"
   },
   {
    "duration": 96,
    "start_time": "2023-03-02T05:39:28.825Z"
   },
   {
    "duration": 51,
    "start_time": "2023-03-02T05:39:28.923Z"
   },
   {
    "duration": 15,
    "start_time": "2023-03-02T05:39:28.976Z"
   },
   {
    "duration": 4,
    "start_time": "2023-03-02T05:39:28.993Z"
   },
   {
    "duration": 9,
    "start_time": "2023-03-02T05:39:28.998Z"
   },
   {
    "duration": 12,
    "start_time": "2023-03-02T05:39:29.008Z"
   },
   {
    "duration": 7,
    "start_time": "2023-03-02T05:39:29.022Z"
   },
   {
    "duration": 21,
    "start_time": "2023-03-02T05:39:29.030Z"
   },
   {
    "duration": 9,
    "start_time": "2023-03-02T05:39:29.053Z"
   },
   {
    "duration": 29,
    "start_time": "2023-03-02T05:39:29.063Z"
   },
   {
    "duration": 5,
    "start_time": "2023-03-02T05:39:29.094Z"
   },
   {
    "duration": 12,
    "start_time": "2023-03-02T05:39:29.100Z"
   },
   {
    "duration": 12,
    "start_time": "2023-03-02T05:39:29.115Z"
   },
   {
    "duration": 14,
    "start_time": "2023-03-02T05:39:29.139Z"
   },
   {
    "duration": 18,
    "start_time": "2023-03-02T05:39:29.155Z"
   },
   {
    "duration": 23,
    "start_time": "2023-03-02T05:39:29.174Z"
   },
   {
    "duration": 63,
    "start_time": "2023-03-02T05:39:29.199Z"
   },
   {
    "duration": 19,
    "start_time": "2023-03-02T05:39:29.264Z"
   },
   {
    "duration": 7,
    "start_time": "2023-03-02T05:39:29.285Z"
   },
   {
    "duration": 15,
    "start_time": "2023-03-02T05:39:29.293Z"
   },
   {
    "duration": 34,
    "start_time": "2023-03-02T05:39:29.311Z"
   },
   {
    "duration": 10,
    "start_time": "2023-03-02T05:39:29.347Z"
   },
   {
    "duration": 18,
    "start_time": "2023-03-02T05:39:29.358Z"
   },
   {
    "duration": 12,
    "start_time": "2023-03-02T05:40:29.236Z"
   },
   {
    "duration": 22,
    "start_time": "2023-03-02T05:42:23.883Z"
   },
   {
    "duration": 46,
    "start_time": "2023-03-02T06:19:24.690Z"
   },
   {
    "duration": 20,
    "start_time": "2023-03-02T06:19:44.555Z"
   },
   {
    "duration": 3,
    "start_time": "2023-03-02T06:19:55.475Z"
   },
   {
    "duration": 111,
    "start_time": "2023-03-02T06:19:55.480Z"
   },
   {
    "duration": 45,
    "start_time": "2023-03-02T06:19:55.593Z"
   },
   {
    "duration": 33,
    "start_time": "2023-03-02T06:19:55.640Z"
   },
   {
    "duration": 15,
    "start_time": "2023-03-02T06:19:55.674Z"
   },
   {
    "duration": 8,
    "start_time": "2023-03-02T06:19:55.691Z"
   },
   {
    "duration": 13,
    "start_time": "2023-03-02T06:19:55.700Z"
   },
   {
    "duration": 34,
    "start_time": "2023-03-02T06:19:55.714Z"
   },
   {
    "duration": 24,
    "start_time": "2023-03-02T06:19:55.750Z"
   },
   {
    "duration": 15,
    "start_time": "2023-03-02T06:19:55.779Z"
   },
   {
    "duration": 14,
    "start_time": "2023-03-02T06:19:55.795Z"
   },
   {
    "duration": 14,
    "start_time": "2023-03-02T06:19:55.811Z"
   },
   {
    "duration": 21,
    "start_time": "2023-03-02T06:19:55.826Z"
   },
   {
    "duration": 45,
    "start_time": "2023-03-02T06:19:55.848Z"
   },
   {
    "duration": 20,
    "start_time": "2023-03-02T06:19:55.896Z"
   },
   {
    "duration": 22,
    "start_time": "2023-03-02T06:19:55.918Z"
   },
   {
    "duration": 27,
    "start_time": "2023-03-02T06:19:55.954Z"
   },
   {
    "duration": 28,
    "start_time": "2023-03-02T06:19:55.983Z"
   },
   {
    "duration": 36,
    "start_time": "2023-03-02T06:19:56.012Z"
   },
   {
    "duration": 37,
    "start_time": "2023-03-02T06:19:56.050Z"
   },
   {
    "duration": 18,
    "start_time": "2023-03-02T06:19:56.089Z"
   },
   {
    "duration": 15,
    "start_time": "2023-03-02T06:19:56.110Z"
   },
   {
    "duration": 22,
    "start_time": "2023-03-02T06:19:56.127Z"
   },
   {
    "duration": 36,
    "start_time": "2023-03-02T06:19:56.158Z"
   },
   {
    "duration": 10,
    "start_time": "2023-03-02T06:19:56.195Z"
   },
   {
    "duration": 4,
    "start_time": "2023-03-02T06:19:56.206Z"
   },
   {
    "duration": 5,
    "start_time": "2023-03-02T06:19:56.212Z"
   },
   {
    "duration": 10,
    "start_time": "2023-03-02T06:19:56.224Z"
   },
   {
    "duration": 28,
    "start_time": "2023-03-02T06:19:56.236Z"
   },
   {
    "duration": 1060,
    "start_time": "2023-03-02T06:19:56.266Z"
   },
   {
    "duration": 4,
    "start_time": "2023-03-02T06:19:57.328Z"
   },
   {
    "duration": 45,
    "start_time": "2023-03-02T06:19:57.333Z"
   },
   {
    "duration": 8,
    "start_time": "2023-03-02T06:19:57.380Z"
   },
   {
    "duration": 13,
    "start_time": "2023-03-02T06:19:57.390Z"
   },
   {
    "duration": 4,
    "start_time": "2023-03-02T06:19:57.405Z"
   },
   {
    "duration": 20,
    "start_time": "2023-03-02T06:19:57.411Z"
   },
   {
    "duration": 452,
    "start_time": "2023-03-02T06:19:57.433Z"
   },
   {
    "duration": 6,
    "start_time": "2023-03-02T06:19:57.889Z"
   },
   {
    "duration": 245,
    "start_time": "2023-03-02T06:19:57.897Z"
   },
   {
    "duration": 37,
    "start_time": "2023-03-02T06:19:58.148Z"
   },
   {
    "duration": 146,
    "start_time": "2023-03-02T06:19:58.187Z"
   },
   {
    "duration": 254,
    "start_time": "2023-03-02T06:19:58.342Z"
   },
   {
    "duration": 18,
    "start_time": "2023-03-02T06:19:58.598Z"
   },
   {
    "duration": 12,
    "start_time": "2023-03-02T06:19:58.618Z"
   },
   {
    "duration": 41,
    "start_time": "2023-03-02T06:19:58.632Z"
   },
   {
    "duration": 16,
    "start_time": "2023-03-02T06:19:58.677Z"
   },
   {
    "duration": 25,
    "start_time": "2023-03-02T06:19:58.695Z"
   },
   {
    "duration": 15,
    "start_time": "2023-03-02T06:19:58.722Z"
   },
   {
    "duration": 338,
    "start_time": "2023-03-02T06:19:58.738Z"
   },
   {
    "duration": 257,
    "start_time": "2023-03-02T06:19:59.077Z"
   },
   {
    "duration": 278,
    "start_time": "2023-03-02T06:19:59.336Z"
   },
   {
    "duration": 11,
    "start_time": "2023-03-02T06:19:59.616Z"
   },
   {
    "duration": 25,
    "start_time": "2023-03-02T06:19:59.648Z"
   },
   {
    "duration": 323,
    "start_time": "2023-03-02T06:19:59.676Z"
   },
   {
    "duration": 221,
    "start_time": "2023-03-02T06:20:00.001Z"
   },
   {
    "duration": 259,
    "start_time": "2023-03-02T06:20:00.224Z"
   },
   {
    "duration": 171,
    "start_time": "2023-03-02T06:23:53.462Z"
   },
   {
    "duration": 1060,
    "start_time": "2023-03-02T06:30:18.918Z"
   },
   {
    "duration": 159,
    "start_time": "2023-03-02T06:31:36.416Z"
   },
   {
    "duration": 13,
    "start_time": "2023-03-02T06:31:40.790Z"
   },
   {
    "duration": 274,
    "start_time": "2023-03-02T06:31:43.805Z"
   },
   {
    "duration": 0,
    "start_time": "2023-03-02T06:32:36.879Z"
   },
   {
    "duration": 143,
    "start_time": "2023-03-02T06:35:14.481Z"
   },
   {
    "duration": 248,
    "start_time": "2023-03-02T06:43:32.261Z"
   },
   {
    "duration": 319,
    "start_time": "2023-03-02T06:43:35.971Z"
   },
   {
    "duration": 248,
    "start_time": "2023-03-02T06:43:43.985Z"
   },
   {
    "duration": 141,
    "start_time": "2023-03-02T06:43:54.784Z"
   },
   {
    "duration": 325,
    "start_time": "2023-03-02T06:45:32.352Z"
   },
   {
    "duration": 257,
    "start_time": "2023-03-02T06:46:15.773Z"
   },
   {
    "duration": 277,
    "start_time": "2023-03-02T07:14:04.600Z"
   },
   {
    "duration": 289,
    "start_time": "2023-03-02T07:14:14.169Z"
   },
   {
    "duration": 242,
    "start_time": "2023-03-02T07:14:20.733Z"
   },
   {
    "duration": 333,
    "start_time": "2023-03-02T07:14:25.720Z"
   },
   {
    "duration": 325,
    "start_time": "2023-03-02T07:14:32.668Z"
   },
   {
    "duration": 537,
    "start_time": "2023-03-02T08:32:50.140Z"
   },
   {
    "duration": 224,
    "start_time": "2023-03-02T08:32:50.679Z"
   },
   {
    "duration": 78,
    "start_time": "2023-03-02T08:32:50.906Z"
   },
   {
    "duration": 25,
    "start_time": "2023-03-02T08:32:50.987Z"
   },
   {
    "duration": 5,
    "start_time": "2023-03-02T08:32:51.014Z"
   },
   {
    "duration": 15,
    "start_time": "2023-03-02T08:32:51.020Z"
   },
   {
    "duration": 14,
    "start_time": "2023-03-02T08:32:51.037Z"
   },
   {
    "duration": 11,
    "start_time": "2023-03-02T08:32:51.053Z"
   },
   {
    "duration": 19,
    "start_time": "2023-03-02T08:32:51.065Z"
   },
   {
    "duration": 7,
    "start_time": "2023-03-02T08:32:51.088Z"
   },
   {
    "duration": 18,
    "start_time": "2023-03-02T08:32:51.097Z"
   },
   {
    "duration": 32,
    "start_time": "2023-03-02T08:32:51.117Z"
   },
   {
    "duration": 15,
    "start_time": "2023-03-02T08:32:51.151Z"
   },
   {
    "duration": 23,
    "start_time": "2023-03-02T08:32:51.168Z"
   },
   {
    "duration": 18,
    "start_time": "2023-03-02T08:32:51.193Z"
   },
   {
    "duration": 12,
    "start_time": "2023-03-02T08:32:51.246Z"
   },
   {
    "duration": 22,
    "start_time": "2023-03-02T08:32:51.260Z"
   },
   {
    "duration": 77,
    "start_time": "2023-03-02T08:32:51.283Z"
   },
   {
    "duration": 22,
    "start_time": "2023-03-02T08:32:51.362Z"
   },
   {
    "duration": 11,
    "start_time": "2023-03-02T08:32:51.385Z"
   },
   {
    "duration": 15,
    "start_time": "2023-03-02T08:32:51.398Z"
   },
   {
    "duration": 15,
    "start_time": "2023-03-02T08:32:51.415Z"
   },
   {
    "duration": 18,
    "start_time": "2023-03-02T08:32:51.432Z"
   },
   {
    "duration": 32,
    "start_time": "2023-03-02T08:32:51.452Z"
   },
   {
    "duration": 13,
    "start_time": "2023-03-02T08:32:51.486Z"
   },
   {
    "duration": 6,
    "start_time": "2023-03-02T08:32:51.501Z"
   },
   {
    "duration": 22,
    "start_time": "2023-03-02T08:32:51.508Z"
   },
   {
    "duration": 16,
    "start_time": "2023-03-02T08:32:51.534Z"
   },
   {
    "duration": 4,
    "start_time": "2023-03-02T08:32:51.552Z"
   },
   {
    "duration": 1520,
    "start_time": "2023-03-02T08:32:51.558Z"
   },
   {
    "duration": 5,
    "start_time": "2023-03-02T08:32:53.080Z"
   },
   {
    "duration": 30,
    "start_time": "2023-03-02T08:32:53.087Z"
   },
   {
    "duration": 21,
    "start_time": "2023-03-02T08:32:53.119Z"
   },
   {
    "duration": 24,
    "start_time": "2023-03-02T08:32:53.142Z"
   },
   {
    "duration": 5,
    "start_time": "2023-03-02T08:32:53.168Z"
   },
   {
    "duration": 31,
    "start_time": "2023-03-02T08:32:53.175Z"
   },
   {
    "duration": 176,
    "start_time": "2023-03-02T08:32:53.207Z"
   },
   {
    "duration": 4,
    "start_time": "2023-03-02T08:32:53.385Z"
   },
   {
    "duration": 155,
    "start_time": "2023-03-02T08:32:53.390Z"
   },
   {
    "duration": 20,
    "start_time": "2023-03-02T08:32:53.547Z"
   },
   {
    "duration": 253,
    "start_time": "2023-03-02T08:32:53.568Z"
   },
   {
    "duration": 153,
    "start_time": "2023-03-02T08:32:53.822Z"
   },
   {
    "duration": 229,
    "start_time": "2023-03-02T08:32:53.977Z"
   },
   {
    "duration": 21,
    "start_time": "2023-03-02T08:32:54.208Z"
   },
   {
    "duration": 12,
    "start_time": "2023-03-02T08:32:54.247Z"
   },
   {
    "duration": 20,
    "start_time": "2023-03-02T08:32:54.261Z"
   },
   {
    "duration": 14,
    "start_time": "2023-03-02T08:32:54.283Z"
   },
   {
    "duration": 14,
    "start_time": "2023-03-02T08:32:54.299Z"
   },
   {
    "duration": 38,
    "start_time": "2023-03-02T08:32:54.315Z"
   },
   {
    "duration": 261,
    "start_time": "2023-03-02T08:32:54.355Z"
   },
   {
    "duration": 256,
    "start_time": "2023-03-02T08:32:54.618Z"
   },
   {
    "duration": 357,
    "start_time": "2023-03-02T08:32:54.876Z"
   },
   {
    "duration": 11,
    "start_time": "2023-03-02T08:32:55.235Z"
   },
   {
    "duration": 14,
    "start_time": "2023-03-02T08:32:55.247Z"
   },
   {
    "duration": 225,
    "start_time": "2023-03-02T08:32:55.263Z"
   },
   {
    "duration": 215,
    "start_time": "2023-03-02T08:32:55.490Z"
   },
   {
    "duration": 218,
    "start_time": "2023-03-02T08:32:55.707Z"
   },
   {
    "duration": 476,
    "start_time": "2023-03-03T09:44:27.453Z"
   },
   {
    "duration": 115,
    "start_time": "2023-03-03T09:44:27.939Z"
   },
   {
    "duration": 53,
    "start_time": "2023-03-03T09:44:28.056Z"
   },
   {
    "duration": 27,
    "start_time": "2023-03-03T09:44:28.113Z"
   },
   {
    "duration": 12,
    "start_time": "2023-03-03T09:44:28.142Z"
   },
   {
    "duration": 20,
    "start_time": "2023-03-03T09:44:28.156Z"
   },
   {
    "duration": 23,
    "start_time": "2023-03-03T09:44:28.178Z"
   },
   {
    "duration": 43,
    "start_time": "2023-03-03T09:44:28.202Z"
   },
   {
    "duration": 15,
    "start_time": "2023-03-03T09:44:28.246Z"
   },
   {
    "duration": 8,
    "start_time": "2023-03-03T09:44:28.265Z"
   },
   {
    "duration": 13,
    "start_time": "2023-03-03T09:44:28.275Z"
   },
   {
    "duration": 8,
    "start_time": "2023-03-03T09:44:28.290Z"
   },
   {
    "duration": 23,
    "start_time": "2023-03-03T09:44:28.299Z"
   },
   {
    "duration": 33,
    "start_time": "2023-03-03T09:44:28.324Z"
   },
   {
    "duration": 14,
    "start_time": "2023-03-03T09:44:28.360Z"
   },
   {
    "duration": 12,
    "start_time": "2023-03-03T09:44:28.376Z"
   },
   {
    "duration": 58,
    "start_time": "2023-03-03T09:44:28.390Z"
   },
   {
    "duration": 25,
    "start_time": "2023-03-03T09:44:28.450Z"
   },
   {
    "duration": 21,
    "start_time": "2023-03-03T09:44:28.476Z"
   },
   {
    "duration": 28,
    "start_time": "2023-03-03T09:44:28.499Z"
   },
   {
    "duration": 23,
    "start_time": "2023-03-03T09:44:28.532Z"
   },
   {
    "duration": 10,
    "start_time": "2023-03-03T09:44:28.557Z"
   },
   {
    "duration": 11,
    "start_time": "2023-03-03T09:44:28.569Z"
   },
   {
    "duration": 15,
    "start_time": "2023-03-03T09:44:28.582Z"
   },
   {
    "duration": 26,
    "start_time": "2023-03-03T09:44:28.598Z"
   },
   {
    "duration": 29,
    "start_time": "2023-03-03T09:44:28.625Z"
   },
   {
    "duration": 26,
    "start_time": "2023-03-03T09:44:28.656Z"
   },
   {
    "duration": 25,
    "start_time": "2023-03-03T09:44:28.686Z"
   },
   {
    "duration": 33,
    "start_time": "2023-03-03T09:44:28.712Z"
   },
   {
    "duration": 1427,
    "start_time": "2023-03-03T09:44:28.747Z"
   },
   {
    "duration": 5,
    "start_time": "2023-03-03T09:44:30.177Z"
   },
   {
    "duration": 69,
    "start_time": "2023-03-03T09:44:30.184Z"
   },
   {
    "duration": 87,
    "start_time": "2023-03-03T09:44:30.255Z"
   },
   {
    "duration": 96,
    "start_time": "2023-03-03T09:44:30.344Z"
   },
   {
    "duration": 28,
    "start_time": "2023-03-03T09:44:30.442Z"
   },
   {
    "duration": 61,
    "start_time": "2023-03-03T09:44:30.472Z"
   },
   {
    "duration": 203,
    "start_time": "2023-03-03T09:44:30.535Z"
   },
   {
    "duration": 4,
    "start_time": "2023-03-03T09:44:30.740Z"
   },
   {
    "duration": 175,
    "start_time": "2023-03-03T09:44:30.745Z"
   },
   {
    "duration": 24,
    "start_time": "2023-03-03T09:44:30.921Z"
   },
   {
    "duration": 291,
    "start_time": "2023-03-03T09:44:30.947Z"
   },
   {
    "duration": 172,
    "start_time": "2023-03-03T09:44:31.239Z"
   },
   {
    "duration": 258,
    "start_time": "2023-03-03T09:44:31.412Z"
   },
   {
    "duration": 19,
    "start_time": "2023-03-03T09:44:31.672Z"
   },
   {
    "duration": 83,
    "start_time": "2023-03-03T09:44:31.693Z"
   },
   {
    "duration": 50,
    "start_time": "2023-03-03T09:44:31.777Z"
   },
   {
    "duration": 30,
    "start_time": "2023-03-03T09:44:31.831Z"
   },
   {
    "duration": 34,
    "start_time": "2023-03-03T09:44:31.863Z"
   },
   {
    "duration": 47,
    "start_time": "2023-03-03T09:44:31.899Z"
   },
   {
    "duration": 280,
    "start_time": "2023-03-03T09:44:31.947Z"
   },
   {
    "duration": 244,
    "start_time": "2023-03-03T09:44:32.230Z"
   },
   {
    "duration": 379,
    "start_time": "2023-03-03T09:44:32.476Z"
   },
   {
    "duration": 6,
    "start_time": "2023-03-03T09:44:32.857Z"
   },
   {
    "duration": 16,
    "start_time": "2023-03-03T09:44:32.865Z"
   },
   {
    "duration": 263,
    "start_time": "2023-03-03T09:44:32.883Z"
   },
   {
    "duration": 275,
    "start_time": "2023-03-03T09:44:33.148Z"
   },
   {
    "duration": 236,
    "start_time": "2023-03-03T09:44:33.425Z"
   },
   {
    "duration": 5,
    "start_time": "2023-03-03T09:47:43.462Z"
   },
   {
    "duration": 8,
    "start_time": "2023-03-03T09:47:56.558Z"
   },
   {
    "duration": 12,
    "start_time": "2023-03-03T09:48:42.442Z"
   },
   {
    "duration": 90,
    "start_time": "2023-03-03T09:48:46.962Z"
   },
   {
    "duration": 8,
    "start_time": "2023-03-03T09:49:00.281Z"
   },
   {
    "duration": 16,
    "start_time": "2023-03-03T09:49:03.806Z"
   },
   {
    "duration": 402,
    "start_time": "2023-03-03T09:49:33.859Z"
   },
   {
    "duration": 107,
    "start_time": "2023-03-03T09:49:34.263Z"
   },
   {
    "duration": 63,
    "start_time": "2023-03-03T09:49:34.372Z"
   },
   {
    "duration": 20,
    "start_time": "2023-03-03T09:49:34.437Z"
   },
   {
    "duration": 9,
    "start_time": "2023-03-03T09:49:34.458Z"
   },
   {
    "duration": 160,
    "start_time": "2023-03-03T09:49:34.469Z"
   },
   {
    "duration": 0,
    "start_time": "2023-03-03T09:49:34.633Z"
   },
   {
    "duration": 0,
    "start_time": "2023-03-03T09:49:34.634Z"
   },
   {
    "duration": 0,
    "start_time": "2023-03-03T09:49:34.636Z"
   },
   {
    "duration": 0,
    "start_time": "2023-03-03T09:49:34.636Z"
   },
   {
    "duration": 0,
    "start_time": "2023-03-03T09:49:34.637Z"
   },
   {
    "duration": 0,
    "start_time": "2023-03-03T09:49:34.639Z"
   },
   {
    "duration": 0,
    "start_time": "2023-03-03T09:49:34.640Z"
   },
   {
    "duration": 0,
    "start_time": "2023-03-03T09:49:34.641Z"
   },
   {
    "duration": 0,
    "start_time": "2023-03-03T09:49:34.642Z"
   },
   {
    "duration": 1,
    "start_time": "2023-03-03T09:49:34.642Z"
   },
   {
    "duration": 0,
    "start_time": "2023-03-03T09:49:34.644Z"
   },
   {
    "duration": 0,
    "start_time": "2023-03-03T09:49:34.645Z"
   },
   {
    "duration": 0,
    "start_time": "2023-03-03T09:49:34.646Z"
   },
   {
    "duration": 0,
    "start_time": "2023-03-03T09:49:34.647Z"
   },
   {
    "duration": 0,
    "start_time": "2023-03-03T09:49:34.648Z"
   },
   {
    "duration": 0,
    "start_time": "2023-03-03T09:49:34.649Z"
   },
   {
    "duration": 0,
    "start_time": "2023-03-03T09:49:34.650Z"
   },
   {
    "duration": 0,
    "start_time": "2023-03-03T09:49:34.651Z"
   },
   {
    "duration": 0,
    "start_time": "2023-03-03T09:49:34.652Z"
   },
   {
    "duration": 0,
    "start_time": "2023-03-03T09:49:34.653Z"
   },
   {
    "duration": 0,
    "start_time": "2023-03-03T09:49:34.654Z"
   },
   {
    "duration": 0,
    "start_time": "2023-03-03T09:49:34.655Z"
   },
   {
    "duration": 0,
    "start_time": "2023-03-03T09:49:34.656Z"
   },
   {
    "duration": 0,
    "start_time": "2023-03-03T09:49:34.658Z"
   },
   {
    "duration": 0,
    "start_time": "2023-03-03T09:49:34.659Z"
   },
   {
    "duration": 0,
    "start_time": "2023-03-03T09:49:34.660Z"
   },
   {
    "duration": 0,
    "start_time": "2023-03-03T09:49:34.661Z"
   },
   {
    "duration": 0,
    "start_time": "2023-03-03T09:49:34.662Z"
   },
   {
    "duration": 0,
    "start_time": "2023-03-03T09:49:34.663Z"
   },
   {
    "duration": 0,
    "start_time": "2023-03-03T09:49:34.664Z"
   },
   {
    "duration": 0,
    "start_time": "2023-03-03T09:49:34.665Z"
   },
   {
    "duration": 0,
    "start_time": "2023-03-03T09:49:34.666Z"
   },
   {
    "duration": 0,
    "start_time": "2023-03-03T09:49:34.667Z"
   },
   {
    "duration": 0,
    "start_time": "2023-03-03T09:49:34.668Z"
   },
   {
    "duration": 0,
    "start_time": "2023-03-03T09:49:34.669Z"
   },
   {
    "duration": 0,
    "start_time": "2023-03-03T09:49:34.703Z"
   },
   {
    "duration": 0,
    "start_time": "2023-03-03T09:49:34.704Z"
   },
   {
    "duration": 0,
    "start_time": "2023-03-03T09:49:34.705Z"
   },
   {
    "duration": 0,
    "start_time": "2023-03-03T09:49:34.706Z"
   },
   {
    "duration": 0,
    "start_time": "2023-03-03T09:49:34.706Z"
   },
   {
    "duration": 0,
    "start_time": "2023-03-03T09:49:34.707Z"
   },
   {
    "duration": 0,
    "start_time": "2023-03-03T09:49:34.708Z"
   },
   {
    "duration": 0,
    "start_time": "2023-03-03T09:49:34.708Z"
   },
   {
    "duration": 0,
    "start_time": "2023-03-03T09:49:34.709Z"
   },
   {
    "duration": 0,
    "start_time": "2023-03-03T09:49:34.709Z"
   },
   {
    "duration": 0,
    "start_time": "2023-03-03T09:49:34.714Z"
   },
   {
    "duration": 0,
    "start_time": "2023-03-03T09:49:34.716Z"
   },
   {
    "duration": 0,
    "start_time": "2023-03-03T09:49:34.718Z"
   },
   {
    "duration": 1,
    "start_time": "2023-03-03T09:49:34.720Z"
   },
   {
    "duration": 0,
    "start_time": "2023-03-03T09:49:34.724Z"
   },
   {
    "duration": 0,
    "start_time": "2023-03-03T09:49:34.725Z"
   },
   {
    "duration": 0,
    "start_time": "2023-03-03T09:49:34.726Z"
   },
   {
    "duration": 0,
    "start_time": "2023-03-03T09:49:34.728Z"
   },
   {
    "duration": 0,
    "start_time": "2023-03-03T09:49:34.729Z"
   },
   {
    "duration": 0,
    "start_time": "2023-03-03T09:49:34.730Z"
   },
   {
    "duration": 10,
    "start_time": "2023-03-03T09:49:46.262Z"
   },
   {
    "duration": 13,
    "start_time": "2023-03-03T09:49:52.591Z"
   },
   {
    "duration": 61,
    "start_time": "2023-03-03T09:49:58.637Z"
   },
   {
    "duration": 7,
    "start_time": "2023-03-03T09:50:11.466Z"
   },
   {
    "duration": 9,
    "start_time": "2023-03-03T09:50:18.801Z"
   },
   {
    "duration": 453,
    "start_time": "2023-03-03T09:50:23.386Z"
   },
   {
    "duration": 102,
    "start_time": "2023-03-03T09:50:23.841Z"
   },
   {
    "duration": 44,
    "start_time": "2023-03-03T09:50:23.945Z"
   },
   {
    "duration": 36,
    "start_time": "2023-03-03T09:50:23.991Z"
   },
   {
    "duration": 8,
    "start_time": "2023-03-03T09:50:24.031Z"
   },
   {
    "duration": 36,
    "start_time": "2023-03-03T09:50:24.040Z"
   },
   {
    "duration": 23,
    "start_time": "2023-03-03T09:50:24.078Z"
   },
   {
    "duration": 90,
    "start_time": "2023-03-03T09:50:24.102Z"
   },
   {
    "duration": 0,
    "start_time": "2023-03-03T09:50:24.195Z"
   },
   {
    "duration": 0,
    "start_time": "2023-03-03T09:50:24.196Z"
   },
   {
    "duration": 0,
    "start_time": "2023-03-03T09:50:24.197Z"
   },
   {
    "duration": 0,
    "start_time": "2023-03-03T09:50:24.199Z"
   },
   {
    "duration": 0,
    "start_time": "2023-03-03T09:50:24.200Z"
   },
   {
    "duration": 0,
    "start_time": "2023-03-03T09:50:24.201Z"
   },
   {
    "duration": 0,
    "start_time": "2023-03-03T09:50:24.202Z"
   },
   {
    "duration": 0,
    "start_time": "2023-03-03T09:50:24.205Z"
   },
   {
    "duration": 0,
    "start_time": "2023-03-03T09:50:24.206Z"
   },
   {
    "duration": 0,
    "start_time": "2023-03-03T09:50:24.207Z"
   },
   {
    "duration": 0,
    "start_time": "2023-03-03T09:50:24.207Z"
   },
   {
    "duration": 0,
    "start_time": "2023-03-03T09:50:24.208Z"
   },
   {
    "duration": 0,
    "start_time": "2023-03-03T09:50:24.209Z"
   },
   {
    "duration": 0,
    "start_time": "2023-03-03T09:50:24.209Z"
   },
   {
    "duration": 0,
    "start_time": "2023-03-03T09:50:24.213Z"
   },
   {
    "duration": 0,
    "start_time": "2023-03-03T09:50:24.215Z"
   },
   {
    "duration": 0,
    "start_time": "2023-03-03T09:50:24.215Z"
   },
   {
    "duration": 0,
    "start_time": "2023-03-03T09:50:24.216Z"
   },
   {
    "duration": 0,
    "start_time": "2023-03-03T09:50:24.216Z"
   },
   {
    "duration": 0,
    "start_time": "2023-03-03T09:50:24.217Z"
   },
   {
    "duration": 0,
    "start_time": "2023-03-03T09:50:24.217Z"
   },
   {
    "duration": 0,
    "start_time": "2023-03-03T09:50:24.219Z"
   },
   {
    "duration": 0,
    "start_time": "2023-03-03T09:50:24.220Z"
   },
   {
    "duration": 0,
    "start_time": "2023-03-03T09:50:24.220Z"
   },
   {
    "duration": 0,
    "start_time": "2023-03-03T09:50:24.222Z"
   },
   {
    "duration": 0,
    "start_time": "2023-03-03T09:50:24.223Z"
   },
   {
    "duration": 0,
    "start_time": "2023-03-03T09:50:24.224Z"
   },
   {
    "duration": 0,
    "start_time": "2023-03-03T09:50:24.224Z"
   },
   {
    "duration": 0,
    "start_time": "2023-03-03T09:50:24.225Z"
   },
   {
    "duration": 0,
    "start_time": "2023-03-03T09:50:24.226Z"
   },
   {
    "duration": 0,
    "start_time": "2023-03-03T09:50:24.226Z"
   },
   {
    "duration": 0,
    "start_time": "2023-03-03T09:50:24.227Z"
   },
   {
    "duration": 1,
    "start_time": "2023-03-03T09:50:24.228Z"
   },
   {
    "duration": 0,
    "start_time": "2023-03-03T09:50:24.229Z"
   },
   {
    "duration": 0,
    "start_time": "2023-03-03T09:50:24.230Z"
   },
   {
    "duration": 0,
    "start_time": "2023-03-03T09:50:24.230Z"
   },
   {
    "duration": 0,
    "start_time": "2023-03-03T09:50:24.231Z"
   },
   {
    "duration": 0,
    "start_time": "2023-03-03T09:50:24.236Z"
   },
   {
    "duration": 0,
    "start_time": "2023-03-03T09:50:24.237Z"
   },
   {
    "duration": 0,
    "start_time": "2023-03-03T09:50:24.240Z"
   },
   {
    "duration": 0,
    "start_time": "2023-03-03T09:50:24.241Z"
   },
   {
    "duration": 0,
    "start_time": "2023-03-03T09:50:24.242Z"
   },
   {
    "duration": 0,
    "start_time": "2023-03-03T09:50:24.243Z"
   },
   {
    "duration": 0,
    "start_time": "2023-03-03T09:50:24.244Z"
   },
   {
    "duration": 0,
    "start_time": "2023-03-03T09:50:24.245Z"
   },
   {
    "duration": 0,
    "start_time": "2023-03-03T09:50:24.246Z"
   },
   {
    "duration": 0,
    "start_time": "2023-03-03T09:50:24.247Z"
   },
   {
    "duration": 0,
    "start_time": "2023-03-03T09:50:24.248Z"
   },
   {
    "duration": 0,
    "start_time": "2023-03-03T09:50:24.249Z"
   },
   {
    "duration": 0,
    "start_time": "2023-03-03T09:50:24.250Z"
   },
   {
    "duration": 0,
    "start_time": "2023-03-03T09:50:24.252Z"
   },
   {
    "duration": 0,
    "start_time": "2023-03-03T09:50:24.253Z"
   },
   {
    "duration": 104,
    "start_time": "2023-03-03T09:50:49.837Z"
   },
   {
    "duration": 11,
    "start_time": "2023-03-03T09:51:12.585Z"
   },
   {
    "duration": 10,
    "start_time": "2023-03-03T09:51:22.933Z"
   },
   {
    "duration": 12,
    "start_time": "2023-03-03T09:51:31.955Z"
   },
   {
    "duration": 16,
    "start_time": "2023-03-03T09:51:48.687Z"
   },
   {
    "duration": 206,
    "start_time": "2023-03-03T09:51:57.530Z"
   },
   {
    "duration": 16,
    "start_time": "2023-03-03T09:52:29.196Z"
   },
   {
    "duration": 14,
    "start_time": "2023-03-03T09:52:34.666Z"
   },
   {
    "duration": 161,
    "start_time": "2023-03-03T09:52:50.865Z"
   },
   {
    "duration": 22,
    "start_time": "2023-03-03T09:53:20.892Z"
   },
   {
    "duration": 13,
    "start_time": "2023-03-03T09:53:26.303Z"
   },
   {
    "duration": 15,
    "start_time": "2023-03-03T09:53:32.223Z"
   },
   {
    "duration": 15,
    "start_time": "2023-03-03T09:53:49.600Z"
   },
   {
    "duration": 15,
    "start_time": "2023-03-03T09:53:57.175Z"
   },
   {
    "duration": 14,
    "start_time": "2023-03-03T09:54:05.487Z"
   },
   {
    "duration": 8,
    "start_time": "2023-03-03T09:54:10.592Z"
   },
   {
    "duration": 21,
    "start_time": "2023-03-03T09:54:15.292Z"
   },
   {
    "duration": 14,
    "start_time": "2023-03-03T09:55:55.232Z"
   },
   {
    "duration": 5,
    "start_time": "2023-03-03T09:56:02.561Z"
   },
   {
    "duration": 12,
    "start_time": "2023-03-03T09:56:07.771Z"
   },
   {
    "duration": 13,
    "start_time": "2023-03-03T09:56:25.876Z"
   },
   {
    "duration": 27,
    "start_time": "2023-03-03T09:56:31.833Z"
   },
   {
    "duration": 445,
    "start_time": "2023-03-03T09:56:46.529Z"
   },
   {
    "duration": 121,
    "start_time": "2023-03-03T09:56:46.976Z"
   },
   {
    "duration": 61,
    "start_time": "2023-03-03T09:56:47.099Z"
   },
   {
    "duration": 34,
    "start_time": "2023-03-03T09:56:47.162Z"
   },
   {
    "duration": 11,
    "start_time": "2023-03-03T09:56:47.199Z"
   },
   {
    "duration": 48,
    "start_time": "2023-03-03T09:56:47.212Z"
   },
   {
    "duration": 137,
    "start_time": "2023-03-03T09:56:47.262Z"
   },
   {
    "duration": 0,
    "start_time": "2023-03-03T09:56:47.403Z"
   },
   {
    "duration": 0,
    "start_time": "2023-03-03T09:56:47.408Z"
   },
   {
    "duration": 0,
    "start_time": "2023-03-03T09:56:47.417Z"
   },
   {
    "duration": 0,
    "start_time": "2023-03-03T09:56:47.421Z"
   },
   {
    "duration": 0,
    "start_time": "2023-03-03T09:56:47.426Z"
   },
   {
    "duration": 0,
    "start_time": "2023-03-03T09:56:47.428Z"
   },
   {
    "duration": 0,
    "start_time": "2023-03-03T09:56:47.430Z"
   },
   {
    "duration": 0,
    "start_time": "2023-03-03T09:56:47.432Z"
   },
   {
    "duration": 0,
    "start_time": "2023-03-03T09:56:47.434Z"
   },
   {
    "duration": 0,
    "start_time": "2023-03-03T09:56:47.447Z"
   },
   {
    "duration": 0,
    "start_time": "2023-03-03T09:56:47.448Z"
   },
   {
    "duration": 0,
    "start_time": "2023-03-03T09:56:47.449Z"
   },
   {
    "duration": 0,
    "start_time": "2023-03-03T09:56:47.452Z"
   },
   {
    "duration": 0,
    "start_time": "2023-03-03T09:56:47.457Z"
   },
   {
    "duration": 0,
    "start_time": "2023-03-03T09:56:47.458Z"
   },
   {
    "duration": 0,
    "start_time": "2023-03-03T09:56:47.460Z"
   },
   {
    "duration": 0,
    "start_time": "2023-03-03T09:56:47.462Z"
   },
   {
    "duration": 0,
    "start_time": "2023-03-03T09:56:47.463Z"
   },
   {
    "duration": 0,
    "start_time": "2023-03-03T09:56:47.464Z"
   },
   {
    "duration": 0,
    "start_time": "2023-03-03T09:56:47.466Z"
   },
   {
    "duration": 0,
    "start_time": "2023-03-03T09:56:47.467Z"
   },
   {
    "duration": 1,
    "start_time": "2023-03-03T09:56:47.468Z"
   },
   {
    "duration": 0,
    "start_time": "2023-03-03T09:56:47.470Z"
   },
   {
    "duration": 0,
    "start_time": "2023-03-03T09:56:47.471Z"
   },
   {
    "duration": 0,
    "start_time": "2023-03-03T09:56:47.472Z"
   },
   {
    "duration": 0,
    "start_time": "2023-03-03T09:56:47.473Z"
   },
   {
    "duration": 0,
    "start_time": "2023-03-03T09:56:47.479Z"
   },
   {
    "duration": 0,
    "start_time": "2023-03-03T09:56:47.503Z"
   },
   {
    "duration": 0,
    "start_time": "2023-03-03T09:56:47.504Z"
   },
   {
    "duration": 1,
    "start_time": "2023-03-03T09:56:47.510Z"
   },
   {
    "duration": 0,
    "start_time": "2023-03-03T09:56:47.519Z"
   },
   {
    "duration": 0,
    "start_time": "2023-03-03T09:56:47.519Z"
   },
   {
    "duration": 0,
    "start_time": "2023-03-03T09:56:47.520Z"
   },
   {
    "duration": 0,
    "start_time": "2023-03-03T09:56:47.522Z"
   },
   {
    "duration": 0,
    "start_time": "2023-03-03T09:56:47.524Z"
   },
   {
    "duration": 0,
    "start_time": "2023-03-03T09:56:47.525Z"
   },
   {
    "duration": 0,
    "start_time": "2023-03-03T09:56:47.526Z"
   },
   {
    "duration": 0,
    "start_time": "2023-03-03T09:56:47.527Z"
   },
   {
    "duration": 0,
    "start_time": "2023-03-03T09:56:47.528Z"
   },
   {
    "duration": 0,
    "start_time": "2023-03-03T09:56:47.529Z"
   },
   {
    "duration": 0,
    "start_time": "2023-03-03T09:56:47.531Z"
   },
   {
    "duration": 0,
    "start_time": "2023-03-03T09:56:47.532Z"
   },
   {
    "duration": 0,
    "start_time": "2023-03-03T09:56:47.534Z"
   },
   {
    "duration": 0,
    "start_time": "2023-03-03T09:56:47.535Z"
   },
   {
    "duration": 0,
    "start_time": "2023-03-03T09:56:47.536Z"
   },
   {
    "duration": 0,
    "start_time": "2023-03-03T09:56:47.537Z"
   },
   {
    "duration": 0,
    "start_time": "2023-03-03T09:56:47.538Z"
   },
   {
    "duration": 0,
    "start_time": "2023-03-03T09:56:47.539Z"
   },
   {
    "duration": 0,
    "start_time": "2023-03-03T09:56:47.540Z"
   },
   {
    "duration": 0,
    "start_time": "2023-03-03T09:56:47.541Z"
   },
   {
    "duration": 0,
    "start_time": "2023-03-03T09:56:47.542Z"
   },
   {
    "duration": 0,
    "start_time": "2023-03-03T09:56:47.543Z"
   },
   {
    "duration": 1,
    "start_time": "2023-03-03T09:56:47.543Z"
   },
   {
    "duration": 17,
    "start_time": "2023-03-03T09:57:06.521Z"
   },
   {
    "duration": 8,
    "start_time": "2023-03-03T09:57:14.266Z"
   },
   {
    "duration": 6,
    "start_time": "2023-03-03T09:59:48.960Z"
   },
   {
    "duration": 33,
    "start_time": "2023-03-03T09:59:52.193Z"
   },
   {
    "duration": 405,
    "start_time": "2023-03-03T10:00:24.932Z"
   },
   {
    "duration": 107,
    "start_time": "2023-03-03T10:00:25.339Z"
   },
   {
    "duration": 42,
    "start_time": "2023-03-03T10:00:25.448Z"
   },
   {
    "duration": 41,
    "start_time": "2023-03-03T10:00:25.492Z"
   },
   {
    "duration": 5,
    "start_time": "2023-03-03T10:00:25.535Z"
   },
   {
    "duration": 17,
    "start_time": "2023-03-03T10:00:25.542Z"
   },
   {
    "duration": 12,
    "start_time": "2023-03-03T10:00:25.561Z"
   },
   {
    "duration": 9,
    "start_time": "2023-03-03T10:00:25.575Z"
   },
   {
    "duration": 15,
    "start_time": "2023-03-03T10:00:25.586Z"
   },
   {
    "duration": 31,
    "start_time": "2023-03-03T10:00:25.606Z"
   },
   {
    "duration": 11,
    "start_time": "2023-03-03T10:00:25.639Z"
   },
   {
    "duration": 7,
    "start_time": "2023-03-03T10:00:25.651Z"
   },
   {
    "duration": 12,
    "start_time": "2023-03-03T10:00:25.659Z"
   },
   {
    "duration": 14,
    "start_time": "2023-03-03T10:00:25.672Z"
   },
   {
    "duration": 11,
    "start_time": "2023-03-03T10:00:25.688Z"
   },
   {
    "duration": 19,
    "start_time": "2023-03-03T10:00:25.700Z"
   },
   {
    "duration": 28,
    "start_time": "2023-03-03T10:00:25.720Z"
   },
   {
    "duration": 24,
    "start_time": "2023-03-03T10:00:25.749Z"
   },
   {
    "duration": 46,
    "start_time": "2023-03-03T10:00:25.775Z"
   },
   {
    "duration": 15,
    "start_time": "2023-03-03T10:00:25.824Z"
   },
   {
    "duration": 13,
    "start_time": "2023-03-03T10:00:25.840Z"
   },
   {
    "duration": 9,
    "start_time": "2023-03-03T10:00:25.854Z"
   },
   {
    "duration": 9,
    "start_time": "2023-03-03T10:00:25.865Z"
   },
   {
    "duration": 14,
    "start_time": "2023-03-03T10:00:25.875Z"
   },
   {
    "duration": 27,
    "start_time": "2023-03-03T10:00:25.891Z"
   },
   {
    "duration": 19,
    "start_time": "2023-03-03T10:00:25.919Z"
   },
   {
    "duration": 7,
    "start_time": "2023-03-03T10:00:25.939Z"
   },
   {
    "duration": 8,
    "start_time": "2023-03-03T10:00:25.949Z"
   },
   {
    "duration": 15,
    "start_time": "2023-03-03T10:00:25.958Z"
   },
   {
    "duration": 1469,
    "start_time": "2023-03-03T10:00:25.975Z"
   },
   {
    "duration": 4,
    "start_time": "2023-03-03T10:00:27.446Z"
   },
   {
    "duration": 9,
    "start_time": "2023-03-03T10:00:27.451Z"
   },
   {
    "duration": 9,
    "start_time": "2023-03-03T10:00:27.462Z"
   },
   {
    "duration": 20,
    "start_time": "2023-03-03T10:00:27.472Z"
   },
   {
    "duration": 25,
    "start_time": "2023-03-03T10:00:27.493Z"
   },
   {
    "duration": 37,
    "start_time": "2023-03-03T10:00:27.519Z"
   },
   {
    "duration": 175,
    "start_time": "2023-03-03T10:00:27.557Z"
   },
   {
    "duration": 4,
    "start_time": "2023-03-03T10:00:27.734Z"
   },
   {
    "duration": 150,
    "start_time": "2023-03-03T10:00:27.739Z"
   },
   {
    "duration": 35,
    "start_time": "2023-03-03T10:00:27.890Z"
   },
   {
    "duration": 259,
    "start_time": "2023-03-03T10:00:27.926Z"
   },
   {
    "duration": 153,
    "start_time": "2023-03-03T10:00:28.186Z"
   },
   {
    "duration": 226,
    "start_time": "2023-03-03T10:00:28.341Z"
   },
   {
    "duration": 18,
    "start_time": "2023-03-03T10:00:28.568Z"
   },
   {
    "duration": 24,
    "start_time": "2023-03-03T10:00:28.587Z"
   },
   {
    "duration": 51,
    "start_time": "2023-03-03T10:00:28.612Z"
   },
   {
    "duration": 13,
    "start_time": "2023-03-03T10:00:28.665Z"
   },
   {
    "duration": 12,
    "start_time": "2023-03-03T10:00:28.680Z"
   },
   {
    "duration": 20,
    "start_time": "2023-03-03T10:00:28.694Z"
   },
   {
    "duration": 587,
    "start_time": "2023-03-03T10:00:28.723Z"
   },
   {
    "duration": 710,
    "start_time": "2023-03-03T10:00:29.317Z"
   },
   {
    "duration": 1017,
    "start_time": "2023-03-03T10:00:30.029Z"
   },
   {
    "duration": 61,
    "start_time": "2023-03-03T10:00:31.047Z"
   },
   {
    "duration": 36,
    "start_time": "2023-03-03T10:00:31.111Z"
   },
   {
    "duration": 365,
    "start_time": "2023-03-03T10:00:31.149Z"
   },
   {
    "duration": 224,
    "start_time": "2023-03-03T10:00:31.515Z"
   },
   {
    "duration": 220,
    "start_time": "2023-03-03T10:00:31.740Z"
   },
   {
    "duration": 6,
    "start_time": "2023-03-03T10:05:39.330Z"
   },
   {
    "duration": 5,
    "start_time": "2023-03-03T10:05:46.067Z"
   },
   {
    "duration": 7,
    "start_time": "2023-03-03T10:09:31.035Z"
   },
   {
    "duration": 5,
    "start_time": "2023-03-03T10:10:10.129Z"
   },
   {
    "duration": 455,
    "start_time": "2023-03-03T10:11:00.235Z"
   },
   {
    "duration": 137,
    "start_time": "2023-03-03T10:11:00.692Z"
   },
   {
    "duration": 64,
    "start_time": "2023-03-03T10:11:00.835Z"
   },
   {
    "duration": 45,
    "start_time": "2023-03-03T10:11:00.901Z"
   },
   {
    "duration": 25,
    "start_time": "2023-03-03T10:11:00.947Z"
   },
   {
    "duration": 41,
    "start_time": "2023-03-03T10:11:00.975Z"
   },
   {
    "duration": 52,
    "start_time": "2023-03-03T10:11:01.017Z"
   },
   {
    "duration": 37,
    "start_time": "2023-03-03T10:11:01.071Z"
   },
   {
    "duration": 83,
    "start_time": "2023-03-03T10:11:01.110Z"
   },
   {
    "duration": 84,
    "start_time": "2023-03-03T10:11:01.196Z"
   },
   {
    "duration": 27,
    "start_time": "2023-03-03T10:11:01.282Z"
   },
   {
    "duration": 50,
    "start_time": "2023-03-03T10:11:01.312Z"
   },
   {
    "duration": 24,
    "start_time": "2023-03-03T10:11:01.364Z"
   },
   {
    "duration": 65,
    "start_time": "2023-03-03T10:11:01.390Z"
   },
   {
    "duration": 10,
    "start_time": "2023-03-03T10:11:01.456Z"
   },
   {
    "duration": 26,
    "start_time": "2023-03-03T10:11:01.468Z"
   },
   {
    "duration": 52,
    "start_time": "2023-03-03T10:11:01.496Z"
   },
   {
    "duration": 41,
    "start_time": "2023-03-03T10:11:01.550Z"
   },
   {
    "duration": 19,
    "start_time": "2023-03-03T10:11:01.593Z"
   },
   {
    "duration": 56,
    "start_time": "2023-03-03T10:11:01.614Z"
   },
   {
    "duration": 21,
    "start_time": "2023-03-03T10:11:01.672Z"
   },
   {
    "duration": 22,
    "start_time": "2023-03-03T10:11:01.695Z"
   },
   {
    "duration": 46,
    "start_time": "2023-03-03T10:11:01.719Z"
   },
   {
    "duration": 18,
    "start_time": "2023-03-03T10:11:01.767Z"
   },
   {
    "duration": 28,
    "start_time": "2023-03-03T10:11:01.787Z"
   },
   {
    "duration": 45,
    "start_time": "2023-03-03T10:11:01.817Z"
   },
   {
    "duration": 30,
    "start_time": "2023-03-03T10:11:01.864Z"
   },
   {
    "duration": 41,
    "start_time": "2023-03-03T10:11:01.898Z"
   },
   {
    "duration": 27,
    "start_time": "2023-03-03T10:11:01.940Z"
   },
   {
    "duration": 21,
    "start_time": "2023-03-03T10:11:01.969Z"
   },
   {
    "duration": 50,
    "start_time": "2023-03-03T10:11:01.992Z"
   },
   {
    "duration": 1525,
    "start_time": "2023-03-03T10:11:02.044Z"
   },
   {
    "duration": 101,
    "start_time": "2023-03-03T10:11:03.571Z"
   },
   {
    "duration": 0,
    "start_time": "2023-03-03T10:11:03.674Z"
   },
   {
    "duration": 0,
    "start_time": "2023-03-03T10:11:03.675Z"
   },
   {
    "duration": 0,
    "start_time": "2023-03-03T10:11:03.676Z"
   },
   {
    "duration": 0,
    "start_time": "2023-03-03T10:11:03.677Z"
   },
   {
    "duration": 0,
    "start_time": "2023-03-03T10:11:03.678Z"
   },
   {
    "duration": 0,
    "start_time": "2023-03-03T10:11:03.679Z"
   },
   {
    "duration": 0,
    "start_time": "2023-03-03T10:11:03.680Z"
   },
   {
    "duration": 0,
    "start_time": "2023-03-03T10:11:03.681Z"
   },
   {
    "duration": 0,
    "start_time": "2023-03-03T10:11:03.683Z"
   },
   {
    "duration": 0,
    "start_time": "2023-03-03T10:11:03.684Z"
   },
   {
    "duration": 0,
    "start_time": "2023-03-03T10:11:03.686Z"
   },
   {
    "duration": 0,
    "start_time": "2023-03-03T10:11:03.687Z"
   },
   {
    "duration": 0,
    "start_time": "2023-03-03T10:11:03.689Z"
   },
   {
    "duration": 0,
    "start_time": "2023-03-03T10:11:03.690Z"
   },
   {
    "duration": 0,
    "start_time": "2023-03-03T10:11:03.692Z"
   },
   {
    "duration": 0,
    "start_time": "2023-03-03T10:11:03.694Z"
   },
   {
    "duration": 0,
    "start_time": "2023-03-03T10:11:03.695Z"
   },
   {
    "duration": 0,
    "start_time": "2023-03-03T10:11:03.697Z"
   },
   {
    "duration": 0,
    "start_time": "2023-03-03T10:11:03.699Z"
   },
   {
    "duration": 0,
    "start_time": "2023-03-03T10:11:03.701Z"
   },
   {
    "duration": 0,
    "start_time": "2023-03-03T10:11:03.702Z"
   },
   {
    "duration": 0,
    "start_time": "2023-03-03T10:11:03.703Z"
   },
   {
    "duration": 0,
    "start_time": "2023-03-03T10:11:03.704Z"
   },
   {
    "duration": 0,
    "start_time": "2023-03-03T10:11:03.706Z"
   },
   {
    "duration": 0,
    "start_time": "2023-03-03T10:11:03.713Z"
   },
   {
    "duration": 0,
    "start_time": "2023-03-03T10:11:03.715Z"
   },
   {
    "duration": 0,
    "start_time": "2023-03-03T10:11:03.716Z"
   },
   {
    "duration": 4,
    "start_time": "2023-03-03T10:11:26.160Z"
   },
   {
    "duration": 15,
    "start_time": "2023-03-03T10:11:54.003Z"
   },
   {
    "duration": 4,
    "start_time": "2023-03-03T10:12:10.560Z"
   },
   {
    "duration": 370,
    "start_time": "2023-03-03T10:14:43.061Z"
   },
   {
    "duration": 110,
    "start_time": "2023-03-03T10:14:43.433Z"
   },
   {
    "duration": 44,
    "start_time": "2023-03-03T10:14:43.545Z"
   },
   {
    "duration": 36,
    "start_time": "2023-03-03T10:14:43.591Z"
   },
   {
    "duration": 8,
    "start_time": "2023-03-03T10:14:43.632Z"
   },
   {
    "duration": 12,
    "start_time": "2023-03-03T10:14:43.641Z"
   },
   {
    "duration": 21,
    "start_time": "2023-03-03T10:14:43.654Z"
   },
   {
    "duration": 17,
    "start_time": "2023-03-03T10:14:43.677Z"
   },
   {
    "duration": 33,
    "start_time": "2023-03-03T10:14:43.696Z"
   },
   {
    "duration": 10,
    "start_time": "2023-03-03T10:14:43.731Z"
   },
   {
    "duration": 26,
    "start_time": "2023-03-03T10:14:43.743Z"
   },
   {
    "duration": 12,
    "start_time": "2023-03-03T10:14:43.770Z"
   },
   {
    "duration": 15,
    "start_time": "2023-03-03T10:14:43.783Z"
   },
   {
    "duration": 40,
    "start_time": "2023-03-03T10:14:43.801Z"
   },
   {
    "duration": 12,
    "start_time": "2023-03-03T10:14:43.843Z"
   },
   {
    "duration": 13,
    "start_time": "2023-03-03T10:14:43.856Z"
   },
   {
    "duration": 14,
    "start_time": "2023-03-03T10:14:43.870Z"
   },
   {
    "duration": 37,
    "start_time": "2023-03-03T10:14:43.885Z"
   },
   {
    "duration": 25,
    "start_time": "2023-03-03T10:14:43.923Z"
   },
   {
    "duration": 10,
    "start_time": "2023-03-03T10:14:43.950Z"
   },
   {
    "duration": 15,
    "start_time": "2023-03-03T10:14:43.962Z"
   },
   {
    "duration": 17,
    "start_time": "2023-03-03T10:14:43.978Z"
   },
   {
    "duration": 22,
    "start_time": "2023-03-03T10:14:43.996Z"
   },
   {
    "duration": 30,
    "start_time": "2023-03-03T10:14:44.022Z"
   },
   {
    "duration": 9,
    "start_time": "2023-03-03T10:14:44.054Z"
   },
   {
    "duration": 13,
    "start_time": "2023-03-03T10:14:44.064Z"
   },
   {
    "duration": 6,
    "start_time": "2023-03-03T10:14:44.078Z"
   },
   {
    "duration": 11,
    "start_time": "2023-03-03T10:14:44.085Z"
   },
   {
    "duration": 3,
    "start_time": "2023-03-03T10:14:44.098Z"
   },
   {
    "duration": 1368,
    "start_time": "2023-03-03T10:14:44.106Z"
   },
   {
    "duration": 4,
    "start_time": "2023-03-03T10:14:45.476Z"
   },
   {
    "duration": 10,
    "start_time": "2023-03-03T10:14:45.482Z"
   },
   {
    "duration": 20,
    "start_time": "2023-03-03T10:14:45.494Z"
   },
   {
    "duration": 30,
    "start_time": "2023-03-03T10:14:45.518Z"
   },
   {
    "duration": 5,
    "start_time": "2023-03-03T10:14:45.550Z"
   },
   {
    "duration": 20,
    "start_time": "2023-03-03T10:14:45.556Z"
   },
   {
    "duration": 177,
    "start_time": "2023-03-03T10:14:45.578Z"
   },
   {
    "duration": 5,
    "start_time": "2023-03-03T10:14:45.757Z"
   },
   {
    "duration": 170,
    "start_time": "2023-03-03T10:14:45.764Z"
   },
   {
    "duration": 20,
    "start_time": "2023-03-03T10:14:45.936Z"
   },
   {
    "duration": 244,
    "start_time": "2023-03-03T10:14:45.959Z"
   },
   {
    "duration": 152,
    "start_time": "2023-03-03T10:14:46.205Z"
   },
   {
    "duration": 234,
    "start_time": "2023-03-03T10:14:46.359Z"
   },
   {
    "duration": 41,
    "start_time": "2023-03-03T10:14:46.595Z"
   },
   {
    "duration": 29,
    "start_time": "2023-03-03T10:14:46.639Z"
   },
   {
    "duration": 23,
    "start_time": "2023-03-03T10:14:46.670Z"
   },
   {
    "duration": 18,
    "start_time": "2023-03-03T10:14:46.696Z"
   },
   {
    "duration": 29,
    "start_time": "2023-03-03T10:14:46.725Z"
   },
   {
    "duration": 16,
    "start_time": "2023-03-03T10:14:46.756Z"
   },
   {
    "duration": 310,
    "start_time": "2023-03-03T10:14:46.774Z"
   },
   {
    "duration": 271,
    "start_time": "2023-03-03T10:14:47.086Z"
   },
   {
    "duration": 333,
    "start_time": "2023-03-03T10:14:47.359Z"
   },
   {
    "duration": 24,
    "start_time": "2023-03-03T10:14:47.694Z"
   },
   {
    "duration": 25,
    "start_time": "2023-03-03T10:14:47.723Z"
   },
   {
    "duration": 215,
    "start_time": "2023-03-03T10:14:47.750Z"
   },
   {
    "duration": 218,
    "start_time": "2023-03-03T10:14:47.966Z"
   },
   {
    "duration": 231,
    "start_time": "2023-03-03T10:14:48.185Z"
   },
   {
    "duration": 366,
    "start_time": "2023-03-06T09:33:53.393Z"
   },
   {
    "duration": 270,
    "start_time": "2023-03-06T09:33:53.761Z"
   },
   {
    "duration": 90,
    "start_time": "2023-03-06T09:33:54.033Z"
   },
   {
    "duration": 19,
    "start_time": "2023-03-06T09:33:54.125Z"
   },
   {
    "duration": 8,
    "start_time": "2023-03-06T09:33:54.146Z"
   },
   {
    "duration": 10,
    "start_time": "2023-03-06T09:33:54.155Z"
   },
   {
    "duration": 19,
    "start_time": "2023-03-06T09:33:54.166Z"
   },
   {
    "duration": 10,
    "start_time": "2023-03-06T09:33:54.186Z"
   },
   {
    "duration": 15,
    "start_time": "2023-03-06T09:33:54.198Z"
   },
   {
    "duration": 26,
    "start_time": "2023-03-06T09:33:54.215Z"
   },
   {
    "duration": 9,
    "start_time": "2023-03-06T09:33:54.243Z"
   },
   {
    "duration": 4,
    "start_time": "2023-03-06T09:33:54.254Z"
   },
   {
    "duration": 17,
    "start_time": "2023-03-06T09:33:54.259Z"
   },
   {
    "duration": 15,
    "start_time": "2023-03-06T09:33:54.279Z"
   },
   {
    "duration": 20,
    "start_time": "2023-03-06T09:33:54.296Z"
   },
   {
    "duration": 31,
    "start_time": "2023-03-06T09:33:54.317Z"
   },
   {
    "duration": 13,
    "start_time": "2023-03-06T09:33:54.350Z"
   },
   {
    "duration": 22,
    "start_time": "2023-03-06T09:33:54.364Z"
   },
   {
    "duration": 19,
    "start_time": "2023-03-06T09:33:54.404Z"
   },
   {
    "duration": 20,
    "start_time": "2023-03-06T09:33:54.425Z"
   },
   {
    "duration": 10,
    "start_time": "2023-03-06T09:33:54.447Z"
   },
   {
    "duration": 9,
    "start_time": "2023-03-06T09:33:54.459Z"
   },
   {
    "duration": 8,
    "start_time": "2023-03-06T09:33:54.470Z"
   },
   {
    "duration": 18,
    "start_time": "2023-03-06T09:33:54.479Z"
   },
   {
    "duration": 16,
    "start_time": "2023-03-06T09:33:54.499Z"
   },
   {
    "duration": 24,
    "start_time": "2023-03-06T09:33:54.516Z"
   },
   {
    "duration": 5,
    "start_time": "2023-03-06T09:33:54.541Z"
   },
   {
    "duration": 10,
    "start_time": "2023-03-06T09:33:54.547Z"
   },
   {
    "duration": 3,
    "start_time": "2023-03-06T09:33:54.558Z"
   },
   {
    "duration": 1301,
    "start_time": "2023-03-06T09:33:54.562Z"
   },
   {
    "duration": 4,
    "start_time": "2023-03-06T09:33:55.865Z"
   },
   {
    "duration": 15,
    "start_time": "2023-03-06T09:33:55.870Z"
   },
   {
    "duration": 11,
    "start_time": "2023-03-06T09:33:55.887Z"
   },
   {
    "duration": 20,
    "start_time": "2023-03-06T09:33:55.899Z"
   },
   {
    "duration": 4,
    "start_time": "2023-03-06T09:33:55.921Z"
   },
   {
    "duration": 29,
    "start_time": "2023-03-06T09:33:55.927Z"
   },
   {
    "duration": 167,
    "start_time": "2023-03-06T09:33:55.957Z"
   },
   {
    "duration": 4,
    "start_time": "2023-03-06T09:33:56.126Z"
   },
   {
    "duration": 135,
    "start_time": "2023-03-06T09:33:56.132Z"
   },
   {
    "duration": 17,
    "start_time": "2023-03-06T09:33:56.269Z"
   },
   {
    "duration": 227,
    "start_time": "2023-03-06T09:33:56.289Z"
   },
   {
    "duration": 151,
    "start_time": "2023-03-06T09:33:56.518Z"
   },
   {
    "duration": 216,
    "start_time": "2023-03-06T09:33:56.670Z"
   },
   {
    "duration": 20,
    "start_time": "2023-03-06T09:33:56.887Z"
   },
   {
    "duration": 31,
    "start_time": "2023-03-06T09:33:56.910Z"
   },
   {
    "duration": 14,
    "start_time": "2023-03-06T09:33:56.943Z"
   },
   {
    "duration": 10,
    "start_time": "2023-03-06T09:33:56.959Z"
   },
   {
    "duration": 15,
    "start_time": "2023-03-06T09:33:56.970Z"
   },
   {
    "duration": 10,
    "start_time": "2023-03-06T09:33:56.986Z"
   },
   {
    "duration": 245,
    "start_time": "2023-03-06T09:33:56.998Z"
   },
   {
    "duration": 225,
    "start_time": "2023-03-06T09:33:57.244Z"
   },
   {
    "duration": 316,
    "start_time": "2023-03-06T09:33:57.471Z"
   },
   {
    "duration": 7,
    "start_time": "2023-03-06T09:33:57.789Z"
   },
   {
    "duration": 19,
    "start_time": "2023-03-06T09:33:57.797Z"
   },
   {
    "duration": 194,
    "start_time": "2023-03-06T09:33:57.818Z"
   },
   {
    "duration": 231,
    "start_time": "2023-03-06T09:33:58.013Z"
   },
   {
    "duration": 206,
    "start_time": "2023-03-06T09:33:58.246Z"
   },
   {
    "duration": 4,
    "start_time": "2023-03-06T09:34:56.324Z"
   },
   {
    "duration": 7,
    "start_time": "2023-03-06T09:35:06.840Z"
   },
   {
    "duration": 4,
    "start_time": "2023-03-06T09:36:01.143Z"
   },
   {
    "duration": 6,
    "start_time": "2023-03-06T09:36:10.809Z"
   },
   {
    "duration": 6,
    "start_time": "2023-03-06T09:36:29.506Z"
   },
   {
    "duration": 5,
    "start_time": "2023-03-06T09:36:35.002Z"
   },
   {
    "duration": 7,
    "start_time": "2023-03-06T09:37:04.246Z"
   },
   {
    "duration": 8,
    "start_time": "2023-03-06T09:37:05.028Z"
   },
   {
    "duration": 3,
    "start_time": "2023-03-06T09:37:05.905Z"
   },
   {
    "duration": 2,
    "start_time": "2023-03-06T09:38:41.808Z"
   },
   {
    "duration": 95,
    "start_time": "2023-03-06T09:38:41.812Z"
   },
   {
    "duration": 45,
    "start_time": "2023-03-06T09:38:41.908Z"
   },
   {
    "duration": 14,
    "start_time": "2023-03-06T09:38:41.955Z"
   },
   {
    "duration": 8,
    "start_time": "2023-03-06T09:38:41.971Z"
   },
   {
    "duration": 8,
    "start_time": "2023-03-06T09:38:41.980Z"
   },
   {
    "duration": 11,
    "start_time": "2023-03-06T09:38:41.989Z"
   },
   {
    "duration": 7,
    "start_time": "2023-03-06T09:38:42.002Z"
   },
   {
    "duration": 39,
    "start_time": "2023-03-06T09:38:42.010Z"
   },
   {
    "duration": 8,
    "start_time": "2023-03-06T09:38:42.051Z"
   },
   {
    "duration": 10,
    "start_time": "2023-03-06T09:38:42.060Z"
   },
   {
    "duration": 6,
    "start_time": "2023-03-06T09:38:42.072Z"
   },
   {
    "duration": 11,
    "start_time": "2023-03-06T09:38:42.079Z"
   },
   {
    "duration": 47,
    "start_time": "2023-03-06T09:38:42.094Z"
   },
   {
    "duration": 11,
    "start_time": "2023-03-06T09:38:42.142Z"
   },
   {
    "duration": 12,
    "start_time": "2023-03-06T09:38:42.154Z"
   },
   {
    "duration": 15,
    "start_time": "2023-03-06T09:38:42.168Z"
   },
   {
    "duration": 24,
    "start_time": "2023-03-06T09:38:42.184Z"
   },
   {
    "duration": 46,
    "start_time": "2023-03-06T09:38:42.209Z"
   },
   {
    "duration": 5,
    "start_time": "2023-03-06T09:38:42.257Z"
   },
   {
    "duration": 13,
    "start_time": "2023-03-06T09:38:42.264Z"
   },
   {
    "duration": 11,
    "start_time": "2023-03-06T09:38:42.279Z"
   },
   {
    "duration": 10,
    "start_time": "2023-03-06T09:38:42.292Z"
   },
   {
    "duration": 14,
    "start_time": "2023-03-06T09:38:42.304Z"
   },
   {
    "duration": 7,
    "start_time": "2023-03-06T09:38:42.341Z"
   },
   {
    "duration": 5,
    "start_time": "2023-03-06T09:38:42.349Z"
   },
   {
    "duration": 6,
    "start_time": "2023-03-06T09:38:42.355Z"
   },
   {
    "duration": 5,
    "start_time": "2023-03-06T09:38:42.362Z"
   },
   {
    "duration": 101,
    "start_time": "2023-03-06T09:38:42.368Z"
   },
   {
    "duration": 0,
    "start_time": "2023-03-06T09:38:42.472Z"
   },
   {
    "duration": 0,
    "start_time": "2023-03-06T09:38:42.473Z"
   },
   {
    "duration": 0,
    "start_time": "2023-03-06T09:38:42.475Z"
   },
   {
    "duration": 0,
    "start_time": "2023-03-06T09:38:42.476Z"
   },
   {
    "duration": 0,
    "start_time": "2023-03-06T09:38:42.477Z"
   },
   {
    "duration": 0,
    "start_time": "2023-03-06T09:38:42.478Z"
   },
   {
    "duration": 0,
    "start_time": "2023-03-06T09:38:42.480Z"
   },
   {
    "duration": 0,
    "start_time": "2023-03-06T09:38:42.481Z"
   },
   {
    "duration": 0,
    "start_time": "2023-03-06T09:38:42.482Z"
   },
   {
    "duration": 0,
    "start_time": "2023-03-06T09:38:42.483Z"
   },
   {
    "duration": 0,
    "start_time": "2023-03-06T09:38:42.484Z"
   },
   {
    "duration": 0,
    "start_time": "2023-03-06T09:38:42.486Z"
   },
   {
    "duration": 0,
    "start_time": "2023-03-06T09:38:42.487Z"
   },
   {
    "duration": 0,
    "start_time": "2023-03-06T09:38:42.488Z"
   },
   {
    "duration": 0,
    "start_time": "2023-03-06T09:38:42.491Z"
   },
   {
    "duration": 0,
    "start_time": "2023-03-06T09:38:42.492Z"
   },
   {
    "duration": 0,
    "start_time": "2023-03-06T09:38:42.493Z"
   },
   {
    "duration": 0,
    "start_time": "2023-03-06T09:38:42.494Z"
   },
   {
    "duration": 0,
    "start_time": "2023-03-06T09:38:42.496Z"
   },
   {
    "duration": 0,
    "start_time": "2023-03-06T09:38:42.497Z"
   },
   {
    "duration": 0,
    "start_time": "2023-03-06T09:38:42.498Z"
   },
   {
    "duration": 0,
    "start_time": "2023-03-06T09:38:42.500Z"
   },
   {
    "duration": 0,
    "start_time": "2023-03-06T09:38:42.501Z"
   },
   {
    "duration": 0,
    "start_time": "2023-03-06T09:38:42.541Z"
   },
   {
    "duration": 0,
    "start_time": "2023-03-06T09:38:42.542Z"
   },
   {
    "duration": 0,
    "start_time": "2023-03-06T09:38:42.544Z"
   },
   {
    "duration": 0,
    "start_time": "2023-03-06T09:38:42.545Z"
   },
   {
    "duration": 0,
    "start_time": "2023-03-06T09:38:42.546Z"
   },
   {
    "duration": 0,
    "start_time": "2023-03-06T09:38:42.548Z"
   },
   {
    "duration": 0,
    "start_time": "2023-03-06T09:38:42.549Z"
   },
   {
    "duration": 5,
    "start_time": "2023-03-06T09:39:09.431Z"
   },
   {
    "duration": 22,
    "start_time": "2023-03-06T09:39:15.723Z"
   },
   {
    "duration": 7,
    "start_time": "2023-03-06T09:39:55.204Z"
   },
   {
    "duration": 9,
    "start_time": "2023-03-06T09:40:01.319Z"
   },
   {
    "duration": 10,
    "start_time": "2023-03-06T09:40:10.708Z"
   },
   {
    "duration": 424,
    "start_time": "2023-08-21T11:56:15.000Z"
   },
   {
    "duration": 266,
    "start_time": "2023-08-21T11:56:15.653Z"
   },
   {
    "duration": 28,
    "start_time": "2023-08-21T11:56:22.104Z"
   },
   {
    "duration": 7,
    "start_time": "2023-08-21T11:56:45.676Z"
   },
   {
    "duration": 12,
    "start_time": "2023-08-21T11:56:46.100Z"
   },
   {
    "duration": 6,
    "start_time": "2023-08-21T11:56:58.407Z"
   },
   {
    "duration": 5,
    "start_time": "2023-08-21T11:56:58.717Z"
   },
   {
    "duration": 93,
    "start_time": "2023-08-21T11:57:01.957Z"
   },
   {
    "duration": 116,
    "start_time": "2023-08-21T11:57:16.752Z"
   },
   {
    "duration": 13,
    "start_time": "2023-08-21T11:57:19.492Z"
   },
   {
    "duration": 12,
    "start_time": "2023-08-21T11:57:19.666Z"
   },
   {
    "duration": 10,
    "start_time": "2023-08-21T11:57:20.762Z"
   },
   {
    "duration": 16,
    "start_time": "2023-08-21T11:57:41.268Z"
   },
   {
    "duration": 6,
    "start_time": "2023-08-21T11:58:12.537Z"
   },
   {
    "duration": 11,
    "start_time": "2023-08-21T11:58:20.008Z"
   },
   {
    "duration": 6,
    "start_time": "2023-08-21T11:58:33.351Z"
   },
   {
    "duration": 13,
    "start_time": "2023-08-21T11:58:36.130Z"
   },
   {
    "duration": 19,
    "start_time": "2023-08-21T11:58:42.700Z"
   },
   {
    "duration": 11,
    "start_time": "2023-08-21T11:58:49.042Z"
   },
   {
    "duration": 13,
    "start_time": "2023-08-21T11:58:49.906Z"
   },
   {
    "duration": 17,
    "start_time": "2023-08-21T11:58:53.629Z"
   },
   {
    "duration": 64,
    "start_time": "2023-08-21T11:58:58.504Z"
   },
   {
    "duration": 37,
    "start_time": "2023-08-21T11:59:33.482Z"
   },
   {
    "duration": 7,
    "start_time": "2023-08-21T11:59:34.442Z"
   },
   {
    "duration": 24,
    "start_time": "2023-08-21T11:59:36.884Z"
   },
   {
    "duration": 10,
    "start_time": "2023-08-21T11:59:39.652Z"
   },
   {
    "duration": 7,
    "start_time": "2023-08-21T12:00:06.130Z"
   },
   {
    "duration": 8,
    "start_time": "2023-08-21T12:00:07.330Z"
   },
   {
    "duration": 16,
    "start_time": "2023-08-21T12:00:08.499Z"
   },
   {
    "duration": 9,
    "start_time": "2023-08-21T12:00:10.350Z"
   },
   {
    "duration": 9,
    "start_time": "2023-08-21T12:00:19.751Z"
   },
   {
    "duration": 8,
    "start_time": "2023-08-21T12:00:46.730Z"
   },
   {
    "duration": 7,
    "start_time": "2023-08-21T12:00:47.209Z"
   },
   {
    "duration": 6,
    "start_time": "2023-08-21T12:00:49.937Z"
   },
   {
    "duration": 11,
    "start_time": "2023-08-21T12:00:50.654Z"
   },
   {
    "duration": 7,
    "start_time": "2023-08-21T12:00:54.530Z"
   },
   {
    "duration": 3,
    "start_time": "2023-08-21T12:00:55.035Z"
   },
   {
    "duration": 1595,
    "start_time": "2023-08-21T12:00:56.609Z"
   },
   {
    "duration": 5,
    "start_time": "2023-08-21T12:01:35.874Z"
   },
   {
    "duration": 7,
    "start_time": "2023-08-21T12:01:56.239Z"
   },
   {
    "duration": 11,
    "start_time": "2023-08-21T12:01:56.973Z"
   },
   {
    "duration": 13,
    "start_time": "2023-08-21T12:01:58.244Z"
   },
   {
    "duration": 5,
    "start_time": "2023-08-21T12:02:16.203Z"
   },
   {
    "duration": 22,
    "start_time": "2023-08-21T12:02:16.448Z"
   },
   {
    "duration": 181,
    "start_time": "2023-08-21T12:02:44.252Z"
   },
   {
    "duration": 6,
    "start_time": "2023-08-21T12:02:50.682Z"
   },
   {
    "duration": 153,
    "start_time": "2023-08-21T12:03:04.606Z"
   },
   {
    "duration": 19,
    "start_time": "2023-08-21T12:03:21.424Z"
   },
   {
    "duration": 286,
    "start_time": "2023-08-21T12:03:28.065Z"
   },
   {
    "duration": 176,
    "start_time": "2023-08-21T12:04:06.134Z"
   },
   {
    "duration": 265,
    "start_time": "2023-08-21T12:04:11.952Z"
   },
   {
    "duration": 25,
    "start_time": "2023-08-21T12:04:29.003Z"
   },
   {
    "duration": 11,
    "start_time": "2023-08-21T12:04:32.526Z"
   },
   {
    "duration": 14,
    "start_time": "2023-08-21T12:04:48.247Z"
   },
   {
    "duration": 15,
    "start_time": "2023-08-21T12:04:54.405Z"
   },
   {
    "duration": 15,
    "start_time": "2023-08-21T12:05:00.740Z"
   },
   {
    "duration": 12,
    "start_time": "2023-08-21T12:05:07.644Z"
   },
   {
    "duration": 291,
    "start_time": "2023-08-21T12:05:08.446Z"
   },
   {
    "duration": 288,
    "start_time": "2023-08-21T12:05:15.640Z"
   },
   {
    "duration": 280,
    "start_time": "2023-08-21T12:05:20.336Z"
   },
   {
    "duration": 10,
    "start_time": "2023-08-21T12:05:27.220Z"
   },
   {
    "duration": 14,
    "start_time": "2023-08-21T12:05:35.806Z"
   },
   {
    "duration": 351,
    "start_time": "2023-08-21T12:05:37.211Z"
   },
   {
    "duration": 241,
    "start_time": "2023-08-21T12:05:43.200Z"
   },
   {
    "duration": 230,
    "start_time": "2023-08-21T12:05:50.148Z"
   }
  ],
  "colab": {
   "name": "DA+. Сборный проект 1. Шаблон (1).ipynb",
   "provenance": []
  },
  "kernelspec": {
   "display_name": "Python 3 (ipykernel)",
   "language": "python",
   "name": "python3"
  },
  "language_info": {
   "codemirror_mode": {
    "name": "ipython",
    "version": 3
   },
   "file_extension": ".py",
   "mimetype": "text/x-python",
   "name": "python",
   "nbconvert_exporter": "python",
   "pygments_lexer": "ipython3",
   "version": "3.9.5"
  },
  "toc": {
   "base_numbering": 1,
   "nav_menu": {
    "height": "356px",
    "width": "447px"
   },
   "number_sections": true,
   "sideBar": true,
   "skip_h1_title": true,
   "title_cell": "Table of Contents",
   "title_sidebar": "Contents",
   "toc_cell": false,
   "toc_position": {
    "height": "calc(100% - 180px)",
    "left": "10px",
    "top": "150px",
    "width": "298.390625px"
   },
   "toc_section_display": true,
   "toc_window_display": true
  }
 },
 "nbformat": 4,
 "nbformat_minor": 1
}
